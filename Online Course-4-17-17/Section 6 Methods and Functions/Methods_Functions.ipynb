{
 "cells": [
  {
   "cell_type": "markdown",
   "id": "4728fd00",
   "metadata": {},
   "source": [
    "# Methods and Python Documentation"
   ]
  },
  {
   "cell_type": "markdown",
   "id": "f15ce62c",
   "metadata": {},
   "source": [
    "**Methods:** Built-in objects in Python have a variety of them that can be used"
   ]
  },
  {
   "cell_type": "code",
   "execution_count": 3,
   "id": "8f68c908",
   "metadata": {},
   "outputs": [],
   "source": [
    "mylist = [1,2,3]\n",
    "\n",
    "mylist.append(4) # .append is a method"
   ]
  },
  {
   "cell_type": "code",
   "execution_count": 4,
   "id": "57bb9c17",
   "metadata": {},
   "outputs": [
    {
     "data": {
      "text/plain": [
       "[1, 2, 3, 4]"
      ]
     },
     "execution_count": 4,
     "metadata": {},
     "output_type": "execute_result"
    }
   ],
   "source": [
    "mylist"
   ]
  },
  {
   "cell_type": "code",
   "execution_count": 5,
   "id": "1715e3c4",
   "metadata": {},
   "outputs": [
    {
     "data": {
      "text/plain": [
       "4"
      ]
     },
     "execution_count": 5,
     "metadata": {},
     "output_type": "execute_result"
    }
   ],
   "source": [
    "mylist.pop() # .pop is also a method"
   ]
  },
  {
   "cell_type": "code",
   "execution_count": 6,
   "id": "629fe076",
   "metadata": {},
   "outputs": [],
   "source": [
    "#mylist. from here push tab to see all available built in methods for the list type object"
   ]
  },
  {
   "cell_type": "code",
   "execution_count": 8,
   "id": "e0f5884b",
   "metadata": {},
   "outputs": [
    {
     "data": {
      "text/plain": [
       "<function list.insert(index, object, /)>"
      ]
     },
     "execution_count": 8,
     "metadata": {},
     "output_type": "execute_result"
    }
   ],
   "source": [
    "mylist.insert # press shift tab to get help on a method"
   ]
  },
  {
   "cell_type": "code",
   "execution_count": 12,
   "id": "76e78c2e",
   "metadata": {},
   "outputs": [
    {
     "name": "stdout",
     "output_type": "stream",
     "text": [
      "Help on built-in function insert:\n",
      "\n",
      "insert(index, object, /) method of builtins.list instance\n",
      "    Insert object before index.\n",
      "\n"
     ]
    }
   ],
   "source": [
    "help(mylist.insert) # Also gives documentation"
   ]
  },
  {
   "cell_type": "markdown",
   "id": "61154428",
   "metadata": {},
   "source": [
    "# Functions"
   ]
  },
  {
   "cell_type": "markdown",
   "id": "c16c6c94",
   "metadata": {},
   "source": [
    "Allow us to create blocks of code that can be easily reused many times"
   ]
  },
  {
   "cell_type": "markdown",
   "id": "e3bfc796",
   "metadata": {},
   "source": [
    "Defining a function in python"
   ]
  },
  {
   "cell_type": "code",
   "execution_count": 13,
   "id": "ec436ff1",
   "metadata": {},
   "outputs": [],
   "source": [
    "def name_of_function(): # Should use snake caseing for function names\n",
    "    \"\"\"\n",
    "    Docstring explains function\n",
    "    \"\"\"\n",
    "    \n",
    "    print('Hello')\n",
    "    "
   ]
  },
  {
   "cell_type": "code",
   "execution_count": 14,
   "id": "9c07c24e",
   "metadata": {},
   "outputs": [
    {
     "name": "stdout",
     "output_type": "stream",
     "text": [
      "Hello\n"
     ]
    }
   ],
   "source": [
    "name_of_function()"
   ]
  },
  {
   "cell_type": "code",
   "execution_count": 22,
   "id": "e87a1832",
   "metadata": {},
   "outputs": [],
   "source": [
    "def name_of_function2(name): # Functions can accept arguments to be passed by the user\n",
    "    \"\"\"\n",
    "    Docstring explains function\n",
    "    \"\"\"\n",
    "    print(f'Hello {name}')"
   ]
  },
  {
   "cell_type": "code",
   "execution_count": 25,
   "id": "7e1b6510",
   "metadata": {},
   "outputs": [
    {
     "name": "stdout",
     "output_type": "stream",
     "text": [
      "Hello Paul\n"
     ]
    }
   ],
   "source": [
    "name_of_function2(\"Paul\")"
   ]
  },
  {
   "cell_type": "code",
   "execution_count": 27,
   "id": "9d25f467",
   "metadata": {},
   "outputs": [],
   "source": [
    "def name_of_function3(): # My little trial version\n",
    "    \"\"\"\n",
    "    Docstring explains function\n",
    "    \"\"\"\n",
    "    name = input(\"What's your name? \")\n",
    "    print(f'Hello {name}')\n",
    "    return name\n",
    "    "
   ]
  },
  {
   "cell_type": "code",
   "execution_count": 28,
   "id": "0fe0db31",
   "metadata": {},
   "outputs": [
    {
     "name": "stdout",
     "output_type": "stream",
     "text": [
      "What's your name? Paul\n",
      "Hello Paul\n"
     ]
    },
    {
     "data": {
      "text/plain": [
       "'Paul'"
      ]
     },
     "execution_count": 28,
     "metadata": {},
     "output_type": "execute_result"
    }
   ],
   "source": [
    "name_of_function3()"
   ]
  },
  {
   "cell_type": "markdown",
   "id": "b381204c",
   "metadata": {},
   "source": [
    "Typically we use the **return** keyword to send back the result of the function, instead of just printing it out <br />\n",
    "this allows us to assign the output of the function to a new variable"
   ]
  },
  {
   "cell_type": "code",
   "execution_count": 29,
   "id": "c30f3490",
   "metadata": {},
   "outputs": [],
   "source": [
    "def add_function(num1, num2):\n",
    "    return num1 +num2"
   ]
  },
  {
   "cell_type": "code",
   "execution_count": 33,
   "id": "ab76ee28",
   "metadata": {},
   "outputs": [
    {
     "name": "stdout",
     "output_type": "stream",
     "text": [
      "12\n"
     ]
    }
   ],
   "source": [
    "sumation = add_function(5,7)\n",
    "print(sumation)"
   ]
  },
  {
   "cell_type": "code",
   "execution_count": 36,
   "id": "f6abfec7",
   "metadata": {},
   "outputs": [],
   "source": [
    "def say_hello(name = 'Default'): # Can place a default value for a parameter should we wish to avoid errors if no name is given\n",
    "    print(f\"Hello {name}\")"
   ]
  },
  {
   "cell_type": "code",
   "execution_count": 37,
   "id": "04e383c9",
   "metadata": {},
   "outputs": [
    {
     "name": "stdout",
     "output_type": "stream",
     "text": [
      "Hello Default\n"
     ]
    }
   ],
   "source": [
    "say_hello()"
   ]
  },
  {
   "cell_type": "markdown",
   "id": "90ec3a2c",
   "metadata": {},
   "source": [
    "# Functions with Logic"
   ]
  },
  {
   "cell_type": "code",
   "execution_count": 39,
   "id": "1ef755cd",
   "metadata": {},
   "outputs": [],
   "source": [
    "def check_even(num):\n",
    "        if float(num) % 2 == 0:\n",
    "            return True\n",
    "        else:\n",
    "            return False"
   ]
  },
  {
   "cell_type": "code",
   "execution_count": 42,
   "id": "5cabc53d",
   "metadata": {},
   "outputs": [
    {
     "data": {
      "text/plain": [
       "True"
      ]
     },
     "execution_count": 42,
     "metadata": {},
     "output_type": "execute_result"
    }
   ],
   "source": [
    "check_even(8)"
   ]
  },
  {
   "cell_type": "code",
   "execution_count": 41,
   "id": "2e2e69c4",
   "metadata": {},
   "outputs": [
    {
     "data": {
      "text/plain": [
       "False"
      ]
     },
     "execution_count": 41,
     "metadata": {},
     "output_type": "execute_result"
    }
   ],
   "source": [
    "check_even(7)"
   ]
  },
  {
   "cell_type": "code",
   "execution_count": 43,
   "id": "e3692387",
   "metadata": {},
   "outputs": [
    {
     "data": {
      "text/plain": [
       "False"
      ]
     },
     "execution_count": 43,
     "metadata": {},
     "output_type": "execute_result"
    }
   ],
   "source": [
    "check_even('9')"
   ]
  },
  {
   "cell_type": "code",
   "execution_count": null,
   "id": "f5a590bd",
   "metadata": {},
   "outputs": [],
   "source": [
    "check_even('Hello') # Will throw an error"
   ]
  },
  {
   "cell_type": "markdown",
   "id": "18832d42",
   "metadata": {},
   "source": [
    "**Challenge** Return True if ANY number is even inside a list"
   ]
  },
  {
   "cell_type": "code",
   "execution_count": 51,
   "id": "f2dd9bb6",
   "metadata": {},
   "outputs": [],
   "source": [
    "def list_check_even(list1): # My attempt\n",
    "    for num in list1:\n",
    "        if num % 2 == 0:\n",
    "            return True\n",
    "        "
   ]
  },
  {
   "cell_type": "code",
   "execution_count": 55,
   "id": "c2dba2cc",
   "metadata": {},
   "outputs": [
    {
     "data": {
      "text/plain": [
       "True"
      ]
     },
     "execution_count": 55,
     "metadata": {},
     "output_type": "execute_result"
    }
   ],
   "source": [
    "list_check_even([1,1.1,3,5,8])"
   ]
  },
  {
   "cell_type": "code",
   "execution_count": 53,
   "id": "f7c69d78",
   "metadata": {},
   "outputs": [],
   "source": [
    "def list_check_even2(list1): # Instructors attempt\n",
    "    for num in list1:\n",
    "        if num % 2 == 0:\n",
    "            return True\n",
    "        else:\n",
    "            pass"
   ]
  },
  {
   "cell_type": "code",
   "execution_count": 54,
   "id": "db9c9de0",
   "metadata": {},
   "outputs": [
    {
     "data": {
      "text/plain": [
       "True"
      ]
     },
     "execution_count": 54,
     "metadata": {},
     "output_type": "execute_result"
    }
   ],
   "source": [
    "list_check_even2([1,2,3,4,5])"
   ]
  },
  {
   "cell_type": "markdown",
   "id": "029c6c2a",
   "metadata": {},
   "source": [
    "If No even is found then return false"
   ]
  },
  {
   "cell_type": "code",
   "execution_count": 56,
   "id": "3be9587c",
   "metadata": {},
   "outputs": [],
   "source": [
    "def list_check_even3(list1): # Instructors attempt\n",
    "    for num in list1:\n",
    "        if num % 2 == 0:\n",
    "            return True\n",
    "        else:\n",
    "            pass\n",
    "        \n",
    "    return False # If the for loop is gone through and never returned True then it will return False"
   ]
  },
  {
   "cell_type": "code",
   "execution_count": 57,
   "id": "81a50b4d",
   "metadata": {},
   "outputs": [
    {
     "data": {
      "text/plain": [
       "True"
      ]
     },
     "execution_count": 57,
     "metadata": {},
     "output_type": "execute_result"
    }
   ],
   "source": [
    "list_check_even3([1,3,5,7,8])"
   ]
  },
  {
   "cell_type": "code",
   "execution_count": 58,
   "id": "e6ed3025",
   "metadata": {},
   "outputs": [
    {
     "data": {
      "text/plain": [
       "False"
      ]
     },
     "execution_count": 58,
     "metadata": {},
     "output_type": "execute_result"
    }
   ],
   "source": [
    "list_check_even3([1,3,5])"
   ]
  },
  {
   "cell_type": "markdown",
   "id": "35504959",
   "metadata": {},
   "source": [
    "Let's try and return all even numbers from a list"
   ]
  },
  {
   "cell_type": "code",
   "execution_count": 73,
   "id": "5018dea6",
   "metadata": {},
   "outputs": [],
   "source": [
    "def list_check_even4(list1): # My Attempt\n",
    "    new_list = []\n",
    "    even_nums = False\n",
    "    \n",
    "    for num in list1:\n",
    "        if num % 2 == 0:\n",
    "            new_list.append(num)\n",
    "            even_nums = True\n",
    "        else:\n",
    "            pass\n",
    "        \n",
    "    if even_nums == False:\n",
    "        print(\"NO EVEN\")\n",
    "    else:\n",
    "        return new_list"
   ]
  },
  {
   "cell_type": "code",
   "execution_count": 74,
   "id": "ab1eb4b0",
   "metadata": {},
   "outputs": [
    {
     "name": "stdout",
     "output_type": "stream",
     "text": [
      "NO EVEN\n"
     ]
    }
   ],
   "source": [
    "list_check_even4([1,5,5,7,9])"
   ]
  },
  {
   "cell_type": "code",
   "execution_count": 75,
   "id": "9db7e930",
   "metadata": {},
   "outputs": [
    {
     "data": {
      "text/plain": [
       "[4, 12, 14, 20, 24]"
      ]
     },
     "execution_count": 75,
     "metadata": {},
     "output_type": "execute_result"
    }
   ],
   "source": [
    "list_check_even4([1,4,5,7,9,12,14,20,21,24])"
   ]
  },
  {
   "cell_type": "markdown",
   "id": "d00610b4",
   "metadata": {},
   "source": [
    "# Tuple Unpacking with Functions"
   ]
  },
  {
   "cell_type": "code",
   "execution_count": 76,
   "id": "ae843a8b",
   "metadata": {},
   "outputs": [],
   "source": [
    "stock_prices = [(\"APPL\", 200), (\"GOOG\", 400), (\"MSFT\", 355)]"
   ]
  },
  {
   "cell_type": "code",
   "execution_count": 82,
   "id": "441543fe",
   "metadata": {},
   "outputs": [
    {
     "name": "stdout",
     "output_type": "stream",
     "text": [
      "APPL\n",
      "GOOG\n",
      "MSFT\n"
     ]
    }
   ],
   "source": [
    "for item, price in stock_prices:\n",
    "    print(item)"
   ]
  },
  {
   "cell_type": "code",
   "execution_count": 80,
   "id": "79089eee",
   "metadata": {},
   "outputs": [
    {
     "name": "stdout",
     "output_type": "stream",
     "text": [
      "Stock Ticker: APPL, Stock Price: $200\n",
      "Stock Ticker: GOOG, Stock Price: $400\n",
      "Stock Ticker: MSFT, Stock Price: $355\n"
     ]
    }
   ],
   "source": [
    "for a,b in stock_prices:\n",
    "    print(f\"Stock Ticker: {a}, Stock Price: ${b}\")"
   ]
  },
  {
   "cell_type": "code",
   "execution_count": 106,
   "id": "e07b98bd",
   "metadata": {},
   "outputs": [],
   "source": [
    "work_hours = [(\"Kimmy\", 403),('Abby', 100), ('Billy', 400), ('Cassie', 800), ('John', 3333)]"
   ]
  },
  {
   "cell_type": "code",
   "execution_count": 107,
   "id": "cdbc86f6",
   "metadata": {},
   "outputs": [],
   "source": [
    "def employee_of_month(employee_list): # My Attempt\n",
    "    \n",
    "    current_max = 0\n",
    "    employee_month = ''\n",
    "    \n",
    "    for a,b in employee_list:\n",
    "        if b > current_max:\n",
    "            employee_month = a\n",
    "            current_max = b\n",
    "            \n",
    "    return employee_month, current_max\n",
    "        "
   ]
  },
  {
   "cell_type": "code",
   "execution_count": 108,
   "id": "9fb908d3",
   "metadata": {},
   "outputs": [
    {
     "data": {
      "text/plain": [
       "('John', 3333)"
      ]
     },
     "execution_count": 108,
     "metadata": {},
     "output_type": "execute_result"
    }
   ],
   "source": [
    "employee_of_month(work_hours)"
   ]
  },
  {
   "cell_type": "code",
   "execution_count": 109,
   "id": "8e6aa5c0",
   "metadata": {},
   "outputs": [],
   "source": [
    "name, hours = employee_of_month(work_hours)"
   ]
  },
  {
   "cell_type": "code",
   "execution_count": 111,
   "id": "cf6aeaf3",
   "metadata": {},
   "outputs": [
    {
     "name": "stdout",
     "output_type": "stream",
     "text": [
      "The Employee of the month is: John! they worked: 3333 hours\n"
     ]
    }
   ],
   "source": [
    "print(f\"The Employee of the month is: {name}! they worked: {hours} hours\")"
   ]
  },
  {
   "cell_type": "markdown",
   "id": "dda77ba3",
   "metadata": {},
   "source": [
    "# Interactions B/W Functions"
   ]
  },
  {
   "cell_type": "code",
   "execution_count": 112,
   "id": "2de1db12",
   "metadata": {},
   "outputs": [],
   "source": [
    "example  = [1,2,3,4,5,6,7,8]"
   ]
  },
  {
   "cell_type": "code",
   "execution_count": 113,
   "id": "0e2e722a",
   "metadata": {},
   "outputs": [],
   "source": [
    "from random import shuffle"
   ]
  },
  {
   "cell_type": "code",
   "execution_count": 116,
   "id": "6a93d2dd",
   "metadata": {},
   "outputs": [],
   "source": [
    "shuffle(example)"
   ]
  },
  {
   "cell_type": "code",
   "execution_count": 117,
   "id": "628ac806",
   "metadata": {},
   "outputs": [
    {
     "data": {
      "text/plain": [
       "[8, 2, 1, 4, 5, 3, 7, 6]"
      ]
     },
     "execution_count": 117,
     "metadata": {},
     "output_type": "execute_result"
    }
   ],
   "source": [
    "example"
   ]
  },
  {
   "cell_type": "markdown",
   "id": "3164a157",
   "metadata": {},
   "source": [
    "### Three Card Monte Game"
   ]
  },
  {
   "cell_type": "code",
   "execution_count": 120,
   "id": "cb62ca2e",
   "metadata": {},
   "outputs": [],
   "source": [
    "def shuffle_list(my_list):\n",
    "    shuffle(my_list)\n",
    "    return my_list"
   ]
  },
  {
   "cell_type": "code",
   "execution_count": 121,
   "id": "ab92965a",
   "metadata": {},
   "outputs": [
    {
     "data": {
      "text/plain": [
       "[8, 7, 5, 1, 4, 3, 6, 2]"
      ]
     },
     "execution_count": 121,
     "metadata": {},
     "output_type": "execute_result"
    }
   ],
   "source": [
    "shuffle_list(example)"
   ]
  },
  {
   "cell_type": "code",
   "execution_count": 158,
   "id": "5e5d7c91",
   "metadata": {},
   "outputs": [],
   "source": [
    "def get_user_choice(): # My Attempt\n",
    "    good_pick = False\n",
    "    \n",
    "    while good_pick == False:\n",
    "        pick = input(\"Pick Cup 1, 2, or 3: \")\n",
    "        if pick == '1' or pick == '2' or pick == '3':\n",
    "            good_pick = True\n",
    "            return int(pick)\n",
    "        else:\n",
    "            print(\"You have to pick 1, 2, or 3!!\")\n",
    "            print('\\n')"
   ]
  },
  {
   "cell_type": "code",
   "execution_count": 160,
   "id": "a0ed1c7e",
   "metadata": {},
   "outputs": [
    {
     "name": "stdout",
     "output_type": "stream",
     "text": [
      "Pick Cup 1, 2, or 3: f\n",
      "You have to pick 1, 2, or 3!!\n",
      "\n",
      "\n",
      "Pick Cup 1, 2, or 3: dwsgaf\n",
      "You have to pick 1, 2, or 3!!\n",
      "\n",
      "\n",
      "Pick Cup 1, 2, or 3: 44\n",
      "You have to pick 1, 2, or 3!!\n",
      "\n",
      "\n",
      "Pick Cup 1, 2, or 3: 4\n",
      "You have to pick 1, 2, or 3!!\n",
      "\n",
      "\n",
      "Pick Cup 1, 2, or 3: 2\n"
     ]
    },
    {
     "data": {
      "text/plain": [
       "2"
      ]
     },
     "execution_count": 160,
     "metadata": {},
     "output_type": "execute_result"
    }
   ],
   "source": [
    "get_user_choice()"
   ]
  },
  {
   "cell_type": "code",
   "execution_count": 193,
   "id": "d7f03de7",
   "metadata": {},
   "outputs": [],
   "source": [
    "def check_guess(actual_place, user_pick): # My Attempt\n",
    "        if actual_place.index(\"O\") == user_pick -1:\n",
    "            print(\"Winner!\")\n",
    "            print(actual_place)\n",
    "        else:\n",
    "            print(\"Loser!\")\n",
    "            print(actual_place)\n",
    "    "
   ]
  },
  {
   "cell_type": "code",
   "execution_count": 198,
   "id": "6502cb18",
   "metadata": {},
   "outputs": [],
   "source": [
    "def three_card_monte(): # My Attempt\n",
    "    \n",
    "    ball_cup = [\"\", \"O\", \"\"]\n",
    "    shuffle(ball_cup)\n",
    "    \n",
    "    print(\"Let's play Three Card Monte!\")\n",
    "    print(f\"Here's the current place of the ball! {ball_cup} \\n\")\n",
    "    shuffle_list(ball_cup)\n",
    "    user_pick = get_user_choice()\n",
    "    print(\"\\n\")\n",
    "    \n",
    "    check_guess(ball_cup, user_pick)"
   ]
  },
  {
   "cell_type": "code",
   "execution_count": 199,
   "id": "09639809",
   "metadata": {},
   "outputs": [
    {
     "name": "stdout",
     "output_type": "stream",
     "text": [
      "Let's play Three Card Monte!\n",
      "Here's the current place of the ball! ['', 'O', ''] \n",
      "\n",
      "Pick Cup 1, 2, or 3: 2\n",
      "\n",
      "\n",
      "Loser!\n",
      "['', '', 'O']\n"
     ]
    }
   ],
   "source": [
    "three_card_monte()"
   ]
  },
  {
   "cell_type": "markdown",
   "id": "26e6708b",
   "metadata": {},
   "source": [
    "## **Args** and **kwargs**"
   ]
  },
  {
   "cell_type": "code",
   "execution_count": 5,
   "id": "de0dc395",
   "metadata": {},
   "outputs": [],
   "source": [
    "def myfunc(a,b):\n",
    "    # Returns 5% of the sum of a and b\n",
    "    \n",
    "    return sum((a,b)) * 0.05"
   ]
  },
  {
   "cell_type": "code",
   "execution_count": 6,
   "id": "1a5bd41a",
   "metadata": {},
   "outputs": [
    {
     "data": {
      "text/plain": [
       "5.0"
      ]
     },
     "execution_count": 6,
     "metadata": {},
     "output_type": "execute_result"
    }
   ],
   "source": [
    "myfunc(40,60)"
   ]
  },
  {
   "cell_type": "code",
   "execution_count": 13,
   "id": "aa169f95",
   "metadata": {},
   "outputs": [],
   "source": [
    "def myfunc2(*args): # *args lets us use as many inputs as we'd like without explicitley naming them, *It'll be a TUPLE\n",
    "    return sum(args) * .05\n",
    "    "
   ]
  },
  {
   "cell_type": "code",
   "execution_count": 14,
   "id": "44475219",
   "metadata": {},
   "outputs": [
    {
     "data": {
      "text/plain": [
       "5.0"
      ]
     },
     "execution_count": 14,
     "metadata": {},
     "output_type": "execute_result"
    }
   ],
   "source": [
    "myfunc2(40,60)"
   ]
  },
  {
   "cell_type": "code",
   "execution_count": 15,
   "id": "f8d2a004",
   "metadata": {},
   "outputs": [
    {
     "data": {
      "text/plain": [
       "66.65"
      ]
     },
     "execution_count": 15,
     "metadata": {},
     "output_type": "execute_result"
    }
   ],
   "source": [
    "myfunc2(100,200,300,300,400,22,11)"
   ]
  },
  {
   "cell_type": "code",
   "execution_count": 19,
   "id": "ba0414d4",
   "metadata": {},
   "outputs": [],
   "source": [
    "def myfunc3(**kwargs): # Makes a dictionary\n",
    "    print(kwargs)\n",
    "    if 'fruit' in kwargs:\n",
    "        print(f\"My Fruit of Choice is: {kwargs['fruit']}\")\n",
    "    else:\n",
    "        print(\"No fruit found\")"
   ]
  },
  {
   "cell_type": "code",
   "execution_count": 20,
   "id": "727a774e",
   "metadata": {},
   "outputs": [
    {
     "name": "stdout",
     "output_type": "stream",
     "text": [
      "{'fruit': 'Apple', 'veggie': 'Lettuce'}\n",
      "My Fruit of Choice is: Apple\n"
     ]
    }
   ],
   "source": [
    "myfunc3(fruit = \"Apple\", veggie = \"Lettuce\")"
   ]
  },
  {
   "cell_type": "code",
   "execution_count": 28,
   "id": "091728ae",
   "metadata": {},
   "outputs": [],
   "source": [
    "def myfunc4(*args, **kwargs):\n",
    "    \n",
    "    print(f\"I Would like {args[0]} {kwargs['food']}\")"
   ]
  },
  {
   "cell_type": "code",
   "execution_count": 30,
   "id": "504779eb",
   "metadata": {},
   "outputs": [
    {
     "name": "stdout",
     "output_type": "stream",
     "text": [
      "I Would like 2 Sushi\n"
     ]
    }
   ],
   "source": [
    "myfunc4(2,5,6, fruit = \"orange\", food = 'Sushi')"
   ]
  },
  {
   "cell_type": "code",
   "execution_count": 32,
   "id": "963b478b",
   "metadata": {},
   "outputs": [
    {
     "ename": "SyntaxError",
     "evalue": "positional argument follows keyword argument (3437687128.py, line 1)",
     "output_type": "error",
     "traceback": [
      "\u001b[1;36m  File \u001b[1;32m\"C:\\Users\\ac01658\\AppData\\Local\\Temp\\ipykernel_596\\3437687128.py\"\u001b[1;36m, line \u001b[1;32m1\u001b[0m\n\u001b[1;33m    myfunc4(fruit = \"orange\", food = 'Sushi', 2,5,6) # Must have arg then kwargs since that's how we created the function\u001b[0m\n\u001b[1;37m                                                   ^\u001b[0m\n\u001b[1;31mSyntaxError\u001b[0m\u001b[1;31m:\u001b[0m positional argument follows keyword argument\n"
     ]
    }
   ],
   "source": [
    "myfunc4(fruit = \"orange\", food = 'Sushi', 2,5,6) # Must have arg then kwargs since that's how we created the function"
   ]
  },
  {
   "cell_type": "code",
   "execution_count": 3,
   "id": "75c8526e",
   "metadata": {},
   "outputs": [],
   "source": [
    "def myfunc(*args):\n",
    "    \n",
    "    return sum(args)"
   ]
  },
  {
   "cell_type": "code",
   "execution_count": 4,
   "id": "d548850a",
   "metadata": {},
   "outputs": [
    {
     "data": {
      "text/plain": [
       "5"
      ]
     },
     "execution_count": 4,
     "metadata": {},
     "output_type": "execute_result"
    }
   ],
   "source": [
    "myfunc(2,3)"
   ]
  },
  {
   "cell_type": "code",
   "execution_count": 9,
   "id": "8bde8f16",
   "metadata": {},
   "outputs": [],
   "source": [
    "def myfunc(*args):\n",
    "    list1 = []\n",
    "    \n",
    "    for item in args:\n",
    "        if item % 2 == 0:\n",
    "            list1.append(item)\n",
    "        \n",
    "    return list1"
   ]
  },
  {
   "cell_type": "code",
   "execution_count": 10,
   "id": "ae756c09",
   "metadata": {},
   "outputs": [
    {
     "data": {
      "text/plain": [
       "[2]"
      ]
     },
     "execution_count": 10,
     "metadata": {},
     "output_type": "execute_result"
    }
   ],
   "source": [
    "myfunc(2,3)"
   ]
  },
  {
   "cell_type": "code",
   "execution_count": 28,
   "id": "41503c17",
   "metadata": {},
   "outputs": [],
   "source": [
    "def myfunc(string1):\n",
    "    \n",
    "    new_string = ''\n",
    "    counter = 1\n",
    "    \n",
    "    for letter in string1:\n",
    "        if counter % 2 == 0:\n",
    "            new_string += letter.upper()\n",
    "        else:\n",
    "            new_string += letter.lower()\n",
    "        counter += 1\n",
    "            \n",
    "    return new_string\n",
    "            "
   ]
  },
  {
   "cell_type": "code",
   "execution_count": 29,
   "id": "90d6eaaf",
   "metadata": {},
   "outputs": [
    {
     "data": {
      "text/plain": [
       "'aNtHrOpOmOrPhIsM'"
      ]
     },
     "execution_count": 29,
     "metadata": {},
     "output_type": "execute_result"
    }
   ],
   "source": [
    "myfunc(\"Anthropomorphism\")"
   ]
  },
  {
   "cell_type": "code",
   "execution_count": null,
   "id": "1f9cce8a",
   "metadata": {},
   "outputs": [],
   "source": []
  }
 ],
 "metadata": {
  "kernelspec": {
   "display_name": "Python 3 (ipykernel)",
   "language": "python",
   "name": "python3"
  },
  "language_info": {
   "codemirror_mode": {
    "name": "ipython",
    "version": 3
   },
   "file_extension": ".py",
   "mimetype": "text/x-python",
   "name": "python",
   "nbconvert_exporter": "python",
   "pygments_lexer": "ipython3",
   "version": "3.9.13"
  }
 },
 "nbformat": 4,
 "nbformat_minor": 5
}
