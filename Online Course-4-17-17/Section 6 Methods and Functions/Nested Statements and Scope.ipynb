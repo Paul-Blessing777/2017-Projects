{
 "cells": [
  {
   "cell_type": "markdown",
   "id": "bed0a523",
   "metadata": {},
   "source": [
    "LEGB Rule:\n",
    "\n",
    "L: Local — Names assigned in any way within a function (def or lambda), and not declared global in that function.\n",
    "\n",
    "E: Enclosing function locals — Names in the local scope of any and all enclosing functions (def or lambda), from inner to outer.\n",
    "\n",
    "G: Global (module) — Names assigned at the top-level of a module file, or declared global in a def within the file.\n",
    "\n",
    "B: Built-in (Python) — Names preassigned in the built-in names module : open, range, SyntaxError,..."
   ]
  },
  {
   "cell_type": "markdown",
   "id": "8c4de8db",
   "metadata": {},
   "source": [
    "### Local"
   ]
  },
  {
   "cell_type": "code",
   "execution_count": 2,
   "id": "e668b0de",
   "metadata": {},
   "outputs": [
    {
     "data": {
      "text/plain": [
       "<function __main__.<lambda>(num)>"
      ]
     },
     "execution_count": 2,
     "metadata": {},
     "output_type": "execute_result"
    }
   ],
   "source": [
    "lambda num: num**2 # Num is local to this lambda function"
   ]
  },
  {
   "cell_type": "markdown",
   "id": "66a669d0",
   "metadata": {},
   "source": [
    "### Enclosing"
   ]
  },
  {
   "cell_type": "code",
   "execution_count": 7,
   "id": "6f967c69",
   "metadata": {},
   "outputs": [],
   "source": [
    "name = \"THIS IS A GLOBAL STRING\" # If we commented out name = Aurora it would go to this global level\n",
    "\n",
    "def greet():\n",
    "    \n",
    "    name = \"Aurora\" # Name defined here in the ENCLOSING function so it uses this\n",
    "    \n",
    "    def hello():\n",
    "        print(f\"Hello Baby {name}\") # Name is called here but where is it defined?\n",
    "        \n",
    "    hello()"
   ]
  },
  {
   "cell_type": "code",
   "execution_count": 8,
   "id": "8a17327e",
   "metadata": {},
   "outputs": [
    {
     "name": "stdout",
     "output_type": "stream",
     "text": [
      "Hello Baby Aurora\n"
     ]
    }
   ],
   "source": [
    "greet()"
   ]
  },
  {
   "cell_type": "markdown",
   "id": "2640e321",
   "metadata": {},
   "source": [
    "### Global"
   ]
  },
  {
   "cell_type": "code",
   "execution_count": 9,
   "id": "34edbd25",
   "metadata": {},
   "outputs": [],
   "source": [
    "# Global\n",
    "name = \"THIS IS A GLOBAL STRING\" \n",
    "\n",
    "def greet():\n",
    "    \n",
    "    # Enclosing\n",
    "    name = \"Aurora\" # Name defined here in the ENCLOSING function so it uses this\n",
    "    \n",
    "    def hello():\n",
    "        # Local\n",
    "        name = 'Paul'\n",
    "        print(f\"Hello {name}\") # Name is called here but where is it defined?\n",
    "        \n",
    "    hello()"
   ]
  },
  {
   "cell_type": "code",
   "execution_count": 10,
   "id": "a0ba92e7",
   "metadata": {},
   "outputs": [
    {
     "name": "stdout",
     "output_type": "stream",
     "text": [
      "Hello Paul\n"
     ]
    }
   ],
   "source": [
    "greet()"
   ]
  },
  {
   "cell_type": "markdown",
   "id": "f23b783b",
   "metadata": {},
   "source": [
    "### Examples"
   ]
  },
  {
   "cell_type": "code",
   "execution_count": 11,
   "id": "e3fc9e95",
   "metadata": {},
   "outputs": [],
   "source": [
    "x = 50\n",
    "\n",
    "def func(x):\n",
    "    print(f\"X is {x}\")\n",
    "    \n",
    "    # LOCAL REASSIANGMENT\n",
    "    x = 200\n",
    "    print(f\"I Just reassigned x to {x}\")"
   ]
  },
  {
   "cell_type": "code",
   "execution_count": 12,
   "id": "7faeda35",
   "metadata": {},
   "outputs": [
    {
     "name": "stdout",
     "output_type": "stream",
     "text": [
      "X is 50\n",
      "I Just reassigned x to 200\n"
     ]
    }
   ],
   "source": [
    "func(x)"
   ]
  },
  {
   "cell_type": "code",
   "execution_count": 13,
   "id": "f8a70b15",
   "metadata": {},
   "outputs": [
    {
     "name": "stdout",
     "output_type": "stream",
     "text": [
      "50\n"
     ]
    }
   ],
   "source": [
    "print(x) # WHat will we get here?"
   ]
  },
  {
   "cell_type": "markdown",
   "id": "6ba693c8",
   "metadata": {},
   "source": [
    "X is 50 because the local assignment only happens when that particular function is called and we didn't call it"
   ]
  },
  {
   "cell_type": "markdown",
   "id": "04c02247",
   "metadata": {},
   "source": [
    "### Global Assignment"
   ]
  },
  {
   "cell_type": "code",
   "execution_count": 24,
   "id": "d6d7b1f0",
   "metadata": {},
   "outputs": [],
   "source": [
    "x = 50\n",
    "\n",
    "def func():\n",
    "    \n",
    "    global x # Tells python make the global variable x be treated as global within this function\n",
    "    print(f\"X is {x}\")\n",
    "    \n",
    "    # LOCAL REASSIANGMENT ON A GLOBAL VARIABLE\n",
    "    x = \"NEW GLOBAL VALUE\"\n",
    "    print(f\"I Just reassigned x GLOBALLY to {x}\")"
   ]
  },
  {
   "cell_type": "code",
   "execution_count": 25,
   "id": "0b99b989",
   "metadata": {},
   "outputs": [
    {
     "name": "stdout",
     "output_type": "stream",
     "text": [
      "X is 50\n",
      "I Just reassigned x GLOBALLY to NEW GLOBAL VALUE\n"
     ]
    }
   ],
   "source": [
    "func()"
   ]
  },
  {
   "cell_type": "code",
   "execution_count": 26,
   "id": "68ba8ce0",
   "metadata": {},
   "outputs": [
    {
     "name": "stdout",
     "output_type": "stream",
     "text": [
      "NEW GLOBAL VALUE\n"
     ]
    }
   ],
   "source": [
    "print(x) # Now that we made x global in the function it was changed at the global level"
   ]
  },
  {
   "cell_type": "code",
   "execution_count": null,
   "id": "c175aef0",
   "metadata": {},
   "outputs": [],
   "source": []
  }
 ],
 "metadata": {
  "kernelspec": {
   "display_name": "Python 3 (ipykernel)",
   "language": "python",
   "name": "python3"
  },
  "language_info": {
   "codemirror_mode": {
    "name": "ipython",
    "version": 3
   },
   "file_extension": ".py",
   "mimetype": "text/x-python",
   "name": "python",
   "nbconvert_exporter": "python",
   "pygments_lexer": "ipython3",
   "version": "3.9.13"
  }
 },
 "nbformat": 4,
 "nbformat_minor": 5
}
