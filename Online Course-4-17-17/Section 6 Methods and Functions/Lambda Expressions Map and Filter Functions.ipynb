{
 "cells": [
  {
   "cell_type": "markdown",
   "id": "d7fd8b5f",
   "metadata": {},
   "source": [
    "# Map Function"
   ]
  },
  {
   "cell_type": "code",
   "execution_count": 1,
   "id": "5f1334e9",
   "metadata": {},
   "outputs": [],
   "source": [
    "def square(num):\n",
    "    \n",
    "    return num **2"
   ]
  },
  {
   "cell_type": "code",
   "execution_count": 2,
   "id": "0a215306",
   "metadata": {},
   "outputs": [],
   "source": [
    "my_nums = [1,2,3,4,5]"
   ]
  },
  {
   "cell_type": "code",
   "execution_count": 3,
   "id": "827fddde",
   "metadata": {},
   "outputs": [
    {
     "data": {
      "text/plain": [
       "<map at 0x28bcf1ccf40>"
      ]
     },
     "execution_count": 3,
     "metadata": {},
     "output_type": "execute_result"
    }
   ],
   "source": [
    "map(square, my_nums)"
   ]
  },
  {
   "cell_type": "code",
   "execution_count": 7,
   "id": "6db4d807",
   "metadata": {},
   "outputs": [
    {
     "name": "stdout",
     "output_type": "stream",
     "text": [
      "1\n",
      "4\n",
      "9\n",
      "16\n",
      "25\n"
     ]
    }
   ],
   "source": [
    "for item in map(square, my_nums): # Map is applying the square function to every item in this list\n",
    "    print(item)"
   ]
  },
  {
   "cell_type": "code",
   "execution_count": 10,
   "id": "abdb0151",
   "metadata": {},
   "outputs": [
    {
     "data": {
      "text/plain": [
       "[1, 4, 9, 16, 25]"
      ]
     },
     "execution_count": 10,
     "metadata": {},
     "output_type": "execute_result"
    }
   ],
   "source": [
    "list(map(square,my_nums)) # make the mapping of the square function into a list"
   ]
  },
  {
   "cell_type": "code",
   "execution_count": 11,
   "id": "2ae6054a",
   "metadata": {},
   "outputs": [],
   "source": [
    "new_list = list(map(square,my_nums))"
   ]
  },
  {
   "cell_type": "code",
   "execution_count": 12,
   "id": "f4ee1930",
   "metadata": {},
   "outputs": [
    {
     "data": {
      "text/plain": [
       "[1, 4, 9, 16, 25]"
      ]
     },
     "execution_count": 12,
     "metadata": {},
     "output_type": "execute_result"
    }
   ],
   "source": [
    "new_list"
   ]
  },
  {
   "cell_type": "code",
   "execution_count": 16,
   "id": "b1d4411f",
   "metadata": {},
   "outputs": [],
   "source": [
    "def splicer(my_string):\n",
    "    if len(my_string) % 2 == 0:\n",
    "        return \"EVEN\"\n",
    "    else:\n",
    "        return my_string[0]"
   ]
  },
  {
   "cell_type": "code",
   "execution_count": 17,
   "id": "0d71059e",
   "metadata": {},
   "outputs": [],
   "source": [
    "names = ['Aurora', \"Jake\", \"Paul\", \"Nanny\", \"Dad\"]"
   ]
  },
  {
   "cell_type": "code",
   "execution_count": 18,
   "id": "ad4ed518",
   "metadata": {},
   "outputs": [
    {
     "data": {
      "text/plain": [
       "['EVEN', 'EVEN', 'EVEN', 'N', 'D']"
      ]
     },
     "execution_count": 18,
     "metadata": {},
     "output_type": "execute_result"
    }
   ],
   "source": [
    "list(map(splicer,names))"
   ]
  },
  {
   "cell_type": "markdown",
   "id": "aabaef22",
   "metadata": {},
   "source": [
    "# Filter Function"
   ]
  },
  {
   "cell_type": "code",
   "execution_count": 19,
   "id": "d13e0a91",
   "metadata": {},
   "outputs": [],
   "source": [
    "def check_even(num):\n",
    "    \n",
    "    if num % 2 == 0:\n",
    "        return True\n",
    "    else:\n",
    "        return False"
   ]
  },
  {
   "cell_type": "code",
   "execution_count": 20,
   "id": "15d56e3a",
   "metadata": {},
   "outputs": [],
   "source": [
    "my_nums = [1,2,3,4,5,6]"
   ]
  },
  {
   "cell_type": "code",
   "execution_count": 22,
   "id": "c846fb64",
   "metadata": {},
   "outputs": [
    {
     "data": {
      "text/plain": [
       "[2, 4, 6]"
      ]
     },
     "execution_count": 22,
     "metadata": {},
     "output_type": "execute_result"
    }
   ],
   "source": [
    "list(filter(check_even, my_nums)) # Gives the elements of the iterable that pass the filter"
   ]
  },
  {
   "cell_type": "code",
   "execution_count": 24,
   "id": "36388868",
   "metadata": {},
   "outputs": [
    {
     "data": {
      "text/plain": [
       "[False, True, False, True, False, True]"
      ]
     },
     "execution_count": 24,
     "metadata": {},
     "output_type": "execute_result"
    }
   ],
   "source": [
    "list(map(check_even, my_nums)) # Notice map just gives you what's returned by the function though"
   ]
  },
  {
   "cell_type": "code",
   "execution_count": 26,
   "id": "b8a05d10",
   "metadata": {},
   "outputs": [
    {
     "name": "stdout",
     "output_type": "stream",
     "text": [
      "2\n",
      "4\n",
      "6\n"
     ]
    }
   ],
   "source": [
    "# Can also iterate through the results\n",
    "\n",
    "for n in filter(check_even,my_nums):\n",
    "    print(n)"
   ]
  },
  {
   "cell_type": "markdown",
   "id": "40cbe3df",
   "metadata": {},
   "source": [
    "# Lambda's"
   ]
  },
  {
   "cell_type": "markdown",
   "id": "4f5f9e44",
   "metadata": {},
   "source": [
    "We will highlight Lambda's by converting a function into a Lambda function"
   ]
  },
  {
   "cell_type": "code",
   "execution_count": 29,
   "id": "bf2609a0",
   "metadata": {},
   "outputs": [],
   "source": [
    "def square_root(num):\n",
    "    result = num **.5\n",
    "    return result"
   ]
  },
  {
   "cell_type": "code",
   "execution_count": 30,
   "id": "e46fd578",
   "metadata": {},
   "outputs": [
    {
     "data": {
      "text/plain": [
       "5.0"
      ]
     },
     "execution_count": 30,
     "metadata": {},
     "output_type": "execute_result"
    }
   ],
   "source": [
    "square_root(25)"
   ]
  },
  {
   "cell_type": "code",
   "execution_count": 31,
   "id": "c03d0238",
   "metadata": {},
   "outputs": [],
   "source": [
    "# Step 1: Get rid of variable\n",
    "def square_root(num):\n",
    "    \n",
    "    return num **.5"
   ]
  },
  {
   "cell_type": "code",
   "execution_count": 32,
   "id": "6e5b2707",
   "metadata": {},
   "outputs": [],
   "source": [
    "# Step 2 make it one line\n",
    "def square_root(num): return num **.5"
   ]
  },
  {
   "cell_type": "code",
   "execution_count": 34,
   "id": "9a146719",
   "metadata": {},
   "outputs": [],
   "source": [
    "lambda num: num **.5 # This is the syntax for a lambda"
   ]
  },
  {
   "cell_type": "code",
   "execution_count": 40,
   "id": "52a6aefb",
   "metadata": {},
   "outputs": [],
   "source": [
    "# We Can then assign this function to a variable(?)\n",
    "square = lambda num: num **.5 \n",
    "# This isn't usually done though apparently"
   ]
  },
  {
   "cell_type": "code",
   "execution_count": 41,
   "id": "ca819113",
   "metadata": {},
   "outputs": [
    {
     "data": {
      "text/plain": [
       "7.0"
      ]
     },
     "execution_count": 41,
     "metadata": {},
     "output_type": "execute_result"
    }
   ],
   "source": [
    "square(49) # and run it like a function"
   ]
  },
  {
   "cell_type": "markdown",
   "id": "4aa952fb",
   "metadata": {},
   "source": [
    "### Instead Lambda's are usually used in conjunction with map & filter"
   ]
  },
  {
   "cell_type": "code",
   "execution_count": 43,
   "id": "4fbe6886",
   "metadata": {},
   "outputs": [],
   "source": [
    "my_nums = [25,49,64,81]"
   ]
  },
  {
   "cell_type": "code",
   "execution_count": 50,
   "id": "2f7f8f2f",
   "metadata": {},
   "outputs": [
    {
     "data": {
      "text/plain": [
       "[5.0, 7.0, 8.0, 9.0]"
      ]
     },
     "execution_count": 50,
     "metadata": {},
     "output_type": "execute_result"
    }
   ],
   "source": [
    "list(map(square, my_nums)) # Instead of doing this..."
   ]
  },
  {
   "cell_type": "code",
   "execution_count": 49,
   "id": "f3cfa96b",
   "metadata": {},
   "outputs": [
    {
     "data": {
      "text/plain": [
       "[5.0, 7.0, 8.0, 9.0]"
      ]
     },
     "execution_count": 49,
     "metadata": {},
     "output_type": "execute_result"
    }
   ],
   "source": [
    "#Could simply use a Lambda\n",
    "list(map(lambda nums: nums**.5, my_nums))"
   ]
  },
  {
   "cell_type": "code",
   "execution_count": 55,
   "id": "5b7fb037",
   "metadata": {},
   "outputs": [
    {
     "data": {
      "text/plain": [
       "[64]"
      ]
     },
     "execution_count": 55,
     "metadata": {},
     "output_type": "execute_result"
    }
   ],
   "source": [
    "list(filter(lambda num: num % 2 ==0, my_nums)) # Another example"
   ]
  },
  {
   "cell_type": "markdown",
   "id": "13574c88",
   "metadata": {},
   "source": [
    "More Examples"
   ]
  },
  {
   "cell_type": "code",
   "execution_count": 56,
   "id": "59363076",
   "metadata": {},
   "outputs": [
    {
     "data": {
      "text/plain": [
       "['Aurora', 'Jake', 'Paul', 'Nanny', 'Dad']"
      ]
     },
     "execution_count": 56,
     "metadata": {},
     "output_type": "execute_result"
    }
   ],
   "source": [
    "names"
   ]
  },
  {
   "cell_type": "code",
   "execution_count": 57,
   "id": "6245ba55",
   "metadata": {},
   "outputs": [
    {
     "data": {
      "text/plain": [
       "['A', 'J', 'P', 'N', 'D']"
      ]
     },
     "execution_count": 57,
     "metadata": {},
     "output_type": "execute_result"
    }
   ],
   "source": [
    "list(map(lambda string: string[0], names))"
   ]
  },
  {
   "cell_type": "code",
   "execution_count": 58,
   "id": "f2743173",
   "metadata": {},
   "outputs": [
    {
     "data": {
      "text/plain": [
       "['aroruA', 'ekaJ', 'luaP', 'ynnaN', 'daD']"
      ]
     },
     "execution_count": 58,
     "metadata": {},
     "output_type": "execute_result"
    }
   ],
   "source": [
    "list(map(lambda string: string[::-1], names))"
   ]
  },
  {
   "cell_type": "code",
   "execution_count": null,
   "id": "b5cea142",
   "metadata": {},
   "outputs": [],
   "source": []
  }
 ],
 "metadata": {
  "kernelspec": {
   "display_name": "Python 3 (ipykernel)",
   "language": "python",
   "name": "python3"
  },
  "language_info": {
   "codemirror_mode": {
    "name": "ipython",
    "version": 3
   },
   "file_extension": ".py",
   "mimetype": "text/x-python",
   "name": "python",
   "nbconvert_exporter": "python",
   "pygments_lexer": "ipython3",
   "version": "3.9.13"
  }
 },
 "nbformat": 4,
 "nbformat_minor": 5
}
