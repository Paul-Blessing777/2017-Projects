{
 "cells": [
  {
   "cell_type": "markdown",
   "id": "fbebfa4a",
   "metadata": {},
   "source": [
    "# Python Statements"
   ]
  },
  {
   "cell_type": "markdown",
   "id": "26c40ef7",
   "metadata": {},
   "source": [
    "if, elif, else statements"
   ]
  },
  {
   "cell_type": "markdown",
   "id": "c244fcec",
   "metadata": {},
   "source": [
    "**Control Flow:** Allows us to only execute code when conditions are met <br />\n",
    "Control flow syntax in Python makes use of colons and indentation\n"
   ]
  },
  {
   "cell_type": "markdown",
   "id": "e62b8b50",
   "metadata": {},
   "source": [
    "**Syntax**"
   ]
  },
  {
   "cell_type": "code",
   "execution_count": 2,
   "id": "7a11131d",
   "metadata": {},
   "outputs": [],
   "source": [
    "#if some_conditions:\n",
    "    #execute some code"
   ]
  },
  {
   "cell_type": "code",
   "execution_count": 3,
   "id": "26e48607",
   "metadata": {},
   "outputs": [],
   "source": [
    "#if some_condition:\n",
    "    # execute some code\n",
    "#elif some_other_condition:\n",
    "    # Do something different\n",
    "#else:\n",
    "    # Do this"
   ]
  },
  {
   "cell_type": "code",
   "execution_count": 4,
   "id": "09eeea02",
   "metadata": {},
   "outputs": [
    {
     "name": "stdout",
     "output_type": "stream",
     "text": [
      "ITS TRUE\n"
     ]
    }
   ],
   "source": [
    "if True:\n",
    "    print(\"ITS TRUE\")"
   ]
  },
  {
   "cell_type": "code",
   "execution_count": 5,
   "id": "677c8903",
   "metadata": {},
   "outputs": [
    {
     "name": "stdout",
     "output_type": "stream",
     "text": [
      "its true\n"
     ]
    }
   ],
   "source": [
    "if 3 > 2:\n",
    "    print('its true')"
   ]
  },
  {
   "cell_type": "code",
   "execution_count": 6,
   "id": "9554114d",
   "metadata": {},
   "outputs": [
    {
     "name": "stdout",
     "output_type": "stream",
     "text": [
      "Feed me\n"
     ]
    }
   ],
   "source": [
    "hungry = True\n",
    "if hungry == True:\n",
    "    print(\"Feed me\")"
   ]
  },
  {
   "cell_type": "code",
   "execution_count": 9,
   "id": "148e361b",
   "metadata": {},
   "outputs": [
    {
     "name": "stdout",
     "output_type": "stream",
     "text": [
      "I'm Full\n"
     ]
    }
   ],
   "source": [
    "hungry = False\n",
    "if hungry == True:\n",
    "    print(\"Feed me\")\n",
    "else: \n",
    "    print(\"I'm Full\")"
   ]
  },
  {
   "cell_type": "code",
   "execution_count": 12,
   "id": "ab5614b9",
   "metadata": {},
   "outputs": [
    {
     "name": "stdout",
     "output_type": "stream",
     "text": [
      "Greed is Good\n"
     ]
    }
   ],
   "source": [
    "loc = \"Bank\"\n",
    "\n",
    "if loc == 'Auto Shop':\n",
    "    print('Cars are Cool!')\n",
    "elif loc == \"Bank\":\n",
    "    print(\"Greed is Good\")\n",
    "elif loc == \"Store\":\n",
    "    print(\"Welcome to the store!\")\n",
    "else:\n",
    "    print(\"I Don't know much\")"
   ]
  },
  {
   "cell_type": "code",
   "execution_count": 15,
   "id": "456e19c2",
   "metadata": {},
   "outputs": [
    {
     "name": "stdout",
     "output_type": "stream",
     "text": [
      "What's your name?\n"
     ]
    }
   ],
   "source": [
    "name = \"???\"\n",
    "\n",
    "if name == \"Franky\":\n",
    "    print(\"Hello Franky\")\n",
    "elif name == 'Sammy':\n",
    "    print(\"Hello Sammy\")\n",
    "else:\n",
    "    print(\"What's your name?\")"
   ]
  },
  {
   "cell_type": "markdown",
   "id": "827667c7",
   "metadata": {},
   "source": [
    "# For Loops"
   ]
  },
  {
   "cell_type": "markdown",
   "id": "d187c7a3",
   "metadata": {},
   "source": [
    "Used for iterations"
   ]
  },
  {
   "cell_type": "code",
   "execution_count": 16,
   "id": "f245dd94",
   "metadata": {},
   "outputs": [],
   "source": [
    "#Syntax\n",
    "# my_iterable = [1,2,3]\n",
    "\n",
    "#for item_name in my_iterable:\n",
    "    #print(item_name)"
   ]
  },
  {
   "cell_type": "code",
   "execution_count": 17,
   "id": "058bc819",
   "metadata": {},
   "outputs": [
    {
     "name": "stdout",
     "output_type": "stream",
     "text": [
      "1\n",
      "2\n",
      "3\n"
     ]
    }
   ],
   "source": [
    "my_iterable = [1,2,3]\n",
    "\n",
    "for item_name in my_iterable:\n",
    "    print(item_name)"
   ]
  },
  {
   "cell_type": "code",
   "execution_count": 18,
   "id": "0dd79e33",
   "metadata": {},
   "outputs": [
    {
     "name": "stdout",
     "output_type": "stream",
     "text": [
      "YO\n",
      "YO\n",
      "YO\n"
     ]
    }
   ],
   "source": [
    "my_iterable = [1,2,3]\n",
    "\n",
    "for item_name in my_iterable:\n",
    "    print(\"YO\")"
   ]
  },
  {
   "cell_type": "code",
   "execution_count": 25,
   "id": "67b21cf9",
   "metadata": {},
   "outputs": [
    {
     "name": "stdout",
     "output_type": "stream",
     "text": [
      "ZERO\n",
      "Odd Number: 1\n",
      "2\n",
      "Odd Number: 3\n",
      "4\n",
      "Odd Number: 5\n",
      "6\n",
      "Odd Number: 7\n",
      "8\n",
      "Odd Number: 9\n",
      "10\n"
     ]
    }
   ],
   "source": [
    "list1 = [0,1,2,3,4,5,6,7,8,9,10]\n",
    "\n",
    "#Get only even numbers (Except zero (WHICH IS EVEN))\n",
    "for num in list1:\n",
    "    if num != 0 and (num % 2) == 0:\n",
    "        print(num)\n",
    "    elif num == 0:\n",
    "        print(\"ZERO\")\n",
    "    else:\n",
    "        print(f\"Odd Number: {num}\")\n",
    "    "
   ]
  },
  {
   "cell_type": "code",
   "execution_count": 2,
   "id": "44244f7a",
   "metadata": {},
   "outputs": [
    {
     "name": "stdout",
     "output_type": "stream",
     "text": [
      "55\n"
     ]
    }
   ],
   "source": [
    "my_list = [0,1,2,3,4,5,6,7,8,9,10]\n",
    "list_sum = 0\n",
    "\n",
    "for i in my_list:\n",
    "    list_sum = list_sum + i\n",
    "print(list_sum)"
   ]
  },
  {
   "cell_type": "code",
   "execution_count": 3,
   "id": "c88be450",
   "metadata": {},
   "outputs": [
    {
     "name": "stdout",
     "output_type": "stream",
     "text": [
      "0\n",
      "1\n",
      "3\n",
      "6\n",
      "10\n",
      "15\n",
      "21\n",
      "28\n",
      "36\n",
      "45\n",
      "55\n"
     ]
    }
   ],
   "source": [
    "my_list = [0,1,2,3,4,5,6,7,8,9,10]\n",
    "list_sum = 0\n",
    "\n",
    "for i in my_list:\n",
    "    list_sum = list_sum + i\n",
    "    print(list_sum)"
   ]
  },
  {
   "cell_type": "code",
   "execution_count": 4,
   "id": "bbffb0cc",
   "metadata": {},
   "outputs": [
    {
     "name": "stdout",
     "output_type": "stream",
     "text": [
      "H\n",
      "e\n",
      "l\n",
      "l\n",
      "o\n",
      " \n",
      "W\n",
      "o\n",
      "r\n",
      "l\n",
      "d\n"
     ]
    }
   ],
   "source": [
    "string1 = \"Hello World\"\n",
    "\n",
    "for letter in string1:\n",
    "    print(letter)"
   ]
  },
  {
   "cell_type": "code",
   "execution_count": 5,
   "id": "0b5525f7",
   "metadata": {},
   "outputs": [],
   "source": [
    "list2 = [(1,2), (3,4), (5,6), (7,8), (9,10)]"
   ]
  },
  {
   "cell_type": "code",
   "execution_count": 6,
   "id": "5313290a",
   "metadata": {},
   "outputs": [
    {
     "data": {
      "text/plain": [
       "5"
      ]
     },
     "execution_count": 6,
     "metadata": {},
     "output_type": "execute_result"
    }
   ],
   "source": [
    "len(list2)"
   ]
  },
  {
   "cell_type": "code",
   "execution_count": 7,
   "id": "f13c5a5c",
   "metadata": {},
   "outputs": [
    {
     "name": "stdout",
     "output_type": "stream",
     "text": [
      "(1, 2)\n",
      "(3, 4)\n",
      "(5, 6)\n",
      "(7, 8)\n",
      "(9, 10)\n"
     ]
    }
   ],
   "source": [
    "for item in list2:\n",
    "    print(item)"
   ]
  },
  {
   "cell_type": "code",
   "execution_count": 10,
   "id": "88f5fa6d",
   "metadata": {},
   "outputs": [
    {
     "name": "stdout",
     "output_type": "stream",
     "text": [
      "a=1, b=2\n",
      "a=3, b=4\n",
      "a=5, b=6\n",
      "a=7, b=8\n",
      "a=9, b=10\n"
     ]
    }
   ],
   "source": [
    "for (a,b) in list2:\n",
    "    print(f\"a={a}, b={b}\") # This is called Tuple unpacking"
   ]
  },
  {
   "cell_type": "code",
   "execution_count": 11,
   "id": "feabdd44",
   "metadata": {},
   "outputs": [],
   "source": [
    "list3 = [(1,2,3), (4,5,6), (\"hi\", 'Hello', 'YO')]"
   ]
  },
  {
   "cell_type": "code",
   "execution_count": 13,
   "id": "fdadda94",
   "metadata": {},
   "outputs": [
    {
     "name": "stdout",
     "output_type": "stream",
     "text": [
      "First item: 1, second item: 2, Third Item: 3\n",
      "First item: 4, second item: 5, Third Item: 6\n",
      "First item: hi, second item: Hello, Third Item: YO\n"
     ]
    }
   ],
   "source": [
    "for a,b,c in list3:\n",
    "    print(f\"First item: {a}, second item: {b}, Third Item: {c}\")"
   ]
  },
  {
   "cell_type": "code",
   "execution_count": 14,
   "id": "c877e53d",
   "metadata": {},
   "outputs": [],
   "source": [
    "#Dictionaries\n",
    "d1 = {'k1':1, 'k2':2, 'k3':3}"
   ]
  },
  {
   "cell_type": "code",
   "execution_count": 16,
   "id": "3e661c26",
   "metadata": {},
   "outputs": [
    {
     "name": "stdout",
     "output_type": "stream",
     "text": [
      "('k1', 1)\n",
      "('k2', 2)\n",
      "('k3', 3)\n"
     ]
    }
   ],
   "source": [
    "for i in d1.items():\n",
    "    print(i)"
   ]
  },
  {
   "cell_type": "code",
   "execution_count": 17,
   "id": "686999de",
   "metadata": {},
   "outputs": [
    {
     "name": "stdout",
     "output_type": "stream",
     "text": [
      "The Key Was: k1, and the Value was: 1\n",
      "The Key Was: k2, and the Value was: 2\n",
      "The Key Was: k3, and the Value was: 3\n"
     ]
    }
   ],
   "source": [
    "for key,value in d1.items():\n",
    "    print(f\"The Key Was: {key}, and the Value was: {value}\")"
   ]
  },
  {
   "cell_type": "markdown",
   "id": "3a8c180b",
   "metadata": {},
   "source": [
    "# While Loops"
   ]
  },
  {
   "cell_type": "code",
   "execution_count": 18,
   "id": "573444a8",
   "metadata": {},
   "outputs": [],
   "source": [
    "#Syntax\n",
    "# while some_condition:\n",
    "    # Do_Something\n",
    "#else:\n",
    "    #Do_Something_Else"
   ]
  },
  {
   "cell_type": "code",
   "execution_count": 25,
   "id": "181120c4",
   "metadata": {},
   "outputs": [
    {
     "name": "stdout",
     "output_type": "stream",
     "text": [
      "The Value of X is: 0\n",
      "The Value of X is: 1\n",
      "The Value of X is: 2\n",
      "The Value of X is: 3\n",
      "The Value of X is: 4\n",
      "Value: 5 is equal to or greater than 5!\n"
     ]
    }
   ],
   "source": [
    "x = 0\n",
    "\n",
    "while x < 5:\n",
    "    print(f\"The Value of X is: {x}\")\n",
    "    #x = x + 1\n",
    "    x += 1 # This is a simpler and better way to perform the action\n",
    "else:\n",
    "    print(f\"Value: {x} is equal to or greater than 5!\")"
   ]
  },
  {
   "cell_type": "markdown",
   "id": "8788b927",
   "metadata": {},
   "source": [
    "### Three Useful Key Words for While Loops"
   ]
  },
  {
   "cell_type": "markdown",
   "id": "69cf6d87",
   "metadata": {},
   "source": [
    "break, continue and pass <br />\n",
    "**break:** Breaks out of the current closest enclosing loop <br />\n",
    "**continue:**  Goes to the top of the closest enclosing loop <br />\n",
    "**pass:**  Does Nothing at all"
   ]
  },
  {
   "cell_type": "code",
   "execution_count": 26,
   "id": "9367bafd",
   "metadata": {},
   "outputs": [
    {
     "ename": "IndentationError",
     "evalue": "expected an indented block (1721187030.py, line 4)",
     "output_type": "error",
     "traceback": [
      "\u001b[1;36m  File \u001b[1;32m\"C:\\Users\\ac01658\\AppData\\Local\\Temp\\ipykernel_12772\\1721187030.py\"\u001b[1;36m, line \u001b[1;32m4\u001b[0m\n\u001b[1;33m    #pass\u001b[0m\n\u001b[1;37m         ^\u001b[0m\n\u001b[1;31mIndentationError\u001b[0m\u001b[1;31m:\u001b[0m expected an indented block\n"
     ]
    }
   ],
   "source": [
    "#Error\n",
    "x = [1,2,3]\n",
    "\n",
    "for item in x:\n",
    "    #pass"
   ]
  },
  {
   "cell_type": "code",
   "execution_count": 28,
   "id": "a59d452a",
   "metadata": {},
   "outputs": [],
   "source": [
    "# No Error\n",
    "x = [1,2,3]\n",
    "\n",
    "for item in x:\n",
    "    pass # USed as a placeholder to avoid an eror"
   ]
  },
  {
   "cell_type": "code",
   "execution_count": 31,
   "id": "179bc9fd",
   "metadata": {},
   "outputs": [
    {
     "name": "stdout",
     "output_type": "stream",
     "text": [
      "A\n",
      "u\n",
      "r\n",
      "r\n",
      "a\n"
     ]
    }
   ],
   "source": [
    "#Continue example\n",
    "mystring = \"Aurora\"\n",
    "\n",
    "for letter in mystring:\n",
    "    if letter == 'o':\n",
    "        continue #passes this particular condition but continues through the loop\n",
    "    print(letter)"
   ]
  },
  {
   "cell_type": "code",
   "execution_count": 32,
   "id": "d4a632d9",
   "metadata": {},
   "outputs": [
    {
     "name": "stdout",
     "output_type": "stream",
     "text": [
      "A\n",
      "u\n",
      "r\n"
     ]
    }
   ],
   "source": [
    "# Break Example\n",
    "mystring = \"Aurora\"\n",
    "\n",
    "for letter in mystring:\n",
    "    if letter == 'o':\n",
    "        break # Ends the loop when condition met\n",
    "    print(letter)"
   ]
  },
  {
   "cell_type": "code",
   "execution_count": 34,
   "id": "03c3f85f",
   "metadata": {},
   "outputs": [
    {
     "name": "stdout",
     "output_type": "stream",
     "text": [
      "0\n",
      "1\n"
     ]
    }
   ],
   "source": [
    "x = 0\n",
    "\n",
    "while x < 5:\n",
    "    if x == 2:\n",
    "        break\n",
    "    print(x)\n",
    "    x += 1"
   ]
  },
  {
   "cell_type": "markdown",
   "id": "ec8fe3e6",
   "metadata": {},
   "source": [
    "# Useful Operators"
   ]
  },
  {
   "cell_type": "markdown",
   "id": "9af0fe1d",
   "metadata": {},
   "source": [
    "Range Operator"
   ]
  },
  {
   "cell_type": "code",
   "execution_count": 2,
   "id": "09a4aec3",
   "metadata": {},
   "outputs": [
    {
     "name": "stdout",
     "output_type": "stream",
     "text": [
      "0\n",
      "1\n",
      "2\n",
      "3\n",
      "4\n",
      "5\n",
      "6\n",
      "7\n",
      "8\n",
      "9\n"
     ]
    }
   ],
   "source": [
    "for num in range(0,10):\n",
    "    print(num)"
   ]
  },
  {
   "cell_type": "code",
   "execution_count": 7,
   "id": "e49d6ac2",
   "metadata": {},
   "outputs": [
    {
     "name": "stdout",
     "output_type": "stream",
     "text": [
      "0\n",
      "2\n",
      "4\n",
      "6\n",
      "8\n",
      "10\n"
     ]
    }
   ],
   "source": [
    "for num in range(0, 11, 2): # Syntax (start, stop, step)\n",
    "    print(num)"
   ]
  },
  {
   "cell_type": "markdown",
   "id": "0e255efc",
   "metadata": {},
   "source": [
    "Enumerate Function"
   ]
  },
  {
   "cell_type": "code",
   "execution_count": 8,
   "id": "c9ce5b43",
   "metadata": {},
   "outputs": [
    {
     "name": "stdout",
     "output_type": "stream",
     "text": [
      "At index 0 the letter is a\n",
      "At index 1 the letter is b\n",
      "At index 2 the letter is c\n",
      "At index 3 the letter is d\n",
      "At index 4 the letter is e\n"
     ]
    }
   ],
   "source": [
    "index_count = 0\n",
    "\n",
    "for letter in \"abcde\":\n",
    "    print(f\"At index {index_count} the letter is {letter}\")\n",
    "    index_count += 1"
   ]
  },
  {
   "cell_type": "code",
   "execution_count": 10,
   "id": "a6d3ea43",
   "metadata": {},
   "outputs": [
    {
     "name": "stdout",
     "output_type": "stream",
     "text": [
      "(0, 'a')\n",
      "(1, 'b')\n",
      "(2, 'c')\n",
      "(3, 'd')\n",
      "(4, 'e')\n",
      "(5, 'f')\n"
     ]
    }
   ],
   "source": [
    "word = 'abcdef'\n",
    "for item in enumerate(word): # Returns tuple with index and value at said index\n",
    "    print(item)"
   ]
  },
  {
   "cell_type": "code",
   "execution_count": 14,
   "id": "909bc0f0",
   "metadata": {},
   "outputs": [
    {
     "name": "stdout",
     "output_type": "stream",
     "text": [
      "0\n",
      "a\n",
      "\n",
      "\n",
      "1\n",
      "b\n",
      "\n",
      "\n",
      "2\n",
      "c\n",
      "\n",
      "\n",
      "3\n",
      "d\n",
      "\n",
      "\n",
      "4\n",
      "e\n",
      "\n",
      "\n",
      "5\n",
      "f\n",
      "\n",
      "\n"
     ]
    }
   ],
   "source": [
    "word = 'abcdef'\n",
    "for index, letter in enumerate(word): # using tuple unpacking this time\n",
    "    print(index)\n",
    "    print(letter)\n",
    "    print('\\n')"
   ]
  },
  {
   "cell_type": "markdown",
   "id": "254f3e42",
   "metadata": {},
   "source": [
    "Zip function: zips together two lists"
   ]
  },
  {
   "cell_type": "code",
   "execution_count": 15,
   "id": "c69780ab",
   "metadata": {},
   "outputs": [],
   "source": [
    "list1 = [1,2,3,4,5]\n",
    "list2 = ['a','b','c']"
   ]
  },
  {
   "cell_type": "code",
   "execution_count": 19,
   "id": "435284f1",
   "metadata": {},
   "outputs": [
    {
     "name": "stdout",
     "output_type": "stream",
     "text": [
      "(1, 'a')\n",
      "(2, 'b')\n",
      "(3, 'c')\n"
     ]
    }
   ],
   "source": [
    "for item in zip(list1,list2): # Zip makes the two lists items into tuples\n",
    "    print(item)"
   ]
  },
  {
   "cell_type": "code",
   "execution_count": 21,
   "id": "3973299e",
   "metadata": {},
   "outputs": [
    {
     "name": "stdout",
     "output_type": "stream",
     "text": [
      "(1, 'a', 100)\n",
      "(2, 'b', 200)\n",
      "(3, 'c', 300)\n"
     ]
    }
   ],
   "source": [
    "list1 = [1,2,3,4,5,6,7,8,9,10]\n",
    "list2 = ['a','b','c']\n",
    "list3 = [100,200,300]\n",
    "\n",
    "for item in zip(list1,list2,list3): # Zip can only go as far as the smallest list\n",
    "    print(item)"
   ]
  },
  {
   "cell_type": "code",
   "execution_count": 22,
   "id": "98bee3c2",
   "metadata": {},
   "outputs": [
    {
     "data": {
      "text/plain": [
       "[(1, 'a', 100), (2, 'b', 200), (3, 'c', 300)]"
      ]
     },
     "execution_count": 22,
     "metadata": {},
     "output_type": "execute_result"
    }
   ],
   "source": [
    "list(zip(list1,list2,list3))"
   ]
  },
  {
   "cell_type": "markdown",
   "id": "a0f873f0",
   "metadata": {},
   "source": [
    "In operator"
   ]
  },
  {
   "cell_type": "code",
   "execution_count": 23,
   "id": "1d0dc562",
   "metadata": {},
   "outputs": [
    {
     "data": {
      "text/plain": [
       "False"
      ]
     },
     "execution_count": 23,
     "metadata": {},
     "output_type": "execute_result"
    }
   ],
   "source": [
    "'x' in[1,2,3]"
   ]
  },
  {
   "cell_type": "code",
   "execution_count": 24,
   "id": "be66b0ae",
   "metadata": {},
   "outputs": [
    {
     "data": {
      "text/plain": [
       "True"
      ]
     },
     "execution_count": 24,
     "metadata": {},
     "output_type": "execute_result"
    }
   ],
   "source": [
    "'x' in ['x','y','z']"
   ]
  },
  {
   "cell_type": "code",
   "execution_count": 25,
   "id": "f08f7be7",
   "metadata": {},
   "outputs": [
    {
     "data": {
      "text/plain": [
       "True"
      ]
     },
     "execution_count": 25,
     "metadata": {},
     "output_type": "execute_result"
    }
   ],
   "source": [
    "'a' in 'a world'"
   ]
  },
  {
   "cell_type": "code",
   "execution_count": 27,
   "id": "f0782556",
   "metadata": {},
   "outputs": [
    {
     "data": {
      "text/plain": [
       "True"
      ]
     },
     "execution_count": 27,
     "metadata": {},
     "output_type": "execute_result"
    }
   ],
   "source": [
    "'mykey' in {'mykey': 345, 'mykey2':777} # Can also use it with key's in dictionaries"
   ]
  },
  {
   "cell_type": "code",
   "execution_count": 28,
   "id": "1faa8d3e",
   "metadata": {},
   "outputs": [
    {
     "data": {
      "text/plain": [
       "True"
      ]
     },
     "execution_count": 28,
     "metadata": {},
     "output_type": "execute_result"
    }
   ],
   "source": [
    "d = {'mykey': 345, 'mykey2':777}\n",
    "\n",
    "345 in d.values()"
   ]
  },
  {
   "cell_type": "code",
   "execution_count": 30,
   "id": "719c7411",
   "metadata": {},
   "outputs": [
    {
     "data": {
      "text/plain": [
       "False"
      ]
     },
     "execution_count": 30,
     "metadata": {},
     "output_type": "execute_result"
    }
   ],
   "source": [
    "d = {'mykey': 345, 'mykey2':777}\n",
    "\n",
    "345 in d.keys()"
   ]
  },
  {
   "cell_type": "markdown",
   "id": "873bf5b7",
   "metadata": {},
   "source": [
    "Math Functions: Mix, Max, "
   ]
  },
  {
   "cell_type": "code",
   "execution_count": 31,
   "id": "4ec75e63",
   "metadata": {},
   "outputs": [],
   "source": [
    "mylist = [0,1,2,3,4,5,6,7,8,9,10]"
   ]
  },
  {
   "cell_type": "code",
   "execution_count": 33,
   "id": "827ad7cb",
   "metadata": {},
   "outputs": [
    {
     "name": "stdout",
     "output_type": "stream",
     "text": [
      "0\n",
      "10\n"
     ]
    }
   ],
   "source": [
    "print(min(mylist))\n",
    "print(max(mylist))"
   ]
  },
  {
   "cell_type": "markdown",
   "id": "e4c38072",
   "metadata": {},
   "source": [
    "How to import functions from a library"
   ]
  },
  {
   "cell_type": "code",
   "execution_count": 34,
   "id": "6152d44b",
   "metadata": {},
   "outputs": [],
   "source": [
    "from random import shuffle"
   ]
  },
  {
   "cell_type": "code",
   "execution_count": 35,
   "id": "34ecadf2",
   "metadata": {},
   "outputs": [],
   "source": [
    "mylist = [1,2,3,4,5,6,7,8,9,10]"
   ]
  },
  {
   "cell_type": "code",
   "execution_count": 36,
   "id": "d4c5c5e8",
   "metadata": {},
   "outputs": [],
   "source": [
    "shuffle(mylist)"
   ]
  },
  {
   "cell_type": "code",
   "execution_count": 37,
   "id": "e688eab3",
   "metadata": {},
   "outputs": [
    {
     "data": {
      "text/plain": [
       "[6, 1, 8, 9, 5, 7, 4, 10, 3, 2]"
      ]
     },
     "execution_count": 37,
     "metadata": {},
     "output_type": "execute_result"
    }
   ],
   "source": [
    "mylist"
   ]
  },
  {
   "cell_type": "code",
   "execution_count": 38,
   "id": "697f3f8e",
   "metadata": {},
   "outputs": [],
   "source": [
    "from random import randint"
   ]
  },
  {
   "cell_type": "code",
   "execution_count": 40,
   "id": "88a95207",
   "metadata": {},
   "outputs": [
    {
     "data": {
      "text/plain": [
       "114"
      ]
     },
     "execution_count": 40,
     "metadata": {},
     "output_type": "execute_result"
    }
   ],
   "source": [
    "randint(0,1000) #Returns random integer"
   ]
  },
  {
   "cell_type": "code",
   "execution_count": 42,
   "id": "901a09b1",
   "metadata": {},
   "outputs": [],
   "source": [
    "mynum = randint(-1, 5)"
   ]
  },
  {
   "cell_type": "code",
   "execution_count": 43,
   "id": "379969a4",
   "metadata": {},
   "outputs": [
    {
     "data": {
      "text/plain": [
       "2"
      ]
     },
     "execution_count": 43,
     "metadata": {},
     "output_type": "execute_result"
    }
   ],
   "source": [
    "mynum"
   ]
  },
  {
   "cell_type": "code",
   "execution_count": 44,
   "id": "08c55a63",
   "metadata": {},
   "outputs": [
    {
     "name": "stdout",
     "output_type": "stream",
     "text": [
      "enter a number here: 50\n"
     ]
    },
    {
     "data": {
      "text/plain": [
       "'50'"
      ]
     },
     "execution_count": 44,
     "metadata": {},
     "output_type": "execute_result"
    }
   ],
   "source": [
    "input('enter a number here: ') "
   ]
  },
  {
   "cell_type": "code",
   "execution_count": 45,
   "id": "ce273e69",
   "metadata": {},
   "outputs": [
    {
     "name": "stdout",
     "output_type": "stream",
     "text": [
      "enter a number here: 1000\n"
     ]
    }
   ],
   "source": [
    "result =  input('enter a number here: ') #Anything saved via input is a string"
   ]
  },
  {
   "cell_type": "code",
   "execution_count": 47,
   "id": "ffbd92d0",
   "metadata": {},
   "outputs": [
    {
     "name": "stdout",
     "output_type": "stream",
     "text": [
      "1000\n",
      "<class 'str'>\n"
     ]
    }
   ],
   "source": [
    "print(result)\n",
    "print(type(result))"
   ]
  },
  {
   "cell_type": "code",
   "execution_count": 48,
   "id": "50ab8685",
   "metadata": {},
   "outputs": [
    {
     "name": "stdout",
     "output_type": "stream",
     "text": [
      "How you doin? 55\n"
     ]
    }
   ],
   "source": [
    "result = int(input(\"How you doin? \"))"
   ]
  },
  {
   "cell_type": "code",
   "execution_count": 50,
   "id": "baafb45d",
   "metadata": {},
   "outputs": [
    {
     "name": "stdout",
     "output_type": "stream",
     "text": [
      "55\n",
      "<class 'int'>\n"
     ]
    }
   ],
   "source": [
    "print(result)\n",
    "print(type(result))"
   ]
  },
  {
   "cell_type": "markdown",
   "id": "93ff8404",
   "metadata": {},
   "source": [
    "# List Comprehensions"
   ]
  },
  {
   "cell_type": "markdown",
   "id": "82f8716f",
   "metadata": {},
   "source": [
    "Unique way of quickley creating a list in Python <br />\n",
    "If you find yourself using a for loop along with .append() to create a list, List comprehensions may be a better alternative"
   ]
  },
  {
   "cell_type": "code",
   "execution_count": 61,
   "id": "0523b76d",
   "metadata": {},
   "outputs": [],
   "source": [
    "mystring = 'h3ll0'"
   ]
  },
  {
   "cell_type": "code",
   "execution_count": 62,
   "id": "ee38723c",
   "metadata": {},
   "outputs": [],
   "source": [
    "mylist = []\n",
    "\n",
    "for letter in mystring:\n",
    "    mylist.append(letter)"
   ]
  },
  {
   "cell_type": "code",
   "execution_count": 63,
   "id": "23037eca",
   "metadata": {},
   "outputs": [
    {
     "data": {
      "text/plain": [
       "['h', '3', 'l', 'l', '0']"
      ]
     },
     "execution_count": 63,
     "metadata": {},
     "output_type": "execute_result"
    }
   ],
   "source": [
    "mylist"
   ]
  },
  {
   "cell_type": "code",
   "execution_count": 71,
   "id": "65a89188",
   "metadata": {},
   "outputs": [],
   "source": [
    "mystring = 'h3ll0 w0r1d'\n",
    "mylist = []\n",
    "\n",
    "mylist = [element for element in mystring]"
   ]
  },
  {
   "cell_type": "code",
   "execution_count": 72,
   "id": "2ec20aa1",
   "metadata": {},
   "outputs": [
    {
     "data": {
      "text/plain": [
       "['h', '3', 'l', 'l', '0', ' ', 'w', '0', 'r', '1', 'd']"
      ]
     },
     "execution_count": 72,
     "metadata": {},
     "output_type": "execute_result"
    }
   ],
   "source": [
    "mylist"
   ]
  },
  {
   "cell_type": "code",
   "execution_count": 73,
   "id": "3e3e9699",
   "metadata": {},
   "outputs": [],
   "source": [
    "list1 = [x for x in 'word']"
   ]
  },
  {
   "cell_type": "code",
   "execution_count": 74,
   "id": "91ccfa55",
   "metadata": {},
   "outputs": [
    {
     "data": {
      "text/plain": [
       "['w', 'o', 'r', 'd']"
      ]
     },
     "execution_count": 74,
     "metadata": {},
     "output_type": "execute_result"
    }
   ],
   "source": [
    "list1"
   ]
  },
  {
   "cell_type": "code",
   "execution_count": 77,
   "id": "cc6858a1",
   "metadata": {},
   "outputs": [],
   "source": [
    "list2 = [num for num in range(0,11)]"
   ]
  },
  {
   "cell_type": "code",
   "execution_count": 78,
   "id": "b7cc4338",
   "metadata": {},
   "outputs": [
    {
     "data": {
      "text/plain": [
       "[0, 1, 2, 3, 4, 5, 6, 7, 8, 9, 10]"
      ]
     },
     "execution_count": 78,
     "metadata": {},
     "output_type": "execute_result"
    }
   ],
   "source": [
    "list2"
   ]
  },
  {
   "cell_type": "code",
   "execution_count": 79,
   "id": "e43bde4e",
   "metadata": {},
   "outputs": [],
   "source": [
    "list3 = [num**2 for num in range(0,11)]"
   ]
  },
  {
   "cell_type": "code",
   "execution_count": 80,
   "id": "0791159d",
   "metadata": {},
   "outputs": [
    {
     "data": {
      "text/plain": [
       "[0, 1, 4, 9, 16, 25, 36, 49, 64, 81, 100]"
      ]
     },
     "execution_count": 80,
     "metadata": {},
     "output_type": "execute_result"
    }
   ],
   "source": [
    "list3"
   ]
  },
  {
   "cell_type": "code",
   "execution_count": 81,
   "id": "a37fda42",
   "metadata": {},
   "outputs": [],
   "source": [
    "list4 = [x for x in range(0,11) if x %2 ==0]"
   ]
  },
  {
   "cell_type": "code",
   "execution_count": 82,
   "id": "43550e95",
   "metadata": {},
   "outputs": [
    {
     "data": {
      "text/plain": [
       "[0, 2, 4, 6, 8, 10]"
      ]
     },
     "execution_count": 82,
     "metadata": {},
     "output_type": "execute_result"
    }
   ],
   "source": [
    "list4"
   ]
  },
  {
   "cell_type": "code",
   "execution_count": 84,
   "id": "200a012c",
   "metadata": {},
   "outputs": [],
   "source": [
    "celcius = [0,10,20,34.5]\n",
    "\n",
    "fahrenheit = [( (9/5)*temp + 32) for temp in celcius]"
   ]
  },
  {
   "cell_type": "code",
   "execution_count": 85,
   "id": "55999ec7",
   "metadata": {},
   "outputs": [
    {
     "data": {
      "text/plain": [
       "[32.0, 50.0, 68.0, 94.1]"
      ]
     },
     "execution_count": 85,
     "metadata": {},
     "output_type": "execute_result"
    }
   ],
   "source": [
    "fahrenheit"
   ]
  },
  {
   "cell_type": "markdown",
   "id": "56830ee7",
   "metadata": {},
   "source": [
    "Using for and if else statements in a list comprehension"
   ]
  },
  {
   "cell_type": "code",
   "execution_count": 86,
   "id": "1eb687cc",
   "metadata": {},
   "outputs": [],
   "source": [
    "results = [x if x%2==0 else 'ODD' for x in range(0,11)]"
   ]
  },
  {
   "cell_type": "code",
   "execution_count": 87,
   "id": "bca524de",
   "metadata": {},
   "outputs": [
    {
     "data": {
      "text/plain": [
       "[0, 'ODD', 2, 'ODD', 4, 'ODD', 6, 'ODD', 8, 'ODD', 10]"
      ]
     },
     "execution_count": 87,
     "metadata": {},
     "output_type": "execute_result"
    }
   ],
   "source": [
    "results"
   ]
  },
  {
   "cell_type": "markdown",
   "id": "89bdf444",
   "metadata": {},
   "source": [
    "Nested Loops"
   ]
  },
  {
   "cell_type": "code",
   "execution_count": 89,
   "id": "7df08422",
   "metadata": {},
   "outputs": [],
   "source": [
    "mylist = []\n",
    "\n",
    "for x in [2,4,6]:\n",
    "    for y in [100,200,300]:\n",
    "        mylist.append(x*y)"
   ]
  },
  {
   "cell_type": "code",
   "execution_count": 90,
   "id": "8b59de07",
   "metadata": {},
   "outputs": [
    {
     "data": {
      "text/plain": [
       "[200, 400, 600, 400, 800, 1200, 600, 1200, 1800]"
      ]
     },
     "execution_count": 90,
     "metadata": {},
     "output_type": "execute_result"
    }
   ],
   "source": [
    "mylist"
   ]
  },
  {
   "cell_type": "markdown",
   "id": "0138b9b4",
   "metadata": {},
   "source": [
    "Nested for loops with list comprehension"
   ]
  },
  {
   "cell_type": "code",
   "execution_count": 92,
   "id": "5fbe383a",
   "metadata": {},
   "outputs": [],
   "source": [
    "mylist = [x*y for x in [2,4,6] for y in [1,10,1000]]"
   ]
  },
  {
   "cell_type": "code",
   "execution_count": 93,
   "id": "c995b944",
   "metadata": {},
   "outputs": [
    {
     "data": {
      "text/plain": [
       "[2, 20, 2000, 4, 40, 4000, 6, 60, 6000]"
      ]
     },
     "execution_count": 93,
     "metadata": {},
     "output_type": "execute_result"
    }
   ],
   "source": [
    "mylist"
   ]
  },
  {
   "cell_type": "code",
   "execution_count": null,
   "id": "c7347883",
   "metadata": {},
   "outputs": [],
   "source": []
  }
 ],
 "metadata": {
  "kernelspec": {
   "display_name": "Python 3 (ipykernel)",
   "language": "python",
   "name": "python3"
  },
  "language_info": {
   "codemirror_mode": {
    "name": "ipython",
    "version": 3
   },
   "file_extension": ".py",
   "mimetype": "text/x-python",
   "name": "python",
   "nbconvert_exporter": "python",
   "pygments_lexer": "ipython3",
   "version": "3.9.13"
  }
 },
 "nbformat": 4,
 "nbformat_minor": 5
}
