{
 "cells": [
  {
   "cell_type": "markdown",
   "id": "ac4e9365",
   "metadata": {},
   "source": [
    "Setting Up Python"
   ]
  },
  {
   "cell_type": "code",
   "execution_count": 2,
   "id": "d86f2fff",
   "metadata": {},
   "outputs": [
    {
     "data": {
      "text/plain": [
       "2"
      ]
     },
     "execution_count": 2,
     "metadata": {},
     "output_type": "execute_result"
    }
   ],
   "source": [
    "1+1"
   ]
  },
  {
   "cell_type": "code",
   "execution_count": 3,
   "id": "3693974f",
   "metadata": {},
   "outputs": [
    {
     "data": {
      "text/plain": [
       "4"
      ]
     },
     "execution_count": 3,
     "metadata": {},
     "output_type": "execute_result"
    }
   ],
   "source": [
    "2+2"
   ]
  },
  {
   "cell_type": "markdown",
   "id": "dfd373dd",
   "metadata": {},
   "source": [
    "Learn Jupyter"
   ]
  },
  {
   "cell_type": "code",
   "execution_count": 1,
   "id": "e17a23c8",
   "metadata": {},
   "outputs": [
    {
     "name": "stdout",
     "output_type": "stream",
     "text": [
      "Hello World\n"
     ]
    }
   ],
   "source": [
    "print('Hello World')"
   ]
  },
  {
   "cell_type": "markdown",
   "id": "6c53e36f",
   "metadata": {},
   "source": [
    "here you can write notes"
   ]
  },
  {
   "cell_type": "markdown",
   "id": "827b4e1d",
   "metadata": {},
   "source": [
    "# Data Types"
   ]
  },
  {
   "cell_type": "code",
   "execution_count": 2,
   "id": "50815a82",
   "metadata": {},
   "outputs": [
    {
     "data": {
      "text/plain": [
       "1.75"
      ]
     },
     "execution_count": 2,
     "metadata": {},
     "output_type": "execute_result"
    }
   ],
   "source": [
    "#Modulo or Mod Operator\n",
    "7 / 4"
   ]
  },
  {
   "cell_type": "code",
   "execution_count": 4,
   "id": "538d60a6",
   "metadata": {},
   "outputs": [
    {
     "data": {
      "text/plain": [
       "3"
      ]
     },
     "execution_count": 4,
     "metadata": {},
     "output_type": "execute_result"
    }
   ],
   "source": [
    "7 % 4 # use % to get the remainder after division"
   ]
  },
  {
   "cell_type": "code",
   "execution_count": 5,
   "id": "441d8539",
   "metadata": {},
   "outputs": [
    {
     "data": {
      "text/plain": [
       "0"
      ]
     },
     "execution_count": 5,
     "metadata": {},
     "output_type": "execute_result"
    }
   ],
   "source": [
    "8 % 4 # No remainder"
   ]
  },
  {
   "cell_type": "code",
   "execution_count": 8,
   "id": "bc32681a",
   "metadata": {},
   "outputs": [
    {
     "data": {
      "text/plain": [
       "8"
      ]
     },
     "execution_count": 8,
     "metadata": {},
     "output_type": "execute_result"
    }
   ],
   "source": [
    "# Using Exponent/Powers\n",
    "2**3"
   ]
  },
  {
   "cell_type": "markdown",
   "id": "072ce291",
   "metadata": {},
   "source": [
    "# Variable Names"
   ]
  },
  {
   "cell_type": "markdown",
   "id": "94175b54",
   "metadata": {},
   "source": [
    "Can't use spaces, or symbols and can't start with a Number <br />\n",
    "Use _ instead of spaces <br />\n",
    "Generally avoid starting a variable name with uppercase"
   ]
  },
  {
   "cell_type": "code",
   "execution_count": 11,
   "id": "4f02235a",
   "metadata": {},
   "outputs": [],
   "source": [
    "baby = 'Aurora'\n",
    "me = 28"
   ]
  },
  {
   "cell_type": "code",
   "execution_count": 14,
   "id": "912d6995",
   "metadata": {},
   "outputs": [
    {
     "name": "stdout",
     "output_type": "stream",
     "text": [
      "Aurora28\n"
     ]
    }
   ],
   "source": [
    "print(baby + str(me))"
   ]
  },
  {
   "cell_type": "markdown",
   "id": "ee67b502",
   "metadata": {},
   "source": [
    "Python uses \"Dynamic Typing\" so we can change our variables type easily"
   ]
  },
  {
   "cell_type": "code",
   "execution_count": 17,
   "id": "17a15f35",
   "metadata": {},
   "outputs": [
    {
     "name": "stdout",
     "output_type": "stream",
     "text": [
      "Joe\n"
     ]
    }
   ],
   "source": [
    "friend = 'Joe'\n",
    "print(friend)"
   ]
  },
  {
   "cell_type": "code",
   "execution_count": 18,
   "id": "f1b93acc",
   "metadata": {},
   "outputs": [
    {
     "name": "stdout",
     "output_type": "stream",
     "text": [
      "Jake\n"
     ]
    }
   ],
   "source": [
    "friend = \"Jake\"\n",
    "print(friend)"
   ]
  },
  {
   "cell_type": "code",
   "execution_count": 19,
   "id": "1f2b002a",
   "metadata": {},
   "outputs": [
    {
     "data": {
      "text/plain": [
       "str"
      ]
     },
     "execution_count": 19,
     "metadata": {},
     "output_type": "execute_result"
    }
   ],
   "source": [
    "type(friend)"
   ]
  },
  {
   "cell_type": "code",
   "execution_count": 31,
   "id": "15f59167",
   "metadata": {},
   "outputs": [
    {
     "name": "stdout",
     "output_type": "stream",
     "text": [
      "Take Home Pay: $81600.0\n"
     ]
    }
   ],
   "source": [
    "income = 120000\n",
    "tax_rate = .32\n",
    "\n",
    "take_home = income - (income * tax_rate)\n",
    "print('Take Home Pay:'+ ' '+'$'+ str(take_home))"
   ]
  },
  {
   "cell_type": "markdown",
   "id": "dc3dd96b",
   "metadata": {},
   "source": [
    "# Strings"
   ]
  },
  {
   "cell_type": "markdown",
   "id": "9a65af7a",
   "metadata": {},
   "source": [
    "Strings are ordered sequences: This means we can use indexing and slicing on them <br />\n",
    "ex: hello -- Index: h:0, e:1, l:2, 1:3, 0:4"
   ]
  },
  {
   "cell_type": "markdown",
   "id": "efa160ab",
   "metadata": {},
   "source": [
    "Slicing: uses [start:stop:step] notation. Start is a numerical index you start at, stop is the index you will go up to (but not include) and step is the size of the \"jump\" you take"
   ]
  },
  {
   "cell_type": "code",
   "execution_count": 1,
   "id": "a4f22514",
   "metadata": {},
   "outputs": [
    {
     "data": {
      "text/plain": [
       "\"I'm a cool guy\""
      ]
     },
     "execution_count": 1,
     "metadata": {},
     "output_type": "execute_result"
    }
   ],
   "source": [
    "\"I'm a cool guy\""
   ]
  },
  {
   "cell_type": "code",
   "execution_count": 2,
   "id": "2d88e377",
   "metadata": {},
   "outputs": [],
   "source": [
    "ex = \"I'm a really cool guy\""
   ]
  },
  {
   "cell_type": "code",
   "execution_count": 4,
   "id": "9d564799",
   "metadata": {},
   "outputs": [
    {
     "name": "stdout",
     "output_type": "stream",
     "text": [
      "I'm a really cool guy\n",
      "Hello\n"
     ]
    }
   ],
   "source": [
    "print(ex)\n",
    "print(\"Hello\")"
   ]
  },
  {
   "cell_type": "code",
   "execution_count": 6,
   "id": "e0b6ae1a",
   "metadata": {},
   "outputs": [
    {
     "name": "stdout",
     "output_type": "stream",
     "text": [
      "hello \n",
      "world\n"
     ]
    }
   ],
   "source": [
    "print('hello \\nworld') # \\n makes a newline"
   ]
  },
  {
   "cell_type": "code",
   "execution_count": 8,
   "id": "60438785",
   "metadata": {},
   "outputs": [
    {
     "name": "stdout",
     "output_type": "stream",
     "text": [
      "Hello \tWorld\n"
     ]
    }
   ],
   "source": [
    "print('Hello \\tWorld') # \\t makes a tab"
   ]
  },
  {
   "cell_type": "code",
   "execution_count": 10,
   "id": "eb6380b5",
   "metadata": {},
   "outputs": [
    {
     "data": {
      "text/plain": [
       "5"
      ]
     },
     "execution_count": 10,
     "metadata": {},
     "output_type": "execute_result"
    }
   ],
   "source": [
    "len('hello') # len is the length function"
   ]
  },
  {
   "cell_type": "code",
   "execution_count": 11,
   "id": "1fd1d3b6",
   "metadata": {},
   "outputs": [
    {
     "data": {
      "text/plain": [
       "4"
      ]
     },
     "execution_count": 11,
     "metadata": {},
     "output_type": "execute_result"
    }
   ],
   "source": [
    "len(\"I am\")"
   ]
  },
  {
   "cell_type": "markdown",
   "id": "afed0318",
   "metadata": {},
   "source": [
    "# Indexing and Slicing"
   ]
  },
  {
   "cell_type": "markdown",
   "id": "3c5a3c97",
   "metadata": {},
   "source": [
    "Indexing"
   ]
  },
  {
   "cell_type": "code",
   "execution_count": 16,
   "id": "bbf083d5",
   "metadata": {},
   "outputs": [],
   "source": [
    "mystring = 'Hello World'"
   ]
  },
  {
   "cell_type": "code",
   "execution_count": 17,
   "id": "2d8a9758",
   "metadata": {},
   "outputs": [
    {
     "data": {
      "text/plain": [
       "'Hello World'"
      ]
     },
     "execution_count": 17,
     "metadata": {},
     "output_type": "execute_result"
    }
   ],
   "source": [
    "mystring"
   ]
  },
  {
   "cell_type": "code",
   "execution_count": 18,
   "id": "ae8cd26a",
   "metadata": {},
   "outputs": [
    {
     "data": {
      "text/plain": [
       "'l'"
      ]
     },
     "execution_count": 18,
     "metadata": {},
     "output_type": "execute_result"
    }
   ],
   "source": [
    "mystring[2]"
   ]
  },
  {
   "cell_type": "code",
   "execution_count": 19,
   "id": "cc50d84b",
   "metadata": {},
   "outputs": [
    {
     "data": {
      "text/plain": [
       "'ll'"
      ]
     },
     "execution_count": 19,
     "metadata": {},
     "output_type": "execute_result"
    }
   ],
   "source": [
    "mystring[2:4]"
   ]
  },
  {
   "cell_type": "code",
   "execution_count": 20,
   "id": "841c4ee6",
   "metadata": {},
   "outputs": [
    {
     "data": {
      "text/plain": [
       "'Hello'"
      ]
     },
     "execution_count": 20,
     "metadata": {},
     "output_type": "execute_result"
    }
   ],
   "source": [
    "mystring[0:5]"
   ]
  },
  {
   "cell_type": "code",
   "execution_count": 21,
   "id": "54f10978",
   "metadata": {},
   "outputs": [
    {
     "data": {
      "text/plain": [
       "'d'"
      ]
     },
     "execution_count": 21,
     "metadata": {},
     "output_type": "execute_result"
    }
   ],
   "source": [
    "mystring[-1]"
   ]
  },
  {
   "cell_type": "markdown",
   "id": "2380d9d1",
   "metadata": {},
   "source": [
    "Slicing"
   ]
  },
  {
   "cell_type": "code",
   "execution_count": 26,
   "id": "32c04d68",
   "metadata": {},
   "outputs": [],
   "source": [
    "string2 = 'abcdefghijk'"
   ]
  },
  {
   "cell_type": "code",
   "execution_count": 27,
   "id": "8d2f489d",
   "metadata": {},
   "outputs": [
    {
     "data": {
      "text/plain": [
       "'abcdefghijk'"
      ]
     },
     "execution_count": 27,
     "metadata": {},
     "output_type": "execute_result"
    }
   ],
   "source": [
    "string2"
   ]
  },
  {
   "cell_type": "code",
   "execution_count": 28,
   "id": "cdddb432",
   "metadata": {},
   "outputs": [
    {
     "data": {
      "text/plain": [
       "'abcdefghij'"
      ]
     },
     "execution_count": 28,
     "metadata": {},
     "output_type": "execute_result"
    }
   ],
   "source": [
    "string2[0:-1:1]"
   ]
  },
  {
   "cell_type": "code",
   "execution_count": 29,
   "id": "7eae022c",
   "metadata": {},
   "outputs": [
    {
     "data": {
      "text/plain": [
       "11"
      ]
     },
     "execution_count": 29,
     "metadata": {},
     "output_type": "execute_result"
    }
   ],
   "source": [
    "len(string2)"
   ]
  },
  {
   "cell_type": "code",
   "execution_count": 35,
   "id": "5eb487f8",
   "metadata": {},
   "outputs": [
    {
     "data": {
      "text/plain": [
       "'adgj'"
      ]
     },
     "execution_count": 35,
     "metadata": {},
     "output_type": "execute_result"
    }
   ],
   "source": [
    "string2[0:11:3]"
   ]
  },
  {
   "cell_type": "code",
   "execution_count": 36,
   "id": "2c999c24",
   "metadata": {},
   "outputs": [
    {
     "data": {
      "text/plain": [
       "'abcdefghijk'"
      ]
     },
     "execution_count": 36,
     "metadata": {},
     "output_type": "execute_result"
    }
   ],
   "source": [
    "string2[0:]"
   ]
  },
  {
   "cell_type": "code",
   "execution_count": 38,
   "id": "c5eda767",
   "metadata": {},
   "outputs": [
    {
     "data": {
      "text/plain": [
       "'abc'"
      ]
     },
     "execution_count": 38,
     "metadata": {},
     "output_type": "execute_result"
    }
   ],
   "source": [
    "string2[:3]"
   ]
  },
  {
   "cell_type": "code",
   "execution_count": 39,
   "id": "df83f5db",
   "metadata": {},
   "outputs": [
    {
     "data": {
      "text/plain": [
       "'def'"
      ]
     },
     "execution_count": 39,
     "metadata": {},
     "output_type": "execute_result"
    }
   ],
   "source": [
    "string2[3:6]"
   ]
  },
  {
   "cell_type": "code",
   "execution_count": 40,
   "id": "1a425539",
   "metadata": {},
   "outputs": [
    {
     "data": {
      "text/plain": [
       "'bc'"
      ]
     },
     "execution_count": 40,
     "metadata": {},
     "output_type": "execute_result"
    }
   ],
   "source": [
    "string2[1:3]"
   ]
  },
  {
   "cell_type": "code",
   "execution_count": 41,
   "id": "830b4462",
   "metadata": {},
   "outputs": [
    {
     "data": {
      "text/plain": [
       "'ijk'"
      ]
     },
     "execution_count": 41,
     "metadata": {},
     "output_type": "execute_result"
    }
   ],
   "source": [
    "string2[8:11]"
   ]
  },
  {
   "cell_type": "code",
   "execution_count": 42,
   "id": "b8f8081e",
   "metadata": {},
   "outputs": [
    {
     "data": {
      "text/plain": [
       "'abcdefghijk'"
      ]
     },
     "execution_count": 42,
     "metadata": {},
     "output_type": "execute_result"
    }
   ],
   "source": [
    "string2[::] "
   ]
  },
  {
   "cell_type": "code",
   "execution_count": 43,
   "id": "fe83bcc7",
   "metadata": {},
   "outputs": [
    {
     "data": {
      "text/plain": [
       "'acegik'"
      ]
     },
     "execution_count": 43,
     "metadata": {},
     "output_type": "execute_result"
    }
   ],
   "source": [
    "string2[::2]"
   ]
  },
  {
   "cell_type": "code",
   "execution_count": 44,
   "id": "af84f7b1",
   "metadata": {},
   "outputs": [
    {
     "data": {
      "text/plain": [
       "'ceg'"
      ]
     },
     "execution_count": 44,
     "metadata": {},
     "output_type": "execute_result"
    }
   ],
   "source": [
    "string2[2:8:2]"
   ]
  },
  {
   "cell_type": "code",
   "execution_count": 46,
   "id": "53734b40",
   "metadata": {},
   "outputs": [
    {
     "data": {
      "text/plain": [
       "'kjihgfedcba'"
      ]
     },
     "execution_count": 46,
     "metadata": {},
     "output_type": "execute_result"
    }
   ],
   "source": [
    "string2[::-1] #how to reverse a string"
   ]
  },
  {
   "cell_type": "code",
   "execution_count": 48,
   "id": "048b3de1",
   "metadata": {},
   "outputs": [
    {
     "data": {
      "text/plain": [
       "'r'"
      ]
     },
     "execution_count": 48,
     "metadata": {},
     "output_type": "execute_result"
    }
   ],
   "source": [
    "example = \"Hello World\"\n",
    "example[8]"
   ]
  },
  {
   "cell_type": "markdown",
   "id": "99621ed4",
   "metadata": {},
   "source": [
    "# String Properties and Methods"
   ]
  },
  {
   "cell_type": "markdown",
   "id": "b0b35912",
   "metadata": {},
   "source": [
    "Concatenation"
   ]
  },
  {
   "cell_type": "code",
   "execution_count": 50,
   "id": "e6558286",
   "metadata": {},
   "outputs": [],
   "source": [
    "name = 'Sam'"
   ]
  },
  {
   "cell_type": "code",
   "execution_count": 52,
   "id": "5d1cb9b0",
   "metadata": {},
   "outputs": [
    {
     "ename": "TypeError",
     "evalue": "'str' object does not support item assignment",
     "output_type": "error",
     "traceback": [
      "\u001b[1;31m---------------------------------------------------------------------------\u001b[0m",
      "\u001b[1;31mTypeError\u001b[0m                                 Traceback (most recent call last)",
      "\u001b[1;32m~\\AppData\\Local\\Temp\\ipykernel_6132\\1124764584.py\u001b[0m in \u001b[0;36m<module>\u001b[1;34m\u001b[0m\n\u001b[1;32m----> 1\u001b[1;33m \u001b[0mname\u001b[0m\u001b[1;33m[\u001b[0m\u001b[1;36m0\u001b[0m\u001b[1;33m]\u001b[0m \u001b[1;33m=\u001b[0m \u001b[1;34m'p'\u001b[0m \u001b[1;31m#Strings are immutable you can't change them on the fly like this\u001b[0m\u001b[1;33m\u001b[0m\u001b[1;33m\u001b[0m\u001b[0m\n\u001b[0m",
      "\u001b[1;31mTypeError\u001b[0m: 'str' object does not support item assignment"
     ]
    }
   ],
   "source": [
    "name[0] = 'p' #Strings are immutable you can't change them on the fly like this"
   ]
  },
  {
   "cell_type": "code",
   "execution_count": 56,
   "id": "d1400e6c",
   "metadata": {},
   "outputs": [],
   "source": [
    "newname = \"P\" + name[1:]"
   ]
  },
  {
   "cell_type": "code",
   "execution_count": 57,
   "id": "0d5556f4",
   "metadata": {},
   "outputs": [
    {
     "data": {
      "text/plain": [
       "'Pam'"
      ]
     },
     "execution_count": 57,
     "metadata": {},
     "output_type": "execute_result"
    }
   ],
   "source": [
    "newname"
   ]
  },
  {
   "cell_type": "markdown",
   "id": "f9c319d5",
   "metadata": {},
   "source": [
    "Can use numbers with strings too"
   ]
  },
  {
   "cell_type": "code",
   "execution_count": 58,
   "id": "36087ee4",
   "metadata": {},
   "outputs": [],
   "source": [
    "letter = \"z\""
   ]
  },
  {
   "cell_type": "code",
   "execution_count": 59,
   "id": "dc4a3a31",
   "metadata": {},
   "outputs": [
    {
     "data": {
      "text/plain": [
       "'zzzzzzzzzz'"
      ]
     },
     "execution_count": 59,
     "metadata": {},
     "output_type": "execute_result"
    }
   ],
   "source": [
    "letter * 10"
   ]
  },
  {
   "cell_type": "code",
   "execution_count": 60,
   "id": "c67930c7",
   "metadata": {},
   "outputs": [
    {
     "data": {
      "text/plain": [
       "5"
      ]
     },
     "execution_count": 60,
     "metadata": {},
     "output_type": "execute_result"
    }
   ],
   "source": [
    "2+3"
   ]
  },
  {
   "cell_type": "code",
   "execution_count": 63,
   "id": "76384b87",
   "metadata": {},
   "outputs": [
    {
     "data": {
      "text/plain": [
       "'23'"
      ]
     },
     "execution_count": 63,
     "metadata": {},
     "output_type": "execute_result"
    }
   ],
   "source": [
    "\"2\" + \"3\" # The 23 is a string not an actual number as we were expecting 5"
   ]
  },
  {
   "cell_type": "code",
   "execution_count": 64,
   "id": "e417c544",
   "metadata": {},
   "outputs": [],
   "source": [
    "num1 = \"2\" \n",
    "num2 = '3'"
   ]
  },
  {
   "cell_type": "code",
   "execution_count": 65,
   "id": "82602fff",
   "metadata": {},
   "outputs": [
    {
     "data": {
      "text/plain": [
       "5"
      ]
     },
     "execution_count": 65,
     "metadata": {},
     "output_type": "execute_result"
    }
   ],
   "source": [
    "int(num1) + int(num2)"
   ]
  },
  {
   "cell_type": "code",
   "execution_count": 67,
   "id": "6f93b95f",
   "metadata": {},
   "outputs": [],
   "source": [
    "x = \"HELLO WORLD\""
   ]
  },
  {
   "cell_type": "code",
   "execution_count": 69,
   "id": "40febd7d",
   "metadata": {},
   "outputs": [
    {
     "data": {
      "text/plain": [
       "'hello world'"
      ]
     },
     "execution_count": 69,
     "metadata": {},
     "output_type": "execute_result"
    }
   ],
   "source": [
    "x.lower()"
   ]
  },
  {
   "cell_type": "code",
   "execution_count": 70,
   "id": "0b2d5006",
   "metadata": {},
   "outputs": [],
   "source": [
    "#x. press tab after this to see built in functions"
   ]
  },
  {
   "cell_type": "code",
   "execution_count": 73,
   "id": "8d41dd4e",
   "metadata": {},
   "outputs": [
    {
     "data": {
      "text/plain": [
       "['HELLO', 'WORLD']"
      ]
     },
     "execution_count": 73,
     "metadata": {},
     "output_type": "execute_result"
    }
   ],
   "source": [
    "x.split() # Makes it a list based on space (by default)"
   ]
  },
  {
   "cell_type": "code",
   "execution_count": 75,
   "id": "a6b64c85",
   "metadata": {},
   "outputs": [
    {
     "data": {
      "text/plain": [
       "['HE', '', 'O WOR', 'D']"
      ]
     },
     "execution_count": 75,
     "metadata": {},
     "output_type": "execute_result"
    }
   ],
   "source": [
    "x.split('L') #Can use other things to split"
   ]
  },
  {
   "cell_type": "markdown",
   "id": "77574f85",
   "metadata": {},
   "source": [
    "## Print Formatting"
   ]
  },
  {
   "cell_type": "code",
   "execution_count": 76,
   "id": "3e75d738",
   "metadata": {},
   "outputs": [
    {
     "name": "stdout",
     "output_type": "stream",
     "text": [
      "this is a string INSERTED\n"
     ]
    }
   ],
   "source": [
    "print(\"this is a string {}\".format(\"INSERTED\"))"
   ]
  },
  {
   "cell_type": "code",
   "execution_count": 77,
   "id": "95d88e42",
   "metadata": {},
   "outputs": [],
   "source": [
    "example2 = \"My name is Paul {} and frogs are based\".format(\"Blessing\")"
   ]
  },
  {
   "cell_type": "code",
   "execution_count": 78,
   "id": "6b45806d",
   "metadata": {},
   "outputs": [
    {
     "data": {
      "text/plain": [
       "'My name is Paul Blessing and frogs are based'"
      ]
     },
     "execution_count": 78,
     "metadata": {},
     "output_type": "execute_result"
    }
   ],
   "source": [
    "example2"
   ]
  },
  {
   "cell_type": "code",
   "execution_count": 79,
   "id": "3ad162c5",
   "metadata": {},
   "outputs": [
    {
     "name": "stdout",
     "output_type": "stream",
     "text": [
      "The White Fox Leapt\n"
     ]
    }
   ],
   "source": [
    "print(\"The {} {} {}\".format(\"White\", \"Fox\", \"Leapt\"))"
   ]
  },
  {
   "cell_type": "code",
   "execution_count": 81,
   "id": "fa92925a",
   "metadata": {},
   "outputs": [
    {
     "name": "stdout",
     "output_type": "stream",
     "text": [
      "The Leapt White Fox\n"
     ]
    }
   ],
   "source": [
    "print(\"The {2} {0} {1}\".format(\"White\", \"Fox\", \"Leapt\")) # Can explicetly place the formatted strings"
   ]
  },
  {
   "cell_type": "code",
   "execution_count": 83,
   "id": "7b13b68f",
   "metadata": {},
   "outputs": [
    {
     "name": "stdout",
     "output_type": "stream",
     "text": [
      "The White Fox Leapt\n"
     ]
    }
   ],
   "source": [
    "print(\"The {w} {f} {l}\".format(f = \"Fox\", w = \"White\", l = \"Leapt\"))"
   ]
  },
  {
   "cell_type": "code",
   "execution_count": 84,
   "id": "57b6f55b",
   "metadata": {},
   "outputs": [
    {
     "name": "stdout",
     "output_type": "stream",
     "text": [
      "The Fox Fox Fox\n"
     ]
    }
   ],
   "source": [
    "print(\"The {f} {f} {f}\".format(f = \"Fox\", w = \"White\", l = \"Leapt\"))"
   ]
  },
  {
   "cell_type": "code",
   "execution_count": 85,
   "id": "e0a4c733",
   "metadata": {},
   "outputs": [],
   "source": [
    "result = 100/777"
   ]
  },
  {
   "cell_type": "code",
   "execution_count": 86,
   "id": "89ed374d",
   "metadata": {},
   "outputs": [
    {
     "data": {
      "text/plain": [
       "0.1287001287001287"
      ]
     },
     "execution_count": 86,
     "metadata": {},
     "output_type": "execute_result"
    }
   ],
   "source": [
    "result"
   ]
  },
  {
   "cell_type": "code",
   "execution_count": 89,
   "id": "165bc958",
   "metadata": {},
   "outputs": [
    {
     "name": "stdout",
     "output_type": "stream",
     "text": [
      "The result was 0.1287001287001287\n"
     ]
    }
   ],
   "source": [
    "print(\"The result was {}\".format(result))"
   ]
  },
  {
   "cell_type": "markdown",
   "id": "a7d07bd4",
   "metadata": {},
   "source": [
    "**Float formatting follows \"{Value:width.precision f}\"**"
   ]
  },
  {
   "cell_type": "code",
   "execution_count": 95,
   "id": "740afd0d",
   "metadata": {},
   "outputs": [
    {
     "name": "stdout",
     "output_type": "stream",
     "text": [
      "The result was 0.129\n"
     ]
    }
   ],
   "source": [
    "print(\"The result was {r:2.3f}\".format(r= result))"
   ]
  },
  {
   "cell_type": "code",
   "execution_count": 96,
   "id": "0a208ee0",
   "metadata": {},
   "outputs": [
    {
     "name": "stdout",
     "output_type": "stream",
     "text": [
      "The result was      0.129\n"
     ]
    }
   ],
   "source": [
    "print(\"The result was {r:10.3f}\".format(r= result))"
   ]
  },
  {
   "cell_type": "code",
   "execution_count": 97,
   "id": "9dc02165",
   "metadata": {},
   "outputs": [],
   "source": [
    "name = \"Paul\""
   ]
  },
  {
   "cell_type": "code",
   "execution_count": 98,
   "id": "47f32d9c",
   "metadata": {},
   "outputs": [
    {
     "name": "stdout",
     "output_type": "stream",
     "text": [
      "Hello, his name is Paul\n"
     ]
    }
   ],
   "source": [
    "print('Hello, his name is {}'.format(name))"
   ]
  },
  {
   "cell_type": "markdown",
   "id": "e7df9fc6",
   "metadata": {},
   "source": [
    "**f string is another option**"
   ]
  },
  {
   "cell_type": "code",
   "execution_count": 99,
   "id": "edb347c4",
   "metadata": {},
   "outputs": [
    {
     "name": "stdout",
     "output_type": "stream",
     "text": [
      "Hello, his name is Paul\n"
     ]
    }
   ],
   "source": [
    "print(f\"Hello, his name is {name}\")"
   ]
  },
  {
   "cell_type": "markdown",
   "id": "9ecb2a95",
   "metadata": {},
   "source": [
    "I Think I prefer this method"
   ]
  },
  {
   "cell_type": "code",
   "execution_count": 100,
   "id": "98d3b2da",
   "metadata": {},
   "outputs": [],
   "source": [
    "name = \"Aurora\"\n",
    "age = 2"
   ]
  },
  {
   "cell_type": "code",
   "execution_count": 101,
   "id": "5670a0ac",
   "metadata": {},
   "outputs": [
    {
     "name": "stdout",
     "output_type": "stream",
     "text": [
      "Aurora is 2 years old\n"
     ]
    }
   ],
   "source": [
    "print(f\"{name} is {age} years old\")"
   ]
  },
  {
   "cell_type": "markdown",
   "id": "35abac46",
   "metadata": {},
   "source": [
    "**Playing with stuff from the course notebook on this chapter**"
   ]
  },
  {
   "cell_type": "code",
   "execution_count": 102,
   "id": "3b077079",
   "metadata": {},
   "outputs": [
    {
     "name": "stdout",
     "output_type": "stream",
     "text": [
      "Fruit    | Quantity \n",
      "Apples   |       3.0\n",
      "Oranges  |        10\n"
     ]
    }
   ],
   "source": [
    "print('{0:8} | {1:9}'.format('Fruit', 'Quantity'))\n",
    "print('{0:8} | {1:9}'.format('Apples', 3.))\n",
    "print('{0:8} | {1:9}'.format('Oranges', 10))"
   ]
  },
  {
   "cell_type": "code",
   "execution_count": 118,
   "id": "8286050e",
   "metadata": {},
   "outputs": [
    {
     "name": "stdout",
     "output_type": "stream",
     "text": [
      "Fruit | Quantity  \n",
      "Apples |       3.0\n",
      "Oranges                |        10\n"
     ]
    }
   ],
   "source": [
    "print('{0:1} | {1:10}'.format('Fruit', 'Quantity'))\n",
    "print('{0:2} | {1:9}'.format('Apples', 3.))\n",
    "print('{0:22} | {1:9}'.format('Oranges', 10))"
   ]
  },
  {
   "cell_type": "markdown",
   "id": "ae51cbbb",
   "metadata": {},
   "source": [
    "By default, .format() aligns text to the left, numbers to the right. You can pass an optional <,^, or > to set a left, center or right alignment:"
   ]
  },
  {
   "cell_type": "code",
   "execution_count": 127,
   "id": "9606ddd8",
   "metadata": {},
   "outputs": [
    {
     "name": "stdout",
     "output_type": "stream",
     "text": [
      "Left     |  Center  |    Right\n",
      "11       |    22    |       33\n"
     ]
    }
   ],
   "source": [
    "print('{0:<8} | {1:^8} | {2:>8}'.format('Left','Center','Right'))\n",
    "print('{0:<8} | {1:^8} | {2:>8}'.format(11,22,33))"
   ]
  },
  {
   "cell_type": "code",
   "execution_count": 130,
   "id": "bf52e81c",
   "metadata": {},
   "outputs": [
    {
     "ename": "IndexError",
     "evalue": "Replacement index 0 out of range for positional args tuple",
     "output_type": "error",
     "traceback": [
      "\u001b[1;31m---------------------------------------------------------------------------\u001b[0m",
      "\u001b[1;31mIndexError\u001b[0m                                Traceback (most recent call last)",
      "\u001b[1;32m~\\AppData\\Local\\Temp\\ipykernel_6132\\4268186871.py\u001b[0m in \u001b[0;36m<module>\u001b[1;34m\u001b[0m\n\u001b[1;32m----> 1\u001b[1;33m \u001b[0mprint\u001b[0m\u001b[1;33m(\u001b[0m\u001b[1;34m'{0:<8} | {1:^8} | {2:>8}'\u001b[0m\u001b[1;33m.\u001b[0m\u001b[0mformat\u001b[0m\u001b[1;33m(\u001b[0m\u001b[0ml\u001b[0m \u001b[1;33m=\u001b[0m \u001b[1;34m'Left'\u001b[0m\u001b[1;33m,\u001b[0m \u001b[0mc\u001b[0m \u001b[1;33m=\u001b[0m \u001b[1;34m'Center'\u001b[0m\u001b[1;33m,\u001b[0m \u001b[0mr\u001b[0m \u001b[1;33m=\u001b[0m \u001b[1;34m'Right'\u001b[0m\u001b[1;33m)\u001b[0m\u001b[1;33m)\u001b[0m\u001b[1;33m\u001b[0m\u001b[1;33m\u001b[0m\u001b[0m\n\u001b[0m\u001b[0;32m      2\u001b[0m \u001b[0mprint\u001b[0m\u001b[1;33m(\u001b[0m\u001b[1;34m'{0:<8} | {1:^8} | {2:>8}'\u001b[0m\u001b[1;33m.\u001b[0m\u001b[0mformat\u001b[0m\u001b[1;33m(\u001b[0m\u001b[1;36m11\u001b[0m\u001b[1;33m,\u001b[0m\u001b[1;36m22\u001b[0m\u001b[1;33m,\u001b[0m\u001b[1;36m33\u001b[0m\u001b[1;33m)\u001b[0m\u001b[1;33m)\u001b[0m\u001b[1;33m\u001b[0m\u001b[1;33m\u001b[0m\u001b[0m\n",
      "\u001b[1;31mIndexError\u001b[0m: Replacement index 0 out of range for positional args tuple"
     ]
    }
   ],
   "source": [
    "print('{0:<8} | {1:^8} | {2:>8}'.format(l = 'Left', c = 'Center', r = 'Right'))\n",
    "print('{0:<8} | {1:^8} | {2:>8}'.format(11,22,33))"
   ]
  },
  {
   "cell_type": "markdown",
   "id": "63270e4b",
   "metadata": {},
   "source": [
    "You can precede the aligment operator with a padding character"
   ]
  },
  {
   "cell_type": "code",
   "execution_count": 131,
   "id": "379a565f",
   "metadata": {},
   "outputs": [
    {
     "name": "stdout",
     "output_type": "stream",
     "text": [
      "Left==== | -Center- | ...Right\n",
      "11====== | ---22--- | ......33\n"
     ]
    }
   ],
   "source": [
    "print('{0:=<8} | {1:-^8} | {2:.>8}'.format('Left','Center','Right'))\n",
    "print('{0:=<8} | {1:-^8} | {2:.>8}'.format(11,22,33))"
   ]
  },
  {
   "cell_type": "markdown",
   "id": "684efdcd",
   "metadata": {},
   "source": [
    "Field widths and float precision are handled in a way similar to placeholders. The following print statements are equivalent:"
   ]
  },
  {
   "cell_type": "code",
   "execution_count": 133,
   "id": "ab9043fd",
   "metadata": {},
   "outputs": [
    {
     "name": "stdout",
     "output_type": "stream",
     "text": [
      "This is my ten-character, two-decimal number:     13.58\n"
     ]
    }
   ],
   "source": [
    "print('This is my ten-character, two-decimal number:{num:10.2f}'.format(num = 13.579))"
   ]
  },
  {
   "cell_type": "markdown",
   "id": "64f1754e",
   "metadata": {},
   "source": [
    "## Float formatting follows \"result: {value:{width}.{precision}}\" \n",
    "Where with the .format() method you might see {value:10.4f}, with f-strings this can become {value:{10}.{6}}"
   ]
  },
  {
   "cell_type": "code",
   "execution_count": 135,
   "id": "4349298c",
   "metadata": {},
   "outputs": [
    {
     "name": "stdout",
     "output_type": "stream",
     "text": [
      "My 10 character, four decimal number is:   23.4568\n",
      "My 10 character, four decimal number is:   23.4568\n"
     ]
    }
   ],
   "source": [
    "num = 23.45678\n",
    "print(\"My 10 character, four decimal number is:{0:10.4f}\".format(num)) # for .format 4 is digits after decimal\n",
    "print(f\"My 10 character, four decimal number is:{num:{10}.{6}}\") # The 6 is the total number of digits"
   ]
  },
  {
   "cell_type": "markdown",
   "id": "2e65e18b",
   "metadata": {},
   "source": [
    "Note that with f-strings, precision refers to the total number of digits, not just those following the decimal. This fits more closely with scientific notation and statistical analysis. Unfortunately, f-strings do not pad to the right of the decimal, even if precision allows it:"
   ]
  },
  {
   "cell_type": "code",
   "execution_count": 136,
   "id": "592aff4f",
   "metadata": {},
   "outputs": [
    {
     "name": "stdout",
     "output_type": "stream",
     "text": [
      "My 10 character, four decimal number is:   23.4500\n",
      "My 10 character, four decimal number is:     23.45\n"
     ]
    }
   ],
   "source": [
    "num = 23.45\n",
    "print(\"My 10 character, four decimal number is:{0:10.4f}\".format(num))\n",
    "print(f\"My 10 character, four decimal number is:{num:{10}.{6}}\")"
   ]
  },
  {
   "cell_type": "markdown",
   "id": "6cebd29d",
   "metadata": {},
   "source": [
    "If this becomes important, you can always use .format() method syntax inside an f-string:"
   ]
  },
  {
   "cell_type": "code",
   "execution_count": 143,
   "id": "994e681b",
   "metadata": {},
   "outputs": [
    {
     "name": "stdout",
     "output_type": "stream",
     "text": [
      "My 10 character, four decimal number is:   23.4500\n",
      "My 10 character, four decimal number is:   23.4500\n"
     ]
    }
   ],
   "source": [
    "num = 23.45\n",
    "print(\"My 10 character, four decimal number is:{0:10.4f}\".format(num))\n",
    "print(f\"My 10 character, four decimal number is:{num:10.4f}\")"
   ]
  },
  {
   "cell_type": "code",
   "execution_count": 142,
   "id": "6c3968fe",
   "metadata": {},
   "outputs": [
    {
     "name": "stdout",
     "output_type": "stream",
     "text": [
      "My 10 character, four decimal number is:   23.4500\n",
      "My 10 character, four decimal number is:     23.45\n"
     ]
    }
   ],
   "source": [
    "num = 23.45\n",
    "print(\"My 10 character, four decimal number is:{0:10.4f}\".format(num))\n",
    "print(f\"My 10 character, four decimal number is:{num:{10}.{6}}\") # See with this I can't get the extra zeros"
   ]
  },
  {
   "cell_type": "code",
   "execution_count": null,
   "id": "dbdfebb2",
   "metadata": {},
   "outputs": [],
   "source": []
  }
 ],
 "metadata": {
  "kernelspec": {
   "display_name": "Python 3 (ipykernel)",
   "language": "python",
   "name": "python3"
  },
  "language_info": {
   "codemirror_mode": {
    "name": "ipython",
    "version": 3
   },
   "file_extension": ".py",
   "mimetype": "text/x-python",
   "name": "python",
   "nbconvert_exporter": "python",
   "pygments_lexer": "ipython3",
   "version": "3.9.13"
  }
 },
 "nbformat": 4,
 "nbformat_minor": 5
}
