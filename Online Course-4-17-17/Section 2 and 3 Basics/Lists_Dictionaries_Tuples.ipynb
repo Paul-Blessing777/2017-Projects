{
 "cells": [
  {
   "cell_type": "markdown",
   "id": "d18eaacf",
   "metadata": {},
   "source": [
    "# Lists"
   ]
  },
  {
   "cell_type": "code",
   "execution_count": 1,
   "id": "00c51165",
   "metadata": {},
   "outputs": [],
   "source": [
    "mylist = [1,2,3]"
   ]
  },
  {
   "cell_type": "code",
   "execution_count": 2,
   "id": "36f41156",
   "metadata": {},
   "outputs": [
    {
     "data": {
      "text/plain": [
       "[1, 2, 3]"
      ]
     },
     "execution_count": 2,
     "metadata": {},
     "output_type": "execute_result"
    }
   ],
   "source": [
    "mylist"
   ]
  },
  {
   "cell_type": "code",
   "execution_count": 3,
   "id": "81f466e8",
   "metadata": {},
   "outputs": [],
   "source": [
    "mylist = [\"hello\", 2, 3.21]"
   ]
  },
  {
   "cell_type": "code",
   "execution_count": 4,
   "id": "a13ac9d1",
   "metadata": {},
   "outputs": [
    {
     "data": {
      "text/plain": [
       "['hello', 2, 3.21]"
      ]
     },
     "execution_count": 4,
     "metadata": {},
     "output_type": "execute_result"
    }
   ],
   "source": [
    "mylist"
   ]
  },
  {
   "cell_type": "code",
   "execution_count": 5,
   "id": "efe5e514",
   "metadata": {},
   "outputs": [
    {
     "data": {
      "text/plain": [
       "3"
      ]
     },
     "execution_count": 5,
     "metadata": {},
     "output_type": "execute_result"
    }
   ],
   "source": [
    "len(mylist)"
   ]
  },
  {
   "cell_type": "markdown",
   "id": "0fdab61f",
   "metadata": {},
   "source": [
    "**Can Index lists**"
   ]
  },
  {
   "cell_type": "code",
   "execution_count": 6,
   "id": "0380f834",
   "metadata": {},
   "outputs": [
    {
     "data": {
      "text/plain": [
       "'hello'"
      ]
     },
     "execution_count": 6,
     "metadata": {},
     "output_type": "execute_result"
    }
   ],
   "source": [
    "mylist[0]"
   ]
  },
  {
   "cell_type": "code",
   "execution_count": 7,
   "id": "fcea6de0",
   "metadata": {},
   "outputs": [
    {
     "data": {
      "text/plain": [
       "3.21"
      ]
     },
     "execution_count": 7,
     "metadata": {},
     "output_type": "execute_result"
    }
   ],
   "source": [
    "mylist[2]"
   ]
  },
  {
   "cell_type": "markdown",
   "id": "e56296a7",
   "metadata": {},
   "source": [
    "**Can Also Slice"
   ]
  },
  {
   "cell_type": "code",
   "execution_count": 20,
   "id": "346baf2b",
   "metadata": {},
   "outputs": [
    {
     "data": {
      "text/plain": [
       "[2, 3.21]"
      ]
     },
     "execution_count": 20,
     "metadata": {},
     "output_type": "execute_result"
    }
   ],
   "source": [
    "mylist[1:]"
   ]
  },
  {
   "cell_type": "code",
   "execution_count": 21,
   "id": "28cdcc7c",
   "metadata": {},
   "outputs": [],
   "source": [
    "another_list = [4, 5]"
   ]
  },
  {
   "cell_type": "code",
   "execution_count": 22,
   "id": "676a3963",
   "metadata": {},
   "outputs": [],
   "source": [
    "new_list = mylist+another_list"
   ]
  },
  {
   "cell_type": "code",
   "execution_count": 23,
   "id": "f12f11f1",
   "metadata": {},
   "outputs": [
    {
     "data": {
      "text/plain": [
       "['hello', 2, 3.21, 4, 5]"
      ]
     },
     "execution_count": 23,
     "metadata": {},
     "output_type": "execute_result"
    }
   ],
   "source": [
    "new_list"
   ]
  },
  {
   "cell_type": "code",
   "execution_count": 24,
   "id": "5ce0132b",
   "metadata": {},
   "outputs": [],
   "source": [
    "new_list[1] = \"YO\""
   ]
  },
  {
   "cell_type": "code",
   "execution_count": 25,
   "id": "60f7f5ab",
   "metadata": {},
   "outputs": [
    {
     "data": {
      "text/plain": [
       "['hello', 'YO', 3.21, 4, 5]"
      ]
     },
     "execution_count": 25,
     "metadata": {},
     "output_type": "execute_result"
    }
   ],
   "source": [
    "new_list"
   ]
  },
  {
   "cell_type": "code",
   "execution_count": 34,
   "id": "822437e4",
   "metadata": {},
   "outputs": [],
   "source": [
    "new_list.append(\"monkey\") # Can use .append() method to add something to the end of the list"
   ]
  },
  {
   "cell_type": "code",
   "execution_count": 35,
   "id": "8fa104bf",
   "metadata": {},
   "outputs": [
    {
     "data": {
      "text/plain": [
       "['hello', 'YO', 3.21, 4, 5, 'monkey']"
      ]
     },
     "execution_count": 35,
     "metadata": {},
     "output_type": "execute_result"
    }
   ],
   "source": [
    "new_list"
   ]
  },
  {
   "cell_type": "code",
   "execution_count": 32,
   "id": "72572d4f",
   "metadata": {},
   "outputs": [
    {
     "data": {
      "text/plain": [
       "'monkey'"
      ]
     },
     "execution_count": 32,
     "metadata": {},
     "output_type": "execute_result"
    }
   ],
   "source": [
    "new_list.pop() # takes off the last index of a list"
   ]
  },
  {
   "cell_type": "code",
   "execution_count": 33,
   "id": "ab477de0",
   "metadata": {},
   "outputs": [
    {
     "data": {
      "text/plain": [
       "['hello', 'YO', 3.21, 4, 5]"
      ]
     },
     "execution_count": 33,
     "metadata": {},
     "output_type": "execute_result"
    }
   ],
   "source": [
    "new_list"
   ]
  },
  {
   "cell_type": "code",
   "execution_count": 36,
   "id": "dba19d4b",
   "metadata": {},
   "outputs": [],
   "source": [
    "popped_item = new_list.pop() # Can save popped object"
   ]
  },
  {
   "cell_type": "code",
   "execution_count": 37,
   "id": "498ff77f",
   "metadata": {},
   "outputs": [
    {
     "data": {
      "text/plain": [
       "'monkey'"
      ]
     },
     "execution_count": 37,
     "metadata": {},
     "output_type": "execute_result"
    }
   ],
   "source": [
    "popped_item"
   ]
  },
  {
   "cell_type": "code",
   "execution_count": 38,
   "id": "eb79c971",
   "metadata": {},
   "outputs": [
    {
     "data": {
      "text/plain": [
       "'YO'"
      ]
     },
     "execution_count": 38,
     "metadata": {},
     "output_type": "execute_result"
    }
   ],
   "source": [
    "new_list.pop(1) # Can pass in index num as a variable"
   ]
  },
  {
   "cell_type": "code",
   "execution_count": 39,
   "id": "646acf7e",
   "metadata": {},
   "outputs": [],
   "source": [
    "new_list = ['a', 'e', 'x', 'b', 'c']"
   ]
  },
  {
   "cell_type": "code",
   "execution_count": 40,
   "id": "eba6cfe5",
   "metadata": {},
   "outputs": [],
   "source": [
    "num_list = [4,1,8,3]"
   ]
  },
  {
   "cell_type": "code",
   "execution_count": 44,
   "id": "3c5480d7",
   "metadata": {},
   "outputs": [
    {
     "data": {
      "text/plain": [
       "['a', 'b', 'c', 'e', 'x']"
      ]
     },
     "execution_count": 44,
     "metadata": {},
     "output_type": "execute_result"
    }
   ],
   "source": [
    "new_list.sort() # sort changes the actual object, so no need to reassaign the changes to a new one\n",
    "new_list"
   ]
  },
  {
   "cell_type": "code",
   "execution_count": 45,
   "id": "b3c71958",
   "metadata": {},
   "outputs": [],
   "source": [
    "# For example\n",
    "sorted_list = new_list.sort()"
   ]
  },
  {
   "cell_type": "code",
   "execution_count": 46,
   "id": "b4ddfe05",
   "metadata": {},
   "outputs": [],
   "source": [
    "sorted_list"
   ]
  },
  {
   "cell_type": "code",
   "execution_count": 48,
   "id": "3b046f4a",
   "metadata": {},
   "outputs": [
    {
     "data": {
      "text/plain": [
       "NoneType"
      ]
     },
     "execution_count": 48,
     "metadata": {},
     "output_type": "execute_result"
    }
   ],
   "source": [
    "type(sorted_list) # As you can see that didn't work"
   ]
  },
  {
   "cell_type": "code",
   "execution_count": 49,
   "id": "8ee72930",
   "metadata": {},
   "outputs": [],
   "source": [
    "# Can do this if you wanted though\n",
    "new_list.sort()\n",
    "sorted_list = new_list"
   ]
  },
  {
   "cell_type": "code",
   "execution_count": 50,
   "id": "0431c54a",
   "metadata": {},
   "outputs": [
    {
     "data": {
      "text/plain": [
       "['a', 'b', 'c', 'e', 'x']"
      ]
     },
     "execution_count": 50,
     "metadata": {},
     "output_type": "execute_result"
    }
   ],
   "source": [
    "sorted_list"
   ]
  },
  {
   "cell_type": "code",
   "execution_count": 51,
   "id": "78f8fbc2",
   "metadata": {},
   "outputs": [
    {
     "data": {
      "text/plain": [
       "[4, 1, 8, 3]"
      ]
     },
     "execution_count": 51,
     "metadata": {},
     "output_type": "execute_result"
    }
   ],
   "source": [
    "num_list"
   ]
  },
  {
   "cell_type": "code",
   "execution_count": 52,
   "id": "8caf7f06",
   "metadata": {},
   "outputs": [],
   "source": [
    "num_list.sort()"
   ]
  },
  {
   "cell_type": "code",
   "execution_count": 53,
   "id": "cf9111d3",
   "metadata": {},
   "outputs": [
    {
     "data": {
      "text/plain": [
       "[1, 3, 4, 8]"
      ]
     },
     "execution_count": 53,
     "metadata": {},
     "output_type": "execute_result"
    }
   ],
   "source": [
    "num_list"
   ]
  },
  {
   "cell_type": "code",
   "execution_count": 54,
   "id": "3b82121d",
   "metadata": {},
   "outputs": [],
   "source": [
    "num_list.reverse()"
   ]
  },
  {
   "cell_type": "code",
   "execution_count": 55,
   "id": "736f42c9",
   "metadata": {},
   "outputs": [
    {
     "data": {
      "text/plain": [
       "[8, 4, 3, 1]"
      ]
     },
     "execution_count": 55,
     "metadata": {},
     "output_type": "execute_result"
    }
   ],
   "source": [
    "num_list"
   ]
  },
  {
   "cell_type": "markdown",
   "id": "3f74133a",
   "metadata": {},
   "source": [
    "# Dictionaries"
   ]
  },
  {
   "cell_type": "markdown",
   "id": "9baf0cfe",
   "metadata": {},
   "source": [
    "Unordered mappings for storing objects. They use key-value pairs; don't need index"
   ]
  },
  {
   "cell_type": "markdown",
   "id": "dededf79",
   "metadata": {},
   "source": [
    "Use the following notation: {key1:value1, key2:value2}"
   ]
  },
  {
   "cell_type": "code",
   "execution_count": 56,
   "id": "65ceef09",
   "metadata": {},
   "outputs": [],
   "source": [
    "my_dictionary = {\"key1\":\"value1\", 'key2': 'value2'}"
   ]
  },
  {
   "cell_type": "code",
   "execution_count": 57,
   "id": "c423d6fe",
   "metadata": {},
   "outputs": [
    {
     "data": {
      "text/plain": [
       "{'key1': 'value1', 'key2': 'value2'}"
      ]
     },
     "execution_count": 57,
     "metadata": {},
     "output_type": "execute_result"
    }
   ],
   "source": [
    "my_dictionary"
   ]
  },
  {
   "cell_type": "code",
   "execution_count": 58,
   "id": "e7b8ae74",
   "metadata": {},
   "outputs": [
    {
     "data": {
      "text/plain": [
       "'value1'"
      ]
     },
     "execution_count": 58,
     "metadata": {},
     "output_type": "execute_result"
    }
   ],
   "source": [
    "my_dictionary['key1']"
   ]
  },
  {
   "cell_type": "code",
   "execution_count": 60,
   "id": "66b72ae2",
   "metadata": {},
   "outputs": [
    {
     "ename": "TypeError",
     "evalue": "'dict' object is not callable",
     "output_type": "error",
     "traceback": [
      "\u001b[1;31m---------------------------------------------------------------------------\u001b[0m",
      "\u001b[1;31mTypeError\u001b[0m                                 Traceback (most recent call last)",
      "\u001b[1;32m~\\AppData\\Local\\Temp\\ipykernel_20508\\3287874237.py\u001b[0m in \u001b[0;36m<module>\u001b[1;34m\u001b[0m\n\u001b[1;32m----> 1\u001b[1;33m \u001b[0mmy_dictionary\u001b[0m\u001b[1;33m(\u001b[0m\u001b[1;34m'value1'\u001b[0m\u001b[1;33m)\u001b[0m \u001b[1;31m# Can't call the value it seems\u001b[0m\u001b[1;33m\u001b[0m\u001b[1;33m\u001b[0m\u001b[0m\n\u001b[0m",
      "\u001b[1;31mTypeError\u001b[0m: 'dict' object is not callable"
     ]
    }
   ],
   "source": [
    "my_dictionary('value1') # Can't call the value it seems"
   ]
  },
  {
   "cell_type": "code",
   "execution_count": 64,
   "id": "489ff664",
   "metadata": {},
   "outputs": [],
   "source": [
    "prices_lookup = {'apple' : 2.99, 'banana': 3.7, 'strawberry': 5.2}"
   ]
  },
  {
   "cell_type": "code",
   "execution_count": 65,
   "id": "bf146728",
   "metadata": {},
   "outputs": [
    {
     "data": {
      "text/plain": [
       "5.2"
      ]
     },
     "execution_count": 65,
     "metadata": {},
     "output_type": "execute_result"
    }
   ],
   "source": [
    "prices_lookup['strawberry']"
   ]
  },
  {
   "cell_type": "code",
   "execution_count": 70,
   "id": "24c0e1b0",
   "metadata": {},
   "outputs": [],
   "source": [
    "d = {'k1':123, 'k2':[7,11,0], 'k3':{'kk1':\"hello\", 'kk2':'goodbye'}}"
   ]
  },
  {
   "cell_type": "code",
   "execution_count": 71,
   "id": "cf717444",
   "metadata": {},
   "outputs": [
    {
     "data": {
      "text/plain": [
       "123"
      ]
     },
     "execution_count": 71,
     "metadata": {},
     "output_type": "execute_result"
    }
   ],
   "source": [
    "d['k1']"
   ]
  },
  {
   "cell_type": "code",
   "execution_count": 75,
   "id": "ce4b136a",
   "metadata": {},
   "outputs": [
    {
     "data": {
      "text/plain": [
       "'hello'"
      ]
     },
     "execution_count": 75,
     "metadata": {},
     "output_type": "execute_result"
    }
   ],
   "source": [
    "d['k3']['kk1'] #calling from the embedded dictionary"
   ]
  },
  {
   "cell_type": "code",
   "execution_count": 76,
   "id": "393a4b74",
   "metadata": {},
   "outputs": [
    {
     "data": {
      "text/plain": [
       "11"
      ]
     },
     "execution_count": 76,
     "metadata": {},
     "output_type": "execute_result"
    }
   ],
   "source": [
    "d['k2'][1] # Calling from embedded list"
   ]
  },
  {
   "cell_type": "code",
   "execution_count": 77,
   "id": "758ba3b7",
   "metadata": {},
   "outputs": [],
   "source": [
    "d = {'k1':['a','b','c']}"
   ]
  },
  {
   "cell_type": "code",
   "execution_count": 79,
   "id": "5f0e1bfa",
   "metadata": {},
   "outputs": [],
   "source": [
    "upper_case_c = d['k1'][2].upper()"
   ]
  },
  {
   "cell_type": "code",
   "execution_count": 80,
   "id": "fd09ff4a",
   "metadata": {},
   "outputs": [
    {
     "data": {
      "text/plain": [
       "'C'"
      ]
     },
     "execution_count": 80,
     "metadata": {},
     "output_type": "execute_result"
    }
   ],
   "source": [
    "upper_case_c"
   ]
  },
  {
   "cell_type": "code",
   "execution_count": 83,
   "id": "8f6e3f57",
   "metadata": {},
   "outputs": [],
   "source": [
    "d = {'k1':100, 'k2':200}"
   ]
  },
  {
   "cell_type": "code",
   "execution_count": 84,
   "id": "afedaf10",
   "metadata": {},
   "outputs": [],
   "source": [
    "d['k1'] = 300 #Can modify a dictionary"
   ]
  },
  {
   "cell_type": "code",
   "execution_count": 85,
   "id": "22bdc8cb",
   "metadata": {},
   "outputs": [
    {
     "data": {
      "text/plain": [
       "{'k1': 300, 'k2': 200}"
      ]
     },
     "execution_count": 85,
     "metadata": {},
     "output_type": "execute_result"
    }
   ],
   "source": [
    "d"
   ]
  },
  {
   "cell_type": "code",
   "execution_count": 86,
   "id": "2c120c25",
   "metadata": {},
   "outputs": [],
   "source": [
    "d['k3'] = 400 # Can add to the dictionary"
   ]
  },
  {
   "cell_type": "code",
   "execution_count": 87,
   "id": "ca0e6a74",
   "metadata": {},
   "outputs": [
    {
     "data": {
      "text/plain": [
       "{'k1': 300, 'k2': 200, 'k3': 400}"
      ]
     },
     "execution_count": 87,
     "metadata": {},
     "output_type": "execute_result"
    }
   ],
   "source": [
    "d"
   ]
  },
  {
   "cell_type": "code",
   "execution_count": 90,
   "id": "663ae3b0",
   "metadata": {},
   "outputs": [
    {
     "data": {
      "text/plain": [
       "dict_keys(['k1', 'k2', 'k3'])"
      ]
     },
     "execution_count": 90,
     "metadata": {},
     "output_type": "execute_result"
    }
   ],
   "source": [
    "d.keys() # method gives all keys"
   ]
  },
  {
   "cell_type": "code",
   "execution_count": 91,
   "id": "0e0afb68",
   "metadata": {},
   "outputs": [
    {
     "data": {
      "text/plain": [
       "dict_values([300, 200, 400])"
      ]
     },
     "execution_count": 91,
     "metadata": {},
     "output_type": "execute_result"
    }
   ],
   "source": [
    "d.values() # method returns all values"
   ]
  },
  {
   "cell_type": "code",
   "execution_count": 93,
   "id": "67771062",
   "metadata": {},
   "outputs": [
    {
     "data": {
      "text/plain": [
       "dict_items([('k1', 300), ('k2', 200), ('k3', 400)])"
      ]
     },
     "execution_count": 93,
     "metadata": {},
     "output_type": "execute_result"
    }
   ],
   "source": [
    "d.items() # gives the keys and their values"
   ]
  },
  {
   "cell_type": "markdown",
   "id": "3644d873",
   "metadata": {},
   "source": [
    "# Tuples"
   ]
  },
  {
   "cell_type": "markdown",
   "id": "a21476df",
   "metadata": {},
   "source": [
    "Similar to lists; However, they are immutable. Can't reassaign elements in them <br />\n",
    "Use paranthesis: (1,2,3)"
   ]
  },
  {
   "cell_type": "code",
   "execution_count": 94,
   "id": "096ee284",
   "metadata": {},
   "outputs": [],
   "source": [
    "t = (1,2,3)"
   ]
  },
  {
   "cell_type": "code",
   "execution_count": 95,
   "id": "7bade6e9",
   "metadata": {},
   "outputs": [],
   "source": [
    "my_list = [1,2,3]"
   ]
  },
  {
   "cell_type": "code",
   "execution_count": 97,
   "id": "2571e0ad",
   "metadata": {},
   "outputs": [
    {
     "name": "stdout",
     "output_type": "stream",
     "text": [
      "<class 'tuple'>\n",
      "<class 'list'>\n"
     ]
    }
   ],
   "source": [
    "print(type(t))\n",
    "print(type(my_list))"
   ]
  },
  {
   "cell_type": "code",
   "execution_count": 98,
   "id": "236cd125",
   "metadata": {},
   "outputs": [
    {
     "data": {
      "text/plain": [
       "3"
      ]
     },
     "execution_count": 98,
     "metadata": {},
     "output_type": "execute_result"
    }
   ],
   "source": [
    "t[2]"
   ]
  },
  {
   "cell_type": "code",
   "execution_count": 99,
   "id": "0f520f35",
   "metadata": {},
   "outputs": [
    {
     "data": {
      "text/plain": [
       "3"
      ]
     },
     "execution_count": 99,
     "metadata": {},
     "output_type": "execute_result"
    }
   ],
   "source": [
    "t[-1]"
   ]
  },
  {
   "cell_type": "code",
   "execution_count": 100,
   "id": "397a5091",
   "metadata": {},
   "outputs": [],
   "source": [
    "t = ('a', 'a', 'b')"
   ]
  },
  {
   "cell_type": "code",
   "execution_count": 103,
   "id": "40b4eab3",
   "metadata": {},
   "outputs": [
    {
     "data": {
      "text/plain": [
       "2"
      ]
     },
     "execution_count": 103,
     "metadata": {},
     "output_type": "execute_result"
    }
   ],
   "source": [
    "t.count('a') # Count method *must have input for method to work"
   ]
  },
  {
   "cell_type": "code",
   "execution_count": 105,
   "id": "c76ef01e",
   "metadata": {},
   "outputs": [
    {
     "data": {
      "text/plain": [
       "0"
      ]
     },
     "execution_count": 105,
     "metadata": {},
     "output_type": "execute_result"
    }
   ],
   "source": [
    "t.index('a') # Gives the first time a variable appears in the tuple"
   ]
  },
  {
   "cell_type": "code",
   "execution_count": 106,
   "id": "a1e54a09",
   "metadata": {},
   "outputs": [
    {
     "data": {
      "text/plain": [
       "2"
      ]
     },
     "execution_count": 106,
     "metadata": {},
     "output_type": "execute_result"
    }
   ],
   "source": [
    "t.index('b')"
   ]
  },
  {
   "cell_type": "code",
   "execution_count": 107,
   "id": "422d9099",
   "metadata": {},
   "outputs": [],
   "source": [
    "mylist[0] = \"NEW\""
   ]
  },
  {
   "cell_type": "code",
   "execution_count": 108,
   "id": "1cfe7f13",
   "metadata": {},
   "outputs": [
    {
     "data": {
      "text/plain": [
       "['NEW', 2, 3.21]"
      ]
     },
     "execution_count": 108,
     "metadata": {},
     "output_type": "execute_result"
    }
   ],
   "source": [
    "mylist"
   ]
  },
  {
   "cell_type": "code",
   "execution_count": 110,
   "id": "0fc9e4c6",
   "metadata": {},
   "outputs": [
    {
     "ename": "TypeError",
     "evalue": "'tuple' object does not support item assignment",
     "output_type": "error",
     "traceback": [
      "\u001b[1;31m---------------------------------------------------------------------------\u001b[0m",
      "\u001b[1;31mTypeError\u001b[0m                                 Traceback (most recent call last)",
      "\u001b[1;32m~\\AppData\\Local\\Temp\\ipykernel_20508\\3217719771.py\u001b[0m in \u001b[0;36m<module>\u001b[1;34m\u001b[0m\n\u001b[1;32m----> 1\u001b[1;33m \u001b[0mt\u001b[0m\u001b[1;33m[\u001b[0m\u001b[1;36m0\u001b[0m\u001b[1;33m]\u001b[0m \u001b[1;33m=\u001b[0m \u001b[1;34m\"NEW\"\u001b[0m \u001b[1;31m# Tuples are IMMUTABLE\u001b[0m\u001b[1;33m\u001b[0m\u001b[1;33m\u001b[0m\u001b[0m\n\u001b[0m",
      "\u001b[1;31mTypeError\u001b[0m: 'tuple' object does not support item assignment"
     ]
    }
   ],
   "source": [
    "t[0] = \"NEW\" # Tuples are IMMUTABLE"
   ]
  },
  {
   "cell_type": "code",
   "execution_count": null,
   "id": "506bfa87",
   "metadata": {},
   "outputs": [],
   "source": []
  }
 ],
 "metadata": {
  "kernelspec": {
   "display_name": "Python 3 (ipykernel)",
   "language": "python",
   "name": "python3"
  },
  "language_info": {
   "codemirror_mode": {
    "name": "ipython",
    "version": 3
   },
   "file_extension": ".py",
   "mimetype": "text/x-python",
   "name": "python",
   "nbconvert_exporter": "python",
   "pygments_lexer": "ipython3",
   "version": "3.9.13"
  }
 },
 "nbformat": 4,
 "nbformat_minor": 5
}
