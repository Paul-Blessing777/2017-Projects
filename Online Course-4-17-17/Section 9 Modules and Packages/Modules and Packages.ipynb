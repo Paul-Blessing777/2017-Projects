{
 "cells": [
  {
   "cell_type": "markdown",
   "id": "e82ee696",
   "metadata": {},
   "source": [
    "# Modules and Packages"
   ]
  },
  {
   "cell_type": "markdown",
   "id": "d9c2f609",
   "metadata": {},
   "source": [
    "PyPi is a repo for open source third-party packages"
   ]
  },
  {
   "cell_type": "markdown",
   "id": "ce7902f2",
   "metadata": {},
   "source": [
    "We can use pip install to download these libraries: pip is a simple way to download packages at your command line directly from the PyPi repo"
   ]
  },
  {
   "cell_type": "markdown",
   "id": "2c0b0927",
   "metadata": {},
   "source": [
    "# Creating Our Own Modules and Packages"
   ]
  },
  {
   "cell_type": "markdown",
   "id": "9dcc4930",
   "metadata": {},
   "source": [
    "**Packages are a collection of modules**"
   ]
  },
  {
   "cell_type": "markdown",
   "id": "a8787bea",
   "metadata": {},
   "source": [
    "## ___name___ and __main__"
   ]
  },
  {
   "cell_type": "code",
   "execution_count": 1,
   "id": "214f72be",
   "metadata": {},
   "outputs": [
    {
     "ename": "NameError",
     "evalue": "name 'myfunc' is not defined",
     "output_type": "error",
     "traceback": [
      "\u001b[1;31m---------------------------------------------------------------------------\u001b[0m",
      "\u001b[1;31mNameError\u001b[0m                                 Traceback (most recent call last)",
      "\u001b[1;32m~\\AppData\\Local\\Temp\\ipykernel_21828\\1351987666.py\u001b[0m in \u001b[0;36m<module>\u001b[1;34m\u001b[0m\n\u001b[0;32m      4\u001b[0m \u001b[1;31m#if __name__ == __main__\u001b[0m\u001b[1;33m\u001b[0m\u001b[1;33m\u001b[0m\u001b[0m\n\u001b[0;32m      5\u001b[0m \u001b[1;32mif\u001b[0m \u001b[0m__name__\u001b[0m \u001b[1;33m==\u001b[0m\u001b[1;34m\"__main__\"\u001b[0m\u001b[1;33m:\u001b[0m\u001b[1;33m\u001b[0m\u001b[1;33m\u001b[0m\u001b[0m\n\u001b[1;32m----> 6\u001b[1;33m     \u001b[0mmyfunc\u001b[0m\u001b[1;33m(\u001b[0m\u001b[1;33m)\u001b[0m\u001b[1;33m\u001b[0m\u001b[1;33m\u001b[0m\u001b[0m\n\u001b[0m",
      "\u001b[1;31mNameError\u001b[0m: name 'myfunc' is not defined"
     ]
    }
   ],
   "source": [
    "# built in variable \n",
    "__name__\n",
    "# You'll often see\n",
    "#if __name__ == __main__\n",
    "if __name__ ==\"__main__\":\n",
    "    myfunc()\n"
   ]
  },
  {
   "cell_type": "markdown",
   "id": "6bfbe7e3",
   "metadata": {},
   "source": [
    "Check one.py and two.py files in desktop for better understanding"
   ]
  },
  {
   "cell_type": "markdown",
   "id": "08bbbb46",
   "metadata": {},
   "source": [
    "Normal __main__ files will look like below"
   ]
  },
  {
   "cell_type": "code",
   "execution_count": 2,
   "id": "c872930b",
   "metadata": {},
   "outputs": [
    {
     "name": "stdout",
     "output_type": "stream",
     "text": [
      "HI I'm a function\n",
      "I Too am a function\n"
     ]
    }
   ],
   "source": [
    "def func():\n",
    "    print(\"HI I'm a function\")\n",
    "\n",
    "def func2():\n",
    "    print(\"I Too am a function\")\n",
    "\n",
    "if __name__ == '__main__':\n",
    "    func()\n",
    "    func2()"
   ]
  },
  {
   "cell_type": "markdown",
   "id": "5ad9fb8a",
   "metadata": {},
   "source": [
    "Since this is the main file being used we see the results of the two functions"
   ]
  },
  {
   "cell_type": "code",
   "execution_count": null,
   "id": "97bfb595",
   "metadata": {},
   "outputs": [],
   "source": []
  }
 ],
 "metadata": {
  "kernelspec": {
   "display_name": "Python 3 (ipykernel)",
   "language": "python",
   "name": "python3"
  },
  "language_info": {
   "codemirror_mode": {
    "name": "ipython",
    "version": 3
   },
   "file_extension": ".py",
   "mimetype": "text/x-python",
   "name": "python",
   "nbconvert_exporter": "python",
   "pygments_lexer": "ipython3",
   "version": "3.9.13"
  }
 },
 "nbformat": 4,
 "nbformat_minor": 5
}
