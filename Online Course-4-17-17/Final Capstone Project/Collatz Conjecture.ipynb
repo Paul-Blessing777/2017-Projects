{
 "cells": [
  {
   "cell_type": "markdown",
   "id": "edf8bdcf",
   "metadata": {},
   "source": [
    "# Collatz Conjecture"
   ]
  },
  {
   "cell_type": "code",
   "execution_count": 20,
   "id": "33b877fa",
   "metadata": {},
   "outputs": [],
   "source": [
    "def collatz_conjecture(n, give_all = False):\n",
    "    \"\"\"\n",
    "    This program simulates the Collatz Conjecture, asking whether two simple operations will eventually transform\n",
    "    a given n into 1, and returns the steps it took to reach 1\n",
    "    \"\"\"\n",
    "    \n",
    "    steps = 0\n",
    "    n_list = []\n",
    "    n_list.append(n)\n",
    "    n_initial = n\n",
    "    \n",
    "    while n != 1:\n",
    "        steps += 1\n",
    "        if n % 2 == 0:\n",
    "            n = n/2\n",
    "            n_list.append(n)\n",
    "        else:\n",
    "            n = (n*3) + 1\n",
    "            n_list.append(n)\n",
    "        \n",
    "    if give_all == True:\n",
    "        return steps, n, n_list\n",
    "    else:\n",
    "        return f\"It took {steps} steps for {n_initial} to reach 1\""
   ]
  },
  {
   "cell_type": "code",
   "execution_count": 21,
   "id": "5fa348ed",
   "metadata": {},
   "outputs": [
    {
     "data": {
      "text/plain": [
       "'It took 9 steps for 12 to reach 1'"
      ]
     },
     "execution_count": 21,
     "metadata": {},
     "output_type": "execute_result"
    }
   ],
   "source": [
    "collatz_conjecture(12)"
   ]
  }
 ],
 "metadata": {
  "kernelspec": {
   "display_name": "Python 3 (ipykernel)",
   "language": "python",
   "name": "python3"
  },
  "language_info": {
   "codemirror_mode": {
    "name": "ipython",
    "version": 3
   },
   "file_extension": ".py",
   "mimetype": "text/x-python",
   "name": "python",
   "nbconvert_exporter": "python",
   "pygments_lexer": "ipython3",
   "version": "3.9.13"
  }
 },
 "nbformat": 4,
 "nbformat_minor": 5
}
