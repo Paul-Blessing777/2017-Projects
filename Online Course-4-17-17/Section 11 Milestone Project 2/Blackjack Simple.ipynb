{
 "cells": [
  {
   "cell_type": "markdown",
   "id": "68a5b7bc",
   "metadata": {},
   "source": [
    "# Blackjack Simple"
   ]
  },
  {
   "cell_type": "code",
   "execution_count": 1,
   "id": "c4de75d2",
   "metadata": {},
   "outputs": [],
   "source": [
    "import random\n",
    "values = {'Acelow':1, 'Two':2, 'Three':3, 'Four':4, 'Five':5, 'Six':6, 'Seven':7, 'Eight':8, \n",
    "            'Nine':9, 'Ten':10, 'Jack':10, 'Queen':10, 'King':10, 'Ace':11}\n",
    "\n",
    "suits = ('Hearts', 'Diamonds', 'Spades', 'Clubs')\n",
    "\n",
    "ranks = ('Two', 'Three', 'Four', 'Five', 'Six', 'Seven', 'Eight', 'Nine', 'Ten', 'Jack', 'Queen', 'King', 'Ace')"
   ]
  },
  {
   "cell_type": "markdown",
   "id": "8ce032b0",
   "metadata": {},
   "source": [
    "# Card Class"
   ]
  },
  {
   "cell_type": "code",
   "execution_count": 2,
   "id": "a7ebd88c",
   "metadata": {},
   "outputs": [],
   "source": [
    "class Card():\n",
    "    \n",
    "    def __init__(self,suit,rank):\n",
    "        self.suit = suit\n",
    "        self.rank = rank\n",
    "        self.value = values[self.rank.capitalize()]\n",
    "        \n",
    "    def __str__(self):\n",
    "        return f\"{self.rank.capitalize()} of {self.suit}\"\n",
    "    \n",
    "    def ace(self,modifier= 'no'):\n",
    "        if modifier.lower() == 'yes':\n",
    "            self.rank = \"Acelow\"\n",
    "            self.value = values[self.rank.capitalize()]\n",
    "        \n",
    "    "
   ]
  },
  {
   "cell_type": "code",
   "execution_count": 3,
   "id": "3080404b",
   "metadata": {},
   "outputs": [],
   "source": [
    "special = Card(\"Hearts\", \"Ace\")"
   ]
  },
  {
   "cell_type": "code",
   "execution_count": 52,
   "id": "a87c3411",
   "metadata": {},
   "outputs": [
    {
     "name": "stdout",
     "output_type": "stream",
     "text": [
      "Ace of Hearts\n"
     ]
    }
   ],
   "source": [
    "print(special)"
   ]
  },
  {
   "cell_type": "code",
   "execution_count": 53,
   "id": "4c169aa4",
   "metadata": {},
   "outputs": [
    {
     "data": {
      "text/plain": [
       "11"
      ]
     },
     "execution_count": 53,
     "metadata": {},
     "output_type": "execute_result"
    }
   ],
   "source": [
    "special.value"
   ]
  },
  {
   "cell_type": "code",
   "execution_count": 54,
   "id": "782a7090",
   "metadata": {},
   "outputs": [],
   "source": [
    "special.ace('yes')"
   ]
  },
  {
   "cell_type": "code",
   "execution_count": 55,
   "id": "e4496656",
   "metadata": {},
   "outputs": [
    {
     "data": {
      "text/plain": [
       "'Acelow'"
      ]
     },
     "execution_count": 55,
     "metadata": {},
     "output_type": "execute_result"
    }
   ],
   "source": [
    "special.rank"
   ]
  },
  {
   "cell_type": "code",
   "execution_count": 56,
   "id": "47f6f94e",
   "metadata": {},
   "outputs": [
    {
     "data": {
      "text/plain": [
       "1"
      ]
     },
     "execution_count": 56,
     "metadata": {},
     "output_type": "execute_result"
    }
   ],
   "source": [
    "special.value"
   ]
  },
  {
   "cell_type": "markdown",
   "id": "218d43d5",
   "metadata": {},
   "source": [
    "# Deck Class"
   ]
  },
  {
   "cell_type": "code",
   "execution_count": 4,
   "id": "1c5d7c7c",
   "metadata": {},
   "outputs": [],
   "source": [
    "class Deck():\n",
    "    \n",
    "    def __init__(self):\n",
    "        \n",
    "        self.cards = []\n",
    "        \n",
    "        for suit in suits:\n",
    "            for rank in ranks:\n",
    "                card = Card(suit,rank)\n",
    "                self.cards.append(card)\n",
    "                \n",
    "    def shuffle(self):\n",
    "        random.shuffle(self.cards)\n",
    "        \n",
    "    def deal(self):\n",
    "        return self.cards.pop(0)\n",
    "    \n",
    "    def __str__(self):\n",
    "        return f\"Deck of {len(self.cards)} cards\""
   ]
  },
  {
   "cell_type": "code",
   "execution_count": 145,
   "id": "1d214893",
   "metadata": {},
   "outputs": [],
   "source": [
    "deck1 = Deck()"
   ]
  },
  {
   "cell_type": "code",
   "execution_count": 146,
   "id": "5b42707b",
   "metadata": {},
   "outputs": [
    {
     "name": "stdout",
     "output_type": "stream",
     "text": [
      "Deck of 52 cards\n"
     ]
    }
   ],
   "source": [
    "print(deck1)"
   ]
  },
  {
   "cell_type": "code",
   "execution_count": 147,
   "id": "5f58df39",
   "metadata": {},
   "outputs": [],
   "source": [
    "deck1.shuffle()"
   ]
  },
  {
   "cell_type": "code",
   "execution_count": 148,
   "id": "d240dc1c",
   "metadata": {},
   "outputs": [],
   "source": [
    "card1 = deck1.deal()"
   ]
  },
  {
   "cell_type": "code",
   "execution_count": 149,
   "id": "dad17b72",
   "metadata": {},
   "outputs": [
    {
     "name": "stdout",
     "output_type": "stream",
     "text": [
      "Nine of Diamonds\n"
     ]
    }
   ],
   "source": [
    "print(card1)"
   ]
  },
  {
   "cell_type": "code",
   "execution_count": 68,
   "id": "31c1f659",
   "metadata": {},
   "outputs": [],
   "source": [
    "card3 = deck1.deal()"
   ]
  },
  {
   "cell_type": "code",
   "execution_count": 69,
   "id": "a2fee91c",
   "metadata": {},
   "outputs": [
    {
     "name": "stdout",
     "output_type": "stream",
     "text": [
      "Two of Hearts\n"
     ]
    }
   ],
   "source": [
    "print(card3)"
   ]
  },
  {
   "cell_type": "code",
   "execution_count": 70,
   "id": "0c45462c",
   "metadata": {},
   "outputs": [
    {
     "name": "stdout",
     "output_type": "stream",
     "text": [
      "Deck of 50 cards\n"
     ]
    }
   ],
   "source": [
    "print(deck1)"
   ]
  },
  {
   "cell_type": "markdown",
   "id": "59a01774",
   "metadata": {},
   "source": [
    "# Player Class"
   ]
  },
  {
   "cell_type": "code",
   "execution_count": 5,
   "id": "4b5eafb9",
   "metadata": {},
   "outputs": [],
   "source": [
    "class Player():\n",
    "    \n",
    "    def __init__(self, name, chips=0):\n",
    "        self.name = name\n",
    "        self.hand = []\n",
    "        self.chips = chips\n",
    "        self.hand_list = []\n",
    "        \n",
    "    def add_to_hand(self, added_card):\n",
    "        self.hand_list = []\n",
    "        self.hand.append(added_card)\n",
    "        for card in self.hand:\n",
    "            self.hand_list.append(str(card))\n",
    "        \n",
    "    def special_display(self):\n",
    "        self.hand_list = []\n",
    "        for card in self.hand:\n",
    "            self.hand_list.append(str(card))\n",
    "        return f\"{str(self.hand_list[0])} and Hidden Card\"\n",
    "        \n",
    "        \n",
    "    def display_hand(self):\n",
    "        self.hand_list = []\n",
    "        for card in self.hand:\n",
    "            self.hand_list.append(str(card))\n",
    "        return f\"{str(self.hand_list)}\"\n",
    "\n",
    "    \n",
    "    def __str__(self):\n",
    "        self.hand_list = []\n",
    "        for card in self.hand:\n",
    "            self.hand_list.append(str(card))\n",
    "        return f\"Player: {self.name} has cards {str(self.hand_list)} and {self.chips} chips\"\n",
    "    \n",
    "    def hand_value(self):\n",
    "        self.value_hand = 0\n",
    "        for card in self.hand:\n",
    "            self.value_hand += card.value\n",
    "        return self.value_hand\n",
    "        "
   ]
  },
  {
   "cell_type": "code",
   "execution_count": 98,
   "id": "54131729",
   "metadata": {},
   "outputs": [],
   "source": [
    "player1 = Player(\"Paul\",20)"
   ]
  },
  {
   "cell_type": "code",
   "execution_count": 99,
   "id": "08878c3f",
   "metadata": {},
   "outputs": [],
   "source": [
    "player1.add_to_hand(card3)"
   ]
  },
  {
   "cell_type": "code",
   "execution_count": 100,
   "id": "08ca8480",
   "metadata": {},
   "outputs": [],
   "source": [
    "player1.hand.append(card3)"
   ]
  },
  {
   "cell_type": "code",
   "execution_count": 101,
   "id": "602d940b",
   "metadata": {},
   "outputs": [],
   "source": [
    "player1.hand.append(card1)"
   ]
  },
  {
   "cell_type": "code",
   "execution_count": 102,
   "id": "fecdd55f",
   "metadata": {},
   "outputs": [
    {
     "name": "stdout",
     "output_type": "stream",
     "text": [
      "Player: Paul has cards ['Two of Hearts', 'Two of Hearts', 'King of Clubs'] and 20 chips\n"
     ]
    }
   ],
   "source": [
    "print(player1)"
   ]
  },
  {
   "cell_type": "code",
   "execution_count": 332,
   "id": "d5ec4234",
   "metadata": {},
   "outputs": [
    {
     "data": {
      "text/plain": [
       "15"
      ]
     },
     "execution_count": 332,
     "metadata": {},
     "output_type": "execute_result"
    }
   ],
   "source": [
    "player1.chips -5"
   ]
  },
  {
   "cell_type": "code",
   "execution_count": 21,
   "id": "ab60d096",
   "metadata": {},
   "outputs": [
    {
     "data": {
      "text/plain": [
       "30"
      ]
     },
     "execution_count": 21,
     "metadata": {},
     "output_type": "execute_result"
    }
   ],
   "source": [
    "player1.hand_value()"
   ]
  },
  {
   "cell_type": "code",
   "execution_count": 368,
   "id": "a17e6835",
   "metadata": {},
   "outputs": [
    {
     "data": {
      "text/plain": [
       "16"
      ]
     },
     "execution_count": 368,
     "metadata": {},
     "output_type": "execute_result"
    }
   ],
   "source": [
    "pp"
   ]
  },
  {
   "cell_type": "code",
   "execution_count": 369,
   "id": "3a1c4254",
   "metadata": {},
   "outputs": [
    {
     "name": "stdout",
     "output_type": "stream",
     "text": [
      "['Jack of Clubs', 'Six of Spades']\n"
     ]
    }
   ],
   "source": [
    "print(player1.display_hand())"
   ]
  },
  {
   "cell_type": "code",
   "execution_count": 370,
   "id": "7682b79b",
   "metadata": {},
   "outputs": [
    {
     "name": "stdout",
     "output_type": "stream",
     "text": [
      "Jack of Clubs and Hidden Card\n"
     ]
    }
   ],
   "source": [
    "print(player1.special_display())"
   ]
  },
  {
   "cell_type": "code",
   "execution_count": 371,
   "id": "d8186591",
   "metadata": {},
   "outputs": [
    {
     "data": {
      "text/plain": [
       "10"
      ]
     },
     "execution_count": 371,
     "metadata": {},
     "output_type": "execute_result"
    }
   ],
   "source": [
    "player1.hand[0].value"
   ]
  },
  {
   "cell_type": "code",
   "execution_count": 372,
   "id": "5c91b473",
   "metadata": {},
   "outputs": [
    {
     "data": {
      "text/plain": [
       "16"
      ]
     },
     "execution_count": 372,
     "metadata": {},
     "output_type": "execute_result"
    }
   ],
   "source": [
    "player1.hand_value()"
   ]
  },
  {
   "cell_type": "markdown",
   "id": "9346cae6",
   "metadata": {},
   "source": [
    "## Set-Up"
   ]
  },
  {
   "cell_type": "code",
   "execution_count": 5,
   "id": "976a7cba",
   "metadata": {},
   "outputs": [],
   "source": [
    "def set_up_game():\n",
    "    \n",
    "   \n",
    "    name = input(\"What's your name? \")\n",
    "    player = Player(name, 10)\n",
    "    dealer = Player('Dealer')\n",
    "    deck = Deck()\n",
    "    deck.shuffle()\n",
    "    return player, dealer , deck\n",
    "    \n",
    "    #elif status == 'ongoing':\n",
    "        #deck = Deck()\n",
    "       # deck.shuffle()\n",
    "        #return deck"
   ]
  },
  {
   "cell_type": "code",
   "execution_count": 165,
   "id": "e22e0ea4",
   "metadata": {},
   "outputs": [],
   "source": [
    "list1 = [2,3]"
   ]
  },
  {
   "cell_type": "code",
   "execution_count": 166,
   "id": "f866454d",
   "metadata": {},
   "outputs": [
    {
     "data": {
      "text/plain": [
       "5"
      ]
     },
     "execution_count": 166,
     "metadata": {},
     "output_type": "execute_result"
    }
   ],
   "source": [
    "sum(list1)"
   ]
  },
  {
   "cell_type": "markdown",
   "id": "b1b37820",
   "metadata": {},
   "source": [
    "Need an overall game_on while loop so if someone busts we can set it to false and break out of everything"
   ]
  },
  {
   "cell_type": "code",
   "execution_count": null,
   "id": "a3478a24",
   "metadata": {},
   "outputs": [
    {
     "name": "stdout",
     "output_type": "stream",
     "text": [
      "What's your name? kk\n",
      "Let's play Black Jack kk\n",
      "Good Luck against the Dealer\n",
      "kk's hand ['King of Clubs', 'Seven of Diamonds'] value is 17\n",
      "Dealer's hand Jack of Spades and Hidden Card value is 10\n",
      "Would you like to hit or stay? uy\n",
      "Would you like to hit or stay? stay\n"
     ]
    },
    {
     "name": "stderr",
     "output_type": "stream",
     "text": [
      "IOPub data rate exceeded.\n",
      "The notebook server will temporarily stop sending output\n",
      "to the client in order to avoid crashing it.\n",
      "To change this limit, set the config variable\n",
      "`--NotebookApp.iopub_data_rate_limit`.\n",
      "\n",
      "Current values:\n",
      "NotebookApp.iopub_data_rate_limit=1000000.0 (bytes/sec)\n",
      "NotebookApp.rate_limit_window=3.0 (secs)\n",
      "\n"
     ]
    }
   ],
   "source": [
    "player,dealer, deck = set_up_game()\n",
    "\n",
    "print(f\"Let's play Black Jack {player.name}\")\n",
    "print(f\"Good Luck against the {dealer.name}\")\n",
    "\n",
    "dealer_hand = []\n",
    "dealing = True\n",
    "\n",
    "\n",
    "for i in range(2):\n",
    "    dealer.hand.append(deck.deal())\n",
    "    player.hand.append(deck.deal())\n",
    "print(f\"{player.name}'s hand {player.display_hand()} value is {player.hand_value()}\")\n",
    "print(f\"{dealer.name}'s hand {dealer.special_display()} value is {dealer.hand_value() - dealer.hand[1].value}\")\n",
    "\n",
    "play_game = True\n",
    "while play_game:\n",
    "    while dealing:\n",
    "        if player.hand_value() > 21:\n",
    "            print(f\"{player.name} sorry you BUSTED!\")\n",
    "            print(f\"{dealer.name} Wins!\")\n",
    "            play_game = False\n",
    "            dealing = False\n",
    "            break\n",
    "        elif player.hand_value() == 21:\n",
    "            print(f\"{player.name} you hit Black Jack! You Win!\")\n",
    "            play_game - False\n",
    "            dealing = False\n",
    "            break\n",
    "\n",
    "        choice = input(\"Would you like to hit or stay? \")\n",
    "        if choice.lower() == 'hit':\n",
    "            player.hand.append(deck.deal())\n",
    "        elif choice.lower() == 'stay':\n",
    "            dealing = False\n",
    "            break\n",
    "        else:\n",
    "            continue\n",
    "\n",
    "        print(f\"{player.name}'s hand is now {player.display_hand()} value is {player.hand_value()}\")\n",
    "\n",
    "    print(f\"Dealer Flipped their hidden card!\")\n",
    "    print(f\"{dealer.name}'s hand {dealer.display_hand()} value is {dealer.hand_value()}\")\n",
    "\n",
    "    while dealer.hand_value() < 17:\n",
    "        print(f\"{dealer.name} is below 17, will now draw cards\")\n",
    "        dealer.add_to_hand(deck.deal())\n",
    "        print(f\"{dealer.name} added {dealer.hand_list[-1]} for a total value of {dealer.hand_value()}\")\n",
    "    if dealer.hand_value() > 21:\n",
    "        print(f\"{dealer.name} BUSTED!\")\n",
    "        print(f\"{player.name} Wins!\")\n",
    "        play_game = False\n",
    "        break\n",
    "\n",
    "    print(f\"{dealer.name} hit 17 or above and stopped for a total value of {dealer.hand_value()}\")\n",
    "    if player.hand_value() > dealer.hand_value():\n",
    "        print(f\"{player.name}'s hand value: {player.hand_value()} {dealer.name}'s hand value: {dealer.hand_value()}\")\n",
    "        print(f\"{player.name} you won! with a hand of {player.hand_list}\")\n",
    "    elif player.hand_value() < dealer.hand_value():\n",
    "        print(f\"{player.name}'s hand value: {player.hand_value()} {dealer.name}'s hand value: {dealer.hand_value()}\")\n",
    "        print(f\"{dealer.name} you won! with a hand of {dealer.hand_list}\")\n",
    "    elif player.hand_value() == dealer.hand_value():\n",
    "        print(\"There was a draw\")\n",
    "\n",
    "\n",
    "\n"
   ]
  },
  {
   "cell_type": "code",
   "execution_count": 6,
   "id": "562e6ada",
   "metadata": {},
   "outputs": [],
   "source": [
    "def set_up_game():\n",
    "    \n",
    "   \n",
    "    name = input(\"What's your name? \")\n",
    "    player = Player(name, 10)\n",
    "    dealer = Player('Dealer')\n",
    "    deck = Deck()\n",
    "    deck.shuffle()\n",
    "    return player, dealer , deck"
   ]
  },
  {
   "cell_type": "code",
   "execution_count": 7,
   "id": "e9473b0a",
   "metadata": {},
   "outputs": [],
   "source": [
    "def final_check(player,dealer):\n",
    "    print(f\"{dealer.name} hit 17 or above and stopped for a total value of {dealer.hand_value()}\")\n",
    "    \n",
    "    if player.hand_value() > dealer.hand_value():\n",
    "        print(f\"{player.name}'s hand value: {player.hand_value()} || {dealer.name}'s hand value: {dealer.hand_value()}\")\n",
    "        print(f\"{player.name} you won! with a hand of {player.hand_list} and value of {player.hand_value()}\")\n",
    "        \n",
    "    elif player.hand_value() < dealer.hand_value():\n",
    "        print(f\"{player.name}'s hand value: {player.hand_value()} || {dealer.name}'s hand value: {dealer.hand_value()}\")\n",
    "        print(f\"{dealer.name} you won! with a hand of {dealer.hand_list} and value of {dealer.hand_value()}\")\n",
    "        \n",
    "    elif player.hand_value() == dealer.hand_value():\n",
    "        print(\"There was a draw\")"
   ]
  },
  {
   "cell_type": "code",
   "execution_count": 22,
   "id": "44f5766b",
   "metadata": {},
   "outputs": [],
   "source": [
    "def initial_deal(player,dealer):\n",
    "    dealing = True\n",
    "    play_game = None\n",
    "    \n",
    "    while dealing:\n",
    "        ace_check_normal(player)\n",
    "        if player.hand_value() > 21:\n",
    "            print(f\"{player.name} sorry you BUSTED!\")\n",
    "            print(f\"{dealer.name} Wins!\")\n",
    "            play_game = False\n",
    "            dealing = False\n",
    "            break\n",
    "        elif player.hand_value() == 21:\n",
    "            print(f\"{player.name} you hit Black Jack! You Win!\")\n",
    "            play_game = False\n",
    "            dealing = False\n",
    "            break\n",
    "\n",
    "        choice = input(\"Would you like to hit or stay? \")\n",
    "        if choice.lower() == 'hit':\n",
    "            player.hand.append(deck.deal())\n",
    "            print(f\"{player.name}'s hand is now {player.display_hand()} value is {player.hand_value()}\")\n",
    "        elif choice.lower() == 'stay':\n",
    "            play_game = True\n",
    "            dealing = False\n",
    "            break\n",
    "            \n",
    "    return play_game"
   ]
  },
  {
   "cell_type": "code",
   "execution_count": 25,
   "id": "2ced770e",
   "metadata": {},
   "outputs": [
    {
     "name": "stdout",
     "output_type": "stream",
     "text": [
      "What's your name? Paul\n",
      "Let's play Black Jack Paul\n",
      "Good Luck against the Dealer\n",
      "Paul's hand ['Three of Hearts', 'Ace of Spades'] value is 14\n",
      "Dealer's hand Eight of Clubs and Hidden Card value is 8\n",
      "Would you like your Ace to be 11 0r 1? 1\n",
      "Ace is 1\n",
      "Would you like to hit or stay? hit\n",
      "Paul's hand is now ['Three of Hearts', 'Acelow of Spades', 'Six of Hearts'] value is 10\n",
      "Would you like to hit or stay? hit\n",
      "Paul's hand is now ['Three of Hearts', 'Acelow of Spades', 'Six of Hearts', 'Four of Diamonds'] value is 14\n",
      "Would you like to hit or stay? stay\n",
      "Dealer Flipped their hidden card!\n",
      "Dealer's hand ['Eight of Clubs', 'Three of Spades'] value is 11\n",
      "Dealer is below 17, will now draw cards\n",
      "Dealer added Five of Spades for a total value of 16\n",
      "Dealer is below 17, will now draw cards\n",
      "Dealer added Five of Hearts for a total value of 21\n",
      "Dealer hit 17 or above and stopped for a total value of 21\n",
      "Paul's hand value: 14 || Dealer's hand value: 21\n",
      "Dealer you won! with a hand of ['Eight of Clubs', 'Three of Spades', 'Five of Spades', 'Five of Hearts'] and value of 21\n"
     ]
    }
   ],
   "source": [
    "player,dealer, deck = set_up_game()\n",
    "\n",
    "print(f\"Let's play Black Jack {player.name}\")\n",
    "print(f\"Good Luck against the {dealer.name}\")\n",
    "\n",
    "play_game = True\n",
    "\n",
    "\n",
    "for i in range(2):\n",
    "    dealer.hand.append(deck.deal())\n",
    "    player.hand.append(deck.deal())\n",
    "print(f\"{player.name}'s hand {player.display_hand()} value is {player.hand_value()}\")\n",
    "print(f\"{dealer.name}'s hand {dealer.special_display()} value is {dealer.hand_value() - dealer.hand[1].value}\")\n",
    "\n",
    "# If Player has an Ace they choose if its an 11 or 1\n",
    "ace_check_initial(player)\n",
    "\n",
    "while play_game == True:\n",
    "    play_game = initial_deal(player,dealer)\n",
    "    if play_game == False:\n",
    "        break\n",
    "\n",
    "\n",
    "    print(f\"Dealer Flipped their hidden card!\")\n",
    "    print(f\"{dealer.name}'s hand {dealer.display_hand()} value is {dealer.hand_value()}\")\n",
    "\n",
    "    while dealer.hand_value() < 17:\n",
    "        print(f\"{dealer.name} is below 17, will now draw cards\")\n",
    "        dealer.add_to_hand(deck.deal())\n",
    "        print(f\"{dealer.name} added {dealer.hand_list[-1]} for a total value of {dealer.hand_value()}\")\n",
    "    if dealer.hand_value() > 21:\n",
    "        print(f\"{dealer.name} BUSTED!\")\n",
    "        print(f\"{player.name} Wins!\")\n",
    "        play_game = False\n",
    "        break\n",
    "    else:\n",
    "        final_check(player,dealer)\n",
    "        play_game = False\n",
    "\n",
    "\n"
   ]
  },
  {
   "cell_type": "code",
   "execution_count": 9,
   "id": "2fe2021e",
   "metadata": {},
   "outputs": [],
   "source": [
    "def ace_check_normal(player):\n",
    "    total = player.hand_value()\n",
    "    hand_ranks = []\n",
    "\n",
    "    for card in player.hand:\n",
    "        hand_ranks.append(card.rank)\n",
    "    \n",
    "    if total > 21 and \"Ace\" in hand_ranks:\n",
    "        for card in player.hand:\n",
    "            if card.value == 11:\n",
    "                card.ace('yes')"
   ]
  },
  {
   "cell_type": "code",
   "execution_count": 260,
   "id": "ed090a4c",
   "metadata": {},
   "outputs": [],
   "source": [
    "ace_check_normal(player1)"
   ]
  },
  {
   "cell_type": "code",
   "execution_count": 256,
   "id": "5792434a",
   "metadata": {},
   "outputs": [],
   "source": [
    "player1 = Player(\"Paul\",20)"
   ]
  },
  {
   "cell_type": "code",
   "execution_count": 257,
   "id": "1ec2628d",
   "metadata": {},
   "outputs": [],
   "source": [
    "card77 = Card(\"Hearts\", \"King\")\n",
    "card88 = Card(\"Diamonds\", \"Nine\")\n",
    "card99 = Card(\"Diamonds\", \"Ace\")\n",
    "card100 = Card(\"Diamonds\", \"Jack\")\n",
    "player1.add_to_hand(card77)\n",
    "player1.add_to_hand(card88)\n",
    "player1.add_to_hand(card99)\n",
    "player1.add_to_hand(card100)"
   ]
  },
  {
   "cell_type": "code",
   "execution_count": 258,
   "id": "83f1fa68",
   "metadata": {},
   "outputs": [
    {
     "data": {
      "text/plain": [
       "['King of Hearts', 'Nine of Diamonds', 'Ace of Diamonds', 'Jack of Diamonds']"
      ]
     },
     "execution_count": 258,
     "metadata": {},
     "output_type": "execute_result"
    }
   ],
   "source": [
    "player1.hand_list"
   ]
  },
  {
   "cell_type": "code",
   "execution_count": 128,
   "id": "d4e256c7",
   "metadata": {},
   "outputs": [
    {
     "data": {
      "text/plain": [
       "'Ace'"
      ]
     },
     "execution_count": 128,
     "metadata": {},
     "output_type": "execute_result"
    }
   ],
   "source": [
    "card77.rank"
   ]
  },
  {
   "cell_type": "code",
   "execution_count": 158,
   "id": "c38bd0fb",
   "metadata": {},
   "outputs": [
    {
     "name": "stdout",
     "output_type": "stream",
     "text": [
      "Player: Paul has cards ['Ace of Hearts', 'Ace of Diamonds'] and 20 chips\n"
     ]
    }
   ],
   "source": [
    "print(player1)"
   ]
  },
  {
   "cell_type": "code",
   "execution_count": 243,
   "id": "8ffa90be",
   "metadata": {},
   "outputs": [],
   "source": [
    "player1 = Player(\"Paul\",20)"
   ]
  },
  {
   "cell_type": "code",
   "execution_count": 244,
   "id": "c2a095ed",
   "metadata": {},
   "outputs": [],
   "source": [
    "card77 = Card(\"Hearts\", \"Ace\")\n",
    "card88 = Card(\"Diamonds\", \"Ace\")\n",
    "\n",
    "player1.add_to_hand(card77)\n",
    "player1.add_to_hand(card88)"
   ]
  },
  {
   "cell_type": "code",
   "execution_count": 26,
   "id": "1b852db6",
   "metadata": {},
   "outputs": [],
   "source": [
    "def ace_check_initial(player):\n",
    "    total = player.hand_value()\n",
    "    hand_ranks = []\n",
    "    \n",
    "    for card in player.hand:\n",
    "        hand_ranks.append(card.rank)\n",
    "    \n",
    "    if player.hand_value() == 22:\n",
    "        change_card = player.hand[0]\n",
    "        change_card.ace('yes')\n",
    "    elif \"Ace\" in hand_ranks and player.hand_value() != 21:\n",
    "        player_choice = int(input(\"Would you like your Ace to be 11 0r 1? \"))\n",
    "        if player_choice == 1:\n",
    "            for card in player.hand:\n",
    "                if card.value == 11:\n",
    "                    card.ace('yes')\n",
    "            print(\"Ace is 1\")\n",
    "            print(f\"{player.name}'s hand is now {player.display_hand()} value is {player.hand_value()}\")\n",
    "        else:\n",
    "            print(\"Ace is 11\")\n",
    "            print(f\"{player.name}'s hand is now {player.display_hand()} value is {player.hand_value()}\")\n",
    "\n",
    "\n",
    "        "
   ]
  },
  {
   "cell_type": "code",
   "execution_count": 247,
   "id": "42104b63",
   "metadata": {},
   "outputs": [],
   "source": [
    "ace_check_initial(player1)"
   ]
  },
  {
   "cell_type": "code",
   "execution_count": 248,
   "id": "e8a4f6fb",
   "metadata": {},
   "outputs": [
    {
     "name": "stdout",
     "output_type": "stream",
     "text": [
      "Player: Paul has cards ['Acelow of Hearts', 'Ace of Diamonds'] and 20 chips\n"
     ]
    }
   ],
   "source": [
    "print(player1)"
   ]
  },
  {
   "cell_type": "code",
   "execution_count": 242,
   "id": "b94d6442",
   "metadata": {},
   "outputs": [
    {
     "data": {
      "text/plain": [
       "22"
      ]
     },
     "execution_count": 242,
     "metadata": {},
     "output_type": "execute_result"
    }
   ],
   "source": [
    "player1.hand_value()"
   ]
  },
  {
   "cell_type": "code",
   "execution_count": 226,
   "id": "d2f1dc00",
   "metadata": {},
   "outputs": [
    {
     "data": {
      "text/plain": [
       "<__main__.Card at 0x1c55ddd28b0>"
      ]
     },
     "execution_count": 226,
     "metadata": {},
     "output_type": "execute_result"
    }
   ],
   "source": [
    "player1.hand[0]"
   ]
  },
  {
   "cell_type": "code",
   "execution_count": 227,
   "id": "e3895651",
   "metadata": {},
   "outputs": [],
   "source": [
    "change_card = player1.hand[0]"
   ]
  },
  {
   "cell_type": "code",
   "execution_count": 228,
   "id": "575c4fcb",
   "metadata": {},
   "outputs": [
    {
     "name": "stdout",
     "output_type": "stream",
     "text": [
      "Three of Hearts\n"
     ]
    }
   ],
   "source": [
    "print(change_card)"
   ]
  },
  {
   "cell_type": "code",
   "execution_count": null,
   "id": "7c394ea0",
   "metadata": {},
   "outputs": [],
   "source": []
  }
 ],
 "metadata": {
  "kernelspec": {
   "display_name": "Python 3 (ipykernel)",
   "language": "python",
   "name": "python3"
  },
  "language_info": {
   "codemirror_mode": {
    "name": "ipython",
    "version": 3
   },
   "file_extension": ".py",
   "mimetype": "text/x-python",
   "name": "python",
   "nbconvert_exporter": "python",
   "pygments_lexer": "ipython3",
   "version": "3.9.13"
  }
 },
 "nbformat": 4,
 "nbformat_minor": 5
}
