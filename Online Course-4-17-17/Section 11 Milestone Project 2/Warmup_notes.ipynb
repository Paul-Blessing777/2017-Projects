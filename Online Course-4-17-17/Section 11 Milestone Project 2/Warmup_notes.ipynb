{
 "cells": [
  {
   "cell_type": "markdown",
   "id": "da208ad9",
   "metadata": {},
   "source": [
    "# Warm-up and Notes"
   ]
  },
  {
   "cell_type": "markdown",
   "id": "44ed57cf",
   "metadata": {},
   "source": [
    "Cool Way to print multiple things from a list"
   ]
  },
  {
   "cell_type": "code",
   "execution_count": 1,
   "id": "ebeba5a3",
   "metadata": {},
   "outputs": [
    {
     "name": "stdout",
     "output_type": "stream",
     "text": [
      "Items: 1 2 3 4 5\n"
     ]
    }
   ],
   "source": [
    "items = [1,2,3,4,5]\n",
    "print(\"Items:\",* items)"
   ]
  },
  {
   "cell_type": "code",
   "execution_count": 2,
   "id": "38de802d",
   "metadata": {},
   "outputs": [
    {
     "name": "stdout",
     "output_type": "stream",
     "text": [
      "Items:|1|2|3|4|5\n"
     ]
    }
   ],
   "source": [
    "items = [1,2,3,4,5]\n",
    "print(\"Items:\",* items,sep=\"|\")"
   ]
  },
  {
   "cell_type": "markdown",
   "id": "503d2e44",
   "metadata": {},
   "source": [
    "We Will be making the card game **War**"
   ]
  },
  {
   "cell_type": "code",
   "execution_count": 35,
   "id": "96e8a83f",
   "metadata": {},
   "outputs": [],
   "source": [
    "# Make a dictionary to translate the word for the number to the number\n",
    "# These are Global Variables\n",
    "import random\n",
    "values = {'Two':2, 'Three':3, 'Four':4, 'Five':5, 'Six':6, 'Seven':7, 'Eight':8, \n",
    "            'Nine':9, 'Ten':10, 'Jack':11, 'Queen':12, 'King':13, 'Ace':14}\n",
    "\n",
    "suits = ('Hearts', 'Diamonds', 'Spades', 'Clubs')\n",
    "\n",
    "ranks = ('Two', 'Three', 'Four', 'Five', 'Six', 'Seven', 'Eight', 'Nine', 'Ten', 'Jack', 'Queen', 'King', 'Ace')"
   ]
  },
  {
   "cell_type": "markdown",
   "id": "9fb60116",
   "metadata": {},
   "source": [
    "## Card Class"
   ]
  },
  {
   "cell_type": "code",
   "execution_count": 64,
   "id": "dc77e4fc",
   "metadata": {},
   "outputs": [],
   "source": [
    "# Card\n",
    "# Suit, Rank, value\n",
    "class Card():\n",
    "    \n",
    "    def __init__(self,suit,rank):\n",
    "        self.suit = suit\n",
    "        self.rank = rank\n",
    "        self.value = values[self.rank.capitalize()]\n",
    "        \n",
    "    def __str__(self):\n",
    "        return f\"{self.rank.capitalize()} of {self.suit}\"\n",
    "    "
   ]
  },
  {
   "cell_type": "code",
   "execution_count": 65,
   "id": "6a16d7cd",
   "metadata": {},
   "outputs": [],
   "source": [
    "card1 = Card(\"Diamonds\", \"seven\")"
   ]
  },
  {
   "cell_type": "code",
   "execution_count": 66,
   "id": "e92d4c6c",
   "metadata": {},
   "outputs": [
    {
     "data": {
      "text/plain": [
       "7"
      ]
     },
     "execution_count": 66,
     "metadata": {},
     "output_type": "execute_result"
    }
   ],
   "source": [
    "card1.value"
   ]
  },
  {
   "cell_type": "code",
   "execution_count": 67,
   "id": "c0e3ec69",
   "metadata": {},
   "outputs": [
    {
     "name": "stdout",
     "output_type": "stream",
     "text": [
      "Seven of Diamonds\n"
     ]
    }
   ],
   "source": [
    "print(card1)"
   ]
  },
  {
   "cell_type": "code",
   "execution_count": 9,
   "id": "8b63fa45",
   "metadata": {},
   "outputs": [
    {
     "data": {
      "text/plain": [
       "'Diamonds'"
      ]
     },
     "execution_count": 9,
     "metadata": {},
     "output_type": "execute_result"
    }
   ],
   "source": [
    "card1.suit"
   ]
  },
  {
   "cell_type": "code",
   "execution_count": 10,
   "id": "3d53eb62",
   "metadata": {},
   "outputs": [
    {
     "data": {
      "text/plain": [
       "'Seven'"
      ]
     },
     "execution_count": 10,
     "metadata": {},
     "output_type": "execute_result"
    }
   ],
   "source": [
    "card1.rank"
   ]
  },
  {
   "cell_type": "code",
   "execution_count": 12,
   "id": "b6f26078",
   "metadata": {},
   "outputs": [
    {
     "data": {
      "text/plain": [
       "7"
      ]
     },
     "execution_count": 12,
     "metadata": {},
     "output_type": "execute_result"
    }
   ],
   "source": [
    "values[card1.rank]"
   ]
  },
  {
   "cell_type": "code",
   "execution_count": 31,
   "id": "e4b1f34e",
   "metadata": {},
   "outputs": [],
   "source": [
    "card1 = Card(\"Diamonds\", \"seven\")"
   ]
  },
  {
   "cell_type": "code",
   "execution_count": 32,
   "id": "9b0f9eb6",
   "metadata": {},
   "outputs": [],
   "source": [
    "card2 = Card(\"Hearts\", 'Queen')"
   ]
  },
  {
   "cell_type": "code",
   "execution_count": 34,
   "id": "abba8c82",
   "metadata": {},
   "outputs": [
    {
     "data": {
      "text/plain": [
       "False"
      ]
     },
     "execution_count": 34,
     "metadata": {},
     "output_type": "execute_result"
    }
   ],
   "source": [
    "card1.value > card2.value"
   ]
  },
  {
   "cell_type": "markdown",
   "id": "6ca4c2dd",
   "metadata": {},
   "source": [
    "# Deck Class"
   ]
  },
  {
   "cell_type": "code",
   "execution_count": 96,
   "id": "e1d84765",
   "metadata": {},
   "outputs": [],
   "source": [
    "class Deck():\n",
    "    \n",
    "    def __init__(self):\n",
    "        \n",
    "        self.all_cards = []\n",
    "        \n",
    "        for suit in suits:\n",
    "            for rank in ranks:\n",
    "                card = Card(suit,rank)\n",
    "                self.all_cards.append(card)\n",
    "                \n",
    "    def shuffle(self):\n",
    "        random.shuffle(self.all_cards)\n",
    "        \n",
    "    def deal_one(self):\n",
    "        return self.all_cards.pop()\n",
    "        \n",
    "            "
   ]
  },
  {
   "cell_type": "code",
   "execution_count": 97,
   "id": "2c2802da",
   "metadata": {},
   "outputs": [],
   "source": [
    "deck1 = Deck()"
   ]
  },
  {
   "cell_type": "code",
   "execution_count": 98,
   "id": "39e085da",
   "metadata": {},
   "outputs": [],
   "source": [
    "deck1.shuffle()"
   ]
  },
  {
   "cell_type": "code",
   "execution_count": 99,
   "id": "b5928e1a",
   "metadata": {},
   "outputs": [],
   "source": [
    "rando_card = deck1.all_cards[-1]"
   ]
  },
  {
   "cell_type": "code",
   "execution_count": 100,
   "id": "0aa65065",
   "metadata": {},
   "outputs": [
    {
     "name": "stdout",
     "output_type": "stream",
     "text": [
      "Nine of Diamonds\n"
     ]
    }
   ],
   "source": [
    "print(rando_card)"
   ]
  },
  {
   "cell_type": "code",
   "execution_count": 101,
   "id": "ba6aa036",
   "metadata": {},
   "outputs": [],
   "source": [
    "rando_card = deck1.deal_one() # Pop takes the last value in a list"
   ]
  },
  {
   "cell_type": "code",
   "execution_count": 102,
   "id": "37dafdda",
   "metadata": {},
   "outputs": [
    {
     "name": "stdout",
     "output_type": "stream",
     "text": [
      "Nine of Diamonds\n"
     ]
    }
   ],
   "source": [
    "print(rando_card) # We see the popped card was the last in the list"
   ]
  },
  {
   "cell_type": "code",
   "execution_count": 103,
   "id": "56dea5a5",
   "metadata": {},
   "outputs": [
    {
     "data": {
      "text/plain": [
       "51"
      ]
     },
     "execution_count": 103,
     "metadata": {},
     "output_type": "execute_result"
    }
   ],
   "source": [
    "# Notice we successfully removed one card\n",
    "len(deck1.all_cards)"
   ]
  },
  {
   "cell_type": "code",
   "execution_count": 70,
   "id": "e404aac0",
   "metadata": {},
   "outputs": [],
   "source": [
    "first_card = deck1.all_cards[0]"
   ]
  },
  {
   "cell_type": "code",
   "execution_count": 71,
   "id": "a99c38bd",
   "metadata": {},
   "outputs": [
    {
     "data": {
      "text/plain": [
       "'Two'"
      ]
     },
     "execution_count": 71,
     "metadata": {},
     "output_type": "execute_result"
    }
   ],
   "source": [
    "first_card.rank"
   ]
  },
  {
   "cell_type": "code",
   "execution_count": 72,
   "id": "fb321752",
   "metadata": {},
   "outputs": [
    {
     "data": {
      "text/plain": [
       "'Hearts'"
      ]
     },
     "execution_count": 72,
     "metadata": {},
     "output_type": "execute_result"
    }
   ],
   "source": [
    "first_card.suit"
   ]
  },
  {
   "cell_type": "code",
   "execution_count": 73,
   "id": "7808c0f2",
   "metadata": {},
   "outputs": [
    {
     "name": "stdout",
     "output_type": "stream",
     "text": [
      "Two of Hearts\n"
     ]
    }
   ],
   "source": [
    "print(first_card)"
   ]
  },
  {
   "cell_type": "code",
   "execution_count": 74,
   "id": "1d4346d1",
   "metadata": {},
   "outputs": [],
   "source": [
    "last_card = deck1.all_cards[-1]"
   ]
  },
  {
   "cell_type": "code",
   "execution_count": 75,
   "id": "5ebb405c",
   "metadata": {},
   "outputs": [
    {
     "name": "stdout",
     "output_type": "stream",
     "text": [
      "Ace of Clubs\n"
     ]
    }
   ],
   "source": [
    "print(last_card)"
   ]
  },
  {
   "cell_type": "code",
   "execution_count": 76,
   "id": "d9b857e1",
   "metadata": {},
   "outputs": [
    {
     "name": "stdout",
     "output_type": "stream",
     "text": [
      "Two of Hearts\n",
      "Three of Hearts\n",
      "Four of Hearts\n",
      "Five of Hearts\n",
      "Six of Hearts\n",
      "Seven of Hearts\n",
      "Eight of Hearts\n",
      "Nine of Hearts\n",
      "Ten of Hearts\n",
      "Jack of Hearts\n",
      "Queen of Hearts\n",
      "King of Hearts\n",
      "Ace of Hearts\n",
      "Two of Diamonds\n",
      "Three of Diamonds\n",
      "Four of Diamonds\n",
      "Five of Diamonds\n",
      "Six of Diamonds\n",
      "Seven of Diamonds\n",
      "Eight of Diamonds\n",
      "Nine of Diamonds\n",
      "Ten of Diamonds\n",
      "Jack of Diamonds\n",
      "Queen of Diamonds\n",
      "King of Diamonds\n",
      "Ace of Diamonds\n",
      "Two of Spades\n",
      "Three of Spades\n",
      "Four of Spades\n",
      "Five of Spades\n",
      "Six of Spades\n",
      "Seven of Spades\n",
      "Eight of Spades\n",
      "Nine of Spades\n",
      "Ten of Spades\n",
      "Jack of Spades\n",
      "Queen of Spades\n",
      "King of Spades\n",
      "Ace of Spades\n",
      "Two of Clubs\n",
      "Three of Clubs\n",
      "Four of Clubs\n",
      "Five of Clubs\n",
      "Six of Clubs\n",
      "Seven of Clubs\n",
      "Eight of Clubs\n",
      "Nine of Clubs\n",
      "Ten of Clubs\n",
      "Jack of Clubs\n",
      "Queen of Clubs\n",
      "King of Clubs\n",
      "Ace of Clubs\n"
     ]
    }
   ],
   "source": [
    "for card_object in deck1.all_cards:\n",
    "    print(card_object)"
   ]
  },
  {
   "cell_type": "markdown",
   "id": "37a831f3",
   "metadata": {},
   "source": [
    "# Player Class"
   ]
  },
  {
   "cell_type": "code",
   "execution_count": 116,
   "id": "e75ad76f",
   "metadata": {},
   "outputs": [],
   "source": [
    "class Player():\n",
    "    \n",
    "    def __init__(self, name):\n",
    "        self.name = name\n",
    "        self.all_cards = []\n",
    "        \n",
    "    def remove_one(self):\n",
    "        return self.all_cards.pop(0)\n",
    "    \n",
    "    def add_cards(self, new_cards):\n",
    "        if type(new_cards) == type([]):\n",
    "            self.all_cards.extend(new_cards)\n",
    "        else:\n",
    "            self.all_cards.append(new_cards)\n",
    "    \n",
    "    def __str__(self):\n",
    "        return f\"Player {self.name} has {len(self.all_cards)} cards\"\n",
    "        "
   ]
  },
  {
   "cell_type": "code",
   "execution_count": 117,
   "id": "12c7457d",
   "metadata": {},
   "outputs": [],
   "source": [
    "player1 = Player(\"Billy\")"
   ]
  },
  {
   "cell_type": "code",
   "execution_count": 118,
   "id": "b9e7cd9a",
   "metadata": {},
   "outputs": [
    {
     "name": "stdout",
     "output_type": "stream",
     "text": [
      "Player Billy has 0 cards\n"
     ]
    }
   ],
   "source": [
    "print(player1)"
   ]
  },
  {
   "cell_type": "code",
   "execution_count": 119,
   "id": "a5a71dea",
   "metadata": {},
   "outputs": [],
   "source": [
    "player1.add_cards(first_card)"
   ]
  },
  {
   "cell_type": "code",
   "execution_count": 120,
   "id": "dc80c07f",
   "metadata": {},
   "outputs": [
    {
     "name": "stdout",
     "output_type": "stream",
     "text": [
      "Player Billy has 1 cards\n"
     ]
    }
   ],
   "source": [
    "print(player1)"
   ]
  },
  {
   "cell_type": "code",
   "execution_count": 123,
   "id": "23225fbd",
   "metadata": {},
   "outputs": [
    {
     "name": "stdout",
     "output_type": "stream",
     "text": [
      "Two of Hearts\n"
     ]
    }
   ],
   "source": [
    "print(player1.all_cards[0])"
   ]
  },
  {
   "cell_type": "code",
   "execution_count": 125,
   "id": "93fda14e",
   "metadata": {},
   "outputs": [],
   "source": [
    "player1.add_cards([last_card, last_card, last_card])"
   ]
  },
  {
   "cell_type": "code",
   "execution_count": 126,
   "id": "e4e130bb",
   "metadata": {},
   "outputs": [
    {
     "name": "stdout",
     "output_type": "stream",
     "text": [
      "Player Billy has 4 cards\n"
     ]
    }
   ],
   "source": [
    "print(player1)"
   ]
  },
  {
   "cell_type": "code",
   "execution_count": 127,
   "id": "33491670",
   "metadata": {},
   "outputs": [
    {
     "name": "stdout",
     "output_type": "stream",
     "text": [
      "Ace of Clubs\n"
     ]
    }
   ],
   "source": [
    "print(player1.all_cards[-1])"
   ]
  },
  {
   "cell_type": "code",
   "execution_count": 128,
   "id": "25b25185",
   "metadata": {},
   "outputs": [
    {
     "data": {
      "text/plain": [
       "<__main__.Card at 0x2098c3a8370>"
      ]
     },
     "execution_count": 128,
     "metadata": {},
     "output_type": "execute_result"
    }
   ],
   "source": [
    "player1.remove_one()"
   ]
  },
  {
   "cell_type": "code",
   "execution_count": 129,
   "id": "c0c1d654",
   "metadata": {},
   "outputs": [
    {
     "name": "stdout",
     "output_type": "stream",
     "text": [
      "Player Billy has 3 cards\n"
     ]
    }
   ],
   "source": [
    "print(player1)"
   ]
  },
  {
   "cell_type": "markdown",
   "id": "89154194",
   "metadata": {},
   "source": [
    "# Game Logic Part 1"
   ]
  },
  {
   "cell_type": "code",
   "execution_count": 150,
   "id": "19e1e0f4",
   "metadata": {},
   "outputs": [
    {
     "name": "stdout",
     "output_type": "stream",
     "text": [
      "Player Two has 26 cards\n"
     ]
    }
   ],
   "source": [
    "print(player_two)"
   ]
  },
  {
   "cell_type": "code",
   "execution_count": 151,
   "id": "3e2543ce",
   "metadata": {},
   "outputs": [
    {
     "name": "stdout",
     "output_type": "stream",
     "text": [
      "Player One has 26 cards\n"
     ]
    }
   ],
   "source": [
    "print(player_one)"
   ]
  },
  {
   "cell_type": "code",
   "execution_count": 152,
   "id": "d6a654c2",
   "metadata": {},
   "outputs": [
    {
     "name": "stdout",
     "output_type": "stream",
     "text": [
      "Six of Clubs\n"
     ]
    }
   ],
   "source": [
    "print(player_two.all_cards[4])"
   ]
  },
  {
   "cell_type": "code",
   "execution_count": 153,
   "id": "6b0a3916",
   "metadata": {},
   "outputs": [
    {
     "name": "stdout",
     "output_type": "stream",
     "text": [
      "Queen of Hearts\n"
     ]
    }
   ],
   "source": [
    "print(player_one.all_cards[4])"
   ]
  },
  {
   "cell_type": "code",
   "execution_count": 149,
   "id": "1661f6b9",
   "metadata": {},
   "outputs": [],
   "source": [
    "player_one = Player(\"One\")\n",
    "player_two = Player(\"Two\")\n",
    "\n",
    "new_deck = Deck()\n",
    "new_deck.shuffle()\n",
    "\n",
    "for x in range(26):\n",
    "    player_one.add_cards(new_deck.deal_one())\n",
    "    player_two.add_cards(new_deck.deal_one())    "
   ]
  },
  {
   "cell_type": "code",
   "execution_count": 179,
   "id": "6013200e",
   "metadata": {},
   "outputs": [],
   "source": [
    "def set_up_war_game():\n",
    "    # Game Set-up\n",
    "    player_one = Player(\"One\")\n",
    "    player_two = Player(\"Two\")\n",
    "\n",
    "    new_deck = Deck()\n",
    "    new_deck.shuffle()\n",
    "\n",
    "    for x in range(26):\n",
    "        player_one.add_cards(new_deck.deal_one())\n",
    "        player_two.add_cards(new_deck.deal_one())        \n",
    "        \n",
    "    return player_one, player_two"
   ]
  },
  {
   "cell_type": "code",
   "execution_count": 180,
   "id": "c567f8e5",
   "metadata": {},
   "outputs": [],
   "source": [
    "def war_game(player_one,player_two):\n",
    "    \"\"\"\n",
    "    Simulates a game of war b/w Two Players\n",
    "    \"\"\"\n",
    "    \n",
    "    round_number = 0\n",
    "    game_on = True\n",
    "\n",
    "    while game_on:\n",
    "            round_number += 1\n",
    "            print(f\"Round: {round_number}\")\n",
    "\n",
    "            if len(player_one.all_cards) == 0:\n",
    "                print(\"Player One, out of cards! Player Two wins!\")\n",
    "                break\n",
    "\n",
    "            elif len(player_two.all_cards) == 0:\n",
    "                print(\"Player Two, out of cards! Player One wins!\")\n",
    "                break\n",
    "\n",
    "            # Start a new round\n",
    "            player_one_cards = []\n",
    "            player_one_cards.append(player_one.remove_one())\n",
    "\n",
    "            player_two_cards = []\n",
    "            player_two_cards.append(player_two.remove_one())\n",
    "\n",
    "            at_war = True\n",
    "\n",
    "            while at_war:\n",
    "                if player_one_cards[-1].value > player_two_cards[-1].value:\n",
    "                    player_one.add_cards(player_one_cards)\n",
    "                    player_one.add_cards(player_two_cards)\n",
    "                    at_war = False\n",
    "\n",
    "                elif player_one_cards[-1].value < player_two_cards[-1].value:\n",
    "                    player_two.add_cards(player_one_cards)\n",
    "                    player_two.add_cards(player_two_cards)\n",
    "                    at_war = False\n",
    "\n",
    "                else:\n",
    "                    print(f\"War! Player One: {player_one_cards[-1]}, Player Two: {player_two_cards[-1]}\")\n",
    "\n",
    "                    if len(player_one.all_cards) < 5:\n",
    "                        print(\"Player One doesn't have enough cards for war!\")\n",
    "                        print(\"Player Two Wins!\")\n",
    "                        game_on = False\n",
    "                        break\n",
    "\n",
    "                    elif len(player_two.all_cards) < 5:\n",
    "                        print(\"Player Two doesn't have enough cards for war!\")\n",
    "                        print(\"Player One Wins!\")\n",
    "                        game_on = False\n",
    "                        break\n",
    "\n",
    "                    else:\n",
    "                        for num in range(5):\n",
    "                            player_one_cards.append(player_one.remove_one())\n",
    "                            player_two_cards.append(player_two.remove_one())\n",
    "\n",
    "\n"
   ]
  },
  {
   "cell_type": "code",
   "execution_count": 181,
   "id": "6cea897c",
   "metadata": {},
   "outputs": [],
   "source": [
    "def main():\n",
    "    player_one, player_two = set_up_war_game()\n",
    "    war_game(player_one, player_two)"
   ]
  },
  {
   "cell_type": "code",
   "execution_count": 182,
   "id": "d20061c7",
   "metadata": {},
   "outputs": [
    {
     "name": "stdout",
     "output_type": "stream",
     "text": [
      "Round: 1\n",
      "Round: 2\n",
      "Round: 3\n",
      "Round: 4\n",
      "Round: 5\n",
      "Round: 6\n",
      "Round: 7\n",
      "Round: 8\n",
      "Round: 9\n",
      "Round: 10\n",
      "Round: 11\n",
      "Round: 12\n",
      "Round: 13\n",
      "Round: 14\n",
      "Round: 15\n",
      "Round: 16\n",
      "Round: 17\n",
      "Round: 18\n",
      "Round: 19\n",
      "Round: 20\n",
      "Round: 21\n",
      "Round: 22\n",
      "Round: 23\n",
      "Round: 24\n",
      "Round: 25\n",
      "Round: 26\n",
      "Round: 27\n",
      "Round: 28\n",
      "Round: 29\n",
      "Round: 30\n",
      "Round: 31\n",
      "Round: 32\n",
      "Round: 33\n",
      "Round: 34\n",
      "Round: 35\n",
      "Round: 36\n",
      "Round: 37\n",
      "Round: 38\n",
      "Round: 39\n",
      "Round: 40\n",
      "Round: 41\n",
      "Round: 42\n",
      "Round: 43\n",
      "Round: 44\n",
      "Round: 45\n",
      "Round: 46\n",
      "Round: 47\n",
      "Round: 48\n",
      "Round: 49\n",
      "Round: 50\n",
      "Round: 51\n",
      "Round: 52\n",
      "Round: 53\n",
      "Round: 54\n",
      "Round: 55\n",
      "Round: 56\n",
      "Round: 57\n",
      "Round: 58\n",
      "Round: 59\n",
      "Round: 60\n",
      "Round: 61\n",
      "Round: 62\n",
      "Round: 63\n",
      "Round: 64\n",
      "Round: 65\n",
      "Round: 66\n",
      "Round: 67\n",
      "Round: 68\n",
      "Round: 69\n",
      "Round: 70\n",
      "Round: 71\n",
      "Round: 72\n",
      "Round: 73\n",
      "Round: 74\n",
      "Round: 75\n",
      "Round: 76\n",
      "Round: 77\n",
      "Round: 78\n",
      "Round: 79\n",
      "Round: 80\n",
      "Round: 81\n",
      "Round: 82\n",
      "Round: 83\n",
      "Round: 84\n",
      "Round: 85\n",
      "Round: 86\n",
      "Round: 87\n",
      "Round: 88\n",
      "Round: 89\n",
      "Round: 90\n",
      "Round: 91\n",
      "Round: 92\n",
      "Round: 93\n",
      "Round: 94\n",
      "Round: 95\n",
      "Round: 96\n",
      "Round: 97\n",
      "Round: 98\n",
      "Round: 99\n",
      "Round: 100\n",
      "Round: 101\n",
      "Round: 102\n",
      "Round: 103\n",
      "Round: 104\n",
      "Round: 105\n",
      "Round: 106\n",
      "Round: 107\n",
      "Round: 108\n",
      "Round: 109\n",
      "Round: 110\n",
      "Round: 111\n",
      "Round: 112\n",
      "Round: 113\n",
      "Round: 114\n",
      "Round: 115\n",
      "Round: 116\n",
      "Round: 117\n",
      "Round: 118\n",
      "Round: 119\n",
      "Round: 120\n",
      "Round: 121\n",
      "Round: 122\n",
      "Round: 123\n",
      "Round: 124\n",
      "Round: 125\n",
      "Round: 126\n",
      "Round: 127\n",
      "Round: 128\n",
      "Round: 129\n",
      "Round: 130\n",
      "Round: 131\n",
      "Round: 132\n",
      "Round: 133\n",
      "Round: 134\n",
      "Round: 135\n",
      "Round: 136\n",
      "Round: 137\n",
      "Round: 138\n",
      "Round: 139\n",
      "Round: 140\n",
      "Round: 141\n",
      "Round: 142\n",
      "Round: 143\n",
      "Round: 144\n",
      "Round: 145\n",
      "Round: 146\n",
      "Round: 147\n",
      "Round: 148\n",
      "War! Player One: Eight of Hearts, Player Two Eight of Diamonds\n",
      "Round: 149\n",
      "Round: 150\n",
      "Round: 151\n",
      "Round: 152\n",
      "Round: 153\n",
      "Round: 154\n",
      "Round: 155\n",
      "Round: 156\n",
      "Round: 157\n",
      "Round: 158\n",
      "Round: 159\n",
      "Round: 160\n",
      "Round: 161\n",
      "Round: 162\n",
      "Round: 163\n",
      "Round: 164\n",
      "Round: 165\n",
      "Round: 166\n",
      "Round: 167\n",
      "Round: 168\n",
      "Round: 169\n",
      "Round: 170\n",
      "Round: 171\n",
      "Round: 172\n",
      "Round: 173\n",
      "Round: 174\n",
      "Round: 175\n",
      "Round: 176\n",
      "Round: 177\n",
      "Round: 178\n",
      "Round: 179\n",
      "Round: 180\n",
      "Round: 181\n",
      "Round: 182\n",
      "Round: 183\n",
      "Round: 184\n",
      "Round: 185\n",
      "Round: 186\n",
      "Round: 187\n",
      "Round: 188\n",
      "Round: 189\n",
      "Round: 190\n",
      "Round: 191\n",
      "Round: 192\n",
      "Round: 193\n",
      "Round: 194\n",
      "Round: 195\n",
      "Round: 196\n",
      "Round: 197\n",
      "Round: 198\n",
      "Round: 199\n",
      "Round: 200\n",
      "Round: 201\n",
      "War! Player One: Eight of Spades, Player Two Eight of Clubs\n",
      "Round: 202\n",
      "Round: 203\n",
      "Round: 204\n",
      "Round: 205\n",
      "Round: 206\n",
      "Round: 207\n",
      "Round: 208\n",
      "Round: 209\n",
      "Round: 210\n",
      "Round: 211\n",
      "Round: 212\n",
      "Round: 213\n",
      "Round: 214\n",
      "Round: 215\n",
      "Round: 216\n",
      "Round: 217\n",
      "Round: 218\n",
      "Round: 219\n",
      "Round: 220\n",
      "Round: 221\n",
      "Round: 222\n",
      "Round: 223\n",
      "Round: 224\n",
      "Round: 225\n",
      "Round: 226\n",
      "Round: 227\n",
      "Round: 228\n",
      "Round: 229\n",
      "Round: 230\n",
      "Round: 231\n",
      "Round: 232\n",
      "Round: 233\n",
      "Round: 234\n",
      "Round: 235\n",
      "Round: 236\n",
      "Round: 237\n",
      "Round: 238\n",
      "Round: 239\n",
      "Round: 240\n",
      "Round: 241\n",
      "Round: 242\n",
      "Round: 243\n",
      "Round: 244\n",
      "Round: 245\n",
      "Round: 246\n",
      "Round: 247\n",
      "Round: 248\n",
      "Round: 249\n",
      "Round: 250\n",
      "Round: 251\n",
      "Round: 252\n",
      "Round: 253\n",
      "Round: 254\n",
      "Round: 255\n",
      "Round: 256\n",
      "Round: 257\n",
      "Round: 258\n",
      "Round: 259\n",
      "Round: 260\n",
      "Round: 261\n",
      "Round: 262\n",
      "Round: 263\n",
      "Round: 264\n",
      "Round: 265\n",
      "Round: 266\n",
      "Round: 267\n",
      "Round: 268\n",
      "Round: 269\n",
      "Round: 270\n",
      "Round: 271\n",
      "Round: 272\n",
      "Round: 273\n",
      "Round: 274\n",
      "Round: 275\n",
      "Round: 276\n",
      "Round: 277\n",
      "War! Player One: Six of Diamonds, Player Two Six of Hearts\n",
      "Round: 278\n",
      "Round: 279\n",
      "Round: 280\n",
      "Round: 281\n",
      "Round: 282\n",
      "Round: 283\n",
      "Round: 284\n",
      "Round: 285\n",
      "Round: 286\n",
      "Round: 287\n",
      "Round: 288\n",
      "Round: 289\n",
      "Round: 290\n",
      "Round: 291\n",
      "Round: 292\n",
      "Round: 293\n",
      "Round: 294\n",
      "Round: 295\n",
      "Round: 296\n",
      "Round: 297\n",
      "Round: 298\n",
      "Round: 299\n",
      "Round: 300\n",
      "Round: 301\n",
      "Round: 302\n",
      "Round: 303\n",
      "Round: 304\n",
      "Round: 305\n",
      "Round: 306\n",
      "Round: 307\n",
      "Round: 308\n",
      "Round: 309\n",
      "War! Player One: Nine of Spades, Player Two Nine of Clubs\n",
      "Round: 310\n",
      "Round: 311\n",
      "Round: 312\n",
      "Round: 313\n",
      "Round: 314\n",
      "Round: 315\n",
      "Round: 316\n",
      "Round: 317\n",
      "Round: 318\n",
      "Round: 319\n",
      "Player Two, out of cards! Player One wins!\n"
     ]
    }
   ],
   "source": [
    "main()"
   ]
  }
 ],
 "metadata": {
  "kernelspec": {
   "display_name": "Python 3 (ipykernel)",
   "language": "python",
   "name": "python3"
  },
  "language_info": {
   "codemirror_mode": {
    "name": "ipython",
    "version": 3
   },
   "file_extension": ".py",
   "mimetype": "text/x-python",
   "name": "python",
   "nbconvert_exporter": "python",
   "pygments_lexer": "ipython3",
   "version": "3.9.13"
  }
 },
 "nbformat": 4,
 "nbformat_minor": 5
}
