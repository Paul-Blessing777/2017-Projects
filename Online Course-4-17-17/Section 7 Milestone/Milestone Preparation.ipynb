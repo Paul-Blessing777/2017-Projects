{
 "cells": [
  {
   "cell_type": "markdown",
   "id": "a1422b87",
   "metadata": {},
   "source": [
    "### We're going to make an Interactice tic-tac-toe Game"
   ]
  },
  {
   "cell_type": "markdown",
   "id": "458399dc",
   "metadata": {},
   "source": [
    "# Displaying Information"
   ]
  },
  {
   "cell_type": "code",
   "execution_count": 1,
   "id": "980d711c",
   "metadata": {},
   "outputs": [],
   "source": [
    "def display(row1,row2,row3):\n",
    "    print(row1)\n",
    "    print(row2)\n",
    "    print(row3)"
   ]
  },
  {
   "cell_type": "code",
   "execution_count": 2,
   "id": "9f592f4c",
   "metadata": {},
   "outputs": [],
   "source": [
    "example_row = [1,2,3]"
   ]
  },
  {
   "cell_type": "code",
   "execution_count": 3,
   "id": "b4ff5c9f",
   "metadata": {},
   "outputs": [
    {
     "name": "stdout",
     "output_type": "stream",
     "text": [
      "[1, 2, 3]\n",
      "[1, 2, 3]\n",
      "[1, 2, 3]\n"
     ]
    }
   ],
   "source": [
    "display(example_row,example_row,example_row)"
   ]
  },
  {
   "cell_type": "code",
   "execution_count": 4,
   "id": "8da0f356",
   "metadata": {},
   "outputs": [],
   "source": [
    "row1 = [1,2,3]\n",
    "row2 = [\" \", \" \", \" \"]\n",
    "row3 = [\" \", \" \", \" \"]"
   ]
  },
  {
   "cell_type": "code",
   "execution_count": 5,
   "id": "841a3c8f",
   "metadata": {},
   "outputs": [
    {
     "name": "stdout",
     "output_type": "stream",
     "text": [
      "[1, 2, 3]\n",
      "[' ', ' ', ' ']\n",
      "[' ', ' ', ' ']\n"
     ]
    }
   ],
   "source": [
    "display(row1,row2,row3)"
   ]
  },
  {
   "cell_type": "code",
   "execution_count": 8,
   "id": "70c0cd68",
   "metadata": {},
   "outputs": [],
   "source": [
    "row1 = [\" \", \" \", \" \"]\n",
    "row3[2] = 'X'"
   ]
  },
  {
   "cell_type": "code",
   "execution_count": 9,
   "id": "d667fa12",
   "metadata": {},
   "outputs": [
    {
     "name": "stdout",
     "output_type": "stream",
     "text": [
      "[' ', ' ', ' ']\n",
      "[' ', ' ', ' ']\n",
      "[' ', ' ', 'X']\n"
     ]
    }
   ],
   "source": [
    "display(row1,row2,row3)"
   ]
  },
  {
   "cell_type": "markdown",
   "id": "e8a192be",
   "metadata": {},
   "source": [
    "# Accepting User Input"
   ]
  },
  {
   "cell_type": "markdown",
   "id": "846b8184",
   "metadata": {},
   "source": [
    "Nothing new..."
   ]
  },
  {
   "cell_type": "markdown",
   "id": "0e36a9b9",
   "metadata": {},
   "source": [
    "# Validating User Input"
   ]
  },
  {
   "cell_type": "code",
   "execution_count": 89,
   "id": "d7ce2dc5",
   "metadata": {},
   "outputs": [],
   "source": [
    "def user_choice(): # My solution\n",
    "    choice = \"YO\"\n",
    "    valid_choice = False\n",
    "    \n",
    "    while valid_choice is False:\n",
    "        choice = input(\"Please enter a number (0-10): \")\n",
    "        if choice.isdigit() == True:\n",
    "            if int(choice) >= 0 and int(choice) <= 10:\n",
    "                valid_choice = True\n",
    "                break\n",
    "            else:\n",
    "                continue\n",
    "                \n",
    "      \n",
    "    return int(choice)"
   ]
  },
  {
   "cell_type": "code",
   "execution_count": 90,
   "id": "a9bf6fe2",
   "metadata": {},
   "outputs": [
    {
     "name": "stdout",
     "output_type": "stream",
     "text": [
      "Please enter a number (0-10): 55\n",
      "Please enter a number (0-10): 666\n",
      "Please enter a number (0-10): 777\n",
      "Please enter a number (0-10): 7\n"
     ]
    },
    {
     "data": {
      "text/plain": [
       "7"
      ]
     },
     "execution_count": 90,
     "metadata": {},
     "output_type": "execute_result"
    }
   ],
   "source": [
    "user_choice()"
   ]
  },
  {
   "cell_type": "code",
   "execution_count": 91,
   "id": "129c0cb8",
   "metadata": {},
   "outputs": [],
   "source": [
    "def user_choice1():\n",
    "    \n",
    "    choice = input(\"Please Enter a number (0-10): \")\n",
    "    \n",
    "    return int(choice)"
   ]
  },
  {
   "cell_type": "code",
   "execution_count": 104,
   "id": "d29efb04",
   "metadata": {},
   "outputs": [],
   "source": [
    "def user_choice1(): # Teacher's version\n",
    "    choice = \"Wrong\"\n",
    "    acceptable_values = range(0,10)\n",
    "    within_range = False\n",
    "    \n",
    "    while choice.isdigit() == False or within_range != True:\n",
    "        choice = input(\"Please Enter a number (0-10): \")\n",
    "         \n",
    "        if choice.isdigit() == False:\n",
    "            print(\"Sorry that isn't a digit\")\n",
    "        elif int(choice) not in acceptable_values:\n",
    "            print(\"Sorry number must be b/w 0-10\")\n",
    "        else:\n",
    "            within_range = True\n",
    "    return int(choice)"
   ]
  },
  {
   "cell_type": "code",
   "execution_count": 105,
   "id": "ec9d900d",
   "metadata": {},
   "outputs": [
    {
     "name": "stdout",
     "output_type": "stream",
     "text": [
      "Please Enter a number (0-10): gg\n",
      "Sorry that isn't a digit\n",
      "Please Enter a number (0-10): 55\n",
      "Sorry number must be b/w 0-10\n",
      "Please Enter a number (0-10): 4\n"
     ]
    },
    {
     "data": {
      "text/plain": [
       "4"
      ]
     },
     "execution_count": 105,
     "metadata": {},
     "output_type": "execute_result"
    }
   ],
   "source": [
    "user_choice1()"
   ]
  },
  {
   "cell_type": "markdown",
   "id": "5873b780",
   "metadata": {},
   "source": [
    "# SImple User Interaction"
   ]
  },
  {
   "cell_type": "code",
   "execution_count": 1,
   "id": "92993b6c",
   "metadata": {},
   "outputs": [],
   "source": [
    "game_list = [0,1,2]"
   ]
  },
  {
   "cell_type": "code",
   "execution_count": 2,
   "id": "9f1102f0",
   "metadata": {},
   "outputs": [],
   "source": [
    "def display(game_list):\n",
    "    print(f\"Here is the Current List: {game_list}\")"
   ]
  },
  {
   "cell_type": "code",
   "execution_count": 3,
   "id": "68f5bef8",
   "metadata": {},
   "outputs": [
    {
     "name": "stdout",
     "output_type": "stream",
     "text": [
      "Here is the Current List: [0, 1, 2]\n"
     ]
    }
   ],
   "source": [
    "display(game_list)"
   ]
  },
  {
   "cell_type": "code",
   "execution_count": 10,
   "id": "281f4240",
   "metadata": {},
   "outputs": [],
   "source": [
    "def position_choice():\n",
    "    choice = 'WRONG'\n",
    "    \n",
    "    while choice not in ['0','1','2']:\n",
    "        choice = input(\"Pick a choice: 0, 1 or 2: \")\n",
    "        \n",
    "        if choice not in ['0','1','2']:\n",
    "            print(\"Sorry invalid choice\")\n",
    "            \n",
    "    return int(choice)\n",
    "        "
   ]
  },
  {
   "cell_type": "code",
   "execution_count": 11,
   "id": "7ab3e4ee",
   "metadata": {},
   "outputs": [
    {
     "name": "stdout",
     "output_type": "stream",
     "text": [
      "Pick a choice: 0, 1 or 2: r\n",
      "Sorry invalid choice\n",
      "Pick a choice: 0, 1 or 2: 2\n"
     ]
    },
    {
     "data": {
      "text/plain": [
       "2"
      ]
     },
     "execution_count": 11,
     "metadata": {},
     "output_type": "execute_result"
    }
   ],
   "source": [
    "position_choice()"
   ]
  },
  {
   "cell_type": "code",
   "execution_count": 14,
   "id": "e863c2cc",
   "metadata": {},
   "outputs": [],
   "source": [
    "def replacement_choice(game_list,position):\n",
    "    \n",
    "    user_placement = input(\"Type a string to replace selected position: \")\n",
    "    game_list[position] = user_placement\n",
    "    \n",
    "    return game_list"
   ]
  },
  {
   "cell_type": "code",
   "execution_count": 15,
   "id": "33d6fa27",
   "metadata": {},
   "outputs": [
    {
     "name": "stdout",
     "output_type": "stream",
     "text": [
      "Type a string to replace selected position: YO\n"
     ]
    },
    {
     "data": {
      "text/plain": [
       "[0, 'YO', 2]"
      ]
     },
     "execution_count": 15,
     "metadata": {},
     "output_type": "execute_result"
    }
   ],
   "source": [
    "replacement_choice(game_list, 1)"
   ]
  },
  {
   "cell_type": "code",
   "execution_count": 16,
   "id": "ca67b43a",
   "metadata": {},
   "outputs": [],
   "source": [
    "def game0n_choice():\n",
    "    choice = 'WRONG'\n",
    "    \n",
    "    while choice not in [\"Y\", \"N\"]:\n",
    "        choice = input(\"Keep playing Y or N? \").upper()\n",
    "        \n",
    "        if choice not in [\"Y\", \"N\"]:\n",
    "            print(\"Sorry invalid choice\")\n",
    "            \n",
    "    if choice == \"Y\":\n",
    "        return True\n",
    "    elif choice == \"N\":\n",
    "        return False\n",
    "        "
   ]
  },
  {
   "cell_type": "code",
   "execution_count": 21,
   "id": "fac551a7",
   "metadata": {},
   "outputs": [],
   "source": [
    "def play_game():\n",
    "    gameon = True\n",
    "    game_list = [0,1,2]\n",
    "    \n",
    "    while gameon == True:\n",
    "        display(game_list)\n",
    "        choice = position_choice()\n",
    "        game_list = replacement_choice(game_list,choice)\n",
    "        gameon = game0n_choice()\n",
    "        \n",
    "    print(f\"Thanks for playing! Final List: {game_list}\")"
   ]
  },
  {
   "cell_type": "code",
   "execution_count": 22,
   "id": "45946d58",
   "metadata": {},
   "outputs": [
    {
     "name": "stdout",
     "output_type": "stream",
     "text": [
      "Here is the Current List: [0, 1, 2]\n",
      "Pick a choice: 0, 1 or 2: 3\n",
      "Sorry invalid choice\n",
      "Pick a choice: 0, 1 or 2: 0\n",
      "Type a string to replace selected position: Lil\n",
      "Keep playing Y or N? y\n",
      "Here is the Current List: ['Lil', 1, 2]\n",
      "Pick a choice: 0, 1 or 2: 1\n",
      "Type a string to replace selected position: Baby\n",
      "Keep playing Y or N? y\n",
      "Here is the Current List: ['Lil', 'Baby', 2]\n",
      "Pick a choice: 0, 1 or 2: 2\n",
      "Type a string to replace selected position: Aurora\n",
      "Keep playing Y or N? n\n",
      "Thanks for playing! Final List: ['Lil', 'Baby', 'Aurora']\n"
     ]
    }
   ],
   "source": [
    "play_game()"
   ]
  },
  {
   "cell_type": "code",
   "execution_count": null,
   "id": "562ca676",
   "metadata": {},
   "outputs": [],
   "source": []
  }
 ],
 "metadata": {
  "kernelspec": {
   "display_name": "Python 3 (ipykernel)",
   "language": "python",
   "name": "python3"
  },
  "language_info": {
   "codemirror_mode": {
    "name": "ipython",
    "version": 3
   },
   "file_extension": ".py",
   "mimetype": "text/x-python",
   "name": "python",
   "nbconvert_exporter": "python",
   "pygments_lexer": "ipython3",
   "version": "3.9.13"
  }
 },
 "nbformat": 4,
 "nbformat_minor": 5
}
