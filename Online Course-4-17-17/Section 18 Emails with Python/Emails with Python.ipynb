{
 "cells": [
  {
   "cell_type": "markdown",
   "id": "8a9fc201",
   "metadata": {},
   "source": [
    "# Emails with Python"
   ]
  },
  {
   "cell_type": "markdown",
   "id": "5709d0ed",
   "metadata": {},
   "source": [
    "## Sending Emails with Python"
   ]
  },
  {
   "cell_type": "markdown",
   "id": "9ebfaaac",
   "metadata": {},
   "source": [
    "We will use the built-in smtplib library to work with emails"
   ]
  },
  {
   "cell_type": "markdown",
   "id": "78ed1ebc",
   "metadata": {},
   "source": [
    "Each major mail provider has their own smtp (Simple Mail Transfer Protocol) server, e.g. gmail- smtp.gmail.com"
   ]
  },
  {
   "cell_type": "code",
   "execution_count": 1,
   "id": "6faa9088",
   "metadata": {},
   "outputs": [],
   "source": [
    "import smtplib"
   ]
  },
  {
   "cell_type": "code",
   "execution_count": 3,
   "id": "900978aa",
   "metadata": {},
   "outputs": [],
   "source": [
    "smtp_object = smtplib.SMTP('smtp.gmail.com',587)"
   ]
  },
  {
   "cell_type": "code",
   "execution_count": 4,
   "id": "4f1467c7",
   "metadata": {},
   "outputs": [
    {
     "data": {
      "text/plain": [
       "(250,\n",
       " b'smtp.gmail.com at your service, [74.141.2.139]\\nSIZE 35882577\\n8BITMIME\\nSTARTTLS\\nENHANCEDSTATUSCODES\\nPIPELINING\\nCHUNKING\\nSMTPUTF8')"
      ]
     },
     "execution_count": 4,
     "metadata": {},
     "output_type": "execute_result"
    }
   ],
   "source": [
    "smtp_object.ehlo() # shows that a connection has been made"
   ]
  },
  {
   "cell_type": "code",
   "execution_count": 5,
   "id": "70ffe3f1",
   "metadata": {},
   "outputs": [
    {
     "data": {
      "text/plain": [
       "(220, b'2.0.0 Ready to start TLS')"
      ]
     },
     "execution_count": 5,
     "metadata": {},
     "output_type": "execute_result"
    }
   ],
   "source": [
    "smtp_object.starttls() # This starts the TLS encryption process"
   ]
  },
  {
   "cell_type": "code",
   "execution_count": 6,
   "id": "3fbb9c85",
   "metadata": {},
   "outputs": [],
   "source": [
    "import getpass"
   ]
  },
  {
   "cell_type": "code",
   "execution_count": 8,
   "id": "d1a5535e",
   "metadata": {},
   "outputs": [
    {
     "name": "stdout",
     "output_type": "stream",
     "text": [
      "Please provide email:········\n"
     ]
    }
   ],
   "source": [
    "email = getpass.getpass(\"Please provide email:\")"
   ]
  },
  {
   "cell_type": "code",
   "execution_count": 11,
   "id": "b7b8d37c",
   "metadata": {},
   "outputs": [
    {
     "name": "stdout",
     "output_type": "stream",
     "text": [
      "Please provide password: ········\n"
     ]
    }
   ],
   "source": [
    "password = getpass.getpass(\"Please provide password: \")"
   ]
  },
  {
   "cell_type": "code",
   "execution_count": 12,
   "id": "739158c9",
   "metadata": {},
   "outputs": [
    {
     "data": {
      "text/plain": [
       "(235, b'2.7.0 Accepted')"
      ]
     },
     "execution_count": 12,
     "metadata": {},
     "output_type": "execute_result"
    }
   ],
   "source": [
    "smtp_object.login(email,password)"
   ]
  },
  {
   "cell_type": "code",
   "execution_count": 13,
   "id": "3f7da0e6",
   "metadata": {},
   "outputs": [],
   "source": [
    "from_address = email"
   ]
  },
  {
   "cell_type": "code",
   "execution_count": 14,
   "id": "11fe42b2",
   "metadata": {},
   "outputs": [
    {
     "name": "stdout",
     "output_type": "stream",
     "text": [
      "Reciever········\n"
     ]
    }
   ],
   "source": [
    "to_address = getpass.getpass(\"Reciever\")"
   ]
  },
  {
   "cell_type": "code",
   "execution_count": 15,
   "id": "873ab8a7",
   "metadata": {},
   "outputs": [],
   "source": [
    "subject = \"Sending an email via Python to myself\""
   ]
  },
  {
   "cell_type": "code",
   "execution_count": 16,
   "id": "f43deaba",
   "metadata": {},
   "outputs": [],
   "source": [
    "message = \"Hey, you sent this to yourself via Python!\""
   ]
  },
  {
   "cell_type": "code",
   "execution_count": 17,
   "id": "b3421a1e",
   "metadata": {},
   "outputs": [
    {
     "data": {
      "text/plain": [
       "{}"
      ]
     },
     "execution_count": 17,
     "metadata": {},
     "output_type": "execute_result"
    }
   ],
   "source": [
    "msg = \"Subject: \"+subject+\"\\n\"+message\n",
    "smtp_object.sendmail(from_address,to_address,msg)"
   ]
  },
  {
   "cell_type": "markdown",
   "id": "713f80b4",
   "metadata": {},
   "source": [
    "Any empty dictionary being returned means it worked"
   ]
  },
  {
   "cell_type": "code",
   "execution_count": 18,
   "id": "b1364d73",
   "metadata": {},
   "outputs": [
    {
     "data": {
      "text/plain": [
       "(221,\n",
       " b'2.0.0 closing connection m12-20020ac866cc000000b003e9812b0ec9sm3411076qtp.89 - gsmtp')"
      ]
     },
     "execution_count": 18,
     "metadata": {},
     "output_type": "execute_result"
    }
   ],
   "source": [
    "smtp_object.quit() # Closes the connection"
   ]
  },
  {
   "cell_type": "code",
   "execution_count": 19,
   "id": "6e9203e3",
   "metadata": {},
   "outputs": [
    {
     "data": {
      "text/plain": [
       "'C:\\\\Users\\\\ac01658\\\\Python Endeavor\\\\Online Course\\\\Section 18 Emails with Python'"
      ]
     },
     "execution_count": 19,
     "metadata": {},
     "output_type": "execute_result"
    }
   ],
   "source": [
    "pwd"
   ]
  },
  {
   "cell_type": "markdown",
   "id": "bab90358",
   "metadata": {},
   "source": [
    "![](email.jpg)"
   ]
  },
  {
   "cell_type": "markdown",
   "id": "d3f0ea98",
   "metadata": {},
   "source": [
    "Success!"
   ]
  },
  {
   "cell_type": "markdown",
   "id": "42683e6a",
   "metadata": {},
   "source": [
    "## Receiving Emails Via Python"
   ]
  },
  {
   "cell_type": "markdown",
   "id": "6ad92c51",
   "metadata": {},
   "source": [
    "We mean here to view received emails in an inbox via Python. We will use the imaplib for searching an inbox"
   ]
  },
  {
   "cell_type": "code",
   "execution_count": 21,
   "id": "c90350e8",
   "metadata": {},
   "outputs": [],
   "source": [
    "import imaplib"
   ]
  },
  {
   "cell_type": "code",
   "execution_count": 22,
   "id": "f7e5ddb7",
   "metadata": {},
   "outputs": [],
   "source": [
    "M = imaplib.IMAP4_SSL('imap.gmail.com')"
   ]
  },
  {
   "cell_type": "code",
   "execution_count": 23,
   "id": "a7679620",
   "metadata": {},
   "outputs": [],
   "source": [
    "import getpass"
   ]
  },
  {
   "cell_type": "code",
   "execution_count": 24,
   "id": "62765c68",
   "metadata": {},
   "outputs": [
    {
     "name": "stdout",
     "output_type": "stream",
     "text": [
      "Email: ········\n",
      "Password: ········\n"
     ]
    }
   ],
   "source": [
    "email = getpass.getpass(\"Email: \")\n",
    "password = getpass.getpass(\"Password: \")"
   ]
  },
  {
   "cell_type": "code",
   "execution_count": null,
   "id": "d17d0f5b",
   "metadata": {},
   "outputs": [],
   "source": [
    "M.login(email,password)"
   ]
  },
  {
   "cell_type": "code",
   "execution_count": 26,
   "id": "84561e6c",
   "metadata": {},
   "outputs": [
    {
     "data": {
      "text/plain": [
       "('OK',\n",
       " [b'(\\\\HasNoChildren) \"/\" \"INBOX\"',\n",
       "  b'(\\\\HasChildren \\\\Noselect) \"/\" \"[Gmail]\"',\n",
       "  b'(\\\\All \\\\HasNoChildren) \"/\" \"[Gmail]/All Mail\"',\n",
       "  b'(\\\\Drafts \\\\HasNoChildren) \"/\" \"[Gmail]/Drafts\"',\n",
       "  b'(\\\\HasNoChildren \\\\Important) \"/\" \"[Gmail]/Important\"',\n",
       "  b'(\\\\HasNoChildren \\\\Sent) \"/\" \"[Gmail]/Sent Mail\"',\n",
       "  b'(\\\\HasNoChildren \\\\Junk) \"/\" \"[Gmail]/Spam\"',\n",
       "  b'(\\\\Flagged \\\\HasNoChildren) \"/\" \"[Gmail]/Starred\"',\n",
       "  b'(\\\\HasNoChildren \\\\Trash) \"/\" \"[Gmail]/Trash\"'])"
      ]
     },
     "execution_count": 26,
     "metadata": {},
     "output_type": "execute_result"
    }
   ],
   "source": [
    "M.list()"
   ]
  },
  {
   "cell_type": "code",
   "execution_count": 37,
   "id": "6d1b73ac",
   "metadata": {},
   "outputs": [
    {
     "data": {
      "text/plain": [
       "('OK', [b'17'])"
      ]
     },
     "execution_count": 37,
     "metadata": {},
     "output_type": "execute_result"
    }
   ],
   "source": [
    "M.select('inbox')"
   ]
  },
  {
   "cell_type": "code",
   "execution_count": 38,
   "id": "ea256583",
   "metadata": {},
   "outputs": [],
   "source": [
    "typ,data = M.search(None,'SUBJECT \"Picture receipt\"')"
   ]
  },
  {
   "cell_type": "code",
   "execution_count": 39,
   "id": "f130e000",
   "metadata": {},
   "outputs": [
    {
     "data": {
      "text/plain": [
       "'OK'"
      ]
     },
     "execution_count": 39,
     "metadata": {},
     "output_type": "execute_result"
    }
   ],
   "source": [
    "typ"
   ]
  },
  {
   "cell_type": "code",
   "execution_count": 40,
   "id": "6e60ef88",
   "metadata": {},
   "outputs": [],
   "source": [
    "email_id = data[0]"
   ]
  },
  {
   "cell_type": "code",
   "execution_count": 41,
   "id": "43850b5c",
   "metadata": {},
   "outputs": [],
   "source": [
    "result, email_data = M.fetch(email_id, \"(RFC822)\")"
   ]
  },
  {
   "cell_type": "code",
   "execution_count": 45,
   "id": "a9e54173",
   "metadata": {},
   "outputs": [],
   "source": [
    "raw_email = email_data[0][1]"
   ]
  },
  {
   "cell_type": "code",
   "execution_count": 46,
   "id": "e78361c7",
   "metadata": {},
   "outputs": [],
   "source": [
    "raw_email_string = raw_email.decode('utf-8')"
   ]
  },
  {
   "cell_type": "code",
   "execution_count": 47,
   "id": "fa15c4b5",
   "metadata": {},
   "outputs": [],
   "source": [
    "import email"
   ]
  },
  {
   "cell_type": "code",
   "execution_count": 48,
   "id": "b603b299",
   "metadata": {},
   "outputs": [],
   "source": [
    "email_message = email.message_from_string(raw_email_string)"
   ]
  },
  {
   "cell_type": "code",
   "execution_count": 49,
   "id": "23b03898",
   "metadata": {},
   "outputs": [
    {
     "data": {
      "text/plain": [
       "<email.message.Message at 0x247bb1e49d0>"
      ]
     },
     "execution_count": 49,
     "metadata": {},
     "output_type": "execute_result"
    }
   ],
   "source": [
    "email_message"
   ]
  },
  {
   "cell_type": "code",
   "execution_count": 53,
   "id": "f505fed9",
   "metadata": {},
   "outputs": [
    {
     "name": "stdout",
     "output_type": "stream",
     "text": [
      "b'Here\\xe2\\x80\\x99s a picture of our last convo\\r\\n'\n"
     ]
    }
   ],
   "source": [
    "for part in email_message.walk():\n",
    "    if part.get_content_type() == 'text/plain':\n",
    "        body = part.get_payload(decode=True)\n",
    "        print(body)"
   ]
  },
  {
   "cell_type": "code",
   "execution_count": null,
   "id": "bad0c854",
   "metadata": {},
   "outputs": [],
   "source": []
  }
 ],
 "metadata": {
  "kernelspec": {
   "display_name": "Python 3 (ipykernel)",
   "language": "python",
   "name": "python3"
  },
  "language_info": {
   "codemirror_mode": {
    "name": "ipython",
    "version": 3
   },
   "file_extension": ".py",
   "mimetype": "text/x-python",
   "name": "python",
   "nbconvert_exporter": "python",
   "pygments_lexer": "ipython3",
   "version": "3.9.13"
  }
 },
 "nbformat": 4,
 "nbformat_minor": 5
}
