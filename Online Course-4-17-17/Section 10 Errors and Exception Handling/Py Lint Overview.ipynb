{
 "cells": [
  {
   "cell_type": "markdown",
   "id": "3fd93d67",
   "metadata": {},
   "source": [
    "# Py Lint Overview"
   ]
  },
  {
   "cell_type": "markdown",
   "id": "42306753",
   "metadata": {},
   "source": [
    "**Pylint:** This is a library that looks at your code and reports back potential issues <br />\n",
    "**Unittest:** This built in library will allow you to test your own programs and check you are getting desired outputs"
   ]
  },
  {
   "cell_type": "code",
   "execution_count": 1,
   "id": "15c4ca0c",
   "metadata": {},
   "outputs": [],
   "source": [
    "#pylint simple1.py -r y"
   ]
  },
  {
   "cell_type": "code",
   "execution_count": 2,
   "id": "7a2fb360",
   "metadata": {},
   "outputs": [
    {
     "name": "stdout",
     "output_type": "stream",
     "text": [
      "1\n"
     ]
    },
    {
     "ename": "NameError",
     "evalue": "name 'B' is not defined",
     "output_type": "error",
     "traceback": [
      "\u001b[1;31m---------------------------------------------------------------------------\u001b[0m",
      "\u001b[1;31mNameError\u001b[0m                                 Traceback (most recent call last)",
      "\u001b[1;32m~\\AppData\\Local\\Temp\\ipykernel_22672\\2022771765.py\u001b[0m in \u001b[0;36m<module>\u001b[1;34m\u001b[0m\n\u001b[0;32m      3\u001b[0m \u001b[0mb\u001b[0m \u001b[1;33m=\u001b[0m \u001b[1;36m2\u001b[0m\u001b[1;33m\u001b[0m\u001b[1;33m\u001b[0m\u001b[0m\n\u001b[0;32m      4\u001b[0m \u001b[0mprint\u001b[0m\u001b[1;33m(\u001b[0m\u001b[0ma\u001b[0m\u001b[1;33m)\u001b[0m\u001b[1;33m\u001b[0m\u001b[1;33m\u001b[0m\u001b[0m\n\u001b[1;32m----> 5\u001b[1;33m \u001b[0mprint\u001b[0m\u001b[1;33m(\u001b[0m\u001b[0mB\u001b[0m\u001b[1;33m)\u001b[0m\u001b[1;33m\u001b[0m\u001b[1;33m\u001b[0m\u001b[0m\n\u001b[0m",
      "\u001b[1;31mNameError\u001b[0m: name 'B' is not defined"
     ]
    }
   ],
   "source": [
    "# Our first iteration\n",
    "a = 1\n",
    "b = 2\n",
    "print(a)\n",
    "print(B)"
   ]
  },
  {
   "cell_type": "markdown",
   "id": "1c4158d9",
   "metadata": {},
   "source": [
    "Received a 0/10 by pylint"
   ]
  },
  {
   "cell_type": "code",
   "execution_count": 3,
   "id": "9cd62b85",
   "metadata": {},
   "outputs": [
    {
     "name": "stdout",
     "output_type": "stream",
     "text": [
      "1\n",
      "2\n"
     ]
    }
   ],
   "source": [
    "\"\"\"\n",
    "A Very Simple Script\n",
    "\"\"\"\n",
    "\n",
    "def myfunc():\n",
    "    \"\"\"\n",
    "    A Simple Function\n",
    "    \"\"\"\n",
    "    first = 1\n",
    "    second = 2\n",
    "    print(first)\n",
    "    print(second)\n",
    "\n",
    "myfunc()"
   ]
  },
  {
   "cell_type": "markdown",
   "id": "fc6d704d",
   "metadata": {},
   "source": [
    "Our second iteration: Received a pylint score of 10/10"
   ]
  },
  {
   "cell_type": "code",
   "execution_count": null,
   "id": "04252439",
   "metadata": {},
   "outputs": [],
   "source": []
  }
 ],
 "metadata": {
  "kernelspec": {
   "display_name": "Python 3 (ipykernel)",
   "language": "python",
   "name": "python3"
  },
  "language_info": {
   "codemirror_mode": {
    "name": "ipython",
    "version": 3
   },
   "file_extension": ".py",
   "mimetype": "text/x-python",
   "name": "python",
   "nbconvert_exporter": "python",
   "pygments_lexer": "ipython3",
   "version": "3.9.13"
  }
 },
 "nbformat": 4,
 "nbformat_minor": 5
}
