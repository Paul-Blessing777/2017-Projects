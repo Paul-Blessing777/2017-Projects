{
 "cells": [
  {
   "cell_type": "markdown",
   "id": "80a467e5",
   "metadata": {},
   "source": [
    "# Errors and Exception Handling"
   ]
  },
  {
   "cell_type": "markdown",
   "id": "c591bd46",
   "metadata": {},
   "source": [
    "We Will use Try: Except: and Finally: keywords to handle errors"
   ]
  },
  {
   "cell_type": "code",
   "execution_count": 1,
   "id": "7281de04",
   "metadata": {},
   "outputs": [],
   "source": [
    "def add(num1,num2):\n",
    "    print(num1+num2)"
   ]
  },
  {
   "cell_type": "code",
   "execution_count": 2,
   "id": "c820c5ff",
   "metadata": {},
   "outputs": [],
   "source": [
    "# What if they use a string?"
   ]
  },
  {
   "cell_type": "code",
   "execution_count": 3,
   "id": "e71fc05b",
   "metadata": {},
   "outputs": [
    {
     "ename": "TypeError",
     "evalue": "unsupported operand type(s) for +: 'int' and 'str'",
     "output_type": "error",
     "traceback": [
      "\u001b[1;31m---------------------------------------------------------------------------\u001b[0m",
      "\u001b[1;31mTypeError\u001b[0m                                 Traceback (most recent call last)",
      "\u001b[1;32m~\\AppData\\Local\\Temp\\ipykernel_22756\\1402537794.py\u001b[0m in \u001b[0;36m<module>\u001b[1;34m\u001b[0m\n\u001b[1;32m----> 1\u001b[1;33m \u001b[0madd\u001b[0m\u001b[1;33m(\u001b[0m\u001b[1;36m1\u001b[0m\u001b[1;33m,\u001b[0m\u001b[1;34m\"Five\"\u001b[0m\u001b[1;33m)\u001b[0m\u001b[1;33m\u001b[0m\u001b[1;33m\u001b[0m\u001b[0m\n\u001b[0m",
      "\u001b[1;32m~\\AppData\\Local\\Temp\\ipykernel_22756\\1525164568.py\u001b[0m in \u001b[0;36madd\u001b[1;34m(num1, num2)\u001b[0m\n\u001b[0;32m      1\u001b[0m \u001b[1;32mdef\u001b[0m \u001b[0madd\u001b[0m\u001b[1;33m(\u001b[0m\u001b[0mnum1\u001b[0m\u001b[1;33m,\u001b[0m\u001b[0mnum2\u001b[0m\u001b[1;33m)\u001b[0m\u001b[1;33m:\u001b[0m\u001b[1;33m\u001b[0m\u001b[1;33m\u001b[0m\u001b[0m\n\u001b[1;32m----> 2\u001b[1;33m     \u001b[0mprint\u001b[0m\u001b[1;33m(\u001b[0m\u001b[0mnum1\u001b[0m\u001b[1;33m+\u001b[0m\u001b[0mnum2\u001b[0m\u001b[1;33m)\u001b[0m\u001b[1;33m\u001b[0m\u001b[1;33m\u001b[0m\u001b[0m\n\u001b[0m",
      "\u001b[1;31mTypeError\u001b[0m: unsupported operand type(s) for +: 'int' and 'str'"
     ]
    }
   ],
   "source": [
    "add(1,\"Five\") # We get an error"
   ]
  },
  {
   "cell_type": "code",
   "execution_count": 6,
   "id": "1e537991",
   "metadata": {},
   "outputs": [
    {
     "name": "stdout",
     "output_type": "stream",
     "text": [
      "20\n"
     ]
    }
   ],
   "source": [
    "try:\n",
    "    # Want to attempt this code\n",
    "    # May have an error\n",
    "    result = add(10,10)\n",
    "except:\n",
    "    print(\"Hey looks like you aren't adding correctly\")"
   ]
  },
  {
   "cell_type": "code",
   "execution_count": 7,
   "id": "0ec42120",
   "metadata": {},
   "outputs": [
    {
     "name": "stdout",
     "output_type": "stream",
     "text": [
      "Hey looks like you aren't adding correctly\n"
     ]
    }
   ],
   "source": [
    "try:\n",
    "    # Want to attempt this code\n",
    "    # May have an error\n",
    "    result = add(10,\"ten\")\n",
    "except:\n",
    "    print(\"Hey looks like you aren't adding correctly\")"
   ]
  },
  {
   "cell_type": "code",
   "execution_count": 9,
   "id": "16d66715",
   "metadata": {},
   "outputs": [
    {
     "name": "stdout",
     "output_type": "stream",
     "text": [
      "20\n",
      "Add Successful\n"
     ]
    }
   ],
   "source": [
    "try:\n",
    "    # Want to attempt this code\n",
    "    # May have an error\n",
    "    result = add(10,10)\n",
    "except:\n",
    "    print(\"Hey looks like you aren't adding correctly\")\n",
    "else:\n",
    "    print(\"Add Successful\")"
   ]
  },
  {
   "cell_type": "code",
   "execution_count": null,
   "id": "09ea0db0",
   "metadata": {},
   "outputs": [],
   "source": []
  },
  {
   "cell_type": "code",
   "execution_count": 11,
   "id": "39bcc26f",
   "metadata": {},
   "outputs": [
    {
     "name": "stdout",
     "output_type": "stream",
     "text": [
      "I Always Run\n"
     ]
    }
   ],
   "source": [
    "try:\n",
    "    f = open(\"testfile\", 'w')\n",
    "    f.write(\"Write a Test Line\")\n",
    "except TypeError:\n",
    "    print(\"THere was a type error\")\n",
    "except OSError:\n",
    "    print(\"Hey you have an OS error\")\n",
    "finally:\n",
    "    print(\"I Always Run\")"
   ]
  },
  {
   "cell_type": "code",
   "execution_count": 13,
   "id": "c953dace",
   "metadata": {},
   "outputs": [
    {
     "name": "stdout",
     "output_type": "stream",
     "text": [
      "Hey you have an OS error\n",
      "I Always Run\n"
     ]
    }
   ],
   "source": [
    "try:\n",
    "    f = open(\"testfile\", 'r') # Let's say we use r by mistake\n",
    "    f.write(\"Write a Test Line\")\n",
    "except TypeError:\n",
    "    print(\"THere was a type error\")\n",
    "except OSError:\n",
    "    print(\"Hey you have an OS error\")\n",
    "except:\n",
    "    print(\"Some other kind of error\")\n",
    "finally:\n",
    "    print(\"I Always Run\")"
   ]
  },
  {
   "cell_type": "code",
   "execution_count": 14,
   "id": "20b5deb3",
   "metadata": {},
   "outputs": [],
   "source": [
    "def ask_for_int():\n",
    "    try:\n",
    "        result = int(input(\"Please provide a number: \"))\n",
    "    except:\n",
    "        print(\"Whoops! That isn't a number\")\n",
    "    finally:\n",
    "        print(\"End of Try/Except/Finally\")"
   ]
  },
  {
   "cell_type": "code",
   "execution_count": 15,
   "id": "fe994842",
   "metadata": {},
   "outputs": [
    {
     "name": "stdout",
     "output_type": "stream",
     "text": [
      "Please provide a number: 12\n",
      "End of Try/Except/Finally\n"
     ]
    }
   ],
   "source": [
    "ask_for_int()"
   ]
  },
  {
   "cell_type": "code",
   "execution_count": 17,
   "id": "04305bb5",
   "metadata": {},
   "outputs": [
    {
     "name": "stdout",
     "output_type": "stream",
     "text": [
      "Please provide a number: word\n",
      "Whoops! That isn't a number\n",
      "End of Try/Except/Finally\n"
     ]
    }
   ],
   "source": [
    "ask_for_int()"
   ]
  },
  {
   "cell_type": "code",
   "execution_count": 23,
   "id": "d84684ac",
   "metadata": {},
   "outputs": [],
   "source": [
    "def ask_for_int():\n",
    "    while True:\n",
    "        try:\n",
    "            result = int(input(\"Please provide a number: \"))\n",
    "        except:\n",
    "            print(\"Whoops! That isn't a number\")\n",
    "            continue\n",
    "        else:\n",
    "            print(\"Yes Thank you!\")\n",
    "            break\n",
    "        finally:\n",
    "            print(\"End of Try/Except/Finally\")"
   ]
  },
  {
   "cell_type": "code",
   "execution_count": 24,
   "id": "b779c1a7",
   "metadata": {},
   "outputs": [
    {
     "name": "stdout",
     "output_type": "stream",
     "text": [
      "Please provide a number: \n",
      "Whoops! That isn't a number\n",
      "End of Try/Except/Finally\n",
      "Please provide a number: 55\n",
      "Yes Thank you!\n",
      "End of Try/Except/Finally\n"
     ]
    }
   ],
   "source": [
    "ask_for_int()"
   ]
  },
  {
   "cell_type": "code",
   "execution_count": 20,
   "id": "9c98ee16",
   "metadata": {},
   "outputs": [
    {
     "name": "stdout",
     "output_type": "stream",
     "text": [
      "Please provide a number: gd\n",
      "Whoops! That isn't a number\n",
      "End of Try/Except/Finally\n",
      "Please provide a number: fdafwe\n",
      "Whoops! That isn't a number\n",
      "End of Try/Except/Finally\n",
      "Please provide a number: 777\n",
      "Yes thank you!\n",
      "End of Try/Except/Finally\n"
     ]
    }
   ],
   "source": [
    "ask_for_int()"
   ]
  },
  {
   "cell_type": "code",
   "execution_count": null,
   "id": "e10ca17f",
   "metadata": {},
   "outputs": [],
   "source": []
  }
 ],
 "metadata": {
  "kernelspec": {
   "display_name": "Python 3 (ipykernel)",
   "language": "python",
   "name": "python3"
  },
  "language_info": {
   "codemirror_mode": {
    "name": "ipython",
    "version": 3
   },
   "file_extension": ".py",
   "mimetype": "text/x-python",
   "name": "python",
   "nbconvert_exporter": "python",
   "pygments_lexer": "ipython3",
   "version": "3.9.13"
  }
 },
 "nbformat": 4,
 "nbformat_minor": 5
}
