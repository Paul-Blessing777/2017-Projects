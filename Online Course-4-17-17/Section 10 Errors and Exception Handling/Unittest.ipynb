{
 "cells": [
  {
   "cell_type": "markdown",
   "id": "b9aee7cd",
   "metadata": {},
   "source": [
    "# Unittest"
   ]
  },
  {
   "cell_type": "markdown",
   "id": "8c57fdec",
   "metadata": {},
   "source": [
    "See Desktop Folder \"Unittest\" for the files"
   ]
  },
  {
   "cell_type": "code",
   "execution_count": 1,
   "id": "2ee56421",
   "metadata": {},
   "outputs": [],
   "source": [
    "# Cap.py\n",
    "def cap_text(text):\n",
    "    \"\"\"\n",
    "    Input a string\n",
    "    output the capitalized string\n",
    "    \"\"\"\n",
    "    return text.capitalize()"
   ]
  },
  {
   "cell_type": "code",
   "execution_count": 2,
   "id": "be2304ff",
   "metadata": {},
   "outputs": [
    {
     "ename": "ModuleNotFoundError",
     "evalue": "No module named 'cap'",
     "output_type": "error",
     "traceback": [
      "\u001b[1;31m---------------------------------------------------------------------------\u001b[0m",
      "\u001b[1;31mModuleNotFoundError\u001b[0m                       Traceback (most recent call last)",
      "\u001b[1;32m~\\AppData\\Local\\Temp\\ipykernel_18276\\2673500448.py\u001b[0m in \u001b[0;36m<module>\u001b[1;34m\u001b[0m\n\u001b[0;32m      1\u001b[0m \u001b[1;31m# test_cap.py\u001b[0m\u001b[1;33m\u001b[0m\u001b[1;33m\u001b[0m\u001b[0m\n\u001b[0;32m      2\u001b[0m \u001b[1;32mimport\u001b[0m \u001b[0munittest\u001b[0m\u001b[1;33m\u001b[0m\u001b[1;33m\u001b[0m\u001b[0m\n\u001b[1;32m----> 3\u001b[1;33m \u001b[1;32mimport\u001b[0m \u001b[0mcap\u001b[0m\u001b[1;33m\u001b[0m\u001b[1;33m\u001b[0m\u001b[0m\n\u001b[0m\u001b[0;32m      4\u001b[0m \u001b[1;33m\u001b[0m\u001b[0m\n\u001b[0;32m      5\u001b[0m \u001b[1;32mclass\u001b[0m \u001b[0mTestCap\u001b[0m\u001b[1;33m(\u001b[0m\u001b[0munittest\u001b[0m\u001b[1;33m.\u001b[0m\u001b[0mTestCase\u001b[0m\u001b[1;33m)\u001b[0m\u001b[1;33m:\u001b[0m\u001b[1;33m\u001b[0m\u001b[1;33m\u001b[0m\u001b[0m\n",
      "\u001b[1;31mModuleNotFoundError\u001b[0m: No module named 'cap'"
     ]
    }
   ],
   "source": [
    "# test_cap.py\n",
    "import unittest\n",
    "import cap\n",
    "\n",
    "class TestCap(unittest.TestCase):\n",
    "\n",
    "    def test_one_word(self):\n",
    "        text = 'python'\n",
    "        result = cap.cap_text(text)\n",
    "        self.assertEqual(result, 'Python')\n",
    "\n",
    "    def test_multiple_words(self):\n",
    "        text = 'monty python'\n",
    "        result = cap.cap_text(text)\n",
    "        self.assertEqual(result, \"Monty Python\")\n",
    "\n",
    "if __name__ == '__main__':\n",
    "    unittest.main()"
   ]
  },
  {
   "cell_type": "markdown",
   "id": "492bb9f2",
   "metadata": {},
   "source": [
    "When we ran out test we got an error for the test_multiple_words, we need a different method than capitalize"
   ]
  },
  {
   "cell_type": "markdown",
   "id": "2e8e10b7",
   "metadata": {},
   "source": [
    "After making the following change we passed both tests"
   ]
  },
  {
   "cell_type": "code",
   "execution_count": 3,
   "id": "55b72958",
   "metadata": {},
   "outputs": [],
   "source": [
    "def cap_text(text):\n",
    "    \"\"\"\n",
    "    Input a string\n",
    "    output the capitalized string\n",
    "    \"\"\"\n",
    "    return text.title()"
   ]
  },
  {
   "cell_type": "code",
   "execution_count": null,
   "id": "4f0e58d6",
   "metadata": {},
   "outputs": [],
   "source": []
  }
 ],
 "metadata": {
  "kernelspec": {
   "display_name": "Python 3 (ipykernel)",
   "language": "python",
   "name": "python3"
  },
  "language_info": {
   "codemirror_mode": {
    "name": "ipython",
    "version": 3
   },
   "file_extension": ".py",
   "mimetype": "text/x-python",
   "name": "python",
   "nbconvert_exporter": "python",
   "pygments_lexer": "ipython3",
   "version": "3.9.13"
  }
 },
 "nbformat": 4,
 "nbformat_minor": 5
}
