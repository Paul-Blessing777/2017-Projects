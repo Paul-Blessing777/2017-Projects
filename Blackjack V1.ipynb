{
 "cells": [
  {
   "cell_type": "code",
   "execution_count": 1,
   "id": "2cd89e86",
   "metadata": {},
   "outputs": [],
   "source": [
    "import random\n",
    "values = {'Acelow':1, 'Two':2, 'Three':3, 'Four':4, 'Five':5, 'Six':6, 'Seven':7, 'Eight':8, \n",
    "            'Nine':9, 'Ten':10, 'Jack':10, 'Queen':10, 'King':10, 'Ace':11}\n",
    "\n",
    "suits = ('Hearts', 'Diamonds', 'Spades', 'Clubs')\n",
    "\n",
    "ranks = ('Two', 'Three', 'Four', 'Five', 'Six', 'Seven', 'Eight', 'Nine', 'Ten', 'Jack', 'Queen', 'King', 'Ace')"
   ]
  },
  {
   "cell_type": "markdown",
   "id": "97d61e93",
   "metadata": {},
   "source": [
    "# Card Class"
   ]
  },
  {
   "cell_type": "code",
   "execution_count": 2,
   "id": "f259e395",
   "metadata": {},
   "outputs": [],
   "source": [
    "class Card():\n",
    "    \n",
    "    def __init__(self,suit,rank):\n",
    "        self.suit = suit\n",
    "        self.rank = rank\n",
    "        self.value = values[self.rank.capitalize()]\n",
    "        \n",
    "    def __str__(self):\n",
    "        return f\"{self.rank.capitalize()} of {self.suit}\"\n",
    "    \n",
    "    def ace(self,modifier= 'no'):\n",
    "        if modifier.lower() == 'yes':\n",
    "            self.rank = \"Acelow\"\n",
    "            self.value = values[self.rank.capitalize()]\n",
    "        "
   ]
  },
  {
   "cell_type": "markdown",
   "id": "e30677ad",
   "metadata": {},
   "source": [
    "# Deck Class"
   ]
  },
  {
   "cell_type": "code",
   "execution_count": 3,
   "id": "98a3c2b8",
   "metadata": {},
   "outputs": [],
   "source": [
    "class Deck():\n",
    "    \n",
    "    def __init__(self):\n",
    "        \n",
    "        self.cards = []\n",
    "        \n",
    "        for suit in suits:\n",
    "            for rank in ranks:\n",
    "                card = Card(suit,rank)\n",
    "                self.cards.append(card)\n",
    "                \n",
    "    def shuffle(self):\n",
    "        random.shuffle(self.cards)\n",
    "        \n",
    "    def deal(self):\n",
    "        return self.cards.pop(0)\n",
    "    \n",
    "    def __str__(self):\n",
    "        return f\"Deck of {len(self.cards)} cards\""
   ]
  },
  {
   "cell_type": "markdown",
   "id": "6b8c4d30",
   "metadata": {},
   "source": [
    "# Player Class"
   ]
  },
  {
   "cell_type": "code",
   "execution_count": 4,
   "id": "e152b2d0",
   "metadata": {},
   "outputs": [],
   "source": [
    "class Player():\n",
    "    \n",
    "    def __init__(self, name, chips=0):\n",
    "        self.name = name\n",
    "        self.hand = []\n",
    "        self.chips = chips\n",
    "        self.hand_list = []\n",
    "        \n",
    "    def add_to_hand(self, added_card):\n",
    "        self.hand_list = []\n",
    "        self.hand.append(added_card)\n",
    "        for card in self.hand:\n",
    "            self.hand_list.append(str(card))\n",
    "        \n",
    "    def special_display(self):\n",
    "        self.hand_list = []\n",
    "        for card in self.hand:\n",
    "            self.hand_list.append(str(card))\n",
    "        return f\"{str(self.hand_list[0])} and Hidden Card\"\n",
    "        \n",
    "        \n",
    "    def display_hand(self):\n",
    "        self.hand_list = []\n",
    "        for card in self.hand:\n",
    "            self.hand_list.append(str(card))\n",
    "        return f\"{str(self.hand_list)}\"\n",
    "\n",
    "    \n",
    "    def __str__(self):\n",
    "        self.hand_list = []\n",
    "        for card in self.hand:\n",
    "            self.hand_list.append(str(card))\n",
    "        return f\"Player: {self.name} has cards {str(self.hand_list)} and {self.chips} chips\"\n",
    "    \n",
    "    def hand_value(self):\n",
    "        self.value_hand = 0\n",
    "        for card in self.hand:\n",
    "            self.value_hand += card.value\n",
    "        return self.value_hand\n",
    "        "
   ]
  },
  {
   "cell_type": "markdown",
   "id": "11c05975",
   "metadata": {},
   "source": [
    "# Game"
   ]
  },
  {
   "cell_type": "code",
   "execution_count": 5,
   "id": "836e16f8",
   "metadata": {},
   "outputs": [],
   "source": [
    "def set_up_game():\n",
    "    \n",
    "   \n",
    "    name = input(\"What's your name? \")\n",
    "    player = Player(name, 10)\n",
    "    dealer = Player('Dealer')\n",
    "    deck = Deck()\n",
    "    deck.shuffle()\n",
    "    return player, dealer , deck"
   ]
  },
  {
   "cell_type": "code",
   "execution_count": 6,
   "id": "9219a2d8",
   "metadata": {},
   "outputs": [],
   "source": [
    "def final_check(player,dealer):\n",
    "    print(f\"{dealer.name} hit 17 or above and stopped for a total value of {dealer.hand_value()}\")\n",
    "    \n",
    "    if player.hand_value() > dealer.hand_value():\n",
    "        print(f\"{player.name}'s hand value: {player.hand_value()} || {dealer.name}'s hand value: {dealer.hand_value()}\")\n",
    "        print(f\"{player.name} you won! with a hand of {player.hand_list} and value of {player.hand_value()}\")\n",
    "        \n",
    "    elif player.hand_value() < dealer.hand_value():\n",
    "        print(f\"{player.name}'s hand value: {player.hand_value()} || {dealer.name}'s hand value: {dealer.hand_value()}\")\n",
    "        print(f\"{dealer.name} you won! with a hand of {dealer.hand_list} and value of {dealer.hand_value()}\")\n",
    "        \n",
    "    elif player.hand_value() == dealer.hand_value():\n",
    "        print(\"There was a draw\")"
   ]
  },
  {
   "cell_type": "code",
   "execution_count": 7,
   "id": "5aed47bb",
   "metadata": {},
   "outputs": [],
   "source": [
    "def initial_deal(player,dealer):\n",
    "    dealing = True\n",
    "    play_game = None\n",
    "    \n",
    "    while dealing:\n",
    "        ace_check_normal(player)\n",
    "        if player.hand_value() > 21:\n",
    "            print(f\"{player.name} sorry you BUSTED!\")\n",
    "            print(f\"{dealer.name} Wins!\")\n",
    "            play_game = False\n",
    "            dealing = False\n",
    "            break\n",
    "        elif player.hand_value() == 21:\n",
    "            print(f\"{player.name} you hit Black Jack! You Win!\")\n",
    "            play_game = False\n",
    "            dealing = False\n",
    "            break\n",
    "\n",
    "        choice = input(\"Would you like to hit or stay? \")\n",
    "        if choice.lower() == 'hit':\n",
    "            player.hand.append(deck.deal())\n",
    "            print(f\"{player.name}'s hand is now {player.display_hand()} value is {player.hand_value()}\")\n",
    "        elif choice.lower() == 'stay':\n",
    "            play_game = True\n",
    "            dealing = False\n",
    "            break\n",
    "            \n",
    "    return play_game"
   ]
  },
  {
   "cell_type": "code",
   "execution_count": 8,
   "id": "f6d33ce3",
   "metadata": {},
   "outputs": [],
   "source": [
    "def ace_check_normal(player):\n",
    "    total = player.hand_value()\n",
    "    hand_ranks = []\n",
    "\n",
    "    for card in player.hand:\n",
    "        hand_ranks.append(card.rank)\n",
    "    \n",
    "    if total > 21 and \"Ace\" in hand_ranks:\n",
    "        for card in player.hand:\n",
    "            if card.value == 11:\n",
    "                card.ace('yes')"
   ]
  },
  {
   "cell_type": "code",
   "execution_count": 9,
   "id": "da0b84b8",
   "metadata": {},
   "outputs": [],
   "source": [
    "def ace_check_initial(player):\n",
    "    total = player.hand_value()\n",
    "    hand_ranks = []\n",
    "    \n",
    "    for card in player.hand:\n",
    "        hand_ranks.append(card.rank)\n",
    "    \n",
    "    if player.hand_value() == 22:\n",
    "        change_card = player.hand[0]\n",
    "        change_card.ace('yes')\n",
    "    elif \"Ace\" in hand_ranks and player.hand_value() != 21:\n",
    "        player_choice = int(input(\"Would you like your Ace to be 11 0r 1? \"))\n",
    "        if player_choice == 1:\n",
    "            for card in player.hand:\n",
    "                if card.value == 11:\n",
    "                    card.ace('yes')\n",
    "            print(\"Ace is 1\")\n",
    "            print(f\"{player.name}'s hand is now {player.display_hand()} value is {player.hand_value()}\")\n",
    "        else:\n",
    "            print(\"Ace is 11\")\n",
    "            print(f\"{player.name}'s hand is now {player.display_hand()} value is {player.hand_value()}\")\n"
   ]
  },
  {
   "cell_type": "code",
   "execution_count": 11,
   "id": "bcbd96c6",
   "metadata": {},
   "outputs": [
    {
     "name": "stdout",
     "output_type": "stream",
     "text": [
      "What's your name? Paul\n",
      "Let's play Black Jack Paul\n",
      "Good Luck against the Dealer\n",
      "Paul's hand ['Jack of Clubs', 'Ace of Hearts'] value is 21\n",
      "Dealer's hand Jack of Hearts and Hidden Card value is 10\n",
      "Paul you hit Black Jack! You Win!\n"
     ]
    }
   ],
   "source": [
    "player,dealer, deck = set_up_game()\n",
    "\n",
    "print(f\"Let's play Black Jack {player.name}\")\n",
    "print(f\"Good Luck against the {dealer.name}\")\n",
    "\n",
    "play_game = True\n",
    "\n",
    "\n",
    "for i in range(2):\n",
    "    dealer.hand.append(deck.deal())\n",
    "    player.hand.append(deck.deal())\n",
    "print(f\"{player.name}'s hand {player.display_hand()} value is {player.hand_value()}\")\n",
    "print(f\"{dealer.name}'s hand {dealer.special_display()} value is {dealer.hand_value() - dealer.hand[1].value}\")\n",
    "\n",
    "# If Player has an Ace they choose if its an 11 or 1\n",
    "ace_check_initial(player)\n",
    "\n",
    "while play_game == True:\n",
    "    play_game = initial_deal(player,dealer)\n",
    "    if play_game == False:\n",
    "        break\n",
    "\n",
    "\n",
    "    print(f\"Dealer Flipped their hidden card!\")\n",
    "    print(f\"{dealer.name}'s hand {dealer.display_hand()} value is {dealer.hand_value()}\")\n",
    "\n",
    "    while dealer.hand_value() < 17:\n",
    "        print(f\"{dealer.name} is below 17, will now draw cards\")\n",
    "        dealer.add_to_hand(deck.deal())\n",
    "        print(f\"{dealer.name} added {dealer.hand_list[-1]} for a total value of {dealer.hand_value()}\")\n",
    "    if dealer.hand_value() > 21:\n",
    "        print(f\"{dealer.name} BUSTED!\")\n",
    "        print(f\"{player.name} Wins!\")\n",
    "        play_game = False\n",
    "        break\n",
    "    else:\n",
    "        final_check(player,dealer)\n",
    "        play_game = False\n",
    "\n",
    "\n"
   ]
  },
  {
   "cell_type": "code",
   "execution_count": null,
   "id": "3ccd777e",
   "metadata": {},
   "outputs": [],
   "source": []
  }
 ],
 "metadata": {
  "kernelspec": {
   "display_name": "Python 3 (ipykernel)",
   "language": "python",
   "name": "python3"
  },
  "language_info": {
   "codemirror_mode": {
    "name": "ipython",
    "version": 3
   },
   "file_extension": ".py",
   "mimetype": "text/x-python",
   "name": "python",
   "nbconvert_exporter": "python",
   "pygments_lexer": "ipython3",
   "version": "3.9.13"
  }
 },
 "nbformat": 4,
 "nbformat_minor": 5
}
