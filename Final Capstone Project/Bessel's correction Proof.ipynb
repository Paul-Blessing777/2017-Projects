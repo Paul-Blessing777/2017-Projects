{
 "cells": [
  {
   "cell_type": "markdown",
   "id": "c1b62223",
   "metadata": {},
   "source": [
    "# Bessel's correction\n"
   ]
  },
  {
   "cell_type": "markdown",
   "id": "345fcb75",
   "metadata": {},
   "source": [
    "This program will simulate why Bessel's correction is necessary when finding the sample variance."
   ]
  },
  {
   "cell_type": "code",
   "execution_count": 1,
   "id": "95a5cbe3",
   "metadata": {},
   "outputs": [],
   "source": [
    "import random\n",
    "from statistics_module import variance, standard_dev, mean,variance_bias\n",
    "import ipywidgets as widgets"
   ]
  },
  {
   "cell_type": "code",
   "execution_count": 2,
   "id": "83d5cb9b",
   "metadata": {},
   "outputs": [],
   "source": [
    "def main(n=1):\n",
    "    \n",
    "    population = []\n",
    "    n_sample_variance = []\n",
    "    n_1_sample_variance = []\n",
    "    \n",
    "    \n",
    "    for i in range(5000):\n",
    "        population.append(random.randint(200,300))\n",
    "        \n",
    "    pop_mean = mean(population)\n",
    "    pop_variance = round(variance(population),2)\n",
    "    pop_sdv = standard_dev(population)\n",
    "    \n",
    "    \n",
    "    \n",
    "    # How many simulations we will do\n",
    "    for i in range(n):\n",
    "        sample = []\n",
    "        # Shuffles the population to give different samples\n",
    "        random.shuffle(population)\n",
    "        # Creates a sample\n",
    "        for i in range(1000):\n",
    "            sample.append(population[i])\n",
    "        \n",
    "        # Finds variance via n\n",
    "        v = variance_bias(sample)\n",
    "        n_sample_variance.append(v)\n",
    "        \n",
    "        # Find variance via n-1\n",
    "        v2 = variance(sample)\n",
    "        n_1_sample_variance.append(v2)\n",
    "        \n",
    "        \n",
    "    n_variance_avg = round(mean(n_sample_variance),2)\n",
    "    n_1_variance_avg = round(mean(n_1_sample_variance),2)\n",
    "        \n",
    "    print(f\"Bias Sample avg variance {n_variance_avg} and Unbiased Sample avg variance {n_1_variance_avg} pop var {pop_variance}\")\n",
    "    print(f\"Diff b/w bias var and pop var: {round(pop_variance-n_variance_avg,2)}|| Diff b/w unbias var and pop var: {round(pop_variance - n_1_variance_avg,2)}\")\n",
    "    \n",
    "        \n"
   ]
  },
  {
   "cell_type": "code",
   "execution_count": 3,
   "id": "44d00360",
   "metadata": {},
   "outputs": [
    {
     "data": {
      "application/vnd.jupyter.widget-view+json": {
       "model_id": "38a929b1249043c884c2686f8bd377b8",
       "version_major": 2,
       "version_minor": 0
      },
      "text/plain": [
       "interactive(children=(IntSlider(value=1, description='n', max=1500, step=500), Output()), _dom_classes=('widge…"
      ]
     },
     "metadata": {},
     "output_type": "display_data"
    }
   ],
   "source": [
    "widgets.interact(main,n=(0,1500,500));"
   ]
  },
  {
   "cell_type": "code",
   "execution_count": null,
   "id": "3cf21abf",
   "metadata": {},
   "outputs": [],
   "source": []
  }
 ],
 "metadata": {
  "kernelspec": {
   "display_name": "Python 3 (ipykernel)",
   "language": "python",
   "name": "python3"
  },
  "language_info": {
   "codemirror_mode": {
    "name": "ipython",
    "version": 3
   },
   "file_extension": ".py",
   "mimetype": "text/x-python",
   "name": "python",
   "nbconvert_exporter": "python",
   "pygments_lexer": "ipython3",
   "version": "3.9.13"
  }
 },
 "nbformat": 4,
 "nbformat_minor": 5
}
