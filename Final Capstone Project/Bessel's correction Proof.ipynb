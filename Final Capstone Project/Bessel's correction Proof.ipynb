{
 "cells": [
  {
   "cell_type": "markdown",
   "id": "c1b62223",
   "metadata": {},
   "source": [
    "# Bessel's correction\n"
   ]
  },
  {
   "cell_type": "markdown",
   "id": "345fcb75",
   "metadata": {},
   "source": [
    "This program will simulate why Bessel's correction is necessary when finding the sample variance."
   ]
  },
  {
   "cell_type": "code",
   "execution_count": 1,
   "id": "95a5cbe3",
   "metadata": {},
   "outputs": [],
   "source": [
    "import random\n",
    "from statistics_module import variance, standard_dev, mean,variance_bias"
   ]
  },
  {
   "cell_type": "code",
   "execution_count": 4,
   "id": "83d5cb9b",
   "metadata": {},
   "outputs": [],
   "source": [
    "def main(n):\n",
    "    \n",
    "    population = []\n",
    "    n_sample_variance = []\n",
    "    n_1_sample_variance = []\n",
    "    \n",
    "    \n",
    "    for i in range(5000):\n",
    "        population.append(random.randint(200,300))\n",
    "        \n",
    "    pop_mean = mean(population)\n",
    "    pop_variance = round(variance(population),2)\n",
    "    pop_sdv = standard_dev(population)\n",
    "    \n",
    "    \n",
    "    \n",
    "    # How many simulations we will do\n",
    "    for i in range(n):\n",
    "        sample = []\n",
    "        # Shuffles the population to give different samples\n",
    "        random.shuffle(population)\n",
    "        # Creates a sample\n",
    "        for i in range(1000):\n",
    "            sample.append(population[i])\n",
    "        \n",
    "        # Finds variance via n\n",
    "        v = variance_bias(sample)\n",
    "        n_sample_variance.append(v)\n",
    "        \n",
    "        # Find variance via n-1\n",
    "        v2 = variance(sample)\n",
    "        n_1_sample_variance.append(v2)\n",
    "        \n",
    "        \n",
    "    n_variance_avg = round(mean(n_sample_variance),2)\n",
    "    n_1_variance_avg = round(mean(n_1_sample_variance),2)\n",
    "        \n",
    "    print(f\"Bias Sample avg variance {n_variance_avg} and Unbiased Sample avg variance {n_1_variance_avg} pop var {pop_variance}\")\n",
    "    print(f\"Diff b/w bias var and pop var: {round(pop_variance-n_variance_avg,2)}|| Diff b/w unbias var and pop var: {round(pop_variance - n_1_variance_avg,2)}\")\n",
    "    \n",
    "        \n"
   ]
  },
  {
   "cell_type": "code",
   "execution_count": 6,
   "id": "44d00360",
   "metadata": {},
   "outputs": [
    {
     "name": "stdout",
     "output_type": "stream",
     "text": [
      "Bias Sample avg variance 856.91 and Unbiased Sample avg variance 857.76 pop var 857.75\n",
      "Diff b/w bias var and pop var: 0.84|| Diff b/w unbias var and pop var: -0.01\n"
     ]
    }
   ],
   "source": [
    "main(1000)"
   ]
  },
  {
   "cell_type": "code",
   "execution_count": null,
   "id": "3cf21abf",
   "metadata": {},
   "outputs": [],
   "source": []
  }
 ],
 "metadata": {
  "kernelspec": {
   "display_name": "Python 3 (ipykernel)",
   "language": "python",
   "name": "python3"
  },
  "language_info": {
   "codemirror_mode": {
    "name": "ipython",
    "version": 3
   },
   "file_extension": ".py",
   "mimetype": "text/x-python",
   "name": "python",
   "nbconvert_exporter": "python",
   "pygments_lexer": "ipython3",
   "version": "3.9.13"
  }
 },
 "nbformat": 4,
 "nbformat_minor": 5
}
