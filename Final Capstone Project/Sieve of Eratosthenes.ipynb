{
 "cells": [
  {
   "cell_type": "markdown",
   "id": "6734f817",
   "metadata": {},
   "source": [
    "# Sieve of Eratosthenes"
   ]
  },
  {
   "cell_type": "markdown",
   "id": "0822cc4e",
   "metadata": {},
   "source": [
    "**Sieve of Eratosthenes** - The sieve of Eratosthenes is one of the most efficient ways to find all of the smaller primes (below 10 million or so)."
   ]
  },
  {
   "cell_type": "code",
   "execution_count": 185,
   "id": "cd9b749c",
   "metadata": {},
   "outputs": [],
   "source": [
    "def sieve_of_eratosthenes(n):\n",
    "    \"\"\"\n",
    "    This Program runs the Sieve of Eratosthenes to find all prime numbers up to n\n",
    "    \"\"\"\n",
    "    \n",
    "    # Get a dictionary with numbers 2-n, with intial values \"UNMARKED\"\n",
    "    marker_dictionary = make_marker_dict(n)\n",
    "\n",
    "   \n",
    "    # Goes through all unmarked numbers and performs the sieve algo\n",
    "    for i in range(2,n+1): \n",
    "        counter = 2\n",
    "        limit = 0\n",
    "        p = i\n",
    "        \n",
    "        # Makes sure next number hasn't been marked\n",
    "        if marker_dictionary[i] == \"UNMARKED\":\n",
    "            while limit <= n:\n",
    "                limit = p * (counter)\n",
    "                if limit <=n:\n",
    "                    marker_dictionary[limit] = 'MARKED'\n",
    "                counter += 1\n",
    "       \n",
    "    # initalize prime list as empty\n",
    "    prime_list = []\n",
    "    \n",
    "    # Appends all prime numbers \"UNMARKED\" to the prime list\n",
    "    for i in range(2,n+1):\n",
    "        if marker_dictionary[i] == \"UNMARKED\":\n",
    "            prime_list.append(i)\n",
    "        \n",
    "    # The list of prime numbers is returned\n",
    "    return prime_list"
   ]
  },
  {
   "cell_type": "code",
   "execution_count": 186,
   "id": "eb754938",
   "metadata": {},
   "outputs": [],
   "source": [
    "my_result =sieve_of_eratosthenes(121)"
   ]
  },
  {
   "cell_type": "code",
   "execution_count": 187,
   "id": "89da7dfd",
   "metadata": {},
   "outputs": [],
   "source": [
    "check_list = [2,3,5,7, 11, 13, 17, 19,23,29,31,37, 41, 43, 47, 53, 59, 61, 67, 71, 73, 79, 83, 89, 97,101,103,107,109,113]"
   ]
  },
  {
   "cell_type": "code",
   "execution_count": 188,
   "id": "5268fe13",
   "metadata": {},
   "outputs": [
    {
     "data": {
      "text/plain": [
       "True"
      ]
     },
     "execution_count": 188,
     "metadata": {},
     "output_type": "execute_result"
    }
   ],
   "source": [
    "my_result == check_list"
   ]
  },
  {
   "cell_type": "markdown",
   "id": "567d578a",
   "metadata": {},
   "source": []
  },
  {
   "cell_type": "code",
   "execution_count": 189,
   "id": "44065c61",
   "metadata": {},
   "outputs": [],
   "source": [
    "def make_marker_dict(n):\n",
    "    \"\"\"\n",
    "    This function makes a dictionary of all number 2-n with initial values of \"UNMARKED\"\n",
    "    \"\"\"\n",
    "    \n",
    "    o_list = []\n",
    "    for i in range(2,n+1):\n",
    "        o_list.append(\"UNMARKED\")\n",
    "\n",
    "\n",
    "    enum = enumerate(o_list,2)\n",
    "    d = dict((x,y) for x, y in enum)\n",
    "    \n",
    "    return d"
   ]
  },
  {
   "cell_type": "code",
   "execution_count": 190,
   "id": "305afb2e",
   "metadata": {},
   "outputs": [
    {
     "data": {
      "text/plain": [
       "{2: 'UNMARKED',\n",
       " 3: 'UNMARKED',\n",
       " 4: 'UNMARKED',\n",
       " 5: 'UNMARKED',\n",
       " 6: 'UNMARKED',\n",
       " 7: 'UNMARKED',\n",
       " 8: 'UNMARKED',\n",
       " 9: 'UNMARKED',\n",
       " 10: 'UNMARKED'}"
      ]
     },
     "execution_count": 190,
     "metadata": {},
     "output_type": "execute_result"
    }
   ],
   "source": [
    "make_marker_dict(10)"
   ]
  },
  {
   "cell_type": "markdown",
   "id": "8753e450",
   "metadata": {},
   "source": [
    "# Ces't Fini!"
   ]
  }
 ],
 "metadata": {
  "kernelspec": {
   "display_name": "Python 3 (ipykernel)",
   "language": "python",
   "name": "python3"
  },
  "language_info": {
   "codemirror_mode": {
    "name": "ipython",
    "version": 3
   },
   "file_extension": ".py",
   "mimetype": "text/x-python",
   "name": "python",
   "nbconvert_exporter": "python",
   "pygments_lexer": "ipython3",
   "version": "3.9.13"
  }
 },
 "nbformat": 4,
 "nbformat_minor": 5
}
