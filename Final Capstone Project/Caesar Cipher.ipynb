{
 "cells": [
  {
   "cell_type": "markdown",
   "id": "8f837e5c",
   "metadata": {},
   "source": [
    "# Caesar Cipher"
   ]
  },
  {
   "cell_type": "code",
   "execution_count": 21,
   "id": "58469a3f",
   "metadata": {},
   "outputs": [],
   "source": [
    "def caesar_cipher(phrase,code=False):\n",
    "    phrase = phrase.lower()\n",
    "    list_phrase = list(phrase)\n",
    "    \n",
    "    cypher = ['x','y','z','a','b','c','d','e','f','g','h','i','j','k','l','m','n','o','p','q','r','s','t','u','v','w',\" \"]\n",
    "    plain = ['a','b','c','d','e','f','g','h','i','j','k','l','m','n','o','p','q','r','s','t','u','v','w','x','y','z', \" \"]\n",
    "    decrypted_phrase = \"\"\n",
    "    crypted_phrase = \"\"\n",
    "    \n",
    "    if code == False:\n",
    "        for letter in phrase:\n",
    "            decrypted_phrase += plain[cypher.index(letter)]\n",
    "        return decrypted_phrase.capitalize()\n",
    "    \n",
    "    if code == True:\n",
    "        for letter in phrase:\n",
    "            crypted_phrase += cypher[plain.index(letter)]\n",
    "        return crypted_phrase.capitalize()"
   ]
  },
  {
   "cell_type": "code",
   "execution_count": 23,
   "id": "b0d4cbeb",
   "metadata": {},
   "outputs": [
    {
     "data": {
      "text/plain": [
       "'Qeb nrfzh yoltk clu grjmp lsbo qeb ixwv ald'"
      ]
     },
     "execution_count": 23,
     "metadata": {},
     "output_type": "execute_result"
    }
   ],
   "source": [
    "caesar_cipher('THE QUICK BROWN FOX JUMPS OVER THE LAZY DOG', code=True)"
   ]
  },
  {
   "cell_type": "code",
   "execution_count": 24,
   "id": "c61f8aa9",
   "metadata": {},
   "outputs": [
    {
     "data": {
      "text/plain": [
       "'The quick brown fox jumps over the lazy dog'"
      ]
     },
     "execution_count": 24,
     "metadata": {},
     "output_type": "execute_result"
    }
   ],
   "source": [
    "caesar_cipher('Qeb nrfzh yoltk clu grjmp lsbo qeb ixwv ald', code=False)"
   ]
  }
 ],
 "metadata": {
  "kernelspec": {
   "display_name": "Python 3 (ipykernel)",
   "language": "python",
   "name": "python3"
  },
  "language_info": {
   "codemirror_mode": {
    "name": "ipython",
    "version": 3
   },
   "file_extension": ".py",
   "mimetype": "text/x-python",
   "name": "python",
   "nbconvert_exporter": "python",
   "pygments_lexer": "ipython3",
   "version": "3.9.13"
  }
 },
 "nbformat": 4,
 "nbformat_minor": 5
}
