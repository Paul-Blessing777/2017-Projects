{
 "cells": [
  {
   "cell_type": "markdown",
   "id": "105ac1bc",
   "metadata": {},
   "source": [
    "# Tic Tac Toe Game"
   ]
  },
  {
   "cell_type": "markdown",
   "id": "88a6de61",
   "metadata": {},
   "source": [
    "## Game Functions"
   ]
  },
  {
   "cell_type": "code",
   "execution_count": 21,
   "id": "5f961e38",
   "metadata": {},
   "outputs": [
    {
     "name": "stdout",
     "output_type": "stream",
     "text": [
      "Let's Play Tic-Tac-Toe!\n",
      "   |   |  \n",
      " ----------\n",
      "   |   |  \n",
      " ----------\n",
      "   |   |  \n",
      "Player 1: Select X or O: X\n",
      "Player 1(X): select a Square (1,2,3) (4,5,6) (7,8,9): 1\n",
      " X |   |  \n",
      " ----------\n",
      "   |   |  \n",
      " ----------\n",
      "   |   |  \n",
      "Player 2(O): select a Square (1,2,3) (4,5,6) (7,8,9): 9\n",
      " X |   |  \n",
      " ----------\n",
      "   |   |  \n",
      " ----------\n",
      "   |   | O\n",
      "Player 1(X): select a Square (1,2,3) (4,5,6) (7,8,9): 7\n",
      " X |   |  \n",
      " ----------\n",
      "   |   |  \n",
      " ----------\n",
      " X |   | O\n",
      "Player 2(O): select a Square (1,2,3) (4,5,6) (7,8,9): 4\n",
      " X |   |  \n",
      " ----------\n",
      " O |   |  \n",
      " ----------\n",
      " X |   | O\n",
      "Player 1(X): select a Square (1,2,3) (4,5,6) (7,8,9): 3\n",
      " X |   | X\n",
      " ----------\n",
      " O |   |  \n",
      " ----------\n",
      " X |   | O\n",
      "Player 2(O): select a Square (1,2,3) (4,5,6) (7,8,9): 5\n",
      " X |   | X\n",
      " ----------\n",
      " O | O |  \n",
      " ----------\n",
      " X |   | O\n",
      "Player 1(X): select a Square (1,2,3) (4,5,6) (7,8,9): 6\n",
      " X |   | X\n",
      " ----------\n",
      " O | O | X\n",
      " ----------\n",
      " X |   | O\n",
      "Player 2(O): select a Square (1,2,3) (4,5,6) (7,8,9): 8\n",
      " X |   | X\n",
      " ----------\n",
      " O | O | X\n",
      " ----------\n",
      " X | O | O\n",
      "Player 1(X): select a Square (1,2,3) (4,5,6) (7,8,9): 2\n",
      " X | X | X\n",
      " ----------\n",
      " O | O | X\n",
      " ----------\n",
      " X | O | O\n",
      "Player 1 X Wins!\n"
     ]
    }
   ],
   "source": [
    "tic_tac_toe()"
   ]
  },
  {
   "cell_type": "code",
   "execution_count": 11,
   "id": "8b4df89d",
   "metadata": {},
   "outputs": [],
   "source": [
    "def tic_tac_toe():\n",
    "    row1 = [\" \",\" \",\" \"]\n",
    "    row2 = [\" \",\" \",\" \"]\n",
    "    row3 = [\" \",\" \",\" \"]\n",
    "    \n",
    "    print(\"Let's Play Tic-Tac-Toe!\")\n",
    "    display(row1,row2,row3)\n",
    "    play_game()"
   ]
  },
  {
   "cell_type": "markdown",
   "id": "82311ca8",
   "metadata": {},
   "source": [
    "### Main Game"
   ]
  },
  {
   "cell_type": "code",
   "execution_count": 12,
   "id": "b95fab00",
   "metadata": {},
   "outputs": [],
   "source": [
    "def play_game():\n",
    "    \n",
    "    # Initalize the board as empty\n",
    "    row1 = [\" \",\" \",\" \"]\n",
    "    row2 = [\" \",\" \",\" \"]\n",
    "    row3 = [\" \",\" \",\" \"]\n",
    "    # Initialize the parameter to keep the game going\n",
    "    keep_playing = True\n",
    "    \n",
    "    # Have Players select if they are X or O\n",
    "    player1,player2 = player_select()\n",
    "    \n",
    "    while keep_playing == True:\n",
    "        # Player 1 picks his square, the board is updated and displayed\n",
    "        pick1 = picks(player1,\"Player 1\")  \n",
    "        row1,row2,row3 = board_status(player1,pick1,row1,row2,row3)\n",
    "        display(row1,row2,row3)\n",
    "        \n",
    "        \n",
    "        # Checks to see if the game has ended by player1 win or draw\n",
    "        if game_over(row1,row2,row3) == \"X\" or game_over(row1,row2,row3) == \"O\" or game_over(row1,row2,row3) == \"draw\":\n",
    "            keep_playing = False\n",
    "            break\n",
    "            \n",
    "        # Player 2 picks his square, the board is updated and displayed\n",
    "        pick2 = picks(player2,\"Player 2\")\n",
    "        row1,row2,row3 = board_status(player2,pick2,row1,row2,row3)\n",
    "        display(row1,row2,row3)\n",
    "        \n",
    "        # Checks to see if the game has ended by player2 win or draw\n",
    "        if game_over(row1,row2,row3) == \"X\" or game_over(row1,row2,row3) == \"O\" or game_over(row1,row2,row3) == \"draw\":\n",
    "            keep_playing = False\n",
    "            break\n",
    "            \n",
    "    #Announce Winner\n",
    "    announce_winner(row1,row2,row3,player1,player2)\n",
    "        \n",
    "    "
   ]
  },
  {
   "cell_type": "markdown",
   "id": "2986a828",
   "metadata": {},
   "source": [
    "### Shows Display of Game Board"
   ]
  },
  {
   "cell_type": "code",
   "execution_count": 13,
   "id": "a6744e85",
   "metadata": {},
   "outputs": [],
   "source": [
    "def display(row1, row2, row3):\n",
    "    \n",
    "    game = f\"\"\" {row1[0]} | {row1[1] } | {row1[2]}\"\"\"\n",
    "    game2 = f\"\"\" {row2[0]} | {row2[1] } | {row2[2]}\"\"\"\n",
    "    game3 = f\"\"\" {row3[0]} | {row3[1] } | {row3[2]}\"\"\"\n",
    "    \n",
    "    print(game)\n",
    "    print(\" ----------\")\n",
    "    print(game2)\n",
    "    print(\" ----------\")\n",
    "    print(game3)"
   ]
  },
  {
   "cell_type": "markdown",
   "id": "959a9893",
   "metadata": {},
   "source": [
    "### Checks for Game Over Status"
   ]
  },
  {
   "cell_type": "code",
   "execution_count": 14,
   "id": "89b148d5",
   "metadata": {},
   "outputs": [],
   "source": [
    "def game_over(row1,row2,row3):\n",
    "    \n",
    "    x_win = [\"X\", \"X\", \"X\"]\n",
    "    o_win = [\"O\", \"O\", \"O\"]\n",
    "    winner = \" \"\n",
    "    \n",
    "    column1 = [row1[0], row2[0], row3[0]]\n",
    "    column2 = [row1[1], row2[1], row3[1]]\n",
    "    column3 = [row1[2], row2[2], row3[2]]\n",
    "    \n",
    "    diagonal1 = [row1[0], row2[1], row3[2]]\n",
    "    diagonal2 = [row1[2], row2[1], row3[0]]\n",
    "    \n",
    "    # Check Horizantal columns\n",
    "    if row1 == x_win  or row2 == x_win or row3 == x_win:\n",
    "        winner = \"X\"\n",
    "    elif row1 == o_win  or row2 == o_win or row3 == o_win:\n",
    "        winner = \"O\"\n",
    "        \n",
    "    # Check Vertical Columns\n",
    "    elif column1 == x_win or column2 == x_win or column3 == x_win:\n",
    "        winner = \"X\"\n",
    "    elif column1 == o_win or column2 == o_win or column3 == o_win:\n",
    "        winner = \"O\"\n",
    "        \n",
    "    # Check Diagonally\n",
    "    elif diagonal1 == x_win or diagonal2 == x_win:\n",
    "        winner = \"X\"\n",
    "    elif diagonal1 == o_win or diagonal2 == o_win:\n",
    "        winner = \"O\"\n",
    "    elif \" \" not in row1 and \" \" not in row2 and \" \" not in row3:\n",
    "        winner = \"draw\"\n",
    "    return winner"
   ]
  },
  {
   "cell_type": "markdown",
   "id": "1cbe9620",
   "metadata": {},
   "source": [
    "### Has Players Select either X or O"
   ]
  },
  {
   "cell_type": "code",
   "execution_count": 15,
   "id": "96b23049",
   "metadata": {},
   "outputs": [],
   "source": [
    "def player_select():\n",
    "    player1 = None\n",
    "    player2 = None\n",
    "    \n",
    "    while player1 != \"X\" or player1 != \"O\":\n",
    "        player1 = input(\"Player 1: Select X or O: \").upper()\n",
    "        if player1 == \"X\":\n",
    "            player2 = \"O\"\n",
    "            break\n",
    "        elif player1 == \"O\":\n",
    "            player2 = \"X\"\n",
    "            break\n",
    "        else:\n",
    "            print(\"You Must Only Select X or O!\")\n",
    "            \n",
    "    return player1, player2"
   ]
  },
  {
   "cell_type": "markdown",
   "id": "cd13f08a",
   "metadata": {},
   "source": [
    "### Gives the Current Status of the Board"
   ]
  },
  {
   "cell_type": "code",
   "execution_count": 20,
   "id": "4904f44e",
   "metadata": {},
   "outputs": [],
   "source": [
    "def board_status(player,selection,row1,row2,row3):\n",
    "    \n",
    "    if selection == 1 and row1[0] == \" \":\n",
    "        row1[0] = player\n",
    "    if selection == 2 and row1[1] == \" \":\n",
    "        row1[1] = player\n",
    "    if selection == 3 and row1[2] == \" \":\n",
    "        row1[2] = player\n",
    "    if selection == 4 and row2[0] == \" \":\n",
    "        row2[0] = player\n",
    "    if selection == 5 and row2[1] == \" \":\n",
    "        row2[1] = player\n",
    "    if selection == 6 and row2[2] == \" \":\n",
    "        row2[2] = player\n",
    "    if selection == 7 and row3[0] == \" \":\n",
    "        row3[0] = player\n",
    "    if selection == 8 and row3[1] == \" \":\n",
    "        row3[1] = player\n",
    "    if selection == 9 and row3[2] == \" \":\n",
    "        row3[2] = player\n",
    "    \n",
    "    return row1,row2,row3"
   ]
  },
  {
   "cell_type": "markdown",
   "id": "e1173fb1",
   "metadata": {},
   "source": [
    "### Has A Player Select which square to place their X or O"
   ]
  },
  {
   "cell_type": "code",
   "execution_count": 17,
   "id": "99be3dcc",
   "metadata": {},
   "outputs": [],
   "source": [
    "def picks(player_symbol,player):\n",
    "    \n",
    "    pick = None\n",
    "    p_done = False\n",
    "    selected = []\n",
    "    \n",
    "    while p_done == False:\n",
    "            pick = input(f\"{player}({player_symbol}): select a Square (1,2,3) (4,5,6) (7,8,9): \").upper()\n",
    "            if pick not in \"123456789\":\n",
    "                print(\"Must Pick a number b/w 1-9!\")\n",
    "                continue\n",
    "            else:\n",
    "                if int(pick) in selected:\n",
    "                    print(\"Square already selected!\")\n",
    "                    continue\n",
    "                else:\n",
    "                    pick = int(pick)\n",
    "                    selected.append(pick)\n",
    "                    p_done = True\n",
    "                    \n",
    "    return pick"
   ]
  },
  {
   "cell_type": "markdown",
   "id": "dc650fc5",
   "metadata": {},
   "source": [
    "### Declares Winner"
   ]
  },
  {
   "cell_type": "code",
   "execution_count": 18,
   "id": "b7c68495",
   "metadata": {},
   "outputs": [],
   "source": [
    "def announce_winner(row1,row2,row3,player1,player2):\n",
    "    \n",
    "    if game_over(row1,row2,row3) == player1:\n",
    "        print(f\"Player 1 {player1} Wins!\")\n",
    "    elif game_over(row1,row2,row3) == player2:\n",
    "        print(f\"Player 2 {player2} Wins!\")\n",
    "    elif game_over(row1,row2,row3) == \"draw\":\n",
    "        print(\"There was a Draw...\")"
   ]
  }
 ],
 "metadata": {
  "kernelspec": {
   "display_name": "Python 3 (ipykernel)",
   "language": "python",
   "name": "python3"
  },
  "language_info": {
   "codemirror_mode": {
    "name": "ipython",
    "version": 3
   },
   "file_extension": ".py",
   "mimetype": "text/x-python",
   "name": "python",
   "nbconvert_exporter": "python",
   "pygments_lexer": "ipython3",
   "version": "3.9.13"
  }
 },
 "nbformat": 4,
 "nbformat_minor": 5
}
