{
 "cells": [
  {
   "cell_type": "markdown",
   "id": "d3b6444b",
   "metadata": {},
   "source": [
    "# Unit 2: Displaying and comparing quantitative data"
   ]
  },
  {
   "cell_type": "markdown",
   "id": "8aeeba71",
   "metadata": {},
   "source": [
    "Histograms will have \"Buckets\" e.g. 0-10, 11-20, etc."
   ]
  },
  {
   "cell_type": "code",
   "execution_count": null,
   "id": "f729a436",
   "metadata": {},
   "outputs": [],
   "source": []
  }
 ],
 "metadata": {
  "kernelspec": {
   "display_name": "Python 3 (ipykernel)",
   "language": "python",
   "name": "python3"
  },
  "language_info": {
   "codemirror_mode": {
    "name": "ipython",
    "version": 3
   },
   "file_extension": ".py",
   "mimetype": "text/x-python",
   "name": "python",
   "nbconvert_exporter": "python",
   "pygments_lexer": "ipython3",
   "version": "3.9.13"
  }
 },
 "nbformat": 4,
 "nbformat_minor": 5
}
