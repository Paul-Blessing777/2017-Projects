{
 "cells": [
  {
   "cell_type": "code",
   "execution_count": 3,
   "id": "9e9d1df5",
   "metadata": {},
   "outputs": [],
   "source": [
    "import math"
   ]
  },
  {
   "cell_type": "markdown",
   "id": "9e982e95",
   "metadata": {},
   "source": [
    "# Mean"
   ]
  },
  {
   "cell_type": "code",
   "execution_count": 4,
   "id": "4df63566",
   "metadata": {},
   "outputs": [],
   "source": [
    "def mean(a_list):\n",
    "    return sum(a_list) / len(a_list)"
   ]
  },
  {
   "cell_type": "markdown",
   "id": "0defe72a",
   "metadata": {},
   "source": [
    "# Standard Deviation"
   ]
  },
  {
   "cell_type": "code",
   "execution_count": 5,
   "id": "1aab8507",
   "metadata": {},
   "outputs": [],
   "source": [
    "def standard_dev(a_list):\n",
    "\n",
    "        \n",
    "    return variance(a_list)**.5"
   ]
  },
  {
   "cell_type": "markdown",
   "id": "300e826d",
   "metadata": {},
   "source": [
    "# Variance"
   ]
  },
  {
   "cell_type": "code",
   "execution_count": 6,
   "id": "1d285b53",
   "metadata": {},
   "outputs": [],
   "source": [
    "def variance(a_list):\n",
    "    mean = sum(a_list) / len(a_list)\n",
    "    x_sum = 0\n",
    "    \n",
    "    for num in a_list:\n",
    "        x_sum += (num - mean)**2\n",
    "        \n",
    "    return (x_sum* 1/(len(a_list)-1))"
   ]
  },
  {
   "cell_type": "markdown",
   "id": "ff4d4d6e",
   "metadata": {},
   "source": [
    "# Mean Average Deviation"
   ]
  },
  {
   "cell_type": "code",
   "execution_count": 7,
   "id": "24d72e9b",
   "metadata": {},
   "outputs": [],
   "source": [
    "def mean_avg_deviation(a_list):\n",
    "    \n",
    "    data_mean =  mean(a_list)\n",
    "    avg_deviation = 0\n",
    "    \n",
    "    for num in a_list:\n",
    "        avg_deviation += (abs(data_mean-num))\n",
    "        \n",
    "    return avg_deviation / len(a_list)"
   ]
  },
  {
   "cell_type": "markdown",
   "id": "fc541a35",
   "metadata": {},
   "source": [
    "# Median"
   ]
  },
  {
   "cell_type": "code",
   "execution_count": 11,
   "id": "ecd8c643",
   "metadata": {},
   "outputs": [],
   "source": [
    "def median(list1):\n",
    "    easy_median = False\n",
    "    median = 0.0\n",
    "    list1.sort()\n",
    "    \n",
    "    median_pos = (len(list1)+1) / 2\n",
    "    \n",
    "    if int(median_pos) == median_pos:\n",
    "        easy_median = True\n",
    "        \n",
    "    if easy_median == True:\n",
    "        median = list1[int(median_pos)-1]\n",
    "        return float(median)\n",
    "    else:\n",
    "        lower_median_pos = int(median_pos-1)\n",
    "        upper_median_pos = int(median_pos)\n",
    "        median = ((list1[upper_median_pos]) + (list1[lower_median_pos])) /2\n",
    "        return float(median)"
   ]
  },
  {
   "cell_type": "markdown",
   "id": "5d4b08c8",
   "metadata": {},
   "source": [
    "# Find Quartile1 and Quartile2"
   ]
  },
  {
   "cell_type": "code",
   "execution_count": 12,
   "id": "c3bc7a3f",
   "metadata": {},
   "outputs": [],
   "source": [
    "def find_q1_q2(list22):\n",
    "    low_list = []\n",
    "    high_list = []\n",
    "    list22.sort()\n",
    "    \n",
    "\n",
    "    median_position = (len(list22)+1) / 2\n",
    "    for num in list22:\n",
    "        if (list22.index(num)) +1 < median_position:\n",
    "            low_list.append(num)\n",
    "\n",
    "        elif (list22.index(num))+1 > median_position:\n",
    "            high_list.append(num)\n",
    "            \n",
    "    return median(low_list), median(high_list)"
   ]
  },
  {
   "cell_type": "markdown",
   "id": "44653a81",
   "metadata": {},
   "source": [
    "# Interquartile Range"
   ]
  },
  {
   "cell_type": "code",
   "execution_count": 13,
   "id": "388e9396",
   "metadata": {},
   "outputs": [],
   "source": [
    "def interquartile_range(q1,q3):\n",
    "    \n",
    "    return q3-q1"
   ]
  },
  {
   "cell_type": "markdown",
   "id": "8bcda6ae",
   "metadata": {},
   "source": [
    "# Find Outliers 1.5IQR Rule (Median Focus)"
   ]
  },
  {
   "cell_type": "code",
   "execution_count": 14,
   "id": "85b3f671",
   "metadata": {},
   "outputs": [],
   "source": [
    "def is_outlier_median(a_list):\n",
    "    \n",
    "    q1,q3 = find_q1_q2(a_list)\n",
    "    iqr = q3 - q1\n",
    "    low_outlier_marker = q1-(1.5*iqr)\n",
    "    high_outlier_marker = q3+(1.5*iqr)\n",
    "    \n",
    "    outlier_list = []\n",
    "    \n",
    "    for item in a_list:\n",
    "        if item < low_outlier_marker:\n",
    "            outlier_list.append(item)\n",
    "        elif item > high_outlier_marker:\n",
    "            outlier_list.append(item)\n",
    "    \n",
    "    return outlier_list"
   ]
  },
  {
   "cell_type": "markdown",
   "id": "56e3be9e",
   "metadata": {},
   "source": [
    "# Find Outliers 2SDV and 3SDV+ (Mean Focus)"
   ]
  },
  {
   "cell_type": "code",
   "execution_count": 15,
   "id": "5d686cf7",
   "metadata": {},
   "outputs": [],
   "source": [
    "def is_outlier_mean(a_list):\n",
    "    \n",
    "    mean1 = mean(a_list)\n",
    "    sdv = standard_dev(a_list)\n",
    "    outlier_low = []\n",
    "    outlier_high = []\n",
    "    \n",
    "    for num in a_list:\n",
    "        if num > (mean1+(sdv*2)) and num > (mean1+(sdv*3)):\n",
    "            outlier_high.append(num)\n",
    "        elif num < (mean1-(sdv*2)) and num < (mean1-(sdv*3)):\n",
    "            outlier_high.append(num)\n",
    "        elif num > (mean1+(sdv*2)):\n",
    "            outlier_low.append(num)\n",
    "            print(num)\n",
    "        elif num < (mean1-(sdv*2)):\n",
    "            outlier_low.append(num)\n",
    "        else:\n",
    "            pass\n",
    "    \n",
    "    return(outlier_high, outlier_low)"
   ]
  },
  {
   "cell_type": "markdown",
   "id": "4be16b69",
   "metadata": {},
   "source": [
    "# Get All Stats for a Univariate Data Set"
   ]
  },
  {
   "cell_type": "code",
   "execution_count": 16,
   "id": "4cb5a1f3",
   "metadata": {},
   "outputs": [],
   "source": [
    "def give_stats(a_list):\n",
    "    q1,q3= find_q1_q2(a_list)\n",
    "    interquartile_range(q1,q3)\n",
    "    \n",
    "    print(f\"Median: {median(a_list)}\")\n",
    "    print(f\"Mean: {round(mean(a_list),2)}\")\n",
    "    print(f\"Standard Deviation: {round(standard_dev(a_list),2)}\")\n",
    "    print(f\"Q1: {round(find_q1_q2(a_list)[0],2)}\")\n",
    "    print(f\"Q3: {round(find_q1_q2(a_list)[1],2)}\")\n",
    "    print(f\"Interquartile Range: {round(interquartile_range(q1,q3),2)}\")\n",
    "    print(f\"Outliers Median Method: {is_outlier_median(a_list)}\")\n",
    "    print(f\"Outliers Mean Method Strong (3+SDV): {is_outlier_mean(a_list)[0]}\")\n",
    "    print(f\"Outliers Mean Method Weak (2SDV): {is_outlier_mean(a_list)[1]}\")\n",
    "    print(f\"Minimum Value: {min(a_list)}\")\n",
    "    print(f\"Maximum Value: {max(a_list)}\")"
   ]
  },
  {
   "cell_type": "code",
   "execution_count": 17,
   "id": "633dcccb",
   "metadata": {},
   "outputs": [],
   "source": [
    "book_example = [4.03, 3.76, 3.77, 3.34, 3.47, 2.92, 3.20, 2.71, 3.53, 4.51, 4.56]\n",
    "babes_hr = [0, 2, 3, 4, 6, 11, 22, 25, 29, 34, 35, 41, 41, 46, 46, 46, 47, 49, 54, 54, 59, 60]"
   ]
  },
  {
   "cell_type": "code",
   "execution_count": 18,
   "id": "885ff014",
   "metadata": {},
   "outputs": [
    {
     "name": "stdout",
     "output_type": "stream",
     "text": [
      "Median: 3.53\n",
      "Mean: 3.62\n",
      "Standard Deviation: 0.59\n",
      "Q1: 3.2\n",
      "Q3: 4.03\n",
      "Interquartile Range: 0.83\n",
      "Outliers Median Method: []\n",
      "Outliers Mean Method Strong (3+SDV): []\n",
      "Outliers Mean Method Weak (2SDV): []\n",
      "Minimum Value: 2.71\n",
      "Maximum Value: 4.56\n"
     ]
    }
   ],
   "source": [
    "give_stats(book_example)"
   ]
  },
  {
   "cell_type": "code",
   "execution_count": 19,
   "id": "2d305014",
   "metadata": {},
   "outputs": [
    {
     "name": "stdout",
     "output_type": "stream",
     "text": [
      "Median: 38.0\n",
      "Mean: 32.45\n",
      "Standard Deviation: 20.21\n",
      "Q1: 11.0\n",
      "Q3: 47.0\n",
      "Interquartile Range: 36.0\n",
      "Outliers Median Method: []\n",
      "Outliers Mean Method Strong (3+SDV): []\n",
      "Outliers Mean Method Weak (2SDV): []\n",
      "Minimum Value: 0\n",
      "Maximum Value: 60\n"
     ]
    }
   ],
   "source": [
    "give_stats(babes_hr)"
   ]
  },
  {
   "cell_type": "markdown",
   "id": "3e4b1878",
   "metadata": {},
   "source": [
    "# Z-Score"
   ]
  },
  {
   "cell_type": "code",
   "execution_count": 20,
   "id": "0e18db6b",
   "metadata": {},
   "outputs": [],
   "source": [
    "def z_score(num, sdv, mean):\n",
    "    \n",
    "    return (num - mean) / sdv"
   ]
  },
  {
   "cell_type": "markdown",
   "id": "e89d68f7",
   "metadata": {},
   "source": []
  },
  {
   "cell_type": "markdown",
   "id": "79287872",
   "metadata": {},
   "source": [
    "# Bivariate Data"
   ]
  },
  {
   "cell_type": "markdown",
   "id": "337b2b5b",
   "metadata": {},
   "source": [
    "# Correlation Coefficient"
   ]
  },
  {
   "cell_type": "code",
   "execution_count": 21,
   "id": "91169ce9",
   "metadata": {},
   "outputs": [],
   "source": [
    "def correlation_coefficient(data_set):\n",
    "    \n",
    "    x_list = []\n",
    "    y_list = []\n",
    "    z_sum = 0\n",
    "    n = len(data_set)\n",
    "    \n",
    "    for x,y in data_set:\n",
    "        x_list.append(x)\n",
    "        y_list.append(y)\n",
    "        \n",
    "    x_mean = mean(x_list)\n",
    "    y_mean = mean(y_list)\n",
    "    \n",
    "    x_sdv = standard_dev(x_list)\n",
    "    y_sdv = standard_dev(y_list)\n",
    "    \n",
    "        \n",
    "    for x_num,y_num in data_set:\n",
    "        z_sum += (z_score(x_num, x_sdv, x_mean) * z_score(y_num, y_sdv,y_mean))\n",
    "\n",
    "    return ((z_sum) / (n-1))"
   ]
  },
  {
   "cell_type": "code",
   "execution_count": 22,
   "id": "f4c55c43",
   "metadata": {},
   "outputs": [],
   "source": [
    "# Relationship b/w students hours studied (x) and test scores (y) placed in a tuple\n",
    "study_test_relationship = [(.5,65), (2.5,80), (3,77), (1.5,60), (1.25,68), (.75,70), (4,83), (2.25,85), (1.5,70), (6,96), (3.25, 84), (2.5,84), (0,51), (1.75,63), (2,71)]"
   ]
  },
  {
   "cell_type": "code",
   "execution_count": 23,
   "id": "5fc018a5",
   "metadata": {},
   "outputs": [
    {
     "data": {
      "text/plain": [
       "0.864"
      ]
     },
     "execution_count": 23,
     "metadata": {},
     "output_type": "execute_result"
    }
   ],
   "source": [
    "round(correlation_coefficient(study_test_relationship),3)"
   ]
  },
  {
   "cell_type": "markdown",
   "id": "9eaf3aef",
   "metadata": {},
   "source": [
    "# Regression Line"
   ]
  },
  {
   "cell_type": "code",
   "execution_count": 24,
   "id": "1198d5ab",
   "metadata": {},
   "outputs": [],
   "source": [
    "def regression_line(a_tuple,give_values=False):\n",
    "    x_list = []\n",
    "    y_list = []\n",
    "\n",
    "    for x,y in a_tuple:\n",
    "        x_list.append(x)\n",
    "        y_list.append(y)\n",
    "        \n",
    "    sdv_y = standard_dev(y_list)\n",
    "    sdv_x = standard_dev(x_list)\n",
    "    \n",
    "    y_mean = mean(y_list)\n",
    "    x_mean = mean(x_list)\n",
    "    r = correlation_coefficient(a_tuple)\n",
    "        \n",
    "    b = r * (sdv_y / sdv_x) # b= r * (sdv_y / sdv_x)\n",
    "    a = y_mean - (b*x_mean) # a = mean_y - b * mean_x\n",
    "    \n",
    "    if give_values == False:\n",
    "        print(f\" ŷ = {round(a,2)}+{round(b,2)}x\")\n",
    "    \n",
    "    if give_values == True:\n",
    "        return a, b"
   ]
  },
  {
   "cell_type": "code",
   "execution_count": 25,
   "id": "17b55a60",
   "metadata": {},
   "outputs": [
    {
     "name": "stdout",
     "output_type": "stream",
     "text": [
      " ŷ = 59.03+6.77x\n"
     ]
    }
   ],
   "source": [
    "regression_line(study_test_relationship)"
   ]
  },
  {
   "cell_type": "code",
   "execution_count": 26,
   "id": "8484e8f3",
   "metadata": {},
   "outputs": [
    {
     "data": {
      "text/plain": [
       "(59.025745973065746, 6.766833905466069)"
      ]
     },
     "execution_count": 26,
     "metadata": {},
     "output_type": "execute_result"
    }
   ],
   "source": [
    "regression_line(study_test_relationship,True)"
   ]
  },
  {
   "cell_type": "markdown",
   "id": "52ffec0c",
   "metadata": {},
   "source": [
    "# Predict ŷ Value of data set"
   ]
  },
  {
   "cell_type": "code",
   "execution_count": 27,
   "id": "e4e113c2",
   "metadata": {},
   "outputs": [],
   "source": [
    "def predict_y(a_tuple, x_predict):\n",
    "    \n",
    "    a,b = regression_line(a_tuple, True)\n",
    "        \n",
    "    y_predict = a + (b * x_predict)\n",
    "    \n",
    "    return round(y_predict,3)\n",
    "    \n",
    "    "
   ]
  },
  {
   "cell_type": "code",
   "execution_count": 28,
   "id": "56cfa8cf",
   "metadata": {},
   "outputs": [
    {
     "data": {
      "text/plain": [
       "77.635"
      ]
     },
     "execution_count": 28,
     "metadata": {},
     "output_type": "execute_result"
    }
   ],
   "source": [
    "predict_y(study_test_relationship, 2.75)"
   ]
  },
  {
   "cell_type": "markdown",
   "id": "3985fe90",
   "metadata": {},
   "source": [
    "# Predict X̂ Value of a data set"
   ]
  },
  {
   "cell_type": "code",
   "execution_count": 29,
   "id": "862a7aa4",
   "metadata": {},
   "outputs": [],
   "source": [
    "def predict_x(a_list, y_value):\n",
    "    \n",
    "    a,b = regression_line(a_list, True)\n",
    "        \n",
    "    x_predict = (y_value - a) / b\n",
    "    \n",
    "    return round(x_predict,3)"
   ]
  },
  {
   "cell_type": "code",
   "execution_count": 30,
   "id": "6e4b7383",
   "metadata": {},
   "outputs": [
    {
     "data": {
      "text/plain": [
       "143.955"
      ]
     },
     "execution_count": 30,
     "metadata": {},
     "output_type": "execute_result"
    }
   ],
   "source": [
    "predict_x(height_age,156.2)"
   ]
  },
  {
   "cell_type": "markdown",
   "id": "ff692ae1",
   "metadata": {},
   "source": [
    "# Residual"
   ]
  },
  {
   "cell_type": "code",
   "execution_count": 31,
   "id": "2b57f776",
   "metadata": {},
   "outputs": [],
   "source": [
    "def residual(a_list,x,y):\n",
    "        \n",
    "    y_hat = predict_y(a_list, x)\n",
    "\n",
    "    return y-y_hat"
   ]
  },
  {
   "cell_type": "code",
   "execution_count": 32,
   "id": "8e138dc2",
   "metadata": {},
   "outputs": [],
   "source": [
    "criminal = [(300,200), (880,380), (1000,400), (1540,200), (1560,800), (1600,600), (1600,800), (2200,1000), (3200,1600), (6000,2700)]"
   ]
  },
  {
   "cell_type": "code",
   "execution_count": 33,
   "id": "eb235ba4",
   "metadata": {},
   "outputs": [
    {
     "data": {
      "text/plain": [
       "130.97699999999998"
      ]
     },
     "execution_count": 33,
     "metadata": {},
     "output_type": "execute_result"
    }
   ],
   "source": [
    "residual(criminal,1560,800)"
   ]
  },
  {
   "cell_type": "markdown",
   "id": "9d1f7464",
   "metadata": {},
   "source": [
    "# Average Residual"
   ]
  },
  {
   "cell_type": "code",
   "execution_count": 34,
   "id": "d87533cf",
   "metadata": {},
   "outputs": [],
   "source": [
    "def average_residual(a_list):\n",
    "    n = len(a_list)\n",
    "    total_yhat = 0\n",
    "    total_y = 0\n",
    "\n",
    "    for x_num, y_num in a_list:\n",
    "        total_yhat += predict_y(a_list, x_num)\n",
    "        total_y += y_num\n",
    "        \n",
    "    total_residual = total_y - total_yhat\n",
    "    avg_residual = total_residual / n\n",
    "    \n",
    "    return round(avg_residual,3) "
   ]
  },
  {
   "cell_type": "code",
   "execution_count": 35,
   "id": "24b5989f",
   "metadata": {},
   "outputs": [],
   "source": [
    "height_age = [(18,76), (19,77.1), (20,78.1), (21,78.3), (22,78.8), (23,79.4), (24,79.9), (25,81.3), (26,81.1), (27,82), (28,82.6), (29,83.5)]"
   ]
  },
  {
   "cell_type": "code",
   "execution_count": 36,
   "id": "92d5b4c4",
   "metadata": {},
   "outputs": [
    {
     "data": {
      "text/plain": [
       "0.0"
      ]
     },
     "execution_count": 36,
     "metadata": {},
     "output_type": "execute_result"
    }
   ],
   "source": [
    "average_residual(height_age)"
   ]
  },
  {
   "cell_type": "markdown",
   "id": "d7f8bfa9",
   "metadata": {},
   "source": [
    "# Total Residual (Sum of Squared Errors)"
   ]
  },
  {
   "cell_type": "code",
   "execution_count": 37,
   "id": "7fbe62e6",
   "metadata": {},
   "outputs": [],
   "source": [
    "def total_residual(a_list):\n",
    "    n = len(a_list)\n",
    "    total_yhat = 0\n",
    "    total_y = 0\n",
    "\n",
    "    for x_num, y_num in a_list:\n",
    "        total_yhat += predict_y(a_list, x_num)\n",
    "        total_y += y_num\n",
    "        \n",
    "    total_residual = total_y - total_yhat\n",
    "    \n",
    "    return total_residual"
   ]
  },
  {
   "cell_type": "code",
   "execution_count": 38,
   "id": "727681f4",
   "metadata": {},
   "outputs": [
    {
     "data": {
      "text/plain": [
       "1.1368683772161603e-13"
      ]
     },
     "execution_count": 38,
     "metadata": {},
     "output_type": "execute_result"
    }
   ],
   "source": [
    "total_residual(height_age)"
   ]
  },
  {
   "cell_type": "markdown",
   "id": "7c8fb0d5",
   "metadata": {},
   "source": [
    "# Sum of Squares Total"
   ]
  },
  {
   "cell_type": "code",
   "execution_count": 39,
   "id": "c89115f9",
   "metadata": {},
   "outputs": [],
   "source": [
    "def sum_of_squares_total(a_list):\n",
    "    y_list = []\n",
    "    sum_squares_total = 0\n",
    "    \n",
    "    for x,y in a_list:\n",
    "        y_list.append(y)\n",
    "        \n",
    "    # find mean of y\n",
    "    y_mean = mean(y_list)\n",
    "    \n",
    "    for y in y_list:\n",
    "        sum_squares_total += (y - y_mean)**2\n",
    "        \n",
    "    return sum_squares_total"
   ]
  },
  {
   "cell_type": "code",
   "execution_count": 40,
   "id": "96cfae3f",
   "metadata": {},
   "outputs": [
    {
     "data": {
      "text/plain": [
       "58.32916666666668"
      ]
     },
     "execution_count": 40,
     "metadata": {},
     "output_type": "execute_result"
    }
   ],
   "source": [
    "sum_of_squares_total(height_age)"
   ]
  },
  {
   "cell_type": "markdown",
   "id": "794cb930",
   "metadata": {},
   "source": [
    "# Coefficient of Determination"
   ]
  },
  {
   "cell_type": "code",
   "execution_count": 41,
   "id": "52fe1883",
   "metadata": {},
   "outputs": [],
   "source": [
    "def coefficient_determination(a_list):\n",
    "    \"\"\"\n",
    "    Gives coefficient of determination via two means, first (SST-SSE)/SST then r**2\n",
    "    \"\"\"\n",
    "    \n",
    "\n",
    "    sum_squared_errors = total_residual(a_list)\n",
    "    sum_squares_total = sum_of_squares_total(a_list)\n",
    "\n",
    "    \n",
    "    return ((sum_squares_total - sum_squared_errors) / sum_squares_total), correlation_coefficient(a_list)**2"
   ]
  },
  {
   "cell_type": "code",
   "execution_count": 42,
   "id": "f382021c",
   "metadata": {},
   "outputs": [
    {
     "data": {
      "text/plain": [
       "(0.999999999999998, 0.9851759641173173)"
      ]
     },
     "execution_count": 42,
     "metadata": {},
     "output_type": "execute_result"
    }
   ],
   "source": [
    "coefficient_determination(height_age)"
   ]
  },
  {
   "cell_type": "markdown",
   "id": "ef213be8",
   "metadata": {},
   "source": [
    "# Transform Predicted Y"
   ]
  },
  {
   "cell_type": "code",
   "execution_count": 1,
   "id": "974e1d4c",
   "metadata": {},
   "outputs": [],
   "source": [
    "def transform_predicted_y(a_list,x_predict):\n",
    "    \"\"\"\n",
    "    Takes the predicted y value and e^x to fix it\n",
    "    \"\"\"\n",
    "    \n",
    "    y_predicted = predict_y(a_list,x_predict)\n",
    "    \n",
    "    return math.exp(y_predicted)"
   ]
  },
  {
   "cell_type": "markdown",
   "id": "797c9380",
   "metadata": {},
   "source": [
    "# Transform Bivariate Data Set"
   ]
  },
  {
   "cell_type": "code",
   "execution_count": 2,
   "id": "ebd54fe7",
   "metadata": {},
   "outputs": [],
   "source": [
    "def transform_bivariate(a_list):\n",
    "    transformation = []\n",
    "    for x, y in a_list:\n",
    "        transformation.append((x,math.log(y)))\n",
    "        \n",
    "    return transformation\n",
    "        "
   ]
  },
  {
   "cell_type": "markdown",
   "id": "e1051b6d",
   "metadata": {},
   "source": [
    "# Sum of Squared Errors"
   ]
  },
  {
   "cell_type": "code",
   "execution_count": 4,
   "id": "7dd6e861",
   "metadata": {},
   "outputs": [],
   "source": [
    "def sum_of_squared_errors(a_list):\n",
    "    return total_residual(a_list)"
   ]
  },
  {
   "cell_type": "code",
   "execution_count": null,
   "id": "b6f4f431",
   "metadata": {},
   "outputs": [],
   "source": []
  }
 ],
 "metadata": {
  "kernelspec": {
   "display_name": "Python 3 (ipykernel)",
   "language": "python",
   "name": "python3"
  },
  "language_info": {
   "codemirror_mode": {
    "name": "ipython",
    "version": 3
   },
   "file_extension": ".py",
   "mimetype": "text/x-python",
   "name": "python",
   "nbconvert_exporter": "python",
   "pygments_lexer": "ipython3",
   "version": "3.9.13"
  }
 },
 "nbformat": 4,
 "nbformat_minor": 5
}
