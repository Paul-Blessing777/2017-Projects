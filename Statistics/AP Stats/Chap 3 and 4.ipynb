{
 "cells": [
  {
   "cell_type": "markdown",
   "id": "0d320054",
   "metadata": {},
   "source": [
    "# Chapter 3: Overview"
   ]
  },
  {
   "cell_type": "markdown",
   "id": "c41329b0",
   "metadata": {},
   "source": [
    "**Discrete Data:** Data can be listed and placed in order - number of heads on 20 coin flips **Can Be Counted**<br />  **Continuous Data:** Can be measured, or take on values in an interval - time of day **Can Be Measured**"
   ]
  },
  {
   "cell_type": "markdown",
   "id": "db85fb6e",
   "metadata": {},
   "source": [
    "**Descriptive Stats:** simply show the stats <br /> **Inferential Stats:** Use samples to make actual inferences from the dataset <br /> **Univariate:** One Variable <br /> **Bivariate:** Two Variables <br /> **Random Variable:** Numerical outcome of a random phenomenon or an experiment"
   ]
  },
  {
   "cell_type": "markdown",
   "id": "ccc902a1",
   "metadata": {},
   "source": [
    "# Chap 4 Univariate Data"
   ]
  },
  {
   "cell_type": "markdown",
   "id": "47956bf4",
   "metadata": {},
   "source": [
    "**Three Important Aspects of univariate data: Shape, Center, and Spread** <br />\n",
    "**Shape:** Gaps and clusters, the shape of the distribution (Bell Curve, Uniform, skewed (left/right) <br />\n",
    "**Center:** Mean, median and Mode <br />\n",
    "**Spread:** Range, interquartile range, standard deviation"
   ]
  },
  {
   "cell_type": "markdown",
   "id": "5fd52112",
   "metadata": {},
   "source": [
    "## Types of Graphs"
   ]
  },
  {
   "cell_type": "markdown",
   "id": "033059c5",
   "metadata": {},
   "source": [
    "### DotPlot\n",
    "![](Images/dotplot_ex.png)"
   ]
  },
  {
   "cell_type": "markdown",
   "id": "c4051013",
   "metadata": {},
   "source": [
    "![](stem_leaf_plant_img_1.jpg)\n"
   ]
  },
  {
   "cell_type": "markdown",
   "id": "8cf17a0e",
   "metadata": {},
   "source": [
    "### Steam and Leaf Plot\n",
    "![](Images/stem_leaf_plant_img_1.jpg)"
   ]
  },
  {
   "cell_type": "markdown",
   "id": "f4f88461",
   "metadata": {},
   "source": [
    "### Histogram\n",
    "**Bar Graphs are used for Qualitative Data whilst Histograms are used for Quantitative Data**\n",
    "![](Images/histogram-example-1.png)"
   ]
  },
  {
   "cell_type": "markdown",
   "id": "5f1bab01",
   "metadata": {},
   "source": [
    "### Mean"
   ]
  },
  {
   "cell_type": "markdown",
   "id": "5828b12e",
   "metadata": {},
   "source": [
    "**x̄** = mean (for statistics (a subset of the population) <br />\n",
    "**μ(mu)** = Mean for a population (The entire dataset)\n"
   ]
  },
  {
   "cell_type": "markdown",
   "id": "5684a146",
   "metadata": {},
   "source": [
    "x̄ = ( Σ xi ) / n\n",
    "\n",
    "The term “x̄” represents the sample mean.  The symbol ‘Σ xi’ used in this formula represents the represents the sum of all scores present in the sample (say, in this case) x1 x2 x3 and so on.  The symbol ‘n,’ represents the total number of individuals or observations in the sample."
   ]
  },
  {
   "cell_type": "code",
   "execution_count": 1,
   "id": "32867ef7",
   "metadata": {},
   "outputs": [],
   "source": [
    "def mean(a_list):\n",
    "    return sum(a_list) / len(a_list)"
   ]
  },
  {
   "cell_type": "markdown",
   "id": "fe0d1c4a",
   "metadata": {},
   "source": [
    "### Median"
   ]
  },
  {
   "cell_type": "markdown",
   "id": "588ca917",
   "metadata": {},
   "source": [
    "The Median of an **Ordered** Data set is the \"Middle\" value in the set"
   ]
  },
  {
   "cell_type": "markdown",
   "id": "6982cd36",
   "metadata": {},
   "source": [
    "Generally the position of the median can be found using the formula n+1/2, so if you have 28 terms 28+1/2 = 14.5, this is where you'd expect the median <br />\n",
    "*Note* if the n is odd it will be a whole number 29+1/2 = 15"
   ]
  },
  {
   "cell_type": "markdown",
   "id": "5a86162e",
   "metadata": {},
   "source": [
    "## Challenge: find the median for Babe Ruth's homerun totals per season"
   ]
  },
  {
   "cell_type": "code",
   "execution_count": 4,
   "id": "403c44e1",
   "metadata": {},
   "outputs": [],
   "source": [
    "babes_hr = [0,4,3,2,11,29,54,59,35,41,46,25,47,60,54,46,49,46,41,34,22,6]"
   ]
  },
  {
   "cell_type": "code",
   "execution_count": 6,
   "id": "d31c55e0",
   "metadata": {},
   "outputs": [
    {
     "name": "stdout",
     "output_type": "stream",
     "text": [
      "[0, 2, 3, 4, 6, 11, 22, 25, 29, 34, 35, 41, 41, 46, 46, 46, 47, 49, 54, 54, 59, 60]\n"
     ]
    }
   ],
   "source": [
    "babes_hr.sort()\n",
    "print(babes_hr)"
   ]
  },
  {
   "cell_type": "code",
   "execution_count": 7,
   "id": "a795fb72",
   "metadata": {},
   "outputs": [
    {
     "data": {
      "text/plain": [
       "22"
      ]
     },
     "execution_count": 7,
     "metadata": {},
     "output_type": "execute_result"
    }
   ],
   "source": [
    "len(babes_hr)"
   ]
  },
  {
   "cell_type": "code",
   "execution_count": 10,
   "id": "0b885123",
   "metadata": {},
   "outputs": [
    {
     "name": "stdout",
     "output_type": "stream",
     "text": [
      "11.5\n"
     ]
    }
   ],
   "source": [
    "median_position = (len(babes_hr)+1) / 2\n",
    "print(median_position)"
   ]
  },
  {
   "cell_type": "code",
   "execution_count": 15,
   "id": "a6a8eaea",
   "metadata": {},
   "outputs": [
    {
     "name": "stdout",
     "output_type": "stream",
     "text": [
      "38.0\n"
     ]
    }
   ],
   "source": [
    "eleven_pos = babes_hr[10]\n",
    "twelve_pos = babes_hr[11]\n",
    "median = (twelve_pos + eleven_pos) / 2\n",
    "print(median)"
   ]
  },
  {
   "cell_type": "markdown",
   "id": "c379a509",
   "metadata": {},
   "source": [
    "### Use mean or median for measure of center; which one?"
   ]
  },
  {
   "cell_type": "markdown",
   "id": "5f78ca7b",
   "metadata": {},
   "source": [
    "Depends of the shape of the data: if the distribution is symmetric then the mean and median should be close. However, the median is the better choice if the shape isn't symmetric and more outliers are present."
   ]
  },
  {
   "cell_type": "markdown",
   "id": "373ab1c8",
   "metadata": {},
   "source": [
    "The Median is superior in these situations because it is a **resistant Statistic**, meaning: it's numerical value isn't dramatically affected by extreme values."
   ]
  },
  {
   "cell_type": "markdown",
   "id": "c9706b61",
   "metadata": {},
   "source": [
    "### Variance & Standard Deviation"
   ]
  },
  {
   "cell_type": "markdown",
   "id": "9bf17a9d",
   "metadata": {},
   "source": [
    "Vairance is the average squared deviation from the mean. But this won't match the measure of the orginal mean. <br />\n",
    "If you find the variance of a measurments made in inches, the variance will be in square inches. To correct for this we take the square root of the variance and get **Standard Deviation**"
   ]
  },
  {
   "cell_type": "markdown",
   "id": "8fca01e8",
   "metadata": {},
   "source": [
    "s2 = Σ ( xi – x̄ )2 * 1 / ( n – 1 )"
   ]
  },
  {
   "cell_type": "markdown",
   "id": "7f266c90",
   "metadata": {},
   "source": [
    "The statistic called sample standard deviation, is a measure of the spread (variability) of the scores in the sample on a given variable and is represented by:\n",
    "\n",
    "s = sqrt [ Σ ( xi – x̄ )2 * 1/ ( n – 1 ) ]\n",
    "\n",
    "The term ‘Σ ( xi – x̄ )2’ represents the sum of the squared deviations of the scores from the sample mean."
   ]
  },
  {
   "cell_type": "markdown",
   "id": "acb4581e",
   "metadata": {},
   "source": [
    "### Interquartile Range"
   ]
  },
  {
   "cell_type": "markdown",
   "id": "e6ce8b8b",
   "metadata": {},
   "source": [
    "Although the SD works well in situations where the mean works well (reasonably symmetrical distributions) we need Interquartile range as a measure when we prefer to use the Median"
   ]
  },
  {
   "cell_type": "markdown",
   "id": "93498566",
   "metadata": {},
   "source": [
    "The median essentially splits a data set in two, from here we can find the median of the numbers on either side of the Prime Median. These are called Quartiles. <br />\n",
    "The median of the lower half is called the lower or first quartile <br />\n",
    "The median of the upper half is called the upper or third quartile"
   ]
  },
  {
   "cell_type": "markdown",
   "id": "cb8afa4d",
   "metadata": {},
   "source": [
    "EX1"
   ]
  },
  {
   "cell_type": "code",
   "execution_count": 20,
   "id": "ad8d442a",
   "metadata": {},
   "outputs": [
    {
     "name": "stdout",
     "output_type": "stream",
     "text": [
      "8\n"
     ]
    }
   ],
   "source": [
    "# Examples\n",
    "data_set = [5,5,6,7,8,9,11,13,17]\n",
    "median_pos = (len(data_set) +1) / 2\n",
    "median = data_set[4] # list start at index 0 not 1\n",
    "print(median)"
   ]
  },
  {
   "cell_type": "code",
   "execution_count": 26,
   "id": "08de39e6",
   "metadata": {},
   "outputs": [
    {
     "name": "stdout",
     "output_type": "stream",
     "text": [
      "Lower half: [5, 5, 6, 7], Upper half: [9, 11, 13, 17]\n",
      "Q1 Position: 2.5 Q2 Position: 2.5\n",
      "Q1: 5.5 and Q2: 12.0\n"
     ]
    }
   ],
   "source": [
    "lower_half = []\n",
    "upper_half = []\n",
    "\n",
    "for num in data_set:\n",
    "    if num < 8:\n",
    "        lower_half.append(num)\n",
    "    elif num > 8:\n",
    "        upper_half.append(num)\n",
    "print(f\"Lower half: {lower_half}, Upper half: {upper_half}\")\n",
    "\n",
    "q1_pos = (len(lower_half)+1) /2\n",
    "q2_pos = (len(upper_half)+1) /2\n",
    "print(f\"Q1 Position: {q1_pos} Q2 Position: {q2_pos}\")\n",
    "\n",
    "q1 = (lower_half[1] + lower_half[2]) /2\n",
    "q2 = (upper_half[1] + upper_half[2]) /2\n",
    "print(f\"Q1: {q1} and Q2: {q2}\")"
   ]
  },
  {
   "cell_type": "markdown",
   "id": "4f307f11",
   "metadata": {},
   "source": [
    "EX2"
   ]
  },
  {
   "cell_type": "markdown",
   "id": "4cf0613a",
   "metadata": {},
   "source": [
    "**Standard Deviation**"
   ]
  },
  {
   "cell_type": "code",
   "execution_count": 24,
   "id": "766f82af",
   "metadata": {},
   "outputs": [],
   "source": [
    "babes_hr = [0,4,3,2,11,29,54,59,35,41,46,25,47,60,54,46,49,46,41,34,22,6]"
   ]
  },
  {
   "cell_type": "code",
   "execution_count": 25,
   "id": "a189b356",
   "metadata": {},
   "outputs": [],
   "source": [
    "def standard_dev(a_list):\n",
    "    mean = sum(a_list) / len(a_list)\n",
    "    x_sum = 0\n",
    "    \n",
    "    for num in a_list:\n",
    "        x_sum += (num - mean)**2\n",
    "        \n",
    "    return round((x_sum* 1/(len(a_list)-1))**.5,2)\n",
    "    "
   ]
  },
  {
   "cell_type": "code",
   "execution_count": 26,
   "id": "f9640891",
   "metadata": {},
   "outputs": [
    {
     "data": {
      "text/plain": [
       "20.21"
      ]
     },
     "execution_count": 26,
     "metadata": {},
     "output_type": "execute_result"
    }
   ],
   "source": [
    "standard_dev(babes_hr)"
   ]
  },
  {
   "cell_type": "markdown",
   "id": "42d54ea8",
   "metadata": {},
   "source": [
    "**Median**"
   ]
  },
  {
   "cell_type": "code",
   "execution_count": 3,
   "id": "dbca72e1",
   "metadata": {},
   "outputs": [],
   "source": [
    "def median(list1):\n",
    "    easy_median = False\n",
    "    median = 0.0\n",
    "    list1.sort()\n",
    "    \n",
    "    median_pos = (len(list1)+1) / 2\n",
    "    \n",
    "    if int(median_pos) == median_pos:\n",
    "        easy_median = True\n",
    "        \n",
    "    if easy_median == True:\n",
    "        median = list1[int(median_pos)-1]\n",
    "        return float(median)\n",
    "    else:\n",
    "        lower_median_pos = int(median_pos-1)\n",
    "        upper_median_pos = int(median_pos)\n",
    "        median = ((list1[upper_median_pos]) + (list1[lower_median_pos])) /2\n",
    "        return float(median)"
   ]
  },
  {
   "cell_type": "code",
   "execution_count": 414,
   "id": "4a5ea3ef",
   "metadata": {},
   "outputs": [],
   "source": [
    "babes_hr = [0,4,3,2,11,29,54,59,35,41,46,25,47,60,54,46,49,46,41,34,22,6] # Even Number"
   ]
  },
  {
   "cell_type": "code",
   "execution_count": 415,
   "id": "22d8d09b",
   "metadata": {},
   "outputs": [
    {
     "data": {
      "text/plain": [
       "38.0"
      ]
     },
     "execution_count": 415,
     "metadata": {},
     "output_type": "execute_result"
    }
   ],
   "source": [
    "median(babes_hr)"
   ]
  },
  {
   "cell_type": "markdown",
   "id": "5d6810fc",
   "metadata": {},
   "source": [
    "**Interquartile Ranges Q1, Q3**"
   ]
  },
  {
   "cell_type": "code",
   "execution_count": 4,
   "id": "a59fedc4",
   "metadata": {},
   "outputs": [],
   "source": [
    "def find_q1_q2(list22):\n",
    "    low_list = []\n",
    "    high_list = []\n",
    "    list22.sort()\n",
    "    \n",
    "\n",
    "    median_position = (len(list22)+1) / 2\n",
    "    for num in list22:\n",
    "        if (list22.index(num)) +1 < median_position:\n",
    "            low_list.append(num)\n",
    "\n",
    "        elif (list22.index(num))+1 > median_position:\n",
    "            high_list.append(num)\n",
    "            \n",
    "    return median(low_list), median(high_list)"
   ]
  },
  {
   "cell_type": "code",
   "execution_count": 5,
   "id": "2db50fb8",
   "metadata": {},
   "outputs": [
    {
     "data": {
      "text/plain": [
       "(11.0, 47.0)"
      ]
     },
     "execution_count": 5,
     "metadata": {},
     "output_type": "execute_result"
    }
   ],
   "source": [
    "babes_hr = [0, 2, 3, 4, 6, 11, 22, 25, 29, 34, 35, 41, 41, 46, 46, 46, 47, 49, 54, 54, 59, 60]\n",
    "find_q1_q2(babes_hr)"
   ]
  },
  {
   "cell_type": "markdown",
   "id": "5927eb65",
   "metadata": {},
   "source": [
    "### Interquartile range is found by subtracting Quartile 3 from Quartile 1"
   ]
  },
  {
   "cell_type": "code",
   "execution_count": 5,
   "id": "c18d9b19",
   "metadata": {},
   "outputs": [],
   "source": [
    "def interquartile_range(q1,q3):\n",
    "    \n",
    "    return q3-q1"
   ]
  },
  {
   "cell_type": "code",
   "execution_count": 7,
   "id": "4e9d60f8",
   "metadata": {},
   "outputs": [
    {
     "data": {
      "text/plain": [
       "36"
      ]
     },
     "execution_count": 7,
     "metadata": {},
     "output_type": "execute_result"
    }
   ],
   "source": [
    "interquartile_range(11,47)"
   ]
  },
  {
   "cell_type": "markdown",
   "id": "58cdbc7e",
   "metadata": {},
   "source": [
    "### Outliers"
   ]
  },
  {
   "cell_type": "markdown",
   "id": "1083788b",
   "metadata": {},
   "source": [
    "Most texts define outliers in terms of how far the datapoint is above or below the quartiles of a distribution. To find if a distribution has any outliers, we do the following rule known as **\"1.5IQR Rule**"
   ]
  },
  {
   "cell_type": "markdown",
   "id": "eff7884d",
   "metadata": {},
   "source": [
    "Steps to do this: <br />\n",
    "Find the IQR <br />\n",
    "Multiply the IQR by 1.5 <br />\n",
    "Find Q1-1.5(IQR) and Q3+1.5(IQR) <br />\n",
    "Any Values below Q1-1.5(IQR) or above Q3+1.5(IQR) is an outlier"
   ]
  },
  {
   "cell_type": "markdown",
   "id": "3d1d0f89",
   "metadata": {},
   "source": [
    "**Find Outliers** using the 1.5IQR Rule"
   ]
  },
  {
   "cell_type": "code",
   "execution_count": 6,
   "id": "b497e282",
   "metadata": {},
   "outputs": [],
   "source": [
    "def is_outlier_median(a_list):\n",
    "    \n",
    "    q1,q3 = find_q1_q2(a_list)\n",
    "    iqr = q3 - q1\n",
    "    low_outlier_marker = q1-(1.5*iqr)\n",
    "    high_outlier_marker = q3+(1.5*iqr)\n",
    "    \n",
    "    outlier_list = []\n",
    "    \n",
    "    for item in a_list:\n",
    "        if item < low_outlier_marker:\n",
    "            outlier_list.append(item)\n",
    "        elif item > high_outlier_marker:\n",
    "            outlier_list.append(item)\n",
    "    \n",
    "    return outlier_list"
   ]
  },
  {
   "cell_type": "code",
   "execution_count": 10,
   "id": "1b7d5d4d",
   "metadata": {},
   "outputs": [],
   "source": [
    "book_example = [4.03, 3.76, 3.77, 3.34, 3.47, 2.92, 3.20, 2.71, 3.53, 4.51, 4.56]"
   ]
  },
  {
   "cell_type": "code",
   "execution_count": 145,
   "id": "f5288b76",
   "metadata": {},
   "outputs": [
    {
     "data": {
      "text/plain": [
       "[]"
      ]
     },
     "execution_count": 145,
     "metadata": {},
     "output_type": "execute_result"
    }
   ],
   "source": [
    "is_outlier(book_example)"
   ]
  },
  {
   "cell_type": "markdown",
   "id": "fdd6d96a",
   "metadata": {},
   "source": [
    "**Find Outliers** Mean Method (If data point is two or three sdv from mean"
   ]
  },
  {
   "cell_type": "code",
   "execution_count": 60,
   "id": "78f63764",
   "metadata": {},
   "outputs": [],
   "source": [
    "def is_outlier_mean(a_list):\n",
    "    \n",
    "    mean1 = mean(a_list)\n",
    "    sdv = standard_dev(a_list)\n",
    "    outlier_low = []\n",
    "    outlier_high = []\n",
    "    \n",
    "    for num in a_list:\n",
    "        if num > (mean1+(sdv*2)) and num > (mean1+(sdv*3)):\n",
    "            outlier_high.append(num)\n",
    "        elif num < (mean1-(sdv*2)) and num < (mean1-(sdv*3)):\n",
    "            outlier_high.append(num)\n",
    "        elif num > (mean1+(sdv*2)):\n",
    "            outlier_low.append(num)\n",
    "        elif num < (mean1-(sdv*2)):\n",
    "            outlier_low.append(num)\n",
    "        else:\n",
    "            pass\n",
    "    \n",
    "    return(outlier_high, outlier_low)"
   ]
  },
  {
   "cell_type": "code",
   "execution_count": 136,
   "id": "8b5263f6",
   "metadata": {},
   "outputs": [
    {
     "data": {
      "text/plain": [
       "([], [1])"
      ]
     },
     "execution_count": 136,
     "metadata": {},
     "output_type": "execute_result"
    }
   ],
   "source": [
    "is_outlier_mean(book_example1)"
   ]
  },
  {
   "cell_type": "code",
   "execution_count": 140,
   "id": "62d4c3fd",
   "metadata": {},
   "outputs": [],
   "source": [
    "book_example1 = [1,4.03, 3.76, 3.77, 3.34, 3.47, 2.92, 3.20, 2.71, 3.53, 4.51, 4.56]"
   ]
  },
  {
   "cell_type": "code",
   "execution_count": 141,
   "id": "ec08dc28",
   "metadata": {},
   "outputs": [
    {
     "name": "stdout",
     "output_type": "stream",
     "text": [
      "Median: 3.5\n",
      "Mean: 3.4\n",
      "Standard Deviation: 0.94\n",
      "Q1: 3.06\n",
      "Q3: 3.9\n",
      "Interquartile Range: 0.84\n",
      "Outliers Median Method: [1]\n",
      "Outliers Mean Method Strong (3+SDV): []\n",
      "Outliers Mean Method Weak (2SDV): [1]\n"
     ]
    }
   ],
   "source": [
    "give_stats(book_example1)"
   ]
  },
  {
   "cell_type": "markdown",
   "id": "0f70ed8d",
   "metadata": {},
   "source": [
    "# Give Stats for a List of Numbers"
   ]
  },
  {
   "cell_type": "code",
   "execution_count": 8,
   "id": "8045986c",
   "metadata": {},
   "outputs": [],
   "source": [
    "def give_stats(a_list):\n",
    "    q1,q3= find_q1_q2(a_list)\n",
    "    interquartile_range(q1,q3)\n",
    "    \n",
    "    print(f\"Median: {median(a_list)}\")\n",
    "    print(f\"Mean: {round(mean(a_list),2)}\")\n",
    "    print(f\"Standard Deviation: {round(standard_dev(a_list),2)}\")\n",
    "    print(f\"Q1: {round(find_q1_q2(a_list)[0],2)}\")\n",
    "    print(f\"Q3: {round(find_q1_q2(a_list)[1],2)}\")\n",
    "    print(f\"Interquartile Range: {round(interquartile_range(q1,q3),2)}\")\n",
    "    print(f\"Outliers Median Method: {is_outlier_median(a_list)}\")\n",
    "    print(f\"Outliers Mean Method Strong (3+SDV): {is_outlier_mean(a_list)[0]}\")\n",
    "    print(f\"Outliers Mean Method Weak (2SDV): {is_outlier_mean(a_list)[1]}\")\n",
    "    print(f\"Minimum Value: {min(a_list)}\")\n",
    "    print(f\"Maximum Value: {max(a_list)}\")"
   ]
  },
  {
   "cell_type": "code",
   "execution_count": 11,
   "id": "4cd16efb",
   "metadata": {},
   "outputs": [
    {
     "name": "stdout",
     "output_type": "stream",
     "text": [
      "Median: 3.53\n",
      "Mean: 3.62\n",
      "Standard Deviation: 0.59\n",
      "Q1: 3.2\n",
      "Q3: 4.03\n",
      "Interquartile Range: 0.83\n",
      "Outliers Median Method: []\n",
      "Outliers Mean Method Strong (3+SDV): []\n",
      "Outliers Mean Method Weak (2SDV): []\n",
      "Minimum Value: 2.71\n",
      "Maximum Value: 4.56\n"
     ]
    }
   ],
   "source": [
    "give_stats(book_example)"
   ]
  },
  {
   "cell_type": "code",
   "execution_count": 142,
   "id": "a19d7439",
   "metadata": {},
   "outputs": [
    {
     "name": "stdout",
     "output_type": "stream",
     "text": [
      "Median: 38.0\n",
      "Mean: 32.45\n",
      "Standard Deviation: 20.21\n",
      "Q1: 11.0\n",
      "Q3: 47.0\n",
      "Interquartile Range: 36.0\n",
      "Outliers Median Method: []\n",
      "Outliers Mean Method Strong (3+SDV): []\n",
      "Outliers Mean Method Weak (2SDV): []\n"
     ]
    }
   ],
   "source": [
    "give_stats(babes_hr)"
   ]
  },
  {
   "cell_type": "markdown",
   "id": "c5b615b5",
   "metadata": {},
   "source": [
    "## Five Number Summary"
   ]
  },
  {
   "cell_type": "markdown",
   "id": "54afc77e",
   "metadata": {},
   "source": [
    "Five Number Summary is often used to highlight the Median centric metrics of a dataset <br />\n",
    "These metrics are: Minimum, Q1, Median, Q3 and Maximum <br />\n",
    "We can use out Give_Stats Method to get all of this (and More!)"
   ]
  },
  {
   "cell_type": "code",
   "execution_count": 12,
   "id": "fb878f98",
   "metadata": {},
   "outputs": [],
   "source": [
    "example = [2.8, 3.9, 4.6, 5.3, 10.2, 9.8, 7.7, 13, 2.1, .3, 9.8, 5.3, 9.8, 2.7, 3.9, 7.7, 7.6, 10.1, 8.4, 8.3]"
   ]
  },
  {
   "cell_type": "code",
   "execution_count": 13,
   "id": "22a504be",
   "metadata": {},
   "outputs": [
    {
     "name": "stdout",
     "output_type": "stream",
     "text": [
      "Median: 7.65\n",
      "Mean: 6.67\n",
      "Standard Deviation: 3.39\n",
      "Q1: 3.9\n",
      "Q3: 9.8\n",
      "Interquartile Range: 5.9\n",
      "Outliers Median Method: []\n",
      "Outliers Mean Method Strong (3+SDV): []\n",
      "Outliers Mean Method Weak (2SDV): []\n",
      "Minimum Value: 0.3\n",
      "Maximum Value: 13\n"
     ]
    }
   ],
   "source": [
    "give_stats(example)"
   ]
  },
  {
   "cell_type": "markdown",
   "id": "7a338d54",
   "metadata": {},
   "source": [
    "### Boxplot (Box and Whisker)"
   ]
  },
  {
   "cell_type": "markdown",
   "id": "6bd22cfd",
   "metadata": {},
   "source": [
    "The Boxplot is simply a graphical representation of the 5 number summary <br />\n",
    "A Box is drawn from q1 to q2 with two \"whisker\" that extend out to the min and max"
   ]
  },
  {
   "cell_type": "markdown",
   "id": "8e3fb8f2",
   "metadata": {},
   "source": [
    "![](Images/boxplots.png)"
   ]
  },
  {
   "cell_type": "markdown",
   "id": "843d6b1c",
   "metadata": {},
   "source": [
    "### Percentile Rank of Term"
   ]
  },
  {
   "cell_type": "markdown",
   "id": "e04d6914",
   "metadata": {},
   "source": [
    "The **Percentile Rank** of a term in a distribution equals the porportion of terms in the distribution that the term is greater than. A term at the 75th percentile is larger than 75% of terms in the distribution. <br />\n",
    "If we know the 5 number summary then Q1 is at the 25th percentile the median is at the 50th percentile and Q3 is at the 75th percentile."
   ]
  },
  {
   "cell_type": "markdown",
   "id": "3a43104c",
   "metadata": {},
   "source": [
    "### Z-Score"
   ]
  },
  {
   "cell_type": "markdown",
   "id": "361dab54",
   "metadata": {},
   "source": [
    "One way to identify the position of a term in a distribution is to note how many standard deviations the term is above or below the mean."
   ]
  },
  {
   "cell_type": "code",
   "execution_count": 10,
   "id": "7d2562e7",
   "metadata": {},
   "outputs": [],
   "source": [
    "def z_score(num, sdv, mean):\n",
    "    \n",
    "    return round((num - mean) / sdv,2)\n",
    "    "
   ]
  },
  {
   "cell_type": "code",
   "execution_count": 19,
   "id": "36fc819f",
   "metadata": {},
   "outputs": [
    {
     "data": {
      "text/plain": [
       "-1.67"
      ]
     },
     "execution_count": 19,
     "metadata": {},
     "output_type": "execute_result"
    }
   ],
   "source": [
    "z_score(68,3,73)"
   ]
  },
  {
   "cell_type": "markdown",
   "id": "18997b6e",
   "metadata": {},
   "source": [
    "IF a Z-score is positive it is above the mean <br />\n",
    "If a Z-score is negative is is below the mean"
   ]
  },
  {
   "cell_type": "markdown",
   "id": "81192e88",
   "metadata": {},
   "source": [
    "# Normal Distributions"
   ]
  },
  {
   "cell_type": "markdown",
   "id": "0c57d637",
   "metadata": {},
   "source": [
    "Are symmetric and shaped in a bell like curve: Mean and Standard Deviation are most useful with them"
   ]
  },
  {
   "cell_type": "markdown",
   "id": "16722daf",
   "metadata": {},
   "source": [
    "## Empirical Rule"
   ]
  },
  {
   "cell_type": "markdown",
   "id": "0c33acff",
   "metadata": {},
   "source": [
    "Also known as the **65-95-99.7 Rule** states that approx 68% of the terms in a normal distribution are within one stdv of the mean, 95% are within two stdv of the mean and 99.7% are three stdv within the mean"
   ]
  },
  {
   "cell_type": "markdown",
   "id": "e7addd2f",
   "metadata": {},
   "source": [
    "![](Images/empirical_rule_graph2.png)"
   ]
  },
  {
   "cell_type": "code",
   "execution_count": 20,
   "id": "d0dba424",
   "metadata": {},
   "outputs": [
    {
     "data": {
      "text/plain": [
       "0.67"
      ]
     },
     "execution_count": 20,
     "metadata": {},
     "output_type": "execute_result"
    }
   ],
   "source": [
    "z_score(72,3,70)"
   ]
  },
  {
   "cell_type": "markdown",
   "id": "e7305509",
   "metadata": {},
   "source": [
    "## Standard Normal Distribution"
   ]
  },
  {
   "cell_type": "markdown",
   "id": "ed12ef25",
   "metadata": {},
   "source": [
    "Because bell curves are normally distributed, we're often interested in what porportion will lie above or below a given value. <br />\n",
    "We can do this by using ***Standard Normal Problabilities*** using the z-table below (image isn't entire table)"
   ]
  },
  {
   "cell_type": "markdown",
   "id": "01b49b13",
   "metadata": {},
   "source": [
    "![](Images/z-table.png)"
   ]
  },
  {
   "cell_type": "markdown",
   "id": "754c562a",
   "metadata": {},
   "source": [
    "To find what porportion lies to the left of a given value; first find the z-score for your value"
   ]
  },
  {
   "cell_type": "markdown",
   "id": "6a889222",
   "metadata": {},
   "source": [
    "Example: 70 is the mean height, the standard deviation is 3. What porportion lies to the **left** of this value?"
   ]
  },
  {
   "cell_type": "code",
   "execution_count": 21,
   "id": "51fa05c1",
   "metadata": {},
   "outputs": [
    {
     "data": {
      "text/plain": [
       "0.67"
      ]
     },
     "execution_count": 21,
     "metadata": {},
     "output_type": "execute_result"
    }
   ],
   "source": [
    "z_score(72,3,70)"
   ]
  },
  {
   "cell_type": "markdown",
   "id": "d9547c62",
   "metadata": {},
   "source": [
    "Above is our z-score, so we will find .6 on the vertical column, then we will find .07 on the horizantal column, this will give us the porportion to the **left** of our value (and therefore smaller than our value)"
   ]
  },
  {
   "cell_type": "markdown",
   "id": "c113f0de",
   "metadata": {},
   "source": [
    "In this case about 75% of the terms are below our height value of 72inches"
   ]
  },
  {
   "cell_type": "markdown",
   "id": "cbd0163d",
   "metadata": {},
   "source": [
    "To find how many are to the **right** and therefore greater than our value, simply subtract our value from 100 <br />\n",
    "100-75 = 25% of terms are greater than our example height of 72 inches."
   ]
  },
  {
   "cell_type": "markdown",
   "id": "0c76e6bf",
   "metadata": {},
   "source": [
    "# Example"
   ]
  },
  {
   "cell_type": "markdown",
   "id": "de964d12",
   "metadata": {},
   "source": [
    "How tall must a man be to be in the top 10% of height?"
   ]
  },
  {
   "cell_type": "markdown",
   "id": "b71c0a0e",
   "metadata": {},
   "source": [
    "First we do our best to find .89 or .90 on the Z-Table (The book doesn't give a better way :/) <br />\n",
    "Doing so we find .89 has a Z-score of 1.2. so we can solve for x via the Z-score formula <br />\n",
    "z = (x-mean)/ standard deviation <br />\n",
    "in our case 1.2 = (x-70)/3 -> solved x= 73.84 <br />\n",
    "So a man must be 73.84 inches tall to be in the top 10% of men by height"
   ]
  },
  {
   "cell_type": "markdown",
   "id": "8e9f6898",
   "metadata": {},
   "source": [
    "# Rapid Review"
   ]
  },
  {
   "cell_type": "code",
   "execution_count": 23,
   "id": "716e7fce",
   "metadata": {},
   "outputs": [
    {
     "name": "stdout",
     "output_type": "stream",
     "text": [
      "Median: 15.0\n",
      "Mean: 16.62\n",
      "Standard Deviation: 5.29\n",
      "Q1: 13.0\n",
      "Q3: 18.5\n",
      "Interquartile Range: 5.5\n",
      "Outliers Median Method: [28]\n",
      "28\n",
      "Outliers Mean Method Strong (3+SDV): []\n",
      "28\n",
      "Outliers Mean Method Weak (2SDV): [28]\n",
      "Minimum Value: 12\n",
      "Maximum Value: 28\n"
     ]
    }
   ],
   "source": [
    "# 7\n",
    "data_set = [12,13,13,14,16,17,20,28]\n",
    "give_stats(data_set)"
   ]
  },
  {
   "cell_type": "markdown",
   "id": "e7c81dca",
   "metadata": {},
   "source": [
    "# Free Response"
   ]
  },
  {
   "cell_type": "markdown",
   "id": "469a6e07",
   "metadata": {},
   "source": [
    "**Question 1**"
   ]
  },
  {
   "cell_type": "code",
   "execution_count": 11,
   "id": "482f6044",
   "metadata": {},
   "outputs": [],
   "source": [
    "mantle = [13,23,21,27,37,52,34,42,31,40,54,30,15,35,19,23,22,18]"
   ]
  },
  {
   "cell_type": "code",
   "execution_count": 12,
   "id": "2eb2c36c",
   "metadata": {},
   "outputs": [
    {
     "data": {
      "text/plain": [
       "28.5"
      ]
     },
     "execution_count": 12,
     "metadata": {},
     "output_type": "execute_result"
    }
   ],
   "source": [
    "median(mantle)"
   ]
  },
  {
   "cell_type": "code",
   "execution_count": 13,
   "id": "f7b8a9cf",
   "metadata": {},
   "outputs": [
    {
     "data": {
      "text/plain": [
       "(21.0, 37.0)"
      ]
     },
     "execution_count": 13,
     "metadata": {},
     "output_type": "execute_result"
    }
   ],
   "source": [
    "find_q1_q2(mantle)"
   ]
  },
  {
   "cell_type": "code",
   "execution_count": 14,
   "id": "f9d54555",
   "metadata": {},
   "outputs": [
    {
     "data": {
      "text/plain": [
       "[]"
      ]
     },
     "execution_count": 14,
     "metadata": {},
     "output_type": "execute_result"
    }
   ],
   "source": [
    "is_outlier_median(mantle)"
   ]
  },
  {
   "cell_type": "code",
   "execution_count": 15,
   "id": "eb227c72",
   "metadata": {},
   "outputs": [
    {
     "data": {
      "text/plain": [
       "11.94376803070295"
      ]
     },
     "execution_count": 15,
     "metadata": {},
     "output_type": "execute_result"
    }
   ],
   "source": [
    "standard_dev(mantle)"
   ]
  },
  {
   "cell_type": "code",
   "execution_count": 16,
   "id": "e0ee6e11",
   "metadata": {},
   "outputs": [
    {
     "data": {
      "text/plain": [
       "29.77777777777778"
      ]
     },
     "execution_count": 16,
     "metadata": {},
     "output_type": "execute_result"
    }
   ],
   "source": [
    "mean(mantle)"
   ]
  },
  {
   "cell_type": "code",
   "execution_count": 17,
   "id": "8de6891d",
   "metadata": {},
   "outputs": [
    {
     "name": "stdout",
     "output_type": "stream",
     "text": [
      "54\n"
     ]
    },
    {
     "data": {
      "text/plain": [
       "([], [54])"
      ]
     },
     "execution_count": 17,
     "metadata": {},
     "output_type": "execute_result"
    }
   ],
   "source": [
    "is_outlier_mean(mantle)"
   ]
  },
  {
   "cell_type": "markdown",
   "id": "65315f95",
   "metadata": {},
   "source": [
    "Yes, 54 would be an outlier via the soft mean outlier rule as outlier > mean + (sdv X 2) <br />\n",
    "29.7 + (11.9 x 2) = 53.57 and 54 is greater than 53.57"
   ]
  },
  {
   "cell_type": "markdown",
   "id": "52ebb694",
   "metadata": {},
   "source": [
    "**Question 3**"
   ]
  },
  {
   "cell_type": "code",
   "execution_count": 18,
   "id": "78050cd4",
   "metadata": {},
   "outputs": [
    {
     "data": {
      "text/plain": [
       "18"
      ]
     },
     "execution_count": 18,
     "metadata": {},
     "output_type": "execute_result"
    }
   ],
   "source": [
    "len(mantle)"
   ]
  },
  {
   "cell_type": "markdown",
   "id": "8fab470e",
   "metadata": {},
   "source": [
    "**Question 4**"
   ]
  },
  {
   "cell_type": "code",
   "execution_count": 19,
   "id": "de085754",
   "metadata": {},
   "outputs": [],
   "source": [
    "scores = [66,82,76,79,72,98,75,80,76,55,77,68,69,84,89]"
   ]
  },
  {
   "cell_type": "code",
   "execution_count": 20,
   "id": "28d117cc",
   "metadata": {},
   "outputs": [
    {
     "data": {
      "text/plain": [
       "76.4"
      ]
     },
     "execution_count": 20,
     "metadata": {},
     "output_type": "execute_result"
    }
   ],
   "source": [
    "mean(scores)"
   ]
  },
  {
   "cell_type": "code",
   "execution_count": 27,
   "id": "fddfdb30",
   "metadata": {},
   "outputs": [
    {
     "data": {
      "text/plain": [
       "10.17"
      ]
     },
     "execution_count": 27,
     "metadata": {},
     "output_type": "execute_result"
    }
   ],
   "source": [
    "standard_dev(scores)"
   ]
  },
  {
   "cell_type": "code",
   "execution_count": 29,
   "id": "73488bb1",
   "metadata": {},
   "outputs": [
    {
     "data": {
      "text/plain": [
       "0.75"
      ]
     },
     "execution_count": 29,
     "metadata": {},
     "output_type": "execute_result"
    }
   ],
   "source": [
    "z_score(84,10.17,76.4)"
   ]
  },
  {
   "cell_type": "code",
   "execution_count": 30,
   "id": "fe8f24a8",
   "metadata": {},
   "outputs": [
    {
     "data": {
      "text/plain": [
       "1.24"
      ]
     },
     "execution_count": 30,
     "metadata": {},
     "output_type": "execute_result"
    }
   ],
   "source": [
    "z_score(89,10.17,76.4)"
   ]
  },
  {
   "cell_type": "markdown",
   "id": "03df87fe",
   "metadata": {},
   "source": [
    "**Question 5**"
   ]
  },
  {
   "cell_type": "code",
   "execution_count": 31,
   "id": "ce24bed8",
   "metadata": {},
   "outputs": [
    {
     "name": "stdout",
     "output_type": "stream",
     "text": [
      "Median: 76.0\n",
      "Mean: 76.4\n",
      "Standard Deviation: 10.17\n",
      "Q1: 70.5\n",
      "Q3: 82.0\n",
      "Interquartile Range: 11.5\n",
      "Outliers Median Method: []\n",
      "98\n",
      "Outliers Mean Method Strong (3+SDV): []\n",
      "98\n",
      "Outliers Mean Method Weak (2SDV): [55, 98]\n",
      "Minimum Value: 55\n",
      "Maximum Value: 98\n"
     ]
    }
   ],
   "source": [
    "give_stats(scores)"
   ]
  },
  {
   "cell_type": "markdown",
   "id": "b2424d2f",
   "metadata": {},
   "source": [
    "**Question 6**"
   ]
  },
  {
   "cell_type": "code",
   "execution_count": 32,
   "id": "dbf7fa26",
   "metadata": {},
   "outputs": [
    {
     "data": {
      "text/plain": [
       "3.28"
      ]
     },
     "execution_count": 32,
     "metadata": {},
     "output_type": "execute_result"
    }
   ],
   "source": [
    "z_score(.37,.032,.265)"
   ]
  },
  {
   "cell_type": "markdown",
   "id": "8f6cc155",
   "metadata": {},
   "source": [
    "**Question 7**"
   ]
  },
  {
   "cell_type": "code",
   "execution_count": 33,
   "id": "be91555f",
   "metadata": {},
   "outputs": [],
   "source": [
    "m_doubles = [8,11,12,12,14,15,16,17,17,17,21,22,23,24,25,25,28,37]"
   ]
  },
  {
   "cell_type": "code",
   "execution_count": 34,
   "id": "33d55d18",
   "metadata": {},
   "outputs": [
    {
     "data": {
      "text/plain": [
       "17.0"
      ]
     },
     "execution_count": 34,
     "metadata": {},
     "output_type": "execute_result"
    }
   ],
   "source": [
    "median(m_doubles)"
   ]
  },
  {
   "cell_type": "code",
   "execution_count": 35,
   "id": "b51b3505",
   "metadata": {},
   "outputs": [
    {
     "data": {
      "text/plain": [
       "(14.5, 24.5)"
      ]
     },
     "execution_count": 35,
     "metadata": {},
     "output_type": "execute_result"
    }
   ],
   "source": [
    "find_q1_q2(m_doubles)"
   ]
  },
  {
   "cell_type": "code",
   "execution_count": 36,
   "id": "eef5938a",
   "metadata": {},
   "outputs": [
    {
     "name": "stdout",
     "output_type": "stream",
     "text": [
      "8\n",
      "37\n"
     ]
    }
   ],
   "source": [
    "print(min(m_doubles))\n",
    "print(max(m_doubles))"
   ]
  },
  {
   "cell_type": "code",
   "execution_count": 38,
   "id": "e4770357",
   "metadata": {},
   "outputs": [
    {
     "data": {
      "text/plain": [
       "10.0"
      ]
     },
     "execution_count": 38,
     "metadata": {},
     "output_type": "execute_result"
    }
   ],
   "source": [
    "interquartile_range(14.5,24.5)"
   ]
  },
  {
   "cell_type": "markdown",
   "id": "12e5a6a9",
   "metadata": {},
   "source": [
    "**Question 11**"
   ]
  },
  {
   "cell_type": "code",
   "execution_count": 39,
   "id": "47ab1c64",
   "metadata": {},
   "outputs": [],
   "source": [
    "salaries = [6.2,5.4,5.4,4.9,4.4,4.4,3.4,3.3,3,2.4,2.3,1.3,.3,.3]"
   ]
  },
  {
   "cell_type": "code",
   "execution_count": 40,
   "id": "5248e7f0",
   "metadata": {},
   "outputs": [
    {
     "data": {
      "text/plain": [
       "14"
      ]
     },
     "execution_count": 40,
     "metadata": {},
     "output_type": "execute_result"
    }
   ],
   "source": [
    "len(salaries)"
   ]
  },
  {
   "cell_type": "code",
   "execution_count": 41,
   "id": "aa06ed7a",
   "metadata": {},
   "outputs": [
    {
     "name": "stdout",
     "output_type": "stream",
     "text": [
      "Median: 3.3499999999999996\n",
      "Mean: 3.36\n",
      "Standard Deviation: 1.88\n",
      "Q1: 2.3\n",
      "Q3: 4.9\n",
      "Interquartile Range: 2.6\n",
      "Outliers Median Method: []\n",
      "Outliers Mean Method Strong (3+SDV): []\n",
      "Outliers Mean Method Weak (2SDV): []\n",
      "Minimum Value: 0.3\n",
      "Maximum Value: 6.2\n"
     ]
    }
   ],
   "source": [
    "give_stats(salaries)"
   ]
  },
  {
   "cell_type": "markdown",
   "id": "70f08841",
   "metadata": {},
   "source": [
    "**Question 12**"
   ]
  },
  {
   "cell_type": "code",
   "execution_count": 56,
   "id": "8af756d8",
   "metadata": {},
   "outputs": [],
   "source": [
    "pennies = []\n",
    "def multiply(number,marker,lst):\n",
    "    \n",
    "    for num in range(0,number+1):\n",
    "        lst.append(marker)"
   ]
  },
  {
   "cell_type": "code",
   "execution_count": 58,
   "id": "8499d118",
   "metadata": {},
   "outputs": [],
   "source": [
    "multiply(163,0,pennies)\n",
    "multiply(87,1,pennies)\n",
    "multiply(52,2,pennies)\n",
    "multiply(75,3,pennies)\n",
    "multiply(44,4,pennies)\n",
    "multiply(24,5,pennies)\n",
    "multiply(36,6,pennies)\n",
    "multiply(14,7,pennies)\n",
    "multiply(11,8,pennies)\n",
    "multiply(5,9,pennies)\n",
    "multiply(12,10,pennies)\n",
    "multiply(2,11,pennies)\n"
   ]
  },
  {
   "cell_type": "code",
   "execution_count": 61,
   "id": "52f1ab59",
   "metadata": {},
   "outputs": [
    {
     "name": "stdout",
     "output_type": "stream",
     "text": [
      "Median: 2.0\n",
      "Mean: 2.48\n",
      "Standard Deviation: 2.66\n",
      "Q1: 0.0\n",
      "Q3: 4.0\n",
      "Interquartile Range: 4.0\n",
      "Outliers Median Method: [11, 11, 11]\n",
      "Outliers Mean Method Strong (3+SDV): [11, 11, 11]\n",
      "Outliers Mean Method Weak (2SDV): [8, 8, 8, 8, 8, 8, 8, 8, 8, 8, 8, 8, 9, 9, 9, 9, 9, 9, 10, 10, 10, 10, 10, 10, 10, 10, 10, 10, 10, 10, 10]\n",
      "Minimum Value: 0\n",
      "Maximum Value: 11\n"
     ]
    }
   ],
   "source": [
    "give_stats(pennies)"
   ]
  },
  {
   "cell_type": "markdown",
   "id": "f7c2b9a2",
   "metadata": {},
   "source": [
    "**Question 13**"
   ]
  },
  {
   "cell_type": "code",
   "execution_count": null,
   "id": "cef2ff36",
   "metadata": {},
   "outputs": [],
   "source": []
  }
 ],
 "metadata": {
  "kernelspec": {
   "display_name": "Python 3 (ipykernel)",
   "language": "python",
   "name": "python3"
  },
  "language_info": {
   "codemirror_mode": {
    "name": "ipython",
    "version": 3
   },
   "file_extension": ".py",
   "mimetype": "text/x-python",
   "name": "python",
   "nbconvert_exporter": "python",
   "pygments_lexer": "ipython3",
   "version": "3.9.13"
  }
 },
 "nbformat": 4,
 "nbformat_minor": 5
}
