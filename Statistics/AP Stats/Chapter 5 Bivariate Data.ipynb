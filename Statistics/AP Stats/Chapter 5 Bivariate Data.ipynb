{
 "cells": [
  {
   "cell_type": "markdown",
   "id": "b92bb5f1",
   "metadata": {},
   "source": [
    "# Bivariate Data Analysis"
   ]
  },
  {
   "cell_type": "markdown",
   "id": "c96ef6ec",
   "metadata": {},
   "source": [
    "Bivariate Data has two variables, we previously learned about Univariate (one variable)"
   ]
  },
  {
   "cell_type": "markdown",
   "id": "e47d6371",
   "metadata": {},
   "source": [
    "We Commonly use **Scatterplots** to display bivariate data and see if their is any correlation b/w the two variables. <br /> Commonly we place the ***Explanatory Variable*** on the X-axis to see if it had any effect on the Y-Axis Variable"
   ]
  },
  {
   "cell_type": "markdown",
   "id": "43ecd92d",
   "metadata": {},
   "source": [
    "![](Images/scatter-plot.png)"
   ]
  },
  {
   "cell_type": "markdown",
   "id": "af8b8645",
   "metadata": {},
   "source": [
    "For example: the graph above shows that these two variables have a **Positively Associated** relationship - as the independent variable is increased; the dependent variable increases as well"
   ]
  },
  {
   "cell_type": "markdown",
   "id": "4d6de300",
   "metadata": {},
   "source": [
    "## Correlation"
   ]
  },
  {
   "cell_type": "markdown",
   "id": "f5447064",
   "metadata": {},
   "source": [
    "**Linear Relationship:** Two variables are linearly related to the extent that their relationship can be modeled by a line. <br /> **Correlation Coefficent:** The primary statistic we have to determine a linear relationship (or Lack thereof)"
   ]
  },
  {
   "cell_type": "markdown",
   "id": "45225897",
   "metadata": {},
   "source": [
    "![](Images/corr_coef.png)"
   ]
  },
  {
   "cell_type": "markdown",
   "id": "3d65291e",
   "metadata": {},
   "source": [
    "### The Corrleation Coefficent (r) must be: -1 <= r <= 1 <br /> If r= -1 or 1 all the points will lie on the line"
   ]
  },
  {
   "cell_type": "markdown",
   "id": "1fc98132",
   "metadata": {},
   "source": [
    "![](Images/corr_strength.png)"
   ]
  },
  {
   "cell_type": "markdown",
   "id": "fb490b37",
   "metadata": {},
   "source": [
    "If r > 0 There is a positive relationship <br />\n",
    "If r = 0 there is no linear relationship <br />\n",
    "r is not resistant to extreme values b/c is is based on the mean. A single extreme value can throw things off"
   ]
  },
  {
   "cell_type": "markdown",
   "id": "2ac4ebf0",
   "metadata": {},
   "source": [
    "# Let's Try and make a function to calculate r"
   ]
  },
  {
   "cell_type": "code",
   "execution_count": 3,
   "id": "0d34c51c",
   "metadata": {},
   "outputs": [],
   "source": [
    "def mean(a_list):\n",
    "    return sum(a_list) / len(a_list)"
   ]
  },
  {
   "cell_type": "code",
   "execution_count": 4,
   "id": "7fa9a77c",
   "metadata": {},
   "outputs": [],
   "source": [
    "def standard_dev(a_list):\n",
    "    mean = sum(a_list) / len(a_list)\n",
    "    x_sum = 0\n",
    "    \n",
    "    for num in a_list:\n",
    "        x_sum += (num - mean)**2\n",
    "        \n",
    "    return (x_sum* 1/(len(a_list)-1))**.5"
   ]
  },
  {
   "cell_type": "code",
   "execution_count": 5,
   "id": "7d7455a6",
   "metadata": {},
   "outputs": [],
   "source": [
    "def z_score(num, sdv, mean):\n",
    "    \n",
    "    return round((num - mean) / sdv,2)"
   ]
  },
  {
   "cell_type": "code",
   "execution_count": 36,
   "id": "a0e21ed7",
   "metadata": {},
   "outputs": [],
   "source": [
    "# Relationship b/w students hours studied (x) and test scores (y) placed in a tuple\n",
    "study_test_relationship = [(.5,65), (2.5,80), (3,77), (1.5,60), (1.25,68), (.75,70), (4,83), (2.25,85), (1.5,70), (6,96), (3.25, 84), (2.5,84), (0,51), (1.75,63), (2,71)]"
   ]
  },
  {
   "cell_type": "code",
   "execution_count": 15,
   "id": "600d52a1",
   "metadata": {},
   "outputs": [
    {
     "name": "stdout",
     "output_type": "stream",
     "text": [
      "[(0.5, 65), (2.5, 80), (3, 77), (1.5, 60), (1.25, 68), (0.75, 70), (4, 83), (2.25, 85), (1.5, 70), (6, 96), (3.25, 84), (2.5, 84), (0, 51), (1.75, 63), (2, 71)]\n"
     ]
    }
   ],
   "source": [
    "print(study_test_relationship)"
   ]
  },
  {
   "cell_type": "code",
   "execution_count": 6,
   "id": "9a83e886",
   "metadata": {},
   "outputs": [],
   "source": [
    "def correlation_coefficient(data_set):\n",
    "    \n",
    "    x_list = []\n",
    "    y_list = []\n",
    "    z_sum = 0\n",
    "    n = len(data_set)\n",
    "    \n",
    "    for x,y in data_set:\n",
    "        x_list.append(x)\n",
    "        y_list.append(y)\n",
    "        \n",
    "    x_mean = mean(x_list)\n",
    "    y_mean = mean(y_list)\n",
    "    \n",
    "    x_sdv = standard_dev(x_list)\n",
    "    y_sdv = standard_dev(y_list)\n",
    "    \n",
    "        \n",
    "    for x_num,y_num in data_set:\n",
    "        z_sum += (z_score(x_num, x_sdv, x_mean) * z_score(y_num, y_sdv,y_mean))\n",
    "\n",
    "    return ((z_sum) / (n-1))"
   ]
  },
  {
   "cell_type": "code",
   "execution_count": 65,
   "id": "e66bcb07",
   "metadata": {},
   "outputs": [
    {
     "data": {
      "text/plain": [
       "0.8629785714285713"
      ]
     },
     "execution_count": 65,
     "metadata": {},
     "output_type": "execute_result"
    }
   ],
   "source": [
    "correlation_coefficient(study_test_relationship)"
   ]
  },
  {
   "cell_type": "markdown",
   "id": "e803f736",
   "metadata": {},
   "source": [
    "# Least-Squares Regression Line"
   ]
  },
  {
   "cell_type": "markdown",
   "id": "5ce00200",
   "metadata": {},
   "source": [
    "**Regression Line:** A Line that can be used for predicting response values from explanatory variables"
   ]
  },
  {
   "cell_type": "markdown",
   "id": "2689f515",
   "metadata": {},
   "source": [
    "![](Images/least_squares_regression.jpg)"
   ]
  },
  {
   "cell_type": "markdown",
   "id": "f618b735",
   "metadata": {},
   "source": [
    "![](Images/least-square-regression2.png)"
   ]
  },
  {
   "cell_type": "code",
   "execution_count": 1,
   "id": "beab7986",
   "metadata": {},
   "outputs": [],
   "source": [
    "# Let's do this for the study example\n",
    "study_test_relationship = [(.5,65), (2.5,80), (3,77), (1.5,60), (1.25,68), (.75,70), (4,83), (2.25,85), (1.5,70), (6,96), (3.25, 84), (2.5,84), (0,51), (1.75,63), (2,71)]"
   ]
  },
  {
   "cell_type": "code",
   "execution_count": 2,
   "id": "7a9f24a0",
   "metadata": {},
   "outputs": [],
   "source": [
    "x_list = []\n",
    "y_list = []\n",
    "\n",
    "for x,y in study_test_relationship:\n",
    "    x_list.append(x)\n",
    "    y_list.append(y)"
   ]
  },
  {
   "cell_type": "code",
   "execution_count": 3,
   "id": "8118ae87",
   "metadata": {},
   "outputs": [
    {
     "name": "stdout",
     "output_type": "stream",
     "text": [
      "[0.5, 2.5, 3, 1.5, 1.25, 0.75, 4, 2.25, 1.5, 6, 3.25, 2.5, 0, 1.75, 2]\n"
     ]
    }
   ],
   "source": [
    "print(x_list)"
   ]
  },
  {
   "cell_type": "code",
   "execution_count": 4,
   "id": "0c89a1f3",
   "metadata": {},
   "outputs": [
    {
     "name": "stdout",
     "output_type": "stream",
     "text": [
      "[65, 80, 77, 60, 68, 70, 83, 85, 70, 96, 84, 84, 51, 63, 71]\n"
     ]
    }
   ],
   "source": [
    "print(y_list)"
   ]
  },
  {
   "cell_type": "markdown",
   "id": "82a2c12c",
   "metadata": {},
   "source": [
    "### Numbers crunched in stats module"
   ]
  },
  {
   "cell_type": "markdown",
   "id": "2b92f375",
   "metadata": {},
   "source": [
    "We Want to predict what score someone would get if they studied for 2.75 hours"
   ]
  },
  {
   "cell_type": "code",
   "execution_count": 18,
   "id": "3722d2f7",
   "metadata": {},
   "outputs": [],
   "source": [
    "b = round(.863 * (11.75/ 1.5),2) # b= r * (sdv_y / sdv_x)"
   ]
  },
  {
   "cell_type": "code",
   "execution_count": 19,
   "id": "93fcce02",
   "metadata": {},
   "outputs": [
    {
     "data": {
      "text/plain": [
       "6.76"
      ]
     },
     "execution_count": 19,
     "metadata": {},
     "output_type": "execute_result"
    }
   ],
   "source": [
    "b"
   ]
  },
  {
   "cell_type": "code",
   "execution_count": 25,
   "id": "ceff6c01",
   "metadata": {},
   "outputs": [],
   "source": [
    "a = 73.8 - (b*2.18) # a = mean_y - b * mean_x"
   ]
  },
  {
   "cell_type": "code",
   "execution_count": 26,
   "id": "15c997d3",
   "metadata": {},
   "outputs": [
    {
     "data": {
      "text/plain": [
       "59.063199999999995"
      ]
     },
     "execution_count": 26,
     "metadata": {},
     "output_type": "execute_result"
    }
   ],
   "source": [
    "a"
   ]
  },
  {
   "cell_type": "code",
   "execution_count": 27,
   "id": "78887421",
   "metadata": {},
   "outputs": [],
   "source": [
    "y_hat = a+ (b*2.75) # predicted y value = a + b * trial x value (2.75)"
   ]
  },
  {
   "cell_type": "code",
   "execution_count": 28,
   "id": "f5257abf",
   "metadata": {},
   "outputs": [
    {
     "data": {
      "text/plain": [
       "77.6532"
      ]
     },
     "execution_count": 28,
     "metadata": {},
     "output_type": "execute_result"
    }
   ],
   "source": [
    "y_hat"
   ]
  },
  {
   "cell_type": "markdown",
   "id": "aedde267",
   "metadata": {},
   "source": [
    "The Regression equation can be thought of as: score = 59 + 6.77 hours"
   ]
  },
  {
   "cell_type": "markdown",
   "id": "77ca22ce",
   "metadata": {},
   "source": [
    "### a is the y-intercept and b is the slope of the line"
   ]
  },
  {
   "cell_type": "markdown",
   "id": "b3925c4e",
   "metadata": {},
   "source": [
    "In our example, a = 59 which is the predicted score when hours studied (x) is zero."
   ]
  },
  {
   "cell_type": "code",
   "execution_count": 66,
   "id": "905a1514",
   "metadata": {},
   "outputs": [
    {
     "name": "stdout",
     "output_type": "stream",
     "text": [
      " ŷ = 59.05+6.76x\n"
     ]
    }
   ],
   "source": [
    "regression_line(study_test_relationship)"
   ]
  },
  {
   "cell_type": "markdown",
   "id": "fe2e6a6e",
   "metadata": {},
   "source": [
    "# Regression Line function"
   ]
  },
  {
   "cell_type": "code",
   "execution_count": 7,
   "id": "5abfba5b",
   "metadata": {},
   "outputs": [],
   "source": [
    "def regression_line(a_list,give_values=False):\n",
    "    x_list = []\n",
    "    y_list = []\n",
    "\n",
    "    for x,y in a_list:\n",
    "        x_list.append(x)\n",
    "        y_list.append(y)\n",
    "        \n",
    "    sdv_y = standard_dev(y_list)\n",
    "    sdv_x = standard_dev(x_list)\n",
    "    \n",
    "    y_mean = mean(y_list)\n",
    "    x_mean = mean(x_list)\n",
    "    r = correlation_coefficient(a_list)\n",
    "        \n",
    "    b = r * (sdv_y / sdv_x) # b= r * (sdv_y / sdv_x)\n",
    "    a = y_mean - (b*x_mean) # a = mean_y - b * mean_x\n",
    "    \n",
    "    if give_values == False:\n",
    "        print(f\" ŷ = {round(a,2)}+{round(b,2)}x\")\n",
    "    \n",
    "    if give_values == True:\n",
    "        return a, b"
   ]
  },
  {
   "cell_type": "markdown",
   "id": "3323f1c5",
   "metadata": {},
   "source": [
    "# Predict Y Value of data set"
   ]
  },
  {
   "cell_type": "code",
   "execution_count": 8,
   "id": "8889c2c9",
   "metadata": {},
   "outputs": [],
   "source": [
    "def predict_y(a_list, x_predict):\n",
    "    \n",
    "    a,b = regression_line(a_list, True)\n",
    "        \n",
    "    y_predict = a + (b * x_predict)\n",
    "    \n",
    "    return y_predict"
   ]
  },
  {
   "cell_type": "code",
   "execution_count": 11,
   "id": "beccbe94",
   "metadata": {},
   "outputs": [],
   "source": [
    "# New Book Example\n",
    "criminal = [(300,200), (880,380), (1000,400), (1540,200), (1560,800), (1600,600), (1600,800), (2200,1000), (3200,1600), (6000,2700)]"
   ]
  },
  {
   "cell_type": "markdown",
   "id": "727b91c0",
   "metadata": {},
   "source": [
    "# Predict X̂ "
   ]
  },
  {
   "cell_type": "code",
   "execution_count": 9,
   "id": "44aafa88",
   "metadata": {},
   "outputs": [],
   "source": [
    "def predict_x(a_list, y_value):\n",
    "    \n",
    "    a,b = regression_line(a_list, True)\n",
    "        \n",
    "    x_predict = (y_value - a) / b\n",
    "    \n",
    "    return round(x_predict,3)"
   ]
  },
  {
   "cell_type": "code",
   "execution_count": 13,
   "id": "db238843",
   "metadata": {},
   "outputs": [
    {
     "data": {
      "text/plain": [
       "143.599"
      ]
     },
     "execution_count": 13,
     "metadata": {},
     "output_type": "execute_result"
    }
   ],
   "source": [
    "predict_x(height_age,156.2)"
   ]
  },
  {
   "cell_type": "markdown",
   "id": "34bfc502",
   "metadata": {},
   "source": [
    "### Question A"
   ]
  },
  {
   "cell_type": "code",
   "execution_count": 97,
   "id": "95c30094",
   "metadata": {},
   "outputs": [
    {
     "data": {
      "text/plain": [
       "0.9727333333333333"
      ]
     },
     "execution_count": 97,
     "metadata": {},
     "output_type": "execute_result"
    }
   ],
   "source": [
    "correlation_coefficient(criminal)"
   ]
  },
  {
   "cell_type": "code",
   "execution_count": 98,
   "id": "48b87b95",
   "metadata": {},
   "outputs": [
    {
     "name": "stdout",
     "output_type": "stream",
     "text": [
      " ŷ = -56.83+0.47x\n"
     ]
    }
   ],
   "source": [
    "regression_line(criminal)"
   ]
  },
  {
   "cell_type": "markdown",
   "id": "dcfe194e",
   "metadata": {},
   "source": [
    "### Question C"
   ]
  },
  {
   "cell_type": "markdown",
   "id": "90dbcd0e",
   "metadata": {},
   "source": [
    "The Slope .46 says that we would predict that for every 1 increase in salary we would expect .46 increase in restitution payment"
   ]
  },
  {
   "cell_type": "markdown",
   "id": "e06891b4",
   "metadata": {},
   "source": [
    "### Question D"
   ]
  },
  {
   "cell_type": "code",
   "execution_count": 82,
   "id": "1146551f",
   "metadata": {},
   "outputs": [
    {
     "data": {
      "text/plain": [
       "594.459"
      ]
     },
     "execution_count": 82,
     "metadata": {},
     "output_type": "execute_result"
    }
   ],
   "source": [
    "predict_y(criminal, 1400)"
   ]
  },
  {
   "cell_type": "markdown",
   "id": "0053db0e",
   "metadata": {},
   "source": [
    "# Residuals"
   ]
  },
  {
   "cell_type": "markdown",
   "id": "9f8756bc",
   "metadata": {},
   "source": [
    "The formal name for the difference b/w y - ŷ is called the **Residual** <br />\n",
    "This shows the amount of error in our prediction model (linear regression line)"
   ]
  },
  {
   "cell_type": "markdown",
   "id": "4318205c",
   "metadata": {},
   "source": [
    "We have the actual y for a criminal with a salary of 1560 a month; which is 800 in restitution. <br />\n",
    "Let's see what our model would predict as ŷ"
   ]
  },
  {
   "cell_type": "code",
   "execution_count": 83,
   "id": "1132c39c",
   "metadata": {},
   "outputs": [
    {
     "data": {
      "text/plain": [
       "668.892"
      ]
     },
     "execution_count": 83,
     "metadata": {},
     "output_type": "execute_result"
    }
   ],
   "source": [
    "predict_y(criminal, 1560)"
   ]
  },
  {
   "cell_type": "markdown",
   "id": "aa34732b",
   "metadata": {},
   "source": [
    "So our Residual for this data point would be 800-669 or 131"
   ]
  },
  {
   "cell_type": "markdown",
   "id": "ab247101",
   "metadata": {},
   "source": [
    "### Resdiual plots that show a clear pattern are an indictation tha the data isn't linear"
   ]
  },
  {
   "cell_type": "markdown",
   "id": "1b169505",
   "metadata": {},
   "source": [
    "![](Images/non_linear_residuals.PNG)"
   ]
  },
  {
   "cell_type": "markdown",
   "id": "b3d5422a",
   "metadata": {},
   "source": [
    "# Residual"
   ]
  },
  {
   "cell_type": "code",
   "execution_count": 10,
   "id": "ed1b3255",
   "metadata": {},
   "outputs": [],
   "source": [
    "def residual(a_list,x,y):\n",
    "\n",
    "    y_hat = predict_y(a_list, x)\n",
    "\n",
    "    return y-y_hat"
   ]
  },
  {
   "cell_type": "code",
   "execution_count": 177,
   "id": "a4308f00",
   "metadata": {},
   "outputs": [
    {
     "data": {
      "text/plain": [
       "131.108"
      ]
     },
     "execution_count": 177,
     "metadata": {},
     "output_type": "execute_result"
    }
   ],
   "source": [
    "round(residual(criminal,1560,800),3)"
   ]
  },
  {
   "cell_type": "code",
   "execution_count": 2,
   "id": "4777a11f",
   "metadata": {},
   "outputs": [],
   "source": [
    "# Book Example\n",
    "height_age = [(18,76), (19,77.1), (20,78.1), (21,78.3), (22,78.8), (23, 79.4), (24,79.9), (25,81.3), (26,81.1), (27,82), (28,82.6), (29,83.5)]"
   ]
  },
  {
   "cell_type": "markdown",
   "id": "179d751b",
   "metadata": {},
   "source": [
    "# Average Residual"
   ]
  },
  {
   "cell_type": "code",
   "execution_count": 11,
   "id": "09494cdf",
   "metadata": {},
   "outputs": [],
   "source": [
    "def average_residual(a_list):\n",
    "    \n",
    "    n = len(a_list)\n",
    "    total_yhat = 0\n",
    "    total_y = 0\n",
    "\n",
    "    for x_num, y_num in a_list:\n",
    "        total_yhat += predict_y(a_list, x_num)\n",
    "        total_y += y_num\n",
    "        \n",
    "    total_residual = total_y - total_yhat\n",
    "    avg_residual = total_residual / n\n",
    "    \n",
    "    return round(avg_residual,3)    \n",
    "        \n",
    "    "
   ]
  },
  {
   "cell_type": "code",
   "execution_count": 16,
   "id": "c31486cb",
   "metadata": {},
   "outputs": [
    {
     "data": {
      "text/plain": [
       "-0.0"
      ]
     },
     "execution_count": 16,
     "metadata": {},
     "output_type": "execute_result"
    }
   ],
   "source": [
    "average_residual(height_age)"
   ]
  },
  {
   "cell_type": "markdown",
   "id": "ba753d15",
   "metadata": {},
   "source": [
    "# Total Residual (Sum of Squared Errors)"
   ]
  },
  {
   "cell_type": "code",
   "execution_count": 12,
   "id": "e5cf2f2a",
   "metadata": {},
   "outputs": [],
   "source": [
    "def total_residual(a_list):\n",
    "    n = len(a_list)\n",
    "    total_yhat = 0\n",
    "    total_y = 0\n",
    "\n",
    "    for x_num, y_num in a_list:\n",
    "        total_yhat += predict_y(a_list, x_num)\n",
    "        total_y += y_num\n",
    "        \n",
    "    total_residual = total_y - total_yhat\n",
    "    \n",
    "    return total_residual"
   ]
  },
  {
   "cell_type": "code",
   "execution_count": 18,
   "id": "3310b68f",
   "metadata": {},
   "outputs": [
    {
     "data": {
      "text/plain": [
       "-0.0009999999998626663"
      ]
     },
     "execution_count": 18,
     "metadata": {},
     "output_type": "execute_result"
    }
   ],
   "source": [
    "total_residual(height_age)"
   ]
  },
  {
   "cell_type": "markdown",
   "id": "6080595a",
   "metadata": {},
   "source": [
    "### Book Question"
   ]
  },
  {
   "cell_type": "markdown",
   "id": "84cacf25",
   "metadata": {},
   "source": [
    "**a** Does the regression line seem to be a good model for the data?"
   ]
  },
  {
   "cell_type": "code",
   "execution_count": 183,
   "id": "7cd8c860",
   "metadata": {},
   "outputs": [
    {
     "data": {
      "text/plain": [
       "0.995"
      ]
     },
     "execution_count": 183,
     "metadata": {},
     "output_type": "execute_result"
    }
   ],
   "source": [
    "# Correlation Coefficent is VERY high\n",
    "round(correlation_coefficient(height_age),3)"
   ]
  },
  {
   "cell_type": "code",
   "execution_count": 184,
   "id": "f04c6136",
   "metadata": {},
   "outputs": [
    {
     "name": "stdout",
     "output_type": "stream",
     "text": [
      " ŷ = 64.9+0.64x\n"
     ]
    }
   ],
   "source": [
    "# Our Regression Line Equation\n",
    "regression_line(height_age,give_values=False)"
   ]
  },
  {
   "cell_type": "code",
   "execution_count": 185,
   "id": "14568343",
   "metadata": {},
   "outputs": [
    {
     "data": {
      "text/plain": [
       "-0.0"
      ]
     },
     "execution_count": 185,
     "metadata": {},
     "output_type": "execute_result"
    }
   ],
   "source": [
    "# Our Average Residual\n",
    "average_residual(height_age)"
   ]
  },
  {
   "cell_type": "markdown",
   "id": "a4799f50",
   "metadata": {},
   "source": [
    "Our Regression Line has a VERY high corr coefficient and an average residual of 0, so Yes this line fits the data extraordinarily well"
   ]
  },
  {
   "cell_type": "markdown",
   "id": "a49145c0",
   "metadata": {},
   "source": [
    "**b** What is the value of the residual for a child at 19 months?"
   ]
  },
  {
   "cell_type": "code",
   "execution_count": 186,
   "id": "e3baf7c5",
   "metadata": {},
   "outputs": [
    {
     "data": {
      "text/plain": [
       "0.119"
      ]
     },
     "execution_count": 186,
     "metadata": {},
     "output_type": "execute_result"
    }
   ],
   "source": [
    "round(residual(height_age,19,77.1),3)"
   ]
  },
  {
   "cell_type": "markdown",
   "id": "a723a6df",
   "metadata": {},
   "source": [
    "## Interpolation"
   ]
  },
  {
   "cell_type": "markdown",
   "id": "475776d6",
   "metadata": {},
   "source": [
    "If we are trying to predict a value of y from an x value ***within*** the range of values that is interpolation. <br />\n",
    "If a line has been shown to be a good model for the data and if it fits the line well (have a strong r and low mean residual) we can have confidence in interpolated predictions"
   ]
  },
  {
   "cell_type": "code",
   "execution_count": 187,
   "id": "54eff6e6",
   "metadata": {},
   "outputs": [
    {
     "data": {
      "text/plain": [
       "76.981"
      ]
     },
     "execution_count": 187,
     "metadata": {},
     "output_type": "execute_result"
    }
   ],
   "source": [
    "predict_y(height_age,19)"
   ]
  },
  {
   "cell_type": "markdown",
   "id": "668d3c4b",
   "metadata": {},
   "source": [
    "## Extrapolation"
   ]
  },
  {
   "cell_type": "markdown",
   "id": "28047f4b",
   "metadata": {},
   "source": [
    "When we predict from a value outside of the x values <br /> \n",
    "We can ***Rarely*** have confidence in extrapolated values, see example below where at 144 months we'd predict the child to be 13 feet tall!"
   ]
  },
  {
   "cell_type": "code",
   "execution_count": 188,
   "id": "4729302d",
   "metadata": {},
   "outputs": [
    {
     "data": {
      "text/plain": [
       "156.455"
      ]
     },
     "execution_count": 188,
     "metadata": {},
     "output_type": "execute_result"
    }
   ],
   "source": [
    "predict_y(height_age,144)"
   ]
  },
  {
   "cell_type": "markdown",
   "id": "a8e0a252",
   "metadata": {},
   "source": [
    "# Coefficient of Determination"
   ]
  },
  {
   "cell_type": "markdown",
   "id": "03cd6562",
   "metadata": {},
   "source": [
    "If we didn't have a regression line and wanted to predict y, our only decent option is to use the mean of ȳ as our estimate for any given X <br />\n",
    "If we guessed for any given age in height_age that the height was the mean y, we'd probably be a bit off from reality... <br />\n",
    "So we calculate the sum of the squares of (y-ȳ) and this is called the **Sum of Squares Total** <br />\n",
    "it represents the total variability of y <br />\n",
    "Now let's suppose we made a regression line, if we take the total of our regression (y - ŷ) that is called **Sum of Squared Errors** <br />\n",
    "so ***SST*** represents the error from using the mean of y, ȳ and ***SSE*** represents the error from using the regression line <br />\n",
    "The porportion of the total variability in y that is explained by the regression of y on x is called the **Coefficient of Determination**"
   ]
  },
  {
   "cell_type": "markdown",
   "id": "2607982c",
   "metadata": {},
   "source": [
    "# Sum of Squares Total"
   ]
  },
  {
   "cell_type": "code",
   "execution_count": 13,
   "id": "879d81b8",
   "metadata": {},
   "outputs": [],
   "source": [
    "def sum_of_squares_total(a_list):\n",
    "    y_list = []\n",
    "    sum_squares_total = 0\n",
    "    \n",
    "    for x,y in a_list:\n",
    "        y_list.append(y)\n",
    "        \n",
    "    # find mean of y\n",
    "    y_mean = mean(y_list)\n",
    "    \n",
    "    for y in y_list:\n",
    "        sum_squares_total += (y - y_mean)**2\n",
    "        \n",
    "    return sum_squares_total"
   ]
  },
  {
   "cell_type": "code",
   "execution_count": 98,
   "id": "4b7ec839",
   "metadata": {},
   "outputs": [
    {
     "data": {
      "text/plain": [
       "58.32916666666668"
      ]
     },
     "execution_count": 98,
     "metadata": {},
     "output_type": "execute_result"
    }
   ],
   "source": [
    "sum_of_squares_total(height_age)"
   ]
  },
  {
   "cell_type": "code",
   "execution_count": 96,
   "id": "8a1ea4c5",
   "metadata": {},
   "outputs": [
    {
     "data": {
      "text/plain": [
       "-0.0009999999998626663"
      ]
     },
     "execution_count": 96,
     "metadata": {},
     "output_type": "execute_result"
    }
   ],
   "source": [
    "total_residual(height_age)"
   ]
  },
  {
   "cell_type": "markdown",
   "id": "f4ffa601",
   "metadata": {},
   "source": [
    "# Sum of Squared Errors"
   ]
  },
  {
   "cell_type": "code",
   "execution_count": 23,
   "id": "7717e54e",
   "metadata": {},
   "outputs": [],
   "source": [
    "def sum_of_squared_errors(a_list):\n",
    "    return total_residual(a_list)"
   ]
  },
  {
   "cell_type": "markdown",
   "id": "278928dd",
   "metadata": {},
   "source": [
    "# Coefficient of Determination"
   ]
  },
  {
   "cell_type": "code",
   "execution_count": 14,
   "id": "9d9776c4",
   "metadata": {},
   "outputs": [],
   "source": [
    "def coefficient_determination(a_list):\n",
    "    \"\"\"\n",
    "    Gives coefficient of determination via two means, first (SST-SSE)/SST then r**2\n",
    "    \"\"\"\n",
    "    \n",
    "\n",
    "    sum_squared_errors = total_residual(a_list)\n",
    "    sum_squares_total = sum_of_squares_total(a_list)\n",
    "\n",
    "    \n",
    "    return ((sum_squares_total - sum_squared_errors) / sum_squares_total), correlation_coefficient(a_list)**2"
   ]
  },
  {
   "cell_type": "code",
   "execution_count": 95,
   "id": "2b93e729",
   "metadata": {},
   "outputs": [
    {
     "data": {
      "text/plain": [
       "(1.0000171440817178, 0.9910202499999999)"
      ]
     },
     "execution_count": 95,
     "metadata": {},
     "output_type": "execute_result"
    }
   ],
   "source": [
    "coefficient_determination(height_age)"
   ]
  },
  {
   "cell_type": "markdown",
   "id": "721e2f26",
   "metadata": {},
   "source": [
    "# Influential Observations"
   ]
  },
  {
   "cell_type": "markdown",
   "id": "f65938c2",
   "metadata": {},
   "source": [
    "An Influential observation is often an outlier in the x direction. Its influence, if it doesn't line up with the rest of the data, is on the slope of the regression line"
   ]
  },
  {
   "cell_type": "markdown",
   "id": "9a4e4aa5",
   "metadata": {},
   "source": [
    "### Influential Observation"
   ]
  },
  {
   "cell_type": "markdown",
   "id": "73224407",
   "metadata": {},
   "source": [
    "![](Images/influential_observation.png)"
   ]
  },
  {
   "cell_type": "markdown",
   "id": "e9e63519",
   "metadata": {},
   "source": [
    "### Non-Influential Observation"
   ]
  },
  {
   "cell_type": "markdown",
   "id": "561b44fb",
   "metadata": {},
   "source": [
    "![](Images/non_influential_obs.png)"
   ]
  },
  {
   "cell_type": "markdown",
   "id": "b94a830f",
   "metadata": {},
   "source": [
    "### Example: The Number of a certain type of bacteria present (in thousands) after a certain number of hours is given below"
   ]
  },
  {
   "cell_type": "code",
   "execution_count": 60,
   "id": "132f0650",
   "metadata": {},
   "outputs": [],
   "source": [
    "bacteria = [(1,1.8), (1.5,2.4), (2,3.1), (2.5,4.3), (3,5.8), (3.5,8), (4,10.6), (4.5,14), (5,18)]"
   ]
  },
  {
   "cell_type": "code",
   "execution_count": 61,
   "id": "b30fa694",
   "metadata": {},
   "outputs": [
    {
     "name": "stdout",
     "output_type": "stream",
     "text": [
      " ŷ = -4.31+3.95x\n"
     ]
    }
   ],
   "source": [
    "regression_line(bacteria)"
   ]
  },
  {
   "cell_type": "code",
   "execution_count": 62,
   "id": "0ad532ef",
   "metadata": {},
   "outputs": [
    {
     "data": {
      "text/plain": [
       "10.521"
      ]
     },
     "execution_count": 62,
     "metadata": {},
     "output_type": "execute_result"
    }
   ],
   "source": [
    "predict_y(bacteria,3.75)"
   ]
  },
  {
   "cell_type": "code",
   "execution_count": 65,
   "id": "c72791e1",
   "metadata": {},
   "outputs": [
    {
     "data": {
      "text/plain": [
       "0.0"
      ]
     },
     "execution_count": 65,
     "metadata": {},
     "output_type": "execute_result"
    }
   ],
   "source": [
    "total_residual(bacteria)"
   ]
  },
  {
   "cell_type": "code",
   "execution_count": 66,
   "id": "228ee9fb",
   "metadata": {},
   "outputs": [
    {
     "name": "stdout",
     "output_type": "stream",
     "text": [
      "2.152\n",
      "0.7749999999999999\n",
      "-0.5019999999999998\n",
      "-1.279\n",
      "-1.7560000000000002\n",
      "-1.532\n",
      "-0.9090000000000007\n",
      "0.5139999999999993\n",
      "2.537000000000001\n"
     ]
    }
   ],
   "source": [
    "for x,y in bacteria:\n",
    "    print(residual(bacteria,x,y))"
   ]
  },
  {
   "cell_type": "code",
   "execution_count": 71,
   "id": "1f04a12d",
   "metadata": {},
   "outputs": [],
   "source": [
    "slope = (bacteria[1][1] - bacteria[0][1]) / (bacteria[1][0] - bacteria[0][0])\n",
    "# y2-y1 / x2-x1"
   ]
  },
  {
   "cell_type": "code",
   "execution_count": 72,
   "id": "d2f66e00",
   "metadata": {},
   "outputs": [
    {
     "data": {
      "text/plain": [
       "1.1999999999999997"
      ]
     },
     "execution_count": 72,
     "metadata": {},
     "output_type": "execute_result"
    }
   ],
   "source": [
    "slope"
   ]
  },
  {
   "cell_type": "markdown",
   "id": "f7d941ab",
   "metadata": {},
   "source": [
    "# Data from our bacteria data set\n",
    "[From stats.cpm](https://stats.cpm.org/scatterplot/)"
   ]
  },
  {
   "cell_type": "markdown",
   "id": "dd05e93f",
   "metadata": {},
   "source": [
    "![](Images/Capture1.PNG)"
   ]
  },
  {
   "cell_type": "markdown",
   "id": "5e246443",
   "metadata": {},
   "source": [
    "### Looking at these graphs we see our data doesn't seem to be linear but instead looks rather exponential, so a linear regression line doesn't make sense"
   ]
  },
  {
   "cell_type": "code",
   "execution_count": 15,
   "id": "309e4df2",
   "metadata": {},
   "outputs": [],
   "source": [
    "import math"
   ]
  },
  {
   "cell_type": "markdown",
   "id": "bbdc51dc",
   "metadata": {},
   "source": [
    "We Will need to transform our data set since it isn't linear; we can do this by finding the log of each value g(x)"
   ]
  },
  {
   "cell_type": "markdown",
   "id": "abd89bb6",
   "metadata": {},
   "source": [
    "Our new transformed plot looks much more linear now"
   ]
  },
  {
   "cell_type": "markdown",
   "id": "ce2f1c2f",
   "metadata": {},
   "source": [
    "![](Images/Capture2.PNG)"
   ]
  },
  {
   "cell_type": "markdown",
   "id": "1352a0e4",
   "metadata": {},
   "source": [
    "# Transform Bivariate Set"
   ]
  },
  {
   "cell_type": "code",
   "execution_count": 16,
   "id": "9ce82e1c",
   "metadata": {},
   "outputs": [],
   "source": [
    "def transform_bivariate(a_list):\n",
    "    transformation = []\n",
    "    for x, y in a_list:\n",
    "        transformation.append((x,math.log(y)))\n",
    "        \n",
    "    return transformation\n",
    "        "
   ]
  },
  {
   "cell_type": "code",
   "execution_count": 82,
   "id": "9aff6078",
   "metadata": {},
   "outputs": [],
   "source": [
    "transformed_bacteria = []\n",
    "for x,y in bacteria:\n",
    "    transformed_bacteria.append((x,math.log(y)))"
   ]
  },
  {
   "cell_type": "code",
   "execution_count": 83,
   "id": "5a4e0fce",
   "metadata": {},
   "outputs": [
    {
     "data": {
      "text/plain": [
       "[(1, 0.5877866649021191),\n",
       " (1.5, 0.8754687373538999),\n",
       " (2, 1.1314021114911006),\n",
       " (2.5, 1.4586150226995167),\n",
       " (3, 1.7578579175523736),\n",
       " (3.5, 2.0794415416798357),\n",
       " (4, 2.3608540011180215),\n",
       " (4.5, 2.6390573296152584),\n",
       " (5, 2.8903717578961645)]"
      ]
     },
     "execution_count": 83,
     "metadata": {},
     "output_type": "execute_result"
    }
   ],
   "source": [
    "transformed_bacteria"
   ]
  },
  {
   "cell_type": "code",
   "execution_count": 84,
   "id": "93b44ac1",
   "metadata": {},
   "outputs": [
    {
     "name": "stdout",
     "output_type": "stream",
     "text": [
      " ŷ = -0.01+0.59x\n"
     ]
    }
   ],
   "source": [
    "regression_line(transformed_bacteria)"
   ]
  },
  {
   "cell_type": "code",
   "execution_count": 86,
   "id": "aea57c75",
   "metadata": {},
   "outputs": [
    {
     "data": {
      "text/plain": [
       "2.193"
      ]
     },
     "execution_count": 86,
     "metadata": {},
     "output_type": "execute_result"
    }
   ],
   "source": [
    "predict_y(transformed_bacteria,3.75)"
   ]
  },
  {
   "cell_type": "markdown",
   "id": "fee4532c",
   "metadata": {},
   "source": [
    "We can now try and predict y given x=3.75 with our new transformed regression line"
   ]
  },
  {
   "cell_type": "markdown",
   "id": "40cefeb8",
   "metadata": {},
   "source": [
    "However, 2.193 is ln(number) not just number so we have to adjust it, e^2.19 = **8.935**"
   ]
  },
  {
   "cell_type": "markdown",
   "id": "ad5a2365",
   "metadata": {},
   "source": [
    "# Transform Predicted Y"
   ]
  },
  {
   "cell_type": "code",
   "execution_count": 17,
   "id": "ab7523de",
   "metadata": {},
   "outputs": [],
   "source": [
    "def transform_predicted_y(a_list,x_predict):\n",
    "    \"\"\"\n",
    "    Takes the predicted y value and e^x to fix it\n",
    "    \"\"\"\n",
    "    \n",
    "    y_predicted = predict_y(a_list,x_predict)\n",
    "    \n",
    "    return math.exp(y_predicted)"
   ]
  },
  {
   "cell_type": "code",
   "execution_count": 128,
   "id": "59fa556a",
   "metadata": {},
   "outputs": [
    {
     "data": {
      "text/plain": [
       "8.962059002740496"
      ]
     },
     "execution_count": 128,
     "metadata": {},
     "output_type": "execute_result"
    }
   ],
   "source": [
    "transform_predicted_y(transformed_bacteria,3.75)"
   ]
  },
  {
   "cell_type": "markdown",
   "id": "d5b445f6",
   "metadata": {},
   "source": [
    "# Rapid Review"
   ]
  },
  {
   "cell_type": "markdown",
   "id": "db08aeca",
   "metadata": {},
   "source": [
    "## 1\n",
    "There's a strong positive correlation in this data set"
   ]
  },
  {
   "cell_type": "markdown",
   "id": "c5b10969",
   "metadata": {},
   "source": [
    "## 2\n",
    "No, these residuals show a clear pattern and are thus it is unlikely a linear line will fit the data set well"
   ]
  },
  {
   "cell_type": "markdown",
   "id": "3184fe6c",
   "metadata": {},
   "source": [
    "## 3 \n",
    "It is an outlier as it is far outside the normal data set and it is an influential observation as it is an outlier in the x direction."
   ]
  },
  {
   "cell_type": "markdown",
   "id": "7177c717",
   "metadata": {},
   "source": [
    "## 4\n",
    "For every hour studied GPA is predicted to rise by .11"
   ]
  },
  {
   "cell_type": "markdown",
   "id": "d90698d8",
   "metadata": {},
   "source": [
    "## 5\n",
    "r^2=.45 means that 45% of the variability in college success is explained by the regression of GPA on socioeconomic status"
   ]
  },
  {
   "cell_type": "markdown",
   "id": "dbd2561c",
   "metadata": {},
   "source": [
    "## 6\n",
    "This is a powerful correlation but we need more data to assess wether or not its likely that the Governor is affecting this downward trend in crime: Correlation != Causation"
   ]
  },
  {
   "cell_type": "markdown",
   "id": "369b1696",
   "metadata": {},
   "source": [
    "## Free Response"
   ]
  },
  {
   "cell_type": "markdown",
   "id": "b63976aa",
   "metadata": {},
   "source": [
    "### 1"
   ]
  },
  {
   "cell_type": "code",
   "execution_count": 99,
   "id": "f8403f50",
   "metadata": {},
   "outputs": [],
   "source": [
    "# b = .8(11/4) = 2.2, a = 20-2.2*14.5 = -11.9 "
   ]
  },
  {
   "cell_type": "markdown",
   "id": "5204e249",
   "metadata": {},
   "source": [
    "y = -11.9 + 2.2x"
   ]
  },
  {
   "cell_type": "markdown",
   "id": "360e0f65",
   "metadata": {},
   "source": [
    "### 2"
   ]
  },
  {
   "cell_type": "code",
   "execution_count": 102,
   "id": "81d44f16",
   "metadata": {},
   "outputs": [],
   "source": [
    "test_test = [(63,51), (32,21), (87,52), (73,90), (60,83), (63,54), (83,73), (80,85),(98,83), (85,46)]"
   ]
  },
  {
   "cell_type": "code",
   "execution_count": 103,
   "id": "0606b728",
   "metadata": {},
   "outputs": [
    {
     "data": {
      "text/plain": [
       "0.5500111111111112"
      ]
     },
     "execution_count": 103,
     "metadata": {},
     "output_type": "execute_result"
    }
   ],
   "source": [
    "correlation_coefficient(test_test)"
   ]
  },
  {
   "cell_type": "markdown",
   "id": "d49f4544",
   "metadata": {},
   "source": [
    "![](Images/Free_Response2.PNG)"
   ]
  },
  {
   "cell_type": "markdown",
   "id": "a16fcc3e",
   "metadata": {},
   "source": [
    "They don't seem very  similar, however the correlation is about .55 which is fairly high"
   ]
  },
  {
   "cell_type": "markdown",
   "id": "98e6ef82",
   "metadata": {},
   "source": [
    "### 3"
   ]
  },
  {
   "cell_type": "markdown",
   "id": "48e5b4ec",
   "metadata": {},
   "source": [
    "Regression plots that show a clear pattern indicate a line isn't a good fit (not sure why this is so axiomatically). <br />\n",
    "A residual is actual Y vs predicted y, so the square is a positive number, meaning actual > predicted so the residual should underestimate the y-value"
   ]
  },
  {
   "cell_type": "markdown",
   "id": "6600df63",
   "metadata": {},
   "source": [
    "### 4"
   ]
  },
  {
   "cell_type": "code",
   "execution_count": 105,
   "id": "fe837e5f",
   "metadata": {},
   "outputs": [],
   "source": [
    "swimmer = [(1,77.3), (2,80.2), (3,77.1), (4,76.4), (5,75.5), (6,75.9), (7,75.1), (8, 74.3)]"
   ]
  },
  {
   "cell_type": "code",
   "execution_count": 106,
   "id": "d67391a3",
   "metadata": {},
   "outputs": [
    {
     "name": "stdout",
     "output_type": "stream",
     "text": [
      " ŷ = 79.21+-0.61x\n"
     ]
    }
   ],
   "source": [
    "regression_line(swimmer)"
   ]
  },
  {
   "cell_type": "code",
   "execution_count": 109,
   "id": "6b09aa70",
   "metadata": {},
   "outputs": [
    {
     "data": {
      "text/plain": [
       "31.647"
      ]
     },
     "execution_count": 109,
     "metadata": {},
     "output_type": "execute_result"
    }
   ],
   "source": [
    "predict_x(swimmer, 60)"
   ]
  },
  {
   "cell_type": "markdown",
   "id": "a0d4ad4e",
   "metadata": {},
   "source": [
    "The predict x equation is (y_value - a) / b, so 60-79.21/(-.61) = 31 years... <br />\n",
    "This seems crazy, and this is an example of extrapolation or predicting something beyond a given x value; which tends to give wild results <br />\n",
    "In this case we're assuming the swimmer will always improve and never (even over 30 years!) regress"
   ]
  },
  {
   "cell_type": "markdown",
   "id": "57e09611",
   "metadata": {},
   "source": [
    "### 5"
   ]
  },
  {
   "cell_type": "code",
   "execution_count": 110,
   "id": "68a82a5e",
   "metadata": {},
   "outputs": [],
   "source": [
    "roaches = [(2,3), (5,4.5), (8,6), (11,7.9), (14,11.5)]"
   ]
  },
  {
   "cell_type": "code",
   "execution_count": 111,
   "id": "c0153a27",
   "metadata": {},
   "outputs": [
    {
     "name": "stdout",
     "output_type": "stream",
     "text": [
      " ŷ = 1.16+0.68x\n"
     ]
    }
   ],
   "source": [
    "regression_line(roaches)"
   ]
  },
  {
   "cell_type": "code",
   "execution_count": 112,
   "id": "81133557",
   "metadata": {},
   "outputs": [
    {
     "data": {
      "text/plain": [
       "7.257"
      ]
     },
     "execution_count": 112,
     "metadata": {},
     "output_type": "execute_result"
    }
   ],
   "source": [
    "predict_y(roaches,9)"
   ]
  },
  {
   "cell_type": "markdown",
   "id": "8e7bdd7d",
   "metadata": {},
   "source": [
    "We would predict approx. 7.3 roaches after 9 days"
   ]
  },
  {
   "cell_type": "markdown",
   "id": "fae60f74",
   "metadata": {},
   "source": [
    "### My Answer above is incorrect; remember to check the scatterplot first!"
   ]
  },
  {
   "cell_type": "markdown",
   "id": "91a5b28a",
   "metadata": {},
   "source": [
    "![](Images/roaches.PNG)"
   ]
  },
  {
   "cell_type": "markdown",
   "id": "ae8a5706",
   "metadata": {},
   "source": [
    "When looking at this scatterplot we see the data seems exponential not linear, so we'll need to use ln()"
   ]
  },
  {
   "cell_type": "code",
   "execution_count": 120,
   "id": "15d9d3dd",
   "metadata": {},
   "outputs": [],
   "source": [
    "transformed_roaches = transform_bivariate(roaches)"
   ]
  },
  {
   "cell_type": "code",
   "execution_count": 121,
   "id": "35ace63a",
   "metadata": {},
   "outputs": [
    {
     "data": {
      "text/plain": [
       "[(2, 1.0986122886681098),\n",
       " (5, 1.5040773967762742),\n",
       " (8, 1.791759469228055),\n",
       " (11, 2.066862759472976),\n",
       " (14, 2.4423470353692043)]"
      ]
     },
     "execution_count": 121,
     "metadata": {},
     "output_type": "execute_result"
    }
   ],
   "source": [
    "transformed_roaches"
   ]
  },
  {
   "cell_type": "code",
   "execution_count": 122,
   "id": "135719fd",
   "metadata": {},
   "outputs": [
    {
     "name": "stdout",
     "output_type": "stream",
     "text": [
      " ŷ = 0.92+0.11x\n"
     ]
    }
   ],
   "source": [
    "regression_line(transformed_roaches)"
   ]
  },
  {
   "cell_type": "code",
   "execution_count": 129,
   "id": "caaa9ac7",
   "metadata": {},
   "outputs": [
    {
     "data": {
      "text/plain": [
       "6.606143173596939"
      ]
     },
     "execution_count": 129,
     "metadata": {},
     "output_type": "execute_result"
    }
   ],
   "source": [
    "transform_predicted_y(transformed_roaches,9)"
   ]
  },
  {
   "cell_type": "markdown",
   "id": "a93a4ee8",
   "metadata": {},
   "source": [
    "#### So we would predict 6.6 roaches after 9 days"
   ]
  },
  {
   "cell_type": "markdown",
   "id": "e377ef33",
   "metadata": {},
   "source": [
    "### 6"
   ]
  },
  {
   "cell_type": "markdown",
   "id": "86de97a9",
   "metadata": {},
   "source": [
    "Correlation != Causation, so the advice may be beneficial but we don't know for sure on just correlation. A more exhaustive look at these two variables is neccessary. For instance has the reporter looked into whether the variables affects are reversed? Perhaps healthier people simply like to walk more?"
   ]
  },
  {
   "cell_type": "markdown",
   "id": "46cf0a88",
   "metadata": {},
   "source": [
    "### 7"
   ]
  },
  {
   "cell_type": "markdown",
   "id": "37cab432",
   "metadata": {},
   "source": [
    "I Can't see the data points for the data plotted on a scatter plot so I don't know for sure if these correlations and correlations of determination are relevant. <br />\n",
    "Assuming it is linear, then yes that's an enormous correlation, if 72% of the variance is explained by the explanatory variable of socieoeconomic status, then the original corr was (Square root of .72 =) 85%."
   ]
  },
  {
   "cell_type": "markdown",
   "id": "c301ff7c",
   "metadata": {},
   "source": [
    "### 8"
   ]
  },
  {
   "cell_type": "markdown",
   "id": "40f708b9",
   "metadata": {},
   "source": [
    "I said b,c,e"
   ]
  },
  {
   "cell_type": "markdown",
   "id": "07f9f3b6",
   "metadata": {},
   "source": [
    "Answers: **b,c,d**"
   ]
  },
  {
   "cell_type": "markdown",
   "id": "65a71ba7",
   "metadata": {},
   "source": [
    "### 9"
   ]
  },
  {
   "cell_type": "code",
   "execution_count": 135,
   "id": "c72248ee",
   "metadata": {},
   "outputs": [
    {
     "data": {
      "text/plain": [
       "7.987593315617893"
      ]
     },
     "execution_count": 135,
     "metadata": {},
     "output_type": "execute_result"
    }
   ],
   "source": [
    "#y-y_hat\n",
    "data = [(45,15), (73,7.9), (82,5.8), (91,3.5)]\n",
    "predict_y(data,73)"
   ]
  },
  {
   "cell_type": "code",
   "execution_count": 136,
   "id": "0e306959",
   "metadata": {},
   "outputs": [
    {
     "name": "stdout",
     "output_type": "stream",
     "text": [
      " ŷ = 26.21+-0.25x\n"
     ]
    }
   ],
   "source": [
    "regression_line(data)"
   ]
  },
  {
   "cell_type": "code",
   "execution_count": 137,
   "id": "0c2932ff",
   "metadata": {},
   "outputs": [
    {
     "data": {
      "text/plain": [
       "-0.08699999999999974"
      ]
     },
     "execution_count": 137,
     "metadata": {},
     "output_type": "execute_result"
    }
   ],
   "source": [
    "7.9 - 7.987"
   ]
  },
  {
   "cell_type": "markdown",
   "id": "fda7f6d5",
   "metadata": {},
   "source": [
    "When I run the numbers myself however I get 7.961 so 7.9 - 7.961 = -.061... <br />\n",
    "The book officially agrees with -.061 but in the same answer originally has 7.987... Not sure whats going on here <br />\n",
    "But my guess python is rounding at some points that my calculator isn't causing small changes..."
   ]
  },
  {
   "cell_type": "markdown",
   "id": "e7945057",
   "metadata": {},
   "source": [
    "### 10"
   ]
  },
  {
   "cell_type": "code",
   "execution_count": 138,
   "id": "544b2937",
   "metadata": {},
   "outputs": [],
   "source": [
    "dummy_data = [(10,10), (15,8), (16,6), (17,4)]"
   ]
  },
  {
   "cell_type": "code",
   "execution_count": 139,
   "id": "0dc7ead1",
   "metadata": {},
   "outputs": [
    {
     "name": "stdout",
     "output_type": "stream",
     "text": [
      " ŷ = 17.98+-0.76x\n"
     ]
    }
   ],
   "source": [
    "regression_line(dummy_data)"
   ]
  },
  {
   "cell_type": "code",
   "execution_count": 154,
   "id": "c1f3d7ec",
   "metadata": {},
   "outputs": [
    {
     "data": {
      "text/plain": [
       "-0.9116"
      ]
     },
     "execution_count": 154,
     "metadata": {},
     "output_type": "execute_result"
    }
   ],
   "source": [
    "correlation_coefficient(dummy_data)"
   ]
  },
  {
   "cell_type": "markdown",
   "id": "819a03cc",
   "metadata": {},
   "source": [
    "#### A"
   ]
  },
  {
   "cell_type": "code",
   "execution_count": 146,
   "id": "c87649ed",
   "metadata": {},
   "outputs": [],
   "source": [
    "new_dummy = []\n",
    "for x,y in dummy_data:\n",
    "    new_dummy.append((x,y*-1))"
   ]
  },
  {
   "cell_type": "code",
   "execution_count": 147,
   "id": "57355c47",
   "metadata": {},
   "outputs": [
    {
     "data": {
      "text/plain": [
       "[(10, -10), (15, -8), (16, -6), (17, -4)]"
      ]
     },
     "execution_count": 147,
     "metadata": {},
     "output_type": "execute_result"
    }
   ],
   "source": [
    "new_dummy"
   ]
  },
  {
   "cell_type": "code",
   "execution_count": 148,
   "id": "7ea0a951",
   "metadata": {},
   "outputs": [
    {
     "name": "stdout",
     "output_type": "stream",
     "text": [
      " ŷ = -17.98+0.76x\n"
     ]
    }
   ],
   "source": [
    "regression_line(new_dummy)"
   ]
  },
  {
   "cell_type": "code",
   "execution_count": 149,
   "id": "a1b92f6a",
   "metadata": {},
   "outputs": [
    {
     "data": {
      "text/plain": [
       "0.9116"
      ]
     },
     "execution_count": 149,
     "metadata": {},
     "output_type": "execute_result"
    }
   ],
   "source": [
    "correlation_coefficient(new_dummy)"
   ]
  },
  {
   "cell_type": "markdown",
   "id": "80c2f3d0",
   "metadata": {},
   "source": [
    "The correlation is now positive and increased and the regression line slope was inversed and will be positive"
   ]
  },
  {
   "cell_type": "markdown",
   "id": "5bd29fd7",
   "metadata": {},
   "source": [
    "#### B"
   ]
  },
  {
   "cell_type": "code",
   "execution_count": 150,
   "id": "cfeefa29",
   "metadata": {},
   "outputs": [],
   "source": [
    "new_dummy = []\n",
    "for x,y in dummy_data:\n",
    "    new_dummy.append((y,x))"
   ]
  },
  {
   "cell_type": "code",
   "execution_count": 151,
   "id": "40f44525",
   "metadata": {},
   "outputs": [
    {
     "data": {
      "text/plain": [
       "[(10, 10), (8, 15), (6, 16), (4, 17)]"
      ]
     },
     "execution_count": 151,
     "metadata": {},
     "output_type": "execute_result"
    }
   ],
   "source": [
    "new_dummy"
   ]
  },
  {
   "cell_type": "code",
   "execution_count": 152,
   "id": "3d89f57b",
   "metadata": {},
   "outputs": [
    {
     "name": "stdout",
     "output_type": "stream",
     "text": [
      " ŷ = 22.18+-1.1x\n"
     ]
    }
   ],
   "source": [
    "regression_line(new_dummy)"
   ]
  },
  {
   "cell_type": "code",
   "execution_count": 153,
   "id": "3b1ccd50",
   "metadata": {},
   "outputs": [
    {
     "data": {
      "text/plain": [
       "-0.9116"
      ]
     },
     "execution_count": 153,
     "metadata": {},
     "output_type": "execute_result"
    }
   ],
   "source": [
    "correlation_coefficient(new_dummy)"
   ]
  },
  {
   "cell_type": "markdown",
   "id": "62396b49",
   "metadata": {},
   "source": [
    "The line is still negative and the slope has decreased by quite a bit but correlation remains the same"
   ]
  },
  {
   "cell_type": "markdown",
   "id": "ef8c32f5",
   "metadata": {},
   "source": [
    "### D"
   ]
  },
  {
   "cell_type": "code",
   "execution_count": 155,
   "id": "be3f7cb4",
   "metadata": {},
   "outputs": [],
   "source": [
    "new_dummy = []\n",
    "for x,y in dummy_data:\n",
    "    new_dummy.append((x*-1,y*-1))"
   ]
  },
  {
   "cell_type": "code",
   "execution_count": 156,
   "id": "10a18733",
   "metadata": {},
   "outputs": [
    {
     "data": {
      "text/plain": [
       "[(-10, -10), (-15, -8), (-16, -6), (-17, -4)]"
      ]
     },
     "execution_count": 156,
     "metadata": {},
     "output_type": "execute_result"
    }
   ],
   "source": [
    "new_dummy"
   ]
  },
  {
   "cell_type": "code",
   "execution_count": 157,
   "id": "4799c82c",
   "metadata": {},
   "outputs": [
    {
     "name": "stdout",
     "output_type": "stream",
     "text": [
      " ŷ = -17.98+-0.76x\n"
     ]
    }
   ],
   "source": [
    "regression_line(new_dummy)"
   ]
  },
  {
   "cell_type": "code",
   "execution_count": 158,
   "id": "c4d57911",
   "metadata": {},
   "outputs": [
    {
     "data": {
      "text/plain": [
       "-0.9116"
      ]
     },
     "execution_count": 158,
     "metadata": {},
     "output_type": "execute_result"
    }
   ],
   "source": [
    "correlation_coefficient(new_dummy)"
   ]
  },
  {
   "cell_type": "markdown",
   "id": "791b0307",
   "metadata": {},
   "source": [
    "The Slope is the same but the y intercept is now inversed"
   ]
  },
  {
   "cell_type": "markdown",
   "id": "33e8b510",
   "metadata": {},
   "source": [
    "### 11"
   ]
  },
  {
   "cell_type": "markdown",
   "id": "0641398e",
   "metadata": {},
   "source": [
    "We Need to find the correlation of determination and subtract it from one to find the % variability NOT explained by the regression of training tasks on dexterity"
   ]
  },
  {
   "cell_type": "code",
   "execution_count": 1,
   "id": "dff45c9a",
   "metadata": {},
   "outputs": [],
   "source": [
    "# b = r * (sy/sx), 2.7 = r *3.33, r= 2.7/3.33 = .81\n",
    "#.81^2 equals .66 the correlation of determination\n",
    "#1-.66 = .33"
   ]
  },
  {
   "cell_type": "markdown",
   "id": "b9b9df20",
   "metadata": {},
   "source": [
    "So 33% of the variability is not explained by the regression of x on y"
   ]
  },
  {
   "cell_type": "markdown",
   "id": "4a0ad146",
   "metadata": {},
   "source": [
    "### 12"
   ]
  },
  {
   "cell_type": "markdown",
   "id": "4d3e6604",
   "metadata": {},
   "source": [
    "I would think the correlation would increase and the slope would decrease"
   ]
  },
  {
   "cell_type": "markdown",
   "id": "e4a5fe0d",
   "metadata": {},
   "source": [
    "#### A\n",
    "y = -.39+.118X"
   ]
  },
  {
   "cell_type": "markdown",
   "id": "bfcadc71",
   "metadata": {},
   "source": [
    "#### B\n",
    "Square root of .974 = .986"
   ]
  },
  {
   "cell_type": "markdown",
   "id": "d9d095d9",
   "metadata": {},
   "source": [
    "#### C\n",
    "y = -.39 +.118*(20) = 1.97 or 1,970"
   ]
  },
  {
   "cell_type": "markdown",
   "id": "1930d7b3",
   "metadata": {},
   "source": [
    "### 14"
   ]
  },
  {
   "cell_type": "markdown",
   "id": "5910bbf2",
   "metadata": {},
   "source": [
    "#### A"
   ]
  },
  {
   "cell_type": "code",
   "execution_count": 2,
   "id": "9af9a443",
   "metadata": {},
   "outputs": [],
   "source": [
    "homes = [(110,15.7), (80,10), (95,12.7), (70,7.8), (55,10.4)]"
   ]
  },
  {
   "cell_type": "code",
   "execution_count": 18,
   "id": "bc5ffa81",
   "metadata": {},
   "outputs": [
    {
     "name": "stdout",
     "output_type": "stream",
     "text": [
      " ŷ = 1.88+0.12x\n"
     ]
    }
   ],
   "source": [
    "regression_line(homes)"
   ]
  },
  {
   "cell_type": "markdown",
   "id": "56b8e485",
   "metadata": {},
   "source": [
    "#### B"
   ]
  },
  {
   "cell_type": "code",
   "execution_count": 19,
   "id": "85359fd5",
   "metadata": {},
   "outputs": [
    {
     "data": {
      "text/plain": [
       "11.66521144330469"
      ]
     },
     "execution_count": 19,
     "metadata": {},
     "output_type": "execute_result"
    }
   ],
   "source": [
    "predict_y(homes,85)"
   ]
  },
  {
   "cell_type": "markdown",
   "id": "3887f152",
   "metadata": {},
   "source": [
    "#### C"
   ]
  },
  {
   "cell_type": "code",
   "execution_count": 20,
   "id": "41d151b2",
   "metadata": {},
   "outputs": [
    {
     "data": {
      "text/plain": [
       "0.81965"
      ]
     },
     "execution_count": 20,
     "metadata": {},
     "output_type": "execute_result"
    }
   ],
   "source": [
    "correlation_coefficient(homes)"
   ]
  },
  {
   "cell_type": "markdown",
   "id": "8c014154",
   "metadata": {},
   "source": [
    "#### D"
   ]
  },
  {
   "cell_type": "markdown",
   "id": "8849dd37",
   "metadata": {},
   "source": [
    "I would have to use the mean of Y in this case 11.32%"
   ]
  },
  {
   "cell_type": "markdown",
   "id": "bac3431f",
   "metadata": {},
   "source": [
    "### 15"
   ]
  },
  {
   "cell_type": "markdown",
   "id": "f1a5ca28",
   "metadata": {},
   "source": [
    "I Would estimate that the slope would be near straight and positive since r= .9 which is a relatively large correlation. <br />\n",
    "The book says that the slope would be r since the data is 'standardized' I'm guessing this means sy and sx are near or 1 exactly?"
   ]
  },
  {
   "cell_type": "markdown",
   "id": "5abb8faa",
   "metadata": {},
   "source": [
    "### 16"
   ]
  },
  {
   "cell_type": "markdown",
   "id": "d36df7b2",
   "metadata": {},
   "source": [
    "**A:** .6 <br/>\n",
    "**B:** 0 <br />\n",
    "**C:** -.95 <br />\n",
    "**d:** -.2 (book says -.5)"
   ]
  },
  {
   "cell_type": "markdown",
   "id": "c639b37a",
   "metadata": {},
   "source": [
    "### 17"
   ]
  },
  {
   "cell_type": "markdown",
   "id": "18e2101f",
   "metadata": {},
   "source": [
    "Its clear their will be no residuals at all, as the regression line exactly matches the actual line"
   ]
  },
  {
   "cell_type": "code",
   "execution_count": 21,
   "id": "f19c61ec",
   "metadata": {},
   "outputs": [],
   "source": [
    "data = [(7,10), (8,11), (11,14), (12,15), (15,18)]"
   ]
  },
  {
   "cell_type": "code",
   "execution_count": 24,
   "id": "dd840fc8",
   "metadata": {},
   "outputs": [
    {
     "data": {
      "text/plain": [
       "0.0"
      ]
     },
     "execution_count": 24,
     "metadata": {},
     "output_type": "execute_result"
    }
   ],
   "source": [
    "sum_of_squared_errors(data)"
   ]
  },
  {
   "cell_type": "markdown",
   "id": "db4b5fa7",
   "metadata": {},
   "source": [
    "### 18"
   ]
  },
  {
   "cell_type": "code",
   "execution_count": 25,
   "id": "a0c2048e",
   "metadata": {},
   "outputs": [],
   "source": [
    "school_rating = [(40,10), (60,50), (70,60), (73,65), (75,75), (68,73), (65,78), (85,80), (98,90), (90,95)]"
   ]
  },
  {
   "cell_type": "code",
   "execution_count": 26,
   "id": "fc94546d",
   "metadata": {},
   "outputs": [
    {
     "name": "stdout",
     "output_type": "stream",
     "text": [
      " ŷ = -29.37+1.34x\n"
     ]
    }
   ],
   "source": [
    "regression_line(school_rating)"
   ]
  },
  {
   "cell_type": "markdown",
   "id": "557554bc",
   "metadata": {},
   "source": [
    "#### A"
   ]
  },
  {
   "cell_type": "code",
   "execution_count": 27,
   "id": "2fdd9eb7",
   "metadata": {},
   "outputs": [
    {
     "data": {
      "text/plain": [
       "0.9047777777777777"
      ]
     },
     "execution_count": 27,
     "metadata": {},
     "output_type": "execute_result"
    }
   ],
   "source": [
    "correlation_coefficient(school_rating)"
   ]
  },
  {
   "cell_type": "code",
   "execution_count": 29,
   "id": "0ca0b932",
   "metadata": {},
   "outputs": [
    {
     "data": {
      "text/plain": [
       "(1.0, 0.8186228271604936)"
      ]
     },
     "execution_count": 29,
     "metadata": {},
     "output_type": "execute_result"
    }
   ],
   "source": [
    "coefficient_determination(school_rating)"
   ]
  },
  {
   "cell_type": "markdown",
   "id": "b68de844",
   "metadata": {},
   "source": [
    "Correlation != Causation but the correlation is enormous here and a good indicator that their may be a relationship"
   ]
  },
  {
   "cell_type": "markdown",
   "id": "d3865acc",
   "metadata": {},
   "source": [
    "#### B"
   ]
  },
  {
   "cell_type": "code",
   "execution_count": 28,
   "id": "55061a28",
   "metadata": {},
   "outputs": [
    {
     "data": {
      "text/plain": [
       "77.77876672181986"
      ]
     },
     "execution_count": 28,
     "metadata": {},
     "output_type": "execute_result"
    }
   ],
   "source": [
    "predict_y(school_rating,80)"
   ]
  },
  {
   "cell_type": "markdown",
   "id": "c3a8e6a1",
   "metadata": {},
   "source": [
    "### 19"
   ]
  },
  {
   "cell_type": "markdown",
   "id": "7c5a2e5f",
   "metadata": {},
   "source": [
    "A,b,e"
   ]
  },
  {
   "cell_type": "markdown",
   "id": "eadff212",
   "metadata": {},
   "source": [
    "### 20"
   ]
  },
  {
   "cell_type": "markdown",
   "id": "f0d75bd6",
   "metadata": {},
   "source": [
    "#### A"
   ]
  },
  {
   "cell_type": "markdown",
   "id": "9814e0b1",
   "metadata": {},
   "source": [
    "7.1 +.35(12) = 11.3"
   ]
  },
  {
   "cell_type": "markdown",
   "id": "126fb593",
   "metadata": {},
   "source": [
    "#### B"
   ]
  },
  {
   "cell_type": "markdown",
   "id": "6a13a46d",
   "metadata": {},
   "source": [
    "If someone has zero right hand strength they are predicted to have 7.1 left hand strength (perhaps only have one hand?) <br />\n",
    "For every 1 kg of right hand strength someone is predicted to have .35kg left hand strength"
   ]
  },
  {
   "cell_type": "markdown",
   "id": "8d15e27e",
   "metadata": {},
   "source": [
    "## Cumulative Review"
   ]
  },
  {
   "cell_type": "markdown",
   "id": "7ee31bda",
   "metadata": {},
   "source": [
    "### 1"
   ]
  },
  {
   "cell_type": "markdown",
   "id": "0b0e7b17",
   "metadata": {},
   "source": [
    "A statistic is gathered from a sample of a population and a parameter is taken directly from an entire population"
   ]
  },
  {
   "cell_type": "markdown",
   "id": "8aa2a8e5",
   "metadata": {},
   "source": [
    "### 2"
   ]
  },
  {
   "cell_type": "markdown",
   "id": "150a9038",
   "metadata": {},
   "source": [
    "**False** For an interval of fixed length, there will be a greater proportion of the area under the normal curve if the interval is closer to the center than if it is removed from the center"
   ]
  },
  {
   "cell_type": "markdown",
   "id": "4c79bd55",
   "metadata": {},
   "source": [
    "### 3"
   ]
  },
  {
   "cell_type": "code",
   "execution_count": 30,
   "id": "1b82fd4f",
   "metadata": {},
   "outputs": [],
   "source": [
    "data = [82.93,26,56,75,73,80,61,79,90,94,93,100,71,100,60]"
   ]
  },
  {
   "cell_type": "code",
   "execution_count": 37,
   "id": "95786241",
   "metadata": {},
   "outputs": [],
   "source": [
    "from statistics_module import median"
   ]
  },
  {
   "cell_type": "code",
   "execution_count": 38,
   "id": "ceb25ea8",
   "metadata": {},
   "outputs": [
    {
     "data": {
      "text/plain": [
       "76.062"
      ]
     },
     "execution_count": 38,
     "metadata": {},
     "output_type": "execute_result"
    }
   ],
   "source": [
    "mean(data)"
   ]
  },
  {
   "cell_type": "code",
   "execution_count": 39,
   "id": "579ccc49",
   "metadata": {},
   "outputs": [
    {
     "data": {
      "text/plain": [
       "79.0"
      ]
     },
     "execution_count": 39,
     "metadata": {},
     "output_type": "execute_result"
    }
   ],
   "source": [
    "median(data)"
   ]
  },
  {
   "cell_type": "markdown",
   "id": "231c3497",
   "metadata": {},
   "source": [
    "Looks like the outlier is effecting the mean but the median is resistant to it"
   ]
  },
  {
   "cell_type": "markdown",
   "id": "8ea432a0",
   "metadata": {},
   "source": [
    "### 4"
   ]
  },
  {
   "cell_type": "markdown",
   "id": "522e32bc",
   "metadata": {},
   "source": [
    "No, to make the mean negative most of the numbers would be so, but then the negative mean and x's would be squared nullifying any potentiallity for the stdv to be negative"
   ]
  },
  {
   "cell_type": "markdown",
   "id": "8b70b426",
   "metadata": {},
   "source": [
    "### 5"
   ]
  },
  {
   "cell_type": "code",
   "execution_count": 40,
   "id": "4654361e",
   "metadata": {},
   "outputs": [],
   "source": [
    "import statistics_module"
   ]
  },
  {
   "cell_type": "code",
   "execution_count": 42,
   "id": "97f14f5d",
   "metadata": {},
   "outputs": [
    {
     "name": "stdout",
     "output_type": "stream",
     "text": [
      "Median: 79.0\n",
      "Mean: 76.06\n",
      "Standard Deviation: 19.73\n",
      "Q1: 61.0\n",
      "Q3: 93.0\n",
      "Interquartile Range: 32.0\n",
      "Outliers Median Method: []\n",
      "Outliers Mean Method Strong (3+SDV): []\n",
      "Outliers Mean Method Weak (2SDV): [26]\n",
      "Minimum Value: 26\n",
      "Maximum Value: 100\n"
     ]
    }
   ],
   "source": [
    "statistics_module.give_stats(data)"
   ]
  },
  {
   "cell_type": "code",
   "execution_count": null,
   "id": "979a9fe8",
   "metadata": {},
   "outputs": [],
   "source": []
  }
 ],
 "metadata": {
  "kernelspec": {
   "display_name": "Python 3 (ipykernel)",
   "language": "python",
   "name": "python3"
  },
  "language_info": {
   "codemirror_mode": {
    "name": "ipython",
    "version": 3
   },
   "file_extension": ".py",
   "mimetype": "text/x-python",
   "name": "python",
   "nbconvert_exporter": "python",
   "pygments_lexer": "ipython3",
   "version": "3.9.13"
  }
 },
 "nbformat": 4,
 "nbformat_minor": 5
}
