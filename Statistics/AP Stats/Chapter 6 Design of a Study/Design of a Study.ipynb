{
 "cells": [
  {
   "cell_type": "markdown",
   "id": "af3f3956",
   "metadata": {},
   "source": [
    "# Chapter 6 Design of a Study"
   ]
  },
  {
   "cell_type": "markdown",
   "id": "ecaad8ac",
   "metadata": {},
   "source": [
    "When taking a sample of a population we need to ensure that our data gathering methods are of a sound methodology and that their isn't systemic bias in our techniques as well. This chapter will cover how to do this"
   ]
  },
  {
   "cell_type": "markdown",
   "id": "e895e276",
   "metadata": {},
   "source": [
    "The alternative to sampling is to conduct a **census** wherein every member of a popluation is accounted for in a data set; this is often a gargantuan task. <br /> <br />\n",
    "Additionally, it has been shown that a relatively small sample size can represent a population rather well. <br />\n",
    "The goal of sampling is to produce a **representative Sample** i.e. one that has the essential characteristics of the population being studied, and free of bias"
   ]
  },
  {
   "cell_type": "markdown",
   "id": "e2c68f0e",
   "metadata": {},
   "source": [
    "**Representative Sample:** A list of all members of the population from which we can draw a sample. <br />\n",
    "**Problability Sample:** Sample in which each member of the population has a known probalability of being in the sample. Below are some types of Problability Samples"
   ]
  },
  {
   "cell_type": "markdown",
   "id": "7fd3ce09",
   "metadata": {},
   "source": [
    "1. **Random Sample:** Each Member of the population is equally likely to be included.\n",
    "2. **Simple Random Sample:** A sample of a given size is chozen in such a way that every possible sample of that size is equally likely to be selected.\n",
    "3. **Systematic Sample:** The first member of the sample is chosen according to some random procedure and the subsequent by some well defined pattern.\n",
    "4. **Stratified Random Sample:** Sample in which subgroups appear in approx the same proportion in the sample as they do in the population. e.g. for a sample of 100 people we might have 50 men and 50 women."
   ]
  },
  {
   "cell_type": "markdown",
   "id": "6cd37b55",
   "metadata": {},
   "source": [
    "## Some Types of Nonrandom Samples"
   ]
  },
  {
   "cell_type": "markdown",
   "id": "71352208",
   "metadata": {},
   "source": [
    "1. **Self-Selected Sample:** People choose whether or not to participate in the survey. \n",
    "2. **Convenience Sampling:** The pollster obtains the sample any way he can, usually with the ease of obtaining the sample in mind.\n",
    "3. **Quota Sampling:** The Pollster attempts to generate a representative sample by choosing sample members based on matching individual characteristics to known characteristics of the population. Similar to a ***Stratified Sample*** but not selected randomly"
   ]
  },
  {
   "cell_type": "markdown",
   "id": "5e1efd2b",
   "metadata": {},
   "source": [
    "## Bias in Sampling"
   ]
  },
  {
   "cell_type": "code",
   "execution_count": null,
   "id": "74da34ff",
   "metadata": {},
   "outputs": [],
   "source": []
  }
 ],
 "metadata": {
  "kernelspec": {
   "display_name": "Python 3 (ipykernel)",
   "language": "python",
   "name": "python3"
  },
  "language_info": {
   "codemirror_mode": {
    "name": "ipython",
    "version": 3
   },
   "file_extension": ".py",
   "mimetype": "text/x-python",
   "name": "python",
   "nbconvert_exporter": "python",
   "pygments_lexer": "ipython3",
   "version": "3.9.13"
  }
 },
 "nbformat": 4,
 "nbformat_minor": 5
}
