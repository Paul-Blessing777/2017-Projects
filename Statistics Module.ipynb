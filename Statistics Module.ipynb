{
 "cells": [
  {
   "cell_type": "markdown",
   "id": "9e982e95",
   "metadata": {},
   "source": [
    "# Mean"
   ]
  },
  {
   "cell_type": "code",
   "execution_count": 4,
   "id": "4df63566",
   "metadata": {},
   "outputs": [],
   "source": [
    "def mean(a_list):\n",
    "    return sum(a_list) / len(a_list)"
   ]
  },
  {
   "cell_type": "markdown",
   "id": "0defe72a",
   "metadata": {},
   "source": [
    "# Standard Deviation"
   ]
  },
  {
   "cell_type": "code",
   "execution_count": 5,
   "id": "1aab8507",
   "metadata": {},
   "outputs": [],
   "source": [
    "def standard_dev(a_list):\n",
    "    mean = sum(a_list) / len(a_list)\n",
    "    x_sum = 0\n",
    "    \n",
    "    for num in a_list:\n",
    "        x_sum += (num - mean)**2\n",
    "        \n",
    "    return (x_sum* 1/(len(a_list)-1))**.5"
   ]
  },
  {
   "cell_type": "markdown",
   "id": "7a66f5ff",
   "metadata": {},
   "source": [
    "# Median"
   ]
  },
  {
   "cell_type": "code",
   "execution_count": 6,
   "id": "ecd8c643",
   "metadata": {},
   "outputs": [],
   "source": [
    "def median(list1):\n",
    "    easy_median = False\n",
    "    median = 0.0\n",
    "    list1.sort()\n",
    "    \n",
    "    median_pos = (len(list1)+1) / 2\n",
    "    \n",
    "    if int(median_pos) == median_pos:\n",
    "        easy_median = True\n",
    "        \n",
    "    if easy_median == True:\n",
    "        median = list1[int(median_pos)-1]\n",
    "        return float(median)\n",
    "    else:\n",
    "        lower_median_pos = int(median_pos-1)\n",
    "        upper_median_pos = int(median_pos)\n",
    "        median = ((list1[upper_median_pos]) + (list1[lower_median_pos])) /2\n",
    "        return float(median)"
   ]
  },
  {
   "cell_type": "markdown",
   "id": "5d4b08c8",
   "metadata": {},
   "source": [
    "# Find Quartile1 and Quartile2"
   ]
  },
  {
   "cell_type": "code",
   "execution_count": 7,
   "id": "c3bc7a3f",
   "metadata": {},
   "outputs": [],
   "source": [
    "def find_q1_q2(list22):\n",
    "    low_list = []\n",
    "    high_list = []\n",
    "    list22.sort()\n",
    "    \n",
    "\n",
    "    median_position = (len(list22)+1) / 2\n",
    "    for num in list22:\n",
    "        if (list22.index(num)) +1 < median_position:\n",
    "            low_list.append(num)\n",
    "\n",
    "        elif (list22.index(num))+1 > median_position:\n",
    "            high_list.append(num)\n",
    "            \n",
    "    return median(low_list), median(high_list)"
   ]
  },
  {
   "cell_type": "markdown",
   "id": "44653a81",
   "metadata": {},
   "source": [
    "# Interquartile Range"
   ]
  },
  {
   "cell_type": "code",
   "execution_count": 8,
   "id": "388e9396",
   "metadata": {},
   "outputs": [],
   "source": [
    "def interquartile_range(q1,q3):\n",
    "    \n",
    "    return q3-q1"
   ]
  },
  {
   "cell_type": "markdown",
   "id": "8bcda6ae",
   "metadata": {},
   "source": [
    "# Find Outliers 1.5IQR Rule (Median Focus)"
   ]
  },
  {
   "cell_type": "code",
   "execution_count": 9,
   "id": "85b3f671",
   "metadata": {},
   "outputs": [],
   "source": [
    "def is_outlier_median(a_list):\n",
    "    \n",
    "    q1,q3 = find_q1_q2(a_list)\n",
    "    iqr = q3 - q1\n",
    "    low_outlier_marker = q1-(1.5*iqr)\n",
    "    high_outlier_marker = q3+(1.5*iqr)\n",
    "    \n",
    "    outlier_list = []\n",
    "    \n",
    "    for item in a_list:\n",
    "        if item < low_outlier_marker:\n",
    "            outlier_list.append(item)\n",
    "        elif item > high_outlier_marker:\n",
    "            outlier_list.append(item)\n",
    "    \n",
    "    return outlier_list"
   ]
  },
  {
   "cell_type": "markdown",
   "id": "56e3be9e",
   "metadata": {},
   "source": [
    "# Find Outliers 2SDV and 3SDV+ (Mean Focus)"
   ]
  },
  {
   "cell_type": "code",
   "execution_count": 10,
   "id": "5d686cf7",
   "metadata": {},
   "outputs": [],
   "source": [
    "def is_outlier_mean(a_list):\n",
    "    \n",
    "    mean1 = mean(a_list)\n",
    "    sdv = standard_dev(a_list)\n",
    "    outlier_low = []\n",
    "    outlier_high = []\n",
    "    \n",
    "    for num in a_list:\n",
    "        if num > (mean1+(sdv*2)) and num > (mean1+(sdv*3)):\n",
    "            outlier_high.append(num)\n",
    "        elif num < (mean1-(sdv*2)) and num < (mean1-(sdv*3)):\n",
    "            outlier_high.append(num)\n",
    "        elif num > (mean1+(sdv*2)):\n",
    "            outlier_low.append(num)\n",
    "            print(num)\n",
    "        elif num < (mean1-(sdv*2)):\n",
    "            outlier_low.append(num)\n",
    "        else:\n",
    "            pass\n",
    "    \n",
    "    return(outlier_high, outlier_low)"
   ]
  },
  {
   "cell_type": "markdown",
   "id": "4be16b69",
   "metadata": {},
   "source": [
    "# Get All Stats for a Data Set"
   ]
  },
  {
   "cell_type": "code",
   "execution_count": 14,
   "id": "4cb5a1f3",
   "metadata": {},
   "outputs": [],
   "source": [
    "def give_stats(a_list):\n",
    "    q1,q3= find_q1_q2(a_list)\n",
    "    interquartile_range(q1,q3)\n",
    "    \n",
    "    print(f\"Median: {median(a_list)}\")\n",
    "    print(f\"Mean: {round(mean(a_list),2)}\")\n",
    "    print(f\"Standard Deviation: {round(standard_dev(a_list),2)}\")\n",
    "    print(f\"Q1: {round(find_q1_q2(a_list)[0],2)}\")\n",
    "    print(f\"Q3: {round(find_q1_q2(a_list)[1],2)}\")\n",
    "    print(f\"Interquartile Range: {round(interquartile_range(q1,q3),2)}\")\n",
    "    print(f\"Outliers Median Method: {is_outlier_median(a_list)}\")\n",
    "    print(f\"Outliers Mean Method Strong (3+SDV): {is_outlier_mean(a_list)[0]}\")\n",
    "    print(f\"Outliers Mean Method Weak (2SDV): {is_outlier_mean(a_list)[1]}\")\n",
    "    print(f\"Minimum Value: {min(a_list)}\")\n",
    "    print(f\"Maximum Value: {max(a_list)}\")"
   ]
  },
  {
   "cell_type": "code",
   "execution_count": 15,
   "id": "633dcccb",
   "metadata": {},
   "outputs": [],
   "source": [
    "book_example = [4.03, 3.76, 3.77, 3.34, 3.47, 2.92, 3.20, 2.71, 3.53, 4.51, 4.56]\n",
    "babes_hr = [0, 2, 3, 4, 6, 11, 22, 25, 29, 34, 35, 41, 41, 46, 46, 46, 47, 49, 54, 54, 59, 60]"
   ]
  },
  {
   "cell_type": "code",
   "execution_count": 16,
   "id": "885ff014",
   "metadata": {},
   "outputs": [
    {
     "name": "stdout",
     "output_type": "stream",
     "text": [
      "Median: 3.53\n",
      "Mean: 3.62\n",
      "Standard Deviation: 0.59\n",
      "Q1: 3.2\n",
      "Q3: 4.03\n",
      "Interquartile Range: 0.83\n",
      "Outliers Median Method: []\n",
      "Outliers Mean Method Strong (3+SDV): []\n",
      "Outliers Mean Method Weak (2SDV): []\n",
      "Minimum Value: 2.71\n",
      "Maximum Value: 4.56\n"
     ]
    }
   ],
   "source": [
    "give_stats(book_example)"
   ]
  },
  {
   "cell_type": "code",
   "execution_count": 17,
   "id": "2d305014",
   "metadata": {},
   "outputs": [
    {
     "name": "stdout",
     "output_type": "stream",
     "text": [
      "Median: 38.0\n",
      "Mean: 32.45\n",
      "Standard Deviation: 20.21\n",
      "Q1: 11.0\n",
      "Q3: 47.0\n",
      "Interquartile Range: 36.0\n",
      "Outliers Median Method: []\n",
      "Outliers Mean Method Strong (3+SDV): []\n",
      "Outliers Mean Method Weak (2SDV): []\n",
      "Minimum Value: 0\n",
      "Maximum Value: 60\n"
     ]
    }
   ],
   "source": [
    "give_stats(babes_hr)"
   ]
  },
  {
   "cell_type": "markdown",
   "id": "3e4b1878",
   "metadata": {},
   "source": [
    "# Z-Score"
   ]
  },
  {
   "cell_type": "code",
   "execution_count": 18,
   "id": "0e18db6b",
   "metadata": {},
   "outputs": [],
   "source": [
    "def z_score(num, sdv, mean):\n",
    "    \n",
    "    return round((num - mean) / sdv,2)"
   ]
  },
  {
   "cell_type": "code",
   "execution_count": null,
   "id": "4e9c61de",
   "metadata": {},
   "outputs": [],
   "source": []
  }
 ],
 "metadata": {
  "kernelspec": {
   "display_name": "Python 3 (ipykernel)",
   "language": "python",
   "name": "python3"
  },
  "language_info": {
   "codemirror_mode": {
    "name": "ipython",
    "version": 3
   },
   "file_extension": ".py",
   "mimetype": "text/x-python",
   "name": "python",
   "nbconvert_exporter": "python",
   "pygments_lexer": "ipython3",
   "version": "3.9.13"
  }
 },
 "nbformat": 4,
 "nbformat_minor": 5
}
