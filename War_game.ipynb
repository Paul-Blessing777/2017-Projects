{
 "cells": [
  {
   "cell_type": "markdown",
   "id": "d608f131",
   "metadata": {},
   "source": [
    "# War"
   ]
  },
  {
   "cell_type": "code",
   "execution_count": 1,
   "id": "393003dd",
   "metadata": {},
   "outputs": [],
   "source": [
    "import random\n",
    "\n",
    "values = {'Two':2, 'Three':3, 'Four':4, 'Five':5, 'Six':6, 'Seven':7, 'Eight':8, \n",
    "            'Nine':9, 'Ten':10, 'Jack':11, 'Queen':12, 'King':13, 'Ace':14}\n",
    "\n",
    "suits = ('Hearts', 'Diamonds', 'Spades', 'Clubs')\n",
    "\n",
    "ranks = ('Two', 'Three', 'Four', 'Five', 'Six', 'Seven', 'Eight', 'Nine', 'Ten', 'Jack', 'Queen', 'King', 'Ace')"
   ]
  },
  {
   "cell_type": "markdown",
   "id": "3507adc5",
   "metadata": {},
   "source": [
    "## Set Up Classes"
   ]
  },
  {
   "cell_type": "markdown",
   "id": "1c716fff",
   "metadata": {},
   "source": [
    "### Card Class"
   ]
  },
  {
   "cell_type": "code",
   "execution_count": 2,
   "id": "377d5f96",
   "metadata": {},
   "outputs": [],
   "source": [
    "# Card\n",
    "# Suit, Rank, value\n",
    "class Card():\n",
    "    \n",
    "    def __init__(self,suit,rank):\n",
    "        self.suit = suit\n",
    "        self.rank = rank\n",
    "        self.value = values[self.rank.capitalize()]\n",
    "        \n",
    "    def __str__(self):\n",
    "        return f\"{self.rank.capitalize()} of {self.suit}\""
   ]
  },
  {
   "cell_type": "markdown",
   "id": "5ff77c30",
   "metadata": {},
   "source": [
    "### Deck Class"
   ]
  },
  {
   "cell_type": "code",
   "execution_count": 3,
   "id": "eddede3d",
   "metadata": {},
   "outputs": [],
   "source": [
    "class Deck():\n",
    "    \n",
    "    def __init__(self):\n",
    "        \n",
    "        self.all_cards = []\n",
    "        \n",
    "        for suit in suits:\n",
    "            for rank in ranks:\n",
    "                card = Card(suit,rank)\n",
    "                self.all_cards.append(card)\n",
    "                \n",
    "    def shuffle(self):\n",
    "        random.shuffle(self.all_cards)\n",
    "        \n",
    "    def deal_one(self):\n",
    "        return self.all_cards.pop()\n",
    "        "
   ]
  },
  {
   "cell_type": "markdown",
   "id": "5187a803",
   "metadata": {},
   "source": [
    "### Player Class"
   ]
  },
  {
   "cell_type": "code",
   "execution_count": 4,
   "id": "6e819107",
   "metadata": {},
   "outputs": [],
   "source": [
    "class Player():\n",
    "    \n",
    "    def __init__(self, name):\n",
    "        self.name = name\n",
    "        self.all_cards = []\n",
    "        \n",
    "    def remove_one(self):\n",
    "        return self.all_cards.pop(0)\n",
    "    \n",
    "    def add_cards(self, new_cards):\n",
    "        if type(new_cards) == type([]):\n",
    "            self.all_cards.extend(new_cards)\n",
    "        else:\n",
    "            self.all_cards.append(new_cards)\n",
    "    \n",
    "    def __str__(self):\n",
    "        return f\"Player {self.name} has {len(self.all_cards)} cards\""
   ]
  },
  {
   "cell_type": "markdown",
   "id": "13941a40",
   "metadata": {},
   "source": [
    "## Funtions for Gameplay"
   ]
  },
  {
   "cell_type": "code",
   "execution_count": 6,
   "id": "6277a4f8",
   "metadata": {},
   "outputs": [],
   "source": [
    "def set_up_war_game():\n",
    "    '''\n",
    "    Set's up gameplay\n",
    "    '''\n",
    "    \n",
    "    player_one = Player(\"One\")\n",
    "    player_two = Player(\"Two\")\n",
    "\n",
    "    new_deck = Deck()\n",
    "    new_deck.shuffle()\n",
    "\n",
    "    for x in range(26):\n",
    "        player_one.add_cards(new_deck.deal_one())\n",
    "        player_two.add_cards(new_deck.deal_one())        \n",
    "        \n",
    "    return player_one, player_two"
   ]
  },
  {
   "cell_type": "code",
   "execution_count": 7,
   "id": "3ab2c23d",
   "metadata": {},
   "outputs": [],
   "source": [
    "def war_game(player_one,player_two):\n",
    "    \"\"\"\n",
    "    Simulates a game of war b/w Two Players\n",
    "    \"\"\"\n",
    "    \n",
    "    round_number = 0\n",
    "    game_on = True\n",
    "\n",
    "    while game_on:\n",
    "            round_number += 1\n",
    "            print(f\"Round: {round_number}\")\n",
    "\n",
    "            if len(player_one.all_cards) == 0:\n",
    "                print(\"Player One, out of cards! Player Two wins!\")\n",
    "                break\n",
    "\n",
    "            elif len(player_two.all_cards) == 0:\n",
    "                print(\"Player Two, out of cards! Player One wins!\")\n",
    "                break\n",
    "\n",
    "            # Start a new round\n",
    "            player_one_cards = []\n",
    "            player_one_cards.append(player_one.remove_one())\n",
    "\n",
    "            player_two_cards = []\n",
    "            player_two_cards.append(player_two.remove_one())\n",
    "\n",
    "            at_war = True\n",
    "\n",
    "            while at_war:\n",
    "                if player_one_cards[-1].value > player_two_cards[-1].value:\n",
    "                    player_one.add_cards(player_one_cards)\n",
    "                    player_one.add_cards(player_two_cards)\n",
    "                    at_war = False\n",
    "\n",
    "                elif player_one_cards[-1].value < player_two_cards[-1].value:\n",
    "                    player_two.add_cards(player_one_cards)\n",
    "                    player_two.add_cards(player_two_cards)\n",
    "                    at_war = False\n",
    "\n",
    "                else:\n",
    "                    print(f\"War! Player One: {player_one_cards[-1]}, Player Two: {player_two_cards[-1]}\")\n",
    "\n",
    "                    if len(player_one.all_cards) < 5:\n",
    "                        print(\"Player One doesn't have enough cards for war!\")\n",
    "                        print(\"Player Two Wins!\")\n",
    "                        game_on = False\n",
    "                        break\n",
    "\n",
    "                    elif len(player_two.all_cards) < 5:\n",
    "                        print(\"Player Two doesn't have enough cards for war!\")\n",
    "                        print(\"Player One Wins!\")\n",
    "                        game_on = False\n",
    "                        break\n",
    "\n",
    "                    else:\n",
    "                        for num in range(5):\n",
    "                            player_one_cards.append(player_one.remove_one())\n",
    "                            player_two_cards.append(player_two.remove_one())\n",
    "\n",
    "\n"
   ]
  },
  {
   "cell_type": "markdown",
   "id": "32e930f7",
   "metadata": {},
   "source": [
    "# Simulate Game"
   ]
  },
  {
   "cell_type": "code",
   "execution_count": 8,
   "id": "1444b3f6",
   "metadata": {},
   "outputs": [],
   "source": [
    "def main():\n",
    "    player_one, player_two = set_up_war_game()\n",
    "    war_game(player_one, player_two)"
   ]
  },
  {
   "cell_type": "code",
   "execution_count": 9,
   "id": "a7c89e38",
   "metadata": {},
   "outputs": [
    {
     "name": "stdout",
     "output_type": "stream",
     "text": [
      "Round: 1\n",
      "Round: 2\n",
      "Round: 3\n",
      "Round: 4\n",
      "Round: 5\n",
      "Round: 6\n",
      "Round: 7\n",
      "Round: 8\n",
      "Round: 9\n",
      "Round: 10\n",
      "War! Player One: Queen of Spades, Player Two: Queen of Diamonds\n",
      "Round: 11\n",
      "Round: 12\n",
      "Round: 13\n",
      "Round: 14\n",
      "Round: 15\n",
      "Round: 16\n",
      "Round: 17\n",
      "Round: 18\n",
      "Round: 19\n",
      "Round: 20\n",
      "Round: 21\n",
      "Round: 22\n",
      "Round: 23\n",
      "Round: 24\n",
      "Round: 25\n",
      "Round: 26\n",
      "Round: 27\n",
      "Round: 28\n",
      "Round: 29\n",
      "Round: 30\n",
      "Round: 31\n",
      "Round: 32\n",
      "Round: 33\n",
      "Round: 34\n",
      "Round: 35\n",
      "Round: 36\n",
      "Round: 37\n",
      "Round: 38\n",
      "Round: 39\n",
      "Round: 40\n",
      "Round: 41\n",
      "Round: 42\n",
      "Round: 43\n",
      "Round: 44\n",
      "Round: 45\n",
      "Round: 46\n",
      "Round: 47\n",
      "Round: 48\n",
      "Round: 49\n",
      "Round: 50\n",
      "Round: 51\n",
      "Round: 52\n",
      "Round: 53\n",
      "Round: 54\n",
      "Round: 55\n",
      "Round: 56\n",
      "Round: 57\n",
      "Round: 58\n",
      "Round: 59\n",
      "Round: 60\n",
      "Round: 61\n",
      "Round: 62\n",
      "Round: 63\n",
      "Round: 64\n",
      "Round: 65\n",
      "Round: 66\n",
      "Round: 67\n",
      "Round: 68\n",
      "Round: 69\n",
      "Round: 70\n",
      "Round: 71\n",
      "Round: 72\n",
      "Round: 73\n",
      "Round: 74\n",
      "Round: 75\n",
      "Round: 76\n",
      "Round: 77\n",
      "Round: 78\n",
      "Round: 79\n",
      "Round: 80\n",
      "Round: 81\n",
      "Round: 82\n",
      "Round: 83\n",
      "Round: 84\n",
      "Round: 85\n",
      "Round: 86\n",
      "Round: 87\n",
      "Round: 88\n",
      "Round: 89\n",
      "Round: 90\n",
      "Round: 91\n",
      "Round: 92\n",
      "Round: 93\n",
      "Round: 94\n",
      "War! Player One: Six of Diamonds, Player Two: Six of Hearts\n",
      "Round: 95\n",
      "Round: 96\n",
      "Round: 97\n",
      "Round: 98\n",
      "Round: 99\n",
      "War! Player One: Nine of Diamonds, Player Two: Nine of Spades\n",
      "Player One doesn't have enough cards for war!\n",
      "Player Two Wins!\n"
     ]
    }
   ],
   "source": [
    "main()"
   ]
  }
 ],
 "metadata": {
  "kernelspec": {
   "display_name": "Python 3 (ipykernel)",
   "language": "python",
   "name": "python3"
  },
  "language_info": {
   "codemirror_mode": {
    "name": "ipython",
    "version": 3
   },
   "file_extension": ".py",
   "mimetype": "text/x-python",
   "name": "python",
   "nbconvert_exporter": "python",
   "pygments_lexer": "ipython3",
   "version": "3.9.13"
  }
 },
 "nbformat": 4,
 "nbformat_minor": 5
}
