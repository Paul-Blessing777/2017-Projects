{
 "cells": [
  {
   "cell_type": "markdown",
   "id": "4a873214",
   "metadata": {},
   "source": [
    "# Advanced Python Objects and Data Structures"
   ]
  },
  {
   "cell_type": "markdown",
   "id": "cea6014c",
   "metadata": {},
   "source": [
    "# Advanced Numbers"
   ]
  },
  {
   "cell_type": "code",
   "execution_count": 1,
   "id": "94cf95b1",
   "metadata": {},
   "outputs": [
    {
     "data": {
      "text/plain": [
       "'0x309'"
      ]
     },
     "execution_count": 1,
     "metadata": {},
     "output_type": "execute_result"
    }
   ],
   "source": [
    "# hexadecimal numbers\n",
    "hex(777)"
   ]
  },
  {
   "cell_type": "code",
   "execution_count": 2,
   "id": "ae2532f5",
   "metadata": {},
   "outputs": [
    {
     "data": {
      "text/plain": [
       "'0b1100001001'"
      ]
     },
     "execution_count": 2,
     "metadata": {},
     "output_type": "execute_result"
    }
   ],
   "source": [
    "# Binary representation of numbers\n",
    "bin(777)"
   ]
  },
  {
   "cell_type": "code",
   "execution_count": 4,
   "id": "c91a8d2c",
   "metadata": {},
   "outputs": [
    {
     "data": {
      "text/plain": [
       "64"
      ]
     },
     "execution_count": 4,
     "metadata": {},
     "output_type": "execute_result"
    }
   ],
   "source": [
    "# We've used ** to perform to the power of but we can also use the pow() function\n",
    "pow(4,3)"
   ]
  },
  {
   "cell_type": "code",
   "execution_count": 5,
   "id": "86387501",
   "metadata": {},
   "outputs": [
    {
     "data": {
      "text/plain": [
       "4"
      ]
     },
     "execution_count": 5,
     "metadata": {},
     "output_type": "execute_result"
    }
   ],
   "source": [
    "# absolute value\n",
    "abs(-4)"
   ]
  },
  {
   "cell_type": "markdown",
   "id": "0b8fce1d",
   "metadata": {},
   "source": [
    "# Advanced Strings"
   ]
  },
  {
   "cell_type": "code",
   "execution_count": 6,
   "id": "38a305f5",
   "metadata": {},
   "outputs": [],
   "source": [
    "string1 = \"hello world\""
   ]
  },
  {
   "cell_type": "markdown",
   "id": "0bb012a1",
   "metadata": {},
   "source": [
    "### Count Method"
   ]
  },
  {
   "cell_type": "code",
   "execution_count": 7,
   "id": "b11020f2",
   "metadata": {},
   "outputs": [
    {
     "data": {
      "text/plain": [
       "3"
      ]
     },
     "execution_count": 7,
     "metadata": {},
     "output_type": "execute_result"
    }
   ],
   "source": [
    "string1.count('l') # function counts the occurence of a particular string"
   ]
  },
  {
   "cell_type": "code",
   "execution_count": 8,
   "id": "a022df9d",
   "metadata": {},
   "outputs": [
    {
     "data": {
      "text/plain": [
       "4"
      ]
     },
     "execution_count": 8,
     "metadata": {},
     "output_type": "execute_result"
    }
   ],
   "source": [
    "s = \"Yo Yo Yo hello Yo\"\n",
    "s.count('Yo')"
   ]
  },
  {
   "cell_type": "markdown",
   "id": "e110c9db",
   "metadata": {},
   "source": [
    "### Find Method"
   ]
  },
  {
   "cell_type": "code",
   "execution_count": 10,
   "id": "cdb33a53",
   "metadata": {},
   "outputs": [
    {
     "data": {
      "text/plain": [
       "2"
      ]
     },
     "execution_count": 10,
     "metadata": {},
     "output_type": "execute_result"
    }
   ],
   "source": [
    "string1.find('l') # returns the index of the frist appearence of a particular string"
   ]
  },
  {
   "cell_type": "markdown",
   "id": "c6c2ffe3",
   "metadata": {},
   "source": [
    "### Center Method"
   ]
  },
  {
   "cell_type": "code",
   "execution_count": 15,
   "id": "26fc3c0f",
   "metadata": {},
   "outputs": [
    {
     "data": {
      "text/plain": [
       "'xxxxhello worldxxxxx'"
      ]
     },
     "execution_count": 15,
     "metadata": {},
     "output_type": "execute_result"
    }
   ],
   "source": [
    "string1.center(20,'x') # Centers your string around a given string (one character) *rarely used"
   ]
  },
  {
   "cell_type": "markdown",
   "id": "f76a95db",
   "metadata": {},
   "source": [
    "### Expand Tabs Method"
   ]
  },
  {
   "cell_type": "code",
   "execution_count": 17,
   "id": "2f55d31f",
   "metadata": {},
   "outputs": [
    {
     "data": {
      "text/plain": [
       "'hello   HIIII'"
      ]
     },
     "execution_count": 17,
     "metadata": {},
     "output_type": "execute_result"
    }
   ],
   "source": [
    "string2 = 'hello\\tHIIII'.expandtabs() # Formats the string with the tab\n",
    "string2"
   ]
  },
  {
   "cell_type": "code",
   "execution_count": 18,
   "id": "642827bd",
   "metadata": {},
   "outputs": [
    {
     "data": {
      "text/plain": [
       "'hello\\tHIIII'"
      ]
     },
     "execution_count": 18,
     "metadata": {},
     "output_type": "execute_result"
    }
   ],
   "source": [
    "'hello\\tHIIII' # No tab"
   ]
  },
  {
   "cell_type": "markdown",
   "id": "4539bfca",
   "metadata": {},
   "source": [
    "### Is Alpha Numeric Method"
   ]
  },
  {
   "cell_type": "code",
   "execution_count": 19,
   "id": "9073b54d",
   "metadata": {},
   "outputs": [
    {
     "data": {
      "text/plain": [
       "False"
      ]
     },
     "execution_count": 19,
     "metadata": {},
     "output_type": "execute_result"
    }
   ],
   "source": [
    "string1.isalnum() # Checks if all components of a string are alphanumeric (the space in string 1 isn't)"
   ]
  },
  {
   "cell_type": "code",
   "execution_count": 20,
   "id": "a21327b5",
   "metadata": {},
   "outputs": [
    {
     "data": {
      "text/plain": [
       "True"
      ]
     },
     "execution_count": 20,
     "metadata": {},
     "output_type": "execute_result"
    }
   ],
   "source": [
    "\"hello\".isalnum()"
   ]
  },
  {
   "cell_type": "markdown",
   "id": "afbf3017",
   "metadata": {},
   "source": [
    "### Is Alphabet Method"
   ]
  },
  {
   "cell_type": "code",
   "execution_count": 21,
   "id": "92b538bd",
   "metadata": {},
   "outputs": [
    {
     "data": {
      "text/plain": [
       "False"
      ]
     },
     "execution_count": 21,
     "metadata": {},
     "output_type": "execute_result"
    }
   ],
   "source": [
    "'hi 77'.isalpha() # Checks if all characters are letters "
   ]
  },
  {
   "cell_type": "markdown",
   "id": "c3e6335a",
   "metadata": {},
   "source": [
    "### Is Lower Method"
   ]
  },
  {
   "cell_type": "code",
   "execution_count": 22,
   "id": "3b8421c2",
   "metadata": {},
   "outputs": [
    {
     "data": {
      "text/plain": [
       "True"
      ]
     },
     "execution_count": 22,
     "metadata": {},
     "output_type": "execute_result"
    }
   ],
   "source": [
    "string1.islower() # Checks if all characters are lowercase"
   ]
  },
  {
   "cell_type": "markdown",
   "id": "008706cb",
   "metadata": {},
   "source": [
    "### Is Whitespace Method"
   ]
  },
  {
   "cell_type": "code",
   "execution_count": 23,
   "id": "2ba79188",
   "metadata": {},
   "outputs": [
    {
     "data": {
      "text/plain": [
       "False"
      ]
     },
     "execution_count": 23,
     "metadata": {},
     "output_type": "execute_result"
    }
   ],
   "source": [
    "string1.isspace() # Checks if a string is just blank whitespace"
   ]
  },
  {
   "cell_type": "code",
   "execution_count": 24,
   "id": "75189508",
   "metadata": {},
   "outputs": [
    {
     "data": {
      "text/plain": [
       "True"
      ]
     },
     "execution_count": 24,
     "metadata": {},
     "output_type": "execute_result"
    }
   ],
   "source": [
    "\"  \".isspace()"
   ]
  },
  {
   "cell_type": "markdown",
   "id": "a0d0f683",
   "metadata": {},
   "source": [
    "### Is Title Method"
   ]
  },
  {
   "cell_type": "code",
   "execution_count": 25,
   "id": "5d7d7fa2",
   "metadata": {},
   "outputs": [
    {
     "data": {
      "text/plain": [
       "False"
      ]
     },
     "execution_count": 25,
     "metadata": {},
     "output_type": "execute_result"
    }
   ],
   "source": [
    "string1.istitle() # Returns if a string is \"Title\" case or not"
   ]
  },
  {
   "cell_type": "code",
   "execution_count": 27,
   "id": "8d9ddebd",
   "metadata": {},
   "outputs": [
    {
     "data": {
      "text/plain": [
       "True"
      ]
     },
     "execution_count": 27,
     "metadata": {},
     "output_type": "execute_result"
    }
   ],
   "source": [
    "\"Im A Title\".istitle()"
   ]
  },
  {
   "cell_type": "markdown",
   "id": "91bdd7ba",
   "metadata": {},
   "source": [
    "### Is Upper Method"
   ]
  },
  {
   "cell_type": "code",
   "execution_count": 29,
   "id": "2b3b8c94",
   "metadata": {},
   "outputs": [
    {
     "data": {
      "text/plain": [
       "False"
      ]
     },
     "execution_count": 29,
     "metadata": {},
     "output_type": "execute_result"
    }
   ],
   "source": [
    "string1.isupper() # Returns whether or not all characters are upper"
   ]
  },
  {
   "cell_type": "code",
   "execution_count": 30,
   "id": "62002aaf",
   "metadata": {},
   "outputs": [
    {
     "data": {
      "text/plain": [
       "True"
      ]
     },
     "execution_count": 30,
     "metadata": {},
     "output_type": "execute_result"
    }
   ],
   "source": [
    "\"AHHHHHH\".isupper()"
   ]
  },
  {
   "cell_type": "markdown",
   "id": "b7dcc05c",
   "metadata": {},
   "source": [
    "### Ends With Method"
   ]
  },
  {
   "cell_type": "code",
   "execution_count": 32,
   "id": "95fcce83",
   "metadata": {},
   "outputs": [
    {
     "data": {
      "text/plain": [
       "True"
      ]
     },
     "execution_count": 32,
     "metadata": {},
     "output_type": "execute_result"
    }
   ],
   "source": [
    "string1.endswith('d') # Checks if a string ends with a particular character"
   ]
  },
  {
   "cell_type": "code",
   "execution_count": 33,
   "id": "6061213b",
   "metadata": {},
   "outputs": [
    {
     "data": {
      "text/plain": [
       "False"
      ]
     },
     "execution_count": 33,
     "metadata": {},
     "output_type": "execute_result"
    }
   ],
   "source": [
    "\"Yep?\".endswith(\"!\")"
   ]
  },
  {
   "cell_type": "markdown",
   "id": "6848aba6",
   "metadata": {},
   "source": [
    "### Partition Method"
   ]
  },
  {
   "cell_type": "code",
   "execution_count": 37,
   "id": "f81bb312",
   "metadata": {},
   "outputs": [
    {
     "data": {
      "text/plain": [
       "('It was the best of times ', '|', ' it was the worst of time')"
      ]
     },
     "execution_count": 37,
     "metadata": {},
     "output_type": "execute_result"
    }
   ],
   "source": [
    "'It was the best of times | it was the worst of time'.partition('|') # Gives a head, the separator and the tail"
   ]
  },
  {
   "cell_type": "markdown",
   "id": "e2c4b051",
   "metadata": {},
   "source": [
    "# Advanced Sets"
   ]
  },
  {
   "cell_type": "code",
   "execution_count": 39,
   "id": "28eb994e",
   "metadata": {},
   "outputs": [],
   "source": [
    "set1 = set() # Create a set"
   ]
  },
  {
   "cell_type": "code",
   "execution_count": 43,
   "id": "ef0508c9",
   "metadata": {},
   "outputs": [
    {
     "data": {
      "text/plain": [
       "{1, 2}"
      ]
     },
     "execution_count": 43,
     "metadata": {},
     "output_type": "execute_result"
    }
   ],
   "source": [
    "set1.add(1) # How to add to a set\n",
    "set1.add(2)\n",
    "set1.add(2)\n",
    "set1"
   ]
  },
  {
   "cell_type": "markdown",
   "id": "288cf1d1",
   "metadata": {},
   "source": [
    "### Clear Method"
   ]
  },
  {
   "cell_type": "code",
   "execution_count": 45,
   "id": "72c071f1",
   "metadata": {},
   "outputs": [
    {
     "data": {
      "text/plain": [
       "set()"
      ]
     },
     "execution_count": 45,
     "metadata": {},
     "output_type": "execute_result"
    }
   ],
   "source": [
    "set1.clear() # Clears out all content from the set\n",
    "set1"
   ]
  },
  {
   "cell_type": "markdown",
   "id": "1d7ff9e1",
   "metadata": {},
   "source": [
    "### Copy Method"
   ]
  },
  {
   "cell_type": "code",
   "execution_count": 48,
   "id": "3e74c58b",
   "metadata": {},
   "outputs": [
    {
     "data": {
      "text/plain": [
       "{1, 2, 4}"
      ]
     },
     "execution_count": 48,
     "metadata": {},
     "output_type": "execute_result"
    }
   ],
   "source": [
    "s = {1,2,4}\n",
    "sc = s.copy() # Copies the set to a new set \n",
    "sc"
   ]
  },
  {
   "cell_type": "code",
   "execution_count": 50,
   "id": "5cc4ae6b",
   "metadata": {},
   "outputs": [
    {
     "data": {
      "text/plain": [
       "{1, 2, 4}"
      ]
     },
     "execution_count": 50,
     "metadata": {},
     "output_type": "execute_result"
    }
   ],
   "source": [
    "s.add(3)\n",
    "sc # sc is unchanged"
   ]
  },
  {
   "cell_type": "markdown",
   "id": "89c58565",
   "metadata": {},
   "source": [
    "### Difference Method"
   ]
  },
  {
   "cell_type": "code",
   "execution_count": 52,
   "id": "8e03e718",
   "metadata": {},
   "outputs": [
    {
     "data": {
      "text/plain": [
       "{3}"
      ]
     },
     "execution_count": 52,
     "metadata": {},
     "output_type": "execute_result"
    }
   ],
   "source": [
    "s.difference(sc) # Returns the difference(s) b/w two sets"
   ]
  },
  {
   "cell_type": "markdown",
   "id": "c353b7fa",
   "metadata": {},
   "source": [
    "### Difference Update Method"
   ]
  },
  {
   "cell_type": "code",
   "execution_count": 54,
   "id": "e3317651",
   "metadata": {},
   "outputs": [
    {
     "data": {
      "text/plain": [
       "{2, 3}"
      ]
     },
     "execution_count": 54,
     "metadata": {},
     "output_type": "execute_result"
    }
   ],
   "source": [
    "ss1 = {1,2,3}\n",
    "ss2 = {1,4,5}\n",
    "ss1.difference_update(ss2) # Resets ss1 to the values ONLY found in ss2\n",
    "ss1"
   ]
  },
  {
   "cell_type": "markdown",
   "id": "85fb6bff",
   "metadata": {},
   "source": [
    "### Discard Method"
   ]
  },
  {
   "cell_type": "code",
   "execution_count": 55,
   "id": "8c70711f",
   "metadata": {},
   "outputs": [
    {
     "data": {
      "text/plain": [
       "{1, 2, 3, 4}"
      ]
     },
     "execution_count": 55,
     "metadata": {},
     "output_type": "execute_result"
    }
   ],
   "source": [
    "s"
   ]
  },
  {
   "cell_type": "code",
   "execution_count": 56,
   "id": "1d61dea0",
   "metadata": {},
   "outputs": [
    {
     "data": {
      "text/plain": [
       "{1, 3, 4}"
      ]
     },
     "execution_count": 56,
     "metadata": {},
     "output_type": "execute_result"
    }
   ],
   "source": [
    "s.discard(2) # Removes a given value from a set\n",
    "s"
   ]
  },
  {
   "cell_type": "markdown",
   "id": "f565ae9c",
   "metadata": {},
   "source": [
    "### Intersection Method"
   ]
  },
  {
   "cell_type": "code",
   "execution_count": 57,
   "id": "de9d251f",
   "metadata": {},
   "outputs": [],
   "source": [
    "s1 = {1,2,3}\n",
    "s2 = {1,2,4}"
   ]
  },
  {
   "cell_type": "code",
   "execution_count": 59,
   "id": "d40fb7bf",
   "metadata": {},
   "outputs": [
    {
     "data": {
      "text/plain": [
       "{1, 2}"
      ]
     },
     "execution_count": 59,
     "metadata": {},
     "output_type": "execute_result"
    }
   ],
   "source": [
    "s1.intersection(s2) # shows the MUTUAL values b/w it and s2"
   ]
  },
  {
   "cell_type": "code",
   "execution_count": 60,
   "id": "dcc5e04b",
   "metadata": {},
   "outputs": [
    {
     "data": {
      "text/plain": [
       "{1, 2, 3}"
      ]
     },
     "execution_count": 60,
     "metadata": {},
     "output_type": "execute_result"
    }
   ],
   "source": [
    "s1  # S1 is still unchanged though"
   ]
  },
  {
   "cell_type": "markdown",
   "id": "df6d8a6e",
   "metadata": {},
   "source": [
    "### Intersection Update Method"
   ]
  },
  {
   "cell_type": "code",
   "execution_count": 61,
   "id": "ba8185c3",
   "metadata": {},
   "outputs": [
    {
     "data": {
      "text/plain": [
       "{1, 2}"
      ]
     },
     "execution_count": 61,
     "metadata": {},
     "output_type": "execute_result"
    }
   ],
   "source": [
    "s1.intersection_update(s2) # Will reset S1 to the values that are MUTUALLY held b/w the two\n",
    "s1"
   ]
  },
  {
   "cell_type": "markdown",
   "id": "f7688aef",
   "metadata": {},
   "source": [
    "### Is Disjoint Method"
   ]
  },
  {
   "cell_type": "code",
   "execution_count": 85,
   "id": "e1cade8f",
   "metadata": {},
   "outputs": [],
   "source": [
    "s1 = {1,2}\n",
    "s2 = {1,2,4}\n",
    "s3 = {5}"
   ]
  },
  {
   "cell_type": "code",
   "execution_count": 72,
   "id": "4ce2478b",
   "metadata": {},
   "outputs": [
    {
     "data": {
      "text/plain": [
       "False"
      ]
     },
     "execution_count": 72,
     "metadata": {},
     "output_type": "execute_result"
    }
   ],
   "source": [
    "s1.isdisjoint(s2) # Returns False if there are mutually held values"
   ]
  },
  {
   "cell_type": "code",
   "execution_count": 73,
   "id": "015df541",
   "metadata": {},
   "outputs": [
    {
     "data": {
      "text/plain": [
       "True"
      ]
     },
     "execution_count": 73,
     "metadata": {},
     "output_type": "execute_result"
    }
   ],
   "source": [
    "s1.isdisjoint(s3) # Returns True if there are no mutual held values"
   ]
  },
  {
   "cell_type": "markdown",
   "id": "c3e9ef57",
   "metadata": {},
   "source": [
    "### Is Subset Method"
   ]
  },
  {
   "cell_type": "code",
   "execution_count": 74,
   "id": "0da92d21",
   "metadata": {},
   "outputs": [
    {
     "data": {
      "text/plain": [
       "True"
      ]
     },
     "execution_count": 74,
     "metadata": {},
     "output_type": "execute_result"
    }
   ],
   "source": [
    "s1.issubset(s2) # Returns true if the set is a subset of a given set"
   ]
  },
  {
   "cell_type": "code",
   "execution_count": 76,
   "id": "8125301f",
   "metadata": {},
   "outputs": [
    {
     "data": {
      "text/plain": [
       "False"
      ]
     },
     "execution_count": 76,
     "metadata": {},
     "output_type": "execute_result"
    }
   ],
   "source": [
    "s2.issubset(s1) # s2 is NOT a subset of s1"
   ]
  },
  {
   "cell_type": "markdown",
   "id": "be9a16ce",
   "metadata": {},
   "source": [
    "### Is Superset Method"
   ]
  },
  {
   "cell_type": "code",
   "execution_count": 78,
   "id": "2c234059",
   "metadata": {},
   "outputs": [
    {
     "data": {
      "text/plain": [
       "True"
      ]
     },
     "execution_count": 78,
     "metadata": {},
     "output_type": "execute_result"
    }
   ],
   "source": [
    "s2.issuperset(s1) # Returns true if the set contains a given set"
   ]
  },
  {
   "cell_type": "code",
   "execution_count": 79,
   "id": "42b01fe3",
   "metadata": {},
   "outputs": [
    {
     "data": {
      "text/plain": [
       "False"
      ]
     },
     "execution_count": 79,
     "metadata": {},
     "output_type": "execute_result"
    }
   ],
   "source": [
    "s1.issuperset(s2)"
   ]
  },
  {
   "cell_type": "markdown",
   "id": "0af7e636",
   "metadata": {},
   "source": [
    "### Symmetric Difference Method"
   ]
  },
  {
   "cell_type": "code",
   "execution_count": 80,
   "id": "8378efc4",
   "metadata": {},
   "outputs": [
    {
     "name": "stdout",
     "output_type": "stream",
     "text": [
      "{1, 2}\n",
      "{1, 2, 4}\n"
     ]
    }
   ],
   "source": [
    "print(s1)\n",
    "print(s2)"
   ]
  },
  {
   "cell_type": "code",
   "execution_count": 82,
   "id": "ad2f48c5",
   "metadata": {},
   "outputs": [
    {
     "data": {
      "text/plain": [
       "{4}"
      ]
     },
     "execution_count": 82,
     "metadata": {},
     "output_type": "execute_result"
    }
   ],
   "source": [
    "s1.symmetric_difference(s2) # Returns the NON SHARED value b/w the two sets"
   ]
  },
  {
   "cell_type": "markdown",
   "id": "4fc0798a",
   "metadata": {},
   "source": [
    "### Symmetric Difference Update Method"
   ]
  },
  {
   "cell_type": "code",
   "execution_count": 86,
   "id": "0c5a4166",
   "metadata": {},
   "outputs": [
    {
     "data": {
      "text/plain": [
       "{4}"
      ]
     },
     "execution_count": 86,
     "metadata": {},
     "output_type": "execute_result"
    }
   ],
   "source": [
    "s1.symmetric_difference_update(s2) # Updates s1 to contain the values not shared b/w original s1 and s2\n",
    "s1"
   ]
  },
  {
   "cell_type": "markdown",
   "id": "e0feb1a0",
   "metadata": {},
   "source": [
    "### Union Method"
   ]
  },
  {
   "cell_type": "code",
   "execution_count": 91,
   "id": "9e36680f",
   "metadata": {},
   "outputs": [],
   "source": [
    "s1 = {1,2}\n",
    "s2 = {1,2,4}"
   ]
  },
  {
   "cell_type": "code",
   "execution_count": 89,
   "id": "f69b93ab",
   "metadata": {},
   "outputs": [
    {
     "data": {
      "text/plain": [
       "{1, 2, 4}"
      ]
     },
     "execution_count": 89,
     "metadata": {},
     "output_type": "execute_result"
    }
   ],
   "source": [
    "s3 = s1.union(s2) # Returns all values in both sets (no duplicates obviously)\n",
    "s3"
   ]
  },
  {
   "cell_type": "markdown",
   "id": "1359dff6",
   "metadata": {},
   "source": [
    "### Update Method"
   ]
  },
  {
   "cell_type": "code",
   "execution_count": 92,
   "id": "e10ba12c",
   "metadata": {},
   "outputs": [
    {
     "data": {
      "text/plain": [
       "{1, 2, 4}"
      ]
     },
     "execution_count": 92,
     "metadata": {},
     "output_type": "execute_result"
    }
   ],
   "source": [
    "s1.update(s2) # Performs the union function but resets the given set as the union\n",
    "s1"
   ]
  },
  {
   "cell_type": "markdown",
   "id": "6c008e15",
   "metadata": {},
   "source": [
    "# Advanced Dictionaries"
   ]
  },
  {
   "cell_type": "code",
   "execution_count": 93,
   "id": "99804be6",
   "metadata": {},
   "outputs": [],
   "source": [
    "d = {'k1':1, 'k2':2}"
   ]
  },
  {
   "cell_type": "code",
   "execution_count": 94,
   "id": "3f5f91cc",
   "metadata": {},
   "outputs": [
    {
     "data": {
      "text/plain": [
       "{0: 0, 1: 1, 2: 4, 3: 9, 4: 16, 5: 25, 6: 36, 7: 49, 8: 64, 9: 81}"
      ]
     },
     "execution_count": 94,
     "metadata": {},
     "output_type": "execute_result"
    }
   ],
   "source": [
    "# dictionary comprehension\n",
    "{x:x**2 for x in range(10)}"
   ]
  },
  {
   "cell_type": "code",
   "execution_count": 97,
   "id": "fed126f5",
   "metadata": {},
   "outputs": [
    {
     "data": {
      "text/plain": [
       "{'a': 0, 'b': 1}"
      ]
     },
     "execution_count": 97,
     "metadata": {},
     "output_type": "execute_result"
    }
   ],
   "source": [
    "{k:v**2 for k,v in zip(['a','b'], range(2))}"
   ]
  },
  {
   "cell_type": "code",
   "execution_count": 99,
   "id": "fc69c89a",
   "metadata": {},
   "outputs": [
    {
     "name": "stdout",
     "output_type": "stream",
     "text": [
      "1\n",
      "2\n"
     ]
    }
   ],
   "source": [
    "for v in d.values():\n",
    "    print(v)"
   ]
  },
  {
   "cell_type": "code",
   "execution_count": 101,
   "id": "c0dc4406",
   "metadata": {},
   "outputs": [
    {
     "name": "stdout",
     "output_type": "stream",
     "text": [
      "('k1', 1)\n",
      "('k2', 2)\n"
     ]
    }
   ],
   "source": [
    "for k in d.items(): # Get each item in a dictionary\n",
    "    print(k)"
   ]
  },
  {
   "cell_type": "markdown",
   "id": "cdfb36a4",
   "metadata": {},
   "source": [
    "#  Advanced Lists"
   ]
  },
  {
   "cell_type": "code",
   "execution_count": 102,
   "id": "78ade62a",
   "metadata": {},
   "outputs": [],
   "source": [
    "l = [1,2,3]"
   ]
  },
  {
   "cell_type": "code",
   "execution_count": 103,
   "id": "45edab22",
   "metadata": {},
   "outputs": [
    {
     "data": {
      "text/plain": [
       "1"
      ]
     },
     "execution_count": 103,
     "metadata": {},
     "output_type": "execute_result"
    }
   ],
   "source": [
    "l.count(1)"
   ]
  },
  {
   "cell_type": "markdown",
   "id": "25bd665b",
   "metadata": {},
   "source": [
    "### Extend Method"
   ]
  },
  {
   "cell_type": "code",
   "execution_count": 104,
   "id": "c572bc0c",
   "metadata": {},
   "outputs": [
    {
     "name": "stdout",
     "output_type": "stream",
     "text": [
      "[1, 2, 3, [4, 5]]\n"
     ]
    }
   ],
   "source": [
    "x = [1,2,3]\n",
    "x.append([4,5]) #embeded the list INTO the original list\n",
    "print(x)"
   ]
  },
  {
   "cell_type": "code",
   "execution_count": 105,
   "id": "7757b44b",
   "metadata": {},
   "outputs": [
    {
     "name": "stdout",
     "output_type": "stream",
     "text": [
      "[1, 2, 3, 4, 5]\n"
     ]
    }
   ],
   "source": [
    "y = [1,2,3]\n",
    "y.extend([4,5]) # Simply extends the list by adding each element from the other list\n",
    "print(y)"
   ]
  },
  {
   "cell_type": "markdown",
   "id": "024486df",
   "metadata": {},
   "source": [
    "### Insert Method"
   ]
  },
  {
   "cell_type": "code",
   "execution_count": 106,
   "id": "1d03dcb1",
   "metadata": {},
   "outputs": [],
   "source": [
    "l.insert(2,'INSERTED') # At a given index something is inserted into the list"
   ]
  },
  {
   "cell_type": "code",
   "execution_count": 107,
   "id": "91411635",
   "metadata": {},
   "outputs": [
    {
     "data": {
      "text/plain": [
       "[1, 2, 'INSERTED', 3]"
      ]
     },
     "execution_count": 107,
     "metadata": {},
     "output_type": "execute_result"
    }
   ],
   "source": [
    "l"
   ]
  },
  {
   "cell_type": "markdown",
   "id": "449199b7",
   "metadata": {},
   "source": [
    "### Remove Method"
   ]
  },
  {
   "cell_type": "code",
   "execution_count": 108,
   "id": "7fcb13c6",
   "metadata": {},
   "outputs": [
    {
     "data": {
      "text/plain": [
       "[1, 2, 3]"
      ]
     },
     "execution_count": 108,
     "metadata": {},
     "output_type": "execute_result"
    }
   ],
   "source": [
    "l.remove(\"INSERTED\") # Removes a given value from the list, whereas .pop() takes an index argument\n",
    "l # ONLY removes the first instance of the given value though"
   ]
  },
  {
   "cell_type": "markdown",
   "id": "3411ac45",
   "metadata": {},
   "source": [
    "### Reverse Method"
   ]
  },
  {
   "cell_type": "code",
   "execution_count": 109,
   "id": "0802edcf",
   "metadata": {},
   "outputs": [
    {
     "data": {
      "text/plain": [
       "[3, 2, 1]"
      ]
     },
     "execution_count": 109,
     "metadata": {},
     "output_type": "execute_result"
    }
   ],
   "source": [
    "l.reverse() # Reverses the list order IN PLACE\n",
    "l"
   ]
  },
  {
   "cell_type": "markdown",
   "id": "07c2fb76",
   "metadata": {},
   "source": [
    "### Sort Method"
   ]
  },
  {
   "cell_type": "code",
   "execution_count": 116,
   "id": "70e31277",
   "metadata": {},
   "outputs": [
    {
     "data": {
      "text/plain": [
       "[1, 2, 3]"
      ]
     },
     "execution_count": 116,
     "metadata": {},
     "output_type": "execute_result"
    }
   ],
   "source": [
    "l.sort() # Puts the list in ascending order\n",
    "l"
   ]
  }
 ],
 "metadata": {
  "kernelspec": {
   "display_name": "Python 3 (ipykernel)",
   "language": "python",
   "name": "python3"
  },
  "language_info": {
   "codemirror_mode": {
    "name": "ipython",
    "version": 3
   },
   "file_extension": ".py",
   "mimetype": "text/x-python",
   "name": "python",
   "nbconvert_exporter": "python",
   "pygments_lexer": "ipython3",
   "version": "3.9.13"
  }
 },
 "nbformat": 4,
 "nbformat_minor": 5
}
