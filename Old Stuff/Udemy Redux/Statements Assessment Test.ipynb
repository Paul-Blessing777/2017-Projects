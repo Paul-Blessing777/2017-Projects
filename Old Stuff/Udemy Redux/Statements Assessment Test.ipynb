{
 "cells": [
  {
   "cell_type": "markdown",
   "metadata": {
    "collapsed": true
   },
   "source": [
    "# Statements Assessment Test\n",
    "Let's test your knowledge!"
   ]
  },
  {
   "cell_type": "markdown",
   "metadata": {},
   "source": [
    "_____\n",
    "**Use <code>for</code>, .split(), and <code>if</code> to create a Statement that will print out words that start with 's':**"
   ]
  },
  {
   "cell_type": "code",
   "execution_count": 2,
   "metadata": {},
   "outputs": [],
   "source": [
    "st = 'Print only the words that start with s in this sentence'"
   ]
  },
  {
   "cell_type": "code",
   "execution_count": 5,
   "metadata": {},
   "outputs": [
    {
     "name": "stdout",
     "output_type": "stream",
     "text": [
      "start\n",
      "s\n",
      "sentence\n"
     ]
    }
   ],
   "source": [
    "for letter in st.split(\" \"):\n",
    "    if letter[0].upper() == \"S\":\n",
    "        print(letter)"
   ]
  },
  {
   "cell_type": "markdown",
   "metadata": {},
   "source": [
    "______\n",
    "**Use range() to print all the even numbers from 0 to 10.**"
   ]
  },
  {
   "cell_type": "code",
   "execution_count": 8,
   "metadata": {},
   "outputs": [
    {
     "name": "stdout",
     "output_type": "stream",
     "text": [
      "0\n",
      "1\n",
      "2\n",
      "3\n",
      "4\n",
      "5\n",
      "6\n",
      "7\n",
      "8\n",
      "9\n",
      "10\n"
     ]
    }
   ],
   "source": [
    "#Code Here\n",
    "for i in range(0,11):\n",
    "    print(i)"
   ]
  },
  {
   "cell_type": "markdown",
   "metadata": {},
   "source": [
    "___\n",
    "**Use a List Comprehension to create a list of all numbers between 1 and 50 that are divisible by 3.**"
   ]
  },
  {
   "cell_type": "code",
   "execution_count": 12,
   "metadata": {},
   "outputs": [
    {
     "data": {
      "text/plain": [
       "[3, 6, 9, 12, 15, 18, 21, 24, 27, 30, 33, 36, 39, 42, 45, 48]"
      ]
     },
     "execution_count": 12,
     "metadata": {},
     "output_type": "execute_result"
    }
   ],
   "source": [
    "#Code in this cell\n",
    "numbers = [ i for i in range(1,51) if i % 3 == 0]\n",
    "numbers"
   ]
  },
  {
   "cell_type": "markdown",
   "metadata": {},
   "source": [
    "_____\n",
    "**Go through the string below and if the length of a word is even print \"even!\"**"
   ]
  },
  {
   "cell_type": "code",
   "execution_count": 14,
   "metadata": {},
   "outputs": [],
   "source": [
    "st = 'Print every word in this sentence that has an even number of letters'"
   ]
  },
  {
   "cell_type": "code",
   "execution_count": 18,
   "metadata": {},
   "outputs": [
    {
     "data": {
      "text/plain": [
       "['word', 'in', 'this', 'sentence', 'that', 'an', 'even', 'number', 'of']"
      ]
     },
     "execution_count": 18,
     "metadata": {},
     "output_type": "execute_result"
    }
   ],
   "source": [
    "#Code in this cell\n",
    "even_words = [word for word in st.split(\" \") if len(word) % 2 == 0 ]\n",
    "even_words"
   ]
  },
  {
   "cell_type": "markdown",
   "metadata": {},
   "source": [
    "____\n",
    "**Write a program that prints the integers from 1 to 100. But for multiples of three print \"Fizz\" instead of the number, and for the multiples of five print \"Buzz\". For numbers which are multiples of both three and five print \"FizzBuzz\".**"
   ]
  },
  {
   "cell_type": "code",
   "execution_count": 27,
   "metadata": {},
   "outputs": [
    {
     "name": "stdout",
     "output_type": "stream",
     "text": [
      "1: Lame!\n",
      "2: Lame!\n",
      "3: Fizz\n",
      "4: Lame!\n",
      "5: Buzz\n",
      "6: Fizz\n",
      "7: Lame!\n",
      "8: Lame!\n",
      "9: Fizz\n",
      "10: Buzz\n",
      "11: Lame!\n",
      "12: Fizz\n",
      "13: Lame!\n",
      "14: Lame!\n",
      "15: FizzBuzz\n",
      "16: Lame!\n",
      "17: Lame!\n",
      "18: Fizz\n",
      "19: Lame!\n",
      "20: Buzz\n",
      "21: Fizz\n",
      "22: Lame!\n",
      "23: Lame!\n",
      "24: Fizz\n",
      "25: Buzz\n",
      "26: Lame!\n",
      "27: Fizz\n",
      "28: Lame!\n",
      "29: Lame!\n",
      "30: FizzBuzz\n",
      "31: Lame!\n",
      "32: Lame!\n",
      "33: Fizz\n",
      "34: Lame!\n",
      "35: Buzz\n",
      "36: Fizz\n",
      "37: Lame!\n",
      "38: Lame!\n",
      "39: Fizz\n",
      "40: Buzz\n",
      "41: Lame!\n",
      "42: Fizz\n",
      "43: Lame!\n",
      "44: Lame!\n",
      "45: FizzBuzz\n",
      "46: Lame!\n",
      "47: Lame!\n",
      "48: Fizz\n",
      "49: Lame!\n",
      "50: Buzz\n",
      "51: Fizz\n",
      "52: Lame!\n",
      "53: Lame!\n",
      "54: Fizz\n",
      "55: Buzz\n",
      "56: Lame!\n",
      "57: Fizz\n",
      "58: Lame!\n",
      "59: Lame!\n",
      "60: FizzBuzz\n",
      "61: Lame!\n",
      "62: Lame!\n",
      "63: Fizz\n",
      "64: Lame!\n",
      "65: Buzz\n",
      "66: Fizz\n",
      "67: Lame!\n",
      "68: Lame!\n",
      "69: Fizz\n",
      "70: Buzz\n",
      "71: Lame!\n",
      "72: Fizz\n",
      "73: Lame!\n",
      "74: Lame!\n",
      "75: FizzBuzz\n",
      "76: Lame!\n",
      "77: Lame!\n",
      "78: Fizz\n",
      "79: Lame!\n",
      "80: Buzz\n",
      "81: Fizz\n",
      "82: Lame!\n",
      "83: Lame!\n",
      "84: Fizz\n",
      "85: Buzz\n",
      "86: Lame!\n",
      "87: Fizz\n",
      "88: Lame!\n",
      "89: Lame!\n",
      "90: FizzBuzz\n",
      "91: Lame!\n",
      "92: Lame!\n",
      "93: Fizz\n",
      "94: Lame!\n",
      "95: Buzz\n",
      "96: Fizz\n",
      "97: Lame!\n",
      "98: Lame!\n",
      "99: Fizz\n",
      "100: Buzz\n"
     ]
    }
   ],
   "source": [
    "#Code in this cell\n",
    "for number in range(1,101):\n",
    "    if number % 5 == 0 and number % 3 == 0:\n",
    "        print(f\"{number}: FizzBuzz\")\n",
    "    elif number % 3 == 0:\n",
    "        print(f\"{number}: Fizz\")\n",
    "    elif number % 5 == 0:\n",
    "        print(f\"{number}: Buzz\")\n",
    "    else:\n",
    "        print(f\"{number}: Lame!\")"
   ]
  },
  {
   "cell_type": "markdown",
   "metadata": {},
   "source": [
    "____\n",
    "**Use List Comprehension to create a list of the first letters of every word in the string below:**"
   ]
  },
  {
   "cell_type": "code",
   "execution_count": 24,
   "metadata": {},
   "outputs": [],
   "source": [
    "st = 'Create a list of the first letters of every word in this string'"
   ]
  },
  {
   "cell_type": "code",
   "execution_count": 25,
   "metadata": {},
   "outputs": [],
   "source": [
    "#Code in this cell\n",
    "first_list = [word[0] for word in st.split(\" \")]"
   ]
  },
  {
   "cell_type": "code",
   "execution_count": 26,
   "metadata": {},
   "outputs": [
    {
     "data": {
      "text/plain": [
       "['C', 'a', 'l', 'o', 't', 'f', 'l', 'o', 'e', 'w', 'i', 't', 's']"
      ]
     },
     "execution_count": 26,
     "metadata": {},
     "output_type": "execute_result"
    }
   ],
   "source": [
    "first_list"
   ]
  },
  {
   "cell_type": "markdown",
   "metadata": {},
   "source": [
    "### Great Job!"
   ]
  }
 ],
 "metadata": {
  "kernelspec": {
   "display_name": "Python 3",
   "language": "python",
   "name": "python3"
  },
  "language_info": {
   "codemirror_mode": {
    "name": "ipython",
    "version": 3
   },
   "file_extension": ".py",
   "mimetype": "text/x-python",
   "name": "python",
   "nbconvert_exporter": "python",
   "pygments_lexer": "ipython3",
   "version": "3.7.3"
  }
 },
 "nbformat": 4,
 "nbformat_minor": 1
}
