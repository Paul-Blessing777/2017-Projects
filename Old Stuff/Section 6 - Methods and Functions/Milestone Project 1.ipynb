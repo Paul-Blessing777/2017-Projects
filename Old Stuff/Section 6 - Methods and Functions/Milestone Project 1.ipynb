{
 "cells": [
  {
   "cell_type": "markdown",
   "metadata": {},
   "source": [
    "# Milestone Project 1: Walkthrough Steps Workbook\n",
    "\n",
    "Below is a set of steps for you to follow to try to create the Tic Tac Toe Milestone Project game!"
   ]
  },
  {
   "cell_type": "markdown",
   "metadata": {},
   "source": [
    "#### Some suggested tools before you get started:\n",
    "To take input from a user:\n",
    "\n",
    "    player1 = input(\"Please pick a marker 'X' or 'O'\")\n",
    "    \n",
    "Note that input() takes in a string. If you need an integer value, use\n",
    "\n",
    "    position = int(input('Please enter a number'))\n",
    "    \n",
    "<br>To clear the screen between moves:\n",
    "\n",
    "    from IPython.display import clear_output\n",
    "    clear_output()\n",
    "    \n",
    "Note that clear_output() will only work in jupyter. To clear the screen in other IDEs, consider:\n",
    "\n",
    "    print('\\n'*100)\n",
    "    \n",
    "This scrolls the previous board up out of view. Now on to the program!"
   ]
  },
  {
   "cell_type": "markdown",
   "metadata": {},
   "source": [
    "**Step 1: Write a function that can print out a board. Set up your board as a list, where each index 1-9 corresponds with a number on a number pad, so you get a 3 by 3 board representation.**"
   ]
  },
  {
   "cell_type": "code",
   "execution_count": 1,
   "metadata": {},
   "outputs": [],
   "source": [
    "from IPython.display import clear_output\n",
    "\n",
    "def display_board(board):\n",
    "    #board = [0,1,2,3,4,5,6,7,8,9]\n",
    "    clear_output()\n",
    "    print(f\"{board[7]}|\"f\"{board[8]}|\"f\"{board[9]}\")\n",
    "    print(\"______\")\n",
    "    print(f\"{board[4]}|\"f\"{board[5]}|\"f\"{board[6]}\")\n",
    "    print(\"______\")\n",
    "    print(f\"{board[1]}|\"f\"{board[2]}|\"f\"{board[3]}\")\n",
    "    print()"
   ]
  },
  {
   "cell_type": "markdown",
   "metadata": {},
   "source": [
    "**TEST Step 1:** run your function on a test version of the board list, and make adjustments as necessary"
   ]
  },
  {
   "cell_type": "markdown",
   "metadata": {},
   "source": [
    "test_board1 = ['#','X','O','X','O','X','O','X','O','X']\n",
    "display_board(test_board1)"
   ]
  },
  {
   "cell_type": "markdown",
   "metadata": {},
   "source": [
    "**Step 2: Write a function that can take in a player input and assign their marker as 'X' or 'O'. Think about using *while* loops to continually ask until you get a correct answer.**"
   ]
  },
  {
   "cell_type": "code",
   "execution_count": 2,
   "metadata": {},
   "outputs": [],
   "source": [
    "def player_input():\n",
    "    \n",
    "    player1 = 'Null'\n",
    "    player2 = \"Null\"\n",
    "    \n",
    "    while player1 is not 'X' or player1 is not 'O':\n",
    "        player1 = input(\"Would you like to be 'X' or 'O'? \").upper()\n",
    "        if player1 == 'X' or player1 == 'O':\n",
    "            if player1 == 'X':\n",
    "                player2 = 'O'\n",
    "                print(f\"Player 1 is: {player1} and Player 2 is: {player2}\")\n",
    "                break\n",
    "            else:\n",
    "                player2 = 'X'\n",
    "                print(f\"Player 1 is: {player1} and Player 2 is: {player2}\")\n",
    "                break\n",
    "                \n",
    "    return (player1, player2)"
   ]
  },
  {
   "cell_type": "markdown",
   "metadata": {},
   "source": [
    "**TEST Step 2:** run the function to make sure it returns the desired output"
   ]
  },
  {
   "cell_type": "markdown",
   "metadata": {},
   "source": [
    "player_input()"
   ]
  },
  {
   "cell_type": "markdown",
   "metadata": {},
   "source": [
    "**Step 3: Write a function that takes in the board list object, a marker ('X' or 'O'), and a desired position (number 1-9) and assigns it to the board.**"
   ]
  },
  {
   "cell_type": "code",
   "execution_count": 3,
   "metadata": {},
   "outputs": [],
   "source": [
    "def place_marker(board, marker, position):\n",
    "    board[position] = marker\n"
   ]
  },
  {
   "cell_type": "markdown",
   "metadata": {},
   "source": [
    "**TEST Step 3:** run the place marker function using test parameters and display the modified board"
   ]
  },
  {
   "cell_type": "markdown",
   "metadata": {},
   "source": [
    "test_board = ['#','1','2','3','X','X','X','7','8','9']\n",
    "place_marker(test_board,'0',9)\n",
    "display_board(test_board)"
   ]
  },
  {
   "cell_type": "markdown",
   "metadata": {},
   "source": [
    "**Step 4: Write a function that takes in a board and a mark (X or O) and then checks to see if that mark has won. **"
   ]
  },
  {
   "cell_type": "code",
   "execution_count": 4,
   "metadata": {},
   "outputs": [],
   "source": [
    "def win_check(board, mark):\n",
    "    if board[1] == mark and board[2] == mark and board[3] == mark:\n",
    "        print(f'{mark} Wins!')\n",
    "        return True\n",
    "    elif board[4] == mark and board[5] == mark and board[6] == mark:\n",
    "        print(f'{mark} Wins!')\n",
    "        return True\n",
    "    elif board[7] == mark and board[8] == mark and board[9] == mark:\n",
    "        print(f'{mark} Wins!')\n",
    "        return True\n",
    "    elif board[1] == mark and board[4] == mark and board[7] == mark:\n",
    "        print(f'{mark} Wins!')\n",
    "        return True\n",
    "    elif board[2] == mark and board[5] == mark and board[8] == mark:\n",
    "        print(f'{mark} Wins!')\n",
    "        return True\n",
    "    elif board[3] == mark and board[6] == mark and board[9] == mark:\n",
    "        print(f'{mark} Wins!')\n",
    "        return True\n",
    "    elif board[1] == mark and board[5] == mark and board[9] == mark:\n",
    "        print(f'{mark} Wins!')\n",
    "        return True\n",
    "    elif board[3] == mark and board[5] == mark and board[7] == mark:\n",
    "        print(f'{mark} Wins!')\n",
    "        return True\n",
    "    else: \n",
    "        return False"
   ]
  },
  {
   "cell_type": "markdown",
   "metadata": {},
   "source": [
    "**TEST Step 4:** run the win_check function against our test_board - it should return True"
   ]
  },
  {
   "cell_type": "markdown",
   "metadata": {},
   "source": [
    "test_board1 = ['#','1','2','3','4','5','6','7','8','9']\n",
    "test_board = ['#','X','2','3','4','X','6','7','8','O']\n",
    "win_check(test_board,'X')"
   ]
  },
  {
   "cell_type": "markdown",
   "metadata": {},
   "source": [
    "**Step 5: Write a function that uses the random module to randomly decide which player goes first. You may want to lookup random.randint() Return a string of which player went first.**"
   ]
  },
  {
   "cell_type": "code",
   "execution_count": 5,
   "metadata": {},
   "outputs": [],
   "source": [
    "import random\n",
    "\n",
    "def choose_first():\n",
    "    player1_choice = random.randint(1,10)\n",
    "    player2_choice = random.randint(1,10)\n",
    "    \n",
    "    if player1_choice > player2_choice:\n",
    "        print ('player 1 goes first!')\n",
    "        return True\n",
    "    else:\n",
    "        print ('Player 2 goes first')\n",
    "        return False"
   ]
  },
  {
   "cell_type": "markdown",
   "metadata": {},
   "source": [
    "**Step 6: Write a function that returns a boolean indicating whether a space on the board is freely available.**"
   ]
  },
  {
   "cell_type": "code",
   "execution_count": 6,
   "metadata": {},
   "outputs": [],
   "source": [
    "def space_check(board, position):\n",
    "    if board[position] == \"X\" or board[position] == \"O\":\n",
    "        return False\n",
    "    else:\n",
    "        return True\n",
    "    "
   ]
  },
  {
   "cell_type": "markdown",
   "metadata": {},
   "source": [
    "**Step 7: Write a function that checks if the board is full and returns a boolean value. True if full, False otherwise.**"
   ]
  },
  {
   "cell_type": "code",
   "execution_count": 7,
   "metadata": {},
   "outputs": [],
   "source": [
    "def full_board_check(board):\n",
    "    count = 0\n",
    "    for i in board:\n",
    "        if i == \"X\" or i == \"O\":\n",
    "            count += 1\n",
    "    if count == 9:\n",
    "        return True\n",
    "    else:\n",
    "        return False"
   ]
  },
  {
   "cell_type": "markdown",
   "metadata": {},
   "source": [
    "test_board = ['#','X','2','O','X','X','O','O','X','O']\n",
    "full_board_check(test_board)"
   ]
  },
  {
   "cell_type": "markdown",
   "metadata": {},
   "source": [
    "**Step 8: Write a function that asks for a player's next position (as a number 1-9) and then uses the function from step 6 to check if it's a free position. If it is, then return the position for later use.**"
   ]
  },
  {
   "cell_type": "code",
   "execution_count": 8,
   "metadata": {},
   "outputs": [],
   "source": [
    "def player_choice(board):\n",
    "    if space_check(board, position) == True:\n",
    "        return position\n",
    "    else:\n",
    "        return False\n",
    "    \n",
    "    "
   ]
  },
  {
   "cell_type": "markdown",
   "metadata": {},
   "source": [
    "**Step 9: Write a function that asks the player if they want to play again and returns a boolean True if they do want to play again.**"
   ]
  },
  {
   "cell_type": "code",
   "execution_count": 9,
   "metadata": {},
   "outputs": [],
   "source": [
    "def replay(value):\n",
    "    \n",
    "    if value.lower() == 't':\n",
    "        return True\n",
    "    else:\n",
    "        return False"
   ]
  },
  {
   "cell_type": "code",
   "execution_count": 10,
   "metadata": {},
   "outputs": [
    {
     "data": {
      "text/plain": [
       "True"
      ]
     },
     "execution_count": 10,
     "metadata": {},
     "output_type": "execute_result"
    }
   ],
   "source": [
    "replay('t')"
   ]
  },
  {
   "cell_type": "markdown",
   "metadata": {
    "collapsed": true
   },
   "source": [
    "**Step 10: Here comes the hard part! Use while loops and the functions you've made to run the game!**"
   ]
  },
  {
   "cell_type": "code",
   "execution_count": 14,
   "metadata": {},
   "outputs": [
    {
     "name": "stdout",
     "output_type": "stream",
     "text": [
      "X|O|X\n",
      "______\n",
      "4|X|O\n",
      "______\n",
      "X|2|O\n",
      "\n",
      "X Wins!\n",
      "Play again? T or F: f\n",
      "Game Over! Thanks for playing!\n"
     ]
    }
   ],
   "source": [
    "print('Welcome to Tic Tac Toe!')\n",
    "\n",
    "# So long as game = True you can play\n",
    "game = True\n",
    "while game == True:    \n",
    "    board = [0,1,2,3,4,5,6,7,8,9] # Sets the game board\n",
    "    display_board(board) # Displays the current board\n",
    "    \n",
    "    print() # Providing Space\n",
    "    player1, player2 = player_input() # Determines who is x and who is o. Player 1 choses.\n",
    "    print() # Providing Space\n",
    "    which_first = choose_first() # determines who goes first\n",
    "\n",
    "    #while game_on:     \n",
    "    while win_check(board, player2) == False and win_check(board, player1) == False:\n",
    "        #Player 1 Turn\n",
    "        if which_first == True:\n",
    "            if full_board_check(board) == False:\n",
    "                position1 = int(input(\"Where would you like to place your marker? \"))\n",
    "                if space_check(board, position1) == True:\n",
    "                    place_marker(board, player1, position1)\n",
    "                    display_board(board)\n",
    "                    which_first = False\n",
    "                    continue\n",
    "                elif space_check(board, position1) == False:\n",
    "                    print(\"Sorry That Spot is already Taken\")\n",
    "                    print('Chose a different spot') \n",
    "            else:\n",
    "                print(\"Sorry Draw!\")\n",
    "                break\n",
    "\n",
    "        # Player2's turn.\n",
    "        if which_first == False:\n",
    "            if full_board_check(board) == False:\n",
    "                position1 = int(input(\"Where would you like to place your marker? \"))\n",
    "                if space_check(board, position1) == True:\n",
    "                    place_marker(board, player2, position1)\n",
    "                    display_board(board)\n",
    "                    which_first = True\n",
    "                    continue\n",
    "                elif space_check(board, position1) == False:\n",
    "                    print(\"Sorry That Spot is already Taken\")\n",
    "                    print('Chose a different spot')\n",
    "            else:\n",
    "                print(\"Sorry Draw!\")\n",
    "                break           \n",
    "\n",
    "    value = input(\"Play again? T or F: \")\n",
    "    game = replay(value)\n",
    "    continue\n",
    "    \n",
    "print('Game Over! Thanks for playing!')\n"
   ]
  },
  {
   "cell_type": "markdown",
   "metadata": {
    "collapsed": true
   },
   "source": [
    "# Good Job!"
   ]
  }
 ],
 "metadata": {
  "kernelspec": {
   "display_name": "Python 3",
   "language": "python",
   "name": "python3"
  },
  "language_info": {
   "codemirror_mode": {
    "name": "ipython",
    "version": 3
   },
   "file_extension": ".py",
   "mimetype": "text/x-python",
   "name": "python",
   "nbconvert_exporter": "python",
   "pygments_lexer": "ipython3",
   "version": "3.7.3"
  }
 },
 "nbformat": 4,
 "nbformat_minor": 1
}
