{
 "cells": [
  {
   "cell_type": "markdown",
   "metadata": {},
   "source": [
    "As you begin to expand to larger multi-file projects it becomes important to have tests in place."
   ]
  },
  {
   "cell_type": "markdown",
   "metadata": {},
   "source": [
    "This way as you make changes or update your code, you can run your test files to make sure previous code still runs as expected."
   ]
  },
  {
   "cell_type": "markdown",
   "metadata": {},
   "source": [
    "There are several testing tools, we will focus on two:<br>\n",
    "pylint: This is a library that looks at your code and reports back possible issues. <br>\n",
    "unitTest: This built-in library will allow you to test your own programs and check if you are getting desired outputs"
   ]
  },
  {
   "cell_type": "markdown",
   "metadata": {},
   "source": [
    "We'll begin by showing you how to use pylint to check your code for possible errors and styling. <br>\n",
    "Python has a set of style convention rules known as \"pep 8\"."
   ]
  },
  {
   "cell_type": "code",
   "execution_count": null,
   "metadata": {},
   "outputs": [],
   "source": []
  }
 ],
 "metadata": {
  "kernelspec": {
   "display_name": "Python 3",
   "language": "python",
   "name": "python3"
  },
  "language_info": {
   "codemirror_mode": {
    "name": "ipython",
    "version": 3
   },
   "file_extension": ".py",
   "mimetype": "text/x-python",
   "name": "python",
   "nbconvert_exporter": "python",
   "pygments_lexer": "ipython3",
   "version": "3.7.3"
  }
 },
 "nbformat": 4,
 "nbformat_minor": 2
}
