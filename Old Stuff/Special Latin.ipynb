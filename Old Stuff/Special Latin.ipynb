{
 "cells": [
  {
   "cell_type": "markdown",
   "metadata": {},
   "source": [
    "This program will pick a random previously learned chapter from Wheelock's Latin. I will re-read and do the exercises for that Chapter on Friday's. <br><br>\n",
    "Once a chapter has been picked it will be locked until all other previous chapters have been selected"
   ]
  },
  {
   "cell_type": "code",
   "execution_count": 1,
   "metadata": {},
   "outputs": [
    {
     "name": "stdout",
     "output_type": "stream",
     "text": [
      "18\n",
      "2\n",
      "15\n",
      "8\n",
      "1\n",
      "0\n",
      "4\n",
      "18\n",
      "15\n",
      "11\n"
     ]
    }
   ],
   "source": [
    "# generate random integer values\n",
    "from random import seed\n",
    "from random import randint\n",
    "\n",
    "# seed random number generator\n",
    "seed(6)\n",
    "# generate some integers\n",
    "for _ in range(10):\n",
    "    value = randint(0, 20)\n",
    "    print(value)"
   ]
  },
  {
   "cell_type": "code",
   "execution_count": 2,
   "metadata": {},
   "outputs": [],
   "source": [
    "# learned_chapters.txt\n",
    "def latin_select():\n",
    "    #Read from the two files and make them variables\n",
    "    infile = open(\"learned_chapters.txt\", \"r\")\n",
    "    outfileR = open(\"re_learned.txt\", \"r\")\n",
    "    outfileW = open(\"re_learned.txt\", \"a\")\n",
    "    \n",
    "    # Get the available chapters in a list format\n",
    "    chapters = infile.readlines()\n",
    "    chap = \"\".join(chapters)\n",
    "    true_chapters = chap.split(\"\\n\")\n",
    "    \n",
    "    capacity = len(true_chapters)\n",
    "    check2 = False\n",
    "    \n",
    "    # Get unavailable chapters in a list format\n",
    "    unChapters = outfileR.readlines()\n",
    "    unChap = \"\".join(unChapters)\n",
    "    false_chapters = unChap.split(\"\\n\")\n",
    "    print(false_chapters)\n",
    "    \n",
    "    # Get A random number from the chapters\n",
    "    random_chap = randint(1,20)\n",
    "    random_chap = str(random_chap)\n",
    "    \n",
    "    # Makes sure the selected chapter hasn't already been used\n",
    "    check = random_chap in false_chapters\n",
    "    while check == True:\n",
    "        random_chap = randint(1,20)\n",
    "        random_chap = str(random_chap)\n",
    "        check = random_chap in false_chapters\n",
    "        check2 = len(false_chapters) > capacity\n",
    "        if check2 == True:\n",
    "            open(\"re_learned.txt\", \"w\")\n",
    "            break\n",
    "    \n",
    "    if check2 == False:\n",
    "        outfileW.write(str(random_chap) + \"\\n\")\n",
    "        print(f\"You will be re-reading chapter: {random_chap}\")\n",
    "    else:\n",
    "        print(\"We ran out of chapters! Resetting\")\n",
    "    \n",
    "    # Close the files\n",
    "    infile.close()\n",
    "    outfileR.close()\n",
    "    outfileW.close()"
   ]
  },
  {
   "cell_type": "code",
   "execution_count": 3,
   "metadata": {},
   "outputs": [
    {
     "name": "stdout",
     "output_type": "stream",
     "text": [
      "['11', '']\n",
      "You will be re-reading chapter: 1\n"
     ]
    }
   ],
   "source": [
    "latin_select()"
   ]
  },
  {
   "cell_type": "code",
   "execution_count": 4,
   "metadata": {},
   "outputs": [
    {
     "name": "stdout",
     "output_type": "stream",
     "text": [
      "['11', '1', '']\n"
     ]
    }
   ],
   "source": [
    "outfileR = open(\"re_learned.txt\", \"r\")\n",
    "\n",
    "# Get unavailable chapters in a list format\n",
    "unChapters = outfileR.readlines()\n",
    "unChap = \"\".join(unChapters)\n",
    "false_chapters = unChap.split(\"\\n\")\n",
    "print(false_chapters)"
   ]
  },
  {
   "cell_type": "code",
   "execution_count": null,
   "metadata": {},
   "outputs": [],
   "source": []
  },
  {
   "cell_type": "code",
   "execution_count": null,
   "metadata": {},
   "outputs": [],
   "source": []
  }
 ],
 "metadata": {
  "kernelspec": {
   "display_name": "Python 3 (ipykernel)",
   "language": "python",
   "name": "python3"
  },
  "language_info": {
   "codemirror_mode": {
    "name": "ipython",
    "version": 3
   },
   "file_extension": ".py",
   "mimetype": "text/x-python",
   "name": "python",
   "nbconvert_exporter": "python",
   "pygments_lexer": "ipython3",
   "version": "3.9.13"
  }
 },
 "nbformat": 4,
 "nbformat_minor": 2
}
