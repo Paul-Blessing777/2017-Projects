{
 "cells": [
  {
   "cell_type": "markdown",
   "metadata": {},
   "source": [
    "Now that we understand how to install external packages, let's explore how to create our own modules and packages.<br><br>\n",
    "Modules are just .py scripts that you call in another .py script.<br><br>\n",
    "Packages are a collection of modules."
   ]
  },
  {
   "cell_type": "markdown",
   "metadata": {},
   "source": [
    "### We need to use Sublime to do this! I will paste the code below when finished for reference, but it will also be saved as mymodule.py in this folder."
   ]
  },
  {
   "cell_type": "code",
   "execution_count": 2,
   "metadata": {},
   "outputs": [
    {
     "name": "stdout",
     "output_type": "stream",
     "text": [
      "Hey I am in a main script in main package\n",
      "I am a function inside a sub_script\n"
     ]
    }
   ],
   "source": [
    "from mymain_package import main_script\n",
    "from mymain_package.subpackage import mysub_script\n",
    "\n",
    "main_script.report_main()\n",
    "\n",
    "mysub_script.sub_report()"
   ]
  },
  {
   "cell_type": "code",
   "execution_count": null,
   "metadata": {},
   "outputs": [],
   "source": []
  }
 ],
 "metadata": {
  "kernelspec": {
   "display_name": "Python 3",
   "language": "python",
   "name": "python3"
  },
  "language_info": {
   "codemirror_mode": {
    "name": "ipython",
    "version": 3
   },
   "file_extension": ".py",
   "mimetype": "text/x-python",
   "name": "python",
   "nbconvert_exporter": "python",
   "pygments_lexer": "ipython3",
   "version": "3.7.3"
  }
 },
 "nbformat": 4,
 "nbformat_minor": 2
}
