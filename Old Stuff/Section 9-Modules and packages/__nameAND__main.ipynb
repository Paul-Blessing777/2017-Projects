{
 "cells": [
  {
   "cell_type": "markdown",
   "metadata": {},
   "source": [
    "When learning Python we will often see this mysterious line of code at the bottom.<br>\n",
    "if__name__==\"__main__\":"
   ]
  },
  {
   "cell_type": "markdown",
   "metadata": {},
   "source": [
    "Sometimes when you are importing from a module, you would like to know whether a modules function is being used as an import, or if you are using the original .py file of that module"
   ]
  },
  {
   "cell_type": "markdown",
   "metadata": {},
   "source": [
    "Python is different from other languages as when it is run it doesn't start with some master function but instead starts at the first indentation level and runs all of that code first."
   ]
  },
  {
   "cell_type": "markdown",
   "metadata": {},
   "source": [
    "Python has a built in variable called __name__"
   ]
  },
  {
   "cell_type": "code",
   "execution_count": 1,
   "metadata": {},
   "outputs": [
    {
     "name": "stdout",
     "output_type": "stream",
     "text": [
      "Hello\n"
     ]
    }
   ],
   "source": [
    "print('Hello')\n",
    "\n",
    "__name__ # This is a built in variable\n",
    "\n",
    "__name__ == \"__main__\" # python automatically assigns \"__main__\" to the variable __name__ if the program is being run directly\n",
    "\n",
    "# So often people use the following syntax to check if the program is being run directly\n",
    "if __name__ == \"__main__\":\n",
    "\tpass\n",
    "\t# Do something"
   ]
  },
  {
   "cell_type": "code",
   "execution_count": 2,
   "metadata": {},
   "outputs": [
    {
     "name": "stdout",
     "output_type": "stream",
     "text": [
      "Top level in one.py\n",
      "ONE.PY is being run directly!\n"
     ]
    }
   ],
   "source": [
    "def func():\n",
    "\tprint(\"FUNC() IN ONE.PY\")\n",
    "\n",
    "print(\"Top level in one.py\")\n",
    "\n",
    "if __name__ == '__main__':\n",
    "\tprint(\"ONE.PY is being run directly!\")\n",
    "else:\n",
    "\tprint(\"ONE.PY has been imported\")"
   ]
  },
  {
   "cell_type": "code",
   "execution_count": 3,
   "metadata": {},
   "outputs": [
    {
     "name": "stdout",
     "output_type": "stream",
     "text": [
      "Top level in one.py\n",
      "ONE.PY has been imported\n"
     ]
    }
   ],
   "source": [
    "import one  # Shows that one.py was imported and not called directly"
   ]
  },
  {
   "cell_type": "code",
   "execution_count": 4,
   "metadata": {},
   "outputs": [
    {
     "name": "stdout",
     "output_type": "stream",
     "text": [
      "FUNC() IN ONE.PY\n"
     ]
    }
   ],
   "source": [
    "one.func()"
   ]
  },
  {
   "cell_type": "code",
   "execution_count": 5,
   "metadata": {},
   "outputs": [
    {
     "name": "stdout",
     "output_type": "stream",
     "text": [
      "Top level in two.py\n",
      "FUNC() IN ONE.PY\n",
      "Two.py has been imported\n"
     ]
    }
   ],
   "source": [
    "import two"
   ]
  },
  {
   "cell_type": "code",
   "execution_count": 6,
   "metadata": {},
   "outputs": [
    {
     "name": "stdout",
     "output_type": "stream",
     "text": [
      "Hi Am from two.py\n"
     ]
    }
   ],
   "source": [
    "two.func2()"
   ]
  },
  {
   "cell_type": "code",
   "execution_count": null,
   "metadata": {},
   "outputs": [],
   "source": []
  }
 ],
 "metadata": {
  "kernelspec": {
   "display_name": "Python 3",
   "language": "python",
   "name": "python3"
  },
  "language_info": {
   "codemirror_mode": {
    "name": "ipython",
    "version": 3
   },
   "file_extension": ".py",
   "mimetype": "text/x-python",
   "name": "python",
   "nbconvert_exporter": "python",
   "pygments_lexer": "ipython3",
   "version": "3.7.3"
  }
 },
 "nbformat": 4,
 "nbformat_minor": 2
}
