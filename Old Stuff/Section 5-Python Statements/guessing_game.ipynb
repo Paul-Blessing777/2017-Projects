{
 "cells": [
  {
   "cell_type": "markdown",
   "metadata": {},
   "source": [
    "# Guessing Game Challenge\n",
    "\n",
    "Let's use `while` loops to create a guessing game.\n",
    "\n",
    "The Challenge:\n",
    "\n",
    "Write a program that picks a random integer from 1 to 100, and has players guess the number. The rules are:\n",
    "\n",
    "1. If a player's guess is less than 1 or greater than 100, say \"OUT OF BOUNDS\"\n",
    "2. On a player's first turn, if their guess is\n",
    " * within 10 of the number, return \"WARM!\"\n",
    " * further than 10 away from the number, return \"COLD!\"\n",
    "3. On all subsequent turns, if a guess is \n",
    " * closer to the number than the previous guess return \"WARMER!\"\n",
    " * farther from the number than the previous guess, return \"COLDER!\"\n",
    "4. When the player's guess equals the number, tell them they've guessed correctly *and* how many guesses it took!\n",
    "\n",
    "You can try this from scratch, or follow the steps outlined below. A separate Solution notebook has been provided. Good luck!\n"
   ]
  },
  {
   "cell_type": "code",
   "execution_count": 3,
   "metadata": {},
   "outputs": [],
   "source": [
    "import random"
   ]
  },
  {
   "cell_type": "code",
   "execution_count": 21,
   "metadata": {},
   "outputs": [],
   "source": [
    "def guess_game():\n",
    "    random_number = random.randint(1,100)\n",
    "    print(\"This is the Guessing Game! You will try and get the hidden number\")\n",
    "    counter = 0\n",
    "    print(random_number)\n",
    "    guess = int(input(\"Number: \"))\n",
    "    if guess == random_number:\n",
    "        print(\"Congrats! You got the number on your first try\")\n",
    "    elif abs(random_number - guess) <= 10:\n",
    "            print(\"WARM\")\n",
    "            counter += 1\n",
    "    else:\n",
    "        print(\"COLD\")\n",
    "        counter += 1\n",
    "        \n",
    "    while guess != random_number:\n",
    "        new_guess = int(input(\"Try Again: \"))\n",
    "        if new_guess == random_number:\n",
    "            counter += 1\n",
    "            print()\n",
    "            print(\"You got it!\")\n",
    "            print(\"Took you\", f\"{counter} Trys\")\n",
    "            break\n",
    "        elif abs(new_guess - random_number) == 1 and abs(guess - random_number) == 1:\n",
    "            print(\"SUPER CLOSE!\")\n",
    "            counter += 1\n",
    "            guess = new_guess\n",
    "        elif abs(new_guess - random_number) <= abs(guess - random_number):\n",
    "            print(\"WAMRER\")\n",
    "            counter += 1\n",
    "            guess = new_guess\n",
    "        elif abs(new_guess - random_number) >= abs(guess - random_number):\n",
    "            print(\"Colder\")\n",
    "            counter += 1\n",
    "            guess = new_guess\n",
    "        \n"
   ]
  },
  {
   "cell_type": "code",
   "execution_count": 22,
   "metadata": {},
   "outputs": [
    {
     "name": "stdout",
     "output_type": "stream",
     "text": [
      "This is the Guessing Game! You will try and get the hidden number\n",
      "57\n",
      "Number: 28\n",
      "COLD\n",
      "Try Again: 58\n",
      "WAMRER\n",
      "Try Again: 56\n",
      "SUPER CLOSE!\n",
      "Try Again: 55\n",
      "Colder\n",
      "Try Again: 56\n",
      "WAMRER\n",
      "Try Again: 58\n",
      "SUPER CLOSE!\n",
      "Try Again: 57\n",
      "\n",
      "You got it!\n",
      "Took you 7 Trys\n"
     ]
    }
   ],
   "source": [
    "guess_game()"
   ]
  },
  {
   "cell_type": "code",
   "execution_count": 18,
   "metadata": {},
   "outputs": [
    {
     "name": "stdout",
     "output_type": "stream",
     "text": [
      "56\n",
      "49\n"
     ]
    }
   ],
   "source": [
    "print(abs(2-58))\n",
    "print(abs(9-58))"
   ]
  },
  {
   "cell_type": "markdown",
   "metadata": {},
   "source": [
    "#### First, pick a random integer from 1 to 100 using the random module and assign it to a variable\n",
    "\n",
    "Note: `random.randint(a,b)` returns a random integer in range `[a, b]`, including both end points."
   ]
  },
  {
   "cell_type": "code",
   "execution_count": 6,
   "metadata": {},
   "outputs": [],
   "source": [
    "random_number = random.randint(1,100)"
   ]
  },
  {
   "cell_type": "code",
   "execution_count": 7,
   "metadata": {},
   "outputs": [
    {
     "name": "stdout",
     "output_type": "stream",
     "text": [
      "25\n"
     ]
    }
   ],
   "source": [
    "print(random_number)"
   ]
  },
  {
   "cell_type": "markdown",
   "metadata": {},
   "source": [
    "#### Next, print an introduction to the game and explain the rules"
   ]
  },
  {
   "cell_type": "code",
   "execution_count": null,
   "metadata": {},
   "outputs": [],
   "source": [
    "print()"
   ]
  },
  {
   "cell_type": "markdown",
   "metadata": {},
   "source": [
    "#### Create a list to store guesses\n",
    "\n",
    "Hint: zero is a good placeholder value. It's useful because it evaluates to \"False\""
   ]
  },
  {
   "cell_type": "code",
   "execution_count": null,
   "metadata": {},
   "outputs": [],
   "source": []
  },
  {
   "cell_type": "markdown",
   "metadata": {},
   "source": [
    "#### Write a `while` loop that asks for a valid guess. Test it a few times to make sure it works."
   ]
  },
  {
   "cell_type": "code",
   "execution_count": null,
   "metadata": {},
   "outputs": [],
   "source": [
    "while True:\n",
    "    \n",
    "    pass"
   ]
  },
  {
   "cell_type": "markdown",
   "metadata": {},
   "source": [
    "#### Write a `while` loop that compares the player's guess to our number. If the player guesses correctly, break from the loop. Otherwise, tell the player if they're warmer or colder, and continue asking for guesses.\n",
    "\n",
    "Some hints:\n",
    "* it may help to sketch out all possible combinations on paper first!\n",
    "* you can use the `abs()` function to find the positive difference between two numbers\n",
    "* if you append all new guesses to the list, then the previous guess is given as `guesses[-2]`"
   ]
  },
  {
   "cell_type": "code",
   "execution_count": null,
   "metadata": {},
   "outputs": [],
   "source": [
    "while True:\n",
    "\n",
    "    # we can copy the code from above to take an input\n",
    "\n",
    "    pass"
   ]
  },
  {
   "cell_type": "markdown",
   "metadata": {},
   "source": [
    "That's it! You've just programmed your first game!\n",
    "\n",
    "In the next section we'll learn how to turn some of these repetitive actions into *functions* that can be called whenever we need them."
   ]
  },
  {
   "cell_type": "markdown",
   "metadata": {},
   "source": [
    "### Good Job!"
   ]
  }
 ],
 "metadata": {
  "kernelspec": {
   "display_name": "Python 3",
   "language": "python",
   "name": "python3"
  },
  "language_info": {
   "codemirror_mode": {
    "name": "ipython",
    "version": 3
   },
   "file_extension": ".py",
   "mimetype": "text/x-python",
   "name": "python",
   "nbconvert_exporter": "python",
   "pygments_lexer": "ipython3",
   "version": "3.7.3"
  }
 },
 "nbformat": 4,
 "nbformat_minor": 2
}
