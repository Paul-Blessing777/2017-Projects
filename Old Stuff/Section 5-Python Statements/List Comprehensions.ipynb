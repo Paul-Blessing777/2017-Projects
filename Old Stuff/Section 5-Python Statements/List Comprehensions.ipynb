{
 "cells": [
  {
   "cell_type": "markdown",
   "metadata": {},
   "source": [
    "Lists comprehensions are a unique way of quickly creating a list with Python. <br>\n",
    "if you find yourself using a for loop along with .append() to create a list, List Comprehensions are a good alternative. <br>\n"
   ]
  },
  {
   "cell_type": "code",
   "execution_count": 1,
   "metadata": {},
   "outputs": [],
   "source": [
    "mystring = 'hello'"
   ]
  },
  {
   "cell_type": "code",
   "execution_count": 6,
   "metadata": {},
   "outputs": [],
   "source": [
    "mylist = [] # Suppose we wanted to make a list with each letter as a vale\n",
    "\n",
    "for letter in mystring:\n",
    "    mylist.append(letter)\n",
    "# We could do this"
   ]
  },
  {
   "cell_type": "code",
   "execution_count": 7,
   "metadata": {},
   "outputs": [
    {
     "data": {
      "text/plain": [
       "['h', 'e', 'l', 'l', 'o']"
      ]
     },
     "execution_count": 7,
     "metadata": {},
     "output_type": "execute_result"
    }
   ],
   "source": [
    "mylist # and it does work"
   ]
  },
  {
   "cell_type": "markdown",
   "metadata": {},
   "source": [
    "There's a simpler way to do this"
   ]
  },
  {
   "cell_type": "code",
   "execution_count": 12,
   "metadata": {},
   "outputs": [],
   "source": [
    "mylist2 = [letter for letter in mystring] # This is saying [(add this to the list) for letter in mystring]"
   ]
  },
  {
   "cell_type": "code",
   "execution_count": 13,
   "metadata": {},
   "outputs": [
    {
     "data": {
      "text/plain": [
       "['h', 'e', 'l', 'l', 'o']"
      ]
     },
     "execution_count": 13,
     "metadata": {},
     "output_type": "execute_result"
    }
   ],
   "source": [
    "mylist2"
   ]
  },
  {
   "cell_type": "code",
   "execution_count": 16,
   "metadata": {},
   "outputs": [],
   "source": [
    "mylist3 = [x for x in 'word']\n",
    "# the index must be the same before and after the for"
   ]
  },
  {
   "cell_type": "code",
   "execution_count": 17,
   "metadata": {},
   "outputs": [
    {
     "data": {
      "text/plain": [
       "['w', 'o', 'r', 'd']"
      ]
     },
     "execution_count": 17,
     "metadata": {},
     "output_type": "execute_result"
    }
   ],
   "source": [
    "mylist3"
   ]
  },
  {
   "cell_type": "code",
   "execution_count": 18,
   "metadata": {},
   "outputs": [
    {
     "ename": "NameError",
     "evalue": "name 'zz' is not defined",
     "output_type": "error",
     "traceback": [
      "\u001b[1;31m---------------------------------------------------------------------------\u001b[0m",
      "\u001b[1;31mNameError\u001b[0m                                 Traceback (most recent call last)",
      "\u001b[1;32m<ipython-input-18-3a733aa873eb>\u001b[0m in \u001b[0;36m<module>\u001b[1;34m\u001b[0m\n\u001b[0;32m      1\u001b[0m \u001b[1;31m# Example\u001b[0m\u001b[1;33m\u001b[0m\u001b[1;33m\u001b[0m\u001b[1;33m\u001b[0m\u001b[0m\n\u001b[1;32m----> 2\u001b[1;33m \u001b[0mmylist4\u001b[0m \u001b[1;33m=\u001b[0m \u001b[1;33m[\u001b[0m\u001b[0mzz\u001b[0m \u001b[1;32mfor\u001b[0m \u001b[0mx\u001b[0m \u001b[1;32min\u001b[0m \u001b[1;34m'hello world'\u001b[0m\u001b[1;33m]\u001b[0m\u001b[1;33m\u001b[0m\u001b[1;33m\u001b[0m\u001b[0m\n\u001b[0m",
      "\u001b[1;32m<ipython-input-18-3a733aa873eb>\u001b[0m in \u001b[0;36m<listcomp>\u001b[1;34m(.0)\u001b[0m\n\u001b[0;32m      1\u001b[0m \u001b[1;31m# Example\u001b[0m\u001b[1;33m\u001b[0m\u001b[1;33m\u001b[0m\u001b[1;33m\u001b[0m\u001b[0m\n\u001b[1;32m----> 2\u001b[1;33m \u001b[0mmylist4\u001b[0m \u001b[1;33m=\u001b[0m \u001b[1;33m[\u001b[0m\u001b[0mzz\u001b[0m \u001b[1;32mfor\u001b[0m \u001b[0mx\u001b[0m \u001b[1;32min\u001b[0m \u001b[1;34m'hello world'\u001b[0m\u001b[1;33m]\u001b[0m\u001b[1;33m\u001b[0m\u001b[1;33m\u001b[0m\u001b[0m\n\u001b[0m",
      "\u001b[1;31mNameError\u001b[0m: name 'zz' is not defined"
     ]
    }
   ],
   "source": [
    "# Example\n",
    "mylist4 = [zz for x in 'hello world'] # This makes an error because the zz isn't the same as the x index"
   ]
  },
  {
   "cell_type": "code",
   "execution_count": 19,
   "metadata": {},
   "outputs": [],
   "source": [
    "# another example\n",
    "mylist = [num for num in range(0,11)]"
   ]
  },
  {
   "cell_type": "code",
   "execution_count": 20,
   "metadata": {},
   "outputs": [
    {
     "data": {
      "text/plain": [
       "[0, 1, 2, 3, 4, 5, 6, 7, 8, 9, 10]"
      ]
     },
     "execution_count": 20,
     "metadata": {},
     "output_type": "execute_result"
    }
   ],
   "source": [
    "mylist"
   ]
  },
  {
   "cell_type": "code",
   "execution_count": 21,
   "metadata": {},
   "outputs": [
    {
     "name": "stdout",
     "output_type": "stream",
     "text": [
      "[0, 1, 4, 9, 16, 25, 36, 49, 64, 81, 100]\n"
     ]
    }
   ],
   "source": [
    "# We can perform operations on the index now\n",
    "mylist = [num**2 for num in range(0,11)]\n",
    "print(mylist)"
   ]
  },
  {
   "cell_type": "code",
   "execution_count": 22,
   "metadata": {},
   "outputs": [
    {
     "name": "stdout",
     "output_type": "stream",
     "text": [
      "[0, 2, 4, 6, 8, 10]\n"
     ]
    }
   ],
   "source": [
    "# We can even use if statements on these\n",
    "mylist = [num for num in range(0,11)\n",
    "         if num % 2 == 0]\n",
    "print(mylist)"
   ]
  },
  {
   "cell_type": "code",
   "execution_count": 23,
   "metadata": {},
   "outputs": [
    {
     "name": "stdout",
     "output_type": "stream",
     "text": [
      "[0, 4, 16, 36, 64, 100]\n"
     ]
    }
   ],
   "source": [
    "# Another example\n",
    "mylist = [num**2 for num in range(0,11)\n",
    "         if num % 2 == 0]\n",
    "print(mylist)"
   ]
  },
  {
   "cell_type": "code",
   "execution_count": 30,
   "metadata": {},
   "outputs": [],
   "source": [
    "# Cool example\n",
    "celcius = [0,10,20,34,5,100]\n",
    "\n",
    "fahrenheit = [((9/5)*temp) + 32 for temp in celcius]"
   ]
  },
  {
   "cell_type": "code",
   "execution_count": 31,
   "metadata": {},
   "outputs": [
    {
     "data": {
      "text/plain": [
       "[32.0, 50.0, 68.0, 93.2, 41.0, 212.0]"
      ]
     },
     "execution_count": 31,
     "metadata": {},
     "output_type": "execute_result"
    }
   ],
   "source": [
    "fahrenheit"
   ]
  },
  {
   "cell_type": "code",
   "execution_count": 34,
   "metadata": {},
   "outputs": [],
   "source": [
    "# The other way of doing this\n",
    "fahrenheit2 = []\n",
    "\n",
    "for temp in celcius:\n",
    "    fahrenheit2.append(temp * (9/5) + 32)"
   ]
  },
  {
   "cell_type": "code",
   "execution_count": 36,
   "metadata": {},
   "outputs": [
    {
     "data": {
      "text/plain": [
       "[32.0, 50.0, 68.0, 93.2, 41.0, 212.0]"
      ]
     },
     "execution_count": 36,
     "metadata": {},
     "output_type": "execute_result"
    }
   ],
   "source": [
    "fahrenheit # and it works"
   ]
  },
  {
   "cell_type": "markdown",
   "metadata": {},
   "source": [
    "### You can use if and elif in these list comprehensions"
   ]
  },
  {
   "cell_type": "markdown",
   "metadata": {},
   "source": [
    "The instructor says they are quite hard to read however and he generally avoids them"
   ]
  },
  {
   "cell_type": "code",
   "execution_count": 37,
   "metadata": {},
   "outputs": [],
   "source": [
    "results = [x if x%2 == 0 else 'ODD' for x in range(0,11)]"
   ]
  },
  {
   "cell_type": "code",
   "execution_count": 38,
   "metadata": {},
   "outputs": [
    {
     "data": {
      "text/plain": [
       "[0, 'ODD', 2, 'ODD', 4, 'ODD', 6, 'ODD', 8, 'ODD', 10]"
      ]
     },
     "execution_count": 38,
     "metadata": {},
     "output_type": "execute_result"
    }
   ],
   "source": [
    "results"
   ]
  },
  {
   "cell_type": "markdown",
   "metadata": {},
   "source": [
    "### Nested loops in list comprehensions"
   ]
  },
  {
   "cell_type": "code",
   "execution_count": 45,
   "metadata": {},
   "outputs": [],
   "source": [
    "mylist = []\n",
    "\n",
    "for x in [2,4,6]:\n",
    "    for y in [1,100,1000]:\n",
    "        mylist.append(x*y)\n",
    "# This goes through and muliples first 2 by 100 then 200 then 300.\n",
    "# It then moves to 4 and does the same thing. So it first goes to index 0 in the first for loop.\n",
    "# It then goes through each index in the second for loop. Then goes up to the first for loop and goes to index 1."
   ]
  },
  {
   "cell_type": "code",
   "execution_count": 46,
   "metadata": {},
   "outputs": [
    {
     "data": {
      "text/plain": [
       "[2, 200, 2000, 4, 400, 4000, 6, 600, 6000]"
      ]
     },
     "execution_count": 46,
     "metadata": {},
     "output_type": "execute_result"
    }
   ],
   "source": [
    "mylist"
   ]
  },
  {
   "cell_type": "code",
   "execution_count": 49,
   "metadata": {},
   "outputs": [],
   "source": [
    "# Doing this with list comprehension\n",
    "mylist2 = [x * y for x in [2,4,6] for y in [1,100,1000]] # viola"
   ]
  },
  {
   "cell_type": "code",
   "execution_count": 50,
   "metadata": {},
   "outputs": [
    {
     "data": {
      "text/plain": [
       "[2, 200, 2000, 4, 400, 4000, 6, 600, 6000]"
      ]
     },
     "execution_count": 50,
     "metadata": {},
     "output_type": "execute_result"
    }
   ],
   "source": [
    "mylist2 # And it works"
   ]
  },
  {
   "cell_type": "markdown",
   "metadata": {},
   "source": [
    "Extra Practice"
   ]
  },
  {
   "cell_type": "code",
   "execution_count": 57,
   "metadata": {},
   "outputs": [],
   "source": [
    "mylist = [x*y for x in [2,4,6] for y in [1,100,1000]  if (x*y)%2 == 0]"
   ]
  },
  {
   "cell_type": "code",
   "execution_count": 58,
   "metadata": {},
   "outputs": [
    {
     "data": {
      "text/plain": [
       "[2, 200, 2000, 4, 400, 4000, 6, 600, 6000]"
      ]
     },
     "execution_count": 58,
     "metadata": {},
     "output_type": "execute_result"
    }
   ],
   "source": [
    "mylist"
   ]
  },
  {
   "cell_type": "code",
   "execution_count": 61,
   "metadata": {},
   "outputs": [],
   "source": [
    "mylist2 = [x*y if ((x*y) % 2) == 0 else 'ODD' for x in [1,2,3,4,5,6] for y in [1,10,100,100]]"
   ]
  },
  {
   "cell_type": "code",
   "execution_count": 62,
   "metadata": {},
   "outputs": [
    {
     "data": {
      "text/plain": [
       "['ODD',\n",
       " 10,\n",
       " 100,\n",
       " 100,\n",
       " 2,\n",
       " 20,\n",
       " 200,\n",
       " 200,\n",
       " 'ODD',\n",
       " 30,\n",
       " 300,\n",
       " 300,\n",
       " 4,\n",
       " 40,\n",
       " 400,\n",
       " 400,\n",
       " 'ODD',\n",
       " 50,\n",
       " 500,\n",
       " 500,\n",
       " 6,\n",
       " 60,\n",
       " 600,\n",
       " 600]"
      ]
     },
     "execution_count": 62,
     "metadata": {},
     "output_type": "execute_result"
    }
   ],
   "source": [
    "mylist2"
   ]
  },
  {
   "cell_type": "markdown",
   "metadata": {},
   "source": [
    "FOR AWS CLASS"
   ]
  },
  {
   "cell_type": "code",
   "execution_count": 122,
   "metadata": {},
   "outputs": [],
   "source": [
    "aws_file = open('AWS.txt')"
   ]
  },
  {
   "cell_type": "code",
   "execution_count": 65,
   "metadata": {},
   "outputs": [
    {
     "data": {
      "text/plain": [
       "'Max Salviejo <maximo_salviejo@goodyear.com>; John Ozarchuk <john_ozarchuk@goodyear.com>; Rachael Keck <rachael_keck@goodyear.com>; Chris Bochkor <chris_bochkor@goodyear.com>; Matt Variola <matthew_variola@goodyear.com>; Matthew Madaj <matthew_madaj@goodyear.com>; Taissa Abdalla Filgueiras de Sousa <taissa_abdallafilgueirasdesousa@goodyear.com>; Adam Birdsall <adam_birdsall@goodyear.com>; Wesley Clark <wesley_clark@goodyear.com>; Joseph Sadaka <joseph_sadaka@goodyear.com>; Ron Webster <ron_webster@goodyear.com>; George Marino <george_marino@goodyear.com>; Steve Tisdale <steve_tisdale@goodyear.com>; Ruth Dunlap <ruth_dunlap@goodyear.com>; Louie Gigliotti <louie_gigliotti@goodyear.com>; Janice Sudia <janice_sudia@goodyear.com>; Chloe Russell <chloe_russell@goodyear.com>; Jonathan Lindsey <jonathan_lindsey@goodyear.com>; Dakota Duncan <dakota_duncan@goodyear.com>; Nerissa Hao <nerissa_hao@goodyear.com>; Barb Callihan <barbara.callihan@goodyear.com>; Barb Mays <barb_mays@goodyear.com>; Bob Gulcin <robert_gulcin@goodyear.com>; Fred N Nelson <fred_nelson@goodyear.com>; Andy Gerzina <andrew_gerzina@goodyear.com>; Smit Modi <smit_modi@goodyear.com>; Lena Schulze <jessicaverena_schulze@goodyear.com>; Kathy Thomas <kthomas@goodyear.com>; Chad Lauthers <chad_lauthers@goodyear.com>; Christy Lough <christiana_lough@goodyear.com>; Kris Wagner <kris_wagner@goodyear.com>; Danielle Warren <danielle_warren@goodyear.com>; Dan Helmick <dhelmick@goodyear.com>; joragsda@amazon.com; Anna Fischer <anna_fischer@goodyear.com>; John Wright <john_wright@goodyear.com>; Simone Gabbianelli <simone.gabbianelli@goodyear.com>; Kevin Smith <kevin.smith@goodyear.com>; Rory Johnston <rory_johnston@goodyear.com>; Yuanlong Zhang <yuanlong_zhang@goodyear.com>'"
      ]
     },
     "execution_count": 65,
     "metadata": {},
     "output_type": "execute_result"
    }
   ],
   "source": [
    "aws_file.read()"
   ]
  },
  {
   "cell_type": "code",
   "execution_count": 66,
   "metadata": {},
   "outputs": [
    {
     "data": {
      "text/plain": [
       "''"
      ]
     },
     "execution_count": 66,
     "metadata": {},
     "output_type": "execute_result"
    }
   ],
   "source": [
    "aws_file.read()"
   ]
  },
  {
   "cell_type": "code",
   "execution_count": 72,
   "metadata": {},
   "outputs": [
    {
     "data": {
      "text/plain": [
       "0"
      ]
     },
     "execution_count": 72,
     "metadata": {},
     "output_type": "execute_result"
    }
   ],
   "source": [
    "aws_file.seek(0)"
   ]
  },
  {
   "cell_type": "code",
   "execution_count": 71,
   "metadata": {},
   "outputs": [
    {
     "data": {
      "text/plain": [
       "'Max Salviejo <maximo_salviejo@goodyear.com>; John Ozarchuk <john_ozarchuk@goodyear.com>; Rachael Keck <rachael_keck@goodyear.com>; Chris Bochkor <chris_bochkor@goodyear.com>; Matt Variola <matthew_variola@goodyear.com>; Matthew Madaj <matthew_madaj@goodyear.com>; Taissa Abdalla Filgueiras de Sousa <taissa_abdallafilgueirasdesousa@goodyear.com>; Adam Birdsall <adam_birdsall@goodyear.com>; Wesley Clark <wesley_clark@goodyear.com>; Joseph Sadaka <joseph_sadaka@goodyear.com>; Ron Webster <ron_webster@goodyear.com>; George Marino <george_marino@goodyear.com>; Steve Tisdale <steve_tisdale@goodyear.com>; Ruth Dunlap <ruth_dunlap@goodyear.com>; Louie Gigliotti <louie_gigliotti@goodyear.com>; Janice Sudia <janice_sudia@goodyear.com>; Chloe Russell <chloe_russell@goodyear.com>; Jonathan Lindsey <jonathan_lindsey@goodyear.com>; Dakota Duncan <dakota_duncan@goodyear.com>; Nerissa Hao <nerissa_hao@goodyear.com>; Barb Callihan <barbara.callihan@goodyear.com>; Barb Mays <barb_mays@goodyear.com>; Bob Gulcin <robert_gulcin@goodyear.com>; Fred N Nelson <fred_nelson@goodyear.com>; Andy Gerzina <andrew_gerzina@goodyear.com>; Smit Modi <smit_modi@goodyear.com>; Lena Schulze <jessicaverena_schulze@goodyear.com>; Kathy Thomas <kthomas@goodyear.com>; Chad Lauthers <chad_lauthers@goodyear.com>; Christy Lough <christiana_lough@goodyear.com>; Kris Wagner <kris_wagner@goodyear.com>; Danielle Warren <danielle_warren@goodyear.com>; Dan Helmick <dhelmick@goodyear.com>; joragsda@amazon.com; Anna Fischer <anna_fischer@goodyear.com>; John Wright <john_wright@goodyear.com>; Simone Gabbianelli <simone.gabbianelli@goodyear.com>; Kevin Smith <kevin.smith@goodyear.com>; Rory Johnston <rory_johnston@goodyear.com>; Yuanlong Zhang <yuanlong_zhang@goodyear.com>'"
      ]
     },
     "execution_count": 71,
     "metadata": {},
     "output_type": "execute_result"
    }
   ],
   "source": [
    "aws_file.read()"
   ]
  },
  {
   "cell_type": "code",
   "execution_count": 123,
   "metadata": {},
   "outputs": [],
   "source": [
    "aws = aws_file.readlines()\n"
   ]
  },
  {
   "cell_type": "code",
   "execution_count": 124,
   "metadata": {},
   "outputs": [
    {
     "data": {
      "text/plain": [
       "['Max Salviejo <maximo_salviejo@goodyear.com>; John Ozarchuk <john_ozarchuk@goodyear.com>; Rachael Keck <rachael_keck@goodyear.com>; Chris Bochkor <chris_bochkor@goodyear.com>; Matt Variola <matthew_variola@goodyear.com>; Matthew Madaj <matthew_madaj@goodyear.com>; Taissa Abdalla Filgueiras de Sousa <taissa_abdallafilgueirasdesousa@goodyear.com>; Adam Birdsall <adam_birdsall@goodyear.com>; Wesley Clark <wesley_clark@goodyear.com>; Joseph Sadaka <joseph_sadaka@goodyear.com>; Ron Webster <ron_webster@goodyear.com>; George Marino <george_marino@goodyear.com>; Steve Tisdale <steve_tisdale@goodyear.com>; Ruth Dunlap <ruth_dunlap@goodyear.com>; Louie Gigliotti <louie_gigliotti@goodyear.com>; Janice Sudia <janice_sudia@goodyear.com>; Chloe Russell <chloe_russell@goodyear.com>; Jonathan Lindsey <jonathan_lindsey@goodyear.com>; Dakota Duncan <dakota_duncan@goodyear.com>; Nerissa Hao <nerissa_hao@goodyear.com>; Barb Callihan <barbara.callihan@goodyear.com>; Barb Mays <barb_mays@goodyear.com>; Bob Gulcin <robert_gulcin@goodyear.com>; Fred N Nelson <fred_nelson@goodyear.com>; Andy Gerzina <andrew_gerzina@goodyear.com>; Smit Modi <smit_modi@goodyear.com>; Lena Schulze <jessicaverena_schulze@goodyear.com>; Kathy Thomas <kthomas@goodyear.com>; Chad Lauthers <chad_lauthers@goodyear.com>; Christy Lough <christiana_lough@goodyear.com>; Kris Wagner <kris_wagner@goodyear.com>; Danielle Warren <danielle_warren@goodyear.com>; Dan Helmick <dhelmick@goodyear.com>; joragsda@amazon.com; Anna Fischer <anna_fischer@goodyear.com>; John Wright <john_wright@goodyear.com>; Simone Gabbianelli <simone.gabbianelli@goodyear.com>; Kevin Smith <kevin.smith@goodyear.com>; Rory Johnston <rory_johnston@goodyear.com>; Yuanlong Zhang <yuanlong_zhang@goodyear.com>']"
      ]
     },
     "execution_count": 124,
     "metadata": {},
     "output_type": "execute_result"
    }
   ],
   "source": [
    "aws"
   ]
  },
  {
   "cell_type": "code",
   "execution_count": 96,
   "metadata": {},
   "outputs": [
    {
     "ename": "AttributeError",
     "evalue": "'list' object has no attribute 'split'",
     "output_type": "error",
     "traceback": [
      "\u001b[1;31m---------------------------------------------------------------------------\u001b[0m",
      "\u001b[1;31mAttributeError\u001b[0m                            Traceback (most recent call last)",
      "\u001b[1;32m<ipython-input-96-18a5dab6b3db>\u001b[0m in \u001b[0;36m<module>\u001b[1;34m\u001b[0m\n\u001b[1;32m----> 1\u001b[1;33m \u001b[1;33m[\u001b[0m\u001b[0mname\u001b[0m \u001b[1;32mfor\u001b[0m \u001b[0mname\u001b[0m \u001b[1;32min\u001b[0m \u001b[0maws\u001b[0m\u001b[1;33m.\u001b[0m\u001b[0msplit\u001b[0m\u001b[1;33m(\u001b[0m\u001b[1;34m';'\u001b[0m\u001b[1;33m)\u001b[0m\u001b[1;33m]\u001b[0m\u001b[1;33m\u001b[0m\u001b[1;33m\u001b[0m\u001b[0m\n\u001b[0m",
      "\u001b[1;31mAttributeError\u001b[0m: 'list' object has no attribute 'split'"
     ]
    }
   ],
   "source": [
    "[name for name in aws.split(';')]"
   ]
  },
  {
   "cell_type": "code",
   "execution_count": 101,
   "metadata": {},
   "outputs": [
    {
     "data": {
      "text/plain": [
       "['Max Salviejo <maximo_salviejo@goodyear.com>; John Ozarchuk <john_ozarchuk@goodyear.com>; Rachael Keck <rachael_keck@goodyear.com>; Chris Bochkor <chris_bochkor@goodyear.com>; Matt Variola <matthew_variola@goodyear.com>; Matthew Madaj <matthew_madaj@goodyear.com>; Taissa Abdalla Filgueiras de Sousa <taissa_abdallafilgueirasdesousa@goodyear.com>; Adam Birdsall <adam_birdsall@goodyear.com>; Wesley Clark <wesley_clark@goodyear.com>; Joseph Sadaka <joseph_sadaka@goodyear.com>; Ron Webster <ron_webster@goodyear.com>; George Marino <george_marino@goodyear.com>; Steve Tisdale <steve_tisdale@goodyear.com>; Ruth Dunlap <ruth_dunlap@goodyear.com>; Louie Gigliotti <louie_gigliotti@goodyear.com>; Janice Sudia <janice_sudia@goodyear.com>; Chloe Russell <chloe_russell@goodyear.com>; Jonathan Lindsey <jonathan_lindsey@goodyear.com>; Dakota Duncan <dakota_duncan@goodyear.com>; Nerissa Hao <nerissa_hao@goodyear.com>; Barb Callihan <barbara.callihan@goodyear.com>; Barb Mays <barb_mays@goodyear.com>; Bob Gulcin <robert_gulcin@goodyear.com>; Fred N Nelson <fred_nelson@goodyear.com>; Andy Gerzina <andrew_gerzina@goodyear.com>; Smit Modi <smit_modi@goodyear.com>; Lena Schulze <jessicaverena_schulze@goodyear.com>; Kathy Thomas <kthomas@goodyear.com>; Chad Lauthers <chad_lauthers@goodyear.com>; Christy Lough <christiana_lough@goodyear.com>; Kris Wagner <kris_wagner@goodyear.com>; Danielle Warren <danielle_warren@goodyear.com>; Dan Helmick <dhelmick@goodyear.com>; joragsda@amazon.com; Anna Fischer <anna_fischer@goodyear.com>; John Wright <john_wright@goodyear.com>; Simone Gabbianelli <simone.gabbianelli@goodyear.com>; Kevin Smith <kevin.smith@goodyear.com>; Rory Johnston <rory_johnston@goodyear.com>; Yuanlong Zhang <yuanlong_zhang@goodyear.com>']"
      ]
     },
     "execution_count": 101,
     "metadata": {},
     "output_type": "execute_result"
    }
   ],
   "source": [
    "aws"
   ]
  },
  {
   "cell_type": "code",
   "execution_count": 125,
   "metadata": {},
   "outputs": [],
   "source": [
    "aws = ''.join(str(e) for e in aws)"
   ]
  },
  {
   "cell_type": "code",
   "execution_count": 126,
   "metadata": {},
   "outputs": [
    {
     "data": {
      "text/plain": [
       "'Max Salviejo <maximo_salviejo@goodyear.com>; John Ozarchuk <john_ozarchuk@goodyear.com>; Rachael Keck <rachael_keck@goodyear.com>; Chris Bochkor <chris_bochkor@goodyear.com>; Matt Variola <matthew_variola@goodyear.com>; Matthew Madaj <matthew_madaj@goodyear.com>; Taissa Abdalla Filgueiras de Sousa <taissa_abdallafilgueirasdesousa@goodyear.com>; Adam Birdsall <adam_birdsall@goodyear.com>; Wesley Clark <wesley_clark@goodyear.com>; Joseph Sadaka <joseph_sadaka@goodyear.com>; Ron Webster <ron_webster@goodyear.com>; George Marino <george_marino@goodyear.com>; Steve Tisdale <steve_tisdale@goodyear.com>; Ruth Dunlap <ruth_dunlap@goodyear.com>; Louie Gigliotti <louie_gigliotti@goodyear.com>; Janice Sudia <janice_sudia@goodyear.com>; Chloe Russell <chloe_russell@goodyear.com>; Jonathan Lindsey <jonathan_lindsey@goodyear.com>; Dakota Duncan <dakota_duncan@goodyear.com>; Nerissa Hao <nerissa_hao@goodyear.com>; Barb Callihan <barbara.callihan@goodyear.com>; Barb Mays <barb_mays@goodyear.com>; Bob Gulcin <robert_gulcin@goodyear.com>; Fred N Nelson <fred_nelson@goodyear.com>; Andy Gerzina <andrew_gerzina@goodyear.com>; Smit Modi <smit_modi@goodyear.com>; Lena Schulze <jessicaverena_schulze@goodyear.com>; Kathy Thomas <kthomas@goodyear.com>; Chad Lauthers <chad_lauthers@goodyear.com>; Christy Lough <christiana_lough@goodyear.com>; Kris Wagner <kris_wagner@goodyear.com>; Danielle Warren <danielle_warren@goodyear.com>; Dan Helmick <dhelmick@goodyear.com>; joragsda@amazon.com; Anna Fischer <anna_fischer@goodyear.com>; John Wright <john_wright@goodyear.com>; Simone Gabbianelli <simone.gabbianelli@goodyear.com>; Kevin Smith <kevin.smith@goodyear.com>; Rory Johnston <rory_johnston@goodyear.com>; Yuanlong Zhang <yuanlong_zhang@goodyear.com>'"
      ]
     },
     "execution_count": 126,
     "metadata": {},
     "output_type": "execute_result"
    }
   ],
   "source": [
    "aws"
   ]
  },
  {
   "cell_type": "code",
   "execution_count": 136,
   "metadata": {},
   "outputs": [],
   "source": [
    "aws2 = [word for word in aws.split(';')]"
   ]
  },
  {
   "cell_type": "code",
   "execution_count": 138,
   "metadata": {},
   "outputs": [
    {
     "data": {
      "text/plain": [
       "40"
      ]
     },
     "execution_count": 138,
     "metadata": {},
     "output_type": "execute_result"
    }
   ],
   "source": [
    "len(aws2)"
   ]
  },
  {
   "cell_type": "code",
   "execution_count": 147,
   "metadata": {},
   "outputs": [
    {
     "data": {
      "text/plain": [
       "['Max Salviejo <maximo_salviejo@goodyear.com>',\n",
       " ' John Ozarchuk <john_ozarchuk@goodyear.com>',\n",
       " ' Rachael Keck <rachael_keck@goodyear.com>',\n",
       " ' Chris Bochkor <chris_bochkor@goodyear.com>',\n",
       " ' Matt Variola <matthew_variola@goodyear.com>',\n",
       " ' Matthew Madaj <matthew_madaj@goodyear.com>',\n",
       " ' Taissa Abdalla Filgueiras de Sousa <taissa_abdallafilgueirasdesousa@goodyear.com>',\n",
       " ' Adam Birdsall <adam_birdsall@goodyear.com>',\n",
       " ' Wesley Clark <wesley_clark@goodyear.com>',\n",
       " ' Joseph Sadaka <joseph_sadaka@goodyear.com>',\n",
       " ' Ron Webster <ron_webster@goodyear.com>']"
      ]
     },
     "execution_count": 147,
     "metadata": {},
     "output_type": "execute_result"
    }
   ],
   "source": [
    "list1 = aws2[0:11]\n",
    "list1"
   ]
  },
  {
   "cell_type": "code",
   "execution_count": 148,
   "metadata": {},
   "outputs": [
    {
     "data": {
      "text/plain": [
       "[' George Marino <george_marino@goodyear.com>',\n",
       " ' Steve Tisdale <steve_tisdale@goodyear.com>',\n",
       " ' Ruth Dunlap <ruth_dunlap@goodyear.com>',\n",
       " ' Louie Gigliotti <louie_gigliotti@goodyear.com>',\n",
       " ' Janice Sudia <janice_sudia@goodyear.com>',\n",
       " ' Chloe Russell <chloe_russell@goodyear.com>',\n",
       " ' Jonathan Lindsey <jonathan_lindsey@goodyear.com>',\n",
       " ' Dakota Duncan <dakota_duncan@goodyear.com>',\n",
       " ' Nerissa Hao <nerissa_hao@goodyear.com>',\n",
       " ' Barb Callihan <barbara.callihan@goodyear.com>']"
      ]
     },
     "execution_count": 148,
     "metadata": {},
     "output_type": "execute_result"
    }
   ],
   "source": [
    "list2 = aws2[11:21]\n",
    "list2"
   ]
  },
  {
   "cell_type": "code",
   "execution_count": 150,
   "metadata": {},
   "outputs": [
    {
     "data": {
      "text/plain": [
       "[' Barb Mays <barb_mays@goodyear.com>',\n",
       " ' Bob Gulcin <robert_gulcin@goodyear.com>',\n",
       " ' Fred N Nelson <fred_nelson@goodyear.com>',\n",
       " ' Andy Gerzina <andrew_gerzina@goodyear.com>',\n",
       " ' Smit Modi <smit_modi@goodyear.com>',\n",
       " ' Lena Schulze <jessicaverena_schulze@goodyear.com>',\n",
       " ' Kathy Thomas <kthomas@goodyear.com>',\n",
       " ' Chad Lauthers <chad_lauthers@goodyear.com>',\n",
       " ' Christy Lough <christiana_lough@goodyear.com>',\n",
       " ' Kris Wagner <kris_wagner@goodyear.com>']"
      ]
     },
     "execution_count": 150,
     "metadata": {},
     "output_type": "execute_result"
    }
   ],
   "source": [
    "list3 = aws2[21:31]\n",
    "list3"
   ]
  },
  {
   "cell_type": "code",
   "execution_count": 152,
   "metadata": {},
   "outputs": [
    {
     "data": {
      "text/plain": [
       "[' Danielle Warren <danielle_warren@goodyear.com>',\n",
       " ' Dan Helmick <dhelmick@goodyear.com>',\n",
       " ' joragsda@amazon.com',\n",
       " ' Anna Fischer <anna_fischer@goodyear.com>',\n",
       " ' John Wright <john_wright@goodyear.com>',\n",
       " ' Simone Gabbianelli <simone.gabbianelli@goodyear.com>',\n",
       " ' Kevin Smith <kevin.smith@goodyear.com>',\n",
       " ' Rory Johnston <rory_johnston@goodyear.com>',\n",
       " ' Yuanlong Zhang <yuanlong_zhang@goodyear.com>']"
      ]
     },
     "execution_count": 152,
     "metadata": {},
     "output_type": "execute_result"
    }
   ],
   "source": [
    "list4 = aws2[31:41]\n",
    "list4"
   ]
  },
  {
   "cell_type": "markdown",
   "metadata": {},
   "source": [
    "Next one"
   ]
  },
  {
   "cell_type": "code",
   "execution_count": 153,
   "metadata": {},
   "outputs": [],
   "source": [
    "aws_file2 = open('AWS2.txt')"
   ]
  },
  {
   "cell_type": "code",
   "execution_count": 154,
   "metadata": {},
   "outputs": [],
   "source": [
    "aws_new = aws_file2.readlines()"
   ]
  },
  {
   "cell_type": "code",
   "execution_count": 155,
   "metadata": {},
   "outputs": [
    {
     "data": {
      "text/plain": [
       "['Max Salviejo <maximo_salviejo@goodyear.com>; Rachael Keck <rachael_keck@goodyear.com>; John Ozarchuk <john_ozarchuk@goodyear.com>; Chris Bochkor <chris_bochkor@goodyear.com>; Matt Variola <matthew_variola@goodyear.com>; Matthew Madaj <matthew_madaj@goodyear.com>; Taissa Abdalla Filgueiras de Sousa <taissa_abdallafilgueirasdesousa@goodyear.com>; Adam Birdsall <adam_birdsall@goodyear.com>; Wesley Clark <wesley_clark@goodyear.com>; George Marino <george_marino@goodyear.com>; Ron Webster <ron_webster@goodyear.com>; Lena Schulze <jessicaverena_schulze@goodyear.com>; Smit Modi <smit_modi@goodyear.com>; Chloe Russell <chloe_russell@goodyear.com>; Louie Gigliotti <louie_gigliotti@goodyear.com>; Fred N Nelson <fred_nelson@goodyear.com>; Steve Tisdale <steve_tisdale@goodyear.com>; Andy Gerzina <andrew_gerzina@goodyear.com>; Jonathan Lindsey <jonathan_lindsey@goodyear.com>; Dakota Duncan <dakota_duncan@goodyear.com>; Bob Gulcin <robert_gulcin@goodyear.com>; Nerissa Hao <nerissa_hao@goodyear.com>; Janice Sudia <janice_sudia@goodyear.com>; Ruth Dunlap <ruth_dunlap@goodyear.com>; Barb Mays <barb_mays@goodyear.com>; Joseph Sadaka <joseph_sadaka@goodyear.com>; Christy Lough <christiana_lough@goodyear.com>; Danielle Warren <danielle_warren@goodyear.com>; Kris Wagner <kris_wagner@goodyear.com>; Chad Lauthers <chad_lauthers@goodyear.com>; Kathy Thomas <kthomas@goodyear.com>; Avinash Varadapura Ananda Reddy <avinash_reddy@goodyear.com>; Barb Callihan <barbara.callihan@goodyear.com>; Michael Rife <michael_rife@goodyear.com>; Dan Helmick <dhelmick@goodyear.com>; joragsda@amazon.com; John Wright <john_wright@goodyear.com>; Simone Gabbianelli <simone.gabbianelli@goodyear.com>; Kevin Smith <kevin.smith@goodyear.com>; Rory Johnston <rory_johnston@goodyear.com>; Yuanlong Zhang <yuanlong_zhang@goodyear.com>']"
      ]
     },
     "execution_count": 155,
     "metadata": {},
     "output_type": "execute_result"
    }
   ],
   "source": [
    "aws_new"
   ]
  },
  {
   "cell_type": "code",
   "execution_count": 157,
   "metadata": {},
   "outputs": [],
   "source": [
    "aws_new = ''.join(str(e) for e in aws_new)"
   ]
  },
  {
   "cell_type": "code",
   "execution_count": 158,
   "metadata": {},
   "outputs": [],
   "source": [
    "aws_new = [word for word in aws_new.split(';')]"
   ]
  },
  {
   "cell_type": "code",
   "execution_count": 159,
   "metadata": {},
   "outputs": [
    {
     "data": {
      "text/plain": [
       "['Max Salviejo <maximo_salviejo@goodyear.com>',\n",
       " ' Rachael Keck <rachael_keck@goodyear.com>',\n",
       " ' John Ozarchuk <john_ozarchuk@goodyear.com>',\n",
       " ' Chris Bochkor <chris_bochkor@goodyear.com>',\n",
       " ' Matt Variola <matthew_variola@goodyear.com>',\n",
       " ' Matthew Madaj <matthew_madaj@goodyear.com>',\n",
       " ' Taissa Abdalla Filgueiras de Sousa <taissa_abdallafilgueirasdesousa@goodyear.com>',\n",
       " ' Adam Birdsall <adam_birdsall@goodyear.com>',\n",
       " ' Wesley Clark <wesley_clark@goodyear.com>',\n",
       " ' George Marino <george_marino@goodyear.com>',\n",
       " ' Ron Webster <ron_webster@goodyear.com>',\n",
       " ' Lena Schulze <jessicaverena_schulze@goodyear.com>',\n",
       " ' Smit Modi <smit_modi@goodyear.com>',\n",
       " ' Chloe Russell <chloe_russell@goodyear.com>',\n",
       " ' Louie Gigliotti <louie_gigliotti@goodyear.com>',\n",
       " ' Fred N Nelson <fred_nelson@goodyear.com>',\n",
       " ' Steve Tisdale <steve_tisdale@goodyear.com>',\n",
       " ' Andy Gerzina <andrew_gerzina@goodyear.com>',\n",
       " ' Jonathan Lindsey <jonathan_lindsey@goodyear.com>',\n",
       " ' Dakota Duncan <dakota_duncan@goodyear.com>',\n",
       " ' Bob Gulcin <robert_gulcin@goodyear.com>',\n",
       " ' Nerissa Hao <nerissa_hao@goodyear.com>',\n",
       " ' Janice Sudia <janice_sudia@goodyear.com>',\n",
       " ' Ruth Dunlap <ruth_dunlap@goodyear.com>',\n",
       " ' Barb Mays <barb_mays@goodyear.com>',\n",
       " ' Joseph Sadaka <joseph_sadaka@goodyear.com>',\n",
       " ' Christy Lough <christiana_lough@goodyear.com>',\n",
       " ' Danielle Warren <danielle_warren@goodyear.com>',\n",
       " ' Kris Wagner <kris_wagner@goodyear.com>',\n",
       " ' Chad Lauthers <chad_lauthers@goodyear.com>',\n",
       " ' Kathy Thomas <kthomas@goodyear.com>',\n",
       " ' Avinash Varadapura Ananda Reddy <avinash_reddy@goodyear.com>',\n",
       " ' Barb Callihan <barbara.callihan@goodyear.com>',\n",
       " ' Michael Rife <michael_rife@goodyear.com>',\n",
       " ' Dan Helmick <dhelmick@goodyear.com>',\n",
       " ' joragsda@amazon.com',\n",
       " ' John Wright <john_wright@goodyear.com>',\n",
       " ' Simone Gabbianelli <simone.gabbianelli@goodyear.com>',\n",
       " ' Kevin Smith <kevin.smith@goodyear.com>',\n",
       " ' Rory Johnston <rory_johnston@goodyear.com>',\n",
       " ' Yuanlong Zhang <yuanlong_zhang@goodyear.com>']"
      ]
     },
     "execution_count": 159,
     "metadata": {},
     "output_type": "execute_result"
    }
   ],
   "source": [
    "aws_new"
   ]
  },
  {
   "cell_type": "code",
   "execution_count": null,
   "metadata": {},
   "outputs": [],
   "source": [
    "aws_final = [name for name in aws_]"
   ]
  },
  {
   "cell_type": "code",
   "execution_count": 160,
   "metadata": {},
   "outputs": [],
   "source": [
    "aws_final = [name + '' + name2 for name in aws_new for name2 in aws2]"
   ]
  },
  {
   "cell_type": "code",
   "execution_count": 168,
   "metadata": {},
   "outputs": [
    {
     "data": {
      "text/plain": [
       "{' Danielle Warren <danielle_warren@goodyear.com> Kevin Smith <kevin.smith@goodyear.com>',\n",
       " ' Avinash Varadapura Ananda Reddy <avinash_reddy@goodyear.com> John Wright <john_wright@goodyear.com>',\n",
       " ' Simone Gabbianelli <simone.gabbianelli@goodyear.com> Dan Helmick <dhelmick@goodyear.com>',\n",
       " ' Fred N Nelson <fred_nelson@goodyear.com> Chris Bochkor <chris_bochkor@goodyear.com>',\n",
       " ' Taissa Abdalla Filgueiras de Sousa <taissa_abdallafilgueirasdesousa@goodyear.com> Kevin Smith <kevin.smith@goodyear.com>',\n",
       " ' Nerissa Hao <nerissa_hao@goodyear.com> Simone Gabbianelli <simone.gabbianelli@goodyear.com>',\n",
       " ' Christy Lough <christiana_lough@goodyear.com> Matt Variola <matthew_variola@goodyear.com>',\n",
       " ' joragsda@amazon.com Rory Johnston <rory_johnston@goodyear.com>',\n",
       " ' John Ozarchuk <john_ozarchuk@goodyear.com> Rachael Keck <rachael_keck@goodyear.com>',\n",
       " ' Ron Webster <ron_webster@goodyear.com> Barb Callihan <barbara.callihan@goodyear.com>',\n",
       " ' Chris Bochkor <chris_bochkor@goodyear.com> Rory Johnston <rory_johnston@goodyear.com>',\n",
       " ' Ruth Dunlap <ruth_dunlap@goodyear.com> Anna Fischer <anna_fischer@goodyear.com>',\n",
       " ' Dakota Duncan <dakota_duncan@goodyear.com> Matt Variola <matthew_variola@goodyear.com>',\n",
       " ' Lena Schulze <jessicaverena_schulze@goodyear.com> Dan Helmick <dhelmick@goodyear.com>',\n",
       " ' Yuanlong Zhang <yuanlong_zhang@goodyear.com> Kathy Thomas <kthomas@goodyear.com>',\n",
       " ' Joseph Sadaka <joseph_sadaka@goodyear.com> Adam Birdsall <adam_birdsall@goodyear.com>',\n",
       " ' George Marino <george_marino@goodyear.com> Bob Gulcin <robert_gulcin@goodyear.com>',\n",
       " ' John Wright <john_wright@goodyear.com> Fred N Nelson <fred_nelson@goodyear.com>',\n",
       " 'Max Salviejo <maximo_salviejo@goodyear.com> Anna Fischer <anna_fischer@goodyear.com>',\n",
       " ' Kathy Thomas <kthomas@goodyear.com> Kathy Thomas <kthomas@goodyear.com>',\n",
       " ' Rory Johnston <rory_johnston@goodyear.com> Ruth Dunlap <ruth_dunlap@goodyear.com>',\n",
       " ' Smit Modi <smit_modi@goodyear.com> Taissa Abdalla Filgueiras de Sousa <taissa_abdallafilgueirasdesousa@goodyear.com>',\n",
       " ' Jonathan Lindsey <jonathan_lindsey@goodyear.com> Jonathan Lindsey <jonathan_lindsey@goodyear.com>',\n",
       " ' Kathy Thomas <kthomas@goodyear.com> John Ozarchuk <john_ozarchuk@goodyear.com>',\n",
       " ' Steve Tisdale <steve_tisdale@goodyear.com> Kathy Thomas <kthomas@goodyear.com>',\n",
       " ' Kris Wagner <kris_wagner@goodyear.com> Adam Birdsall <adam_birdsall@goodyear.com>',\n",
       " ' Kevin Smith <kevin.smith@goodyear.com> Chloe Russell <chloe_russell@goodyear.com>',\n",
       " ' Adam Birdsall <adam_birdsall@goodyear.com> John Wright <john_wright@goodyear.com>',\n",
       " ' Rachael Keck <rachael_keck@goodyear.com> Smit Modi <smit_modi@goodyear.com>',\n",
       " ' Matthew Madaj <matthew_madaj@goodyear.com> Janice Sudia <janice_sudia@goodyear.com>',\n",
       " ' Smit Modi <smit_modi@goodyear.com> Fred N Nelson <fred_nelson@goodyear.com>',\n",
       " ' Adam Birdsall <adam_birdsall@goodyear.com> Danielle Warren <danielle_warren@goodyear.com>',\n",
       " ' Joseph Sadaka <joseph_sadaka@goodyear.com> Matt Variola <matthew_variola@goodyear.com>',\n",
       " ' Louie Gigliotti <louie_gigliotti@goodyear.com> Simone Gabbianelli <simone.gabbianelli@goodyear.com>',\n",
       " ' Simone Gabbianelli <simone.gabbianelli@goodyear.com>Max Salviejo <maximo_salviejo@goodyear.com>',\n",
       " ' Barb Callihan <barbara.callihan@goodyear.com> John Ozarchuk <john_ozarchuk@goodyear.com>',\n",
       " ' Ron Webster <ron_webster@goodyear.com> Ron Webster <ron_webster@goodyear.com>',\n",
       " ' Rachael Keck <rachael_keck@goodyear.com> Joseph Sadaka <joseph_sadaka@goodyear.com>',\n",
       " ' Simone Gabbianelli <simone.gabbianelli@goodyear.com> Fred N Nelson <fred_nelson@goodyear.com>',\n",
       " ' Chad Lauthers <chad_lauthers@goodyear.com> Christy Lough <christiana_lough@goodyear.com>',\n",
       " ' Yuanlong Zhang <yuanlong_zhang@goodyear.com> Dakota Duncan <dakota_duncan@goodyear.com>',\n",
       " ' Chris Bochkor <chris_bochkor@goodyear.com> Bob Gulcin <robert_gulcin@goodyear.com>',\n",
       " ' Dan Helmick <dhelmick@goodyear.com> Rachael Keck <rachael_keck@goodyear.com>',\n",
       " 'Max Salviejo <maximo_salviejo@goodyear.com> Matthew Madaj <matthew_madaj@goodyear.com>',\n",
       " ' Chad Lauthers <chad_lauthers@goodyear.com> Taissa Abdalla Filgueiras de Sousa <taissa_abdallafilgueirasdesousa@goodyear.com>',\n",
       " ' Yuanlong Zhang <yuanlong_zhang@goodyear.com> Taissa Abdalla Filgueiras de Sousa <taissa_abdallafilgueirasdesousa@goodyear.com>',\n",
       " ' Ruth Dunlap <ruth_dunlap@goodyear.com> Lena Schulze <jessicaverena_schulze@goodyear.com>',\n",
       " ' Barb Mays <barb_mays@goodyear.com> John Wright <john_wright@goodyear.com>',\n",
       " ' Matthew Madaj <matthew_madaj@goodyear.com> Joseph Sadaka <joseph_sadaka@goodyear.com>',\n",
       " ' Smit Modi <smit_modi@goodyear.com> Chris Bochkor <chris_bochkor@goodyear.com>',\n",
       " ' Andy Gerzina <andrew_gerzina@goodyear.com> George Marino <george_marino@goodyear.com>',\n",
       " ' Kris Wagner <kris_wagner@goodyear.com> Chad Lauthers <chad_lauthers@goodyear.com>',\n",
       " ' Jonathan Lindsey <jonathan_lindsey@goodyear.com> Kathy Thomas <kthomas@goodyear.com>',\n",
       " ' Kris Wagner <kris_wagner@goodyear.com> Bob Gulcin <robert_gulcin@goodyear.com>',\n",
       " ' Janice Sudia <janice_sudia@goodyear.com> Barb Callihan <barbara.callihan@goodyear.com>',\n",
       " ' Kris Wagner <kris_wagner@goodyear.com> John Ozarchuk <john_ozarchuk@goodyear.com>',\n",
       " ' Barb Mays <barb_mays@goodyear.com> Taissa Abdalla Filgueiras de Sousa <taissa_abdallafilgueirasdesousa@goodyear.com>',\n",
       " ' Lena Schulze <jessicaverena_schulze@goodyear.com> Yuanlong Zhang <yuanlong_zhang@goodyear.com>',\n",
       " ' Bob Gulcin <robert_gulcin@goodyear.com> Rachael Keck <rachael_keck@goodyear.com>',\n",
       " ' Nerissa Hao <nerissa_hao@goodyear.com> Kris Wagner <kris_wagner@goodyear.com>',\n",
       " ' Dan Helmick <dhelmick@goodyear.com> Barb Mays <barb_mays@goodyear.com>',\n",
       " ' George Marino <george_marino@goodyear.com> Louie Gigliotti <louie_gigliotti@goodyear.com>',\n",
       " ' Steve Tisdale <steve_tisdale@goodyear.com> Dakota Duncan <dakota_duncan@goodyear.com>',\n",
       " 'Max Salviejo <maximo_salviejo@goodyear.com> Lena Schulze <jessicaverena_schulze@goodyear.com>',\n",
       " ' Wesley Clark <wesley_clark@goodyear.com> Nerissa Hao <nerissa_hao@goodyear.com>',\n",
       " ' Chloe Russell <chloe_russell@goodyear.com> Danielle Warren <danielle_warren@goodyear.com>',\n",
       " ' Michael Rife <michael_rife@goodyear.com> joragsda@amazon.com',\n",
       " ' Rory Johnston <rory_johnston@goodyear.com> John Ozarchuk <john_ozarchuk@goodyear.com>',\n",
       " ' Steve Tisdale <steve_tisdale@goodyear.com> Dan Helmick <dhelmick@goodyear.com>',\n",
       " ' Jonathan Lindsey <jonathan_lindsey@goodyear.com> Nerissa Hao <nerissa_hao@goodyear.com>',\n",
       " ' Matthew Madaj <matthew_madaj@goodyear.com> Anna Fischer <anna_fischer@goodyear.com>',\n",
       " ' Matthew Madaj <matthew_madaj@goodyear.com> Barb Callihan <barbara.callihan@goodyear.com>',\n",
       " ' Simone Gabbianelli <simone.gabbianelli@goodyear.com> George Marino <george_marino@goodyear.com>',\n",
       " ' Christy Lough <christiana_lough@goodyear.com> Ruth Dunlap <ruth_dunlap@goodyear.com>',\n",
       " ' Smit Modi <smit_modi@goodyear.com> Kathy Thomas <kthomas@goodyear.com>',\n",
       " ' Jonathan Lindsey <jonathan_lindsey@goodyear.com> Matt Variola <matthew_variola@goodyear.com>',\n",
       " ' Taissa Abdalla Filgueiras de Sousa <taissa_abdallafilgueirasdesousa@goodyear.com> Nerissa Hao <nerissa_hao@goodyear.com>',\n",
       " ' Andy Gerzina <andrew_gerzina@goodyear.com> Chad Lauthers <chad_lauthers@goodyear.com>',\n",
       " ' Bob Gulcin <robert_gulcin@goodyear.com> Ruth Dunlap <ruth_dunlap@goodyear.com>',\n",
       " ' Matthew Madaj <matthew_madaj@goodyear.com> Simone Gabbianelli <simone.gabbianelli@goodyear.com>',\n",
       " ' Kris Wagner <kris_wagner@goodyear.com> Louie Gigliotti <louie_gigliotti@goodyear.com>',\n",
       " ' Michael Rife <michael_rife@goodyear.com> Smit Modi <smit_modi@goodyear.com>',\n",
       " ' Joseph Sadaka <joseph_sadaka@goodyear.com> Wesley Clark <wesley_clark@goodyear.com>',\n",
       " ' Lena Schulze <jessicaverena_schulze@goodyear.com> Simone Gabbianelli <simone.gabbianelli@goodyear.com>',\n",
       " ' Rory Johnston <rory_johnston@goodyear.com> Andy Gerzina <andrew_gerzina@goodyear.com>',\n",
       " ' Michael Rife <michael_rife@goodyear.com> John Wright <john_wright@goodyear.com>',\n",
       " ' Matt Variola <matthew_variola@goodyear.com> Louie Gigliotti <louie_gigliotti@goodyear.com>',\n",
       " ' Andy Gerzina <andrew_gerzina@goodyear.com> Bob Gulcin <robert_gulcin@goodyear.com>',\n",
       " ' Christy Lough <christiana_lough@goodyear.com> Jonathan Lindsey <jonathan_lindsey@goodyear.com>',\n",
       " ' Kathy Thomas <kthomas@goodyear.com> Adam Birdsall <adam_birdsall@goodyear.com>',\n",
       " ' Adam Birdsall <adam_birdsall@goodyear.com> Ron Webster <ron_webster@goodyear.com>',\n",
       " 'Max Salviejo <maximo_salviejo@goodyear.com> Fred N Nelson <fred_nelson@goodyear.com>',\n",
       " ' Bob Gulcin <robert_gulcin@goodyear.com> John Wright <john_wright@goodyear.com>',\n",
       " ' Steve Tisdale <steve_tisdale@goodyear.com> Danielle Warren <danielle_warren@goodyear.com>',\n",
       " ' Andy Gerzina <andrew_gerzina@goodyear.com> Rachael Keck <rachael_keck@goodyear.com>',\n",
       " ' Janice Sudia <janice_sudia@goodyear.com> John Ozarchuk <john_ozarchuk@goodyear.com>',\n",
       " ' Kevin Smith <kevin.smith@goodyear.com> Janice Sudia <janice_sudia@goodyear.com>',\n",
       " ' Barb Mays <barb_mays@goodyear.com>Max Salviejo <maximo_salviejo@goodyear.com>',\n",
       " ' Ron Webster <ron_webster@goodyear.com> Taissa Abdalla Filgueiras de Sousa <taissa_abdallafilgueirasdesousa@goodyear.com>',\n",
       " ' Rachael Keck <rachael_keck@goodyear.com> Wesley Clark <wesley_clark@goodyear.com>',\n",
       " ' Ruth Dunlap <ruth_dunlap@goodyear.com> Smit Modi <smit_modi@goodyear.com>',\n",
       " ' Janice Sudia <janice_sudia@goodyear.com> Yuanlong Zhang <yuanlong_zhang@goodyear.com>',\n",
       " 'Max Salviejo <maximo_salviejo@goodyear.com> Barb Mays <barb_mays@goodyear.com>',\n",
       " ' Michael Rife <michael_rife@goodyear.com> John Ozarchuk <john_ozarchuk@goodyear.com>',\n",
       " ' Taissa Abdalla Filgueiras de Sousa <taissa_abdallafilgueirasdesousa@goodyear.com> John Ozarchuk <john_ozarchuk@goodyear.com>',\n",
       " ' Adam Birdsall <adam_birdsall@goodyear.com> Andy Gerzina <andrew_gerzina@goodyear.com>',\n",
       " ' joragsda@amazon.com Matt Variola <matthew_variola@goodyear.com>',\n",
       " ' Kathy Thomas <kthomas@goodyear.com> Fred N Nelson <fred_nelson@goodyear.com>',\n",
       " ' Barb Callihan <barbara.callihan@goodyear.com> Adam Birdsall <adam_birdsall@goodyear.com>',\n",
       " ' Chloe Russell <chloe_russell@goodyear.com> Simone Gabbianelli <simone.gabbianelli@goodyear.com>',\n",
       " ' Barb Mays <barb_mays@goodyear.com> Kris Wagner <kris_wagner@goodyear.com>',\n",
       " ' Matthew Madaj <matthew_madaj@goodyear.com> Kathy Thomas <kthomas@goodyear.com>',\n",
       " ' Louie Gigliotti <louie_gigliotti@goodyear.com> Christy Lough <christiana_lough@goodyear.com>',\n",
       " ' Smit Modi <smit_modi@goodyear.com> Danielle Warren <danielle_warren@goodyear.com>',\n",
       " ' Simone Gabbianelli <simone.gabbianelli@goodyear.com> Nerissa Hao <nerissa_hao@goodyear.com>',\n",
       " ' Kris Wagner <kris_wagner@goodyear.com> Ruth Dunlap <ruth_dunlap@goodyear.com>',\n",
       " ' Steve Tisdale <steve_tisdale@goodyear.com> Barb Callihan <barbara.callihan@goodyear.com>',\n",
       " ' Rachael Keck <rachael_keck@goodyear.com> Taissa Abdalla Filgueiras de Sousa <taissa_abdallafilgueirasdesousa@goodyear.com>',\n",
       " ' Adam Birdsall <adam_birdsall@goodyear.com> Yuanlong Zhang <yuanlong_zhang@goodyear.com>',\n",
       " ' Janice Sudia <janice_sudia@goodyear.com> Dan Helmick <dhelmick@goodyear.com>',\n",
       " ' Dakota Duncan <dakota_duncan@goodyear.com> Andy Gerzina <andrew_gerzina@goodyear.com>',\n",
       " ' John Ozarchuk <john_ozarchuk@goodyear.com> Yuanlong Zhang <yuanlong_zhang@goodyear.com>',\n",
       " ' Christy Lough <christiana_lough@goodyear.com> Rachael Keck <rachael_keck@goodyear.com>',\n",
       " ' Chloe Russell <chloe_russell@goodyear.com> Matt Variola <matthew_variola@goodyear.com>',\n",
       " ' George Marino <george_marino@goodyear.com> Chloe Russell <chloe_russell@goodyear.com>',\n",
       " ' Bob Gulcin <robert_gulcin@goodyear.com> Anna Fischer <anna_fischer@goodyear.com>',\n",
       " ' Kris Wagner <kris_wagner@goodyear.com> Dakota Duncan <dakota_duncan@goodyear.com>',\n",
       " ' Chloe Russell <chloe_russell@goodyear.com> Barb Callihan <barbara.callihan@goodyear.com>',\n",
       " ' Rory Johnston <rory_johnston@goodyear.com> Kevin Smith <kevin.smith@goodyear.com>',\n",
       " ' Smit Modi <smit_modi@goodyear.com> Adam Birdsall <adam_birdsall@goodyear.com>',\n",
       " ' Dakota Duncan <dakota_duncan@goodyear.com> Barb Callihan <barbara.callihan@goodyear.com>',\n",
       " ' Rory Johnston <rory_johnston@goodyear.com> Bob Gulcin <robert_gulcin@goodyear.com>',\n",
       " ' Yuanlong Zhang <yuanlong_zhang@goodyear.com> Kris Wagner <kris_wagner@goodyear.com>',\n",
       " ' Ron Webster <ron_webster@goodyear.com> Simone Gabbianelli <simone.gabbianelli@goodyear.com>',\n",
       " ' Chris Bochkor <chris_bochkor@goodyear.com> joragsda@amazon.com',\n",
       " ' Wesley Clark <wesley_clark@goodyear.com> John Wright <john_wright@goodyear.com>',\n",
       " ' Jonathan Lindsey <jonathan_lindsey@goodyear.com> Barb Callihan <barbara.callihan@goodyear.com>',\n",
       " ' Janice Sudia <janice_sudia@goodyear.com> Lena Schulze <jessicaverena_schulze@goodyear.com>',\n",
       " ' Ruth Dunlap <ruth_dunlap@goodyear.com> Matthew Madaj <matthew_madaj@goodyear.com>',\n",
       " ' Yuanlong Zhang <yuanlong_zhang@goodyear.com> Andy Gerzina <andrew_gerzina@goodyear.com>',\n",
       " ' Chad Lauthers <chad_lauthers@goodyear.com> Danielle Warren <danielle_warren@goodyear.com>',\n",
       " ' Chloe Russell <chloe_russell@goodyear.com>Max Salviejo <maximo_salviejo@goodyear.com>',\n",
       " ' Barb Callihan <barbara.callihan@goodyear.com> Chad Lauthers <chad_lauthers@goodyear.com>',\n",
       " ' Chris Bochkor <chris_bochkor@goodyear.com> Wesley Clark <wesley_clark@goodyear.com>',\n",
       " ' Andy Gerzina <andrew_gerzina@goodyear.com> Ruth Dunlap <ruth_dunlap@goodyear.com>',\n",
       " ' Kathy Thomas <kthomas@goodyear.com> Jonathan Lindsey <jonathan_lindsey@goodyear.com>',\n",
       " ' Michael Rife <michael_rife@goodyear.com> Nerissa Hao <nerissa_hao@goodyear.com>',\n",
       " ' John Ozarchuk <john_ozarchuk@goodyear.com> Kevin Smith <kevin.smith@goodyear.com>',\n",
       " ' Taissa Abdalla Filgueiras de Sousa <taissa_abdallafilgueirasdesousa@goodyear.com> Adam Birdsall <adam_birdsall@goodyear.com>',\n",
       " ' Ruth Dunlap <ruth_dunlap@goodyear.com> Steve Tisdale <steve_tisdale@goodyear.com>',\n",
       " ' George Marino <george_marino@goodyear.com>Max Salviejo <maximo_salviejo@goodyear.com>',\n",
       " ' Louie Gigliotti <louie_gigliotti@goodyear.com> Chad Lauthers <chad_lauthers@goodyear.com>',\n",
       " ' joragsda@amazon.com Taissa Abdalla Filgueiras de Sousa <taissa_abdallafilgueirasdesousa@goodyear.com>',\n",
       " ' Joseph Sadaka <joseph_sadaka@goodyear.com> Smit Modi <smit_modi@goodyear.com>',\n",
       " ' Kathy Thomas <kthomas@goodyear.com> Smit Modi <smit_modi@goodyear.com>',\n",
       " ' Janice Sudia <janice_sudia@goodyear.com> Adam Birdsall <adam_birdsall@goodyear.com>',\n",
       " ' Yuanlong Zhang <yuanlong_zhang@goodyear.com> Christy Lough <christiana_lough@goodyear.com>',\n",
       " ' Ron Webster <ron_webster@goodyear.com> Steve Tisdale <steve_tisdale@goodyear.com>',\n",
       " ' John Ozarchuk <john_ozarchuk@goodyear.com> John Wright <john_wright@goodyear.com>',\n",
       " ' Jonathan Lindsey <jonathan_lindsey@goodyear.com> Ron Webster <ron_webster@goodyear.com>',\n",
       " ' Avinash Varadapura Ananda Reddy <avinash_reddy@goodyear.com> Anna Fischer <anna_fischer@goodyear.com>',\n",
       " ' Barb Callihan <barbara.callihan@goodyear.com> Kris Wagner <kris_wagner@goodyear.com>',\n",
       " ' Joseph Sadaka <joseph_sadaka@goodyear.com> John Wright <john_wright@goodyear.com>',\n",
       " ' Ruth Dunlap <ruth_dunlap@goodyear.com> Barb Mays <barb_mays@goodyear.com>',\n",
       " ' John Wright <john_wright@goodyear.com> Jonathan Lindsey <jonathan_lindsey@goodyear.com>',\n",
       " ' Yuanlong Zhang <yuanlong_zhang@goodyear.com> Dan Helmick <dhelmick@goodyear.com>',\n",
       " ' Dan Helmick <dhelmick@goodyear.com> Dakota Duncan <dakota_duncan@goodyear.com>',\n",
       " 'Max Salviejo <maximo_salviejo@goodyear.com> John Ozarchuk <john_ozarchuk@goodyear.com>',\n",
       " ' Taissa Abdalla Filgueiras de Sousa <taissa_abdallafilgueirasdesousa@goodyear.com> Ruth Dunlap <ruth_dunlap@goodyear.com>',\n",
       " ' Kathy Thomas <kthomas@goodyear.com> Andy Gerzina <andrew_gerzina@goodyear.com>',\n",
       " ' Smit Modi <smit_modi@goodyear.com> Simone Gabbianelli <simone.gabbianelli@goodyear.com>',\n",
       " 'Max Salviejo <maximo_salviejo@goodyear.com> Kris Wagner <kris_wagner@goodyear.com>',\n",
       " ' Rory Johnston <rory_johnston@goodyear.com> Anna Fischer <anna_fischer@goodyear.com>',\n",
       " ' Andy Gerzina <andrew_gerzina@goodyear.com> Rory Johnston <rory_johnston@goodyear.com>',\n",
       " ' Wesley Clark <wesley_clark@goodyear.com> Chad Lauthers <chad_lauthers@goodyear.com>',\n",
       " ' Danielle Warren <danielle_warren@goodyear.com> Matthew Madaj <matthew_madaj@goodyear.com>',\n",
       " ' joragsda@amazon.com',\n",
       " ' Louie Gigliotti <louie_gigliotti@goodyear.com> Fred N Nelson <fred_nelson@goodyear.com>',\n",
       " ' Avinash Varadapura Ananda Reddy <avinash_reddy@goodyear.com> Jonathan Lindsey <jonathan_lindsey@goodyear.com>',\n",
       " ' Rory Johnston <rory_johnston@goodyear.com> Matt Variola <matthew_variola@goodyear.com>',\n",
       " ' Chad Lauthers <chad_lauthers@goodyear.com> Smit Modi <smit_modi@goodyear.com>',\n",
       " ' Louie Gigliotti <louie_gigliotti@goodyear.com> John Ozarchuk <john_ozarchuk@goodyear.com>',\n",
       " ' Janice Sudia <janice_sudia@goodyear.com> Kevin Smith <kevin.smith@goodyear.com>',\n",
       " ' Lena Schulze <jessicaverena_schulze@goodyear.com> Bob Gulcin <robert_gulcin@goodyear.com>',\n",
       " ' Matthew Madaj <matthew_madaj@goodyear.com> George Marino <george_marino@goodyear.com>',\n",
       " ' Kathy Thomas <kthomas@goodyear.com> Steve Tisdale <steve_tisdale@goodyear.com>',\n",
       " ' Dakota Duncan <dakota_duncan@goodyear.com> joragsda@amazon.com',\n",
       " ' Andy Gerzina <andrew_gerzina@goodyear.com> Simone Gabbianelli <simone.gabbianelli@goodyear.com>',\n",
       " ' Simone Gabbianelli <simone.gabbianelli@goodyear.com> Kevin Smith <kevin.smith@goodyear.com>',\n",
       " ' Rory Johnston <rory_johnston@goodyear.com> Adam Birdsall <adam_birdsall@goodyear.com>',\n",
       " ' Andy Gerzina <andrew_gerzina@goodyear.com>',\n",
       " ' Kevin Smith <kevin.smith@goodyear.com> joragsda@amazon.com',\n",
       " ' Fred N Nelson <fred_nelson@goodyear.com> Taissa Abdalla Filgueiras de Sousa <taissa_abdallafilgueirasdesousa@goodyear.com>',\n",
       " ' Avinash Varadapura Ananda Reddy <avinash_reddy@goodyear.com> Kris Wagner <kris_wagner@goodyear.com>',\n",
       " ' Barb Callihan <barbara.callihan@goodyear.com> Wesley Clark <wesley_clark@goodyear.com>',\n",
       " ' Rory Johnston <rory_johnston@goodyear.com> joragsda@amazon.com',\n",
       " ' John Wright <john_wright@goodyear.com> Ron Webster <ron_webster@goodyear.com>',\n",
       " ' Christy Lough <christiana_lough@goodyear.com> Wesley Clark <wesley_clark@goodyear.com>',\n",
       " ' Kris Wagner <kris_wagner@goodyear.com> Barb Mays <barb_mays@goodyear.com>',\n",
       " ' Simone Gabbianelli <simone.gabbianelli@goodyear.com> Barb Callihan <barbara.callihan@goodyear.com>',\n",
       " ' Chris Bochkor <chris_bochkor@goodyear.com> Dakota Duncan <dakota_duncan@goodyear.com>',\n",
       " ' Lena Schulze <jessicaverena_schulze@goodyear.com> Danielle Warren <danielle_warren@goodyear.com>',\n",
       " ' Danielle Warren <danielle_warren@goodyear.com> Lena Schulze <jessicaverena_schulze@goodyear.com>',\n",
       " ' Barb Callihan <barbara.callihan@goodyear.com> Yuanlong Zhang <yuanlong_zhang@goodyear.com>',\n",
       " ' Ruth Dunlap <ruth_dunlap@goodyear.com> John Ozarchuk <john_ozarchuk@goodyear.com>',\n",
       " ' Adam Birdsall <adam_birdsall@goodyear.com> Matt Variola <matthew_variola@goodyear.com>',\n",
       " ' Chris Bochkor <chris_bochkor@goodyear.com>',\n",
       " ' Taissa Abdalla Filgueiras de Sousa <taissa_abdallafilgueirasdesousa@goodyear.com> Matt Variola <matthew_variola@goodyear.com>',\n",
       " ' Danielle Warren <danielle_warren@goodyear.com> Louie Gigliotti <louie_gigliotti@goodyear.com>',\n",
       " ' Kris Wagner <kris_wagner@goodyear.com> Chris Bochkor <chris_bochkor@goodyear.com>',\n",
       " ' Smit Modi <smit_modi@goodyear.com> John Ozarchuk <john_ozarchuk@goodyear.com>',\n",
       " ' Dan Helmick <dhelmick@goodyear.com> Christy Lough <christiana_lough@goodyear.com>',\n",
       " ' Barb Mays <barb_mays@goodyear.com> Jonathan Lindsey <jonathan_lindsey@goodyear.com>',\n",
       " ' Simone Gabbianelli <simone.gabbianelli@goodyear.com> Taissa Abdalla Filgueiras de Sousa <taissa_abdallafilgueirasdesousa@goodyear.com>',\n",
       " ' Yuanlong Zhang <yuanlong_zhang@goodyear.com> Kevin Smith <kevin.smith@goodyear.com>',\n",
       " ' John Ozarchuk <john_ozarchuk@goodyear.com>Max Salviejo <maximo_salviejo@goodyear.com>',\n",
       " ' Lena Schulze <jessicaverena_schulze@goodyear.com> Wesley Clark <wesley_clark@goodyear.com>',\n",
       " ' Matt Variola <matthew_variola@goodyear.com> Chloe Russell <chloe_russell@goodyear.com>',\n",
       " ' Wesley Clark <wesley_clark@goodyear.com> Janice Sudia <janice_sudia@goodyear.com>',\n",
       " ' Fred N Nelson <fred_nelson@goodyear.com> Yuanlong Zhang <yuanlong_zhang@goodyear.com>',\n",
       " ' Fred N Nelson <fred_nelson@goodyear.com> Louie Gigliotti <louie_gigliotti@goodyear.com>',\n",
       " ' Fred N Nelson <fred_nelson@goodyear.com> Rory Johnston <rory_johnston@goodyear.com>',\n",
       " ' Simone Gabbianelli <simone.gabbianelli@goodyear.com> Jonathan Lindsey <jonathan_lindsey@goodyear.com>',\n",
       " ' Kathy Thomas <kthomas@goodyear.com> joragsda@amazon.com',\n",
       " ' Kevin Smith <kevin.smith@goodyear.com> Barb Mays <barb_mays@goodyear.com>',\n",
       " ' Danielle Warren <danielle_warren@goodyear.com> Rachael Keck <rachael_keck@goodyear.com>',\n",
       " ' Wesley Clark <wesley_clark@goodyear.com> Lena Schulze <jessicaverena_schulze@goodyear.com>',\n",
       " ' Yuanlong Zhang <yuanlong_zhang@goodyear.com> Matt Variola <matthew_variola@goodyear.com>',\n",
       " ' Christy Lough <christiana_lough@goodyear.com> Rory Johnston <rory_johnston@goodyear.com>',\n",
       " ' Kris Wagner <kris_wagner@goodyear.com> Kevin Smith <kevin.smith@goodyear.com>',\n",
       " ' Joseph Sadaka <joseph_sadaka@goodyear.com> Kevin Smith <kevin.smith@goodyear.com>',\n",
       " ' Bob Gulcin <robert_gulcin@goodyear.com> Ron Webster <ron_webster@goodyear.com>',\n",
       " ' Dan Helmick <dhelmick@goodyear.com> Chloe Russell <chloe_russell@goodyear.com>',\n",
       " ' Steve Tisdale <steve_tisdale@goodyear.com> Chad Lauthers <chad_lauthers@goodyear.com>',\n",
       " ' Bob Gulcin <robert_gulcin@goodyear.com> Rory Johnston <rory_johnston@goodyear.com>',\n",
       " ' Christy Lough <christiana_lough@goodyear.com> Kathy Thomas <kthomas@goodyear.com>',\n",
       " ' John Wright <john_wright@goodyear.com> joragsda@amazon.com',\n",
       " ' Kevin Smith <kevin.smith@goodyear.com> Ruth Dunlap <ruth_dunlap@goodyear.com>',\n",
       " ' Michael Rife <michael_rife@goodyear.com> Bob Gulcin <robert_gulcin@goodyear.com>',\n",
       " ' Matt Variola <matthew_variola@goodyear.com> Smit Modi <smit_modi@goodyear.com>',\n",
       " ' Avinash Varadapura Ananda Reddy <avinash_reddy@goodyear.com>Max Salviejo <maximo_salviejo@goodyear.com>',\n",
       " ' Matthew Madaj <matthew_madaj@goodyear.com> Adam Birdsall <adam_birdsall@goodyear.com>',\n",
       " ' Christy Lough <christiana_lough@goodyear.com> Dakota Duncan <dakota_duncan@goodyear.com>',\n",
       " ' George Marino <george_marino@goodyear.com> Rory Johnston <rory_johnston@goodyear.com>',\n",
       " ' Wesley Clark <wesley_clark@goodyear.com> George Marino <george_marino@goodyear.com>',\n",
       " ' Smit Modi <smit_modi@goodyear.com> Janice Sudia <janice_sudia@goodyear.com>',\n",
       " ' John Ozarchuk <john_ozarchuk@goodyear.com> Barb Callihan <barbara.callihan@goodyear.com>',\n",
       " ' Chloe Russell <chloe_russell@goodyear.com> Christy Lough <christiana_lough@goodyear.com>',\n",
       " ' Barb Mays <barb_mays@goodyear.com> Wesley Clark <wesley_clark@goodyear.com>',\n",
       " ' Dakota Duncan <dakota_duncan@goodyear.com> Yuanlong Zhang <yuanlong_zhang@goodyear.com>',\n",
       " ' Lena Schulze <jessicaverena_schulze@goodyear.com> Kris Wagner <kris_wagner@goodyear.com>',\n",
       " ' Danielle Warren <danielle_warren@goodyear.com> Danielle Warren <danielle_warren@goodyear.com>',\n",
       " ' Andy Gerzina <andrew_gerzina@goodyear.com> Louie Gigliotti <louie_gigliotti@goodyear.com>',\n",
       " ' Chloe Russell <chloe_russell@goodyear.com> joragsda@amazon.com',\n",
       " ' Kathy Thomas <kthomas@goodyear.com> Lena Schulze <jessicaverena_schulze@goodyear.com>',\n",
       " ' Louie Gigliotti <louie_gigliotti@goodyear.com> Nerissa Hao <nerissa_hao@goodyear.com>',\n",
       " ' Jonathan Lindsey <jonathan_lindsey@goodyear.com> John Ozarchuk <john_ozarchuk@goodyear.com>',\n",
       " ' Kathy Thomas <kthomas@goodyear.com> Janice Sudia <janice_sudia@goodyear.com>',\n",
       " ' Kevin Smith <kevin.smith@goodyear.com> Lena Schulze <jessicaverena_schulze@goodyear.com>',\n",
       " ' Joseph Sadaka <joseph_sadaka@goodyear.com> joragsda@amazon.com',\n",
       " ' John Ozarchuk <john_ozarchuk@goodyear.com> Fred N Nelson <fred_nelson@goodyear.com>',\n",
       " ' Smit Modi <smit_modi@goodyear.com> Yuanlong Zhang <yuanlong_zhang@goodyear.com>',\n",
       " ' Chloe Russell <chloe_russell@goodyear.com> Bob Gulcin <robert_gulcin@goodyear.com>',\n",
       " ' Rory Johnston <rory_johnston@goodyear.com> Chloe Russell <chloe_russell@goodyear.com>',\n",
       " ' George Marino <george_marino@goodyear.com> Danielle Warren <danielle_warren@goodyear.com>',\n",
       " ' Ruth Dunlap <ruth_dunlap@goodyear.com> Chris Bochkor <chris_bochkor@goodyear.com>',\n",
       " ' Steve Tisdale <steve_tisdale@goodyear.com> Steve Tisdale <steve_tisdale@goodyear.com>',\n",
       " ' Barb Callihan <barbara.callihan@goodyear.com> Taissa Abdalla Filgueiras de Sousa <taissa_abdallafilgueirasdesousa@goodyear.com>',\n",
       " ' Ruth Dunlap <ruth_dunlap@goodyear.com> Chloe Russell <chloe_russell@goodyear.com>',\n",
       " ' John Ozarchuk <john_ozarchuk@goodyear.com> Anna Fischer <anna_fischer@goodyear.com>',\n",
       " ' Kris Wagner <kris_wagner@goodyear.com> Dan Helmick <dhelmick@goodyear.com>',\n",
       " ' John Wright <john_wright@goodyear.com> Barb Mays <barb_mays@goodyear.com>',\n",
       " ' Nerissa Hao <nerissa_hao@goodyear.com> Yuanlong Zhang <yuanlong_zhang@goodyear.com>',\n",
       " ' Barb Callihan <barbara.callihan@goodyear.com> Matthew Madaj <matthew_madaj@goodyear.com>',\n",
       " ' Christy Lough <christiana_lough@goodyear.com> Kevin Smith <kevin.smith@goodyear.com>',\n",
       " ' Lena Schulze <jessicaverena_schulze@goodyear.com> Adam Birdsall <adam_birdsall@goodyear.com>',\n",
       " ' Smit Modi <smit_modi@goodyear.com> Ruth Dunlap <ruth_dunlap@goodyear.com>',\n",
       " ' Rachael Keck <rachael_keck@goodyear.com> Steve Tisdale <steve_tisdale@goodyear.com>',\n",
       " ' Bob Gulcin <robert_gulcin@goodyear.com> Dakota Duncan <dakota_duncan@goodyear.com>',\n",
       " ' Matthew Madaj <matthew_madaj@goodyear.com>',\n",
       " ' joragsda@amazon.com Chad Lauthers <chad_lauthers@goodyear.com>',\n",
       " ' Kevin Smith <kevin.smith@goodyear.com> Chad Lauthers <chad_lauthers@goodyear.com>',\n",
       " ' Adam Birdsall <adam_birdsall@goodyear.com> Ruth Dunlap <ruth_dunlap@goodyear.com>',\n",
       " ' Bob Gulcin <robert_gulcin@goodyear.com> Barb Callihan <barbara.callihan@goodyear.com>',\n",
       " ' John Wright <john_wright@goodyear.com> Lena Schulze <jessicaverena_schulze@goodyear.com>',\n",
       " ' Louie Gigliotti <louie_gigliotti@goodyear.com> Matthew Madaj <matthew_madaj@goodyear.com>',\n",
       " ' Jonathan Lindsey <jonathan_lindsey@goodyear.com>',\n",
       " ' John Wright <john_wright@goodyear.com> Matt Variola <matthew_variola@goodyear.com>',\n",
       " ' John Wright <john_wright@goodyear.com> Nerissa Hao <nerissa_hao@goodyear.com>',\n",
       " ' Simone Gabbianelli <simone.gabbianelli@goodyear.com> Rory Johnston <rory_johnston@goodyear.com>',\n",
       " ' John Ozarchuk <john_ozarchuk@goodyear.com> Chloe Russell <chloe_russell@goodyear.com>',\n",
       " ' Nerissa Hao <nerissa_hao@goodyear.com> Chloe Russell <chloe_russell@goodyear.com>',\n",
       " ' Dan Helmick <dhelmick@goodyear.com> Joseph Sadaka <joseph_sadaka@goodyear.com>',\n",
       " ' Fred N Nelson <fred_nelson@goodyear.com>Max Salviejo <maximo_salviejo@goodyear.com>',\n",
       " 'Max Salviejo <maximo_salviejo@goodyear.com> Matt Variola <matthew_variola@goodyear.com>',\n",
       " ' Lena Schulze <jessicaverena_schulze@goodyear.com> Matthew Madaj <matthew_madaj@goodyear.com>',\n",
       " ' Louie Gigliotti <louie_gigliotti@goodyear.com> Yuanlong Zhang <yuanlong_zhang@goodyear.com>',\n",
       " ' Jonathan Lindsey <jonathan_lindsey@goodyear.com> Wesley Clark <wesley_clark@goodyear.com>',\n",
       " ' John Ozarchuk <john_ozarchuk@goodyear.com> Wesley Clark <wesley_clark@goodyear.com>',\n",
       " ' John Ozarchuk <john_ozarchuk@goodyear.com> Matt Variola <matthew_variola@goodyear.com>',\n",
       " ' Bob Gulcin <robert_gulcin@goodyear.com> Lena Schulze <jessicaverena_schulze@goodyear.com>',\n",
       " ' Avinash Varadapura Ananda Reddy <avinash_reddy@goodyear.com> Rory Johnston <rory_johnston@goodyear.com>',\n",
       " ' Louie Gigliotti <louie_gigliotti@goodyear.com> Lena Schulze <jessicaverena_schulze@goodyear.com>',\n",
       " ' Matt Variola <matthew_variola@goodyear.com> Barb Callihan <barbara.callihan@goodyear.com>',\n",
       " ' Rachael Keck <rachael_keck@goodyear.com> George Marino <george_marino@goodyear.com>',\n",
       " ' Kevin Smith <kevin.smith@goodyear.com> Kris Wagner <kris_wagner@goodyear.com>',\n",
       " ' Chloe Russell <chloe_russell@goodyear.com> Janice Sudia <janice_sudia@goodyear.com>',\n",
       " ' Kris Wagner <kris_wagner@goodyear.com> Christy Lough <christiana_lough@goodyear.com>',\n",
       " ' Chad Lauthers <chad_lauthers@goodyear.com> Simone Gabbianelli <simone.gabbianelli@goodyear.com>',\n",
       " ' Dakota Duncan <dakota_duncan@goodyear.com> Kathy Thomas <kthomas@goodyear.com>',\n",
       " ' Christy Lough <christiana_lough@goodyear.com> Simone Gabbianelli <simone.gabbianelli@goodyear.com>',\n",
       " ' Yuanlong Zhang <yuanlong_zhang@goodyear.com> Rory Johnston <rory_johnston@goodyear.com>',\n",
       " ' Steve Tisdale <steve_tisdale@goodyear.com> John Ozarchuk <john_ozarchuk@goodyear.com>',\n",
       " ' Barb Callihan <barbara.callihan@goodyear.com> George Marino <george_marino@goodyear.com>',\n",
       " ' Simone Gabbianelli <simone.gabbianelli@goodyear.com> Danielle Warren <danielle_warren@goodyear.com>',\n",
       " ' Dan Helmick <dhelmick@goodyear.com> Bob Gulcin <robert_gulcin@goodyear.com>',\n",
       " ' Bob Gulcin <robert_gulcin@goodyear.com> Matt Variola <matthew_variola@goodyear.com>',\n",
       " ' Joseph Sadaka <joseph_sadaka@goodyear.com> Rachael Keck <rachael_keck@goodyear.com>',\n",
       " ' Nerissa Hao <nerissa_hao@goodyear.com> Kathy Thomas <kthomas@goodyear.com>',\n",
       " ' Simone Gabbianelli <simone.gabbianelli@goodyear.com> Matt Variola <matthew_variola@goodyear.com>',\n",
       " ' George Marino <george_marino@goodyear.com> Andy Gerzina <andrew_gerzina@goodyear.com>',\n",
       " ' Chris Bochkor <chris_bochkor@goodyear.com> Taissa Abdalla Filgueiras de Sousa <taissa_abdallafilgueirasdesousa@goodyear.com>',\n",
       " ' Andy Gerzina <andrew_gerzina@goodyear.com> Barb Mays <barb_mays@goodyear.com>',\n",
       " ' Ruth Dunlap <ruth_dunlap@goodyear.com> Ruth Dunlap <ruth_dunlap@goodyear.com>',\n",
       " ' Chad Lauthers <chad_lauthers@goodyear.com> Jonathan Lindsey <jonathan_lindsey@goodyear.com>',\n",
       " ' Joseph Sadaka <joseph_sadaka@goodyear.com> George Marino <george_marino@goodyear.com>',\n",
       " ' Jonathan Lindsey <jonathan_lindsey@goodyear.com> Adam Birdsall <adam_birdsall@goodyear.com>',\n",
       " ' Ron Webster <ron_webster@goodyear.com> joragsda@amazon.com',\n",
       " ' Chad Lauthers <chad_lauthers@goodyear.com> Nerissa Hao <nerissa_hao@goodyear.com>',\n",
       " ' Lena Schulze <jessicaverena_schulze@goodyear.com> Taissa Abdalla Filgueiras de Sousa <taissa_abdallafilgueirasdesousa@goodyear.com>',\n",
       " ' Danielle Warren <danielle_warren@goodyear.com> John Ozarchuk <john_ozarchuk@goodyear.com>',\n",
       " ' Rachael Keck <rachael_keck@goodyear.com> Christy Lough <christiana_lough@goodyear.com>',\n",
       " ' John Ozarchuk <john_ozarchuk@goodyear.com> Ron Webster <ron_webster@goodyear.com>',\n",
       " ' Fred N Nelson <fred_nelson@goodyear.com> Andy Gerzina <andrew_gerzina@goodyear.com>',\n",
       " ' Matt Variola <matthew_variola@goodyear.com> Barb Mays <barb_mays@goodyear.com>',\n",
       " ' Nerissa Hao <nerissa_hao@goodyear.com> Smit Modi <smit_modi@goodyear.com>',\n",
       " ' Joseph Sadaka <joseph_sadaka@goodyear.com> Joseph Sadaka <joseph_sadaka@goodyear.com>',\n",
       " 'Max Salviejo <maximo_salviejo@goodyear.com> Kevin Smith <kevin.smith@goodyear.com>',\n",
       " ' joragsda@amazon.com Chris Bochkor <chris_bochkor@goodyear.com>',\n",
       " ' John Wright <john_wright@goodyear.com> Kris Wagner <kris_wagner@goodyear.com>',\n",
       " 'Max Salviejo <maximo_salviejo@goodyear.com> Rory Johnston <rory_johnston@goodyear.com>',\n",
       " ' Kris Wagner <kris_wagner@goodyear.com> Barb Callihan <barbara.callihan@goodyear.com>',\n",
       " ' Adam Birdsall <adam_birdsall@goodyear.com> Chris Bochkor <chris_bochkor@goodyear.com>',\n",
       " ' Chad Lauthers <chad_lauthers@goodyear.com> Joseph Sadaka <joseph_sadaka@goodyear.com>',\n",
       " ' Chad Lauthers <chad_lauthers@goodyear.com> Chloe Russell <chloe_russell@goodyear.com>',\n",
       " ' George Marino <george_marino@goodyear.com> George Marino <george_marino@goodyear.com>',\n",
       " ' Yuanlong Zhang <yuanlong_zhang@goodyear.com>',\n",
       " ' Kevin Smith <kevin.smith@goodyear.com> Nerissa Hao <nerissa_hao@goodyear.com>',\n",
       " ' Matthew Madaj <matthew_madaj@goodyear.com> Wesley Clark <wesley_clark@goodyear.com>',\n",
       " ' Yuanlong Zhang <yuanlong_zhang@goodyear.com> John Wright <john_wright@goodyear.com>',\n",
       " ' Christy Lough <christiana_lough@goodyear.com> Christy Lough <christiana_lough@goodyear.com>',\n",
       " ' Avinash Varadapura Ananda Reddy <avinash_reddy@goodyear.com> Nerissa Hao <nerissa_hao@goodyear.com>',\n",
       " ' Joseph Sadaka <joseph_sadaka@goodyear.com> Kris Wagner <kris_wagner@goodyear.com>',\n",
       " ' Wesley Clark <wesley_clark@goodyear.com> Simone Gabbianelli <simone.gabbianelli@goodyear.com>',\n",
       " ' Janice Sudia <janice_sudia@goodyear.com> Janice Sudia <janice_sudia@goodyear.com>',\n",
       " ' Kris Wagner <kris_wagner@goodyear.com> Danielle Warren <danielle_warren@goodyear.com>',\n",
       " ' joragsda@amazon.com Bob Gulcin <robert_gulcin@goodyear.com>',\n",
       " ' George Marino <george_marino@goodyear.com> Kris Wagner <kris_wagner@goodyear.com>',\n",
       " ' Matthew Madaj <matthew_madaj@goodyear.com> Rory Johnston <rory_johnston@goodyear.com>',\n",
       " ' Matt Variola <matthew_variola@goodyear.com> Dakota Duncan <dakota_duncan@goodyear.com>',\n",
       " ' Christy Lough <christiana_lough@goodyear.com> Lena Schulze <jessicaverena_schulze@goodyear.com>',\n",
       " ' Avinash Varadapura Ananda Reddy <avinash_reddy@goodyear.com> Janice Sudia <janice_sudia@goodyear.com>',\n",
       " ' Simone Gabbianelli <simone.gabbianelli@goodyear.com> Chad Lauthers <chad_lauthers@goodyear.com>',\n",
       " ' Ron Webster <ron_webster@goodyear.com> John Wright <john_wright@goodyear.com>',\n",
       " ' Steve Tisdale <steve_tisdale@goodyear.com> Taissa Abdalla Filgueiras de Sousa <taissa_abdallafilgueirasdesousa@goodyear.com>',\n",
       " ' Smit Modi <smit_modi@goodyear.com> Steve Tisdale <steve_tisdale@goodyear.com>',\n",
       " ' Dan Helmick <dhelmick@goodyear.com> Taissa Abdalla Filgueiras de Sousa <taissa_abdallafilgueirasdesousa@goodyear.com>',\n",
       " ' Rachael Keck <rachael_keck@goodyear.com>',\n",
       " ' Janice Sudia <janice_sudia@goodyear.com>',\n",
       " ' Kevin Smith <kevin.smith@goodyear.com> Smit Modi <smit_modi@goodyear.com>',\n",
       " ' Chad Lauthers <chad_lauthers@goodyear.com> Barb Callihan <barbara.callihan@goodyear.com>',\n",
       " ' Chad Lauthers <chad_lauthers@goodyear.com> Fred N Nelson <fred_nelson@goodyear.com>',\n",
       " ' Smit Modi <smit_modi@goodyear.com> Jonathan Lindsey <jonathan_lindsey@goodyear.com>',\n",
       " ' Smit Modi <smit_modi@goodyear.com> Rory Johnston <rory_johnston@goodyear.com>',\n",
       " ' Smit Modi <smit_modi@goodyear.com>Max Salviejo <maximo_salviejo@goodyear.com>',\n",
       " ' Dakota Duncan <dakota_duncan@goodyear.com> Matthew Madaj <matthew_madaj@goodyear.com>',\n",
       " ' Barb Callihan <barbara.callihan@goodyear.com> Bob Gulcin <robert_gulcin@goodyear.com>',\n",
       " ' Adam Birdsall <adam_birdsall@goodyear.com> Chloe Russell <chloe_russell@goodyear.com>',\n",
       " ' Joseph Sadaka <joseph_sadaka@goodyear.com> John Ozarchuk <john_ozarchuk@goodyear.com>',\n",
       " ' Louie Gigliotti <louie_gigliotti@goodyear.com>',\n",
       " ' Rory Johnston <rory_johnston@goodyear.com> Christy Lough <christiana_lough@goodyear.com>',\n",
       " ' Ruth Dunlap <ruth_dunlap@goodyear.com> John Wright <john_wright@goodyear.com>',\n",
       " ' Danielle Warren <danielle_warren@goodyear.com> Barb Mays <barb_mays@goodyear.com>',\n",
       " ' George Marino <george_marino@goodyear.com> John Wright <john_wright@goodyear.com>',\n",
       " ' Barb Mays <barb_mays@goodyear.com> Ron Webster <ron_webster@goodyear.com>',\n",
       " ' joragsda@amazon.com Matthew Madaj <matthew_madaj@goodyear.com>',\n",
       " ' Michael Rife <michael_rife@goodyear.com> Chris Bochkor <chris_bochkor@goodyear.com>',\n",
       " ' Ron Webster <ron_webster@goodyear.com> Matthew Madaj <matthew_madaj@goodyear.com>',\n",
       " ' Taissa Abdalla Filgueiras de Sousa <taissa_abdallafilgueirasdesousa@goodyear.com> joragsda@amazon.com',\n",
       " ' Louie Gigliotti <louie_gigliotti@goodyear.com> Kris Wagner <kris_wagner@goodyear.com>',\n",
       " ' Avinash Varadapura Ananda Reddy <avinash_reddy@goodyear.com> Steve Tisdale <steve_tisdale@goodyear.com>',\n",
       " 'Max Salviejo <maximo_salviejo@goodyear.com> Dakota Duncan <dakota_duncan@goodyear.com>',\n",
       " ' George Marino <george_marino@goodyear.com> Joseph Sadaka <joseph_sadaka@goodyear.com>',\n",
       " ' Barb Mays <barb_mays@goodyear.com> Steve Tisdale <steve_tisdale@goodyear.com>',\n",
       " ' Christy Lough <christiana_lough@goodyear.com> Smit Modi <smit_modi@goodyear.com>',\n",
       " ' Lena Schulze <jessicaverena_schulze@goodyear.com> Nerissa Hao <nerissa_hao@goodyear.com>',\n",
       " ' Jonathan Lindsey <jonathan_lindsey@goodyear.com> John Wright <john_wright@goodyear.com>',\n",
       " ' Kevin Smith <kevin.smith@goodyear.com> Anna Fischer <anna_fischer@goodyear.com>',\n",
       " ' Matthew Madaj <matthew_madaj@goodyear.com> Barb Mays <barb_mays@goodyear.com>',\n",
       " ' Barb Callihan <barbara.callihan@goodyear.com> Janice Sudia <janice_sudia@goodyear.com>',\n",
       " ' Ruth Dunlap <ruth_dunlap@goodyear.com> Janice Sudia <janice_sudia@goodyear.com>',\n",
       " ' Michael Rife <michael_rife@goodyear.com>Max Salviejo <maximo_salviejo@goodyear.com>',\n",
       " ' Dakota Duncan <dakota_duncan@goodyear.com> Chad Lauthers <chad_lauthers@goodyear.com>',\n",
       " ' Adam Birdsall <adam_birdsall@goodyear.com> Barb Callihan <barbara.callihan@goodyear.com>',\n",
       " ' John Wright <john_wright@goodyear.com> Adam Birdsall <adam_birdsall@goodyear.com>',\n",
       " ' Joseph Sadaka <joseph_sadaka@goodyear.com> Ruth Dunlap <ruth_dunlap@goodyear.com>',\n",
       " ' Dan Helmick <dhelmick@goodyear.com> Dan Helmick <dhelmick@goodyear.com>',\n",
       " ' Nerissa Hao <nerissa_hao@goodyear.com> Matthew Madaj <matthew_madaj@goodyear.com>',\n",
       " ' Simone Gabbianelli <simone.gabbianelli@goodyear.com> Kris Wagner <kris_wagner@goodyear.com>',\n",
       " ' Kevin Smith <kevin.smith@goodyear.com> Kevin Smith <kevin.smith@goodyear.com>',\n",
       " ' joragsda@amazon.com Ruth Dunlap <ruth_dunlap@goodyear.com>',\n",
       " ' Danielle Warren <danielle_warren@goodyear.com> Kathy Thomas <kthomas@goodyear.com>',\n",
       " ' joragsda@amazon.com Lena Schulze <jessicaverena_schulze@goodyear.com>',\n",
       " ' Christy Lough <christiana_lough@goodyear.com> Taissa Abdalla Filgueiras de Sousa <taissa_abdallafilgueirasdesousa@goodyear.com>',\n",
       " ' Andy Gerzina <andrew_gerzina@goodyear.com> John Wright <john_wright@goodyear.com>',\n",
       " ' John Ozarchuk <john_ozarchuk@goodyear.com>',\n",
       " ' Bob Gulcin <robert_gulcin@goodyear.com> Bob Gulcin <robert_gulcin@goodyear.com>',\n",
       " ' John Ozarchuk <john_ozarchuk@goodyear.com> Smit Modi <smit_modi@goodyear.com>',\n",
       " ' Taissa Abdalla Filgueiras de Sousa <taissa_abdallafilgueirasdesousa@goodyear.com> Rory Johnston <rory_johnston@goodyear.com>',\n",
       " 'Max Salviejo <maximo_salviejo@goodyear.com> Bob Gulcin <robert_gulcin@goodyear.com>',\n",
       " ' Barb Callihan <barbara.callihan@goodyear.com>',\n",
       " ' Ron Webster <ron_webster@goodyear.com> Nerissa Hao <nerissa_hao@goodyear.com>',\n",
       " ' Janice Sudia <janice_sudia@goodyear.com> Wesley Clark <wesley_clark@goodyear.com>',\n",
       " ' Dan Helmick <dhelmick@goodyear.com> Jonathan Lindsey <jonathan_lindsey@goodyear.com>',\n",
       " ' joragsda@amazon.com Yuanlong Zhang <yuanlong_zhang@goodyear.com>',\n",
       " ' Rachael Keck <rachael_keck@goodyear.com>Max Salviejo <maximo_salviejo@goodyear.com>',\n",
       " ' joragsda@amazon.com Janice Sudia <janice_sudia@goodyear.com>',\n",
       " ' Janice Sudia <janice_sudia@goodyear.com> Christy Lough <christiana_lough@goodyear.com>',\n",
       " ' George Marino <george_marino@goodyear.com> Jonathan Lindsey <jonathan_lindsey@goodyear.com>',\n",
       " ' Chad Lauthers <chad_lauthers@goodyear.com> Kevin Smith <kevin.smith@goodyear.com>',\n",
       " ' Simone Gabbianelli <simone.gabbianelli@goodyear.com> Wesley Clark <wesley_clark@goodyear.com>',\n",
       " 'Max Salviejo <maximo_salviejo@goodyear.com> Simone Gabbianelli <simone.gabbianelli@goodyear.com>',\n",
       " ' Yuanlong Zhang <yuanlong_zhang@goodyear.com> Chad Lauthers <chad_lauthers@goodyear.com>',\n",
       " ' Wesley Clark <wesley_clark@goodyear.com> Rachael Keck <rachael_keck@goodyear.com>',\n",
       " ' Ruth Dunlap <ruth_dunlap@goodyear.com> Joseph Sadaka <joseph_sadaka@goodyear.com>',\n",
       " ' joragsda@amazon.com Dakota Duncan <dakota_duncan@goodyear.com>',\n",
       " ' Kris Wagner <kris_wagner@goodyear.com> Matthew Madaj <matthew_madaj@goodyear.com>',\n",
       " ' Adam Birdsall <adam_birdsall@goodyear.com> Nerissa Hao <nerissa_hao@goodyear.com>',\n",
       " ' Christy Lough <christiana_lough@goodyear.com> Dan Helmick <dhelmick@goodyear.com>',\n",
       " ' Chloe Russell <chloe_russell@goodyear.com> Ron Webster <ron_webster@goodyear.com>',\n",
       " ' Rory Johnston <rory_johnston@goodyear.com> Louie Gigliotti <louie_gigliotti@goodyear.com>',\n",
       " ' Andy Gerzina <andrew_gerzina@goodyear.com> Taissa Abdalla Filgueiras de Sousa <taissa_abdallafilgueirasdesousa@goodyear.com>',\n",
       " ' Chad Lauthers <chad_lauthers@goodyear.com> Steve Tisdale <steve_tisdale@goodyear.com>',\n",
       " ' Adam Birdsall <adam_birdsall@goodyear.com> Smit Modi <smit_modi@goodyear.com>',\n",
       " ' Chad Lauthers <chad_lauthers@goodyear.com> Matthew Madaj <matthew_madaj@goodyear.com>',\n",
       " ' Kevin Smith <kevin.smith@goodyear.com> Rory Johnston <rory_johnston@goodyear.com>',\n",
       " ' Danielle Warren <danielle_warren@goodyear.com> John Wright <john_wright@goodyear.com>',\n",
       " ' Ruth Dunlap <ruth_dunlap@goodyear.com> Barb Callihan <barbara.callihan@goodyear.com>',\n",
       " ' Matt Variola <matthew_variola@goodyear.com> Lena Schulze <jessicaverena_schulze@goodyear.com>',\n",
       " ' Wesley Clark <wesley_clark@goodyear.com> Kevin Smith <kevin.smith@goodyear.com>',\n",
       " ' Jonathan Lindsey <jonathan_lindsey@goodyear.com> Janice Sudia <janice_sudia@goodyear.com>',\n",
       " ' Wesley Clark <wesley_clark@goodyear.com>Max Salviejo <maximo_salviejo@goodyear.com>',\n",
       " ' Michael Rife <michael_rife@goodyear.com> Kris Wagner <kris_wagner@goodyear.com>',\n",
       " ' Chloe Russell <chloe_russell@goodyear.com> Taissa Abdalla Filgueiras de Sousa <taissa_abdallafilgueirasdesousa@goodyear.com>',\n",
       " ' Dakota Duncan <dakota_duncan@goodyear.com> John Wright <john_wright@goodyear.com>',\n",
       " ' Matt Variola <matthew_variola@goodyear.com> Chris Bochkor <chris_bochkor@goodyear.com>',\n",
       " ' Taissa Abdalla Filgueiras de Sousa <taissa_abdallafilgueirasdesousa@goodyear.com> Kris Wagner <kris_wagner@goodyear.com>',\n",
       " ' Danielle Warren <danielle_warren@goodyear.com> Nerissa Hao <nerissa_hao@goodyear.com>',\n",
       " ' Barb Mays <barb_mays@goodyear.com> Simone Gabbianelli <simone.gabbianelli@goodyear.com>',\n",
       " ' Smit Modi <smit_modi@goodyear.com> Bob Gulcin <robert_gulcin@goodyear.com>',\n",
       " ' Yuanlong Zhang <yuanlong_zhang@goodyear.com> George Marino <george_marino@goodyear.com>',\n",
       " 'Max Salviejo <maximo_salviejo@goodyear.com> Nerissa Hao <nerissa_hao@goodyear.com>',\n",
       " ' Adam Birdsall <adam_birdsall@goodyear.com> Joseph Sadaka <joseph_sadaka@goodyear.com>',\n",
       " ' Jonathan Lindsey <jonathan_lindsey@goodyear.com> Kris Wagner <kris_wagner@goodyear.com>',\n",
       " ' Chris Bochkor <chris_bochkor@goodyear.com> Kevin Smith <kevin.smith@goodyear.com>',\n",
       " ' Ruth Dunlap <ruth_dunlap@goodyear.com> Matt Variola <matthew_variola@goodyear.com>',\n",
       " ' Kevin Smith <kevin.smith@goodyear.com> Steve Tisdale <steve_tisdale@goodyear.com>',\n",
       " ' Christy Lough <christiana_lough@goodyear.com> Kris Wagner <kris_wagner@goodyear.com>',\n",
       " 'Max Salviejo <maximo_salviejo@goodyear.com> Dan Helmick <dhelmick@goodyear.com>',\n",
       " ' Avinash Varadapura Ananda Reddy <avinash_reddy@goodyear.com> Dan Helmick <dhelmick@goodyear.com>',\n",
       " ' Kathy Thomas <kthomas@goodyear.com> Chad Lauthers <chad_lauthers@goodyear.com>',\n",
       " ' Danielle Warren <danielle_warren@goodyear.com> Chris Bochkor <chris_bochkor@goodyear.com>',\n",
       " ' Yuanlong Zhang <yuanlong_zhang@goodyear.com> Ruth Dunlap <ruth_dunlap@goodyear.com>',\n",
       " ' Rachael Keck <rachael_keck@goodyear.com> Chris Bochkor <chris_bochkor@goodyear.com>',\n",
       " ' Matt Variola <matthew_variola@goodyear.com> Taissa Abdalla Filgueiras de Sousa <taissa_abdallafilgueirasdesousa@goodyear.com>',\n",
       " ' Lena Schulze <jessicaverena_schulze@goodyear.com> George Marino <george_marino@goodyear.com>',\n",
       " ' Lena Schulze <jessicaverena_schulze@goodyear.com> Chris Bochkor <chris_bochkor@goodyear.com>',\n",
       " ' Louie Gigliotti <louie_gigliotti@goodyear.com> Dakota Duncan <dakota_duncan@goodyear.com>',\n",
       " ' Barb Callihan <barbara.callihan@goodyear.com> Barb Callihan <barbara.callihan@goodyear.com>',\n",
       " ' Barb Mays <barb_mays@goodyear.com> Chloe Russell <chloe_russell@goodyear.com>',\n",
       " ' Chad Lauthers <chad_lauthers@goodyear.com> Rory Johnston <rory_johnston@goodyear.com>',\n",
       " ' Dakota Duncan <dakota_duncan@goodyear.com> Smit Modi <smit_modi@goodyear.com>',\n",
       " ' Rachael Keck <rachael_keck@goodyear.com> Yuanlong Zhang <yuanlong_zhang@goodyear.com>',\n",
       " ' Christy Lough <christiana_lough@goodyear.com> Chad Lauthers <chad_lauthers@goodyear.com>',\n",
       " ' Smit Modi <smit_modi@goodyear.com> Joseph Sadaka <joseph_sadaka@goodyear.com>',\n",
       " ' Matt Variola <matthew_variola@goodyear.com> Christy Lough <christiana_lough@goodyear.com>',\n",
       " ' Kevin Smith <kevin.smith@goodyear.com> Fred N Nelson <fred_nelson@goodyear.com>',\n",
       " ' Nerissa Hao <nerissa_hao@goodyear.com> Taissa Abdalla Filgueiras de Sousa <taissa_abdallafilgueirasdesousa@goodyear.com>',\n",
       " ' Kevin Smith <kevin.smith@goodyear.com> Matthew Madaj <matthew_madaj@goodyear.com>',\n",
       " ' Adam Birdsall <adam_birdsall@goodyear.com> John Ozarchuk <john_ozarchuk@goodyear.com>',\n",
       " ' Dakota Duncan <dakota_duncan@goodyear.com> Adam Birdsall <adam_birdsall@goodyear.com>',\n",
       " ' Ruth Dunlap <ruth_dunlap@goodyear.com> Jonathan Lindsey <jonathan_lindsey@goodyear.com>',\n",
       " ' Louie Gigliotti <louie_gigliotti@goodyear.com> George Marino <george_marino@goodyear.com>',\n",
       " ' Ron Webster <ron_webster@goodyear.com> Matt Variola <matthew_variola@goodyear.com>',\n",
       " ' Dan Helmick <dhelmick@goodyear.com> Kevin Smith <kevin.smith@goodyear.com>',\n",
       " ' Kathy Thomas <kthomas@goodyear.com> Barb Callihan <barbara.callihan@goodyear.com>',\n",
       " ' Kevin Smith <kevin.smith@goodyear.com> Matt Variola <matthew_variola@goodyear.com>',\n",
       " ' Chloe Russell <chloe_russell@goodyear.com> Dan Helmick <dhelmick@goodyear.com>',\n",
       " ' Lena Schulze <jessicaverena_schulze@goodyear.com> Lena Schulze <jessicaverena_schulze@goodyear.com>',\n",
       " ' Wesley Clark <wesley_clark@goodyear.com> Louie Gigliotti <louie_gigliotti@goodyear.com>',\n",
       " ' Taissa Abdalla Filgueiras de Sousa <taissa_abdallafilgueirasdesousa@goodyear.com> Taissa Abdalla Filgueiras de Sousa <taissa_abdallafilgueirasdesousa@goodyear.com>',\n",
       " ' Nerissa Hao <nerissa_hao@goodyear.com> Rachael Keck <rachael_keck@goodyear.com>',\n",
       " ' Nerissa Hao <nerissa_hao@goodyear.com> Dan Helmick <dhelmick@goodyear.com>',\n",
       " ' Lena Schulze <jessicaverena_schulze@goodyear.com> Ruth Dunlap <ruth_dunlap@goodyear.com>',\n",
       " ' Nerissa Hao <nerissa_hao@goodyear.com> Janice Sudia <janice_sudia@goodyear.com>',\n",
       " ' George Marino <george_marino@goodyear.com> Adam Birdsall <adam_birdsall@goodyear.com>',\n",
       " ' Chad Lauthers <chad_lauthers@goodyear.com> John Wright <john_wright@goodyear.com>',\n",
       " ' Dan Helmick <dhelmick@goodyear.com> Barb Callihan <barbara.callihan@goodyear.com>',\n",
       " ' Jonathan Lindsey <jonathan_lindsey@goodyear.com> Fred N Nelson <fred_nelson@goodyear.com>',\n",
       " ' Chris Bochkor <chris_bochkor@goodyear.com> Matt Variola <matthew_variola@goodyear.com>',\n",
       " ' Wesley Clark <wesley_clark@goodyear.com> Anna Fischer <anna_fischer@goodyear.com>',\n",
       " ' Nerissa Hao <nerissa_hao@goodyear.com> Barb Callihan <barbara.callihan@goodyear.com>',\n",
       " ' Yuanlong Zhang <yuanlong_zhang@goodyear.com> Matthew Madaj <matthew_madaj@goodyear.com>',\n",
       " ' Simone Gabbianelli <simone.gabbianelli@goodyear.com> John Ozarchuk <john_ozarchuk@goodyear.com>',\n",
       " ' Ron Webster <ron_webster@goodyear.com> Joseph Sadaka <joseph_sadaka@goodyear.com>',\n",
       " ' Dan Helmick <dhelmick@goodyear.com> Andy Gerzina <andrew_gerzina@goodyear.com>',\n",
       " ' Matt Variola <matthew_variola@goodyear.com> Matt Variola <matthew_variola@goodyear.com>',\n",
       " ' Taissa Abdalla Filgueiras de Sousa <taissa_abdallafilgueirasdesousa@goodyear.com> Smit Modi <smit_modi@goodyear.com>',\n",
       " ' Barb Mays <barb_mays@goodyear.com> Lena Schulze <jessicaverena_schulze@goodyear.com>',\n",
       " ' George Marino <george_marino@goodyear.com> Janice Sudia <janice_sudia@goodyear.com>',\n",
       " ' Simone Gabbianelli <simone.gabbianelli@goodyear.com> Adam Birdsall <adam_birdsall@goodyear.com>',\n",
       " ' Andy Gerzina <andrew_gerzina@goodyear.com> Yuanlong Zhang <yuanlong_zhang@goodyear.com>',\n",
       " ' Barb Mays <barb_mays@goodyear.com> Janice Sudia <janice_sudia@goodyear.com>',\n",
       " ' Ron Webster <ron_webster@goodyear.com> Ruth Dunlap <ruth_dunlap@goodyear.com>',\n",
       " ' John Wright <john_wright@goodyear.com> Janice Sudia <janice_sudia@goodyear.com>',\n",
       " ' Simone Gabbianelli <simone.gabbianelli@goodyear.com> Dakota Duncan <dakota_duncan@goodyear.com>',\n",
       " ' Chad Lauthers <chad_lauthers@goodyear.com> Chris Bochkor <chris_bochkor@goodyear.com>',\n",
       " ' Nerissa Hao <nerissa_hao@goodyear.com> Dakota Duncan <dakota_duncan@goodyear.com>',\n",
       " ' Ruth Dunlap <ruth_dunlap@goodyear.com> Taissa Abdalla Filgueiras de Sousa <taissa_abdallafilgueirasdesousa@goodyear.com>',\n",
       " ' Ron Webster <ron_webster@goodyear.com> Bob Gulcin <robert_gulcin@goodyear.com>',\n",
       " ' Michael Rife <michael_rife@goodyear.com> Rory Johnston <rory_johnston@goodyear.com>',\n",
       " ' Michael Rife <michael_rife@goodyear.com> Kevin Smith <kevin.smith@goodyear.com>',\n",
       " ' Michael Rife <michael_rife@goodyear.com> Louie Gigliotti <louie_gigliotti@goodyear.com>',\n",
       " ' Christy Lough <christiana_lough@goodyear.com> Ron Webster <ron_webster@goodyear.com>',\n",
       " ' George Marino <george_marino@goodyear.com> Dan Helmick <dhelmick@goodyear.com>',\n",
       " ' John Wright <john_wright@goodyear.com> Yuanlong Zhang <yuanlong_zhang@goodyear.com>',\n",
       " ' Yuanlong Zhang <yuanlong_zhang@goodyear.com> Ron Webster <ron_webster@goodyear.com>',\n",
       " ' Andy Gerzina <andrew_gerzina@goodyear.com> Chloe Russell <chloe_russell@goodyear.com>',\n",
       " ' Andy Gerzina <andrew_gerzina@goodyear.com>Max Salviejo <maximo_salviejo@goodyear.com>',\n",
       " ' Matthew Madaj <matthew_madaj@goodyear.com>Max Salviejo <maximo_salviejo@goodyear.com>',\n",
       " ' Matt Variola <matthew_variola@goodyear.com> Rachael Keck <rachael_keck@goodyear.com>',\n",
       " ' Ron Webster <ron_webster@goodyear.com> Anna Fischer <anna_fischer@goodyear.com>',\n",
       " ' Dakota Duncan <dakota_duncan@goodyear.com> Dakota Duncan <dakota_duncan@goodyear.com>',\n",
       " ' Michael Rife <michael_rife@goodyear.com> Jonathan Lindsey <jonathan_lindsey@goodyear.com>',\n",
       " ' Rachael Keck <rachael_keck@goodyear.com> Adam Birdsall <adam_birdsall@goodyear.com>',\n",
       " ' John Ozarchuk <john_ozarchuk@goodyear.com> Dakota Duncan <dakota_duncan@goodyear.com>',\n",
       " ' joragsda@amazon.com Rachael Keck <rachael_keck@goodyear.com>',\n",
       " ' Adam Birdsall <adam_birdsall@goodyear.com> Rachael Keck <rachael_keck@goodyear.com>',\n",
       " ' Jonathan Lindsey <jonathan_lindsey@goodyear.com> Smit Modi <smit_modi@goodyear.com>',\n",
       " ' Matthew Madaj <matthew_madaj@goodyear.com> Dan Helmick <dhelmick@goodyear.com>',\n",
       " ' Rachael Keck <rachael_keck@goodyear.com> Dan Helmick <dhelmick@goodyear.com>',\n",
       " ' Barb Mays <barb_mays@goodyear.com> joragsda@amazon.com',\n",
       " ' Lena Schulze <jessicaverena_schulze@goodyear.com> Barb Mays <barb_mays@goodyear.com>',\n",
       " ' Adam Birdsall <adam_birdsall@goodyear.com> Steve Tisdale <steve_tisdale@goodyear.com>',\n",
       " ' joragsda@amazon.com Dan Helmick <dhelmick@goodyear.com>',\n",
       " ' Joseph Sadaka <joseph_sadaka@goodyear.com> Dakota Duncan <dakota_duncan@goodyear.com>',\n",
       " ' Fred N Nelson <fred_nelson@goodyear.com> Barb Mays <barb_mays@goodyear.com>',\n",
       " ' Kris Wagner <kris_wagner@goodyear.com>Max Salviejo <maximo_salviejo@goodyear.com>',\n",
       " ' Andy Gerzina <andrew_gerzina@goodyear.com> Kathy Thomas <kthomas@goodyear.com>',\n",
       " ' Barb Callihan <barbara.callihan@goodyear.com> Smit Modi <smit_modi@goodyear.com>',\n",
       " ' Chad Lauthers <chad_lauthers@goodyear.com> Janice Sudia <janice_sudia@goodyear.com>',\n",
       " ' Chad Lauthers <chad_lauthers@goodyear.com> Kathy Thomas <kthomas@goodyear.com>',\n",
       " 'Max Salviejo <maximo_salviejo@goodyear.com> Taissa Abdalla Filgueiras de Sousa <taissa_abdallafilgueirasdesousa@goodyear.com>',\n",
       " ' John Ozarchuk <john_ozarchuk@goodyear.com> joragsda@amazon.com',\n",
       " ' Louie Gigliotti <louie_gigliotti@goodyear.com> Jonathan Lindsey <jonathan_lindsey@goodyear.com>',\n",
       " ' Avinash Varadapura Ananda Reddy <avinash_reddy@goodyear.com> Taissa Abdalla Filgueiras de Sousa <taissa_abdallafilgueirasdesousa@goodyear.com>',\n",
       " ' Avinash Varadapura Ananda Reddy <avinash_reddy@goodyear.com> Ruth Dunlap <ruth_dunlap@goodyear.com>',\n",
       " ' Danielle Warren <danielle_warren@goodyear.com> Wesley Clark <wesley_clark@goodyear.com>',\n",
       " ' Rachael Keck <rachael_keck@goodyear.com> Danielle Warren <danielle_warren@goodyear.com>',\n",
       " ' George Marino <george_marino@goodyear.com> Yuanlong Zhang <yuanlong_zhang@goodyear.com>',\n",
       " ' Kathy Thomas <kthomas@goodyear.com> Rachael Keck <rachael_keck@goodyear.com>',\n",
       " ' Wesley Clark <wesley_clark@goodyear.com> Joseph Sadaka <joseph_sadaka@goodyear.com>',\n",
       " ' Fred N Nelson <fred_nelson@goodyear.com> John Wright <john_wright@goodyear.com>',\n",
       " ' Janice Sudia <janice_sudia@goodyear.com> Kris Wagner <kris_wagner@goodyear.com>',\n",
       " ' Kathy Thomas <kthomas@goodyear.com> Yuanlong Zhang <yuanlong_zhang@goodyear.com>',\n",
       " ' Rory Johnston <rory_johnston@goodyear.com> Jonathan Lindsey <jonathan_lindsey@goodyear.com>',\n",
       " ' Bob Gulcin <robert_gulcin@goodyear.com> Adam Birdsall <adam_birdsall@goodyear.com>',\n",
       " ' Louie Gigliotti <louie_gigliotti@goodyear.com> joragsda@amazon.com',\n",
       " ' Dakota Duncan <dakota_duncan@goodyear.com>Max Salviejo <maximo_salviejo@goodyear.com>',\n",
       " ' Adam Birdsall <adam_birdsall@goodyear.com> George Marino <george_marino@goodyear.com>',\n",
       " ' Barb Mays <barb_mays@goodyear.com> Rory Johnston <rory_johnston@goodyear.com>',\n",
       " ' Adam Birdsall <adam_birdsall@goodyear.com> Anna Fischer <anna_fischer@goodyear.com>',\n",
       " ' Christy Lough <christiana_lough@goodyear.com> Chloe Russell <chloe_russell@goodyear.com>',\n",
       " ' George Marino <george_marino@goodyear.com> Wesley Clark <wesley_clark@goodyear.com>',\n",
       " ' Janice Sudia <janice_sudia@goodyear.com> Andy Gerzina <andrew_gerzina@goodyear.com>',\n",
       " ' Janice Sudia <janice_sudia@goodyear.com> Taissa Abdalla Filgueiras de Sousa <taissa_abdallafilgueirasdesousa@goodyear.com>',\n",
       " ' Bob Gulcin <robert_gulcin@goodyear.com> Kevin Smith <kevin.smith@goodyear.com>',\n",
       " ' Avinash Varadapura Ananda Reddy <avinash_reddy@goodyear.com> Rachael Keck <rachael_keck@goodyear.com>',\n",
       " ' Steve Tisdale <steve_tisdale@goodyear.com> Kevin Smith <kevin.smith@goodyear.com>',\n",
       " ' Adam Birdsall <adam_birdsall@goodyear.com> Rory Johnston <rory_johnston@goodyear.com>',\n",
       " ' Rachael Keck <rachael_keck@goodyear.com> Nerissa Hao <nerissa_hao@goodyear.com>',\n",
       " ' John Wright <john_wright@goodyear.com>Max Salviejo <maximo_salviejo@goodyear.com>',\n",
       " ' Kevin Smith <kevin.smith@goodyear.com> Wesley Clark <wesley_clark@goodyear.com>',\n",
       " ' Danielle Warren <danielle_warren@goodyear.com> Simone Gabbianelli <simone.gabbianelli@goodyear.com>',\n",
       " ' Simone Gabbianelli <simone.gabbianelli@goodyear.com> Lena Schulze <jessicaverena_schulze@goodyear.com>',\n",
       " ' Dakota Duncan <dakota_duncan@goodyear.com> Anna Fischer <anna_fischer@goodyear.com>',\n",
       " ' Taissa Abdalla Filgueiras de Sousa <taissa_abdallafilgueirasdesousa@goodyear.com> Janice Sudia <janice_sudia@goodyear.com>',\n",
       " ' Andy Gerzina <andrew_gerzina@goodyear.com> Joseph Sadaka <joseph_sadaka@goodyear.com>',\n",
       " ' Kris Wagner <kris_wagner@goodyear.com> Fred N Nelson <fred_nelson@goodyear.com>',\n",
       " 'Max Salviejo <maximo_salviejo@goodyear.com> Danielle Warren <danielle_warren@goodyear.com>',\n",
       " ' Dakota Duncan <dakota_duncan@goodyear.com> Fred N Nelson <fred_nelson@goodyear.com>',\n",
       " ' Janice Sudia <janice_sudia@goodyear.com> Danielle Warren <danielle_warren@goodyear.com>',\n",
       " ' Joseph Sadaka <joseph_sadaka@goodyear.com> Kathy Thomas <kthomas@goodyear.com>',\n",
       " ' Ron Webster <ron_webster@goodyear.com> Jonathan Lindsey <jonathan_lindsey@goodyear.com>',\n",
       " ' Avinash Varadapura Ananda Reddy <avinash_reddy@goodyear.com> Kevin Smith <kevin.smith@goodyear.com>',\n",
       " ' George Marino <george_marino@goodyear.com> Barb Callihan <barbara.callihan@goodyear.com>',\n",
       " ' Danielle Warren <danielle_warren@goodyear.com> Matt Variola <matthew_variola@goodyear.com>',\n",
       " ' Jonathan Lindsey <jonathan_lindsey@goodyear.com> Chloe Russell <chloe_russell@goodyear.com>',\n",
       " ' Chris Bochkor <chris_bochkor@goodyear.com> Chad Lauthers <chad_lauthers@goodyear.com>',\n",
       " ' Kris Wagner <kris_wagner@goodyear.com> George Marino <george_marino@goodyear.com>',\n",
       " ' Rachael Keck <rachael_keck@goodyear.com> joragsda@amazon.com',\n",
       " ' Chloe Russell <chloe_russell@goodyear.com> Louie Gigliotti <louie_gigliotti@goodyear.com>',\n",
       " ' Christy Lough <christiana_lough@goodyear.com> George Marino <george_marino@goodyear.com>',\n",
       " ' Wesley Clark <wesley_clark@goodyear.com>',\n",
       " ' Michael Rife <michael_rife@goodyear.com> Fred N Nelson <fred_nelson@goodyear.com>',\n",
       " ' John Ozarchuk <john_ozarchuk@goodyear.com> Janice Sudia <janice_sudia@goodyear.com>',\n",
       " ' Chloe Russell <chloe_russell@goodyear.com> Yuanlong Zhang <yuanlong_zhang@goodyear.com>',\n",
       " ' Jonathan Lindsey <jonathan_lindsey@goodyear.com> joragsda@amazon.com',\n",
       " ' Chloe Russell <chloe_russell@goodyear.com> Smit Modi <smit_modi@goodyear.com>',\n",
       " ' Lena Schulze <jessicaverena_schulze@goodyear.com> Louie Gigliotti <louie_gigliotti@goodyear.com>',\n",
       " ' Kris Wagner <kris_wagner@goodyear.com>',\n",
       " ' Chris Bochkor <chris_bochkor@goodyear.com> Rachael Keck <rachael_keck@goodyear.com>',\n",
       " ' Avinash Varadapura Ananda Reddy <avinash_reddy@goodyear.com> Joseph Sadaka <joseph_sadaka@goodyear.com>',\n",
       " ' Michael Rife <michael_rife@goodyear.com> Danielle Warren <danielle_warren@goodyear.com>',\n",
       " ' Joseph Sadaka <joseph_sadaka@goodyear.com> Barb Callihan <barbara.callihan@goodyear.com>',\n",
       " ' Yuanlong Zhang <yuanlong_zhang@goodyear.com> Barb Mays <barb_mays@goodyear.com>',\n",
       " ' Matt Variola <matthew_variola@goodyear.com> George Marino <george_marino@goodyear.com>',\n",
       " ' Matthew Madaj <matthew_madaj@goodyear.com> joragsda@amazon.com',\n",
       " ' Kevin Smith <kevin.smith@goodyear.com> Yuanlong Zhang <yuanlong_zhang@goodyear.com>',\n",
       " ' Bob Gulcin <robert_gulcin@goodyear.com> Simone Gabbianelli <simone.gabbianelli@goodyear.com>',\n",
       " ' Matt Variola <matthew_variola@goodyear.com> Danielle Warren <danielle_warren@goodyear.com>',\n",
       " ' Michael Rife <michael_rife@goodyear.com> Chloe Russell <chloe_russell@goodyear.com>',\n",
       " ' Matthew Madaj <matthew_madaj@goodyear.com> Christy Lough <christiana_lough@goodyear.com>',\n",
       " ' Jonathan Lindsey <jonathan_lindsey@goodyear.com> Anna Fischer <anna_fischer@goodyear.com>',\n",
       " ' Taissa Abdalla Filgueiras de Sousa <taissa_abdallafilgueirasdesousa@goodyear.com> Chloe Russell <chloe_russell@goodyear.com>',\n",
       " ' Christy Lough <christiana_lough@goodyear.com> John Wright <john_wright@goodyear.com>',\n",
       " ' Rory Johnston <rory_johnston@goodyear.com> Fred N Nelson <fred_nelson@goodyear.com>',\n",
       " ' Avinash Varadapura Ananda Reddy <avinash_reddy@goodyear.com> Louie Gigliotti <louie_gigliotti@goodyear.com>',\n",
       " ' Steve Tisdale <steve_tisdale@goodyear.com> Matt Variola <matthew_variola@goodyear.com>',\n",
       " ' Andy Gerzina <andrew_gerzina@goodyear.com> Chris Bochkor <chris_bochkor@goodyear.com>',\n",
       " ' Ron Webster <ron_webster@goodyear.com> Wesley Clark <wesley_clark@goodyear.com>',\n",
       " ' Matt Variola <matthew_variola@goodyear.com> joragsda@amazon.com',\n",
       " ' Danielle Warren <danielle_warren@goodyear.com> Barb Callihan <barbara.callihan@goodyear.com>',\n",
       " ' Matt Variola <matthew_variola@goodyear.com> Andy Gerzina <andrew_gerzina@goodyear.com>',\n",
       " ' joragsda@amazon.com John Wright <john_wright@goodyear.com>',\n",
       " ' Matt Variola <matthew_variola@goodyear.com> Wesley Clark <wesley_clark@goodyear.com>',\n",
       " ' Smit Modi <smit_modi@goodyear.com> Smit Modi <smit_modi@goodyear.com>',\n",
       " ' Adam Birdsall <adam_birdsall@goodyear.com> Kevin Smith <kevin.smith@goodyear.com>',\n",
       " ' George Marino <george_marino@goodyear.com> Steve Tisdale <steve_tisdale@goodyear.com>',\n",
       " ' Yuanlong Zhang <yuanlong_zhang@goodyear.com> Wesley Clark <wesley_clark@goodyear.com>',\n",
       " ' Avinash Varadapura Ananda Reddy <avinash_reddy@goodyear.com> Fred N Nelson <fred_nelson@goodyear.com>',\n",
       " ' Steve Tisdale <steve_tisdale@goodyear.com> Ruth Dunlap <ruth_dunlap@goodyear.com>',\n",
       " ' Janice Sudia <janice_sudia@goodyear.com> Smit Modi <smit_modi@goodyear.com>',\n",
       " ' Danielle Warren <danielle_warren@goodyear.com> Ruth Dunlap <ruth_dunlap@goodyear.com>',\n",
       " ' Rory Johnston <rory_johnston@goodyear.com> Kris Wagner <kris_wagner@goodyear.com>',\n",
       " ' Rachael Keck <rachael_keck@goodyear.com> Dakota Duncan <dakota_duncan@goodyear.com>',\n",
       " ' Rachael Keck <rachael_keck@goodyear.com> Ron Webster <ron_webster@goodyear.com>',\n",
       " ' Chloe Russell <chloe_russell@goodyear.com> Lena Schulze <jessicaverena_schulze@goodyear.com>',\n",
       " ' Steve Tisdale <steve_tisdale@goodyear.com> Louie Gigliotti <louie_gigliotti@goodyear.com>',\n",
       " ' Nerissa Hao <nerissa_hao@goodyear.com> Ron Webster <ron_webster@goodyear.com>',\n",
       " 'Max Salviejo <maximo_salviejo@goodyear.com> John Wright <john_wright@goodyear.com>',\n",
       " ' Chloe Russell <chloe_russell@goodyear.com> Chris Bochkor <chris_bochkor@goodyear.com>',\n",
       " ' Andy Gerzina <andrew_gerzina@goodyear.com> Janice Sudia <janice_sudia@goodyear.com>',\n",
       " ' Rory Johnston <rory_johnston@goodyear.com> Wesley Clark <wesley_clark@goodyear.com>',\n",
       " ' Bob Gulcin <robert_gulcin@goodyear.com> Wesley Clark <wesley_clark@goodyear.com>',\n",
       " ' Steve Tisdale <steve_tisdale@goodyear.com> George Marino <george_marino@goodyear.com>',\n",
       " ' Ruth Dunlap <ruth_dunlap@goodyear.com> Danielle Warren <danielle_warren@goodyear.com>',\n",
       " ' Kris Wagner <kris_wagner@goodyear.com> Rory Johnston <rory_johnston@goodyear.com>',\n",
       " ' joragsda@amazon.com Barb Callihan <barbara.callihan@goodyear.com>',\n",
       " ' Chad Lauthers <chad_lauthers@goodyear.com> Kris Wagner <kris_wagner@goodyear.com>',\n",
       " ' Matthew Madaj <matthew_madaj@goodyear.com> Chris Bochkor <chris_bochkor@goodyear.com>',\n",
       " ' Dan Helmick <dhelmick@goodyear.com> Fred N Nelson <fred_nelson@goodyear.com>',\n",
       " ' Louie Gigliotti <louie_gigliotti@goodyear.com> Louie Gigliotti <louie_gigliotti@goodyear.com>',\n",
       " ' Steve Tisdale <steve_tisdale@goodyear.com> Yuanlong Zhang <yuanlong_zhang@goodyear.com>',\n",
       " ' John Wright <john_wright@goodyear.com> Chloe Russell <chloe_russell@goodyear.com>',\n",
       " ' Nerissa Hao <nerissa_hao@goodyear.com> Bob Gulcin <robert_gulcin@goodyear.com>',\n",
       " 'Max Salviejo <maximo_salviejo@goodyear.com> Janice Sudia <janice_sudia@goodyear.com>',\n",
       " ' Louie Gigliotti <louie_gigliotti@goodyear.com> Andy Gerzina <andrew_gerzina@goodyear.com>',\n",
       " ' Lena Schulze <jessicaverena_schulze@goodyear.com> Dakota Duncan <dakota_duncan@goodyear.com>',\n",
       " ' John Ozarchuk <john_ozarchuk@goodyear.com> Dan Helmick <dhelmick@goodyear.com>',\n",
       " ' Barb Mays <barb_mays@goodyear.com> Danielle Warren <danielle_warren@goodyear.com>',\n",
       " ' Michael Rife <michael_rife@goodyear.com> Matt Variola <matthew_variola@goodyear.com>',\n",
       " ' Barb Mays <barb_mays@goodyear.com> Dan Helmick <dhelmick@goodyear.com>',\n",
       " ' Simone Gabbianelli <simone.gabbianelli@goodyear.com> Joseph Sadaka <joseph_sadaka@goodyear.com>',\n",
       " ' Michael Rife <michael_rife@goodyear.com> Taissa Abdalla Filgueiras de Sousa <taissa_abdallafilgueirasdesousa@goodyear.com>',\n",
       " ' John Wright <john_wright@goodyear.com> Taissa Abdalla Filgueiras de Sousa <taissa_abdallafilgueirasdesousa@goodyear.com>',\n",
       " ' Danielle Warren <danielle_warren@goodyear.com> Jonathan Lindsey <jonathan_lindsey@goodyear.com>',\n",
       " ' joragsda@amazon.com Nerissa Hao <nerissa_hao@goodyear.com>',\n",
       " ' John Wright <john_wright@goodyear.com> Steve Tisdale <steve_tisdale@goodyear.com>',\n",
       " ' Chloe Russell <chloe_russell@goodyear.com> Andy Gerzina <andrew_gerzina@goodyear.com>',\n",
       " ' Simone Gabbianelli <simone.gabbianelli@goodyear.com> Simone Gabbianelli <simone.gabbianelli@goodyear.com>',\n",
       " ' Taissa Abdalla Filgueiras de Sousa <taissa_abdallafilgueirasdesousa@goodyear.com> Dan Helmick <dhelmick@goodyear.com>',\n",
       " ' Andy Gerzina <andrew_gerzina@goodyear.com> John Ozarchuk <john_ozarchuk@goodyear.com>',\n",
       " ' Chloe Russell <chloe_russell@goodyear.com> George Marino <george_marino@goodyear.com>',\n",
       " ' Rory Johnston <rory_johnston@goodyear.com> Chad Lauthers <chad_lauthers@goodyear.com>',\n",
       " ' Ron Webster <ron_webster@goodyear.com> Kevin Smith <kevin.smith@goodyear.com>',\n",
       " ' Taissa Abdalla Filgueiras de Sousa <taissa_abdallafilgueirasdesousa@goodyear.com> George Marino <george_marino@goodyear.com>',\n",
       " ' John Ozarchuk <john_ozarchuk@goodyear.com> Chad Lauthers <chad_lauthers@goodyear.com>',\n",
       " ' Ron Webster <ron_webster@goodyear.com> Adam Birdsall <adam_birdsall@goodyear.com>',\n",
       " ' Chloe Russell <chloe_russell@goodyear.com> Joseph Sadaka <joseph_sadaka@goodyear.com>',\n",
       " ' Dan Helmick <dhelmick@goodyear.com> Louie Gigliotti <louie_gigliotti@goodyear.com>',\n",
       " ' Steve Tisdale <steve_tisdale@goodyear.com> Simone Gabbianelli <simone.gabbianelli@goodyear.com>',\n",
       " ' Bob Gulcin <robert_gulcin@goodyear.com> Joseph Sadaka <joseph_sadaka@goodyear.com>',\n",
       " ' Nerissa Hao <nerissa_hao@goodyear.com> Fred N Nelson <fred_nelson@goodyear.com>',\n",
       " ' Fred N Nelson <fred_nelson@goodyear.com> Ruth Dunlap <ruth_dunlap@goodyear.com>',\n",
       " ' Chad Lauthers <chad_lauthers@goodyear.com> Rachael Keck <rachael_keck@goodyear.com>',\n",
       " ' joragsda@amazon.com Simone Gabbianelli <simone.gabbianelli@goodyear.com>',\n",
       " ' Adam Birdsall <adam_birdsall@goodyear.com> Kathy Thomas <kthomas@goodyear.com>',\n",
       " ' Chloe Russell <chloe_russell@goodyear.com> Barb Mays <barb_mays@goodyear.com>',\n",
       " ' Dakota Duncan <dakota_duncan@goodyear.com> Joseph Sadaka <joseph_sadaka@goodyear.com>',\n",
       " ' Barb Mays <barb_mays@goodyear.com> Bob Gulcin <robert_gulcin@goodyear.com>',\n",
       " ' Matthew Madaj <matthew_madaj@goodyear.com> Andy Gerzina <andrew_gerzina@goodyear.com>',\n",
       " ' Kris Wagner <kris_wagner@goodyear.com> John Wright <john_wright@goodyear.com>',\n",
       " ' Chris Bochkor <chris_bochkor@goodyear.com>Max Salviejo <maximo_salviejo@goodyear.com>',\n",
       " ' Ruth Dunlap <ruth_dunlap@goodyear.com> George Marino <george_marino@goodyear.com>',\n",
       " ' Matthew Madaj <matthew_madaj@goodyear.com> Bob Gulcin <robert_gulcin@goodyear.com>',\n",
       " ' Dan Helmick <dhelmick@goodyear.com> Danielle Warren <danielle_warren@goodyear.com>',\n",
       " ' Lena Schulze <jessicaverena_schulze@goodyear.com> John Wright <john_wright@goodyear.com>',\n",
       " ' Fred N Nelson <fred_nelson@goodyear.com> Christy Lough <christiana_lough@goodyear.com>',\n",
       " ' Avinash Varadapura Ananda Reddy <avinash_reddy@goodyear.com> joragsda@amazon.com',\n",
       " ' Christy Lough <christiana_lough@goodyear.com> Barb Callihan <barbara.callihan@goodyear.com>',\n",
       " ' John Wright <john_wright@goodyear.com> Barb Callihan <barbara.callihan@goodyear.com>',\n",
       " ' Chad Lauthers <chad_lauthers@goodyear.com> George Marino <george_marino@goodyear.com>',\n",
       " ' Christy Lough <christiana_lough@goodyear.com> Nerissa Hao <nerissa_hao@goodyear.com>',\n",
       " ' John Wright <john_wright@goodyear.com> Louie Gigliotti <louie_gigliotti@goodyear.com>',\n",
       " ' Taissa Abdalla Filgueiras de Sousa <taissa_abdallafilgueirasdesousa@goodyear.com> Danielle Warren <danielle_warren@goodyear.com>',\n",
       " ' Wesley Clark <wesley_clark@goodyear.com> Matthew Madaj <matthew_madaj@goodyear.com>',\n",
       " ' Jonathan Lindsey <jonathan_lindsey@goodyear.com> Chad Lauthers <chad_lauthers@goodyear.com>',\n",
       " ' Steve Tisdale <steve_tisdale@goodyear.com> Bob Gulcin <robert_gulcin@goodyear.com>',\n",
       " ' Rachael Keck <rachael_keck@goodyear.com> Chloe Russell <chloe_russell@goodyear.com>',\n",
       " ' Steve Tisdale <steve_tisdale@goodyear.com> Rachael Keck <rachael_keck@goodyear.com>',\n",
       " ' Dan Helmick <dhelmick@goodyear.com> Nerissa Hao <nerissa_hao@goodyear.com>',\n",
       " ' Kathy Thomas <kthomas@goodyear.com> Bob Gulcin <robert_gulcin@goodyear.com>',\n",
       " ' Dan Helmick <dhelmick@goodyear.com> Matt Variola <matthew_variola@goodyear.com>',\n",
       " ' Jonathan Lindsey <jonathan_lindsey@goodyear.com> Kevin Smith <kevin.smith@goodyear.com>',\n",
       " ' Joseph Sadaka <joseph_sadaka@goodyear.com> Chad Lauthers <chad_lauthers@goodyear.com>',\n",
       " ' Wesley Clark <wesley_clark@goodyear.com> Taissa Abdalla Filgueiras de Sousa <taissa_abdallafilgueirasdesousa@goodyear.com>',\n",
       " ' Kevin Smith <kevin.smith@goodyear.com> Danielle Warren <danielle_warren@goodyear.com>',\n",
       " ' Kathy Thomas <kthomas@goodyear.com> Taissa Abdalla Filgueiras de Sousa <taissa_abdallafilgueirasdesousa@goodyear.com>',\n",
       " ' Nerissa Hao <nerissa_hao@goodyear.com> Wesley Clark <wesley_clark@goodyear.com>',\n",
       " ' Ruth Dunlap <ruth_dunlap@goodyear.com> Ron Webster <ron_webster@goodyear.com>',\n",
       " ' Rachael Keck <rachael_keck@goodyear.com> Matthew Madaj <matthew_madaj@goodyear.com>',\n",
       " ' Dan Helmick <dhelmick@goodyear.com> Chad Lauthers <chad_lauthers@goodyear.com>',\n",
       " ' Danielle Warren <danielle_warren@goodyear.com> Chloe Russell <chloe_russell@goodyear.com>',\n",
       " ' Matthew Madaj <matthew_madaj@goodyear.com> Jonathan Lindsey <jonathan_lindsey@goodyear.com>',\n",
       " ' George Marino <george_marino@goodyear.com> Matthew Madaj <matthew_madaj@goodyear.com>',\n",
       " ' Janice Sudia <janice_sudia@goodyear.com> Chad Lauthers <chad_lauthers@goodyear.com>',\n",
       " ' Andy Gerzina <andrew_gerzina@goodyear.com> Kris Wagner <kris_wagner@goodyear.com>',\n",
       " ' John Wright <john_wright@goodyear.com> Rory Johnston <rory_johnston@goodyear.com>',\n",
       " ' Yuanlong Zhang <yuanlong_zhang@goodyear.com> Chloe Russell <chloe_russell@goodyear.com>',\n",
       " ' Chloe Russell <chloe_russell@goodyear.com> Ruth Dunlap <ruth_dunlap@goodyear.com>',\n",
       " ' Avinash Varadapura Ananda Reddy <avinash_reddy@goodyear.com> Kathy Thomas <kthomas@goodyear.com>',\n",
       " ' Dan Helmick <dhelmick@goodyear.com> Rory Johnston <rory_johnston@goodyear.com>',\n",
       " ' Dakota Duncan <dakota_duncan@goodyear.com> Barb Mays <barb_mays@goodyear.com>',\n",
       " ' Wesley Clark <wesley_clark@goodyear.com> Fred N Nelson <fred_nelson@goodyear.com>',\n",
       " ' John Wright <john_wright@goodyear.com> John Ozarchuk <john_ozarchuk@goodyear.com>',\n",
       " ' John Wright <john_wright@goodyear.com> Chad Lauthers <chad_lauthers@goodyear.com>',\n",
       " ' John Ozarchuk <john_ozarchuk@goodyear.com> Kris Wagner <kris_wagner@goodyear.com>',\n",
       " ' George Marino <george_marino@goodyear.com> Anna Fischer <anna_fischer@goodyear.com>',\n",
       " ' Barb Callihan <barbara.callihan@goodyear.com> joragsda@amazon.com',\n",
       " ' Adam Birdsall <adam_birdsall@goodyear.com> Taissa Abdalla Filgueiras de Sousa <taissa_abdallafilgueirasdesousa@goodyear.com>',\n",
       " ' Wesley Clark <wesley_clark@goodyear.com> Rory Johnston <rory_johnston@goodyear.com>',\n",
       " ' Wesley Clark <wesley_clark@goodyear.com> Andy Gerzina <andrew_gerzina@goodyear.com>',\n",
       " ' Lena Schulze <jessicaverena_schulze@goodyear.com> Matt Variola <matthew_variola@goodyear.com>',\n",
       " ' Janice Sudia <janice_sudia@goodyear.com> Simone Gabbianelli <simone.gabbianelli@goodyear.com>',\n",
       " ' Steve Tisdale <steve_tisdale@goodyear.com> Andy Gerzina <andrew_gerzina@goodyear.com>',\n",
       " ' Christy Lough <christiana_lough@goodyear.com> Louie Gigliotti <louie_gigliotti@goodyear.com>',\n",
       " ' Smit Modi <smit_modi@goodyear.com> John Wright <john_wright@goodyear.com>',\n",
       " ' Jonathan Lindsey <jonathan_lindsey@goodyear.com> Andy Gerzina <andrew_gerzina@goodyear.com>',\n",
       " ' Bob Gulcin <robert_gulcin@goodyear.com> John Ozarchuk <john_ozarchuk@goodyear.com>',\n",
       " ' Kevin Smith <kevin.smith@goodyear.com> Louie Gigliotti <louie_gigliotti@goodyear.com>',\n",
       " ' Ron Webster <ron_webster@goodyear.com> Andy Gerzina <andrew_gerzina@goodyear.com>',\n",
       " ' John Ozarchuk <john_ozarchuk@goodyear.com> Barb Mays <barb_mays@goodyear.com>',\n",
       " ' Janice Sudia <janice_sudia@goodyear.com> George Marino <george_marino@goodyear.com>',\n",
       " ' Andy Gerzina <andrew_gerzina@goodyear.com> Smit Modi <smit_modi@goodyear.com>',\n",
       " ' Simone Gabbianelli <simone.gabbianelli@goodyear.com> Barb Mays <barb_mays@goodyear.com>',\n",
       " ' joragsda@amazon.com Steve Tisdale <steve_tisdale@goodyear.com>',\n",
       " ' Kathy Thomas <kthomas@goodyear.com>',\n",
       " ' Danielle Warren <danielle_warren@goodyear.com> Fred N Nelson <fred_nelson@goodyear.com>',\n",
       " ' Barb Mays <barb_mays@goodyear.com>',\n",
       " ' Kathy Thomas <kthomas@goodyear.com> Chris Bochkor <chris_bochkor@goodyear.com>',\n",
       " ' Yuanlong Zhang <yuanlong_zhang@goodyear.com> Louie Gigliotti <louie_gigliotti@goodyear.com>',\n",
       " ' Christy Lough <christiana_lough@goodyear.com> Yuanlong Zhang <yuanlong_zhang@goodyear.com>',\n",
       " ' Adam Birdsall <adam_birdsall@goodyear.com>Max Salviejo <maximo_salviejo@goodyear.com>',\n",
       " ' Bob Gulcin <robert_gulcin@goodyear.com> George Marino <george_marino@goodyear.com>',\n",
       " ' Louie Gigliotti <louie_gigliotti@goodyear.com> Anna Fischer <anna_fischer@goodyear.com>',\n",
       " ' Barb Callihan <barbara.callihan@goodyear.com> Fred N Nelson <fred_nelson@goodyear.com>',\n",
       " ' Michael Rife <michael_rife@goodyear.com> Anna Fischer <anna_fischer@goodyear.com>',\n",
       " ' Kathy Thomas <kthomas@goodyear.com> Kris Wagner <kris_wagner@goodyear.com>',\n",
       " ' Jonathan Lindsey <jonathan_lindsey@goodyear.com> Christy Lough <christiana_lough@goodyear.com>',\n",
       " ' George Marino <george_marino@goodyear.com> Lena Schulze <jessicaverena_schulze@goodyear.com>',\n",
       " ' Simone Gabbianelli <simone.gabbianelli@goodyear.com> Yuanlong Zhang <yuanlong_zhang@goodyear.com>',\n",
       " ' Nerissa Hao <nerissa_hao@goodyear.com> Rory Johnston <rory_johnston@goodyear.com>',\n",
       " ' Taissa Abdalla Filgueiras de Sousa <taissa_abdallafilgueirasdesousa@goodyear.com> Ron Webster <ron_webster@goodyear.com>',\n",
       " ' Fred N Nelson <fred_nelson@goodyear.com> Lena Schulze <jessicaverena_schulze@goodyear.com>',\n",
       " ' Nerissa Hao <nerissa_hao@goodyear.com>Max Salviejo <maximo_salviejo@goodyear.com>',\n",
       " ' Barb Callihan <barbara.callihan@goodyear.com> Louie Gigliotti <louie_gigliotti@goodyear.com>',\n",
       " ' Matthew Madaj <matthew_madaj@goodyear.com> Louie Gigliotti <louie_gigliotti@goodyear.com>',\n",
       " ' Barb Mays <barb_mays@goodyear.com> Fred N Nelson <fred_nelson@goodyear.com>',\n",
       " ' Joseph Sadaka <joseph_sadaka@goodyear.com> Louie Gigliotti <louie_gigliotti@goodyear.com>',\n",
       " ' Dakota Duncan <dakota_duncan@goodyear.com> Lena Schulze <jessicaverena_schulze@goodyear.com>',\n",
       " ' Taissa Abdalla Filgueiras de Sousa <taissa_abdallafilgueirasdesousa@goodyear.com>Max Salviejo <maximo_salviejo@goodyear.com>',\n",
       " ' Dakota Duncan <dakota_duncan@goodyear.com> George Marino <george_marino@goodyear.com>',\n",
       " ' Matthew Madaj <matthew_madaj@goodyear.com> Danielle Warren <danielle_warren@goodyear.com>',\n",
       " ' Dakota Duncan <dakota_duncan@goodyear.com> Chloe Russell <chloe_russell@goodyear.com>',\n",
       " ' Rachael Keck <rachael_keck@goodyear.com> Matt Variola <matthew_variola@goodyear.com>',\n",
       " ' Yuanlong Zhang <yuanlong_zhang@goodyear.com> Fred N Nelson <fred_nelson@goodyear.com>',\n",
       " ' Smit Modi <smit_modi@goodyear.com> Nerissa Hao <nerissa_hao@goodyear.com>',\n",
       " ' Wesley Clark <wesley_clark@goodyear.com> Kathy Thomas <kthomas@goodyear.com>',\n",
       " 'Max Salviejo <maximo_salviejo@goodyear.com>',\n",
       " ' Barb Callihan <barbara.callihan@goodyear.com> Kathy Thomas <kthomas@goodyear.com>',\n",
       " ' Danielle Warren <danielle_warren@goodyear.com> Chad Lauthers <chad_lauthers@goodyear.com>',\n",
       " ' Dan Helmick <dhelmick@goodyear.com> Adam Birdsall <adam_birdsall@goodyear.com>',\n",
       " ' George Marino <george_marino@goodyear.com> Kathy Thomas <kthomas@goodyear.com>',\n",
       " ' Matt Variola <matthew_variola@goodyear.com> Janice Sudia <janice_sudia@goodyear.com>',\n",
       " ' George Marino <george_marino@goodyear.com> Chad Lauthers <chad_lauthers@goodyear.com>',\n",
       " ' John Wright <john_wright@goodyear.com> Kevin Smith <kevin.smith@goodyear.com>',\n",
       " ' Matt Variola <matthew_variola@goodyear.com> Kathy Thomas <kthomas@goodyear.com>',\n",
       " ' Matt Variola <matthew_variola@goodyear.com> Bob Gulcin <robert_gulcin@goodyear.com>',\n",
       " ' Matthew Madaj <matthew_madaj@goodyear.com> Chloe Russell <chloe_russell@goodyear.com>',\n",
       " ' Rachael Keck <rachael_keck@goodyear.com> Kevin Smith <kevin.smith@goodyear.com>',\n",
       " ' Nerissa Hao <nerissa_hao@goodyear.com> Louie Gigliotti <louie_gigliotti@goodyear.com>',\n",
       " ' Kevin Smith <kevin.smith@goodyear.com> Dan Helmick <dhelmick@goodyear.com>',\n",
       " ' Dan Helmick <dhelmick@goodyear.com> Janice Sudia <janice_sudia@goodyear.com>',\n",
       " ' Chris Bochkor <chris_bochkor@goodyear.com> Danielle Warren <danielle_warren@goodyear.com>',\n",
       " ' John Wright <john_wright@goodyear.com> Kathy Thomas <kthomas@goodyear.com>',\n",
       " ' Kris Wagner <kris_wagner@goodyear.com> Lena Schulze <jessicaverena_schulze@goodyear.com>',\n",
       " ' Matt Variola <matthew_variola@goodyear.com> Jonathan Lindsey <jonathan_lindsey@goodyear.com>',\n",
       " ' Matt Variola <matthew_variola@goodyear.com> Simone Gabbianelli <simone.gabbianelli@goodyear.com>',\n",
       " ' Lena Schulze <jessicaverena_schulze@goodyear.com> Chloe Russell <chloe_russell@goodyear.com>',\n",
       " ' Michael Rife <michael_rife@goodyear.com> Simone Gabbianelli <simone.gabbianelli@goodyear.com>',\n",
       " ' Kathy Thomas <kthomas@goodyear.com> Wesley Clark <wesley_clark@goodyear.com>',\n",
       " ' joragsda@amazon.com Wesley Clark <wesley_clark@goodyear.com>',\n",
       " ' Wesley Clark <wesley_clark@goodyear.com> Barb Mays <barb_mays@goodyear.com>',\n",
       " ' Barb Mays <barb_mays@goodyear.com> Yuanlong Zhang <yuanlong_zhang@goodyear.com>',\n",
       " ' Ruth Dunlap <ruth_dunlap@goodyear.com>Max Salviejo <maximo_salviejo@goodyear.com>',\n",
       " ' Christy Lough <christiana_lough@goodyear.com> Janice Sudia <janice_sudia@goodyear.com>',\n",
       " ' Nerissa Hao <nerissa_hao@goodyear.com> Chad Lauthers <chad_lauthers@goodyear.com>',\n",
       " ' Simone Gabbianelli <simone.gabbianelli@goodyear.com> Rachael Keck <rachael_keck@goodyear.com>',\n",
       " ' Barb Callihan <barbara.callihan@goodyear.com> Joseph Sadaka <joseph_sadaka@goodyear.com>',\n",
       " ' Janice Sudia <janice_sudia@goodyear.com> Ron Webster <ron_webster@goodyear.com>',\n",
       " ' Taissa Abdalla Filgueiras de Sousa <taissa_abdallafilgueirasdesousa@goodyear.com> Fred N Nelson <fred_nelson@goodyear.com>',\n",
       " ' Ruth Dunlap <ruth_dunlap@goodyear.com> Nerissa Hao <nerissa_hao@goodyear.com>',\n",
       " ' Louie Gigliotti <louie_gigliotti@goodyear.com> Adam Birdsall <adam_birdsall@goodyear.com>',\n",
       " ' Matt Variola <matthew_variola@goodyear.com> Rory Johnston <rory_johnston@goodyear.com>',\n",
       " ' Dakota Duncan <dakota_duncan@goodyear.com> Nerissa Hao <nerissa_hao@goodyear.com>',\n",
       " ' Simone Gabbianelli <simone.gabbianelli@goodyear.com> Bob Gulcin <robert_gulcin@goodyear.com>',\n",
       " ' Taissa Abdalla Filgueiras de Sousa <taissa_abdallafilgueirasdesousa@goodyear.com> Matthew Madaj <matthew_madaj@goodyear.com>',\n",
       " ' Barb Mays <barb_mays@goodyear.com> Andy Gerzina <andrew_gerzina@goodyear.com>',\n",
       " ' Louie Gigliotti <louie_gigliotti@goodyear.com> Kevin Smith <kevin.smith@goodyear.com>',\n",
       " ' John Wright <john_wright@goodyear.com> Anna Fischer <anna_fischer@goodyear.com>',\n",
       " ' Chad Lauthers <chad_lauthers@goodyear.com> Dan Helmick <dhelmick@goodyear.com>',\n",
       " ' Chad Lauthers <chad_lauthers@goodyear.com> Barb Mays <barb_mays@goodyear.com>',\n",
       " ' John Ozarchuk <john_ozarchuk@goodyear.com> Andy Gerzina <andrew_gerzina@goodyear.com>',\n",
       " ' Smit Modi <smit_modi@goodyear.com> Anna Fischer <anna_fischer@goodyear.com>',\n",
       " ' Barb Mays <barb_mays@goodyear.com> Nerissa Hao <nerissa_hao@goodyear.com>',\n",
       " ' Taissa Abdalla Filgueiras de Sousa <taissa_abdallafilgueirasdesousa@goodyear.com> Christy Lough <christiana_lough@goodyear.com>',\n",
       " ' Steve Tisdale <steve_tisdale@goodyear.com> Rory Johnston <rory_johnston@goodyear.com>',\n",
       " ' Yuanlong Zhang <yuanlong_zhang@goodyear.com> Simone Gabbianelli <simone.gabbianelli@goodyear.com>',\n",
       " ' Barb Mays <barb_mays@goodyear.com> Chris Bochkor <chris_bochkor@goodyear.com>',\n",
       " ' John Ozarchuk <john_ozarchuk@goodyear.com> Joseph Sadaka <joseph_sadaka@goodyear.com>',\n",
       " ' Steve Tisdale <steve_tisdale@goodyear.com> Chloe Russell <chloe_russell@goodyear.com>',\n",
       " ' Barb Callihan <barbara.callihan@goodyear.com> Barb Mays <barb_mays@goodyear.com>',\n",
       " ' Matt Variola <matthew_variola@goodyear.com> Joseph Sadaka <joseph_sadaka@goodyear.com>',\n",
       " ' Michael Rife <michael_rife@goodyear.com> George Marino <george_marino@goodyear.com>',\n",
       " ' Chloe Russell <chloe_russell@goodyear.com> Matthew Madaj <matthew_madaj@goodyear.com>',\n",
       " ' Louie Gigliotti <louie_gigliotti@goodyear.com> Janice Sudia <janice_sudia@goodyear.com>',\n",
       " ' Kris Wagner <kris_wagner@goodyear.com> Joseph Sadaka <joseph_sadaka@goodyear.com>',\n",
       " ' Barb Callihan <barbara.callihan@goodyear.com>Max Salviejo <maximo_salviejo@goodyear.com>',\n",
       " ' Matt Variola <matthew_variola@goodyear.com> Nerissa Hao <nerissa_hao@goodyear.com>',\n",
       " ' Lena Schulze <jessicaverena_schulze@goodyear.com> John Ozarchuk <john_ozarchuk@goodyear.com>',\n",
       " ' Avinash Varadapura Ananda Reddy <avinash_reddy@goodyear.com> Bob Gulcin <robert_gulcin@goodyear.com>',\n",
       " ' Chloe Russell <chloe_russell@goodyear.com> Nerissa Hao <nerissa_hao@goodyear.com>',\n",
       " ' Steve Tisdale <steve_tisdale@goodyear.com> Wesley Clark <wesley_clark@goodyear.com>',\n",
       " ' Rory Johnston <rory_johnston@goodyear.com>',\n",
       " ' Barb Callihan <barbara.callihan@goodyear.com> Christy Lough <christiana_lough@goodyear.com>',\n",
       " ' Jonathan Lindsey <jonathan_lindsey@goodyear.com> Dan Helmick <dhelmick@goodyear.com>',\n",
       " ' Matthew Madaj <matthew_madaj@goodyear.com> Taissa Abdalla Filgueiras de Sousa <taissa_abdallafilgueirasdesousa@goodyear.com>',\n",
       " ' Ruth Dunlap <ruth_dunlap@goodyear.com> Andy Gerzina <andrew_gerzina@goodyear.com>',\n",
       " ' Taissa Abdalla Filgueiras de Sousa <taissa_abdallafilgueirasdesousa@goodyear.com> Yuanlong Zhang <yuanlong_zhang@goodyear.com>',\n",
       " ' Lena Schulze <jessicaverena_schulze@goodyear.com> Ron Webster <ron_webster@goodyear.com>',\n",
       " ' Matthew Madaj <matthew_madaj@goodyear.com> Ruth Dunlap <ruth_dunlap@goodyear.com>',\n",
       " ' Nerissa Hao <nerissa_hao@goodyear.com> Nerissa Hao <nerissa_hao@goodyear.com>',\n",
       " ' Smit Modi <smit_modi@goodyear.com> George Marino <george_marino@goodyear.com>',\n",
       " ' Chad Lauthers <chad_lauthers@goodyear.com> Chad Lauthers <chad_lauthers@goodyear.com>',\n",
       " ' Christy Lough <christiana_lough@goodyear.com> Andy Gerzina <andrew_gerzina@goodyear.com>',\n",
       " ' Ruth Dunlap <ruth_dunlap@goodyear.com> Bob Gulcin <robert_gulcin@goodyear.com>',\n",
       " ' Matthew Madaj <matthew_madaj@goodyear.com> Fred N Nelson <fred_nelson@goodyear.com>',\n",
       " ' Rory Johnston <rory_johnston@goodyear.com> Taissa Abdalla Filgueiras de Sousa <taissa_abdallafilgueirasdesousa@goodyear.com>',\n",
       " ' Fred N Nelson <fred_nelson@goodyear.com> Adam Birdsall <adam_birdsall@goodyear.com>',\n",
       " ' Barb Callihan <barbara.callihan@goodyear.com> Dakota Duncan <dakota_duncan@goodyear.com>',\n",
       " ' Matthew Madaj <matthew_madaj@goodyear.com> John Ozarchuk <john_ozarchuk@goodyear.com>',\n",
       " ' Dakota Duncan <dakota_duncan@goodyear.com> Simone Gabbianelli <simone.gabbianelli@goodyear.com>',\n",
       " ' Chris Bochkor <chris_bochkor@goodyear.com> Nerissa Hao <nerissa_hao@goodyear.com>',\n",
       " ' Chris Bochkor <chris_bochkor@goodyear.com> Kathy Thomas <kthomas@goodyear.com>',\n",
       " ' Louie Gigliotti <louie_gigliotti@goodyear.com> Bob Gulcin <robert_gulcin@goodyear.com>',\n",
       " ' Avinash Varadapura Ananda Reddy <avinash_reddy@goodyear.com> Andy Gerzina <andrew_gerzina@goodyear.com>',\n",
       " ' Kathy Thomas <kthomas@goodyear.com> Ruth Dunlap <ruth_dunlap@goodyear.com>',\n",
       " ' joragsda@amazon.com Ron Webster <ron_webster@goodyear.com>',\n",
       " ' Kathy Thomas <kthomas@goodyear.com> George Marino <george_marino@goodyear.com>',\n",
       " ' Wesley Clark <wesley_clark@goodyear.com> Dan Helmick <dhelmick@goodyear.com>',\n",
       " ' Steve Tisdale <steve_tisdale@goodyear.com> Joseph Sadaka <joseph_sadaka@goodyear.com>',\n",
       " ' Michael Rife <michael_rife@goodyear.com> Rachael Keck <rachael_keck@goodyear.com>',\n",
       " ' Rory Johnston <rory_johnston@goodyear.com> Ron Webster <ron_webster@goodyear.com>',\n",
       " ' Barb Callihan <barbara.callihan@goodyear.com> Dan Helmick <dhelmick@goodyear.com>',\n",
       " ' Louie Gigliotti <louie_gigliotti@goodyear.com> Chloe Russell <chloe_russell@goodyear.com>',\n",
       " ' Jonathan Lindsey <jonathan_lindsey@goodyear.com> Rory Johnston <rory_johnston@goodyear.com>',\n",
       " ' Andy Gerzina <andrew_gerzina@goodyear.com> Andy Gerzina <andrew_gerzina@goodyear.com>',\n",
       " ' George Marino <george_marino@goodyear.com> Simone Gabbianelli <simone.gabbianelli@goodyear.com>',\n",
       " ' Chloe Russell <chloe_russell@goodyear.com> Rory Johnston <rory_johnston@goodyear.com>',\n",
       " ' Wesley Clark <wesley_clark@goodyear.com> Barb Callihan <barbara.callihan@goodyear.com>',\n",
       " ' Barb Mays <barb_mays@goodyear.com> Smit Modi <smit_modi@goodyear.com>',\n",
       " ' Michael Rife <michael_rife@goodyear.com> Wesley Clark <wesley_clark@goodyear.com>',\n",
       " ' Joseph Sadaka <joseph_sadaka@goodyear.com>Max Salviejo <maximo_salviejo@goodyear.com>',\n",
       " 'Max Salviejo <maximo_salviejo@goodyear.com> Jonathan Lindsey <jonathan_lindsey@goodyear.com>',\n",
       " ' Adam Birdsall <adam_birdsall@goodyear.com> Louie Gigliotti <louie_gigliotti@goodyear.com>',\n",
       " ' John Wright <john_wright@goodyear.com> Wesley Clark <wesley_clark@goodyear.com>',\n",
       " ' Christy Lough <christiana_lough@goodyear.com> Bob Gulcin <robert_gulcin@goodyear.com>',\n",
       " ' Taissa Abdalla Filgueiras de Sousa <taissa_abdallafilgueirasdesousa@goodyear.com> Simone Gabbianelli <simone.gabbianelli@goodyear.com>',\n",
       " ' Taissa Abdalla Filgueiras de Sousa <taissa_abdallafilgueirasdesousa@goodyear.com> Andy Gerzina <andrew_gerzina@goodyear.com>',\n",
       " ' Fred N Nelson <fred_nelson@goodyear.com> Kris Wagner <kris_wagner@goodyear.com>',\n",
       " ' Chloe Russell <chloe_russell@goodyear.com> Anna Fischer <anna_fischer@goodyear.com>',\n",
       " ' Jonathan Lindsey <jonathan_lindsey@goodyear.com> Taissa Abdalla Filgueiras de Sousa <taissa_abdallafilgueirasdesousa@goodyear.com>',\n",
       " ' Chris Bochkor <chris_bochkor@goodyear.com> Jonathan Lindsey <jonathan_lindsey@goodyear.com>',\n",
       " ' Louie Gigliotti <louie_gigliotti@goodyear.com> Smit Modi <smit_modi@goodyear.com>',\n",
       " ' Danielle Warren <danielle_warren@goodyear.com> Joseph Sadaka <joseph_sadaka@goodyear.com>',\n",
       " ' Joseph Sadaka <joseph_sadaka@goodyear.com> Nerissa Hao <nerissa_hao@goodyear.com>',\n",
       " ' Lena Schulze <jessicaverena_schulze@goodyear.com> Fred N Nelson <fred_nelson@goodyear.com>',\n",
       " ' Simone Gabbianelli <simone.gabbianelli@goodyear.com> Smit Modi <smit_modi@goodyear.com>',\n",
       " ' Kris Wagner <kris_wagner@goodyear.com> Simone Gabbianelli <simone.gabbianelli@goodyear.com>',\n",
       " ' Avinash Varadapura Ananda Reddy <avinash_reddy@goodyear.com> Smit Modi <smit_modi@goodyear.com>',\n",
       " ' George Marino <george_marino@goodyear.com> joragsda@amazon.com',\n",
       " ' Steve Tisdale <steve_tisdale@goodyear.com> Nerissa Hao <nerissa_hao@goodyear.com>',\n",
       " ' Simone Gabbianelli <simone.gabbianelli@goodyear.com> joragsda@amazon.com',\n",
       " ' Matthew Madaj <matthew_madaj@goodyear.com> Yuanlong Zhang <yuanlong_zhang@goodyear.com>',\n",
       " ' Kathy Thomas <kthomas@goodyear.com> Chloe Russell <chloe_russell@goodyear.com>',\n",
       " ' Louie Gigliotti <louie_gigliotti@goodyear.com> Matt Variola <matthew_variola@goodyear.com>',\n",
       " ' Matt Variola <matthew_variola@goodyear.com>',\n",
       " ' Taissa Abdalla Filgueiras de Sousa <taissa_abdallafilgueirasdesousa@goodyear.com> Rachael Keck <rachael_keck@goodyear.com>',\n",
       " ' Danielle Warren <danielle_warren@goodyear.com> Bob Gulcin <robert_gulcin@goodyear.com>',\n",
       " ' John Wright <john_wright@goodyear.com> Joseph Sadaka <joseph_sadaka@goodyear.com>',\n",
       " ' Adam Birdsall <adam_birdsall@goodyear.com> Fred N Nelson <fred_nelson@goodyear.com>',\n",
       " ' Barb Callihan <barbara.callihan@goodyear.com> Nerissa Hao <nerissa_hao@goodyear.com>',\n",
       " ' Ruth Dunlap <ruth_dunlap@goodyear.com> Rachael Keck <rachael_keck@goodyear.com>',\n",
       " ' Rory Johnston <rory_johnston@goodyear.com> Rory Johnston <rory_johnston@goodyear.com>',\n",
       " ' Yuanlong Zhang <yuanlong_zhang@goodyear.com> Rachael Keck <rachael_keck@goodyear.com>',\n",
       " ' Rory Johnston <rory_johnston@goodyear.com> Lena Schulze <jessicaverena_schulze@goodyear.com>',\n",
       " ' Janice Sudia <janice_sudia@goodyear.com> Matt Variola <matthew_variola@goodyear.com>',\n",
       " ' Chris Bochkor <chris_bochkor@goodyear.com> Janice Sudia <janice_sudia@goodyear.com>',\n",
       " ' Smit Modi <smit_modi@goodyear.com> Rachael Keck <rachael_keck@goodyear.com>',\n",
       " ' Fred N Nelson <fred_nelson@goodyear.com> Dan Helmick <dhelmick@goodyear.com>',\n",
       " ' joragsda@amazon.com Jonathan Lindsey <jonathan_lindsey@goodyear.com>',\n",
       " ' Rory Johnston <rory_johnston@goodyear.com> George Marino <george_marino@goodyear.com>',\n",
       " ' Ron Webster <ron_webster@goodyear.com> Danielle Warren <danielle_warren@goodyear.com>',\n",
       " ' Smit Modi <smit_modi@goodyear.com>',\n",
       " 'Max Salviejo <maximo_salviejo@goodyear.com> Wesley Clark <wesley_clark@goodyear.com>',\n",
       " ' Bob Gulcin <robert_gulcin@goodyear.com> Dan Helmick <dhelmick@goodyear.com>',\n",
       " ' Smit Modi <smit_modi@goodyear.com> Kris Wagner <kris_wagner@goodyear.com>',\n",
       " ' Kathy Thomas <kthomas@goodyear.com> Matthew Madaj <matthew_madaj@goodyear.com>',\n",
       " ' Barb Mays <barb_mays@goodyear.com> Ruth Dunlap <ruth_dunlap@goodyear.com>',\n",
       " ' Michael Rife <michael_rife@goodyear.com> Matthew Madaj <matthew_madaj@goodyear.com>',\n",
       " ' Ruth Dunlap <ruth_dunlap@goodyear.com> Adam Birdsall <adam_birdsall@goodyear.com>',\n",
       " ' Janice Sudia <janice_sudia@goodyear.com> Rachael Keck <rachael_keck@goodyear.com>',\n",
       " ' Smit Modi <smit_modi@goodyear.com> Andy Gerzina <andrew_gerzina@goodyear.com>',\n",
       " ' Ruth Dunlap <ruth_dunlap@goodyear.com> Wesley Clark <wesley_clark@goodyear.com>',\n",
       " ' Kathy Thomas <kthomas@goodyear.com>Max Salviejo <maximo_salviejo@goodyear.com>',\n",
       " ' joragsda@amazon.com John Ozarchuk <john_ozarchuk@goodyear.com>',\n",
       " ' Chloe Russell <chloe_russell@goodyear.com>',\n",
       " ' Chad Lauthers <chad_lauthers@goodyear.com> Bob Gulcin <robert_gulcin@goodyear.com>',\n",
       " ' Rory Johnston <rory_johnston@goodyear.com> John Wright <john_wright@goodyear.com>',\n",
       " 'Max Salviejo <maximo_salviejo@goodyear.com> Chloe Russell <chloe_russell@goodyear.com>',\n",
       " ' Kathy Thomas <kthomas@goodyear.com> Christy Lough <christiana_lough@goodyear.com>',\n",
       " ' Bob Gulcin <robert_gulcin@goodyear.com> Danielle Warren <danielle_warren@goodyear.com>',\n",
       " ' Chris Bochkor <chris_bochkor@goodyear.com> Lena Schulze <jessicaverena_schulze@goodyear.com>',\n",
       " ' Bob Gulcin <robert_gulcin@goodyear.com> Kathy Thomas <kthomas@goodyear.com>',\n",
       " ' Steve Tisdale <steve_tisdale@goodyear.com> John Wright <john_wright@goodyear.com>',\n",
       " ' Andy Gerzina <andrew_gerzina@goodyear.com> Barb Callihan <barbara.callihan@goodyear.com>',\n",
       " ' Steve Tisdale <steve_tisdale@goodyear.com> Matthew Madaj <matthew_madaj@goodyear.com>',\n",
       " ' Yuanlong Zhang <yuanlong_zhang@goodyear.com> Barb Callihan <barbara.callihan@goodyear.com>',\n",
       " ' Joseph Sadaka <joseph_sadaka@goodyear.com> Rory Johnston <rory_johnston@goodyear.com>',\n",
       " ' Steve Tisdale <steve_tisdale@goodyear.com> Kris Wagner <kris_wagner@goodyear.com>',\n",
       " ' Christy Lough <christiana_lough@goodyear.com> Barb Mays <barb_mays@goodyear.com>',\n",
       " 'Max Salviejo <maximo_salviejo@goodyear.com> Andy Gerzina <andrew_gerzina@goodyear.com>',\n",
       " ' Chad Lauthers <chad_lauthers@goodyear.com> Louie Gigliotti <louie_gigliotti@goodyear.com>',\n",
       " ' Bob Gulcin <robert_gulcin@goodyear.com> Chloe Russell <chloe_russell@goodyear.com>',\n",
       " ' John Wright <john_wright@goodyear.com> John Wright <john_wright@goodyear.com>',\n",
       " ' Kris Wagner <kris_wagner@goodyear.com> Smit Modi <smit_modi@goodyear.com>',\n",
       " ' Rory Johnston <rory_johnston@goodyear.com> Smit Modi <smit_modi@goodyear.com>',\n",
       " ' Smit Modi <smit_modi@goodyear.com> Barb Callihan <barbara.callihan@goodyear.com>',\n",
       " ' Chloe Russell <chloe_russell@goodyear.com> John Ozarchuk <john_ozarchuk@goodyear.com>',\n",
       " ' Smit Modi <smit_modi@goodyear.com> Matt Variola <matthew_variola@goodyear.com>',\n",
       " ' Barb Mays <barb_mays@goodyear.com> Matthew Madaj <matthew_madaj@goodyear.com>',\n",
       " ' Dan Helmick <dhelmick@goodyear.com> Anna Fischer <anna_fischer@goodyear.com>',\n",
       " ' Nerissa Hao <nerissa_hao@goodyear.com> John Ozarchuk <john_ozarchuk@goodyear.com>',\n",
       " ' Christy Lough <christiana_lough@goodyear.com> Adam Birdsall <adam_birdsall@goodyear.com>',\n",
       " ' Smit Modi <smit_modi@goodyear.com> joragsda@amazon.com',\n",
       " ' Louie Gigliotti <louie_gigliotti@goodyear.com> Ron Webster <ron_webster@goodyear.com>',\n",
       " ' Chris Bochkor <chris_bochkor@goodyear.com> Kris Wagner <kris_wagner@goodyear.com>',\n",
       " ' Chloe Russell <chloe_russell@goodyear.com> Fred N Nelson <fred_nelson@goodyear.com>',\n",
       " ' Ron Webster <ron_webster@goodyear.com> Kris Wagner <kris_wagner@goodyear.com>',\n",
       " ...}"
      ]
     },
     "execution_count": 168,
     "metadata": {},
     "output_type": "execute_result"
    }
   ],
   "source": [
    "\n",
    "set(aws2+aws_final)"
   ]
  },
  {
   "cell_type": "code",
   "execution_count": 172,
   "metadata": {},
   "outputs": [
    {
     "ename": "SyntaxError",
     "evalue": "invalid syntax (<ipython-input-172-d95aa8ea4b83>, line 4)",
     "output_type": "error",
     "traceback": [
      "\u001b[1;36m  File \u001b[1;32m\"<ipython-input-172-d95aa8ea4b83>\"\u001b[1;36m, line \u001b[1;32m4\u001b[0m\n\u001b[1;33m    for num in aws2: name in aws_new:\u001b[0m\n\u001b[1;37m                                     ^\u001b[0m\n\u001b[1;31mSyntaxError\u001b[0m\u001b[1;31m:\u001b[0m invalid syntax\n"
     ]
    }
   ],
   "source": [
    "aws2.sort()\n",
    "aws_new.sort()\n",
    "\n",
    "for num in aws2: name in aws_new:\n",
    "    if num == name:\n",
    "        print(num)\n",
    "    elif num != name:\n",
    "        print(num+''+name)\n",
    "        "
   ]
  },
  {
   "cell_type": "code",
   "execution_count": 179,
   "metadata": {
    "scrolled": true
   },
   "outputs": [
    {
     "name": "stdout",
     "output_type": "stream",
     "text": [
      " Adam Birdsall <adam_birdsall@goodyear.com>\n",
      " Andy Gerzina <andrew_gerzina@goodyear.com>\n",
      " Anna Fischer <anna_fischer@goodyear.com> Avinash Varadapura Ananda Reddy <avinash_reddy@goodyear.com>\n",
      " Barb Callihan <barbara.callihan@goodyear.com>\n",
      " Barb Mays <barb_mays@goodyear.com>\n",
      " Bob Gulcin <robert_gulcin@goodyear.com>\n",
      " Chad Lauthers <chad_lauthers@goodyear.com>\n",
      " Chloe Russell <chloe_russell@goodyear.com>\n",
      " Chris Bochkor <chris_bochkor@goodyear.com>\n",
      " Christy Lough <christiana_lough@goodyear.com>\n",
      " Dakota Duncan <dakota_duncan@goodyear.com>\n",
      " Dan Helmick <dhelmick@goodyear.com>\n",
      " Danielle Warren <danielle_warren@goodyear.com>\n",
      " Fred N Nelson <fred_nelson@goodyear.com>\n",
      " George Marino <george_marino@goodyear.com>\n",
      " Janice Sudia <janice_sudia@goodyear.com>\n",
      " John Ozarchuk <john_ozarchuk@goodyear.com>\n",
      " John Wright <john_wright@goodyear.com>\n",
      " Jonathan Lindsey <jonathan_lindsey@goodyear.com>\n",
      " Joseph Sadaka <joseph_sadaka@goodyear.com>\n",
      " Kathy Thomas <kthomas@goodyear.com>\n",
      " Kevin Smith <kevin.smith@goodyear.com>\n",
      " Kris Wagner <kris_wagner@goodyear.com>\n",
      " Lena Schulze <jessicaverena_schulze@goodyear.com>\n",
      " Louie Gigliotti <louie_gigliotti@goodyear.com>\n",
      " Matt Variola <matthew_variola@goodyear.com>\n",
      " Matthew Madaj <matthew_madaj@goodyear.com>\n",
      " Nerissa Hao <nerissa_hao@goodyear.com> Michael Rife <michael_rife@goodyear.com>\n",
      " Rachael Keck <rachael_keck@goodyear.com> Nerissa Hao <nerissa_hao@goodyear.com>\n",
      " Ron Webster <ron_webster@goodyear.com> Rachael Keck <rachael_keck@goodyear.com>\n",
      " Rory Johnston <rory_johnston@goodyear.com> Ron Webster <ron_webster@goodyear.com>\n",
      " Ruth Dunlap <ruth_dunlap@goodyear.com> Rory Johnston <rory_johnston@goodyear.com>\n",
      " Simone Gabbianelli <simone.gabbianelli@goodyear.com> Ruth Dunlap <ruth_dunlap@goodyear.com>\n",
      " Smit Modi <smit_modi@goodyear.com> Simone Gabbianelli <simone.gabbianelli@goodyear.com>\n",
      " Steve Tisdale <steve_tisdale@goodyear.com> Smit Modi <smit_modi@goodyear.com>\n",
      " Taissa Abdalla Filgueiras de Sousa <taissa_abdallafilgueirasdesousa@goodyear.com> Steve Tisdale <steve_tisdale@goodyear.com>\n",
      " Wesley Clark <wesley_clark@goodyear.com> Taissa Abdalla Filgueiras de Sousa <taissa_abdallafilgueirasdesousa@goodyear.com>\n",
      " Yuanlong Zhang <yuanlong_zhang@goodyear.com> Wesley Clark <wesley_clark@goodyear.com>\n",
      " joragsda@amazon.com Yuanlong Zhang <yuanlong_zhang@goodyear.com>\n",
      "Max Salviejo <maximo_salviejo@goodyear.com> joragsda@amazon.com\n"
     ]
    }
   ],
   "source": [
    "aws2.sort()\n",
    "aws_new.sort()\n",
    "\n",
    "for name1, name2 in zip(aws2, aws_new):\n",
    "    if name1 == name2:\n",
    "        print(name1)\n",
    "    elif name1 != name2:\n",
    "        print(name1+''+name2)"
   ]
  },
  {
   "cell_type": "code",
   "execution_count": null,
   "metadata": {},
   "outputs": [],
   "source": [
    "aws2.sort()\n",
    "aws_new.sort()\n",
    "\n",
    "for name1, name2 in zip(aws2, aws_new):\n",
    "    if name1 == name2:\n",
    "        print(name1)\n",
    "    elif name1 != name2:\n",
    "        print(name1+''+name2)"
   ]
  },
  {
   "cell_type": "code",
   "execution_count": 182,
   "metadata": {},
   "outputs": [
    {
     "name": "stdout",
     "output_type": "stream",
     "text": [
      " Anna Fischer <anna_fischer@goodyear.com>\n",
      " Avinash Varadapura Ananda Reddy <avinash_reddy@goodyear.com>\n",
      " Michael Rife <michael_rife@goodyear.com>\n"
     ]
    }
   ],
   "source": [
    "aws2.sort()\n",
    "aws_new.sort()\n",
    "\n",
    "for name in aws2:\n",
    "    if name not in aws_new:\n",
    "        print(name)\n",
    "        \n",
    "for name2 in aws_new:\n",
    "    if name2 not in aws2:\n",
    "        print(name2)"
   ]
  },
  {
   "cell_type": "code",
   "execution_count": null,
   "metadata": {},
   "outputs": [],
   "source": []
  }
 ],
 "metadata": {
  "kernelspec": {
   "display_name": "Python 3",
   "language": "python",
   "name": "python3"
  },
  "language_info": {
   "codemirror_mode": {
    "name": "ipython",
    "version": 3
   },
   "file_extension": ".py",
   "mimetype": "text/x-python",
   "name": "python",
   "nbconvert_exporter": "python",
   "pygments_lexer": "ipython3",
   "version": "3.7.3"
  }
 },
 "nbformat": 4,
 "nbformat_minor": 2
}
