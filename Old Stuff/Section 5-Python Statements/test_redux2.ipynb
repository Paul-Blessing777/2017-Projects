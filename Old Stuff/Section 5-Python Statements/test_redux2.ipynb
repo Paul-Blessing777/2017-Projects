{
 "cells": [
  {
   "cell_type": "markdown",
   "metadata": {
    "collapsed": true
   },
   "source": [
    "# Statements Assessment Test\n",
    "Let's test your knowledge!"
   ]
  },
  {
   "cell_type": "markdown",
   "metadata": {},
   "source": [
    "_____\n",
    "**Use <code>for</code>, .split(), and <code>if</code> to create a Statement that will print out words that start with 's':**"
   ]
  },
  {
   "cell_type": "code",
   "execution_count": 7,
   "metadata": {},
   "outputs": [],
   "source": [
    "st = 'Print only the words that start with s in this sentence SIO'"
   ]
  },
  {
   "cell_type": "code",
   "execution_count": 8,
   "metadata": {},
   "outputs": [
    {
     "name": "stdout",
     "output_type": "stream",
     "text": [
      "start\n",
      "s\n",
      "sentence\n",
      "SIO\n"
     ]
    }
   ],
   "source": [
    "list1 = st.split()\n",
    "for word in list1:\n",
    "    if word[0].lower() == 's':\n",
    "        print(word)"
   ]
  },
  {
   "cell_type": "markdown",
   "metadata": {},
   "source": [
    "______\n",
    "**Use range() to print all the even numbers from 0 to 10.**"
   ]
  },
  {
   "cell_type": "code",
   "execution_count": 9,
   "metadata": {},
   "outputs": [
    {
     "data": {
      "text/plain": [
       "[0, 2, 4, 6, 8, 10]"
      ]
     },
     "execution_count": 9,
     "metadata": {},
     "output_type": "execute_result"
    }
   ],
   "source": [
    "#Code Here\n",
    "[x for x in range(0,11) if x % 2 == 0]"
   ]
  },
  {
   "cell_type": "markdown",
   "metadata": {},
   "source": [
    "___\n",
    "**Use a List Comprehension to create a list of all numbers between 1 and 50 that are divisible by 3.**"
   ]
  },
  {
   "cell_type": "code",
   "execution_count": 10,
   "metadata": {},
   "outputs": [
    {
     "data": {
      "text/plain": [
       "[3, 6, 9, 12, 15, 18, 21, 24, 27, 30, 33, 36, 39, 42, 45, 48]"
      ]
     },
     "execution_count": 10,
     "metadata": {},
     "output_type": "execute_result"
    }
   ],
   "source": [
    "#Code in this cell\n",
    "[x for x in range(1,51) if x % 3 == 0]"
   ]
  },
  {
   "cell_type": "markdown",
   "metadata": {},
   "source": [
    "_____\n",
    "**Go through the string below and if the length of a word is even print \"even!\"**"
   ]
  },
  {
   "cell_type": "code",
   "execution_count": null,
   "metadata": {},
   "outputs": [],
   "source": [
    "st = 'Print every word in this sentence that has an even number of letters'"
   ]
  },
  {
   "cell_type": "code",
   "execution_count": 14,
   "metadata": {},
   "outputs": [
    {
     "data": {
      "text/plain": [
       "['only', 'that', 'with', 'in', 'this', 'sentence']"
      ]
     },
     "execution_count": 14,
     "metadata": {},
     "output_type": "execute_result"
    }
   ],
   "source": [
    "#Code in this cell\n",
    "list2 = st.split()\n",
    "[word for word in list2 if len(word) % 2 == 0]"
   ]
  },
  {
   "cell_type": "markdown",
   "metadata": {},
   "source": [
    "____\n",
    "**Write a program that prints the integers from 1 to 100. But for multiples of three print \"Fizz\" instead of the number, and for the multiples of five print \"Buzz\". For numbers which are multiples of both three and five print \"FizzBuzz\".**"
   ]
  },
  {
   "cell_type": "code",
   "execution_count": 17,
   "metadata": {},
   "outputs": [
    {
     "name": "stdout",
     "output_type": "stream",
     "text": [
      "Lame\n",
      "Lame\n",
      "Fizz\n",
      "Lame\n",
      "Buzz\n",
      "Fizz\n",
      "Lame\n",
      "Lame\n",
      "Fizz\n",
      "Buzz\n",
      "Lame\n",
      "Fizz\n",
      "Lame\n",
      "Lame\n",
      "FizzBuzz\n",
      "Lame\n",
      "Lame\n",
      "Fizz\n",
      "Lame\n",
      "Buzz\n",
      "Fizz\n",
      "Lame\n",
      "Lame\n",
      "Fizz\n",
      "Buzz\n",
      "Lame\n",
      "Fizz\n",
      "Lame\n",
      "Lame\n",
      "FizzBuzz\n",
      "Lame\n",
      "Lame\n",
      "Fizz\n",
      "Lame\n",
      "Buzz\n",
      "Fizz\n",
      "Lame\n",
      "Lame\n",
      "Fizz\n",
      "Buzz\n",
      "Lame\n",
      "Fizz\n",
      "Lame\n",
      "Lame\n",
      "FizzBuzz\n",
      "Lame\n",
      "Lame\n",
      "Fizz\n",
      "Lame\n",
      "Buzz\n",
      "Fizz\n",
      "Lame\n",
      "Lame\n",
      "Fizz\n",
      "Buzz\n",
      "Lame\n",
      "Fizz\n",
      "Lame\n",
      "Lame\n",
      "FizzBuzz\n",
      "Lame\n",
      "Lame\n",
      "Fizz\n",
      "Lame\n",
      "Buzz\n",
      "Fizz\n",
      "Lame\n",
      "Lame\n",
      "Fizz\n",
      "Buzz\n",
      "Lame\n",
      "Fizz\n",
      "Lame\n",
      "Lame\n",
      "FizzBuzz\n",
      "Lame\n",
      "Lame\n",
      "Fizz\n",
      "Lame\n",
      "Buzz\n",
      "Fizz\n",
      "Lame\n",
      "Lame\n",
      "Fizz\n",
      "Buzz\n",
      "Lame\n",
      "Fizz\n",
      "Lame\n",
      "Lame\n",
      "FizzBuzz\n",
      "Lame\n",
      "Lame\n",
      "Fizz\n",
      "Lame\n",
      "Buzz\n",
      "Fizz\n",
      "Lame\n",
      "Lame\n",
      "Fizz\n",
      "Buzz\n"
     ]
    }
   ],
   "source": [
    "#Code in this cell\n",
    "for number in range(1,101):\n",
    "    if number % 3 == 0 and number % 5 == 0:\n",
    "        print('FizzBuzz')\n",
    "    elif number % 5 == 0:\n",
    "        print('Buzz')\n",
    "    elif number % 3 == 0:\n",
    "        print('Fizz')\n",
    "    else:\n",
    "        print('Lame')"
   ]
  },
  {
   "cell_type": "markdown",
   "metadata": {},
   "source": [
    "____\n",
    "**Use List Comprehension to create a list of the first letters of every word in the string below:**"
   ]
  },
  {
   "cell_type": "code",
   "execution_count": 21,
   "metadata": {},
   "outputs": [],
   "source": [
    "st = 'Create a list of the first letters of every word in this string'"
   ]
  },
  {
   "cell_type": "code",
   "execution_count": 22,
   "metadata": {},
   "outputs": [
    {
     "data": {
      "text/plain": [
       "['C', 'a', 'l', 'o', 't', 'f', 'l', 'o', 'e', 'w', 'i', 't', 's']"
      ]
     },
     "execution_count": 22,
     "metadata": {},
     "output_type": "execute_result"
    }
   ],
   "source": [
    "#Code in this cell\n",
    "st_list = st.split()\n",
    "[letter[0] for letter in st_list]"
   ]
  },
  {
   "cell_type": "markdown",
   "metadata": {},
   "source": [
    "### Great Job!"
   ]
  }
 ],
 "metadata": {
  "kernelspec": {
   "display_name": "Python 3",
   "language": "python",
   "name": "python3"
  },
  "language_info": {
   "codemirror_mode": {
    "name": "ipython",
    "version": 3
   },
   "file_extension": ".py",
   "mimetype": "text/x-python",
   "name": "python",
   "nbconvert_exporter": "python",
   "pygments_lexer": "ipython3",
   "version": "3.7.3"
  }
 },
 "nbformat": 4,
 "nbformat_minor": 1
}
