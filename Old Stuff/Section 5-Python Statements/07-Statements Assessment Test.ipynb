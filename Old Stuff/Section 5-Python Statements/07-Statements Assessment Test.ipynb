{
 "cells": [
  {
   "cell_type": "markdown",
   "metadata": {
    "collapsed": true
   },
   "source": [
    "# Statements Assessment Test\n",
    "Let's test your knowledge!"
   ]
  },
  {
   "cell_type": "markdown",
   "metadata": {},
   "source": [
    "_____\n",
    "**Use <code>for</code>, .split(), and <code>if</code> to create a Statement that will print out words that start with 's':**"
   ]
  },
  {
   "cell_type": "code",
   "execution_count": 65,
   "metadata": {},
   "outputs": [],
   "source": [
    "st = 'Print only the words that start with s in this sentence'"
   ]
  },
  {
   "cell_type": "code",
   "execution_count": 66,
   "metadata": {},
   "outputs": [
    {
     "name": "stdout",
     "output_type": "stream",
     "text": [
      "Sam\n",
      "start\n",
      "s\n",
      "sentence\n"
     ]
    }
   ],
   "source": [
    "for letter in st.split():\n",
    "    if letter[0].lower() == 's':\n",
    "        print(letter)"
   ]
  },
  {
   "cell_type": "markdown",
   "metadata": {},
   "source": [
    "______\n",
    "**Use range() to print all the even numbers from 0 to 10.**"
   ]
  },
  {
   "cell_type": "code",
   "execution_count": 9,
   "metadata": {},
   "outputs": [
    {
     "name": "stdout",
     "output_type": "stream",
     "text": [
      "2\n",
      "4\n",
      "6\n",
      "8\n",
      "10\n"
     ]
    }
   ],
   "source": [
    "for num in range(1,11):\n",
    "    if num % 2 == 0:\n",
    "        print(num)"
   ]
  },
  {
   "cell_type": "markdown",
   "metadata": {},
   "source": [
    "___\n",
    "**Use a List Comprehension to create a list of all numbers between 1 and 50 that are divisible by 3.**"
   ]
  },
  {
   "cell_type": "code",
   "execution_count": 67,
   "metadata": {},
   "outputs": [
    {
     "data": {
      "text/plain": [
       "[3, 6, 9, 12, 15, 18, 21, 24, 27, 30, 33, 36, 39, 42, 45, 48]"
      ]
     },
     "execution_count": 67,
     "metadata": {},
     "output_type": "execute_result"
    }
   ],
   "source": [
    "#Code in this cell\n",
    "[num for num in range(1,51) if num % 3 == 0]"
   ]
  },
  {
   "cell_type": "markdown",
   "metadata": {},
   "source": [
    "_____\n",
    "**Go through the string below and if the length of a word is even print \"even!\"**"
   ]
  },
  {
   "cell_type": "code",
   "execution_count": 47,
   "metadata": {},
   "outputs": [],
   "source": [
    "st = 'Print every word in this sentence that has an even number of letters'"
   ]
  },
  {
   "cell_type": "code",
   "execution_count": 48,
   "metadata": {},
   "outputs": [
    {
     "data": {
      "text/plain": [
       "['Print',\n",
       " 'every',\n",
       " 'word',\n",
       " 'in',\n",
       " 'this',\n",
       " 'sentence',\n",
       " 'that',\n",
       " 'has',\n",
       " 'an',\n",
       " 'even',\n",
       " 'number',\n",
       " 'of',\n",
       " 'letters']"
      ]
     },
     "execution_count": 48,
     "metadata": {},
     "output_type": "execute_result"
    }
   ],
   "source": [
    "st.split()"
   ]
  },
  {
   "cell_type": "code",
   "execution_count": 49,
   "metadata": {},
   "outputs": [
    {
     "data": {
      "text/plain": [
       "['word', 'in', 'this', 'sentence', 'that', 'an', 'even', 'number', 'of']"
      ]
     },
     "execution_count": 49,
     "metadata": {},
     "output_type": "execute_result"
    }
   ],
   "source": [
    "[word for word in st.split() if len(word) % 2 == 0]"
   ]
  },
  {
   "cell_type": "code",
   "execution_count": 61,
   "metadata": {},
   "outputs": [
    {
     "data": {
      "text/plain": [
       "['ODD',\n",
       " 'ODD',\n",
       " 'word ---this word is EVEN',\n",
       " 'in ---this word is EVEN',\n",
       " 'this ---this word is EVEN',\n",
       " 'sentence ---this word is EVEN',\n",
       " 'that ---this word is EVEN',\n",
       " 'ODD',\n",
       " 'an ---this word is EVEN',\n",
       " 'even ---this word is EVEN',\n",
       " 'number ---this word is EVEN',\n",
       " 'of ---this word is EVEN',\n",
       " 'ODD']"
      ]
     },
     "execution_count": 61,
     "metadata": {},
     "output_type": "execute_result"
    }
   ],
   "source": [
    "[f'{word} ---this word is EVEN' if len(word) % 2 == 0 else \"ODD\" for word in st.split()]"
   ]
  },
  {
   "cell_type": "markdown",
   "metadata": {},
   "source": [
    "____\n",
    "**Write a program that prints the integers from 1 to 100. But for multiples of three print \"Fizz\" instead of the number, and for the multiples of five print \"Buzz\". For numbers which are multiples of both three and five print \"FizzBuzz\".**"
   ]
  },
  {
   "cell_type": "code",
   "execution_count": 33,
   "metadata": {},
   "outputs": [
    {
     "ename": "SyntaxError",
     "evalue": "invalid syntax (<ipython-input-33-f2e41e7ff865>, line 1)",
     "output_type": "error",
     "traceback": [
      "\u001b[1;36m  File \u001b[1;32m\"<ipython-input-33-f2e41e7ff865>\"\u001b[1;36m, line \u001b[1;32m1\u001b[0m\n\u001b[1;33m    ['Fizz' if num % 3 == 0 'Buzz' elif num % 5 == 0 'FizzBuzz' elif (num % 3 == 0 and num % 5 == 0) for num in range(1,101)]\u001b[0m\n\u001b[1;37m                                 ^\u001b[0m\n\u001b[1;31mSyntaxError\u001b[0m\u001b[1;31m:\u001b[0m invalid syntax\n"
     ]
    }
   ],
   "source": [
    "['Fizz' if num % 3 == 0 'Buzz' elif num % 5 == 0 'FizzBuzz' elif (num % 3 == 0 and num % 5 == 0) for num in range(1,101)]"
   ]
  },
  {
   "cell_type": "code",
   "execution_count": 38,
   "metadata": {},
   "outputs": [
    {
     "name": "stdout",
     "output_type": "stream",
     "text": [
      "LAME!\n",
      "LAME!\n",
      "Fizz\n",
      "LAME!\n",
      "Buzz\n",
      "Fizz\n",
      "LAME!\n",
      "LAME!\n",
      "Fizz\n",
      "Buzz\n",
      "LAME!\n",
      "Fizz\n",
      "LAME!\n",
      "LAME!\n",
      "FizzBuzz\n",
      "LAME!\n",
      "LAME!\n",
      "Fizz\n",
      "LAME!\n",
      "Buzz\n",
      "Fizz\n",
      "LAME!\n",
      "LAME!\n",
      "Fizz\n",
      "Buzz\n",
      "LAME!\n",
      "Fizz\n",
      "LAME!\n",
      "LAME!\n",
      "FizzBuzz\n",
      "LAME!\n",
      "LAME!\n",
      "Fizz\n",
      "LAME!\n",
      "Buzz\n",
      "Fizz\n",
      "LAME!\n",
      "LAME!\n",
      "Fizz\n",
      "Buzz\n",
      "LAME!\n",
      "Fizz\n",
      "LAME!\n",
      "LAME!\n",
      "FizzBuzz\n",
      "LAME!\n",
      "LAME!\n",
      "Fizz\n",
      "LAME!\n",
      "Buzz\n",
      "Fizz\n",
      "LAME!\n",
      "LAME!\n",
      "Fizz\n",
      "Buzz\n",
      "LAME!\n",
      "Fizz\n",
      "LAME!\n",
      "LAME!\n",
      "FizzBuzz\n",
      "LAME!\n",
      "LAME!\n",
      "Fizz\n",
      "LAME!\n",
      "Buzz\n",
      "Fizz\n",
      "LAME!\n",
      "LAME!\n",
      "Fizz\n",
      "Buzz\n",
      "LAME!\n",
      "Fizz\n",
      "LAME!\n",
      "LAME!\n",
      "FizzBuzz\n",
      "LAME!\n",
      "LAME!\n",
      "Fizz\n",
      "LAME!\n",
      "Buzz\n",
      "Fizz\n",
      "LAME!\n",
      "LAME!\n",
      "Fizz\n",
      "Buzz\n",
      "LAME!\n",
      "Fizz\n",
      "LAME!\n",
      "LAME!\n",
      "FizzBuzz\n",
      "LAME!\n",
      "LAME!\n",
      "Fizz\n",
      "LAME!\n",
      "Buzz\n",
      "Fizz\n",
      "LAME!\n",
      "LAME!\n",
      "Fizz\n",
      "Buzz\n"
     ]
    }
   ],
   "source": [
    "for num in range(1,101):\n",
    "    if num % 3 == 0 and num % 5 == 0:\n",
    "        print('FizzBuzz')\n",
    "    elif num % 5 == 0:\n",
    "        print('Buzz')\n",
    "    elif num % 3 == 0:\n",
    "        print('Fizz')\n",
    "    else:\n",
    "        print('LAME!')"
   ]
  },
  {
   "cell_type": "markdown",
   "metadata": {},
   "source": [
    "____\n",
    "**Use List Comprehension to create a list of the first letters of every word in the string below:**"
   ]
  },
  {
   "cell_type": "code",
   "execution_count": 40,
   "metadata": {},
   "outputs": [],
   "source": [
    "st = 'Create a list of the first letters of every word in this string'"
   ]
  },
  {
   "cell_type": "code",
   "execution_count": 41,
   "metadata": {},
   "outputs": [
    {
     "data": {
      "text/plain": [
       "['C', 'a', 'l', 'o', 't', 'f', 'l', 'o', 'e', 'w', 'i', 't', 's']"
      ]
     },
     "execution_count": 41,
     "metadata": {},
     "output_type": "execute_result"
    }
   ],
   "source": [
    "[word[0] for word in st.split()]"
   ]
  },
  {
   "cell_type": "markdown",
   "metadata": {},
   "source": [
    "### Great Job!"
   ]
  }
 ],
 "metadata": {
  "kernelspec": {
   "display_name": "Python 3",
   "language": "python",
   "name": "python3"
  },
  "language_info": {
   "codemirror_mode": {
    "name": "ipython",
    "version": 3
   },
   "file_extension": ".py",
   "mimetype": "text/x-python",
   "name": "python",
   "nbconvert_exporter": "python",
   "pygments_lexer": "ipython3",
   "version": "3.7.3"
  }
 },
 "nbformat": 4,
 "nbformat_minor": 1
}
