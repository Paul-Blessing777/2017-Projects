{
 "cells": [
  {
   "cell_type": "markdown",
   "metadata": {},
   "source": [
    "NGINX is an open source software for web serving, reverse proxying, caching, load balancing, media streaming and more. <BR> <br>\n",
    "It started out as a web server designed for maximum performance and stability. In addition to its HTTP server capabilities, NGINX can alos function as a proxy server for email (IMAP, POP3,and SMTP) and a reverse proxy and load balancer for HTTP, TCP< and UDP servers."
   ]
  },
  {
   "cell_type": "markdown",
   "metadata": {},
   "source": [
    "A reverse proxy is a server that sits b/w internal applications and external clients, forwarding client requests to the appropriate server. <br> <br>\n",
    "NGINX has a number of advanced load balancing, security, and acceleration features that most specialized applications lack. <br><br>\n",
    "Using NGINX as a reverse proxy enables you to add these features to any application. <br><br>\n",
    "Logging, and application security.\n"
   ]
  },
  {
   "cell_type": "code",
   "execution_count": null,
   "metadata": {},
   "outputs": [],
   "source": []
  }
 ],
 "metadata": {
  "kernelspec": {
   "display_name": "Python 3",
   "language": "python",
   "name": "python3"
  },
  "language_info": {
   "codemirror_mode": {
    "name": "ipython",
    "version": 3
   },
   "file_extension": ".py",
   "mimetype": "text/x-python",
   "name": "python",
   "nbconvert_exporter": "python",
   "pygments_lexer": "ipython3",
   "version": "3.7.3"
  }
 },
 "nbformat": 4,
 "nbformat_minor": 2
}
