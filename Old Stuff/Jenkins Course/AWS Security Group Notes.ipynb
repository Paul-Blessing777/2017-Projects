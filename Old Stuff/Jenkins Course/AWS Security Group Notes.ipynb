{
 "cells": [
  {
   "cell_type": "markdown",
   "metadata": {},
   "source": [
    "## AWS Security Group"
   ]
  },
  {
   "cell_type": "markdown",
   "metadata": {},
   "source": [
    "A security group acts as a virtual firewall that controls the traffic for one or more instances. <br>\n",
    "AWS security groups (SG's) are associated with EC2 instances and provide security at the protocol and port access level. <br>\n",
    "Each security group- working much the same way as a firewall - contains a set of rules that filter traffic coming into and out of an EC2 instance. <br>\n",
    "You can modify the rules for a security group at any time the new rules are automatically applied to all instances that are associated with the security group."
   ]
  },
  {
   "cell_type": "markdown",
   "metadata": {},
   "source": [
    "## Best Practices for Amazon EC2 - Security"
   ]
  },
  {
   "cell_type": "markdown",
   "metadata": {},
   "source": [
    "Manage access to AWS resources and API's using identity federation, IAM users and IAM roles. <br>\n",
    "Establish credential management policies and procedures for creating, distributing, rotating, and revoking AWS access credentials. <br>\n",
    "Implement the least permissive rules for your security group. <br>\n",
    "Regularly path, update and secure the operating system and applications on your instance."
   ]
  },
  {
   "cell_type": "markdown",
   "metadata": {},
   "source": [
    "## AWS Key Pair Notes"
   ]
  },
  {
   "cell_type": "markdown",
   "metadata": {},
   "source": [
    "Amazon EC2 uses public-key cryptography to encrypt and decrypt login information. <br>\n",
    "Public key cryptography uses a public key to encrypt a piece of data, such as a password, then the recipient uses the private key to decrypt the data. <br>\n",
    "The public and private keys are known as a key pair. <br>\n",
    "Public key attached to instance. <br>\n",
    "Private key stored locally. <br>\n",
    "If you lose a private key, there is no way to recover it. <br>\n",
    "if you lose a private key for an instance store-backed instance, you cannot access the instance; you should terminate the instance and launch another using a new key pair."
   ]
  },
  {
   "cell_type": "code",
   "execution_count": null,
   "metadata": {},
   "outputs": [],
   "source": []
  }
 ],
 "metadata": {
  "kernelspec": {
   "display_name": "Python 3",
   "language": "python",
   "name": "python3"
  },
  "language_info": {
   "codemirror_mode": {
    "name": "ipython",
    "version": 3
   },
   "file_extension": ".py",
   "mimetype": "text/x-python",
   "name": "python",
   "nbconvert_exporter": "python",
   "pygments_lexer": "ipython3",
   "version": "3.7.3"
  }
 },
 "nbformat": 4,
 "nbformat_minor": 2
}
