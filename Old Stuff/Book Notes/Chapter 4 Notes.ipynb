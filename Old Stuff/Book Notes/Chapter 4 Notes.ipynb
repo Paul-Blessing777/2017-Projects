{
 "cells": [
  {
   "cell_type": "markdown",
   "metadata": {},
   "source": [
    "#### Section 4.3"
   ]
  },
  {
   "cell_type": "code",
   "execution_count": 1,
   "metadata": {},
   "outputs": [],
   "source": [
    "import graphics # We can import Graphics as I have the graphics.py file in this directory"
   ]
  },
  {
   "cell_type": "code",
   "execution_count": 5,
   "metadata": {},
   "outputs": [],
   "source": [
    "win = graphics.GraphWin() # This creates a window stored in the variable \"win\"\n",
    "# I beliveve the graphics. part is telling python it is part of the graphics class"
   ]
  },
  {
   "cell_type": "code",
   "execution_count": 4,
   "metadata": {
    "scrolled": true
   },
   "outputs": [
    {
     "data": {
      "text/plain": [
       "<Closed GraphWin>"
      ]
     },
     "execution_count": 4,
     "metadata": {},
     "output_type": "execute_result"
    }
   ],
   "source": [
    "win # This gives us info about the win object"
   ]
  },
  {
   "cell_type": "code",
   "execution_count": 6,
   "metadata": {},
   "outputs": [],
   "source": [
    "win.close() # This method .close() Closes the window"
   ]
  },
  {
   "cell_type": "code",
   "execution_count": 1,
   "metadata": {},
   "outputs": [],
   "source": [
    "# We can avoid having to give .graphics every time by importing everything from the graphics class like this:\n",
    "from graphics import *"
   ]
  },
  {
   "cell_type": "code",
   "execution_count": 8,
   "metadata": {},
   "outputs": [],
   "source": [
    "win1 = GraphWin() # now we don't need the .graphics part"
   ]
  },
  {
   "cell_type": "code",
   "execution_count": 10,
   "metadata": {},
   "outputs": [],
   "source": [
    "win1.close() # closing the window"
   ]
  },
  {
   "cell_type": "code",
   "execution_count": 14,
   "metadata": {},
   "outputs": [
    {
     "data": {
      "text/plain": [
       "50.0"
      ]
     },
     "execution_count": 14,
     "metadata": {},
     "output_type": "execute_result"
    }
   ],
   "source": [
    "# The default graphic created by GraphWin is 200 by 200 pixels for a total of 40,000 pixels\n",
    "# Each pixel is represented by a coordinate pair (x,y)\n",
    "# The starting point for a grpahic is (0,0) in the upper left hand corner.\n",
    "# THe x values increase from left to right and the y increase from top to bottom, making the final point the lower right corner\n",
    "p = Point(50,60) # This creates a point with these coordinates\n",
    "p.getX() # this method returns the x value"
   ]
  },
  {
   "cell_type": "code",
   "execution_count": 15,
   "metadata": {},
   "outputs": [
    {
     "data": {
      "text/plain": [
       "60.0"
      ]
     },
     "execution_count": 15,
     "metadata": {},
     "output_type": "execute_result"
    }
   ],
   "source": [
    "p.getY() # This method returns the y value"
   ]
  },
  {
   "cell_type": "code",
   "execution_count": 17,
   "metadata": {},
   "outputs": [],
   "source": [
    "win = GraphWin() # Re creating win since it was closed"
   ]
  },
  {
   "cell_type": "code",
   "execution_count": 18,
   "metadata": {},
   "outputs": [
    {
     "data": {
      "text/plain": [
       "Point(50.0, 60.0)"
      ]
     },
     "execution_count": 18,
     "metadata": {},
     "output_type": "execute_result"
    }
   ],
   "source": [
    "p.draw(win) # The draw() method draws the point on the window"
   ]
  },
  {
   "cell_type": "code",
   "execution_count": 23,
   "metadata": {},
   "outputs": [],
   "source": [
    "p2 = Point(200,199) # making another point"
   ]
  },
  {
   "cell_type": "code",
   "execution_count": 24,
   "metadata": {},
   "outputs": [
    {
     "data": {
      "text/plain": [
       "200.0"
      ]
     },
     "execution_count": 24,
     "metadata": {},
     "output_type": "execute_result"
    }
   ],
   "source": [
    "p2.getX() # Getting X value"
   ]
  },
  {
   "cell_type": "code",
   "execution_count": 25,
   "metadata": {},
   "outputs": [
    {
     "data": {
      "text/plain": [
       "199.0"
      ]
     },
     "execution_count": 25,
     "metadata": {},
     "output_type": "execute_result"
    }
   ],
   "source": [
    "p2.getY() # Getting y value"
   ]
  },
  {
   "cell_type": "code",
   "execution_count": 26,
   "metadata": {},
   "outputs": [
    {
     "data": {
      "text/plain": [
       "Point(200.0, 199.0)"
      ]
     },
     "execution_count": 26,
     "metadata": {},
     "output_type": "execute_result"
    }
   ],
   "source": [
    "p2.draw(win) # This draws the second value on the window"
   ]
  },
  {
   "cell_type": "code",
   "execution_count": 68,
   "metadata": {},
   "outputs": [],
   "source": [
    "win.close()"
   ]
  },
  {
   "cell_type": "code",
   "execution_count": 69,
   "metadata": {},
   "outputs": [],
   "source": [
    "win = GraphWin('Shapes') # You can pass a string in this method and it names the window"
   ]
  },
  {
   "cell_type": "code",
   "execution_count": 70,
   "metadata": {},
   "outputs": [],
   "source": [
    "center = Point(100,100)"
   ]
  },
  {
   "cell_type": "code",
   "execution_count": 71,
   "metadata": {},
   "outputs": [],
   "source": [
    "circ = Circle(center,30) # The circle function creates a circle object with the center value, and a radius value\n",
    "# So this will make a circle with a center at our center variable with a radius around it of 30"
   ]
  },
  {
   "cell_type": "code",
   "execution_count": 72,
   "metadata": {},
   "outputs": [],
   "source": [
    "circ.setFill('Green') # Set Fill method fills the circle with a color"
   ]
  },
  {
   "cell_type": "code",
   "execution_count": 73,
   "metadata": {},
   "outputs": [],
   "source": [
    "circ.setOutline('Red') # Set outline method colors the outline"
   ]
  },
  {
   "cell_type": "code",
   "execution_count": 74,
   "metadata": {},
   "outputs": [
    {
     "data": {
      "text/plain": [
       "Circle(Point(100.0, 100.0), 30)"
      ]
     },
     "execution_count": 74,
     "metadata": {},
     "output_type": "execute_result"
    }
   ],
   "source": [
    "circ.draw(win) # Here we are drawing the circle on the window"
   ]
  },
  {
   "cell_type": "code",
   "execution_count": 75,
   "metadata": {},
   "outputs": [],
   "source": [
    "label = Text(center, \"Green Circle\") # The text object is created with the point were it will display the text and\n",
    "#the text to display"
   ]
  },
  {
   "cell_type": "code",
   "execution_count": 76,
   "metadata": {},
   "outputs": [
    {
     "data": {
      "text/plain": [
       "Text(Point(100.0, 100.0), 'Green Circle')"
      ]
     },
     "execution_count": 76,
     "metadata": {},
     "output_type": "execute_result"
    }
   ],
   "source": [
    "label.draw(win) # Drawing the label of the circle"
   ]
  },
  {
   "cell_type": "code",
   "execution_count": 77,
   "metadata": {},
   "outputs": [],
   "source": [
    "rect = Rectangle(Point(30,30), Point(70,70)) # This creates a rectangle object with the points provided"
   ]
  },
  {
   "cell_type": "code",
   "execution_count": 78,
   "metadata": {},
   "outputs": [
    {
     "data": {
      "text/plain": [
       "Rectangle(Point(30.0, 30.0), Point(70.0, 70.0))"
      ]
     },
     "execution_count": 78,
     "metadata": {},
     "output_type": "execute_result"
    }
   ],
   "source": [
    "rect.draw(win)"
   ]
  },
  {
   "cell_type": "code",
   "execution_count": 79,
   "metadata": {},
   "outputs": [],
   "source": [
    "line = Line(Point(30,30), Point(180,165)) # Creating a line object"
   ]
  },
  {
   "cell_type": "code",
   "execution_count": 85,
   "metadata": {},
   "outputs": [
    {
     "data": {
      "text/plain": [
       "graphics.Line"
      ]
     },
     "execution_count": 85,
     "metadata": {},
     "output_type": "execute_result"
    }
   ],
   "source": [
    "type(line) # This highlights that line is part ofthe graphics class and is an object type"
   ]
  },
  {
   "cell_type": "code",
   "execution_count": 80,
   "metadata": {},
   "outputs": [
    {
     "data": {
      "text/plain": [
       "Line(Point(30.0, 30.0), Point(180.0, 165.0))"
      ]
     },
     "execution_count": 80,
     "metadata": {},
     "output_type": "execute_result"
    }
   ],
   "source": [
    "line.draw(win)"
   ]
  },
  {
   "cell_type": "code",
   "execution_count": 81,
   "metadata": {},
   "outputs": [],
   "source": [
    "oval = Oval(Point(20,150), Point(180,199)) # Creating a oval object"
   ]
  },
  {
   "cell_type": "code",
   "execution_count": 82,
   "metadata": {},
   "outputs": [
    {
     "data": {
      "text/plain": [
       "Oval(Point(20.0, 150.0), Point(180.0, 199.0))"
      ]
     },
     "execution_count": 82,
     "metadata": {},
     "output_type": "execute_result"
    }
   ],
   "source": [
    "oval.draw(win)"
   ]
  },
  {
   "cell_type": "code",
   "execution_count": 84,
   "metadata": {},
   "outputs": [],
   "source": [
    "win.close() # Closing the window"
   ]
  },
  {
   "cell_type": "code",
   "execution_count": 86,
   "metadata": {},
   "outputs": [],
   "source": [
    "# THe naming convetion for variables is to start lower_case and for objects to be upper case\n",
    "# This allows us to easily find out which is which\n",
    "line = Line(Point(2,3), Point(100,150))"
   ]
  },
  {
   "cell_type": "markdown",
   "metadata": {},
   "source": [
    "End Result"
   ]
  },
  {
   "cell_type": "markdown",
   "metadata": {},
   "source": [
    "<img src=\"CAPTURE.png\">"
   ]
  },
  {
   "cell_type": "code",
   "execution_count": 98,
   "metadata": {},
   "outputs": [],
   "source": [
    "window = GraphWin(\"Test\", 500,500) # This highlights that the GraphWin object can have its size determined"
   ]
  },
  {
   "cell_type": "code",
   "execution_count": 95,
   "metadata": {},
   "outputs": [
    {
     "data": {
      "text/plain": [
       "Point(368.0, 254.0)"
      ]
     },
     "execution_count": 95,
     "metadata": {},
     "output_type": "execute_result"
    }
   ],
   "source": [
    "window.getMouse()"
   ]
  },
  {
   "cell_type": "code",
   "execution_count": 99,
   "metadata": {},
   "outputs": [],
   "source": [
    "window.close()"
   ]
  },
  {
   "cell_type": "markdown",
   "metadata": {},
   "source": [
    "## 4.4 Using Graphical Objects"
   ]
  },
  {
   "cell_type": "markdown",
   "metadata": {},
   "source": [
    "In the prior examples we just did we used many different kinds of classes such as: GraphWin, Point, Circle, Line, Oval, and Rectangle. <br><br>\n",
    "For example. window = GraphWin(\"Test\", 500,500) window is an object of the \"GraphWin\" class. Every object of a class must have certain parameters to initalize that object. Like GraphWin which needs an x and y point. <br><br>\n",
    "A good way of thinking about objects is to think of dogs. My dog lucy is a specific dog but she is part of the class we know of as \"Dogs.\" So we could think of Lucy as an object of the dog class. And all dog objects in this class would share similar features, such as walking on 4 legs, barking, and being a goof.\n"
   ]
  },
  {
   "cell_type": "markdown",
   "metadata": {},
   "source": [
    "Classes must be constructed like so: \n"
   ]
  },
  {
   "cell_type": "code",
   "execution_count": 100,
   "metadata": {},
   "outputs": [],
   "source": [
    "#<class-name>(<param1>, <param2>)"
   ]
  },
  {
   "cell_type": "markdown",
   "metadata": {},
   "source": [
    "We use methods to send messages to objects to do something. Methods are essentailly functions that live inside an object. They are invoked like so:"
   ]
  },
  {
   "cell_type": "code",
   "execution_count": 101,
   "metadata": {},
   "outputs": [],
   "source": [
    "#<object>.<method_name>(param1,param2)"
   ]
  },
  {
   "cell_type": "code",
   "execution_count": 103,
   "metadata": {},
   "outputs": [],
   "source": [
    "p = Point(2,3) # making an object p of the Point class"
   ]
  },
  {
   "cell_type": "code",
   "execution_count": 104,
   "metadata": {},
   "outputs": [
    {
     "data": {
      "text/plain": [
       "2.0"
      ]
     },
     "execution_count": 104,
     "metadata": {},
     "output_type": "execute_result"
    }
   ],
   "source": [
    "# Here are examples of using methods for the Point class\n",
    "p.getX()"
   ]
  },
  {
   "cell_type": "code",
   "execution_count": 105,
   "metadata": {},
   "outputs": [
    {
     "data": {
      "text/plain": [
       "3.0"
      ]
     },
     "execution_count": 105,
     "metadata": {},
     "output_type": "execute_result"
    }
   ],
   "source": [
    "p.getY()"
   ]
  },
  {
   "cell_type": "markdown",
   "metadata": {},
   "source": [
    "These two methods are called accessor methods as they allow us to access info from the instance variable object."
   ]
  },
  {
   "cell_type": "code",
   "execution_count": 106,
   "metadata": {},
   "outputs": [],
   "source": [
    "# More method examples\n",
    "p.move(10,0) # The move method moves points of a Point object by the specified amount"
   ]
  },
  {
   "cell_type": "code",
   "execution_count": 108,
   "metadata": {},
   "outputs": [
    {
     "data": {
      "text/plain": [
       "12.0"
      ]
     },
     "execution_count": 108,
     "metadata": {},
     "output_type": "execute_result"
    }
   ],
   "source": [
    "p.getX() # and we see that the method worked and move X 10 places."
   ]
  },
  {
   "cell_type": "markdown",
   "metadata": {},
   "source": [
    "These kinds of methods are called \"mutators\" as they change the state of the object."
   ]
  },
  {
   "cell_type": "markdown",
   "metadata": {},
   "source": [
    "--"
   ]
  },
  {
   "cell_type": "markdown",
   "metadata": {},
   "source": [
    "Some methods actually require an object as a parameter. Consider the following example:"
   ]
  },
  {
   "cell_type": "code",
   "execution_count": 109,
   "metadata": {},
   "outputs": [
    {
     "data": {
      "text/plain": [
       "Circle(Point(100.0, 100.0), 30)"
      ]
     },
     "execution_count": 109,
     "metadata": {},
     "output_type": "execute_result"
    }
   ],
   "source": [
    "circ = Circle(Point(100,100), 30)\n",
    "win = GraphWin()\n",
    "circ.draw(win)"
   ]
  },
  {
   "cell_type": "markdown",
   "metadata": {},
   "source": [
    "The first line uses a point object for its center.<br>\n",
    "The second line creates a window object.<br>\n",
    "The third line uses the win object in order to draw the circle on the window"
   ]
  },
  {
   "cell_type": "code",
   "execution_count": 113,
   "metadata": {},
   "outputs": [
    {
     "data": {
      "text/plain": [
       "Circle(Point(80.0, 50.0), 5)"
      ]
     },
     "execution_count": 113,
     "metadata": {},
     "output_type": "execute_result"
    }
   ],
   "source": [
    "# We need to be careful with objects as it is possible to have two diff variables refer to the same object\n",
    "# Below is an example\n",
    "leftEye = Circle(Point(80,50), 5)\n",
    "leftEye.setFill('yellow')\n",
    "leftEye.setOutline('red')\n",
    "leftEye.draw(win)"
   ]
  },
  {
   "cell_type": "code",
   "execution_count": 116,
   "metadata": {},
   "outputs": [
    {
     "ename": "GraphicsError",
     "evalue": "Object currently drawn",
     "output_type": "error",
     "traceback": [
      "\u001b[1;31m---------------------------------------------------------------------------\u001b[0m",
      "\u001b[1;31mGraphicsError\u001b[0m                             Traceback (most recent call last)",
      "\u001b[1;32m<ipython-input-116-f4a26ce57a55>\u001b[0m in \u001b[0;36m<module>\u001b[1;34m\u001b[0m\n\u001b[0;32m      3\u001b[0m \u001b[0mrightEye\u001b[0m \u001b[1;33m=\u001b[0m \u001b[0mleftEye\u001b[0m\u001b[1;33m\u001b[0m\u001b[1;33m\u001b[0m\u001b[0m\n\u001b[0;32m      4\u001b[0m \u001b[0mrightEye\u001b[0m\u001b[1;33m.\u001b[0m\u001b[0mmove\u001b[0m\u001b[1;33m(\u001b[0m\u001b[1;36m20\u001b[0m\u001b[1;33m,\u001b[0m\u001b[1;36m0\u001b[0m\u001b[1;33m)\u001b[0m\u001b[1;33m\u001b[0m\u001b[1;33m\u001b[0m\u001b[0m\n\u001b[1;32m----> 5\u001b[1;33m \u001b[0mrightEye\u001b[0m\u001b[1;33m.\u001b[0m\u001b[0mdraw\u001b[0m\u001b[1;33m(\u001b[0m\u001b[0mwin\u001b[0m\u001b[1;33m)\u001b[0m\u001b[1;33m\u001b[0m\u001b[1;33m\u001b[0m\u001b[0m\n\u001b[0m",
      "\u001b[1;32m~\\OneDrive - Goodyear\\Python\\Book Notes\\graphics.py\u001b[0m in \u001b[0;36mdraw\u001b[1;34m(self, graphwin)\u001b[0m\n\u001b[0;32m    479\u001b[0m         is already visible.\"\"\"\n\u001b[0;32m    480\u001b[0m \u001b[1;33m\u001b[0m\u001b[0m\n\u001b[1;32m--> 481\u001b[1;33m         \u001b[1;32mif\u001b[0m \u001b[0mself\u001b[0m\u001b[1;33m.\u001b[0m\u001b[0mcanvas\u001b[0m \u001b[1;32mand\u001b[0m \u001b[1;32mnot\u001b[0m \u001b[0mself\u001b[0m\u001b[1;33m.\u001b[0m\u001b[0mcanvas\u001b[0m\u001b[1;33m.\u001b[0m\u001b[0misClosed\u001b[0m\u001b[1;33m(\u001b[0m\u001b[1;33m)\u001b[0m\u001b[1;33m:\u001b[0m \u001b[1;32mraise\u001b[0m \u001b[0mGraphicsError\u001b[0m\u001b[1;33m(\u001b[0m\u001b[0mOBJ_ALREADY_DRAWN\u001b[0m\u001b[1;33m)\u001b[0m\u001b[1;33m\u001b[0m\u001b[1;33m\u001b[0m\u001b[0m\n\u001b[0m\u001b[0;32m    482\u001b[0m         \u001b[1;32mif\u001b[0m \u001b[0mgraphwin\u001b[0m\u001b[1;33m.\u001b[0m\u001b[0misClosed\u001b[0m\u001b[1;33m(\u001b[0m\u001b[1;33m)\u001b[0m\u001b[1;33m:\u001b[0m \u001b[1;32mraise\u001b[0m \u001b[0mGraphicsError\u001b[0m\u001b[1;33m(\u001b[0m\u001b[1;34m\"Can't draw to closed window\"\u001b[0m\u001b[1;33m)\u001b[0m\u001b[1;33m\u001b[0m\u001b[1;33m\u001b[0m\u001b[0m\n\u001b[0;32m    483\u001b[0m         \u001b[0mself\u001b[0m\u001b[1;33m.\u001b[0m\u001b[0mcanvas\u001b[0m \u001b[1;33m=\u001b[0m \u001b[0mgraphwin\u001b[0m\u001b[1;33m\u001b[0m\u001b[1;33m\u001b[0m\u001b[0m\n",
      "\u001b[1;31mGraphicsError\u001b[0m: Object currently drawn"
     ]
    }
   ],
   "source": [
    "# Now we want to make the right eye so we think we can just copy the left eye then move it\n",
    "# So let's give that a try\n",
    "rightEye = leftEye\n",
    "rightEye.move(20,0)\n",
    "rightEye.draw(win)\n",
    "# This will throw an error as the rightEye variable is reffering to the same object as the leftEye one."
   ]
  },
  {
   "cell_type": "markdown",
   "metadata": {},
   "source": [
    "We could just write out the rightEye as a solution but that is tedious. Luckily the Circle object has a clone method. Let's try it out."
   ]
  },
  {
   "cell_type": "code",
   "execution_count": 125,
   "metadata": {},
   "outputs": [],
   "source": [
    "win.close()\n",
    "win = GraphWin()"
   ]
  },
  {
   "cell_type": "code",
   "execution_count": 126,
   "metadata": {},
   "outputs": [],
   "source": [
    "# Correct way\n",
    "leftEye = Circle(Point(80,50), 5)\n",
    "leftEye.setFill('yellow')\n",
    "leftEye.setOutline('red')\n",
    "rightEye = leftEye.clone() # Right Eye is an exact copy of the left\n",
    "rightEye.move(20,0)"
   ]
  },
  {
   "cell_type": "code",
   "execution_count": 127,
   "metadata": {},
   "outputs": [],
   "source": [
    "leftEye.draw(win)\n",
    "rightEye.draw(win)\n",
    "# And we see that this worked\n",
    "win.close()"
   ]
  },
  {
   "cell_type": "markdown",
   "metadata": {},
   "source": [
    "## 4.5 Graphing Future Value"
   ]
  },
  {
   "cell_type": "code",
   "execution_count": 7,
   "metadata": {},
   "outputs": [
    {
     "name": "stdout",
     "output_type": "stream",
     "text": [
      "This program plots the growth of a 10-year investment.\n",
      "Enter the initial principal: e\n"
     ]
    },
    {
     "ename": "ValueError",
     "evalue": "could not convert string to float: 'e'",
     "output_type": "error",
     "traceback": [
      "\u001b[1;31m---------------------------------------------------------------------------\u001b[0m",
      "\u001b[1;31mValueError\u001b[0m                                Traceback (most recent call last)",
      "\u001b[1;32m<ipython-input-7-5a848fb3d69e>\u001b[0m in \u001b[0;36m<module>\u001b[1;34m\u001b[0m\n\u001b[0;32m     41\u001b[0m     \u001b[0mwin\u001b[0m\u001b[1;33m.\u001b[0m\u001b[0mclose\u001b[0m\u001b[1;33m(\u001b[0m\u001b[1;33m)\u001b[0m\u001b[1;33m\u001b[0m\u001b[1;33m\u001b[0m\u001b[0m\n\u001b[0;32m     42\u001b[0m \u001b[1;33m\u001b[0m\u001b[0m\n\u001b[1;32m---> 43\u001b[1;33m \u001b[0mmain\u001b[0m\u001b[1;33m(\u001b[0m\u001b[1;33m)\u001b[0m\u001b[1;33m\u001b[0m\u001b[1;33m\u001b[0m\u001b[0m\n\u001b[0m",
      "\u001b[1;32m<ipython-input-7-5a848fb3d69e>\u001b[0m in \u001b[0;36mmain\u001b[1;34m()\u001b[0m\n\u001b[0;32m      6\u001b[0m \u001b[1;33m\u001b[0m\u001b[0m\n\u001b[0;32m      7\u001b[0m     \u001b[1;31m# Get principal and interest rate\u001b[0m\u001b[1;33m\u001b[0m\u001b[1;33m\u001b[0m\u001b[1;33m\u001b[0m\u001b[0m\n\u001b[1;32m----> 8\u001b[1;33m     \u001b[0mprincipal\u001b[0m \u001b[1;33m=\u001b[0m \u001b[0mfloat\u001b[0m\u001b[1;33m(\u001b[0m\u001b[0minput\u001b[0m\u001b[1;33m(\u001b[0m\u001b[1;34m\"Enter the initial principal: \"\u001b[0m\u001b[1;33m)\u001b[0m\u001b[1;33m)\u001b[0m\u001b[1;33m\u001b[0m\u001b[1;33m\u001b[0m\u001b[0m\n\u001b[0m\u001b[0;32m      9\u001b[0m     \u001b[0mapr\u001b[0m \u001b[1;33m=\u001b[0m \u001b[0mfloat\u001b[0m\u001b[1;33m(\u001b[0m\u001b[0minput\u001b[0m\u001b[1;33m(\u001b[0m\u001b[1;34m\"Enter the annualized interest rate: \"\u001b[0m\u001b[1;33m)\u001b[0m\u001b[1;33m)\u001b[0m\u001b[1;33m\u001b[0m\u001b[1;33m\u001b[0m\u001b[0m\n\u001b[0;32m     10\u001b[0m \u001b[1;33m\u001b[0m\u001b[0m\n",
      "\u001b[1;31mValueError\u001b[0m: could not convert string to float: 'e'"
     ]
    }
   ],
   "source": [
    "from graphics import *\n",
    "\n",
    "def main():\n",
    "    # Introduction\n",
    "    print(\"This program plots the growth of a 10-year investment.\")\n",
    "\n",
    "    # Get principal and interest rate\n",
    "    principal = float(input(\"Enter the initial principal: \"))\n",
    "    apr = float(input(\"Enter the annualized interest rate: \"))\n",
    "\n",
    "    # Create a graphics window with labels on left edge\n",
    "    win = GraphWin(\"Investment Growth Chart\", 320, 240)\n",
    "    win.setBackground(\"white\")\n",
    "    Text(Point(20, 230), ' 0.0K').draw(win)\n",
    "    Text(Point(20, 180), ' 2.5K').draw(win)\n",
    "    Text(Point(20, 130), ' 5.0K').draw(win)\n",
    "    Text(Point(20, 80), ' 7.5K').draw(win)\n",
    "    Text(Point(20, 30), '10.0K').draw(win)\n",
    "\n",
    "    # Draw bar for initial principal\n",
    "    height = principal * 0.02\n",
    "    bar = Rectangle(Point(40, 230), Point(65, 230-height))\n",
    "    bar.setFill(\"green\")\n",
    "    bar.setWidth(2)\n",
    "    bar.draw(win)\n",
    "\n",
    "    # Draw bars for successive years\n",
    "    for year in range(1,11):\n",
    "        # calculate value for the next year\n",
    "        principal = principal * (1 + apr)\n",
    "        # draw bar for this value\n",
    "        xll = year * 25 + 40\n",
    "        height = principal * 0.02\n",
    "        bar = Rectangle(Point(xll, 230), Point(xll+25, 230-height))\n",
    "        bar.setFill(\"green\")\n",
    "        bar.setWidth(2)\n",
    "        bar.draw(win)\n",
    "\n",
    "    \n",
    "    input(\"Press <Enter> to quit\")\n",
    "    win.close()\n",
    "\n",
    "main()"
   ]
  },
  {
   "cell_type": "code",
   "execution_count": 66,
   "metadata": {},
   "outputs": [],
   "source": [
    "win.close()"
   ]
  },
  {
   "cell_type": "code",
   "execution_count": 63,
   "metadata": {},
   "outputs": [],
   "source": [
    "win = GraphWin(\"Finance Calc\",1000,500)"
   ]
  },
  {
   "cell_type": "code",
   "execution_count": 2,
   "metadata": {},
   "outputs": [],
   "source": [
    "from graphics import *"
   ]
  },
  {
   "cell_type": "code",
   "execution_count": 64,
   "metadata": {},
   "outputs": [
    {
     "data": {
      "text/plain": [
       "Text(Point(60.0, 60.0), '120.0K')"
      ]
     },
     "execution_count": 64,
     "metadata": {},
     "output_type": "execute_result"
    }
   ],
   "source": [
    "Text(Point(60, 460), ' 0.0K').draw(win)\n",
    "Text(Point(60, 420), ' 10.0K').draw(win)\n",
    "Text(Point(60, 380), ' 20.0K').draw(win)\n",
    "Text(Point(60, 340), ' 40.0K').draw(win)\n",
    "Text(Point(60, 300), ' 50.0K').draw(win)\n",
    "Text(Point(60, 260), '60.0K').draw(win)\n",
    "Text(Point(60, 220), '70.0K').draw(win)\n",
    "Text(Point(60, 180), '80.0K').draw(win)\n",
    "Text(Point(60, 140), '90.0K').draw(win)\n",
    "Text(Point(60, 100), '100.0K').draw(win)\n",
    "Text(Point(60, 60), '110.0K').draw(win)\n",
    "Text(Point(60, 20), '120.0K').draw(win)"
   ]
  },
  {
   "cell_type": "markdown",
   "metadata": {},
   "source": [
    "We can use the setCoords method to automatically scale things"
   ]
  },
  {
   "cell_type": "code",
   "execution_count": 7,
   "metadata": {},
   "outputs": [
    {
     "data": {
      "text/plain": [
       "Line(Point(0.0, 2.0), Point(3.0, 2.0))"
      ]
     },
     "execution_count": 7,
     "metadata": {},
     "output_type": "execute_result"
    }
   ],
   "source": [
    "# Create a default 200*200 window\n",
    "win = GraphWin(\"Tic-Tac-Toe\")\n",
    "\n",
    "# set coordinates to go from (0,0) in the lower left to (3,3) in the upper right\n",
    "win.setCoords(0.0, 0.0, 3.0, 3.0)\n",
    "\n",
    "# Draw vertical lines\n",
    "Line(Point(1,0), Point(1,3)).draw(win)\n",
    "Line(Point(2,0), Point(2,3)).draw(win)\n",
    "\n",
    "# Draw horizantal lines\n",
    "Line(Point(0,1), Point(3,1)).draw(win)\n",
    "Line(Point(0,2), Point(3,2)).draw(win)"
   ]
  },
  {
   "cell_type": "code",
   "execution_count": 11,
   "metadata": {},
   "outputs": [],
   "source": [
    "win.close()"
   ]
  },
  {
   "cell_type": "markdown",
   "metadata": {},
   "source": [
    "I think I understand how this works. We are basically saying with setCoords. Ignore however big the window is, instead, treat it as if it is a 0,0 to 3,3 graph. This way we can make our lines within that set coordinate framework and the size of the window should not matter!"
   ]
  },
  {
   "cell_type": "markdown",
   "metadata": {},
   "source": [
    "This should give us the same model but just on a larger window"
   ]
  },
  {
   "cell_type": "code",
   "execution_count": 9,
   "metadata": {},
   "outputs": [
    {
     "data": {
      "text/plain": [
       "Line(Point(0.0, 2.0), Point(3.0, 2.0))"
      ]
     },
     "execution_count": 9,
     "metadata": {},
     "output_type": "execute_result"
    }
   ],
   "source": [
    "# Create a default 200*200 window\n",
    "win = GraphWin(\"Tic-Tac-Toe\",500,500)\n",
    "\n",
    "# set coordinates to go from (0,0) in the lower left to (3,3) in the upper right\n",
    "win.setCoords(0.0, 0.0, 3.0, 3.0)\n",
    "\n",
    "# Draw vertical lines\n",
    "Line(Point(1,0), Point(1,3)).draw(win)\n",
    "Line(Point(2,0), Point(2,3)).draw(win)\n",
    "\n",
    "# Draw horizantal lines\n",
    "Line(Point(0,1), Point(3,1)).draw(win)\n",
    "Line(Point(0,2), Point(3,2)).draw(win)"
   ]
  },
  {
   "cell_type": "markdown",
   "metadata": {},
   "source": [
    "Finance calculator with set coordinates"
   ]
  },
  {
   "cell_type": "code",
   "execution_count": 13,
   "metadata": {},
   "outputs": [
    {
     "name": "stdout",
     "output_type": "stream",
     "text": [
      "This program plots the growth of a 10-year investment.\n",
      "Enter the initial principal: 1000\n",
      "Enter the annualized interest rate: .06\n",
      "Press <Enter> to quit.f\n"
     ]
    }
   ],
   "source": [
    "# futval_graph2.py\n",
    "\n",
    "from graphics import *\n",
    "\n",
    "def main():\n",
    "    # Introduction\n",
    "    print(\"This program plots the growth of a 10-year investment.\")\n",
    "\n",
    "    # Get principal and interest rate\n",
    "    principal = float(input(\"Enter the initial principal: \"))\n",
    "    apr = float(input(\"Enter the annualized interest rate: \"))\n",
    "\n",
    "    # Create a graphics window with labels on left edge\n",
    "    win = GraphWin(\"Investment Growth Chart\", 320, 240)\n",
    "    win.setBackground(\"white\")\n",
    "    win.setCoords(-1.75,-200, 11.5, 10400)\n",
    "    Text(Point(-1, 0), ' 0.0K').draw(win)\n",
    "    Text(Point(-1, 2500), ' 2.5K').draw(win)\n",
    "    Text(Point(-1, 5000), ' 5.0K').draw(win)\n",
    "    Text(Point(-1, 7500), ' 7.5k').draw(win)\n",
    "    Text(Point(-1, 10000), '10.0K').draw(win)\n",
    "\n",
    "    # Draw bar for initial principal\n",
    "    bar = Rectangle(Point(0, 0), Point(1, principal))\n",
    "    bar.setFill(\"green\")\n",
    "    bar.setWidth(2)\n",
    "    bar.draw(win)\n",
    "    \n",
    "    # Draw a bar for each subsequent year\n",
    "    for year in range(1, 11):\n",
    "        principal = principal * (1 + apr)\n",
    "        bar = Rectangle(Point(year, 0), Point(year+1, principal))\n",
    "        bar.setFill(\"green\")\n",
    "        bar.setWidth(2)\n",
    "        bar.draw(win)\n",
    "\n",
    "    input(\"Press <Enter> to quit.\")\n",
    "    win.close()\n",
    "\n",
    "main()"
   ]
  },
  {
   "cell_type": "markdown",
   "metadata": {},
   "source": [
    "This is what set coordinates is doing. It's basically making the x axis -1.75 to 11.5. Originally we would have 0-10 but we wanted some extra room for labels hence the slightly larger numbers. Then we want the y axis to be 0 to 10000, but again we inlarged it a bit to fit labels so we have -200,10,400."
   ]
  },
  {
   "cell_type": "markdown",
   "metadata": {},
   "source": [
    "## 4.7 Interactive Graphics"
   ]
  },
  {
   "cell_type": "markdown",
   "metadata": {},
   "source": [
    "Event driven programming is when a user does something with a object on their screen which returns data to a program. Like if I click a button that tells the program to take me to another page."
   ]
  },
  {
   "cell_type": "code",
   "execution_count": 2,
   "metadata": {},
   "outputs": [
    {
     "name": "stdout",
     "output_type": "stream",
     "text": [
      "Click: 1 You clicked at:  85.0 57.0\n",
      "Click: 2 You clicked at:  93.0 119.0\n",
      "Click: 3 You clicked at:  51.0 125.0\n",
      "Click: 4 You clicked at:  79.0 87.0\n",
      "Click: 5 You clicked at:  135.0 80.0\n",
      "Click: 6 You clicked at:  135.0 97.0\n",
      "Click: 7 You clicked at:  119.0 121.0\n",
      "Click: 8 You clicked at:  113.0 85.0\n",
      "Click: 9 You clicked at:  197.0 196.0\n",
      "Click: 10 You clicked at:  196.0 198.0\n"
     ]
    }
   ],
   "source": [
    "# We will use the getMouse method as an example\n",
    "from graphics import *\n",
    "def main():\n",
    "    counter = 0\n",
    "    win = GraphWin('Click Me!')\n",
    "    for i in range(10):\n",
    "        p = win.getMouse()\n",
    "        counter += 1\n",
    "        print(f'Click: {counter}' \" You clicked at: \", p.getX(), p.getY())\n",
    "    if counter == 10:\n",
    "        win.close()\n",
    "main()"
   ]
  },
  {
   "cell_type": "markdown",
   "metadata": {},
   "source": [
    "Another example of the getMouse() method"
   ]
  },
  {
   "cell_type": "code",
   "execution_count": 6,
   "metadata": {},
   "outputs": [],
   "source": [
    "# triangle.pyw\n",
    "from graphics import *\n",
    "\n",
    "def main():\n",
    "    win = GraphWin(\"Draw a Triangle\")\n",
    "    win.setCoords(0.0, 0.0, 10.0, 10.0)\n",
    "    message = Text(Point(5, 0.5), \"Click on three points\")\n",
    "    message.draw(win)\n",
    "\n",
    "    # Get and draw three vertices of triangle\n",
    "    p1 = win.getMouse()\n",
    "    p1.draw(win)\n",
    "    p2 = win.getMouse()\n",
    "    p2.draw(win)\n",
    "    p3 = win.getMouse()\n",
    "    p3.draw(win)\n",
    "\n",
    "    # Use Polygon object to draw the triangle\n",
    "    triangle = Polygon(p1,p2,p3)\n",
    "    triangle.setFill(\"peachpuff\")\n",
    "    triangle.setOutline(\"cyan\")\n",
    "    triangle.draw(win)\n",
    "\n",
    "    # Wait for another click to exit\n",
    "    message.setText(\"Click anywhere to quit.\")\n",
    "    win.getMouse()\n",
    "\n",
    "main()"
   ]
  },
  {
   "cell_type": "markdown",
   "metadata": {},
   "source": [
    "Using the getKey() method"
   ]
  },
  {
   "cell_type": "code",
   "execution_count": 1,
   "metadata": {},
   "outputs": [],
   "source": [
    "from graphics import *\n",
    "def main():\n",
    "    counter = 0\n",
    "    win = GraphWin(\"Click and Type\", 400,400)\n",
    "    for i in range(5):\n",
    "        pt = win.getMouse()\n",
    "        key = win.getKey()\n",
    "        label = Text(pt, key)\n",
    "        label.draw(win)\n",
    "        counter += 1\n",
    "    if counter == 5:\n",
    "        label = Text(Point(200,40), \"You've hit the 5 limit, click anywhere to quit\")\n",
    "        label.draw(win)\n",
    "        win.getMouse()\n",
    "        win.close()\n",
    "        \n",
    "main()\n",
    "        "
   ]
  },
  {
   "cell_type": "code",
   "execution_count": 3,
   "metadata": {},
   "outputs": [],
   "source": [
    "# Another Example\n",
    "# convert_gui.pyw\n",
    "# Program to convert Celsius to Fahrenheit using a simple\n",
    "#   graphical interface.\n",
    "\n",
    "from graphics import *\n",
    "\n",
    "def main():\n",
    "    win = GraphWin(\"Celsius Converter\", 400, 300)\n",
    "    win.setCoords(0.0, 0.0, 3.0, 4.0)\n",
    "    \n",
    "    # Draw the interface\n",
    "    Text(Point(1,3), \"   Celsius Temperature:\").draw(win)\n",
    "    Text(Point(1,1), \"Fahrenheit Temperature:\").draw(win)\n",
    "    inputText = Entry(Point(2.25,3), 5)\n",
    "    inputText.setText(\"0.0\")\n",
    "    inputText.draw(win)\n",
    "    outputText = Text(Point(2.25,1),\"\")\n",
    "    outputText.draw(win)\n",
    "    button = Text(Point(1.5,2.0),\"Convert It\")\n",
    "    button.draw(win)\n",
    "    Rectangle(Point(1,1.5), Point(2,2.5)).draw(win)\n",
    "\n",
    "    # wait for a mouse click\n",
    "    win.getMouse()\n",
    "\n",
    "    # convert input\n",
    "    celsius = float(inputText.getText())\n",
    "    fahrenheit = 9.0/5.0 * celsius + 32\n",
    "\n",
    "    # display output and change button\n",
    "    outputText.setText(round(fahrenheit,2))\n",
    "    button.setText(\"Quit\")\n",
    "\n",
    "    # wait for click and then quit\n",
    "    win.getMouse()\n",
    "    win.close()\n",
    "    \n",
    "main()"
   ]
  },
  {
   "cell_type": "markdown",
   "metadata": {},
   "source": [
    "## 4-Discussion"
   ]
  },
  {
   "cell_type": "code",
   "execution_count": 2,
   "metadata": {},
   "outputs": [],
   "source": [
    "from graphics import *"
   ]
  },
  {
   "cell_type": "code",
   "execution_count": 19,
   "metadata": {},
   "outputs": [],
   "source": [
    "win.close()"
   ]
  },
  {
   "cell_type": "code",
   "execution_count": 6,
   "metadata": {},
   "outputs": [
    {
     "data": {
      "text/plain": [
       "Rectangle(Point(20.0, 20.0), Point(40.0, 40.0))"
      ]
     },
     "execution_count": 6,
     "metadata": {},
     "output_type": "execute_result"
    }
   ],
   "source": [
    "#2.c\n",
    "win= GraphWin()\n",
    "r= Rectangle(Point(20,20), Point(40,40))\n",
    "r.setFill(color_rgb(0,255,150))\n",
    "r.setWidth(3)\n",
    "r.draw(win)"
   ]
  },
  {
   "cell_type": "code",
   "execution_count": 8,
   "metadata": {},
   "outputs": [
    {
     "data": {
      "text/plain": [
       "Line(Point(100.0, 100.0), Point(100.0, 200.0))"
      ]
     },
     "execution_count": 8,
     "metadata": {},
     "output_type": "execute_result"
    }
   ],
   "source": [
    "#2.d\n",
    "win = GraphWin()\n",
    "l =Line(Point(100,100), Point(100,200))\n",
    "l.setOutline('red4')\n",
    "l.setArrow('first')\n",
    "l.draw(win)"
   ]
  },
  {
   "cell_type": "code",
   "execution_count": 10,
   "metadata": {},
   "outputs": [
    {
     "data": {
      "text/plain": [
       "Oval(Point(50.0, 50.0), Point(60.0, 100.0))"
      ]
     },
     "execution_count": 10,
     "metadata": {},
     "output_type": "execute_result"
    }
   ],
   "source": [
    "#2.e\n",
    "win = GraphWin()\n",
    "oval = Oval(Point(50,50), Point(60,100))\n",
    "oval.draw(win)"
   ]
  },
  {
   "cell_type": "code",
   "execution_count": 16,
   "metadata": {},
   "outputs": [
    {
     "data": {
      "text/plain": [
       "Polygon(Point(5.0, 5.0), Point(10.0, 10.0), Point(5.0, 10.0), Point(10.0, 5.0))"
      ]
     },
     "execution_count": 16,
     "metadata": {},
     "output_type": "execute_result"
    }
   ],
   "source": [
    "win = GraphWin()\n",
    "shape = Polygon(Point(5,5), Point(10,10), Point(5,10), Point(10,5))\n",
    "shape.setFill(\"orange\")\n",
    "shape.draw(win)"
   ]
  },
  {
   "cell_type": "code",
   "execution_count": 18,
   "metadata": {},
   "outputs": [
    {
     "data": {
      "text/plain": [
       "Text(Point(100.0, 100.0), 'Hello World!')"
      ]
     },
     "execution_count": 18,
     "metadata": {},
     "output_type": "execute_result"
    }
   ],
   "source": [
    "#2.g\n",
    "win = GraphWin()\n",
    "t = Text(Point(100,100), 'Hello World!')\n",
    "t.setFace('courier')\n",
    "t.setSize(16)\n",
    "t.setStyle('italic')\n",
    "t.draw(win)"
   ]
  },
  {
   "cell_type": "code",
   "execution_count": 20,
   "metadata": {},
   "outputs": [],
   "source": [
    "# 3\n",
    "# this program draw a circle, then it will take my click and assiagn it to a point, it will then subtract the x of my click\n",
    "# and the circle center and get a new x point, it will then subtract the y from my click point and the y from the center\n",
    "# of the circle and get a new y point. It will then move the center by dx,dy.\n",
    "def main():\n",
    "    win = GraphWin()\n",
    "    shape = Circle(Point(50,50), 20)\n",
    "    shape.setOutline('red')\n",
    "    shape.setFill('red')\n",
    "    shape.draw(win)\n",
    "    \n",
    "    for i in range(5):\n",
    "        p = win.getMouse()\n",
    "        c = shape.getCenter()\n",
    "        dx = p.getX() - c.getX()\n",
    "        dy = p.getY() - c.getY()\n",
    "        shape.move(dx,dy)\n",
    "    win.close()\n",
    "main()"
   ]
  },
  {
   "cell_type": "markdown",
   "metadata": {},
   "source": [
    "## Programming Exercises"
   ]
  },
  {
   "cell_type": "code",
   "execution_count": 1,
   "metadata": {},
   "outputs": [],
   "source": [
    "from graphics import *"
   ]
  },
  {
   "cell_type": "markdown",
   "metadata": {},
   "source": [
    "## Exercise 1"
   ]
  },
  {
   "cell_type": "markdown",
   "metadata": {},
   "source": [
    "### My Solution"
   ]
  },
  {
   "cell_type": "code",
   "execution_count": 14,
   "metadata": {},
   "outputs": [],
   "source": [
    "#1\n",
    "\n",
    "from graphics import *\n",
    "def main():\n",
    "    win = GraphWin(\"Problem 1\", 500,500)\n",
    "    shape = Rectangle(Point(50,50), Point(100,100))\n",
    "    shape.setOutline('gold')\n",
    "    shape.setFill('cyan')\n",
    "    shape.draw(win)\n",
    "    counter = 0\n",
    "    \n",
    "    for i in range(1,6):\n",
    "        p = win.getMouse()\n",
    "        c = shape.getCenter()\n",
    "        dx = p.getX() - c.getX()\n",
    "        dy = p.getY() - c.getY()\n",
    "        counter += 1\n",
    "        shape2 = shape.clone()\n",
    "        shape2.move(dx,dy)\n",
    "        if counter % 2 == 0:\n",
    "            shape2.setFill('Silver')\n",
    "            shape2.draw(win)\n",
    "        else:\n",
    "            shape2.draw(win)\n",
    "    label = Text(Point(250,15),'Click again to quit')\n",
    "    label.draw(win)\n",
    "    win.getMouse()\n",
    "    win.close()\n",
    "main()"
   ]
  },
  {
   "cell_type": "markdown",
   "metadata": {},
   "source": [
    "### Book Solution"
   ]
  },
  {
   "cell_type": "code",
   "execution_count": 9,
   "metadata": {},
   "outputs": [],
   "source": [
    "# c04ex01.pyw\n",
    "#   Drawing with square bricks\n",
    "\n",
    "from graphics import *\n",
    "\n",
    "def main():\n",
    "    win = GraphWin()\n",
    "    shape = Rectangle(Point(40,40), Point(60,60))\n",
    "    shape.setOutline(\"red\")\n",
    "    shape.setFill(\"red\")\n",
    "    shape.draw(win)\n",
    "    for i in range(10):\n",
    "        p = win.getMouse()\n",
    "        c = shape.getCenter()\n",
    "        dx = p.getX() - c.getX()\n",
    "        dy = p.getY() - c.getY()\n",
    "        shape = shape.clone()\n",
    "        shape.move(dx,dy)\n",
    "        shape.draw(win)\n",
    "    Text(Point(100,180), \"Click again to quit.\").draw(win)\n",
    "    win.getMouse()\n",
    "    win.close()\n",
    "\n",
    "main()"
   ]
  },
  {
   "cell_type": "markdown",
   "metadata": {},
   "source": [
    "## Exercise 2"
   ]
  },
  {
   "cell_type": "markdown",
   "metadata": {},
   "source": [
    "### My Solution"
   ]
  },
  {
   "cell_type": "code",
   "execution_count": 33,
   "metadata": {},
   "outputs": [
    {
     "data": {
      "text/plain": [
       "Circle(Point(250.0, 250.0), 20)"
      ]
     },
     "execution_count": 33,
     "metadata": {},
     "output_type": "execute_result"
    }
   ],
   "source": [
    "win = GraphWin('Archery Target', 500,500)\n",
    "\n",
    "# making the outer white ring\n",
    "circle1 = Circle(Point(250,250), 100)\n",
    "circle1.setFill('white')\n",
    "circle1.draw(win)\n",
    "\n",
    "# making the second layer blue ring\n",
    "circle2 = Circle(Point(250,250), 80)\n",
    "circle2.setFill('black')\n",
    "circle2.draw(win)\n",
    "\n",
    "# making the third layer black ring\n",
    "circle3 = Circle(Point(250,250), 60)\n",
    "circle3.setFill('blue')\n",
    "circle3.draw(win)\n",
    "\n",
    "# making the fourth layer red ring\n",
    "circle4 = Circle(Point(250,250), 40)\n",
    "circle4.setFill('red')\n",
    "circle4.draw(win)\n",
    "\n",
    "# EXTRA: making bullseye\n",
    "bull = Circle(Point(250,250),20)\n",
    "bull.setFill('yellow')\n",
    "bull.draw(win)"
   ]
  },
  {
   "cell_type": "code",
   "execution_count": 34,
   "metadata": {},
   "outputs": [],
   "source": [
    "win.close()"
   ]
  },
  {
   "cell_type": "markdown",
   "metadata": {},
   "source": [
    "### Book Solution"
   ]
  },
  {
   "cell_type": "code",
   "execution_count": 31,
   "metadata": {},
   "outputs": [],
   "source": [
    "# c05ex02.pyw\n",
    "#    An archery target.\n",
    "\n",
    "from graphics import *\n",
    "\n",
    "def main():\n",
    "    # Create a window\n",
    "    win = GraphWin(\"Archery Target\", 400, 400)\n",
    "    win.setCoords(-6, -6, 6, 6)\n",
    "    win.setBackground(\"gray\")\n",
    "    center = Point(0,0)\n",
    "\n",
    "    c1 = Circle(center, 5)\n",
    "    c1.setFill(\"white\")\n",
    "    c1.draw(win)\n",
    "\n",
    "    c2 = Circle(center, 4)\n",
    "    c2.setFill(\"black\")\n",
    "    c2.draw(win)\n",
    "\n",
    "    c3 = Circle(center, 3)\n",
    "    c3.setFill(\"blue\")\n",
    "    c3.draw(win)\n",
    "\n",
    "    c4 = Circle(center, 2)\n",
    "    c4.setFill(\"red\")\n",
    "    c4.draw(win)\n",
    "\n",
    "    c5 = Circle(center, 1)\n",
    "    c5.setFill(\"yellow\")\n",
    "    c5.draw(win)\n",
    "\n",
    "    win.getMouse()\n",
    "    win.close()\n",
    "\n",
    "\n",
    "main()"
   ]
  },
  {
   "cell_type": "markdown",
   "metadata": {},
   "source": [
    "## Exercise 3"
   ]
  },
  {
   "cell_type": "markdown",
   "metadata": {},
   "source": [
    "### My Solution"
   ]
  },
  {
   "cell_type": "code",
   "execution_count": 71,
   "metadata": {},
   "outputs": [
    {
     "data": {
      "text/plain": [
       "Polygon(Point(-2.0, 3.0), Point(0.0, 1.0), Point(2.0, 3.0))"
      ]
     },
     "execution_count": 71,
     "metadata": {},
     "output_type": "execute_result"
    }
   ],
   "source": [
    "win = GraphWin(\"FACE\", 500,500)\n",
    "win.setCoords(-10,-10,10,10)\n",
    "win.setBackground('tan')\n",
    "\n",
    "# draw eye1\n",
    "eye1 = Circle(Point(-5,5),1)\n",
    "eye1.setFill('blue')\n",
    "eye1.draw(win)\n",
    "\n",
    "# draw eye2\n",
    "eye2 = eye1.clone()\n",
    "eye2.move(10,0)\n",
    "eye2.setFill('blue')\n",
    "eye2.draw(win)\n",
    "\n",
    "\n",
    "# draw smile\n",
    "smile = Polygon(Point(-8,0), Point(0,-2), Point(8,0))\n",
    "smile.setWidth(3)\n",
    "smile.setFill('pink')\n",
    "smile.draw(win)\n",
    "\n",
    "# draw nose\n",
    "nose = Polygon(Point(-2,3), Point(0,1), Point(2,3))\n",
    "nose.setFill('yellow')\n",
    "nose.draw(win)"
   ]
  },
  {
   "cell_type": "code",
   "execution_count": 73,
   "metadata": {},
   "outputs": [],
   "source": [
    "win.close()"
   ]
  },
  {
   "cell_type": "markdown",
   "metadata": {},
   "source": [
    "### Book Solution"
   ]
  },
  {
   "cell_type": "code",
   "execution_count": 1,
   "metadata": {},
   "outputs": [],
   "source": [
    "# c04ex03.pyw\n",
    "# Draws a face\n",
    "# Author: Cody Leistikow (10/4/02)\n",
    "\n",
    "from graphics import *\n",
    "\n",
    "def main():\n",
    "    win=GraphWin('Face',400,420)\n",
    "    win.setBackground(\"white\")\n",
    "    neck = Polygon(Point(177,352),Point(176,371),Point(162,398),Point(170,400),Point(185,391),Point(231,373),Point(260,368),Point(287,357),Point(312,333),Point(235,311))\n",
    "    neck.setFill(color_rgb(239,222,215))\n",
    "    head = Polygon(Point(136,228),Point(107,260),Point(110,279),Point(129,302),Point(140,321),Point(175,350),Point(193,348),Point(234,312),Point(238,296),Point(255,291),Point(272,266),Point(271,240),Point(264,226),Point(253,224),Point(239,239),Point(243,193))\n",
    "    head.setFill(color_rgb(239,222,215))\n",
    "    headdark1 = Polygon(Point(184,212),Point(190,217),Point(194,261),Point(173,286),Point(198,284),Point(204,310),Point(203,321),Point(200,333),Point(192,346),Point(202,352),Point(206,351),Point(206,372),Point(225,339),Point(218,377),Point(236,371),Point(252,344),Point(258,342),Point(257,369),Point(286,358),Point(294,339),Point(300,343),Point(312,334),Point(295,319),Point(282,313),Point(276,292),Point(258,289),Point(242,296),Point(236,291),Point(240,284),Point(242,278),Point(247,278),Point(249,268),Point(240,265),Point(242,258),Point(234,261),Point(258,185))\n",
    "    headdark1.setFill(color_rgb(226,179,154))\n",
    "    headdark2 = Polygon(Point(133,231),Point(123,241),Point(112,273),Point(117,275),Point(148,227))\n",
    "    headdark2.setFill(color_rgb(226,179,154))\n",
    "    headdark3 = Polygon(Point(177,218),Point(161,279),Point(168,221))\n",
    "    headdark3.setFill(color_rgb(226,179,154))\n",
    "    neckline1 = Line(Point(182,365),Point(185,390))\n",
    "    neckline2 = Line(Point(199,385),Point(219,350))\n",
    "    neckline3 = Line(Point(219,350),Point(230,324))\n",
    "    neckline4 = Line(Point(225,374),Point(235,340))\n",
    "    neckline5 = Line(Point(282,313),Point(288,334))\n",
    "    throat = Polygon(Point(189,366),Point(192,381),Point(186,373))\n",
    "    throat.setFill(color_rgb(117,110,105))\n",
    "    headline1 = Line(Point(193,349),Point(212,334))\n",
    "    headline2 = Line(Point(212,334),Point(234,312))\n",
    "    headline3 = Line(Point(234,312),Point(241,294))\n",
    "    headline4 = Line(Point(135,279),Point(140,292))\n",
    "    headline5 = Line(Point(149,279),Point(154,289))\n",
    "    innerear = Polygon(Point(263,249),Point(262,240),Point(257,234),Point(241,259),Point(242,267),Point(248,269),Point(249,277),Point(242,279),Point(241,283),Point(260,271),Point(263,265),Point(253,260),Point(254,251))\n",
    "    innerear.setFill(color_rgb(201,153,145))\n",
    "    earline1 = Line(Point(247,249),Point(258,249))\n",
    "    earline2 = Line(Point(248,268),Point(255,264))\n",
    "    earline3 = Line(Point(241,261),Point(255,261))\n",
    "    earline4 = Line(Point(255,261),Point(257,272))\n",
    "    earline5 = Line(Point(257,272),Point(265,264))\n",
    "    chin = Polygon(Point(161,326),Point(176,327),Point(179,330),Point(165,330))\n",
    "    chin.setFill(color_rgb(215,178,182))\n",
    "    mouthline1 = Line(Point(154,320),Point(158,322))\n",
    "    mouthline2 = Line(Point(158,322),Point(171,318))\n",
    "    mouthline3 = Line(Point(171,318),Point(179,318))\n",
    "    noseline1 = Line(Point(146,303),Point(146,311))\n",
    "    noseline2 = Line(Point(146,311),Point(141,319))\n",
    "    noseline3 = Line(Point(141,319),Point(156,312))\n",
    "    lefteye = Polygon(Point(120,282),Point(140,293),Point(128,293))\n",
    "    lefteye.setFill(color_rgb(255,255,255))\n",
    "    righteye = Polygon(Point(163,286),Point(166,289),Point(197,277),Point(199,264))\n",
    "    righteye.setFill(color_rgb(255,255,255))\n",
    "    leftiris = Polygon(Point(128,287),Point(131,291),Point(137,290))\n",
    "    leftiris.setFill(color_rgb(100,150,131))\n",
    "    rightiris = Polygon(Point(168,282),Point(172,284),Point(179,275))\n",
    "    rightiris.setFill(color_rgb(100,150,131))\n",
    "    lefteyebrow = Polygon(Point(111,272),Point(140,290),Point(140,292),Point(111,276))\n",
    "    lefteyebrow.setFill(color_rgb(247,218,116))\n",
    "    righteyebrow = Polygon(Point(156,288),Point(209,251),Point(212,258),Point(157,288))\n",
    "    righteyebrow.setFill(color_rgb(247,218,116))    \n",
    "    hairbg = Polygon(Point(49,110),Point(74,155),Point(89,103),Point(117,43),Point(127,96),Point(144,65),Point(198,21),Point(180,70),Point(230,32),Point(276,13),Point(241,77),Point(335,34),Point(310,74),Point(323,71),Point(331,65),Point(332,68),Point(363,45),Point(340,136),Point(356,125),Point(350,144),Point(381,124),Point(337,222),Point(309,240),Point(359,249),Point(294,276),Point(334,286),Point(275,297),Point(258,287),Point(272,264),Point(268,233),Point(264,225),Point(252,225),Point(239,238),Point(226,230),Point(228,219),Point(197,260),Point(210,221),Point(210,205),Point(175,217),Point(166,248),Point(142,294),Point(162,221),Point(136,230),Point(106,261),Point(110,277),Point(114,289),Point(116,317),Point(93,288),Point(94,278),Point(75,318),Point(76,274),Point(62,273),Point(69,247),Point(18,253),Point(67,215),Point(53,191))\n",
    "    hairbg.setFill(color_rgb(247,218,116))\n",
    "    hairdark1 = Polygon(Point(50,114),Point(74,156),Point(71,177))\n",
    "    hairdark1.setFill(color_rgb(235,161,56))\n",
    "    hairdark2 = Polygon(Point(47,243),Point(93,225),Point(89,239))\n",
    "    hairdark2.setFill(color_rgb(235,161,56))\n",
    "    hairdark3 = Polygon(Point(128,214),Point(94,256),Point(75,317),Point(99,270))\n",
    "    hairdark3.setFill(color_rgb(235,161,56))\n",
    "    hairdark4 = Polygon(Point(105,266),Point(116,313),Point(114,283))\n",
    "    hairdark4.setFill(color_rgb(235,161,56))\n",
    "    hairdark5 = Polygon(Point(119,45),Point(107,106),Point(112,170),Point(124,203),Point(129,200),Point(130,164),Point(121,139),Point(125,91),Point(117,43))\n",
    "    hairdark5.setFill(color_rgb(235,161,56))\n",
    "    hairdark6 = Polygon(Point(173,126),Point(145,193),Point(157,201),Point(157,216),Point(169,204),Point(186,176),Point(201,161),Point(213,122),Point(223,79),Point(234,55),Point(204,109),Point(160,186),Point(155,187),Point(179,117))\n",
    "    hairdark6.setFill(color_rgb(235,161,56))\n",
    "    hairdark7 = Polygon(Point(176,217),Point(253,115),Point(225,194),Point(212,192),Point(203,207))\n",
    "    hairdark7.setFill(color_rgb(235,161,56))\n",
    "    hairdark8 = Polygon(Point(222,86),Point(272,19),Point(240,77))\n",
    "    hairdark8.setFill(color_rgb(235,161,56))\n",
    "    hairdark9 = Polygon(Point(217,111),Point(284,65),Point(209,138))\n",
    "    hairdark9.setFill(color_rgb(235,161,56))\n",
    "    hairdark10 = Polygon(Point(217,192),Point(219,230),Point(230,216),Point(224,193))\n",
    "    hairdark10.setFill(color_rgb(235,161,56))\n",
    "    hairdark11 = Polygon(Point(216,109),Point(252,84),Point(283,66),Point(208,141))\n",
    "    hairdark11.setFill(color_rgb(235,161,56))\n",
    "    hairdark12 = Polygon(Point(238,161),Point(274,140),Point(228,185))\n",
    "    hairdark12.setFill(color_rgb(235,161,56))\n",
    "    hairdark13 = Polygon(Point(248,144),Point(298,73),Point(335,33),Point(307,77),Point(303,97))\n",
    "    hairdark13.setFill(color_rgb(235,161,56))\n",
    "    hairdark14 = Polygon(Point(249,205),Point(300,142),Point(331,67),Point(321,152))\n",
    "    hairdark14.setFill(color_rgb(235,161,56))\n",
    "    hairdark15 = Polygon(Point(321,152),Point(324,137),Point(357,65),Point(340,135))\n",
    "    hairdark15.setFill(color_rgb(235,161,56))\n",
    "    hairdark16 = Polygon(Point(142,138),Point(160,77),Point(180,48),Point(166,87),Point(166,114))\n",
    "    hairdark16.setFill(color_rgb(235,161,56))\n",
    "    hairdark17 = Polygon(Point(226,198),Point(252,183),Point(242,203),Point(246,216),Point(301,184),Point(282,219),Point(331,174),Point(349,144),Point(322,210),Point(358,174),Point(338,221),Point(308,240),Point(294,239),Point(283,256),Point(357,250),Point(276,282),Point(331,286),Point(276,296),Point(258,287),Point(273,265),Point(270,239),Point(265,224),Point(254,224),Point(240,238),Point(227,231),Point(228,220),Point(227,207))\n",
    "    hairdark17.setFill(color_rgb(235,161,56))\n",
    "    hairline1 = Line(Point(72,176),Point(84,206))\n",
    "    hairline2 = Line(Point(68,215),Point(84,206))\n",
    "    hairline3 = Line(Point(84,206),Point(109,208))\n",
    "    hairline4 = Line(Point(70,246),Point(86,246))\n",
    "    hairline5 = Line(Point(98,214),Point(77,276))\n",
    "    hairline6 = Line(Point(98,214),Point(146,194))\n",
    "    hairline7 = Line(Point(128,196),Point(133,147))\n",
    "    hairline8 = Line(Point(133,147),Point(207,72))\n",
    "    hairline9 = Line(Point(207,72),Point(235,53))\n",
    "    hairline10 = Line(Point(137,230),Point(158,215))\n",
    "    hairline11 = Line(Point(127,95),Point(141,140))\n",
    "    hairline12 = Line(Point(180,70),Point(174,104))\n",
    "    hairline13 = Line(Point(22,252),Point(94,225))\n",
    "    hairline14 = Line(Point(202,160),Point(254,113))\n",
    "    hairline15 = Line(Point(173,125),Point(210,79))\n",
    "    hairline16 = Line(Point(175,217),Point(171,205))\n",
    "    hairline17 = Line(Point(171,205),Point(165,208))\n",
    "    hairline18 = Line(Point(305,96),Point(332,64))\n",
    "    hairline19 = Line(Point(275,139),Point(315,94))\n",
    "    hairline20 = Line(Point(98,112),Point(91,174))\n",
    "    hairline21 = Line(Point(91,174),Point(99,208))\n",
    "    hairline22 = Line(Point(128,214),Point(156,201))\n",
    "    hairline23 = Line(Point(132,113),Point(163,50))\n",
    "    hairline24 = Line(Point(185,92),Point(240,32))\n",
    "    hairline25 = Line(Point(271,245),Point(295,233))\n",
    "    hairline26 = Line(Point(295,233),Point(322,209))\n",
    "    hairline27 = Line(Point(227,190),Point(286,139))\n",
    "    hairline28 = Line(Point(302,183),Point(326,164))\n",
    "\n",
    "    neck.draw(win)\n",
    "    head.draw(win)\n",
    "    headdark1.draw(win)\n",
    "    headdark2.draw(win)\n",
    "    headdark3.draw(win)\n",
    "    headline1.draw(win)\n",
    "    headline2.draw(win)\n",
    "    headline3.draw(win)\n",
    "    headline4.draw(win)\n",
    "    headline5.draw(win)\n",
    "    neckline1.draw(win)\n",
    "    neckline2.draw(win)\n",
    "    neckline3.draw(win)\n",
    "    neckline4.draw(win)\n",
    "    neckline5.draw(win)\n",
    "    throat.draw(win)\n",
    "    innerear.draw(win)\n",
    "    earline1.draw(win)\n",
    "    earline2.draw(win)\n",
    "    earline3.draw(win)\n",
    "    earline4.draw(win)\n",
    "    earline5.draw(win)\n",
    "    chin.draw(win)\n",
    "    mouthline1.draw(win)\n",
    "    mouthline2.draw(win)\n",
    "    mouthline3.draw(win)\n",
    "    noseline1.draw(win)\n",
    "    noseline2.draw(win)\n",
    "    noseline3.draw(win)\n",
    "    lefteye.draw(win)\n",
    "    righteye.draw(win)\n",
    "    leftiris.draw(win)\n",
    "    rightiris.draw(win)\n",
    "    lefteyebrow.draw(win)\n",
    "    righteyebrow.draw(win)\n",
    "    hairbg.draw(win)\n",
    "    hairdark1.draw(win)\n",
    "    hairdark2.draw(win)\n",
    "    hairdark3.draw(win)\n",
    "    hairdark4.draw(win)\n",
    "    hairdark5.draw(win)\n",
    "    hairdark6.draw(win)\n",
    "    hairdark7.draw(win)\n",
    "    hairdark8.draw(win)\n",
    "    hairdark9.draw(win)\n",
    "    hairdark10.draw(win)\n",
    "    hairdark11.draw(win)\n",
    "    hairdark12.draw(win)\n",
    "    hairdark13.draw(win)\n",
    "    hairdark14.draw(win)\n",
    "    hairdark15.draw(win)\n",
    "    hairdark16.draw(win)\n",
    "    hairdark17.draw(win)\n",
    "    hairline1.draw(win)\n",
    "    hairline2.draw(win)\n",
    "    hairline3.draw(win)\n",
    "    hairline4.draw(win)\n",
    "    hairline5.draw(win)\n",
    "    hairline6.draw(win)\n",
    "    hairline7.draw(win)\n",
    "    hairline8.draw(win)\n",
    "    hairline9.draw(win)\n",
    "    hairline10.draw(win)\n",
    "    hairline11.draw(win)\n",
    "    hairline12.draw(win)\n",
    "    hairline13.draw(win)\n",
    "    hairline14.draw(win)\n",
    "    hairline15.draw(win)\n",
    "    hairline16.draw(win)\n",
    "    hairline17.draw(win)\n",
    "    hairline18.draw(win)\n",
    "    hairline19.draw(win)\n",
    "    hairline20.draw(win)\n",
    "    hairline21.draw(win)\n",
    "    hairline22.draw(win)\n",
    "    hairline23.draw(win)\n",
    "    hairline24.draw(win)\n",
    "    hairline25.draw(win)\n",
    "    hairline26.draw(win)\n",
    "    hairline27.draw(win)\n",
    "    hairline28.draw(win)\n",
    "    win.getMouse()\n",
    "    \n",
    "main()"
   ]
  },
  {
   "cell_type": "markdown",
   "metadata": {},
   "source": [
    "## Exercise 4"
   ]
  },
  {
   "cell_type": "markdown",
   "metadata": {},
   "source": [
    "### My Solution"
   ]
  },
  {
   "cell_type": "markdown",
   "metadata": {},
   "source": [
    "This is just dawing shapes to make a picture, I've done enough of that."
   ]
  },
  {
   "cell_type": "markdown",
   "metadata": {},
   "source": [
    "### Book Solution"
   ]
  },
  {
   "cell_type": "code",
   "execution_count": 74,
   "metadata": {},
   "outputs": [],
   "source": [
    "# c04ex04.py\n",
    "# Winter scene\n",
    "# By: Megan Neuendorf\n",
    "\n",
    "from graphics import *\n",
    "\n",
    "def main():\n",
    "    win=GraphWin(\"Winter Scene\",500,500)\n",
    "    win.setCoords(0,0,200,200)\n",
    "    win.setBackground(\"blue\")\n",
    "\n",
    "    # Body of the snowman\n",
    "    c1 = Circle(Point(50,40),40)\n",
    "    c1.draw(win)\n",
    "    c1.setFill(\"white\")\n",
    "    c1.setOutline(\"white\")\n",
    "\n",
    "    c2 = Circle(Point(50,100),30)\n",
    "    c2.draw(win)\n",
    "    c2.setFill(\"white\")\n",
    "    c2.setOutline(\"white\")\n",
    "\n",
    "    c3 = Circle(Point(50,145),20)\n",
    "    c3.draw(win)\n",
    "    c3.setFill(\"white\")\n",
    "    c3.setOutline(\"white\")\n",
    "\n",
    "    # Top Hat of Snowman\n",
    "    r1 = Rectangle(Point(30,160),Point(70,165))\n",
    "    r1.draw(win)\n",
    "    r1.setFill(\"black\")\n",
    "\n",
    "    r2 = Rectangle(Point(40,165),Point(60,185))\n",
    "    r2.draw(win)\n",
    "    r2.setFill(\"black\")\n",
    "\n",
    "    # Eyes of the Snowman\n",
    "    e1 = Circle(Point(42.5,150),2.5)\n",
    "    e1.draw(win)\n",
    "    e1.setFill(\"black\")\n",
    "\n",
    "    e2 = Circle(Point(57.5,150),2.5)\n",
    "    e2.draw(win)\n",
    "    e2.setFill(\"black\")\n",
    "\n",
    "    # Nose of the Snowman\n",
    "    n = Polygon(Point(50,142.5),Point(50,137.5),Point(57.5,140))\n",
    "    n.draw(win)\n",
    "    n.setOutline(\"orange\")\n",
    "    n.setFill(\"orange\")\n",
    "\n",
    "    # Mouth of the Snowman\n",
    "    m1 = Circle(Point(40,135),1)\n",
    "    m1.draw(win)\n",
    "    m1.setFill(\"black\")\n",
    "\n",
    "    m2 = Circle(Point(45,130),1)\n",
    "    m2.draw(win)\n",
    "    m2.setFill(\"black\")\n",
    "\n",
    "    m3 = Circle(Point(50,127.5),1)\n",
    "    m3.draw(win)\n",
    "    m3.setFill(\"black\")\n",
    "\n",
    "    m4 = Circle(Point(55,130),1)\n",
    "    m4.draw(win)\n",
    "    m4.setFill(\"black\")\n",
    "\n",
    "    m5 = Circle(Point(60,135),1)\n",
    "    m5.draw(win)\n",
    "    m5.setFill(\"black\")\n",
    "\n",
    "    # Buttons on the Snowman\n",
    "    b1 = Circle(Point(50,115),3)\n",
    "    b1.draw(win)\n",
    "    b1.setFill(\"black\")\n",
    "\n",
    "    b2 = Circle(Point(50,105),3)\n",
    "    b2.draw(win)\n",
    "    b2.setFill(\"black\")\n",
    "\n",
    "    b3 = Circle(Point(50,95),3)\n",
    "    b3.draw(win)\n",
    "    b3.setFill(\"black\")\n",
    "\n",
    "    # Christmas Tree\n",
    "    rect1 = Rectangle(Point(140,0),Point(160,25))\n",
    "    rect1.draw(win)\n",
    "    rect1.setOutline(\"brown\")\n",
    "    rect1.setFill(\"brown\")\n",
    "    \n",
    "    t1 = Polygon(Point(100,25),Point(200,25),Point(150,65))\n",
    "    t1.draw(win)\n",
    "    t1.setOutline(\"forest green\")\n",
    "    t1.setFill(\"forest green\")\n",
    "\n",
    "    t2 = Polygon(Point(110,60),Point(190,60),Point(150,100))\n",
    "    t2.draw(win)\n",
    "    t2.setOutline(\"forest green\")\n",
    "    t2.setFill(\"forest green\")\n",
    "\n",
    "    t3 = Polygon(Point(120,90),Point(180,90),Point(150,120))\n",
    "    t3.draw(win)\n",
    "    t3.setOutline(\"forest green\")\n",
    "    t3.setFill(\"forest green\")\n",
    "\n",
    "    t4 = Polygon(Point(130,115),Point(170,115),Point(150,135))\n",
    "    t4.draw(win)\n",
    "    t4.setOutline(\"forest green\")\n",
    "    t4.setFill(\"forest green\")\n",
    "\n",
    "    t5 = Polygon(Point(135,132.5),Point(165,132.5),Point(150,155))\n",
    "    t5.draw(win)\n",
    "    t5.setOutline(\"forest green\")\n",
    "    t5.setFill(\"forest green\")\n",
    "\n",
    "    # Star on the Christmas Tree\n",
    "    n = Polygon(Point(150,152.5),Point(147.5,160),Point(140,162.5),Point(147.5,165),Point(150,172.5),Point(152.5,165),Point(160,162.5),Point(152.5,160))\n",
    "    n.draw(win)\n",
    "    n.setOutline(\"gold\")\n",
    "    n.setFill(\"gold\")\n",
    "\n",
    "    # Circular Ornaments on Christmas Tree\n",
    "    o1 = Circle(Point(150,142.5),2.5)\n",
    "    o1.draw(win)\n",
    "    o1.setOutline(\"red\")\n",
    "    o1.setFill(\"gold\")\n",
    "\n",
    "    o2 = Circle(Point(135,115),2.5)\n",
    "    o2.draw(win)\n",
    "    o2.setOutline(\"red\")\n",
    "    o2.setFill(\"gold\")\n",
    "\n",
    "    o3 = Circle(Point(165,115),2.5)\n",
    "    o3.draw(win)\n",
    "    o3.setOutline(\"red\")\n",
    "    o3.setFill(\"gold\")\n",
    "\n",
    "    o4 = Circle(Point(150,95),2.5)\n",
    "    o4.draw(win)\n",
    "    o4.setOutline(\"red\")\n",
    "    o4.setFill(\"gold\")\n",
    "\n",
    "    o5 = Circle(Point(135,75),2.5)\n",
    "    o5.draw(win)\n",
    "    o5.setOutline(\"red\")\n",
    "    o5.setFill(\"gold\")\n",
    "\n",
    "    o6 = Circle(Point(165,75),2.5)\n",
    "    o6.draw(win)\n",
    "    o6.setOutline(\"red\")\n",
    "    o6.setFill(\"gold\")\n",
    "\n",
    "    o7 = Circle(Point(115,60),2.5)\n",
    "    o7.draw(win)\n",
    "    o7.setOutline(\"red\")\n",
    "    o7.setFill(\"gold\")\n",
    "\n",
    "    o8 = Circle(Point(185,60),2.5)\n",
    "    o8.draw(win)\n",
    "    o8.setOutline(\"red\")\n",
    "    o8.setFill(\"gold\")\n",
    "\n",
    "    o9 = Circle(Point(150,30),2.5)\n",
    "    o9.draw(win)\n",
    "    o9.setOutline(\"red\")\n",
    "    o9.setFill(\"gold\")\n",
    "\n",
    "    # Diamond Ornaments on Christmas Tree\n",
    "    d1 = Polygon(Point(140,135),Point(142.5,132.5),Point(140,130),Point(137.5,132.5))\n",
    "    d1.draw(win)\n",
    "    d1.setOutline(\"gold\")\n",
    "    d1.setFill(\"red\")\n",
    "\n",
    "    d2 = Polygon(Point(160,135),Point(162.5,132.5),Point(160,130),Point(157.5,132.5))\n",
    "    d2.draw(win)\n",
    "    d2.setOutline(\"gold\")\n",
    "    d2.setFill(\"red\")\n",
    "\n",
    "    d3 = Polygon(Point(150,122.5),Point(152.5,120),Point(150,117.5),Point(147.5,120))\n",
    "    d3.draw(win)\n",
    "    d3.setOutline(\"gold\")\n",
    "    d3.setFill(\"red\")\n",
    "\n",
    "    d4 = Polygon(Point(125,92.5),Point(127.5,90),Point(125,87.5),Point(122.5,90))\n",
    "    d4.draw(win)\n",
    "    d4.setOutline(\"gold\")\n",
    "    d4.setFill(\"red\")\n",
    "\n",
    "    d5 = Polygon(Point(175,92.5),Point(177.5,90),Point(175,87.5),Point(172.5,90))\n",
    "    d5.draw(win)\n",
    "    d5.setOutline(\"gold\")\n",
    "    d5.setFill(\"red\")\n",
    "\n",
    "    d6 = Polygon(Point(150,67.5),Point(152.5,65),Point(150,62.5),Point(147.5,65))\n",
    "    d6.draw(win)\n",
    "    d6.setOutline(\"gold\")\n",
    "    d6.setFill(\"red\")\n",
    "\n",
    "    d7 = Polygon(Point(130,47.5),Point(132.5,45),Point(130,42.5),Point(127.5,45))\n",
    "    d7.draw(win)\n",
    "    d7.setOutline(\"gold\")\n",
    "    d7.setFill(\"red\")\n",
    "\n",
    "    d8 = Polygon(Point(170,47.5),Point(172.5,45),Point(170,42.5),Point(167.5,45))\n",
    "    d8.draw(win)\n",
    "    d8.setOutline(\"gold\")\n",
    "    d8.setFill(\"red\")\n",
    "\n",
    "    d9 = Polygon(Point(105,27.5),Point(107.5,25),Point(105,22.5),Point(102.5,25))\n",
    "    d9.draw(win)\n",
    "    d9.setOutline(\"gold\")\n",
    "    d9.setFill(\"red\")\n",
    "\n",
    "    d10 = Polygon(Point(195,27.5),Point(197.5,25),Point(195,22.5),Point(192.5,25))\n",
    "    d10.draw(win)\n",
    "    d10.setOutline(\"gold\")\n",
    "    d10.setFill(\"red\")\n",
    "\n",
    "    win.getMouse()\n",
    "    win.close()\n",
    "    \n",
    "main()\n",
    "    "
   ]
  },
  {
   "cell_type": "markdown",
   "metadata": {},
   "source": [
    "## Exercise 5"
   ]
  },
  {
   "cell_type": "markdown",
   "metadata": {},
   "source": [
    "### My Solution"
   ]
  },
  {
   "cell_type": "code",
   "execution_count": 11,
   "metadata": {},
   "outputs": [
    {
     "data": {
      "text/plain": [
       "Line(Point(-10.0, 15.0), Point(-7.5, 12.5))"
      ]
     },
     "execution_count": 11,
     "metadata": {},
     "output_type": "execute_result"
    }
   ],
   "source": [
    "from graphics import *\n",
    "win = GraphWin(\"Dice\", 500,500)\n",
    "win.setCoords(-20,-20,20,20)\n",
    "win.setBackground('gold')\n",
    "\n",
    "# make a dice back:\n",
    "dice_back = Rectangle(Point(-15,15), Point(-10,10))\n",
    "dice_back.setFill('white')\n",
    "dice_back.draw(win)\n",
    "\n",
    "# Make a dice front\n",
    "center = dice_back.getCenter()\n",
    "dice_front = Rectangle(center, Point(-7.5,8))\n",
    "dice_front.setFill('White')\n",
    "dice_front.draw(win)\n",
    "\n",
    "# Make line 1\n",
    "line = Line(Point(-15,15), Point(-12.5,12.5))\n",
    "line.draw(win)\n",
    "\n",
    "# Make line 2\n",
    "line2 = Line(Point(-15,10), Point(-12.5,8))\n",
    "line2.draw(win)\n",
    "\n",
    "# Make line 3\n",
    "line3 = Line(Point(-10,15), Point(-7.5,12.5))\n",
    "line3.draw(win)"
   ]
  },
  {
   "cell_type": "code",
   "execution_count": 12,
   "metadata": {},
   "outputs": [
    {
     "data": {
      "text/plain": [
       "<bound method GraphWin.close of GraphWin('Dice', 500, 500)>"
      ]
     },
     "execution_count": 12,
     "metadata": {},
     "output_type": "execute_result"
    }
   ],
   "source": [
    "win.close"
   ]
  },
  {
   "cell_type": "markdown",
   "metadata": {},
   "source": [
    "## Finance Calculator version 1"
   ]
  },
  {
   "cell_type": "code",
   "execution_count": 21,
   "metadata": {},
   "outputs": [
    {
     "name": "stdout",
     "output_type": "stream",
     "text": [
      "Enter the amount you will deposit: 40000\n",
      "Enter the annual % rate as a decimal: .06\n",
      "Enter the number of years: 10\n",
      "Enter the number of periods the interest will accrue: 2\n",
      "Enter the amount you will pay each period: 10\n",
      "Period:  1 You now have: $41210.00 and have deposited a total of $40010.00 and earned a total of $1200.00\n",
      "295.15999999999997\n",
      "Period:  2 You now have: $42456.30 and have deposited a total of $40020.00 and earned a total of $2436.30\n",
      "290.1748\n",
      "Period:  3 You now have: $43739.99 and have deposited a total of $40030.00 and earned a total of $3709.99\n",
      "285.04004399999997\n",
      "Period:  4 You now have: $45062.19 and have deposited a total of $40040.00 and earned a total of $5022.19\n",
      "279.75124531999995\n",
      "Period:  5 You now have: $46424.05 and have deposited a total of $40050.00 and earned a total of $6374.05\n",
      "274.3037826796\n",
      "Period:  6 You now have: $47826.78 and have deposited a total of $40060.00 and earned a total of $7766.78\n",
      "268.692896159988\n",
      "Period:  7 You now have: $49271.58 and have deposited a total of $40070.00 and earned a total of $9201.58\n",
      "262.9136830447876\n",
      "Period:  8 You now have: $50759.73 and have deposited a total of $40080.00 and earned a total of $10679.73\n",
      "256.9610935361312\n",
      "Period:  9 You now have: $52292.52 and have deposited a total of $40090.00 and earned a total of $12202.52\n",
      "250.82992634221517\n",
      "Period:  10 You now have: $53871.29 and have deposited a total of $40100.00 and earned a total of $13771.29\n",
      "244.51482413248164\n",
      "Period:  11 You now have: $55497.43 and have deposited a total of $40110.00 and earned a total of $15387.43\n",
      "238.0102688564561\n",
      "Period:  12 You now have: $57172.36 and have deposited a total of $40120.00 and earned a total of $17052.36\n",
      "231.31057692214978\n",
      "Period:  13 You now have: $58897.53 and have deposited a total of $40130.00 and earned a total of $18767.53\n",
      "224.40989422981426\n",
      "Period:  14 You now have: $60674.45 and have deposited a total of $40140.00 and earned a total of $20534.45\n",
      "217.3021910567087\n",
      "Period:  15 You now have: $62504.69 and have deposited a total of $40150.00 and earned a total of $22354.69\n",
      "209.98125678840995\n",
      "Period:  16 You now have: $64389.83 and have deposited a total of $40160.00 and earned a total of $24229.83\n",
      "202.44069449206228\n",
      "Period:  17 You now have: $66331.52 and have deposited a total of $40170.00 and earned a total of $26161.52\n",
      "194.6739153268241\n",
      "Period:  18 You now have: $68331.47 and have deposited a total of $40180.00 and earned a total of $28151.47\n",
      "186.67413278662883\n",
      "Period:  19 You now have: $70391.41 and have deposited a total of $40190.00 and earned a total of $30201.41\n",
      "178.43435677022774\n",
      "Period:  20 You now have: $72513.15 and have deposited a total of $40200.00 and earned a total of $32313.15\n",
      "169.94738747333457\n",
      "Press enter to quitj\n"
     ]
    }
   ],
   "source": [
    "def finance_calc_complete():\n",
    "    principle = eval(input(\"Enter the amount you will deposit: \"))\n",
    "    interest = eval(input(\"Enter the annual % rate as a decimal: \"))\n",
    "    time = eval((input(\"Enter the number of years: \")))\n",
    "    period = eval(input(\"Enter the number of periods the interest will accrue: \"))\n",
    "    payment = eval(input(\"Enter the amount you will pay each period: \"))\n",
    "    initial_principle = principle\n",
    "    \n",
    "    win = GraphWin(\"Finance Calc\",1000,500)\n",
    "    Text(Point(60, 460), ' 0.0K').draw(win)\n",
    "    Text(Point(60, 420), ' 10.0K').draw(win)\n",
    "    Text(Point(60, 380), ' 20.0K').draw(win)\n",
    "    Text(Point(60, 340), ' 40.0K').draw(win)\n",
    "    Text(Point(60, 300), ' 50.0K').draw(win)\n",
    "    Text(Point(60, 260), '60.0K').draw(win)\n",
    "    Text(Point(60, 220), '70.0K').draw(win)\n",
    "    Text(Point(60, 180), '80.0K').draw(win)\n",
    "    Text(Point(60, 140), '90.0K').draw(win)\n",
    "    Text(Point(60, 100), '100.0K').draw(win)\n",
    "    Text(Point(60, 60), '110.0K').draw(win)\n",
    "    Text(Point(60, 20), '120.0K').draw(win)\n",
    "    \n",
    "    width_increase = 880/(time*period)\n",
    "    \n",
    "    height = principle * 0.004\n",
    "    bar = Rectangle(Point(120, 460), Point(120+width_increase, 460-height))\n",
    "    bar.setFill(\"green\")\n",
    "    bar.setWidth(2)\n",
    "    bar.draw(win)\n",
    "    #payment_counter = (payment * (time*period))\n",
    "\n",
    "\n",
    "    for i in range(time * period):\n",
    "        payment_counter = (payment * (i + 1))\n",
    "        earnings = (principle * (interest / period))\n",
    "        principle = earnings + principle + payment\n",
    "        total_earnings = (principle - initial_principle) - payment_counter\n",
    "        print(\"Period: \", f\"{(i+1)}\", \"You now have:\", f\"${principle:1.2f}\", \"and have deposited a total of\",\n",
    "              f\"${payment_counter + initial_principle:1.2f}\", \"and earned a total of\", f\"${total_earnings:1.2f}\")\n",
    "        xll = i * width_increase + 120\n",
    "        height = principle * 0.004\n",
    "        bar = Rectangle(Point(xll, 460), Point(xll+width_increase, 460-height))\n",
    "        bar.setFill(\"green\")\n",
    "        bar.setWidth(2)\n",
    "        bar.draw(win)\n",
    "        print(460-height)\n",
    "        \n",
    "    \n",
    "\n",
    "\n",
    "    input(\"Press enter to quit\")\n",
    "    win.close()\n",
    "finance_calc_complete()"
   ]
  },
  {
   "cell_type": "code",
   "execution_count": null,
   "metadata": {},
   "outputs": [],
   "source": [
    "for year in range(1,11):\n",
    "        # calculate value for the next year\n",
    "        principle = principle * (1 + interest)\n",
    "        # draw bar for this value\n",
    "        xll = year * 80 + 120\n",
    "        height = principle * 0.0005\n",
    "        bar = Rectangle(Point(xll, 460), Point(xll+80, 460-height))\n",
    "        bar.setFill(\"green\")\n",
    "        bar.setWidth(2)\n",
    "        bar.draw(win)"
   ]
  },
  {
   "cell_type": "markdown",
   "metadata": {},
   "source": [
    "## Finance Calculator II"
   ]
  },
  {
   "cell_type": "code",
   "execution_count": 6,
   "metadata": {},
   "outputs": [
    {
     "name": "stdout",
     "output_type": "stream",
     "text": [
      "Enter the amount you will deposit: 30000\n",
      "Enter the annual % rate as a decimal: .078\n",
      "Enter the number of years: 20\n",
      "Enter the number of periods the interest will accrue: 1\n",
      "Enter the amount you will pay each period: 650\n",
      "Period:  1 You now have: $32990.00 and have deposited a total of $30650.00 and earned a total of $2340.00\n",
      "328.03999999999996\n",
      "Period:  2 You now have: $36213.22 and have deposited a total of $31300.00 and earned a total of $4913.22\n",
      "315.14712\n",
      "Period:  3 You now have: $39687.85 and have deposited a total of $31950.00 and earned a total of $7737.85\n",
      "301.24859535999997\n",
      "Period:  4 You now have: $43433.50 and have deposited a total of $32600.00 and earned a total of $10833.50\n",
      "286.26598579808\n",
      "Period:  5 You now have: $47471.32 and have deposited a total of $33250.00 and earned a total of $14221.32\n",
      "270.11473269033024\n",
      "Period:  6 You now have: $51824.08 and have deposited a total of $33900.00 and earned a total of $17924.08\n",
      "252.703681840176\n",
      "Period:  7 You now have: $56516.36 and have deposited a total of $34550.00 and earned a total of $21966.36\n",
      "233.9345690237097\n",
      "Period:  8 You now have: $61574.63 and have deposited a total of $35200.00 and earned a total of $26374.63\n",
      "213.70146540755906\n",
      "Period:  9 You now have: $67027.46 and have deposited a total of $35850.00 and earned a total of $31177.46\n",
      "191.89017970934867\n",
      "Period:  10 You now have: $72905.60 and have deposited a total of $36500.00 and earned a total of $36405.60\n",
      "168.37761372667785\n",
      "Period:  11 You now have: $79242.23 and have deposited a total of $37150.00 and earned a total of $42092.23\n",
      "143.03106759735869\n",
      "Period:  12 You now have: $86073.13 and have deposited a total of $37800.00 and earned a total of $48273.13\n",
      "115.70749086995272\n",
      "Period:  13 You now have: $93436.83 and have deposited a total of $38450.00 and earned a total of $54986.83\n",
      "86.25267515780905\n",
      "Period:  14 You now have: $101374.90 and have deposited a total of $39100.00 and earned a total of $62274.90\n",
      "54.500383820118145\n",
      "Period:  15 You now have: $109932.15 and have deposited a total of $39750.00 and earned a total of $70182.15\n",
      "20.271413758087363\n",
      "Period:  16 You now have: $119156.85 and have deposited a total of $40400.00 and earned a total of $78756.85\n",
      "-16.627415968781804\n",
      "Period:  17 You now have: $129101.09 and have deposited a total of $41050.00 and earned a total of $88051.09\n",
      "-56.40435441434681\n",
      "Period:  18 You now have: $139820.97 and have deposited a total of $41700.00 and earned a total of $98120.97\n",
      "-99.28389405866585\n",
      "Period:  19 You now have: $151377.01 and have deposited a total of $42350.00 and earned a total of $109027.01\n",
      "-145.50803779524176\n",
      "Period:  20 You now have: $163834.42 and have deposited a total of $43000.00 and earned a total of $120834.42\n",
      "-195.3376647432707\n",
      "Period:  21 You now have: $177263.50 and have deposited a total of $43650.00 and earned a total of $133613.50\n",
      "-249.05400259324585\n",
      "Press enter to quitl\n"
     ]
    }
   ],
   "source": [
    "def finance_calc_complete():\n",
    "    principle = eval(input(\"Enter the amount you will deposit: \"))\n",
    "    interest = eval(input(\"Enter the annual % rate as a decimal: \"))\n",
    "    time = eval((input(\"Enter the number of years: \")))\n",
    "    period = eval(input(\"Enter the number of periods the interest will accrue: \"))\n",
    "    payment = eval(input(\"Enter the amount you will pay each period: \"))\n",
    "    initial_principle = principle\n",
    "    \n",
    "    graph_width = 1200\n",
    "    graph_height = 500\n",
    "    \n",
    "    win = GraphWin(\"Finance Calc\",graph_width,graph_height)\n",
    "    Text(Point(60, 460), ' 0.0K').draw(win)\n",
    "    Text(Point(60, 420), ' 10.0K').draw(win)\n",
    "    Text(Point(60, 380), ' 20.0K').draw(win)\n",
    "    Text(Point(60, 340), ' 40.0K').draw(win)\n",
    "    Text(Point(60, 300), ' 50.0K').draw(win)\n",
    "    Text(Point(60, 260), '60.0K').draw(win)\n",
    "    Text(Point(60, 220), '70.0K').draw(win)\n",
    "    Text(Point(60, 180), '80.0K').draw(win)\n",
    "    Text(Point(60, 140), '90.0K').draw(win)\n",
    "    Text(Point(60, 100), '100.0K').draw(win)\n",
    "    Text(Point(60, 60), '110.0K').draw(win)\n",
    "    Text(Point(60, 20), '120.0K').draw(win)\n",
    "    \n",
    "    width_increase = (graph_width -(graph_width *.12)) /(time*period)\n",
    "    xll1 = (graph_width * .12)\n",
    "    height = principle * 0.004\n",
    "    bar = Rectangle(Point((graph_width * .12), 460), Point((graph_width * .12)+width_increase, 460-height))\n",
    "    bar.setFill(\"green\")\n",
    "    bar.setWidth(2)\n",
    "    bar.draw(win)\n",
    "    figure1 = (width_increase *.5) + width_increase\n",
    "    Text(Point((graph_width * .12 + figure1) - width_increase, 490), '1').draw(win)\n",
    "    #payment_counter = (payment * (time*period))\n",
    "\n",
    "    for i in range((time * period)+1):\n",
    "        payment_counter = (payment * (i + 1))\n",
    "        earnings = (principle * (interest / period))\n",
    "        principle = earnings + principle + payment\n",
    "        total_earnings = (principle - initial_principle) - payment_counter\n",
    "        print(\"Period: \", f\"{(i+1)}\", \"You now have:\", f\"${principle:1.2f}\", \"and have deposited a total of\",\n",
    "              f\"${payment_counter + initial_principle:1.2f}\", \"and earned a total of\", f\"${total_earnings:1.2f}\")\n",
    "        xll = i * width_increase + (graph_width *.12)\n",
    "        height = principle * 0.004\n",
    "        bar = Rectangle(Point(xll, 460), Point(xll+width_increase, 460-height))\n",
    "        if i == 0:\n",
    "            bar.setFill('yellow')\n",
    "        elif i % 2 == 0:\n",
    "            bar.setFill('blue')\n",
    "        else:\n",
    "            bar.setFill(\"red\")\n",
    "        bar.setWidth(2)\n",
    "        bar.draw(win)\n",
    "        figure = (width_increase *.5) + width_increase\n",
    "        Text(Point((figure + xll), 490), i+2).draw(win)\n",
    "        print(460-height)\n",
    "    \n",
    "        \n",
    "    \n",
    "\n",
    "\n",
    "    input(\"Press enter to quit\")\n",
    "    win.close()\n",
    "finance_calc_complete()"
   ]
  },
  {
   "cell_type": "code",
   "execution_count": 9,
   "metadata": {},
   "outputs": [
    {
     "ename": "NameError",
     "evalue": "name 'win' is not defined",
     "output_type": "error",
     "traceback": [
      "\u001b[1;31m---------------------------------------------------------------------------\u001b[0m",
      "\u001b[1;31mNameError\u001b[0m                                 Traceback (most recent call last)",
      "\u001b[1;32m<ipython-input-9-07e10777e5a9>\u001b[0m in \u001b[0;36m<module>\u001b[1;34m\u001b[0m\n\u001b[1;32m----> 1\u001b[1;33m \u001b[0mwin\u001b[0m\u001b[1;33m.\u001b[0m\u001b[0mclose\u001b[0m\u001b[1;33m(\u001b[0m\u001b[1;33m)\u001b[0m\u001b[1;33m\u001b[0m\u001b[1;33m\u001b[0m\u001b[0m\n\u001b[0m",
      "\u001b[1;31mNameError\u001b[0m: name 'win' is not defined"
     ]
    }
   ],
   "source": [
    "win.close()"
   ]
  },
  {
   "cell_type": "code",
   "execution_count": 45,
   "metadata": {},
   "outputs": [],
   "source": [
    "for i in range((time * period)+1):\n",
    "        payment_counter = (payment * (i + 1))\n",
    "        earnings = (principle * (interest / period))\n",
    "        principle = earnings + principle + payment\n",
    "        total_earnings = (principle - initial_principle) - payment_counter\n",
    "        print(\"Period: \", f\"{(i+1)}\", \"You now have:\", f\"${principle:1.2f}\", \"and have deposited a total of\",\n",
    "              f\"${payment_counter + initial_principle:1.2f}\", \"and earned a total of\", f\"${total_earnings:1.2f}\")\n",
    "        xll = i * width_increase + (graph_width *.12)\n",
    "        height = principle * 0.004\n",
    "        bar = Rectangle(Point(xll, 460), Point(xll+width_increase, 460-height))\n",
    "        bar.setFill(\"green\")\n",
    "        bar.setWidth(2)\n",
    "        bar.draw(win)\n",
    "        Text(Point(xll + 10, 490), i).draw(win)\n",
    "        print(460-height)"
   ]
  },
  {
   "cell_type": "code",
   "execution_count": 9,
   "metadata": {},
   "outputs": [],
   "source": [
    "def figure_y(principle):\n",
    "    win = GraphWin(\"Financial Calculator\", 1200, 500)\n",
    "    number_to_convert = 0\n",
    "    \n",
    "    if principle > 0 and principle < 20000:\n",
    "        for i in range(1,16):\n",
    "            number_to_convert += 5000\n",
    "            rounded_num = round(number_to_convert,1)\n",
    "            string_number = str(number_to_convert)\n",
    "            t1 = Text(Point(60, 495 - (32*i)), f'${string_number}')\n",
    "            t1.setSize(8)\n",
    "            t1.draw(win)        \n",
    "    elif principle >= 20000 and principle < 60000:\n",
    "        number_to_convert = 15000\n",
    "        for i in range(1,16):\n",
    "            number_to_convert += 5000\n",
    "            rounded_num = round(number_to_convert,1)\n",
    "            string_number = str(number_to_convert)\n",
    "            t1 = Text(Point(60, 495 - (32*i)), f'${string_number}')\n",
    "            t1.setSize(8)\n",
    "            t1.draw(win)\n",
    "    elif principle >= 60000 and principle < 100000:\n",
    "        number_to_convert = 55000\n",
    "        for i in range(1,16):\n",
    "            number_to_convert += 5000\n",
    "            rounded_num = round(number_to_convert,1)\n",
    "            string_number = str(number_to_convert)\n",
    "            t1 = Text(Point(60, 495 - (32*i)), f'${string_number}')\n",
    "            t1.setSize(8)\n",
    "            t1.draw(win)\n",
    "    elif principle <= 0:\n",
    "        print('Sorry that principle is to low')\n",
    "    else:\n",
    "        print(\"That principle is too high! It must be under $100,000 \")\n",
    "    return win\n",
    "        "
   ]
  },
  {
   "cell_type": "code",
   "execution_count": 5,
   "metadata": {},
   "outputs": [
    {
     "name": "stdout",
     "output_type": "stream",
     "text": [
      "Press enter to quitd\n"
     ]
    },
    {
     "data": {
      "text/plain": [
       "0.0064"
      ]
     },
     "execution_count": 5,
     "metadata": {},
     "output_type": "execute_result"
    }
   ],
   "source": [
    "figure_y(62000)"
   ]
  },
  {
   "cell_type": "markdown",
   "metadata": {},
   "source": [
    "## Finance Calculator III"
   ]
  },
  {
   "cell_type": "code",
   "execution_count": null,
   "metadata": {},
   "outputs": [
    {
     "name": "stdout",
     "output_type": "stream",
     "text": [
      "Enter the amount you will deposit: 13000\n",
      "Enter the annual % rate as a decimal: .00541\n",
      "Enter the number of years: 30\n",
      "Enter the number of periods the interest will accrue: 12\n",
      "Enter the amount you will pay each period: 765\n",
      "Period:  2 You now have: $13770.86 and have deposited a total of $14530.00 and earned a total of $-759.14\n",
      "Period:  3 You now have: $14542.07 and have deposited a total of $15295.00 and earned a total of $-752.93\n",
      "Period:  4 You now have: $15313.63 and have deposited a total of $16060.00 and earned a total of $-746.37\n",
      "Period:  5 You now have: $16085.53 and have deposited a total of $16825.00 and earned a total of $-739.47\n",
      "Period:  6 You now have: $16857.78 and have deposited a total of $17590.00 and earned a total of $-732.22\n",
      "Period:  7 You now have: $17630.38 and have deposited a total of $18355.00 and earned a total of $-724.62\n",
      "Period:  8 You now have: $18403.33 and have deposited a total of $19120.00 and earned a total of $-716.67\n",
      "Period:  9 You now have: $19176.63 and have deposited a total of $19885.00 and earned a total of $-708.37\n",
      "Period:  10 You now have: $19950.27 and have deposited a total of $20650.00 and earned a total of $-699.73\n",
      "Period:  11 You now have: $20724.27 and have deposited a total of $21415.00 and earned a total of $-690.73\n",
      "Period:  12 You now have: $21498.61 and have deposited a total of $22180.00 and earned a total of $-681.39\n",
      "Period:  13 You now have: $22273.30 and have deposited a total of $22945.00 and earned a total of $-671.70\n",
      "Period:  14 You now have: $23048.34 and have deposited a total of $23710.00 and earned a total of $-661.66\n",
      "Period:  15 You now have: $23823.73 and have deposited a total of $24475.00 and earned a total of $-651.27\n",
      "Period:  16 You now have: $24599.47 and have deposited a total of $25240.00 and earned a total of $-640.53\n",
      "Period:  17 You now have: $25375.56 and have deposited a total of $26005.00 and earned a total of $-629.44\n",
      "Period:  18 You now have: $26152.00 and have deposited a total of $26770.00 and earned a total of $-618.00\n",
      "Period:  19 You now have: $26928.80 and have deposited a total of $27535.00 and earned a total of $-606.20\n",
      "Period:  20 You now have: $27705.94 and have deposited a total of $28300.00 and earned a total of $-594.06\n",
      "Period:  21 You now have: $28483.43 and have deposited a total of $29065.00 and earned a total of $-581.57\n",
      "Period:  22 You now have: $29261.27 and have deposited a total of $29830.00 and earned a total of $-568.73\n",
      "Period:  23 You now have: $30039.46 and have deposited a total of $30595.00 and earned a total of $-555.54\n",
      "Period:  24 You now have: $30818.00 and have deposited a total of $31360.00 and earned a total of $-542.00\n",
      "Period:  25 You now have: $31596.90 and have deposited a total of $32125.00 and earned a total of $-528.10\n",
      "Period:  26 You now have: $32376.14 and have deposited a total of $32890.00 and earned a total of $-513.86\n",
      "Period:  27 You now have: $33155.74 and have deposited a total of $33655.00 and earned a total of $-499.26\n",
      "Period:  28 You now have: $33935.68 and have deposited a total of $34420.00 and earned a total of $-484.32\n",
      "Period:  29 You now have: $34715.98 and have deposited a total of $35185.00 and earned a total of $-469.02\n",
      "Period:  30 You now have: $35496.64 and have deposited a total of $35950.00 and earned a total of $-453.36\n",
      "Period:  31 You now have: $36277.64 and have deposited a total of $36715.00 and earned a total of $-437.36\n",
      "Period:  32 You now have: $37058.99 and have deposited a total of $37480.00 and earned a total of $-421.01\n",
      "Period:  33 You now have: $37840.70 and have deposited a total of $38245.00 and earned a total of $-404.30\n",
      "Period:  34 You now have: $38622.76 and have deposited a total of $39010.00 and earned a total of $-387.24\n",
      "Period:  35 You now have: $39405.17 and have deposited a total of $39775.00 and earned a total of $-369.83\n",
      "Period:  36 You now have: $40187.94 and have deposited a total of $40540.00 and earned a total of $-352.06\n",
      "Period:  37 You now have: $40971.06 and have deposited a total of $41305.00 and earned a total of $-333.94\n",
      "Period:  38 You now have: $41754.53 and have deposited a total of $42070.00 and earned a total of $-315.47\n",
      "Period:  39 You now have: $42538.35 and have deposited a total of $42835.00 and earned a total of $-296.65\n",
      "Period:  40 You now have: $43322.53 and have deposited a total of $43600.00 and earned a total of $-277.47\n",
      "Period:  41 You now have: $44107.06 and have deposited a total of $44365.00 and earned a total of $-257.94\n",
      "Period:  42 You now have: $44891.95 and have deposited a total of $45130.00 and earned a total of $-238.05\n",
      "Period:  43 You now have: $45677.18 and have deposited a total of $45895.00 and earned a total of $-217.82\n",
      "Period:  44 You now have: $46462.78 and have deposited a total of $46660.00 and earned a total of $-197.22\n",
      "Period:  45 You now have: $47248.72 and have deposited a total of $47425.00 and earned a total of $-176.28\n",
      "Period:  46 You now have: $48035.03 and have deposited a total of $48190.00 and earned a total of $-154.97\n",
      "Period:  47 You now have: $48821.68 and have deposited a total of $48955.00 and earned a total of $-133.32\n",
      "Period:  48 You now have: $49608.69 and have deposited a total of $49720.00 and earned a total of $-111.31\n",
      "Period:  49 You now have: $50396.06 and have deposited a total of $50485.00 and earned a total of $-88.94\n",
      "Period:  50 You now have: $51183.78 and have deposited a total of $51250.00 and earned a total of $-66.22\n",
      "Period:  51 You now have: $51971.85 and have deposited a total of $52015.00 and earned a total of $-43.15\n",
      "Period:  52 You now have: $52760.28 and have deposited a total of $52780.00 and earned a total of $-19.72\n",
      "Period:  53 You now have: $53549.07 and have deposited a total of $53545.00 and earned a total of $4.07\n",
      "Period:  54 You now have: $54338.21 and have deposited a total of $54310.00 and earned a total of $28.21\n",
      "Period:  55 You now have: $55127.71 and have deposited a total of $55075.00 and earned a total of $52.71\n",
      "Period:  56 You now have: $55917.56 and have deposited a total of $55840.00 and earned a total of $77.56\n",
      "Period:  57 You now have: $56707.77 and have deposited a total of $56605.00 and earned a total of $102.77\n",
      "Period:  58 You now have: $57498.34 and have deposited a total of $57370.00 and earned a total of $128.34\n",
      "Period:  59 You now have: $58289.26 and have deposited a total of $58135.00 and earned a total of $154.26\n",
      "Period:  60 You now have: $59080.54 and have deposited a total of $58900.00 and earned a total of $180.54\n",
      "Period:  61 You now have: $59872.17 and have deposited a total of $59665.00 and earned a total of $207.17\n",
      "Period:  62 You now have: $60664.17 and have deposited a total of $60430.00 and earned a total of $234.17\n",
      "Period:  63 You now have: $61456.52 and have deposited a total of $61195.00 and earned a total of $261.52\n",
      "Period:  64 You now have: $62249.22 and have deposited a total of $61960.00 and earned a total of $289.22\n",
      "Period:  65 You now have: $63042.29 and have deposited a total of $62725.00 and earned a total of $317.29\n",
      "Period:  66 You now have: $63835.71 and have deposited a total of $63490.00 and earned a total of $345.71\n",
      "Period:  67 You now have: $64629.49 and have deposited a total of $64255.00 and earned a total of $374.49\n",
      "Period:  68 You now have: $65423.62 and have deposited a total of $65020.00 and earned a total of $403.62\n",
      "Period:  69 You now have: $66218.12 and have deposited a total of $65785.00 and earned a total of $433.12\n",
      "Period:  70 You now have: $67012.97 and have deposited a total of $66550.00 and earned a total of $462.97\n",
      "Period:  71 You now have: $67808.18 and have deposited a total of $67315.00 and earned a total of $493.18\n",
      "Period:  72 You now have: $68603.75 and have deposited a total of $68080.00 and earned a total of $523.75\n",
      "Period:  73 You now have: $69399.68 and have deposited a total of $68845.00 and earned a total of $554.68\n",
      "Period:  74 You now have: $70195.97 and have deposited a total of $69610.00 and earned a total of $585.97\n",
      "Period:  75 You now have: $70992.62 and have deposited a total of $70375.00 and earned a total of $617.62\n",
      "Period:  76 You now have: $71789.62 and have deposited a total of $71140.00 and earned a total of $649.62\n",
      "Period:  77 You now have: $72586.99 and have deposited a total of $71905.00 and earned a total of $681.99\n",
      "Period:  78 You now have: $73384.71 and have deposited a total of $72670.00 and earned a total of $714.71\n",
      "Period:  79 You now have: $74182.80 and have deposited a total of $73435.00 and earned a total of $747.80\n",
      "Period:  80 You now have: $74981.24 and have deposited a total of $74200.00 and earned a total of $781.24\n",
      "Period:  81 You now have: $75780.05 and have deposited a total of $74965.00 and earned a total of $815.05\n",
      "Period:  82 You now have: $76579.21 and have deposited a total of $75730.00 and earned a total of $849.21\n",
      "Period:  83 You now have: $77378.73 and have deposited a total of $76495.00 and earned a total of $883.73\n",
      "Period:  84 You now have: $78178.62 and have deposited a total of $77260.00 and earned a total of $918.62\n",
      "Period:  85 You now have: $78978.86 and have deposited a total of $78025.00 and earned a total of $953.86\n",
      "Period:  86 You now have: $79779.47 and have deposited a total of $78790.00 and earned a total of $989.47\n",
      "Period:  87 You now have: $80580.44 and have deposited a total of $79555.00 and earned a total of $1025.44\n",
      "Period:  88 You now have: $81381.77 and have deposited a total of $80320.00 and earned a total of $1061.77\n",
      "Period:  89 You now have: $82183.46 and have deposited a total of $81085.00 and earned a total of $1098.46\n",
      "Period:  90 You now have: $82985.51 and have deposited a total of $81850.00 and earned a total of $1135.51\n",
      "Period:  91 You now have: $83787.92 and have deposited a total of $82615.00 and earned a total of $1172.92\n",
      "Period:  92 You now have: $84590.69 and have deposited a total of $83380.00 and earned a total of $1210.69\n",
      "Period:  93 You now have: $85393.83 and have deposited a total of $84145.00 and earned a total of $1248.83\n",
      "Period:  94 You now have: $86197.33 and have deposited a total of $84910.00 and earned a total of $1287.33\n"
     ]
    },
    {
     "name": "stdout",
     "output_type": "stream",
     "text": [
      "Period:  95 You now have: $87001.19 and have deposited a total of $85675.00 and earned a total of $1326.19\n",
      "Period:  96 You now have: $87805.41 and have deposited a total of $86440.00 and earned a total of $1365.41\n",
      "Period:  97 You now have: $88610.00 and have deposited a total of $87205.00 and earned a total of $1405.00\n",
      "Period:  98 You now have: $89414.95 and have deposited a total of $87970.00 and earned a total of $1444.95\n",
      "Period:  99 You now have: $90220.26 and have deposited a total of $88735.00 and earned a total of $1485.26\n",
      "Period:  100 You now have: $91025.93 and have deposited a total of $89500.00 and earned a total of $1525.93\n",
      "Period:  101 You now have: $91831.97 and have deposited a total of $90265.00 and earned a total of $1566.97\n",
      "Period:  102 You now have: $92638.37 and have deposited a total of $91030.00 and earned a total of $1608.37\n",
      "Period:  103 You now have: $93445.14 and have deposited a total of $91795.00 and earned a total of $1650.14\n",
      "Period:  104 You now have: $94252.26 and have deposited a total of $92560.00 and earned a total of $1692.26\n",
      "Period:  105 You now have: $95059.76 and have deposited a total of $93325.00 and earned a total of $1734.76\n",
      "Period:  106 You now have: $95867.61 and have deposited a total of $94090.00 and earned a total of $1777.61\n",
      "Period:  107 You now have: $96675.83 and have deposited a total of $94855.00 and earned a total of $1820.83\n",
      "Period:  108 You now have: $97484.42 and have deposited a total of $95620.00 and earned a total of $1864.42\n",
      "Period:  109 You now have: $98293.37 and have deposited a total of $96385.00 and earned a total of $1908.37\n",
      "Period:  110 You now have: $99102.68 and have deposited a total of $97150.00 and earned a total of $1952.68\n",
      "Period:  111 You now have: $99912.36 and have deposited a total of $97915.00 and earned a total of $1997.36\n",
      "Period:  112 You now have: $100722.40 and have deposited a total of $98680.00 and earned a total of $2042.40\n",
      "Period:  113 You now have: $101532.81 and have deposited a total of $99445.00 and earned a total of $2087.81\n",
      "Period:  114 You now have: $102343.59 and have deposited a total of $100210.00 and earned a total of $2133.59\n",
      "Period:  115 You now have: $103154.73 and have deposited a total of $100975.00 and earned a total of $2179.73\n",
      "Period:  116 You now have: $103966.23 and have deposited a total of $101740.00 and earned a total of $2226.23\n",
      "Period:  117 You now have: $104778.10 and have deposited a total of $102505.00 and earned a total of $2273.10\n",
      "Period:  118 You now have: $105590.34 and have deposited a total of $103270.00 and earned a total of $2320.34\n",
      "Period:  119 You now have: $106402.94 and have deposited a total of $104035.00 and earned a total of $2367.94\n",
      "Period:  120 You now have: $107215.91 and have deposited a total of $104800.00 and earned a total of $2415.91\n",
      "Period:  121 You now have: $108029.25 and have deposited a total of $105565.00 and earned a total of $2464.25\n",
      "Period:  122 You now have: $108842.95 and have deposited a total of $106330.00 and earned a total of $2512.95\n",
      "Period:  123 You now have: $109657.02 and have deposited a total of $107095.00 and earned a total of $2562.02\n",
      "Period:  124 You now have: $110471.46 and have deposited a total of $107860.00 and earned a total of $2611.46\n",
      "Period:  125 You now have: $111286.26 and have deposited a total of $108625.00 and earned a total of $2661.26\n",
      "Period:  126 You now have: $112101.44 and have deposited a total of $109390.00 and earned a total of $2711.44\n",
      "Period:  127 You now have: $112916.98 and have deposited a total of $110155.00 and earned a total of $2761.98\n",
      "Period:  128 You now have: $113732.88 and have deposited a total of $110920.00 and earned a total of $2812.88\n",
      "Period:  129 You now have: $114549.16 and have deposited a total of $111685.00 and earned a total of $2864.16\n",
      "Period:  130 You now have: $115365.80 and have deposited a total of $112450.00 and earned a total of $2915.80\n",
      "Period:  131 You now have: $116182.81 and have deposited a total of $113215.00 and earned a total of $2967.81\n",
      "Period:  132 You now have: $117000.19 and have deposited a total of $113980.00 and earned a total of $3020.19\n",
      "Period:  133 You now have: $117817.94 and have deposited a total of $114745.00 and earned a total of $3072.94\n",
      "Period:  134 You now have: $118636.05 and have deposited a total of $115510.00 and earned a total of $3126.05\n",
      "Period:  135 You now have: $119454.54 and have deposited a total of $116275.00 and earned a total of $3179.54\n",
      "Period:  136 You now have: $120273.39 and have deposited a total of $117040.00 and earned a total of $3233.39\n",
      "Period:  137 You now have: $121092.62 and have deposited a total of $117805.00 and earned a total of $3287.62\n",
      "Period:  138 You now have: $121912.21 and have deposited a total of $118570.00 and earned a total of $3342.21\n",
      "Period:  139 You now have: $122732.17 and have deposited a total of $119335.00 and earned a total of $3397.17\n",
      "Period:  140 You now have: $123552.50 and have deposited a total of $120100.00 and earned a total of $3452.50\n",
      "Period:  141 You now have: $124373.20 and have deposited a total of $120865.00 and earned a total of $3508.20\n",
      "Period:  142 You now have: $125194.27 and have deposited a total of $121630.00 and earned a total of $3564.27\n",
      "Period:  143 You now have: $126015.72 and have deposited a total of $122395.00 and earned a total of $3620.72\n",
      "Period:  144 You now have: $126837.53 and have deposited a total of $123160.00 and earned a total of $3677.53\n",
      "Period:  145 You now have: $127659.71 and have deposited a total of $123925.00 and earned a total of $3734.71\n",
      "Period:  146 You now have: $128482.26 and have deposited a total of $124690.00 and earned a total of $3792.26\n",
      "Period:  147 You now have: $129305.19 and have deposited a total of $125455.00 and earned a total of $3850.19\n",
      "Period:  148 You now have: $130128.48 and have deposited a total of $126220.00 and earned a total of $3908.48\n",
      "Period:  149 You now have: $130952.15 and have deposited a total of $126985.00 and earned a total of $3967.15\n",
      "Period:  150 You now have: $131776.19 and have deposited a total of $127750.00 and earned a total of $4026.19\n",
      "Period:  151 You now have: $132600.60 and have deposited a total of $128515.00 and earned a total of $4085.60\n",
      "Period:  152 You now have: $133425.38 and have deposited a total of $129280.00 and earned a total of $4145.38\n",
      "Period:  153 You now have: $134250.53 and have deposited a total of $130045.00 and earned a total of $4205.53\n",
      "Period:  154 You now have: $135076.05 and have deposited a total of $130810.00 and earned a total of $4266.05\n",
      "Period:  155 You now have: $135901.95 and have deposited a total of $131575.00 and earned a total of $4326.95\n",
      "Period:  156 You now have: $136728.22 and have deposited a total of $132340.00 and earned a total of $4388.22\n",
      "Period:  157 You now have: $137554.86 and have deposited a total of $133105.00 and earned a total of $4449.86\n",
      "Period:  158 You now have: $138381.88 and have deposited a total of $133870.00 and earned a total of $4511.88\n",
      "Period:  159 You now have: $139209.26 and have deposited a total of $134635.00 and earned a total of $4574.26\n",
      "Period:  160 You now have: $140037.02 and have deposited a total of $135400.00 and earned a total of $4637.02\n",
      "Period:  161 You now have: $140865.16 and have deposited a total of $136165.00 and earned a total of $4700.16\n",
      "Period:  162 You now have: $141693.66 and have deposited a total of $136930.00 and earned a total of $4763.66\n",
      "Period:  163 You now have: $142522.54 and have deposited a total of $137695.00 and earned a total of $4827.54\n",
      "Period:  164 You now have: $143351.80 and have deposited a total of $138460.00 and earned a total of $4891.80\n",
      "Period:  165 You now have: $144181.43 and have deposited a total of $139225.00 and earned a total of $4956.43\n",
      "Period:  166 You now have: $145011.43 and have deposited a total of $139990.00 and earned a total of $5021.43\n",
      "Period:  167 You now have: $145841.80 and have deposited a total of $140755.00 and earned a total of $5086.80\n",
      "Period:  168 You now have: $146672.55 and have deposited a total of $141520.00 and earned a total of $5152.55\n",
      "Period:  169 You now have: $147503.68 and have deposited a total of $142285.00 and earned a total of $5218.68\n",
      "Period:  170 You now have: $148335.18 and have deposited a total of $143050.00 and earned a total of $5285.18\n",
      "Period:  171 You now have: $149167.05 and have deposited a total of $143815.00 and earned a total of $5352.05\n",
      "Period:  172 You now have: $149999.30 and have deposited a total of $144580.00 and earned a total of $5419.30\n",
      "Period:  173 You now have: $150831.93 and have deposited a total of $145345.00 and earned a total of $5486.93\n",
      "Period:  174 You now have: $151664.93 and have deposited a total of $146110.00 and earned a total of $5554.93\n",
      "Period:  175 You now have: $152498.30 and have deposited a total of $146875.00 and earned a total of $5623.30\n",
      "Period:  176 You now have: $153332.05 and have deposited a total of $147640.00 and earned a total of $5692.05\n",
      "Period:  177 You now have: $154166.18 and have deposited a total of $148405.00 and earned a total of $5761.18\n",
      "Period:  178 You now have: $155000.68 and have deposited a total of $149170.00 and earned a total of $5830.68\n",
      "Period:  179 You now have: $155835.56 and have deposited a total of $149935.00 and earned a total of $5900.56\n",
      "Period:  180 You now have: $156670.82 and have deposited a total of $150700.00 and earned a total of $5970.82\n",
      "Period:  181 You now have: $157506.45 and have deposited a total of $151465.00 and earned a total of $6041.45\n",
      "Period:  182 You now have: $158342.46 and have deposited a total of $152230.00 and earned a total of $6112.46\n",
      "Period:  183 You now have: $159178.85 and have deposited a total of $152995.00 and earned a total of $6183.85\n"
     ]
    },
    {
     "name": "stdout",
     "output_type": "stream",
     "text": [
      "Period:  184 You now have: $160015.61 and have deposited a total of $153760.00 and earned a total of $6255.61\n",
      "Period:  185 You now have: $160852.75 and have deposited a total of $154525.00 and earned a total of $6327.75\n",
      "Period:  186 You now have: $161690.27 and have deposited a total of $155290.00 and earned a total of $6400.27\n",
      "Period:  187 You now have: $162528.16 and have deposited a total of $156055.00 and earned a total of $6473.16\n",
      "Period:  188 You now have: $163366.44 and have deposited a total of $156820.00 and earned a total of $6546.44\n",
      "Period:  189 You now have: $164205.09 and have deposited a total of $157585.00 and earned a total of $6620.09\n",
      "Period:  190 You now have: $165044.12 and have deposited a total of $158350.00 and earned a total of $6694.12\n",
      "Period:  191 You now have: $165883.52 and have deposited a total of $159115.00 and earned a total of $6768.52\n",
      "Period:  192 You now have: $166723.31 and have deposited a total of $159880.00 and earned a total of $6843.31\n",
      "Period:  193 You now have: $167563.48 and have deposited a total of $160645.00 and earned a total of $6918.48\n",
      "Period:  194 You now have: $168404.02 and have deposited a total of $161410.00 and earned a total of $6994.02\n",
      "Period:  195 You now have: $169244.94 and have deposited a total of $162175.00 and earned a total of $7069.94\n",
      "Period:  196 You now have: $170086.24 and have deposited a total of $162940.00 and earned a total of $7146.24\n",
      "Period:  197 You now have: $170927.92 and have deposited a total of $163705.00 and earned a total of $7222.92\n",
      "Period:  198 You now have: $171769.98 and have deposited a total of $164470.00 and earned a total of $7299.98\n",
      "Period:  199 You now have: $172612.42 and have deposited a total of $165235.00 and earned a total of $7377.42\n",
      "Period:  200 You now have: $173455.24 and have deposited a total of $166000.00 and earned a total of $7455.24\n",
      "Period:  201 You now have: $174298.44 and have deposited a total of $166765.00 and earned a total of $7533.44\n",
      "Period:  202 You now have: $175142.02 and have deposited a total of $167530.00 and earned a total of $7612.02\n",
      "Period:  203 You now have: $175985.98 and have deposited a total of $168295.00 and earned a total of $7690.98\n",
      "Period:  204 You now have: $176830.32 and have deposited a total of $169060.00 and earned a total of $7770.32\n",
      "Period:  205 You now have: $177675.04 and have deposited a total of $169825.00 and earned a total of $7850.04\n",
      "Period:  206 You now have: $178520.14 and have deposited a total of $170590.00 and earned a total of $7930.14\n",
      "Period:  207 You now have: $179365.63 and have deposited a total of $171355.00 and earned a total of $8010.63\n",
      "Period:  208 You now have: $180211.49 and have deposited a total of $172120.00 and earned a total of $8091.49\n",
      "Period:  209 You now have: $181057.74 and have deposited a total of $172885.00 and earned a total of $8172.74\n",
      "Period:  210 You now have: $181904.36 and have deposited a total of $173650.00 and earned a total of $8254.36\n",
      "Period:  211 You now have: $182751.37 and have deposited a total of $174415.00 and earned a total of $8336.37\n",
      "Period:  212 You now have: $183598.76 and have deposited a total of $175180.00 and earned a total of $8418.76\n",
      "Period:  213 You now have: $184446.53 and have deposited a total of $175945.00 and earned a total of $8501.53\n",
      "Period:  214 You now have: $185294.69 and have deposited a total of $176710.00 and earned a total of $8584.69\n",
      "Period:  215 You now have: $186143.23 and have deposited a total of $177475.00 and earned a total of $8668.23\n",
      "Period:  216 You now have: $186992.15 and have deposited a total of $178240.00 and earned a total of $8752.15\n",
      "Period:  217 You now have: $187841.45 and have deposited a total of $179005.00 and earned a total of $8836.45\n",
      "Period:  218 You now have: $188691.13 and have deposited a total of $179770.00 and earned a total of $8921.13\n",
      "Period:  219 You now have: $189541.20 and have deposited a total of $180535.00 and earned a total of $9006.20\n",
      "Period:  220 You now have: $190391.65 and have deposited a total of $181300.00 and earned a total of $9091.65\n",
      "Period:  221 You now have: $191242.49 and have deposited a total of $182065.00 and earned a total of $9177.49\n",
      "Period:  222 You now have: $192093.71 and have deposited a total of $182830.00 and earned a total of $9263.71\n",
      "Period:  223 You now have: $192945.31 and have deposited a total of $183595.00 and earned a total of $9350.31\n",
      "Period:  224 You now have: $193797.29 and have deposited a total of $184360.00 and earned a total of $9437.29\n",
      "Period:  225 You now have: $194649.66 and have deposited a total of $185125.00 and earned a total of $9524.66\n",
      "Period:  226 You now have: $195502.42 and have deposited a total of $185890.00 and earned a total of $9612.42\n",
      "Period:  227 You now have: $196355.56 and have deposited a total of $186655.00 and earned a total of $9700.56\n",
      "Period:  228 You now have: $197209.08 and have deposited a total of $187420.00 and earned a total of $9789.08\n",
      "Period:  229 You now have: $198062.99 and have deposited a total of $188185.00 and earned a total of $9877.99\n",
      "Period:  230 You now have: $198917.28 and have deposited a total of $188950.00 and earned a total of $9967.28\n",
      "Period:  231 You now have: $199771.96 and have deposited a total of $189715.00 and earned a total of $10056.96\n",
      "Period:  232 You now have: $200627.03 and have deposited a total of $190480.00 and earned a total of $10147.03\n",
      "Period:  233 You now have: $201482.48 and have deposited a total of $191245.00 and earned a total of $10237.48\n",
      "Period:  234 You now have: $202338.31 and have deposited a total of $192010.00 and earned a total of $10328.31\n",
      "Period:  235 You now have: $203194.53 and have deposited a total of $192775.00 and earned a total of $10419.53\n",
      "Period:  236 You now have: $204051.14 and have deposited a total of $193540.00 and earned a total of $10511.14\n",
      "Period:  237 You now have: $204908.13 and have deposited a total of $194305.00 and earned a total of $10603.13\n",
      "Period:  238 You now have: $205765.51 and have deposited a total of $195070.00 and earned a total of $10695.51\n",
      "Period:  239 You now have: $206623.28 and have deposited a total of $195835.00 and earned a total of $10788.28\n",
      "Period:  240 You now have: $207481.43 and have deposited a total of $196600.00 and earned a total of $10881.43\n",
      "Period:  241 You now have: $208339.97 and have deposited a total of $197365.00 and earned a total of $10974.97\n",
      "Period:  242 You now have: $209198.90 and have deposited a total of $198130.00 and earned a total of $11068.90\n",
      "Period:  243 You now have: $210058.21 and have deposited a total of $198895.00 and earned a total of $11163.21\n",
      "Period:  244 You now have: $210917.91 and have deposited a total of $199660.00 and earned a total of $11257.91\n",
      "Period:  245 You now have: $211778.00 and have deposited a total of $200425.00 and earned a total of $11353.00\n",
      "Period:  246 You now have: $212638.48 and have deposited a total of $201190.00 and earned a total of $11448.48\n",
      "Period:  247 You now have: $213499.34 and have deposited a total of $201955.00 and earned a total of $11544.34\n",
      "Period:  248 You now have: $214360.59 and have deposited a total of $202720.00 and earned a total of $11640.59\n",
      "Period:  249 You now have: $215222.23 and have deposited a total of $203485.00 and earned a total of $11737.23\n",
      "Period:  250 You now have: $216084.26 and have deposited a total of $204250.00 and earned a total of $11834.26\n",
      "Period:  251 You now have: $216946.68 and have deposited a total of $205015.00 and earned a total of $11931.68\n",
      "Period:  252 You now have: $217809.49 and have deposited a total of $205780.00 and earned a total of $12029.49\n",
      "Period:  253 You now have: $218672.68 and have deposited a total of $206545.00 and earned a total of $12127.68\n",
      "Period:  254 You now have: $219536.27 and have deposited a total of $207310.00 and earned a total of $12226.27\n",
      "Period:  255 You now have: $220400.24 and have deposited a total of $208075.00 and earned a total of $12325.24\n",
      "Period:  256 You now have: $221264.61 and have deposited a total of $208840.00 and earned a total of $12424.61\n",
      "Period:  257 You now have: $222129.36 and have deposited a total of $209605.00 and earned a total of $12524.36\n",
      "Period:  258 You now have: $222994.50 and have deposited a total of $210370.00 and earned a total of $12624.50\n",
      "Period:  259 You now have: $223860.04 and have deposited a total of $211135.00 and earned a total of $12725.04\n",
      "Period:  260 You now have: $224725.96 and have deposited a total of $211900.00 and earned a total of $12825.96\n",
      "Period:  261 You now have: $225592.27 and have deposited a total of $212665.00 and earned a total of $12927.27\n",
      "Period:  262 You now have: $226458.98 and have deposited a total of $213430.00 and earned a total of $13028.98\n",
      "Period:  263 You now have: $227326.07 and have deposited a total of $214195.00 and earned a total of $13131.07\n",
      "Period:  264 You now have: $228193.56 and have deposited a total of $214960.00 and earned a total of $13233.56\n"
     ]
    },
    {
     "name": "stdout",
     "output_type": "stream",
     "text": [
      "Period:  265 You now have: $229061.44 and have deposited a total of $215725.00 and earned a total of $13336.44\n",
      "Period:  266 You now have: $229929.71 and have deposited a total of $216490.00 and earned a total of $13439.71\n",
      "Period:  267 You now have: $230798.37 and have deposited a total of $217255.00 and earned a total of $13543.37\n",
      "Period:  268 You now have: $231667.42 and have deposited a total of $218020.00 and earned a total of $13647.42\n",
      "Period:  269 You now have: $232536.86 and have deposited a total of $218785.00 and earned a total of $13751.86\n",
      "Period:  270 You now have: $233406.70 and have deposited a total of $219550.00 and earned a total of $13856.70\n",
      "Period:  271 You now have: $234276.92 and have deposited a total of $220315.00 and earned a total of $13961.92\n",
      "Period:  272 You now have: $235147.54 and have deposited a total of $221080.00 and earned a total of $14067.54\n",
      "Period:  273 You now have: $236018.56 and have deposited a total of $221845.00 and earned a total of $14173.56\n",
      "Period:  274 You now have: $236889.96 and have deposited a total of $222610.00 and earned a total of $14279.96\n",
      "Period:  275 You now have: $237761.76 and have deposited a total of $223375.00 and earned a total of $14386.76\n",
      "Period:  276 You now have: $238633.95 and have deposited a total of $224140.00 and earned a total of $14493.95\n",
      "Period:  277 You now have: $239506.53 and have deposited a total of $224905.00 and earned a total of $14601.53\n",
      "Period:  278 You now have: $240379.51 and have deposited a total of $225670.00 and earned a total of $14709.51\n",
      "Period:  279 You now have: $241252.88 and have deposited a total of $226435.00 and earned a total of $14817.88\n",
      "Period:  280 You now have: $242126.65 and have deposited a total of $227200.00 and earned a total of $14926.65\n",
      "Period:  281 You now have: $243000.81 and have deposited a total of $227965.00 and earned a total of $15035.81\n",
      "Period:  282 You now have: $243875.36 and have deposited a total of $228730.00 and earned a total of $15145.36\n",
      "Period:  283 You now have: $244750.31 and have deposited a total of $229495.00 and earned a total of $15255.31\n",
      "Period:  284 You now have: $245625.65 and have deposited a total of $230260.00 and earned a total of $15365.65\n",
      "Period:  285 You now have: $246501.38 and have deposited a total of $231025.00 and earned a total of $15476.38\n",
      "Period:  286 You now have: $247377.52 and have deposited a total of $231790.00 and earned a total of $15587.52\n",
      "Period:  287 You now have: $248254.04 and have deposited a total of $232555.00 and earned a total of $15699.04\n",
      "Period:  288 You now have: $249130.96 and have deposited a total of $233320.00 and earned a total of $15810.96\n",
      "Period:  289 You now have: $250008.28 and have deposited a total of $234085.00 and earned a total of $15923.28\n",
      "Period:  290 You now have: $250885.99 and have deposited a total of $234850.00 and earned a total of $16035.99\n",
      "Period:  291 You now have: $251764.10 and have deposited a total of $235615.00 and earned a total of $16149.10\n",
      "Period:  292 You now have: $252642.60 and have deposited a total of $236380.00 and earned a total of $16262.60\n",
      "Period:  293 You now have: $253521.50 and have deposited a total of $237145.00 and earned a total of $16376.50\n",
      "Period:  294 You now have: $254400.80 and have deposited a total of $237910.00 and earned a total of $16490.80\n",
      "Period:  295 You now have: $255280.49 and have deposited a total of $238675.00 and earned a total of $16605.49\n",
      "Period:  296 You now have: $256160.58 and have deposited a total of $239440.00 and earned a total of $16720.58\n",
      "Period:  297 You now have: $257041.06 and have deposited a total of $240205.00 and earned a total of $16836.06\n",
      "Period:  298 You now have: $257921.95 and have deposited a total of $240970.00 and earned a total of $16951.95\n",
      "Period:  299 You now have: $258803.23 and have deposited a total of $241735.00 and earned a total of $17068.23\n",
      "Period:  300 You now have: $259684.90 and have deposited a total of $242500.00 and earned a total of $17184.90\n",
      "Period:  301 You now have: $260566.98 and have deposited a total of $243265.00 and earned a total of $17301.98\n",
      "Period:  302 You now have: $261449.45 and have deposited a total of $244030.00 and earned a total of $17419.45\n",
      "Period:  303 You now have: $262332.32 and have deposited a total of $244795.00 and earned a total of $17537.32\n",
      "Period:  304 You now have: $263215.59 and have deposited a total of $245560.00 and earned a total of $17655.59\n",
      "Period:  305 You now have: $264099.26 and have deposited a total of $246325.00 and earned a total of $17774.26\n",
      "Period:  306 You now have: $264983.32 and have deposited a total of $247090.00 and earned a total of $17893.32\n",
      "Period:  307 You now have: $265867.78 and have deposited a total of $247855.00 and earned a total of $18012.78\n",
      "Period:  308 You now have: $266752.65 and have deposited a total of $248620.00 and earned a total of $18132.65\n",
      "Period:  309 You now have: $267637.91 and have deposited a total of $249385.00 and earned a total of $18252.91\n",
      "Period:  310 You now have: $268523.57 and have deposited a total of $250150.00 and earned a total of $18373.57\n",
      "Period:  311 You now have: $269409.63 and have deposited a total of $250915.00 and earned a total of $18494.63\n",
      "Period:  312 You now have: $270296.09 and have deposited a total of $251680.00 and earned a total of $18616.09\n",
      "Period:  313 You now have: $271182.94 and have deposited a total of $252445.00 and earned a total of $18737.94\n",
      "Period:  314 You now have: $272070.20 and have deposited a total of $253210.00 and earned a total of $18860.20\n",
      "Period:  315 You now have: $272957.86 and have deposited a total of $253975.00 and earned a total of $18982.86\n",
      "Period:  316 You now have: $273845.92 and have deposited a total of $254740.00 and earned a total of $19105.92\n",
      "Period:  317 You now have: $274734.38 and have deposited a total of $255505.00 and earned a total of $19229.38\n",
      "Period:  318 You now have: $275623.24 and have deposited a total of $256270.00 and earned a total of $19353.24\n",
      "Period:  319 You now have: $276512.50 and have deposited a total of $257035.00 and earned a total of $19477.50\n",
      "Period:  320 You now have: $277402.16 and have deposited a total of $257800.00 and earned a total of $19602.16\n",
      "Period:  321 You now have: $278292.22 and have deposited a total of $258565.00 and earned a total of $19727.22\n",
      "Period:  322 You now have: $279182.68 and have deposited a total of $259330.00 and earned a total of $19852.68\n",
      "Period:  323 You now have: $280073.55 and have deposited a total of $260095.00 and earned a total of $19978.55\n",
      "Period:  324 You now have: $280964.82 and have deposited a total of $260860.00 and earned a total of $20104.82\n",
      "Period:  325 You now have: $281856.48 and have deposited a total of $261625.00 and earned a total of $20231.48\n",
      "Period:  326 You now have: $282748.55 and have deposited a total of $262390.00 and earned a total of $20358.55\n",
      "Period:  327 You now have: $283641.03 and have deposited a total of $263155.00 and earned a total of $20486.03\n",
      "Period:  328 You now have: $284533.90 and have deposited a total of $263920.00 and earned a total of $20613.90\n",
      "Period:  329 You now have: $285427.18 and have deposited a total of $264685.00 and earned a total of $20742.18\n",
      "Period:  330 You now have: $286320.86 and have deposited a total of $265450.00 and earned a total of $20870.86\n",
      "Period:  331 You now have: $287214.94 and have deposited a total of $266215.00 and earned a total of $20999.94\n",
      "Period:  332 You now have: $288109.43 and have deposited a total of $266980.00 and earned a total of $21129.43\n",
      "Period:  333 You now have: $289004.32 and have deposited a total of $267745.00 and earned a total of $21259.32\n",
      "Period:  334 You now have: $289899.61 and have deposited a total of $268510.00 and earned a total of $21389.61\n",
      "Period:  335 You now have: $290795.31 and have deposited a total of $269275.00 and earned a total of $21520.31\n",
      "Period:  336 You now have: $291691.41 and have deposited a total of $270040.00 and earned a total of $21651.41\n",
      "Period:  337 You now have: $292587.91 and have deposited a total of $270805.00 and earned a total of $21782.91\n",
      "Period:  338 You now have: $293484.82 and have deposited a total of $271570.00 and earned a total of $21914.82\n",
      "Period:  339 You now have: $294382.13 and have deposited a total of $272335.00 and earned a total of $22047.13\n",
      "Period:  340 You now have: $295279.85 and have deposited a total of $273100.00 and earned a total of $22179.85\n",
      "Period:  341 You now have: $296177.97 and have deposited a total of $273865.00 and earned a total of $22312.97\n",
      "Period:  342 You now have: $297076.50 and have deposited a total of $274630.00 and earned a total of $22446.50\n"
     ]
    },
    {
     "name": "stdout",
     "output_type": "stream",
     "text": [
      "Period:  343 You now have: $297975.43 and have deposited a total of $275395.00 and earned a total of $22580.43\n",
      "Period:  344 You now have: $298874.77 and have deposited a total of $276160.00 and earned a total of $22714.77\n",
      "Period:  345 You now have: $299774.51 and have deposited a total of $276925.00 and earned a total of $22849.51\n",
      "Period:  346 You now have: $300674.66 and have deposited a total of $277690.00 and earned a total of $22984.66\n",
      "Period:  347 You now have: $301575.21 and have deposited a total of $278455.00 and earned a total of $23120.21\n",
      "Period:  348 You now have: $302476.17 and have deposited a total of $279220.00 and earned a total of $23256.17\n",
      "Period:  349 You now have: $303377.54 and have deposited a total of $279985.00 and earned a total of $23392.54\n",
      "Period:  350 You now have: $304279.31 and have deposited a total of $280750.00 and earned a total of $23529.31\n",
      "Period:  351 You now have: $305181.49 and have deposited a total of $281515.00 and earned a total of $23666.49\n",
      "Period:  352 You now have: $306084.08 and have deposited a total of $282280.00 and earned a total of $23804.08\n",
      "Period:  353 You now have: $306987.07 and have deposited a total of $283045.00 and earned a total of $23942.07\n",
      "Period:  354 You now have: $307890.47 and have deposited a total of $283810.00 and earned a total of $24080.47\n",
      "Period:  355 You now have: $308794.28 and have deposited a total of $284575.00 and earned a total of $24219.28\n",
      "Period:  356 You now have: $309698.49 and have deposited a total of $285340.00 and earned a total of $24358.49\n",
      "Period:  357 You now have: $310603.11 and have deposited a total of $286105.00 and earned a total of $24498.11\n",
      "Period:  358 You now have: $311508.14 and have deposited a total of $286870.00 and earned a total of $24638.14\n",
      "Period:  359 You now have: $312413.58 and have deposited a total of $287635.00 and earned a total of $24778.58\n",
      "Period:  360 You now have: $313319.43 and have deposited a total of $288400.00 and earned a total of $24919.43\n"
     ]
    }
   ],
   "source": [
    "import sys\n",
    "from graphics import *\n",
    "\n",
    "def finance_calc_complete():\n",
    "    \n",
    "    principle = eval(input(\"Enter the amount you will deposit: \"))\n",
    "    if principle <= 0:\n",
    "        print('Sorry that principle is to low')\n",
    "        sys.exit()\n",
    "    elif principle > 100000:\n",
    "        print(\"That principle is too high! It must be under $100,000 \")\n",
    "        sys.exit()\n",
    "    interest = eval(input(\"Enter the annual % rate as a decimal: \"))\n",
    "    time = int((input(\"Enter the number of years: \")))\n",
    "    period = int(input(\"Enter the number of periods the interest will accrue: \"))\n",
    "    payment = eval(input(\"Enter the amount you will pay each period: \"))\n",
    "    initial_principle = principle\n",
    "    \n",
    "    graph_width = 1200\n",
    "    graph_height = 500\n",
    "    dollar_per_pixel = 32/5000\n",
    "    \n",
    "    win = GraphWin(\"Financial Calculator\", 1200, 500)\n",
    "    win.setBackground('beige')\n",
    "    number_to_convert = 0\n",
    "    \n",
    "    if principle > 0 and principle < 20000:\n",
    "        for i in range(1,16):\n",
    "            number_to_convert += 5000\n",
    "            rounded_num = round(number_to_convert,1)\n",
    "            string_number = str(number_to_convert)\n",
    "            t1 = Text(Point(60, 495 - (32*i)), f'${string_number}')\n",
    "            t1.setSize(8)\n",
    "            t1.setStyle('bold')\n",
    "            t1.draw(win)\n",
    "            l1 = Line(Point(77, 495-((32*i)+2)), Point(1200,495-((32*i)+2)))\n",
    "            l1.draw(win)\n",
    "    elif principle >= 20000 and principle < 60000:\n",
    "        number_to_convert = 15000\n",
    "        for i in range(1,16):\n",
    "            number_to_convert += 5000\n",
    "            rounded_num = round(number_to_convert,1)\n",
    "            string_number = str(number_to_convert)\n",
    "            t1 = Text(Point(60, 495 - (32*i)), f'${string_number}')\n",
    "            t1.setSize(8)\n",
    "            t1.setStyle('bold')\n",
    "            t1.draw(win)\n",
    "            l1 = Line(Point(77, 495-((32*i)+2)), Point(1200,495-((32*i)+2)))\n",
    "            l1.draw(win)\n",
    "    elif principle >= 60000 and principle < 100000:\n",
    "        number_to_convert = 55000\n",
    "        for i in range(1,16):\n",
    "            number_to_convert += 5000\n",
    "            rounded_num = round(number_to_convert,1)\n",
    "            string_number = str(number_to_convert)\n",
    "            t1 = Text(Point(60, 495 - (32*i)), f'${string_number}')\n",
    "            t1.setSize(8)\n",
    "            t1.setStyle('bold')\n",
    "            t1.draw(win)\n",
    "            l1 = Line(Point(77, 495-((32*i)+2)), Point(1200,495-((32*i)+2)))\n",
    "            l1.draw(win)\n",
    "\n",
    "    \n",
    "    width_increase = (graph_width -(graph_width *.09)) /(time*period)\n",
    "    xll1 = (graph_width * .09)\n",
    "    height = principle * dollar_per_pixel\n",
    "    bar = Rectangle(Point((graph_width * .09), 460), Point((graph_width * .09)+width_increase, 495-height))\n",
    "    bar.setFill(\"green\")\n",
    "    bar.setWidth(2)\n",
    "    bar.draw(win)\n",
    "    t2 = Text((Point((xll1+ (width_increase *.5)), 480)), f'{1}')\n",
    "    t2.setSize(8)\n",
    "    t2.draw(win)\n",
    "\n",
    "    for i in range(1,(time * period)):\n",
    "        payment_counter = (payment * (i + 1))\n",
    "        earnings = (principle * (interest / period))\n",
    "        principle = earnings + principle + payment\n",
    "        total_earnings = (principle - initial_principle) - payment_counter\n",
    "        print(\"Period: \", f\"{(i+1)}\", \"You now have:\", f\"${principle:1.2f}\", \"and have deposited a total of\",\n",
    "              f\"${payment_counter + initial_principle:1.2f}\", \"and earned a total of\", f\"${total_earnings:1.2f}\")\n",
    "        xll = i * width_increase + (graph_width *.09)\n",
    "        height = principle * dollar_per_pixel\n",
    "        bar = Rectangle(Point(xll, 460), Point(xll+width_increase, 495-height))\n",
    "        if (i) % 2 == 0:\n",
    "            bar.setFill('silver')\n",
    "        else:\n",
    "            bar.setFill(\"gold\")\n",
    "        bar.setWidth(2)\n",
    "        bar.draw(win)\n",
    "        t3 = Text((Point((xll+(width_increase * .5)), 480)), f'{i+1}')\n",
    "        t3.setSize(8)\n",
    "        t3.setStyle('italic')\n",
    "        t3.draw(win)\n",
    "        \n",
    "    \n",
    "    input(\"Press enter to quit\")\n",
    "    win.close()\n",
    "finance_calc_complete()"
   ]
  },
  {
   "cell_type": "code",
   "execution_count": 3,
   "metadata": {},
   "outputs": [
    {
     "ename": "NameError",
     "evalue": "name 'GraphWin' is not defined",
     "output_type": "error",
     "traceback": [
      "\u001b[1;31m---------------------------------------------------------------------------\u001b[0m",
      "\u001b[1;31mNameError\u001b[0m                                 Traceback (most recent call last)",
      "\u001b[1;32m<ipython-input-3-00601d1a3336>\u001b[0m in \u001b[0;36m<module>\u001b[1;34m\u001b[0m\n\u001b[1;32m----> 1\u001b[1;33m \u001b[0mwin\u001b[0m \u001b[1;33m=\u001b[0m \u001b[0mGraphWin\u001b[0m\u001b[1;33m(\u001b[0m\u001b[1;34m\"hi\"\u001b[0m\u001b[1;33m,\u001b[0m \u001b[1;36m1200\u001b[0m\u001b[1;33m,\u001b[0m\u001b[1;36m500\u001b[0m\u001b[1;33m)\u001b[0m\u001b[1;33m\u001b[0m\u001b[1;33m\u001b[0m\u001b[0m\n\u001b[0m\u001b[0;32m      2\u001b[0m \u001b[0ml1\u001b[0m \u001b[1;33m=\u001b[0m \u001b[0mLine\u001b[0m\u001b[1;33m(\u001b[0m\u001b[0mPoint\u001b[0m\u001b[1;33m(\u001b[0m\u001b[1;36m60\u001b[0m\u001b[1;33m,\u001b[0m \u001b[1;36m495\u001b[0m\u001b[1;33m-\u001b[0m\u001b[1;33m(\u001b[0m\u001b[1;33m(\u001b[0m\u001b[1;36m32\u001b[0m\u001b[1;33m*\u001b[0m\u001b[1;36m1\u001b[0m\u001b[1;33m)\u001b[0m\u001b[1;33m+\u001b[0m\u001b[1;36m5\u001b[0m\u001b[1;33m)\u001b[0m\u001b[1;33m)\u001b[0m\u001b[1;33m,\u001b[0m \u001b[0mPoint\u001b[0m\u001b[1;33m(\u001b[0m\u001b[1;36m1200\u001b[0m\u001b[1;33m,\u001b[0m\u001b[1;33m(\u001b[0m\u001b[1;33m(\u001b[0m\u001b[1;36m32\u001b[0m\u001b[1;33m*\u001b[0m\u001b[1;36m1\u001b[0m\u001b[1;33m)\u001b[0m\u001b[1;33m+\u001b[0m\u001b[1;36m5\u001b[0m\u001b[1;33m)\u001b[0m\u001b[1;33m)\u001b[0m\u001b[1;33m)\u001b[0m\u001b[1;33m\u001b[0m\u001b[1;33m\u001b[0m\u001b[0m\n\u001b[0;32m      3\u001b[0m \u001b[0ml1\u001b[0m\u001b[1;33m.\u001b[0m\u001b[0mdraw\u001b[0m\u001b[1;33m(\u001b[0m\u001b[0mwin\u001b[0m\u001b[1;33m)\u001b[0m\u001b[1;33m\u001b[0m\u001b[1;33m\u001b[0m\u001b[0m\n",
      "\u001b[1;31mNameError\u001b[0m: name 'GraphWin' is not defined"
     ]
    }
   ],
   "source": [
    "win = GraphWin(\"hi\", 1200,500)\n",
    "l1 = Line(Point(60, 495-((32*1)+5)), Point(1200,((32*1)+5)))\n",
    "l1.draw(win)"
   ]
  },
  {
   "cell_type": "code",
   "execution_count": 12,
   "metadata": {},
   "outputs": [],
   "source": [
    "win.close()"
   ]
  },
  {
   "cell_type": "markdown",
   "metadata": {},
   "source": [
    "## Finance Calculator IV"
   ]
  },
  {
   "cell_type": "code",
   "execution_count": null,
   "metadata": {},
   "outputs": [],
   "source": []
  }
 ],
 "metadata": {
  "kernelspec": {
   "display_name": "Python 3",
   "language": "python",
   "name": "python3"
  },
  "language_info": {
   "codemirror_mode": {
    "name": "ipython",
    "version": 3
   },
   "file_extension": ".py",
   "mimetype": "text/x-python",
   "name": "python",
   "nbconvert_exporter": "python",
   "pygments_lexer": "ipython3",
   "version": "3.7.3"
  }
 },
 "nbformat": 4,
 "nbformat_minor": 2
}
