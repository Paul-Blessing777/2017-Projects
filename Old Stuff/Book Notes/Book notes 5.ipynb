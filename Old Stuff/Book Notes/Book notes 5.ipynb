{
 "cells": [
  {
   "cell_type": "markdown",
   "metadata": {},
   "source": [
    "# Chapter 5: Sequences- Strings, Lists, and Files"
   ]
  },
  {
   "cell_type": "markdown",
   "metadata": {},
   "source": [
    "## 5.1: The String Data Type"
   ]
  },
  {
   "cell_type": "code",
   "execution_count": 1,
   "metadata": {},
   "outputs": [],
   "source": [
    "# String indexing examples\n",
    "string1 = 'Hello Bob'\n"
   ]
  },
  {
   "cell_type": "code",
   "execution_count": 2,
   "metadata": {},
   "outputs": [
    {
     "data": {
      "text/plain": [
       "'H'"
      ]
     },
     "execution_count": 2,
     "metadata": {},
     "output_type": "execute_result"
    }
   ],
   "source": [
    "string1[0]"
   ]
  },
  {
   "cell_type": "code",
   "execution_count": 4,
   "metadata": {},
   "outputs": [
    {
     "name": "stdout",
     "output_type": "stream",
     "text": [
      "H l o\n"
     ]
    }
   ],
   "source": [
    "print(string1[0], string1[2], string1[4])"
   ]
  },
  {
   "cell_type": "code",
   "execution_count": 6,
   "metadata": {},
   "outputs": [
    {
     "name": "stdout",
     "output_type": "stream",
     "text": [
      "B\n"
     ]
    }
   ],
   "source": [
    "x= 8\n",
    "print(string1[x-2])"
   ]
  },
  {
   "cell_type": "markdown",
   "metadata": {},
   "source": [
    "The above examples highlight that stings indexes start at 0 and can be accessed like this string[expression]"
   ]
  },
  {
   "cell_type": "code",
   "execution_count": 7,
   "metadata": {},
   "outputs": [
    {
     "data": {
      "text/plain": [
       "'b'"
      ]
     },
     "execution_count": 7,
     "metadata": {},
     "output_type": "execute_result"
    }
   ],
   "source": [
    "# we can also use negative indexes\n",
    "string1[-1]"
   ]
  },
  {
   "cell_type": "code",
   "execution_count": 8,
   "metadata": {},
   "outputs": [
    {
     "data": {
      "text/plain": [
       "'B'"
      ]
     },
     "execution_count": 8,
     "metadata": {},
     "output_type": "execute_result"
    }
   ],
   "source": [
    "string1[-3]"
   ]
  },
  {
   "cell_type": "markdown",
   "metadata": {},
   "source": [
    "It looks like the negative index starts at -1 and goes down"
   ]
  },
  {
   "cell_type": "markdown",
   "metadata": {},
   "source": [
    "We can do something called string slicing. the format looks like this string[start:end] <br>\n",
    "the slice will get every character from the start up to BUT NOT INCLUDING the end index"
   ]
  },
  {
   "cell_type": "code",
   "execution_count": 14,
   "metadata": {},
   "outputs": [
    {
     "name": "stdout",
     "output_type": "stream",
     "text": [
      "Hel\n",
      " Bob\n",
      "Hello\n",
      " Bob\n",
      "Hello Bob\n"
     ]
    }
   ],
   "source": [
    "# Some examples\n",
    "print(string1[0:3])\n",
    "print(string1[5:9])\n",
    "print(string1[:5])\n",
    "print(string1[5:])\n",
    "print(string1[:])\n",
    "# The final two examples show that by defualt a blank will be the start and a blank on the other side of the colon will be the\n",
    "# end of the string includeing the last character"
   ]
  },
  {
   "cell_type": "markdown",
   "metadata": {},
   "source": [
    "We can use two operators on strings: + for concatenation and * for repitition."
   ]
  },
  {
   "cell_type": "code",
   "execution_count": 21,
   "metadata": {},
   "outputs": [
    {
     "name": "stdout",
     "output_type": "stream",
     "text": [
      "spameggs\n",
      "spamandeggs\n",
      "SpamSpamSpam\n",
      "spamspamspamspamspam\n",
      "SpamSpamSpameggseggseggseggseggs\n"
     ]
    }
   ],
   "source": [
    "# Some examples\n",
    "print(\"spam\" + \"eggs\")\n",
    "print('spam' + 'and' + 'eggs' )\n",
    "print(3*'Spam')\n",
    "print('spam'* 5)\n",
    "print((3*'Spam') + ('eggs' * 5))"
   ]
  },
  {
   "cell_type": "code",
   "execution_count": 27,
   "metadata": {},
   "outputs": [
    {
     "name": "stdout",
     "output_type": "stream",
     "text": [
      "4\n",
      "5\n",
      "11\n",
      "S p a m ! "
     ]
    }
   ],
   "source": [
    "# We can also use the len() function on strings to return how long they are\n",
    "print(len(\"Spam\"))\n",
    "print(len(' Spam'))\n",
    "print(len('SpamAndEggs'))\n",
    "for ch in \"Spam!\":\n",
    "    print(ch, end=\" \")"
   ]
  },
  {
   "cell_type": "markdown",
   "metadata": {},
   "source": [
    "## 5.2: Simple String Processing"
   ]
  },
  {
   "cell_type": "code",
   "execution_count": 138,
   "metadata": {},
   "outputs": [
    {
     "data": {
      "text/plain": [
       "'Pblessin'"
      ]
     },
     "execution_count": 138,
     "metadata": {},
     "output_type": "execute_result"
    }
   ],
   "source": [
    "# The book is about to give an example of how we might use strings to assign a username based upon the first letter of someones\n",
    "# first name and the first seven of their last.\n",
    "# This is me trying to do this before seeing the example\n",
    "\n",
    "def username_gen(first_name, last_name):\n",
    "    \n",
    "    list1 = []\n",
    "    first_name= first_name.capitalize()\n",
    "    last_name = last_name.lower()\n",
    "    list1.append(first_name[0])\n",
    "    \n",
    "    for ch in last_name[0:7]:\n",
    "        list1.append(ch)\n",
    "        username = \"\".join(list1)\n",
    "        \n",
    "    return username\n",
    "\n",
    "username_gen(\"Paul\", \"Blessing\")"
   ]
  },
  {
   "cell_type": "code",
   "execution_count": 139,
   "metadata": {},
   "outputs": [
    {
     "data": {
      "text/plain": [
       "'Japplese'"
      ]
     },
     "execution_count": 139,
     "metadata": {},
     "output_type": "execute_result"
    }
   ],
   "source": [
    "username_gen(\"johnny\", \"Appleseed\")"
   ]
  },
  {
   "cell_type": "code",
   "execution_count": 140,
   "metadata": {},
   "outputs": [
    {
     "data": {
      "text/plain": [
       "'Apaydock'"
      ]
     },
     "execution_count": 140,
     "metadata": {},
     "output_type": "execute_result"
    }
   ],
   "source": [
    "username_gen(\"Ashley\", \"Paydock\")"
   ]
  },
  {
   "cell_type": "markdown",
   "metadata": {},
   "source": [
    "### Book's Way"
   ]
  },
  {
   "cell_type": "code",
   "execution_count": 45,
   "metadata": {},
   "outputs": [
    {
     "name": "stdout",
     "output_type": "stream",
     "text": [
      "This program generates computer usernames. \n",
      "\n",
      "Please enter your first name: PAUL\n",
      "Please enter your last nameBLESSING\n",
      "Your username is:  pblessin\n"
     ]
    }
   ],
   "source": [
    "def main():\n",
    "    print(\"This program generates computer usernames. \\n\") # This \\n makes a newline making things look nicer\n",
    "    \n",
    "    # get user's first and last name\n",
    "    first = input(\"Please enter your first name: \").lower()\n",
    "    last = input(\"Please enter your last name\").lower()\n",
    "    \n",
    "    # concatenates first initial with 7 chars of the last name.\n",
    "    username = first[0] + last[:7]\n",
    "    \n",
    "    # output the username\n",
    "    print(\"Your username is: \", username)\n",
    "    \n",
    "main()"
   ]
  },
  {
   "cell_type": "code",
   "execution_count": 141,
   "metadata": {},
   "outputs": [
    {
     "data": {
      "text/plain": [
       "'Feb'"
      ]
     },
     "execution_count": 141,
     "metadata": {},
     "output_type": "execute_result"
    }
   ],
   "source": [
    "# What if we wanted to get a particular month out of a string like the one below?\n",
    "months = 'JanFebMarAprMayJunJulAugSepOctNovDec'\n",
    "\n",
    "months[0:0+3] # heres a rudimentary way we could get it\n",
    "months[3:3+3] # again, it looks like we go up by 3 and add three to the end to get the month we want"
   ]
  },
  {
   "cell_type": "code",
   "execution_count": 52,
   "metadata": {},
   "outputs": [
    {
     "data": {
      "text/plain": [
       "0"
      ]
     },
     "execution_count": 52,
     "metadata": {},
     "output_type": "execute_result"
    }
   ],
   "source": [
    "# we could use a formula to make this more intuitive:\n",
    "# (month-1) *3 = month number\n",
    "# The above forumla will give us the month number for a month\n",
    "# lets use January as an example\n",
    "(1-1) *3\n",
    "# This return 0 which is Jan's index in our string"
   ]
  },
  {
   "cell_type": "markdown",
   "metadata": {},
   "source": [
    "#### The book offers a program for this"
   ]
  },
  {
   "cell_type": "code",
   "execution_count": 58,
   "metadata": {},
   "outputs": [
    {
     "name": "stdout",
     "output_type": "stream",
     "text": [
      "Please select a month number (1-12: 9\n"
     ]
    },
    {
     "data": {
      "text/plain": [
       "'Sep'"
      ]
     },
     "execution_count": 58,
     "metadata": {},
     "output_type": "execute_result"
    }
   ],
   "source": [
    "def main():\n",
    "    # months is used as a lookup table\n",
    "    months = 'JanFebMarAprMayJunJulAugSepOctNovDec'\n",
    "    \n",
    "    n = int(input(\"Please select a month number (1-12: \"))\n",
    "    \n",
    "    # compute starting position of month n in months\n",
    "    month_position = (n-1) * 3\n",
    "    \n",
    "    # Gives the result\n",
    "    return months[month_position:month_position +3]\n",
    "\n",
    "        \n",
    "main()\n",
    "    "
   ]
  },
  {
   "cell_type": "markdown",
   "metadata": {},
   "source": [
    "## 5.3: Lists as Sequences"
   ]
  },
  {
   "cell_type": "markdown",
   "metadata": {},
   "source": [
    "Lists are similar to strings in that they are sequenced and can be sliced like strings. <br><Br>\n",
    "Lists can contain many different kinds of objects: They can contain strings, floats, ints and many others."
   ]
  },
  {
   "cell_type": "code",
   "execution_count": 78,
   "metadata": {},
   "outputs": [
    {
     "name": "stdout",
     "output_type": "stream",
     "text": [
      "A\n",
      "['C', 'D']\n",
      "5\n",
      "[1, 2, 3, 4]\n",
      "[1, 2, 1, 2, 1, 2]\n",
      "[1, 'SPAM', 0.34]\n"
     ]
    }
   ],
   "source": [
    "# Example of list slicing\n",
    "grades = ['A', 'B', \"C\", \"D\", \"F\"]\n",
    "print(grades[0])\n",
    "print(grades[2:4])\n",
    "print(len(grades))\n",
    "\n",
    "\n",
    "# example of list concatentation and multiplication\n",
    "print([1,2] + [3,4])\n",
    "print([1,2] *3)\n",
    "\n",
    "# example of list's containing different data types\n",
    "myList = [1, \"SPAM\", .34]\n",
    "print(myList)"
   ]
  },
  {
   "cell_type": "code",
   "execution_count": 84,
   "metadata": {},
   "outputs": [
    {
     "name": "stdout",
     "output_type": "stream",
     "text": [
      "Please select a month # (1-12): 9\n"
     ]
    },
    {
     "data": {
      "text/plain": [
       "'September'"
      ]
     },
     "execution_count": 84,
     "metadata": {},
     "output_type": "execute_result"
    }
   ],
   "source": [
    "# We can re-create our month finder program with lists\n",
    "\n",
    "def main():\n",
    "    \n",
    "    # Month list that will be referenced\n",
    "    months = [0, \"January\", 'Februrary', 'March', 'April', \"May\", 'June', 'July', \"August\", 'September',\n",
    "              'October', 'November',\"December\"]\n",
    "    \n",
    "    month = int(input(\"Please select a month # (1-12): \"))\n",
    "    \n",
    "    return months[month]\n",
    "\n",
    "main()"
   ]
  },
  {
   "cell_type": "markdown",
   "metadata": {},
   "source": [
    "A key difference b/w lists and strings is that strings are immutable. This means that the value of an item in a list can be changed with an assigment operator whereas a string cannot be changed like this. It must be reassigned"
   ]
  },
  {
   "cell_type": "code",
   "execution_count": 85,
   "metadata": {},
   "outputs": [
    {
     "name": "stdout",
     "output_type": "stream",
     "text": [
      "15\n"
     ]
    }
   ],
   "source": [
    "# Some Examples\n",
    "myList = [34,26,15,10]\n",
    "print(myList[2])"
   ]
  },
  {
   "cell_type": "code",
   "execution_count": 86,
   "metadata": {},
   "outputs": [
    {
     "name": "stdout",
     "output_type": "stream",
     "text": [
      "[34, 26, 0, 10]\n"
     ]
    }
   ],
   "source": [
    "myList[2] = 0\n",
    "print(myList)"
   ]
  },
  {
   "cell_type": "code",
   "execution_count": 87,
   "metadata": {},
   "outputs": [
    {
     "name": "stdout",
     "output_type": "stream",
     "text": [
      "l\n"
     ]
    }
   ],
   "source": [
    "myString = 'Hello World'\n",
    "print(myString[2])"
   ]
  },
  {
   "cell_type": "code",
   "execution_count": 89,
   "metadata": {},
   "outputs": [
    {
     "ename": "TypeError",
     "evalue": "'str' object does not support item assignment",
     "output_type": "error",
     "traceback": [
      "\u001b[1;31m---------------------------------------------------------------------------\u001b[0m",
      "\u001b[1;31mTypeError\u001b[0m                                 Traceback (most recent call last)",
      "\u001b[1;32m<ipython-input-89-ecdbea19b2dd>\u001b[0m in \u001b[0;36m<module>\u001b[1;34m\u001b[0m\n\u001b[1;32m----> 1\u001b[1;33m \u001b[0mmyString\u001b[0m\u001b[1;33m[\u001b[0m\u001b[1;36m2\u001b[0m\u001b[1;33m]\u001b[0m \u001b[1;33m=\u001b[0m \u001b[1;34m'Z'\u001b[0m \u001b[1;31m# This causes an error as you can reassign a part of the string like you can in lists\u001b[0m\u001b[1;33m\u001b[0m\u001b[1;33m\u001b[0m\u001b[0m\n\u001b[0m",
      "\u001b[1;31mTypeError\u001b[0m: 'str' object does not support item assignment"
     ]
    }
   ],
   "source": [
    "myString[2] = 'Z' # This causes an error as you can reassign a part of the string like you can in lists"
   ]
  },
  {
   "cell_type": "markdown",
   "metadata": {},
   "source": [
    "## 5.4 String Representation and Message Encoding"
   ]
  },
  {
   "cell_type": "markdown",
   "metadata": {},
   "source": [
    "Computers store characters a numbers in their memory. A simple way this could be done is using 1-26 to represent each character with 1=a and 26=z. Long ago different computer manufacters used different numbering schemes for characters. Meaning, if I typed a word document then sent it to my Mac the mac would interpret the numbers differently and spit out gibberish."
   ]
  },
  {
   "cell_type": "markdown",
   "metadata": {},
   "source": [
    "To get around this ASCII (American Standard Code for Information Interchange) was created. It uses the numbers 0-127 to represent the characters typically found on an American keyboard. For example A-Z are represented by 65-90 and a-z are represented by 97-122. Now however, a new code is used called Unicode, unicode contains many exotic characters contained in other languages. It's nifty too as it essentiall packages ASCII in it so we can continue to use its number convetions."
   ]
  },
  {
   "cell_type": "code",
   "execution_count": 93,
   "metadata": {},
   "outputs": [
    {
     "name": "stdout",
     "output_type": "stream",
     "text": [
      "97\n",
      "65\n"
     ]
    }
   ],
   "source": [
    "# Python has some built in functions to show us how this works\n",
    "print(ord('a')) # ord gives us the corresponding number for the character provided\n",
    "# And we see that a is indeed 97 like we thought it would be from ASCII\n",
    "print(ord('A'))\n",
    "# and A is as it should be 65"
   ]
  },
  {
   "cell_type": "code",
   "execution_count": 96,
   "metadata": {},
   "outputs": [
    {
     "name": "stdout",
     "output_type": "stream",
     "text": [
      "a\n",
      "A\n"
     ]
    }
   ],
   "source": [
    "# The chr() function gives you the corresponding character for a number\n",
    "print(chr(97))\n",
    "print(chr(65))\n",
    "# and we see the inverse is true"
   ]
  },
  {
   "cell_type": "code",
   "execution_count": 103,
   "metadata": {},
   "outputs": [
    {
     "name": "stdout",
     "output_type": "stream",
     "text": [
      "π\n",
      "ᇔ\n",
      "ṡ\n",
      "€\n",
      "₭\n"
     ]
    }
   ],
   "source": [
    "# But since Python is truley using Unicode (ASCII is packaged within) we can see some fun characters\n",
    "print(chr(960))\n",
    "print(chr(4564))\n",
    "print(chr(7777))\n",
    "print(chr(8364))\n",
    "print(chr(8365))"
   ]
  },
  {
   "cell_type": "code",
   "execution_count": 11,
   "metadata": {},
   "outputs": [
    {
     "data": {
      "text/plain": [
       "[73, 32, 108, 105, 107, 101, 32, 83, 117, 122, 121]"
      ]
     },
     "execution_count": 11,
     "metadata": {},
     "output_type": "execute_result"
    }
   ],
   "source": [
    "# The book is going to provide an example program for converting a string into the number representation of Unicode\n",
    "# Here's my attempt before seeing it.\n",
    "\n",
    "def encrypt(note):\n",
    "    \n",
    "    message = []\n",
    "    \n",
    "    for ch in note:\n",
    "        message.append(ord(ch))\n",
    "        \n",
    "    return message\n",
    "    \n",
    "encrypt('I like Suzy')"
   ]
  },
  {
   "cell_type": "code",
   "execution_count": 113,
   "metadata": {},
   "outputs": [
    {
     "name": "stdout",
     "output_type": "stream",
     "text": [
      "73\n",
      "32\n",
      "108\n",
      "105\n"
     ]
    }
   ],
   "source": [
    "# Test to see if it worked\n",
    "print(ord('I'))\n",
    "print(ord(' '))\n",
    "print(ord('l'))\n",
    "print(ord('i'))"
   ]
  },
  {
   "cell_type": "markdown",
   "metadata": {},
   "source": [
    "#### Books Way"
   ]
  },
  {
   "cell_type": "code",
   "execution_count": 114,
   "metadata": {},
   "outputs": [
    {
     "name": "stdout",
     "output_type": "stream",
     "text": [
      "This program converts a textual message into a sequence\n",
      "of numbers representing the Unicode encoding of the message\n",
      "Please enter the message to encode: I like Suzy\n",
      "\n",
      "Here are the Unicode codes:\n",
      "73 32 108 105 107 101 32 83 117 122 121 \n"
     ]
    }
   ],
   "source": [
    "def main():\n",
    "    print(\"This program converts a textual message into a sequence\")\n",
    "    print(\"of numbers representing the Unicode encoding of the message\")\n",
    "    \n",
    "    # Get the message to encode\n",
    "    message = input(\"Please enter the message to encode: \")\n",
    "    \n",
    "    print(\"\\nHere are the Unicode codes:\")\n",
    "    \n",
    "    # Loop through the message and print out the Unicode values\n",
    "    for ch in message:\n",
    "        (print(ord(ch), end=\" \"))\n",
    "        \n",
    "    print() # Blank line before prompt\n",
    "    \n",
    "main()"
   ]
  },
  {
   "cell_type": "markdown",
   "metadata": {},
   "source": [
    "## 5.5 String Methods"
   ]
  },
  {
   "cell_type": "code",
   "execution_count": 16,
   "metadata": {},
   "outputs": [],
   "source": [
    "# The book is going to show how we could create a program to decode the encrypted message from the program prior\n",
    "# into a string that displays the text. Here's my try.\n",
    "\n",
    "def decrypt(message):\n",
    "    \n",
    "    print(\"This program will decrypt an encrypted message\")\n",
    "    list2 = []\n",
    "    for num in message:\n",
    "        list2.append(chr(num))\n",
    "        message_string = \"\".join(list2)\n",
    "        \n",
    "    return message_string\n",
    "    "
   ]
  },
  {
   "cell_type": "code",
   "execution_count": 19,
   "metadata": {},
   "outputs": [
    {
     "name": "stdout",
     "output_type": "stream",
     "text": [
      "This program will decrypt an encrypted message\n"
     ]
    },
    {
     "data": {
      "text/plain": [
       "'I like Suzy'"
      ]
     },
     "execution_count": 19,
     "metadata": {},
     "output_type": "execute_result"
    }
   ],
   "source": [
    "decrypt([73, 32, 108, 105, 107, 101, 32, 83, 117, 122, 121])"
   ]
  },
  {
   "cell_type": "code",
   "execution_count": 21,
   "metadata": {},
   "outputs": [
    {
     "name": "stdout",
     "output_type": "stream",
     "text": [
      "[73, 32, 108, 111, 118, 101, 32, 76, 117, 99, 121]\n",
      "This program will decrypt an encrypted message\n"
     ]
    },
    {
     "data": {
      "text/plain": [
       "'I love Lucy'"
      ]
     },
     "execution_count": 21,
     "metadata": {},
     "output_type": "execute_result"
    }
   ],
   "source": [
    "message = encrypt(\"I love Lucy\")\n",
    "print(message)\n",
    "decrypt(message)"
   ]
  },
  {
   "cell_type": "markdown",
   "metadata": {},
   "source": [
    "#### Book's Way"
   ]
  },
  {
   "cell_type": "code",
   "execution_count": 24,
   "metadata": {},
   "outputs": [
    {
     "name": "stdout",
     "output_type": "stream",
     "text": [
      "This program converts a sequence of Unicode numbers into\n",
      "the string of text that it represents \n",
      "\n",
      "Please enter the Unicode-encoded message: 73 32 108 111 118 101 32 76 117 99 121\n",
      "\n",
      " The decoded message is:  I love Lucy\n"
     ]
    }
   ],
   "source": [
    "def main():\n",
    "    print(\"This program converts a sequence of Unicode numbers into\")\n",
    "    print(\"the string of text that it represents \\n\")\n",
    "    \n",
    "    # Get the message to encode\n",
    "    inString = input(\"Please enter the Unicode-encoded message: \")\n",
    "    \n",
    "    # Loop through each substring and build Unicode message\n",
    "    message = \"\"\n",
    "    for numStr in inString.split():\n",
    "        codeNum = int(numStr) # convert digits to a number\n",
    "        message = message + chr(codeNum) # concatenate character to message\n",
    "        \n",
    "    print(\"\\n The decoded message is: \", message)\n",
    "    \n",
    "main()\n",
    "        "
   ]
  },
  {
   "cell_type": "markdown",
   "metadata": {},
   "source": [
    "#### Some other string methods"
   ]
  },
  {
   "cell_type": "code",
   "execution_count": 25,
   "metadata": {},
   "outputs": [],
   "source": [
    "s = 'hello, I am here for an argument'"
   ]
  },
  {
   "cell_type": "code",
   "execution_count": 26,
   "metadata": {},
   "outputs": [
    {
     "data": {
      "text/plain": [
       "'Hello, i am here for an argument'"
      ]
     },
     "execution_count": 26,
     "metadata": {},
     "output_type": "execute_result"
    }
   ],
   "source": [
    "s.capitalize() # Capitalizes the first word in a string"
   ]
  },
  {
   "cell_type": "code",
   "execution_count": 27,
   "metadata": {},
   "outputs": [
    {
     "data": {
      "text/plain": [
       "'Hello, I Am Here For An Argument'"
      ]
     },
     "execution_count": 27,
     "metadata": {},
     "output_type": "execute_result"
    }
   ],
   "source": [
    "s.title() # Capitalizes the first letter in every word"
   ]
  },
  {
   "cell_type": "code",
   "execution_count": 28,
   "metadata": {},
   "outputs": [
    {
     "data": {
      "text/plain": [
       "'hello, i am here for an argument'"
      ]
     },
     "execution_count": 28,
     "metadata": {},
     "output_type": "execute_result"
    }
   ],
   "source": [
    "s.lower() # makes lower case every letter in the string"
   ]
  },
  {
   "cell_type": "code",
   "execution_count": 30,
   "metadata": {},
   "outputs": [
    {
     "data": {
      "text/plain": [
       "'HELLO, I AM HERE FOR AN ARGUMENT'"
      ]
     },
     "execution_count": 30,
     "metadata": {},
     "output_type": "execute_result"
    }
   ],
   "source": [
    "s.upper() # Makes uppercase every letter in the string"
   ]
  },
  {
   "cell_type": "code",
   "execution_count": 32,
   "metadata": {},
   "outputs": [
    {
     "data": {
      "text/plain": [
       "'hello, you am here for an argument'"
      ]
     },
     "execution_count": 32,
     "metadata": {},
     "output_type": "execute_result"
    }
   ],
   "source": [
    "s.replace(\"I\", 'you') # Replaces a character for another"
   ]
  },
  {
   "cell_type": "code",
   "execution_count": 34,
   "metadata": {},
   "outputs": [
    {
     "data": {
      "text/plain": [
       "'hello, I am here for an argument'"
      ]
     },
     "execution_count": 34,
     "metadata": {},
     "output_type": "execute_result"
    }
   ],
   "source": [
    "s.center(30) # Changes the width of the string"
   ]
  },
  {
   "cell_type": "code",
   "execution_count": 37,
   "metadata": {},
   "outputs": [
    {
     "data": {
      "text/plain": [
       "'         hello, I am here for an argument         '"
      ]
     },
     "execution_count": 37,
     "metadata": {},
     "output_type": "execute_result"
    }
   ],
   "source": [
    "s.center(50) # More clear illustration"
   ]
  },
  {
   "cell_type": "code",
   "execution_count": 39,
   "metadata": {},
   "outputs": [
    {
     "data": {
      "text/plain": [
       "4"
      ]
     },
     "execution_count": 39,
     "metadata": {},
     "output_type": "execute_result"
    }
   ],
   "source": [
    "s.count('e') # Gives a count of a specified character"
   ]
  },
  {
   "cell_type": "code",
   "execution_count": 41,
   "metadata": {},
   "outputs": [
    {
     "data": {
      "text/plain": [
       "5"
      ]
     },
     "execution_count": 41,
     "metadata": {},
     "output_type": "execute_result"
    }
   ],
   "source": [
    "s.find(',') # Gives the first index of a character"
   ]
  },
  {
   "cell_type": "code",
   "execution_count": 43,
   "metadata": {},
   "outputs": [
    {
     "data": {
      "text/plain": [
       "1"
      ]
     },
     "execution_count": 43,
     "metadata": {},
     "output_type": "execute_result"
    }
   ],
   "source": [
    "s.find('e') # Further shows it will only return the first index it finds"
   ]
  },
  {
   "cell_type": "code",
   "execution_count": 52,
   "metadata": {},
   "outputs": [
    {
     "data": {
      "text/plain": [
       "'Number one, the Larch'"
      ]
     },
     "execution_count": 52,
     "metadata": {},
     "output_type": "execute_result"
    }
   ],
   "source": [
    "\" \".join([\"Number\", \"one,\", \"the\", \"Larch\"]) # Join which we already know how to use"
   ]
  },
  {
   "cell_type": "code",
   "execution_count": 54,
   "metadata": {},
   "outputs": [
    {
     "data": {
      "text/plain": [
       "'Numberspamone,spamthespamLarch'"
      ]
     },
     "execution_count": 54,
     "metadata": {},
     "output_type": "execute_result"
    }
   ],
   "source": [
    "\"spam\".join([\"Number\", \"one,\", \"the\", \"Larch\"]) # Another example"
   ]
  },
  {
   "cell_type": "markdown",
   "metadata": {},
   "source": [
    "## 5.6 Lists have methods, too"
   ]
  },
  {
   "cell_type": "code",
   "execution_count": 56,
   "metadata": {},
   "outputs": [
    {
     "name": "stdout",
     "output_type": "stream",
     "text": [
      "[1, 4, 9, 16, 25, 36, 49, 64, 81, 100]\n"
     ]
    }
   ],
   "source": [
    "# The book states it will go into list methods in more detail later and for now shows off the .append() method\n",
    "# Which we already know quite well but heres an example from the book.\n",
    "squares = []\n",
    "for x in range(1,11):\n",
    "    squares.append(x*x)\n",
    "print(squares)"
   ]
  },
  {
   "cell_type": "markdown",
   "metadata": {},
   "source": [
    "The book then shows how .append() could've been used in the decrypt function but I already beat it to the punch."
   ]
  },
  {
   "cell_type": "markdown",
   "metadata": {},
   "source": [
    "## 5.7 From Encoding to Encryption"
   ]
  },
  {
   "cell_type": "markdown",
   "metadata": {},
   "source": [
    "The way in which we encrypted our message wasn't very secret at all as we used an industry standard that isn't even used for hidding messages but is used to transfer and use them by computers. The process of encoding information for the purpose of keeping it secret or transmitting it privately is called encryption.<br><br>\n",
    "Our simple encoding/decoding programs used a weak form of enryption called substitution cipher. Each character of the original message, called plaintext, is replaced by a corresponding symbol (in our case a symbol) from a cipher alphabet. The resulting code is called ciphertext.<br><br>\n",
    "Even if our cipher wasn't based on the well known unicode it would still be easy to crack the original message. Modern approaches to encryption start by translating the characters into numbers then into other numbers with complex mathematics. Usually, the transformation is based on combining the message with some other special value called a key. In order to decrypt the message, the recieving party would need the appropriate key to decrypt the message.<br><br>\n",
    "There are two types of encyrption widley used: private and public keys.<br><br>\n",
    "Private Keys: (also called a shared key) the same key is used for encoding and decoding messages. All parties wishing to communicate must have the key, but it must be kept secret from the world.<br>\n",
    "Public Keys: There are separate but related keys for encrypting and decrypting messages. Often the encrypting key is made public while the decrypting key is kept private."
   ]
  },
  {
   "cell_type": "markdown",
   "metadata": {},
   "source": [
    "## 5.8 Input/Output as String Manipulation"
   ]
  },
  {
   "cell_type": "code",
   "execution_count": 134,
   "metadata": {},
   "outputs": [
    {
     "name": "stdout",
     "output_type": "stream",
     "text": [
      "Give a date in mm/dd/yyyy format: 07/19/200\n",
      "Give a date in mm/dd/yyyy format: 07/19/2000\n"
     ]
    },
    {
     "data": {
      "text/plain": [
       "'July, 19 2000'"
      ]
     },
     "execution_count": 134,
     "metadata": {},
     "output_type": "execute_result"
    }
   ],
   "source": [
    "# The book is going to offer an example of converting the string of a date like this: 05/24/2020 into\n",
    "# May,24 2020. I am going to give it a shot first.\n",
    "def main():\n",
    "    \n",
    "    # Month list that will be referenced\n",
    "    months = [0, \"January\", 'Februrary', 'March', 'April', \"May\", 'June', 'July', \"August\", 'September',\n",
    "              'October', 'November',\"December\"]\n",
    "    \n",
    "    # Gets the date from the user and makes it a string\n",
    "    date_string = str(input(\"Give a date in mm/dd/yyyy format: \"))\n",
    "    \n",
    "    # Splits the str by the \"/\" to make a list\n",
    "    list_date = date_string.split(\"/\")\n",
    "    \n",
    "    # Checks to make sure the month isn't less than 0 or greater than 12 and date isn't less than 1 or greater than 31\n",
    "    while int(list_date[0]) < 1 or int(list_date[0]) > 12 or int(list_date[1]) < 1 or int(list_date[1]) > 31 or int(list_date[2]) < 1900 or int(list_date[2]) > 2100:\n",
    "        date_string = str(input(\"Give a date in mm/dd/yyyy format: \"))\n",
    "        list_date = date_string.split(\"/\")\n",
    "        \n",
    "    # Grabs the month number from the list\n",
    "    month_string = list_date[0]\n",
    "    \n",
    "    # Converts the month number into the name of the month using our months list and adds a , and a space\n",
    "    month = months[int(month_string)] + \", \"\n",
    "    \n",
    "    # Adds a space after the day\n",
    "    list_date[1] += \" \"\n",
    "    \n",
    "    # makes the month the word for the month instead of the number\n",
    "    list_date[0] = month\n",
    "    \n",
    "    # creates the new string for the date\n",
    "    new_date = \"\".join(list_date)\n",
    "    \n",
    "    return new_date # returns the new string\n",
    "main()"
   ]
  },
  {
   "cell_type": "markdown",
   "metadata": {},
   "source": [
    "#### Books's Way"
   ]
  },
  {
   "cell_type": "code",
   "execution_count": 93,
   "metadata": {},
   "outputs": [
    {
     "name": "stdout",
     "output_type": "stream",
     "text": [
      "Enter a date in mm/dd/yyyy format: 12/200/202020\n",
      "The converted date is  December 200, 202020\n"
     ]
    }
   ],
   "source": [
    "def date_convert():\n",
    "    \n",
    "    # get the date\n",
    "    dateStr = input(\"Enter a date in mm/dd/yyyy format: \")\n",
    "    \n",
    "    # split into components\n",
    "    monthStr,dayStr,yearStr = dateStr.split(\"/\")\n",
    "    \n",
    "    # Month list that will be referenced\n",
    "    months = [0, \"January\", 'Februrary', 'March', 'April', \"May\", 'June', 'July', \"August\", 'September',\n",
    "          'October', 'November',\"December\"]\n",
    "    monthStr = months[int(monthStr)]\n",
    "    \n",
    "    # output result in month day, year format\n",
    "    print(\"The converted date is \", f\"{monthStr} {dayStr}, {yearStr}\")\n",
    "    \n",
    "date_convert()\n",
    "    "
   ]
  },
  {
   "cell_type": "markdown",
   "metadata": {},
   "source": [
    "### Python type conversion functions"
   ]
  },
  {
   "cell_type": "code",
   "execution_count": 96,
   "metadata": {},
   "outputs": [
    {
     "data": {
      "text/plain": [
       "1.0"
      ]
     },
     "execution_count": 96,
     "metadata": {},
     "output_type": "execute_result"
    }
   ],
   "source": [
    "float(\"1\") # Converts to a float"
   ]
  },
  {
   "cell_type": "code",
   "execution_count": 99,
   "metadata": {},
   "outputs": [
    {
     "data": {
      "text/plain": [
       "2"
      ]
     },
     "execution_count": 99,
     "metadata": {},
     "output_type": "execute_result"
    }
   ],
   "source": [
    "int(\"2\")# Converts to an int"
   ]
  },
  {
   "cell_type": "code",
   "execution_count": 101,
   "metadata": {},
   "outputs": [
    {
     "data": {
      "text/plain": [
       "'123'"
      ]
     },
     "execution_count": 101,
     "metadata": {},
     "output_type": "execute_result"
    }
   ],
   "source": [
    "str(123) # Converts into a string"
   ]
  },
  {
   "cell_type": "code",
   "execution_count": 103,
   "metadata": {},
   "outputs": [
    {
     "data": {
      "text/plain": [
       "3"
      ]
     },
     "execution_count": 103,
     "metadata": {},
     "output_type": "execute_result"
    }
   ],
   "source": [
    "eval(\"1+2\") # Treats a string like an expression and calculates it"
   ]
  },
  {
   "cell_type": "markdown",
   "metadata": {},
   "source": [
    "### 5.8.2 String Formatting"
   ]
  },
  {
   "cell_type": "code",
   "execution_count": 107,
   "metadata": {},
   "outputs": [
    {
     "name": "stdout",
     "output_type": "stream",
     "text": [
      "The total value of your change is $1.54\n"
     ]
    }
   ],
   "source": [
    "# The book introduces how to format strings. We are used to using f\"{} but we will learn about this other (worse) way IMO.\n",
    "total = 1.5442\n",
    "print(\"The total value of your change is ${0:0.2f}\".format(total))\n",
    "# The 0 i front of the colon specifies the index of the string that will be formatted, we only need 0 as there is only one string\n",
    "# \"Total\" being formatted. The second zero specifies how many spaces to use, zero usually being a good choice.\n",
    "# The .2 says how many decimal places to leave in the formatted string. We have it set to 2"
   ]
  },
  {
   "cell_type": "markdown",
   "metadata": {},
   "source": [
    "Format for string formatting\n",
    "[width].[percesion(spaces][type]"
   ]
  },
  {
   "cell_type": "code",
   "execution_count": 116,
   "metadata": {},
   "outputs": [
    {
     "data": {
      "text/plain": [
       "'Hello Mr Smith, you may have won $        1000.12'"
      ]
     },
     "execution_count": 116,
     "metadata": {},
     "output_type": "execute_result"
    }
   ],
   "source": [
    "# More clear example\n",
    "'Hello {0} {1}, you may have won ${2:15.2f}'.format('Mr', \"Smith\", 1000.1213343)\n",
    "                                   # 2 is the index\n",
    "                                   # :15 is the width, which is 15\n",
    "                                   # .2 is the amount of allowed decimal places, 2 in this case\n",
    "                                   # f tells it the format, which in this case is fixed-point number     "
   ]
  },
  {
   "cell_type": "code",
   "execution_count": 117,
   "metadata": {},
   "outputs": [
    {
     "data": {
      "text/plain": [
       "'This int,     7, was placed in a field of width 5'"
      ]
     },
     "execution_count": 117,
     "metadata": {},
     "output_type": "execute_result"
    }
   ],
   "source": [
    "# Another example\n",
    "\"This int, {0:5}, was placed in a field of width 5\".format(7)"
   ]
  },
  {
   "cell_type": "code",
   "execution_count": 118,
   "metadata": {},
   "outputs": [
    {
     "data": {
      "text/plain": [
       "'This int,          7, was placed in a field of width 10'"
      ]
     },
     "execution_count": 118,
     "metadata": {},
     "output_type": "execute_result"
    }
   ],
   "source": [
    "# Another example\n",
    "\"This int, {0:10}, was placed in a field of width 10\".format(7)"
   ]
  },
  {
   "cell_type": "code",
   "execution_count": 119,
   "metadata": {},
   "outputs": [
    {
     "data": {
      "text/plain": [
       "'This int,     3.1416, has width 10 and percision 5'"
      ]
     },
     "execution_count": 119,
     "metadata": {},
     "output_type": "execute_result"
    }
   ],
   "source": [
    "# Another example\n",
    "\"This int, {0:10.5}, has width 10 and percision 5\".format(3.1415926535)"
   ]
  },
  {
   "cell_type": "code",
   "execution_count": 121,
   "metadata": {},
   "outputs": [
    {
     "data": {
      "text/plain": [
       "'This int,    3.14159, has width 10 and percision 5'"
      ]
     },
     "execution_count": 121,
     "metadata": {},
     "output_type": "execute_result"
    }
   ],
   "source": [
    "# Another example\n",
    "\"This int, {0:10.5f}, has width 10 and percision 5\".format(3.1415926535)# It appears without the ending f python auto cuts off\n",
    "# at 4 decimal places"
   ]
  },
  {
   "cell_type": "code",
   "execution_count": 122,
   "metadata": {},
   "outputs": [
    {
     "data": {
      "text/plain": [
       "'This int, 3.1416, has width 0 and percision 5'"
      ]
     },
     "execution_count": 122,
     "metadata": {},
     "output_type": "execute_result"
    }
   ],
   "source": [
    "# Another example\n",
    "\"This int, {0:0.5}, has width 0 and percision 5\".format(3.1415926535)#"
   ]
  },
  {
   "cell_type": "code",
   "execution_count": 123,
   "metadata": {},
   "outputs": [
    {
     "data": {
      "text/plain": [
       "'Compare 3.14 and 3.1400000000000001243'"
      ]
     },
     "execution_count": 123,
     "metadata": {},
     "output_type": "execute_result"
    }
   ],
   "source": [
    "# Another example\n",
    "\"Compare {0} and {0:0.20}\".format(3.14) # We see the strange 1243 at the end b/c this is truly how floating points are\n",
    "# Stored in python"
   ]
  },
  {
   "cell_type": "code",
   "execution_count": 124,
   "metadata": {},
   "outputs": [
    {
     "data": {
      "text/plain": [
       "'left justification: Hi!  '"
      ]
     },
     "execution_count": 124,
     "metadata": {},
     "output_type": "execute_result"
    }
   ],
   "source": [
    "#Strings are left justified in python meaning when printed they are a bit to the left. We can alter this however\n",
    "\"left justification: {0:<5}\".format('Hi!')"
   ]
  },
  {
   "cell_type": "code",
   "execution_count": 125,
   "metadata": {},
   "outputs": [
    {
     "data": {
      "text/plain": [
       "'right justification:   Hi!'"
      ]
     },
     "execution_count": 125,
     "metadata": {},
     "output_type": "execute_result"
    }
   ],
   "source": [
    "\"right justification: {0:>5}\".format('Hi!')"
   ]
  },
  {
   "cell_type": "code",
   "execution_count": 126,
   "metadata": {},
   "outputs": [
    {
     "data": {
      "text/plain": [
       "'centered justification:  Hi! '"
      ]
     },
     "execution_count": 126,
     "metadata": {},
     "output_type": "execute_result"
    }
   ],
   "source": [
    "\"centered justification: {0:^5}\".format('Hi!')"
   ]
  },
  {
   "cell_type": "markdown",
   "metadata": {},
   "source": [
    "### 5.8.3 Better Change Counter"
   ]
  },
  {
   "cell_type": "code",
   "execution_count": 129,
   "metadata": {},
   "outputs": [
    {
     "data": {
      "text/plain": [
       "80"
      ]
     },
     "execution_count": 129,
     "metadata": {},
     "output_type": "execute_result"
    }
   ],
   "source": [
    "money = 980\n",
    "money // 100\n",
    "money % 100"
   ]
  },
  {
   "cell_type": "code",
   "execution_count": 132,
   "metadata": {},
   "outputs": [
    {
     "name": "stdout",
     "output_type": "stream",
     "text": [
      "Change Counter\n",
      "\n",
      "Please enter the count of each coin type: \n",
      "Quarters: 10\n",
      "Dimes: 22\n",
      "Nickels: 10\n",
      "Pennies: 200\n",
      "The total value of your change is $7.20\n"
     ]
    }
   ],
   "source": [
    "# We wouldn't want to use floats for a bank as the impercesion would eventually compound and cost them a great deal.\n",
    "\n",
    "# Below is an improved change function\n",
    "\n",
    "def change2():\n",
    "    print('Change Counter\\n')\n",
    "    print(\"Please enter the count of each coin type: \")\n",
    "    quarters = int(input('Quarters: '))\n",
    "    dimes = int(input(\"Dimes: \"))\n",
    "    nickels = int(input(\"Nickels: \"))\n",
    "    pennies = int(input(\"Pennies: \"))\n",
    "    \n",
    "    total = quarters * 25 + dimes * 10 + nickels * 5 + pennies\n",
    "    \n",
    "    print(\"The total value of your change is ${0}.{1:0>2}\".format(total // 100, total % 100))\n",
    "    \n",
    "change2()\n",
    "    "
   ]
  },
  {
   "cell_type": "markdown",
   "metadata": {},
   "source": [
    "## 5.9 File Processing"
   ]
  },
  {
   "cell_type": "markdown",
   "metadata": {},
   "source": [
    "We can think of files as long strings stored in our computers memory. Python uses \\n to represent a newline. <br>\n",
    "if we had a file with text like this: <br><br>\n",
    "Hello<br>\n",
    "World<br><br>\n",
    "Goodbye 32 <br>\n",
    "<br>\n",
    "\n",
    "The file stored in our computer would represent it like this Hello\\nWorld\\n\\nGoodbye 32\\n"
   ]
  },
  {
   "cell_type": "code",
   "execution_count": 142,
   "metadata": {},
   "outputs": [
    {
     "name": "stdout",
     "output_type": "stream",
     "text": [
      "Hello\n",
      "World\n",
      "\n",
      "Goodbye 32\n",
      "\n"
     ]
    }
   ],
   "source": [
    "# In fact, when we type this into a print statement we see that it interprets it.\n",
    "print(\"Hello\\nWorld\\n\\nGoodbye 32\\n\")"
   ]
  },
  {
   "cell_type": "markdown",
   "metadata": {},
   "source": [
    "Different programming lanuages manipulate files in different ways. They do however, share common abilities such as: <br><br>\n",
    "*Opening a file* this enables us to open the file and maipulate it. <br><br>\n",
    "*Reading the contents of a file*: The two basic operations we will need are reading and writing to the file. <br><br>\n",
    "*Closing the file*: Closing a file makes sure that the bookeeping that was neccessary for the correspondence b/w the file on disk and the file object are finished up. <br><br>\n",
    "When you are editing a file in python you are not truley editing it but instead an instance of the file stored as an object in python. The changes will not show up in the true file until they are saved to it from the file object in python."
   ]
  },
  {
   "cell_type": "code",
   "execution_count": null,
   "metadata": {},
   "outputs": [],
   "source": [
    "#Python way to make a file object \n",
    "[variable] = open([name], [mode])\n",
    "# Name is the string that that provides the name of the file on disk\n",
    "# Mode tells it if we are reading or writing to the file and is declared as 'r' or 'w'"
   ]
  },
  {
   "cell_type": "code",
   "execution_count": 143,
   "metadata": {},
   "outputs": [
    {
     "ename": "FileNotFoundError",
     "evalue": "[Errno 2] No such file or directory: 'number.dat'",
     "output_type": "error",
     "traceback": [
      "\u001b[1;31m---------------------------------------------------------------------------\u001b[0m",
      "\u001b[1;31mFileNotFoundError\u001b[0m                         Traceback (most recent call last)",
      "\u001b[1;32m<ipython-input-143-2c6153a00bbf>\u001b[0m in \u001b[0;36m<module>\u001b[1;34m\u001b[0m\n\u001b[0;32m      1\u001b[0m \u001b[1;31m# Example, to open a file called numbers.dat we would do this\u001b[0m\u001b[1;33m\u001b[0m\u001b[1;33m\u001b[0m\u001b[1;33m\u001b[0m\u001b[0m\n\u001b[1;32m----> 2\u001b[1;33m \u001b[0minfile\u001b[0m \u001b[1;33m=\u001b[0m \u001b[0mopen\u001b[0m\u001b[1;33m(\u001b[0m\u001b[1;34m\"number.dat\"\u001b[0m\u001b[1;33m,\u001b[0m \u001b[1;34m\"r\"\u001b[0m\u001b[1;33m)\u001b[0m\u001b[1;33m\u001b[0m\u001b[1;33m\u001b[0m\u001b[0m\n\u001b[0m",
      "\u001b[1;31mFileNotFoundError\u001b[0m: [Errno 2] No such file or directory: 'number.dat'"
     ]
    }
   ],
   "source": [
    "# Example, to open a file called numbers.dat we would do this\n",
    "infile = open(\"number.dat\", \"r\")"
   ]
  },
  {
   "cell_type": "markdown",
   "metadata": {},
   "source": [
    "Now we can use the infile file object to read the contents of numberd.dat"
   ]
  },
  {
   "cell_type": "code",
   "execution_count": null,
   "metadata": {},
   "outputs": [],
   "source": [
    "# Python has three related operations for reading info from a file\n",
    "[file].read() # Returns the entire remaining contents of the file as a single (potentially large, multi-line) string\n",
    "\n",
    "[file].readline() # Returns the next line of the file. That is, all text up to and including the next newline character\n",
    "\n",
    "[file].readlines() # Returns a list of the remaining lines in the file. Each list item is a single line\n",
    "#including the newline character at the end."
   ]
  },
  {
   "cell_type": "code",
   "execution_count": 151,
   "metadata": {},
   "outputs": [
    {
     "name": "stdout",
     "output_type": "stream",
     "text": [
      "Hello, this is a file for python\n",
      "And it has contents\n",
      "Of which should never be shared\n",
      "Understand?\n"
     ]
    }
   ],
   "source": [
    "# Example program\n",
    "def main():\n",
    "    # Prints a file to the screen\n",
    "    \n",
    "    infile = open(\"hello_world.txt\",\"r\")\n",
    "    data = infile.read()\n",
    "    print(data)\n",
    "    \n",
    "main()"
   ]
  },
  {
   "cell_type": "code",
   "execution_count": 155,
   "metadata": {},
   "outputs": [
    {
     "name": "stdout",
     "output_type": "stream",
     "text": [
      "Hello, this is a file for python\n",
      "\n",
      "And it has contents\n",
      "\n",
      "Of which should never be shared\n",
      "\n",
      "Understand?\n",
      "\n"
     ]
    }
   ],
   "source": [
    "# Another example\n",
    "def main():\n",
    "    infile = open('hello_world.txt', 'r')\n",
    "    for i in range(5):\n",
    "        line = infile.readline()\n",
    "        print(line[:])\n",
    "main()"
   ]
  },
  {
   "cell_type": "code",
   "execution_count": 157,
   "metadata": {},
   "outputs": [
    {
     "name": "stdout",
     "output_type": "stream",
     "text": [
      "Hello, this is a file for python\n",
      "And it has contents\n",
      "Of which should never be shared\n",
      "Understand\n",
      "\n"
     ]
    }
   ],
   "source": [
    "# Another example\n",
    "def main():\n",
    "    infile = open('hello_world.txt', 'r')\n",
    "    for i in range(5):\n",
    "        line = infile.readline()\n",
    "        print(line[:-1]) # Notice we are cutting of the newline at the end of each line so there aren't the spaces like below\n",
    "main()"
   ]
  },
  {
   "cell_type": "code",
   "execution_count": 161,
   "metadata": {},
   "outputs": [
    {
     "name": "stdout",
     "output_type": "stream",
     "text": [
      "['Hello, this is a file for python\\n', 'And it has contents\\n', 'Of which should never be shared\\n', 'Understand?']\n"
     ]
    }
   ],
   "source": [
    "# Another example\n",
    "def main():\n",
    "    infile = open('hello_world.txt', 'r')\n",
    "    file_list = infile.readlines()\n",
    "    print(file_list)\n",
    "main()"
   ]
  },
  {
   "cell_type": "code",
   "execution_count": 167,
   "metadata": {},
   "outputs": [
    {
     "name": "stdout",
     "output_type": "stream",
     "text": [
      "['Hello, this is a file for python', 'And it has contents', 'Of which should never be shared', 'Understand', '']\n",
      "Hello, this is a file for python\n",
      "And it has contents\n",
      "Of which should never be shared\n",
      "Understand\n",
      "\n"
     ]
    }
   ],
   "source": [
    "# Example that I made\n",
    "def main():\n",
    "    infile = open('hello_world.txt', 'r')\n",
    "    list_text = []\n",
    "    for i in range(5):\n",
    "        line = infile.readline()\n",
    "        list_text.append(line[:-1]) \n",
    "    print(list_text)\n",
    "    print(list_text[0])\n",
    "    print(list_text[1])\n",
    "    print(list_text[2])\n",
    "    print(list_text[3])\n",
    "    print(list_text[4])\n",
    "main()"
   ]
  },
  {
   "cell_type": "code",
   "execution_count": 169,
   "metadata": {},
   "outputs": [
    {
     "name": "stdout",
     "output_type": "stream",
     "text": [
      "Hello, this is a file for python\n",
      "\n",
      "And it has contents\n",
      "\n",
      "Of which should never be shared\n",
      "\n",
      "Understand?\n"
     ]
    }
   ],
   "source": [
    "# Looping through a file\n",
    "infile = open('hello_world.txt', \"r\")\n",
    "for line in infile:\n",
    "    print(line)"
   ]
  },
  {
   "cell_type": "code",
   "execution_count": 170,
   "metadata": {},
   "outputs": [],
   "source": [
    "infile.close()"
   ]
  },
  {
   "cell_type": "markdown",
   "metadata": {},
   "source": [
    "#### We can also write to files or simply make them"
   ]
  },
  {
   "cell_type": "code",
   "execution_count": 174,
   "metadata": {},
   "outputs": [],
   "source": [
    "outfile = open('myData.txt', \"w\") # telling python to write a new file and store in temporarily in the outfile variable"
   ]
  },
  {
   "cell_type": "code",
   "execution_count": 175,
   "metadata": {},
   "outputs": [],
   "source": [
    "print(\"Hi There, this too is a file\", file=outfile) # We can modify the print statement to write to this file like this"
   ]
  },
  {
   "cell_type": "code",
   "execution_count": 176,
   "metadata": {},
   "outputs": [],
   "source": [
    "outfile.close() # NOTE: we won't see the changes to the file untill we close our outfile variable."
   ]
  },
  {
   "cell_type": "markdown",
   "metadata": {},
   "source": [
    "### 5.9.3 Example Program: Batch Usernames"
   ]
  },
  {
   "cell_type": "markdown",
   "metadata": {},
   "source": [
    "We will redo our username generation program using files. Originally, we had the user input their name to get their username but this would take a long time if we had many users. Instead we will use batch processing i.e. the using of files to achieve the same result.<br><br>\n",
    "\n",
    "Our new program is designed to process a file of names."
   ]
  },
  {
   "cell_type": "code",
   "execution_count": 177,
   "metadata": {},
   "outputs": [
    {
     "name": "stdout",
     "output_type": "stream",
     "text": [
      "This program creates a file of usernames from a file of names.\n",
      "What file are the names in? names.txt\n",
      "What file should the usernames go in? usernames.txt\n",
      "Usernmaes have been written to usernames.txt\n"
     ]
    }
   ],
   "source": [
    "def main():\n",
    "    print(\"This program creates a file of usernames from a file of names.\")\n",
    "    \n",
    "    # get the file name\n",
    "    infileName = input(\"What file are the names in? \")\n",
    "    outfileName = input(\"What file should the usernames go in? \")\n",
    "    \n",
    "    # open the files\n",
    "    infile = open(infileName, \"r\")\n",
    "    outfile = open(outfileName, 'w')\n",
    "    \n",
    "    # process each line of the input file\n",
    "    for line in infile:\n",
    "        # get the first and last names from line\n",
    "        first, last = line.split()\n",
    "        # Create the username\n",
    "        username = (first[0]).upper() + (last[:7]).lower()\n",
    "        # write it to the output file\n",
    "        print(username, file=outfile)\n",
    "        \n",
    "    # close both files\n",
    "    infile.close()\n",
    "    outfile.close()\n",
    "    \n",
    "    print(\"Usernames have been written to\", outfileName)\n",
    "    \n",
    "main()"
   ]
  },
  {
   "cell_type": "markdown",
   "metadata": {},
   "source": [
    "### 5.9.4 File Dialogs (Optional)"
   ]
  },
  {
   "cell_type": "markdown",
   "metadata": {},
   "source": [
    "Often programs ask users to provide a file path to locate and use files. However, its not pratical to assume everyone knows the entire file path of any given file. Often, we use a GUI dialog box to let the user locate the file. Here's how we can do this in python."
   ]
  },
  {
   "cell_type": "code",
   "execution_count": 1,
   "metadata": {},
   "outputs": [],
   "source": [
    "from tkinter.filedialog import askopenfilename"
   ]
  },
  {
   "cell_type": "code",
   "execution_count": 179,
   "metadata": {},
   "outputs": [],
   "source": [
    "infilename = askopenfilename()"
   ]
  },
  {
   "cell_type": "markdown",
   "metadata": {},
   "source": [
    "# Discussion"
   ]
  },
  {
   "cell_type": "code",
   "execution_count": 6,
   "metadata": {},
   "outputs": [],
   "source": [
    "s1 = \"spam\"\n",
    "s2 = \"ni!\""
   ]
  },
  {
   "cell_type": "markdown",
   "metadata": {},
   "source": [
    "### 1 "
   ]
  },
  {
   "cell_type": "code",
   "execution_count": 8,
   "metadata": {},
   "outputs": [
    {
     "name": "stdout",
     "output_type": "stream",
     "text": [
      "The Knights who say, ni!\n",
      "spamspamspamni!ni!\n",
      "p\n",
      "pa\n",
      "ani\n",
      "spam!\n",
      "SPAM\n",
      "NI! NI! NI! \n"
     ]
    }
   ],
   "source": [
    "#a\n",
    "print(\"The Knights who say, \"+ s2)\n",
    "#b\n",
    "print(3*s1 + 2 * s2)\n",
    "#c\n",
    "print(s1[1])\n",
    "#d\n",
    "print(s1[1:3])\n",
    "#e\n",
    "print(s1[2] + s2[:2])\n",
    "#f\n",
    "print(s1 + s2[-1])\n",
    "#g\n",
    "print(s1.upper())\n",
    "#h\n",
    "print(s2.upper().ljust(4) * 3)"
   ]
  },
  {
   "cell_type": "markdown",
   "metadata": {},
   "source": [
    "### 2"
   ]
  },
  {
   "cell_type": "code",
   "execution_count": 19,
   "metadata": {},
   "outputs": [
    {
     "name": "stdout",
     "output_type": "stream",
     "text": [
      "NI\n",
      "ni!spamni!\n",
      "SpamNi!SpamNi!SpamNi!\n",
      "spam\n",
      "['sp', 'm']\n",
      "spm\n"
     ]
    }
   ],
   "source": [
    "#a\n",
    "print(s2[:2].upper())\n",
    "#b\n",
    "print(s2+s1+s2)\n",
    "#c\n",
    "print((s1.capitalize() + s2.capitalize()) *3)\n",
    "#d\n",
    "print(s1)\n",
    "#e\n",
    "print(s1.split(\"a\"))\n",
    "#f\n",
    "print(s1[0:2] + s1[-1])"
   ]
  },
  {
   "cell_type": "markdown",
   "metadata": {},
   "source": [
    "### 3"
   ]
  },
  {
   "cell_type": "code",
   "execution_count": 29,
   "metadata": {},
   "outputs": [
    {
     "name": "stdout",
     "output_type": "stream",
     "text": [
      "a\n",
      "a\n",
      "r\n",
      "d\n",
      "v\n",
      "a\n",
      "r\n",
      "k\n",
      "Now\n",
      "is\n",
      "the\n",
      "winter\n",
      "of\n",
      "our\n",
      "discontent\n",
      "M ss ss pp  \n",
      "scrt\n",
      "tfdsfu\n"
     ]
    }
   ],
   "source": [
    "#a\n",
    "for ch in 'aardvark':\n",
    "    print(ch)\n",
    "#b\n",
    "for w in \"Now is the winter of our discontent\".split():\n",
    "    print(w)\n",
    "#c\n",
    "for w in \"Mississippi\".split('i'):\n",
    "    print(w, end=\" \")\n",
    "#d\n",
    "msg = \"\"\n",
    "for s in \"secret\".split('e'):\n",
    "    msg = msg + s\n",
    "print('\\n'+ msg)\n",
    "\n",
    "#e\n",
    "msg = \"\"\n",
    "for ch in 'secret':\n",
    "    msg = msg + chr(ord(ch)+1)\n",
    "print(msg)"
   ]
  },
  {
   "cell_type": "markdown",
   "metadata": {},
   "source": [
    "### 4"
   ]
  },
  {
   "cell_type": "code",
   "execution_count": 40,
   "metadata": {},
   "outputs": [
    {
     "name": "stdout",
     "output_type": "stream",
     "text": [
      "Looks like spam and eggs for breakfast\n",
      "There is 1 spam 4 you\n",
      "Hello Susan\n",
      "2.30 2.30\n",
      "Time left 01:37.37\n"
     ]
    }
   ],
   "source": [
    "#a\n",
    "print(\"Looks like {1} and {0} for breakfast\".format(\"eggs\", \"spam\"))\n",
    "#b\n",
    "print(\"There is {0} {1} {2} {3}\".format(1,'spam', 4, 'you'))\n",
    "#c\n",
    "print('Hello {0}'.format('Susan', \"Computwell\"))\n",
    "# d\n",
    "print(\"{0:0.2f} {0:0.2f}\".format(2.3, 2.2468))\n",
    "#e\n",
    "##print(\"{7.5f} {7.5f}\".format(2.3,2.3468)) # Causes error no index specified\n",
    "#f\n",
    "print(\"Time left {0:02}:{1:05.2f}\".format(1, 37.374))\n",
    "#g\n",
    "##print(\"{1:3}\".format('14')) # Error, no index 1 is provided"
   ]
  },
  {
   "cell_type": "markdown",
   "metadata": {},
   "source": [
    "# Exercises"
   ]
  },
  {
   "cell_type": "markdown",
   "metadata": {},
   "source": [
    "## Exercise 1"
   ]
  },
  {
   "cell_type": "markdown",
   "metadata": {},
   "source": [
    "#### My Solution"
   ]
  },
  {
   "cell_type": "code",
   "execution_count": 42,
   "metadata": {},
   "outputs": [
    {
     "name": "stdout",
     "output_type": "stream",
     "text": [
      "Enter the day number: 1\n",
      "Enter the month number: 12\n",
      "Enter the year: 2020\n",
      "The date is 12/1/2020 or December 1, 2020\n"
     ]
    }
   ],
   "source": [
    "# dateconvert2.py\n",
    "#     Converts day month and year numbers into two date formats\n",
    "\n",
    "def main():\n",
    "    # get the day month and year as numbers\n",
    "    day = int(input(\"Enter the day number: \"))\n",
    "    month = int(input(\"Enter the month number: \"))\n",
    "    year = int(input(\"Enter the year: \"))\n",
    "\n",
    "    date1 = str(month)+\"/\"+str(day)+\"/\"+str(year)\n",
    "\n",
    "    months = [\"January\", \"February\", \"March\", \"April\", \n",
    "              \"May\", \"June\", \"July\", \"August\", \n",
    "              \"September\", \"October\", \"November\", \"December\"]\n",
    "    monthStr = months[month-1]\n",
    "    date2 = monthStr+\" \" + str(day) + \", \" + str(year)\n",
    "\n",
    "    print(\"The date is {0} or {1}\".format(date1,date2))\n",
    "    #print(\"The date is\", date1, \"or\", date2+\".\")\n",
    "\n",
    "main()"
   ]
  },
  {
   "cell_type": "markdown",
   "metadata": {},
   "source": [
    "#### Book Solution"
   ]
  },
  {
   "cell_type": "code",
   "execution_count": 43,
   "metadata": {},
   "outputs": [
    {
     "name": "stdout",
     "output_type": "stream",
     "text": [
      "Enter the day number: 1\n",
      "Enter the month number: 12\n",
      "Enter the year: 2020\n",
      "The date is 12/1/2020 or December 1, 2020.\n"
     ]
    }
   ],
   "source": [
    "#c05ex01.py\n",
    "#    dateconvert2 using string formatting \n",
    "\n",
    "\n",
    "def main():\n",
    "    # get the day month and year\n",
    "    day = int(input(\"Enter the day number: \"))\n",
    "    month = int(input(\"Enter the month number: \"))\n",
    "    year = int(input(\"Enter the year: \"))\n",
    "\n",
    "    date1 = \"{0}/{1}/{2}\".format(month,day,year)\n",
    "\n",
    "    months = [\"January\", \"February\", \"March\", \"April\", \"May\", \"June\",\n",
    "              \"July\", \"August\", \"September\", \"October\", \"November\", \"December\"]\n",
    "    date2 = \"{0} {1}, {2}\".format(months[month-1],day,year)\n",
    "\n",
    "    print(\"The date is {0} or {1}.\".format(date1, date2))\n",
    "\n",
    "main()"
   ]
  },
  {
   "cell_type": "markdown",
   "metadata": {},
   "source": [
    "## Exercise 2"
   ]
  },
  {
   "cell_type": "markdown",
   "metadata": {},
   "source": [
    "#### My Solution"
   ]
  },
  {
   "cell_type": "code",
   "execution_count": 50,
   "metadata": {},
   "outputs": [
    {
     "name": "stdout",
     "output_type": "stream",
     "text": [
      "Enter your quiz score to find out your grade: 0\n"
     ]
    },
    {
     "data": {
      "text/plain": [
       "'F'"
      ]
     },
     "execution_count": 50,
     "metadata": {},
     "output_type": "execute_result"
    }
   ],
   "source": [
    "def quiz_score():\n",
    "    score = int(input(\"Enter your quiz score to find out your grade: \"))\n",
    "    \n",
    "    while score < 0 or score > 5:\n",
    "        score = int(input(\"The score is only out of 5, please enter a number between 0-5: \"))\n",
    "    \n",
    "    if score == 5:\n",
    "        grade = 'A'\n",
    "    elif score == 4:\n",
    "        grade = \"B\"\n",
    "    elif score == 3:\n",
    "        grade = \"C\"\n",
    "    elif score == 2:\n",
    "        grade = \"D\"\n",
    "    elif score == 1 or score == 0:\n",
    "        grade = \"F\"\n",
    "        \n",
    "    return grade\n",
    "\n",
    "quiz_score()"
   ]
  },
  {
   "cell_type": "markdown",
   "metadata": {},
   "source": [
    "#### Book Solution"
   ]
  },
  {
   "cell_type": "code",
   "execution_count": 47,
   "metadata": {},
   "outputs": [
    {
     "name": "stdout",
     "output_type": "stream",
     "text": [
      "Five point quiz grader\n",
      "Enter the score: 3\n",
      "The grade is C\n"
     ]
    }
   ],
   "source": [
    "# c05ex02.py\n",
    "#    Quiz grader\n",
    "\n",
    "def main():\n",
    "    print(\"Five point quiz grader\")\n",
    "    score = int(input(\"Enter the score: \"))\n",
    "    grade = \"FFDCBA\"[score]\n",
    "    print(\"The grade is\", grade)\n",
    "\n",
    "main()"
   ]
  },
  {
   "cell_type": "markdown",
   "metadata": {},
   "source": [
    "## Exercise 3"
   ]
  },
  {
   "cell_type": "markdown",
   "metadata": {},
   "source": [
    "#### My Solution"
   ]
  },
  {
   "cell_type": "code",
   "execution_count": 54,
   "metadata": {},
   "outputs": [
    {
     "name": "stdout",
     "output_type": "stream",
     "text": [
      "Enter your quiz score to find out your grade: -09\n",
      "The score is only out of 100, please enter a number between 0-100: 67\n"
     ]
    },
    {
     "data": {
      "text/plain": [
       "'D'"
      ]
     },
     "execution_count": 54,
     "metadata": {},
     "output_type": "execute_result"
    }
   ],
   "source": [
    "def quiz_score2():\n",
    "    score = int(input(\"Enter your quiz score to find out your grade: \"))\n",
    "    \n",
    "    while score < 0 or score > 100:\n",
    "        score = int(input(\"The score is only out of 100, please enter a number between 0-100: \"))\n",
    "        \n",
    "    if score >= 90:\n",
    "        score = 4\n",
    "    elif score >= 80:\n",
    "        score = 3\n",
    "    elif score >= 70:\n",
    "        score = 2\n",
    "    elif score >=60:\n",
    "        score = 1\n",
    "    elif score < 60:\n",
    "        score = 0\n",
    "        \n",
    "    grade = \"FDCBA\"[score]\n",
    "    \n",
    "    return grade\n",
    "\n",
    "quiz_score2()\n",
    "    "
   ]
  },
  {
   "cell_type": "markdown",
   "metadata": {},
   "source": [
    "#### Book Solution"
   ]
  },
  {
   "cell_type": "code",
   "execution_count": 55,
   "metadata": {},
   "outputs": [
    {
     "name": "stdout",
     "output_type": "stream",
     "text": [
      "Exam Grader\n",
      "Enter the score (out of 100): 90\n",
      "The grade is A\n"
     ]
    }
   ],
   "source": [
    "# c05ex03.py\n",
    "#    Exam grader\n",
    "\n",
    "def main():\n",
    "    print(\"Exam Grader\")\n",
    "    score = int(input(\"Enter the score (out of 100): \"))\n",
    "    grades = 60*\"F\"+10*\"D\"+10*\"C\"+10*\"B\"+11*\"A\"\n",
    "    print(\"The grade is\", grades[score])\n",
    "\n",
    "main()"
   ]
  },
  {
   "cell_type": "markdown",
   "metadata": {},
   "source": [
    "## Exercise 4"
   ]
  },
  {
   "cell_type": "markdown",
   "metadata": {},
   "source": [
    "#### My Solution"
   ]
  },
  {
   "cell_type": "code",
   "execution_count": 71,
   "metadata": {},
   "outputs": [],
   "source": [
    "def acronym():\n",
    "    \n",
    "    infileName = 'phrase.txt'\n",
    "    outfileName = 'acronyms.txt'\n",
    "    \n",
    "    infile = open(infileName, \"r\")\n",
    "    outfile = open(outfileName, 'w')\n",
    "    acronym = \"\"\n",
    "    \n",
    "    for line in infile:\n",
    "        phrase = line.split() # Makes each sentence a list \n",
    "        for word in phrase: # Goes through each sentence and grabs the first letter in each word and capitalizes it\n",
    "            acronym_part = word[0].upper()\n",
    "            acronym = acronym + acronym_part # Adds each upper case letter to the acronym\n",
    "        print(acronym, file=outfile) # Writes the acronym to the file\n",
    "        acronym = \"\" # Resets acronym\n",
    "    \n",
    "    # Closes the files\n",
    "    infile.close()\n",
    "    outfile.close()\n",
    "\n",
    "acronym()"
   ]
  },
  {
   "cell_type": "markdown",
   "metadata": {},
   "source": [
    "#### Book Solution"
   ]
  },
  {
   "cell_type": "code",
   "execution_count": 72,
   "metadata": {},
   "outputs": [
    {
     "name": "stdout",
     "output_type": "stream",
     "text": [
      "This program builds acronyms\n",
      "Enter a phrase: Please Excuse My Dope As Swag\n",
      "The acronym is PEMDAS\n"
     ]
    }
   ],
   "source": [
    "# c05ex04.py\n",
    "#   Acronym builder\n",
    "\n",
    "\n",
    "def main():\n",
    "    print(\"This program builds acronyms\")\n",
    "    phrase = input(\"Enter a phrase: \")\n",
    "    acronym = \"\"\n",
    "    for word in phrase.split():\n",
    "        acronym = acronym+word[0]\n",
    "    acronym = acronym.upper()\n",
    "\n",
    "    print(\"The acronym is\", acronym)\n",
    "\n",
    "main()"
   ]
  },
  {
   "cell_type": "markdown",
   "metadata": {},
   "source": [
    "## Exercise 5"
   ]
  },
  {
   "cell_type": "markdown",
   "metadata": {},
   "source": [
    "#### My Solution"
   ]
  },
  {
   "cell_type": "code",
   "execution_count": 97,
   "metadata": {},
   "outputs": [
    {
     "name": "stdout",
     "output_type": "stream",
     "text": [
      "This program will find the numeric value of your name\n",
      "Please enter your name: Blessing\n"
     ]
    },
    {
     "data": {
      "text/plain": [
       "87"
      ]
     },
     "execution_count": 97,
     "metadata": {},
     "output_type": "execute_result"
    }
   ],
   "source": [
    "def numetology():\n",
    "    print('This program will find the numeric value of your name')\n",
    "    \n",
    "    # Get the users name\n",
    "    name = input(\"Please enter your name: \")\n",
    "    sum_num = 0\n",
    "    \n",
    "    for letter in name.lower():\n",
    "        value = ord(letter) -96\n",
    "        sum_num += value\n",
    "\n",
    "    return sum_num\n",
    "\n",
    "numetology()\n",
    "        "
   ]
  },
  {
   "cell_type": "markdown",
   "metadata": {},
   "source": [
    "#### Book Solution"
   ]
  },
  {
   "cell_type": "code",
   "execution_count": 94,
   "metadata": {},
   "outputs": [
    {
     "name": "stdout",
     "output_type": "stream",
     "text": [
      "This program computes the 'number value' of a name\n",
      "\n",
      "Enter a single name: ZELLE\n",
      "The value is: 60\n"
     ]
    }
   ],
   "source": [
    "# c05ex05.py\n",
    "#     Numerology of a single name\n",
    "\n",
    "\n",
    "def main():\n",
    "    print(\"This program computes the 'number value' of a name\")\n",
    "    print()\n",
    "\n",
    "    name = input(\"Enter a single name: \")\n",
    "    total = 0\n",
    "    for letter in name:\n",
    "        total = total + ord(letter.lower()) - ord('a') + 1\n",
    "\n",
    "    print(\"The value is:\", total)\n",
    "\n",
    "main()\n"
   ]
  },
  {
   "cell_type": "markdown",
   "metadata": {},
   "source": [
    "## Exercise 6"
   ]
  },
  {
   "cell_type": "markdown",
   "metadata": {},
   "source": [
    "#### My Solution"
   ]
  },
  {
   "cell_type": "code",
   "execution_count": 107,
   "metadata": {},
   "outputs": [
    {
     "name": "stdout",
     "output_type": "stream",
     "text": [
      "This program will find the numeric value of your name\n",
      "Please enter your name: PAUL Joseph BLEssing\n",
      "['PAUL', 'Joseph', 'BLEssing']\n"
     ]
    },
    {
     "data": {
      "text/plain": [
       "210"
      ]
     },
     "execution_count": 107,
     "metadata": {},
     "output_type": "execute_result"
    }
   ],
   "source": [
    "def numetology():\n",
    "    print('This program will find the numeric value of your name')\n",
    "    \n",
    "    # Get the users name\n",
    "    name = input(\"Please enter your name: \")\n",
    "    name_list = name.split()\n",
    "    sum_num = 0\n",
    "    print(name_list)\n",
    "    \n",
    "    for name in name_list:\n",
    "        for letter in name:\n",
    "            value = ord(letter.lower()) -96\n",
    "            sum_num += value\n",
    "        \n",
    "    \n",
    "\n",
    "\n",
    "    return sum_num\n",
    "\n",
    "numetology()\n",
    "        "
   ]
  },
  {
   "cell_type": "markdown",
   "metadata": {},
   "source": [
    "#### Book Solution"
   ]
  },
  {
   "cell_type": "code",
   "execution_count": 108,
   "metadata": {},
   "outputs": [
    {
     "name": "stdout",
     "output_type": "stream",
     "text": [
      "This program computes the 'number value' of a name\n",
      "\n",
      "Enter a name: Paul Joseph Blessing\n",
      "The value is: 210\n"
     ]
    }
   ],
   "source": [
    "# c05ex06.py\n",
    "#     Numerology of a full name\n",
    "\n",
    "\n",
    "def main():\n",
    "    print(\"This program computes the 'number value' of a name\")\n",
    "    print()\n",
    "\n",
    "    names = input(\"Enter a name: \")\n",
    "\n",
    "    # Create a string of all the letters -- avoids nested loop\n",
    "    letters = \"\".join(names.split())\n",
    "    total = 0\n",
    "    for letter in letters:\n",
    "        total = total + ord(letter.lower()) - ord('a') + 1\n",
    "\n",
    "    print(\"The value is:\", total)\n",
    "\n",
    "main()"
   ]
  },
  {
   "cell_type": "markdown",
   "metadata": {},
   "source": [
    "## Exercise 7"
   ]
  },
  {
   "cell_type": "markdown",
   "metadata": {},
   "source": [
    "#### My Solution"
   ]
  },
  {
   "cell_type": "code",
   "execution_count": 142,
   "metadata": {},
   "outputs": [
    {
     "name": "stdout",
     "output_type": "stream",
     "text": [
      "This program will use a Caesar cipher to encode your message\n",
      "Please enter a number that will be the key: -5\n",
      "Please enter the message to be encoded: mjqqt%|twqi\n"
     ]
    },
    {
     "data": {
      "text/plain": [
       "'hello world'"
      ]
     },
     "execution_count": 142,
     "metadata": {},
     "output_type": "execute_result"
    }
   ],
   "source": [
    "def caesar_cipher():\n",
    "    print(\"This program will use a Caesar cipher to encode your message\")\n",
    "    \n",
    "    key = int(input(\"Please enter a number that will be the key: \"))\n",
    "    message = input(\"Please enter the message to be encoded: \")\n",
    "    encoded_message = ''\n",
    "    \n",
    "    for word in message:\n",
    "        coded_letter = chr(ord(word) + key)\n",
    "        encoded_message += coded_letter        \n",
    "            \n",
    "    return encoded_message\n",
    "\n",
    "caesar_cipher()"
   ]
  },
  {
   "cell_type": "markdown",
   "metadata": {},
   "source": [
    "#### Book Solution"
   ]
  },
  {
   "cell_type": "code",
   "execution_count": 138,
   "metadata": {},
   "outputs": [
    {
     "name": "stdout",
     "output_type": "stream",
     "text": [
      "Caesar cipher\n",
      "\n",
      "Enter the key value: -2\n",
      "Enter the phrase to encode: rcwn\"Dnguukpi\n",
      "Encoded message follows:\n",
      "paul Blessing\n"
     ]
    }
   ],
   "source": [
    "# c05ex07.py\n",
    "#    Caesar cipher (non-circular)\n",
    "\n",
    "def main():\n",
    "    print(\"Caesar cipher\")\n",
    "    print()\n",
    "\n",
    "    key = int(input(\"Enter the key value: \"))\n",
    "    plain = input(\"Enter the phrase to encode: \")\n",
    "    cipher = \"\"\n",
    "    for letter in plain:\n",
    "        cipher = cipher + chr(ord(letter) + key)\n",
    "\n",
    "    print(\"Encoded message follows:\")\n",
    "    print(cipher)\n",
    "\n",
    "main()"
   ]
  },
  {
   "cell_type": "markdown",
   "metadata": {},
   "source": [
    "## Exercise 8"
   ]
  },
  {
   "cell_type": "markdown",
   "metadata": {},
   "source": [
    "#### Book Solution- I didn't understand this one."
   ]
  },
  {
   "cell_type": "code",
   "execution_count": 140,
   "metadata": {},
   "outputs": [
    {
     "name": "stdout",
     "output_type": "stream",
     "text": [
      "Caesar cipher\n",
      "\n",
      "Enter the key value: -2\n",
      "Enter the phrase to encode: rcwn\"Dnguukpi\n",
      "Encoded message follows:\n",
      "paulxBlessing\n"
     ]
    }
   ],
   "source": [
    "# c05ex08.py\n",
    "#    Caesar cipher (circular version)\n",
    "\n",
    "\n",
    "def main():\n",
    "    print(\"Caesar cipher\")\n",
    "    print()\n",
    "\n",
    "    key = int(input(\"Enter the key value: \"))\n",
    "    plain = input(\"Enter the phrase to encode: \")\n",
    "\n",
    "    chars = \"ABCDEFGHIJKLMNOPQRSTUVWXYZ abcdefghijklmnopqrstuvwxyz\"\n",
    "\n",
    "    cipher = \"\"\n",
    "    for letter in plain:\n",
    "        pos = chars.find(letter)\n",
    "        newpos = (pos + key) % len(chars)\n",
    "        cipher = cipher + chars[newpos]\n",
    "\n",
    "    print(\"Encoded message follows:\")\n",
    "    print(cipher)\n",
    "\n",
    "main()"
   ]
  },
  {
   "cell_type": "markdown",
   "metadata": {},
   "source": [
    "## Exercise 8"
   ]
  },
  {
   "cell_type": "markdown",
   "metadata": {},
   "source": [
    "My Solution"
   ]
  },
  {
   "cell_type": "code",
   "execution_count": 148,
   "metadata": {},
   "outputs": [
    {
     "name": "stdout",
     "output_type": "stream",
     "text": [
      "This program will count the number of words in a sentence\n",
      "Please enter a sentence: hi my name is paul\n"
     ]
    },
    {
     "data": {
      "text/plain": [
       "5"
      ]
     },
     "execution_count": 148,
     "metadata": {},
     "output_type": "execute_result"
    }
   ],
   "source": [
    "def word_counter():\n",
    "    print('This program will count the number of words in a sentence')\n",
    "    \n",
    "    user_words = input(\"Please enter a sentence: \").split()\n",
    "    \n",
    "    return len(user_words)\n",
    "\n",
    "word_counter()\n",
    "    \n",
    "    "
   ]
  },
  {
   "cell_type": "markdown",
   "metadata": {},
   "source": [
    "#### Book Solution"
   ]
  },
  {
   "cell_type": "code",
   "execution_count": 149,
   "metadata": {},
   "outputs": [
    {
     "name": "stdout",
     "output_type": "stream",
     "text": [
      "Word counter\n",
      "\n",
      "Enter a phrase: hi there\n",
      "Number of words: 2\n"
     ]
    }
   ],
   "source": [
    "# c05ex09.py\n",
    "#    Count words in sentence\n",
    "\n",
    "\n",
    "def main():\n",
    "    print(\"Word counter\")\n",
    "    print()\n",
    "\n",
    "    phrase = input(\"Enter a phrase: \")\n",
    "\n",
    "    # using accumulator loop\n",
    "    count = 0\n",
    "    for i in phrase.split():\n",
    "        count = count + 1\n",
    "\n",
    "    # alternatives: count = len(phrase.split())\n",
    "    #               count = phrase.count(\" \") + 1\n",
    "\n",
    "    print(\"Number of words:\", count)\n",
    "\n",
    "main()"
   ]
  },
  {
   "cell_type": "markdown",
   "metadata": {},
   "source": [
    "## Exercise 10"
   ]
  },
  {
   "cell_type": "markdown",
   "metadata": {},
   "source": [
    "#### My Solution"
   ]
  },
  {
   "cell_type": "code",
   "execution_count": 152,
   "metadata": {},
   "outputs": [
    {
     "name": "stdout",
     "output_type": "stream",
     "text": [
      "This program will give the avergae word length of a sentence\n",
      "Please enter a sentence: hi my name is paul\n"
     ]
    },
    {
     "data": {
      "text/plain": [
       "2.8"
      ]
     },
     "execution_count": 152,
     "metadata": {},
     "output_type": "execute_result"
    }
   ],
   "source": [
    "def word_counter():\n",
    "    print('This program will give the avergae word length of a sentence')\n",
    "    \n",
    "    user_words = input(\"Please enter a sentence: \").split()\n",
    "    length = 0\n",
    "    for word in user_words:\n",
    "        length += len(word)\n",
    "    \n",
    "    \n",
    "    return length / len(user_words)\n",
    "\n",
    "word_counter()\n",
    "    "
   ]
  },
  {
   "cell_type": "markdown",
   "metadata": {},
   "source": [
    "#### Book Solution"
   ]
  },
  {
   "cell_type": "code",
   "execution_count": 154,
   "metadata": {},
   "outputs": [
    {
     "name": "stdout",
     "output_type": "stream",
     "text": [
      "Average word length\n",
      "\n",
      "Enter a phrase: hi my name is paul\n",
      "Average word length 2.8\n"
     ]
    }
   ],
   "source": [
    "# c05ex10.py\n",
    "#   Average word length\n",
    "\n",
    "\n",
    "def main():\n",
    "    print(\"Average word length\")\n",
    "    print()\n",
    "\n",
    "    phrase = input(\"Enter a phrase: \")\n",
    "\n",
    "    # using accumulator loop\n",
    "    count = 0\n",
    "    total = 0\n",
    "    for word in phrase.split():\n",
    "        total = total + len(word)\n",
    "        count = count + 1\n",
    "\n",
    "    print(\"Average word length\", total / count)\n",
    "\n",
    "main()"
   ]
  },
  {
   "cell_type": "markdown",
   "metadata": {},
   "source": [
    "## Exercise 11"
   ]
  },
  {
   "cell_type": "markdown",
   "metadata": {},
   "source": [
    "#### My Solution"
   ]
  },
  {
   "cell_type": "code",
   "execution_count": 185,
   "metadata": {},
   "outputs": [
    {
     "name": "stdout",
     "output_type": "stream",
     "text": [
      "This program illustrates a chaotic function\n",
      "Enter a number between 0 and 1: .25\n",
      "Enter a number between 0 and 1: .26\n",
      "Index     0.25           0.26\n",
      "---------------------------------\n",
      "  1      0.731250      0.750360\n",
      "  2      0.766441      0.730547\n",
      "  3      0.698135      0.767707\n",
      "  4      0.821896      0.695499\n",
      "  5      0.570894      0.825942\n",
      "  6      0.955399      0.560671\n",
      "  7      0.166187      0.960644\n",
      "  8      0.540418      0.147447\n",
      "  9      0.968629      0.490255\n",
      " 10      0.118509      0.974630\n"
     ]
    }
   ],
   "source": [
    "# File: chaos.py\n",
    "# A simple program illustrating chaotic behavior.\n",
    "\n",
    "def main():\n",
    "    print(\"This program illustrates a chaotic function\")\n",
    "    x = eval(input(\"Enter a number between 0 and 1: \"))\n",
    "    x2 = eval(input(\"Enter a number between 0 and 1: \"))\n",
    "    \n",
    "    print(\"{0:5} {1:8.2f} {2:14.2f}\".format(\"Index\",x,x2))\n",
    "    print(\"---------------------------------\")\n",
    "    \n",
    "    for i in range(1,11):\n",
    "        x = 3.9 * x * (1 - x)\n",
    "        x2 = 3.9 * x2 * (1 - x2)\n",
    "        print(\"{0:3} {1:13.6f} {2:13.6f}\".format(i,x,x2))\n",
    "        \n",
    "\n",
    "main()"
   ]
  },
  {
   "cell_type": "markdown",
   "metadata": {},
   "source": [
    "#### Book Solution"
   ]
  },
  {
   "cell_type": "code",
   "execution_count": 175,
   "metadata": {},
   "outputs": [
    {
     "name": "stdout",
     "output_type": "stream",
     "text": [
      "This program illustrates a chaotic function\n",
      "Enter the first seed between 0 and 1: .25\n",
      "Enter the second seed between 0 and 1: .26\n",
      "\n",
      "index      0.25         0.26\n",
      "-------------------------------\n",
      " 1        0.731250   0.750360\n",
      " 2        0.766441   0.730547\n",
      " 3        0.698135   0.767707\n",
      " 4        0.821896   0.695499\n",
      " 5        0.570894   0.825942\n",
      " 6        0.955399   0.560671\n",
      " 7        0.166187   0.960644\n",
      " 8        0.540418   0.147447\n",
      " 9        0.968629   0.490255\n",
      "10        0.118509   0.974630\n"
     ]
    }
   ],
   "source": [
    "# c05ex11.py\n",
    "# Chaos program to print formatted side-by-side values\n",
    "\n",
    "def main():\n",
    "    print(\"This program illustrates a chaotic function\")\n",
    "    x1 = float(input(\"Enter the first seed between 0 and 1: \"))\n",
    "    x2 = float(input(\"Enter the second seed between 0 and 1: \"))\n",
    "    print()\n",
    "    print(\"index     \", x1, \"       \", x2)\n",
    "    print(\"-------------------------------\")\n",
    "    for i in range(1, 11):\n",
    "        x1 = 3.9 * x1 * (1 - x1)\n",
    "        x2 = 3.9 * x2 * (1 - x2)\n",
    "        print(\"{0:2} {1:15.6f} {2:10.6f}\".format(i, x1, x2))\n",
    "\n",
    "main()"
   ]
  },
  {
   "cell_type": "markdown",
   "metadata": {},
   "source": [
    "## Exercise 12"
   ]
  },
  {
   "cell_type": "markdown",
   "metadata": {},
   "source": [
    "#### My Solution"
   ]
  },
  {
   "cell_type": "code",
   "execution_count": 209,
   "metadata": {},
   "outputs": [
    {
     "name": "stdout",
     "output_type": "stream",
     "text": [
      "This program calculates the future value\n",
      "of a 10-year investment.\n",
      "Enter the initial principal: 1000\n",
      "Enter the annual interest rate: .05\n",
      "Year     Value\n",
      "-----------------\n",
      "  0   $1050.00\n",
      "  1   $1102.50\n",
      "  2   $1157.62\n",
      "  3   $1215.51\n",
      "  4   $1276.28\n",
      "  5   $1340.10\n",
      "  6   $1407.10\n",
      "  7   $1477.46\n",
      "  8   $1551.33\n",
      "  9   $1628.89\n"
     ]
    }
   ],
   "source": [
    "# futval.py\n",
    "#    A program to compute the value of an investment\n",
    "#    carried 10 years into the future\n",
    "\n",
    "def main():\n",
    "    print(\"This program calculates the future value\")\n",
    "    print(\"of a 10-year investment.\")\n",
    "\n",
    "    principal = eval(input(\"Enter the initial principal: \"))\n",
    "    apr = eval(input(\"Enter the annual interest rate: \"))\n",
    "    \n",
    "    print(\"{0:8} {1:5}\".format(\"Year\", \"Value\"))\n",
    "    print(\"-----------------\")\n",
    "\n",
    "    for i in range(10):\n",
    "        principal = principal * (1 + apr)\n",
    "        print(\"{0:3}   ${1:7.2f}\".format(i,principal))\n",
    "        #print(\"The value in 10 years is:\", principal)\n",
    "\n",
    "    \n",
    "\n",
    "main()"
   ]
  },
  {
   "cell_type": "markdown",
   "metadata": {},
   "source": [
    "#### Book Solution"
   ]
  },
  {
   "cell_type": "code",
   "execution_count": 208,
   "metadata": {},
   "outputs": [
    {
     "name": "stdout",
     "output_type": "stream",
     "text": [
      "This program calculates the future value of an investment.\n",
      "\n",
      "Enter the initial principal: 1000\n",
      "Enter the annualized interest rate: .05\n",
      "Enter the number of years: 10\n",
      "Year   Value\n",
      "--------------\n",
      "  0   $1000.00\n",
      "  1   $1050.00\n",
      "  2   $1102.50\n",
      "  3   $1157.62\n",
      "  4   $1215.51\n",
      "  5   $1276.28\n",
      "  6   $1340.10\n",
      "  7   $1407.10\n",
      "  8   $1477.46\n",
      "  9   $1551.33\n",
      " 10   $1628.89\n"
     ]
    }
   ],
   "source": [
    "# c05ex12.py\n",
    "#    Future value with formatted table.\n",
    "\n",
    "def main():\n",
    "    print(\"This program calculates the future value of an investment.\")\n",
    "    print()\n",
    "    \n",
    "    principal = float(input(\"Enter the initial principal: \"))\n",
    "    apr = float(input(\"Enter the annualized interest rate: \"))\n",
    "    years = int(input(\"Enter the number of years: \"))\n",
    "\n",
    "    print(\"Year   Value\")\n",
    "    print(\"--------------\")\n",
    "    for i in range(years+1):\n",
    "        print(\"{0:3}   ${1:7.2f}\".format(i, principal))\n",
    "        principal = principal * (1 + apr)\n",
    "\n",
    "main()"
   ]
  },
  {
   "cell_type": "markdown",
   "metadata": {},
   "source": [
    "## Exercise 13"
   ]
  },
  {
   "cell_type": "markdown",
   "metadata": {},
   "source": [
    "#### My Solution"
   ]
  },
  {
   "cell_type": "code",
   "execution_count": 244,
   "metadata": {},
   "outputs": [
    {
     "name": "stdout",
     "output_type": "stream",
     "text": [
      "The number of letters is 35 the line count is: 11, and the word count is 6\n"
     ]
    }
   ],
   "source": [
    "def counting():\n",
    "    \n",
    "    infileName = 'acronyms.txt'\n",
    "    \n",
    "    infile = open(infileName, 'r')\n",
    "    line_list = []\n",
    "    letter_count = \"\"\n",
    "    line_count = 0\n",
    "    word_counter = 0\n",
    "    \n",
    "    for line in infile:\n",
    "        line_list = line.split()\n",
    "        for word in line_list:\n",
    "            word_counter += 1\n",
    "        for ch in line:\n",
    "            letter_count += ch\n",
    "        line_count += 1\n",
    "\n",
    "        \n",
    "    \n",
    "    print(f\"The number of letters is {len(letter_count)} \",end=\"\")\n",
    "    print(f\"the line count is: {line_count}, and the word count is {word_counter}\")\n",
    "    \n",
    "    infile.close()\n",
    "    \n",
    "counting()"
   ]
  },
  {
   "cell_type": "markdown",
   "metadata": {},
   "source": [
    "#### Books Solution"
   ]
  },
  {
   "cell_type": "code",
   "execution_count": 240,
   "metadata": {},
   "outputs": [
    {
     "name": "stdout",
     "output_type": "stream",
     "text": [
      "File wordcount\n",
      "\n",
      "Enter filename: acronyms.txt\n",
      "Characters: 35\n",
      "Words: 6\n",
      "Lines: 11\n"
     ]
    }
   ],
   "source": [
    "# c05ex14.py\n",
    "#     Program to count lines, words and characters in a file.\n",
    "\n",
    "\n",
    "def main():\n",
    "    print(\"File wordcount\")\n",
    "    print()\n",
    "\n",
    "    fname = input(\"Enter filename: \")\n",
    "    infile = open(fname, 'r')\n",
    "    chars = infile.read()\n",
    "    infile.close()\n",
    "    \n",
    "    words = chars.split()\n",
    "    lines = chars.split(\"\\n\")\n",
    "\n",
    "    print(\"Characters:\", len(chars))\n",
    "    print(\"Words:\", len(words))\n",
    "    print(\"Lines:\", len(lines))\n",
    "\n",
    "main()"
   ]
  },
  {
   "cell_type": "markdown",
   "metadata": {},
   "source": [
    "## Exercise 15"
   ]
  },
  {
   "cell_type": "markdown",
   "metadata": {},
   "source": [
    "#### My Solution"
   ]
  },
  {
   "cell_type": "code",
   "execution_count": 1,
   "metadata": {},
   "outputs": [],
   "source": [
    "from graphics import *\n",
    "\n",
    "def student_scores():\n",
    "    \n",
    "    # Get file and make variable for it\n",
    "    infileName = 'exercise15.txt'\n",
    "    infile = open(infileName, 'r')\n",
    "    \n",
    "    # Get the number of students in the file\n",
    "    file_list = infile.readlines()\n",
    "    num_students = file_list[0]\n",
    "    \n",
    "    # Cut the \\n character off and make the num_students an integer\n",
    "    num_students = num_students[:-1]\n",
    "    num_students = int(num_students)\n",
    "    \n",
    "    # Create the window\n",
    "    win = GraphWin(\"Test Scores\",500,400)\n",
    "    win.setCoords(0,0,20,20)\n",
    "    count = 0\n",
    "    score_label = Text(Point(2.5, .5), \"Scores\")\n",
    "    score_label.setStyle('bold')\n",
    "    score_label.draw(win)\n",
    "    \n",
    "    # Creates the X axis labels\n",
    "    for i in range(0,11):\n",
    "        \n",
    "        x_label = Text(Point(5+1.36*i,.5), count)\n",
    "        x_label.draw(win)\n",
    "        count += 10\n",
    "        \n",
    "    # Get the name and score for each student\n",
    "    for i in range(1,num_students+1):\n",
    "        full_student = file_list[0+i][0:]\n",
    "        name,score = full_student.split()\n",
    "        score = int(score)\n",
    "        # Create Labels\n",
    "        label = Text(Point(2.5,21-1.75*i), name)\n",
    "        label.setStyle('bold')\n",
    "        label.draw(win)\n",
    "        \n",
    "        # Create rectangle scores\n",
    "        score_rec = Rectangle(Point(5,21.5-1.75*i), Point(5+((score/10) *1.36), 20.5 -1.75*i))\n",
    "        if score >= 90:\n",
    "            score_rec.setFill('Green')\n",
    "        elif score >= 80:\n",
    "            score_rec.setFill('Blue')\n",
    "        elif score >= 70:\n",
    "            score_rec.setFill('Yellow')\n",
    "        elif score >= 60:\n",
    "            score_rec.setFill('Orange')\n",
    "        else:\n",
    "            score_rec.setFill('Red')\n",
    "        score_rec.draw(win)\n",
    "        \n",
    "\n",
    "\n",
    "    infile.close\n",
    "    win.getMouse()\n",
    "    win.close()\n",
    "    \n",
    "student_scores()"
   ]
  },
  {
   "cell_type": "markdown",
   "metadata": {},
   "source": [
    "#### Books Solution"
   ]
  },
  {
   "cell_type": "code",
   "execution_count": 81,
   "metadata": {},
   "outputs": [],
   "source": [
    "# Didn't provide one!\n",
    "# Below is the same except with the special variable\n",
    "\n",
    "from graphics import *\n",
    "\n",
    "def student_scores():\n",
    "    \n",
    "    # Get file and make variable for it\n",
    "    infileName = 'exercise15_2.txt'\n",
    "    infile = open(infileName, 'r')\n",
    "    \n",
    "    # Get the number of students in the file\n",
    "    file_list = infile.readlines()\n",
    "    num_students = file_list[0]\n",
    "    \n",
    "    # Cut the \\n character off and make the num_students an integer\n",
    "    num_students = num_students[:-1]\n",
    "    num_students = int(num_students)\n",
    "    special = num_students - (num_students * .825)\n",
    "    \n",
    "    # Create the window\n",
    "    win = GraphWin(\"Test Scores\",500,400)\n",
    "    win.setCoords(0,0,20,20)\n",
    "    count = 0\n",
    "    score_label = Text(Point(2.5, .5), \"Scores\")\n",
    "    score_label.setStyle('bold')\n",
    "    score_label.draw(win)\n",
    "    \n",
    "    # Creates the X axis labels\n",
    "    for i in range(0,11):\n",
    "        \n",
    "        x_label = Text(Point(5+1.36*i,.5), count)\n",
    "        x_label.draw(win)\n",
    "        count += 10\n",
    "        \n",
    "    # Get the name and score for each student\n",
    "    for i in range(1,num_students+1):\n",
    "        full_student = file_list[0+i][0:]\n",
    "        name,score = full_student.split()\n",
    "        score = int(score)\n",
    "        # Create Labels\n",
    "        label = Text(Point(2.5,21-1.75*i), name)\n",
    "        label.setStyle('bold')\n",
    "        label.draw(win)\n",
    "        \n",
    "        # Create rectangle scores\n",
    "        score_rec = Rectangle(Point(5,21.5-special*i), Point(5+((score/10) *1.36), 20.5 - special*i))\n",
    "        if score >= 90:\n",
    "            score_rec.setFill('Green')\n",
    "        elif score >= 80:\n",
    "            score_rec.setFill('Blue')\n",
    "        elif score >= 70:\n",
    "            score_rec.setFill('Yellow')\n",
    "        elif score >= 60:\n",
    "            score_rec.setFill('Orange')\n",
    "        else:\n",
    "            score_rec.setFill('Red')\n",
    "        score_rec.draw(win)\n",
    "        \n",
    "\n",
    "\n",
    "    infile.close\n",
    "    win.getMouse()\n",
    "    win.close()\n",
    "    \n",
    "student_scores()"
   ]
  },
  {
   "cell_type": "markdown",
   "metadata": {},
   "source": [
    "## Exercise 16"
   ]
  },
  {
   "cell_type": "markdown",
   "metadata": {},
   "source": [
    "#### My solution"
   ]
  },
  {
   "cell_type": "code",
   "execution_count": 55,
   "metadata": {},
   "outputs": [
    {
     "name": "stdout",
     "output_type": "stream",
     "text": [
      "[1, 4, 4, 3, 0, 12, 3, 2, 3, 2, 2]\n"
     ]
    }
   ],
   "source": [
    "def score_counter():\n",
    "    \n",
    "    # Get file and make variable for it\n",
    "    infileName = 'exercise16.txt'\n",
    "    infile = open(infileName, 'r')\n",
    "    list_numbers = []\n",
    "    list_numbers2 = []\n",
    "    numbers = [0,1,2,3,4,5,6,7,8,9,10]\n",
    "    set_numbers = set(numbers)\n",
    "    count_numbers = []\n",
    "    \n",
    "    # Draw our window\n",
    "    win = GraphWin(\"Test Scores\",500,400)\n",
    "    win.setCoords(0,0,20,20)\n",
    "    \n",
    "    # Makes a list out of the numbers in the file, they still have newline characters however\n",
    "    for num in infile:\n",
    "        list_numbers.append(num)\n",
    "        \n",
    "    # Do this to get rid of the last newline character at the end of the list\n",
    "    list_numbers.pop()\n",
    "    \n",
    "    # For loop to get rid of the newline characters and then convert the numbers into ints not strings\n",
    "    for value in list_numbers:\n",
    "        number = value[0:-1]\n",
    "        number = int(number)\n",
    "        list_numbers2.append(number)\n",
    "        \n",
    "    # counts the amount of times the number appears in the file by iterating over number_list2\n",
    "    for num in set_numbers:\n",
    "        count = list_numbers2.count(num)\n",
    "        count_numbers.append(count)\n",
    "        \n",
    "    # Make the x-axis labels\n",
    "    for i in range(0,11):\n",
    "        x_label = Text(Point(.5+1.77*i,.5), i)\n",
    "        x_label.draw(win)\n",
    "        \n",
    "    \n",
    "    # Make the histogram bars\n",
    "    for i in range(11):\n",
    "        if count_numbers[i] == 0:\n",
    "            score_rec = Rectangle(Point(.5+1.77*i,1.72), Point(.5+1.77*i, 1.72))\n",
    "        else:\n",
    "            score_rec = Rectangle(Point(.5+1.77*i,1.72), Point((.5+1.77*i) +.3, 1.72*count_numbers[i]))\n",
    "            score_rec.setFill('gold')\n",
    "            score_rec.draw(win)\n",
    "\n",
    "    infile.close\n",
    "    win.getMouse()\n",
    "    win.close()\n",
    "\n",
    "    print(count_numbers)\n",
    "        \n",
    "score_counter()"
   ]
  },
  {
   "cell_type": "markdown",
   "metadata": {},
   "source": [
    "#### Book Solution"
   ]
  },
  {
   "cell_type": "markdown",
   "metadata": {},
   "source": [
    "Didn't Provide One!"
   ]
  }
 ],
 "metadata": {
  "kernelspec": {
   "display_name": "Python 3",
   "language": "python",
   "name": "python3"
  },
  "language_info": {
   "codemirror_mode": {
    "name": "ipython",
    "version": 3
   },
   "file_extension": ".py",
   "mimetype": "text/x-python",
   "name": "python",
   "nbconvert_exporter": "python",
   "pygments_lexer": "ipython3",
   "version": "3.7.3"
  }
 },
 "nbformat": 4,
 "nbformat_minor": 2
}
