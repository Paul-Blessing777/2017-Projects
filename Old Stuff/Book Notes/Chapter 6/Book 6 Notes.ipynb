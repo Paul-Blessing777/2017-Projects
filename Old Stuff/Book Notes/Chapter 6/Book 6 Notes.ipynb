{
 "cells": [
  {
   "cell_type": "markdown",
   "metadata": {},
   "source": [
    "# Chapter 6"
   ]
  },
  {
   "cell_type": "markdown",
   "metadata": {},
   "source": [
    "## 6.1 The Function of Functions"
   ]
  },
  {
   "cell_type": "markdown",
   "metadata": {},
   "source": [
    "Functions can help us reduce code complexity and duplication. "
   ]
  },
  {
   "cell_type": "markdown",
   "metadata": {},
   "source": [
    "## 6.2: Functions, Informally"
   ]
  },
  {
   "cell_type": "code",
   "execution_count": 2,
   "metadata": {},
   "outputs": [],
   "source": [
    "# Functions are created with function definitions which we've done below:\n",
    "def main():\n",
    "    pass"
   ]
  },
  {
   "cell_type": "code",
   "execution_count": 3,
   "metadata": {},
   "outputs": [],
   "source": [
    "# Whenever we use the function that's called \"invoking\" or \"calling\" a function\n",
    "main()"
   ]
  },
  {
   "cell_type": "code",
   "execution_count": 5,
   "metadata": {},
   "outputs": [],
   "source": [
    "# The book is about to show how we might write a function to print the following:\n",
    "# Happy birthday to you!\n",
    "# Happy birthday to you!\n",
    "# Happy birthday dear [insert-name]!\n",
    "# Happy birthday to you!\n",
    "\n",
    "# I'm fairly certain its about to show how we might use parameters so below is my solution\n",
    "def happy_bday(name):\n",
    "    \n",
    "    print(\"Happy birthday to you!\")\n",
    "    print(\"Happy birthday to you!\")\n",
    "    print(f\"Happy birthday dear {name}!\")\n",
    "    print(\"Happy birthday to you!\")"
   ]
  },
  {
   "cell_type": "code",
   "execution_count": 6,
   "metadata": {},
   "outputs": [
    {
     "name": "stdout",
     "output_type": "stream",
     "text": [
      "Happy birthday to you!\n",
      "Happy birthday to you!\n",
      "Happy birthday dear Julia!\n",
      "Happy birthday to you!\n"
     ]
    }
   ],
   "source": [
    "happy_bday('Julia')"
   ]
  },
  {
   "cell_type": "code",
   "execution_count": 11,
   "metadata": {},
   "outputs": [
    {
     "name": "stdout",
     "output_type": "stream",
     "text": [
      "Happy birthday to you!\n",
      "Happy birthday to you!\n",
      "Happy birthday dear Billy!\n",
      "Happy birthday to you!\n"
     ]
    }
   ],
   "source": [
    "# The book goes on to show how making a function for saying those happy birthdays would be way more effiecient than\n",
    "# Writing out those print statements every time\n",
    "def happy_billy():\n",
    "\n",
    "    print(\"Happy birthday to you!\")\n",
    "    print(\"Happy birthday to you!\")\n",
    "    print(f\"Happy birthday dear Billy!\")\n",
    "    print(\"Happy birthday to you!\")\n",
    "happy_billy()"
   ]
  },
  {
   "cell_type": "code",
   "execution_count": 10,
   "metadata": {},
   "outputs": [
    {
     "name": "stdout",
     "output_type": "stream",
     "text": [
      "Happy birthday to you!\n",
      "Happy birthday to you!\n",
      "Happy birthday dear Lucy!\n",
      "Happy birthday to you!\n"
     ]
    }
   ],
   "source": [
    "# Now we have a function to say happy birthday to Billy, but now we want to say happy birthday to Lucy\n",
    "# Writing out those print statements every time\n",
    "def happy_lucy():\n",
    "\n",
    "    print(\"Happy birthday to you!\")\n",
    "    print(\"Happy birthday to you!\")\n",
    "    print(f\"Happy birthday dear Lucy!\")\n",
    "    print(\"Happy birthday to you!\")\n",
    "happy_lucy()"
   ]
  },
  {
   "cell_type": "code",
   "execution_count": 14,
   "metadata": {},
   "outputs": [
    {
     "name": "stdout",
     "output_type": "stream",
     "text": [
      "Happy birthday to you!\n",
      "Happy birthday to you!\n",
      "Happy birthday dear Lucy!\n",
      "Happy birthday to you!\n",
      "\n",
      "Happy birthday to you!\n",
      "Happy birthday to you!\n",
      "Happy birthday dear Billy!\n",
      "Happy birthday to you!\n"
     ]
    }
   ],
   "source": [
    "happy_lucy()\n",
    "print()\n",
    "happy_billy()"
   ]
  },
  {
   "cell_type": "markdown",
   "metadata": {},
   "source": [
    "This works but with this method we have to write new functions for each new name."
   ]
  },
  {
   "cell_type": "code",
   "execution_count": 16,
   "metadata": {},
   "outputs": [],
   "source": [
    "# The book shows how we can use parameters to get around this problem.\n",
    "def sing(person):\n",
    "    print(\"Happy birthday to you!\")\n",
    "    print(\"Happy birthday to you!\")\n",
    "    print(\"Happy birthday dear, \", person + \".\")\n",
    "    print(\"Happy birthday to you!\")\n"
   ]
  },
  {
   "cell_type": "code",
   "execution_count": 18,
   "metadata": {},
   "outputs": [
    {
     "name": "stdout",
     "output_type": "stream",
     "text": [
      "Happy birthday to you!\n",
      "Happy birthday to you!\n",
      "Happy birthday dear,  Billy.\n",
      "Happy birthday to you!\n",
      "\n",
      "Happy birthday to you!\n",
      "Happy birthday to you!\n",
      "Happy birthday dear,  Lucy.\n",
      "Happy birthday to you!\n",
      "\n",
      "Happy birthday to you!\n",
      "Happy birthday to you!\n",
      "Happy birthday dear,  Karl.\n",
      "Happy birthday to you!\n"
     ]
    }
   ],
   "source": [
    "sing('Billy')\n",
    "print()\n",
    "sing('Lucy')\n",
    "print()\n",
    "sing('Karl')"
   ]
  },
  {
   "cell_type": "markdown",
   "metadata": {},
   "source": [
    "With the parameter we were able to use anyname with the same function"
   ]
  },
  {
   "cell_type": "markdown",
   "metadata": {},
   "source": [
    "## 6.3 Future Value with a Function"
   ]
  },
  {
   "cell_type": "code",
   "execution_count": 19,
   "metadata": {},
   "outputs": [
    {
     "name": "stdout",
     "output_type": "stream",
     "text": [
      "This program plots the growth of a 10-year investment.\n",
      "Enter the initial principal: 1000\n",
      "Enter the annualized interest rate: .06\n",
      "Press <Enter> to quit.\n"
     ]
    }
   ],
   "source": [
    "# Here is our old future value program\n",
    "from graphics import *\n",
    "\n",
    "def main():\n",
    "    # Introduction\n",
    "    print(\"This program plots the growth of a 10-year investment.\")\n",
    "\n",
    "    # Get principal and interest rate\n",
    "    principal = float(input(\"Enter the initial principal: \"))\n",
    "    apr = float(input(\"Enter the annualized interest rate: \"))\n",
    "\n",
    "    # Create a graphics window with labels on left edge\n",
    "    win = GraphWin(\"Investment Growth Chart\", 320, 240)\n",
    "    win.setBackground(\"white\")\n",
    "    win.setCoords(-1.75,-200, 11.5, 10400)\n",
    "    Text(Point(-1, 0), ' 0.0K').draw(win)\n",
    "    Text(Point(-1, 2500), ' 2.5K').draw(win)\n",
    "    Text(Point(-1, 5000), ' 5.0K').draw(win)\n",
    "    Text(Point(-1, 7500), ' 7.5k').draw(win)\n",
    "    Text(Point(-1, 10000), '10.0K').draw(win)\n",
    "\n",
    "    # Draw bar for initial principal\n",
    "    bar = Rectangle(Point(0, 0), Point(1, principal))\n",
    "    bar.setFill(\"green\")\n",
    "    bar.setWidth(2)\n",
    "    bar.draw(win)\n",
    "    \n",
    "    # Draw a bar for each subsequent year\n",
    "    for year in range(1, 11):\n",
    "        principal = principal * (1 + apr)\n",
    "        bar = Rectangle(Point(year, 0), Point(year+1, principal))\n",
    "        bar.setFill(\"green\")\n",
    "        bar.setWidth(2)\n",
    "        bar.draw(win)\n",
    "\n",
    "    input(\"Press <Enter> to quit.\")\n",
    "    win.close()\n",
    "\n",
    "main()"
   ]
  },
  {
   "cell_type": "markdown",
   "metadata": {},
   "source": [
    "Notice that we are building the bars in two separate places. We could condense this into a single function and just call it at different points."
   ]
  },
  {
   "cell_type": "code",
   "execution_count": 20,
   "metadata": {},
   "outputs": [
    {
     "name": "stdout",
     "output_type": "stream",
     "text": [
      "This program plots the growth of a 10-year investment.\n",
      "Enter the initial principal: 1000\n",
      "Enter the annualized interest rate: .2\n",
      "Press <Enter> to quit.\n"
     ]
    }
   ],
   "source": [
    "# futval_graph3.py\n",
    "from graphics import *\n",
    "\n",
    "def drawBar(window, year, height):\n",
    "    # Draw a bar in window starting at year with given height\n",
    "    bar = Rectangle(Point(year, 0), Point(year+1, height))\n",
    "    bar.setFill(\"green\")\n",
    "    bar.setWidth(2)\n",
    "    bar.draw(window)\n",
    "    \n",
    "def main():\n",
    "    # Introduction\n",
    "    print(\"This program plots the growth of a 10-year investment.\")\n",
    "\n",
    "    # Get principal and interest rate\n",
    "    principal = float(input(\"Enter the initial principal: \"))\n",
    "    apr = float(input(\"Enter the annualized interest rate: \"))\n",
    "\n",
    "    # Create a graphics window with labels on left edge\n",
    "    win = GraphWin(\"Investment Growth Chart\", 320, 240)\n",
    "    win.setBackground(\"white\")\n",
    "    win.setCoords(-1.75,-200, 11.5, 10400)\n",
    "    Text(Point(-1, 0), ' 0.0K').draw(win)\n",
    "    Text(Point(-1, 2500), ' 2.5K').draw(win)\n",
    "    Text(Point(-1, 5000), ' 5.0K').draw(win)\n",
    "    Text(Point(-1, 7500), ' 7.5k').draw(win)\n",
    "    Text(Point(-1, 10000), '10.0K').draw(win)\n",
    "\n",
    "    drawBar(win, 0, principal) # The first call makes the initial bar\n",
    "    for year in range(1, 11):\n",
    "        principal = principal * (1 + apr)\n",
    "        drawBar(win, year, principal) # This call within the loop will create the subsequent bars.\n",
    "\n",
    "    input(\"Press <Enter> to quit.\")\n",
    "    win.close()\n",
    "main()"
   ]
  },
  {
   "cell_type": "markdown",
   "metadata": {},
   "source": [
    "## 6.4: Functions and Parameters: The Exciting Details"
   ]
  },
  {
   "cell_type": "code",
   "execution_count": 21,
   "metadata": {},
   "outputs": [
    {
     "ename": "IndentationError",
     "evalue": "unexpected indent (<ipython-input-21-a254a09376c1>, line 15)",
     "output_type": "error",
     "traceback": [
      "\u001b[1;36m  File \u001b[1;32m\"<ipython-input-21-a254a09376c1>\"\u001b[1;36m, line \u001b[1;32m15\u001b[0m\n\u001b[1;33m    bar = Rectangle(Point(2, 0), Point(2+1, 1000))\u001b[0m\n\u001b[1;37m    ^\u001b[0m\n\u001b[1;31mIndentationError\u001b[0m\u001b[1;31m:\u001b[0m unexpected indent\n"
     ]
    }
   ],
   "source": [
    "# When we created our draw bar function, we passed variables into it.\n",
    "# The parameters below are called formal parameters, they will be assigned to variables we pass in called arguements\n",
    "def drawBar(window, year, height): # Formal parameters, they mean nothing right now and must be assinged.\n",
    "    \n",
    "    # Draw a bar in window starting at year with given height\n",
    "    bar = Rectangle(Point(year, 0), Point(year+1, height))\n",
    "    bar.setFill(\"green\")\n",
    "    bar.setWidth(2)\n",
    "    bar.draw(window)\n",
    "    \n",
    "drawBar(win, 2, 1000) # When we call this function win, year, and principal are what we call arguements.\n",
    "# They are assigned to our formal parameters\n",
    "\n",
    "# This is what our function would actually execute (we wouldn;t actually see it like this)\n",
    "    bar = Rectangle(Point(2, 0), Point(2+1, 1000))\n",
    "    bar.setFill(\"green\")\n",
    "    bar.setWidth(2)\n",
    "    bar.draw(win)"
   ]
  },
  {
   "cell_type": "markdown",
   "metadata": {},
   "source": [
    "When Python comes to a function call, it initiates a four-step process:<br><br>\n",
    "1. The calling program suspends execution at the point of the call.<br>\n",
    "2. The formal parameters of the function get assigned the values supplied by the actual arguements in the call.<br>\n",
    "3. The body of the function is executed.<br>\n",
    "4. Control returns to the point just after where the function was called."
   ]
  },
  {
   "cell_type": "code",
   "execution_count": null,
   "metadata": {},
   "outputs": [],
   "source": [
    "# The formal parameters are usually assigned by position. For Example:\n",
    "def drawBar(window, year, height): # The formal parameters\n",
    "drawBar(win,10,500) # Calling the function with the actual arguments\n",
    "\n",
    "# They line up by position so:\n",
    "window = win\n",
    "year = 10\n",
    "height = 500\n"
   ]
  },
  {
   "cell_type": "code",
   "execution_count": 22,
   "metadata": {},
   "outputs": [],
   "source": [
    "# We don't have to rely on position though, as we can explicitly assign the formal parameters.\n",
    "# Here's an example:\n",
    "def greeting(name,complement):\n",
    "    \n",
    "    print(f\"Hello {name} you look {complement} today!\")"
   ]
  },
  {
   "cell_type": "code",
   "execution_count": 24,
   "metadata": {},
   "outputs": [
    {
     "name": "stdout",
     "output_type": "stream",
     "text": [
      "Hello Paul you look Handsome today!\n"
     ]
    }
   ],
   "source": [
    "greeting('Paul', \"Handsome\") # Name = Paul, complement = handsome. These were assigned by position"
   ]
  },
  {
   "cell_type": "code",
   "execution_count": 26,
   "metadata": {},
   "outputs": [
    {
     "name": "stdout",
     "output_type": "stream",
     "text": [
      "Hello Handsome you look Paul today!\n"
     ]
    }
   ],
   "source": [
    "greeting('Handsome', 'Paul') # If we change the order the position still lines up but is obvisouly not what we want"
   ]
  },
  {
   "cell_type": "code",
   "execution_count": 29,
   "metadata": {},
   "outputs": [
    {
     "name": "stdout",
     "output_type": "stream",
     "text": [
      "Hello Paul you look Handsome today!\n"
     ]
    }
   ],
   "source": [
    "greeting(complement = \"Handsome\", name = 'Paul') # Here we got arounf the position problem by explicitly assigning the \n",
    "# formal parameters"
   ]
  },
  {
   "cell_type": "markdown",
   "metadata": {},
   "source": [
    "## 6.5: Functions that Return Values"
   ]
  },
  {
   "cell_type": "markdown",
   "metadata": {},
   "source": [
    "We can think of python functions much like math functions.<br>\n",
    "A common math function would be something like f(x) = x^2 <br><br>\n",
    "The function being whatever the is assigned to the variable x is squared."
   ]
  },
  {
   "cell_type": "code",
   "execution_count": 32,
   "metadata": {},
   "outputs": [],
   "source": [
    "# Lets make this function in Python, so that it RETURNS a value back to us\n",
    "\n",
    "def square(x):\n",
    "    return x**2"
   ]
  },
  {
   "cell_type": "code",
   "execution_count": 33,
   "metadata": {},
   "outputs": [
    {
     "data": {
      "text/plain": [
       "4"
      ]
     },
     "execution_count": 33,
     "metadata": {},
     "output_type": "execute_result"
    }
   ],
   "source": [
    "square(2)"
   ]
  },
  {
   "cell_type": "code",
   "execution_count": 34,
   "metadata": {},
   "outputs": [
    {
     "name": "stdout",
     "output_type": "stream",
     "text": [
      "16\n"
     ]
    }
   ],
   "source": [
    "print(square(4))"
   ]
  },
  {
   "cell_type": "code",
   "execution_count": 35,
   "metadata": {},
   "outputs": [],
   "source": [
    "x = 5\n",
    "y = square(x)"
   ]
  },
  {
   "cell_type": "code",
   "execution_count": 36,
   "metadata": {},
   "outputs": [
    {
     "name": "stdout",
     "output_type": "stream",
     "text": [
      "25\n"
     ]
    }
   ],
   "source": [
    "print(y)"
   ]
  },
  {
   "cell_type": "code",
   "execution_count": 37,
   "metadata": {},
   "outputs": [
    {
     "name": "stdout",
     "output_type": "stream",
     "text": [
      "34\n"
     ]
    }
   ],
   "source": [
    "print(square(x) + square(3))"
   ]
  },
  {
   "cell_type": "code",
   "execution_count": 42,
   "metadata": {},
   "outputs": [],
   "source": [
    "# Lets use our square function to write another one for the distance between two points:\n",
    "import math\n",
    "def distance(p1,p2):\n",
    "    dist = math.sqrt(square(p2.getX() - p1.getX()) + square(p2.getY() - p1.getY()))\n",
    "    return dist"
   ]
  },
  {
   "cell_type": "code",
   "execution_count": 45,
   "metadata": {},
   "outputs": [
    {
     "data": {
      "text/plain": [
       "5.830951894845301"
      ]
     },
     "execution_count": 45,
     "metadata": {},
     "output_type": "execute_result"
    }
   ],
   "source": [
    "distance(Point(5,5), Point(10,8))"
   ]
  },
  {
   "cell_type": "code",
   "execution_count": 48,
   "metadata": {},
   "outputs": [],
   "source": [
    "# Let's reuse this new function to improve out triangle making function\n",
    "# Program: triangle2.py\n",
    "import math\n",
    "from graphics import *\n",
    "\n",
    "def square(x):\n",
    "    return x * x\n",
    "\n",
    "def distance(p1, p2):\n",
    "    dist = math.sqrt(square(p2.getX() - p1.getX())\n",
    "                     + square(p2.getY() - p1.getY()))\n",
    "    return dist\n",
    "\n",
    "def main():\n",
    "    win = GraphWin(\"Draw a Triangle\")\n",
    "    win.setCoords(0.0, 0.0, 10.0, 10.0)\n",
    "    message = Text(Point(5, 0.5), \"Click on three points\")\n",
    "    message.draw(win)\n",
    "\n",
    "    # Get and draw three vertices of triangle\n",
    "    p1 = win.getMouse()\n",
    "    p1.draw(win)\n",
    "    p2 = win.getMouse()\n",
    "    p2.draw(win)\n",
    "    p3 = win.getMouse()\n",
    "    p3.draw(win)\n",
    "\n",
    "    # Use Polygon object to draw the triangle\n",
    "    triangle = Polygon(p1,p2,p3)\n",
    "    triangle.setFill(\"peachpuff\")\n",
    "    triangle.setOutline(\"cyan\")\n",
    "    triangle.draw(win)\n",
    "\n",
    "    # Calculate the perimeter of the triangle\n",
    "    perim = distance(p1,p2) + distance(p2,p3) + distance(p3,p1) # using the new function to find the perimeter\n",
    "    message.setText(\"The perimeter is: {0:0.2f}\".format(perim))\n",
    "\n",
    "    # Wait for another click to exit\n",
    "    win.getMouse()\n",
    "    win.close()\n",
    "\n",
    "main()"
   ]
  },
  {
   "cell_type": "code",
   "execution_count": 52,
   "metadata": {},
   "outputs": [
    {
     "name": "stdout",
     "output_type": "stream",
     "text": [
      "Happy Birthday to you!\n",
      "Happy Birthday to you!\n",
      "Happy Birthday, dear Billy\n",
      "Happy Birthday to you!\n",
      "\n",
      "Happy Birthday to you!\n",
      "Happy Birthday to you!\n",
      "Happy Birthday, dear Lucy\n",
      "Happy Birthday to you!\n",
      "\n",
      "Happy Birthday to you!\n",
      "Happy Birthday to you!\n",
      "Happy Birthday, dear Karl\n",
      "Happy Birthday to you!\n",
      "\n"
     ]
    }
   ],
   "source": [
    "# We can use returning to improve how we said happy birthday before\n",
    "def happy():\n",
    "    return \"Happy Birthday to you!\\n\"\n",
    "\n",
    "def verseFor(person):\n",
    "    lyrics = happy()*2 + f\"Happy Birthday, dear {person}\\n\" + happy()\n",
    "    return lyrics\n",
    "\n",
    "def main():\n",
    "    for person in [\"Billy\", 'Lucy', \"Karl\"]:\n",
    "        print(verseFor(person))\n",
    "main()"
   ]
  },
  {
   "cell_type": "markdown",
   "metadata": {},
   "source": [
    "We can do far more with functions like this and they are more flexible, for example we can have our program write the birthday songs to a file like so:"
   ]
  },
  {
   "cell_type": "code",
   "execution_count": 53,
   "metadata": {},
   "outputs": [],
   "source": [
    "def main():\n",
    "    out_file = open(\"Happy Birthday File.txt\", 'w')\n",
    "    for person in [\"Billy\", 'Lucy', \"Karl\"]:\n",
    "        print(verseFor(person), file=out_file)\n",
    "main()"
   ]
  },
  {
   "cell_type": "code",
   "execution_count": 54,
   "metadata": {},
   "outputs": [
    {
     "data": {
      "text/plain": [
       "(13, 7)"
      ]
     },
     "execution_count": 54,
     "metadata": {},
     "output_type": "execute_result"
    }
   ],
   "source": [
    "# We can have functions return more than one value like below:\n",
    "def sumDiff(x,y):\n",
    "    sum = x+y\n",
    "    diff = x-y\n",
    "    return sum, diff\n",
    "\n",
    "sumDiff(10,3)"
   ]
  },
  {
   "cell_type": "code",
   "execution_count": 57,
   "metadata": {},
   "outputs": [
    {
     "name": "stdout",
     "output_type": "stream",
     "text": [
      "Please enter two numbers (num1,num2): 10,3\n",
      "The sum is 13.0 and the difference is 7.0\n"
     ]
    }
   ],
   "source": [
    "# Heres a more advanced example:\n",
    "num1,num2 = input(\"Please enter two numbers (num1,num2): \").split(\",\")\n",
    "s,d = sumDiff(float(num1), float(num2))\n",
    "print(f\"The sum is {s} and the difference is {d}\")"
   ]
  },
  {
   "cell_type": "markdown",
   "metadata": {},
   "source": [
    "## 6.6: Functions that Modify Parameters"
   ]
  },
  {
   "cell_type": "code",
   "execution_count": 62,
   "metadata": {},
   "outputs": [
    {
     "name": "stdout",
     "output_type": "stream",
     "text": [
      "1000\n"
     ]
    }
   ],
   "source": [
    "# The book provides us with an example to consider\n",
    "# First lets write the functions it provides\n",
    "def addInterest(balance,rate):\n",
    "    newBalance = balance + balance * rate\n",
    "    balance = newBalance\n",
    "    \n",
    "def test():\n",
    "    amount = 1000\n",
    "    rate = 0.05\n",
    "    addInterest(amount,rate)\n",
    "    print(amount)\n",
    "test()\n",
    "# We however want it to be 1,050. This doesn't work because the program doesn't properly pass variables.\n",
    "# THe book explains it in detail, but first I'm going to try and rewrite this myself."
   ]
  },
  {
   "cell_type": "code",
   "execution_count": 65,
   "metadata": {},
   "outputs": [
    {
     "name": "stdout",
     "output_type": "stream",
     "text": [
      "1050.0\n"
     ]
    }
   ],
   "source": [
    "def addInterest2(balance,rate):\n",
    "    newBalance = balance + balance * rate\n",
    "    balance = newBalance\n",
    "    return balance\n",
    "\n",
    "def test2(amount,rate):\n",
    "    print(addInterest2(amount,rate))\n",
    "    \n",
    "test2(1000,.05)"
   ]
  },
  {
   "cell_type": "markdown",
   "metadata": {},
   "source": [
    "And my program is almost exactly what the book came up with"
   ]
  },
  {
   "cell_type": "code",
   "execution_count": 71,
   "metadata": {},
   "outputs": [
    {
     "name": "stdout",
     "output_type": "stream",
     "text": [
      "[0.0, 21.0, 1050.0, 52500000.0, 595.35]\n"
     ]
    }
   ],
   "source": [
    "# Now what if we wanted to use the addInterest function on many bank accounts at once stored in a list?\n",
    "# THe book is going to explain but I'm gonna try first.\n",
    "balances = [0,20,1000,50000000,567]\n",
    "count = 0\n",
    "\n",
    "for bal in balances:\n",
    "    balances[0+count] = addInterest2(bal,.05)\n",
    "    count+=1\n",
    "print(balances)"
   ]
  },
  {
   "cell_type": "code",
   "execution_count": 74,
   "metadata": {},
   "outputs": [
    {
     "name": "stdout",
     "output_type": "stream",
     "text": [
      "[0.0, 21.0, 1050.0, 52500000.0, 595.35]\n"
     ]
    }
   ],
   "source": [
    "# My other way\n",
    "balances = [0,20,1000,50000000,567]\n",
    "\n",
    "for bal in range(len(balances)):\n",
    "    balances[bal] = addInterest2(balances[bal],.05)\n",
    "print(balances)"
   ]
  },
  {
   "cell_type": "markdown",
   "metadata": {},
   "source": [
    "Now let's look at how the book does it"
   ]
  },
  {
   "cell_type": "code",
   "execution_count": 76,
   "metadata": {},
   "outputs": [
    {
     "name": "stdout",
     "output_type": "stream",
     "text": [
      "[1050.0, 2100.0, 840.0, 378.0]\n"
     ]
    }
   ],
   "source": [
    "def addInterest(balances,rate):\n",
    "    for i in range(len(balances)):\n",
    "        balances[i] = balances[i] * (1+rate)\n",
    "        \n",
    "def test():\n",
    "    amounts = [1000,2000,800,360]\n",
    "    rate = .05\n",
    "    addInterest(amounts,rate)\n",
    "    print(amounts)\n",
    "test()"
   ]
  },
  {
   "cell_type": "markdown",
   "metadata": {},
   "source": [
    "This works as the amounts list is passed into the addInterest function and iterated over as the formal parameter balances."
   ]
  },
  {
   "cell_type": "markdown",
   "metadata": {},
   "source": [
    "## 6.7: Functions and Program Structure"
   ]
  },
  {
   "cell_type": "markdown",
   "metadata": {},
   "source": [
    "Functions help our programs in that they make them more modular. If a program is hundreds of lines long it would be incredibly difficult to follow what exactly is is doing. So we use functions to modularize our programs so we just need to understand what each function is doing on its own."
   ]
  },
  {
   "cell_type": "code",
   "execution_count": 77,
   "metadata": {},
   "outputs": [
    {
     "name": "stdout",
     "output_type": "stream",
     "text": [
      "This program plots the growth of a 10 year investment.\n",
      "Enter the initial principal: 1000\n",
      "Enter the annualized interest rate: .2\n",
      "Press <Enter> to quit.\n"
     ]
    }
   ],
   "source": [
    "# For example we could make parts of our future value function simpler by making more sub functions within it.\n",
    "# futval_graph4.py\n",
    "\n",
    "from graphics import *\n",
    "\n",
    "def createLabeledWindow(): # Here we made this a function that we will call within the program later.\n",
    "    window = GraphWin(\"Investment Growth Chart\", 320, 240)\n",
    "    window.setBackground(\"white\")\n",
    "    window.setCoords(-1.75,-200, 11.5, 10400)\n",
    "    Text(Point(-1, 0), ' 0.0K').draw(window)\n",
    "    Text(Point(-1, 2500), ' 2.5K').draw(window)\n",
    "    Text(Point(-1, 5000), ' 5.0K').draw(window)\n",
    "    Text(Point(-1, 7500), ' 7.5k').draw(window)\n",
    "    Text(Point(-1, 10000), '10.0K').draw(window)\n",
    "    return window\n",
    "\n",
    "def drawBar(window, year, height):\n",
    "    bar = Rectangle(Point(year, 0), Point(year+1, height))\n",
    "    bar.setFill(\"green\")\n",
    "    bar.setWidth(2)\n",
    "    bar.draw(window)\n",
    "    \n",
    "def main():\n",
    "    print(\"This program plots the growth of a 10 year investment.\")\n",
    "\n",
    "    principal = float(input(\"Enter the initial principal: \"))\n",
    "    apr = float(input(\"Enter the annualized interest rate: \"))\n",
    "\n",
    "    win = createLabeledWindow() # Here we call our new function to create the window, and our program is simpler.\n",
    "    drawBar(win, 0, principal)    \n",
    "    for year in range(1, 11):\n",
    "        principal = principal * (1 + apr)\n",
    "        drawBar(win, year, principal)\n",
    "\n",
    "    input(\"Press <Enter> to quit.\")\n",
    "    win.close()\n",
    "\n",
    "main()"
   ]
  },
  {
   "cell_type": "markdown",
   "metadata": {},
   "source": [
    "# Programming Exercises"
   ]
  },
  {
   "cell_type": "markdown",
   "metadata": {},
   "source": [
    "## Exercise 1"
   ]
  },
  {
   "cell_type": "markdown",
   "metadata": {},
   "source": [
    "#### My Solution"
   ]
  },
  {
   "cell_type": "code",
   "execution_count": 82,
   "metadata": {},
   "outputs": [
    {
     "name": "stdout",
     "output_type": "stream",
     "text": [
      "Old MacDonald had a farm Ee-igh, Ee-igh, oh!\n",
      "And on that farm he had a Dog, Ee-igh, Ee-igh, oh!\n",
      "With a Bark, Bark here and a Bark, Bark there\n",
      "Here a Bark, there a Bark, everywhere a Bark, Bark\n",
      "Old MacDonald had a farm Ee-igh, Ee-igh, oh!\n",
      "\n",
      "Old MacDonald had a farm Ee-igh, Ee-igh, oh!\n",
      "And on that farm he had a Chocobo, Ee-igh, Ee-igh, oh!\n",
      "With a KEEWA, KEEWA here and a KEEWA, KEEWA there\n",
      "Here a KEEWA, there a KEEWA, everywhere a KEEWA, KEEWA\n",
      "Old MacDonald had a farm Ee-igh, Ee-igh, oh!\n"
     ]
    }
   ],
   "source": [
    "def old_mac(animal, call):\n",
    "    print('Old MacDonald had a farm Ee-igh, Ee-igh, oh!')\n",
    "    print(f\"And on that farm he had a {animal}, Ee-igh, Ee-igh, oh!\")\n",
    "    print(f\"With a {call}, {call} here and a {call}, {call} there\")\n",
    "    print(f\"Here a {call}, there a {call}, everywhere a {call}, {call}\")\n",
    "    print('Old MacDonald had a farm Ee-igh, Ee-igh, oh!')\n",
    "    \n",
    "old_mac('Dog', 'Bark')\n",
    "print()\n",
    "old_mac('Chocobo', \"KEEWA\")"
   ]
  },
  {
   "cell_type": "markdown",
   "metadata": {},
   "source": [
    "#### Book's Solution"
   ]
  },
  {
   "cell_type": "code",
   "execution_count": 83,
   "metadata": {},
   "outputs": [
    {
     "name": "stdout",
     "output_type": "stream",
     "text": [
      "Old MacDonald had a farm, Ee-igh, Ee-igh, Oh!\n",
      "And on that farm he had a cow, Ee-igh, Ee-igh, Oh!\n",
      "With a moo, moo here and a moo, moo there.\n",
      "Here a moo, there a moo, everywhere a moo, moo.\n",
      "Old MacDonald had a farm, Ee-igh, Ee-igh, Oh!\n",
      "\n",
      "Old MacDonald had a farm, Ee-igh, Ee-igh, Oh!\n",
      "And on that farm he had a pig, Ee-igh, Ee-igh, Oh!\n",
      "With a oink, oink here and a oink, oink there.\n",
      "Here a oink, there a oink, everywhere a oink, oink.\n",
      "Old MacDonald had a farm, Ee-igh, Ee-igh, Oh!\n",
      "\n",
      "Old MacDonald had a farm, Ee-igh, Ee-igh, Oh!\n",
      "And on that farm he had a hedgehog, Ee-igh, Ee-igh, Oh!\n",
      "With a Dinsdale, Dinsdale here and a Dinsdale, Dinsdale there.\n",
      "Here a Dinsdale, there a Dinsdale, everywhere a Dinsdale, Dinsdale.\n",
      "Old MacDonald had a farm, Ee-igh, Ee-igh, Oh!\n",
      "\n"
     ]
    }
   ],
   "source": [
    "# c06ex01.py\n",
    "#    Print lyrics for Old MacDonald\n",
    "\n",
    "\n",
    "def eieio():\n",
    "    return \"Ee-igh, Ee-igh, Oh!\"\n",
    "\n",
    "def refrain():\n",
    "    print(\"Old MacDonald had a farm,\", eieio())\n",
    "\n",
    "def hada(animal):\n",
    "    print(\"And on that farm he had a\", animal+\",\", eieio())\n",
    "\n",
    "def witha(noise):\n",
    "    noisecomma = noise + \",\"\n",
    "    noise2 = noisecomma + \" \"+noise\n",
    "    print(\"With a\", noise2, \"here and a\", noise2, \"there.\")\n",
    "    print(\"Here a\", noisecomma, \"there a\", noisecomma, \\\n",
    "        \"everywhere a\", noise2+\".\")\n",
    "\n",
    "def verse(animal, noise):\n",
    "    refrain()\n",
    "    hada(animal)\n",
    "    witha(noise)\n",
    "    refrain()\n",
    "\n",
    "def main():\n",
    "    for a,n in [(\"cow\",\"moo\"), (\"pig\", \"oink\"), (\"hedgehog\", \"Dinsdale\")]:\n",
    "        verse(a,n)\n",
    "        print()\n",
    "\n",
    "main()"
   ]
  },
  {
   "cell_type": "markdown",
   "metadata": {},
   "source": [
    "## Exercise 2"
   ]
  },
  {
   "cell_type": "markdown",
   "metadata": {},
   "source": [
    "#### My Solution"
   ]
  },
  {
   "cell_type": "code",
   "execution_count": 87,
   "metadata": {},
   "outputs": [
    {
     "name": "stdout",
     "output_type": "stream",
     "text": [
      "The ants go marching one by one, hurrah! hurrah!\n",
      "The ants go marching one by one, hurrah! hurrah!\n",
      "The ants go marching one by one\n",
      "The little one stops to Lick his boots,\n",
      "And they go marching down...\n",
      "In the ground...\n",
      "To get out...\n",
      "Of the rain...\n",
      "Boom! Boom! Boom!\n",
      "None\n",
      "The ants go marching one by one, hurrah! hurrah!\n",
      "The ants go marching one by one, hurrah! hurrah!\n",
      "The ants go marching one by one\n",
      "The little one stops to Lick his boots,\n",
      "And they go marching down...\n",
      "In the ground...\n",
      "To get out...\n",
      "Of the rain...\n",
      "Boom! Boom! Boom!\n",
      "None\n"
     ]
    }
   ],
   "source": [
    "def ant_song(activity):\n",
    "    print(\"The ants go marching one by one, hurrah! hurrah!\")\n",
    "    print(\"The ants go marching one by one, hurrah! hurrah!\")\n",
    "    print(\"The ants go marching one by one\")\n",
    "    print(f\"The little one stops to {activity},\")\n",
    "    print('And they go marching down...')\n",
    "    print(\"In the ground...\")\n",
    "    print('To get out...')\n",
    "    print('Of the rain...')\n",
    "    print(\"Boom! Boom! Boom!\")\n",
    "    \n",
    "print(ant_song(\"Lick his boots\"))\n",
    "print(ant_song(\"Lick his boots\"))"
   ]
  },
  {
   "cell_type": "markdown",
   "metadata": {},
   "source": [
    "#### Book's Solution"
   ]
  },
  {
   "cell_type": "code",
   "execution_count": 88,
   "metadata": {},
   "outputs": [
    {
     "name": "stdout",
     "output_type": "stream",
     "text": [
      "The ants go marching one by one, hurrah! hurrah!\n",
      "The ants go marching one by one, hurrah! hurrah!\n",
      "The ants go marching one by one,\n",
      "The little one stops to suck his thumb,\n",
      "And they all go marching down...\n",
      "In the ground...\n",
      "To get out...\n",
      "Of the rain.\n",
      "Boom! Boom! Boom! \n",
      "\n",
      "The ants go marching two by two, hurrah! hurrah!\n",
      "The ants go marching two by two, hurrah! hurrah!\n",
      "The ants go marching two by two,\n",
      "The little one stops to tie his shoe,\n",
      "And they all go marching down...\n",
      "In the ground...\n",
      "To get out...\n",
      "Of the rain.\n",
      "Boom! Boom! Boom! \n",
      "\n",
      "The ants go marching three by three, hurrah! hurrah!\n",
      "The ants go marching three by three, hurrah! hurrah!\n",
      "The ants go marching three by three,\n",
      "The little one stops to climb a tree,\n",
      "And they all go marching down...\n",
      "In the ground...\n",
      "To get out...\n",
      "Of the rain.\n",
      "Boom! Boom! Boom! \n",
      "\n",
      "The ants go marching four by four, hurrah! hurrah!\n",
      "The ants go marching four by four, hurrah! hurrah!\n",
      "The ants go marching four by four,\n",
      "The little one stops to shut the door,\n",
      "And they all go marching down...\n",
      "In the ground...\n",
      "To get out...\n",
      "Of the rain.\n",
      "Boom! Boom! Boom! \n",
      "\n",
      "The ants go marching five by five, hurrah! hurrah!\n",
      "The ants go marching five by five, hurrah! hurrah!\n",
      "The ants go marching five by five,\n",
      "The little one stops to take a dive,\n",
      "And they all go marching down...\n",
      "In the ground...\n",
      "To get out...\n",
      "Of the rain.\n",
      "Boom! Boom! Boom! \n",
      "\n",
      "The ants go marching six by six, hurrah! hurrah!\n",
      "The ants go marching six by six, hurrah! hurrah!\n",
      "The ants go marching six by six,\n",
      "The little one stops to pick up sticks,\n",
      "And they all go marching down...\n",
      "In the ground...\n",
      "To get out...\n",
      "Of the rain.\n",
      "Boom! Boom! Boom! \n",
      "\n",
      "The ants go marching seven by seven, hurrah! hurrah!\n",
      "The ants go marching seven by seven, hurrah! hurrah!\n",
      "The ants go marching seven by seven,\n",
      "The little one stops to talk to Kevin,\n",
      "And they all go marching down...\n",
      "In the ground...\n",
      "To get out...\n",
      "Of the rain.\n",
      "Boom! Boom! Boom! \n",
      "\n",
      "The ants go marching eight by eight, hurrah! hurrah!\n",
      "The ants go marching eight by eight, hurrah! hurrah!\n",
      "The ants go marching eight by eight,\n",
      "The little one stops to jump the gate,\n",
      "And they all go marching down...\n",
      "In the ground...\n",
      "To get out...\n",
      "Of the rain.\n",
      "Boom! Boom! Boom! \n",
      "\n",
      "The ants go marching nine by nine, hurrah! hurrah!\n",
      "The ants go marching nine by nine, hurrah! hurrah!\n",
      "The ants go marching nine by nine,\n",
      "The little one stops to swing on a vine,\n",
      "And they all go marching down...\n",
      "In the ground...\n",
      "To get out...\n",
      "Of the rain.\n",
      "Boom! Boom! Boom! \n",
      "\n",
      "The ants go marching ten by ten, hurrah! hurrah!\n",
      "The ants go marching ten by ten, hurrah! hurrah!\n",
      "The ants go marching ten by ten,\n",
      "The little one stops to say 'The End',\n",
      "And they all go marching down...\n",
      "In the ground...\n",
      "To get out...\n",
      "Of the rain.\n",
      "Boom! Boom! Boom! \n",
      "\n",
      "Press <Enter> to Quit\n"
     ]
    }
   ],
   "source": [
    "# c06ex02.py\n",
    "#   Prints lyrics for \"The Ants Go Marching\".\n",
    "\n",
    "def verse(number, action):\n",
    "    print(march(number), hurrah())\n",
    "    print(march(number), hurrah())\n",
    "    print(march(number))\n",
    "    print(littleOne(action))\n",
    "    refrain()\n",
    "\n",
    "def march(number):\n",
    "    return \"The ants go marching %s by %s,\" % (number,number)\n",
    "\n",
    "def hurrah():\n",
    "    return \"hurrah! hurrah!\"\n",
    "\n",
    "def littleOne(action):\n",
    "    return \"The little one stops to \"+action+\",\"\n",
    "\n",
    "def refrain():\n",
    "    print(\"And they all go marching down...\")\n",
    "    print(\"In the ground...\")\n",
    "    print(\"To get out...\")\n",
    "    print(\"Of the rain.\")\n",
    "    print(\"Boom! \" * 3)\n",
    "\n",
    "def main():\n",
    "    actions = [ (\"one\", \"suck his thumb\"),\n",
    "                (\"two\", \"tie his shoe\"),\n",
    "                (\"three\", \"climb a tree\"),\n",
    "                (\"four\", \"shut the door\"),\n",
    "                (\"five\", \"take a dive\"),\n",
    "                (\"six\", \"pick up sticks\"),\n",
    "                (\"seven\", \"talk to Kevin\"),\n",
    "                (\"eight\", \"jump the gate\"),\n",
    "                (\"nine\", \"swing on a vine\"),\n",
    "                (\"ten\", \"say 'The End'\") ]\n",
    "\n",
    "    for n,a in actions:\n",
    "        verse(n,a)\n",
    "        print()\n",
    "\n",
    "    input(\"Press <Enter> to Quit\")\n",
    "\n",
    "main()"
   ]
  },
  {
   "cell_type": "markdown",
   "metadata": {},
   "source": [
    "## Exercise 3"
   ]
  },
  {
   "cell_type": "markdown",
   "metadata": {},
   "source": [
    "#### My Solution"
   ]
  },
  {
   "cell_type": "code",
   "execution_count": 6,
   "metadata": {},
   "outputs": [],
   "source": [
    "def sphereArea(radius):\n",
    "    return round(4 * math.pi * radius**2,2)\n",
    "\n",
    "def sphereVolume(radius):\n",
    "    return round((4/3) * math.pi * radius**3,2)\n"
   ]
  },
  {
   "cell_type": "code",
   "execution_count": 8,
   "metadata": {},
   "outputs": [
    {
     "name": "stdout",
     "output_type": "stream",
     "text": [
      "50.27\n",
      "33.51\n"
     ]
    }
   ],
   "source": [
    "print(sphereArea(2))\n",
    "print(sphereVolume(2))"
   ]
  },
  {
   "cell_type": "markdown",
   "metadata": {},
   "source": [
    "#### Book Solution"
   ]
  },
  {
   "cell_type": "code",
   "execution_count": 3,
   "metadata": {},
   "outputs": [
    {
     "name": "stdout",
     "output_type": "stream",
     "text": [
      "This program computes some properties of a sphere\n",
      "\n",
      "Please enter the radius of the sphere: 2\n",
      "\n",
      "The surface area is 50.27 square units.\n",
      "The volume is 33.51 cubic units.\n"
     ]
    }
   ],
   "source": [
    "# c06ex03.py\n",
    "#    Sphere info with functions\n",
    "\n",
    "import math\n",
    "\n",
    "def sphereArea(radius):\n",
    "    return 4 * math.pi * radius * radius\n",
    "\n",
    "def sphereVolume(radius):\n",
    "    return 4.0/3.0 * math.pi * radius**3\n",
    "\n",
    "def main():\n",
    "    print(\"This program computes some properties of a sphere\\n\")\n",
    "\n",
    "    r = float(input(\"Please enter the radius of the sphere: \"))\n",
    "    print(\"\\nThe surface area is %0.2f square units.\" % (sphereArea(r)))\n",
    "    print(\"The volume is %0.2f cubic units.\" % (sphereVolume(r)))\n",
    "\n",
    "main()\n"
   ]
  },
  {
   "cell_type": "markdown",
   "metadata": {},
   "source": [
    "## Exercise 4"
   ]
  },
  {
   "cell_type": "markdown",
   "metadata": {},
   "source": [
    "#### My Solution"
   ]
  },
  {
   "cell_type": "code",
   "execution_count": 111,
   "metadata": {},
   "outputs": [
    {
     "name": "stdout",
     "output_type": "stream",
     "text": [
      "3\n",
      "9\n"
     ]
    }
   ],
   "source": [
    "def sumN(n):\n",
    "    # Program returns the sum of the first n natural numbers\n",
    "    sum = 0\n",
    "    for num in range(1,n+1):\n",
    "        sum += num\n",
    "    return sum\n",
    "\n",
    "def sumNCubes(n):\n",
    "    # Program returns the sum of the cubes of the first n numbers\n",
    "    sum = 0\n",
    "    for num in range(1,n+1):\n",
    "        sum+= num**3\n",
    "    return sum\n",
    "\n",
    "print(sumN(2))\n",
    "print(sumNCubes(2))"
   ]
  },
  {
   "cell_type": "code",
   "execution_count": 112,
   "metadata": {},
   "outputs": [
    {
     "name": "stdout",
     "output_type": "stream",
     "text": [
      "Please enter a number: 5\n",
      "The sum of all numbers up to 5 is: 15 \n",
      "The sum of the cubes of 5 is: 225\n"
     ]
    }
   ],
   "source": [
    "def main():\n",
    "    number = int(input(\"Please enter a number: \"))\n",
    "    \n",
    "    sum_n = sumN(number)\n",
    "    sum_cube_n = sumNCubes(number)\n",
    "    \n",
    "    return f\"The sum of all numbers up to {number} is: {sum_n} \\nThe sum of the cubes of {number} is: {sum_cube_n}\"\n",
    "print(main())"
   ]
  },
  {
   "cell_type": "markdown",
   "metadata": {},
   "source": [
    "#### Book Solution"
   ]
  },
  {
   "cell_type": "code",
   "execution_count": 113,
   "metadata": {},
   "outputs": [
    {
     "name": "stdout",
     "output_type": "stream",
     "text": [
      "This program computes the sum and sum of cubes of the first\n",
      "N natural numbers.\n",
      "\n",
      "Please enter a value for N: 5\n",
      "The sum of the first 5 natural numbers is 15\n",
      "The sum of the cubes of those numbers is 225\n"
     ]
    }
   ],
   "source": [
    "# c06ex04.py\n",
    "\n",
    "def sumN(n):\n",
    "    total = 0\n",
    "    for i in range(1,n+1):\n",
    "        total = total + i\n",
    "    return total\n",
    "\n",
    "def sumNCube(n):\n",
    "    total = 0\n",
    "    for i in range(1,n+1):\n",
    "        total = total + i**3\n",
    "    return total\n",
    "\n",
    "def main():\n",
    "    print(\"This program computes the sum and sum of cubes of the first\")\n",
    "    print(\"N natural numbers.\\n\")\n",
    "\n",
    "    n = int(input(\"Please enter a value for N: \"))\n",
    "    print(\"The sum of the first %d natural numbers is %d\" % (n,sumN(n)))\n",
    "    print(\"The sum of the cubes of those numbers is %d\" % (sumNCube(n)))\n",
    "\n",
    "main()\n"
   ]
  },
  {
   "cell_type": "markdown",
   "metadata": {},
   "source": [
    "## Exercise 5"
   ]
  },
  {
   "cell_type": "markdown",
   "metadata": {},
   "source": [
    "#### My Solution"
   ]
  },
  {
   "cell_type": "code",
   "execution_count": 15,
   "metadata": {},
   "outputs": [],
   "source": [
    "def areaPizza(diameter):\n",
    "    return round(math.pi * (diameter/2)**2,2) "
   ]
  },
  {
   "cell_type": "code",
   "execution_count": 16,
   "metadata": {},
   "outputs": [],
   "source": [
    "def costSquareInch(size,price):\n",
    "    return f\"The cost per square inch of a pizza costing ${price} with an area of {size} inches is ${round((price/size),2)}\"    "
   ]
  },
  {
   "cell_type": "code",
   "execution_count": 17,
   "metadata": {},
   "outputs": [
    {
     "data": {
      "text/plain": [
       "'The cost per square inch of a pizza costing $15 with an area of 78.54 inches is $0.19'"
      ]
     },
     "execution_count": 17,
     "metadata": {},
     "output_type": "execute_result"
    }
   ],
   "source": [
    "costSquareInch(areaPizza(10), 15)"
   ]
  },
  {
   "cell_type": "markdown",
   "metadata": {},
   "source": [
    "#### Book Solution"
   ]
  },
  {
   "cell_type": "code",
   "execution_count": 12,
   "metadata": {},
   "outputs": [
    {
     "name": "stdout",
     "output_type": "stream",
     "text": [
      "Program to calculate the value of a pizza\n",
      "\n",
      "Enter the diameter of the pizza: 10\n",
      "Enter the price of the pizza: 15\n",
      "\n",
      "The pizza costs 0.1910 per square unit.\n"
     ]
    }
   ],
   "source": [
    "# c06ex05.py\n",
    "#    Pizza value with functions\n",
    "\n",
    "\n",
    "import math\n",
    "\n",
    "\n",
    "def costPer(d, price):\n",
    "    return float(price) / area(d)\n",
    "\n",
    "def area(d):\n",
    "    return math.pi * (0.5*d)**2\n",
    "\n",
    "def main():\n",
    "    print(\"Program to calculate the value of a pizza\\n\")\n",
    "\n",
    "    diam = float(input(\"Enter the diameter of the pizza: \"))\n",
    "    cost = float(input(\"Enter the price of the pizza: \"))\n",
    "\n",
    "    print(\"\\nThe pizza costs %0.4f per square unit.\" % (costPer(diam,cost)))\n",
    "\n",
    "main()"
   ]
  },
  {
   "cell_type": "markdown",
   "metadata": {},
   "source": [
    "## Exercise 6"
   ]
  },
  {
   "cell_type": "markdown",
   "metadata": {},
   "source": [
    "#### My Solution"
   ]
  },
  {
   "cell_type": "code",
   "execution_count": 1,
   "metadata": {},
   "outputs": [],
   "source": [
    "import math\n",
    "def area_triangle(a,b,c):\n",
    "    print('This program calcualtes the area of a triangle given the length of its 3 sides')\n",
    "    \n",
    "    sides = (a + b + c) / (2)\n",
    "    area = round(math.sqrt(abs(sides * (sides - a) * (sides - b) * (sides - c))),2)\n",
    "    \n",
    "    return area"
   ]
  },
  {
   "cell_type": "code",
   "execution_count": 2,
   "metadata": {},
   "outputs": [
    {
     "name": "stdout",
     "output_type": "stream",
     "text": [
      "This program calcualtes the area of a triangle given the length of its 3 sides\n"
     ]
    },
    {
     "data": {
      "text/plain": [
       "51.5212"
      ]
     },
     "execution_count": 2,
     "metadata": {},
     "output_type": "execute_result"
    }
   ],
   "source": [
    "area_triangle(10,11,12)"
   ]
  },
  {
   "cell_type": "code",
   "execution_count": 7,
   "metadata": {},
   "outputs": [
    {
     "name": "stdout",
     "output_type": "stream",
     "text": [
      "Point(1.6040100250626566, 8.045112781954888) Point(4.912280701754385, 7.368421052631579) Point(2.8571428571428568, 3.734335839598998)\n",
      "This program calcualtes the area of a triangle given the length of its 3 sides\n",
      "6.7066\n"
     ]
    }
   ],
   "source": [
    "# Program: triangle2.py\n",
    "import math\n",
    "from graphics import *\n",
    "\n",
    "def square(x):\n",
    "    return x * x\n",
    "\n",
    "def distance(p1, p2):\n",
    "    dist = math.sqrt(square(p2.getX() - p1.getX())\n",
    "                     + square(p2.getY() - p1.getY()))\n",
    "    return dist\n",
    "\n",
    "def main():\n",
    "    win = GraphWin(\"Draw a Triangle\",400,400)\n",
    "    win.setCoords(0.0, 0.0, 10.0, 10.0)\n",
    "    message = Text(Point(5, 0.5), \"Click on three points\")\n",
    "    message.draw(win)\n",
    "\n",
    "    # Get and draw three vertices of triangle\n",
    "    p1 = win.getMouse()\n",
    "    p1.draw(win)\n",
    "    p2 = win.getMouse()\n",
    "    p2.draw(win)\n",
    "    p3 = win.getMouse()\n",
    "    p3.draw(win)\n",
    "    print(p1,p2,p3)\n",
    "\n",
    "    # Use Polygon object to draw the triangle\n",
    "    triangle = Polygon(p1,p2,p3)\n",
    "    triangle.setFill(\"peachpuff\")\n",
    "    triangle.setOutline(\"cyan\")\n",
    "    triangle.draw(win)\n",
    "\n",
    "    # Calculate the perimeter of the triangle\n",
    "    perim = round(distance(p1,p2) + distance(p2,p3) + distance(p3,p1),2)\n",
    "    \n",
    "    \n",
    "    # Calculate the area of the triangle\n",
    "    area = area_triangle(distance(p1,p2), distance(p2,p3), distance(p3,p1))\n",
    "    message.setText(f\"The area is {area} and the Perimeter is: {perim}\")\n",
    "    message.setSize(11)\n",
    "    print(area)\n",
    "\n",
    "    # Wait for another click to exit\n",
    "    win.getMouse()\n",
    "    win.close()\n",
    "\n",
    "main()"
   ]
  },
  {
   "cell_type": "markdown",
   "metadata": {},
   "source": [
    "#### Book's Solution"
   ]
  },
  {
   "cell_type": "code",
   "execution_count": 8,
   "metadata": {},
   "outputs": [],
   "source": [
    "# c06ex06.py\n",
    "\n",
    "import math\n",
    "from graphics import *\n",
    "\n",
    "def square(x):\n",
    "    return x * x\n",
    "\n",
    "def distance(p1, p2):\n",
    "    dist = math.sqrt(square(p2.getX() - p1.getX())\n",
    "                     + square(p2.getY() - p1.getY()))\n",
    "    return dist\n",
    "\n",
    "def triArea(a, b, c):\n",
    "    s = (a+b+c)/2.0\n",
    "    return math.sqrt(s*(s-a)*(s-b)*(s-c))\n",
    "\n",
    "def main():\n",
    "    win = GraphWin(\"Draw a Triangle\",500,500)\n",
    "    win.setCoords(0.0, 0.0, 10.0, 10.0)\n",
    "    message = Text(Point(5, 0.5), \"Click on three points\")\n",
    "    message.draw(win)\n",
    "\n",
    "    # Get and draw three vertices of triangle\n",
    "    p1 = win.getMouse()\n",
    "    p1.draw(win)\n",
    "    p2 = win.getMouse()\n",
    "    p2.draw(win)\n",
    "    p3 = win.getMouse()\n",
    "    p3.draw(win)\n",
    "\n",
    "    # Use Polygon object to draw the triangle\n",
    "    triangle = Polygon(p1,p2,p3)\n",
    "    triangle.setFill(\"peachpuff\")\n",
    "    triangle.setOutline(\"cyan\")\n",
    "    triangle.draw(win)\n",
    "\n",
    "    # Calculate the perimeter of the triangle\n",
    "    d1 = distance(p1,p2)\n",
    "    d2 = distance(p2,p3)\n",
    "    d3 = distance(p3,p1)\n",
    "    message.setText(\"perimeter: %0.2f  area: %0.2f \"\n",
    "                    % ((d1+d2+d3),triArea(d1,d2,d3)))\n",
    "\n",
    "    # Wait for another click to exit\n",
    "    win.getMouse()\n",
    "\n",
    "main()"
   ]
  },
  {
   "cell_type": "markdown",
   "metadata": {},
   "source": [
    "## Exercise 7"
   ]
  },
  {
   "cell_type": "markdown",
   "metadata": {},
   "source": [
    "#### My Solution"
   ]
  },
  {
   "cell_type": "code",
   "execution_count": 8,
   "metadata": {},
   "outputs": [],
   "source": [
    "def fib_seq(n):\n",
    "    number = 1\n",
    "    total = 0\n",
    "    old = 0\n",
    "\n",
    "    for num in range(n):\n",
    "        counter = number + old\n",
    "        old = counter\n",
    "        number = counter - number\n",
    "        \n",
    "    return counter"
   ]
  },
  {
   "cell_type": "code",
   "execution_count": 9,
   "metadata": {},
   "outputs": [
    {
     "data": {
      "text/plain": [
       "610"
      ]
     },
     "execution_count": 9,
     "metadata": {},
     "output_type": "execute_result"
    }
   ],
   "source": [
    "fib_seqseq(15)"
   ]
  },
  {
   "cell_type": "markdown",
   "metadata": {},
   "source": [
    "#### Book Solution"
   ]
  },
  {
   "cell_type": "code",
   "execution_count": 10,
   "metadata": {},
   "outputs": [
    {
     "name": "stdout",
     "output_type": "stream",
     "text": [
      "Nth Fibonacci number\n",
      "\n",
      "Enter n: 15\n",
      "The Fibonacci value is 610\n"
     ]
    }
   ],
   "source": [
    "# c06ex07.py\n",
    "\n",
    "def fibo(n):\n",
    "    curr, prev = 1,1\n",
    "    for i in range(n-2):\n",
    "        curr, prev = curr+prev, curr\n",
    "    return curr\n",
    "\n",
    "def main():\n",
    "    print(\"Nth Fibonacci number\\n\")\n",
    "    n = int(input(\"Enter n: \"))\n",
    "    print(\"The Fibonacci value is\", fibo(n))\n",
    "\n",
    "main()"
   ]
  },
  {
   "cell_type": "markdown",
   "metadata": {},
   "source": [
    "## Exercise 8"
   ]
  },
  {
   "cell_type": "markdown",
   "metadata": {},
   "source": [
    "#### My Solution"
   ]
  },
  {
   "cell_type": "code",
   "execution_count": 14,
   "metadata": {},
   "outputs": [],
   "source": [
    "def square_root(times,x):\n",
    "\n",
    "    first_guess = x/2\n",
    "    for num in range(1,times+1):\n",
    "        next_guess = (first_guess + (x/first_guess)) / 2\n",
    "        first_guess = next_guess\n",
    "        \n",
    "    difference = next_guess - math.sqrt(x)\n",
    "    print(next_guess)\n",
    "    print('The difference b/w the approximation and actual square root is ', f\"{difference}\")"
   ]
  },
  {
   "cell_type": "code",
   "execution_count": 18,
   "metadata": {},
   "outputs": [
    {
     "name": "stdout",
     "output_type": "stream",
     "text": [
      "4.0\n",
      "The difference b/w the approximation and actual square root is  0.0\n"
     ]
    }
   ],
   "source": [
    "square_root(10,16)"
   ]
  },
  {
   "cell_type": "markdown",
   "metadata": {},
   "source": [
    "#### Book's Solution"
   ]
  },
  {
   "cell_type": "code",
   "execution_count": 19,
   "metadata": {},
   "outputs": [
    {
     "name": "stdout",
     "output_type": "stream",
     "text": [
      "Enter the value to take the root of: 16\n",
      "Enter the number of iterations: 10\n",
      "Square root is 4.0\n"
     ]
    }
   ],
   "source": [
    "# c06ex08.py\n",
    "#  square roots\n",
    "\n",
    "def nextGuess(guess, x):\n",
    "    return (guess + x/guess) / 2.0\n",
    "\n",
    "def sqrRoot(x, iters):\n",
    "    guess = x / 2.0\n",
    "    for i in range(iters):\n",
    "        guess = nextGuess(guess, x)\n",
    "    return guess\n",
    "    \n",
    "\n",
    "def main():\n",
    "    x = float(input(\"Enter the value to take the root of: \"))\n",
    "    n = int(input(\"Enter the number of iterations: \"))\n",
    "    print(\"Square root is\", sqrRoot(x, n))\n",
    "\n",
    "main()"
   ]
  },
  {
   "cell_type": "markdown",
   "metadata": {},
   "source": [
    "## Exercise 9"
   ]
  },
  {
   "cell_type": "markdown",
   "metadata": {},
   "source": [
    "#### My Solution"
   ]
  },
  {
   "cell_type": "code",
   "execution_count": 22,
   "metadata": {},
   "outputs": [
    {
     "data": {
      "text/plain": [
       "'A'"
      ]
     },
     "execution_count": 22,
     "metadata": {},
     "output_type": "execute_result"
    }
   ],
   "source": [
    "def quiz_score2(score):\n",
    "    #score = int(input(\"Enter your quiz score to find out your grade: \"))\n",
    "    \n",
    "    while score < 0 or score > 100:\n",
    "        score = int(input(\"The score is only out of 100, please enter a number between 0-100: \"))\n",
    "        \n",
    "    if score >= 90:\n",
    "        score = 4\n",
    "    elif score >= 80:\n",
    "        score = 3\n",
    "    elif score >= 70:\n",
    "        score = 2\n",
    "    elif score >=60:\n",
    "        score = 1\n",
    "    elif score < 60:\n",
    "        score = 0\n",
    "        \n",
    "    grade = \"FDCBA\"[score]\n",
    "    \n",
    "    return grade"
   ]
  },
  {
   "cell_type": "code",
   "execution_count": 23,
   "metadata": {},
   "outputs": [
    {
     "data": {
      "text/plain": [
       "'A'"
      ]
     },
     "execution_count": 23,
     "metadata": {},
     "output_type": "execute_result"
    }
   ],
   "source": [
    "quiz_score2(90)"
   ]
  },
  {
   "cell_type": "markdown",
   "metadata": {},
   "source": [
    "#### Book's Solution"
   ]
  },
  {
   "cell_type": "code",
   "execution_count": 24,
   "metadata": {},
   "outputs": [
    {
     "name": "stdout",
     "output_type": "stream",
     "text": [
      "Quiz Grader\n",
      "Enter the score (0-5): 5\n",
      "The grade is A\n"
     ]
    }
   ],
   "source": [
    "# c06ex09.py\n",
    "\n",
    "def grade(score):\n",
    "    return \"FFDCBA\"[score]\n",
    "\n",
    "def main():\n",
    "    print(\"Quiz Grader\")\n",
    "    score = int(input(\"Enter the score (0-5): \"))\n",
    "    print(\"The grade is\", grade(score))\n",
    "\n",
    "main()\n",
    "\n",
    "    "
   ]
  },
  {
   "cell_type": "markdown",
   "metadata": {},
   "source": [
    "## Exercise 10"
   ]
  },
  {
   "cell_type": "markdown",
   "metadata": {},
   "source": [
    "#### My Solution"
   ]
  },
  {
   "cell_type": "code",
   "execution_count": 33,
   "metadata": {},
   "outputs": [
    {
     "data": {
      "text/plain": [
       "'SCUBA'"
      ]
     },
     "execution_count": 33,
     "metadata": {},
     "output_type": "execute_result"
    }
   ],
   "source": [
    "def acronym(phrase):\n",
    "    \n",
    "    acro_list = phrase.split()\n",
    "    acronym = ''\n",
    "    for word in acro_list:\n",
    "        acronym += word[0].upper()\n",
    "        \n",
    "    return acronym"
   ]
  },
  {
   "cell_type": "code",
   "execution_count": 36,
   "metadata": {},
   "outputs": [
    {
     "data": {
      "text/plain": [
       "'SCUBA'"
      ]
     },
     "execution_count": 36,
     "metadata": {},
     "output_type": "execute_result"
    }
   ],
   "source": [
    "acronym(\"Self Contained Underwater Breathing Apparatus\")"
   ]
  },
  {
   "cell_type": "markdown",
   "metadata": {},
   "source": [
    "#### Book Solution"
   ]
  },
  {
   "cell_type": "code",
   "execution_count": 35,
   "metadata": {},
   "outputs": [
    {
     "name": "stdout",
     "output_type": "stream",
     "text": [
      "Acronym Builder\n",
      "Enter a phrase: Self Contained Underwater Breathing Apparatus\n",
      "Acronym: SCUBA\n"
     ]
    }
   ],
   "source": [
    "# c06ex10.py\n",
    "#   Acronym generator using functions\n",
    "\n",
    "\n",
    "def acronym(phrase):\n",
    "    ans = \"\"\n",
    "    for word in phrase.split():\n",
    "        ans = ans + word[0]\n",
    "    return ans.upper()\n",
    "\n",
    "def main():\n",
    "    print(\"Acronym Builder\")\n",
    "    words = input(\"Enter a phrase: \")\n",
    "    print(\"Acronym:\", acronym(words))\n",
    "\n",
    "main()"
   ]
  },
  {
   "cell_type": "markdown",
   "metadata": {},
   "source": [
    "## Exercise 11"
   ]
  },
  {
   "cell_type": "markdown",
   "metadata": {},
   "source": [
    "#### My Solution"
   ]
  },
  {
   "cell_type": "code",
   "execution_count": 7,
   "metadata": {},
   "outputs": [],
   "source": [
    "def squareEach(nums):\n",
    "    \n",
    "    squared_nums = []\n",
    "    \n",
    "    for number in nums:\n",
    "        squared_nums.append(number**2)\n",
    "        \n",
    "    return squared_nums"
   ]
  },
  {
   "cell_type": "code",
   "execution_count": 8,
   "metadata": {},
   "outputs": [
    {
     "name": "stdout",
     "output_type": "stream",
     "text": [
      "[0, 1, 2, 3, 4, 5, 6, 7, 8, 9]\n"
     ]
    }
   ],
   "source": [
    "numbers = list(range(10))\n",
    "print(numbers)"
   ]
  },
  {
   "cell_type": "code",
   "execution_count": 9,
   "metadata": {},
   "outputs": [
    {
     "data": {
      "text/plain": [
       "[0, 1, 4, 9, 16, 25, 36, 49, 64, 81]"
      ]
     },
     "execution_count": 9,
     "metadata": {},
     "output_type": "execute_result"
    }
   ],
   "source": [
    "squareEach(numbers)"
   ]
  },
  {
   "cell_type": "markdown",
   "metadata": {},
   "source": [
    "#### Book Solution"
   ]
  },
  {
   "cell_type": "code",
   "execution_count": 16,
   "metadata": {},
   "outputs": [
    {
     "name": "stdout",
     "output_type": "stream",
     "text": [
      "[0, 1, 4, 9, 16, 25, 36, 49, 64, 81]\n"
     ]
    }
   ],
   "source": [
    "# c06ex11.py\n",
    "#    Square each value in a list\n",
    "\n",
    "def squareEach(nums):\n",
    "    for i in range(len(nums)):\n",
    "        nums[i] = nums[i]**2\n",
    "\n",
    "\n",
    "def test():\n",
    "    nums = list(range(10))\n",
    "    squareEach(nums)\n",
    "    print(nums)\n",
    "\n",
    "test()"
   ]
  },
  {
   "cell_type": "markdown",
   "metadata": {},
   "source": [
    "## Exercise 12"
   ]
  },
  {
   "cell_type": "markdown",
   "metadata": {},
   "source": [
    "#### My Solution"
   ]
  },
  {
   "cell_type": "code",
   "execution_count": 10,
   "metadata": {},
   "outputs": [],
   "source": [
    "def sumList(nums):\n",
    "    \n",
    "    sum_numbers = sum(nums)\n",
    "    \n",
    "    return sum_numbers"
   ]
  },
  {
   "cell_type": "code",
   "execution_count": 11,
   "metadata": {},
   "outputs": [
    {
     "data": {
      "text/plain": [
       "45"
      ]
     },
     "execution_count": 11,
     "metadata": {},
     "output_type": "execute_result"
    }
   ],
   "source": [
    "sumList(numbers)"
   ]
  },
  {
   "cell_type": "markdown",
   "metadata": {},
   "source": [
    "#### Book Solution"
   ]
  },
  {
   "cell_type": "code",
   "execution_count": 61,
   "metadata": {},
   "outputs": [
    {
     "name": "stdout",
     "output_type": "stream",
     "text": [
      "45\n"
     ]
    }
   ],
   "source": [
    "# c06ex12.py\n",
    "#    function to sum numbers in a list\n",
    "\n",
    "def sumList(nums):\n",
    "    total = 0\n",
    "    for n in nums:\n",
    "        total = total + n\n",
    "    return total\n",
    "\n",
    "def test():\n",
    "    nums = list(range(10))\n",
    "    print(sumList(nums))\n",
    "\n",
    "test()"
   ]
  },
  {
   "cell_type": "markdown",
   "metadata": {},
   "source": [
    "## Exercise 13"
   ]
  },
  {
   "cell_type": "markdown",
   "metadata": {},
   "source": [
    "#### My Solution"
   ]
  },
  {
   "cell_type": "code",
   "execution_count": 70,
   "metadata": {},
   "outputs": [],
   "source": [
    "def toNumbers(strList):\n",
    "    \n",
    "    converted_list = []\n",
    "    \n",
    "    for string in strList:\n",
    "        for character in string:\n",
    "            converted_list.append(ord(character))\n",
    "        \n",
    "    return converted_list"
   ]
  },
  {
   "cell_type": "code",
   "execution_count": 89,
   "metadata": {},
   "outputs": [],
   "source": [
    "def toStrings(numList):\n",
    "    converted_list = []\n",
    "    \n",
    "    for number in numList:\n",
    "        converted_list.append(chr(number))\n",
    "    \n",
    "    converted_list = \"\".join(converted_list)\n",
    "    return converted_list\n",
    "    "
   ]
  },
  {
   "cell_type": "code",
   "execution_count": 90,
   "metadata": {},
   "outputs": [
    {
     "data": {
      "text/plain": [
       "[72, 69, 76, 76, 79, 32, 67, 72, 65, 82, 76, 73, 69]"
      ]
     },
     "execution_count": 90,
     "metadata": {},
     "output_type": "execute_result"
    }
   ],
   "source": [
    "toNumbers(\"HELLO CHARLIE\")"
   ]
  },
  {
   "cell_type": "code",
   "execution_count": 91,
   "metadata": {},
   "outputs": [
    {
     "data": {
      "text/plain": [
       "[72, 105, 77, 121]"
      ]
     },
     "execution_count": 91,
     "metadata": {},
     "output_type": "execute_result"
    }
   ],
   "source": [
    "toNumbers(['Hi', 'My'])"
   ]
  },
  {
   "cell_type": "code",
   "execution_count": 92,
   "metadata": {},
   "outputs": [
    {
     "data": {
      "text/plain": [
       "'HELLO CHARLIE'"
      ]
     },
     "execution_count": 92,
     "metadata": {},
     "output_type": "execute_result"
    }
   ],
   "source": [
    "toStrings([72, 69, 76, 76, 79, 32, 67, 72, 65, 82, 76, 73, 69])"
   ]
  },
  {
   "cell_type": "code",
   "execution_count": 93,
   "metadata": {},
   "outputs": [
    {
     "data": {
      "text/plain": [
       "'HiMy'"
      ]
     },
     "execution_count": 93,
     "metadata": {},
     "output_type": "execute_result"
    }
   ],
   "source": [
    "toStrings([72, 105, 77, 121])"
   ]
  },
  {
   "cell_type": "markdown",
   "metadata": {},
   "source": [
    "#### Book Solution"
   ]
  },
  {
   "cell_type": "code",
   "execution_count": 25,
   "metadata": {},
   "outputs": [
    {
     "name": "stdout",
     "output_type": "stream",
     "text": [
      "[12.0, 345.0, 15.34]\n"
     ]
    }
   ],
   "source": [
    "# c06ex13.py\n",
    "#    function to convert list of strings to numbers\n",
    "\n",
    "def toNumbers2(strList):\n",
    "    for i in range(len(strList)):\n",
    "        strList[i] = float(strList[i])\n",
    "\n",
    "\n",
    "def test():\n",
    "    x = [\"12\", \"345\", \"15.34\"]\n",
    "    toNumbers2(x)\n",
    "    print(x)\n",
    "\n",
    "test()"
   ]
  },
  {
   "cell_type": "code",
   "execution_count": 73,
   "metadata": {},
   "outputs": [
    {
     "ename": "ValueError",
     "evalue": "could not convert string to float: 'Hi'",
     "output_type": "error",
     "traceback": [
      "\u001b[1;31m---------------------------------------------------------------------------\u001b[0m",
      "\u001b[1;31mValueError\u001b[0m                                Traceback (most recent call last)",
      "\u001b[1;32m<ipython-input-73-b534270e07d4>\u001b[0m in \u001b[0;36m<module>\u001b[1;34m\u001b[0m\n\u001b[1;32m----> 1\u001b[1;33m \u001b[0mtoNumbers2\u001b[0m\u001b[1;33m(\u001b[0m\u001b[1;33m[\u001b[0m\u001b[1;34m\"Hi\"\u001b[0m\u001b[1;33m,\u001b[0m \u001b[1;34m\"My\"\u001b[0m\u001b[1;33m]\u001b[0m\u001b[1;33m)\u001b[0m\u001b[1;33m\u001b[0m\u001b[1;33m\u001b[0m\u001b[0m\n\u001b[0m",
      "\u001b[1;32m<ipython-input-65-a7160d05ecef>\u001b[0m in \u001b[0;36mtoNumbers2\u001b[1;34m(strList)\u001b[0m\n\u001b[0;32m      4\u001b[0m \u001b[1;32mdef\u001b[0m \u001b[0mtoNumbers2\u001b[0m\u001b[1;33m(\u001b[0m\u001b[0mstrList\u001b[0m\u001b[1;33m)\u001b[0m\u001b[1;33m:\u001b[0m\u001b[1;33m\u001b[0m\u001b[1;33m\u001b[0m\u001b[0m\n\u001b[0;32m      5\u001b[0m     \u001b[1;32mfor\u001b[0m \u001b[0mi\u001b[0m \u001b[1;32min\u001b[0m \u001b[0mrange\u001b[0m\u001b[1;33m(\u001b[0m\u001b[0mlen\u001b[0m\u001b[1;33m(\u001b[0m\u001b[0mstrList\u001b[0m\u001b[1;33m)\u001b[0m\u001b[1;33m)\u001b[0m\u001b[1;33m:\u001b[0m\u001b[1;33m\u001b[0m\u001b[1;33m\u001b[0m\u001b[0m\n\u001b[1;32m----> 6\u001b[1;33m         \u001b[0mstrList\u001b[0m\u001b[1;33m[\u001b[0m\u001b[0mi\u001b[0m\u001b[1;33m]\u001b[0m \u001b[1;33m=\u001b[0m \u001b[0mfloat\u001b[0m\u001b[1;33m(\u001b[0m\u001b[0mstrList\u001b[0m\u001b[1;33m[\u001b[0m\u001b[0mi\u001b[0m\u001b[1;33m]\u001b[0m\u001b[1;33m)\u001b[0m\u001b[1;33m\u001b[0m\u001b[1;33m\u001b[0m\u001b[0m\n\u001b[0m\u001b[0;32m      7\u001b[0m \u001b[1;33m\u001b[0m\u001b[0m\n\u001b[0;32m      8\u001b[0m \u001b[1;33m\u001b[0m\u001b[0m\n",
      "\u001b[1;31mValueError\u001b[0m: could not convert string to float: 'Hi'"
     ]
    }
   ],
   "source": [
    "toNumbers2([\"Hi\", \"My\"])"
   ]
  },
  {
   "cell_type": "markdown",
   "metadata": {},
   "source": [
    "### I Like my version FAR better"
   ]
  },
  {
   "cell_type": "markdown",
   "metadata": {},
   "source": [
    "## Exercise 14"
   ]
  },
  {
   "cell_type": "markdown",
   "metadata": {},
   "source": [
    "#### My Solution"
   ]
  },
  {
   "cell_type": "code",
   "execution_count": 61,
   "metadata": {},
   "outputs": [
    {
     "name": "stdout",
     "output_type": "stream",
     "text": [
      "The Sum of the squares is: 4749.0\n"
     ]
    }
   ],
   "source": [
    "def main():\n",
    "    \n",
    "    # Make variables with the names of the files\n",
    "    infileName = 'Num_14.txt'\n",
    "    outfileName = 'Num_142.txt'\n",
    "    \n",
    "    #Open our two files\n",
    "    infile = open(infileName, 'r')\n",
    "    outfile = open(outfileName, 'w')\n",
    "    \n",
    "    # Makes a list from the numbers in the file\n",
    "    fileList = infile.readlines()\n",
    "    fileList2 = []\n",
    "\n",
    "    # Gets rid of the \\n character at the end of each number\n",
    "    for line in fileList:\n",
    "        if '\\n' in line:\n",
    "            fileList2.append(line[0:-1])\n",
    "        else:\n",
    "            fileList2.append(line[0:]) # The last line doesn't have a newline so this takes care of that\n",
    "\n",
    "    # Convertes our numbers in string format to floats\n",
    "    toNumbers2(fileList2)\n",
    "    \n",
    "    # Tells in the outfile what the source file was\n",
    "    print(f\"Original Data: {infileName}\", file=outfile)\n",
    "    print('\\n', file=outfile)\n",
    "    \n",
    "    # Sets the start of where the sum of numbers will be\n",
    "    print('Sum of all Numbers', file=outfile)\n",
    "    print('_________', file = outfile)\n",
    "    \n",
    "    # Calculates the sum of all the numbers and adds it to the outfile\n",
    "    sumNumbers = sumList(fileList2)\n",
    "    print(sumNumbers, file = outfile)\n",
    "    \n",
    "    # Sets where thr squres of each number will be\n",
    "    print('\\n', file=outfile)\n",
    "    print('Squared Numbers', file = outfile)\n",
    "    print('_________', file = outfile)\n",
    "    \n",
    "    # Squares all of the numbers\n",
    "    squareEach(fileList2)\n",
    "    \n",
    "    # Appends each squared number into the outfile\n",
    "    for number in fileList2:\n",
    "        print(number, file = outfile)\n",
    "        \n",
    "    # Gives the sum of the squares\n",
    "    print('\\n', file=outfile)\n",
    "    sumSquares = sumList(fileList2)\n",
    "    print(f\"The Sum of the squares is: {sumSquares}\")\n",
    "    print(f\"The Sum of the squares is: {sumSquares}\", file=outfile)\n",
    "        \n",
    "    #Close both the files\n",
    "    infile.close()\n",
    "    outfile.close()\n",
    "    \n",
    "main()"
   ]
  },
  {
   "cell_type": "markdown",
   "metadata": {},
   "source": [
    "#### Book Solution"
   ]
  },
  {
   "cell_type": "code",
   "execution_count": 54,
   "metadata": {},
   "outputs": [
    {
     "name": "stdout",
     "output_type": "stream",
     "text": [
      "Program to find sum of squares from numbers in a file\n",
      "Enter filename: Num_14.txt\n",
      "Sum of squares: 4749.0\n"
     ]
    }
   ],
   "source": [
    "# c06ex14.py\n",
    "#    sum of squares from file\n",
    "\n",
    "def toNumbers(strList):\n",
    "    for i in range(len(strList)):\n",
    "        strList[i] = float(strList[i])\n",
    "\n",
    "def sumList(nums):\n",
    "    total = 0\n",
    "    for n in nums:\n",
    "        total = total + n\n",
    "    return total\n",
    "\n",
    "def squareEach(nums):\n",
    "    for i in range(len(nums)):\n",
    "        nums[i] = nums[i]**2\n",
    "\n",
    "def main():\n",
    "    print(\"Program to find sum of squares from numbers in a file\")\n",
    "    fname = input(\"Enter filename: \")\n",
    "    data = open(fname,'r').readlines()\n",
    "    toNumbers(data)\n",
    "    squareEach(data)\n",
    "    print(\"Sum of squares:\", sumList(data))\n",
    "\n",
    "main()"
   ]
  },
  {
   "cell_type": "markdown",
   "metadata": {},
   "source": [
    "## Exercise 15"
   ]
  },
  {
   "cell_type": "markdown",
   "metadata": {},
   "source": [
    "#### My Solution"
   ]
  },
  {
   "cell_type": "code",
   "execution_count": 1,
   "metadata": {},
   "outputs": [],
   "source": [
    "def drawFace(center, size, win):\n",
    "    \n",
    "    #Draws the circle for the face\n",
    "    face_outline = Circle(center,size)\n",
    "    face_outline.setFill('yellow')\n",
    "    face_outline.draw(win)\n",
    "    \n",
    "    # Draws the eyes\n",
    "    p1= center.getX()\n",
    "    p2 = center.getY()\n",
    "    center2= Point(p1-1,p2+1)\n",
    "    eye1 = Circle(center2,.2)\n",
    "    eye1.setFill('Black')\n",
    "    eye1.draw(win)\n",
    "    \n",
    "    p3= center.getX()\n",
    "    p4 = center.getY()\n",
    "    center3= Point(p3+1,p4+1)\n",
    "    eye2 = Circle(center3,.2)\n",
    "    eye2.setFill('Black')\n",
    "    eye2.draw(win)\n",
    "    \n",
    "    #Draw the mouth\n",
    "    mouth =Line(Point(p1-2,p2-2), Point((p3+2), p4-2))\n",
    "    mouth.draw(win)"
   ]
  },
  {
   "cell_type": "code",
   "execution_count": 4,
   "metadata": {},
   "outputs": [],
   "source": [
    "from graphics import *\n",
    "win1 = GraphWin('Test',400,400)\n",
    "win1.setCoords(-20,-20,20,20)\n",
    "\n",
    "drawFace(Point(5,5),5, win1)\n",
    "win1.getMouse()\n",
    "win1.close()"
   ]
  },
  {
   "cell_type": "markdown",
   "metadata": {},
   "source": [
    "#### Book Solution"
   ]
  },
  {
   "cell_type": "code",
   "execution_count": 3,
   "metadata": {},
   "outputs": [],
   "source": [
    "# c06ex15.py\n",
    "#   face drawing program\n",
    "\n",
    "\n",
    "from graphics import *\n",
    "\n",
    "def drawFace(center, size, window):\n",
    "    eyeSize = 0.15 * size\n",
    "    eyeOff = size / 3.0\n",
    "    mouthSize = 0.8 * size\n",
    "    mouthOff = size / 2.0\n",
    "    head = Circle(center, size)\n",
    "    head.setFill(\"yellow\")\n",
    "    head.draw(window)\n",
    "    leftEye = Circle(center, eyeSize)\n",
    "    leftEye.move(-eyeOff, -eyeOff)\n",
    "    rightEye = Circle(center, eyeSize)\n",
    "    rightEye.move(eyeOff, -eyeOff)\n",
    "    leftEye.draw(window)\n",
    "    rightEye.draw(window)\n",
    "    p1 = center.clone()\n",
    "    p1.move(-mouthSize/2, mouthOff)\n",
    "    p2 = center.clone()\n",
    "    p2.move(mouthSize/2, mouthOff)\n",
    "    mouth = Line(p1,p2)\n",
    "    mouth.draw(window)\n",
    "\n",
    "def test():\n",
    "    win = GraphWin(\"Faces\")\n",
    "    drawFace(Point(50,50), 10, win)\n",
    "    drawFace(Point(100,100), 20, win)\n",
    "    drawFace(Point(150,150), 30, win)\n",
    "    win.getMouse()\n",
    "    win.close()\n",
    "    \n",
    "\n",
    "test()"
   ]
  },
  {
   "cell_type": "markdown",
   "metadata": {},
   "source": [
    "## Exercise 16"
   ]
  },
  {
   "cell_type": "markdown",
   "metadata": {},
   "source": [
    "#### My Solution"
   ]
  },
  {
   "cell_type": "code",
   "execution_count": 3,
   "metadata": {},
   "outputs": [],
   "source": [
    "def drawFace(center, size, win):\n",
    "    \n",
    "    #Draws the circle for the face\n",
    "    face_outline = Circle(center,size)\n",
    "    face_outline.setFill('yellow')\n",
    "    face_outline.draw(win)\n",
    "    \n",
    "    # Draws the eyes\n",
    "    p1= center.getX()\n",
    "    p2 = center.getY()\n",
    "    center2= Point(p1-1,p2+1)\n",
    "    eye1 = Circle(center2,.2)\n",
    "    eye1.setFill('Black')\n",
    "    eye1.draw(win)\n",
    "    \n",
    "    p3= center.getX()\n",
    "    p4 = center.getY()\n",
    "    center3= Point(p3+1,p4+1)\n",
    "    eye2 = Circle(center3,.2)\n",
    "    eye2.setFill('Black')\n",
    "    eye2.draw(win)\n",
    "    \n",
    "    #Draw the mouth\n",
    "    mouth =Line(Point(p1-1,p2-1), Point((p3+1), p4-1))\n",
    "    mouth.draw(win)"
   ]
  },
  {
   "cell_type": "code",
   "execution_count": 5,
   "metadata": {},
   "outputs": [
    {
     "name": "stdout",
     "output_type": "stream",
     "text": [
      "How many faces are in the photo? 2\n"
     ]
    }
   ],
   "source": [
    "from graphics import *\n",
    "import math\n",
    "\n",
    "def face_cover():\n",
    "    \n",
    "    # Get the number of faces in the photo\n",
    "    face_num = int(input(\"How many faces are in the photo? \"))\n",
    "    \n",
    "    # Draws the image\n",
    "    image2 = Image(Point(0,0), \"canoe.gif\")\n",
    "    win = GraphWin(\"Picture\", 700,500)\n",
    "    win.setCoords(-20,-20,20,20)\n",
    "    image2.draw(win)\n",
    "    \n",
    "    #While loop that lets you draw as many faces as there have been identified in the picture\n",
    "    counter = 0\n",
    "    while counter < face_num:\n",
    "        click1 = win.getMouse()\n",
    "        click2 = win.getMouse()\n",
    "        \n",
    "        x1 = click1.getX()\n",
    "        x2 = click2.getX()\n",
    "        y1 = click1.getY()\n",
    "        y2 = click2.getY()\n",
    "        size = math.sqrt((x2 - x1)**2 + (y2 - y1)**2)\n",
    "        \n",
    "\n",
    "        drawFace(click1, size, win)\n",
    "        counter +=1\n",
    "        \n",
    "    # Close the window\n",
    "    win.getMouse()\n",
    "    win.close()\n",
    "    \n",
    "face_cover()"
   ]
  },
  {
   "cell_type": "markdown",
   "metadata": {},
   "source": [
    "#### Book Solution"
   ]
  },
  {
   "cell_type": "code",
   "execution_count": 6,
   "metadata": {},
   "outputs": [
    {
     "name": "stdout",
     "output_type": "stream",
     "text": [
      "Photo Anonymizer: Draw faces over pictures.\n",
      "Enter name of file containing GIF image: canoe.gif\n",
      "How many faces to draw? 2\n",
      "Click center and edge of a face.\n",
      "Click center and edge of a face.\n",
      "Click again to quit.\n"
     ]
    }
   ],
   "source": [
    "# c06ex16.py\n",
    "#   face drawing program\n",
    "\n",
    "\n",
    "from graphics import *\n",
    "\n",
    "def drawFace(center, size, window):\n",
    "    eyeSize = 0.15 * size\n",
    "    eyeOff = size / 3.0\n",
    "    mouthSize = 0.8 * size\n",
    "    mouthOff = size / 2.0\n",
    "    head = Circle(center, size)\n",
    "    head.setFill(\"yellow\")\n",
    "    head.draw(window)\n",
    "    leftEye = Circle(center, eyeSize)\n",
    "    leftEye.move(-eyeOff, -eyeOff)\n",
    "    rightEye = Circle(center, eyeSize)\n",
    "    rightEye.move(eyeOff, -eyeOff)\n",
    "    leftEye.draw(window)\n",
    "    rightEye.draw(window)\n",
    "    p1 = center.clone()\n",
    "    p1.move(-mouthSize/2, mouthOff)\n",
    "    p2 = center.clone()\n",
    "    p2.move(mouthSize/2, mouthOff)\n",
    "    mouth = Line(p1,p2)\n",
    "    mouth.draw(window)\n",
    "\n",
    "def interactiveFace(w):\n",
    "    center = w.getMouse()\n",
    "    edge = w.getMouse()\n",
    "    radius = distance(center, edge)\n",
    "    drawFace(center, radius, w)\n",
    "\n",
    "def distance(p1, p2):\n",
    "    dx = p2.getX() - p1.getX()\n",
    "    dy = p2.getY() - p1.getY()\n",
    "    return (dx*dx + dy*dy)**.5\n",
    "\n",
    "def createPicWin(picFile):\n",
    "    img = Image(Point(0,0),picFile)\n",
    "    width = img.getWidth()\n",
    "    height = img.getHeight()\n",
    "    win = GraphWin(picFile, width, height)\n",
    "    img.move(width//2, height//2)\n",
    "    img.draw(win)\n",
    "    return win\n",
    "    \n",
    "def main():\n",
    "    print(\"Photo Anonymizer: Draw faces over pictures.\")\n",
    "    picFile = input(\"Enter name of file containing GIF image: \")\n",
    "    win = createPicWin(picFile)\n",
    "    numFaces = int(input(\"How many faces to draw? \"))\n",
    "    for i in range(numFaces):\n",
    "        print(\"Click center and edge of a face.\")\n",
    "        interactiveFace(win)\n",
    "    print(\"Click again to quit.\")\n",
    "    win.getMouse()\n",
    "    win.close()\n",
    "    \n",
    "main()"
   ]
  },
  {
   "cell_type": "markdown",
   "metadata": {},
   "source": [
    "## Exercise 17"
   ]
  },
  {
   "cell_type": "markdown",
   "metadata": {},
   "source": [
    "#### My Solution"
   ]
  },
  {
   "cell_type": "code",
   "execution_count": 10,
   "metadata": {},
   "outputs": [],
   "source": [
    "def moveTo(shape,center):\n",
    "    point1 = shape.getP1()\n",
    "    point2 = shape.getP2()\n",
    "    \n",
    "    point1X = point1.getX()\n",
    "    point1Y = point1.getY()\n",
    "    \n",
    "    point2X = point2.getX()\n",
    "    point2Y = point2.getY()\n",
    "    \n",
    "    x1 = center.getX()\n",
    "    y1 = center.getY()\n",
    "    \n",
    "    moveX = x1 + point1X\n",
    "    moveY = y1 + point1Y\n",
    "    shape.move(moveX,moveY)"
   ]
  },
  {
   "cell_type": "code",
   "execution_count": 6,
   "metadata": {},
   "outputs": [],
   "source": [
    "def moveTo(shape, center):\n",
    "    x1 = center.getX()\n",
    "    y1 = center.getY()\n",
    "    shape.move(x1,y1)"
   ]
  },
  {
   "cell_type": "code",
   "execution_count": 3,
   "metadata": {},
   "outputs": [],
   "source": [
    "def moveTo(shape,newCenter):\n",
    "    center = shape.getCenter()\n",
    "    \n",
    "    dx = newCenter.getX() - center.getX()\n",
    "    dy = newCenter.getY() - center.getY()\n",
    "    \n",
    "    shape.move(dx,dy)"
   ]
  },
  {
   "cell_type": "code",
   "execution_count": 4,
   "metadata": {},
   "outputs": [],
   "source": [
    "from graphics import *\n",
    "\n",
    "def main():\n",
    "    \n",
    "    win = GraphWin(\"Move Shape\", 500,500)\n",
    "    win.setCoords(-20,-20,20,20)\n",
    "    \n",
    "    rectangle = Rectangle(Point(0,0), Point(5,5))\n",
    "    rectangle.draw(win)\n",
    "    \n",
    "    counter = 0\n",
    "    while counter < 10:\n",
    "        center = win.getMouse()\n",
    "        moveTo(rectangle, center)\n",
    "        counter += 1\n",
    "    \n",
    "    win.getMouse()\n",
    "    win.close()\n",
    "    \n",
    "main()"
   ]
  },
  {
   "cell_type": "code",
   "execution_count": null,
   "metadata": {},
   "outputs": [],
   "source": []
  }
 ],
 "metadata": {
  "kernelspec": {
   "display_name": "Python 3",
   "language": "python",
   "name": "python3"
  },
  "language_info": {
   "codemirror_mode": {
    "name": "ipython",
    "version": 3
   },
   "file_extension": ".py",
   "mimetype": "text/x-python",
   "name": "python",
   "nbconvert_exporter": "python",
   "pygments_lexer": "ipython3",
   "version": "3.7.3"
  }
 },
 "nbformat": 4,
 "nbformat_minor": 2
}
