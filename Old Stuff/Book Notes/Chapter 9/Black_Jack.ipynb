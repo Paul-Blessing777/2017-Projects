{
 "cells": [
  {
   "cell_type": "code",
   "execution_count": null,
   "metadata": {},
   "outputs": [],
   "source": [
    "from random import randrange\n",
    "\n",
    "def add_cards(players_hands,players,dealer_hand,players_in):\n",
    "    add = False\n",
    "    counter = -1\n",
    "    cards = {1:0,2:2,3:3,4:4,5:5,6:6,7:7,8:8,9:9,10:10,11:10,12:10}\n",
    "    new_hand = players_hands\n",
    "    end = False\n",
    "    \n",
    "    for i in players_hands:\n",
    "        counter += 1\n",
    "        new_card = randrange(1,13)\n",
    "        win3 = AddingCards(players[0+counter],players_hands[0+counter])\n",
    "        choice = win3.interact()\n",
    "        if choice == \"Done\":\n",
    "            win3.close()\n",
    "        while choice != 'Done':\n",
    "            if choice == \"Add\":\n",
    "                if is_ace(cards[new_card]) == True:\n",
    "                    new_card = ace_value(players_hands[0+counter])\n",
    "                    new_hand[0+counter] += new_card\n",
    "                    print(f\"{players[0+counter]}: new card added to hand {new_card}\")\n",
    "                    print(f\"{players[0+counter]}: Hand is now: {new_hand[0+counter]}\")\n",
    "                    win3.update(players[0+counter],new_hand[0+counter],new_card)\n",
    "                    if game_check2(new_hand[0+counter],dealer_hand)[0] == 'out':\n",
    "                        players_in[0+counter] = remove_players(players_in,new_hand,players)[2]\n",
    "                        win3.update(players[0+counter],new_hand[0+counter],new_card)\n",
    "                        choice2 = win3.interact()\n",
    "                        while choice2 != 'Done':\n",
    "                            choice2 = win3.interact()\n",
    "                        win3.close()\n",
    "                        break\n",
    "                    choice2 = win3.interact()\n",
    "                    if choice2 == \"Done\":\n",
    "                        win3.close()\n",
    "                        break\n",
    "                else:\n",
    "                    new_card = cards[new_card]\n",
    "                    new_hand[0+counter] += new_card\n",
    "                    print(f\"{players[0+counter]}: New card added to hand {new_card}\")\n",
    "                    print(f\"{players[0+counter]}: Hand is now: {new_hand[0+counter]}\")\n",
    "                    win3.update(players[0+counter],new_hand[0+counter],new_card)\n",
    "                    if game_check2(new_hand[0+counter],dealer_hand)[0] == 'out':\n",
    "                        win3.update(players[0+counter],new_hand[0+counter],new_card)\n",
    "                        choice2 = win3.interact()\n",
    "                        while choice2 != 'Done':\n",
    "                            choice2 = win3.interact()\n",
    "                        win3.close()\n",
    "                        break\n",
    "                    choice2 = win3.interact()\n",
    "                    if choice2 == \"Done\":\n",
    "                        win3.close()\n",
    "                        break\n",
    "                    else:\n",
    "                        continue\n",
    "            elif choice == \"Done\":\n",
    "                win3.close()\n",
    "                break\n",
    "                        \n",
    "    players_in2 = game_check_new(new_hand,dealer_hand,players,players_in)[2]\n",
    "    players_hands2,players_in3,players2 = remove_players(players_in2,new_hand,players)\n",
    "    return players_hands2,players_in3,players2\n",
    "\n"
   ]
  },
  {
   "cell_type": "code",
   "execution_count": null,
   "metadata": {},
   "outputs": [],
   "source": [
    "from random import randrange\n",
    "\n",
    "def add_cards(players_hands,players,dealer_hand,players_in):\n",
    "    add = False\n",
    "    counter = -1\n",
    "    cards = {1:0,2:2,3:3,4:4,5:5,6:6,7:7,8:8,9:9,10:10,11:10,12:10}\n",
    "    new_hand = players_hands\n",
    "    end = False\n",
    "    \n",
    "    for i in players_hands:\n",
    "        counter += 1\n",
    "        new_card = randrange(1,13)\n",
    "        win3 = AddingCards(players[0+counter],players_hands[0+counter])\n",
    "        choice = win3.interact()\n",
    "        if choice == \"Done\":\n",
    "            win3.close()\n",
    "        while choice != 'Done':\n",
    "            if choice == \"Add\":\n",
    "                if is_ace(cards[new_card]) == True:\n",
    "                    new_card = ace_value(players_hands[0+counter])\n",
    "                    new_hand[0+counter] += new_card\n",
    "                    print(f\"{players[0+counter]}: new card added to hand {new_card}\")\n",
    "                    print(f\"{players[0+counter]}: Hand is now: {new_hand[0+counter]}\")\n",
    "                    win3.update(players[0+counter],new_hand[0+counter],new_card)\n",
    "                    if game_check2(new_hand[0+counter],dealer_hand)[0] == 'out':\n",
    "                        players_in[0+counter] = remove_players(players_in,new_hand,players)[2]\n",
    "                        win3.update(players[0+counter],new_hand[0+counter],new_card)\n",
    "                        choice2 = win3.interact()\n",
    "                        while choice2 != 'Done':\n",
    "                            choice2 = win3.interact()\n",
    "                        win3.close()\n",
    "                        break\n",
    "                    choice2 = win3.interact()\n",
    "                    if choice2 == \"Done\":\n",
    "                        win3.close()\n",
    "                        break\n",
    "                else:\n",
    "                    new_card = cards[new_card]\n",
    "                    new_hand[0+counter] += new_card\n",
    "                    print(f\"{players[0+counter]}: New card added to hand {new_card}\")\n",
    "                    print(f\"{players[0+counter]}: Hand is now: {new_hand[0+counter]}\")\n",
    "                    win3.update(players[0+counter],new_hand[0+counter],new_card)\n",
    "                    if game_check2(new_hand[0+counter],dealer_hand)[0] == 'out':\n",
    "                        win3.update(players[0+counter],new_hand[0+counter],new_card)\n",
    "                        choice2 = win3.interact()\n",
    "                        while choice2 != 'Done':\n",
    "                            choice2 = win3.interact()\n",
    "                        win3.close()\n",
    "                        break\n",
    "                    choice2 = win3.interact()\n",
    "                    if choice2 == \"Done\":\n",
    "                        win3.close()\n",
    "                        break\n",
    "                    else:\n",
    "                        continue\n",
    "            elif choice == \"Done\":\n",
    "                win3.close()\n",
    "                break\n",
    "                        \n",
    "    players_in2 = game_check_new(new_hand,dealer_hand,players,players_in)[2]\n",
    "    players_hands2,players_in3,players2 = remove_players(players_in2,new_hand,players)\n",
    "    return players_hands2,players_in3,players2"
   ]
  },
  {
   "cell_type": "code",
   "execution_count": null,
   "metadata": {},
   "outputs": [],
   "source": [
    "add_cards([10,15,6],['Player1', 'Player2', 'Player3'],18,[True,True,True])"
   ]
  },
  {
   "cell_type": "code",
   "execution_count": 60,
   "metadata": {},
   "outputs": [],
   "source": [
    "new = randrange(1,13)"
   ]
  },
  {
   "cell_type": "code",
   "execution_count": 61,
   "metadata": {},
   "outputs": [
    {
     "name": "stdout",
     "output_type": "stream",
     "text": [
      "3\n"
     ]
    }
   ],
   "source": [
    "print(new)"
   ]
  },
  {
   "cell_type": "code",
   "execution_count": 22,
   "metadata": {},
   "outputs": [],
   "source": [
    "from random import randrange\n",
    "\n",
    "def add_cards(players_hands,players,dealer_hand,players_in):\n",
    "    add = False\n",
    "    counter = -1\n",
    "    cards = {1:0,2:2,3:3,4:4,5:5,6:6,7:7,8:8,9:9,10:10,11:10,12:10}\n",
    "    new_hand = players_hands\n",
    "    end = False\n",
    "    \n",
    "    for i in players_hands:\n",
    "        counter += 1\n",
    "        win3 = AddingCards(players[0+counter],players_hands[0+counter])\n",
    "        choice = win3.interact()\n",
    "        if choice == \"Add\":\n",
    "            add = True\n",
    "            new_card = randrange(1,13)\n",
    "            while add == True:\n",
    "                if is_ace(cards[new_card]) == True:\n",
    "                    new_card = ace_value(players_hands[0+counter])\n",
    "                    new_hand[0+counter] += new_card\n",
    "                    print(f\"{players[0+counter]}: new card added to hand {new_card}\")\n",
    "                    print(f\"{players[0+counter]}: Hand is now: {new_hand[0+counter]}\")\n",
    "                    win3.update(players[0+counter],new_hand[0+counter],new_card)\n",
    "                    if game_check2(new_hand[0+counter],dealer_hand)[0] == 'out':\n",
    "                        players_in[0+counter] = remove_players(players_in,new_hand,players)[2]\n",
    "                        win3.update(players[0+counter],new_hand[0+counter],new_card)\n",
    "                        choice2 = win3.interact()\n",
    "                        while choice2 != 'Done':\n",
    "                            choice2 = win3.interact()\n",
    "                        win3.close()\n",
    "                        add = False\n",
    "                        break\n",
    "                    choice2 = win3.interact()\n",
    "                    if choice2 == \"Done\":\n",
    "                        add = False\n",
    "                        win3.close()\n",
    "                    else:\n",
    "                        new_card = cards[new_card]\n",
    "                        new_hand[0+counter] += new_card\n",
    "                        print(f\"{players[0+counter]}: New card added to hand {new_card}\")\n",
    "                        print(f\"{players[0+counter]}: Hand is now: {new_hand[0+counter]}\")\n",
    "                        win3.update(players[0+counter],new_hand[0+counter],new_card)\n",
    "                        if game_check2(new_hand[0+counter],dealer_hand)[0] == 'out':\n",
    "                            win3.update(players[0+counter],new_hand[0+counter],new_card)\n",
    "                            choice2 = win3.interact()\n",
    "                            while choice2 != 'Done':\n",
    "                                choice2 = win3.interact()\n",
    "                            win3.close()\n",
    "                            add = False\n",
    "                            break\n",
    "                        choice2 = win3.interact()\n",
    "                        if choice2 == \"Done\":\n",
    "                            win3.close()\n",
    "                            add = False\n",
    "                        else:\n",
    "                            continue\n",
    "        elif choice == \"Done\":\n",
    "            win3.close()\n",
    "            continue\n",
    "                        \n",
    "    players_in2 = game_check_new(new_hand,dealer_hand,players,players_in)[2]\n",
    "    players_hands2,players_in3,players2 = remove_players(players_in2,new_hand,players)\n",
    "    return players_hands2,players_in3,players2"
   ]
  },
  {
   "cell_type": "code",
   "execution_count": null,
   "metadata": {},
   "outputs": [],
   "source": [
    "#one,two,three = add_cards([10,15,6],['Player1', 'Player2', 'Player3'],18,[True,True,True])\n",
    "add_cards([10,15,6],['Player1', 'Player2', 'Player3'],18,[True,True,True])"
   ]
  },
  {
   "cell_type": "code",
   "execution_count": 200,
   "metadata": {},
   "outputs": [],
   "source": [
    "def game_check_new(players_hands,dealer_hand,players,players_in):\n",
    "    \n",
    "    win = []\n",
    "    counter = 0\n",
    "    end = False\n",
    "    players_in2 = players_in\n",
    "    draw = False\n",
    "    \n",
    "    if players_hands != []:\n",
    "        for i in players_hands:\n",
    "            if players_hands[0+counter] == 21:\n",
    "                win.append(players[0+counter])\n",
    "            elif players_hands[0+counter] > 21 and dealer_hand <= 21:\n",
    "                print(f\"Sorry {players[0+counter]} you went bust! You Lose\")\n",
    "                #win = 'player_out'\n",
    "                players_in2[0+counter] = False\n",
    "            counter +=1\n",
    "    else:\n",
    "        end = True\n",
    "        print(f\"All players busted! The dealer Wins!\")\n",
    "        win = 'dealer'\n",
    "        \n",
    "    if win != [] and dealer_hand == 21:\n",
    "        print(f\"Woah looks like a draw! B/W {win} and the dealer\")\n",
    "        end = 'draw'\n",
    "    elif win != [] and dealer_hand != 21:\n",
    "        print(f\"Congratz {win} you hit 21!\")\n",
    "        end = True\n",
    "    elif win == [] and dealer_hand == 21:\n",
    "        print('Sorry the Dealer hit 21. You lose!')\n",
    "        end = True\n",
    "        win = 'dealer'\n",
    "    elif win == [] and dealer_hand >= 17 and dealer_hand < 21:\n",
    "        end = 'Special'\n",
    "    elif win == [] and dealer_hand > 21:\n",
    "        end = 'dealer_bust'\n",
    "    \n",
    "        \n",
    "    return end, win, players_in2"
   ]
  },
  {
   "cell_type": "code",
   "execution_count": 201,
   "metadata": {},
   "outputs": [
    {
     "name": "stdout",
     "output_type": "stream",
     "text": [
      "Congratz ['Player1'] you hit 21!\n"
     ]
    },
    {
     "data": {
      "text/plain": [
       "(True, ['Player1'], [True, True])"
      ]
     },
     "execution_count": 201,
     "metadata": {},
     "output_type": "execute_result"
    }
   ],
   "source": [
    "game_check_new([21,13],18,['Player1', 'Player2'],[True,True])"
   ]
  },
  {
   "cell_type": "code",
   "execution_count": 206,
   "metadata": {},
   "outputs": [],
   "source": [
    "\n",
    "\n",
    "def black_jack():\n",
    "    \n",
    "    # Initalize variables\n",
    "    game_over = False\n",
    "    counter = 0\n",
    "    \n",
    "    # Finds out how many players there will be: max 5\n",
    "    n_players = int(input('How many players are there? (Max 5):'))\n",
    "    while n_players < 1 or n_players > 5:\n",
    "        n_players = int(input('How many players are there? (Max 5):'))\n",
    "        \n",
    "    # Creates a list of players, and a list of players still in the game (T/F)\n",
    "    player_list,players_in = create_players(n_players)\n",
    "    \n",
    "    \n",
    "    # Get's the players' and dealer's hands\n",
    "    players_cards, players_hands = get_initial_hand(player_list)\n",
    "    #players_hands = [15]\n",
    "    dealer_hand, hidden_card = get_dealer_hand()\n",
    "    #dealer_hand, hidden_card = 10, 5\n",
    "    #show_hands(players_hands,player_list)\n",
    "    \n",
    "    \"\"\"Shows the dealer's hand and one of their cards\"\"\"\n",
    "    dealer_win = DealerHand(dealer_hand,dealer_hand-hidden_card)\n",
    "    while True:\n",
    "        choice = dealer_win.interact()\n",
    "        if choice == \"Done\":\n",
    "            dealer_win.close()\n",
    "            break\n",
    "    \n",
    "    \"\"\"Shows The players their hands\"\"\"\n",
    "    inputwin = ShowHand(player_list[0])\n",
    "    counterSpecial = 0\n",
    "    for i in player_list:\n",
    "        while True:\n",
    "            choice = inputwin.interact()\n",
    "            if choice == \"Hand\":\n",
    "                inputwin.update(player_list[0+counterSpecial],players_hands[0+counterSpecial])\n",
    "            elif choice == \"Done\":\n",
    "                inputwin.update(0,0)\n",
    "                counterSpecial += 1\n",
    "                #window.close()\n",
    "                break\n",
    "    inputwin.close()\n",
    "    \n",
    "\n",
    "        \n",
    "    # Checks for a game over\n",
    "    game_over, win, players_in2 = game_check_new(players_hands,dealer_hand,player_list,players_in)\n",
    "    \n",
    "    \"\"\"In case of a rare first hand == 21 shows the players hands\"\"\"\n",
    "    if game_over == True:\n",
    "        #print(f\"Congratz {win}! You hit the 21!\")\n",
    "        win1 = GameOver(game_over,win)\n",
    "        choice = win1.interact()\n",
    "        while True:\n",
    "            if choice == \"Quit\":\n",
    "                win1.close()\n",
    "                break\n",
    "        print(f\"The Dealers hidden card was {hidden_card} there other card {dealer_hand-hidden_card} for a total hand of {dealer_hand}\")\n",
    "        show_hands(players_hands,player_list)\n",
    "    elif game_over == 'draw':\n",
    "        #print(f\"Draw between {win} and the dealer! All hit 21\")\n",
    "        win1 = GameOver(game_over,win)\n",
    "        choice = win1.interact()\n",
    "        while True:\n",
    "            if choice == \"Quit\":\n",
    "                win1.close()\n",
    "                break\n",
    "        print(f\"The Dealers hidden card was {hidden_card} there other card {dealer_hand-hidden_card} for a total hand of {dealer_hand}\")\n",
    "        game_over = True\n",
    "    # Makes sure the game hasn't ended\n",
    "    if game_over != True:\n",
    "        clear_output()\n",
    "    \n",
    "    \n",
    "    \n",
    "        # Remove Players who have busted\n",
    "        players_hands2,players_in3,player_list2 = remove_players(players_in2,players_hands,player_list)\n",
    "        \n",
    "        \"\"\"Allow players to add cards if they'd like\"\"\"\n",
    "        players_hands3,players_in4,player_list3 = add_cards(players_hands2,player_list2,dealer_hand,players_in3)\n",
    "        clear_output()\n",
    "        show_hands(players_hands3,player_list3)\n",
    "\n",
    "        # Checks for game over\n",
    "        game_over, win, pp = game_check_new(players_hands3,dealer_hand,player_list3,players_in4)\n",
    "        if win == 'dealer':\n",
    "            win1 = GameOver(game_over,win)\n",
    "            choice = win1.interact()\n",
    "            while True:\n",
    "                if choice == \"Quit\":\n",
    "                    win1.close()\n",
    "                    break\n",
    "        elif game_over == True:\n",
    "            win1 = GameOver(game_over,win)\n",
    "            choice = win1.interact()\n",
    "            while True:\n",
    "                if choice == \"Quit\":\n",
    "                    win1.close()\n",
    "                    break\n",
    "       \n",
    "        # Reveals the dealer's hidden card and their total hand\n",
    "        print(f\"The Dealers hidden card was {hidden_card} there other card {dealer_hand-hidden_card} for a total hand of {dealer_hand}\")\n",
    "        \n",
    "        # Runs until we've reached an game over state\n",
    "        while game_over != True:\n",
    "            # If the dealer lands b/w 17 and 21 they are set and it checks for a winner\n",
    "                if dealer_hand >= 17 and dealer_hand <= 21:\n",
    "                    game_over = game_check_new(players_hands3,dealer_hand,player_list3,players_in4)[0]\n",
    "                    win = game_check_new(players_hands3,dealer_hand,player_list3,players_in4)[1]\n",
    "                    #win1 = GameOver(game_over,win)\n",
    "                    if game_over == 'dealer_bust':\n",
    "                        highest, winners = highest_score(players_hands3,player_list3)\n",
    "                        win1 = GameOver(game_over,winners)\n",
    "                        choice = win1.interact()\n",
    "                        while True:\n",
    "                            if choice == \"Quit\":\n",
    "                                win1.close()\n",
    "                                break\n",
    "                        print(f\"Congratz {winners}! You had the highest Score and the dealer busted!\")\n",
    "                        game_over = True\n",
    "                        break\n",
    "                    elif game_over == 'Special':\n",
    "                        print(f\"Hit the special where dealer is between 17 and 21\")\n",
    "                        # Compares the dealer's hand to the remaning players for the winner\n",
    "                        highest, winner = highest_score(players_hands3,player_list3)\n",
    "                        dealer_hand,win, best,loser = final_compare(highest,winner,dealer_hand)\n",
    "                        win8 = GameOverSpecial(win,winner,best,loser)\n",
    "                        choice = win8.interact()\n",
    "                        while True:\n",
    "                            if choice == 'Quit':\n",
    "                                win8.close()\n",
    "                                break\n",
    "                        game_over = True\n",
    "                        break\n",
    "                else:\n",
    "                    # Keeps adding cards until the dealer hits b/w 17-21 or busts\n",
    "                    counter +=1\n",
    "                    dealer_hand = add_card(dealer_hand)\n",
    "                    print()\n",
    "                    print(f'{counter} cards added: New dealer hand {dealer_hand}')\n",
    "                    game_over,win, players_in = game_check_new(players_hands3,dealer_hand,player_list3,players_in4)\n",
    "                    if win == 'dealer':\n",
    "                        win1 = GameOver(game_over,win)\n",
    "                        choice = win1.interact()\n",
    "                        while True:\n",
    "                            if choice == \"Quit\":\n",
    "                                win1.close()\n",
    "                                break\n",
    "\n",
    "                    # If the dealer busts looks for who had the highest score out of remaining players\n",
    "                if game_over == 'dealer_bust':\n",
    "                    highest, winners = highest_score(players_hands3,player_list3)\n",
    "                    dealer_hand,win, best,loser = final_compare(highest,winners,dealer_hand)\n",
    "                    win8 = GameOverSpecial(win,winners,best,loser)\n",
    "                    choice = win8.interact()\n",
    "                    while True:\n",
    "                        if choice == 'Quit':\n",
    "                            win8.close()\n",
    "                            break\n",
    "                    game_over = True\n",
    "                    break\n",
    "                continue\n"
   ]
  },
  {
   "cell_type": "code",
   "execution_count": 208,
   "metadata": {},
   "outputs": [
    {
     "name": "stdout",
     "output_type": "stream",
     "text": [
      "Player1's hand is: 19\n",
      "Player3's hand is: 20\n",
      "The Dealers hidden card was 10 there other card 3 for a total hand of 13\n",
      "New card added to hand 2\n",
      "\n",
      "1 cards added: New dealer hand 15\n",
      "New card added to hand 10\n",
      "\n",
      "2 cards added: New dealer hand 25\n"
     ]
    }
   ],
   "source": [
    "black_jack()"
   ]
  },
  {
   "cell_type": "code",
   "execution_count": null,
   "metadata": {},
   "outputs": [],
   "source": [
    "def add_cards(players_hands,players,dealer_hand,players_in):\n",
    "    add = True\n",
    "    counter = -1\n",
    "    cards = {1:0,2:2,3:3,4:4,5:5,6:6,7:7,8:8,9:9,10:10,11:10,12:10}\n",
    "    new_hand = players_hands\n",
    "    end = False\n",
    "    \n",
    "    for i in players_hands:\n",
    "        add = True\n",
    "        counter += 1\n",
    "        while add == True:\n",
    "            show_hand(players_hands[0+counter],players[0+counter])\n",
    "            #show_hands(players_hands[0+counter],players[0+counter])\n",
    "            status = input(f\"{players[0+counter]}: Would you like to add a card to your hand? (Y/N) \").upper()\n",
    "            if status == 'N':\n",
    "                #wait = input(\"Press any button, this will give the next player their turn. Don't look!\")\n",
    "                time.sleep(3)\n",
    "                clear_output()\n",
    "                add = False\n",
    "            else:\n",
    "                new_card = randrange(1,13)\n",
    "                #new_card = 1\n",
    "                if is_ace(cards[new_card]) == True:\n",
    "                    new_card = ace_value(players_hands[0+counter])\n",
    "                    new_hand[0+counter] += new_card\n",
    "                    print(f\"{players[0+counter]}: new card added to hand {new_card}\")\n",
    "                    print(f\"{players[0+counter]}: Hand is now: {new_hand[0+counter]}\")\n",
    "                    if game_check2(new_hand[0+counter],dealer_hand)[0] == 'out':\n",
    "                        players_in[0+counter] = remove_players(players_in,new_hand,players)[2]\n",
    "                        #wait = input(\"Press any button, this will give the next player their turn. Don't look!\")\n",
    "                        time.sleep(3)\n",
    "                        clear_output()\n",
    "                        add = False\n",
    "                        break\n",
    "                else:\n",
    "                    new_card = cards[new_card]\n",
    "                    new_hand[0+counter] += new_card\n",
    "                    print(f\"{players[0+counter]}: New card added to hand {new_card}\")\n",
    "                    print(f\"{players[0+counter]}: Hand is now: {new_hand[0+counter]}\")\n",
    "                    if game_check2(new_hand[0+counter],dealer_hand)[0] == 'out':\n",
    "                        #players_in[0+counter] = remove_players(players_in,new_hand,players)[2]\n",
    "                        #wait = input(\"Press any button, this will give the next player their turn. Don't look!\")\n",
    "                        time.sleep(3)\n",
    "                        clear_output()\n",
    "                        add = False\n",
    "                        break\n",
    "                        \n",
    "    players_in2 = game_check_new(new_hand,dealer_hand,players,players_in)[2]\n",
    "    players_hands2,players_in3,players2 = remove_players(players_in2,new_hand,players)\n",
    "    return players_hands2,players_in3,players2"
   ]
  },
  {
   "cell_type": "code",
   "execution_count": null,
   "metadata": {},
   "outputs": [
    {
     "name": "stdout",
     "output_type": "stream",
     "text": [
      "Player2's hand is: 15\n"
     ]
    }
   ],
   "source": [
    "#one,two,three = add_cards([10,15,6],['Player1', 'Player2', 'Player3'],18,[True,True,True])\n",
    "add_cards([10,15,6],['Player1', 'Player2', 'Player3'],18,[True,True,True])"
   ]
  },
  {
   "cell_type": "code",
   "execution_count": 40,
   "metadata": {},
   "outputs": [
    {
     "name": "stdout",
     "output_type": "stream",
     "text": [
      "[21, 15, 6] [True, True, True] ['Player1', 'Player2', 'Player3']\n"
     ]
    }
   ],
   "source": [
    "print(one,two,three)"
   ]
  },
  {
   "cell_type": "code",
   "execution_count": 2,
   "metadata": {},
   "outputs": [],
   "source": [
    "def show_hand(hand,player):\n",
    "    print(f\"{player}'s hand is: {hand}\")"
   ]
  },
  {
   "cell_type": "code",
   "execution_count": 3,
   "metadata": {},
   "outputs": [
    {
     "name": "stdout",
     "output_type": "stream",
     "text": [
      "Player2's hand is: 15\n"
     ]
    }
   ],
   "source": [
    "show_hand(15,'Player2')"
   ]
  },
  {
   "cell_type": "code",
   "execution_count": 21,
   "metadata": {},
   "outputs": [],
   "source": [
    "def game_check2(player_hand,dealer_hand):\n",
    " \n",
    "    win = ''\n",
    "    if player_hand == 21 and dealer_hand == 21:\n",
    "        #print(\"Woah looks like a draw!\")\n",
    "        win = 'draw'\n",
    "        return 'out', win\n",
    "    elif player_hand == 21:\n",
    "        #print(\"Congratz! You Won!\")\n",
    "        win = 'player'\n",
    "        return 'out',win\n",
    "    elif dealer_hand == 21:\n",
    "        #print(\"Sorry you lost! The dealer hit 21 and you didn't!\")\n",
    "        win = 'dealer'\n",
    "        return 'out', win\n",
    "    elif player_hand <= 21 and dealer_hand > 21:\n",
    "        #print(\"The dealer went bust! You win!\")\n",
    "        win = 'player'\n",
    "        return 'out', win\n",
    "    elif player_hand > 21 and dealer_hand <= 21:\n",
    "        #print(\"Sorry you went bust! You Lose\")\n",
    "        win = 'dealer'\n",
    "        return 'out', win\n",
    "    else:\n",
    "        return 'in', win"
   ]
  },
  {
   "cell_type": "code",
   "execution_count": 44,
   "metadata": {},
   "outputs": [
    {
     "name": "stdout",
     "output_type": "stream",
     "text": [
      "False\n",
      "[1, 15, 16]\n"
     ]
    }
   ],
   "source": [
    "player_hand = [1,22,15,16]\n",
    "players_in = [True,False,True,True]\n",
    "remove_value = players_in[1]\n",
    "print(remove_value)\n",
    "\n",
    "del player_hand[1]\n",
    "\n",
    "print(player_hand)"
   ]
  },
  {
   "cell_type": "code",
   "execution_count": 20,
   "metadata": {},
   "outputs": [],
   "source": [
    "def remove_players(players_in,players_hands,players):\n",
    "    \n",
    "    counter = 0\n",
    "    place = 0\n",
    "    removes_hands = []\n",
    "    removes_in = []\n",
    "    removes_players = []\n",
    "    counter2 = 0\n",
    "    \n",
    "    for i in players_in:\n",
    "        if players_in[0+counter] == False:\n",
    "            #print(f\"Sorry {players[0+counter]}! You busted and are out!\")\n",
    "            #place = players_hands[0+counter]\n",
    "            #players_hands.remove(place)\n",
    "            removes_hands.append(players_hands[0+counter])\n",
    "            removes_in.append(players_in[0+counter])\n",
    "            removes_players.append(players[0+counter])\n",
    "            \n",
    "        counter += 1\n",
    "    \n",
    "    for i in removes_hands:\n",
    "        players_hands.remove(removes_hands[0+counter2])\n",
    "        players_in.remove(removes_in[0+counter2])\n",
    "        players.remove(removes_players[0+counter2])\n",
    "        counter2 += 1\n",
    " \n",
    "    \n",
    "        \n",
    "    return players_hands,players_in,players\n",
    "        "
   ]
  },
  {
   "cell_type": "code",
   "execution_count": 46,
   "metadata": {},
   "outputs": [
    {
     "data": {
      "text/plain": [
       "([15, 11, 17], [True, True], ['Player1', 'Player4'])"
      ]
     },
     "execution_count": 46,
     "metadata": {},
     "output_type": "execute_result"
    }
   ],
   "source": [
    "remove_players([True,False,False,True], [15,25,26,11,17], ['Player1', 'Player2','Player3','Player4'])"
   ]
  },
  {
   "cell_type": "code",
   "execution_count": 19,
   "metadata": {},
   "outputs": [],
   "source": [
    "def show_hands(hands,players):\n",
    "    counter = 0\n",
    "    \n",
    "    for i in hands:\n",
    "        print(f\"{players[0+counter]}'s hand is: {hands[0+counter]}\")\n",
    "        counter += 1"
   ]
  },
  {
   "cell_type": "code",
   "execution_count": 48,
   "metadata": {},
   "outputs": [
    {
     "name": "stdout",
     "output_type": "stream",
     "text": [
      "Player1's hand is: 11\n",
      "Player2's hand is: 16\n"
     ]
    }
   ],
   "source": [
    "show_hands([11,16], ['Player1', 'Player2'])"
   ]
  },
  {
   "cell_type": "code",
   "execution_count": 18,
   "metadata": {},
   "outputs": [],
   "source": [
    "def add_card(hand):\n",
    "    \n",
    "    cards = {1:0,2:2,3:3,4:4,5:5,6:6,7:7,8:8,9:9,10:10,11:10,12:10}\n",
    "    \n",
    "    new_card = randrange(1,13)\n",
    "    #new_card=1\n",
    "    new_hand = hand\n",
    "    \n",
    "    if is_ace(cards[new_card]) == True:\n",
    "        new_card = ace_value(hand)\n",
    "        new_hand += new_card\n",
    "        print(f\"new card added to hand {new_card}\")\n",
    "        return new_hand\n",
    "    else:\n",
    "        new_hand += cards[new_card]\n",
    "        print(f\"New card added to hand {cards[new_card]}\")\n",
    "        return new_hand\n",
    "    "
   ]
  },
  {
   "cell_type": "code",
   "execution_count": 50,
   "metadata": {},
   "outputs": [
    {
     "name": "stdout",
     "output_type": "stream",
     "text": [
      "New card added to hand 5\n"
     ]
    },
    {
     "data": {
      "text/plain": [
       "7"
      ]
     },
     "execution_count": 50,
     "metadata": {},
     "output_type": "execute_result"
    }
   ],
   "source": [
    "add_card(2)"
   ]
  },
  {
   "cell_type": "code",
   "execution_count": 17,
   "metadata": {},
   "outputs": [],
   "source": [
    "def get_dealer_hand():\n",
    "\n",
    "    \n",
    "    # Get's the card values for the 2 player cards and 2 dealer cards\n",
    "    dealer1 = randrange(1,13)\n",
    "    #dealer1 = 1\n",
    "    dealer2 = randrange(1,13)\n",
    "    #dealer2 =  10\n",
    "   \n",
    "    \n",
    "    # Dict that assigns the value of each card 1--12 are face cards and each worth 10, ace is worth zero for now\n",
    "    cards = {1:0,2:2,3:3,4:4,5:5,6:6,7:7,8:8,9:9,10:10,11:10,12:10}\n",
    "    \n",
    "\n",
    "    # Calculates the player and dealers intial hands not accounting for aces yet\n",
    "    dealer_hand = cards[dealer1] + cards[dealer2]\n",
    "    \n",
    "    dealer1 = cards[dealer1]\n",
    "    dealer2 = cards[dealer2]\n",
    "    # Calculates the value of any aces found\n",
    "    dealer_ace1, dealer_ace2 = check_for_aces(dealer1,dealer2,dealer_hand)\n",
    "    \n",
    "    if dealer_ace1 == 1 or dealer_ace1 == 11:\n",
    "        dealer1 = dealer_ace1\n",
    "    if dealer_ace2 == 1 or dealer_ace2 == 11:\n",
    "        dealer2 = dealer_ace2\n",
    "    \n",
    "    # Recalculates the values of the hands if any aces were found\n",
    "    dealer_hand2 = dealer1 + dealer2\n",
    "        \n",
    "    print(f\"Dealers Cards: {dealer1}, ???\")\n",
    "        \n",
    "    \n",
    "    # Prints the hand and returns them as variables\n",
    "    return dealer_hand2, dealer2"
   ]
  },
  {
   "cell_type": "code",
   "execution_count": 52,
   "metadata": {},
   "outputs": [
    {
     "name": "stdout",
     "output_type": "stream",
     "text": [
      "Dealers Cards: 8, ???\n"
     ]
    },
    {
     "data": {
      "text/plain": [
       "(15, 7)"
      ]
     },
     "execution_count": 52,
     "metadata": {},
     "output_type": "execute_result"
    }
   ],
   "source": [
    "get_dealer_hand()"
   ]
  },
  {
   "cell_type": "code",
   "execution_count": 16,
   "metadata": {},
   "outputs": [],
   "source": [
    "def check_for_aces(dealer1,dealer2,dealer_hand):\n",
    "        \n",
    "    # Sets the intial value of potential ace cards to zero\n",
    "    dealer_ace1 = 0\n",
    "    dealer_ace2 = 0\n",
    "    \n",
    "    if is_ace(dealer1) == True:\n",
    "        dealer_ace1 = ace_value(dealer_hand)\n",
    "    if is_ace(dealer2) == True:\n",
    "        dealer_ace2 = ace_value(dealer_hand)\n",
    "    \n",
    "    if dealer_ace1 == 1 and dealer_ace2 == 1:\n",
    "        print(\"You have Two Aces!\")\n",
    "        print()\n",
    "        double_ace_value = int(input(\"Would you like your aces to be worth 2 or 12? \"))\n",
    "        print()\n",
    "        if double_ace_value == 2:\n",
    "            dealer_ace1,dealer_ace2 = 1,1\n",
    "        elif double_ace_value == 12:\n",
    "            dealer_ace1, dealer_ace2 = 11,1\n",
    "        \n",
    "    return dealer_ace1, dealer_ace2\n",
    "        "
   ]
  },
  {
   "cell_type": "code",
   "execution_count": 15,
   "metadata": {},
   "outputs": [],
   "source": [
    "class GameOverSpecial:\n",
    "    \n",
    "        def __init__(self,win,winners,best,loser):\n",
    "            \"\"\" Build and display the input window \"\"\"\n",
    "            self.winners = winners\n",
    "            if win == 'draw':\n",
    "                increaser = 0\n",
    "                counter = 0\n",
    "\n",
    "                self.win = win = GraphWin(\"Black Jack: Game Over!\", 500, 500)\n",
    "                win.setCoords(0,4.5,4,.5)\n",
    "\n",
    "                Text(Point(2,.7), \"GAME OVER! Draw\").draw(win)\n",
    "                \n",
    "                Text(Point(1,1), \"Winner\").draw(win)\n",
    "                entry1 = Entry(Point(3,1), 8).draw(win)\n",
    "                entry1.setText(\"Dealer\")\n",
    "\n",
    "                for i in winners:\n",
    "                    Text(Point(1,1.5+increaser), \"Winner\").draw(win)\n",
    "                    entry = Entry(Point(3,1.5+increaser), 8).draw(win)\n",
    "                    entry.setText(str(winners[0+counter]))\n",
    "                    increaser += .5\n",
    "                    counter += 1\n",
    "                    \n",
    "                Text(Point(1,3.5), \"Draw Score\").draw(win)\n",
    "                entry = Entry(Point(3,3.5), 8).draw(win)\n",
    "                entry.setText(str(best))\n",
    "\n",
    "\n",
    "\n",
    "                self.quit = Button(win, Point(2,4), 1.25, .5, \"Quit\")\n",
    "                self.quit.activate()\n",
    "                \n",
    "            elif win == 'dealer':\n",
    "                self.win = win = GraphWin(\"Black Jack\", 500, 500)\n",
    "                win.setCoords(0,4.5,4,.5)\n",
    "\n",
    "                Text(Point(2,1), \"GAME OVER! Dealer Had Highest Score\").draw(win)\n",
    "                \n",
    "                Text(Point(1,1.5), \"Winner\").draw(win)\n",
    "                entry = Entry(Point(3,1.5), 8).draw(win)\n",
    "                entry.setText(\"Dealer\")\n",
    "                \n",
    "                Text(Point(1,3.5), \"Highest Score: Dealer\").draw(win)\n",
    "                entry = Entry(Point(3,3.5), 8).draw(win)\n",
    "                entry.setText(str(best))\n",
    "                \n",
    "                self.quit = Button(win, Point(2,4), 1.25, .5, \"Quit\")\n",
    "                self.quit.activate()\n",
    "                \n",
    "            elif win == 'players':\n",
    "                increaser = 0\n",
    "                counter = 0\n",
    "                self.win = win = GraphWin(\"Black Jack\", 500, 500)\n",
    "                win.setCoords(0,4.5,4,.5)\n",
    "\n",
    "                Text(Point(2,1), \"GAME OVER! Player(s) had Highest Score\").draw(win)\n",
    "    \n",
    "                \n",
    "                for i in winners:\n",
    "                    Text(Point(1,2+increaser), \"Winner\").draw(win)\n",
    "                    entry = Entry(Point(3,2+increaser), 8).draw(win)\n",
    "                    entry.setText(str(winners[0+counter]))\n",
    "                    increaser += .5\n",
    "                    counter += 1\n",
    "                    \n",
    "                Text(Point(1,3.5), \"Highest Score: Player\").draw(win)\n",
    "                entry = Entry(Point(3,3.5), 8).draw(win)\n",
    "                entry.setText(str(best))\n",
    "                    \n",
    "                self.quit = Button(win, Point(2,4), 1.25, .5, \"Quit\")\n",
    "                self.quit.activate()\n",
    "                \n",
    "\n",
    "        def update(self,players,hands):\n",
    "            \"\"\" return input values \"\"\"\n",
    "            increaser = 0\n",
    "            counter = 0\n",
    "            for i in players:\n",
    "                entry = Entry(Point(3,1.5+increaser), 5).draw(self.win)\n",
    "                hand = hands[0+counter]\n",
    "                entry.setText(str(hand))\n",
    "                increaser += .5\n",
    "                counter += 1\n",
    "\n",
    "        def interact(self):\n",
    "            \"\"\" wait for user to click Quit or Fire button\n",
    "            Returns a string indicating which button was clicker\n",
    "            \"\"\"\n",
    "\n",
    "            while True:\n",
    "                pt = self.win.getMouse()\n",
    "                if self.quit.clicked(pt):\n",
    "                    return \"Quit\"\n",
    "\n",
    "        def close(self):\n",
    "            \"\"\" close the input window \"\"\"\n",
    "            self.win.close()"
   ]
  },
  {
   "cell_type": "code",
   "execution_count": 143,
   "metadata": {},
   "outputs": [],
   "source": [
    "win8 = GameOverSpecial(win,winner,best,loser)\n",
    "choice = win8.interact()\n",
    "while True:\n",
    "    choice = win8.interact()\n",
    "    if choice == 'Quit':\n",
    "        break\n",
    "win8.close()\n",
    "        "
   ]
  },
  {
   "cell_type": "code",
   "execution_count": 14,
   "metadata": {},
   "outputs": [],
   "source": [
    "def final_compare(highest,winner,dealer_hand):\n",
    "    if dealer_hand > 21:\n",
    "        dealer_hand = 0\n",
    "    if highest == dealer_hand:\n",
    "        win = 'draw'\n",
    "        best = highest\n",
    "        loser = highest\n",
    "        return winner,win, best, loser\n",
    "    elif highest > dealer_hand:\n",
    "        win = 'players'\n",
    "        best = highest\n",
    "        loser = dealer_hand\n",
    "        return winner,win, best, loser\n",
    "    elif dealer_hand > highest:\n",
    "        win = 'dealer'\n",
    "        best = dealer_hand\n",
    "        loser= highest\n",
    "        return dealer_hand,win, best,loser"
   ]
  },
  {
   "cell_type": "code",
   "execution_count": 166,
   "metadata": {},
   "outputs": [
    {
     "name": "stdout",
     "output_type": "stream",
     "text": [
      "['Player1', 'Player2', 'Player3'] players\n"
     ]
    }
   ],
   "source": [
    "winner,win, best, loser = final_compare(20,['Player1','Player2',\"Player3\"],22)\n",
    "print(winner,win)"
   ]
  },
  {
   "cell_type": "code",
   "execution_count": 13,
   "metadata": {},
   "outputs": [],
   "source": [
    "def final_compare(highest,winner,dealer_hand):\n",
    "        \n",
    "    if highest == dealer_hand:\n",
    "        return f\"Wow! Looks like a Draw B/W {winner} and the dealer!\"\n",
    "    elif highest > dealer_hand:\n",
    "        return f\"{winner}: You Won! Your score was {highest} and the dealer's was {dealer_hand}\"\n",
    "    elif dealer_hand > highest:\n",
    "        return f\"The Dealer had the highest score: {dealer_hand} and Won! The next highest was {highest} You all Lost!\""
   ]
  },
  {
   "cell_type": "code",
   "execution_count": 55,
   "metadata": {},
   "outputs": [
    {
     "data": {
      "text/plain": [
       "'The Dealer had the highest score: 19 and Won! The next highest was 18 You all Lost!'"
      ]
     },
     "execution_count": 55,
     "metadata": {},
     "output_type": "execute_result"
    }
   ],
   "source": [
    "final_compare(18,'player1',19)"
   ]
  },
  {
   "cell_type": "code",
   "execution_count": 12,
   "metadata": {},
   "outputs": [],
   "source": [
    "def game_check(players_hands,dealer_hand,players,players_in):\n",
    "    \n",
    "    win = []\n",
    "    counter = 0\n",
    "    end = False\n",
    "    players_in2 = players_in\n",
    "    \n",
    "    if players_hands != []:\n",
    "        for i in players_hands:\n",
    "            if players_hands[0+counter] == 21 and dealer_hand == 21:\n",
    "                print(f\"Woah looks like a draw! B/W {players[0+counter]} and the dealer\")\n",
    "                #win = 'draw'\n",
    "                win.append(players[0+counter])\n",
    "                end = 'draw'\n",
    "                break\n",
    "            elif players_hands[0+counter] == 21:\n",
    "                #print(f\"Congratz! {players[0+counter]} you hit 21: You Won!\")\n",
    "                win.append(players[0+counter])\n",
    "                end = True\n",
    "            elif dealer_hand == 21:\n",
    "                print(\"Sorry you lost! The dealer hit 21 and you all didn't!\")\n",
    "                win = 'dealer'\n",
    "                end = True\n",
    "                break\n",
    "            elif players_hands[0+counter] <= 21 and dealer_hand > 21:\n",
    "                #print(f\"The dealer went bust!\")\n",
    "                win.append(players[0+counter])\n",
    "                end = 'Special'\n",
    "            elif players_hands[0+counter] > 21 and dealer_hand <= 21:\n",
    "                print(f\"Sorry {players[0+counter]} you went bust! You Lose\")\n",
    "                #win = 'player_out'\n",
    "                players_in2[0+counter] = False\n",
    "            counter +=1\n",
    "    else:\n",
    "        end = True\n",
    "        print(f\"All players busted! The dealer Wins!\")\n",
    "        win = 'dealer'\n",
    "    return end, win, players_in2"
   ]
  },
  {
   "cell_type": "code",
   "execution_count": 57,
   "metadata": {},
   "outputs": [
    {
     "data": {
      "text/plain": [
       "(True, ['Player2', 'Player3', 'Player4'], [True, True, True, True, True])"
      ]
     },
     "execution_count": 57,
     "metadata": {},
     "output_type": "execute_result"
    }
   ],
   "source": [
    "game_check([11,21,21,21,15], 5, ['Player1', 'Player2', 'Player3','Player4', 'Player5'],[True,True,True,True,True])"
   ]
  },
  {
   "cell_type": "code",
   "execution_count": 11,
   "metadata": {},
   "outputs": [],
   "source": [
    "def highest_score(players_hands,players):\n",
    "    counter = 0\n",
    "    compare = []\n",
    "    compare_player = []\n",
    "    winners = []\n",
    "    \n",
    "    if players_hands != []:\n",
    "        for i in players_hands:\n",
    "            if players_hands[0+counter] <= 21:\n",
    "                compare.append(players_hands[0+counter])\n",
    "                compare_player.append(players[0+counter])\n",
    "            counter += 1\n",
    "\n",
    "        highest = max(compare)\n",
    "        players_hands.count(highest)\n",
    "\n",
    "        counter = 0\n",
    "        for i in players_hands:\n",
    "            if players_hands[0+counter] == highest:\n",
    "                winners.append(players[0+counter])\n",
    "            counter += 1\n",
    "    else:\n",
    "        highest = 0\n",
    "    \n",
    "    return highest, winners\n",
    "            \n",
    "    "
   ]
  },
  {
   "cell_type": "code",
   "execution_count": 59,
   "metadata": {},
   "outputs": [
    {
     "data": {
      "text/plain": [
       "(21, ['Player1', 'Player3'])"
      ]
     },
     "execution_count": 59,
     "metadata": {},
     "output_type": "execute_result"
    }
   ],
   "source": [
    "highest_score([21,9,21],['Player1','Player2','Player3'])"
   ]
  },
  {
   "cell_type": "code",
   "execution_count": 60,
   "metadata": {},
   "outputs": [
    {
     "data": {
      "text/plain": [
       "[]"
      ]
     },
     "execution_count": 60,
     "metadata": {},
     "output_type": "execute_result"
    }
   ],
   "source": [
    "list1 = []\n",
    "list1"
   ]
  },
  {
   "cell_type": "code",
   "execution_count": 10,
   "metadata": {},
   "outputs": [],
   "source": [
    "def ace_value(hand):\n",
    "    if hand + 11 >= 17 and hand + 11 <= 21:\n",
    "        return 11\n",
    "    else:\n",
    "        return 1"
   ]
  },
  {
   "cell_type": "code",
   "execution_count": 9,
   "metadata": {},
   "outputs": [],
   "source": [
    "def is_ace(card):\n",
    "    if card == 0:\n",
    "        return True\n",
    "    else:\n",
    "        return False"
   ]
  },
  {
   "cell_type": "code",
   "execution_count": 8,
   "metadata": {},
   "outputs": [],
   "source": [
    "def create_players(n_players):\n",
    "    player_list = []\n",
    "    players_in = []\n",
    "    \n",
    "    for i in range(1,n_players+1):\n",
    "        players_in.append(True)\n",
    "    \n",
    "    for player in range(1,n_players+1):\n",
    "        player_list.append('Player' + str(player))\n",
    "        \n",
    "    return player_list,players_in"
   ]
  },
  {
   "cell_type": "code",
   "execution_count": 64,
   "metadata": {},
   "outputs": [
    {
     "name": "stdout",
     "output_type": "stream",
     "text": [
      "['Player1', 'Player2', 'Player3', 'Player4', 'Player5', 'Player6'] [True, True, True, True, True, True]\n"
     ]
    }
   ],
   "source": [
    "players,ina = create_players(6)\n",
    "print(players,ina)"
   ]
  },
  {
   "cell_type": "code",
   "execution_count": 65,
   "metadata": {},
   "outputs": [
    {
     "data": {
      "text/plain": [
       "(11, 11)"
      ]
     },
     "execution_count": 65,
     "metadata": {},
     "output_type": "execute_result"
    }
   ],
   "source": [
    "from random import randrange\n",
    "player1 = (randrange(1,13), randrange(1,13))\n",
    "player1"
   ]
  },
  {
   "cell_type": "code",
   "execution_count": 7,
   "metadata": {},
   "outputs": [],
   "source": [
    "def get_initial_hand(players):\n",
    "    cards = {1:0,2:2,3:3,4:4,5:5,6:6,7:7,8:8,9:9,10:10,11:10,12:10}\n",
    "    player_hands = []\n",
    "    player_hands2 = []\n",
    "    player_hands3 = []\n",
    "    player_hands4 = []\n",
    "    counter = 0\n",
    "    \n",
    "    for player in players:\n",
    "        player_hands.append([randrange(1,13), randrange(1,13)])\n",
    "    \n",
    "    for i in players:\n",
    "        player_hands2.append([cards[player_hands[0+counter][0]], cards[player_hands[0+counter][1]]])\n",
    "        counter +=1\n",
    "    counter = 0\n",
    "    \n",
    "    player_hands3 = check_aces(player_hands2)\n",
    "    for i in players:\n",
    "        player_hands4.append(player_hands3[0+counter][0]+ player_hands3[0+counter][1])\n",
    "        counter += 1\n",
    "        \n",
    "    #player_hands3 = check_aces(player_hands2)\n",
    "        \n",
    "    return player_hands3,player_hands4"
   ]
  },
  {
   "cell_type": "code",
   "execution_count": 67,
   "metadata": {},
   "outputs": [
    {
     "data": {
      "text/plain": [
       "([[10, 5], [4, 2], [8, 9], [8, 10], [10, 9], [5, 4]], [15, 6, 17, 18, 19, 9])"
      ]
     },
     "execution_count": 67,
     "metadata": {},
     "output_type": "execute_result"
    }
   ],
   "source": [
    "get_initial_hand(players)"
   ]
  },
  {
   "cell_type": "code",
   "execution_count": 6,
   "metadata": {},
   "outputs": [],
   "source": [
    "def check_aces(player_hands):\n",
    "    counter = 0\n",
    "    \n",
    "    for i in player_hands:\n",
    "        if is_ace(player_hands[0+counter][0]) == True:\n",
    "            hand = player_hands[0+counter][0] + player_hands[0+counter][1]\n",
    "            player_hands[0+counter][0] = ace_value(hand)\n",
    "        counter += 1\n",
    "    \n",
    "    counter = 0\n",
    "    for i in player_hands:\n",
    "        if is_ace(player_hands[0+counter][1]) == True:\n",
    "            hand = player_hands[0+counter][0] + player_hands[0+counter][1]\n",
    "            player_hands[0+counter][1] = ace_value(hand)\n",
    "        counter += 1\n",
    "        \n",
    "    counter = 0\n",
    "    for i in player_hands:\n",
    "        if player_hands[0+counter][0] == 1 and player_hands[0+counter][1] == 1:\n",
    "            print(\"You have Two Aces!\")\n",
    "            print()\n",
    "            double_ace_value = int(input(\"Would you like your aces to be worth 2 or 12? \"))\n",
    "            print()\n",
    "            if double_ace_value == 2:\n",
    "                player_hands[0+counter][0],player_hands[0+counter][1] = 1,1\n",
    "                \n",
    "            elif double_ace_value == 12:\n",
    "                player_hands[0+counter][0],player_hands[0+counter][1] = 11,1\n",
    "                \n",
    "        counter += 1\n",
    "    return player_hands"
   ]
  },
  {
   "cell_type": "code",
   "execution_count": 69,
   "metadata": {},
   "outputs": [
    {
     "name": "stdout",
     "output_type": "stream",
     "text": [
      "You have Two Aces!\n",
      "\n",
      "Would you like your aces to be worth 2 or 12? 2\n",
      "\n",
      "You have Two Aces!\n",
      "\n",
      "Would you like your aces to be worth 2 or 12? 2\n",
      "\n"
     ]
    },
    {
     "data": {
      "text/plain": [
       "[[1, 1], [12, 8], [2, 1], [7, 5], [1, 1], [2, 12]]"
      ]
     },
     "execution_count": 69,
     "metadata": {},
     "output_type": "execute_result"
    }
   ],
   "source": [
    "check_aces([[0, 0], [12, 8], [2, 1], [7, 5], [0, 0], [2, 12]])"
   ]
  },
  {
   "cell_type": "code",
   "execution_count": 35,
   "metadata": {},
   "outputs": [],
   "source": [
    "def validate(value,range1,range2,text):\n",
    "    check = value\n",
    "    while check != range1 or check != range2:\n",
    "        check = int(input(text))\n",
    "        print(check)"
   ]
  },
  {
   "cell_type": "code",
   "execution_count": 45,
   "metadata": {},
   "outputs": [
    {
     "name": "stdout",
     "output_type": "stream",
     "text": [
      "Would you like your aces to be worth 2 or 12? 2\n",
      "2\n",
      "Would you like your aces to be worth 2 or 12? 2\n",
      "2\n",
      "Would you like your aces to be worth 2 or 12? 2\n",
      "2\n",
      "Would you like your aces to be worth 2 or 12? 2\n",
      "2\n",
      "Would you like your aces to be worth 2 or 12? n\n"
     ]
    },
    {
     "ename": "ValueError",
     "evalue": "invalid literal for int() with base 10: 'n'",
     "output_type": "error",
     "traceback": [
      "\u001b[1;31m---------------------------------------------------------------------------\u001b[0m",
      "\u001b[1;31mValueError\u001b[0m                                Traceback (most recent call last)",
      "\u001b[1;32m<ipython-input-45-51439fff5513>\u001b[0m in \u001b[0;36m<module>\u001b[1;34m\u001b[0m\n\u001b[1;32m----> 1\u001b[1;33m \u001b[0mvalidate\u001b[0m\u001b[1;33m(\u001b[0m\u001b[1;36m1\u001b[0m\u001b[1;33m,\u001b[0m\u001b[1;36m2\u001b[0m\u001b[1;33m,\u001b[0m\u001b[1;36m12\u001b[0m\u001b[1;33m,\u001b[0m\u001b[1;34m\"Would you like your aces to be worth 2 or 12? \"\u001b[0m\u001b[1;33m)\u001b[0m\u001b[1;33m\u001b[0m\u001b[1;33m\u001b[0m\u001b[0m\n\u001b[0m",
      "\u001b[1;32m<ipython-input-44-70a8d33d6856>\u001b[0m in \u001b[0;36mvalidate\u001b[1;34m(value, range1, range2, text)\u001b[0m\n\u001b[0;32m      2\u001b[0m     \u001b[0mcheck\u001b[0m \u001b[1;33m=\u001b[0m \u001b[0mvalue\u001b[0m\u001b[1;33m\u001b[0m\u001b[1;33m\u001b[0m\u001b[0m\n\u001b[0;32m      3\u001b[0m     \u001b[1;32mwhile\u001b[0m \u001b[0mcheck\u001b[0m \u001b[1;33m!=\u001b[0m \u001b[0mrange1\u001b[0m \u001b[1;32mor\u001b[0m \u001b[0mcheck\u001b[0m \u001b[1;33m!=\u001b[0m \u001b[0mrange2\u001b[0m\u001b[1;33m:\u001b[0m\u001b[1;33m\u001b[0m\u001b[1;33m\u001b[0m\u001b[0m\n\u001b[1;32m----> 4\u001b[1;33m         \u001b[0mcheck\u001b[0m \u001b[1;33m=\u001b[0m \u001b[0mint\u001b[0m\u001b[1;33m(\u001b[0m\u001b[0minput\u001b[0m\u001b[1;33m(\u001b[0m\u001b[0mtext\u001b[0m\u001b[1;33m)\u001b[0m\u001b[1;33m)\u001b[0m\u001b[1;33m\u001b[0m\u001b[1;33m\u001b[0m\u001b[0m\n\u001b[0m\u001b[0;32m      5\u001b[0m         \u001b[0mprint\u001b[0m\u001b[1;33m(\u001b[0m\u001b[0mcheck\u001b[0m\u001b[1;33m)\u001b[0m\u001b[1;33m\u001b[0m\u001b[1;33m\u001b[0m\u001b[0m\n",
      "\u001b[1;31mValueError\u001b[0m: invalid literal for int() with base 10: 'n'"
     ]
    }
   ],
   "source": [
    "validate(1,2,12,\"Would you like your aces to be worth 2 or 12? \")"
   ]
  },
  {
   "cell_type": "markdown",
   "metadata": {},
   "source": [
    "22\n",
    "2\n",
    "2\n",
    "2## a = int(input(\"hi\"))\n",
    "a"
   ]
  },
  {
   "cell_type": "code",
   "execution_count": 48,
   "metadata": {},
   "outputs": [],
   "source": [
    "list1 = [[7, 9], [12, 8], [2, 1], [7, 5], [5, 1], [2, 12]]"
   ]
  },
  {
   "cell_type": "code",
   "execution_count": 49,
   "metadata": {},
   "outputs": [
    {
     "data": {
      "text/plain": [
       "[[7, 9], [12, 8], [2, 1], [7, 5], [5, 1], [2, 12]]"
      ]
     },
     "execution_count": 49,
     "metadata": {},
     "output_type": "execute_result"
    }
   ],
   "source": [
    "list1"
   ]
  },
  {
   "cell_type": "code",
   "execution_count": 50,
   "metadata": {},
   "outputs": [
    {
     "data": {
      "text/plain": [
       "[7, 9]"
      ]
     },
     "execution_count": 50,
     "metadata": {},
     "output_type": "execute_result"
    }
   ],
   "source": [
    "list1[0]"
   ]
  },
  {
   "cell_type": "code",
   "execution_count": 51,
   "metadata": {},
   "outputs": [
    {
     "data": {
      "text/plain": [
       "9"
      ]
     },
     "execution_count": 51,
     "metadata": {},
     "output_type": "execute_result"
    }
   ],
   "source": [
    "list1[0][1]"
   ]
  },
  {
   "cell_type": "code",
   "execution_count": 5,
   "metadata": {},
   "outputs": [],
   "source": [
    "class InputDialog2:\n",
    "\n",
    "    \"\"\" A custom window for getting simulation values (angle, velocity,\n",
    "    and height) from the user.\"\"\"\n",
    "\n",
    "    def __init__(self, players,hands = 0, players_ent = 0):\n",
    "        \"\"\" Build and display the input window \"\"\"\n",
    "        increaser = 0\n",
    "                   \n",
    "        self.win = win = GraphWin(\"Black Jack\", 500, 500)\n",
    "        win.setCoords(0,4.5,4,.5)\n",
    "        \n",
    "        player_count = len(players)\n",
    "        Text(Point(1,1), \"Players\").draw(win)\n",
    "        self.players_ent = Entry(Point(3,1), 5).draw(win)\n",
    "        self.players_ent.setText(str(player_count))\n",
    "        \n",
    "        self.players = players\n",
    "\n",
    "        \n",
    "        for i in self.players:\n",
    "            Text(Point(1,1.5+increaser), \"Hands\").draw(win)\n",
    "            entry = Entry(Point(3,1.5+increaser), 5).draw(win)\n",
    "            hand = 0\n",
    "            entry.setText(str(hand))\n",
    "            increaser += .5\n",
    "\n",
    "\n",
    "        self.hand = Button(win, Point(1,4), 1.25, .5, \"Hand\")\n",
    "        self.hand.activate()\n",
    "\n",
    "        self.quit = Button(win, Point(3,4), 1.25, .5, \"Quit\")\n",
    "        self.quit.activate()\n",
    "\n",
    "    def update(self,players,hands):\n",
    "        \"\"\" return input values \"\"\"\n",
    "        increaser = 0\n",
    "        counter = 0\n",
    "        for i in players:\n",
    "            entry = Entry(Point(3,1.5+increaser), 5).draw(self.win)\n",
    "            hand = hands[0+counter]\n",
    "            entry.setText(str(hand))\n",
    "            increaser += .5\n",
    "            counter += 1\n",
    "\n",
    "    def interact(self):\n",
    "        \"\"\" wait for user to click Quit or Fire button\n",
    "        Returns a string indicating which button was clicker\n",
    "        \"\"\"\n",
    "        \n",
    "        while True:\n",
    "            pt = self.win.getMouse()\n",
    "            if self.quit.clicked(pt):\n",
    "                return \"Quit\"\n",
    "            if self.hand.clicked(pt):\n",
    "                return \"Hand\"\n",
    "\n",
    "    def close(self):\n",
    "        \"\"\" close the input window \"\"\"\n",
    "        self.win.close()"
   ]
  },
  {
   "cell_type": "code",
   "execution_count": 2,
   "metadata": {},
   "outputs": [],
   "source": [
    "from IPython.display import clear_output\n",
    "import time\n",
    "from math import sqrt, sin, cos, radians, degrees\n",
    "from graphics import *\n",
    "from button import Button\n",
    "from random import randrange\n",
    "\n",
    "input1 = InputDialog2([\"Player1\", \"Player2\"], [11,12])\n",
    "while True:\n",
    "    if input1.interact() == 'Hand':\n",
    "        input1.update([\"Player1\", \"Player2\"],[11,12])\n",
    "    elif input1.interact() == \"Quit\":\n",
    "        input1.close()\n",
    "        break"
   ]
  },
  {
   "cell_type": "code",
   "execution_count": 19,
   "metadata": {},
   "outputs": [],
   "source": [
    "class ShowHand:\n",
    "\n",
    "    \"\"\" A custom window for getting simulation values (angle, velocity,\n",
    "    and height) from the user.\"\"\"\n",
    "\n",
    "    def __init__(self, player,hands = 0, players_ent = 0):\n",
    "        \"\"\" Build and display the input window \"\"\"\n",
    "                   \n",
    "        self.win = win = GraphWin(\"Black Jack\", 500, 500)\n",
    "        win.setCoords(0,4.5,4,.5)\n",
    "        \n",
    "        Text(Point(1,1), \"Player\").draw(win)\n",
    "        p_ent = Entry(Point(3,1), 7).draw(win)\n",
    "        p_ent.setText(str(player))\n",
    "        \n",
    "        self.player = player\n",
    "\n",
    "        \n",
    "        Text(Point(1,2), \"Hand\").draw(win)\n",
    "        entry = Entry(Point(3,2), 5).draw(win)\n",
    "        hand = 0\n",
    "        entry.setText(str(hand))\n",
    "\n",
    "\n",
    "        self.hand = Button(win, Point(1,4), 1.25, .5, \"Hand\")\n",
    "        self.hand.activate()\n",
    "\n",
    "        self.done = Button(win, Point(3,4), 1.25, .5, \"Done\")\n",
    "        self.done.activate()\n",
    "\n",
    "    def update(self,players,hands):\n",
    "        \"\"\" return input values \"\"\"\n",
    "        \n",
    "        Text(Point(1,1), \"Player\").draw(self.win)\n",
    "        player_ent = Entry(Point(3,1), 7).draw(self.win)\n",
    "        player_ent.setText(str(players))\n",
    "        \n",
    "        entry = Entry(Point(3,2), 5).draw(self.win)\n",
    "        hand = hands\n",
    "        entry.setText(str(hand))\n",
    "\n",
    "\n",
    "    def interact(self):\n",
    "        \"\"\" wait for user to click Quit or Fire button\n",
    "        Returns a string indicating which button was clicker\n",
    "        \"\"\"\n",
    "        \n",
    "        while True:\n",
    "            pt = self.win.getMouse()\n",
    "            if self.done.clicked(pt):\n",
    "                return \"Done\"\n",
    "            if self.hand.clicked(pt):\n",
    "                return \"Hand\"\n",
    "            \n",
    "    def over(self):\n",
    "        while True:\n",
    "            pt = self.win.getMouse()\n",
    "            if self.done.clicked(pt):\n",
    "                return \"Done\"\n",
    "            if self.hand.clicked(pt):\n",
    "                return \"Hand\"\n",
    "        \n",
    "\n",
    "    def close(self):\n",
    "        \"\"\" close the input window \"\"\"\n",
    "        self.win.close()"
   ]
  },
  {
   "cell_type": "code",
   "execution_count": 1,
   "metadata": {},
   "outputs": [
    {
     "ename": "NameError",
     "evalue": "name 'ShowHand' is not defined",
     "output_type": "error",
     "traceback": [
      "\u001b[1;31m---------------------------------------------------------------------------\u001b[0m",
      "\u001b[1;31mNameError\u001b[0m                                 Traceback (most recent call last)",
      "\u001b[1;32m<ipython-input-1-b4c6f2f1b68a>\u001b[0m in \u001b[0;36m<module>\u001b[1;34m\u001b[0m\n\u001b[0;32m     10\u001b[0m \u001b[0mcounter\u001b[0m \u001b[1;33m=\u001b[0m \u001b[1;36m0\u001b[0m\u001b[1;33m\u001b[0m\u001b[1;33m\u001b[0m\u001b[0m\n\u001b[0;32m     11\u001b[0m \u001b[1;33m\u001b[0m\u001b[0m\n\u001b[1;32m---> 12\u001b[1;33m \u001b[0mwindow\u001b[0m \u001b[1;33m=\u001b[0m \u001b[0mShowHand\u001b[0m\u001b[1;33m(\u001b[0m\u001b[1;34m\"Player1\"\u001b[0m\u001b[1;33m)\u001b[0m\u001b[1;33m\u001b[0m\u001b[1;33m\u001b[0m\u001b[0m\n\u001b[0m\u001b[0;32m     13\u001b[0m \u001b[1;33m\u001b[0m\u001b[0m\n\u001b[0;32m     14\u001b[0m \u001b[1;32mfor\u001b[0m \u001b[0mi\u001b[0m \u001b[1;32min\u001b[0m \u001b[0mplayers\u001b[0m\u001b[1;33m:\u001b[0m\u001b[1;33m\u001b[0m\u001b[1;33m\u001b[0m\u001b[0m\n",
      "\u001b[1;31mNameError\u001b[0m: name 'ShowHand' is not defined"
     ]
    }
   ],
   "source": [
    "from IPython.display import clear_output\n",
    "import time\n",
    "from math import sqrt, sin, cos, radians, degrees\n",
    "from graphics import *\n",
    "from button import Button\n",
    "from random import randrange\n",
    "\n",
    "players = [\"Player1\", \"Player2\", \"Player3\"]\n",
    "hands = [11,20,21]\n",
    "counter = 0\n",
    "\n",
    "window = ShowHand(\"Player1\")\n",
    "\n",
    "for i in players:\n",
    "    while True:\n",
    "        choice = window.interact()\n",
    "        if choice == \"Hand\":\n",
    "            window.update(players[0+counter],hands[0+counter])\n",
    "        elif choice == \"Done\":\n",
    "            window.update(0,0)\n",
    "            counter += 1\n",
    "            #window.close()\n",
    "            break\n",
    "window.close()"
   ]
  },
  {
   "cell_type": "code",
   "execution_count": 190,
   "metadata": {},
   "outputs": [],
   "source": [
    "class GameOver:\n",
    "    \n",
    "        def __init__(self,end,winners,players=0):\n",
    "            \"\"\" Build and display the input window \"\"\"\n",
    "            self.winners = winners\n",
    "            if winners != \"dealer\" and end != 'draw':\n",
    "                increaser = 0\n",
    "                counter = 0\n",
    "\n",
    "                self.win = win = GraphWin(\"Black Jack: Game Over!\", 500, 500)\n",
    "                win.setCoords(0,4.5,4,.5)\n",
    "\n",
    "                Text(Point(2,1), \"GAME OVER! 21 Hit\").draw(win)\n",
    "\n",
    "                for i in winners:\n",
    "                    Text(Point(1,1.5+increaser), \"Winner\").draw(win)\n",
    "                    entry = Entry(Point(3,1.5+increaser), 8).draw(win)\n",
    "                    entry.setText(str(winners[0+counter]))\n",
    "                    increaser += .5\n",
    "                    counter += 1\n",
    "\n",
    "\n",
    "\n",
    "                self.quit = Button(win, Point(2,4), 1.25, .5, \"Quit\")\n",
    "                self.quit.activate()\n",
    "                \n",
    "            elif winners == 'dealer':\n",
    "                self.win = win = GraphWin(\"Black Jack\", 500, 500)\n",
    "                win.setCoords(0,4.5,4,.5)\n",
    "\n",
    "                Text(Point(2,1), \"GAME OVER! 21 Hit by Dealer\").draw(win)\n",
    "                \n",
    "                Text(Point(1,1.5), \"Winner\").draw(win)\n",
    "                entry = Entry(Point(3,1.5), 8).draw(win)\n",
    "                entry.setText(\"Dealer\")\n",
    "                \n",
    "                self.quit = Button(win, Point(2,4), 1.25, .5, \"Quit\")\n",
    "                self.quit.activate()\n",
    "                \n",
    "            elif end == 'draw':\n",
    "                increaser = 0\n",
    "                counter = 0\n",
    "                self.win = win = GraphWin(\"Black Jack\", 500, 500)\n",
    "                win.setCoords(0,4.5,4,.5)\n",
    "\n",
    "                Text(Point(2,1), \"GAME OVER! 21 Hit & Draw\").draw(win)\n",
    "                \n",
    "                Text(Point(1,1.5), \"Winner\").draw(win)      \n",
    "                entryDeal = Entry(Point(3,1.5), 8).draw(win)\n",
    "                entryDeal.setText('Dealer')\n",
    "                \n",
    "                for i in winners:\n",
    "                    Text(Point(1,2+increaser), \"Winner\").draw(win)\n",
    "                    entry = Entry(Point(3,2+increaser), 8).draw(win)\n",
    "                    entry.setText(str(winners[0+counter]))\n",
    "                    increaser += .5\n",
    "                    counter += 1\n",
    "                    \n",
    "                self.quit = Button(win, Point(2,4), 1.25, .5, \"Quit\")\n",
    "                self.quit.activate()\n",
    "                \n",
    "\n",
    "        def update(self,players,hands):\n",
    "            \"\"\" return input values \"\"\"\n",
    "            increaser = 0\n",
    "            counter = 0\n",
    "            for i in players:\n",
    "                entry = Entry(Point(3,1.5+increaser), 5).draw(self.win)\n",
    "                hand = hands[0+counter]\n",
    "                entry.setText(str(hand))\n",
    "                increaser += .5\n",
    "                counter += 1\n",
    "\n",
    "        def interact(self):\n",
    "            \"\"\" wait for user to click Quit or Fire button\n",
    "            Returns a string indicating which button was clicker\n",
    "            \"\"\"\n",
    "\n",
    "            while True:\n",
    "                pt = self.win.getMouse()\n",
    "                if self.quit.clicked(pt):\n",
    "                    return \"Quit\"\n",
    "                if self.hand.clicked(pt):\n",
    "                    return \"Hand\"\n",
    "\n",
    "        def close(self):\n",
    "            \"\"\" close the input window \"\"\"\n",
    "            self.win.close()"
   ]
  },
  {
   "cell_type": "code",
   "execution_count": 27,
   "metadata": {},
   "outputs": [],
   "source": [
    "win1 = GameOver(True,'dealer')\n",
    "#win1 = GameOver(True,\"dealer\")\n",
    "\n",
    "win1.win.getMouse()\n",
    "win1.close()"
   ]
  },
  {
   "cell_type": "code",
   "execution_count": 82,
   "metadata": {},
   "outputs": [],
   "source": [
    "class DealerHand():\n",
    "    \"\"\" A custom window for getting simulation values (angle, velocity,\n",
    "    and height) from the user.\"\"\"\n",
    "\n",
    "    def __init__(self, dealer_hand,dealer_card1):\n",
    "        \"\"\" Build and display the input window \"\"\"\n",
    "                   \n",
    "        self.win = win = GraphWin(\"Black Jack: Dealer Hand\", 500, 500)\n",
    "        win.setCoords(0,4.5,4,.5)\n",
    "        \n",
    "        Text(Point(1,1), \"Dealer's Hand\").draw(win)\n",
    "        p_ent = Entry(Point(3,1), 7).draw(win)\n",
    "        p_ent.setText(\"???\")\n",
    "        \n",
    "        \n",
    "        deal_card = Text(Point(1,2), \"Dealer Card 1\").draw(win)\n",
    "        deal_card.setStyle('bold')\n",
    "        deal_card.setSize(20)\n",
    "        entry = Entry(Point(3,2), 5).draw(win)\n",
    "        entry.setText(str(dealer_card1))\n",
    "        entry.setStyle('bold')\n",
    "        \n",
    "        Text(Point(1,3), \"Hidden Card\").draw(win)\n",
    "        entry = Entry(Point(3,3), 5).draw(win)\n",
    "        entry.setText(\"???\")\n",
    "\n",
    "        self.done = Button(win, Point(2,4), 1.25, .5, \"Done\")\n",
    "        self.done.activate()\n",
    "\n",
    "\n",
    "    def interact(self):\n",
    "        \"\"\" wait for user to click Quit or Fire button\n",
    "        Returns a string indicating which button was clicker\n",
    "        \"\"\"\n",
    "        \n",
    "        while True:\n",
    "            pt = self.win.getMouse()\n",
    "            if self.done.clicked(pt):\n",
    "                return \"Done\"\n",
    "            \n",
    "    def over(self):\n",
    "        while True:\n",
    "            pt = self.win.getMouse()\n",
    "            if self.done.clicked(pt):\n",
    "                return \"Done\"\n",
    "            if self.hand.clicked(pt):\n",
    "                return \"Hand\"\n",
    "        \n",
    "\n",
    "    def close(self):\n",
    "        \"\"\" close the input window \"\"\"\n",
    "        self.win.close()\n",
    "    "
   ]
  },
  {
   "cell_type": "code",
   "execution_count": 83,
   "metadata": {},
   "outputs": [],
   "source": [
    "win2 = DealerHand(21,8)\n",
    "while True:\n",
    "    choice = win2.interact()\n",
    "    if choice == \"Done\":\n",
    "        win2.close()\n",
    "        break"
   ]
  },
  {
   "cell_type": "code",
   "execution_count": 3,
   "metadata": {},
   "outputs": [],
   "source": [
    "from IPython.display import clear_output\n",
    "import time\n",
    "from math import sqrt, sin, cos, radians, degrees\n",
    "from graphics import *\n",
    "from button import Button\n",
    "from random import randrange\n",
    "\n",
    "class AddingCards():\n",
    "    \n",
    "    \"\"\" A custom window for getting simulation values (angle, velocity,\n",
    "    and height) from the user.\"\"\"\n",
    "\n",
    "    def __init__(self, player,hand,new_card=\"N/A\", players_ent = 0):\n",
    "        \"\"\" Build and display the input window \"\"\"\n",
    "                   \n",
    "        self.win = win = GraphWin(\"Black Jack Adding Cards\", 500, 500)\n",
    "        win.setCoords(0,4.5,4,.5)\n",
    "        \n",
    "        Text(Point(1,1), \"Player\").draw(win)\n",
    "        p_ent = Entry(Point(3,1), 7).draw(win)\n",
    "        p_ent.setText(str(player))\n",
    "        \n",
    "        self.player = player\n",
    "\n",
    "        \n",
    "        Text(Point(1,2), \"New Card\").draw(win)\n",
    "        entry = Entry(Point(3,2), 5).draw(win)\n",
    "        entry.setText(str(new_card))\n",
    "        \n",
    "        Text(Point(1,3), \"Hand\").draw(win)\n",
    "        entry = Entry(Point(3,3), 5).draw(win)\n",
    "        entry.setText(str(hand))\n",
    "\n",
    "\n",
    "        self.add = Button(win, Point(1,4), 1.25, .5, \"Add\")\n",
    "        self.add.activate()\n",
    "\n",
    "        self.done = Button(win, Point(3,4), 1.25, .5, \"Done\")\n",
    "        self.done.activate()\n",
    "\n",
    "    def update(self,players,hands,new_card=0):\n",
    "        \"\"\" return input values \"\"\"\n",
    "        \n",
    "        Text(Point(1,1), \"Player\").draw(self.win)\n",
    "        player_ent = Entry(Point(3,1), 7).draw(self.win)\n",
    "        player_ent.setText(str(players))\n",
    "        \n",
    "        entry = Entry(Point(3,2), 5).draw(self.win)\n",
    "        entry.setText(str(new_card))\n",
    "        \n",
    "        entry = Entry(Point(3,3), 5).draw(self.win)\n",
    "        hand = hands\n",
    "        entry.setText(str(hand))\n",
    "        \n",
    "        if hand > 21:\n",
    "            bustText = Text(Point(2,3.5), \"BUSTED!!\").draw(self.win)\n",
    "            bustText.setStyle(\"bold\")\n",
    "            bustText.setSize(20)\n",
    "        elif hand == 21:\n",
    "            winText = Text(Point(2,3.5), \"21!!\").draw(self.win)\n",
    "            winText.setStyle(\"bold\")\n",
    "            winText.setSize(20)\n",
    "    \n",
    "\n",
    "    def interact(self):\n",
    "        \"\"\" wait for user to click Quit or Fire button\n",
    "        Returns a string indicating which button was clicker\n",
    "        \"\"\"\n",
    "        \n",
    "        while True:\n",
    "            pt = self.win.getMouse()\n",
    "            if self.done.clicked(pt):\n",
    "                return \"Done\"\n",
    "            if self.add.clicked(pt):\n",
    "                return \"Add\"\n",
    "            \n",
    "    def over(self):\n",
    "        while True:\n",
    "            pt = self.win.getMouse()\n",
    "            if self.done.clicked(pt):\n",
    "                return \"Done\"\n",
    "            if self.hand.clicked(pt):\n",
    "                return \"Hand\"\n",
    "        \n",
    "\n",
    "    def close(self):\n",
    "        \"\"\" close the input window \"\"\"\n",
    "        self.win.close()\n"
   ]
  },
  {
   "cell_type": "code",
   "execution_count": 42,
   "metadata": {},
   "outputs": [],
   "source": [
    "# Use this in main program tomorrow\n",
    "add = 5\n",
    "hand = 15\n",
    "players = ['Player1', \"Player2\"]\n",
    "hands = [11,2]\n",
    "counter = 0\n",
    "for i in players:\n",
    "    win3 = AddingCards(players[0+counter],hands[0+counter],15)\n",
    "    while True:\n",
    "        choice = win3.interact()\n",
    "        if choice == \"Add\":\n",
    "            #hands[0+counter] += add\n",
    "            win3.update(players[0+counter], hands[0+counter])\n",
    "        elif choice ==\"Done\":\n",
    "            win3.close()\n",
    "            break\n",
    "    counter +=1\n"
   ]
  },
  {
   "cell_type": "code",
   "execution_count": 1,
   "metadata": {},
   "outputs": [
    {
     "name": "stdout",
     "output_type": "stream",
     "text": [
      "Collecting button.py\n",
      "Note: you may need to restart the kernel to use updated packages.\n"
     ]
    },
    {
     "name": "stderr",
     "output_type": "stream",
     "text": [
      "  ERROR: Could not find a version that satisfies the requirement button.py (from versions: none)\n",
      "ERROR: No matching distribution found for button.py\n"
     ]
    }
   ],
   "source": []
  },
  {
   "cell_type": "code",
   "execution_count": null,
   "metadata": {},
   "outputs": [],
   "source": [
    "def black_jack():\n",
    "    \n",
    "    # Initalize variables\n",
    "    game_over = False\n",
    "    counter = 0\n",
    "    \n",
    "    # Finds out how many players there will be: max 5\n",
    "    n_players = int(input('How many players are there? (Max 5):'))\n",
    "    while n_players < 1 or n_players > 5:\n",
    "        n_players = int(input('How many players are there? (Max 5):'))\n",
    "        \n",
    "    # Creates a list of players, and a list of players still in the game (T/F)\n",
    "    player_list,players_in = create_players(n_players)\n",
    "    \n",
    "    \n",
    "    # Get's the players' and dealer's hands\n",
    "    wait = input(\"Are all players ready? Player1: Press any key to continue\")\n",
    "    players_cards, players_hands = get_initial_hand(player_list)\n",
    "    #players_hands = [15,19,21]\n",
    "    dealer_hand, hidden_card = get_dealer_hand()\n",
    "    #dealer_hand, hidden_card = 21, 10\n",
    "    #show_hands(players_hands,player_list)\n",
    "    \n",
    "    \"\"\"Shows the dealer's hand and one of their cards\"\"\"\n",
    "    dealer_win = DealerHand(dealer_hand,dealer_hand-hidden_card)\n",
    "    while True:\n",
    "        choice = dealer_win.interact()\n",
    "        if choice == \"Done\":\n",
    "            dealer_win.close()\n",
    "            break\n",
    "    \n",
    "    \"\"\"Shows The players their hands\"\"\"\n",
    "    inputwin = ShowHand(player_list[0])\n",
    "    counterSpecial = 0\n",
    "    for i in player_list:\n",
    "        while True:\n",
    "            choice = inputwin.interact()\n",
    "            if choice == \"Hand\":\n",
    "                inputwin.update(player_list[0+counterSpecial],players_hands[0+counterSpecial])\n",
    "            elif choice == \"Done\":\n",
    "                inputwin.update(0,0)\n",
    "                counterSpecial += 1\n",
    "                #window.close()\n",
    "                break\n",
    "    inputwin.close()\n",
    "    \n",
    "\n",
    "        \n",
    "    # Checks for a game over\n",
    "    game_over, win, players_in2 = game_check_new(players_hands,dealer_hand,player_list,players_in)\n",
    "    \n",
    "    \"\"\"In case of a rare first hand == 21 shows the players hands\"\"\"\n",
    "    if game_over == True:\n",
    "        #print(f\"Congratz {win}! You hit the 21!\")\n",
    "        win1 = GameOver(game_over,win)\n",
    "        choice = win1.interact()\n",
    "        while True:\n",
    "            if choice == \"Quit\":\n",
    "                win1.close()\n",
    "                break\n",
    "        print(f\"The Dealers hidden card was {hidden_card} there other card {dealer_hand-hidden_card} for a total hand of {dealer_hand}\")\n",
    "        show_hands(players_hands,player_list)\n",
    "    elif game_over == 'draw':\n",
    "        #print(f\"Draw between {win} and the dealer! All hit 21\")\n",
    "        win1 = GameOver(game_over,win)\n",
    "        choice = win1.interact()\n",
    "        while True:\n",
    "            if choice == \"Quit\":\n",
    "                win1.close()\n",
    "                break\n",
    "        print(f\"The Dealers hidden card was {hidden_card} there other card {dealer_hand-hidden_card} for a total hand of {dealer_hand}\")\n",
    "        game_over = True\n",
    "    # Makes sure the game hasn't ended\n",
    "    if game_over != True:\n",
    "        clear_output()\n",
    "    \n",
    "    \n",
    "    \n",
    "        # Remove Players who have busted\n",
    "        players_hands2,players_in3,player_list2 = remove_players(players_in2,players_hands,player_list)\n",
    "        \n",
    "        \"\"\"Allow players to add cards if they'd like\"\"\"\n",
    "        players_hands3,players_in4,player_list3 = add_cards(players_hands2,player_list2,dealer_hand,players_in3)\n",
    "        clear_output()\n",
    "        show_hands(players_hands3,player_list3)\n",
    "\n",
    "        # Checks for game over\n",
    "        game_over = game_check_new(players_hands3,dealer_hand,player_list3,players_in4)[0]\n",
    "       \n",
    "        # Reveals the dealer's hidden card and their total hand\n",
    "        print(f\"The Dealers hidden card was {hidden_card} there other card {dealer_hand-hidden_card} for a total hand of {dealer_hand}\")\n",
    "        \n",
    "        # Runs until we've reached an game over state\n",
    "        while game_over != True:\n",
    "            # If the dealer lands b/w 17 and 21 they are set and it checks for a winner\n",
    "                if dealer_hand >= 17 and dealer_hand <= 21:\n",
    "                    game_over = game_check_new(players_hands3,dealer_hand,player_list3,players_in4)[0]\n",
    "                    win = game_check_new(players_hands3,dealer_hand,player_list3,players_in4)[1]\n",
    "                    #win1 = GameOver(game_over,win)\n",
    "                    if game_over == 'dealer_bust':\n",
    "                        highest, winners = highest_score(players_hands3,player_list3)\n",
    "                        win1 = GameOver(game_over,winners)\n",
    "                        choice = win1.interact()\n",
    "                        while True:\n",
    "                            if choice == \"Quit\":\n",
    "                                win1.close()\n",
    "                                break\n",
    "                        print(f\"Congratz {winners}! You had the highest Score and the dealer busted!\")\n",
    "                        game_over = True\n",
    "                        break\n",
    "                    elif game_over == 'Special':\n",
    "                        print(f\"Hit the special where dealer is between 17 and 21\")\n",
    "                        # Compares the dealer's hand to the remaning players for the winner\n",
    "                        highest, winner = highest_score(players_hands3,player_list3)\n",
    "                        ending = final_compare(highest,winner,dealer_hand)\n",
    "                        print(ending)\n",
    "                        win1 = GameOver(game_over,winner)\n",
    "                        choice = win1.interact()\n",
    "                        while True:\n",
    "                            if choice == \"Quit\":\n",
    "                                win1.close()\n",
    "                                break\n",
    "                        game_over = True\n",
    "                        break\n",
    "                else:\n",
    "                    # Keeps adding cards until the dealer hits b/w 17-21 or busts\n",
    "                    counter +=1\n",
    "                    dealer_hand = add_card(dealer_hand)\n",
    "                    print()\n",
    "                    print(f'{counter} cards added: New dealer hand {dealer_hand}')\n",
    "                    game_over = game_check_new(players_hands3,dealer_hand,player_list3,players_in4)[0]\n",
    "\n",
    "                    # If the dealer busts looks for who had the highest score out of remaining players\n",
    "                    if game_over == 'dealer_bust':\n",
    "                        highest, winners = highest_score(players_hands3,player_list3)\n",
    "                        print(f\"Congratz {winners}! You had the highest Score and the dealer busted!\")\n",
    "                        game_over = True\n",
    "                        break\n",
    "                    continue\n"
   ]
  },
  {
   "cell_type": "code",
   "execution_count": 21,
   "metadata": {},
   "outputs": [
    {
     "name": "stdout",
     "output_type": "stream",
     "text": [
      "Text\n"
     ]
    }
   ],
   "source": [
    "from graphics import *\n",
    "from button import Button\n",
    "\n",
    "win = GraphWin(\"Hello\", 500,500)\n",
    "win.setCoords(0,0,5,5)\n",
    "quit = Button(win, Point(3,4), 1.25, .5, \"Quit\")\n",
    "quit.activate()\n",
    "entry = Entry(Point(1,1), 10).draw(win)\n",
    "text = entry.getText()\n",
    "pt = win.getMouse()\n",
    "if quit.clicked(pt):\n",
    "    choice = \"Quit\"\n",
    "\n",
    "if choice == 'Quit':\n",
    "    win.getMouse()\n",
    "    win.close()\n",
    "print(f\"Text{text}\")"
   ]
  },
  {
   "cell_type": "raw",
   "metadata": {},
   "source": []
  }
 ],
 "metadata": {
  "kernelspec": {
   "display_name": "Python 3",
   "language": "python",
   "name": "python3"
  },
  "language_info": {
   "codemirror_mode": {
    "name": "ipython",
    "version": 3
   },
   "file_extension": ".py",
   "mimetype": "text/x-python",
   "name": "python",
   "nbconvert_exporter": "python",
   "pygments_lexer": "ipython3",
   "version": "3.7.3"
  }
 },
 "nbformat": 4,
 "nbformat_minor": 2
}
