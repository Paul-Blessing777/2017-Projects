{
 "cells": [
  {
   "cell_type": "markdown",
   "metadata": {},
   "source": [
    "## 9.1 Simulating Racquetball"
   ]
  },
  {
   "cell_type": "code",
   "execution_count": 1,
   "metadata": {},
   "outputs": [],
   "source": [
    "# The book is using Raquetball as an example simulation between two players with probabilities of winning for both\n",
    "# it will simulate 500 games"
   ]
  },
  {
   "cell_type": "markdown",
   "metadata": {},
   "source": [
    "A pseudo-random number generator works by starting with some seed value. This value is fed to a function to produce a \"random\" number. The next time a random number is needed, the current value is fed back into the function to produce a new number.With a carefully chosen function, the resulting sequence of values looks esentially random. Of course, if you start the process over again with the same seed value, you end up with exactly the same sequence of numbers. It's all determined by the generating function and the value of the seed."
   ]
  },
  {
   "cell_type": "markdown",
   "metadata": {},
   "source": [
    "The python modules for these functions generate the numbers from the date and time so they will be different each time."
   ]
  },
  {
   "cell_type": "markdown",
   "metadata": {},
   "source": [
    "The randrange function is used to select a pseudo-random int from a given range."
   ]
  },
  {
   "cell_type": "code",
   "execution_count": 8,
   "metadata": {},
   "outputs": [
    {
     "name": "stdout",
     "output_type": "stream",
     "text": [
      "3\n",
      "4\n",
      "4\n",
      "1\n",
      "\n",
      "75\n"
     ]
    }
   ],
   "source": [
    "# Using radrange\n",
    "from random import randrange\n",
    "print(randrange(1,6))\n",
    "print(randrange(1,6))\n",
    "print(randrange(1,6))\n",
    "print(randrange(1,6))\n",
    "print()\n",
    "print(randrange(5,105,5))"
   ]
  },
  {
   "cell_type": "markdown",
   "metadata": {},
   "source": [
    "The random function can be used to generate psuedo-random floating-point values. It takes no parameters and returns values uniformly distributed b/w 0 and 1 (including 0, but excluding 1)."
   ]
  },
  {
   "cell_type": "code",
   "execution_count": 13,
   "metadata": {},
   "outputs": [
    {
     "name": "stdout",
     "output_type": "stream",
     "text": [
      "0.38614427738916424\n",
      "0.9983770414298914\n",
      "0.48781665489975734\n",
      "0.39864199084767626\n",
      "0.6\n",
      "0.2\n",
      "0.3\n",
      "0.181\n"
     ]
    }
   ],
   "source": [
    "# Using random function\n",
    "from random import random\n",
    "print(random())\n",
    "print(random())\n",
    "print(random())\n",
    "print(random())\n",
    "print(round(random(),1))\n",
    "print(round(random(),1))\n",
    "print(round(random(),1))\n",
    "print(round(random(),3))"
   ]
  },
  {
   "cell_type": "markdown",
   "metadata": {},
   "source": [
    "## This is my attempt at the raquetball sim before the book gives you the process. It Works!"
   ]
  },
  {
   "cell_type": "code",
   "execution_count": 123,
   "metadata": {},
   "outputs": [],
   "source": [
    "from random import random\n",
    "def raquet(probA,probB):\n",
    "    \n",
    "    game = 0\n",
    "    scoreA = 0\n",
    "    scoreB = 0\n",
    "    winsA = 0\n",
    "    winsB = 0\n",
    "    end = False\n",
    "    \n",
    "    while game < 500:\n",
    "        game += 1\n",
    "        end = False\n",
    "        server = 'serverA' \n",
    "        scoreA = 0\n",
    "        scoreB = 0\n",
    "        \n",
    "        while end == False:\n",
    "            if server == 'serverA':\n",
    "                if random() < probA:\n",
    "                    scoreA += 1\n",
    "                    if scoreA == 15:\n",
    "                        winsA +=1\n",
    "                        end = True\n",
    "                        break\n",
    "                else:\n",
    "                    server = 'serverB'\n",
    "                    \n",
    "            elif server == 'serverB':\n",
    "                if random() < probB:\n",
    "                    scoreB += 1\n",
    "                    if scoreB == 15:\n",
    "                        winsB +=1\n",
    "                        end = True\n",
    "                        break\n",
    "                else:\n",
    "                    server = 'serverA'\n",
    "\n",
    "    print(f\"Games simulated: {game}\")\n",
    "    print(f\"Wins for A: {winsA} {round((winsA / game)*100,1)}%\")\n",
    "    print(f\"Wins for B: {winsB} {round((winsB / game)*100,1)}%\")"
   ]
  },
  {
   "cell_type": "code",
   "execution_count": 124,
   "metadata": {},
   "outputs": [
    {
     "name": "stdout",
     "output_type": "stream",
     "text": [
      "Games simulated: 500\n",
      "Wins for A: 500 100.0%\n",
      "Wins for B: 0 0.0%\n"
     ]
    }
   ],
   "source": [
    "raquet(.7,.3)"
   ]
  },
  {
   "cell_type": "markdown",
   "metadata": {},
   "source": [
    "Now Back to the book3"
   ]
  },
  {
   "cell_type": "markdown",
   "metadata": {},
   "source": [
    "## 9.3 Top-Down Design"
   ]
  },
  {
   "cell_type": "markdown",
   "metadata": {},
   "source": [
    "The high-level view of this program is as follows:<br><br>\n",
    "Print an introduction <br>\n",
    "Get the inputs: probA, probB, n <br>\n",
    "Simulate n games of racquetball using probA and probB <br>\n",
    "Print a report on the wins for PlayerA and PlayerB"
   ]
  },
  {
   "cell_type": "markdown",
   "metadata": {},
   "source": [
    "## The book goes through step by step how to make these 4 functions. I went ahead and did it in my own may and the results are below"
   ]
  },
  {
   "cell_type": "code",
   "execution_count": 131,
   "metadata": {},
   "outputs": [],
   "source": [
    "# We will look at our program as series of functions\n",
    "def main():\n",
    "    printIntroM()\n",
    "    probA, probB, n = getInputsM()\n",
    "    winsA, winsB = simNGamesM(n,probA,probB)\n",
    "    print()\n",
    "    printSummaryM(winsA,winsB,n)"
   ]
  },
  {
   "cell_type": "code",
   "execution_count": 132,
   "metadata": {},
   "outputs": [
    {
     "name": "stdout",
     "output_type": "stream",
     "text": [
      "This program simulates a game of racquetball between two\n",
      "players called \"A\" and \"B\".  The abilities of each player is\n",
      "indicated by a probability (a number between 0 and 1) that\n",
      "the player wins the point when serving. Player A always\n",
      "has the first serve.\n",
      "What is the prob. Player A wins a serve? .78\n",
      "What is the prob. Player B wins a serve? .22\n",
      "How many games will be played? 1000\n",
      "\n",
      "Games simulated: 1000\n",
      "Wins for A: 1000 100.0%\n",
      "Wins for B: 0 0.0%\n"
     ]
    }
   ],
   "source": [
    "main()"
   ]
  },
  {
   "cell_type": "markdown",
   "metadata": {},
   "source": [
    "### 9.3.3"
   ]
  },
  {
   "cell_type": "markdown",
   "metadata": {},
   "source": [
    "### PrintIntro function (my Own)"
   ]
  },
  {
   "cell_type": "code",
   "execution_count": 91,
   "metadata": {},
   "outputs": [],
   "source": [
    "def printIntroM():\n",
    "    print(\"This program simulates a game of racquetball between two\")\n",
    "    print('players called \"A\" and \"B\".  The abilities of each player is')\n",
    "    print(\"indicated by a probability (a number between 0 and 1) that\")\n",
    "    print(\"the player wins the point when serving. Player A always\")\n",
    "    print(\"has the first serve.\")\n",
    "    "
   ]
  },
  {
   "cell_type": "markdown",
   "metadata": {},
   "source": [
    "### getInputs Function (my Own)"
   ]
  },
  {
   "cell_type": "code",
   "execution_count": 92,
   "metadata": {},
   "outputs": [],
   "source": [
    "def getInputsM():\n",
    "    probA = float(input(\"What is the prob. Player A wins a serve? \"))\n",
    "    probB = float(input(\"What is the prob. Player B wins a serve? \"))\n",
    "    n = int(input(\"How many games will be played? \"))\n",
    "    return probA,probB,n"
   ]
  },
  {
   "cell_type": "markdown",
   "metadata": {},
   "source": [
    "### simNGames function (my own)"
   ]
  },
  {
   "cell_type": "code",
   "execution_count": 104,
   "metadata": {},
   "outputs": [],
   "source": [
    "def simNGamesM(n,probA,probB):\n",
    "    game = 0\n",
    "    winsA = 0\n",
    "    winsB = 0\n",
    "    \n",
    "    while game < n:\n",
    "        game += 1\n",
    "        winA,winB = simOneGameM(probA,probB)\n",
    "        if winA == True:\n",
    "            winsA += 1\n",
    "        elif winB == True:\n",
    "            winsB += 1\n",
    "            \n",
    "    return winsA,winsB"
   ]
  },
  {
   "cell_type": "code",
   "execution_count": 105,
   "metadata": {},
   "outputs": [
    {
     "data": {
      "text/plain": [
       "(5, 0)"
      ]
     },
     "execution_count": 105,
     "metadata": {},
     "output_type": "execute_result"
    }
   ],
   "source": [
    "simNGamesM(5,.7,.3)"
   ]
  },
  {
   "cell_type": "markdown",
   "metadata": {},
   "source": [
    "### simOneGame Function (my own)"
   ]
  },
  {
   "cell_type": "code",
   "execution_count": 96,
   "metadata": {},
   "outputs": [],
   "source": [
    "def simOneGameM(probA,probB):\n",
    "    end = False\n",
    "    server = 'serverA'\n",
    "    scoreA = 0\n",
    "    scoreB = 0\n",
    "    winsA = False\n",
    "    winsB = False\n",
    "    \n",
    "    while end == False:\n",
    "            if server == 'serverA':\n",
    "                if random() < probA:\n",
    "                    scoreA += 1\n",
    "                    if scoreA == 15:\n",
    "                        winsA = True\n",
    "                        end = True\n",
    "                        break\n",
    "                else:\n",
    "                    server = 'serverB'\n",
    "                    \n",
    "            elif server == 'serverB':\n",
    "                if random() < probB:\n",
    "                    scoreB += 1\n",
    "                    if scoreB == 15:\n",
    "                        winsB = True\n",
    "                        end = True\n",
    "                        break\n",
    "                else:\n",
    "                    server = 'serverA'\n",
    "                    \n",
    "    return winsA,winsB\n",
    "    "
   ]
  },
  {
   "cell_type": "code",
   "execution_count": 97,
   "metadata": {},
   "outputs": [
    {
     "data": {
      "text/plain": [
       "(True, False)"
      ]
     },
     "execution_count": 97,
     "metadata": {},
     "output_type": "execute_result"
    }
   ],
   "source": [
    "simOneGameM(.7,.3)"
   ]
  },
  {
   "cell_type": "markdown",
   "metadata": {},
   "source": [
    "### printSummary Function (my Own)"
   ]
  },
  {
   "cell_type": "code",
   "execution_count": 98,
   "metadata": {},
   "outputs": [],
   "source": [
    "def printSummaryM(winsA,winsB,n):\n",
    "    print(f\"Games simulated: {n}\")\n",
    "    print(f\"Wins for A: {winsA} {round((winsA / n)*100,1)}%\")\n",
    "    print(f\"Wins for B: {winsB} {round((winsB / n)*100,1)}%\")"
   ]
  },
  {
   "cell_type": "markdown",
   "metadata": {},
   "source": [
    "# Back to the book"
   ]
  },
  {
   "cell_type": "markdown",
   "metadata": {},
   "source": [
    "## 9.3.2"
   ]
  },
  {
   "cell_type": "markdown",
   "metadata": {},
   "source": [
    "We have broken the original problem into four independent tasks. Furthermore, we have specified the name, parameters, and expected return values of the functions that perform thse tasks. This information is called the interface or signature of a function <br><br>\n",
    "Having signatures allows us to tackle pieces independently. For the purposes of main, we don't care how simNGames() does its job. The only concern is that, when given the number of games to simulate and two problabilities, it must return the correct number of wins for each player. The main function only cares about what each sub-function does."
   ]
  },
  {
   "cell_type": "markdown",
   "metadata": {},
   "source": [
    "## 9.3.3"
   ]
  },
  {
   "cell_type": "code",
   "execution_count": 114,
   "metadata": {},
   "outputs": [],
   "source": [
    "# Now we begin making our functions\n",
    "def printIntro():\n",
    "    print(\"This program simulates a game of racquetball between two\")\n",
    "    print('players called \"A\" and \"B\".  The abilities of each player is')\n",
    "    print(\"indicated by a probability (a number between 0 and 1) that\")\n",
    "    print(\"the player wins the point when serving. Player A always\")\n",
    "    print(\"has the first serve.\")"
   ]
  },
  {
   "cell_type": "code",
   "execution_count": 115,
   "metadata": {},
   "outputs": [],
   "source": [
    "def getInputs():\n",
    "    # Returns the three simulation parameters\n",
    "    a = float(input(\"What is the prob. player A wins a serve? \"))\n",
    "    b = float(input(\"What is the prob. player B wins a serve? \"))\n",
    "    n = int(input(\"How many games to simulate? \"))\n",
    "    return a, b, n"
   ]
  },
  {
   "cell_type": "markdown",
   "metadata": {},
   "source": [
    "## 9.3.4"
   ]
  },
  {
   "cell_type": "markdown",
   "metadata": {},
   "source": [
    "We need to make the simNGames function so things are going to get a bit tougher. <br>\n",
    "We can break down the steps to this function like below: <br><br>\n",
    "initialize winsA and winsB to 0<br>\n",
    "loop n times <br>\n",
    "simulate a game <br>\n",
    "if playerA wins - add one to winsA<br>\n",
    "else - add one to winsB"
   ]
  },
  {
   "cell_type": "code",
   "execution_count": 116,
   "metadata": {},
   "outputs": [],
   "source": [
    "# So we will begin building the program\n",
    "def simNGames(n, probA, probB):\n",
    "    # Simulates n games of racquetball between players whose\n",
    "    #    abilities are represented by the probability of winning a serve.\n",
    "    # Returns number of wins for A and B\n",
    "    winsA = winsB = 0\n",
    "    for i in range(n):\n",
    "        scoreA, scoreB = simOneGame(probA, probB)\n",
    "        if scoreA > scoreB:\n",
    "            winsA = winsA + 1\n",
    "        else:\n",
    "            winsB = winsB + 1\n",
    "    return winsA, winsB"
   ]
  },
  {
   "cell_type": "markdown",
   "metadata": {},
   "source": [
    "## 9.3.5"
   ]
  },
  {
   "cell_type": "code",
   "execution_count": 117,
   "metadata": {},
   "outputs": [],
   "source": [
    "# Now we will build the simOneGame function\n",
    "def simOneGame(probA, probB):\n",
    "    # Simulates a single game or racquetball between players whose\n",
    "    #    abilities are represented by the probability of winning a serve.\n",
    "    # Returns final scores for A and B\n",
    "    serving = \"A\"\n",
    "    scoreA = 0\n",
    "    scoreB = 0\n",
    "    while not gameOver(scoreA, scoreB):\n",
    "        if serving == \"A\":\n",
    "            if random() < probA:\n",
    "                scoreA = scoreA + 1\n",
    "            else:\n",
    "                serving = \"B\"\n",
    "        else:\n",
    "            if random() < probB:\n",
    "                scoreB = scoreB + 1\n",
    "            else:\n",
    "                serving = \"A\"\n",
    "    return scoreA, scoreB"
   ]
  },
  {
   "cell_type": "markdown",
   "metadata": {},
   "source": [
    "## 9.3.6"
   ]
  },
  {
   "cell_type": "code",
   "execution_count": 120,
   "metadata": {},
   "outputs": [],
   "source": [
    "# Now we just need to create the gameOver function and the printSummary function\n",
    "def gameOver(a, b):\n",
    "    # a and b represent scores for a racquetball game\n",
    "    # Returns True if the game is over, False otherwise.\n",
    "    return a==15 or b==15\n",
    "\n",
    "def printSummary(winsA, winsB):\n",
    "    # Prints a summary of wins for each player.\n",
    "    n = winsA + winsB\n",
    "    print(\"\\nGames simulated:\", n)\n",
    "    print(\"Wins for A: {0} ({1:0.1%})\".format(winsA, winsA/n))\n",
    "    print(\"Wins for B: {0} ({1:0.1%})\".format(winsB, winsB/n))"
   ]
  },
  {
   "cell_type": "code",
   "execution_count": 122,
   "metadata": {},
   "outputs": [
    {
     "name": "stdout",
     "output_type": "stream",
     "text": [
      "This program simulates a game of racquetball between two\n",
      "players called \"A\" and \"B\".  The abilities of each player is\n",
      "indicated by a probability (a number between 0 and 1) that\n",
      "the player wins the point when serving. Player A always\n",
      "has the first serve.\n",
      "What is the prob. player A wins a serve? .64\n",
      "What is the prob. player B wins a serve? .36\n",
      "How many games to simulate? 1400\n",
      "\n",
      "Games simulated: 1400\n",
      "Wins for A: 1385 (98.9%)\n",
      "Wins for B: 15 (1.1%)\n"
     ]
    }
   ],
   "source": [
    "# rball.py\n",
    "#    Simulation of a racquetball game\n",
    "\n",
    "from random import random\n",
    "\n",
    "def main():\n",
    "    printIntro()\n",
    "    probA, probB, n = getInputs()\n",
    "    winsA, winsB = simNGames(n, probA, probB)\n",
    "    printSummary(winsA, winsB)\n",
    "\n",
    "if __name__ == '__main__': main()"
   ]
  },
  {
   "cell_type": "markdown",
   "metadata": {},
   "source": [
    "## 9.3.7 Summary of the Design Process"
   ]
  },
  {
   "cell_type": "markdown",
   "metadata": {},
   "source": [
    "The whole process we just went through can be defined in these steps:<br><br>\n",
    "1.Express the algorithm as a series of smaller problems. <br>\n",
    "2. Develop an interface for each of the small problems.<br>\n",
    "3. Detail the alogrithm by expressing it in terms of its interfaces with the smaller problems.<br>\n",
    "4. Repeat the process for each smaller problem"
   ]
  },
  {
   "cell_type": "markdown",
   "metadata": {},
   "source": [
    "## 9.4 Bottom up Implementation"
   ]
  },
  {
   "cell_type": "code",
   "execution_count": 138,
   "metadata": {},
   "outputs": [
    {
     "name": "stdout",
     "output_type": "stream",
     "text": [
      "False\n",
      "True\n",
      "False\n",
      "True\n"
     ]
    }
   ],
   "source": [
    "# A good way to approach the implementation of a modest-sized program is to start at the lowest levels of the structure\n",
    "# chart and work your way up, testing each component as you complete it.\n",
    "\n",
    "# We will start with the gameOver function\n",
    "\n",
    "print(gameOver(0,0))\n",
    "print(gameOver(15,6))\n",
    "print(gameOver(11,14))\n",
    "print(gameOver(15,15))"
   ]
  },
  {
   "cell_type": "code",
   "execution_count": 142,
   "metadata": {},
   "outputs": [
    {
     "name": "stdout",
     "output_type": "stream",
     "text": [
      "(15, 13)\n",
      "(7, 15)\n",
      "(6, 15)\n",
      "(13, 15)\n"
     ]
    }
   ],
   "source": [
    "# Now we will test the simOneGame function\n",
    "print(simOneGame(.5,.5))\n",
    "print(simOneGame(.3,.5))\n",
    "print(simOneGame(.5,.8))\n",
    "print(simOneGame(.2,.2))\n"
   ]
  },
  {
   "cell_type": "markdown",
   "metadata": {},
   "source": [
    "## 9.4.2 Simulation Results"
   ]
  },
  {
   "cell_type": "code",
   "execution_count": 153,
   "metadata": {},
   "outputs": [
    {
     "name": "stdout",
     "output_type": "stream",
     "text": [
      "True\n",
      "True\n",
      "True\n",
      "True\n",
      "True\n",
      "True\n",
      "True\n",
      "True\n",
      "True\n",
      "True\n",
      "True\n",
      "True\n",
      "True\n",
      "True\n",
      "True\n",
      "True\n",
      "True\n",
      "True\n",
      "True\n",
      "True\n",
      "True\n",
      "True\n",
      "True\n",
      "True\n",
      "True\n"
     ]
    }
   ],
   "source": [
    "for i in range(25):\n",
    "    ranNumber = random()\n",
    "    print(ranNumber < 66)"
   ]
  },
  {
   "cell_type": "code",
   "execution_count": 171,
   "metadata": {},
   "outputs": [
    {
     "name": "stdout",
     "output_type": "stream",
     "text": [
      "True % 0.76, False % 0.24\n",
      "True % 0.76, False % 0.24\n",
      "True % 0.7, False % 0.3\n",
      "True % 0.69, False % 0.31\n",
      "True % 0.63, False % 0.37\n",
      "True % 0.6, False % 0.4\n",
      "True % 0.61, False % 0.39\n",
      "True % 0.59, False % 0.41\n",
      "True % 0.62, False % 0.38\n",
      "True % 0.73, False % 0.27\n"
     ]
    }
   ],
   "source": [
    "trueCount = 0\n",
    "falseCount = 0\n",
    "end = False\n",
    "count = 0\n",
    "\n",
    "while end == False:\n",
    "    for i in range(100):\n",
    "        ranNumber = random()\n",
    "        outcome = ranNumber < .66\n",
    "        if outcome == True:\n",
    "            trueCount += 1\n",
    "        else:\n",
    "            falseCount +=1\n",
    "\n",
    "    truePerc = trueCount / 100\n",
    "    falsePerc = falseCount / 100\n",
    "    print(f\"True % {truePerc}, False % {falsePerc}\")\n",
    "    count +=1\n",
    "    trueCount = 0\n",
    "    falseCount = 0\n",
    "    if count == 10:\n",
    "        end = True"
   ]
  },
  {
   "cell_type": "code",
   "execution_count": null,
   "metadata": {},
   "outputs": [],
   "source": []
  }
 ],
 "metadata": {
  "kernelspec": {
   "display_name": "Python 3",
   "language": "python",
   "name": "python3"
  },
  "language_info": {
   "codemirror_mode": {
    "name": "ipython",
    "version": 3
   },
   "file_extension": ".py",
   "mimetype": "text/x-python",
   "name": "python",
   "nbconvert_exporter": "python",
   "pygments_lexer": "ipython3",
   "version": "3.7.3"
  }
 },
 "nbformat": 4,
 "nbformat_minor": 2
}
