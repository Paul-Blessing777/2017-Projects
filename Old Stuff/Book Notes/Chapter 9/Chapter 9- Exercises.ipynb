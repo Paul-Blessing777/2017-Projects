{
 "cells": [
  {
   "cell_type": "markdown",
   "metadata": {},
   "source": [
    "# Exercise 1"
   ]
  },
  {
   "cell_type": "markdown",
   "metadata": {},
   "source": [
    "### My Solution"
   ]
  },
  {
   "cell_type": "code",
   "execution_count": 1,
   "metadata": {},
   "outputs": [],
   "source": [
    "def printIntroM():\n",
    "    print(\"This program simulates a game of racquetball between two\")\n",
    "    print('players called \"A\" and \"B\".  The abilities of each player is')\n",
    "    print(\"indicated by a probability (a number between 0 and 1) that\")\n",
    "    print(\"the player wins the point when serving. Player A always\")\n",
    "    print(\"has the first serve.\")\n",
    "    "
   ]
  },
  {
   "cell_type": "code",
   "execution_count": 72,
   "metadata": {},
   "outputs": [],
   "source": [
    "def getInputsM():\n",
    "    probA = float(input(\"What is the prob. Player A wins a serve? \"))\n",
    "    probB = float(input(\"What is the prob. Player B wins a serve? \"))\n",
    "    games_n = int(input('How many games will be played? '))\n",
    "    out_of_n = int(input(\"How many rounds will be played to find a winner for a game? \"))\n",
    "    return probA,probB,games_n, out_of_n"
   ]
  },
  {
   "cell_type": "code",
   "execution_count": 61,
   "metadata": {},
   "outputs": [],
   "source": [
    "def simNGamesM(n,probA,probB):\n",
    "    game = 0\n",
    "    winsA = 0\n",
    "    winsB = 0\n",
    "    server = ''\n",
    "    \n",
    "    while game < n:\n",
    "        game += 1\n",
    "        if game % 2 == 0:\n",
    "            server = \"serverB\"\n",
    "        elif game % 2 != 0:\n",
    "            server = \"serverA\"\n",
    "        winA,winB = simOneGameM(probA,probB,server)\n",
    "        if winA == True:\n",
    "            winsA += 1\n",
    "        elif winB == True:\n",
    "            winsB += 1\n",
    "            \n",
    "    return winsA,winsB"
   ]
  },
  {
   "cell_type": "code",
   "execution_count": 62,
   "metadata": {},
   "outputs": [],
   "source": [
    "def simOneGameM(probA,probB,server):\n",
    "    end = False\n",
    "    game_server = server\n",
    "    scoreA = 0\n",
    "    scoreB = 0\n",
    "    winsA = False\n",
    "    winsB = False\n",
    "    \n",
    "    while end == False:\n",
    "            if game_server == 'serverA':\n",
    "                if random() < probA:\n",
    "                    scoreA += 1\n",
    "                    if scoreA == 15:\n",
    "                        winsA = True\n",
    "                        end = True\n",
    "                        break\n",
    "                else:\n",
    "                    game_server = 'serverB'\n",
    "                    \n",
    "            elif game_server == 'serverB':\n",
    "                if random() < probB:\n",
    "                    scoreB += 1\n",
    "                    if scoreB == 15:\n",
    "                        winsB = True\n",
    "                        end = True\n",
    "                        break\n",
    "                else:\n",
    "                    game_server = 'serverA'\n",
    "                    \n",
    "    return winsA,winsB"
   ]
  },
  {
   "cell_type": "code",
   "execution_count": 63,
   "metadata": {},
   "outputs": [],
   "source": [
    "def printSummaryM(game_winsA,game_winsB,draws,games_n):\n",
    "    print(f\"Games simulated: {games_n}\")\n",
    "    print(f\"Wins for A: {game_winsA} {round((game_winsA / games_n)*100,1)}%\")\n",
    "    print(f\"Wins for B: {game_winsB} {round((game_winsB / games_n)*100,1)}%\")\n",
    "    print(f\"Total Draws: {draws}\")"
   ]
  },
  {
   "cell_type": "code",
   "execution_count": 64,
   "metadata": {},
   "outputs": [],
   "source": [
    "def bestOf(winsA,winsB):\n",
    "    winner = ''\n",
    "    if winsA > winsB:\n",
    "        winner = 'A'\n",
    "        return winner\n",
    "    elif winsA < winsB:\n",
    "        winner = 'B'\n",
    "        return winner\n",
    "    elif winsA == winsB:\n",
    "        winner = 'Draw'\n",
    "        return winner"
   ]
  },
  {
   "cell_type": "code",
   "execution_count": 65,
   "metadata": {},
   "outputs": [
    {
     "data": {
      "text/plain": [
       "'A'"
      ]
     },
     "execution_count": 65,
     "metadata": {},
     "output_type": "execute_result"
    }
   ],
   "source": [
    "bestOf(2,1)"
   ]
  },
  {
   "cell_type": "code",
   "execution_count": 66,
   "metadata": {},
   "outputs": [],
   "source": [
    "def matchs(games_n,out_of_n,probA,probB):\n",
    "    end = False\n",
    "    game_winsA = 0\n",
    "    game_winsB = 0\n",
    "    draws = 0\n",
    "    counter = 0\n",
    "    \n",
    "    while end != True:\n",
    "        winsA, winsB = simNGamesM(out_of_n,probA,probB)\n",
    "        winner = bestOf(winsA,winsB)\n",
    "        if winner == 'A':\n",
    "            game_winsA += 1\n",
    "        if winner == 'B':\n",
    "            game_winsB += 1\n",
    "        elif winner == 'Draw':\n",
    "            draws += 1\n",
    "        counter += 1\n",
    "\n",
    "        # Reset the variables for each iteration\n",
    "        winsA, winsB = 0,0\n",
    "        winner = ''\n",
    "        if counter >= games_n:\n",
    "            end = True\n",
    "            \n",
    "    return game_winsA, game_winsB, draws\n",
    "    \n",
    "        \n",
    "        \n",
    "    "
   ]
  },
  {
   "cell_type": "code",
   "execution_count": 67,
   "metadata": {},
   "outputs": [
    {
     "data": {
      "text/plain": [
       "(10, 0, 0)"
      ]
     },
     "execution_count": 67,
     "metadata": {},
     "output_type": "execute_result"
    }
   ],
   "source": [
    "matchs(10,3,.55,.33)"
   ]
  },
  {
   "cell_type": "code",
   "execution_count": 70,
   "metadata": {},
   "outputs": [],
   "source": [
    "from random import random\n",
    "\n",
    "def main():\n",
    "    printIntroM()\n",
    "    probA, probB,games_n, out_of_n = getInputsM()\n",
    "    game_winsA, game_winsB, draws = matchs(games_n,out_of_n,probA,probB)\n",
    "    print()\n",
    "    printSummaryM(game_winsA,game_winsB,draws,games_n)"
   ]
  },
  {
   "cell_type": "code",
   "execution_count": 74,
   "metadata": {},
   "outputs": [
    {
     "name": "stdout",
     "output_type": "stream",
     "text": [
      "This program simulates a game of racquetball between two\n",
      "players called \"A\" and \"B\".  The abilities of each player is\n",
      "indicated by a probability (a number between 0 and 1) that\n",
      "the player wins the point when serving. Player A always\n",
      "has the first serve.\n",
      "What is the prob. Player A wins a serve? .55\n",
      "What is the prob. Player B wins a serve? .52\n",
      "How many games will be played? 500\n",
      "How many rounds will be played to find a winner for a game? 3\n",
      "\n",
      "Games simulated: 500\n",
      "Wins for A: 320 64.0%\n",
      "Wins for B: 180 36.0%\n",
      "Total Draws: 0\n"
     ]
    }
   ],
   "source": [
    "main()"
   ]
  },
  {
   "cell_type": "markdown",
   "metadata": {},
   "source": [
    "### Book Solution"
   ]
  },
  {
   "cell_type": "code",
   "execution_count": 75,
   "metadata": {},
   "outputs": [
    {
     "name": "stdout",
     "output_type": "stream",
     "text": [
      "This program simulates racquetball matches between two\n",
      "players called \"A\" and \"B\".  The abilities of each player is\n",
      "indicated by a probability (a number between 0 and 1) that\n",
      "the player wins the point when serving. Player A always\n",
      "serves first in the first game of a match, and the first\n",
      "service alternates in subsequent games. \n",
      "\n",
      "What is the prob. player A wins a serve? .55\n",
      "What is the prob. player B wins a serve? .52\n",
      "How many games are in a match? 3\n",
      "How many matches should be simulated? 500\n",
      "\n",
      "Matches simulated: 500\n",
      "Wins for A: 322 (64.4%)\n",
      "Wins for B: 178 (35.6%)\n"
     ]
    }
   ],
   "source": [
    "# c09ex01.py\n",
    "#  Racquetball best of n games\n",
    "\n",
    "from random import random\n",
    "\n",
    "def main():\n",
    "    printIntro()\n",
    "    probA, probB, n, matches = getInputs()\n",
    "    winsA, winsB = simMatches(matches, n, probA, probB)\n",
    "    printSummary(winsA, winsB)\n",
    "\n",
    "def printIntro():\n",
    "    # Prints an introduction to the program\n",
    "    print(\"This program simulates racquetball matches between two\")\n",
    "    print('players called \"A\" and \"B\".  The abilities of each player is')\n",
    "    print(\"indicated by a probability (a number between 0 and 1) that\")\n",
    "    print(\"the player wins the point when serving. Player A always\")\n",
    "    print(\"serves first in the first game of a match, and the first\")\n",
    "    print(\"service alternates in subsequent games. \\n\")\n",
    "\n",
    "def getInputs():\n",
    "    # RETURNS probA, probB, number of games to simulate\n",
    "    a = float(input(\"What is the prob. player A wins a serve? \"))\n",
    "    b = float(input(\"What is the prob. player B wins a serve? \"))\n",
    "    n = int(input(\"How many games are in a match? \"))\n",
    "    m = int(input(\"How many matches should be simulated? \"))\n",
    "    return a, b, n, m\n",
    "\n",
    "def simMatches(howMany, n, probA, probB):\n",
    "    # Simulates n games of racquetball between players A and B\n",
    "    # RETURNS number of wins for A, number of wins for B\n",
    "    winsA = winsB = 0\n",
    "    for i in range(howMany):\n",
    "        gamesA, gamesB = simOneMatch(n, probA, probB)\n",
    "        if gamesA > gamesB:\n",
    "            winsA = winsA + 1\n",
    "        else:\n",
    "            winsB = winsB + 1\n",
    "    return winsA, winsB\n",
    "\n",
    "def simOneMatch(n, probA, probB):\n",
    "    gamesA = gamesB = 0\n",
    "    needed = n/2 + 1\n",
    "    while gamesA < needed and gamesB < needed:\n",
    "        # Alternate serves, A serves first game of match\n",
    "        if (gamesA + gamesB) % 2 == 1:\n",
    "            firstServe = \"A\"\n",
    "        else:\n",
    "            firstServe = \"B\"\n",
    "        scoreA, scoreB = simOneGame(probA, probB, firstServe)\n",
    "        if scoreA > scoreB:\n",
    "            gamesA = gamesA + 1\n",
    "        else:\n",
    "            gamesB = gamesB + 1\n",
    "    return gamesA, gamesB\n",
    "    \n",
    "def simOneGame(probA, probB, Server):\n",
    "    # Simulates a single game or racquetball between players A and B\n",
    "    # RETURNS A's final score, B's final score\n",
    "    serving = Server\n",
    "    scoreA = 0\n",
    "    scoreB = 0\n",
    "    while not gameOver(scoreA, scoreB):\n",
    "        if serving == \"A\":\n",
    "            if random() < probA:\n",
    "                scoreA = scoreA + 1\n",
    "            else:\n",
    "                serving = \"B\"\n",
    "        else:\n",
    "            if random() < probB:\n",
    "                scoreB = scoreB + 1\n",
    "            else:\n",
    "                serving = \"A\"\n",
    "    return scoreA, scoreB\n",
    "\n",
    "def gameOver(a,b):\n",
    "    # a and b are scores for players in a racquetball game\n",
    "    # RETURNS true if game is over, false otherwise\n",
    "    return a == 15 or b == 15\n",
    "\n",
    "def printSummary(winsA, winsB):\n",
    "    # Prints a summary of wins for each player.\n",
    "    n = winsA + winsB\n",
    "    print(\"\\nMatches simulated:\", n)\n",
    "    print(\"Wins for A: {0} ({1:0.1%})\".format(winsA, winsA/n))\n",
    "    print(\"Wins for B: {0} ({1:0.1%})\".format(winsB, winsB/n))\n",
    "\n",
    "if __name__ == \"__main__\": main()"
   ]
  },
  {
   "cell_type": "markdown",
   "metadata": {},
   "source": [
    "# Exercise 2"
   ]
  },
  {
   "cell_type": "markdown",
   "metadata": {},
   "source": [
    "### My Solution"
   ]
  },
  {
   "cell_type": "code",
   "execution_count": 83,
   "metadata": {},
   "outputs": [],
   "source": [
    "from random import random\n",
    "\n",
    "def printIntroM():\n",
    "    print(\"This program simulates a game of racquetball between two\")\n",
    "    print('players called \"A\" and \"B\".  The abilities of each player is')\n",
    "    print(\"indicated by a probability (a number between 0 and 1) that\")\n",
    "    print(\"the player wins the point when serving. Player A always\")\n",
    "    print(\"has the first serve.\")\n",
    "    \n",
    "def getInputsM():\n",
    "    probA = float(input(\"What is the prob. Player A wins a serve? \"))\n",
    "    probB = float(input(\"What is the prob. Player B wins a serve? \"))\n",
    "    games_n = int(input('How many games will be played? '))\n",
    "    out_of_n = int(input(\"How many rounds will be played to find a winner for a game? \"))\n",
    "    return probA,probB,games_n, out_of_n\n",
    "\n",
    "def simNGamesM(n,probA,probB):\n",
    "    game = 0\n",
    "    winsA = 0\n",
    "    winsB = 0\n",
    "    server = ''\n",
    "    \n",
    "    while game < n:\n",
    "        game += 1\n",
    "        if game % 2 == 0:\n",
    "            server = \"serverB\"\n",
    "        elif game % 2 != 0:\n",
    "            server = \"serverA\"\n",
    "        winA,winB = simOneGameM(probA,probB,server)\n",
    "        if winA == True:\n",
    "            winsA += 1\n",
    "        elif winB == True:\n",
    "            winsB += 1\n",
    "            \n",
    "    return winsA,winsB\n",
    "\n",
    "def simOneGameM(probA,probB,server):\n",
    "    end = False\n",
    "    game_server = server\n",
    "    scoreA = 0\n",
    "    scoreB = 0\n",
    "    winsA = False\n",
    "    winsB = False\n",
    "    \n",
    "    while end == False:\n",
    "            if game_server == 'serverA':\n",
    "                if random() < probA:\n",
    "                    scoreA += 1\n",
    "                    if scoreA == 15:\n",
    "                        winsA = True\n",
    "                        end = True\n",
    "                        break\n",
    "                else:\n",
    "                    game_server = 'serverB'\n",
    "                    \n",
    "            elif game_server == 'serverB':\n",
    "                if random() < probB:\n",
    "                    scoreB += 1\n",
    "                    if scoreB == 15:\n",
    "                        winsB = True\n",
    "                        end = True\n",
    "                        break\n",
    "                else:\n",
    "                    game_server = 'serverA'\n",
    "                    \n",
    "    return winsA,winsB\n",
    "\n",
    "def printSummaryM(game_winsA,game_winsB,draws,games_n, shutoutsA, shutoutsB):\n",
    "    print(f\"Games simulated: {games_n}\")\n",
    "    print(f\"Wins for A: {game_winsA}, shutouts: {shutoutsA}, win percentage: {round((game_winsA / games_n)*100,1)}%\")\n",
    "    print(f\"Wins for B: {game_winsB}, shutouts: {shutoutsB}, win percentage: {round((game_winsB / games_n)*100,1)}%\")\n",
    "    print(f\"Total Draws: {draws}\")\n",
    "    \n",
    "def bestOf(winsA,winsB):\n",
    "    winner = ''\n",
    "    if winsA > winsB:\n",
    "        winner = 'A'\n",
    "        return winner\n",
    "    elif winsA < winsB:\n",
    "        winner = 'B'\n",
    "        return winner\n",
    "    elif winsA == winsB:\n",
    "        winner = 'Draw'\n",
    "        return winner\n",
    "\n",
    "def matchs(games_n,out_of_n,probA,probB):\n",
    "    end = False\n",
    "    game_winsA = 0\n",
    "    game_winsB = 0\n",
    "    draws = 0\n",
    "    counter = 0\n",
    "    # New variables for  exercise 2\n",
    "    shutoutsA = 0\n",
    "    shutoutsB = 0\n",
    "    \n",
    "    while end != True:\n",
    "        winsA, winsB = simNGamesM(out_of_n,probA,probB)\n",
    "        winner = bestOf(winsA,winsB)\n",
    "        # Exercise 2:\n",
    "        # Adding ability to acknolwedge shutouts\n",
    "        if winner == 'A':\n",
    "            game_winsA += 1\n",
    "            if winsA == out_of_n:\n",
    "                shutoutsA += 1\n",
    "        if winner == 'B':\n",
    "            game_winsB += 1\n",
    "            if winsB == out_of_n:\n",
    "                shutoutsB += 1\n",
    "        elif winner == 'Draw':\n",
    "            draws += 1\n",
    "        counter += 1\n",
    "\n",
    "        # Reset the variables for each iteration\n",
    "        winsA, winsB = 0,0\n",
    "        winner = ''\n",
    "        if counter >= games_n:\n",
    "            end = True\n",
    "            \n",
    "    return game_winsA, game_winsB, draws,shutoutsA, shutoutsB\n",
    "\n",
    "\n",
    "def main():\n",
    "    printIntroM()\n",
    "    probA, probB,games_n, out_of_n = getInputsM()\n",
    "    game_winsA, game_winsB, draws, shutoutsA, shutoutsB = matchs(games_n,out_of_n,probA,probB)\n",
    "    print()\n",
    "    printSummaryM(game_winsA,game_winsB,draws,games_n, shutoutsA, shutoutsB)\n",
    "\n"
   ]
  },
  {
   "cell_type": "code",
   "execution_count": 84,
   "metadata": {},
   "outputs": [
    {
     "name": "stdout",
     "output_type": "stream",
     "text": [
      "This program simulates a game of racquetball between two\n",
      "players called \"A\" and \"B\".  The abilities of each player is\n",
      "indicated by a probability (a number between 0 and 1) that\n",
      "the player wins the point when serving. Player A always\n",
      "has the first serve.\n",
      "What is the prob. Player A wins a serve? .55\n",
      "What is the prob. Player B wins a serve? .55\n",
      "How many games will be played? 1000\n",
      "How many rounds will be played to find a winner for a game? 7\n",
      "\n",
      "Games simulated: 1000\n",
      "Wins for A: 513, shutouts: 3, win percentage: 51.3%\n",
      "Wins for B: 487, shutouts: 7, win percentage: 48.7%\n",
      "Total Draws: 0\n"
     ]
    }
   ],
   "source": [
    "main()"
   ]
  },
  {
   "cell_type": "markdown",
   "metadata": {},
   "source": [
    "### Book Solution"
   ]
  },
  {
   "cell_type": "code",
   "execution_count": 82,
   "metadata": {},
   "outputs": [
    {
     "name": "stdout",
     "output_type": "stream",
     "text": [
      "This program simulates a game of racquetball between two\n",
      "players called \"A\" and \"B\".  The abilities of each player is\n",
      "indicated by a probability (a number between 0 and 1) that\n",
      "the player wins the point when serving. Player A always\n",
      "has the first serve.\n",
      "\n",
      "What is the prob. player A wins a serve? .54\n",
      "What is the prob. player B wins a serve? .55\n",
      "How many games to simulate? 500\n",
      "Summary of 500 games:\n",
      "\n",
      "          wins (% total)   shutouts (% wins)  \n",
      "--------------------------------------------\n",
      "Player A:   250 ( 50.0%)          30  ( 12.0%)\n",
      "Player B:   250 ( 50.0%)          14  (  5.6%)\n"
     ]
    }
   ],
   "source": [
    "# c09ex02.py\n",
    "#    Racquetball simulation with shutouts\n",
    "\n",
    "from random import random\n",
    "\n",
    "def main():\n",
    "    printIntro()\n",
    "    probA, probB, n = getInputs()\n",
    "    winsA, shutsA, winsB, shutsB = simNGames(n, probA, probB)\n",
    "    printSummary(winsA, shutsA, winsB, shutsB)\n",
    "\n",
    "def printIntro():\n",
    "    # Prints an introduction to the program\n",
    "    print(\"This program simulates a game of racquetball between two\")\n",
    "    print('players called \"A\" and \"B\".  The abilities of each player is')\n",
    "    print(\"indicated by a probability (a number between 0 and 1) that\")\n",
    "    print(\"the player wins the point when serving. Player A always\")\n",
    "    print(\"has the first serve.\\n\")\n",
    "\n",
    "def getInputs():\n",
    "    # RETURNS probA, probB, number of games to simulate\n",
    "    a = float(input(\"What is the prob. player A wins a serve? \"))\n",
    "    b = float(input(\"What is the prob. player B wins a serve? \"))\n",
    "    n = int(input(\"How many games to simulate? \"))\n",
    "    return a, b, n\n",
    "\n",
    "def simNGames(n, probA, probB):\n",
    "    # Simulates n games of racquetball between players A and B\n",
    "    # RETURNS number of wins for A, number of wins for B\n",
    "    winsA = winsB = 0\n",
    "    shutsA = shutsB = 0\n",
    "    for i in range(n):\n",
    "        scoreA, scoreB = simOneGame(probA, probB)\n",
    "        if scoreA > scoreB:\n",
    "            winsA = winsA + 1\n",
    "            if scoreB == 0:\n",
    "                shutsA = shutsA + 1\n",
    "        else:\n",
    "            winsB = winsB + 1\n",
    "            if scoreA == 0:\n",
    "                shutsB = shutsB + 1\n",
    "    return winsA, shutsA, winsB, shutsB\n",
    "\n",
    "def simOneGame(probA, probB):\n",
    "    # Simulates a single game or racquetball between players A and B\n",
    "    # RETURNS A's final score, B's final score\n",
    "    serving = \"A\"\n",
    "    scoreA = 0\n",
    "    scoreB = 0\n",
    "    while not gameOver(scoreA, scoreB):\n",
    "        if serving == \"A\":\n",
    "            if random() < probA:\n",
    "                scoreA = scoreA + 1\n",
    "            else:\n",
    "                serving = \"B\"\n",
    "        else:\n",
    "            if random() < probB:\n",
    "                scoreB = scoreB + 1\n",
    "            else:\n",
    "                serving = \"A\"\n",
    "    return scoreA, scoreB\n",
    "\n",
    "def gameOver(a,b):\n",
    "    # a and b are scores for players in a racquetball game\n",
    "    # RETURNS true if game is over, false otherwise\n",
    "    return a == 15 or b == 15 \\\n",
    "           or (a == 7 and b == 0) \\\n",
    "           or (b == 7 and a == 0)\n",
    "\n",
    "def printSummary(winsA, shutsA, winsB, shutsB):\n",
    "    # Print a nicely formatted report\n",
    "    n = winsA + winsB\n",
    "    print(\"Summary of\", n , \"games:\")\n",
    "    print()\n",
    "    print(\"          wins (% total)   shutouts (% wins)  \")\n",
    "    print(\"--------------------------------------------\")\n",
    "    printLine(\"A\", winsA, shutsA, n)\n",
    "    printLine(\"B\", winsB, shutsB, n)\n",
    "\n",
    "def printLine(label, wins, shuts, n):\n",
    "    template = \"Player {0}:  {1:4} ({2:6.1%}) {3:11}  ({4})\"\n",
    "    if wins == 0:        # Avoid division by zero!\n",
    "        shutStr = \"------\"\n",
    "    else:\n",
    "        shutStr = \"{0:6.1%}\".format(shuts/wins)\n",
    "    print(template.format(label, wins, wins/n, shuts, shutStr)) \n",
    "\n",
    "\n",
    "if __name__ == \"__main__\": main()\n",
    "\n",
    "\n",
    "\n",
    "\n"
   ]
  },
  {
   "cell_type": "markdown",
   "metadata": {},
   "source": [
    "# Exercise 3"
   ]
  },
  {
   "cell_type": "markdown",
   "metadata": {},
   "source": [
    "### My Solution"
   ]
  },
  {
   "cell_type": "code",
   "execution_count": 98,
   "metadata": {},
   "outputs": [],
   "source": [
    "from random import random\n",
    "\n",
    "def main():\n",
    "    printIntroduction()\n",
    "    n_games, probA, probB = getInputs()\n",
    "    teamAWins, teamBWins, shutoutsA, shutoutsB = simulateGames(n_games,probA, probB)\n",
    "    print()\n",
    "    giveDetails(teamAWins,teamBWins, n_games, shutoutsA, shutoutsB)"
   ]
  },
  {
   "cell_type": "code",
   "execution_count": 8,
   "metadata": {},
   "outputs": [],
   "source": [
    "def printIntroduction():\n",
    "    print(\"This program will simulate vollyball games\")"
   ]
  },
  {
   "cell_type": "code",
   "execution_count": 9,
   "metadata": {},
   "outputs": [],
   "source": [
    "def getInputs():\n",
    "    n_games = int(input(\"How many games will be played? \"))\n",
    "    probA = float(input(\"What is the problability team A wins a Serve? \"))\n",
    "    probB = float(input(\"What is the problability team B wins a Serve? \"))\n",
    "    return n_games, probA, probB\n",
    "    "
   ]
  },
  {
   "cell_type": "code",
   "execution_count": 101,
   "metadata": {},
   "outputs": [],
   "source": [
    "def simulateGame(probA, probB):\n",
    "    end = False\n",
    "    server = ''\n",
    "    scoreA = 0\n",
    "    scoreB = 0\n",
    "    winner = \"\"\n",
    "    shutoutA = False\n",
    "    shutoutB = False\n",
    "    \n",
    "    if random() < .5:\n",
    "        server = 'A'\n",
    "    else:\n",
    "        server = 'B'      \n",
    "    \n",
    "    while end != True:\n",
    "        if server == 'A':\n",
    "            if random() < probA:\n",
    "                scoreA +=1\n",
    "                if scoreA >= 15 and (scoreA - scoreB) > 2:\n",
    "                    winner = 'A'\n",
    "                    if scoreA == 15 and scoreB == 0:\n",
    "                        shutoutA = True\n",
    "                    end = True\n",
    "            else:\n",
    "                server = 'B'\n",
    "                \n",
    "        elif server == 'B':\n",
    "            if random() < probB:\n",
    "                scoreB += 1\n",
    "                if scoreB >= 15 and (scoreB - scoreA) > 2:\n",
    "                    winner = 'B'\n",
    "                    if scoreB == 15 and scoreA == 0:\n",
    "                        shutoutB = True\n",
    "                    end = True\n",
    "            else:\n",
    "                server = 'A'\n",
    "    return winner, shutoutA, shutoutB\n",
    "        \n",
    "                \n",
    "        "
   ]
  },
  {
   "cell_type": "code",
   "execution_count": 102,
   "metadata": {},
   "outputs": [
    {
     "data": {
      "text/plain": [
       "('A', False, False)"
      ]
     },
     "execution_count": 102,
     "metadata": {},
     "output_type": "execute_result"
    }
   ],
   "source": [
    "simulateGame(.55,.55)"
   ]
  },
  {
   "cell_type": "code",
   "execution_count": 103,
   "metadata": {},
   "outputs": [],
   "source": [
    "def simulateGames(n_games, probA, probB):\n",
    "    teamAWins = 0\n",
    "    teamBWins = 0\n",
    "    counter = 0\n",
    "    shutoutsA = 0\n",
    "    shutoutsB = 0\n",
    "    \n",
    "    while counter != n_games:\n",
    "        winner, shutoutA, shutoutB = simulateGame(probA, probB)\n",
    "        if winner == 'A':\n",
    "            teamAWins += 1\n",
    "            if shutoutA == True:\n",
    "                shutoutsA += 1\n",
    "        elif winner == 'B':\n",
    "            teamBWins += 1\n",
    "            if shutoutB == True:\n",
    "                shutoutsB +=1\n",
    "        counter += 1\n",
    "        winner = ''\n",
    "    return teamAWins, teamBWins, shutoutsA, shutoutsB"
   ]
  },
  {
   "cell_type": "code",
   "execution_count": 104,
   "metadata": {},
   "outputs": [
    {
     "data": {
      "text/plain": [
       "(4, 6, 0, 0)"
      ]
     },
     "execution_count": 104,
     "metadata": {},
     "output_type": "execute_result"
    }
   ],
   "source": [
    "simulateGames(10,.55,.54)"
   ]
  },
  {
   "cell_type": "code",
   "execution_count": 7,
   "metadata": {},
   "outputs": [],
   "source": [
    "def giveDetails(teamAWins,teamBWins,n_games, shutoutsA, shutoutsB):\n",
    "    print(f\"Wins for Team A: {teamAWins}, Team A shutouts: {shutoutsA}, percentage wins: {round((teamAWins/n_games)*100,1)}%\")\n",
    "    print(f\"Wins for Team B: {teamBWins}, Team B shutouts: {shutoutsB} percentage wins: {round((teamBWins/n_games)*100,1)}%\")"
   ]
  },
  {
   "cell_type": "code",
   "execution_count": 106,
   "metadata": {},
   "outputs": [
    {
     "name": "stdout",
     "output_type": "stream",
     "text": [
      "This program will simulate vollyball games\n",
      "How many games will be played? 10000\n",
      "What is the problability team A wins a Serve? .55\n",
      "What is the problability team B wins a Serve? .53\n",
      "\n",
      "Wins for Team A: 5678, Team A shutouts: 36, percentage wins: 56.8%\n",
      "Wins for Team B: 4322, Team B shutouts: 21 percentage wins: 43.2%\n"
     ]
    }
   ],
   "source": [
    "main()"
   ]
  },
  {
   "cell_type": "markdown",
   "metadata": {},
   "source": [
    "### Book Solution"
   ]
  },
  {
   "cell_type": "code",
   "execution_count": 108,
   "metadata": {},
   "outputs": [],
   "source": [
    "# The book doesn't have a solution for this one I guess..."
   ]
  },
  {
   "cell_type": "markdown",
   "metadata": {},
   "source": [
    "# Exercise 4"
   ]
  },
  {
   "cell_type": "markdown",
   "metadata": {},
   "source": [
    "### My Solution"
   ]
  },
  {
   "cell_type": "code",
   "execution_count": 30,
   "metadata": {},
   "outputs": [],
   "source": [
    "from random import random\n",
    "\n",
    "def main():\n",
    "    printIntroduction()\n",
    "    n_games, probA, probB = getInputs()\n",
    "    teamAWins2, teamBWins2, shutoutsA2, shutoutsB2 = simulateGames2(n_games,probA, probB)\n",
    "    print()\n",
    "    giveDetails(teamAWins2,teamBWins2, n_games, shutoutsA2, shutoutsB2)"
   ]
  },
  {
   "cell_type": "code",
   "execution_count": 52,
   "metadata": {},
   "outputs": [],
   "source": [
    "def simulateGame2(probA, probB):\n",
    "    end = False\n",
    "    server = ''\n",
    "    scoreA = 0\n",
    "    scoreB = 0\n",
    "    winner = \"\"\n",
    "    shutoutA = False\n",
    "    shutoutB = False\n",
    "    \n",
    "    if random() < .5:\n",
    "        server = 'A'\n",
    "    else:\n",
    "        server = 'B'      \n",
    "    \n",
    "    while end != True:\n",
    "        if server == 'A':\n",
    "            if random() < probA:\n",
    "                scoreA +=1\n",
    "                if scoreA >= 15 and (scoreA - scoreB) > 2:\n",
    "                    winner = 'A'\n",
    "                    if scoreA == 15 and scoreB == 0:\n",
    "                        shutoutA = True\n",
    "                    end = True\n",
    "            else:\n",
    "                server = 'B'\n",
    "                scoreB += 1\n",
    "                if scoreB >= 15 and (scoreB - scoreA) > 2:\n",
    "                    winner = 'B'\n",
    "                    if scoreB == 15 and scoreA == 0:\n",
    "                        shutoutB = True\n",
    "                    end = True\n",
    "                \n",
    "        elif server == 'B':\n",
    "            if random() < probB:\n",
    "                scoreB += 1\n",
    "                if scoreB >= 15 and (scoreB - scoreA) > 2:\n",
    "                    winner = 'B'\n",
    "                    if scoreB == 15 and scoreA == 0:\n",
    "                        shutoutB = True\n",
    "                    end = True\n",
    "            else:\n",
    "                server = 'A'\n",
    "                scoreA +=1\n",
    "                if scoreA >= 15 and (scoreA - scoreB) > 2:\n",
    "                    winner = 'A'\n",
    "                    if scoreA == 15 and scoreB == 0:\n",
    "                        shutoutA = True\n",
    "                    end = True\n",
    "                    \n",
    "    return winner, shutoutA, shutoutB\n",
    "        \n",
    "                \n",
    "        "
   ]
  },
  {
   "cell_type": "code",
   "execution_count": 32,
   "metadata": {},
   "outputs": [
    {
     "data": {
      "text/plain": [
       "('B', False, False)"
      ]
     },
     "execution_count": 32,
     "metadata": {},
     "output_type": "execute_result"
    }
   ],
   "source": [
    "simulateGame2(.15,.75)"
   ]
  },
  {
   "cell_type": "code",
   "execution_count": 35,
   "metadata": {},
   "outputs": [],
   "source": [
    "def simulateGames2(n_games, probA, probB):\n",
    "    teamAWins2 = 0\n",
    "    teamBWins2 = 0\n",
    "    counter = 0\n",
    "    shutoutsA2 = 0\n",
    "    shutoutsB2 = 0\n",
    "    \n",
    "    while counter != n_games:\n",
    "        winner, shutoutA, shutoutB = simulateGame2(probA, probB)\n",
    "        if winner == 'A':\n",
    "            teamAWins2 += 1\n",
    "            if shutoutA == True:\n",
    "                shutoutsA2 += 1\n",
    "        elif winner == 'B':\n",
    "            teamBWins2 += 1\n",
    "            if shutoutB == True:\n",
    "                shutoutsB2 +=1\n",
    "        counter += 1\n",
    "        winner = ''\n",
    "    return teamAWins2, teamBWins2, shutoutsA2, shutoutsB2"
   ]
  },
  {
   "cell_type": "code",
   "execution_count": 36,
   "metadata": {},
   "outputs": [
    {
     "name": "stdout",
     "output_type": "stream",
     "text": [
      "This program will simulate vollyball games\n",
      "How many games will be played? 100\n",
      "What is the problability team A wins a Serve? .55\n",
      "What is the problability team B wins a Serve? .55\n",
      "\n",
      "For Games where you can socre only on serves\n",
      "Wins for Team A: 48, Team A shutouts: 0, percentage wins: 48.0%\n",
      "Wins for Team B: 52, Team B shutouts: 0 percentage wins: 52.0%\n"
     ]
    }
   ],
   "source": [
    "main()"
   ]
  },
  {
   "cell_type": "markdown",
   "metadata": {},
   "source": [
    "### Book Solution"
   ]
  },
  {
   "cell_type": "markdown",
   "metadata": {},
   "source": [
    "Book Didn't provide a solution"
   ]
  },
  {
   "cell_type": "markdown",
   "metadata": {},
   "source": [
    "# Exercise 5"
   ]
  },
  {
   "cell_type": "markdown",
   "metadata": {},
   "source": [
    "### My Solution"
   ]
  },
  {
   "cell_type": "code",
   "execution_count": 65,
   "metadata": {},
   "outputs": [],
   "source": [
    "def compareScores():\n",
    "    n_games, probA, probB = getInputs()\n",
    "    teamAWins2, teamBWins2, shutoutsA2, shutoutsB2 = simulateGames2(n_games,probA, probB)\n",
    "    teamAWins, teamBWins, shutoutsA, shutoutsB = simulateGames(n_games,probA, probB)\n",
    "    giveDetails(teamAWins,teamBWins,n_games, shutoutsA, shutoutsB)\n",
    "    print(\"-----------\")\n",
    "    giveDetails2(teamAWins2,teamBWins2,n_games, shutoutsA2, shutoutsB2)\n",
    "    "
   ]
  },
  {
   "cell_type": "code",
   "execution_count": 66,
   "metadata": {},
   "outputs": [],
   "source": [
    "def getInputs():\n",
    "    n_games = int(input(\"How many games will be played? \"))\n",
    "    probA = float(input(\"What is the problability team A wins a Serve? \"))\n",
    "    probB = float(input(\"What is the problability team B wins a Serve? \"))\n",
    "    return n_games, probA, probB"
   ]
  },
  {
   "cell_type": "code",
   "execution_count": 67,
   "metadata": {},
   "outputs": [],
   "source": [
    "def giveDetails(teamAWins,teamBWins,n_games, shutoutsA, shutoutsB):\n",
    "    print(\"For Games where you can score only on serves\")\n",
    "    print(f\"Wins for Team A: {teamAWins}, Team A shutouts: {shutoutsA}, percentage wins: {round((teamAWins/n_games)*100,1)}%\")\n",
    "    print(f\"Wins for Team B: {teamBWins}, Team B shutouts: {shutoutsB} percentage wins: {round((teamBWins/n_games)*100,1)}%\")"
   ]
  },
  {
   "cell_type": "code",
   "execution_count": 68,
   "metadata": {},
   "outputs": [],
   "source": [
    "def giveDetails2(teamAWins2,teamBWins2,n_games, shutoutsA2, shutoutsB2):\n",
    "    print(\"For Games where you can score regardless of who served\")\n",
    "    print(f\"Wins for Team A: {teamAWins2}, Team A shutouts: {shutoutsA2}, percentage wins: {round((teamAWins2/n_games)*100,1)}%\")\n",
    "    print(f\"Wins for Team B: {teamBWins2}, Team B shutouts: {shutoutsB2} percentage wins: {round((teamBWins2/n_games)*100,1)}%\")"
   ]
  },
  {
   "cell_type": "code",
   "execution_count": 69,
   "metadata": {},
   "outputs": [],
   "source": [
    "def simulateGame(probA, probB):\n",
    "    end = False\n",
    "    server = 'A'\n",
    "    scoreA = 0\n",
    "    scoreB = 0\n",
    "    winner = \"\"\n",
    "    shutoutA = False\n",
    "    shutoutB = False\n",
    "     \n",
    "    \n",
    "    while end != True:\n",
    "        if server == 'A':\n",
    "            if random() < probA:\n",
    "                scoreA +=1\n",
    "                if scoreA >= 15 and (scoreA - scoreB) > 2:\n",
    "                    winner = 'A'\n",
    "                    if scoreA == 15 and scoreB == 0:\n",
    "                        shutoutA = True\n",
    "                    end = True\n",
    "            else:\n",
    "                server = 'B'\n",
    "                \n",
    "        elif server == 'B':\n",
    "            if random() < probB:\n",
    "                scoreB += 1\n",
    "                if scoreB >= 15 and (scoreB - scoreA) > 2:\n",
    "                    winner = 'B'\n",
    "                    if scoreB == 15 and scoreA == 0:\n",
    "                        shutoutB = True\n",
    "                    end = True\n",
    "            else:\n",
    "                server = 'A'\n",
    "    return winner, shutoutA, shutoutB\n",
    "        "
   ]
  },
  {
   "cell_type": "code",
   "execution_count": 70,
   "metadata": {},
   "outputs": [],
   "source": [
    "def simulateGames(n_games, probA, probB):\n",
    "    teamAWins = 0\n",
    "    teamBWins = 0\n",
    "    counter = 0\n",
    "    shutoutsA = 0\n",
    "    shutoutsB = 0\n",
    "    \n",
    "    while counter != n_games:\n",
    "        winner, shutoutA, shutoutB = simulateGame(probA, probB)\n",
    "        if winner == 'A':\n",
    "            teamAWins += 1\n",
    "            if shutoutA == True:\n",
    "                shutoutsA += 1\n",
    "        elif winner == 'B':\n",
    "            teamBWins += 1\n",
    "            if shutoutB == True:\n",
    "                shutoutsB +=1\n",
    "        counter += 1\n",
    "        winner = ''\n",
    "    return teamAWins, teamBWins, shutoutsA, shutoutsB"
   ]
  },
  {
   "cell_type": "code",
   "execution_count": 71,
   "metadata": {},
   "outputs": [
    {
     "name": "stdout",
     "output_type": "stream",
     "text": [
      "How many games will be played? 5000\n",
      "What is the problability team A wins a Serve? .55\n",
      "What is the problability team B wins a Serve? .55\n",
      "For Games where you can score only on serves\n",
      "Wins for Team A: 2712, Team A shutouts: 27, percentage wins: 54.2%\n",
      "Wins for Team B: 2288, Team B shutouts: 8 percentage wins: 45.8%\n",
      "-----------\n",
      "For Games where you can score regardless of who served\n",
      "Wins for Team A: 2497, Team A shutouts: 0, percentage wins: 49.9%\n",
      "Wins for Team B: 2503, Team B shutouts: 1 percentage wins: 50.1%\n"
     ]
    }
   ],
   "source": [
    "compareScores()"
   ]
  },
  {
   "cell_type": "markdown",
   "metadata": {},
   "source": [
    "### Book Solution"
   ]
  },
  {
   "cell_type": "markdown",
   "metadata": {},
   "source": [
    "None Provided"
   ]
  },
  {
   "cell_type": "markdown",
   "metadata": {},
   "source": [
    "# Exercise 6"
   ]
  },
  {
   "cell_type": "markdown",
   "metadata": {},
   "source": [
    "Skipping for now might come back later"
   ]
  },
  {
   "cell_type": "markdown",
   "metadata": {},
   "source": [
    "# Exercise 7"
   ]
  },
  {
   "cell_type": "markdown",
   "metadata": {},
   "source": [
    "### My Solution"
   ]
  },
  {
   "cell_type": "code",
   "execution_count": 296,
   "metadata": {},
   "outputs": [],
   "source": [
    "from random import randrange\n",
    "\n",
    "def craps():\n",
    "    roll1 = firstRole()\n",
    "    result = check(roll1)\n",
    "    status = winCheck(result)\n",
    "    if status == 'N/A':\n",
    "        final_status, other_rolls = roll_point(result)\n",
    "    elif status == True:\n",
    "        final_status = 'Winner!'\n",
    "    elif status == False:\n",
    "        final_status = \"Loser!\"\n",
    "    end_result(roll1,other_rolls, final_status)"
   ]
  },
  {
   "cell_type": "code",
   "execution_count": 297,
   "metadata": {},
   "outputs": [],
   "source": [
    "def end_result(roll1,other_rolls, final_status):\n",
    "    print(f\"You first rolled a {roll1}\")\n",
    "    print(f\"You then rolled {other_rolls}\")\n",
    "    print(f\"You're final status is: {final_status}\")"
   ]
  },
  {
   "cell_type": "code",
   "execution_count": 298,
   "metadata": {},
   "outputs": [],
   "source": [
    "def firstRole():\n",
    "    roll1 = randrange(1,25)\n",
    "    return roll1"
   ]
  },
  {
   "cell_type": "code",
   "execution_count": 299,
   "metadata": {},
   "outputs": [
    {
     "data": {
      "text/plain": [
       "21"
      ]
     },
     "execution_count": 299,
     "metadata": {},
     "output_type": "execute_result"
    }
   ],
   "source": [
    "firstRole()"
   ]
  },
  {
   "cell_type": "code",
   "execution_count": 300,
   "metadata": {},
   "outputs": [],
   "source": [
    "def check(roll1):\n",
    "    if roll1 == 2 or roll1 == 3 or roll1 == 12:\n",
    "        win_loss = 'LOST'\n",
    "        return win_loss\n",
    "    elif roll1 == 7 or roll1 == 11:\n",
    "        win_loss = 'WON'\n",
    "        return win_loss\n",
    "    else:\n",
    "        initial_roll = roll1\n",
    "        return initial_roll"
   ]
  },
  {
   "cell_type": "code",
   "execution_count": 303,
   "metadata": {},
   "outputs": [],
   "source": [
    "def winCheck(result):\n",
    "    if result == \"LOST\":\n",
    "        print(\"You lose!\")\n",
    "        return False\n",
    "    elif result == \"WON\":\n",
    "        print(\"You Win!\")\n",
    "        return True\n",
    "    else:\n",
    "        return \"N/A\""
   ]
  },
  {
   "cell_type": "code",
   "execution_count": 304,
   "metadata": {},
   "outputs": [
    {
     "name": "stdout",
     "output_type": "stream",
     "text": [
      "You first rolled a 5\n",
      "You then rolled [6, 16, 14, 5]\n",
      "You're final status is: WON\n"
     ]
    }
   ],
   "source": [
    "craps()"
   ]
  },
  {
   "cell_type": "code",
   "execution_count": 294,
   "metadata": {},
   "outputs": [],
   "source": [
    "def roll_point(result):\n",
    "    roll_check = result\n",
    "    reRoll = randrange(1,25)\n",
    "    end = False\n",
    "    other_rolls = [reRoll]\n",
    "    \n",
    "    while end == False:\n",
    "        if reRoll == roll_check:\n",
    "            result = 'WON'\n",
    "            end = True\n",
    "        elif reRoll == 7:\n",
    "            result = 'LOST'\n",
    "            end = True\n",
    "        else:\n",
    "            reRoll = randrange(1,25)\n",
    "            other_rolls.append(reRoll)\n",
    "            \n",
    "    return result,other_rolls\n",
    "    \n",
    "    "
   ]
  },
  {
   "cell_type": "code",
   "execution_count": 285,
   "metadata": {},
   "outputs": [
    {
     "data": {
      "text/plain": [
       "'WON'"
      ]
     },
     "execution_count": 285,
     "metadata": {},
     "output_type": "execute_result"
    }
   ],
   "source": [
    "roll_point(5)"
   ]
  },
  {
   "cell_type": "markdown",
   "metadata": {},
   "source": [
    "## This was for one game of craps and to prove it works correctly. Below will be for many games and slightly modified"
   ]
  },
  {
   "cell_type": "code",
   "execution_count": 262,
   "metadata": {},
   "outputs": [],
   "source": [
    "def crapsSimN():\n",
    "    n = 500\n",
    "    total_wins, total_losses = craps2(n)\n",
    "    end_result(total_wins, total_losses,n)\n",
    "    "
   ]
  },
  {
   "cell_type": "code",
   "execution_count": 263,
   "metadata": {},
   "outputs": [],
   "source": [
    "def craps2(n):\n",
    "    counter  = 0\n",
    "    wins = 0\n",
    "    losses = 0\n",
    "    \n",
    "    while counter < n:\n",
    "        roll1 = firstRole()\n",
    "        result = check(roll1)\n",
    "        status = winCheck(result)\n",
    "        if status == 'N/A':\n",
    "            final_status = roll_point(result)\n",
    "            if final_status == 'WON':\n",
    "                wins += 1\n",
    "                counter += 1\n",
    "            elif final_status == 'LOST':\n",
    "                losses += 1\n",
    "                counter += 1\n",
    "        elif status == True:\n",
    "            wins +=1\n",
    "            counter += 1\n",
    "        elif status == False:\n",
    "            losses += 1\n",
    "            counter += 1\n",
    "            \n",
    "    return wins, losses"
   ]
  },
  {
   "cell_type": "code",
   "execution_count": 264,
   "metadata": {},
   "outputs": [],
   "source": [
    "def roll_point(result):\n",
    "    roll_check = result\n",
    "    reRoll = randrange(1,25)\n",
    "    end = False\n",
    "    \n",
    "    while end == False:\n",
    "        if reRoll == roll_check:\n",
    "            result = 'WON'\n",
    "            end = True\n",
    "        elif reRoll == 7:\n",
    "            result = 'LOST'\n",
    "            end = True\n",
    "        else:\n",
    "            reRoll = randrange(1,25)\n",
    "            \n",
    "    return result\n",
    "    "
   ]
  },
  {
   "cell_type": "code",
   "execution_count": 280,
   "metadata": {},
   "outputs": [],
   "source": [
    "def end_result(total_wins, total_losses,n):\n",
    "    print(f\"Total Wins: {total_wins}\")\n",
    "    print(f\"Total Losses: {total_losses}\")\n",
    "    print(f\"Win Percentage: {round(total_wins/n,2)*100}%\")"
   ]
  },
  {
   "cell_type": "code",
   "execution_count": 281,
   "metadata": {},
   "outputs": [],
   "source": [
    "def winCheck(result):\n",
    "    if result == \"LOST\":\n",
    "        return False\n",
    "    elif result == \"WON\":\n",
    "        return True\n",
    "    else:\n",
    "        return \"N/A\""
   ]
  },
  {
   "cell_type": "code",
   "execution_count": 282,
   "metadata": {},
   "outputs": [
    {
     "name": "stdout",
     "output_type": "stream",
     "text": [
      "Total Wins: 231\n",
      "Total Losses: 269\n",
      "Win Percentage: 46.0%\n"
     ]
    }
   ],
   "source": [
    "crapsSimN()"
   ]
  },
  {
   "cell_type": "markdown",
   "metadata": {},
   "source": [
    "### Book Solution"
   ]
  },
  {
   "cell_type": "code",
   "execution_count": 283,
   "metadata": {},
   "outputs": [
    {
     "name": "stdout",
     "output_type": "stream",
     "text": [
      "This program estimates the probability of winning at craps.\n",
      "How many games should I simulate? 500\n",
      "\n",
      "The player wins 242 games.\n",
      "The estimated probabillity of a win is 48.40%\n"
     ]
    }
   ],
   "source": [
    "# c09ex07.py\n",
    "#   Simulation of game of craps.\n",
    "\n",
    "from random import randrange\n",
    "\n",
    "def main():\n",
    "    print(\"This program estimates the probability of winning at craps.\")\n",
    "    n = int(input(\"How many games should I simulate? \"))\n",
    "    wins = simNGames(n)\n",
    "    print(\"\\nThe player wins\", wins, \"games.\")\n",
    "    print(\"The estimated probabillity of a win is {0:0.2%}\".format(wins/n))\n",
    "\n",
    "\n",
    "def simNGames(n):\n",
    "    wins = 0\n",
    "    for i in range(n):\n",
    "        if winCraps():\n",
    "            wins = wins + 1\n",
    "    return wins\n",
    "\n",
    "def winCraps():\n",
    "    roll = rollDice()\n",
    "    if roll == 7 or roll == 11:\n",
    "        return True\n",
    "    elif roll == 2 or roll == 3 or roll == 12:\n",
    "        return False\n",
    "    else:\n",
    "        return rollForPoint(roll)\n",
    "\n",
    "def rollForPoint(toMake):\n",
    "    roll = rollDice()\n",
    "    while roll != 7 and roll != toMake:\n",
    "        roll = rollDice()\n",
    "    return roll == toMake\n",
    "\n",
    "\n",
    "def rollDice():\n",
    "    return randrange(1,7) + randrange(1,7)\n",
    "\n",
    "\n",
    "if __name__ == '__main__':\n",
    "    main()"
   ]
  },
  {
   "cell_type": "markdown",
   "metadata": {},
   "source": [
    "# Exercise 8"
   ]
  },
  {
   "cell_type": "markdown",
   "metadata": {},
   "source": [
    "### My Solution"
   ]
  },
  {
   "cell_type": "code",
   "execution_count": 231,
   "metadata": {},
   "outputs": [],
   "source": [
    "from random import randrange\n",
    "\n",
    "def black_jack():\n",
    "    game_over = False\n",
    "    add_cards = True\n",
    "    counter = 0\n",
    "    \n",
    "    # Gets introduction should player want an overview of the rules\n",
    "    get_intro = input(\"Do you want an intro Y or N? \").upper()\n",
    "    if get_intro == 'Y':\n",
    "        intro()\n",
    "    \n",
    "    # Get's the player and dealers hands\n",
    "    player_hand, dealer_hand, hidden_card = get_initial_hand()\n",
    "    game_over = game_check(player_hand,dealer_hand)[0]\n",
    "    if game_over == True:\n",
    "        add_cards = False\n",
    "\n",
    "    while add_cards == True:\n",
    "        # Asks the player if they'd like to add another card\n",
    "        extra_card = input(\"Would you like another card? Y or N: \").upper()\n",
    "        if extra_card == 'Y':\n",
    "            player_hand = add_card(player_hand) \n",
    "            print()\n",
    "            print(f\"New player hand {player_hand}\")\n",
    "            game_over = game_check(player_hand,dealer_hand)[0]\n",
    "            if game_over == True:\n",
    "                add_cards = False\n",
    "                break\n",
    "        else:\n",
    "            add_cards = False\n",
    "            \n",
    "    print(f\"The Dealers hidden card was {hidden_card} there other card {dealer_hand-hidden_card} for a total hand of {dealer_hand}\")\n",
    "    while game_over == False:\n",
    "            if dealer_hand >= 17 and dealer_hand <= 21:\n",
    "                game_over = game_check(player_hand,dealer_hand)[0]\n",
    "                print(f\"Hit the special where dealer is above 17 but below 21\")\n",
    "                ending = final_compare(player_hand,dealer_hand)\n",
    "                print(ending)\n",
    "                break\n",
    "            else:\n",
    "                counter +=1\n",
    "                dealer_hand = add_card(dealer_hand)\n",
    "                print()\n",
    "                print(f'{counter} cards added: New dealer hand {dealer_hand}')\n",
    "                game_over = game_check(player_hand,dealer_hand)[0]\n",
    "                continue\n",
    "            "
   ]
  },
  {
   "cell_type": "code",
   "execution_count": 232,
   "metadata": {},
   "outputs": [],
   "source": [
    "def final_compare(player_hand,dealer_hand):\n",
    "    if player_hand == dealer_hand:\n",
    "        return \"Wow! Looks like a Draw!\"\n",
    "    elif player_hand > dealer_hand:\n",
    "        return \"You Won!\"\n",
    "    elif dealer_hand > player_hand:\n",
    "        return \"You Lost!\""
   ]
  },
  {
   "cell_type": "code",
   "execution_count": 233,
   "metadata": {},
   "outputs": [
    {
     "data": {
      "text/plain": [
       "'You Lost!'"
      ]
     },
     "execution_count": 233,
     "metadata": {},
     "output_type": "execute_result"
    }
   ],
   "source": [
    "final_compare(12,19)"
   ]
  },
  {
   "cell_type": "code",
   "execution_count": 234,
   "metadata": {},
   "outputs": [],
   "source": [
    "def game_check(player_hand,dealer_hand):\n",
    " \n",
    "    win = ''\n",
    "    if player_hand == 21 and dealer_hand == 21:\n",
    "        print(\"Woah looks like a draw!\")\n",
    "        win = 'draw'\n",
    "        return True, win\n",
    "    elif player_hand == 21:\n",
    "        print(\"Congratz! You Won!\")\n",
    "        win = 'player'\n",
    "        return True,win\n",
    "    elif dealer_hand == 21:\n",
    "        print(\"Sorry you lost! The dealer hit 21 and you didn't!\")\n",
    "        win = 'dealer'\n",
    "        return True, win\n",
    "    elif player_hand <= 21 and dealer_hand > 21:\n",
    "        print(\"The dealer went bust! You win!\")\n",
    "        win = 'player'\n",
    "        return True, win\n",
    "    elif player_hand > 21 and dealer_hand <= 21:\n",
    "        print(\"Sorry you went bust! You Lose\")\n",
    "        win = 'dealer'\n",
    "        return True, win\n",
    "    else:\n",
    "        return False, win"
   ]
  },
  {
   "cell_type": "code",
   "execution_count": 235,
   "metadata": {},
   "outputs": [],
   "source": [
    "x = game_check(17,20)[0]"
   ]
  },
  {
   "cell_type": "code",
   "execution_count": 236,
   "metadata": {},
   "outputs": [
    {
     "data": {
      "text/plain": [
       "False"
      ]
     },
     "execution_count": 236,
     "metadata": {},
     "output_type": "execute_result"
    }
   ],
   "source": [
    "x"
   ]
  },
  {
   "cell_type": "code",
   "execution_count": 288,
   "metadata": {},
   "outputs": [],
   "source": [
    "def add_card(hand):\n",
    "    \n",
    "    cards = {1:0,2:2,3:3,4:4,5:5,6:6,7:7,8:8,9:9,10:10,11:10,12:10}\n",
    "    \n",
    "    new_card = randrange(1,13)\n",
    "    new_hand = hand\n",
    "    \n",
    "    if is_ace(new_card) == True:\n",
    "        new_card = ace_value(hand)\n",
    "        new_hand += new_card\n",
    "        print(f\"new card added to hand {new_card}\")\n",
    "        return new_hand\n",
    "    else:\n",
    "        new_hand += cards[new_card]\n",
    "        print(f\"New card added to hand {cards[new_card]}\")\n",
    "        return new_hand\n",
    "    "
   ]
  },
  {
   "cell_type": "code",
   "execution_count": 289,
   "metadata": {},
   "outputs": [
    {
     "name": "stdout",
     "output_type": "stream",
     "text": [
      "New card added to hand 10\n"
     ]
    },
    {
     "data": {
      "text/plain": [
       "19"
      ]
     },
     "execution_count": 289,
     "metadata": {},
     "output_type": "execute_result"
    }
   ],
   "source": [
    "add_card(9)"
   ]
  },
  {
   "cell_type": "code",
   "execution_count": 239,
   "metadata": {},
   "outputs": [],
   "source": [
    "def intro():\n",
    "    print(\"We will play a game of blackjack (21)!\")\n",
    "    print(\"The player and the dealer will recieve 2 cards for their initial deck, if the player gets 21 on the first two cards they win\")\n",
    "    print(\"So long as the dealer didn't also get 21 on their first two cards\")\n",
    "    print(\"If neither gets 21 the player may request more cards as long as their total doesn't exceed 21, then they will accept their total\")\n",
    "    print(\"Then the dealer will continue to draw cards until they exceed 17 and don't bust, if the dealer doesn't bust and their total is higher than the player the dealer wins\")\n",
    "    print(\"If the player's total exceeds the dealers they win\")"
   ]
  },
  {
   "cell_type": "code",
   "execution_count": 282,
   "metadata": {},
   "outputs": [],
   "source": [
    "def get_initial_hand():\n",
    "\n",
    "    \n",
    "    # Get's the card values for the 2 player cards and 2 dealer cards\n",
    "    player1 = randrange(1,13)\n",
    "    player2 = randrange(1,13)\n",
    "    #player1, player2 = 1,1\n",
    "    dealer1 = randrange(1,13)\n",
    "    dealer2 = randrange(1,13)\n",
    "   \n",
    "    \n",
    "    # Dict that assigns the value of each card 1--12 are face cards and each worth 10, ace is worth zero for now\n",
    "    cards = {1:0,2:2,3:3,4:4,5:5,6:6,7:7,8:8,9:9,10:10,11:10,12:10}\n",
    "    \n",
    "\n",
    "    # Calculates the player and dealers intial hands not accounting for aces yet\n",
    "    player_hand = cards[player1] + cards[player2]\n",
    "    dealer_hand = cards[dealer1] + cards[dealer2]\n",
    "    \n",
    "    \n",
    "    # Calculates the value of any aces found\n",
    "    player_ace1, player_ace2, dealer_ace1, dealer_ace2 = check_for_aces(player1,player2,dealer1,dealer2,player_hand,dealer_hand)\n",
    "    \n",
    "    # Recalculates the values of the hands if any aces were found\n",
    "    player_hand2 = cards[player1] + cards[player2] + player_ace1 + player_ace2\n",
    "    dealer_hand2 = cards[dealer1] + cards[dealer2] + dealer_ace1 + dealer_ace2\n",
    "    \n",
    "    player1 = cards[player1]\n",
    "    player2 = cards[player2]\n",
    "    dealer1 = cards[dealer1]\n",
    "    dealer2 = cards[dealer2]\n",
    "    \n",
    "    if player_ace1 == 1 or player_ace1 == 11:\n",
    "        player1 = player_ace1\n",
    "    if player_ace2 == 1 or player_ace2 == 11:\n",
    "        player2 = player_ace2\n",
    "    if dealer_ace1 == 1 or dealer_ace1 == 11:\n",
    "        dealer1 = dealer_ace1\n",
    "    if dealer_ace2 == 1 or dealer_ace2 == 11:\n",
    "        dealer2 = dealer_ace2\n",
    "        \n",
    "        \n",
    "    print(f\"Player's cards: {player1},{player2} || Dealers Cards: {dealer1}, ???\")\n",
    "        \n",
    "    \n",
    "    # Prints the hand and returns them as variables\n",
    "    print(f\"player hand:{player_hand2}\")\n",
    "    return player_hand2, dealer_hand2, dealer2\n"
   ]
  },
  {
   "cell_type": "code",
   "execution_count": 283,
   "metadata": {},
   "outputs": [
    {
     "name": "stdout",
     "output_type": "stream",
     "text": [
      "Player's cards: 7,7 || Dealers Cards: 2, ???\n",
      "player hand:14\n"
     ]
    },
    {
     "data": {
      "text/plain": [
       "(14, 7, 5)"
      ]
     },
     "execution_count": 283,
     "metadata": {},
     "output_type": "execute_result"
    }
   ],
   "source": [
    "get_initial_hand()"
   ]
  },
  {
   "cell_type": "code",
   "execution_count": 274,
   "metadata": {},
   "outputs": [],
   "source": [
    "def is_ace(card):\n",
    "    if card == 1:\n",
    "        return True\n",
    "    else:\n",
    "        return False\n",
    "        "
   ]
  },
  {
   "cell_type": "code",
   "execution_count": 275,
   "metadata": {},
   "outputs": [],
   "source": [
    "def ace_value(hand):\n",
    "    if hand + 11 >= 17 and hand + 11 <= 21:\n",
    "        return 11\n",
    "    else:\n",
    "        return 1"
   ]
  },
  {
   "cell_type": "code",
   "execution_count": 276,
   "metadata": {},
   "outputs": [],
   "source": [
    "def check_for_aces(player1,player2,dealer1,dealer2,player_hand,dealer_hand):\n",
    "        \n",
    "    # Sets the intial value of potential ace cards to zero\n",
    "    player_ace1 = 0\n",
    "    player_ace2 = 0\n",
    "    dealer_ace1 = 0\n",
    "    dealer_ace2 = 0\n",
    "    \n",
    "    if is_ace(player1) == True:\n",
    "        player_ace1 = ace_value(player_hand)\n",
    "    if is_ace(player2) == True:\n",
    "        player_ace2 = ace_value(player_hand)\n",
    "    if is_ace(dealer1) == True:\n",
    "        dealer_ace1 = ace_value(dealer_hand)\n",
    "    if is_ace(dealer2) == True:\n",
    "        dealer_ace2 = ace_value(dealer_hand)\n",
    "    \n",
    "    if player_ace1 == 1 and player_ace2 == 1:\n",
    "        print(\"You have Two Aces!\")\n",
    "        print()\n",
    "        double_ace_value = int(input(\"Would you like your aces to be worth 2 or 12? \"))\n",
    "        print()\n",
    "        if double_ace_value == 2:\n",
    "            player_ace1, player_ace2 = 1,1\n",
    "        elif double_ace_value == 12:\n",
    "            player_ace1, player_ace2 = 11,1\n",
    "        \n",
    "    return player_ace1, player_ace2, dealer_ace1, dealer_ace2\n",
    "        \n",
    "    "
   ]
  },
  {
   "cell_type": "code",
   "execution_count": 279,
   "metadata": {},
   "outputs": [
    {
     "name": "stdout",
     "output_type": "stream",
     "text": [
      "You have Two Aces!\n",
      "\n",
      "Would you like your aces to be worth 2 or 12? 2\n",
      "\n"
     ]
    },
    {
     "data": {
      "text/plain": [
       "(1, 1, 0, 0)"
      ]
     },
     "execution_count": 279,
     "metadata": {},
     "output_type": "execute_result"
    }
   ],
   "source": [
    "check_for_aces(1,1,3,4,2,7)"
   ]
  },
  {
   "cell_type": "code",
   "execution_count": 293,
   "metadata": {},
   "outputs": [
    {
     "name": "stdout",
     "output_type": "stream",
     "text": [
      "Do you want an intro Y or N? n\n",
      "Player's cards: 10,10 || Dealers Cards: 7, ???\n",
      "player hand:20\n",
      "Would you like another card? Y or N: n\n",
      "The Dealers hidden card was 10 there other card 7 for a total hand of 17\n",
      "Hit the special where dealer is above 17 but below 21\n",
      "You Won!\n"
     ]
    }
   ],
   "source": [
    "black_jack()"
   ]
  },
  {
   "cell_type": "markdown",
   "metadata": {},
   "source": [
    "# Exercise 8 but sims Many Games"
   ]
  },
  {
   "cell_type": "markdown",
   "metadata": {},
   "source": [
    "### The book wasn't super clear but now we know what to do. This will simply sim the prob that the dealer busts. So this verison will eliminate the player being able to add cards."
   ]
  },
  {
   "cell_type": "code",
   "execution_count": 201,
   "metadata": {},
   "outputs": [],
   "source": [
    "def black_sim(n):\n",
    "    playerWins = 0\n",
    "    dealerWins = 0\n",
    "    draws = 0\n",
    "    counter = 0\n",
    "    while counter < n:\n",
    "        result = black_jack()\n",
    "        if result == 'player':\n",
    "            playerWins +=1\n",
    "        elif result == 'dealer':\n",
    "            dealerWins += 1\n",
    "        elif result == 'draw':\n",
    "            draws += 1\n",
    "        counter += 1\n",
    "        \n",
    "    print(f\"Player Wins: {playerWins}, Dealer Wins: {dealerWins}, draws: {draws}\")\n",
    "    print(f\"The problability the dealer goes bust is: {round(playerWins/ n,1)*100}%\")"
   ]
  },
  {
   "cell_type": "code",
   "execution_count": 208,
   "metadata": {},
   "outputs": [
    {
     "name": "stdout",
     "output_type": "stream",
     "text": [
      "Player Wins: 3631, Dealer Wins: 5937, draws: 432\n",
      "The problability the dealer goes bust is: 40.0%\n"
     ]
    }
   ],
   "source": [
    "black_sim(10000)"
   ]
  },
  {
   "cell_type": "code",
   "execution_count": 202,
   "metadata": {},
   "outputs": [],
   "source": [
    "from random import randrange\n",
    "\n",
    "def black_jack():\n",
    "    game_over = False\n",
    "    add_cards = True\n",
    "    counter = 0\n",
    "\n",
    "    # Get's the player and dealers hands\n",
    "    player_hand, dealer_hand, dealer_card = get_initial_hand()\n",
    "    game_over, win = game_check(player_hand,dealer_hand)\n",
    "    if game_over == True:\n",
    "        add_cards = False\n",
    "\n",
    "\n",
    "    while game_over == False:\n",
    "            if dealer_hand >= 17 and dealer_hand <= 21:\n",
    "                game_over,win = game_check(player_hand,dealer_hand)\n",
    "                win = final_compare(player_hand,dealer_hand)\n",
    "                break\n",
    "            else:\n",
    "                counter +=1\n",
    "                dealer_hand = add_card(dealer_hand)\n",
    "                game_over, win = game_check(player_hand,dealer_hand)\n",
    "                continue\n",
    "    return win\n",
    "            "
   ]
  },
  {
   "cell_type": "code",
   "execution_count": 203,
   "metadata": {},
   "outputs": [],
   "source": [
    "def game_check(player_hand,dealer_hand):\n",
    " \n",
    "    win = ''\n",
    "    if player_hand == 21 and dealer_hand == 21:\n",
    "        win = 'draw'\n",
    "        return True, win\n",
    "    elif player_hand == 21:\n",
    "        win = 'player'\n",
    "        return True,win\n",
    "    elif dealer_hand == 21:\n",
    "        win = 'dealer'\n",
    "        return True, win\n",
    "    elif player_hand <= 21 and dealer_hand > 21:\n",
    "        win = 'player'\n",
    "        return True, win\n",
    "    elif player_hand > 21 and dealer_hand <= 21:\n",
    "        win = 'dealer'\n",
    "        return True, win\n",
    "    else:\n",
    "        return False, win"
   ]
  },
  {
   "cell_type": "code",
   "execution_count": 204,
   "metadata": {},
   "outputs": [],
   "source": [
    "def get_initial_hand():\n",
    "\n",
    "    \n",
    "    # Get's the card values for the 2 player cards and 2 dealer cards\n",
    "    player1 = randrange(1,13)\n",
    "    player2 = randrange(1,13)\n",
    "    #player1, player2 = 11,1\n",
    "    dealer1 = randrange(1,13)\n",
    "    dealer2 = randrange(1,13)\n",
    "    \n",
    "    # Dict that assigns the value of each card 1--12 are face cards and each worth 10, ace is worth zero for now\n",
    "    cards = {1:0,2:2,3:3,4:4,5:5,6:6,7:7,8:8,9:9,10:10,11:10,12:10}\n",
    "    \n",
    "\n",
    "    # Calculates the player and dealers intial hands not accounting for aces yet\n",
    "    player_hand = cards[player1] + cards[player2]\n",
    "    dealer_hand = cards[dealer1] + cards[dealer2]\n",
    "    \n",
    "    # Calculates the value of any aces found\n",
    "    player_ace1, player_ace2, dealer_ace1, dealer_ace2 = check_for_aces(player1,player2,dealer1,dealer2,player_hand,dealer_hand)\n",
    "    \n",
    "    # Recalculates the values of the hands if any aces were found\n",
    "    player_hand2 = cards[player1] + cards[player2] + player_ace1 + player_ace2\n",
    "    dealer_hand2 = cards[dealer1] + cards[dealer2] + dealer_ace1 + dealer_ace2\n",
    "    \n",
    "    # Prints the hand and returns them as variables\n",
    "    return player_hand2, dealer_hand2, dealer1"
   ]
  },
  {
   "cell_type": "code",
   "execution_count": 205,
   "metadata": {},
   "outputs": [],
   "source": [
    "def final_compare(player_hand,dealer_hand):\n",
    "    if player_hand == dealer_hand:\n",
    "        return 'draw'\n",
    "    elif player_hand > dealer_hand:\n",
    "        return \"player\"\n",
    "    elif dealer_hand > player_hand:\n",
    "        return \"dealer\""
   ]
  },
  {
   "cell_type": "code",
   "execution_count": 206,
   "metadata": {},
   "outputs": [
    {
     "data": {
      "text/plain": [
       "'dealer'"
      ]
     },
     "execution_count": 206,
     "metadata": {},
     "output_type": "execute_result"
    }
   ],
   "source": [
    "black_jack()"
   ]
  },
  {
   "cell_type": "markdown",
   "metadata": {},
   "source": [
    "### Book Solution"
   ]
  },
  {
   "cell_type": "code",
   "execution_count": 138,
   "metadata": {},
   "outputs": [
    {
     "name": "stdout",
     "output_type": "stream",
     "text": [
      "Simulation of a Blackjack dealer.\n",
      "\n",
      "How many trials? 500\n",
      "In 500 hands dealer busted 141 times.\n",
      "Estimated prob = 0.282\n"
     ]
    }
   ],
   "source": [
    "# c09ex08.py\n",
    "#    Simulation to Blackjack dealer to estimate bust probability.\n",
    "\n",
    "from random import randrange\n",
    "\n",
    "def main():\n",
    "    print(\"Simulation of a Blackjack dealer.\\n\")\n",
    "    n = int(input(\"How many trials? \"))\n",
    "    busts = 0\n",
    "    for i in range(n):\n",
    "        points = dealHand()\n",
    "        if points > 21:\n",
    "            busts = busts + 1\n",
    "    print(\"In %d hands dealer busted %d times.\" % (n, busts))\n",
    "    print(\"Estimated prob =\", float(busts)/n)\n",
    "\n",
    "def dealHand():\n",
    "    total = 0\n",
    "    haveAce = False\n",
    "    while total < 17:\n",
    "        card = randrange(1,14)\n",
    "        if card == 1: \n",
    "        \thaveAce = True\n",
    "        total = total + BJValue(card)\n",
    "        if haveAce:\n",
    "            total = adjustForAce(total)\n",
    "    return total\n",
    "    \n",
    "def BJValue(card):\n",
    "    if card > 10:\n",
    "        return 10\n",
    "    else:\n",
    "        return card\n",
    "\n",
    "def adjustForAce(total):\n",
    "    if 16 < total + 10 < 22:\n",
    "        return total + 10\n",
    "    else:\n",
    "        return total\n",
    "\n",
    "if __name__ == '__main__':\n",
    "    main()"
   ]
  },
  {
   "cell_type": "markdown",
   "metadata": {},
   "source": [
    "# Exercise 9"
   ]
  },
  {
   "cell_type": "markdown",
   "metadata": {},
   "source": [
    "### My Solution"
   ]
  },
  {
   "cell_type": "code",
   "execution_count": 230,
   "metadata": {},
   "outputs": [
    {
     "name": "stdout",
     "output_type": "stream",
     "text": [
      "When the dealer's Card is 1: Player Wins: 1839, Dealer Wins: 2185, draws: 3647\n",
      "The problability the dealer goes bust when their first card is: 1 is: 40.0%\n",
      "\n",
      "When the dealer's Card is 11: Player Wins: 490, Dealer Wins: 5039, draws: 0\n",
      "The problability the dealer goes bust when their first card is: 11 is: 10.0%\n",
      "\n",
      "When the dealer's Card is 2: Player Wins: 4180, Dealer Wins: 5423, draws: 397\n",
      "The problability the dealer goes bust when their first card is: 2 is: 40.0%\n",
      "\n",
      "When the dealer's Card is 3: Player Wins: 4312, Dealer Wins: 5310, draws: 378\n",
      "The problability the dealer goes bust when their first card is: 3 is: 40.0%\n",
      "\n",
      "When the dealer's Card is 4: Player Wins: 4451, Dealer Wins: 5184, draws: 365\n",
      "The problability the dealer goes bust when their first card is: 4 is: 40.0%\n",
      "\n",
      "When the dealer's Card is 5: Player Wins: 4593, Dealer Wins: 5096, draws: 311\n",
      "The problability the dealer goes bust when their first card is: 5 is: 50.0%\n",
      "\n",
      "When the dealer's Card is 6: Player Wins: 4658, Dealer Wins: 4996, draws: 346\n",
      "The problability the dealer goes bust when their first card is: 6 is: 50.0%\n",
      "\n",
      "When the dealer's Card is 7: Player Wins: 3858, Dealer Wins: 5696, draws: 446\n",
      "The problability the dealer goes bust when their first card is: 7 is: 40.0%\n",
      "\n",
      "When the dealer's Card is 8: Player Wins: 3524, Dealer Wins: 6046, draws: 430\n",
      "The problability the dealer goes bust when their first card is: 8 is: 40.0%\n",
      "\n",
      "When the dealer's Card is 9: Player Wins: 3215, Dealer Wins: 6314, draws: 471\n",
      "The problability the dealer goes bust when their first card is: 9 is: 30.0%\n",
      "\n",
      "When the dealer's Card is 10: Player Wins: 2881, Dealer Wins: 6627, draws: 492\n",
      "The problability the dealer goes bust when their first card is: 10 is: 30.0%\n",
      "\n"
     ]
    }
   ],
   "source": [
    "black_sim(10000)"
   ]
  },
  {
   "cell_type": "code",
   "execution_count": 227,
   "metadata": {},
   "outputs": [],
   "source": [
    "def black_sim(n):\n",
    "    playerWins = 0\n",
    "    dealerWins = 0\n",
    "    draws = 0\n",
    "    counter = 0\n",
    "    dealer1 = 1\n",
    "    playerWins1, dealerWins1, draws1 = 0,0,0\n",
    "    playerWins11, dealerWins11, draws11 = 0,0,0\n",
    "    total1,total11 = 0,0\n",
    "    \n",
    "    for i in range(1,11):\n",
    "        while counter < n:\n",
    "            result, first_card = black_jack(dealer1)\n",
    "            if first_card == 1:\n",
    "                if result == 'player':\n",
    "                    playerWins1 +=1\n",
    "                elif result == 'dealer':\n",
    "                    dealerWins1 += 1\n",
    "                elif result == 'draw':\n",
    "                    draws1 += 1\n",
    "                total1 += 1\n",
    "                \n",
    "            elif first_card == 11:\n",
    "                if result == 'player':\n",
    "                    playerWins11 +=1\n",
    "                elif result == 'dealer':\n",
    "                    dealerWins11 += 1\n",
    "                elif result == 'draw':\n",
    "                    draws1 += 11\n",
    "                total11 += 1\n",
    "                \n",
    "            else:\n",
    "                if result == 'player':\n",
    "                    playerWins +=1\n",
    "                elif result == 'dealer':\n",
    "                    dealerWins += 1\n",
    "                elif result == 'draw':\n",
    "                    draws += 1\n",
    "                    \n",
    "            counter += 1\n",
    "            \n",
    "        if first_card == 1 or first_card == 11:\n",
    "            print(f\"When the dealer's Card is {1}: Player Wins: {playerWins1}, Dealer Wins: {dealerWins1}, draws: {draws1}\")\n",
    "            print(f\"The problability the dealer goes bust when their first card is: {1} is: {round(playerWins1/ total1,1)*100}%\")\n",
    "            print()\n",
    "\n",
    "            print(f\"When the dealer's Card is {11}: Player Wins: {playerWins11}, Dealer Wins: {dealerWins11}, draws: {draws11}\")\n",
    "            print(f\"The problability the dealer goes bust when their first card is: {11} is: {round(playerWins11/ total11,1)*100}%\")\n",
    "            print()\n",
    "        else:\n",
    "            print(f\"When the dealer's Card is {first_card}: Player Wins: {playerWins}, Dealer Wins: {dealerWins}, draws: {draws}\")\n",
    "            print(f\"The problability the dealer goes bust when their first card is: {first_card} is: {round(playerWins/ n,1)*100}%\")\n",
    "            print()\n",
    "        dealer1 +=1\n",
    "        counter, playerWins, dealerWins, draws = 0,0,0,0\n",
    "   "
   ]
  },
  {
   "cell_type": "code",
   "execution_count": 211,
   "metadata": {},
   "outputs": [],
   "source": [
    "from random import randrange\n",
    "\n",
    "def black_jack(dealer1):\n",
    "    game_over = False\n",
    "    add_cards = True\n",
    "    counter = 0\n",
    "\n",
    "    # Get's the player and dealers hands\n",
    "    player_hand, dealer_hand, dealer_card = get_initial_hand(dealer1)\n",
    "    game_over, win = game_check(player_hand,dealer_hand)\n",
    "    if game_over == True:\n",
    "        add_cards = False\n",
    "\n",
    "\n",
    "    while game_over == False:\n",
    "            if dealer_hand >= 17 and dealer_hand <= 21:\n",
    "                game_over,win = game_check(player_hand,dealer_hand)\n",
    "                win = final_compare(player_hand,dealer_hand)\n",
    "                break\n",
    "            else:\n",
    "                counter +=1\n",
    "                dealer_hand = add_card(dealer_hand)\n",
    "                game_over, win = game_check(player_hand,dealer_hand)\n",
    "                continue\n",
    "    return win, dealer_card"
   ]
  },
  {
   "cell_type": "code",
   "execution_count": 216,
   "metadata": {},
   "outputs": [],
   "source": [
    "def get_initial_hand(dealer1):\n",
    "\n",
    "    \n",
    "    # Get's the card values for the 2 player cards and 2 dealer cards\n",
    "    player1 = randrange(1,13)\n",
    "    player2 = randrange(1,13)\n",
    "    #player1, player2 = 11,1\n",
    "    dealer1 = dealer1\n",
    "    dealer2 = randrange(1,13)\n",
    "    \n",
    "    # Dict that assigns the value of each card 1--12 are face cards and each worth 10, ace is worth zero for now\n",
    "    cards = {1:0,2:2,3:3,4:4,5:5,6:6,7:7,8:8,9:9,10:10,11:10,12:10}\n",
    "    \n",
    "\n",
    "    # Calculates the player and dealers intial hands not accounting for aces yet\n",
    "    player_hand = cards[player1] + cards[player2]\n",
    "    dealer_hand = cards[dealer1] + cards[dealer2]\n",
    "    \n",
    "    # Calculates the value of any aces found\n",
    "    player_ace1, player_ace2, dealer_ace1, dealer_ace2 = check_for_aces(player1,player2,dealer1,dealer2,player_hand,dealer_hand)\n",
    "    \n",
    "    # Recalculates the values of the hands if any aces were found\n",
    "    player_hand2 = cards[player1] + cards[player2] + player_ace1 + player_ace2\n",
    "    dealer_hand2 = cards[dealer1] + cards[dealer2] + dealer_ace1 + dealer_ace2\n",
    "    \n",
    "    if dealer_ace1 == 1 or dealer_ace1 == 11:\n",
    "        dealer1 = dealer_ace1\n",
    "    # Prints the hand and returns them as variables\n",
    "    return player_hand2, dealer_hand2, dealer1"
   ]
  },
  {
   "cell_type": "markdown",
   "metadata": {},
   "source": [
    "### Book Solution"
   ]
  },
  {
   "cell_type": "code",
   "execution_count": 2,
   "metadata": {},
   "outputs": [
    {
     "name": "stdout",
     "output_type": "stream",
     "text": [
      "Simulation of a Blackjack dealer.\n",
      "\n",
      "How many trials for each start value? 1\n",
      "\n",
      "Start  Prob of Bust\n",
      "-------------------\n",
      "    1     0.00\n",
      "    2     0.00\n",
      "    3     1.00\n",
      "    4     0.00\n",
      "    5     1.00\n",
      "    6     1.00\n",
      "    7     1.00\n",
      "    8     1.00\n",
      "    9     1.00\n",
      "   10     0.00\n"
     ]
    }
   ],
   "source": [
    "# c09ex08.py\n",
    "#    Simulation to Blackjack dealer to estimate bust probability.\n",
    "\n",
    "from random import randrange\n",
    "\n",
    "def main():\n",
    "    print(\"Simulation of a Blackjack dealer.\\n\")\n",
    "    n = int(input(\"How many trials for each start value? \"))\n",
    "    print(\"\\nStart  Prob of Bust\")\n",
    "    print(\"-------------------\")\n",
    "    for start in range(1,11):\n",
    "        busts = simulateHands(n, start)\n",
    "        print(\"{0:5}  {1:7.2f}\".format(start, busts/n))\n",
    "\n",
    "def simulateHands(n, start):                              \n",
    "    busts = 0\n",
    "    for i in range(n):\n",
    "        points = dealHand(start)\n",
    "        if points > 21:\n",
    "            busts = busts + 1\n",
    "    return busts\n",
    "\n",
    "def dealHand(start):\n",
    "    total = start\n",
    "    haveAce = (start == 1)\n",
    "    while total < 17:\n",
    "        card = randrange(1,14)\n",
    "        if card == 1: \n",
    "        \thaveAce = True\n",
    "        total = total + BJValue(card)\n",
    "        if haveAce:\n",
    "            total = adjustForAce(total)\n",
    "    return total\n",
    "    \n",
    "def BJValue(card):\n",
    "    if card > 10:\n",
    "        return 10\n",
    "    else:\n",
    "        return card\n",
    "\n",
    "def adjustForAce(total):\n",
    "    if 16 < total + 10 < 22:\n",
    "        return total + 10\n",
    "    else:\n",
    "        return total\n",
    "\n",
    "if __name__ == '__main__':\n",
    "    main()"
   ]
  },
  {
   "cell_type": "markdown",
   "metadata": {},
   "source": [
    "# Exercise 10"
   ]
  },
  {
   "cell_type": "markdown",
   "metadata": {},
   "source": [
    "### My Solution"
   ]
  },
  {
   "cell_type": "code",
   "execution_count": 8,
   "metadata": {},
   "outputs": [],
   "source": [
    "from random import random\n",
    "x,y = 2* random() - 1, 2*random() -1"
   ]
  },
  {
   "cell_type": "code",
   "execution_count": 9,
   "metadata": {},
   "outputs": [
    {
     "data": {
      "text/plain": [
       "(0.7314923812925269, 0.27881126081477126)"
      ]
     },
     "execution_count": 9,
     "metadata": {},
     "output_type": "execute_result"
    }
   ],
   "source": [
    "x,y"
   ]
  },
  {
   "cell_type": "code",
   "execution_count": 10,
   "metadata": {},
   "outputs": [
    {
     "name": "stdout",
     "output_type": "stream",
     "text": [
      "in\n"
     ]
    }
   ],
   "source": [
    "if x**2 + y**2 <= 1:\n",
    "    print('in')"
   ]
  },
  {
   "cell_type": "code",
   "execution_count": 19,
   "metadata": {},
   "outputs": [],
   "source": [
    "z,zz = random(),random()"
   ]
  },
  {
   "cell_type": "code",
   "execution_count": 20,
   "metadata": {},
   "outputs": [
    {
     "data": {
      "text/plain": [
       "(0.8006209924499337, 0.10740296484460177)"
      ]
     },
     "execution_count": 20,
     "metadata": {},
     "output_type": "execute_result"
    }
   ],
   "source": [
    "z,zz"
   ]
  },
  {
   "cell_type": "code",
   "execution_count": 21,
   "metadata": {},
   "outputs": [
    {
     "name": "stdout",
     "output_type": "stream",
     "text": [
      "in\n"
     ]
    }
   ],
   "source": [
    "if z**2 + zz**2 <= 1:\n",
    "    print('in')\n",
    "else:\n",
    "    print('nah')"
   ]
  },
  {
   "cell_type": "code",
   "execution_count": 22,
   "metadata": {},
   "outputs": [],
   "source": [
    "def get_points():\n",
    "    x, y = 2* random() - 1, 2*random() -1\n",
    "    return x, y"
   ]
  },
  {
   "cell_type": "code",
   "execution_count": 26,
   "metadata": {},
   "outputs": [],
   "source": [
    "x, y = get_points()"
   ]
  },
  {
   "cell_type": "code",
   "execution_count": 33,
   "metadata": {},
   "outputs": [],
   "source": [
    "def check_in(x,y):\n",
    "    if x**2 + y**2 <= 1:\n",
    "        return 1\n",
    "    else:\n",
    "        return 0"
   ]
  },
  {
   "cell_type": "code",
   "execution_count": 34,
   "metadata": {},
   "outputs": [
    {
     "data": {
      "text/plain": [
       "1"
      ]
     },
     "execution_count": 34,
     "metadata": {},
     "output_type": "execute_result"
    }
   ],
   "source": [
    "check_in(x,y)"
   ]
  },
  {
   "cell_type": "code",
   "execution_count": 41,
   "metadata": {},
   "outputs": [],
   "source": [
    "def pi_estimate(hits,n):\n",
    "    \n",
    "    pi = 4*(hits/n)\n",
    "    \n",
    "    return pi"
   ]
  },
  {
   "cell_type": "code",
   "execution_count": 42,
   "metadata": {},
   "outputs": [
    {
     "data": {
      "text/plain": [
       "3.5294117647058822"
      ]
     },
     "execution_count": 42,
     "metadata": {},
     "output_type": "execute_result"
    }
   ],
   "source": [
    "pi_estimate(15,17)"
   ]
  },
  {
   "cell_type": "code",
   "execution_count": 53,
   "metadata": {},
   "outputs": [],
   "source": [
    "def pi_sim(n):\n",
    "    \n",
    "    hits = 0\n",
    "    \n",
    "    for i in range(1,n+1):\n",
    "        x,y = get_points()\n",
    "        hits += check_in(x,y)\n",
    "        \n",
    "    pi = pi_estimate(hits,n)\n",
    "    \n",
    "    return f\"The estimate for pi is {round(pi,2)}. The total darts thrown: {n} and hits: {hits}\"\n",
    "    \n",
    "    "
   ]
  },
  {
   "cell_type": "code",
   "execution_count": 55,
   "metadata": {},
   "outputs": [
    {
     "data": {
      "text/plain": [
       "'The estimate for pi is 3.17. The total darts thrown: 10001 and hits: 7931'"
      ]
     },
     "execution_count": 55,
     "metadata": {},
     "output_type": "execute_result"
    }
   ],
   "source": [
    "pi_sim(1000)"
   ]
  },
  {
   "cell_type": "markdown",
   "metadata": {},
   "source": [
    "### Book Solution"
   ]
  },
  {
   "cell_type": "code",
   "execution_count": 50,
   "metadata": {},
   "outputs": [
    {
     "name": "stdout",
     "output_type": "stream",
     "text": [
      "This program estimates the value of pi using\n",
      "random \"dart\" tosses.\n",
      "\n",
      "How many darts should I simulate? 1000\n",
      "Estimated value of pi = 3.088\n"
     ]
    }
   ],
   "source": [
    "# c09ex10.py\n",
    "#    Monte Carlo estimation of pi\n",
    "\n",
    "from random import random\n",
    "\n",
    "def main():\n",
    "    print(\"This program estimates the value of pi using\")\n",
    "    print('random \"dart\" tosses.')\n",
    "    n = int(input(\"\\nHow many darts should I simulate? \"))\n",
    "    hits = throwDarts(n)\n",
    "    print(\"Estimated value of pi =\", 4.0 * hits / n)\n",
    "\n",
    "def throwDarts(n):\n",
    "    hits = 0\n",
    "    for i in range(n):\n",
    "        x = 2 * random() - 1\n",
    "        y = 2 * random() - 1\n",
    "        if x*x + y*y <= 1:\n",
    "            hits = hits + 1\n",
    "    return hits\n",
    "\n",
    "if __name__ == '__main__':\n",
    "    main()\n",
    "    "
   ]
  },
  {
   "cell_type": "markdown",
   "metadata": {},
   "source": [
    "# Exercise 11"
   ]
  },
  {
   "cell_type": "markdown",
   "metadata": {},
   "source": [
    "### My Solution"
   ]
  },
  {
   "cell_type": "code",
   "execution_count": 3,
   "metadata": {},
   "outputs": [],
   "source": [
    "from random import randrange\n",
    "def dice_value_calc(number_kind):\n",
    "    \n",
    "    die_list = []\n",
    "    \n",
    "    for i in range(1,number_kind+1):\n",
    "        dice_value = randrange(1,7)\n",
    "        die_list.append(dice_value)\n",
    "        \n",
    "    return die_list\n",
    "        \n",
    "    "
   ]
  },
  {
   "cell_type": "code",
   "execution_count": 18,
   "metadata": {},
   "outputs": [
    {
     "data": {
      "text/plain": [
       "[1, 6, 2, 3, 2]"
      ]
     },
     "execution_count": 18,
     "metadata": {},
     "output_type": "execute_result"
    }
   ],
   "source": [
    "dice_value_calc(5)"
   ]
  },
  {
   "cell_type": "code",
   "execution_count": 5,
   "metadata": {},
   "outputs": [],
   "source": [
    "def is_kind(dice_values,number_kind):\n",
    "    \n",
    "    kind_confirm = False\n",
    "    key = dice_values[0]\n",
    "    count_key = dice_values.count(key)\n",
    "    \n",
    "    if count_key == number_kind:\n",
    "        kind_confirm = True\n",
    "    \n",
    "    return kind_confirm"
   ]
  },
  {
   "cell_type": "code",
   "execution_count": 17,
   "metadata": {},
   "outputs": [
    {
     "data": {
      "text/plain": [
       "True"
      ]
     },
     "execution_count": 17,
     "metadata": {},
     "output_type": "execute_result"
    }
   ],
   "source": [
    "is_kind([2,2,2,2,2,2],6)"
   ]
  },
  {
   "cell_type": "code",
   "execution_count": 7,
   "metadata": {},
   "outputs": [],
   "source": [
    "def die_kind(number_kind):\n",
    "    \n",
    "    print(\"This program will calculate the problability of rolling the same number on N dice (Six-sided dice)\")\n",
    "    kind_counter = 0\n",
    "    sims = 1000000\n",
    "\n",
    "    for i in range(1,sims+1):\n",
    "        dice_values = dice_value_calc(number_kind)\n",
    "        if is_kind(dice_values,number_kind) == True:\n",
    "            kind_counter +=1\n",
    "        \n",
    "    return f\"The problability of getting {number_kind} of a kind is {round(kind_counter/sims*100,3)}%\""
   ]
  },
  {
   "cell_type": "code",
   "execution_count": 12,
   "metadata": {},
   "outputs": [
    {
     "name": "stdout",
     "output_type": "stream",
     "text": [
      "This program will calculate the problability of rolling the same number on N dice (Six-sided dice)\n"
     ]
    },
    {
     "data": {
      "text/plain": [
       "'The problability of getting 8 of a kind is 0.001%'"
      ]
     },
     "execution_count": 12,
     "metadata": {},
     "output_type": "execute_result"
    }
   ],
   "source": [
    "die_kind(8)"
   ]
  },
  {
   "cell_type": "markdown",
   "metadata": {},
   "source": [
    "### Book Solution"
   ]
  },
  {
   "cell_type": "code",
   "execution_count": 104,
   "metadata": {},
   "outputs": [
    {
     "name": "stdout",
     "output_type": "stream",
     "text": [
      "This program estimates the probability of rolling\n",
      "five of a kind on a single roll of 5 dice.\n",
      "\n",
      "How many rolls should I simulate? 1000000\n",
      "Estimated prob = 0.0008\n"
     ]
    }
   ],
   "source": [
    "# c09ex11.py\n",
    "#     Probability of rolling 5 of a kind\n",
    "\n",
    "from random import randrange\n",
    "\n",
    "def main():\n",
    "    print(\"This program estimates the probability of rolling\")\n",
    "    print(\"five of a kind on a single roll of 5 dice.\\n\")\n",
    "\n",
    "    n = int(input(\"How many rolls should I simulate? \"))\n",
    "    hits = 0\n",
    "    for i in range(n):\n",
    "        if equalRolls(5):\n",
    "            hits = hits + 1\n",
    "    print(\"Estimated prob =\", float(hits)/n)\n",
    "\n",
    "\n",
    "def equalRolls(count):\n",
    "    # count is number of dice to be rolled (must be >1)\n",
    "    # returns True if all values turn out the same, False o/w\n",
    "    first = randrange(1,7)\n",
    "    for i in range(count-1):\n",
    "        roll = randrange(1,7)\n",
    "        if roll != first:\n",
    "            return False\n",
    "    # All rolls were equal to the first\n",
    "    return True\n",
    "\n",
    "if __name__ == '__main__':\n",
    "    main()\n"
   ]
  },
  {
   "cell_type": "markdown",
   "metadata": {},
   "source": [
    "# Exercise 12"
   ]
  },
  {
   "cell_type": "markdown",
   "metadata": {},
   "source": [
    "### My Solution"
   ]
  },
  {
   "cell_type": "code",
   "execution_count": 133,
   "metadata": {},
   "outputs": [],
   "source": [
    "def coin_flip():\n",
    "    x = random()\n",
    "    \n",
    "    if x < .5:\n",
    "        return 1\n",
    "    else:\n",
    "        return -1"
   ]
  },
  {
   "cell_type": "code",
   "execution_count": 136,
   "metadata": {},
   "outputs": [
    {
     "data": {
      "text/plain": [
       "-1"
      ]
     },
     "execution_count": 136,
     "metadata": {},
     "output_type": "execute_result"
    }
   ],
   "source": [
    "coin_flip()"
   ]
  },
  {
   "cell_type": "markdown",
   "metadata": {},
   "source": [
    "## Provides one result"
   ]
  },
  {
   "cell_type": "code",
   "execution_count": 150,
   "metadata": {},
   "outputs": [],
   "source": [
    "def walk_sim(n):\n",
    "    start = 0\n",
    "    end = start\n",
    "    \n",
    "    for i in range(1,n+1):\n",
    "        move = coin_flip()\n",
    "        end += move\n",
    "    \n",
    "    if end > 0:\n",
    "        return f\"You started at {start} and moved up {end} paces\"\n",
    "    elif end == 0:\n",
    "        return f\"Wow you ended up where you started! Start: {start}, End: {end}\"\n",
    "    elif end < 0:\n",
    "        return f\"You started at {start} and moved back {end} paces\""
   ]
  },
  {
   "cell_type": "code",
   "execution_count": 152,
   "metadata": {},
   "outputs": [
    {
     "data": {
      "text/plain": [
       "'You started at 0 and moved back -1944 paces'"
      ]
     },
     "execution_count": 152,
     "metadata": {},
     "output_type": "execute_result"
    }
   ],
   "source": [
    "walk_sim(1000000)"
   ]
  },
  {
   "cell_type": "markdown",
   "metadata": {},
   "source": [
    "## Provides Average Results"
   ]
  },
  {
   "cell_type": "code",
   "execution_count": 153,
   "metadata": {},
   "outputs": [],
   "source": [
    "def walk_sim2(n):\n",
    "    start = 0\n",
    "    end = start\n",
    "    \n",
    "    for i in range(1,n+1):\n",
    "        move = coin_flip()\n",
    "        end += move\n",
    "        \n",
    "    return end"
   ]
  },
  {
   "cell_type": "code",
   "execution_count": 172,
   "metadata": {},
   "outputs": [],
   "source": [
    "def multi_walks(number_walks, steps):\n",
    "    \n",
    "    total = 0\n",
    "    \n",
    "    for i in range(1,number_walks+1):\n",
    "        end = abs(walk_sim2(steps))\n",
    "        total += end\n",
    "        \n",
    "    return f\"When taking a walk of {steps} steps, on average you move {total/number_walks} paces\"\n",
    "    "
   ]
  },
  {
   "cell_type": "code",
   "execution_count": 178,
   "metadata": {},
   "outputs": [
    {
     "data": {
      "text/plain": [
       "'When taking a walk of 10000 steps, on average you move 76.824 paces'"
      ]
     },
     "execution_count": 178,
     "metadata": {},
     "output_type": "execute_result"
    }
   ],
   "source": [
    "multi_walks(1000,10000)"
   ]
  },
  {
   "cell_type": "markdown",
   "metadata": {},
   "source": [
    "## Book Solution"
   ]
  },
  {
   "cell_type": "code",
   "execution_count": 176,
   "metadata": {},
   "outputs": [
    {
     "name": "stdout",
     "output_type": "stream",
     "text": [
      "Simulation of random walk in one dimension.\n",
      "\n",
      "How many walks should I do? 100\n",
      "How many steps should I take on each? 10000\n",
      "Average distance from start 83.76\n"
     ]
    }
   ],
   "source": [
    "# c09ex12.py\n",
    "\n",
    "from random import random\n",
    "\n",
    "def main():\n",
    "    print(\"Simulation of random walk in one dimension.\\n\")\n",
    "\n",
    "    walks = int(input(\"How many walks should I do? \"))\n",
    "    steps = int(input(\"How many steps should I take on each? \"))\n",
    "\n",
    "    totalDist = 0\n",
    "    for i in range(walks):\n",
    "        thisDist = randomWalk(steps)\n",
    "        totalDist = totalDist + thisDist\n",
    "\n",
    "    print(\"Average distance from start\", totalDist/walks)\n",
    "\n",
    "def randomWalk(n):\n",
    "    pos = 0\n",
    "    for i in range(n):\n",
    "        if random() <.5:\n",
    "            pos = pos - 1\n",
    "        else:\n",
    "            pos = pos + 1\n",
    "    return abs(pos)\n",
    "\n",
    "if __name__ == '__main__':\n",
    "    main()"
   ]
  },
  {
   "cell_type": "markdown",
   "metadata": {},
   "source": [
    "# Exercise 13"
   ]
  },
  {
   "cell_type": "markdown",
   "metadata": {},
   "source": [
    "### My Solution"
   ]
  },
  {
   "cell_type": "markdown",
   "metadata": {},
   "source": [
    "### Provides for one sim (Also gives two values: how far they went up/down and how far left/right"
   ]
  },
  {
   "cell_type": "code",
   "execution_count": 189,
   "metadata": {},
   "outputs": [],
   "source": [
    "def coin_flip2():\n",
    "    x = random()\n",
    "    y = random()\n",
    "    move_list = []\n",
    "    \n",
    "    if x < .5:\n",
    "        move_list.append(1)\n",
    "    else:\n",
    "        move_list.append(-1)\n",
    "    \n",
    "    if y < .5:\n",
    "        move_list.append(1)\n",
    "    else:\n",
    "        move_list.append(-1)\n",
    "    \n",
    "    return move_list"
   ]
  },
  {
   "cell_type": "code",
   "execution_count": 193,
   "metadata": {},
   "outputs": [
    {
     "data": {
      "text/plain": [
       "[1, -1]"
      ]
     },
     "execution_count": 193,
     "metadata": {},
     "output_type": "execute_result"
    }
   ],
   "source": [
    "coin_flip2()"
   ]
  },
  {
   "cell_type": "code",
   "execution_count": 227,
   "metadata": {},
   "outputs": [],
   "source": [
    "def walk_sim_4(steps):\n",
    "    start = [0,0]\n",
    "    end = start\n",
    "    end_upDown = 0\n",
    "    end_leftRight = 0\n",
    "\n",
    "    \n",
    "    for i in range(1,steps+1):\n",
    "        move = coin_flip2()\n",
    "        end_upDown += move[0]\n",
    "        end_leftRight += move[1]\n",
    "    \n",
    "    #print(f\"You ended up {end_upDown} paces up/down and {end_leftRight} paces left/right\")\n",
    "    return end_upDown, end_leftRight"
   ]
  },
  {
   "cell_type": "code",
   "execution_count": 220,
   "metadata": {},
   "outputs": [
    {
     "name": "stdout",
     "output_type": "stream",
     "text": [
      "You ended up -8 paces up/down and 14 paces left/right\n"
     ]
    },
    {
     "data": {
      "text/plain": [
       "(-8, 14)"
      ]
     },
     "execution_count": 220,
     "metadata": {},
     "output_type": "execute_result"
    }
   ],
   "source": [
    "walk_sim_4(100)"
   ]
  },
  {
   "cell_type": "markdown",
   "metadata": {},
   "source": [
    "## Provides for average of steps taken up/down and left/right"
   ]
  },
  {
   "cell_type": "code",
   "execution_count": 228,
   "metadata": {},
   "outputs": [],
   "source": [
    "def multi_walks2(number_walks, steps):\n",
    "    \n",
    "    total_upDown = 0\n",
    "    total_leftRight = 0\n",
    "    \n",
    "    for i in range(1,number_walks+1):\n",
    "        end_upDown, end_leftRight = walk_sim_4(steps)\n",
    "        abs(end_upDown)\n",
    "        abs(end_leftRight)\n",
    "        total_upDown += end_upDown\n",
    "        total_leftRight += end_leftRight\n",
    "        \n",
    "    return f\"When taking a walk of {steps} steps, on average you move {total_upDown/number_walks} paces up/down and {total_leftRight/number_walks} paces left/right\""
   ]
  },
  {
   "cell_type": "code",
   "execution_count": 232,
   "metadata": {},
   "outputs": [
    {
     "data": {
      "text/plain": [
       "'When taking a walk of 1000 steps, on average you move -0.326 paces up/down and 0.282 paces left/right'"
      ]
     },
     "execution_count": 232,
     "metadata": {},
     "output_type": "execute_result"
    }
   ],
   "source": [
    "multi_walks2(1000,1000)"
   ]
  },
  {
   "cell_type": "markdown",
   "metadata": {},
   "source": [
    "## Now what the book wants"
   ]
  },
  {
   "cell_type": "code",
   "execution_count": 234,
   "metadata": {},
   "outputs": [],
   "source": [
    "def coin_flip2():\n",
    "    x = random()\n",
    "    \n",
    "    if x >= 0 and x < .25:\n",
    "        return 1\n",
    "    elif x >= .25 and x < .5:\n",
    "        return -1\n",
    "    elif x >= .5 and x < .75:\n",
    "        return 1\n",
    "    elif x >= .75 and x < 1:\n",
    "        return -1"
   ]
  },
  {
   "cell_type": "code",
   "execution_count": 239,
   "metadata": {},
   "outputs": [
    {
     "data": {
      "text/plain": [
       "-1"
      ]
     },
     "execution_count": 239,
     "metadata": {},
     "output_type": "execute_result"
    }
   ],
   "source": [
    "coin_flip2()"
   ]
  },
  {
   "cell_type": "code",
   "execution_count": 252,
   "metadata": {},
   "outputs": [],
   "source": [
    "def walk_sim_4(steps):\n",
    "    start = 0\n",
    "    end = start\n",
    "    \n",
    "    for i in range(1,steps+1):\n",
    "        move = coin_flip2()\n",
    "        end += move\n",
    "        \n",
    "    \n",
    "    #print(f\"You ended up {end} paces\")\n",
    "    return end"
   ]
  },
  {
   "cell_type": "code",
   "execution_count": 253,
   "metadata": {},
   "outputs": [
    {
     "data": {
      "text/plain": [
       "-10"
      ]
     },
     "execution_count": 253,
     "metadata": {},
     "output_type": "execute_result"
    }
   ],
   "source": [
    "walk_sim_4(100)"
   ]
  },
  {
   "cell_type": "code",
   "execution_count": 257,
   "metadata": {},
   "outputs": [],
   "source": [
    "def multi_walks2(number_walks, steps):\n",
    "    \n",
    "    total = 0\n",
    "    \n",
    "    for i in range(1,number_walks+1):\n",
    "        end = abs(walk_sim_4(steps))\n",
    "        total += end\n",
    "        \n",
    "    return f\"When taking a walk of {steps} steps, on average you move {round(total/number_walks,2)} paces\""
   ]
  },
  {
   "cell_type": "code",
   "execution_count": 260,
   "metadata": {},
   "outputs": [
    {
     "data": {
      "text/plain": [
       "'When taking a walk of 10000 steps, on average you move 80.92 paces'"
      ]
     },
     "execution_count": 260,
     "metadata": {},
     "output_type": "execute_result"
    }
   ],
   "source": [
    "multi_walks2(1000,10000)"
   ]
  },
  {
   "cell_type": "markdown",
   "metadata": {},
   "source": [
    "### Book Solution"
   ]
  },
  {
   "cell_type": "code",
   "execution_count": 259,
   "metadata": {},
   "outputs": [
    {
     "name": "stdout",
     "output_type": "stream",
     "text": [
      "Simulation of two dimensional random walk\n",
      "\n",
      "How man walks should I do? 1000\n",
      "How many steps should I take on each? 10000\n",
      "Average distance from start 92.25452374323737\n"
     ]
    }
   ],
   "source": [
    "# c09ex13.py\n",
    "#    Random block walking\n",
    "\n",
    "from random import randrange\n",
    "\n",
    "def main():\n",
    "    print(\"Simulation of two dimensional random walk\\n\")\n",
    "\n",
    "    walks = int(input(\"How man walks should I do? \"))\n",
    "    steps = int(input(\"How many steps should I take on each? \"))\n",
    "\n",
    "    totalDist = 0\n",
    "    for i in range(walks):\n",
    "        thisDist = randomWalk2D(steps)\n",
    "        totalDist = totalDist + thisDist\n",
    "\n",
    "    print(\"Average distance from start\", totalDist/walks)\n",
    "\n",
    "def randomWalk2D(n):\n",
    "    x,y = 0,0   # start at the origin\n",
    "    for i in range(n):\n",
    "        dir = randrange(4)\n",
    "        if dir == 0:  # go left\n",
    "            x = x  - 1\n",
    "        elif dir == 1: # go up\n",
    "            y = y + 1\n",
    "        elif dir == 2: # go right\n",
    "            x = x + 1\n",
    "        else:          # go down\n",
    "            y = y - 1\n",
    "\n",
    "    return (x*x + y*y)**.5 # distance to origin\n",
    "\n",
    "if __name__ == '__main__':\n",
    "    main()"
   ]
  },
  {
   "cell_type": "markdown",
   "metadata": {},
   "source": [
    "# Exercise 14"
   ]
  },
  {
   "cell_type": "markdown",
   "metadata": {},
   "source": [
    "### My Solution"
   ]
  },
  {
   "cell_type": "code",
   "execution_count": 39,
   "metadata": {},
   "outputs": [],
   "source": [
    "from graphics import *\n",
    "from random import random\n",
    "from random import randrange\n",
    "import math\n",
    "\n",
    "win = GraphWin(\"Test\",500,500)\n",
    "win.setCoords(0,0,100,100)\n",
    "\n",
    "angle = random() * 2 * math.pi\n",
    "\n",
    "x = 50\n",
    "y = 50\n",
    "n = 100\n",
    "\n",
    "point1 = Point(x,y)\n",
    "point1.setFill('Red')\n",
    "point1.draw(win)\n",
    "\n",
    "x1, y1 = twoD_Walk(x,y,n,angle)\n",
    "point2 = Point(x1,y1)\n",
    "\n",
    "\n",
    "line1 = Line(point1, point2)\n",
    "line1.draw(win)\n",
    "\n",
    "win.getMouse()\n",
    "win.close()\n"
   ]
  },
  {
   "cell_type": "code",
   "execution_count": 37,
   "metadata": {},
   "outputs": [],
   "source": [
    "def twoD_Walk(x,y,n,angle):\n",
    "\n",
    "    for i in range(n):\n",
    "        dir = randrange(4)\n",
    "        if dir == 0:  # go left\n",
    "            #x = x  - 1\n",
    "            x = x + math.cos(angle)\n",
    "        elif dir == 1: # go up\n",
    "            #y = y + 1\n",
    "            y = y + math.sin(angle)\n",
    "        elif dir == 2: # go right\n",
    "            #x = x + 1\n",
    "            x = x + math.cos(angle)\n",
    "        else:          # go down\n",
    "           # y = y - 1\n",
    "            y = y + math.sin(angle)\n",
    "            \n",
    "    return x,y\n",
    "    "
   ]
  },
  {
   "cell_type": "code",
   "execution_count": 38,
   "metadata": {},
   "outputs": [
    {
     "data": {
      "text/plain": [
       "(75.45636105693158, 7.540575898138131)"
      ]
     },
     "execution_count": 38,
     "metadata": {},
     "output_type": "execute_result"
    }
   ],
   "source": [
    "twoD_Walk(50,50,100,5.235)"
   ]
  },
  {
   "cell_type": "markdown",
   "metadata": {},
   "source": [
    "Another Try"
   ]
  },
  {
   "cell_type": "code",
   "execution_count": 45,
   "metadata": {},
   "outputs": [],
   "source": [
    "from graphics import *\n",
    "from random import random\n",
    "from random import randrange\n",
    "import math\n",
    "\n",
    "win = GraphWin(\"Test\",500,500)\n",
    "win.setCoords(0,0,100,100)\n",
    "\n",
    "\n",
    "x = 50\n",
    "y = 50\n",
    "n = 100\n",
    "\n",
    "point1 = Point(x,y)\n",
    "point1.setFill('Red')\n",
    "point1.draw(win)\n",
    "\n",
    "point2 = Point(x,y)\n",
    "\n",
    "for i in range(1,n+1):\n",
    "    angle = random() * 2 * math.pi\n",
    "    dx = math.cos(angle)\n",
    "    dy = math.sin(angle)\n",
    "    point2.move(dx,dy)\n",
    "    Line(point1,point2).draw(win)\n",
    "    point1.move(dx,dy)\n",
    "    \n",
    "win.getMouse()\n",
    "win.close()"
   ]
  },
  {
   "cell_type": "markdown",
   "metadata": {},
   "source": [
    "### Book Solution"
   ]
  },
  {
   "cell_type": "code",
   "execution_count": 34,
   "metadata": {},
   "outputs": [
    {
     "name": "stdout",
     "output_type": "stream",
     "text": [
      "Graphical Random Walk\n",
      "\n",
      "How many steps should I take? 1000\n"
     ]
    }
   ],
   "source": [
    "# c09ex14.py\n",
    "#   Graphical random walk (auto-doodler)\n",
    "\n",
    "from random import random\n",
    "from math import sin, cos, pi\n",
    "from graphics import *\n",
    "\n",
    "\n",
    "def main():\n",
    "\n",
    "    print(\"Graphical Random Walk\\n\")\n",
    "    n = int(input(\"How many steps should I take? \"))\n",
    "\n",
    "    win = GraphWin(\"Random Walk\", 500,500)\n",
    "    win.setCoords(-50,-50, 50, 50)\n",
    "    curr = Point(0,0)\n",
    "    next = Point(0,0)\n",
    "    for i in range(n):\n",
    "        angle = random()* 2 * pi\n",
    "        dx = cos(angle)\n",
    "        dy = sin(angle)\n",
    "        next.move(dx,dy)\n",
    "        Line(curr,next).draw(win)\n",
    "        curr.move(dx,dy)\n",
    "    win.getMouse()\n",
    "    win.close()\n",
    "\n",
    "if __name__ == '__main__':\n",
    "    main()\n"
   ]
  },
  {
   "cell_type": "markdown",
   "metadata": {},
   "source": [
    "# Exercise 15"
   ]
  },
  {
   "cell_type": "markdown",
   "metadata": {},
   "source": [
    "### Book Solution"
   ]
  },
  {
   "cell_type": "markdown",
   "metadata": {},
   "source": [
    "This one was advanced and I had no idea"
   ]
  },
  {
   "cell_type": "code",
   "execution_count": 46,
   "metadata": {},
   "outputs": [
    {
     "name": "stdout",
     "output_type": "stream",
     "text": [
      "Puzzle problem solver.\n",
      "\n",
      "Enter x position of the observer (-1 <= x < 1) .6\n",
      "Number of samplings: 100\n",
      "Estimated FOV = 0.27\n"
     ]
    }
   ],
   "source": [
    "# c09ex15.py\n",
    "#    Puzzle problem. Imagine a cube circumscribed about a unit sphere.\n",
    "#    An \"eyeball\" at the origin \"sees\" each wall as 1/6 of the field of\n",
    "#    view. Suppose the eye is moved to (0.5, 0, 0), what proportion of\n",
    "#    the total field of view is taken up by the side of the cube at x = 1.\n",
    "\n",
    "# This program approximates the solution to this problem using Monte Carlo\n",
    "# techniques. It generates rays in random directions from the point of\n",
    "# observation and determines the proportion that intersect the side of cube\n",
    "# at x = 1.\n",
    "\n",
    "# if x is the x position of the observer and (a,b,c) are the components of a\n",
    "#   direction vector, the points along the ray from the observer in that\n",
    "#   direction are given by the parametric equation: p = (x,0,0) + t(a,b,c) for\n",
    "#   t >= 0. Solving for the time of intersection (when p.x == 1) we have get\n",
    "#   t == (1-x)/ a. Thus the point of intersection is (1, (1-x)b/a, (1-x)c/a)\n",
    "#   So the ray \"strikes\" the side of interest iff:\n",
    "#    (-1 <= (1-x)b/a <=1) and (-1 <= (1-x)c/a <= 1)\n",
    "\n",
    "from random import random\n",
    "\n",
    "def randomDirection():\n",
    "    # Generate a random direction vector in threespace.\n",
    "    # Method: generate a random point inside of a unit sphere.\n",
    "    #    (x,y,z) are chosen in the range -1.0 to 1.0. Any point falling\n",
    "    #    outside of the unit sphere is discarded.\n",
    "    while True:\n",
    "        # Generate points until a suitable one is found.\n",
    "        x = 2*random()-1\n",
    "        y = 2*random()-1\n",
    "        z = 2*random()-1\n",
    "        if x*x + y*y + z*z < 1 and (x,y,z) != (0,0,0):\n",
    "            return x,y,z\n",
    "\n",
    "def main():\n",
    "    print(\"Puzzle problem solver.\\n\")\n",
    "    x = float(input(\"Enter x position of the observer (-1 <= x < 1) \"))\n",
    "    n = int(input(\"Number of samplings: \"))\n",
    "    hits = 0\n",
    "    for i in range(n):\n",
    "        a,b,c = randomDirection()\n",
    "        t = (1-x)/a\n",
    "        if t> 0 and (-1 <= t*b <= 1) and (-1 <= t*c <= 1):\n",
    "            hits = hits + 1\n",
    "    print(\"Estimated FOV =\", hits/n)\n",
    "\n",
    "if __name__ == '__main__':\n",
    "    main()"
   ]
  }
 ],
 "metadata": {
  "kernelspec": {
   "display_name": "Python 3",
   "language": "python",
   "name": "python3"
  },
  "language_info": {
   "codemirror_mode": {
    "name": "ipython",
    "version": 3
   },
   "file_extension": ".py",
   "mimetype": "text/x-python",
   "name": "python",
   "nbconvert_exporter": "python",
   "pygments_lexer": "ipython3",
   "version": "3.7.3"
  }
 },
 "nbformat": 4,
 "nbformat_minor": 2
}
