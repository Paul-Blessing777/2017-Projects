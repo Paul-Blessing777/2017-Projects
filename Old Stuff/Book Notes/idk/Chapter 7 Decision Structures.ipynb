{
 "cells": [
  {
   "cell_type": "markdown",
   "metadata": {},
   "source": [
    "# Chapter 7"
   ]
  },
  {
   "cell_type": "markdown",
   "metadata": {},
   "source": [
    "## 7.1 Simple Decision"
   ]
  },
  {
   "cell_type": "markdown",
   "metadata": {},
   "source": [
    "So Far our programs have primarily operated by sequences, following the instructions we made step by step. Now we will learn how to alter the sequential flow with special statements called control structures."
   ]
  },
  {
   "cell_type": "code",
   "execution_count": 2,
   "metadata": {},
   "outputs": [
    {
     "name": "stdout",
     "output_type": "stream",
     "text": [
      "What is the Celsius temperature? 100\n",
      "The temperature is 212.0 degrees Fahrenheit.\n",
      "It's really hot out there. Be careful!\n"
     ]
    }
   ],
   "source": [
    "# We wrote a proram to convert the temp from celsius to farenheit.\n",
    "# Now we will enhance it to give a warning if the temp is an extreme. (I actually already did this in NumPY)\n",
    "\n",
    "# convert2.py\n",
    "#      A program to convert Celsius temps to Fahrenheit.\n",
    "#      This version issues heat and cold warnings.\n",
    "\n",
    "def main():\n",
    "    celsius = float(input(\"What is the Celsius temperature? \"))\n",
    "    fahrenheit = 9/5 * celsius + 32\n",
    "    print(\"The temperature is\", fahrenheit, \"degrees Fahrenheit.\")\n",
    "\n",
    "    # Print warnings for extreme temps\n",
    "    if fahrenheit > 90:\n",
    "        print(\"It's really hot out there. Be careful!\")\n",
    "    if fahrenheit < 30:\n",
    "        print(\"Brrrrr. Be sure to dress warmly!\")\n",
    "\n",
    "main()"
   ]
  },
  {
   "cell_type": "code",
   "execution_count": 3,
   "metadata": {},
   "outputs": [],
   "source": [
    "# Psudeo code for if statement\n",
    "# if (condition):\n",
    "#    (Do this stuff)"
   ]
  },
  {
   "cell_type": "code",
   "execution_count": 5,
   "metadata": {},
   "outputs": [
    {
     "name": "stdout",
     "output_type": "stream",
     "text": [
      "False\n",
      "False\n",
      "True\n",
      "False\n",
      "True\n"
     ]
    }
   ],
   "source": [
    "# Boolean Examples\n",
    "print(3>4)\n",
    "print(3 * 4 < 3 + 4)\n",
    "print(\"hello\" == \"hello\")\n",
    "print(\"hello\" < \"hello\")\n",
    "print(\"Hello\" < 'hello')"
   ]
  },
  {
   "cell_type": "markdown",
   "metadata": {},
   "source": [
    "When using python, sometimes we run programs directly and other times we import programs so we can use their functions and methods. Often times we want to know if something is being run directly or is imported. Python has a way to tell us. A Special vairable called __name__ is assigned based on if the program is direct or imported. If it is imported such as when we import the math library like so: (import math) then __name__ is assigned to 'math'. If however we ran the program directly __name__ would equal \"main'."
   ]
  },
  {
   "cell_type": "markdown",
   "metadata": {},
   "source": [
    "Often we don't want to automatically run imported code, we just want to use it when its called. So we can use what we previously learned to ensure that only direct code is run automatically like so:"
   ]
  },
  {
   "cell_type": "code",
   "execution_count": 6,
   "metadata": {},
   "outputs": [
    {
     "name": "stdout",
     "output_type": "stream",
     "text": [
      "What is the Celsius temperature? 0\n",
      "The temperature is 32.0 degrees Fahrenheit.\n"
     ]
    }
   ],
   "source": [
    "if __name__ == '__main__':\n",
    "    main()"
   ]
  },
  {
   "cell_type": "markdown",
   "metadata": {},
   "source": [
    "## 7.2 Two-Way Decisions"
   ]
  },
  {
   "cell_type": "markdown",
   "metadata": {},
   "source": [
    "In our old quadratic equation program we told the user that if the value ended up being less than 0 the program would crash. We can use the if-else statement to get around this problem:"
   ]
  },
  {
   "cell_type": "markdown",
   "metadata": {},
   "source": [
    "#### Below is the original program: Notice how it crashed"
   ]
  },
  {
   "cell_type": "code",
   "execution_count": 7,
   "metadata": {},
   "outputs": [
    {
     "name": "stdout",
     "output_type": "stream",
     "text": [
      "This program finds the real solutions to a quadratic\n",
      "\n",
      "Enter coefficient a: 1\n",
      "Enter coefficient b: 2\n",
      "Enter coefficient c: 3\n"
     ]
    },
    {
     "ename": "ValueError",
     "evalue": "math domain error",
     "output_type": "error",
     "traceback": [
      "\u001b[1;31m---------------------------------------------------------------------------\u001b[0m",
      "\u001b[1;31mValueError\u001b[0m                                Traceback (most recent call last)",
      "\u001b[1;32m<ipython-input-7-e65eca5ad402>\u001b[0m in \u001b[0;36m<module>\u001b[1;34m\u001b[0m\n\u001b[0;32m     21\u001b[0m     \u001b[0mprint\u001b[0m\u001b[1;33m(\u001b[0m\u001b[1;34m\"The solutions are:\"\u001b[0m\u001b[1;33m,\u001b[0m \u001b[0mroot1\u001b[0m\u001b[1;33m,\u001b[0m \u001b[0mroot2\u001b[0m \u001b[1;33m)\u001b[0m\u001b[1;33m\u001b[0m\u001b[1;33m\u001b[0m\u001b[0m\n\u001b[0;32m     22\u001b[0m \u001b[1;33m\u001b[0m\u001b[0m\n\u001b[1;32m---> 23\u001b[1;33m \u001b[0mmain\u001b[0m\u001b[1;33m(\u001b[0m\u001b[1;33m)\u001b[0m\u001b[1;33m\u001b[0m\u001b[1;33m\u001b[0m\u001b[0m\n\u001b[0m",
      "\u001b[1;32m<ipython-input-7-e65eca5ad402>\u001b[0m in \u001b[0;36mmain\u001b[1;34m()\u001b[0m\n\u001b[0;32m     14\u001b[0m     \u001b[0mc\u001b[0m \u001b[1;33m=\u001b[0m \u001b[0mfloat\u001b[0m\u001b[1;33m(\u001b[0m\u001b[0minput\u001b[0m\u001b[1;33m(\u001b[0m\u001b[1;34m\"Enter coefficient c: \"\u001b[0m\u001b[1;33m)\u001b[0m\u001b[1;33m)\u001b[0m\u001b[1;33m\u001b[0m\u001b[1;33m\u001b[0m\u001b[0m\n\u001b[0;32m     15\u001b[0m \u001b[1;33m\u001b[0m\u001b[0m\n\u001b[1;32m---> 16\u001b[1;33m     \u001b[0mdiscRoot\u001b[0m \u001b[1;33m=\u001b[0m \u001b[0mmath\u001b[0m\u001b[1;33m.\u001b[0m\u001b[0msqrt\u001b[0m\u001b[1;33m(\u001b[0m\u001b[0mb\u001b[0m \u001b[1;33m*\u001b[0m \u001b[0mb\u001b[0m \u001b[1;33m-\u001b[0m \u001b[1;36m4\u001b[0m \u001b[1;33m*\u001b[0m \u001b[0ma\u001b[0m \u001b[1;33m*\u001b[0m \u001b[0mc\u001b[0m\u001b[1;33m)\u001b[0m\u001b[1;33m\u001b[0m\u001b[1;33m\u001b[0m\u001b[0m\n\u001b[0m\u001b[0;32m     17\u001b[0m     \u001b[0mroot1\u001b[0m \u001b[1;33m=\u001b[0m \u001b[1;33m(\u001b[0m\u001b[1;33m-\u001b[0m\u001b[0mb\u001b[0m \u001b[1;33m+\u001b[0m \u001b[0mdiscRoot\u001b[0m\u001b[1;33m)\u001b[0m \u001b[1;33m/\u001b[0m \u001b[1;33m(\u001b[0m\u001b[1;36m2\u001b[0m \u001b[1;33m*\u001b[0m \u001b[0ma\u001b[0m\u001b[1;33m)\u001b[0m\u001b[1;33m\u001b[0m\u001b[1;33m\u001b[0m\u001b[0m\n\u001b[0;32m     18\u001b[0m     \u001b[0mroot2\u001b[0m \u001b[1;33m=\u001b[0m \u001b[1;33m(\u001b[0m\u001b[1;33m-\u001b[0m\u001b[0mb\u001b[0m \u001b[1;33m-\u001b[0m \u001b[0mdiscRoot\u001b[0m\u001b[1;33m)\u001b[0m \u001b[1;33m/\u001b[0m \u001b[1;33m(\u001b[0m\u001b[1;36m2\u001b[0m \u001b[1;33m*\u001b[0m \u001b[0ma\u001b[0m\u001b[1;33m)\u001b[0m\u001b[1;33m\u001b[0m\u001b[1;33m\u001b[0m\u001b[0m\n",
      "\u001b[1;31mValueError\u001b[0m: math domain error"
     ]
    }
   ],
   "source": [
    "# quadratic.py\n",
    "#    A program that computes the real roots of a quadratic equation.\n",
    "#    Illustrates use of the math library.\n",
    "#    Note: this program crashes if the equation has no real roots.\n",
    "\n",
    "import math\n",
    "\n",
    "def main():\n",
    "    print(\"This program finds the real solutions to a quadratic\")\n",
    "    print()\n",
    "\n",
    "    a = float(input(\"Enter coefficient a: \"))\n",
    "    b = float(input(\"Enter coefficient b: \"))\n",
    "    c = float(input(\"Enter coefficient c: \"))\n",
    "\n",
    "    discRoot = math.sqrt(b * b - 4 * a * c)\n",
    "    root1 = (-b + discRoot) / (2 * a)\n",
    "    root2 = (-b - discRoot) / (2 * a)\n",
    "\n",
    "    print()\n",
    "    print(\"The solutions are:\", root1, root2 )\n",
    "\n",
    "main()"
   ]
  },
  {
   "cell_type": "markdown",
   "metadata": {},
   "source": [
    "#### Now lets put an if statement to tell it to only run if the value is greater than or equal to zero"
   ]
  },
  {
   "cell_type": "code",
   "execution_count": 8,
   "metadata": {},
   "outputs": [
    {
     "name": "stdout",
     "output_type": "stream",
     "text": [
      "This program finds the real solutions to a quadratic\n",
      "\n",
      "Enter coefficient a: 1\n",
      "Enter coefficient b: 2\n",
      "Enter coefficient c: 3\n"
     ]
    }
   ],
   "source": [
    "# quadratic2.py\n",
    "import math\n",
    "\n",
    "def main():\n",
    "    print(\"This program finds the real solutions to a quadratic\\n\")\n",
    "    a = float(input(\"Enter coefficient a: \"))\n",
    "    b = float(input(\"Enter coefficient b: \"))\n",
    "    c = float(input(\"Enter coefficient c: \"))\n",
    "\n",
    "    discrim = b * b - 4 * a * c\n",
    "    if discrim >= 0:\n",
    "        discRoot = math.sqrt(discrim)\n",
    "        root1 = (-b + discRoot) / (2 * a)\n",
    "        root2 = (-b - discRoot) / (2 * a)\n",
    "        print(\"\\nThe solutions are:\", root1, root2 )\n",
    "\n",
    "main()"
   ]
  },
  {
   "cell_type": "markdown",
   "metadata": {},
   "source": [
    "#### Great the program didn't crash! But It also doesn't tell the users why it didn't execute. Since the value was less than zero the body was skipped and nothing happened. Let's add an else statement to let the users know what happened."
   ]
  },
  {
   "cell_type": "code",
   "execution_count": 9,
   "metadata": {},
   "outputs": [
    {
     "name": "stdout",
     "output_type": "stream",
     "text": [
      "This program finds the real solutions to a quadratic\n",
      "\n",
      "Enter coefficient a: 1\n",
      "Enter coefficient b: 2\n",
      "Enter coefficient c: 3\n",
      "\n",
      "The equation has no real roots!\n"
     ]
    }
   ],
   "source": [
    "# quadratic3.py\n",
    "import math\n",
    "\n",
    "def main():\n",
    "    print(\"This program finds the real solutions to a quadratic\\n\")\n",
    "    a = float(input(\"Enter coefficient a: \"))\n",
    "    b = float(input(\"Enter coefficient b: \"))\n",
    "    c = float(input(\"Enter coefficient c: \"))\n",
    "\n",
    "    discrim = b * b - 4 * a * c\n",
    "    if discrim < 0:\n",
    "        print(\"\\nThe equation has no real roots!\")\n",
    "    else:\n",
    "        discRoot = math.sqrt(b * b - 4 * a * c)\n",
    "        root1 = (-b + discRoot) / (2 * a)\n",
    "        root2 = (-b - discRoot) / (2 * a)\n",
    "        print(\"\\nThe solutions are:\", root1, root2)\n",
    "main()"
   ]
  },
  {
   "cell_type": "markdown",
   "metadata": {},
   "source": [
    "#### And we see now why the program didn't solve the equation for us."
   ]
  },
  {
   "cell_type": "markdown",
   "metadata": {},
   "source": [
    "## 7.3 Multi-Way Decisions"
   ]
  },
  {
   "cell_type": "markdown",
   "metadata": {},
   "source": [
    "If the coefficient is zero then the two values will be the same, which might be confusing for the user. So we can use and if-elif-else statement to give them more information when that happens."
   ]
  },
  {
   "cell_type": "code",
   "execution_count": 10,
   "metadata": {},
   "outputs": [
    {
     "name": "stdout",
     "output_type": "stream",
     "text": [
      "This program finds the real solutions to a quadratic\n",
      "\n",
      "Enter coefficient a: 1\n",
      "Enter coefficient b: 2\n",
      "Enter coefficient c: 1\n",
      "\n",
      "There is a double root at -1.0\n"
     ]
    }
   ],
   "source": [
    "# quadratic4.py\n",
    "import math  \n",
    "\n",
    "def main():\n",
    "    print(\"This program finds the real solutions to a quadratic\\n\")\n",
    "    a = float(input(\"Enter coefficient a: \"))\n",
    "    b = float(input(\"Enter coefficient b: \"))\n",
    "    c = float(input(\"Enter coefficient c: \"))\n",
    "\n",
    "    discrim = b * b - 4 * a * c    \n",
    "    if discrim < 0:\n",
    "        print(\"\\nThe equation has no real roots!\")\n",
    "    elif discrim == 0:\n",
    "        root = -b / (2 * a)\n",
    "        print(\"\\nThere is a double root at\", root)\n",
    "    else:\n",
    "        discRoot = math.sqrt(b * b - 4 * a * c)\n",
    "        root1 = (-b + discRoot) / (2 * a)\n",
    "        root2 = (-b - discRoot) / (2 * a)\n",
    "        print(\"\\nThe solutions are:\", root1, root2 )\n",
    "main()"
   ]
  },
  {
   "cell_type": "markdown",
   "metadata": {},
   "source": [
    "And we see the program let us know there is a double root"
   ]
  },
  {
   "cell_type": "markdown",
   "metadata": {},
   "source": [
    "## 7.4 Exception Handling"
   ]
  },
  {
   "cell_type": "markdown",
   "metadata": {},
   "source": [
    "Sometimes it would be tedious to make if-else statements for every possible exception that may occur. So programmers sometimes use the try-except decision structure instead. It essentially works like this:"
   ]
  },
  {
   "cell_type": "code",
   "execution_count": 11,
   "metadata": {},
   "outputs": [],
   "source": [
    "# try:\n",
    "#         (body)\n",
    "# except:\n",
    "#     (handler)"
   ]
  },
  {
   "cell_type": "markdown",
   "metadata": {},
   "source": [
    "If we run our ogirinal quadratic program we see we get a ValueError"
   ]
  },
  {
   "cell_type": "code",
   "execution_count": 12,
   "metadata": {},
   "outputs": [
    {
     "name": "stdout",
     "output_type": "stream",
     "text": [
      "This program finds the real solutions to a quadratic\n",
      "\n",
      "Enter coefficient a: 1\n",
      "Enter coefficient b: 2\n",
      "Enter coefficient c: 3\n"
     ]
    },
    {
     "ename": "ValueError",
     "evalue": "math domain error",
     "output_type": "error",
     "traceback": [
      "\u001b[1;31m---------------------------------------------------------------------------\u001b[0m",
      "\u001b[1;31mValueError\u001b[0m                                Traceback (most recent call last)",
      "\u001b[1;32m<ipython-input-12-e65eca5ad402>\u001b[0m in \u001b[0;36m<module>\u001b[1;34m\u001b[0m\n\u001b[0;32m     21\u001b[0m     \u001b[0mprint\u001b[0m\u001b[1;33m(\u001b[0m\u001b[1;34m\"The solutions are:\"\u001b[0m\u001b[1;33m,\u001b[0m \u001b[0mroot1\u001b[0m\u001b[1;33m,\u001b[0m \u001b[0mroot2\u001b[0m \u001b[1;33m)\u001b[0m\u001b[1;33m\u001b[0m\u001b[1;33m\u001b[0m\u001b[0m\n\u001b[0;32m     22\u001b[0m \u001b[1;33m\u001b[0m\u001b[0m\n\u001b[1;32m---> 23\u001b[1;33m \u001b[0mmain\u001b[0m\u001b[1;33m(\u001b[0m\u001b[1;33m)\u001b[0m\u001b[1;33m\u001b[0m\u001b[1;33m\u001b[0m\u001b[0m\n\u001b[0m",
      "\u001b[1;32m<ipython-input-12-e65eca5ad402>\u001b[0m in \u001b[0;36mmain\u001b[1;34m()\u001b[0m\n\u001b[0;32m     14\u001b[0m     \u001b[0mc\u001b[0m \u001b[1;33m=\u001b[0m \u001b[0mfloat\u001b[0m\u001b[1;33m(\u001b[0m\u001b[0minput\u001b[0m\u001b[1;33m(\u001b[0m\u001b[1;34m\"Enter coefficient c: \"\u001b[0m\u001b[1;33m)\u001b[0m\u001b[1;33m)\u001b[0m\u001b[1;33m\u001b[0m\u001b[1;33m\u001b[0m\u001b[0m\n\u001b[0;32m     15\u001b[0m \u001b[1;33m\u001b[0m\u001b[0m\n\u001b[1;32m---> 16\u001b[1;33m     \u001b[0mdiscRoot\u001b[0m \u001b[1;33m=\u001b[0m \u001b[0mmath\u001b[0m\u001b[1;33m.\u001b[0m\u001b[0msqrt\u001b[0m\u001b[1;33m(\u001b[0m\u001b[0mb\u001b[0m \u001b[1;33m*\u001b[0m \u001b[0mb\u001b[0m \u001b[1;33m-\u001b[0m \u001b[1;36m4\u001b[0m \u001b[1;33m*\u001b[0m \u001b[0ma\u001b[0m \u001b[1;33m*\u001b[0m \u001b[0mc\u001b[0m\u001b[1;33m)\u001b[0m\u001b[1;33m\u001b[0m\u001b[1;33m\u001b[0m\u001b[0m\n\u001b[0m\u001b[0;32m     17\u001b[0m     \u001b[0mroot1\u001b[0m \u001b[1;33m=\u001b[0m \u001b[1;33m(\u001b[0m\u001b[1;33m-\u001b[0m\u001b[0mb\u001b[0m \u001b[1;33m+\u001b[0m \u001b[0mdiscRoot\u001b[0m\u001b[1;33m)\u001b[0m \u001b[1;33m/\u001b[0m \u001b[1;33m(\u001b[0m\u001b[1;36m2\u001b[0m \u001b[1;33m*\u001b[0m \u001b[0ma\u001b[0m\u001b[1;33m)\u001b[0m\u001b[1;33m\u001b[0m\u001b[1;33m\u001b[0m\u001b[0m\n\u001b[0;32m     18\u001b[0m     \u001b[0mroot2\u001b[0m \u001b[1;33m=\u001b[0m \u001b[1;33m(\u001b[0m\u001b[1;33m-\u001b[0m\u001b[0mb\u001b[0m \u001b[1;33m-\u001b[0m \u001b[0mdiscRoot\u001b[0m\u001b[1;33m)\u001b[0m \u001b[1;33m/\u001b[0m \u001b[1;33m(\u001b[0m\u001b[1;36m2\u001b[0m \u001b[1;33m*\u001b[0m \u001b[0ma\u001b[0m\u001b[1;33m)\u001b[0m\u001b[1;33m\u001b[0m\u001b[1;33m\u001b[0m\u001b[0m\n",
      "\u001b[1;31mValueError\u001b[0m: math domain error"
     ]
    }
   ],
   "source": [
    "# quadratic.py\n",
    "#    A program that computes the real roots of a quadratic equation.\n",
    "#    Illustrates use of the math library.\n",
    "#    Note: this program crashes if the equation has no real roots.\n",
    "\n",
    "import math\n",
    "\n",
    "def main():\n",
    "    print(\"This program finds the real solutions to a quadratic\")\n",
    "    print()\n",
    "\n",
    "    a = float(input(\"Enter coefficient a: \"))\n",
    "    b = float(input(\"Enter coefficient b: \"))\n",
    "    c = float(input(\"Enter coefficient c: \"))\n",
    "\n",
    "    discRoot = math.sqrt(b * b - 4 * a * c)\n",
    "    root1 = (-b + discRoot) / (2 * a)\n",
    "    root2 = (-b - discRoot) / (2 * a)\n",
    "\n",
    "    print()\n",
    "    print(\"The solutions are:\", root1, root2 )\n",
    "\n",
    "main()"
   ]
  },
  {
   "cell_type": "markdown",
   "metadata": {},
   "source": [
    "#### So we will use the try except to catch this error and return something"
   ]
  },
  {
   "cell_type": "code",
   "execution_count": 13,
   "metadata": {},
   "outputs": [
    {
     "name": "stdout",
     "output_type": "stream",
     "text": [
      "This program finds the real solutions to a quadratic\n",
      "\n",
      "Enter coefficient a: 1\n",
      "Enter coefficient b: 2\n",
      "Enter coefficient c: 3\n",
      "\n",
      "No real roots\n"
     ]
    }
   ],
   "source": [
    "# quadratic5.py\n",
    "import math \n",
    "\n",
    "def main():\n",
    "    print (\"This program finds the real solutions to a quadratic\\n\")\n",
    "\n",
    "    try:\n",
    "        a = float(input(\"Enter coefficient a: \"))\n",
    "        b = float(input(\"Enter coefficient b: \"))\n",
    "        c = float(input(\"Enter coefficient c: \"))\n",
    "        discRoot = math.sqrt(b * b - 4 * a * c)\n",
    "        root1 = (-b + discRoot) / (2 * a)\n",
    "        root2 = (-b - discRoot) / (2 * a)\n",
    "        print(\"\\nThe solutions are:\", root1, root2)\n",
    "    except ValueError:\n",
    "        print(\"\\nNo real roots\")\n",
    "main()"
   ]
  },
  {
   "cell_type": "markdown",
   "metadata": {},
   "source": [
    "#### We see that the ValueError occurred so the program returned: \"No Real Roots\"."
   ]
  },
  {
   "cell_type": "markdown",
   "metadata": {},
   "source": [
    "## 7.5 Study in Design: Max of Three"
   ]
  },
  {
   "cell_type": "markdown",
   "metadata": {},
   "source": [
    "The book will walk us through how we might make a program to determine the largest of three given numbers. I am going to take a crack at it first though."
   ]
  },
  {
   "cell_type": "code",
   "execution_count": 57,
   "metadata": {},
   "outputs": [],
   "source": [
    "def largest_3(x1,x2,x3):\n",
    "    \n",
    "    try:\n",
    "        if x1 > x2 and x1> x3:\n",
    "            return f\"The Largest number is x1: {x1}\"\n",
    "        elif x2 > x1 and x2 > x3:\n",
    "            return f\"The Largest number is x2: {x2}\"\n",
    "        elif x3 > x1 and x3 > x2:\n",
    "            return f\"The Largest number is x3: {x3}\"\n",
    "        elif x1 == x2 and x1 == x3:\n",
    "            return f'All three numbers are the same x1: {x1}, x2: {x2}, x3: {x3}'\n",
    "        elif x1 == x2 and x1 > x3:\n",
    "            return f'x1 and x2 are the same x1: {x1}, x2: {x2} and they are larger than x3: {x3}'\n",
    "        elif x2 == x3 and x2 > x1:\n",
    "            return f'x2 and x3 are the same x2: {x2}, x3: {x3} and they are larger than x1: {x1}'\n",
    "        elif x1 == x3 and x1 > x2:\n",
    "            return f'x1 and x3 are the same x1: {x1}, x3: {x3} and they are larger than x2: {x2}'\n",
    "    except SyntaxError:\n",
    "        print(\"Only submit numbers no strings\")\n",
    "    except TypeError:\n",
    "        print(\"Only submit numbers no strings\")\n",
    "    except:\n",
    "        print(\"Sorry something went wrong, please try again!\")"
   ]
  },
  {
   "cell_type": "code",
   "execution_count": 62,
   "metadata": {},
   "outputs": [
    {
     "data": {
      "text/plain": [
       "'The Largest number is x3: 100'"
      ]
     },
     "execution_count": 62,
     "metadata": {},
     "output_type": "execute_result"
    }
   ],
   "source": [
    "largest_3(77,77,100)"
   ]
  },
  {
   "cell_type": "markdown",
   "metadata": {},
   "source": [
    "#### Looks like my solution works, lets follow the book now"
   ]
  },
  {
   "cell_type": "code",
   "execution_count": 63,
   "metadata": {},
   "outputs": [],
   "source": [
    "# The book shows how a decision tree would be much better than what I did:\n",
    "def main(x1,x2,x3):\n",
    "    \n",
    "    maxval = 0\n",
    "    \n",
    "    if x1 >= x2:\n",
    "        if x1 >= x3:\n",
    "            maxval = x1\n",
    "        else:\n",
    "            maxval = x3\n",
    "    else:\n",
    "        if x2 >= x3:\n",
    "            maxval = x2\n",
    "        else:\n",
    "            maxval = x3\n",
    "    return maxval"
   ]
  },
  {
   "cell_type": "code",
   "execution_count": 64,
   "metadata": {},
   "outputs": [
    {
     "data": {
      "text/plain": [
       "4"
      ]
     },
     "execution_count": 64,
     "metadata": {},
     "output_type": "execute_result"
    }
   ],
   "source": [
    "main(1,2,4)"
   ]
  },
  {
   "cell_type": "markdown",
   "metadata": {},
   "source": [
    "The problem however, is what if we wanted to do this for four numbers? The code would get quite lenghty. Let's see if there is a better way to do this?"
   ]
  },
  {
   "cell_type": "code",
   "execution_count": 67,
   "metadata": {},
   "outputs": [
    {
     "name": "stdout",
     "output_type": "stream",
     "text": [
      "How many numbers are there? 2\n",
      "Enter a number >> 6\n",
      "Enter a number >> 7\n",
      "\n",
      "\n",
      "The largest value is 7.0\n"
     ]
    }
   ],
   "source": [
    "# Here is code the book provides using a for loop:\n",
    "# program: maxn.py\n",
    "#   Finds the maximum of a series of numbers\n",
    "\n",
    "def main():\n",
    "    n = int(input(\"How many numbers are there? \"))\n",
    "    \n",
    "    # Set max to be the first value\n",
    "    max = float(input(\"Enter a number >> \"))\n",
    "    \n",
    "    # Now compare the n-1 successive values\n",
    "    for i in range(n-1): \n",
    "        x = float(input(\"Enter a number >> \"))\n",
    "        if x > max:\n",
    "            max = x\n",
    "    print(\"\\n\")\n",
    "    print(\"The largest value is\", max)\n",
    "\n",
    "main()"
   ]
  },
  {
   "cell_type": "markdown",
   "metadata": {},
   "source": [
    "Funny thing is, python simply has a method to do this called max, so let's see how simple that is:"
   ]
  },
  {
   "cell_type": "code",
   "execution_count": 68,
   "metadata": {},
   "outputs": [],
   "source": [
    "def main(x1,x2,x3):\n",
    "    print(f\"The largest value is {max(x1,x2,x3)}\")"
   ]
  },
  {
   "cell_type": "code",
   "execution_count": 69,
   "metadata": {},
   "outputs": [
    {
     "name": "stdout",
     "output_type": "stream",
     "text": [
      "The largest value is 99\n"
     ]
    }
   ],
   "source": [
    "main(2,7,99)"
   ]
  },
  {
   "cell_type": "markdown",
   "metadata": {},
   "source": [
    "#### Viola!"
   ]
  },
  {
   "cell_type": "markdown",
   "metadata": {},
   "source": [
    "# Programming Exercises"
   ]
  },
  {
   "cell_type": "markdown",
   "metadata": {},
   "source": [
    "## Exercise 1"
   ]
  },
  {
   "cell_type": "markdown",
   "metadata": {},
   "source": [
    "#### My Solution"
   ]
  },
  {
   "cell_type": "code",
   "execution_count": 26,
   "metadata": {},
   "outputs": [],
   "source": [
    "def pay_time(hours):\n",
    "    \n",
    "    pay = 0\n",
    "    \n",
    "    if hours > 40:\n",
    "        overTime = hours - 40\n",
    "        \n",
    "    regular_pay = 8.75 * 40\n",
    "    overtime_pay = (8.75*1.5) * overTime\n",
    "    \n",
    "    pay = regular_pay + overtime_pay\n",
    "    \n",
    "    return f\"You've earned ${round(pay,2)}\""
   ]
  },
  {
   "cell_type": "code",
   "execution_count": 27,
   "metadata": {},
   "outputs": [
    {
     "data": {
      "text/plain": [
       "\"You've earned $415.62\""
      ]
     },
     "execution_count": 27,
     "metadata": {},
     "output_type": "execute_result"
    }
   ],
   "source": [
    "pay_time(45)"
   ]
  },
  {
   "cell_type": "markdown",
   "metadata": {},
   "source": [
    "#### Book's Solution"
   ]
  },
  {
   "cell_type": "code",
   "execution_count": 72,
   "metadata": {},
   "outputs": [
    {
     "name": "stdout",
     "output_type": "stream",
     "text": [
      "Weekly pay calculator\n",
      "\n",
      "Enter hours worked: 45\n",
      "Enter hourly wage: 8.75\n",
      "Your week's pay is $415.62\n"
     ]
    }
   ],
   "source": [
    "# c07ex1.py\n",
    "#    overtime pay\n",
    "\n",
    "\n",
    "def main():\n",
    "    print(\"Weekly pay calculator\\n\")\n",
    "    hours = float(input(\"Enter hours worked: \"))\n",
    "    wage = float(input(\"Enter hourly wage: \"))\n",
    "    if hours <= 40:\n",
    "        pay = hours * wage\n",
    "    else:\n",
    "        pay = 40 * wage + (hours-40) * 1.5 * wage\n",
    "\n",
    "    print(\"Your week's pay is ${0:0.2f}\".format(pay))\n",
    "\n",
    "if __name__ == '__main__':\n",
    "    main()"
   ]
  },
  {
   "cell_type": "markdown",
   "metadata": {},
   "source": [
    "## Exercise 2"
   ]
  },
  {
   "cell_type": "markdown",
   "metadata": {},
   "source": [
    "#### My Solution"
   ]
  },
  {
   "cell_type": "code",
   "execution_count": 7,
   "metadata": {},
   "outputs": [],
   "source": [
    "def grade_calc(score):\n",
    "    \n",
    "    grade = ''\n",
    "    while score > 5 or score < 0:\n",
    "        print(\"Sorry that numbers is to large please try again!\")\n",
    "        score = int(input(\"Please provide your score: \"))\n",
    "        \n",
    "    if score == 5:\n",
    "        grade = \"A\"\n",
    "    elif score == 4:\n",
    "        grade = \"B\"\n",
    "    elif score == 3:\n",
    "        grade = \"C\"\n",
    "    elif score == 2:\n",
    "        grade = \"D\"\n",
    "    elif score == 1:\n",
    "        grade = \"F\"\n",
    "    else:\n",
    "        print(\"Sorry something went Wrong!\")\n",
    "        \n",
    "    return f\"You're grade is {grade}\"\n",
    "        \n"
   ]
  },
  {
   "cell_type": "code",
   "execution_count": 8,
   "metadata": {},
   "outputs": [
    {
     "name": "stdout",
     "output_type": "stream",
     "text": [
      "Sorry that numbers is to large please try again!\n",
      "Please provide your score: 5\n"
     ]
    },
    {
     "data": {
      "text/plain": [
       "\"You're grade is A\""
      ]
     },
     "execution_count": 8,
     "metadata": {},
     "output_type": "execute_result"
    }
   ],
   "source": [
    "grade_calc(6)"
   ]
  },
  {
   "cell_type": "markdown",
   "metadata": {},
   "source": [
    "#### Book's Solution"
   ]
  },
  {
   "cell_type": "code",
   "execution_count": 11,
   "metadata": {},
   "outputs": [
    {
     "name": "stdout",
     "output_type": "stream",
     "text": [
      "Quiz Grader\n",
      "\n",
      "Enter the score (0-5): 2\n",
      "Grade is D\n"
     ]
    }
   ],
   "source": [
    "# c07ex2.py\n",
    "#    quiz grader using decision\n",
    "\n",
    "def main():\n",
    "    print(\"Quiz Grader\\n\")\n",
    "    score = float(input(\"Enter the score (0-5): \"))\n",
    "    if score < 2:\n",
    "        grade = \"F\"\n",
    "    elif score < 3:\n",
    "        grade = \"D\"\n",
    "    elif score < 4:\n",
    "        grade = \"C\"\n",
    "    elif score < 5:\n",
    "        grade = \"B\"\n",
    "    else:\n",
    "        grade = \"A\"\n",
    "    print(\"Grade is\", grade)\n",
    "\n",
    "if __name__ == '__main__':\n",
    "    main()"
   ]
  },
  {
   "cell_type": "markdown",
   "metadata": {},
   "source": [
    "## Exercise 3"
   ]
  },
  {
   "cell_type": "markdown",
   "metadata": {},
   "source": [
    "#### My Solution"
   ]
  },
  {
   "cell_type": "code",
   "execution_count": 20,
   "metadata": {},
   "outputs": [],
   "source": [
    "def grade_calc2(score):\n",
    "    grade = ''\n",
    "    \n",
    "    while score > 100 or score < 0:\n",
    "        print(\"Sorry that numbers is out of the range 0-100 please try again!\")\n",
    "        score = int(input(\"Please provide your score: \"))\n",
    "        \n",
    "    if score >= 90:\n",
    "        grade = \"A\"\n",
    "    elif score >= 80:\n",
    "        grade = \"B\"\n",
    "    elif score >= 70:\n",
    "        grade = \"C\"\n",
    "    elif score >= 60:\n",
    "        grade = \"D\"\n",
    "    elif score < 60:\n",
    "        grade = \"F\"\n",
    "    else:\n",
    "        return \"Sorry something went wrong!\"\n",
    "    \n",
    "    return f\"Your grade is {grade}\"\n",
    "    "
   ]
  },
  {
   "cell_type": "code",
   "execution_count": 25,
   "metadata": {},
   "outputs": [
    {
     "name": "stdout",
     "output_type": "stream",
     "text": [
      "Sorry that numbers is out of the range 0-100 please try again!\n",
      "Please provide your score: 66\n"
     ]
    },
    {
     "data": {
      "text/plain": [
       "'Your grade is D'"
      ]
     },
     "execution_count": 25,
     "metadata": {},
     "output_type": "execute_result"
    }
   ],
   "source": [
    "grade_calc2(110)"
   ]
  },
  {
   "cell_type": "markdown",
   "metadata": {},
   "source": [
    "#### Book Solution"
   ]
  },
  {
   "cell_type": "code",
   "execution_count": 22,
   "metadata": {},
   "outputs": [
    {
     "name": "stdout",
     "output_type": "stream",
     "text": [
      "Exam Grader\n",
      "\n",
      "Enter the score: 33\n",
      "The grade is F\n"
     ]
    }
   ],
   "source": [
    "# c07ex03.0y\n",
    "#   Exam grader using decisions\n",
    "\n",
    "def main():\n",
    "    print(\"Exam Grader\\n\")\n",
    "    score = float(input(\"Enter the score: \"))\n",
    "    if score >= 90:\n",
    "        grade = \"A\"\n",
    "    elif score >= 80:\n",
    "        grade = \"B\"\n",
    "    elif score >=70:\n",
    "        grade = \"C\"\n",
    "    elif score >= 60:\n",
    "        grade = \"D\"\n",
    "    else:\n",
    "        grade = \"F\"\n",
    "    print(\"The grade is\", grade)\n",
    "\n",
    "if __name__ == '__main__':\n",
    "    main()"
   ]
  },
  {
   "cell_type": "markdown",
   "metadata": {},
   "source": [
    "## Exercise 4"
   ]
  },
  {
   "cell_type": "markdown",
   "metadata": {},
   "source": [
    "#### My Solution"
   ]
  },
  {
   "cell_type": "code",
   "execution_count": 38,
   "metadata": {},
   "outputs": [],
   "source": [
    "def class_standing():\n",
    "    \n",
    "    credits = int(input(\"How many credits do you currently have? \"))\n",
    "    standing = ''\n",
    "    \n",
    "    if credits < 7:\n",
    "        standing = 'Freshman'\n",
    "    elif credits < 16:\n",
    "        standing = \"Sophomore\"\n",
    "    elif credits < 26:\n",
    "        standing = \"Junior\"\n",
    "    elif credits >= 26:\n",
    "        standing = \"Senior\"\n",
    "    else:\n",
    "        print(\"Sorry something went wrong!\")\n",
    "        \n",
    "    return f\"You current class standing is: {standing}\"\n",
    "\n",
    "    if __name__ == '__main__':\n",
    "        main()"
   ]
  },
  {
   "cell_type": "code",
   "execution_count": 39,
   "metadata": {},
   "outputs": [
    {
     "name": "stdout",
     "output_type": "stream",
     "text": [
      "How many credits do you currently have? 2\n"
     ]
    },
    {
     "data": {
      "text/plain": [
       "'You current class standing is: Freshman'"
      ]
     },
     "execution_count": 39,
     "metadata": {},
     "output_type": "execute_result"
    }
   ],
   "source": [
    "class_standing()"
   ]
  },
  {
   "cell_type": "markdown",
   "metadata": {},
   "source": [
    "#### Book Solution"
   ]
  },
  {
   "cell_type": "code",
   "execution_count": 35,
   "metadata": {},
   "outputs": [
    {
     "name": "stdout",
     "output_type": "stream",
     "text": [
      "College Classification\n",
      "\n",
      "Enter number of credits: 5\n",
      "The classification is Freshman\n"
     ]
    }
   ],
   "source": [
    "# c07ex04.py\n",
    "#    College classification\n",
    "\n",
    "def main():\n",
    "    print(\"College Classification\\n\")\n",
    "    credits = float(input(\"Enter number of credits: \"))\n",
    "    if credits < 7:\n",
    "        cls = \"Freshman\"\n",
    "    elif credits < 16:\n",
    "        cls = \"Sophomore\"\n",
    "    elif credits < 26:\n",
    "        cls = \"Junior\"\n",
    "    else:\n",
    "        cls = \"Senior\"\n",
    "    print(\"The classification is\", cls)\n",
    "\n",
    "if __name__ == '__main__':\n",
    "    main()"
   ]
  },
  {
   "cell_type": "markdown",
   "metadata": {},
   "source": [
    "## Exercise 5"
   ]
  },
  {
   "cell_type": "markdown",
   "metadata": {},
   "source": [
    "#### My Solution"
   ]
  },
  {
   "cell_type": "code",
   "execution_count": 56,
   "metadata": {},
   "outputs": [],
   "source": [
    "import math\n",
    "\n",
    "def bmi():\n",
    "    \n",
    "    weight = float(input(\"What is your weight in pounds: \"))\n",
    "    height = float(input(\"What is your height in inchs: \"))\n",
    "    \n",
    "    bmi = (weight * 720)/ height**2\n",
    "    \n",
    "    if bmi < 19 or bmi > 25:\n",
    "        print(\"Your BMI is out of the average range!\")\n",
    "    else:\n",
    "        print(\"You have a healthy BMI!\")\n",
    "    \n",
    "    return round(bmi,1)\n",
    "\n",
    "    if __name__ == '__main__':\n",
    "        main()"
   ]
  },
  {
   "cell_type": "code",
   "execution_count": 57,
   "metadata": {},
   "outputs": [
    {
     "name": "stdout",
     "output_type": "stream",
     "text": [
      "What is your weight in pounds: 180\n",
      "What is your height in inchs: 68\n",
      "Your BMI is out of the average range!\n"
     ]
    },
    {
     "data": {
      "text/plain": [
       "28.0"
      ]
     },
     "execution_count": 57,
     "metadata": {},
     "output_type": "execute_result"
    }
   ],
   "source": [
    "bmi()"
   ]
  },
  {
   "cell_type": "markdown",
   "metadata": {},
   "source": [
    "#### Book Solution"
   ]
  },
  {
   "cell_type": "code",
   "execution_count": 58,
   "metadata": {},
   "outputs": [
    {
     "name": "stdout",
     "output_type": "stream",
     "text": [
      "Body Mass Index Calclator\n",
      "\n",
      "Enter your weight (in pounds): 180\n",
      "Enter you height (in inches): 68\n",
      "Your BMI is 28.027681660899653\n",
      "That's on the high side.\n"
     ]
    }
   ],
   "source": [
    "# c07ex05.py\n",
    "#   Body mass index\n",
    "\n",
    "def main():\n",
    "    print(\"Body Mass Index Calclator\\n\")\n",
    "\n",
    "    weight = float(input(\"Enter your weight (in pounds): \"))\n",
    "    height = float(input(\"Enter you height (in inches): \"))\n",
    "    bmi = (720 * weight) / height**2\n",
    "\n",
    "    print(\"Your BMI is\", bmi)\n",
    "    if bmi < 19:\n",
    "        print(\"That's on the low side.\")\n",
    "    elif bmi <= 25:\n",
    "        print(\"That's in the healthy range.\")\n",
    "    else:\n",
    "        print(\"That's on the high side.\")\n",
    "\n",
    "if __name__ == '__main__':\n",
    "    main()"
   ]
  },
  {
   "cell_type": "markdown",
   "metadata": {},
   "source": [
    "## Exercise 6"
   ]
  },
  {
   "cell_type": "markdown",
   "metadata": {},
   "source": [
    "#### My Solution"
   ]
  },
  {
   "cell_type": "code",
   "execution_count": 67,
   "metadata": {},
   "outputs": [],
   "source": [
    "def speed_limit(speed,speed_limit):\n",
    "    \n",
    "    fine = 0\n",
    "    \n",
    "    if speed > speed_limit:\n",
    "        fine += 50\n",
    "        amount_over = speed - speed_limit\n",
    "        fine += amount_over * 5      \n",
    "        if speed > 90:\n",
    "            fine += 200\n",
    "        return f\"You went over the speed limit and your total fines are ${fine}\"\n",
    "\n",
    "    if __name__ == '__main__':\n",
    "        main()"
   ]
  },
  {
   "cell_type": "code",
   "execution_count": 68,
   "metadata": {},
   "outputs": [
    {
     "data": {
      "text/plain": [
       "'You went over the speed limit and your total fines are $405'"
      ]
     },
     "execution_count": 68,
     "metadata": {},
     "output_type": "execute_result"
    }
   ],
   "source": [
    "speed_limit(91,60)"
   ]
  },
  {
   "cell_type": "markdown",
   "metadata": {},
   "source": [
    "#### Book Solution"
   ]
  },
  {
   "cell_type": "code",
   "execution_count": 69,
   "metadata": {},
   "outputs": [
    {
     "name": "stdout",
     "output_type": "stream",
     "text": [
      "Speeding fine calculator\n",
      "\n",
      "Enter the speed limit 60\n",
      "Enter the clocked speed 91\n",
      "Fine $405.00\n"
     ]
    }
   ],
   "source": [
    "# c07ex06.py\n",
    "#    Speeding tickets\n",
    "\n",
    "def main():\n",
    "    print(\"Speeding fine calculator\\n\")\n",
    "    limit = float(input(\"Enter the speed limit \"))\n",
    "    speed = float(input(\"Enter the clocked speed \"))\n",
    "\n",
    "    if speed <= limit:\n",
    "        print(\"Legal\")\n",
    "    else:\n",
    "        fine = 50 + 5*(speed - limit)\n",
    "        if speed > 90:\n",
    "            fine = fine + 200\n",
    "        print(\"Fine ${0:0.2f}\".format(fine))\n",
    "\n",
    "if __name__ == \"__main__\":\n",
    "    main()"
   ]
  },
  {
   "cell_type": "markdown",
   "metadata": {},
   "source": [
    "## Exercise 7"
   ]
  },
  {
   "cell_type": "markdown",
   "metadata": {},
   "source": [
    "#### My Solution"
   ]
  },
  {
   "cell_type": "code",
   "execution_count": 82,
   "metadata": {},
   "outputs": [],
   "source": [
    "def babysit(start,end):\n",
    "    \n",
    "    bill = 0\n",
    "    \n",
    "    \n",
    "    if end >= 20:\n",
    "        bill += ((end-19) * 1.75)\n",
    "        regular_time = 19 - start\n",
    "        bill += (regular_time * 2.5)\n",
    "        \n",
    "    elif end < 20:\n",
    "        regular_time = (end-start)\n",
    "        bill+= regular_time *2.5\n",
    "        \n",
    "    return f\"Your total bill is ${round(bill,2)}\""
   ]
  },
  {
   "cell_type": "code",
   "execution_count": 86,
   "metadata": {},
   "outputs": [
    {
     "data": {
      "text/plain": [
       "'Your total bill is $51.88'"
      ]
     },
     "execution_count": 86,
     "metadata": {},
     "output_type": "execute_result"
    }
   ],
   "source": [
    "babysit(0,21.5)"
   ]
  },
  {
   "cell_type": "code",
   "execution_count": 84,
   "metadata": {},
   "outputs": [
    {
     "data": {
      "text/plain": [
       "'Your total bill is $13.75'"
      ]
     },
     "execution_count": 84,
     "metadata": {},
     "output_type": "execute_result"
    }
   ],
   "source": [
    "babysit(0,5.5)"
   ]
  },
  {
   "cell_type": "markdown",
   "metadata": {},
   "source": [
    "#### Book Solution"
   ]
  },
  {
   "cell_type": "code",
   "execution_count": 85,
   "metadata": {},
   "outputs": [
    {
     "name": "stdout",
     "output_type": "stream",
     "text": [
      "Babysitting Calculator\n",
      "\n",
      "Enter times using 24 hour format (e.g. 8 pm is 20:00)\n",
      "Starting time (hh:mm): 00:00\n",
      "Ending time (hh:mm): 21:30\n",
      "Total payment due: $53.38\n"
     ]
    }
   ],
   "source": [
    "# c07ex07.py\n",
    "#    Babysitter pay\n",
    "#    This is a subtle problem with many possible solutions\n",
    "\n",
    "\n",
    "def main():\n",
    "    print(\"Babysitting Calculator\\n\")\n",
    "    print(\"Enter times using 24 hour format (e.g. 8 pm is 20:00)\")\n",
    "    sHours, sMins = input(\"Starting time (hh:mm): \").split(\":\")\n",
    "    eHours, eMins = input(\"Ending time (hh:mm): \").split(\":\")\n",
    "\n",
    "    # convert to hours since midnight\n",
    "    start = int(sHours) + float(sMins)/60.0\n",
    "    end = int(eHours) + float(eMins)/60.0\n",
    "\n",
    "    if end < start: # correct for rollover at midnight\n",
    "        end = end + 24\n",
    "\n",
    "    bedtime = 21.0\n",
    "    # calculate pre and post bedtime hours\n",
    "    if start < bedtime:\n",
    "        if end < bedtime:\n",
    "            primeHours = end - start\n",
    "            extraHours = 0.0\n",
    "        else:\n",
    "            primeHours = bedtime - start\n",
    "            extraHours = end - bedtime\n",
    "    else:\n",
    "        primeHours = 0.0\n",
    "        extraHours = end - start\n",
    "\n",
    "    pay = 2.50 * primeHours + 1.75 * extraHours\n",
    "    print(\"Total payment due: ${0:0.2f}\".format(pay))\n",
    "\n",
    "if __name__ == '__main__':\n",
    "    main()"
   ]
  },
  {
   "cell_type": "markdown",
   "metadata": {},
   "source": [
    "## Exercise 8"
   ]
  },
  {
   "cell_type": "markdown",
   "metadata": {},
   "source": [
    "#### My Solution"
   ]
  },
  {
   "cell_type": "code",
   "execution_count": 89,
   "metadata": {},
   "outputs": [],
   "source": [
    "def congress(age,citizen_length):\n",
    "    \n",
    "    if age >= 30:\n",
    "        if citizen_length >= 9:\n",
    "            print(\"You are eligible for the US Senate\")\n",
    "    elif age >= 25:\n",
    "        if citizen_length >= 7:\n",
    "            print(\"You are eligible for the US House\")\n",
    "    else:\n",
    "        print(\"You are not eligible for congress, sorry!\")"
   ]
  },
  {
   "cell_type": "code",
   "execution_count": 91,
   "metadata": {},
   "outputs": [
    {
     "name": "stdout",
     "output_type": "stream",
     "text": [
      "You are not eligible for congress, sorry!\n"
     ]
    }
   ],
   "source": [
    "congress(22,25)"
   ]
  },
  {
   "cell_type": "markdown",
   "metadata": {},
   "source": [
    "#### Book Solution"
   ]
  },
  {
   "cell_type": "code",
   "execution_count": 92,
   "metadata": {},
   "outputs": [
    {
     "name": "stdout",
     "output_type": "stream",
     "text": [
      "Congressional Eligibility\n",
      "\n",
      "Enter your age: 25\n",
      "Enter years of residency: 25\n",
      "You are eligible only for the House.\n"
     ]
    }
   ],
   "source": [
    "# c07ex08.py\n",
    "#   Eligibility for Congress\n",
    "#   Note: This solution does not use Boolean operators, since\n",
    "#         they are introduced in Chapter 8.\n",
    "\n",
    "def main():\n",
    "    print(\"Congressional Eligibility\\n\")\n",
    "    age = int(input(\"Enter your age: \"))\n",
    "    residency = int(input(\"Enter years of residency: \"))\n",
    "    if age >= 30:\n",
    "        if residency >= 9:\n",
    "            print(\"You are eligible for the Senate and the House.\")\n",
    "        elif residency >= 7:\n",
    "            print(\"You are eligible only for the House.\")\n",
    "        else:\n",
    "            print(\"You are not eligible for Congress.\")\n",
    "    elif age >= 25:\n",
    "        if residency >= 7:\n",
    "            print(\"You are eligible only for the House.\")\n",
    "        else:\n",
    "            print(\"You are not eligible for Congress.\")\n",
    "    else:\n",
    "        print(\"You are not eligible for Congress.\")\n",
    "\n",
    "if __name__ == '__main__':\n",
    "    main()"
   ]
  },
  {
   "cell_type": "markdown",
   "metadata": {},
   "source": [
    "## Exercise 9"
   ]
  },
  {
   "cell_type": "markdown",
   "metadata": {},
   "source": [
    "#### My Solution"
   ]
  },
  {
   "cell_type": "code",
   "execution_count": 131,
   "metadata": {},
   "outputs": [],
   "source": [
    "def easter(year):\n",
    "    \n",
    "    if year >= 1982 and year <= 2048:\n",
    "        a = year % 19\n",
    "        b = year % 4\n",
    "        c = year % 7\n",
    "        d = (19*a +24) % 30\n",
    "        e = (2*b + 4*c+ 6*d + 5) % 7\n",
    "        date = 81+d+e\n",
    "        \n",
    "        date_diff = date-81\n",
    "        if date_diff <= 9:\n",
    "            return f\"Easter is on March {22+date_diff}\"\n",
    "        elif date_diff > 9:\n",
    "            return f\"Easter is on April {date_diff-9}\"\n",
    "    else:\n",
    "        print(\"Sorry that year is out of the required range of 1982-2048\")\n",
    "        "
   ]
  },
  {
   "cell_type": "code",
   "execution_count": 132,
   "metadata": {},
   "outputs": [
    {
     "data": {
      "text/plain": [
       "'Easter is on March 31'"
      ]
     },
     "execution_count": 132,
     "metadata": {},
     "output_type": "execute_result"
    }
   ],
   "source": [
    "easter(2024)"
   ]
  },
  {
   "cell_type": "markdown",
   "metadata": {},
   "source": [
    "#### Book Solution"
   ]
  },
  {
   "cell_type": "code",
   "execution_count": 133,
   "metadata": {},
   "outputs": [
    {
     "name": "stdout",
     "output_type": "stream",
     "text": [
      "Easter Calculator for 1982-2048\n",
      "\n",
      "Enter the year: 2024\n",
      "Easter is on March 31\n"
     ]
    }
   ],
   "source": [
    "# c07ex09.py\n",
    "#   Calculating Easter from 1982-2048\n",
    "\n",
    "def main():\n",
    "    print(\"Easter Calculator for 1982-2048\\n\")\n",
    "\n",
    "    year = int(input(\"Enter the year: \"))\n",
    "    if 1982 <= year <= 2048:\n",
    "        a = year % 19\n",
    "        b = year % 4\n",
    "        c = year % 7\n",
    "        d = (19*a + 24) % 30\n",
    "        e = (2*b + 4*c + 6*d +5)%7\n",
    "\n",
    "        day = 22 + d + e\n",
    "        if day > 31:\n",
    "            print(\"Easter is on April\", day-31)\n",
    "        else:\n",
    "            print(\"Easter is on March\", day)\n",
    "    else:\n",
    "        print(\"That's not a year between 1982 and 2048.\")\n",
    "\n",
    "if __name__ == '__main__':\n",
    "    main()\n"
   ]
  },
  {
   "cell_type": "markdown",
   "metadata": {},
   "source": [
    "## Exercise 10"
   ]
  },
  {
   "cell_type": "markdown",
   "metadata": {},
   "source": [
    "#### My Solution"
   ]
  },
  {
   "cell_type": "code",
   "execution_count": 139,
   "metadata": {},
   "outputs": [],
   "source": [
    "def easter(year):\n",
    "    \n",
    "    if year >= 1900 and year <= 2099:\n",
    "        a = year % 19\n",
    "        b = year % 4\n",
    "        c = year % 7\n",
    "        d = (19*a +24) % 30\n",
    "        e = (2*b + 4*c+ 6*d + 5) % 7\n",
    "        date = 81+d+e\n",
    "        \n",
    "        date_diff = date-81\n",
    "        \n",
    "        if year == 1954 or year == 1981 or year == 2049 or year == 2076:\n",
    "            if date_diff <= 9:\n",
    "                return f\"Easter is on March {(22+date_diff)-7}\"\n",
    "            elif date_diff > 9:\n",
    "                return f\"Easter is on April {(date_diff-9)-7}\"\n",
    "        else:      \n",
    "            if date_diff <= 9:\n",
    "                return f\"Easter is on March {22+date_diff}\"\n",
    "            elif date_diff > 9:\n",
    "                return f\"Easter is on April {date_diff-9}\"\n",
    "    else:\n",
    "        print(\"Sorry that year is out of the required range of 1982-2048\")"
   ]
  },
  {
   "cell_type": "code",
   "execution_count": 141,
   "metadata": {},
   "outputs": [
    {
     "data": {
      "text/plain": [
       "'Easter is on April 21'"
      ]
     },
     "execution_count": 141,
     "metadata": {},
     "output_type": "execute_result"
    }
   ],
   "source": [
    "easter(2019)"
   ]
  },
  {
   "cell_type": "markdown",
   "metadata": {},
   "source": [
    "#### Mark II"
   ]
  },
  {
   "cell_type": "code",
   "execution_count": 341,
   "metadata": {},
   "outputs": [],
   "source": [
    "def easter(year):\n",
    "    \n",
    "    if year >= 1900 and year <= 2099:\n",
    "        a = year % 19\n",
    "        b = year % 4\n",
    "        c = year % 7\n",
    "        d = (19*a +24) % 30\n",
    "        e = (2*b + 4*c+ 6*d + 5) % 7\n",
    "        date = 81+d+e\n",
    "        \n",
    "        date_diff = date-81\n",
    "        \n",
    "        if year in [1954,1981,2049,2076]: # Took this from the book, much more elegant\n",
    "            if date_diff <= 9:\n",
    "                return f\"Easter is on March {(22+date_diff)-7}\"\n",
    "            elif date_diff > 9:\n",
    "                return f\"Easter is on April {(date_diff-9)-7}\"\n",
    "        else:      \n",
    "            if date_diff <= 9:\n",
    "                return f\"Easter is on March {22+date_diff}\"\n",
    "            elif date_diff > 9:\n",
    "                return f\"Easter is on April {date_diff-9}\"\n",
    "    else:\n",
    "        print(\"Sorry that year is out of the required range of 1982-2048\")"
   ]
  },
  {
   "cell_type": "code",
   "execution_count": 342,
   "metadata": {},
   "outputs": [
    {
     "data": {
      "text/plain": [
       "'Easter is on April 21'"
      ]
     },
     "execution_count": 342,
     "metadata": {},
     "output_type": "execute_result"
    }
   ],
   "source": [
    "easter(1957)"
   ]
  },
  {
   "cell_type": "markdown",
   "metadata": {},
   "source": [
    "\n",
    "\n",
    "#### Book Solution"
   ]
  },
  {
   "cell_type": "code",
   "execution_count": 143,
   "metadata": {},
   "outputs": [
    {
     "name": "stdout",
     "output_type": "stream",
     "text": [
      "Easter Calculator for 1900-2099\n",
      "\n",
      "Enter the year: 2076\n",
      "Easter is on April 19\n"
     ]
    }
   ],
   "source": [
    "# c07ex10.py\n",
    "#    Easter calculation for 1900-2099\n",
    "\n",
    "def main():\n",
    "    print(\"Easter Calculator for 1900-2099\\n\")\n",
    "\n",
    "    year = int(input(\"Enter the year: \"))\n",
    "    if 1900 <= year <= 2099:\n",
    "        a = year % 19\n",
    "        b = year % 4\n",
    "        c = year % 7\n",
    "        d = (19*a + 24) % 30\n",
    "        e = (2*b + 4*c + 6*d +5)%7\n",
    "\n",
    "        day = 22 + d + e\n",
    "\n",
    "        # This could also be a multi-way decision\n",
    "        if year in [1954, 1981, 2049, 2076]:\n",
    "            day = day - 7\n",
    "            \n",
    "        if day > 31:\n",
    "            print(\"Easter is on April\", day-31)\n",
    "        else:\n",
    "            print(\"Easter is on March\", day)\n",
    "    else:\n",
    "        print(\"That's not a year between 1900 and 2099.\")\n",
    "\n",
    "if __name__ == '__main__':\n",
    "    main()"
   ]
  },
  {
   "cell_type": "markdown",
   "metadata": {},
   "source": [
    "## Exercise 11"
   ]
  },
  {
   "cell_type": "markdown",
   "metadata": {},
   "source": [
    "#### My Solution"
   ]
  },
  {
   "cell_type": "code",
   "execution_count": 337,
   "metadata": {},
   "outputs": [],
   "source": [
    "def leap_year(year):\n",
    "    \n",
    "    \n",
    "    if year % 4 == 0:\n",
    "        \n",
    "        year = str(year)\n",
    "        \n",
    "        if len(year) == 4:\n",
    "            if year[2:] == \"00\":\n",
    "                year = int(year)\n",
    "                if year % 400 == 0:\n",
    "                    return f\"{year} is a leap year\"\n",
    "            else:\n",
    "                return f\"{year} is a leap year\"\n",
    "                \n",
    "        elif len(year) == 3:\n",
    "            if year[1:] == \"00\":\n",
    "                year = int(year)\n",
    "                if year % 400 == 0:\n",
    "                    return f\"{year} is a leap year\"\n",
    "            else:\n",
    "                return f\"{year} is a leap year\"\n",
    "    else: \n",
    "        return f\"{year} is not a leap year!\"\n"
   ]
  },
  {
   "cell_type": "code",
   "execution_count": 340,
   "metadata": {},
   "outputs": [
    {
     "data": {
      "text/plain": [
       "'1957 is not a leap year!'"
      ]
     },
     "execution_count": 340,
     "metadata": {},
     "output_type": "execute_result"
    }
   ],
   "source": [
    "leap_year(1957)"
   ]
  },
  {
   "cell_type": "code",
   "execution_count": 311,
   "metadata": {},
   "outputs": [],
   "source": [
    "def leap_year2(year):\n",
    "    \n",
    "    \n",
    "    if year % 4 == 0:\n",
    "        \n",
    "        year = str(year)\n",
    "        \n",
    "        if len(year) == 4:\n",
    "            if year[2:] == \"00\":\n",
    "                year = int(year)\n",
    "                if year % 400 == 0:\n",
    "                    print(\"Leap Year\")\n",
    "                    return True\n",
    "            else:\n",
    "                print(\"Leap Year\")\n",
    "                return True\n",
    "                \n",
    "        elif len(year) == 3:\n",
    "            if year[1:] == \"00\":\n",
    "                year = int(year)\n",
    "                if year % 400 == 0:\n",
    "                    print(\"Leap Year\")\n",
    "                    return True\n",
    "            else:\n",
    "                print(\"Leap Year\")\n",
    "                return True\n",
    "        else:\n",
    "            return False"
   ]
  },
  {
   "cell_type": "markdown",
   "metadata": {},
   "source": [
    "#### Book Solution"
   ]
  },
  {
   "cell_type": "code",
   "execution_count": 210,
   "metadata": {},
   "outputs": [
    {
     "name": "stdout",
     "output_type": "stream",
     "text": [
      "This program calculates whether a year is a leap year.\n",
      "\n",
      "Enter a year: 1996\n",
      "1996 is a leap year.\n"
     ]
    }
   ],
   "source": [
    "# c07ex11.py\n",
    "#     Leap year determination\n",
    "\n",
    "def isLeap(year):\n",
    "    if year % 4 != 0:\n",
    "        return False\n",
    "    elif year % 100 == 0:\n",
    "        if year % 400 == 0:\n",
    "            return True\n",
    "        else:\n",
    "            return False\n",
    "    else:\n",
    "        return True\n",
    "\n",
    "def main():\n",
    "    print(\"This program calculates whether a year is a leap year.\\n\")\n",
    "    year = int(input(\"Enter a year: \"))\n",
    "    if isLeap(year):\n",
    "        print(year, \"is a leap year.\")\n",
    "    else:\n",
    "        print(year, \"is not a leap year.\")\n",
    "        \n",
    "if __name__ == '__main__':\n",
    "    main()"
   ]
  },
  {
   "cell_type": "markdown",
   "metadata": {},
   "source": [
    "## Exercise 12"
   ]
  },
  {
   "cell_type": "markdown",
   "metadata": {},
   "source": [
    "#### My Solution"
   ]
  },
  {
   "cell_type": "code",
   "execution_count": 286,
   "metadata": {},
   "outputs": [],
   "source": [
    "def valid_date(date):\n",
    "    \n",
    "    \n",
    "    date = str(date).split(\"/\")\n",
    "    \n",
    "    day = date[0]\n",
    "    month = date[1]\n",
    "    year = date[2]\n",
    "    \n",
    "    # Checks for a valid year no less than 0 and no more than 2100\n",
    "    if int(year) > 0 and int(year) < 2100:\n",
    "        # Checks if the month is 1-12\n",
    "        if month in [\"01\",\"02\", \"03\",\"04\", \"05\", \"06\", \"07\", \"08\", \"09\", \"10\", \"11\", \"12\"]:\n",
    "            \n",
    "            # Checks the 7 months with 31 days\n",
    "            if month in [\"01\", \"03\", \"05\", \"07\", \"08\", \"10\", \"12\"]:\n",
    "                # Checks that the day is within the range 1-31\n",
    "                if int(day) < 1 or int(day) > 31:\n",
    "                    return f\"The day is outside the range 1-31 for month {month}\"\n",
    "                \n",
    "            # Checks the month of Feb\n",
    "            elif month in [\"02\"]:\n",
    "                if leap_year2(int(year)) == True:\n",
    "                # Checks that feb day is b/w 1-29\n",
    "                    if int(day) < 1 or int(day) > 29:\n",
    "                        return f\"The day is outside the range 1-29 for month {month} - the year provided {year} is a leap year\"\n",
    "                else:\n",
    "                    if int(day) < 1 or int(day) > 28:\n",
    "                        return f\"The day is outside the range 1-28 for month {month}\"\n",
    "                        \n",
    "            # Checks the other 4 months with only 30 days\n",
    "            elif month in [\"04\", \"06\", \"09\", \"11\"]:\n",
    "                # Checks that the day is b/w 1-30\n",
    "                if int(day) < 1 or int(day) > 30:\n",
    "                    return f\"The day is outside the range 1-30 for month {month}\"\n",
    "        else:\n",
    "            #Returns an error if the month is outside 1-12\n",
    "            return \"The month is outside the range 1-12\"\n",
    "    else:\n",
    "        # Returns an error if year is outside 0-2100\n",
    "        return \"The year is outside the range of 0-100\"\n",
    "    \n",
    "    # Creates a string of the date\n",
    "    string_date = \"/\".join(date)\n",
    "    \n",
    "    print(f\"{string_date} is a valid date!\")\n",
    "    return True"
   ]
  },
  {
   "cell_type": "code",
   "execution_count": 288,
   "metadata": {},
   "outputs": [
    {
     "name": "stdout",
     "output_type": "stream",
     "text": [
      "29/02/2000 is a valid date!\n"
     ]
    },
    {
     "data": {
      "text/plain": [
       "True"
      ]
     },
     "execution_count": 288,
     "metadata": {},
     "output_type": "execute_result"
    }
   ],
   "source": [
    "valid_date(\"29/02/2000\")"
   ]
  },
  {
   "cell_type": "markdown",
   "metadata": {},
   "source": [
    "#### Book Solution"
   ]
  },
  {
   "cell_type": "code",
   "execution_count": 270,
   "metadata": {},
   "outputs": [
    {
     "name": "stdout",
     "output_type": "stream",
     "text": [
      "Date Validator\n",
      "\n",
      "Enter a date (mm/dd/yyyy): 09/03/1994\n",
      "The date is valid.\n"
     ]
    }
   ],
   "source": [
    "# c07ex12.py\n",
    "#    Date validator\n",
    "\n",
    "#from c07ex11 import isLeap\n",
    "\n",
    "DAYS_IN_MONTH = [0, 31, 28, 31, 30, 31, 30, 31, 31, 30, 31, 30, 31]\n",
    "\n",
    "def isValidDate(month, day, year):\n",
    "    if 1 <= month <=12:\n",
    "        # month OK, check day\n",
    "        \n",
    "        # determine last day of month\n",
    "        if month == 2:\n",
    "            if isLeap(year):\n",
    "                lastDay = 29\n",
    "            else:\n",
    "                lastDay = 28\n",
    "        else:\n",
    "            lastDay = DAYS_IN_MONTH[month]\n",
    "\n",
    "        # if day is also good, return True\n",
    "        if 1 <= day <= lastDay:\n",
    "            return True\n",
    "        \n",
    "    # did not validate\n",
    "    return False \n",
    "    \n",
    "\n",
    "def main():\n",
    "    print(\"Date Validator\\n\")\n",
    "    month, day, year = input(\"Enter a date (mm/dd/yyyy): \").split(\"/\")\n",
    "    if isValidDate(int(month), int(day), int(year)):\n",
    "        print(\"The date is valid.\")\n",
    "    else:\n",
    "        print(\"The date is invalid.\")\n",
    "\n",
    "if __name__ == '__main__':\n",
    "    main()"
   ]
  },
  {
   "cell_type": "markdown",
   "metadata": {},
   "source": [
    "## Exercise 13"
   ]
  },
  {
   "cell_type": "code",
   "execution_count": 301,
   "metadata": {},
   "outputs": [],
   "source": [
    "def valid_date2(date):\n",
    "    \n",
    "    \n",
    "    date = str(date).split(\"/\")\n",
    "    \n",
    "    day = date[0]\n",
    "    month = date[1]\n",
    "    year = date[2]\n",
    "    \n",
    "    # Checks for a valid year no less than 0 and no more than 2100\n",
    "    if int(year) > 0 and int(year) < 2100:\n",
    "        # Checks if the month is 1-12\n",
    "        if int(month) >= 1 and int(month) <= 12:\n",
    "            \n",
    "            # Checks the 7 months with 31 days\n",
    "            if int(month) in [1, 3, 5, 7, 8, 10, 12]:\n",
    "                # Checks that the day is within the range 1-31\n",
    "                if int(day) < 1 or int(day) > 31:\n",
    "                    return f\"The day is outside the range 1-31 for month {month}\"\n",
    "                \n",
    "            # Checks the month of Feb\n",
    "            elif int(month) in [2]:\n",
    "                if leap_year2(int(year)) == True:\n",
    "                # Checks that feb day is b/w 1-29\n",
    "                    if int(day) < 1 or int(day) > 29:\n",
    "                        return f\"The day is outside the range 1-29 for month {month} - the year provided {year} is a leap year\"\n",
    "                else:\n",
    "                    if int(day) < 1 or int(day) > 28:\n",
    "                        return f\"The day is outside the range 1-28 for month {month}\"\n",
    "                        \n",
    "            # Checks the other 4 months with only 30 days\n",
    "            elif int(month) in [4, 6, 9, 11]:\n",
    "                # Checks that the day is b/w 1-30\n",
    "                if int(day) < 1 or int(day) > 30:\n",
    "                    return f\"The day is outside the range 1-30 for month {month}\"\n",
    "        else:\n",
    "            #Returns an error if the month is outside 1-12\n",
    "            return \"The month is outside the range 1-12\"\n",
    "    else:\n",
    "        # Returns an error if year is outside 0-2100\n",
    "        return \"The year is outside the range of 0-100\"\n",
    "    \n",
    "    # Creates a string of the date\n",
    "    string_date = \"/\".join(date)\n",
    "    \n",
    "    print(f\"{string_date} is a valid date!\")\n",
    "    return True"
   ]
  },
  {
   "cell_type": "code",
   "execution_count": 303,
   "metadata": {},
   "outputs": [
    {
     "data": {
      "text/plain": [
       "'The day is outside the range 1-28 for month 02'"
      ]
     },
     "execution_count": 303,
     "metadata": {},
     "output_type": "execute_result"
    }
   ],
   "source": [
    "valid_date2(\"29/02/1999\")"
   ]
  },
  {
   "cell_type": "markdown",
   "metadata": {},
   "source": [
    "#### My Solution"
   ]
  },
  {
   "cell_type": "code",
   "execution_count": 328,
   "metadata": {},
   "outputs": [],
   "source": [
    "def day_number(date):\n",
    "    \n",
    "    date_list = str(date).split(\"/\")\n",
    "    \n",
    "    day = date_list[0]\n",
    "    month = date_list[1]\n",
    "    year = date_list[2]\n",
    "    \n",
    "    if valid_date2(date) == True:\n",
    "        if int(month) == 1 or int(month) == 2:\n",
    "            dayNum = 31 * (int(month) -1) + int(day)\n",
    "            return dayNum\n",
    "\n",
    "        elif int(month) > 2 and int(month) < 13:\n",
    "            if leap_year2(int(year)) == True:\n",
    "                dayNum = 31 * (int(month) -1) + int(day) \n",
    "                dayNum2 = dayNum - ((4 * int(month) + 23) // 10) + 1\n",
    "                return dayNum2\n",
    "            else:\n",
    "                dayNum = 31 * (int(month) -1) + int(day)\n",
    "                dayNum2 = dayNum - ((4 * int(month) + 23) // 10)\n",
    "                return dayNum2\n",
    "    else:\n",
    "        return f\"Sorry the date: {date} is not a valid date\"\n",
    "    \n",
    "    "
   ]
  },
  {
   "cell_type": "code",
   "execution_count": 332,
   "metadata": {},
   "outputs": [
    {
     "name": "stdout",
     "output_type": "stream",
     "text": [
      "15/10/1957 is a valid date!\n"
     ]
    },
    {
     "data": {
      "text/plain": [
       "288"
      ]
     },
     "execution_count": 332,
     "metadata": {},
     "output_type": "execute_result"
    }
   ],
   "source": [
    "day_number(\"15/10/1957\")"
   ]
  },
  {
   "cell_type": "markdown",
   "metadata": {},
   "source": [
    "#### Book Solution"
   ]
  },
  {
   "cell_type": "code",
   "execution_count": 345,
   "metadata": {},
   "outputs": [
    {
     "name": "stdout",
     "output_type": "stream",
     "text": [
      "Day number calculation\n",
      "\n",
      "Enter date (mm/dd/yyyy): 10/15/1957\n",
      "The day number is 288\n"
     ]
    }
   ],
   "source": [
    "# c07ex13.py\n",
    "#    Day number calculation\n",
    "\n",
    "#from c07ex11 import isLeap\n",
    "#from c07ex12 import isValidDate\n",
    "\n",
    "def dayNumber(month, day, year):\n",
    "    dayNum = 31*(month-1) + day\n",
    "    \n",
    "    if month > 2:\n",
    "        dayNum = dayNum - (4 * month + 23) // 10\n",
    "        \n",
    "    if isLeap(year):\n",
    "        if month > 2:\n",
    "            dayNum = dayNum + 1\n",
    "\n",
    "    return dayNum\n",
    "\n",
    "def main():\n",
    "    print(\"Day number calculation\\n\")\n",
    "    \n",
    "    month, day, year = input(\"Enter date (mm/dd/yyyy): \").split(\"/\")\n",
    "    day, month, year = int(day), int(month), int(year)\n",
    "\n",
    "    if isValidDate(month, day, year):\n",
    "        print(\"The day number is\", dayNumber(month, day, year))\n",
    "    else:\n",
    "        print(\"That's an invalid date!\")\n",
    "\n",
    "if __name__ == '__main__':\n",
    "    main()"
   ]
  },
  {
   "cell_type": "markdown",
   "metadata": {},
   "source": [
    "## Exercise 14"
   ]
  },
  {
   "cell_type": "markdown",
   "metadata": {},
   "source": [
    "#### My Solution"
   ]
  },
  {
   "cell_type": "code",
   "execution_count": 6,
   "metadata": {},
   "outputs": [
    {
     "name": "stdout",
     "output_type": "stream",
     "text": [
      "This program will do some circle stuff\n",
      "Please provide a radius: 7\n",
      "Please provide a y-intercept2.34\n",
      "The X coordinates are 6.597302479043992 and 6.597302479043992\n"
     ]
    }
   ],
   "source": [
    "from graphics import *\n",
    "import math\n",
    "\n",
    "def main():\n",
    "    \n",
    "    win = GraphWin(\"Circle\", 400,400)\n",
    "    win.setCoords(-10,-10,10,10)\n",
    "    \n",
    "    \n",
    "    print('This program will do some circle stuff')\n",
    "    radius = float(input(\"Please provide a radius: \"))\n",
    "    y_int = float(input('Please provide a y-intercept'))\n",
    "    \n",
    "    circle = Circle(Point(0,0), radius)\n",
    "    #circle.setFill('black')\n",
    "    x1 = math.sqrt(abs(radius**2 - y_int**2))\n",
    "    x2 = math.sqrt(abs(radius**2 - y_int**2))\n",
    "    point1 = Point(x1,y_int)\n",
    "    point2 = Point(x2,y_int)\n",
    "    point1.setFill('red')\n",
    "    point2.setFill('red')\n",
    "    point1.draw(win)\n",
    "    point2.draw(win)\n",
    "    line = Line(Point(-10,y_int), Point(10,y_int))\n",
    "    line.setFill('Blue')\n",
    "    line.setWidth(2)\n",
    "    line.draw(win)\n",
    "    circle.draw(win)\n",
    "    print(f'The X coordinates are {x1} and {x2}')\n",
    "    \n",
    "    win.getMouse()\n",
    "    win.close()\n",
    "    \n",
    "    if radius <= y_int:\n",
    "        print(\"The line doesn't intersect the circle\")\n",
    "\n",
    "\n",
    "main()"
   ]
  },
  {
   "cell_type": "markdown",
   "metadata": {},
   "source": [
    "#### Book's Solution"
   ]
  },
  {
   "cell_type": "code",
   "execution_count": 351,
   "metadata": {},
   "outputs": [
    {
     "name": "stdout",
     "output_type": "stream",
     "text": [
      "This program computes the intersection of a circle and\n",
      "a horizontal line.\n",
      "\n",
      "Please enter the radius of the circle: 2\n",
      "Please enter the y-intercept of the line: 3\n",
      "The line does not intersect the circle.\n",
      "Click the window to quit\n"
     ]
    }
   ],
   "source": [
    "# c07ex14.pyw\n",
    "\n",
    "from graphics import *\n",
    "import math\n",
    "\n",
    "def main():\n",
    "    print(\"This program computes the intersection of a circle and\")\n",
    "    print(\"a horizontal line.\")\n",
    "    print()\n",
    "\n",
    "    radius = float(input(\"Please enter the radius of the circle: \"))\n",
    "    yinter = float(input(\"Please enter the y-intercept of the line: \"))\n",
    "\n",
    "    win = GraphWin(\"Circle Intersection\")\n",
    "    win.setCoords(-10,-10,10,10)\n",
    "\n",
    "    Circle(Point(0,0), radius).draw(win)\n",
    "    Line(Point(-10,yinter), Point(10,yinter)).draw(win)\n",
    "\n",
    "    if abs(yinter) <= radius:\n",
    "        x = math.sqrt(radius * radius - yinter * yinter)\n",
    "        print(\"X values of intersection\", -x, x)\n",
    "\n",
    "        p1 = Circle(Point(x,yinter),0.25)\n",
    "        p1.setOutline(\"red\")\n",
    "        p1.setFill(\"red\")\n",
    "        p1.draw(win)\n",
    "\n",
    "        p2 = p1.clone()\n",
    "        p2.move(-2*x, 0)\n",
    "        p2.draw(win)\n",
    "    else:\n",
    "        print(\"The line does not intersect the circle.\")\n",
    "\n",
    "    print(\"Click the window to quit\")\n",
    "    win.getMouse()\n",
    "    win.close()\n",
    "\n",
    "if __name__ == '__main__':\n",
    "    main()"
   ]
  },
  {
   "cell_type": "markdown",
   "metadata": {},
   "source": [
    "## Exercise 15"
   ]
  },
  {
   "cell_type": "markdown",
   "metadata": {},
   "source": [
    "#### My Solution"
   ]
  },
  {
   "cell_type": "code",
   "execution_count": 11,
   "metadata": {},
   "outputs": [],
   "source": [
    "from graphics import *\n",
    "import math\n",
    "\n",
    "def main():\n",
    "    win = GraphWin('Line Gen', 400,400)\n",
    "    win.setCoords(-10,-10,10,10)\n",
    "    label = Text(Point(0,-9.5), \"Please make to clicks to create a line\")\n",
    "    label.draw(win)\n",
    "    slope_label = Text(Point(0,-7),\"Slope:\")\n",
    "    slope_label.draw(win)\n",
    "    length_label = Text(Point(0,-6), 'Length:')\n",
    "    length_label.draw(win)\n",
    "    output_slope = Text(Point(3,-7), \"\")\n",
    "    output_length = Text(Point(3,-6), \"\")\n",
    "    output_slope.draw(win)\n",
    "    output_length.draw(win)\n",
    "    point1 = win.getMouse()\n",
    "    point2 = win.getMouse()\n",
    "    line1 = Line(point1,point2)\n",
    "    line1.draw(win)\n",
    "    \n",
    "    # Find midpoint of Line\n",
    "    middle = Circle(line1.getCenter(),.2)\n",
    "    middle.setFill('Cyan')\n",
    "    middle.draw(win)\n",
    "    \n",
    "    # Calculate slope and length\n",
    "    #dx= (point2.getX() - point1.getX())\n",
    "    dx=0\n",
    "    dy= (point2.getY() - point1.getY())\n",
    "    \n",
    "    if dx == 0:\n",
    "        slope = dx\n",
    "        length = math.sqrt(dx**2 + dy**2)\n",
    "\n",
    "        output_slope.setText(\"undefined\")\n",
    "        output_length.setText(round(length,2))\n",
    "    else:\n",
    "        slope = dy / dx\n",
    "        \n",
    "        length = math.sqrt(dx**2 + dy**2)\n",
    "\n",
    "        output_slope.setText(round(slope,2))\n",
    "        output_length.setText(round(length,2))\n",
    "    \n",
    "    win.getMouse()\n",
    "    win.close()\n",
    "main()\n",
    "    \n",
    "    "
   ]
  },
  {
   "cell_type": "markdown",
   "metadata": {},
   "source": [
    "#### Book's Solution"
   ]
  },
  {
   "cell_type": "code",
   "execution_count": 10,
   "metadata": {},
   "outputs": [],
   "source": [
    "# c05ex08.pyw\n",
    "#    Line segment info.\n",
    "\n",
    "import math\n",
    "\n",
    "from graphics import *\n",
    "\n",
    "def main():\n",
    "    win = GraphWin(\"Line Segment Info\", 400, 400)\n",
    "    win.setCoords(-10,-10,10,10)\n",
    "\n",
    "    msg = Text(Point(0,-9.5), \"Click on endpoints of a line segment.\")\n",
    "    msg.draw(win)\n",
    "\n",
    "    p1 = win.getMouse()\n",
    "    p1.draw(win)\n",
    "\n",
    "    p2 = win.getMouse()\n",
    "    p2.draw(win)\n",
    "\n",
    "    line = Line(p1,p2)\n",
    "    line.draw(win)\n",
    "\n",
    "    mark = Circle(line.getCenter(),0.15)\n",
    "    mark.setFill(\"cyan\")\n",
    "    mark.draw(win)\n",
    "\n",
    "    dx = p2.getX() - p1.getX()\n",
    "    dy = p2.getY() - p1.getY()\n",
    "    if dx != 0.0:\n",
    "        slope = str(round(dy/dx,2))\n",
    "    else:\n",
    "        slope = \"inf\"\n",
    "    length = str(round(math.sqrt(dx*dx + dy*dy),2))\n",
    "\n",
    "    msg.setText(\"Length: {}, Slope: {}\".format(length, slope))\n",
    "    win.getMouse()\n",
    "    win.close()\n",
    "\n",
    "main()"
   ]
  },
  {
   "cell_type": "markdown",
   "metadata": {},
   "source": [
    "## Exercise 16"
   ]
  },
  {
   "cell_type": "markdown",
   "metadata": {},
   "source": [
    "#### My Solution"
   ]
  },
  {
   "cell_type": "code",
   "execution_count": 25,
   "metadata": {},
   "outputs": [
    {
     "name": "stdout",
     "output_type": "stream",
     "text": [
      "Point(249.0, 230.0)\n",
      "You hit the bullseye! That's worth 9\n",
      "Point(249.0, 211.0)\n",
      "Point(249.0, 268.0)\n",
      "You hit the bullseye! That's worth 9\n",
      "Point(250.0, 288.0)\n",
      "Point(183.0, 223.0)\n",
      "18\n"
     ]
    }
   ],
   "source": [
    "import math\n",
    "\n",
    "from graphics import *\n",
    "\n",
    "win = GraphWin('Archery Target', 500,500)\n",
    "\n",
    "# making the outer white ring\n",
    "circle1 = Circle(Point(250,250), 100)\n",
    "circle1.setFill('white')\n",
    "circle1.draw(win)\n",
    "\n",
    "# making the second layer blue ring\n",
    "circle2 = Circle(Point(250,250), 80)\n",
    "circle2.setFill('black')\n",
    "circle2.draw(win)\n",
    "\n",
    "# making the third layer black ring\n",
    "circle3 = Circle(Point(250,250), 60)\n",
    "circle3.setFill('blue')\n",
    "circle3.draw(win)\n",
    "\n",
    "# making the fourth layer red ring\n",
    "circle4 = Circle(Point(250,250), 40)\n",
    "circle4.setFill('red')\n",
    "circle4.draw(win)\n",
    "\n",
    "# EXTRA: making bullseye\n",
    "bull = Circle(Point(250,250),20)\n",
    "bull.setFill('yellow')\n",
    "bull.draw(win)\n",
    "\n",
    "counter = 0\n",
    "score = 0\n",
    "\n",
    "while counter < 5:\n",
    "    # Gets the point where the arrow landed\n",
    "    point1 = win.getMouse()\n",
    "    print(point1)\n",
    "    # Draws the circle\n",
    "    circle = Circle(point1, 3)\n",
    "    circle.setWidth(2)\n",
    "    circle.setFill(\"Green\")\n",
    "    circle.setOutline('Green')\n",
    "    circle.draw(win)\n",
    "    \n",
    "    x = point1.getX()\n",
    "    y = point1.getY()\n",
    "    \n",
    "    if x >= 230 and x <= 270 and y >=230 and y <= 270:\n",
    "        score+= 9\n",
    "        print(f\"You hit the bullseye! That's worth 9\")\n",
    "    elif (x >= 210 and x < 230 and y >= 210 and y < 230) or (x >= 210 and x <230 and y <250 and y >= 290):\n",
    "        score += 7\n",
    "        print(\"You hit the red! That's worth 7\" )\n",
    "    \n",
    "    # Add to the counter\n",
    "    counter +=1\n",
    "    \n",
    "print(score)\n",
    "win.getMouse()\n",
    "win.close()"
   ]
  },
  {
   "cell_type": "markdown",
   "metadata": {},
   "source": [
    "#### Book Solution: (I couldn't figure it out.)"
   ]
  },
  {
   "cell_type": "code",
   "execution_count": 30,
   "metadata": {},
   "outputs": [],
   "source": [
    "# c05ex02.pyw\n",
    "#    An archery target.\n",
    "\n",
    "import math\n",
    "from graphics import *\n",
    "\n",
    "def targetWindow():\n",
    "    win = GraphWin(\"Archery Scorer\", 400, 400)\n",
    "    win.setCoords(-6, -6, 6, 6)\n",
    "    win.setBackground(\"gray\")\n",
    "    center = Point(0,0)\n",
    "\n",
    "    # Draw the target\n",
    "    c1 = Circle(center, 5)\n",
    "    c1.setFill(\"white\")\n",
    "    c1.draw(win)\n",
    "    c2 = Circle(center, 4)\n",
    "    c2.setFill(\"black\")\n",
    "    c2.draw(win)\n",
    "    c3 = Circle(center, 3)\n",
    "    c3.setFill(\"blue\")\n",
    "    c3.draw(win)\n",
    "    c4 = Circle(center, 2)\n",
    "    c4.setFill(\"red\")\n",
    "    c4.draw(win)\n",
    "    c5 = Circle(center, 1)\n",
    "    c5.setFill(\"yellow\")\n",
    "    c5.draw(win)\n",
    "\n",
    "    return win\n",
    "\n",
    "\n",
    "def drawInterface(win):\n",
    "    msg = Text(Point(0,5.5), \"Click where arrow lands\")\n",
    "    msg.setStyle(\"bold\")\n",
    "    msg.setSize(14)\n",
    "    msg.draw(win)\n",
    "\n",
    "    arrowBox = Text(Point(-4,-5.5),\"Arrow:  \")\n",
    "    arrowBox.setStyle(\"bold\")\n",
    "    arrowBox.draw(win)\n",
    "\n",
    "    totalBox = Text(Point(4,-5.5), \"Total:   \")\n",
    "    totalBox.setStyle(\"bold\")\n",
    "    totalBox.draw(win)\n",
    "\n",
    "    return msg, arrowBox, totalBox\n",
    "\n",
    "\n",
    "def getScore(pt):\n",
    "    x,y = pt.getX(), pt.getY()\n",
    "    dist = math.sqrt(x*x + y*y)\n",
    "    if dist <= 1:\n",
    "        score = 9\n",
    "    elif dist <= 2:\n",
    "        score = 7\n",
    "    elif dist <=3:\n",
    "        score = 5\n",
    "    elif dist <= 4:\n",
    "        score = 3\n",
    "    elif dist <= 5:\n",
    "        score = 1\n",
    "    else:\n",
    "        score = 0\n",
    "    return score\n",
    "\n",
    "        \n",
    "def main():\n",
    "    win = targetWindow()\n",
    "    msg, arrowBox, totalBox = drawInterface(win)\n",
    "\n",
    "    arrow = 0\n",
    "    total = 0\n",
    "    for i in range(5):\n",
    "        hit = win.getMouse()\n",
    "        dot = Circle(hit, 0.1)\n",
    "        dot.setFill(\"green\")\n",
    "        dot.draw(win)\n",
    "        score = getScore(hit)\n",
    "        arrowBox.setText(\"Arrow: {0:1}\".format(score))\n",
    "        total = total + score\n",
    "        totalBox.setText(\"Total: {0:2}\".format(total))\n",
    "\n",
    "    msg.setText(\"Click anywhere to quit.\")\n",
    "    win.getMouse()\n",
    "    win.close()\n",
    "\n",
    "\n",
    "main()"
   ]
  },
  {
   "cell_type": "markdown",
   "metadata": {},
   "source": [
    "## Exercise 17"
   ]
  },
  {
   "cell_type": "markdown",
   "metadata": {},
   "source": [
    "#### Book Solution"
   ]
  },
  {
   "cell_type": "code",
   "execution_count": 43,
   "metadata": {},
   "outputs": [],
   "source": [
    "# c07ex17.py\n",
    "#    Bouncing circle\n",
    "\n",
    "import time\n",
    "from graphics import *\n",
    "\n",
    "def main():\n",
    "    win = GraphWin(\"Bounce\", 401, 401)\n",
    "    win.setCoords(-200,-200, 200, 200)\n",
    "    radius = 20\n",
    "    c = Circle(Point(0,160), radius)\n",
    "    c.setFill(\"red\")\n",
    "    c.draw(win)\n",
    "    dx = 15\n",
    "    dy = 5\n",
    "    for i in range(10000):\n",
    "        c.move(dx,dy)\n",
    "        center = c.getCenter()\n",
    "        cx, cy = center.getX(), center.getY()\n",
    "        if 200 - abs(cx) == radius:\n",
    "            dx = -dx\n",
    "        if 200 - abs(cy) == radius:\n",
    "            dy = -dy\n",
    "        update(30)\n",
    "        # This exit is optional. The break statement is covered in Chapter 8\n",
    "        if win.checkMouse() != None:\n",
    "            break\n",
    "    win.close()\n",
    "\n",
    "main()"
   ]
  },
  {
   "cell_type": "code",
   "execution_count": null,
   "metadata": {},
   "outputs": [],
   "source": []
  }
 ],
 "metadata": {
  "kernelspec": {
   "display_name": "Python 3",
   "language": "python",
   "name": "python3"
  },
  "language_info": {
   "codemirror_mode": {
    "name": "ipython",
    "version": 3
   },
   "file_extension": ".py",
   "mimetype": "text/x-python",
   "name": "python",
   "nbconvert_exporter": "python",
   "pygments_lexer": "ipython3",
   "version": "3.7.3"
  }
 },
 "nbformat": 4,
 "nbformat_minor": 2
}
