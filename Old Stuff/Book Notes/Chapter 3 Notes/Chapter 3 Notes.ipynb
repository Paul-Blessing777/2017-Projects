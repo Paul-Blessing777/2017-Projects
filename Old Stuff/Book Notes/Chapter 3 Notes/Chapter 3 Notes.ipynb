{
 "cells": [
  {
   "cell_type": "markdown",
   "metadata": {},
   "source": [
    "ints - whole numbers negative or positive that do not have any decimal points: 3, 10, 50000 <br>\n",
    "floats - numbers that have decimal points: 2.3, .3, 2.333"
   ]
  },
  {
   "cell_type": "markdown",
   "metadata": {},
   "source": [
    "You can tell what a number or variable containing a number is by using the type() function."
   ]
  },
  {
   "cell_type": "code",
   "execution_count": 1,
   "metadata": {},
   "outputs": [
    {
     "data": {
      "text/plain": [
       "int"
      ]
     },
     "execution_count": 1,
     "metadata": {},
     "output_type": "execute_result"
    }
   ],
   "source": [
    "type(3)"
   ]
  },
  {
   "cell_type": "code",
   "execution_count": 2,
   "metadata": {},
   "outputs": [
    {
     "data": {
      "text/plain": [
       "float"
      ]
     },
     "execution_count": 2,
     "metadata": {},
     "output_type": "execute_result"
    }
   ],
   "source": [
    "type(2.3)"
   ]
  },
  {
   "cell_type": "code",
   "execution_count": 3,
   "metadata": {},
   "outputs": [
    {
     "data": {
      "text/plain": [
       "int"
      ]
     },
     "execution_count": 3,
     "metadata": {},
     "output_type": "execute_result"
    }
   ],
   "source": [
    "my_num = 2\n",
    "type(my_num)"
   ]
  },
  {
   "cell_type": "code",
   "execution_count": 4,
   "metadata": {},
   "outputs": [
    {
     "data": {
      "text/plain": [
       "float"
      ]
     },
     "execution_count": 4,
     "metadata": {},
     "output_type": "execute_result"
    }
   ],
   "source": [
    "my_num2 = .2222\n",
    "type(my_num2)"
   ]
  },
  {
   "cell_type": "markdown",
   "metadata": {},
   "source": [
    "Python has two ways of doing division. <br>\n",
    "\"/\" regular division <br>\n",
    "\"//\" integer divison"
   ]
  },
  {
   "cell_type": "code",
   "execution_count": 46,
   "metadata": {},
   "outputs": [
    {
     "data": {
      "text/plain": [
       "2.0"
      ]
     },
     "execution_count": 46,
     "metadata": {},
     "output_type": "execute_result"
    }
   ],
   "source": [
    "10 / 5 # as you can see, regular divison always gives you a float"
   ]
  },
  {
   "cell_type": "code",
   "execution_count": 5,
   "metadata": {},
   "outputs": [
    {
     "data": {
      "text/plain": [
       "3.3333333333333335"
      ]
     },
     "execution_count": 5,
     "metadata": {},
     "output_type": "execute_result"
    }
   ],
   "source": [
    "10 / 3"
   ]
  },
  {
   "cell_type": "code",
   "execution_count": 6,
   "metadata": {},
   "outputs": [
    {
     "data": {
      "text/plain": [
       "3.3333333333333335"
      ]
     },
     "execution_count": 6,
     "metadata": {},
     "output_type": "execute_result"
    }
   ],
   "source": [
    "10.0 / 3.0"
   ]
  },
  {
   "cell_type": "code",
   "execution_count": 47,
   "metadata": {},
   "outputs": [
    {
     "data": {
      "text/plain": [
       "3"
      ]
     },
     "execution_count": 47,
     "metadata": {},
     "output_type": "execute_result"
    }
   ],
   "source": [
    "10 // 3 # This returns however many times the number goes into the numerator with no remainder"
   ]
  },
  {
   "cell_type": "code",
   "execution_count": 10,
   "metadata": {},
   "outputs": [
    {
     "data": {
      "text/plain": [
       "1"
      ]
     },
     "execution_count": 10,
     "metadata": {},
     "output_type": "execute_result"
    }
   ],
   "source": [
    "10 % 3 # This returns the remainder of 10 / 3"
   ]
  },
  {
   "cell_type": "code",
   "execution_count": 14,
   "metadata": {},
   "outputs": [
    {
     "data": {
      "text/plain": [
       "3.0"
      ]
     },
     "execution_count": 14,
     "metadata": {},
     "output_type": "execute_result"
    }
   ],
   "source": [
    "10.0 // 3.0 # Even though we use integer divsion we still get a float\n",
    "# The result's type is based upon the number type in the expression"
   ]
  },
  {
   "cell_type": "code",
   "execution_count": 17,
   "metadata": {},
   "outputs": [
    {
     "data": {
      "text/plain": [
       "3.3333333333333335"
      ]
     },
     "execution_count": 17,
     "metadata": {},
     "output_type": "execute_result"
    }
   ],
   "source": [
    "10.0 /3 # a float divded by an int is still a float"
   ]
  },
  {
   "cell_type": "code",
   "execution_count": 19,
   "metadata": {},
   "outputs": [
    {
     "data": {
      "text/plain": [
       "3.3333333333333335"
      ]
     },
     "execution_count": 19,
     "metadata": {},
     "output_type": "execute_result"
    }
   ],
   "source": [
    "10 / 3.0 # So if a float is in the expression it will always end up as a float"
   ]
  },
  {
   "cell_type": "markdown",
   "metadata": {},
   "source": [
    "### Type conversion functions"
   ]
  },
  {
   "cell_type": "code",
   "execution_count": 48,
   "metadata": {},
   "outputs": [
    {
     "data": {
      "text/plain": [
       "4"
      ]
     },
     "execution_count": 48,
     "metadata": {},
     "output_type": "execute_result"
    }
   ],
   "source": [
    "int(4.6) # Converts the float number into an int\n",
    "# Python doesn't actually round down, it simply truncates everything past the decimal point"
   ]
  },
  {
   "cell_type": "code",
   "execution_count": 28,
   "metadata": {},
   "outputs": [
    {
     "data": {
      "text/plain": [
       "4"
      ]
     },
     "execution_count": 28,
     "metadata": {},
     "output_type": "execute_result"
    }
   ],
   "source": [
    "int(4.99999) # Clear example"
   ]
  },
  {
   "cell_type": "code",
   "execution_count": 29,
   "metadata": {},
   "outputs": [
    {
     "data": {
      "text/plain": [
       "4.0"
      ]
     },
     "execution_count": 29,
     "metadata": {},
     "output_type": "execute_result"
    }
   ],
   "source": [
    "float(4) # Changing a int to a float"
   ]
  },
  {
   "cell_type": "markdown",
   "metadata": {},
   "source": [
    "You can use the round() function to round"
   ]
  },
  {
   "cell_type": "code",
   "execution_count": 34,
   "metadata": {},
   "outputs": [
    {
     "data": {
      "text/plain": [
       "4"
      ]
     },
     "execution_count": 34,
     "metadata": {},
     "output_type": "execute_result"
    }
   ],
   "source": [
    "round(3.5) # Example rounding up\n",
    "# The round() function always converts a number to an int"
   ]
  },
  {
   "cell_type": "code",
   "execution_count": 35,
   "metadata": {},
   "outputs": [
    {
     "data": {
      "text/plain": [
       "3"
      ]
     },
     "execution_count": 35,
     "metadata": {},
     "output_type": "execute_result"
    }
   ],
   "source": [
    "round(3.2) # Example rounding down"
   ]
  },
  {
   "cell_type": "markdown",
   "metadata": {},
   "source": [
    "You can give the round() function a parameter however to keep a float a float with a specifed number of decimal places"
   ]
  },
  {
   "cell_type": "code",
   "execution_count": 36,
   "metadata": {},
   "outputs": [],
   "source": [
    "pi = 3.1415926535"
   ]
  },
  {
   "cell_type": "code",
   "execution_count": 39,
   "metadata": {},
   "outputs": [
    {
     "data": {
      "text/plain": [
       "3"
      ]
     },
     "execution_count": 39,
     "metadata": {},
     "output_type": "execute_result"
    }
   ],
   "source": [
    "round(pi) "
   ]
  },
  {
   "cell_type": "code",
   "execution_count": 42,
   "metadata": {},
   "outputs": [
    {
     "data": {
      "text/plain": [
       "3.14"
      ]
     },
     "execution_count": 42,
     "metadata": {},
     "output_type": "execute_result"
    }
   ],
   "source": [
    "round(pi, 2) # Placing 2 keeps 2 decimal points\n",
    "# and it remains a float"
   ]
  },
  {
   "cell_type": "markdown",
   "metadata": {},
   "source": [
    "You can also use the int() or float() function to convert strings into numbers"
   ]
  },
  {
   "cell_type": "code",
   "execution_count": 43,
   "metadata": {},
   "outputs": [
    {
     "data": {
      "text/plain": [
       "32"
      ]
     },
     "execution_count": 43,
     "metadata": {},
     "output_type": "execute_result"
    }
   ],
   "source": [
    "int('32')"
   ]
  },
  {
   "cell_type": "code",
   "execution_count": 44,
   "metadata": {},
   "outputs": [
    {
     "data": {
      "text/plain": [
       "46.0"
      ]
     },
     "execution_count": 44,
     "metadata": {},
     "output_type": "execute_result"
    }
   ],
   "source": [
    "float('46')"
   ]
  },
  {
   "cell_type": "markdown",
   "metadata": {},
   "source": [
    "### Using the Math Library"
   ]
  },
  {
   "cell_type": "markdown",
   "metadata": {},
   "source": [
    "Let's find a solution to solving the quadratic equation."
   ]
  },
  {
   "cell_type": "code",
   "execution_count": 58,
   "metadata": {},
   "outputs": [],
   "source": [
    "# A program that computs the real roots of a quadratic equation\n",
    "# Illustrates use of math library.\n",
    "# Note. This program crashs if it has no real roots\n",
    "# I was able to circumvent the prior note by adding the absloute value function to the square root.\n",
    "# It was crashing because sometimes (b*b - 4 *a *c) < 0 and you cant square a negative number with the sqrt function.\n",
    "# But adding abs() made it so the number was never negative fixing the issue.\n",
    "\n",
    "\n",
    "import math # Makes the math library available\n",
    "\n",
    "def quadratic():\n",
    "    print(\"This program finds the real solutions to a quadratic\")\n",
    "    print()\n",
    "    \n",
    "    a = float(input(\"Enter coefficient a: \"))\n",
    "    b = float(input(\"Enter coefficient b: \"))\n",
    "    c = float(input(\"Enter coefficient c: \"))\n",
    "    \n",
    "    discRoot = math.sqrt(abs(b * b - 4 * a * c))\n",
    "    root1 = (-b + discRoot) / (2 * a)\n",
    "    root2 = (-b - discRoot) / (2 * a)\n",
    "    \n",
    "    print()\n",
    "    print(\"The solutions are\", f\"{root1}, {root2}\")"
   ]
  },
  {
   "cell_type": "code",
   "execution_count": 59,
   "metadata": {},
   "outputs": [
    {
     "name": "stdout",
     "output_type": "stream",
     "text": [
      "This program finds the real solutions to a quadratic\n",
      "\n",
      "Enter coefficient a: 3\n",
      "Enter coefficient b: 4\n",
      "Enter coefficient c: -2\n",
      "\n",
      "The solutions are 0.38742588672279316, -1.7207592200561266\n"
     ]
    }
   ],
   "source": [
    "quadratic()"
   ]
  },
  {
   "cell_type": "markdown",
   "metadata": {},
   "source": [
    "### 3.4 Accumulating Results: Factorials"
   ]
  },
  {
   "cell_type": "markdown",
   "metadata": {},
   "source": [
    "Suppose you have a root beer sampler pack conatining six different kinds of root beer, Drinking the diff flavors in diff orders might lead to diff results. If you wanted to try every possible ordering, how many orders would there be?\n",
    "\n",
    "The answer is 720, 720 is the factorial of 6. Factorials are denoted like this 6!, meaning n! = n(n-1)(n-2)(n-3)...(1).\n",
    "So 6! would be (6)(5)(4)(3)(2)(1) so it would be 6*(6-1) = 30, 30*(6-2) = 120, 120(6-3) = 360, 360(6-4)= 720, 720(6-5) = 720"
   ]
  },
  {
   "cell_type": "code",
   "execution_count": 66,
   "metadata": {},
   "outputs": [
    {
     "name": "stdout",
     "output_type": "stream",
     "text": [
      "720\n"
     ]
    }
   ],
   "source": [
    "# We can use code to do this\n",
    "\n",
    "fact = 1\n",
    "\n",
    "for factor in [6,5,4,3,2,1]:\n",
    "    fact = fact * factor\n",
    "    \n",
    "print(fact)"
   ]
  },
  {
   "cell_type": "code",
   "execution_count": 73,
   "metadata": {},
   "outputs": [
    {
     "name": "stdout",
     "output_type": "stream",
     "text": [
      "720\n"
     ]
    }
   ],
   "source": [
    "# Another way to do this\n",
    "# We can use code to do this\n",
    "\n",
    "fact = 1\n",
    "\n",
    "for factor in [1,2,3,4,5,6]:\n",
    "    fact = fact * factor\n",
    "    \n",
    "print(fact)"
   ]
  },
  {
   "cell_type": "code",
   "execution_count": 74,
   "metadata": {},
   "outputs": [
    {
     "name": "stdout",
     "output_type": "stream",
     "text": [
      "720\n"
     ]
    }
   ],
   "source": [
    "# This way uses range instead of a hard coded list\n",
    "fact = 1\n",
    "\n",
    "for factor in range(1,7):\n",
    "    fact = fact * factor\n",
    "    \n",
    "print(fact)"
   ]
  },
  {
   "cell_type": "code",
   "execution_count": 5,
   "metadata": {},
   "outputs": [],
   "source": [
    "# Make a program that calculates the factorials of a given number\n",
    "\n",
    "def factorial():\n",
    "    print(\"This program will calculate the factorial of a given value\")\n",
    "    print()\n",
    "    \n",
    "    factorial = int(input(\"Please provide a whole numnber: \"))\n",
    "    \n",
    "    fact = 1\n",
    "    for num in range(1,factorial+1,1):\n",
    "        fact = fact * num\n",
    "        \n",
    "    print(fact)"
   ]
  },
  {
   "cell_type": "code",
   "execution_count": 6,
   "metadata": {},
   "outputs": [
    {
     "name": "stdout",
     "output_type": "stream",
     "text": [
      "This program will calculate the factorial of a given value\n",
      "\n",
      "Please provide a whole numnber: 6\n",
      "720\n"
     ]
    }
   ],
   "source": [
    "factorial()"
   ]
  },
  {
   "cell_type": "code",
   "execution_count": 94,
   "metadata": {},
   "outputs": [],
   "source": [
    "# The book did it this way\n",
    "def factorial2():\n",
    "    print(\"This program will calculate the factorial of a given value\")\n",
    "    print()\n",
    "    \n",
    "    factorial = int(input(\"Please provide a whole numnber: \"))\n",
    "    \n",
    "    fact = 1\n",
    "    for num in range(factorial,1,-1): # The -1 makes it reverse starting at the factorial and ending with 1\n",
    "        fact = fact * num\n",
    "        \n",
    "    print(fact)"
   ]
  },
  {
   "cell_type": "code",
   "execution_count": 95,
   "metadata": {},
   "outputs": [
    {
     "name": "stdout",
     "output_type": "stream",
     "text": [
      "This program will calculate the factorial of a given value\n",
      "\n",
      "Please provide a whole numnber: 100\n",
      "93326215443944152681699238856266700490715968264381621468592963895217599993229915608941463976156518286253697920827223758251185210916864000000000000000000000000\n"
     ]
    }
   ],
   "source": [
    "factorial2()"
   ]
  },
  {
   "cell_type": "markdown",
   "metadata": {},
   "source": [
    "3.5 Limitations of Computer Arithmetic"
   ]
  },
  {
   "cell_type": "code",
   "execution_count": null,
   "metadata": {},
   "outputs": [],
   "source": []
  },
  {
   "cell_type": "markdown",
   "metadata": {},
   "source": [
    "Chapter 3 Discussion"
   ]
  },
  {
   "cell_type": "markdown",
   "metadata": {},
   "source": [
    "Discussion 1"
   ]
  },
  {
   "cell_type": "code",
   "execution_count": 107,
   "metadata": {},
   "outputs": [
    {
     "name": "stdout",
     "output_type": "stream",
     "text": [
      "7.4\n",
      "5.0\n",
      "8\n",
      "11\n",
      "27\n"
     ]
    }
   ],
   "source": [
    " # 1. Evaluate these expressions and tell their types:\n",
    "print(4.0 / 10.0 +3.5 * 2) # Should be float\n",
    "print(10 % 4 +6/2) # Thought it would be int but was float\n",
    "print(abs(4-20 // 3) ** 3) # Should be float\n",
    "#print(sqrt((4.5-5) + 7 * 3)) # Won't work b/c you cant sqrt a negative number\n",
    "print(3 * 10 // 3 + 10 % 3) # Thought it would be float but is int\n",
    "print(3**3) # Should be int"
   ]
  },
  {
   "cell_type": "markdown",
   "metadata": {},
   "source": [
    "Discussion 2"
   ]
  },
  {
   "cell_type": "code",
   "execution_count": 120,
   "metadata": {},
   "outputs": [
    {
     "name": "stdout",
     "output_type": "stream",
     "text": [
      "35\n",
      "1\n",
      "39.478417602100684\n",
      "1.4958264552803142\n",
      "1.0\n"
     ]
    }
   ],
   "source": [
    "import math\n",
    "# 2 Make the given equations Python expressions:\n",
    "# a\n",
    "print((3+4) * 5)\n",
    "# b\n",
    "x=2\n",
    "print(int(x * (x-1)/2))\n",
    "# c\n",
    "print(4 * pi**2)\n",
    "# d\n",
    "r =2\n",
    "a=1\n",
    "b=2\n",
    "print(math.sqrt(r * (math.cos(a)**2) + r * ((math.sin(b))**2) ))\n",
    "# e\n",
    "y1 =1\n",
    "y2 = 2\n",
    "x1 =2\n",
    "x2 = 3\n",
    "print((y2 - y1)/(x2-x1))"
   ]
  },
  {
   "cell_type": "markdown",
   "metadata": {},
   "source": [
    "Discussion 3"
   ]
  },
  {
   "cell_type": "code",
   "execution_count": 136,
   "metadata": {},
   "outputs": [
    {
     "name": "stdout",
     "output_type": "stream",
     "text": [
      "[0, 1, 2, 3, 4]\n",
      "[3, 4, 5, 6, 7, 8, 9]\n",
      "[4, 7, 10]\n",
      "[15, 13, 11, 9, 7]\n",
      "[]\n"
     ]
    }
   ],
   "source": [
    "# a\n",
    "list1 = []\n",
    "for i in range(5):\n",
    "    list1.append(i)\n",
    "print(list1)\n",
    "\n",
    "# b\n",
    "list2 = [i for i in range(3,10)]\n",
    "print(list2)\n",
    "\n",
    "# c\n",
    "list3 = [i for i in range(4, 13, 3)]\n",
    "print(list3)\n",
    "\n",
    "# d \n",
    "list4 = [i for i in range(15, 5, -2)]\n",
    "print(list4)\n",
    "\n",
    "# e\n",
    "list5 = [i for i in range(5, 3)]\n",
    "print(list5)"
   ]
  },
  {
   "cell_type": "markdown",
   "metadata": {},
   "source": [
    "Discussion 4"
   ]
  },
  {
   "cell_type": "code",
   "execution_count": 146,
   "metadata": {},
   "outputs": [
    {
     "name": "stdout",
     "output_type": "stream",
     "text": [
      "1\n",
      "4\n",
      "9\n",
      "16\n",
      "25\n",
      "36\n",
      "49\n",
      "64\n",
      "81\n",
      "100\n",
      "[1, 4, 9, 16, 25, 36, 49, 64, 81, 100]\n",
      "1 : 1\n",
      "3 : 27\n",
      "5 : 125\n",
      "7 : 343\n",
      "9 : 729\n",
      "9\n",
      "012\n",
      "212\n",
      "412\n",
      "612\n",
      "812\n",
      "done\n",
      "1\n",
      "2\n",
      "3\n",
      "4\n",
      "5\n",
      "6\n",
      "7\n",
      "8\n",
      "9\n",
      "10\n",
      "385\n"
     ]
    }
   ],
   "source": [
    "# a\n",
    "for i in range(1,11):\n",
    "    print(i*i) # Given in book\n",
    "    \n",
    "print([(i * i) for i in range(1,11)]) # My way\n",
    "\n",
    "# b\n",
    "for i in [1,3,5,7,9]:\n",
    "    print(i, \":\", i**3)\n",
    "print(i)\n",
    "\n",
    "# c\n",
    "x = 2\n",
    "y = 10\n",
    "for j in range(0,y,x):\n",
    "    print(j, end=\"\")\n",
    "    print(x+y)\n",
    "print(\"done\")\n",
    "\n",
    "# d\n",
    "ans = 0\n",
    "for i in range(1,11):\n",
    "    ans = ans + i*i\n",
    "    print(i)\n",
    "print(ans)"
   ]
  },
  {
   "cell_type": "markdown",
   "metadata": {},
   "source": [
    "Discussion 5"
   ]
  },
  {
   "cell_type": "code",
   "execution_count": 147,
   "metadata": {},
   "outputs": [
    {
     "data": {
      "text/plain": [
       "314.16"
      ]
     },
     "execution_count": 147,
     "metadata": {},
     "output_type": "execute_result"
    }
   ],
   "source": [
    "round(314.158777, 2)"
   ]
  },
  {
   "cell_type": "code",
   "execution_count": 149,
   "metadata": {},
   "outputs": [
    {
     "data": {
      "text/plain": [
       "310.0"
      ]
     },
     "execution_count": 149,
     "metadata": {},
     "output_type": "execute_result"
    }
   ],
   "source": [
    "round(314.15877, -1) # I thought it would round the interger up and it did, although I figured it would round down 314 to 300.\n",
    "# But it looks like it goes to index 1 and rounds behind that."
   ]
  },
  {
   "cell_type": "markdown",
   "metadata": {},
   "source": [
    "Discussion 6"
   ]
  },
  {
   "cell_type": "code",
   "execution_count": 156,
   "metadata": {},
   "outputs": [
    {
     "name": "stdout",
     "output_type": "stream",
     "text": [
      "-4\n",
      "2\n",
      "-4\n",
      "-2\n",
      "3\n"
     ]
    }
   ],
   "source": [
    "# a\n",
    "print(-10 // 3) # I think will  be -3\n",
    "\n",
    "# b\n",
    "print(-10 % 3) # I thought it would be -2\n",
    "\n",
    "# c\n",
    "print(10 // -3) # I thought it would be -3\n",
    "\n",
    "# D\n",
    "print(10 % -3) # I thought it would be -2\n",
    "\n",
    "# e\n",
    "print(-10 // -3) # I thought it would be 4"
   ]
  },
  {
   "cell_type": "markdown",
   "metadata": {},
   "source": [
    "## Exercise 1"
   ]
  },
  {
   "cell_type": "code",
   "execution_count": 1,
   "metadata": {},
   "outputs": [],
   "source": [
    "import math"
   ]
  },
  {
   "cell_type": "markdown",
   "metadata": {},
   "source": [
    "#### My Solution"
   ]
  },
  {
   "cell_type": "code",
   "execution_count": 40,
   "metadata": {},
   "outputs": [],
   "source": [
    "def volume_area_sphere(radius):\n",
    "    volume = (4/3) * math.pi * radius**3\n",
    "    area = 4 * math.pi * radius**2\n",
    "    return f\"Volume: {volume}, Area: {area}\"\n",
    "    "
   ]
  },
  {
   "cell_type": "code",
   "execution_count": 41,
   "metadata": {},
   "outputs": [
    {
     "data": {
      "text/plain": [
       "'Volume: 113.09733552923254, Area: 113.09733552923255'"
      ]
     },
     "execution_count": 41,
     "metadata": {},
     "output_type": "execute_result"
    }
   ],
   "source": [
    "volume_area_sphere(3)"
   ]
  },
  {
   "cell_type": "markdown",
   "metadata": {},
   "source": [
    "#### Book Solution"
   ]
  },
  {
   "cell_type": "code",
   "execution_count": 43,
   "metadata": {},
   "outputs": [
    {
     "name": "stdout",
     "output_type": "stream",
     "text": [
      "This program computes the volume and surface area of a sphere\n",
      "\n",
      "Please enter the radius of the sphere: 3\n",
      "The volume is 113.09733552923254 cubic units.\n",
      "The surface area is 113.09733552923255 square units.\n"
     ]
    }
   ],
   "source": [
    "#    Volume and serface area of a sphere\n",
    "\n",
    "import math\n",
    "\n",
    "def main():\n",
    "    print(\"This program computes the volume and surface area of a sphere\")\n",
    "    print()\n",
    "\n",
    "    r = float(input(\"Please enter the radius of the sphere: \"))\n",
    "    volume = 4.0/3.0 * math.pi * r**3\n",
    "    area = 4 * math.pi * r**2\n",
    "\n",
    "    print(\"The volume is\", volume, \"cubic units.\")\n",
    "    print(\"The surface area is\", area, \"square units.\")\n",
    "\n",
    "main()"
   ]
  },
  {
   "cell_type": "markdown",
   "metadata": {},
   "source": [
    "## Exercise 2"
   ]
  },
  {
   "cell_type": "markdown",
   "metadata": {},
   "source": [
    "#### My Solution"
   ]
  },
  {
   "cell_type": "code",
   "execution_count": 64,
   "metadata": {},
   "outputs": [],
   "source": [
    "def pizza_cost():\n",
    "    print('This program will calculate the cost of a Pizza per square inch of its area')\n",
    "    price = eval(input(\"What is the price of your pizza: \"))\n",
    "    diameter = eval(input('Please provide the diameter of the Pizza: '))\n",
    "    radius = diameter / 2\n",
    "    area = math.pi * radius**2\n",
    "    cost = price / area\n",
    "    print(f\"The cost of your pizza is ${round(cost,2)} per square inch, and it's size is {round(area,2)} square inchs.\")"
   ]
  },
  {
   "cell_type": "code",
   "execution_count": 65,
   "metadata": {},
   "outputs": [
    {
     "name": "stdout",
     "output_type": "stream",
     "text": [
      "This program will calculate the cost of a Pizza per square inch of its area\n",
      "What is the price of your pizza: 12\n",
      "Please provide the diameter of the Pizza: 8\n",
      "The cost of your pizza is $0.24 per square inch, and it's size is 50.27 square inchs.\n"
     ]
    }
   ],
   "source": [
    "pizza_cost()"
   ]
  },
  {
   "cell_type": "markdown",
   "metadata": {},
   "source": [
    "#### Book Solution"
   ]
  },
  {
   "cell_type": "code",
   "execution_count": 66,
   "metadata": {},
   "outputs": [
    {
     "name": "stdout",
     "output_type": "stream",
     "text": [
      "This program computes the cost per square inch of a pizza.\n",
      "\n",
      "Enter the diameter of the pizza (in inches): 8\n",
      "Enter the price of the pizza (in dollars): 12\n",
      "\n",
      "The cost is 0.238732414637843 dollars per square inch.\n"
     ]
    }
   ],
   "source": [
    "# c03ex02.py\n",
    "#   Cost per square inch of a pizza\n",
    "\n",
    "import math\n",
    "\n",
    "def main():\n",
    "    print(\"This program computes the cost per square inch of a pizza.\")\n",
    "    print()\n",
    "\n",
    "    diam = float(input(\"Enter the diameter of the pizza (in inches): \"))\n",
    "    price = float(input(\"Enter the price of the pizza (in dollars): \"))\n",
    "    area = math.pi * (diam/2.0)**2\n",
    "    cost = price /area\n",
    "    print() \n",
    "    print(\"The cost is\", cost, \"dollars per square inch.\")\n",
    "\n",
    "main()\n"
   ]
  },
  {
   "cell_type": "markdown",
   "metadata": {},
   "source": [
    "### Exercise 3"
   ]
  },
  {
   "cell_type": "markdown",
   "metadata": {},
   "source": [
    "#### My Solution"
   ]
  },
  {
   "cell_type": "code",
   "execution_count": 67,
   "metadata": {},
   "outputs": [],
   "source": [
    "# This program will calculate the molecular weight of a carbohydrate (in grams per mole)\n",
    "# Based on the # of hydrogen, carbon and oxygen atoms in the molecule\n",
    "def carbo_weight():\n",
    "    hydrogen_atoms = eval(input(\"Provide the number of hydrogen atoms: \"))\n",
    "    carbon_atoms = eval(input(\"Provide the number of carbon atoms: \"))\n",
    "    oxygen_atoms = eval(input(\"Provide the number of oxygen atoms: \"))\n",
    "    \n",
    "    hydrogen_weight = hydrogen_atoms * 1.00794\n",
    "    carbon_weight = carbon_atoms * 12.0107\n",
    "    oxygen_weight = oxygen_atoms * 15.9994\n",
    "    \n",
    "    carbohydrate_weight = hydrogen_weight + carbon_weight + oxygen_weight\n",
    "    \n",
    "    return carbohydrate_weight"
   ]
  },
  {
   "cell_type": "code",
   "execution_count": 68,
   "metadata": {},
   "outputs": [
    {
     "name": "stdout",
     "output_type": "stream",
     "text": [
      "Provide the number of hydrogen atoms: 2\n",
      "Provide the number of carbon atoms: 0\n",
      "Provide the number of oxygen atoms: 1\n"
     ]
    },
    {
     "data": {
      "text/plain": [
       "18.01528"
      ]
     },
     "execution_count": 68,
     "metadata": {},
     "output_type": "execute_result"
    }
   ],
   "source": [
    "carbo_weight()"
   ]
  },
  {
   "cell_type": "markdown",
   "metadata": {},
   "source": [
    "#### Book Solution"
   ]
  },
  {
   "cell_type": "code",
   "execution_count": 70,
   "metadata": {},
   "outputs": [
    {
     "name": "stdout",
     "output_type": "stream",
     "text": [
      "This program calculates the molecular weight of a hydrocarbon.\n",
      "\n",
      "Enter the number of hydrogen atoms: 2\n",
      "Enter the number of carbon atoms: 0\n",
      "Enter the number of oxygen atoms: 1\n",
      "\n",
      "The molecular weight is: 18.01528\n"
     ]
    }
   ],
   "source": [
    "# c03ex03.py\n",
    "#   Calculates molecular weight of a hydrocarbon\n",
    "\n",
    "def main():\n",
    "    print(\"This program calculates the molecular weight of a hydrocarbon.\")\n",
    "    print()\n",
    "\n",
    "    h = int(input(\"Enter the number of hydrogen atoms: \"))\n",
    "    c = int(input(\"Enter the number of carbon atoms: \"))\n",
    "    ox = int(input(\"Enter the number of oxygen atoms: \"))\n",
    "    weight = 1.00794 * h + 12.0107 * c + 15.9994 * ox\n",
    "\n",
    "    print()\n",
    "    print(\"The molecular weight is:\", weight)\n",
    "\n",
    "main()"
   ]
  },
  {
   "cell_type": "markdown",
   "metadata": {},
   "source": [
    "## Exercise 4"
   ]
  },
  {
   "cell_type": "markdown",
   "metadata": {},
   "source": [
    "#### My Solution"
   ]
  },
  {
   "cell_type": "code",
   "execution_count": 8,
   "metadata": {},
   "outputs": [],
   "source": [
    "# This program determines the distance to a lighting strike based upon the time eslasped\n",
    "# b/w the flash and the sound of the thunder\n",
    "def lighting_strike():\n",
    "    time_version = input(\"Did it take minutes or seconds for the thunder to be heard? M for minutes, S for seconds \")\n",
    "    \n",
    "    if time_version.lower() == 'm':\n",
    "        time = eval(input(\"Provide the time elasped in minutes: \"))\n",
    "        time_seconds = time * 60\n",
    "        distance_feet = 1100 * time_seconds\n",
    "        miles = distance_feet / 5280\n",
    "        \n",
    "    elif time_version.lower() == 's':\n",
    "        time = eval(input(\"Provide the time elasped in seconds: \"))\n",
    "        distance_feet = 1100 * time\n",
    "        miles = distance_feet / 5280\n",
    "    \n",
    "    else:\n",
    "        print(\"Sorry Please try again\")\n",
    "        \n",
    "    print(\"The distance in miles from the strike was \" f\"{round(miles,1)}\")"
   ]
  },
  {
   "cell_type": "code",
   "execution_count": 9,
   "metadata": {},
   "outputs": [
    {
     "name": "stdout",
     "output_type": "stream",
     "text": [
      "Did it take minutes or seconds for the thunder to be heard? M for minutes, S for seconds M\n",
      "Provide the time elasped in minutes: 2.5\n",
      "The distance in miles from the strike was 31.2\n"
     ]
    }
   ],
   "source": [
    "lighting_strike()"
   ]
  },
  {
   "cell_type": "markdown",
   "metadata": {},
   "source": [
    "#### Book Solution"
   ]
  },
  {
   "cell_type": "code",
   "execution_count": 10,
   "metadata": {},
   "outputs": [
    {
     "name": "stdout",
     "output_type": "stream",
     "text": [
      "This program calculates the distance from a lightning strike.\n",
      "\n",
      "Enter number of seconds between flash and crash: 50\n",
      "\n",
      "The lightning is approximately 10.4 miles away.\n"
     ]
    }
   ],
   "source": [
    "# c03ex04.py\n",
    "#    Calculate distance to a lightning strike\n",
    "\n",
    "def main():\n",
    "    print(\"This program calculates the distance from a lightning strike.\")\n",
    "    print()\n",
    "\n",
    "    seconds = int(input(\"Enter number of seconds between flash and crash: \"))\n",
    "    feet = 1100 * seconds\n",
    "    miles = feet / 5280.0\n",
    "\n",
    "    print()\n",
    "    print(\"The lightning is approximately\", round(miles,1), \"miles away.\")\n",
    "\n",
    "main()"
   ]
  },
  {
   "cell_type": "markdown",
   "metadata": {},
   "source": [
    "## Exercise 5"
   ]
  },
  {
   "cell_type": "markdown",
   "metadata": {},
   "source": [
    "#### My Solution"
   ]
  },
  {
   "cell_type": "code",
   "execution_count": 29,
   "metadata": {},
   "outputs": [],
   "source": [
    "def coffee_price():\n",
    "    print(\"This program calcualtes the cost of a coffee order by its weight in pounds\")\n",
    "    print(\"The cost per pound of Coffee is $10.50 and shipping is $.86 per pound + $1.5 per order\")\n",
    "    pounds = float(input(\"How many pounds would you like? \"))\n",
    "    \n",
    "    shipping = 1.5 + (pounds * .86)\n",
    "    cost = (10.5 * pounds)\n",
    "    total_cost = cost + shipping\n",
    "    \n",
    "    print()\n",
    "    print(\"Shipping will cost \" f\"{round(shipping,2)}\")\n",
    "    print(\"The Coffee will cost \" f\"{round(cost,2)}\")\n",
    "    print('____________________________')\n",
    "    print(\"This order will cost \" f\"${round(total_cost,2)}\")"
   ]
  },
  {
   "cell_type": "code",
   "execution_count": 30,
   "metadata": {},
   "outputs": [
    {
     "name": "stdout",
     "output_type": "stream",
     "text": [
      "This program calcualtes the cost of a coffee order by its weight in pounds\n",
      "The cost per pound of Coffee is $10.50 and shipping is $.86 per pound + $1.5 per order\n",
      "How many pounds would you like? 2\n",
      "\n",
      "Shipping will cost 3.22\n",
      "The Coffee will cost 21.0\n",
      "____________________________\n",
      "This order will cost $24.22\n"
     ]
    }
   ],
   "source": [
    "coffee_price()"
   ]
  },
  {
   "cell_type": "markdown",
   "metadata": {},
   "source": [
    "#### Book Solution"
   ]
  },
  {
   "cell_type": "code",
   "execution_count": 14,
   "metadata": {},
   "outputs": [
    {
     "name": "stdout",
     "output_type": "stream",
     "text": [
      "Welcome to the Konditorei!\n",
      "\n",
      "How many pounds of coffee do you want? 2\n",
      "\n",
      "Cost of coffee: 21.0\n",
      "Shipping:       3.2199999999999998\n",
      "-------------------------------\n",
      "Total due:      24.22\n"
     ]
    }
   ],
   "source": [
    "# c03ex05.py\n",
    "#   Calculate the price of coffee shipments\n",
    "#   Note: output is ugly. Chapter 4 covers formatting.\n",
    "\n",
    "\n",
    "def main():\n",
    "    print(\"Welcome to the Konditorei!\")\n",
    "    print()\n",
    "\n",
    "    amount = float(input(\"How many pounds of coffee do you want? \"))\n",
    "    coffeeCost = 10.5 * amount\n",
    "    shipping = 0.86 * amount + 1.5\n",
    "\n",
    "    print()\n",
    "    print(\"Cost of coffee:\", coffeeCost)\n",
    "    print(\"Shipping:      \", shipping)\n",
    "    print(\"-------------------------------\")\n",
    "    print(\"Total due:     \", coffeeCost + shipping)\n",
    "\n",
    "main()"
   ]
  },
  {
   "cell_type": "markdown",
   "metadata": {},
   "source": [
    "## Exercise 6"
   ]
  },
  {
   "cell_type": "markdown",
   "metadata": {},
   "source": [
    "#### My solution"
   ]
  },
  {
   "cell_type": "code",
   "execution_count": 44,
   "metadata": {},
   "outputs": [],
   "source": [
    "def slope():\n",
    "    print(\"This program will calculate the slope of a line given coordinates x1,x2 and y1,y2\")\n",
    "    x1 = int(input(\"Please give the coordinate for x1: \"))\n",
    "    x2 = int(input(\"Please give the coordinate for x2: \"))\n",
    "    print()\n",
    "    y1 = int(input(\"Please give the coordinate for y1: \"))\n",
    "    y2 = int(input(\"Please give the coordinate for y2: \"))\n",
    "    \n",
    "    numerator = (y2 - y1)\n",
    "    denominator = (x2 - x1)\n",
    "    slope = round(numerator / denominator, 4)\n",
    "    \n",
    "    return slope"
   ]
  },
  {
   "cell_type": "code",
   "execution_count": 45,
   "metadata": {},
   "outputs": [
    {
     "name": "stdout",
     "output_type": "stream",
     "text": [
      "This program will calculate the slope of a line given coordinates x1,x2 and y1,y2\n",
      "Please give the coordinate for x1: 2\n",
      "Please give the coordinate for x2: 7\n",
      "\n",
      "Please give the coordinate for y1: 8\n",
      "Please give the coordinate for y2: 9\n"
     ]
    },
    {
     "data": {
      "text/plain": [
       "0.2"
      ]
     },
     "execution_count": 45,
     "metadata": {},
     "output_type": "execute_result"
    }
   ],
   "source": [
    "slope()"
   ]
  },
  {
   "cell_type": "markdown",
   "metadata": {},
   "source": [
    "#### Books solution"
   ]
  },
  {
   "cell_type": "code",
   "execution_count": 43,
   "metadata": {},
   "outputs": [
    {
     "name": "stdout",
     "output_type": "stream",
     "text": [
      "This program calculates the slope of a line.\n",
      "\n",
      "Enter the x for the first point: 12\n",
      "Enter the y for the first point: 10\n",
      "\n",
      "Enter the x for the second point: 20\n",
      "Enter the y for the second point: 55\n",
      "\n",
      "The slope of the line is 5.625\n"
     ]
    }
   ],
   "source": [
    "# c03ex06.py\n",
    "#    Determine slope of a line through two poitns\n",
    "\n",
    "def main():\n",
    "    print(\"This program calculates the slope of a line.\")\n",
    "    print()\n",
    "\n",
    "    x1 = float(input(\"Enter the x for the first point: \"))\n",
    "    y1 = float(input(\"Enter the y for the first point: \"))\n",
    "    print()\n",
    "    x2 = float(input(\"Enter the x for the second point: \"))\n",
    "    y2 = float(input(\"Enter the y for the second point: \"))\n",
    "    \n",
    "    slope = (y2 - y1) / (x2 - x1)\n",
    "\n",
    "    print()\n",
    "    print(\"The slope of the line is\", slope)\n",
    "\n",
    "main()"
   ]
  },
  {
   "cell_type": "markdown",
   "metadata": {},
   "source": [
    "## Exercise 7"
   ]
  },
  {
   "cell_type": "markdown",
   "metadata": {},
   "source": [
    "#### My Solution"
   ]
  },
  {
   "cell_type": "code",
   "execution_count": 48,
   "metadata": {},
   "outputs": [],
   "source": [
    "def distance_bw_two_points():\n",
    "    print(\"This program will calcualte the distance b/w two sets of coordinates\")\n",
    "    \n",
    "    x1 = int(input(\"Please give the coordinate for x1: \"))\n",
    "    x2 = int(input(\"Please give the coordinate for x2: \"))\n",
    "    print()\n",
    "    y1 = int(input(\"Please give the coordinate for y1: \"))\n",
    "    y2 = int(input(\"Please give the coordinate for y2: \"))\n",
    "    \n",
    "    x_points = (x2 - x1)\n",
    "    y_points = (y2 - y1)\n",
    "    \n",
    "    distance = round(math.sqrt(abs(x_points**2) + abs(y_points**2)),3)\n",
    "    \n",
    "    return distance"
   ]
  },
  {
   "cell_type": "code",
   "execution_count": 49,
   "metadata": {},
   "outputs": [
    {
     "name": "stdout",
     "output_type": "stream",
     "text": [
      "This program will calcualte the distance b/w two sets of coordinates\n",
      "Please give the coordinate for x1: 1\n",
      "Please give the coordinate for x2: 2\n",
      "\n",
      "Please give the coordinate for y1: 3\n",
      "Please give the coordinate for y2: 4\n"
     ]
    },
    {
     "data": {
      "text/plain": [
       "1.414"
      ]
     },
     "execution_count": 49,
     "metadata": {},
     "output_type": "execute_result"
    }
   ],
   "source": [
    "distance_bw_two_points()"
   ]
  },
  {
   "cell_type": "markdown",
   "metadata": {},
   "source": [
    "#### Books Solution"
   ]
  },
  {
   "cell_type": "code",
   "execution_count": 50,
   "metadata": {},
   "outputs": [
    {
     "name": "stdout",
     "output_type": "stream",
     "text": [
      "This program calculates the distance between two points.\n",
      "\n",
      "Enter the x for the first point: 1\n",
      "Enter the y for the first point: 3\n",
      "\n",
      "Enter the x for the second point: 2\n",
      "Enter the y for the second point: 4\n",
      "\n",
      "The distance between the points is 1.4142135623730951\n"
     ]
    }
   ],
   "source": [
    "# c03ex07.py\n",
    "#    Calculates the distance between two points\n",
    "\n",
    "import math\n",
    "\n",
    "def main():\n",
    "    print(\"This program calculates the distance between two points.\")\n",
    "    print()\n",
    "\n",
    "    x1 = float(input(\"Enter the x for the first point: \"))\n",
    "    y1 = float(input(\"Enter the y for the first point: \"))\n",
    "    print()\n",
    "    x2 = float(input(\"Enter the x for the second point: \"))\n",
    "    y2 = float(input(\"Enter the y for the second point: \"))\n",
    "    \n",
    "    distance = math.sqrt((x2-x1)**2 + (y2-y1)**2)\n",
    "\n",
    "    print()\n",
    "    print(\"The distance between the points is\", distance)\n",
    "\n",
    "main()"
   ]
  },
  {
   "cell_type": "markdown",
   "metadata": {},
   "source": [
    "## Exercise 8"
   ]
  },
  {
   "cell_type": "markdown",
   "metadata": {},
   "source": [
    "#### My Solution"
   ]
  },
  {
   "cell_type": "code",
   "execution_count": 63,
   "metadata": {},
   "outputs": [],
   "source": [
    "def epact():\n",
    "    print(\"This program will calculate the the Gregorian epact used to date Easter\")\n",
    "    year = int(input(\"Please provide a year in the yyyy format: \"))\n",
    "    \n",
    "    C = year // 100\n",
    "    epact = (8 + (C//4) -C + ((8*C +13)//25) + 11 * (year % 19) % 30)\n",
    "    return epact"
   ]
  },
  {
   "cell_type": "code",
   "execution_count": 64,
   "metadata": {},
   "outputs": [
    {
     "name": "stdout",
     "output_type": "stream",
     "text": [
      "This program will calculate the the Gregorian epact used to date Easter\n",
      "Please provide a year in the yyyy format: 1999\n"
     ]
    },
    {
     "data": {
      "text/plain": [
       "13"
      ]
     },
     "execution_count": 64,
     "metadata": {},
     "output_type": "execute_result"
    }
   ],
   "source": [
    "epact()"
   ]
  },
  {
   "cell_type": "markdown",
   "metadata": {},
   "source": [
    "#### Book Solution"
   ]
  },
  {
   "cell_type": "code",
   "execution_count": 65,
   "metadata": {},
   "outputs": [
    {
     "name": "stdout",
     "output_type": "stream",
     "text": [
      "This program calculates the Gregorian epact value of year.\n",
      "\n",
      "Enter the year (e.g. 2020): 1999\n",
      "\n",
      "The epact value is 13 days.\n"
     ]
    }
   ],
   "source": [
    "# c03ex08.py\n",
    "#   Gregorian epact\n",
    "\n",
    "def main():\n",
    "    print(\"This program calculates the Gregorian epact value of year.\")\n",
    "    print()\n",
    "\n",
    "    year = int(input(\"Enter the year (e.g. 2020): \"))\n",
    "    c = year // 100\n",
    "    epact = (8+(c//4) - c + ((8*c + 13)//25) + 11 * (year % 19)) % 30\n",
    "\n",
    "    print()\n",
    "    print(\"The epact value is\", epact, \"days.\")\n",
    "\n",
    "main()"
   ]
  },
  {
   "cell_type": "markdown",
   "metadata": {},
   "source": [
    "## Exercise 9"
   ]
  },
  {
   "cell_type": "markdown",
   "metadata": {},
   "source": [
    "#### My Solution"
   ]
  },
  {
   "cell_type": "code",
   "execution_count": 5,
   "metadata": {},
   "outputs": [],
   "source": [
    "import math\n",
    "def area_triangle():\n",
    "    print('This program calcualtes the area of a triangle given the length of its 3 sides')\n",
    "    a = float(input(\"What is the length of side a: \"))\n",
    "    b = float(input(\"What is the length of side b: \"))\n",
    "    c = float(input(\"What is the length of side c: \"))\n",
    "    \n",
    "    sides = (a + b + c) / (2)\n",
    "    area = round(math.sqrt(abs(sides * (sides - a) * (sides - b) * (sides - c))),4)\n",
    "    \n",
    "    return area"
   ]
  },
  {
   "cell_type": "code",
   "execution_count": 6,
   "metadata": {},
   "outputs": [
    {
     "name": "stdout",
     "output_type": "stream",
     "text": [
      "This program calcualtes the area of a triangle given the length of its 3 sides\n",
      "What is the length of side a: 10\n",
      "What is the length of side b: 11\n",
      "What is the length of side c: 12\n"
     ]
    },
    {
     "data": {
      "text/plain": [
       "51.5212"
      ]
     },
     "execution_count": 6,
     "metadata": {},
     "output_type": "execute_result"
    }
   ],
   "source": [
    "area_triangle()"
   ]
  },
  {
   "cell_type": "code",
   "execution_count": 1,
   "metadata": {},
   "outputs": [
    {
     "name": "stdout",
     "output_type": "stream",
     "text": [
      "This program calculates the are of a triangle.\n",
      "\n",
      "Enter the length of side a: 5\n",
      "Enter the length of side b: 2\n",
      "Enter the length of side c: 10\n",
      "\n",
      "The area is 17.0312213302511 square units.\n"
     ]
    }
   ],
   "source": [
    "# c03ex09.py\n",
    "#    Area of triangle using Heron's formula\n",
    "\n",
    "import math\n",
    "\n",
    "def main():\n",
    "    print(\"This program calculates the are of a triangle.\")\n",
    "    print()\n",
    "\n",
    "    a = float(input(\"Enter the length of side a: \"))\n",
    "    b = float(input(\"Enter the length of side b: \"))\n",
    "    c = float(input(\"Enter the length of side c: \"))\n",
    "    \n",
    "    s = (a+b+c)/2\n",
    "    area = math.sqrt(s*(s-a)*(s-b)*(s-c))\n",
    "\n",
    "    print()\n",
    "    print(\"The area is\", area, \"square units.\")\n",
    "\n",
    "main()"
   ]
  },
  {
   "cell_type": "markdown",
   "metadata": {},
   "source": [
    "## Exercise 10"
   ]
  },
  {
   "cell_type": "markdown",
   "metadata": {},
   "source": [
    "#### My Solution"
   ]
  },
  {
   "cell_type": "code",
   "execution_count": 23,
   "metadata": {},
   "outputs": [],
   "source": [
    "def ladder_length():\n",
    "    print(\"This program claculates the needed length of a ladder required to reach a given height when leaned against a house\")\n",
    "    height = eval(input(\"Please provide the height of the house in feet: \"))\n",
    "    angle = eval(input(\"Please provide the angle the latter will be at in degrees: \"))\n",
    "    radians = (math.pi/180) * angle\n",
    "    \n",
    "    length = round(height/math.sin(radians),4) \n",
    "    \n",
    "    return length"
   ]
  },
  {
   "cell_type": "code",
   "execution_count": 24,
   "metadata": {},
   "outputs": [
    {
     "name": "stdout",
     "output_type": "stream",
     "text": [
      "This program claculates the needed length of a ladder required to reach a given height when leaned against a house\n",
      "Please provide the height of the house in feet: 10\n",
      "Please provide the angle the latter will be at in degrees: 10\n"
     ]
    },
    {
     "data": {
      "text/plain": [
       "57.5877"
      ]
     },
     "execution_count": 24,
     "metadata": {},
     "output_type": "execute_result"
    }
   ],
   "source": [
    "ladder_length()"
   ]
  },
  {
   "cell_type": "markdown",
   "metadata": {},
   "source": [
    "#### Book Solution"
   ]
  },
  {
   "cell_type": "code",
   "execution_count": 135,
   "metadata": {},
   "outputs": [
    {
     "name": "stdout",
     "output_type": "stream",
     "text": [
      "This program helps to determine the length of ladder needed\n",
      "to reach a given height.\n",
      "\n",
      "How high must you reach? 50\n",
      "What will the ladder angle be (in degrees)? 80\n",
      "\n",
      "Length of ladder required: 50.77133059428725\n"
     ]
    }
   ],
   "source": [
    "# c03ex10.py\n",
    "#   Compute length of ladder needed.\n",
    "\n",
    "import math\n",
    "\n",
    "def main():\n",
    "    print(\"This program helps to determine the length of ladder needed\")\n",
    "    print(\"to reach a given height.\")\n",
    "    print()\n",
    "\n",
    "    height = float(input(\"How high must you reach? \"))\n",
    "    angle = float(input(\"What will the ladder angle be (in degrees)? \"))\n",
    "\n",
    "    radians = math.pi * angle / 180\n",
    "    # note: can also use radians = math.radians(angle)\n",
    "    length = height / math.sin(radians)\n",
    "\n",
    "    print()\n",
    "    print(\"Length of ladder required:\", length)\n",
    "\n",
    "main()"
   ]
  },
  {
   "cell_type": "markdown",
   "metadata": {},
   "source": [
    "#### Exercise 11"
   ]
  },
  {
   "cell_type": "markdown",
   "metadata": {},
   "source": [
    "#### My Solution"
   ]
  },
  {
   "cell_type": "code",
   "execution_count": 64,
   "metadata": {},
   "outputs": [],
   "source": [
    "def sum_of_numbers():\n",
    "    print(\"This program will calculate the sum of all numbers up to n number\")\n",
    "    n = eval(input(\"Please provide a number: \"))\n",
    "    sum_num = 0\n",
    "        \n",
    "    for number in range(1,n+1):\n",
    "        sum_num = sum_num + number\n",
    "        \n",
    "    return sum_num"
   ]
  },
  {
   "cell_type": "code",
   "execution_count": 65,
   "metadata": {},
   "outputs": [
    {
     "name": "stdout",
     "output_type": "stream",
     "text": [
      "This program will calculate the sum of all numbers up to n number\n",
      "Please provide a number: 20\n"
     ]
    },
    {
     "data": {
      "text/plain": [
       "210"
      ]
     },
     "execution_count": 65,
     "metadata": {},
     "output_type": "execute_result"
    }
   ],
   "source": [
    "sum_of_numbers()"
   ]
  },
  {
   "cell_type": "markdown",
   "metadata": {},
   "source": [
    "Book Solution"
   ]
  },
  {
   "cell_type": "code",
   "execution_count": 66,
   "metadata": {},
   "outputs": [
    {
     "name": "stdout",
     "output_type": "stream",
     "text": [
      "This program finds the sum of the first n natural numbers.\n",
      "\n",
      "Please enter a value for n: 20\n",
      "\n",
      "The sum from 1 to 20 is: 210\n"
     ]
    }
   ],
   "source": [
    "# c03ex11.py\n",
    "#    Sum of first n natural numbers\n",
    "\n",
    "def main():\n",
    "    print(\"This program finds the sum of the first n natural numbers.\")\n",
    "    print()\n",
    "\n",
    "    n = int(input(\"Please enter a value for n: \"))\n",
    "    sum = 0\n",
    "    for i in range(1,n+1):\n",
    "        sum = sum + i\n",
    "\n",
    "    print()\n",
    "    print(\"The sum from 1 to\", n, \"is:\", sum)\n",
    "\n",
    "main()\n"
   ]
  },
  {
   "cell_type": "markdown",
   "metadata": {},
   "source": [
    "## Exercise 12"
   ]
  },
  {
   "cell_type": "markdown",
   "metadata": {},
   "source": [
    "#### My Solution"
   ]
  },
  {
   "cell_type": "code",
   "execution_count": 70,
   "metadata": {},
   "outputs": [],
   "source": [
    "def sum_of_numbers_cubed():\n",
    "    print(\"This program will calculate the sum of all numbers cubed up to n number\")\n",
    "    n = eval(input(\"Please provide a number: \"))\n",
    "    sum_num = 0\n",
    "        \n",
    "    for number in range(1,n+1):\n",
    "        sum_num = (sum_num) + number**3\n",
    "        \n",
    "    return sum_num"
   ]
  },
  {
   "cell_type": "code",
   "execution_count": 71,
   "metadata": {},
   "outputs": [
    {
     "name": "stdout",
     "output_type": "stream",
     "text": [
      "This program will calculate the sum of all numbers up to n number\n",
      "Please provide a number: 5\n"
     ]
    },
    {
     "data": {
      "text/plain": [
       "225"
      ]
     },
     "execution_count": 71,
     "metadata": {},
     "output_type": "execute_result"
    }
   ],
   "source": [
    "sum_of_numbers_cubed()"
   ]
  },
  {
   "cell_type": "markdown",
   "metadata": {},
   "source": [
    "#### Book Solution"
   ]
  },
  {
   "cell_type": "code",
   "execution_count": 69,
   "metadata": {},
   "outputs": [
    {
     "name": "stdout",
     "output_type": "stream",
     "text": [
      "This program finds the sum of the cubes of the first n natural numbers.\n",
      "\n",
      "Please enter a value for n: 5\n",
      "\n",
      "The sum of cubes of 1 through through 5 is: 225\n"
     ]
    }
   ],
   "source": [
    "# c03ex12.py\n",
    "#    Sum of cubes of first n natural numbers\n",
    "\n",
    "def main():\n",
    "    print(\"This program finds the sum of the cubes of the first n natural numbers.\")\n",
    "    print()\n",
    "\n",
    "    n = int(input(\"Please enter a value for n: \"))\n",
    "    sum = 0\n",
    "    for i in range(1,n+1):\n",
    "        sum = sum + i**3\n",
    "\n",
    "    print()\n",
    "    print(\"The sum of cubes of 1 through through\", n, \"is:\", sum)\n",
    "\n",
    "main()"
   ]
  },
  {
   "cell_type": "markdown",
   "metadata": {},
   "source": [
    "## Exercise 13"
   ]
  },
  {
   "cell_type": "markdown",
   "metadata": {},
   "source": [
    "#### My Solution"
   ]
  },
  {
   "cell_type": "code",
   "execution_count": 74,
   "metadata": {},
   "outputs": [],
   "source": [
    "def sum_of_series():\n",
    "    print(\"This program will ask you for how many numbers you'd like to use\")\n",
    "    print(\"It will then calculate the sum of those numbers\")\n",
    "    \n",
    "    count_numbers = int(input(\"How many numbers  would you like to add together: \"))\n",
    "    sum_num = 0\n",
    "    \n",
    "    for number in range(1,count_numbers+1):\n",
    "        numbers = eval(input(f\"Number: {number}\" \" Please enter a number: \"))\n",
    "        sum_num = sum_num + numbers\n",
    "        \n",
    "    return sum_num"
   ]
  },
  {
   "cell_type": "code",
   "execution_count": 75,
   "metadata": {},
   "outputs": [
    {
     "name": "stdout",
     "output_type": "stream",
     "text": [
      "This program will ask you for how many numbers you'd like to use\n",
      "It will then calculate the sum of those numbers\n",
      "How many numbers  would you like to add together: 5\n",
      "Number: 1 Please enter a number: 1\n",
      "Number: 2 Please enter a number: 2\n",
      "Number: 3 Please enter a number: 3\n",
      "Number: 4 Please enter a number: 4\n",
      "Number: 5 Please enter a number: 5\n"
     ]
    },
    {
     "data": {
      "text/plain": [
       "15"
      ]
     },
     "execution_count": 75,
     "metadata": {},
     "output_type": "execute_result"
    }
   ],
   "source": [
    "sum_of_series()"
   ]
  },
  {
   "cell_type": "markdown",
   "metadata": {},
   "source": [
    "#### Book Solution"
   ]
  },
  {
   "cell_type": "code",
   "execution_count": 76,
   "metadata": {},
   "outputs": [
    {
     "name": "stdout",
     "output_type": "stream",
     "text": [
      "This program allows you to total up some numbers\n",
      "\n",
      "How many numbers do you have? 3\n",
      "Enter a number: 1\n",
      "Enter a number: 2\n",
      "Enter a number: 3\n",
      "\n",
      "The sum of the numbers is: 6.0\n"
     ]
    }
   ],
   "source": [
    "# c03ex13.py\n",
    "#    Sum of numbers entered by the user.\n",
    "\n",
    "def main():\n",
    "    print(\"This program allows you to total up some numbers\")\n",
    "    print()\n",
    "\n",
    "    n = int(input(\"How many numbers do you have? \"))\n",
    "    total = 0\n",
    "    for i in range(n):\n",
    "        num = float(input(\"Enter a number: \"))\n",
    "        total = total + num\n",
    "\n",
    "    print()\n",
    "    print(\"The sum of the numbers is:\", total)\n",
    "\n",
    "main()"
   ]
  },
  {
   "cell_type": "markdown",
   "metadata": {},
   "source": [
    "## Exercise 14"
   ]
  },
  {
   "cell_type": "markdown",
   "metadata": {},
   "source": [
    "My Solution"
   ]
  },
  {
   "cell_type": "code",
   "execution_count": 97,
   "metadata": {},
   "outputs": [],
   "source": [
    "def average_of_sum():\n",
    "    print(\"This program will ask you for how many numbers you'd like to use\")\n",
    "    print(\"It will then calculate the average of the sum of those numbers\")\n",
    "    \n",
    "    count_numbers = int(input(\"How many numbers  would you like to add together: \"))\n",
    "    sum_num = 0\n",
    "    \n",
    "    for number in range(1,count_numbers+1):\n",
    "        numbers = eval(input(f\"Number: {number}\" \" Please enter a number: \"))\n",
    "        sum_num = float(sum_num + numbers)\n",
    "        average = float(round(sum_num / count_numbers,2))\n",
    "        \n",
    "    return average"
   ]
  },
  {
   "cell_type": "code",
   "execution_count": 98,
   "metadata": {},
   "outputs": [
    {
     "name": "stdout",
     "output_type": "stream",
     "text": [
      "This program will ask you for how many numbers you'd like to use\n",
      "It will then calculate the average of the sum of those numbers\n",
      "How many numbers  would you like to add together: 3\n",
      "Number: 1 Please enter a number: 2.999\n",
      "Number: 2 Please enter a number: 87\n",
      "Number: 3 Please enter a number: 777\n"
     ]
    },
    {
     "data": {
      "text/plain": [
       "289.0"
      ]
     },
     "execution_count": 98,
     "metadata": {},
     "output_type": "execute_result"
    }
   ],
   "source": [
    "average_of_sum()"
   ]
  },
  {
   "cell_type": "markdown",
   "metadata": {},
   "source": [
    "Book Solution"
   ]
  },
  {
   "cell_type": "code",
   "execution_count": 100,
   "metadata": {},
   "outputs": [
    {
     "name": "stdout",
     "output_type": "stream",
     "text": [
      "Program to calculate average\n",
      "\n",
      "How many numbers do you have? 3\n",
      "Enter a number: 2.999\n",
      "Enter a number: 87\n",
      "Enter a number: 777\n",
      "\n",
      "The average of the numbers is: 288.99966666666666\n"
     ]
    }
   ],
   "source": [
    "# c03ex14.py\n",
    "#    Average of numbers entered by the user.\n",
    "\n",
    "def main():\n",
    "    print(\"Program to calculate average\")\n",
    "    print()\n",
    "\n",
    "    n = int(input(\"How many numbers do you have? \"))\n",
    "    total = 0\n",
    "    for i in range(n):\n",
    "        num = float(input(\"Enter a number: \"))\n",
    "        total = total + num\n",
    "\n",
    "    print()\n",
    "    print(\"The average of the numbers is:\", total/n)\n",
    "\n",
    "main()"
   ]
  },
  {
   "cell_type": "markdown",
   "metadata": {},
   "source": [
    "## Exercise 15"
   ]
  },
  {
   "cell_type": "markdown",
   "metadata": {},
   "source": [
    "#### My Solution"
   ]
  },
  {
   "cell_type": "code",
   "execution_count": 136,
   "metadata": {},
   "outputs": [],
   "source": [
    "def pi_approx():\n",
    "    print(\"This program will attempt to approximate pi\")\n",
    "    n = int(input(\"How many summations mate: \"))\n",
    "    sum_num = 0\n",
    "    sum_num_total = 0\n",
    "    sign = 1\n",
    "    \n",
    "    for number in range(1,n+1,2):\n",
    "        sum_num = (4/number)\n",
    "        sum_num_total = sum_num_total + sum_num * sign\n",
    "        sign = -sign\n",
    "        \n",
    "    print(\"Approximation is \" f\"{round(sum_num_total,4)}\")\n",
    "    print(\"Difference b/w pi and approximation is \" f\"{math.pi - sum_num_total}\")"
   ]
  },
  {
   "cell_type": "code",
   "execution_count": 137,
   "metadata": {},
   "outputs": [
    {
     "name": "stdout",
     "output_type": "stream",
     "text": [
      "This program will attempt to approximate pi\n",
      "How many summations mate: 50\n",
      "Approximation is 3.1816\n",
      "Difference b/w pi and approximation is -0.039984031845239354\n"
     ]
    }
   ],
   "source": [
    "pi_approx()"
   ]
  },
  {
   "cell_type": "markdown",
   "metadata": {},
   "source": [
    "Book solution"
   ]
  },
  {
   "cell_type": "code",
   "execution_count": 212,
   "metadata": {},
   "outputs": [
    {
     "name": "stdout",
     "output_type": "stream",
     "text": [
      "This program approximates the value of pi by summing a fixed\n",
      "number of terms in a series.\n",
      "\n",
      "How many terms should I use? 2\n",
      "4.0\n",
      "2.666666666666667\n",
      "Approximation to pi is: 2.666666666666667\n",
      "Difference from math.pi: 0.47492598692312615\n"
     ]
    }
   ],
   "source": [
    "# c03ex15.py\n",
    "#    Approximation of pi using Taylor series.\n",
    "\n",
    "import math\n",
    "\n",
    "def main():\n",
    "    print(\"This program approximates the value of pi by summing a fixed\")\n",
    "    print(\"number of terms in a series.\")\n",
    "    print()\n",
    "    \n",
    "    n = int(input(\"How many terms should I use? \"))\n",
    "\n",
    "    total = 0.0\n",
    "    sgn = 1.0   # used to alternate sign of terms\n",
    "    for denom in range(1, 2*n, 2):\n",
    "        total = total + sgn * 4.0/denom\n",
    "        sgn = -sgn #flip the sign\n",
    "        print(total)\n",
    "    print(\"Approximation to pi is:\", total)\n",
    "    print(\"Difference from math.pi:\", math.pi - total)\n",
    "\n",
    "main()"
   ]
  },
  {
   "cell_type": "markdown",
   "metadata": {},
   "source": [
    "Exercise 16"
   ]
  },
  {
   "cell_type": "markdown",
   "metadata": {},
   "source": [
    "#### My Solution"
   ]
  },
  {
   "cell_type": "code",
   "execution_count": 211,
   "metadata": {},
   "outputs": [
    {
     "data": {
      "text/plain": [
       "102334155"
      ]
     },
     "execution_count": 211,
     "metadata": {},
     "output_type": "execute_result"
    }
   ],
   "source": [
    "fib_seq(40)"
   ]
  },
  {
   "cell_type": "code",
   "execution_count": 209,
   "metadata": {},
   "outputs": [],
   "source": [
    "def fib_seq(n):\n",
    "    number = 1\n",
    "    total = 0\n",
    "    old = 0\n",
    "\n",
    "    for num in range(n):\n",
    "        counter = number + old\n",
    "        old = counter\n",
    "        number = counter - number\n",
    "        #print(counter,old,number)\n",
    "    return counter"
   ]
  },
  {
   "cell_type": "markdown",
   "metadata": {},
   "source": [
    "#### Book Solution"
   ]
  },
  {
   "cell_type": "code",
   "execution_count": 208,
   "metadata": {},
   "outputs": [
    {
     "name": "stdout",
     "output_type": "stream",
     "text": [
      "This program calculates the nth Fibonacci value.\n",
      "\n",
      "Enter the value of n: 40\n",
      "\n",
      "The nth Fibonacci number is 102334155\n"
     ]
    }
   ],
   "source": [
    "# c03ex16.py\n",
    "#    Nth fibonacci number\n",
    "\n",
    "def main():\n",
    "    print(\"This program calculates the nth Fibonacci value.\")\n",
    "    print()\n",
    "\n",
    "    n = int(input(\"Enter the value of n: \"))\n",
    "    curr, prev = 1, 1\n",
    "    for i in range(n-2):\n",
    "        curr, prev = curr+prev, curr\n",
    "\n",
    "    print()\n",
    "    print(\"The nth Fibonacci number is\", curr)\n",
    "\n",
    "main()"
   ]
  },
  {
   "cell_type": "markdown",
   "metadata": {},
   "source": [
    "## Exercise 17"
   ]
  },
  {
   "cell_type": "markdown",
   "metadata": {},
   "source": [
    "#### My Solution"
   ]
  },
  {
   "cell_type": "code",
   "execution_count": 220,
   "metadata": {},
   "outputs": [],
   "source": [
    "\n",
    "def square_root():\n",
    "    print(\"This program will try to approximate the square root of a given value\")\n",
    "    x = float(input(\"Please enter a number: \"))\n",
    "    times = int(input(\"Please provide the number of times the program will iterate: \"))\n",
    "    \n",
    "    first_guess = x/2\n",
    "    for num in range(1,times+1):\n",
    "        next_guess = (first_guess + (x/first_guess)) / 2\n",
    "        first_guess = next_guess\n",
    "        \n",
    "    difference = next_guess - math.sqrt(x)\n",
    "    print(next_guess)\n",
    "    print('The difference b/w the approximation and actual square root is ', f\"{difference}\")\n",
    "    "
   ]
  },
  {
   "cell_type": "code",
   "execution_count": 221,
   "metadata": {},
   "outputs": [
    {
     "name": "stdout",
     "output_type": "stream",
     "text": [
      "This program will try to approximate the square root of a given value\n",
      "Please enter a number: 24\n",
      "Please provide the number of times the program will iterate: 100\n",
      "4.898979485566356\n",
      "The difference b/w the approximation and actual square root is  0.0\n"
     ]
    }
   ],
   "source": [
    "square_root()"
   ]
  },
  {
   "cell_type": "markdown",
   "metadata": {},
   "source": [
    "#### Book Solution"
   ]
  },
  {
   "cell_type": "code",
   "execution_count": 222,
   "metadata": {},
   "outputs": [
    {
     "name": "stdout",
     "output_type": "stream",
     "text": [
      "This program calculates square root using Newton's method.\n",
      "\n",
      "Enter number to find the root of: 24\n",
      "How many iterations should I use? 100\n",
      "\n",
      "Approximate square root: 4.898979485566356\n",
      "Difference from math.sqrt: 0.0\n"
     ]
    }
   ],
   "source": [
    "# c03ex17.py\n",
    "#    Square root using Newton's method.\n",
    "\n",
    "import math\n",
    "\n",
    "def main():\n",
    "    print(\"This program calculates square root using Newton's method.\")\n",
    "    print()\n",
    "\n",
    "    x = float(input(\"Enter number to find the root of: \"))\n",
    "    n = int(input(\"How many iterations should I use? \"))\n",
    "\n",
    "    guess = x / 2.0\n",
    "    for i in range(n):\n",
    "        guess = (guess + x/guess)/2.0\n",
    "\n",
    "    print()\n",
    "    print(\"Approximate square root:\", guess)\n",
    "    print(\"Difference from math.sqrt:\", math.sqrt(x) - guess)\n",
    "\n",
    "main()"
   ]
  }
 ],
 "metadata": {
  "kernelspec": {
   "display_name": "Python 3",
   "language": "python",
   "name": "python3"
  },
  "language_info": {
   "codemirror_mode": {
    "name": "ipython",
    "version": 3
   },
   "file_extension": ".py",
   "mimetype": "text/x-python",
   "name": "python",
   "nbconvert_exporter": "python",
   "pygments_lexer": "ipython3",
   "version": "3.7.3"
  }
 },
 "nbformat": 4,
 "nbformat_minor": 2
}
