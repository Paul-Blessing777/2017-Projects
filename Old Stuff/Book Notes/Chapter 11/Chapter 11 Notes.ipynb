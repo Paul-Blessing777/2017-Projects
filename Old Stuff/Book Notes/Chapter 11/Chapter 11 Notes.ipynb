{
 "cells": [
  {
   "cell_type": "markdown",
   "metadata": {},
   "source": [
    "# Chapter 11: Data Collections"
   ]
  },
  {
   "cell_type": "code",
   "execution_count": 3,
   "metadata": {},
   "outputs": [],
   "source": [
    "# Average.py from chapter 8\n",
    "def main():\n",
    "    total = 0.0\n",
    "    count = 0\n",
    "    xStr = input(\"Enter a number (<Enter> to quit) >> \")\n",
    "    while xStr != \"\":\n",
    "        x = float(xStr)\n",
    "        total += x\n",
    "        count += 1\n",
    "        xStr = input(\"Enter a number (<Enter> to quit) >> \")\n",
    "    print(f\"\\n The Average of the numbers is: {round(total/count,2)}\")"
   ]
  },
  {
   "cell_type": "code",
   "execution_count": 4,
   "metadata": {},
   "outputs": [
    {
     "name": "stdout",
     "output_type": "stream",
     "text": [
      "Enter a number (<Enter> to quit) >> 2\n",
      "Enter a number (<Enter> to quit) >> 3\n",
      "Enter a number (<Enter> to quit) >> 4\n",
      "Enter a number (<Enter> to quit) >> 2.2\n",
      "Enter a number (<Enter> to quit) >> 3\n",
      "Enter a number (<Enter> to quit) >> 4\n",
      "Enter a number (<Enter> to quit) >> 9\n",
      "Enter a number (<Enter> to quit) >> \n",
      "\n",
      " The Average of the numbers is: 3.89\n"
     ]
    }
   ],
   "source": [
    "main()"
   ]
  },
  {
   "cell_type": "markdown",
   "metadata": {},
   "source": [
    "## 11.2.1 Lists Operations"
   ]
  },
  {
   "cell_type": "markdown",
   "metadata": {},
   "source": [
    "List Operations: <br><br>\n",
    "Concatenation: seq + seq <br>\n",
    "Repitition: seq + integer Expression <br>\n",
    "Indexing: seq[index] <br>\n",
    "Length: len(seq) <br>\n",
    "Slicing: seq[:] <br>\n",
    "iteration: for variable in seq: <br>\n",
    "Membership check: expression in seq"
   ]
  },
  {
   "cell_type": "code",
   "execution_count": 6,
   "metadata": {},
   "outputs": [],
   "source": [
    "# Ex:\n",
    "lst = [1,2,3,4]"
   ]
  },
  {
   "cell_type": "code",
   "execution_count": 9,
   "metadata": {},
   "outputs": [
    {
     "name": "stdout",
     "output_type": "stream",
     "text": [
      "True\n",
      "False\n"
     ]
    }
   ],
   "source": [
    "print(3 in lst)\n",
    "print(5 in lst)"
   ]
  },
  {
   "cell_type": "code",
   "execution_count": 10,
   "metadata": {},
   "outputs": [
    {
     "data": {
      "text/plain": [
       "True"
      ]
     },
     "execution_count": 10,
     "metadata": {},
     "output_type": "execute_result"
    }
   ],
   "source": [
    "ans = 'Y'\n",
    "ans in \"Yy\""
   ]
  },
  {
   "cell_type": "code",
   "execution_count": null,
   "metadata": {},
   "outputs": [],
   "source": [
    "# This means we could rewrite our average function much simplier like so:\n",
    "total = 0\n",
    "for x in seq:\n",
    "    total += x"
   ]
  },
  {
   "cell_type": "code",
   "execution_count": 11,
   "metadata": {},
   "outputs": [
    {
     "data": {
      "text/plain": [
       "4"
      ]
     },
     "execution_count": 11,
     "metadata": {},
     "output_type": "execute_result"
    }
   ],
   "source": [
    "# You can change the values in lists\n",
    "lst = [1,2,3,4]\n",
    "lst[3]"
   ]
  },
  {
   "cell_type": "code",
   "execution_count": 12,
   "metadata": {},
   "outputs": [],
   "source": [
    "lst[3] = 'Hello'\n",
    "lst[1:3] = [\"Slice\", \"Assignment\"]"
   ]
  },
  {
   "cell_type": "code",
   "execution_count": 13,
   "metadata": {},
   "outputs": [
    {
     "data": {
      "text/plain": [
       "[1, 'Slice', 'Assignment', 'Hello']"
      ]
     },
     "execution_count": 13,
     "metadata": {},
     "output_type": "execute_result"
    }
   ],
   "source": [
    "lst"
   ]
  },
  {
   "cell_type": "code",
   "execution_count": 14,
   "metadata": {},
   "outputs": [],
   "source": [
    "# Repitition operator\n",
    "zeros = [0] * 50"
   ]
  },
  {
   "cell_type": "code",
   "execution_count": 16,
   "metadata": {},
   "outputs": [
    {
     "name": "stdout",
     "output_type": "stream",
     "text": [
      "[0, 0, 0, 0, 0, 0, 0, 0, 0, 0, 0, 0, 0, 0, 0, 0, 0, 0, 0, 0, 0, 0, 0, 0, 0, 0, 0, 0, 0, 0, 0, 0, 0, 0, 0, 0, 0, 0, 0, 0, 0, 0, 0, 0, 0, 0, 0, 0, 0, 0]\n"
     ]
    }
   ],
   "source": [
    "print(zeros)"
   ]
  },
  {
   "cell_type": "code",
   "execution_count": 19,
   "metadata": {},
   "outputs": [
    {
     "name": "stdout",
     "output_type": "stream",
     "text": [
      "Enter a number: 2\n",
      "Enter a number: 3\n",
      "Enter a number: 4\n",
      "Enter a number: -2\n",
      "[2.0, 3.0, 4.0]\n"
     ]
    }
   ],
   "source": [
    "nums = []\n",
    "x = float(input(\"Enter a number: \"))\n",
    "while x >= 0:\n",
    "    nums.append(x)\n",
    "    x = float(input(\"Enter a number: \"))\n",
    "print(nums)"
   ]
  },
  {
   "cell_type": "markdown",
   "metadata": {},
   "source": [
    "List Methods:<br><br>\n",
    ".append(x) Adds element x to end of the list<br>\n",
    ".sort() Sorts (orders) the list<br>\n",
    ".reverse() Reverses the list <br>\n",
    ".index(x) Returns index of first occurence of x <br>\n",
    ".insert(i,x) Inserts x into list at index i <br>\n",
    ".count(x) Returns the number of occurences of x in the list <br>\n",
    ".remove(x) Deletes the first occurence of x in the list <br>\n",
    ".pop(i) Deletes the i-th element of the list and returns its value."
   ]
  },
  {
   "cell_type": "code",
   "execution_count": 20,
   "metadata": {},
   "outputs": [
    {
     "name": "stdout",
     "output_type": "stream",
     "text": [
      "[1, 100, 1050]\n"
     ]
    }
   ],
   "source": [
    "# We can use the \"del\" operator to removes things from a list at a particular index\n",
    "myList = [1,77,100,1050]\n",
    "del myList[1]\n",
    "print(myList)"
   ]
  },
  {
   "cell_type": "markdown",
   "metadata": {},
   "source": [
    "#### Some Basic Principles"
   ]
  },
  {
   "cell_type": "markdown",
   "metadata": {},
   "source": [
    "A list is a sequence of items stored as a single object. <br>\n",
    "Items in a list can be accessed by indexing, and sublists can be accessed by slicing. <br>\n",
    "Lists are mutable; individual items or entire slices can be replaced through assignment statements. <br>\n",
    "Lists support a number of convenient and frequently used methods <br>\n",
    "Lists will grow and shrink as needed\n"
   ]
  },
  {
   "cell_type": "markdown",
   "metadata": {},
   "source": [
    "# 11.2.3 Statistics with Lists"
   ]
  },
  {
   "cell_type": "code",
   "execution_count": 1,
   "metadata": {},
   "outputs": [],
   "source": [
    "def getNumbers():\n",
    "    nums = []  # start with an empty list\n",
    "    \n",
    "    # Sentinel loop to get numbers\n",
    "    xStr = input(\"Enter a number (<Enter> to quit) >>\")\n",
    "    while xStr != \"\":\n",
    "        x = float(xStr)\n",
    "        nums.append(x) # add this value to the list\n",
    "        xStr = input(\"Enter a number (<Enter> to quit) >>\")\n",
    "    return nums"
   ]
  },
  {
   "cell_type": "code",
   "execution_count": 2,
   "metadata": {},
   "outputs": [
    {
     "name": "stdout",
     "output_type": "stream",
     "text": [
      "Enter a number (<Enter> to quit) >>1\n",
      "Enter a number (<Enter> to quit) >>2\n",
      "Enter a number (<Enter> to quit) >>4\n",
      "Enter a number (<Enter> to quit) >>\n"
     ]
    },
    {
     "data": {
      "text/plain": [
       "[1.0, 2.0, 4.0]"
      ]
     },
     "execution_count": 2,
     "metadata": {},
     "output_type": "execute_result"
    }
   ],
   "source": [
    "getNumbers()"
   ]
  },
  {
   "cell_type": "code",
   "execution_count": 38,
   "metadata": {},
   "outputs": [],
   "source": [
    "def mean(numbers):\n",
    "    total = sum(numbers)\n",
    "    count = len(numbers)\n",
    "    mean = total/count\n",
    "    \n",
    "    return mean\n",
    "    "
   ]
  },
  {
   "cell_type": "code",
   "execution_count": 39,
   "metadata": {},
   "outputs": [
    {
     "data": {
      "text/plain": [
       "2.0"
      ]
     },
     "execution_count": 39,
     "metadata": {},
     "output_type": "execute_result"
    }
   ],
   "source": [
    "mean([1.0,2.0,3])"
   ]
  },
  {
   "cell_type": "code",
   "execution_count": 59,
   "metadata": {},
   "outputs": [
    {
     "name": "stdout",
     "output_type": "stream",
     "text": [
      "Enter a number (<Enter> to quit) >>2\n",
      "Enter a number (<Enter> to quit) >>2\n",
      "Enter a number (<Enter> to quit) >>2.2\n",
      "Enter a number (<Enter> to quit) >>5\n",
      "Enter a number (<Enter> to quit) >>7.8\n",
      "Enter a number (<Enter> to quit) >>\n",
      "The Mean is: 3.8\n"
     ]
    }
   ],
   "source": [
    "# We can now rewrtie our function in a simpler way\n",
    "\n",
    "data = getNumbers()\n",
    "mean1 = mean(data)\n",
    "print(f\"The Mean is: {round(mean1,2)}\")"
   ]
  },
  {
   "cell_type": "code",
   "execution_count": 60,
   "metadata": {},
   "outputs": [],
   "source": [
    "import math\n",
    "def stdDev(nums,mean):\n",
    "    sumDevSq = 0.0\n",
    "    for num in nums:\n",
    "        dev = mean - num\n",
    "        sumDevSq = sumDevSq + dev * dev\n",
    "    return math.sqrt(sumDevSq/(len(nums)-1))"
   ]
  },
  {
   "cell_type": "code",
   "execution_count": 66,
   "metadata": {},
   "outputs": [
    {
     "data": {
      "text/plain": [
       "2.5729360660537215"
      ]
     },
     "execution_count": 66,
     "metadata": {},
     "output_type": "execute_result"
    }
   ],
   "source": [
    "stdDev(data,mean1)"
   ]
  },
  {
   "cell_type": "code",
   "execution_count": 67,
   "metadata": {},
   "outputs": [],
   "source": [
    "numbers = [1,2,3,4,5,6]"
   ]
  },
  {
   "cell_type": "code",
   "execution_count": 74,
   "metadata": {},
   "outputs": [],
   "source": [
    "def median(nums):\n",
    "    nums.sort()\n",
    "    size = len(nums)\n",
    "    midPos = size // 2\n",
    "    \n",
    "    if size % 2 == 0:\n",
    "        med = (nums[midPos] + nums[midPos-1]) / 2\n",
    "    else:\n",
    "        med = nums[midPos]\n",
    "    return med"
   ]
  },
  {
   "cell_type": "code",
   "execution_count": 75,
   "metadata": {},
   "outputs": [
    {
     "data": {
      "text/plain": [
       "3.5"
      ]
     },
     "execution_count": 75,
     "metadata": {},
     "output_type": "execute_result"
    }
   ],
   "source": [
    "median(numbers)"
   ]
  },
  {
   "cell_type": "code",
   "execution_count": 82,
   "metadata": {},
   "outputs": [],
   "source": [
    "def main():\n",
    "    print(\"This program will calculate the mean, standard deviation and median ofa given number set\")\n",
    "    \n",
    "    data = getNumbers()\n",
    "    data_mean = mean(data)\n",
    "    stdv = stdDev(data,data_mean)\n",
    "    data_median = median(data)\n",
    "    \n",
    "    print(f\"The mean is {data_mean}, the standard Deviation: {round(stdv,2)} and the median {data_median}\")"
   ]
  },
  {
   "cell_type": "code",
   "execution_count": 83,
   "metadata": {},
   "outputs": [
    {
     "name": "stdout",
     "output_type": "stream",
     "text": [
      "This program will calculate the mean, standard deviation and median ofa given number set\n",
      "Enter a number (<Enter> to quit) >>1\n",
      "Enter a number (<Enter> to quit) >>2\n",
      "Enter a number (<Enter> to quit) >>3\n",
      "Enter a number (<Enter> to quit) >>\n",
      "The mean is 2.0, the standard Deviation: 1.0 and the median 2.0\n"
     ]
    }
   ],
   "source": [
    "main()"
   ]
  },
  {
   "cell_type": "markdown",
   "metadata": {},
   "source": [
    "## 11.3 Lists as Records"
   ]
  },
  {
   "cell_type": "code",
   "execution_count": 86,
   "metadata": {},
   "outputs": [],
   "source": [
    "from gpa import Student, makeStudent\n",
    "\n",
    "def readStudents(fileName):\n",
    "    infile = open(fileName, 'r')\n",
    "    students = []\n",
    "    for line in infile:\n",
    "        students.append(makeStudent(line))\n",
    "    infile.close()\n",
    "    return students\n",
    "\n",
    "def writeStudents(students,fileName):\n",
    "    outFile = open(fileName, 'w')\n",
    "    \n",
    "    for s in students:\n",
    "        print(f\"{s.getName()}\\t{s.getHours()},\\t{s.getQPoints()}\", file = outFile)\n",
    "    outFile.close()\n",
    "    \n",
    "def main():\n",
    "    print(\"This program sorts student grade information by GPA\")\n",
    "    fileName = 'students.txt'\n",
    "    data = readStudents(fileName)\n",
    "    data.sort(key=Student.gpa)\n",
    "    outputFile = 'output.txt'\n",
    "    writeStudents(data, outputFile)\n",
    "    print(\"The data has been written to\", outputFile)\n"
   ]
  },
  {
   "cell_type": "code",
   "execution_count": 87,
   "metadata": {},
   "outputs": [
    {
     "name": "stdout",
     "output_type": "stream",
     "text": [
      "This program sorts student grade information by GPA\n",
      "The data has been written to output.txt\n"
     ]
    }
   ],
   "source": [
    "main()"
   ]
  },
  {
   "cell_type": "markdown",
   "metadata": {},
   "source": [
    "## 11.4 Designing with Lists and Classes "
   ]
  },
  {
   "cell_type": "markdown",
   "metadata": {},
   "source": [
    "When we made the dieView class we made each pip individually like below"
   ]
  },
  {
   "cell_type": "code",
   "execution_count": 88,
   "metadata": {},
   "outputs": [],
   "source": [
    "#self.pip1 = self.__makePip(cx-offset, cy-offset)\n",
    "#self.pip2 = self.__makePip(cx-offset, cy)\n",
    "#self.pip3 = self....."
   ]
  },
  {
   "cell_type": "markdown",
   "metadata": {},
   "source": [
    "However, a potentially better way of doing this invloves using lists like below"
   ]
  },
  {
   "cell_type": "code",
   "execution_count": null,
   "metadata": {},
   "outputs": [],
   "source": [
    " # Create 7 circles for standard pip locations\n",
    "self.pips = [ self.__makePip(cx-offset, cy-offset),\n",
    "              self.__makePip(cx-offset, cy),\n",
    "              self.__makePip(cx-offset, cy+offset),\n",
    "              self.__makePip(cx, cy),\n",
    "              self.__makePip(cx+offset, cy-offset),\n",
    "              self.__makePip(cx+offset, cy),\n",
    "              self.__makePip(cx+offset, cy+offset) ]"
   ]
  },
  {
   "cell_type": "markdown",
   "metadata": {},
   "source": [
    "With this setup we could do things like:"
   ]
  },
  {
   "cell_type": "code",
   "execution_count": null,
   "metadata": {},
   "outputs": [],
   "source": [
    "for pip in self.pips:\n",
    "    pip.setFill(self.background) \n",
    "# This would change the background color for everything quite easily."
   ]
  },
  {
   "cell_type": "code",
   "execution_count": 92,
   "metadata": {},
   "outputs": [],
   "source": [
    "# Now we can also reference any one of the list enteries using indexing\n",
    "self.pips[0].setFill(self.foreground)\n",
    "self.pips[1].setFill(self.foreground)\n",
    "self.pips[2].setFill(self.foreground)\n",
    "\n",
    "# Below is a better way to do the same thing\n",
    "for i in [0, 3, 6]:\n",
    "    self.pips[i].setFill(self.background)"
   ]
  },
  {
   "cell_type": "code",
   "execution_count": 99,
   "metadata": {},
   "outputs": [],
   "source": [
    "# dieview2.py\n",
    "from graphics import *\n",
    "class DieView:\n",
    "    \"\"\" DieView is a widget that displays a graphical\n",
    "    representation of a standard six-sided die.\"\"\"\n",
    "    \n",
    "    def __init__(self, win, center, size):\n",
    "        \"\"\"Create a view of a die, e.g.:\n",
    "           d1 = GDie(myWin, Point(40,50), 20)\n",
    "        creates a die centered at (40,50) having sides\n",
    "        of length 20.\"\"\"\n",
    "\n",
    "        # first define some standard values\n",
    "        self.win = win\n",
    "        self.background = \"white\" # color of die face\n",
    "        self.foreground = \"black\" # color of the pips\n",
    "        self.psize = 0.1 * size   # radius of each pip\n",
    "        hsize = size / 2.0        # half of size\n",
    "        offset = 0.6 * hsize      # distance from center to outer pips\n",
    "\n",
    "        # create a square for the face\n",
    "        cx, cy = center.getX(), center.getY()\n",
    "        p1 = Point(cx-hsize, cy-hsize)\n",
    "        p2 = Point(cx+hsize, cy+hsize)\n",
    "        rect = Rectangle(p1,p2)\n",
    "        rect.draw(win)\n",
    "        rect.setFill(self.background)\n",
    "\n",
    "        # Create 7 circles for standard pip locations\n",
    "        self.pips = [ self.__makePip(cx-offset, cy-offset),\n",
    "                      self.__makePip(cx-offset, cy),\n",
    "                      self.__makePip(cx-offset, cy+offset),\n",
    "                      self.__makePip(cx, cy),\n",
    "                      self.__makePip(cx+offset, cy-offset),\n",
    "                      self.__makePip(cx+offset, cy),\n",
    "                      self.__makePip(cx+offset, cy+offset) ]\n",
    "\n",
    "        # Create a table for which pips are on for each value \n",
    "        self.onTable = [ [], [3], [2,4], [2,3,4], \n",
    "            [0,2,4,6], [0,2,3,4,6], [0,1,2,4,5,6] ]\n",
    "\n",
    "        self.setValue(1)\n",
    "\n",
    "    def __makePip(self, x, y):\n",
    "        \"\"\"Internal helper method to draw a pip at (x,y)\"\"\"\n",
    "        pip = Circle(Point(x,y), self.psize)\n",
    "        pip.setFill(self.background)\n",
    "        pip.setOutline(self.background)\n",
    "        pip.draw(self.win)\n",
    "        return pip\n",
    "\n",
    "    def setValue(self, value):\n",
    "        \"\"\" Set this die to display value.\"\"\"\n",
    "        # Turn all the pips off\n",
    "        for pip in self.pips:\n",
    "            pip.setFill(self.background)\n",
    "\n",
    "        # Turn the appropriate pips back on\n",
    "        for i in self.onTable[value]:\n",
    "            self.pips[i].setFill(self.foreground)"
   ]
  },
  {
   "cell_type": "code",
   "execution_count": 103,
   "metadata": {},
   "outputs": [],
   "source": [
    "myWin = GraphWin(\"Yes\",500,500)\n",
    "die = DieView(myWin, Point(40,50), 2)"
   ]
  },
  {
   "cell_type": "markdown",
   "metadata": {},
   "source": [
    "## 11.5 Case Study: Python Calculator"
   ]
  },
  {
   "cell_type": "markdown",
   "metadata": {},
   "source": [
    "We will create a calculator to implement some of these ideas"
   ]
  },
  {
   "cell_type": "markdown",
   "metadata": {},
   "source": [
    "### 11.5.2 Constructing the Interface"
   ]
  },
  {
   "cell_type": "code",
   "execution_count": null,
   "metadata": {},
   "outputs": [],
   "source": [
    "class Calculator:\n",
    "    \n",
    "    def __init__(self):\n",
    "        # Create the window for the calculator\n",
    "        win = GraphWin(\"Calculator\")\n",
    "        win.setcoords(0,0,6,7)\n",
    "        win.setBackground(\"slategray\")\n",
    "        self.win = win\n",
    "        \n",
    "    def __createButtons(self):\n",
    "        # create list of buttons\n",
    "        # start with all the standard sized buttons\n",
    "        # bSpecs gives center coords and label of buttons\n",
    "        bSpecs = [(2,1,'0'), (3,1,'.'),\n",
    "                  (1,2,'1'), (2,2,'2'), (3,2,'3'), (4,2,'+'), (5,2,'-'),\n",
    "                  (1,3,'4'), (2,3,'5'), (3,3,'6'), (4,3,'*'), (5,3,'/'),\n",
    "                  (1,4,'7'), (2,4,'8'), (3,4,'9'), (4,4,'<-'),(5,4,'C')]\n",
    "        self.buttons = []\n",
    "        for (cx,cy,label) in bSpecs:\n",
    "            self.buttons.append(Button(self.win,Point(cx,cy),.75,.75,label))\n",
    "        # create the larger = button\n",
    "        self.buttons.append(Button(self.win, Point(4.5,1), 1.75, .75, \"=\"))\n",
    "        # activate all buttons\n",
    "        for b in self.buttons:\n",
    "            b.activate()\n",
    "            \n",
    "    def __createDisplay(self):\n",
    "        bg = Rectangle(Point(.5,5.5), Point(5.5,6.5))\n",
    "        bg.setFill('white')\n",
    "        bg.draw(self.win)\n",
    "        text = Text(Point(3,6), \"\")\n",
    "        text.draw(self.win)\n",
    "        text.setFace(\"courier\")\n",
    "        text.setStyle(\"bold\")\n",
    "        text.setSize(16)\n",
    "        self.display = text"
   ]
  },
  {
   "cell_type": "markdown",
   "metadata": {},
   "source": [
    "### 11.5.3 Processing Buttons"
   ]
  },
  {
   "cell_type": "code",
   "execution_count": null,
   "metadata": {},
   "outputs": [],
   "source": []
  }
 ],
 "metadata": {
  "kernelspec": {
   "display_name": "Python 3",
   "language": "python",
   "name": "python3"
  },
  "language_info": {
   "codemirror_mode": {
    "name": "ipython",
    "version": 3
   },
   "file_extension": ".py",
   "mimetype": "text/x-python",
   "name": "python",
   "nbconvert_exporter": "python",
   "pygments_lexer": "ipython3",
   "version": "3.7.3"
  }
 },
 "nbformat": 4,
 "nbformat_minor": 2
}
