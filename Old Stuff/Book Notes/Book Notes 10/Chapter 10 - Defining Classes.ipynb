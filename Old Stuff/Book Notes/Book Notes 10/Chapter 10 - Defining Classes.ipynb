{
 "cells": [
  {
   "cell_type": "markdown",
   "metadata": {},
   "source": [
    "# 10.1 Quick Review of Objects"
   ]
  },
  {
   "cell_type": "markdown",
   "metadata": {},
   "source": [
    "Objects consist of: <br>\n",
    "1. A collection of related information <br>\n",
    "2. A set of operations to manipulate that information. <br>"
   ]
  },
  {
   "cell_type": "markdown",
   "metadata": {},
   "source": [
    "The information is stored inside the object in instance variables. THe operations, called methods, are functions that 'live' inside the object. Collectively, the instance variables and methods are called the attributes of an object."
   ]
  },
  {
   "cell_type": "markdown",
   "metadata": {},
   "source": [
    "EX: a Circle object (from graphics) will have instance variables such as \"center\", which remembers the center point of the circle, and \"radius\" which stores the length of the circles radius. THe methods of the circle will need this data to perform actions. The draw method examines the center and radius to decide which pixels in a window should be colored. THe \"move\" method will change the value of the center to reflect the new position of the circle. <br><br>\n",
    "Every object is said to be an instance of some class. The class of the object determines what attributes the object will have. Basically, a class is a description of what its instances will know and do. New objects are created from a class by invoking a \"constructor.\" You can think of the class itself as a sort of factory for creating new instances. <br><br>\n",
    "Consider the making of a new circle object: myCircle = Circle(Point(0,0),20)<br>\n",
    "Circle the name of the class, is used to invoke the constructor. This statement creates a new Circle instance and stores a reference to it in the variable \"myCircle\". The parameters to the constructor are used to initalize some of the instance variables (namely center and radius) inside myCircle. Once the instance has been created, it is maipulated by calling on its methods: <br><br>\n",
    "myCircle.draw(win), myCircle.move(dx,dy)"
   ]
  },
  {
   "cell_type": "markdown",
   "metadata": {},
   "source": [
    "# 10.2 Example Program: Cannonball"
   ]
  },
  {
   "cell_type": "markdown",
   "metadata": {},
   "source": [
    "Here we will examine how helpful classes can be."
   ]
  },
  {
   "cell_type": "code",
   "execution_count": 7,
   "metadata": {},
   "outputs": [],
   "source": [
    "import math\n",
    "def cannonball():\n",
    "    angle = float(input(\"Enter the launch angle (in degrees): \"))\n",
    "    vel = float(input(\"Enter the initial velocity (in meters/sec): \"))\n",
    "    h0 = float(input(\"Enter the initial height (in meters): \"))\n",
    "    time = float(input(\"Enter the time intervals b/w position calculations: \"))\n",
    "    \n",
    "    # Set the inital x-distance and y-height variables\n",
    "    xpos = 0\n",
    "    ypos = h0 # initally the height is the cannon's angle\n",
    "    \n",
    "    # Three formulas give the initial velocities\n",
    "    \n",
    "    # Convert angle to radians\n",
    "    theta = math.radians(angle)\n",
    "    \n",
    "    xvel = vel * math.cos(theta)\n",
    "    yvel = vel * math.sin(theta)\n",
    "    \n",
    "    # We will run the loop until the cannon ball hits the ground i.e. 0\n",
    "    while ypos >= 0:\n",
    "        xpos = xpos + time * xvel\n",
    "        # The y velocity will change as gravity pulls the cannonball down towards earth\n",
    "        yvel1 = yvel - time * 9.8\n",
    "        ypos = ypos + time * (yvel + yvel1)/ 2\n",
    "        yvel = yvel1\n",
    "        \n",
    "    print(f\"\\nDistance travled: {round(xpos,2)} meters\")\n",
    "        "
   ]
  },
  {
   "cell_type": "code",
   "execution_count": 8,
   "metadata": {},
   "outputs": [
    {
     "name": "stdout",
     "output_type": "stream",
     "text": [
      "Enter the launch angle (in degrees): 30\n",
      "Enter the initial velocity (in meters/sec): 10\n",
      "Enter the initial height (in meters): 1\n",
      "Enter the time intervals b/w position calculations: 10\n",
      "\n",
      "Distance travled: 86.6 meters\n"
     ]
    }
   ],
   "source": [
    "cannonball()"
   ]
  },
  {
   "cell_type": "markdown",
   "metadata": {},
   "source": [
    "### 10.2.3 Modularizing the Program"
   ]
  },
  {
   "cell_type": "code",
   "execution_count": 15,
   "metadata": {},
   "outputs": [],
   "source": [
    "def main():\n",
    "    angle, vel, h0, time = getInputs()\n",
    "    xpos, ypos = 0, h0\n",
    "    xvel, yvel = getXYComponents(vel, angle)\n",
    "    while ypos >= 0:\n",
    "        xpos, ypos, yvel = updateCannonBall(time, xpos, ypos, xvel, yvel)\n",
    "    print(f\"\\nDistance travled: {round(xpos,2)} meters\")"
   ]
  },
  {
   "cell_type": "code",
   "execution_count": 17,
   "metadata": {},
   "outputs": [],
   "source": [
    "def getInputs():\n",
    "    angle = float(input(\"Enter the launch angle (in degrees): \"))\n",
    "    vel = float(input(\"Enter the initial velocity (in meters/sec): \"))\n",
    "    h0 = float(input(\"Enter the initial height (in meters): \"))\n",
    "    time = float(input(\"Enter the time intervals b/w position calculations: \"))\n",
    "    \n",
    "    return angle, vel, h0, time\n",
    "    "
   ]
  },
  {
   "cell_type": "code",
   "execution_count": 18,
   "metadata": {},
   "outputs": [],
   "source": [
    "def getXYComponents(vel,angle):\n",
    "    \n",
    "    # Convert angle to radians\n",
    "    theta = math.radians(angle)\n",
    "    \n",
    "    # Get xvel and yvel\n",
    "    xvel = vel * math.cos(theta)\n",
    "    yvel = vel * math.sin(theta)\n",
    "    \n",
    "    return xvel, yvel\n",
    "    "
   ]
  },
  {
   "cell_type": "code",
   "execution_count": 19,
   "metadata": {},
   "outputs": [],
   "source": [
    "def updateCannonBall(time, xpos, ypos, xvel, yvel):\n",
    "    xpos = xpos + time * xvel\n",
    "    # The y velocity will change as gravity pulls the cannonball down towards earth\n",
    "    yvel1 = yvel - time * 9.8\n",
    "    ypos = ypos + time * (yvel + yvel1)/ 2\n",
    "    yvel = yvel1\n",
    "    \n",
    "    return xpos, ypos, yvel"
   ]
  },
  {
   "cell_type": "code",
   "execution_count": 20,
   "metadata": {},
   "outputs": [
    {
     "name": "stdout",
     "output_type": "stream",
     "text": [
      "Enter the launch angle (in degrees): 30\n",
      "Enter the initial velocity (in meters/sec): 10\n",
      "Enter the initial height (in meters): 1\n",
      "Enter the time intervals b/w position calculations: 10\n",
      "\n",
      "Distance travled: 86.6 meters\n"
     ]
    }
   ],
   "source": [
    "main()"
   ]
  },
  {
   "cell_type": "markdown",
   "metadata": {},
   "source": [
    "These funtions are still a bit clunky. Let's look at how making a class called Projectiles that understands physics objects could make this much easier."
   ]
  },
  {
   "cell_type": "code",
   "execution_count": 21,
   "metadata": {},
   "outputs": [],
   "source": [
    "def main():\n",
    "    angle, vel, h0, time = getInputs()\n",
    "    cball = Projectile(angle,vel,h0)\n",
    "    while cball.getY() >= 0:\n",
    "        cball.update(time)\n",
    "    print(f\"\\nDistance travled: {round(xpos,2)} meters\")"
   ]
  },
  {
   "cell_type": "markdown",
   "metadata": {},
   "source": [
    "# 10.3 Defining New Classes"
   ]
  },
  {
   "cell_type": "markdown",
   "metadata": {},
   "source": [
    "Before desiging a projectile class, let's take an even simpler example to examine the basic ideas."
   ]
  },
  {
   "cell_type": "code",
   "execution_count": 22,
   "metadata": {},
   "outputs": [],
   "source": [
    "# We will create a die class\n",
    "from random import randrange\n",
    "\n",
    "class MSDie:\n",
    "    \n",
    "    # This is the method for creating a new instance of the MSDie class\n",
    "    def __init__(self,sides):\n",
    "        # these are the instance variables for the MSDie class: sides, and value.\n",
    "        self.sides = sides\n",
    "        self.value = 1\n",
    "        \n",
    "    # These are internal functions for MSDie objects. They are called 'Methods'\n",
    "    # For every method you will need to place 'self' first, like below.\n",
    "    def roll(self):\n",
    "        self.value = randrange(1,self.sides+1)\n",
    "        \n",
    "    def getValue(self):\n",
    "        return self.value\n",
    "    \n",
    "    def setValue(self,value):\n",
    "        self.value = value"
   ]
  },
  {
   "cell_type": "code",
   "execution_count": 23,
   "metadata": {},
   "outputs": [],
   "source": [
    "die1 = MSDie(6)"
   ]
  },
  {
   "cell_type": "code",
   "execution_count": 25,
   "metadata": {},
   "outputs": [
    {
     "data": {
      "text/plain": [
       "5"
      ]
     },
     "execution_count": 25,
     "metadata": {},
     "output_type": "execute_result"
    }
   ],
   "source": [
    "die1.roll()\n",
    "die1.getValue()"
   ]
  },
  {
   "cell_type": "code",
   "execution_count": 26,
   "metadata": {},
   "outputs": [
    {
     "data": {
      "text/plain": [
       "22"
      ]
     },
     "execution_count": 26,
     "metadata": {},
     "output_type": "execute_result"
    }
   ],
   "source": [
    "die1.setValue(22)\n",
    "die1.getValue()"
   ]
  },
  {
   "cell_type": "markdown",
   "metadata": {},
   "source": [
    "### 10.3.2 The Projectile Class"
   ]
  },
  {
   "cell_type": "markdown",
   "metadata": {},
   "source": [
    "Now we will build the projectile class"
   ]
  },
  {
   "cell_type": "code",
   "execution_count": 36,
   "metadata": {},
   "outputs": [],
   "source": [
    "import math\n",
    "\n",
    "class Projectile:\n",
    "    \n",
    "    def __init__(self, angle, velocity, height):\n",
    "        self.xpos = 0.0\n",
    "        self.ypos = height\n",
    "        theta = math.radians(angle)\n",
    "        self.xvel = velocity * math.cos(theta)\n",
    "        self.yvel = velocity * math.sin(theta)\n",
    "        \n",
    "    def getX(self):\n",
    "            return self.xpos\n",
    "        \n",
    "    def getY(self):\n",
    "            return self.ypos\n",
    "        \n",
    "    def update(self, time):\n",
    "            self.xpos = self.xpos + time * self.xvel\n",
    "            yvel1 = self.yvel - time * 9.8\n",
    "            self.ypos = self.ypos + time * (self.yvel + yvel1) / 2.0\n",
    "            self.yvel = yvel1\n",
    "        "
   ]
  },
  {
   "cell_type": "code",
   "execution_count": 37,
   "metadata": {},
   "outputs": [],
   "source": [
    "def getInputs():\n",
    "    angle = float(input(\"Enter the launch angle (in degrees): \"))\n",
    "    vel = float(input(\"Enter the initial velocity (in meters/sec): \"))\n",
    "    h0 = float(input(\"Enter the initial height (in meters): \"))\n",
    "    time = float(input(\"Enter the time intervals b/w position calculations: \"))\n",
    "    \n",
    "    return angle, vel, h0, time\n",
    "\n",
    "def main():\n",
    "    angle,vel, h0, time = getInputs()\n",
    "    cball = Projectile(angle,vel,h0)\n",
    "    while cball.getY() >= 0:\n",
    "        cball.update(time)\n",
    "    print(f\"\\nDistance travled: {round(cball.getX(),2)} meters\")"
   ]
  },
  {
   "cell_type": "code",
   "execution_count": 38,
   "metadata": {},
   "outputs": [
    {
     "name": "stdout",
     "output_type": "stream",
     "text": [
      "Enter the launch angle (in degrees): 30\n",
      "Enter the initial velocity (in meters/sec): 10\n",
      "Enter the initial height (in meters): 1\n",
      "Enter the time intervals b/w position calculations: 10\n",
      "\n",
      "Distance travled: 86.6 meters\n"
     ]
    }
   ],
   "source": [
    "main()"
   ]
  },
  {
   "cell_type": "markdown",
   "metadata": {},
   "source": [
    "# 10.4 Data Processing with Class"
   ]
  },
  {
   "cell_type": "markdown",
   "metadata": {},
   "source": [
    "Sometimes we may also uses classes to keep records of information. Like a student. We would have a student class and the student would have attributes like GPA and class attendance."
   ]
  },
  {
   "cell_type": "code",
   "execution_count": 40,
   "metadata": {},
   "outputs": [],
   "source": [
    "class Student:\n",
    "    def __init__(self,name,hours,qpoints):\n",
    "        self.name = name\n",
    "        self.hours = float(hours)\n",
    "        self.qpoints = float(qpoints)\n",
    "        "
   ]
  },
  {
   "cell_type": "code",
   "execution_count": 42,
   "metadata": {},
   "outputs": [],
   "source": [
    "student1 = Student('John Bill',15,18)"
   ]
  },
  {
   "cell_type": "code",
   "execution_count": 44,
   "metadata": {},
   "outputs": [
    {
     "data": {
      "text/plain": [
       "<__main__.Student at 0x28902fdd7f0>"
      ]
     },
     "execution_count": 44,
     "metadata": {},
     "output_type": "execute_result"
    }
   ],
   "source": [
    "student1 # Confirm student is now a variable held in memory"
   ]
  },
  {
   "cell_type": "code",
   "execution_count": 45,
   "metadata": {},
   "outputs": [],
   "source": [
    "# Now lets create some methods for this student class\n",
    "class Student:\n",
    "    def __init__(self,name,hours,qpoints):\n",
    "        self.name = name\n",
    "        self.hours = float(hours)\n",
    "        self.qpoints = float(qpoints)\n",
    "        \n",
    "    # These are called accessor methods as they give us information about our class object's attributes\n",
    "    def getName(self):\n",
    "        return self.name\n",
    "    \n",
    "    def getHours(self):\n",
    "        return self.hours\n",
    "    \n",
    "    def getQpoints(self):\n",
    "        return self.qpoints"
   ]
  },
  {
   "cell_type": "code",
   "execution_count": 46,
   "metadata": {},
   "outputs": [],
   "source": [
    "student1 = Student(\"John Bill\",15,22)"
   ]
  },
  {
   "cell_type": "code",
   "execution_count": 51,
   "metadata": {},
   "outputs": [
    {
     "name": "stdout",
     "output_type": "stream",
     "text": [
      "John Bill\n",
      "15.0\n",
      "22.0\n"
     ]
    }
   ],
   "source": [
    "print(student1.getName())\n",
    "print(student1.getHours())\n",
    "print(student1.getQpoints())"
   ]
  },
  {
   "cell_type": "code",
   "execution_count": 56,
   "metadata": {},
   "outputs": [],
   "source": [
    "# Now we will add a method for calculating and returning a student's GPA\n",
    "class Student:\n",
    "    def __init__(self,name,hours,qpoints):\n",
    "        self.name = name\n",
    "        self.hours = float(hours)\n",
    "        self.qpoints = float(qpoints)\n",
    "        \n",
    "    # These are called accessor methods as they give us information about our class object's attributes\n",
    "    def getName(self):\n",
    "        return self.name\n",
    "    \n",
    "    def getHours(self):\n",
    "        return self.hours\n",
    "    \n",
    "    def getQpoints(self):\n",
    "        return self.qpoints\n",
    "    \n",
    "    def gpa(self):\n",
    "        return round(self.qpoints / self.hours,2)"
   ]
  },
  {
   "cell_type": "code",
   "execution_count": 57,
   "metadata": {},
   "outputs": [],
   "source": [
    "student1 = Student('Johnny Billy',15, 25)"
   ]
  },
  {
   "cell_type": "code",
   "execution_count": 58,
   "metadata": {},
   "outputs": [
    {
     "data": {
      "text/plain": [
       "'Johnny Billy'"
      ]
     },
     "execution_count": 58,
     "metadata": {},
     "output_type": "execute_result"
    }
   ],
   "source": [
    "student1.getName()"
   ]
  },
  {
   "cell_type": "code",
   "execution_count": 59,
   "metadata": {},
   "outputs": [
    {
     "data": {
      "text/plain": [
       "1.67"
      ]
     },
     "execution_count": 59,
     "metadata": {},
     "output_type": "execute_result"
    }
   ],
   "source": [
    "student1.gpa()"
   ]
  },
  {
   "cell_type": "markdown",
   "metadata": {},
   "source": [
    "#### We will make a program to calculate the best gpa among students"
   ]
  },
  {
   "cell_type": "code",
   "execution_count": 72,
   "metadata": {},
   "outputs": [],
   "source": [
    "def makeStudent(infoStr):\n",
    "    # infoStr is a tab-separated line: name hours qpoints\n",
    "    # returns a corresponding Student object\n",
    "    name,hours,qpoints = infoStr.split(\"\\t\")\n",
    "    return Student(name,hours,qpoints)"
   ]
  },
  {
   "cell_type": "code",
   "execution_count": 91,
   "metadata": {},
   "outputs": [
    {
     "name": "stdout",
     "output_type": "stream",
     "text": [
      "The best student is: Murray, Bill\n",
      "hours: 100.0\n",
      "GPA: 4.0\n"
     ]
    }
   ],
   "source": [
    "# From the book\n",
    "def main():\n",
    "    # open the input file for reading\n",
    "    filename = 'student.txt'\n",
    "    infile = open(filename, 'r')\n",
    "\n",
    "    # set best to the record for the first student in the file\n",
    "    best = makeStudent(infile.readline())\n",
    "\n",
    "    # process subsequent lines of the file\n",
    "    for line in infile:\n",
    "        # turn the line into a student record\n",
    "        s = makeStudent(line)\n",
    "        # if this student is best so far, remember it.\n",
    "        if s.gpa() > best.gpa():\n",
    "            best = s\n",
    "\n",
    "    infile.close()\n",
    "\n",
    "    # print information about the best student\n",
    "    print(\"The best student is:\", best.getName())\n",
    "    print(\"hours:\", best.getHours())\n",
    "    print(\"GPA:\", best.gpa())\n",
    "\n",
    "if __name__ == '__main__':\n",
    "    main()"
   ]
  },
  {
   "cell_type": "markdown",
   "metadata": {},
   "source": [
    "### The book points out that this program will only take the first student with the highest score, if two students have the same score it will only accept the first."
   ]
  },
  {
   "cell_type": "markdown",
   "metadata": {},
   "source": [
    "### Below is my solution to handle multiple students with the same high score"
   ]
  },
  {
   "cell_type": "code",
   "execution_count": 92,
   "metadata": {},
   "outputs": [],
   "source": [
    "def main():\n",
    "    #open the input file for reading\n",
    "    filename = 'student.txt'\n",
    "    infile = open(filename, 'r')\n",
    "    \n",
    "    # set best to the record for the first student in the file\n",
    "    best = makeStudent(infile.readline())\n",
    "    \n",
    "    # make a counter\n",
    "    counter = 0\n",
    "    nameList = []\n",
    "    hoursList = []\n",
    "    gpaList = []\n",
    "    \n",
    "    # process subsequent lines of the file\n",
    "    for line in infile:\n",
    "        # turn the line into a student record\n",
    "        s = makeStudent(line)\n",
    "        # if this student is the best so far, remember it\n",
    "        nameList.append(s.getName())\n",
    "        hoursList.append(s.getHours())\n",
    "        gpaList.append(s.gpa())\n",
    "            \n",
    "            \n",
    "    infile.close()\n",
    "    \n",
    "    best = max(gpaList)\n",
    "    bestName = []\n",
    "    bestHours = []\n",
    "    bestGpa = []\n",
    "    \n",
    "    for i in nameList:\n",
    "        if gpaList[0+counter] == best:\n",
    "            bestName.append(nameList[0+counter])\n",
    "            bestHours.append(hoursList[0+counter])\n",
    "            bestGpa.append(gpaList[0+counter])\n",
    "        counter += 1\n",
    "        \n",
    "    \n",
    "    # print info about the best student\n",
    "    print(f\"The best student(s) where {bestName}\")\n",
    "    print(f\"Their hours were {bestHours}\")\n",
    "    print(f\"Their GPA was {bestGpa}\")"
   ]
  },
  {
   "cell_type": "code",
   "execution_count": 93,
   "metadata": {},
   "outputs": [
    {
     "name": "stdout",
     "output_type": "stream",
     "text": [
      "The best student(s) where ['Murray, Bill', 'Computewell, Susan']\n",
      "Their hours were [100.0, 100.0]\n",
      "Their GPA was [4.0, 4.0]\n"
     ]
    }
   ],
   "source": [
    "main()"
   ]
  },
  {
   "cell_type": "markdown",
   "metadata": {},
   "source": [
    "# 10.5 Objects and Encapsulation"
   ]
  },
  {
   "cell_type": "markdown",
   "metadata": {},
   "source": [
    "Encapsulation: The implementation details of an object are encapsulated in the class definition, which insulates the rest of the program from having to deal with them. This is another application of abstraction (ignoring irrelvant details), which is the essence of good design."
   ]
  },
  {
   "cell_type": "code",
   "execution_count": 95,
   "metadata": {},
   "outputs": [
    {
     "data": {
      "text/plain": [
       "'Johnny Billy'"
      ]
     },
     "execution_count": 95,
     "metadata": {},
     "output_type": "execute_result"
    }
   ],
   "source": [
    "# Turns out you dont actually need the accessor methods we created earlier for the student class.\n",
    "# You can simply use student.attribute to return the attribute like below\n",
    "student1.name"
   ]
  },
  {
   "cell_type": "markdown",
   "metadata": {},
   "source": [
    "But we still like to make those methods to make things a bit clearer"
   ]
  },
  {
   "cell_type": "markdown",
   "metadata": {},
   "source": [
    "## 10.5.2 Putting Classes in Modules"
   ]
  },
  {
   "cell_type": "markdown",
   "metadata": {},
   "source": [
    "Often a well-defined class or set of classes provide useful abstractions that can be leveraged in many different programs. It's important that we provide good documentation within these class definitions to make their use simpler for others."
   ]
  },
  {
   "cell_type": "markdown",
   "metadata": {},
   "source": [
    "## 10.5.3"
   ]
  },
  {
   "cell_type": "code",
   "execution_count": 99,
   "metadata": {},
   "outputs": [
    {
     "name": "stdout",
     "output_type": "stream",
     "text": [
      "random() -> x in the interval [0, 1).\n",
      "0.46273950926558627\n"
     ]
    }
   ],
   "source": [
    "# Python provides a special way of documenting things called a \"docString\". These are important as they are actually\n",
    "# Saved by python unlike comments. In fact let's look at an example below.\n",
    "import random\n",
    "print(random.random.__doc__)\n",
    "print(random.random()) # Simply to illustrate what random typically does"
   ]
  },
  {
   "cell_type": "markdown",
   "metadata": {},
   "source": [
    "Docstrings are also sued by the Python online help system by a utility called pydoc thata automatically builds documentation for Python modules. You could get the same info using interactive help like this."
   ]
  },
  {
   "cell_type": "code",
   "execution_count": 100,
   "metadata": {},
   "outputs": [
    {
     "name": "stdout",
     "output_type": "stream",
     "text": [
      "Help on built-in function random:\n",
      "\n",
      "random(...) method of random.Random instance\n",
      "    random() -> x in the interval [0, 1).\n",
      "\n"
     ]
    }
   ],
   "source": [
    "help(random.random)"
   ]
  },
  {
   "cell_type": "code",
   "execution_count": 101,
   "metadata": {},
   "outputs": [
    {
     "name": "stdout",
     "output_type": "stream",
     "text": [
      "Help on module random:\n",
      "\n",
      "NAME\n",
      "    random - Random variable generators.\n",
      "\n",
      "DESCRIPTION\n",
      "        integers\n",
      "        --------\n",
      "               uniform within range\n",
      "    \n",
      "        sequences\n",
      "        ---------\n",
      "               pick random element\n",
      "               pick random sample\n",
      "               pick weighted random sample\n",
      "               generate random permutation\n",
      "    \n",
      "        distributions on the real line:\n",
      "        ------------------------------\n",
      "               uniform\n",
      "               triangular\n",
      "               normal (Gaussian)\n",
      "               lognormal\n",
      "               negative exponential\n",
      "               gamma\n",
      "               beta\n",
      "               pareto\n",
      "               Weibull\n",
      "    \n",
      "        distributions on the circle (angles 0 to 2pi)\n",
      "        ---------------------------------------------\n",
      "               circular uniform\n",
      "               von Mises\n",
      "    \n",
      "    General notes on the underlying Mersenne Twister core generator:\n",
      "    \n",
      "    * The period is 2**19937-1.\n",
      "    * It is one of the most extensively tested generators in existence.\n",
      "    * The random() method is implemented in C, executes in a single Python step,\n",
      "      and is, therefore, threadsafe.\n",
      "\n",
      "CLASSES\n",
      "    _random.Random(builtins.object)\n",
      "        Random\n",
      "            SystemRandom\n",
      "    \n",
      "    class Random(_random.Random)\n",
      "     |  Random(x=None)\n",
      "     |  \n",
      "     |  Random number generator base class used by bound module functions.\n",
      "     |  \n",
      "     |  Used to instantiate instances of Random to get generators that don't\n",
      "     |  share state.\n",
      "     |  \n",
      "     |  Class Random can also be subclassed if you want to use a different basic\n",
      "     |  generator of your own devising: in that case, override the following\n",
      "     |  methods:  random(), seed(), getstate(), and setstate().\n",
      "     |  Optionally, implement a getrandbits() method so that randrange()\n",
      "     |  can cover arbitrarily large ranges.\n",
      "     |  \n",
      "     |  Method resolution order:\n",
      "     |      Random\n",
      "     |      _random.Random\n",
      "     |      builtins.object\n",
      "     |  \n",
      "     |  Methods defined here:\n",
      "     |  \n",
      "     |  __getstate__(self)\n",
      "     |      # Issue 17489: Since __reduce__ was defined to fix #759889 this is no\n",
      "     |      # longer called; we leave it here because it has been here since random was\n",
      "     |      # rewritten back in 2001 and why risk breaking something.\n",
      "     |  \n",
      "     |  __init__(self, x=None)\n",
      "     |      Initialize an instance.\n",
      "     |      \n",
      "     |      Optional argument x controls seeding, as for Random.seed().\n",
      "     |  \n",
      "     |  __reduce__(self)\n",
      "     |      Helper for pickle.\n",
      "     |  \n",
      "     |  __setstate__(self, state)\n",
      "     |  \n",
      "     |  betavariate(self, alpha, beta)\n",
      "     |      Beta distribution.\n",
      "     |      \n",
      "     |      Conditions on the parameters are alpha > 0 and beta > 0.\n",
      "     |      Returned values range between 0 and 1.\n",
      "     |  \n",
      "     |  choice(self, seq)\n",
      "     |      Choose a random element from a non-empty sequence.\n",
      "     |  \n",
      "     |  choices(self, population, weights=None, *, cum_weights=None, k=1)\n",
      "     |      Return a k sized list of population elements chosen with replacement.\n",
      "     |      \n",
      "     |      If the relative weights or cumulative weights are not specified,\n",
      "     |      the selections are made with equal probability.\n",
      "     |  \n",
      "     |  expovariate(self, lambd)\n",
      "     |      Exponential distribution.\n",
      "     |      \n",
      "     |      lambd is 1.0 divided by the desired mean.  It should be\n",
      "     |      nonzero.  (The parameter would be called \"lambda\", but that is\n",
      "     |      a reserved word in Python.)  Returned values range from 0 to\n",
      "     |      positive infinity if lambd is positive, and from negative\n",
      "     |      infinity to 0 if lambd is negative.\n",
      "     |  \n",
      "     |  gammavariate(self, alpha, beta)\n",
      "     |      Gamma distribution.  Not the gamma function!\n",
      "     |      \n",
      "     |      Conditions on the parameters are alpha > 0 and beta > 0.\n",
      "     |      \n",
      "     |      The probability distribution function is:\n",
      "     |      \n",
      "     |                  x ** (alpha - 1) * math.exp(-x / beta)\n",
      "     |        pdf(x) =  --------------------------------------\n",
      "     |                    math.gamma(alpha) * beta ** alpha\n",
      "     |  \n",
      "     |  gauss(self, mu, sigma)\n",
      "     |      Gaussian distribution.\n",
      "     |      \n",
      "     |      mu is the mean, and sigma is the standard deviation.  This is\n",
      "     |      slightly faster than the normalvariate() function.\n",
      "     |      \n",
      "     |      Not thread-safe without a lock around calls.\n",
      "     |  \n",
      "     |  getstate(self)\n",
      "     |      Return internal state; can be passed to setstate() later.\n",
      "     |  \n",
      "     |  lognormvariate(self, mu, sigma)\n",
      "     |      Log normal distribution.\n",
      "     |      \n",
      "     |      If you take the natural logarithm of this distribution, you'll get a\n",
      "     |      normal distribution with mean mu and standard deviation sigma.\n",
      "     |      mu can have any value, and sigma must be greater than zero.\n",
      "     |  \n",
      "     |  normalvariate(self, mu, sigma)\n",
      "     |      Normal distribution.\n",
      "     |      \n",
      "     |      mu is the mean, and sigma is the standard deviation.\n",
      "     |  \n",
      "     |  paretovariate(self, alpha)\n",
      "     |      Pareto distribution.  alpha is the shape parameter.\n",
      "     |  \n",
      "     |  randint(self, a, b)\n",
      "     |      Return random integer in range [a, b], including both end points.\n",
      "     |  \n",
      "     |  randrange(self, start, stop=None, step=1, _int=<class 'int'>)\n",
      "     |      Choose a random item from range(start, stop[, step]).\n",
      "     |      \n",
      "     |      This fixes the problem with randint() which includes the\n",
      "     |      endpoint; in Python this is usually not what you want.\n",
      "     |  \n",
      "     |  sample(self, population, k)\n",
      "     |      Chooses k unique random elements from a population sequence or set.\n",
      "     |      \n",
      "     |      Returns a new list containing elements from the population while\n",
      "     |      leaving the original population unchanged.  The resulting list is\n",
      "     |      in selection order so that all sub-slices will also be valid random\n",
      "     |      samples.  This allows raffle winners (the sample) to be partitioned\n",
      "     |      into grand prize and second place winners (the subslices).\n",
      "     |      \n",
      "     |      Members of the population need not be hashable or unique.  If the\n",
      "     |      population contains repeats, then each occurrence is a possible\n",
      "     |      selection in the sample.\n",
      "     |      \n",
      "     |      To choose a sample in a range of integers, use range as an argument.\n",
      "     |      This is especially fast and space efficient for sampling from a\n",
      "     |      large population:   sample(range(10000000), 60)\n",
      "     |  \n",
      "     |  seed(self, a=None, version=2)\n",
      "     |      Initialize internal state from hashable object.\n",
      "     |      \n",
      "     |      None or no argument seeds from current time or from an operating\n",
      "     |      system specific randomness source if available.\n",
      "     |      \n",
      "     |      If *a* is an int, all bits are used.\n",
      "     |      \n",
      "     |      For version 2 (the default), all of the bits are used if *a* is a str,\n",
      "     |      bytes, or bytearray.  For version 1 (provided for reproducing random\n",
      "     |      sequences from older versions of Python), the algorithm for str and\n",
      "     |      bytes generates a narrower range of seeds.\n",
      "     |  \n",
      "     |  setstate(self, state)\n",
      "     |      Restore internal state from object returned by getstate().\n",
      "     |  \n",
      "     |  shuffle(self, x, random=None)\n",
      "     |      Shuffle list x in place, and return None.\n",
      "     |      \n",
      "     |      Optional argument random is a 0-argument function returning a\n",
      "     |      random float in [0.0, 1.0); if it is the default None, the\n",
      "     |      standard random.random will be used.\n",
      "     |  \n",
      "     |  triangular(self, low=0.0, high=1.0, mode=None)\n",
      "     |      Triangular distribution.\n",
      "     |      \n",
      "     |      Continuous distribution bounded by given lower and upper limits,\n",
      "     |      and having a given mode value in-between.\n",
      "     |      \n",
      "     |      http://en.wikipedia.org/wiki/Triangular_distribution\n",
      "     |  \n",
      "     |  uniform(self, a, b)\n",
      "     |      Get a random number in the range [a, b) or [a, b] depending on rounding.\n",
      "     |  \n",
      "     |  vonmisesvariate(self, mu, kappa)\n",
      "     |      Circular data distribution.\n",
      "     |      \n",
      "     |      mu is the mean angle, expressed in radians between 0 and 2*pi, and\n",
      "     |      kappa is the concentration parameter, which must be greater than or\n",
      "     |      equal to zero.  If kappa is equal to zero, this distribution reduces\n",
      "     |      to a uniform random angle over the range 0 to 2*pi.\n",
      "     |  \n",
      "     |  weibullvariate(self, alpha, beta)\n",
      "     |      Weibull distribution.\n",
      "     |      \n",
      "     |      alpha is the scale parameter and beta is the shape parameter.\n",
      "     |  \n",
      "     |  ----------------------------------------------------------------------\n",
      "     |  Data descriptors defined here:\n",
      "     |  \n",
      "     |  __dict__\n",
      "     |      dictionary for instance variables (if defined)\n",
      "     |  \n",
      "     |  __weakref__\n",
      "     |      list of weak references to the object (if defined)\n",
      "     |  \n",
      "     |  ----------------------------------------------------------------------\n",
      "     |  Data and other attributes defined here:\n",
      "     |  \n",
      "     |  VERSION = 3\n",
      "     |  \n",
      "     |  ----------------------------------------------------------------------\n",
      "     |  Methods inherited from _random.Random:\n",
      "     |  \n",
      "     |  __getattribute__(self, name, /)\n",
      "     |      Return getattr(self, name).\n",
      "     |  \n",
      "     |  getrandbits(...)\n",
      "     |      getrandbits(k) -> x.  Generates an int with k random bits.\n",
      "     |  \n",
      "     |  random(...)\n",
      "     |      random() -> x in the interval [0, 1).\n",
      "     |  \n",
      "     |  ----------------------------------------------------------------------\n",
      "     |  Static methods inherited from _random.Random:\n",
      "     |  \n",
      "     |  __new__(*args, **kwargs) from builtins.type\n",
      "     |      Create and return a new object.  See help(type) for accurate signature.\n",
      "    \n",
      "    class SystemRandom(Random)\n",
      "     |  SystemRandom(x=None)\n",
      "     |  \n",
      "     |  Alternate random number generator using sources provided\n",
      "     |  by the operating system (such as /dev/urandom on Unix or\n",
      "     |  CryptGenRandom on Windows).\n",
      "     |  \n",
      "     |   Not available on all systems (see os.urandom() for details).\n",
      "     |  \n",
      "     |  Method resolution order:\n",
      "     |      SystemRandom\n",
      "     |      Random\n",
      "     |      _random.Random\n",
      "     |      builtins.object\n",
      "     |  \n",
      "     |  Methods defined here:\n",
      "     |  \n",
      "     |  getrandbits(self, k)\n",
      "     |      getrandbits(k) -> x.  Generates an int with k random bits.\n",
      "     |  \n",
      "     |  getstate = _notimplemented(self, *args, **kwds)\n",
      "     |  \n",
      "     |  random(self)\n",
      "     |      Get the next random number in the range [0.0, 1.0).\n",
      "     |  \n",
      "     |  seed(self, *args, **kwds)\n",
      "     |      Stub method.  Not used for a system random number generator.\n",
      "     |  \n",
      "     |  setstate = _notimplemented(self, *args, **kwds)\n",
      "     |  \n",
      "     |  ----------------------------------------------------------------------\n",
      "     |  Methods inherited from Random:\n",
      "     |  \n",
      "     |  __getstate__(self)\n",
      "     |      # Issue 17489: Since __reduce__ was defined to fix #759889 this is no\n",
      "     |      # longer called; we leave it here because it has been here since random was\n",
      "     |      # rewritten back in 2001 and why risk breaking something.\n",
      "     |  \n",
      "     |  __init__(self, x=None)\n",
      "     |      Initialize an instance.\n",
      "     |      \n",
      "     |      Optional argument x controls seeding, as for Random.seed().\n",
      "     |  \n",
      "     |  __reduce__(self)\n",
      "     |      Helper for pickle.\n",
      "     |  \n",
      "     |  __setstate__(self, state)\n",
      "     |  \n",
      "     |  betavariate(self, alpha, beta)\n",
      "     |      Beta distribution.\n",
      "     |      \n",
      "     |      Conditions on the parameters are alpha > 0 and beta > 0.\n",
      "     |      Returned values range between 0 and 1.\n",
      "     |  \n",
      "     |  choice(self, seq)\n",
      "     |      Choose a random element from a non-empty sequence.\n",
      "     |  \n",
      "     |  choices(self, population, weights=None, *, cum_weights=None, k=1)\n",
      "     |      Return a k sized list of population elements chosen with replacement.\n",
      "     |      \n",
      "     |      If the relative weights or cumulative weights are not specified,\n",
      "     |      the selections are made with equal probability.\n",
      "     |  \n",
      "     |  expovariate(self, lambd)\n",
      "     |      Exponential distribution.\n",
      "     |      \n",
      "     |      lambd is 1.0 divided by the desired mean.  It should be\n",
      "     |      nonzero.  (The parameter would be called \"lambda\", but that is\n",
      "     |      a reserved word in Python.)  Returned values range from 0 to\n",
      "     |      positive infinity if lambd is positive, and from negative\n",
      "     |      infinity to 0 if lambd is negative.\n",
      "     |  \n",
      "     |  gammavariate(self, alpha, beta)\n",
      "     |      Gamma distribution.  Not the gamma function!\n",
      "     |      \n",
      "     |      Conditions on the parameters are alpha > 0 and beta > 0.\n",
      "     |      \n",
      "     |      The probability distribution function is:\n",
      "     |      \n",
      "     |                  x ** (alpha - 1) * math.exp(-x / beta)\n",
      "     |        pdf(x) =  --------------------------------------\n",
      "     |                    math.gamma(alpha) * beta ** alpha\n",
      "     |  \n",
      "     |  gauss(self, mu, sigma)\n",
      "     |      Gaussian distribution.\n",
      "     |      \n",
      "     |      mu is the mean, and sigma is the standard deviation.  This is\n",
      "     |      slightly faster than the normalvariate() function.\n",
      "     |      \n",
      "     |      Not thread-safe without a lock around calls.\n",
      "     |  \n",
      "     |  lognormvariate(self, mu, sigma)\n",
      "     |      Log normal distribution.\n",
      "     |      \n",
      "     |      If you take the natural logarithm of this distribution, you'll get a\n",
      "     |      normal distribution with mean mu and standard deviation sigma.\n",
      "     |      mu can have any value, and sigma must be greater than zero.\n",
      "     |  \n",
      "     |  normalvariate(self, mu, sigma)\n",
      "     |      Normal distribution.\n",
      "     |      \n",
      "     |      mu is the mean, and sigma is the standard deviation.\n",
      "     |  \n",
      "     |  paretovariate(self, alpha)\n",
      "     |      Pareto distribution.  alpha is the shape parameter.\n",
      "     |  \n",
      "     |  randint(self, a, b)\n",
      "     |      Return random integer in range [a, b], including both end points.\n",
      "     |  \n",
      "     |  randrange(self, start, stop=None, step=1, _int=<class 'int'>)\n",
      "     |      Choose a random item from range(start, stop[, step]).\n",
      "     |      \n",
      "     |      This fixes the problem with randint() which includes the\n",
      "     |      endpoint; in Python this is usually not what you want.\n",
      "     |  \n",
      "     |  sample(self, population, k)\n",
      "     |      Chooses k unique random elements from a population sequence or set.\n",
      "     |      \n",
      "     |      Returns a new list containing elements from the population while\n",
      "     |      leaving the original population unchanged.  The resulting list is\n",
      "     |      in selection order so that all sub-slices will also be valid random\n",
      "     |      samples.  This allows raffle winners (the sample) to be partitioned\n",
      "     |      into grand prize and second place winners (the subslices).\n",
      "     |      \n",
      "     |      Members of the population need not be hashable or unique.  If the\n",
      "     |      population contains repeats, then each occurrence is a possible\n",
      "     |      selection in the sample.\n",
      "     |      \n",
      "     |      To choose a sample in a range of integers, use range as an argument.\n",
      "     |      This is especially fast and space efficient for sampling from a\n",
      "     |      large population:   sample(range(10000000), 60)\n",
      "     |  \n",
      "     |  shuffle(self, x, random=None)\n",
      "     |      Shuffle list x in place, and return None.\n",
      "     |      \n",
      "     |      Optional argument random is a 0-argument function returning a\n",
      "     |      random float in [0.0, 1.0); if it is the default None, the\n",
      "     |      standard random.random will be used.\n",
      "     |  \n",
      "     |  triangular(self, low=0.0, high=1.0, mode=None)\n",
      "     |      Triangular distribution.\n",
      "     |      \n",
      "     |      Continuous distribution bounded by given lower and upper limits,\n",
      "     |      and having a given mode value in-between.\n",
      "     |      \n",
      "     |      http://en.wikipedia.org/wiki/Triangular_distribution\n",
      "     |  \n",
      "     |  uniform(self, a, b)\n",
      "     |      Get a random number in the range [a, b) or [a, b] depending on rounding.\n",
      "     |  \n",
      "     |  vonmisesvariate(self, mu, kappa)\n",
      "     |      Circular data distribution.\n",
      "     |      \n",
      "     |      mu is the mean angle, expressed in radians between 0 and 2*pi, and\n",
      "     |      kappa is the concentration parameter, which must be greater than or\n",
      "     |      equal to zero.  If kappa is equal to zero, this distribution reduces\n",
      "     |      to a uniform random angle over the range 0 to 2*pi.\n",
      "     |  \n",
      "     |  weibullvariate(self, alpha, beta)\n",
      "     |      Weibull distribution.\n",
      "     |      \n",
      "     |      alpha is the scale parameter and beta is the shape parameter.\n",
      "     |  \n",
      "     |  ----------------------------------------------------------------------\n",
      "     |  Data descriptors inherited from Random:\n",
      "     |  \n",
      "     |  __dict__\n",
      "     |      dictionary for instance variables (if defined)\n",
      "     |  \n",
      "     |  __weakref__\n",
      "     |      list of weak references to the object (if defined)\n",
      "     |  \n",
      "     |  ----------------------------------------------------------------------\n",
      "     |  Data and other attributes inherited from Random:\n",
      "     |  \n",
      "     |  VERSION = 3\n",
      "     |  \n",
      "     |  ----------------------------------------------------------------------\n",
      "     |  Methods inherited from _random.Random:\n",
      "     |  \n",
      "     |  __getattribute__(self, name, /)\n",
      "     |      Return getattr(self, name).\n",
      "     |  \n",
      "     |  ----------------------------------------------------------------------\n",
      "     |  Static methods inherited from _random.Random:\n",
      "     |  \n",
      "     |  __new__(*args, **kwargs) from builtins.type\n",
      "     |      Create and return a new object.  See help(type) for accurate signature.\n",
      "\n",
      "FUNCTIONS\n",
      "    betavariate(alpha, beta) method of Random instance\n",
      "        Beta distribution.\n",
      "        \n",
      "        Conditions on the parameters are alpha > 0 and beta > 0.\n",
      "        Returned values range between 0 and 1.\n",
      "    \n",
      "    choice(seq) method of Random instance\n",
      "        Choose a random element from a non-empty sequence.\n",
      "    \n",
      "    choices(population, weights=None, *, cum_weights=None, k=1) method of Random instance\n",
      "        Return a k sized list of population elements chosen with replacement.\n",
      "        \n",
      "        If the relative weights or cumulative weights are not specified,\n",
      "        the selections are made with equal probability.\n",
      "    \n",
      "    expovariate(lambd) method of Random instance\n",
      "        Exponential distribution.\n",
      "        \n",
      "        lambd is 1.0 divided by the desired mean.  It should be\n",
      "        nonzero.  (The parameter would be called \"lambda\", but that is\n",
      "        a reserved word in Python.)  Returned values range from 0 to\n",
      "        positive infinity if lambd is positive, and from negative\n",
      "        infinity to 0 if lambd is negative.\n",
      "    \n",
      "    gammavariate(alpha, beta) method of Random instance\n",
      "        Gamma distribution.  Not the gamma function!\n",
      "        \n",
      "        Conditions on the parameters are alpha > 0 and beta > 0.\n",
      "        \n",
      "        The probability distribution function is:\n",
      "        \n",
      "                    x ** (alpha - 1) * math.exp(-x / beta)\n",
      "          pdf(x) =  --------------------------------------\n",
      "                      math.gamma(alpha) * beta ** alpha\n",
      "    \n",
      "    gauss(mu, sigma) method of Random instance\n",
      "        Gaussian distribution.\n",
      "        \n",
      "        mu is the mean, and sigma is the standard deviation.  This is\n",
      "        slightly faster than the normalvariate() function.\n",
      "        \n",
      "        Not thread-safe without a lock around calls.\n",
      "    \n",
      "    getrandbits(...) method of Random instance\n",
      "        getrandbits(k) -> x.  Generates an int with k random bits.\n",
      "    \n",
      "    getstate() method of Random instance\n",
      "        Return internal state; can be passed to setstate() later.\n",
      "    \n",
      "    lognormvariate(mu, sigma) method of Random instance\n",
      "        Log normal distribution.\n",
      "        \n",
      "        If you take the natural logarithm of this distribution, you'll get a\n",
      "        normal distribution with mean mu and standard deviation sigma.\n",
      "        mu can have any value, and sigma must be greater than zero.\n",
      "    \n",
      "    normalvariate(mu, sigma) method of Random instance\n",
      "        Normal distribution.\n",
      "        \n",
      "        mu is the mean, and sigma is the standard deviation.\n",
      "    \n",
      "    paretovariate(alpha) method of Random instance\n",
      "        Pareto distribution.  alpha is the shape parameter.\n",
      "    \n",
      "    randint(a, b) method of Random instance\n",
      "        Return random integer in range [a, b], including both end points.\n",
      "    \n",
      "    random(...) method of Random instance\n",
      "        random() -> x in the interval [0, 1).\n",
      "    \n",
      "    randrange(start, stop=None, step=1, _int=<class 'int'>) method of Random instance\n",
      "        Choose a random item from range(start, stop[, step]).\n",
      "        \n",
      "        This fixes the problem with randint() which includes the\n",
      "        endpoint; in Python this is usually not what you want.\n",
      "    \n",
      "    sample(population, k) method of Random instance\n",
      "        Chooses k unique random elements from a population sequence or set.\n",
      "        \n",
      "        Returns a new list containing elements from the population while\n",
      "        leaving the original population unchanged.  The resulting list is\n",
      "        in selection order so that all sub-slices will also be valid random\n",
      "        samples.  This allows raffle winners (the sample) to be partitioned\n",
      "        into grand prize and second place winners (the subslices).\n",
      "        \n",
      "        Members of the population need not be hashable or unique.  If the\n",
      "        population contains repeats, then each occurrence is a possible\n",
      "        selection in the sample.\n",
      "        \n",
      "        To choose a sample in a range of integers, use range as an argument.\n",
      "        This is especially fast and space efficient for sampling from a\n",
      "        large population:   sample(range(10000000), 60)\n",
      "    \n",
      "    seed(a=None, version=2) method of Random instance\n",
      "        Initialize internal state from hashable object.\n",
      "        \n",
      "        None or no argument seeds from current time or from an operating\n",
      "        system specific randomness source if available.\n",
      "        \n",
      "        If *a* is an int, all bits are used.\n",
      "        \n",
      "        For version 2 (the default), all of the bits are used if *a* is a str,\n",
      "        bytes, or bytearray.  For version 1 (provided for reproducing random\n",
      "        sequences from older versions of Python), the algorithm for str and\n",
      "        bytes generates a narrower range of seeds.\n",
      "    \n",
      "    setstate(state) method of Random instance\n",
      "        Restore internal state from object returned by getstate().\n",
      "    \n",
      "    shuffle(x, random=None) method of Random instance\n",
      "        Shuffle list x in place, and return None.\n",
      "        \n",
      "        Optional argument random is a 0-argument function returning a\n",
      "        random float in [0.0, 1.0); if it is the default None, the\n",
      "        standard random.random will be used.\n",
      "    \n",
      "    triangular(low=0.0, high=1.0, mode=None) method of Random instance\n",
      "        Triangular distribution.\n",
      "        \n",
      "        Continuous distribution bounded by given lower and upper limits,\n",
      "        and having a given mode value in-between.\n",
      "        \n",
      "        http://en.wikipedia.org/wiki/Triangular_distribution\n",
      "    \n",
      "    uniform(a, b) method of Random instance\n",
      "        Get a random number in the range [a, b) or [a, b] depending on rounding.\n",
      "    \n",
      "    vonmisesvariate(mu, kappa) method of Random instance\n",
      "        Circular data distribution.\n",
      "        \n",
      "        mu is the mean angle, expressed in radians between 0 and 2*pi, and\n",
      "        kappa is the concentration parameter, which must be greater than or\n",
      "        equal to zero.  If kappa is equal to zero, this distribution reduces\n",
      "        to a uniform random angle over the range 0 to 2*pi.\n",
      "    \n",
      "    weibullvariate(alpha, beta) method of Random instance\n",
      "        Weibull distribution.\n",
      "        \n",
      "        alpha is the scale parameter and beta is the shape parameter.\n",
      "\n",
      "DATA\n",
      "    __all__ = ['Random', 'seed', 'random', 'uniform', 'randint', 'choice',...\n",
      "\n",
      "FILE\n",
      "    c:\\users\\ac01658\\appdata\\local\\continuum\\anaconda3\\lib\\random.py\n",
      "\n",
      "\n"
     ]
    }
   ],
   "source": [
    "help(random)"
   ]
  },
  {
   "cell_type": "code",
   "execution_count": 102,
   "metadata": {},
   "outputs": [],
   "source": [
    "# Below is a version of our projectile class with docstrings\n",
    "# projectile.py\n",
    "\n",
    "\"\"\"\n",
    "Provides a simple class for modeling the flight of projectiles.\n",
    "\"\"\"\n",
    "   \n",
    "from math import sin, cos, radians\n",
    "\n",
    "class Projectile:\n",
    "\n",
    "    \"\"\"Simulates the flight of simple projectiles near the earth's\n",
    "    surface, ignoring wind resistance. Tracking is done in two\n",
    "    dimensions, height (y) and distance (x).\"\"\"\n",
    "\n",
    "    def __init__(self, angle, velocity, height):\n",
    "        \"\"\"Create a projectile with given launch angle, initial\n",
    "        velocity and height.\"\"\"\n",
    "        self.xpos = 0.0\n",
    "        self.ypos = height\n",
    "        theta = radians(angle)\n",
    "        self.xvel = velocity * cos(theta)\n",
    "        self.yvel = velocity * sin(theta)\n",
    "\n",
    "    def update(self, time):\n",
    "        \"\"\"Update the state of this projectile to move it time seconds\n",
    "        farther into its flight\"\"\"\n",
    "        self.xpos = self.xpos + time * self.xvel\n",
    "        yvel1 = self.yvel - 9.8 * time\n",
    "        self.ypos = self.ypos + time * (self.yvel + yvel1) / 2.0\n",
    "        self.yvel = yvel1\n",
    "\n",
    "    def getY(self):\n",
    "        \"Returns the y position (height) of this projectile.\"\n",
    "        return self.ypos\n",
    "\n",
    "    def getX(self):\n",
    "        \"Returns the x position (distance) of this projectile.\"\n",
    "        return self.xpos"
   ]
  },
  {
   "cell_type": "code",
   "execution_count": 103,
   "metadata": {},
   "outputs": [
    {
     "name": "stdout",
     "output_type": "stream",
     "text": [
      "Help on class Projectile in module __main__:\n",
      "\n",
      "class Projectile(builtins.object)\n",
      " |  Projectile(angle, velocity, height)\n",
      " |  \n",
      " |  Simulates the flight of simple projectiles near the earth's\n",
      " |  surface, ignoring wind resistance. Tracking is done in two\n",
      " |  dimensions, height (y) and distance (x).\n",
      " |  \n",
      " |  Methods defined here:\n",
      " |  \n",
      " |  __init__(self, angle, velocity, height)\n",
      " |      Create a projectile with given launch angle, initial\n",
      " |      velocity and height.\n",
      " |  \n",
      " |  getX(self)\n",
      " |      Returns the x position (distance) of this projectile.\n",
      " |  \n",
      " |  getY(self)\n",
      " |      Returns the y position (height) of this projectile.\n",
      " |  \n",
      " |  update(self, time)\n",
      " |      Update the state of this projectile to move it time seconds\n",
      " |      farther into its flight\n",
      " |  \n",
      " |  ----------------------------------------------------------------------\n",
      " |  Data descriptors defined here:\n",
      " |  \n",
      " |  __dict__\n",
      " |      dictionary for instance variables (if defined)\n",
      " |  \n",
      " |  __weakref__\n",
      " |      list of weak references to the object (if defined)\n",
      "\n"
     ]
    }
   ],
   "source": [
    "help(Projectile)"
   ]
  },
  {
   "cell_type": "code",
   "execution_count": 104,
   "metadata": {},
   "outputs": [
    {
     "name": "stdout",
     "output_type": "stream",
     "text": [
      "Help on function update in module __main__:\n",
      "\n",
      "update(self, time)\n",
      "    Update the state of this projectile to move it time seconds\n",
      "    farther into its flight\n",
      "\n"
     ]
    }
   ],
   "source": [
    "help(Projectile.update)"
   ]
  },
  {
   "cell_type": "markdown",
   "metadata": {},
   "source": [
    "## 10.5.4 Working with Multiple Modules"
   ]
  },
  {
   "cell_type": "code",
   "execution_count": 106,
   "metadata": {},
   "outputs": [
    {
     "name": "stdout",
     "output_type": "stream",
     "text": [
      "Enter the launch angle (in degrees): 40\n",
      "Enter the initial velocity (in meters/sec): 500\n",
      "Enter the initial height (in meters): 1\n",
      "Enter the time interval between position calculations: 10\n",
      "\n",
      "Distance traveled: 26811.6 meters.\n"
     ]
    }
   ],
   "source": [
    "# cball4.py\n",
    "\n",
    "# The projectile class is utilized but we don't have to worry about its particulars. Hence, encapsulation.\n",
    "from projectile import Projectile\n",
    "\n",
    "def getInputs():\n",
    "    a = float(input(\"Enter the launch angle (in degrees): \"))\n",
    "    v = float(input(\"Enter the initial velocity (in meters/sec): \"))\n",
    "    h = float(input(\"Enter the initial height (in meters): \"))\n",
    "    t = float(input(\"Enter the time interval between position calculations: \"))\n",
    "    return a,v,h,t\n",
    "\n",
    "def main():\n",
    "    angle, vel, h0, time = getInputs()\n",
    "    cball = Projectile(angle, vel, h0)\n",
    "    while cball.getY() >= 0:\n",
    "        cball.update(time)        \n",
    "    print(\"\\nDistance traveled: {0:0.1f} meters.\".format(cball.getX()))\n",
    "\n",
    "if __name__ == \"__main__\":\n",
    "    main()"
   ]
  },
  {
   "cell_type": "markdown",
   "metadata": {},
   "source": [
    "#### When python first imports a module, it creates a module object that contains all the things defined in the module (technically this is called a \"namespace\"). If a module is imported successfully, subsequent imports do not reload the module; thye just create additional references to the existing module object."
   ]
  },
  {
   "cell_type": "markdown",
   "metadata": {},
   "source": [
    "# 10.6 Widgets"
   ]
  },
  {
   "cell_type": "markdown",
   "metadata": {},
   "source": [
    "## 10.6.2 Building Buttons"
   ]
  },
  {
   "cell_type": "markdown",
   "metadata": {},
   "source": [
    "We will create a button class as part of our widget. It will have the following methods <br><br>\n",
    "1. Constructor: Creates a button in a window. We will have to specify the window in which the button will be displayed, the location/size of the button, and the label that the button will have.\n",
    "2. Activate: Sets the state of the button to active.\n",
    "3. Deactivate: Sets the state of the button to inactive.\n",
    "4. Clicked: Indicates whether a button was clicked. If the button is active, this method will determine if the point clicked is inside the button region. The point eill have to be sent as a parameter to the method.\n",
    "5. getLabel: Returns the label string of the button. This is provided so that we can identify a particular button."
   ]
  },
  {
   "cell_type": "code",
   "execution_count": 108,
   "metadata": {},
   "outputs": [],
   "source": [
    "from graphics import *\n",
    "class Button:\n",
    "    \n",
    "    \"\"\"A button is a labeled rectangle in a window. It is activated or deactivated with the activate.() and deactivate()\n",
    "    methods. The clicked(p) method returns true if the button is active and p is inside it.\n",
    "    \"\"\"\n",
    "    \n",
    "    def __init__(self,win,center,width,height,label):\n",
    "        \"\"\"Creates a rectangular button, eg: qb = Button(mywin, centerPoint, width, height, 'Quit')\"\"\"\n",
    "        \n",
    "        w,h = width/2.0, height/2.0\n",
    "        x,y = center.getX(), center.getY()\n",
    "        self.xmax, self.xmin = x+w, x-w\n",
    "        self.ymax, self.ymin = y+h, y-h\n",
    "        p1 = Point(self.xmin, self.ymin)\n",
    "        p2 = Point(self.xmax, self.ymax)\n",
    "        self.rect = Rectangle(p1,p2)\n",
    "        self.rect.setFill('lightgray')\n",
    "        self.rect.draw(win)\n",
    "        self.label = Text(center, label)\n",
    "        self.label.draw(win)\n",
    "        self.deactivate()\n",
    "        \n",
    "    def clicked(self,p):\n",
    "        \"\"\"Returns true if button active and P is inside\"\"\"\n",
    "        return (self.active and self.xmin <= p.getX() <= self.xmax and self.ymin <= p.getY() <= self.ymax)\n",
    "    \n",
    "    def getLabel(self):\n",
    "        \"\"\"Returns the label string of this button\"\"\"\n",
    "        return self.label.getText()\n",
    "    \n",
    "    def activate(self):\n",
    "        \"\"\"Sets this button to 'active' \"\"\"\n",
    "        self.label.setFill('black')\n",
    "        self.rect.setWidth(2)\n",
    "        self.active = True\n",
    "        \n",
    "    def deactivate(self):\n",
    "        \"\"\"Sets this button to 'inactive' \"\"\"\n",
    "        self.label.setFill('darkgrey')\n",
    "        self.rect.setWidth(1)\n",
    "        self.active = False\n",
    "        "
   ]
  },
  {
   "cell_type": "markdown",
   "metadata": {},
   "source": [
    "## 10.6.3 Building Dice"
   ]
  },
  {
   "cell_type": "markdown",
   "metadata": {},
   "source": [
    "Now we will create a DieView class. It will have the following methods: <br><br>\n",
    "1. Constructor: Creates a die in a window. We will have to specify the window, the center point of the die, and the size of the die as parameters.\n",
    "2. setValue: Changes the view to show a given value. The value to display will be passed as a parameter."
   ]
  },
  {
   "cell_type": "code",
   "execution_count": 109,
   "metadata": {},
   "outputs": [],
   "source": [
    "from graphics import *\n",
    "class DieView:\n",
    "    \"\"\"DieView is a widget that displays a graphical representation of a standard six-sided die\"\"\"\n",
    "    \n",
    "    def __init__(self, win, center, size):\n",
    "        \"\"\"Creates a view of a die, e.g., d1 = DieView(myWin, Point(40,50), 20).\n",
    "        Creates a die centered at (40,50) having sides of length 20.\"\"\"\n",
    "        \n",
    "        # First define some standard values\n",
    "        self.win  # save this for drawing pips later\n",
    "        self.background = 'white'  #Color of die face\n",
    "        self.foreground = 'black' # color of the pips\n",
    "        self.psize = .1 * size # Radius of each pip\n",
    "        hsize = size / 2.0 # Half the size of the die\n",
    "        offset = 0.6 * hsize # Distance from center to outer pips\n",
    "        \n",
    "        # Creates a square for the face\n",
    "        cx, cy = center.getX(), center.getY()\n",
    "        p1 = Point(cx-hsize, cy-hsize)\n",
    "        p2 = Point(cx+hsize, cy+hsize)\n",
    "        rect = Rectangle(p1,p2)\n",
    "        rect.draw(win)\n",
    "        rect.setFill(self.background)\n",
    "        \n",
    "        # Create 7 circles for standard pip locations\n",
    "        self.pip1 = self.__makePip(cx-offset, cy-offset)\n",
    "        self.pip2 = self.__makePip(cx-offset, cy)\n",
    "        self.pip3 = self.__makePip(cx-offset, cy-offset)\n",
    "        self.pip4 = self.__makePip(cx-offset, cy)\n",
    "        self.pip5 = self.__makePip(cx-offset, cy-offset)\n",
    "        self.pip6 = self.__makePip(cx-offset, cy)\n",
    "        self.pip7 = self.__makePip(cx-offset, cy-offset)\n",
    "    \n",
    "    def __makePip(self, x, y):\n",
    "        \"\"\"Internal helper method to draw a pip at (x,y)\"\"\"\n",
    "        pip = Circle(Point(x,y), self.psize)\n",
    "        pip.setFill(self.background)\n",
    "        pip.setOutline(self.background)\n",
    "        pip.draw(self.win)\n",
    "        return pip\n",
    "    \n",
    "    def selValue(self,value):\n",
    "        \"\"\"Sets this die to display value\"\"\"\n",
    "        # Turns all pips off\n",
    "        self.pip1.setFill(self.background)\n",
    "        self.pip2.setFill(self.background)\n",
    "        self.pip3.setFill(self.background)\n",
    "        self.pip4.setFill(self.background)\n",
    "        self.pip5.setFill(self.background)\n",
    "        self.pip6.setFill(self.background)\n",
    "        self.pip7.setFill(self.background)\n",
    "        \n",
    "        # turn correct pips on\n",
    "        if value == 1:\n",
    "            self.pip4.setFill(self.foreground)\n",
    "        elif value == 2:\n",
    "            self.pip1.setFill(self.foreground)\n",
    "            self.pip7.setFill(self.foreground)\n",
    "        elif value == 3:\n",
    "            self.pip1.setFill(self.foreground)\n",
    "            self.pip7.setFill(self.foreground)        \n",
    "            self.pip4.setFill(self.foreground)\n",
    "        elif value == 4:\n",
    "            self.pip1.setFill(self.foreground)\n",
    "            self.pip3.setFill(self.foreground)\n",
    "            self.pip5.setFill(self.foreground)\n",
    "            self.pip7.setFill(self.foreground)\n",
    "        elif value == 5:\n",
    "            self.pip1.setFill(self.foreground)\n",
    "            self.pip3.setFill(self.foreground)\n",
    "            self.pip4.setFill(self.foreground)\n",
    "            self.pip5.setFill(self.foreground)\n",
    "            self.pip7.setFill(self.foreground)\n",
    "        else:\n",
    "            self.pip1.setFill(self.foreground)\n",
    "            self.pip2.setFill(self.foreground)\n",
    "            self.pip3.setFill(self.foreground)\n",
    "            self.pip5.setFill(self.foreground)\n",
    "            self.pip6.setFill(self.foreground)\n",
    "            self.pip7.setFill(self.foreground)"
   ]
  },
  {
   "cell_type": "markdown",
   "metadata": {},
   "source": [
    "## 10.6.4 The Main Program"
   ]
  },
  {
   "cell_type": "code",
   "execution_count": 1,
   "metadata": {},
   "outputs": [],
   "source": [
    "from random import randrange\n",
    "from graphics import GraphWin, Point\n",
    "from button import Button\n",
    "from dieview import DieView\n",
    "\n",
    "def main():\n",
    "    # Create the application window\n",
    "    win = GraphWin('Dice Roller')\n",
    "    win.setCoords(0,0,10,10)\n",
    "    win.setBackground('green2')\n",
    "    \n",
    "    # Draw the interface widgets\n",
    "    die1 = DieView(win, Point(3,7), 2)\n",
    "    die2 = DieView(win, Point(7,7), 2)\n",
    "    rollButton = Button(win, Point(5,4.5), 6, 1, \"Roll Dice\")\n",
    "    rollButton.activate()\n",
    "    quitButton = Button(win, Point(5,1), 2, 1, \"Quit\")\n",
    "    \n",
    "    # Event Loop\n",
    "    pt = win.getMouse()\n",
    "    while not quitButton.clicked(pt):\n",
    "        if rollButton.clicked(pt):\n",
    "            value1 = randrange(1,7)\n",
    "            die1.setValue(value1)\n",
    "            value2 = randrange(1,7)\n",
    "            die2.setValue(value2)\n",
    "            quitButton.activate()\n",
    "        pt = win.getMouse()\n",
    "        \n",
    "    # Close up shop\n",
    "    win.close()"
   ]
  },
  {
   "cell_type": "code",
   "execution_count": 3,
   "metadata": {},
   "outputs": [],
   "source": [
    "main()"
   ]
  },
  {
   "cell_type": "markdown",
   "metadata": {},
   "source": [
    "## 10.7 Animated CannonBall"
   ]
  },
  {
   "cell_type": "code",
   "execution_count": 10,
   "metadata": {},
   "outputs": [],
   "source": [
    "from graphics import *\n",
    "\n",
    "def main():\n",
    "    \n",
    "    # Create animation window\n",
    "    win = GraphWin(\"Projectile Animation\", 640, 480, autoflush=False)\n",
    "    win.setCoords(-10,-10,210,155)\n",
    "    \n",
    "    # Draw baseline\n",
    "    Line(Point(-10,0), Point(210,0)).draw(win)\n",
    "    \n",
    "    # Draw labeled ticks every 50 meters\n",
    "    for x in range(0,210,50):\n",
    "        Text(Point(x,-5), str(x)).draw(win)\n",
    "        Line(Point(x,0), Point(x,2)).draw(win)\n",
    "        \n",
    "    \n",
    "    win.getMouse()\n",
    "    win.close()"
   ]
  },
  {
   "cell_type": "code",
   "execution_count": 11,
   "metadata": {},
   "outputs": [],
   "source": [
    "main()"
   ]
  },
  {
   "cell_type": "code",
   "execution_count": 9,
   "metadata": {},
   "outputs": [],
   "source": [
    "class ShotTracker:\n",
    "    \n",
    "    def __init__(self,win,angle,velocity,height):\n",
    "        \n",
    "        self.proj = Projectile(angle,velocity,height)\n",
    "        self.marker = Circle(Point(0,height),3)\n",
    "        self.marker.setFill('Red')\n",
    "        self.marker.setOutline('Red')\n",
    "        self.marker.draw(win)\n",
    "        \n",
    "    def update(self,dt):\n",
    "        \n",
    "        # Update the projectile\n",
    "        self.proj.update(dt)\n",
    "        \n",
    "        # Move the circle to the new projectile location\n",
    "        center = self.marker.getCenter()\n",
    "        dx = self.proj.getX() - center.getx()\n",
    "        dy = self.proj.getY() - center.getY()\n",
    "        self.marker.move(dx,dy)\n",
    "        \n",
    "    def getX(self):\n",
    "        return self.proj.getX()\n",
    "    \n",
    "    def getY(self):\n",
    "        return self.proj.getY()\n",
    "    \n",
    "    def undraw(self):\n",
    "        self.marker.undraw()"
   ]
  },
  {
   "cell_type": "code",
   "execution_count": 12,
   "metadata": {},
   "outputs": [],
   "source": [
    "class InputDialog:\n",
    "\n",
    "    \"\"\" A custom window for getting simulation values (angle, velocity,\n",
    "    and height) from the user.\"\"\"\n",
    "\n",
    "    def __init__(self, angle, vel, height):\n",
    "        \"\"\" Build and display the input window \"\"\"\n",
    "        \n",
    "        self.win = win = GraphWin(\"Initial Values\", 200, 300)\n",
    "        win.setCoords(0,4.5,4,.5)\n",
    "        \n",
    "        Text(Point(1,1), \"Angle\").draw(win)\n",
    "        self.angle = Entry(Point(3,1), 5).draw(win)\n",
    "        self.angle.setText(str(angle))\n",
    "\n",
    "        Text(Point(1,2), \"Velocity\").draw(win)\n",
    "        self.vel = Entry(Point(3,2), 5).draw(win)\n",
    "        self.vel.setText(str(vel))\n",
    "\n",
    "        Text(Point(1,3), \"Height\").draw(win)\n",
    "        self.height = Entry(Point(3,3), 5).draw(win)\n",
    "        self.height.setText(str(height))\n",
    "\n",
    "        self.fire = Button(win, Point(1,4), 1.25, .5, \"Fire!\")\n",
    "        self.fire.activate()\n",
    "\n",
    "        self.quit = Button(win, Point(3,4), 1.25, .5, \"Quit\")\n",
    "        self.quit.activate()\n",
    "        \n",
    "        def getValues(self):\n",
    "        \"\"\" return input values \"\"\"\n",
    "        \n",
    "        a = float(self.angle.getText())\n",
    "        v = float(self.vel.getText())\n",
    "        h = float(self.height.getText())\n",
    "        return a,v,h\n",
    "\n",
    "    def interact(self):\n",
    "        \"\"\" wait for user to click Quit or Fire button\n",
    "        Returns a string indicating which button was clicker\n",
    "        \"\"\"\n",
    "        \n",
    "        while True:\n",
    "            pt = self.win.getMouse()\n",
    "            if self.quit.clicked(pt):\n",
    "                return \"Quit\"\n",
    "            if self.fire.clicked(pt):\n",
    "                return \"Fire!\"\n",
    "\n",
    "    def close(self):\n",
    "        \"\"\" close the input window \"\"\"\n",
    "        self.win.close()"
   ]
  },
  {
   "cell_type": "code",
   "execution_count": 4,
   "metadata": {},
   "outputs": [],
   "source": [
    "# animation.py\n",
    "\n",
    "# single-shot cannonball animation\n",
    "\n",
    "from math import sqrt, sin, cos, radians, degrees\n",
    "from graphics import *\n",
    "from projectile import Projectile\n",
    "from button import Button\n",
    "\n",
    "class InputDialog:\n",
    "\n",
    "    \"\"\" A custom window for getting simulation values (angle, velocity,\n",
    "    and height) from the user.\"\"\"\n",
    "\n",
    "    def __init__(self, angle, vel, height):\n",
    "        \"\"\" Build and display the input window \"\"\"\n",
    "                   \n",
    "        self.win = win = GraphWin(\"Initial Values\", 200, 300)\n",
    "        win.setCoords(0,4.5,4,.5)\n",
    "        \n",
    "        Text(Point(1,1), \"Angle\").draw(win)\n",
    "        self.angle = Entry(Point(3,1), 5).draw(win)\n",
    "        self.angle.setText(str(angle))\n",
    "\n",
    "        Text(Point(1,2), \"Velocity\").draw(win)\n",
    "        self.vel = Entry(Point(3,2), 5).draw(win)\n",
    "        self.vel.setText(str(vel))\n",
    "\n",
    "        Text(Point(1,3), \"Height\").draw(win)\n",
    "        self.height = Entry(Point(3,3), 5).draw(win)\n",
    "        self.height.setText(str(height))\n",
    "\n",
    "        self.fire = Button(win, Point(1,4), 1.25, .5, \"Fire!\")\n",
    "        self.fire.activate()\n",
    "\n",
    "        self.quit = Button(win, Point(3,4), 1.25, .5, \"Quit\")\n",
    "        self.quit.activate()\n",
    "\n",
    "    def getValues(self):\n",
    "        \"\"\" return input values \"\"\"\n",
    "        \n",
    "        a = float(self.angle.getText())\n",
    "        v = float(self.vel.getText())\n",
    "        h = float(self.height.getText())\n",
    "        return a,v,h\n",
    "\n",
    "    def interact(self):\n",
    "        \"\"\" wait for user to click Quit or Fire button\n",
    "        Returns a string indicating which button was clicker\n",
    "        \"\"\"\n",
    "        \n",
    "        while True:\n",
    "            pt = self.win.getMouse()\n",
    "            if self.quit.clicked(pt):\n",
    "                return \"Quit\"\n",
    "            if self.fire.clicked(pt):\n",
    "                return \"Fire!\"\n",
    "\n",
    "    def close(self):\n",
    "        \"\"\" close the input window \"\"\"\n",
    "        self.win.close()\n",
    "\n",
    "\n",
    "class ShotTracker:\n",
    "\n",
    "    \"\"\" Graphical depiction of a projectile flight using a Circle \"\"\"\n",
    "\n",
    "    def __init__(self, win, angle, velocity, height):\n",
    "        \"\"\"win is the GraphWin to display the shot, angle, velocity, and\n",
    "        height are initial projectile parameters.\n",
    "        \"\"\"\n",
    "        \n",
    "        self.proj = Projectile(angle, velocity, height)\n",
    "        self.marker = Circle(Point(0,height), 3)\n",
    "        self.marker.setFill(\"red\")\n",
    "        self.marker.setOutline(\"red\")\n",
    "        self.marker.draw(win)\n",
    "\n",
    "        \n",
    "    def update(self, dt):\n",
    "        \"\"\" Move the shot dt seconds farther along its flight \"\"\"\n",
    "        \n",
    "        self.proj.update(dt)\n",
    "        center = self.marker.getCenter()\n",
    "        dx = self.proj.getX() - center.getX()\n",
    "        dy = self.proj.getY() - center.getY()\n",
    "        self.marker.move(dx,dy)\n",
    "\n",
    "        \n",
    "    def getX(self):\n",
    "        \"\"\" return the current x coordinate of the shot's center \"\"\"\n",
    "        return self.proj.getX()\n",
    "\n",
    "    def getY(self):\n",
    "        \"\"\" return the current y coordinate of the shot's center \"\"\"\n",
    "        return self.proj.getY()\n",
    "\n",
    "    def destroy(self):\n",
    "        \"\"\" undraw the shot \"\"\"\n",
    "        self.marker.undraw()\n",
    "\n",
    "\n",
    "def main():\n",
    "\n",
    "    # create animation window\n",
    "    win = GraphWin(\"Projectile Animation\", 640, 480, autoflush=False)\n",
    "    win.setCoords(-10, -10, 210, 155)\n",
    "    Line(Point(-10,0), Point(210,0)).draw(win)\n",
    "    for x in range(0, 210, 50):\n",
    "        Text(Point(x,-5), str(x)).draw(win)\n",
    "        Line(Point(x,0), Point(x,2)).draw(win)\n",
    "\n",
    "    angle, vel, height = 45.0, 40.0, 2.0\n",
    "    # event loop\n",
    "    while True:\n",
    "        # interact with the user\n",
    "        inputwin = InputDialog(angle, vel, height)\n",
    "        choice = inputwin.interact()\n",
    "        inputwin.close()\n",
    "        \n",
    "        if choice == \"Quit\": # loop exit\n",
    "            break\n",
    "        \n",
    "        # otherwise choice is \"Fire!\"\n",
    "        # create a shot and track until it hits ground or leaves window\n",
    "        angle, vel, height = inputwin.getValues()\n",
    "        shot = ShotTracker(win, angle, vel, height)\n",
    "        while 0 <= shot.getY() and -10 < shot.getX() <= 210:\n",
    "            shot.update(1/50)\n",
    "            update(50)\n",
    "        #shot.destroy()\n",
    "        \n",
    "    win.close()\n",
    "    \n",
    "\n",
    "if __name__ == \"__main__\":\n",
    "    main()"
   ]
  },
  {
   "cell_type": "code",
   "execution_count": null,
   "metadata": {},
   "outputs": [],
   "source": []
  }
 ],
 "metadata": {
  "kernelspec": {
   "display_name": "Python 3",
   "language": "python",
   "name": "python3"
  },
  "language_info": {
   "codemirror_mode": {
    "name": "ipython",
    "version": 3
   },
   "file_extension": ".py",
   "mimetype": "text/x-python",
   "name": "python",
   "nbconvert_exporter": "python",
   "pygments_lexer": "ipython3",
   "version": "3.7.3"
  }
 },
 "nbformat": 4,
 "nbformat_minor": 2
}
