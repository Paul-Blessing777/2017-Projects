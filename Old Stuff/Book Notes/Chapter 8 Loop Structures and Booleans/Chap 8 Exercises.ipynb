{
 "cells": [
  {
   "cell_type": "markdown",
   "metadata": {},
   "source": [
    "# Exercise 1"
   ]
  },
  {
   "cell_type": "markdown",
   "metadata": {},
   "source": [
    "### My Solution"
   ]
  },
  {
   "cell_type": "code",
   "execution_count": 170,
   "metadata": {},
   "outputs": [],
   "source": [
    "def fib(n):\n",
    "    '''\n",
    "    This program calculates the fibinacci sequence up to n numbers\n",
    "    '''\n",
    "    old = 1\n",
    "    new = 0\n",
    "    fib = old + new\n",
    "    \n",
    "    while True:\n",
    "        new2 = fib - 0\n",
    "        old = fib\n",
    "        fib = old + new2\n",
    "        #print(fib)\n",
    "        break\n",
    "        \n",
    "    for number in range(1,n+1):\n",
    "        if number == 1:\n",
    "            new2 = 1\n",
    "        else:\n",
    "            new2 = fib -new2\n",
    "        old = fib\n",
    "        fib = old + new2\n",
    "        print(fib)"
   ]
  },
  {
   "cell_type": "code",
   "execution_count": 171,
   "metadata": {},
   "outputs": [
    {
     "name": "stdout",
     "output_type": "stream",
     "text": [
      "3\n",
      "5\n",
      "8\n",
      "13\n",
      "21\n",
      "34\n",
      "55\n",
      "89\n",
      "144\n",
      "233\n",
      "377\n",
      "610\n",
      "987\n"
     ]
    }
   ],
   "source": [
    "fib(13)"
   ]
  },
  {
   "cell_type": "markdown",
   "metadata": {},
   "source": [
    "### Book's Solution"
   ]
  },
  {
   "cell_type": "code",
   "execution_count": 26,
   "metadata": {},
   "outputs": [
    {
     "name": "stdout",
     "output_type": "stream",
     "text": [
      "This program calculates the nth Fibonacci value.\n",
      "\n",
      "Enter the value of n: 2\n",
      "The nth Fibonacci number is 1\n"
     ]
    }
   ],
   "source": [
    "# c08ex01.py\n",
    "#    Nth fibonacci number\n",
    "\n",
    "def main():\n",
    "    print(\"This program calculates the nth Fibonacci value.\\n\")\n",
    "\n",
    "    n = int(input(\"Enter the value of n: \"))\n",
    "    curr, prev = 1, 1\n",
    "    for i in range(n-2):\n",
    "        curr, prev = curr+prev, curr\n",
    "\n",
    "    print(\"The nth Fibonacci number is\", curr)\n",
    "\n",
    "if __name__ == '__main__':\n",
    "    main()"
   ]
  },
  {
   "cell_type": "markdown",
   "metadata": {},
   "source": [
    "# Exercise 2"
   ]
  },
  {
   "cell_type": "markdown",
   "metadata": {},
   "source": [
    "### My Solution"
   ]
  },
  {
   "cell_type": "code",
   "execution_count": 176,
   "metadata": {},
   "outputs": [],
   "source": [
    "def wind_chill():\n",
    "    \n",
    "    temp = -20\n",
    "    tempL = []\n",
    "    for i in range(9):\n",
    "        if i == 0:\n",
    "            tempL.append(temp)\n",
    "        else:\n",
    "            temp += 10\n",
    "            tempL.append(temp)\n",
    "    print(\"___________________TEMP________________________\")\n",
    "    print(f\"  {tempL[0]}  | {tempL[1]}  | {tempL[2]}  | {tempL[3]}  | {tempL[4]}  | {tempL[5]}  | {tempL[6]}  | {tempL[7]}  | {tempL[8]}\")\n",
    "    \n",
    "    speed = 0\n",
    "    windL = []\n",
    "    speedL = []\n",
    "    \n",
    "    for i in range(10):\n",
    "        speed += 5\n",
    "        speedL.append(speed)\n",
    "        \n",
    "    for num in range(10):\n",
    "        for i in range(9):\n",
    "            wind_chill = 35.74 + (.6215 * tempL[0+i]) - 35.75 * (speedL[0+num]**.16) + (.4275 * tempL[0+i] * (speedL[0+num]**.16))\n",
    "            windL.append(wind_chill)\n",
    "        print()\n",
    "        print(f\"{speedL[0+num]}: {round(windL[0])}  | {round(windL[1])}  | {round(windL[2])}  | {round(windL[3])}  | {round(windL[4])}  | {round(windL[5])}  | {round(windL[6])}  | {round(windL[7])}  | {round(windL[8])}\")\n",
    "        print(\"\" )\n",
    "        windL = []"
   ]
  },
  {
   "cell_type": "code",
   "execution_count": 177,
   "metadata": {},
   "outputs": [
    {
     "name": "stdout",
     "output_type": "stream",
     "text": [
      "___________________TEMP________________________\n",
      "  -20  | -10  | 0  | 10  | 20  | 30  | 40  | 50  | 60\n",
      "\n",
      "5: -34  | -22  | -11  | 1  | 13  | 25  | 36  | 48  | 60\n",
      "\n",
      "\n",
      "10: -41  | -28  | -16  | -4  | 9  | 21  | 34  | 46  | 58\n",
      "\n",
      "\n",
      "15: -45  | -32  | -19  | -7  | 6  | 19  | 32  | 45  | 57\n",
      "\n",
      "\n",
      "20: -48  | -35  | -22  | -9  | 4  | 17  | 30  | 44  | 57\n",
      "\n",
      "\n",
      "25: -51  | -37  | -24  | -11  | 3  | 16  | 29  | 43  | 56\n",
      "\n",
      "\n",
      "30: -53  | -39  | -26  | -12  | 1  | 15  | 28  | 42  | 56\n",
      "\n",
      "\n",
      "35: -55  | -41  | -27  | -14  | 0  | 14  | 28  | 41  | 55\n",
      "\n",
      "\n",
      "40: -57  | -43  | -29  | -15  | -1  | 13  | 27  | 41  | 55\n",
      "\n",
      "\n",
      "45: -58  | -44  | -30  | -16  | -2  | 12  | 26  | 40  | 54\n",
      "\n",
      "\n",
      "50: -60  | -45  | -31  | -17  | -3  | 12  | 26  | 40  | 54\n",
      "\n"
     ]
    }
   ],
   "source": [
    "wind_chill()"
   ]
  },
  {
   "cell_type": "markdown",
   "metadata": {},
   "source": [
    "### Book's Solution"
   ]
  },
  {
   "cell_type": "code",
   "execution_count": 151,
   "metadata": {},
   "outputs": [
    {
     "name": "stdout",
     "output_type": "stream",
     "text": [
      "Wind Chill Table\n",
      "\n",
      "\n",
      "                             Temperature                              \n",
      "MPH|   -20   -10     0    10    20    30    40    50    60 \n",
      "---+-------------------------------------------------------\n",
      "  0|   -20   -10     0    10    20    30    40    50    60 \n",
      "  5|   -34   -22   -11     1    13    25    36    48    60 \n",
      " 10|   -41   -28   -16    -4     9    21    34    46    58 \n",
      " 15|   -45   -32   -19    -7     6    19    32    45    57 \n",
      " 20|   -48   -35   -22    -9     4    17    30    44    57 \n",
      " 25|   -51   -37   -24   -11     3    16    29    43    56 \n",
      " 30|   -53   -39   -26   -12     1    15    28    42    56 \n",
      " 35|   -55   -41   -27   -14     0    14    28    41    55 \n",
      " 40|   -57   -43   -29   -15    -1    13    27    41    55 \n",
      " 45|   -58   -44   -30   -16    -2    12    26    40    54 \n",
      " 50|   -60   -45   -31   -17    -3    12    26    40    54 \n",
      "\n"
     ]
    }
   ],
   "source": [
    "# c08ex02.py\n",
    "#   Windchill Table\n",
    "\n",
    "def windChill(t, v):\n",
    "    if v > 3:\n",
    "        chill = 35.74 + 0.6215*t - 35.75*(v**0.16) + 0.4275*t*(v**0.16)\n",
    "    else:\n",
    "        chill = t\n",
    "    return chill\n",
    "\n",
    "def main():\n",
    "\n",
    "    # Print table headings\n",
    "    print(\"Wind Chill Table\\n\\n\")\n",
    "    print(\"Temperature\".center(70))\n",
    "    print(\"MPH|\", end=' ')\n",
    "    temps = list(range(-20,61,10))\n",
    "    for t in temps:\n",
    "        print(\"{0:5}\".format(t), end=' ')\n",
    "    print(\"\\n---+\" + 55 * '-')\n",
    "\n",
    "    # Print lines in table\n",
    "    for vel in range(0,51,5):\n",
    "        print(\"{0:3}|\".format(vel), end=' ')\n",
    "        for temp in temps:\n",
    "            print(\"{0:5.0f}\".format(windChill(temp, vel)), end=' ')\n",
    "        print()\n",
    "    print()\n",
    "\n",
    "main()"
   ]
  },
  {
   "cell_type": "markdown",
   "metadata": {},
   "source": [
    "# Exercise 3"
   ]
  },
  {
   "cell_type": "markdown",
   "metadata": {},
   "source": [
    "### My Solution"
   ]
  },
  {
   "cell_type": "code",
   "execution_count": 208,
   "metadata": {},
   "outputs": [],
   "source": [
    "def finance_double(principal,rate,years):\n",
    "    \n",
    "    double = principal * 2\n",
    "    \n",
    "    for i in range(years):\n",
    "        principal = principal + (principal * rate)\n",
    "        if round(principal) >= double:\n",
    "            print(f\"It took {i+1} periods for the principal to double\")\n",
    "            break\n",
    "        "
   ]
  },
  {
   "cell_type": "code",
   "execution_count": 209,
   "metadata": {},
   "outputs": [
    {
     "name": "stdout",
     "output_type": "stream",
     "text": [
      "It took 15 periods for the principal to double\n"
     ]
    }
   ],
   "source": [
    "finance_double(100,.05,20)"
   ]
  },
  {
   "cell_type": "markdown",
   "metadata": {},
   "source": [
    "### Book Solution"
   ]
  },
  {
   "cell_type": "code",
   "execution_count": 196,
   "metadata": {},
   "outputs": [
    {
     "name": "stdout",
     "output_type": "stream",
     "text": [
      "Number of years for an investment to double.\n",
      "\n",
      "What is the annual interest rate? .05\n",
      "Years to double: 0\n"
     ]
    }
   ],
   "source": [
    "#c08ex03.py\n",
    "#    Years for investment to double\n",
    "\n",
    "def main():\n",
    "    print(\"Number of years for an investment to double.\\n\")\n",
    "\n",
    "    apr = float(input(\"What is the annual interest rate? \"))\n",
    "    principal = 10\n",
    "    years = 0\n",
    "    while principal < 2:\n",
    "        principal = principal*(1+apr)\n",
    "        years = years + 1\n",
    "\n",
    "    print(\"Years to double:\", years)\n",
    "\n",
    "if __name__ == '__main__':\n",
    "    main()"
   ]
  },
  {
   "cell_type": "markdown",
   "metadata": {},
   "source": [
    "## Exercise 4"
   ]
  },
  {
   "cell_type": "code",
   "execution_count": 222,
   "metadata": {},
   "outputs": [],
   "source": [
    "def syracuse_seq(number):\n",
    "    \n",
    "    counter = 0\n",
    "    print(f\"Number is {number} and count is {counter}\")\n",
    "    \n",
    "    while number != 1:\n",
    "        if number % 2 == 0:\n",
    "            number = number / 2\n",
    "            counter += 1\n",
    "            print(f\"Number is {number} and count is {counter}\")\n",
    "        else:\n",
    "            number = number * 3 + 1\n",
    "            counter += 1\n",
    "            print(f\"Number is {number} and count is {counter}\")\n",
    "            \n",
    "    print(f\"We have reached the {number} it took {counter} iterations\")"
   ]
  },
  {
   "cell_type": "code",
   "execution_count": 223,
   "metadata": {},
   "outputs": [
    {
     "name": "stdout",
     "output_type": "stream",
     "text": [
      "Number is 5 and count is 0\n",
      "Number is 16 and count is 1\n",
      "Number is 8.0 and count is 2\n",
      "Number is 4.0 and count is 3\n",
      "Number is 2.0 and count is 4\n",
      "Number is 1.0 and count is 5\n",
      "We have reached the 1.0 it took 5 iterations\n"
     ]
    }
   ],
   "source": [
    "syracuse_seq(5)"
   ]
  },
  {
   "cell_type": "code",
   "execution_count": 226,
   "metadata": {},
   "outputs": [
    {
     "name": "stdout",
     "output_type": "stream",
     "text": [
      "Number is 1000 and count is 0\n",
      "Number is 500.0 and count is 1\n",
      "Number is 250.0 and count is 2\n",
      "Number is 125.0 and count is 3\n",
      "Number is 376.0 and count is 4\n",
      "Number is 188.0 and count is 5\n",
      "Number is 94.0 and count is 6\n",
      "Number is 47.0 and count is 7\n",
      "Number is 142.0 and count is 8\n",
      "Number is 71.0 and count is 9\n",
      "Number is 214.0 and count is 10\n",
      "Number is 107.0 and count is 11\n",
      "Number is 322.0 and count is 12\n",
      "Number is 161.0 and count is 13\n",
      "Number is 484.0 and count is 14\n",
      "Number is 242.0 and count is 15\n",
      "Number is 121.0 and count is 16\n",
      "Number is 364.0 and count is 17\n",
      "Number is 182.0 and count is 18\n",
      "Number is 91.0 and count is 19\n",
      "Number is 274.0 and count is 20\n",
      "Number is 137.0 and count is 21\n",
      "Number is 412.0 and count is 22\n",
      "Number is 206.0 and count is 23\n",
      "Number is 103.0 and count is 24\n",
      "Number is 310.0 and count is 25\n",
      "Number is 155.0 and count is 26\n",
      "Number is 466.0 and count is 27\n",
      "Number is 233.0 and count is 28\n",
      "Number is 700.0 and count is 29\n",
      "Number is 350.0 and count is 30\n",
      "Number is 175.0 and count is 31\n",
      "Number is 526.0 and count is 32\n",
      "Number is 263.0 and count is 33\n",
      "Number is 790.0 and count is 34\n",
      "Number is 395.0 and count is 35\n",
      "Number is 1186.0 and count is 36\n",
      "Number is 593.0 and count is 37\n",
      "Number is 1780.0 and count is 38\n",
      "Number is 890.0 and count is 39\n",
      "Number is 445.0 and count is 40\n",
      "Number is 1336.0 and count is 41\n",
      "Number is 668.0 and count is 42\n",
      "Number is 334.0 and count is 43\n",
      "Number is 167.0 and count is 44\n",
      "Number is 502.0 and count is 45\n",
      "Number is 251.0 and count is 46\n",
      "Number is 754.0 and count is 47\n",
      "Number is 377.0 and count is 48\n",
      "Number is 1132.0 and count is 49\n",
      "Number is 566.0 and count is 50\n",
      "Number is 283.0 and count is 51\n",
      "Number is 850.0 and count is 52\n",
      "Number is 425.0 and count is 53\n",
      "Number is 1276.0 and count is 54\n",
      "Number is 638.0 and count is 55\n",
      "Number is 319.0 and count is 56\n",
      "Number is 958.0 and count is 57\n",
      "Number is 479.0 and count is 58\n",
      "Number is 1438.0 and count is 59\n",
      "Number is 719.0 and count is 60\n",
      "Number is 2158.0 and count is 61\n",
      "Number is 1079.0 and count is 62\n",
      "Number is 3238.0 and count is 63\n",
      "Number is 1619.0 and count is 64\n",
      "Number is 4858.0 and count is 65\n",
      "Number is 2429.0 and count is 66\n",
      "Number is 7288.0 and count is 67\n",
      "Number is 3644.0 and count is 68\n",
      "Number is 1822.0 and count is 69\n",
      "Number is 911.0 and count is 70\n",
      "Number is 2734.0 and count is 71\n",
      "Number is 1367.0 and count is 72\n",
      "Number is 4102.0 and count is 73\n",
      "Number is 2051.0 and count is 74\n",
      "Number is 6154.0 and count is 75\n",
      "Number is 3077.0 and count is 76\n",
      "Number is 9232.0 and count is 77\n",
      "Number is 4616.0 and count is 78\n",
      "Number is 2308.0 and count is 79\n",
      "Number is 1154.0 and count is 80\n",
      "Number is 577.0 and count is 81\n",
      "Number is 1732.0 and count is 82\n",
      "Number is 866.0 and count is 83\n",
      "Number is 433.0 and count is 84\n",
      "Number is 1300.0 and count is 85\n",
      "Number is 650.0 and count is 86\n",
      "Number is 325.0 and count is 87\n",
      "Number is 976.0 and count is 88\n",
      "Number is 488.0 and count is 89\n",
      "Number is 244.0 and count is 90\n",
      "Number is 122.0 and count is 91\n",
      "Number is 61.0 and count is 92\n",
      "Number is 184.0 and count is 93\n",
      "Number is 92.0 and count is 94\n",
      "Number is 46.0 and count is 95\n",
      "Number is 23.0 and count is 96\n",
      "Number is 70.0 and count is 97\n",
      "Number is 35.0 and count is 98\n",
      "Number is 106.0 and count is 99\n",
      "Number is 53.0 and count is 100\n",
      "Number is 160.0 and count is 101\n",
      "Number is 80.0 and count is 102\n",
      "Number is 40.0 and count is 103\n",
      "Number is 20.0 and count is 104\n",
      "Number is 10.0 and count is 105\n",
      "Number is 5.0 and count is 106\n",
      "Number is 16.0 and count is 107\n",
      "Number is 8.0 and count is 108\n",
      "Number is 4.0 and count is 109\n",
      "Number is 2.0 and count is 110\n",
      "Number is 1.0 and count is 111\n",
      "We have reached the 1.0 it took 111 iterations\n"
     ]
    }
   ],
   "source": [
    "syracuse_seq(1000)"
   ]
  },
  {
   "cell_type": "markdown",
   "metadata": {},
   "source": [
    "## Exercise 5"
   ]
  },
  {
   "cell_type": "markdown",
   "metadata": {},
   "source": [
    "### My Solution"
   ]
  },
  {
   "cell_type": "code",
   "execution_count": 3,
   "metadata": {},
   "outputs": [],
   "source": [
    "import math"
   ]
  },
  {
   "cell_type": "code",
   "execution_count": 37,
   "metadata": {},
   "outputs": [],
   "source": [
    "def prime(n):\n",
    "    limit = math.sqrt(n)\n",
    "    counter = 1\n",
    "\n",
    "    while counter <= limit:\n",
    "        counter += 1\n",
    "        check = n % counter\n",
    "        if check == 0:\n",
    "            print(f\"{n} is not a prime number!\")\n",
    "            break\n",
    "    else:\n",
    "        print(f\"{n} is a prime number\")\n",
    "        "
   ]
  },
  {
   "cell_type": "code",
   "execution_count": 40,
   "metadata": {},
   "outputs": [
    {
     "name": "stdout",
     "output_type": "stream",
     "text": [
      "5 is a prime number\n"
     ]
    }
   ],
   "source": [
    "prime(5)"
   ]
  },
  {
   "cell_type": "markdown",
   "metadata": {},
   "source": [
    "### Book Solution"
   ]
  },
  {
   "cell_type": "code",
   "execution_count": 42,
   "metadata": {},
   "outputs": [
    {
     "name": "stdout",
     "output_type": "stream",
     "text": [
      "Prime number tester\n",
      "\n",
      "Enter a value to test: 11\n",
      "11 is prime.\n"
     ]
    }
   ],
   "source": [
    "# c08ex05.py\n",
    "#   Primality tester\n",
    "\n",
    "import math\n",
    "\n",
    "def isPrime(n):\n",
    "    if n % 2 == 0:\n",
    "        return False\n",
    "    factor = 3\n",
    "    while factor <= math.sqrt(n):\n",
    "        if n % factor == 0:\n",
    "            return False\n",
    "        factor = factor + 2\n",
    "    return True\n",
    "\n",
    "def main():\n",
    "    print(\"Prime number tester\\n\")\n",
    "    n = int(input(\"Enter a value to test: \"))\n",
    "    if isPrime(n):\n",
    "        print(n, \"is prime.\")\n",
    "    else:\n",
    "        print(n, \"is not prime.\")\n",
    "\n",
    "if __name__ == '__main__':\n",
    "    main()"
   ]
  },
  {
   "cell_type": "markdown",
   "metadata": {},
   "source": [
    "## Exercise 6"
   ]
  },
  {
   "cell_type": "markdown",
   "metadata": {},
   "source": [
    "### My Solution"
   ]
  },
  {
   "cell_type": "code",
   "execution_count": 174,
   "metadata": {},
   "outputs": [],
   "source": [
    "def prime2(n):\n",
    "    list_prime = [1]\n",
    "    list_nonPrime = []\n",
    "\n",
    "    for i in range(3,n+1):\n",
    "        limit = math.sqrt(i)\n",
    "        limit = round(limit)\n",
    "        \n",
    "        for number in range(2,limit+1):\n",
    "            check = i % number\n",
    "            if check == 0:\n",
    "                #print(f\"{i} is not prime!\")\n",
    "                list_nonPrime.append(i)\n",
    "                break\n",
    "        else:\n",
    "            #print(f\"{i} is Prime\")\n",
    "            list_prime.append(i)\n",
    "            \n",
    "    print(f\"The Prime numbers are: {list_prime}\")\n",
    "    return list_prime\n",
    "    #print(f\"The Non-Prime numbers are {list_nonPrime}\")\n",
    "\n"
   ]
  },
  {
   "cell_type": "code",
   "execution_count": 175,
   "metadata": {},
   "outputs": [
    {
     "name": "stdout",
     "output_type": "stream",
     "text": [
      "The Prime numbers are: [1, 3, 5, 7, 11]\n"
     ]
    },
    {
     "data": {
      "text/plain": [
       "[1, 3, 5, 7, 11]"
      ]
     },
     "execution_count": 175,
     "metadata": {},
     "output_type": "execute_result"
    }
   ],
   "source": [
    "prime2(11)"
   ]
  },
  {
   "cell_type": "code",
   "execution_count": 176,
   "metadata": {},
   "outputs": [
    {
     "name": "stdout",
     "output_type": "stream",
     "text": [
      "The Prime numbers are: [1, 3, 5, 7, 11, 13, 17, 19, 23, 29, 31, 37, 41, 43, 47, 53, 59, 61, 67, 71, 73]\n"
     ]
    },
    {
     "data": {
      "text/plain": [
       "[1,\n",
       " 3,\n",
       " 5,\n",
       " 7,\n",
       " 11,\n",
       " 13,\n",
       " 17,\n",
       " 19,\n",
       " 23,\n",
       " 29,\n",
       " 31,\n",
       " 37,\n",
       " 41,\n",
       " 43,\n",
       " 47,\n",
       " 53,\n",
       " 59,\n",
       " 61,\n",
       " 67,\n",
       " 71,\n",
       " 73]"
      ]
     },
     "execution_count": 176,
     "metadata": {},
     "output_type": "execute_result"
    }
   ],
   "source": [
    "prime2(75)"
   ]
  },
  {
   "cell_type": "markdown",
   "metadata": {},
   "source": [
    "### Book Solution"
   ]
  },
  {
   "cell_type": "code",
   "execution_count": 84,
   "metadata": {},
   "outputs": [
    {
     "name": "stdout",
     "output_type": "stream",
     "text": [
      "This program finds all prime numbers up to N\n",
      "\n",
      "Enter the upper limit, n: 75\n",
      "primes:  3 5 7 11 13 17 19 23 29 31 37 41 43 47 53 59 61 67 71 73 Done\n"
     ]
    }
   ],
   "source": [
    "# c08ex06.py\n",
    "#    primes to n\n",
    "\n",
    "from c08ex05 import isPrime\n",
    "\n",
    "def main():\n",
    "    print(\"This program finds all prime numbers up to N\\n\")\n",
    "    n = int(input(\"Enter the upper limit, n: \"))\n",
    "    print(\"primes: \", end=' ')\n",
    "    for i in range(2,n+1):\n",
    "        if isPrime(i):\n",
    "            print(i, end=' ')\n",
    "    print(\"Done\")\n",
    "\n",
    "if __name__ == '__main__':\n",
    "    main()"
   ]
  },
  {
   "cell_type": "markdown",
   "metadata": {},
   "source": [
    "## Exercise 8"
   ]
  },
  {
   "cell_type": "markdown",
   "metadata": {},
   "source": [
    "### My Solution"
   ]
  },
  {
   "cell_type": "code",
   "execution_count": 406,
   "metadata": {},
   "outputs": [],
   "source": [
    "def check_even(number):\n",
    "    \n",
    "    if number % 2 == 0:\n",
    "        return True\n",
    "    else:\n",
    "        return False"
   ]
  },
  {
   "cell_type": "code",
   "execution_count": 411,
   "metadata": {},
   "outputs": [],
   "source": [
    "def goldbach(number):\n",
    "    \n",
    "    if check_even(number) == False:\n",
    "        print(f\"{number} is not even!\")\n",
    "    else:\n",
    "        prime_list = prime2(number)\n",
    "        end = False\n",
    "        length = len(prime_list)\n",
    "        \n",
    "        for i in range(0,length+1):\n",
    "            number1 = prime_list[0+i]\n",
    "\n",
    "            for num in range(0,length):\n",
    "                number2 = prime_list[1+num]\n",
    "                sumNum = number1 + number2\n",
    "                if sumNum == number:\n",
    "                    print()\n",
    "                    print(f\"Found two prime numbers that add to {number}: {number1} and {number2}\")\n",
    "                    end = True\n",
    "                    break\n",
    "                if prime_list[1+num] > length:\n",
    "                    break\n",
    "            if end == True:\n",
    "                break\n",
    "        "
   ]
  },
  {
   "cell_type": "code",
   "execution_count": 412,
   "metadata": {},
   "outputs": [
    {
     "name": "stdout",
     "output_type": "stream",
     "text": [
      "The Prime numbers are: [1, 3, 5, 7, 11, 13, 17, 19, 23, 29, 31, 37, 41, 43]\n",
      "\n",
      "Found two prime numbers that add to 46: 29 and 17\n"
     ]
    }
   ],
   "source": [
    "goldbach(46)"
   ]
  },
  {
   "cell_type": "code",
   "execution_count": 413,
   "metadata": {},
   "outputs": [
    {
     "name": "stdout",
     "output_type": "stream",
     "text": [
      "The Prime numbers are: [1, 3, 5, 7, 11, 13, 17, 19, 23, 29, 31, 37, 41, 43, 47, 53, 59, 61, 67, 71, 73, 79, 83, 89, 97, 101, 103, 107, 109, 113, 127, 131, 137, 139, 149, 151, 157, 163, 167, 173, 179, 181, 191, 193, 197, 199, 211, 223, 227, 229, 233, 239, 241, 251, 257, 263, 269, 271, 277, 281, 283, 293, 307, 311, 313, 317, 331, 337, 347, 349, 353, 359, 367, 373, 379, 383, 389, 397, 401, 409, 419, 421, 431, 433, 439, 443, 449, 457, 461, 463, 467, 479, 487, 491, 499, 503, 509, 521, 523, 541, 547, 557, 563, 569, 571, 577, 587, 593, 599, 601, 607, 613, 617, 619, 631, 641, 643, 647, 653, 659, 661, 673, 677, 683, 691, 701, 709, 719, 727, 733, 739, 743, 751, 757, 761, 769, 773, 787, 797, 809, 811, 821, 823, 827, 829, 839, 853, 857, 859, 863, 877, 881, 883, 887, 907, 911, 919, 929, 937, 941, 947, 953, 967, 971, 977, 983, 991, 997, 1009, 1013, 1019, 1021, 1031, 1033, 1039, 1049, 1051, 1061, 1063, 1069, 1087, 1091, 1093, 1097, 1103, 1109, 1117, 1123, 1129, 1151, 1153, 1163, 1171, 1181, 1187, 1193, 1201, 1213, 1217, 1223, 1229, 1231, 1237, 1249, 1259, 1277, 1279, 1283, 1289, 1291, 1297, 1301, 1303, 1307, 1319, 1321, 1327, 1361, 1367, 1373, 1381, 1399, 1409, 1423, 1427, 1429, 1433, 1439, 1447, 1451, 1453, 1459, 1471, 1481, 1483, 1487, 1489, 1493, 1499, 1511, 1523, 1531, 1543, 1549, 1553, 1559, 1567, 1571, 1579, 1583, 1597, 1601, 1607, 1609, 1613, 1619, 1621, 1627, 1637, 1657, 1663, 1667, 1669, 1693, 1697, 1699, 1709, 1721, 1723, 1733, 1741, 1747, 1753, 1759, 1777, 1783, 1787, 1789, 1801, 1811, 1823, 1831, 1847, 1861, 1867, 1871, 1873, 1877, 1879, 1889, 1901, 1907, 1913, 1931, 1933, 1949, 1951, 1973, 1979, 1987, 1993, 1997, 1999, 2003, 2011, 2017, 2027, 2029, 2039, 2053, 2063, 2069, 2081, 2083, 2087, 2089, 2099, 2111, 2113, 2129, 2131, 2137, 2141, 2143, 2153, 2161, 2179, 2203, 2207, 2213, 2221, 2237, 2239, 2243, 2251, 2267, 2269, 2273, 2281, 2287, 2293, 2297, 2309, 2311, 2333, 2339, 2341, 2347, 2351, 2357, 2371, 2377, 2381, 2383, 2389, 2393, 2399, 2411, 2417, 2423, 2437, 2441, 2447, 2459, 2467, 2473, 2477, 2503, 2521, 2531, 2539, 2543, 2549, 2551, 2557, 2579, 2591, 2593, 2609, 2617, 2621, 2633, 2647, 2657, 2659, 2663, 2671, 2677, 2683, 2687, 2689, 2693, 2699, 2707, 2711, 2713, 2719, 2729, 2731, 2741, 2749, 2753, 2767, 2777, 2789, 2791, 2797, 2801, 2803, 2819, 2833, 2837, 2843, 2851, 2857, 2861, 2879, 2887, 2897, 2903, 2909, 2917, 2927, 2939, 2953, 2957, 2963, 2969, 2971, 2999, 3001, 3011, 3019, 3023, 3037, 3041, 3049, 3061, 3067, 3079, 3083, 3089, 3109, 3119, 3121, 3137, 3163, 3167, 3169, 3181, 3187, 3191, 3203, 3209, 3217, 3221, 3229, 3251, 3253, 3257, 3259, 3271, 3299, 3301, 3307, 3313, 3319, 3323, 3329, 3331, 3343, 3347, 3359, 3361, 3371, 3373, 3389, 3391, 3407, 3413, 3433, 3449, 3457, 3461, 3463, 3467, 3469, 3491, 3499, 3511, 3517, 3527, 3529, 3533, 3539, 3541, 3547, 3557, 3559, 3571, 3581, 3583, 3593, 3607, 3613, 3617, 3623, 3631, 3637, 3643, 3659, 3671, 3673, 3677, 3691, 3697, 3701, 3709, 3719, 3727, 3733, 3739, 3761, 3767, 3769, 3779, 3793, 3797, 3803, 3821, 3823, 3833, 3847, 3851, 3853, 3863, 3877, 3881, 3889, 3907, 3911, 3917, 3919, 3923, 3929, 3931, 3943, 3947, 3967, 3989, 4001, 4003, 4007, 4013, 4019, 4021, 4027, 4049, 4051, 4057, 4073, 4079, 4091, 4093, 4099, 4111, 4127, 4129, 4133, 4139, 4153, 4157, 4159, 4177, 4201, 4211, 4217, 4219, 4229, 4231, 4241, 4243, 4253, 4259, 4261, 4271, 4273, 4283, 4289, 4297, 4327, 4337, 4339, 4349, 4357, 4363, 4373, 4391, 4397, 4409, 4421, 4423, 4441, 4447, 4451, 4457, 4463, 4481, 4483, 4493, 4507, 4513, 4517, 4519, 4523, 4547, 4549, 4561, 4567, 4583, 4591, 4597, 4603, 4621, 4637, 4639, 4643, 4649, 4651, 4657, 4663, 4673, 4679, 4691, 4703, 4721, 4723, 4729, 4733, 4751, 4759, 4783, 4787, 4789, 4793, 4799, 4801, 4813, 4817, 4831, 4861, 4871, 4877, 4889, 4903, 4909, 4919, 4931, 4933, 4937, 4943, 4951, 4957, 4967, 4969, 4973, 4987, 4993, 4999, 5003, 5009, 5011, 5021, 5023, 5039, 5051, 5059, 5077, 5081, 5087, 5099, 5101, 5107, 5113, 5119, 5147, 5153, 5167, 5171, 5179, 5189, 5197, 5209, 5227, 5231, 5233, 5237, 5261, 5273, 5279, 5281, 5297, 5303, 5309, 5323, 5333, 5347, 5351, 5381, 5387, 5393, 5399, 5407, 5413, 5417, 5419, 5431, 5437, 5441, 5443, 5449, 5471, 5477, 5479, 5483, 5501, 5503, 5507, 5519, 5521, 5527, 5531, 5557, 5563, 5569, 5573, 5581, 5591, 5623, 5639, 5641, 5647, 5651, 5653, 5657, 5659, 5669, 5683, 5689, 5693, 5701, 5711, 5717, 5737, 5741, 5743, 5749, 5779, 5783, 5791, 5801, 5807, 5813, 5821, 5827, 5839, 5843, 5849, 5851, 5857, 5861, 5867, 5869, 5879, 5881, 5897, 5903, 5923, 5927, 5939, 5953, 5981, 5987, 6007, 6011, 6029, 6037, 6043, 6047, 6053, 6067, 6073, 6079, 6089, 6091, 6101, 6113, 6121, 6131, 6133, 6143, 6151, 6163, 6173, 6197, 6199, 6203, 6211, 6217, 6221, 6229, 6247, 6257, 6263, 6269, 6271, 6277, 6287, 6299, 6301, 6311, 6317, 6323, 6329, 6337, 6343, 6353, 6359, 6361, 6367, 6373, 6379, 6389, 6397, 6421, 6427, 6449, 6451, 6469, 6473, 6481, 6491, 6521, 6529, 6547, 6551, 6553, 6563, 6569, 6571, 6577, 6581, 6599, 6607, 6619, 6637, 6653, 6659, 6661, 6673, 6679, 6689, 6691, 6701, 6703, 6709, 6719, 6733, 6737, 6761, 6763, 6779, 6781, 6791, 6793, 6803, 6823, 6827, 6829, 6833, 6841, 6857, 6863, 6869, 6871, 6883, 6899, 6907, 6911, 6917, 6947, 6949, 6959, 6961, 6967, 6971, 6977, 6983, 6991, 6997, 7001, 7013, 7019, 7027, 7039, 7043, 7057, 7069, 7079, 7103, 7109, 7121, 7127, 7129, 7151, 7159, 7177, 7187, 7193, 7207, 7211, 7213, 7219, 7229, 7237, 7243, 7247, 7253, 7283, 7297, 7307, 7309, 7321, 7331, 7333, 7349, 7351, 7369, 7393, 7411, 7417, 7433, 7451, 7457, 7459, 7477, 7481, 7487, 7489, 7499, 7507, 7517, 7523, 7529, 7537, 7541, 7547, 7549, 7559, 7561, 7573, 7577, 7583, 7589, 7591, 7603, 7607, 7621, 7639, 7643, 7649, 7669, 7673, 7681, 7687, 7691, 7699, 7703, 7717, 7723, 7727, 7741, 7753, 7757, 7759, 7789, 7793, 7817, 7823, 7829, 7841, 7853, 7867, 7873, 7877, 7879, 7883, 7901, 7907, 7919, 7927, 7933, 7937, 7949, 7951, 7963, 7993, 8009, 8011, 8017, 8039, 8053, 8059, 8069, 8081, 8087, 8089, 8093, 8101, 8111, 8117, 8123, 8147, 8161, 8167, 8171, 8179, 8191, 8209, 8219, 8221, 8231, 8233, 8237, 8243, 8263, 8269, 8273, 8287, 8291, 8293, 8297, 8311, 8317, 8329, 8353, 8363, 8369, 8377, 8387, 8389, 8419, 8423, 8429, 8431, 8443, 8447, 8461, 8467, 8501, 8513, 8521, 8527, 8537, 8539, 8543, 8563, 8573, 8581, 8597, 8599, 8609, 8623, 8627, 8629, 8641, 8647, 8663, 8669, 8677, 8681, 8689, 8693, 8699, 8707, 8713, 8719, 8731, 8737, 8741, 8747, 8753, 8761, 8779, 8783, 8803, 8807, 8819, 8821, 8831, 8837, 8839, 8849, 8861, 8863, 8867, 8887, 8893, 8923, 8929, 8933, 8941, 8951, 8963, 8969, 8971, 8999, 9001, 9007, 9011, 9013, 9029, 9041, 9043, 9049, 9059, 9067, 9091, 9103, 9109, 9127, 9133, 9137, 9151, 9157, 9161, 9173, 9181, 9187, 9199, 9203, 9209, 9221, 9227, 9239, 9241, 9257, 9277, 9281, 9283, 9293, 9311, 9319, 9323, 9337, 9341, 9343, 9349, 9371, 9377, 9391, 9397, 9403, 9413, 9419, 9421, 9431, 9433, 9437, 9439, 9461, 9463, 9467, 9473, 9479, 9491, 9497, 9511, 9521, 9533, 9539, 9547, 9551, 9587, 9601, 9613, 9619, 9623, 9629, 9631, 9643, 9649, 9661, 9677, 9679, 9689, 9697, 9719, 9721, 9733, 9739, 9743, 9749, 9767, 9769, 9781, 9787, 9791, 9803, 9811, 9817, 9829, 9833, 9839, 9851, 9857, 9859, 9871, 9883, 9887, 9901, 9907, 9923, 9929, 9931, 9941, 9949, 9967, 9973]\n",
      "\n",
      "Found two prime numbers that add to 10000: 8783 and 1217\n"
     ]
    }
   ],
   "source": [
    "goldbach(10000)"
   ]
  },
  {
   "cell_type": "markdown",
   "metadata": {},
   "source": [
    "### Book's Solution"
   ]
  },
  {
   "cell_type": "code",
   "execution_count": 189,
   "metadata": {},
   "outputs": [
    {
     "name": "stdout",
     "output_type": "stream",
     "text": [
      "Goldbach checker\n",
      "\n",
      "Enter an even natural number: 24\n",
      "5 + 19 = 24\n"
     ]
    }
   ],
   "source": [
    "# c08ex07.py\n",
    "#    Goldbach tester\n",
    "\n",
    "from c08ex05 import isPrime\n",
    "\n",
    "def goldbach(x):\n",
    "    cand = 3\n",
    "    while cand < x/2:\n",
    "        other = x - cand\n",
    "        if isPrime(cand) and isPrime(other):\n",
    "            return cand\n",
    "        cand = cand + 2\n",
    "\n",
    "def main():\n",
    "    print(\"Goldbach checker\\n\")\n",
    "    \n",
    "    n = int(input(\"Enter an even natural number: \"))\n",
    "    if n % 2 != 0:\n",
    "        print(n, \"is not even!\")\n",
    "    else:\n",
    "        prime1 = goldbach(n)\n",
    "        prime2 = n - prime1\n",
    "        print(\"{0} + {1} = {2}\".format(prime1, prime2, n))\n",
    "\n",
    "if __name__ == '__main__':\n",
    "    main()\n"
   ]
  },
  {
   "cell_type": "markdown",
   "metadata": {},
   "source": [
    "## Exercise 8"
   ]
  },
  {
   "cell_type": "markdown",
   "metadata": {},
   "source": [
    "### My Solution"
   ]
  },
  {
   "cell_type": "code",
   "execution_count": 271,
   "metadata": {},
   "outputs": [],
   "source": [
    "def GCD(n,m):\n",
    "    nTrue = n\n",
    "    mTrue = m\n",
    "    while m != 0:\n",
    "        n, m = m, n % m\n",
    "    return f\"The Greatest Common divisor of {nTrue} and {mTrue} is: {n}\""
   ]
  },
  {
   "cell_type": "code",
   "execution_count": 272,
   "metadata": {},
   "outputs": [
    {
     "data": {
      "text/plain": [
       "'The Greatest Common divisor of 236 and 122 is: 2'"
      ]
     },
     "execution_count": 272,
     "metadata": {},
     "output_type": "execute_result"
    }
   ],
   "source": [
    "GCD(236,122)"
   ]
  },
  {
   "cell_type": "markdown",
   "metadata": {},
   "source": [
    "### Book Solution"
   ]
  },
  {
   "cell_type": "code",
   "execution_count": 268,
   "metadata": {},
   "outputs": [
    {
     "name": "stdout",
     "output_type": "stream",
     "text": [
      "Euclid's GCD algorithm\n",
      "\n",
      "Enter two natural numbers (n1, n2): 236,122\n",
      "The GCD of 236 and 122 is 2\n"
     ]
    }
   ],
   "source": [
    "# c08ex08.py\n",
    "#    Euclid's algorithm for GCD\n",
    "\n",
    "def gcd(m,n):\n",
    "    while m != 0:\n",
    "        n, m = m, n % m\n",
    "    return n\n",
    "\n",
    "def main():\n",
    "    print(\"Euclid's GCD algorithm\\n\")\n",
    "    x1, x2 = input(\"Enter two natural numbers (n1, n2): \").split(\",\")\n",
    "    \n",
    "    print(\"The GCD of\", x1, \"and\", x2, \"is\", gcd(int(x1),int(x2)))\n",
    "\n",
    "if __name__ == '__main__':\n",
    "    main()\n"
   ]
  },
  {
   "cell_type": "markdown",
   "metadata": {},
   "source": [
    "## Exercise 9"
   ]
  },
  {
   "cell_type": "markdown",
   "metadata": {},
   "source": [
    "### My Solution"
   ]
  },
  {
   "cell_type": "code",
   "execution_count": 308,
   "metadata": {},
   "outputs": [],
   "source": [
    "def mpg():\n",
    "    \n",
    "    start = int(input(\"What is your starting odometer at: \"))\n",
    "    counter = 0\n",
    "    end = \"no\"\n",
    "    past = start\n",
    "    total_miles = 0\n",
    "    total_gas = 0\n",
    "    total_mpg = 0\n",
    "    \n",
    "    while end != \"\":\n",
    "        odometer, gas = input(\"What is the odometer reading now? How much gas was used? \").split(\",\")\n",
    "        gas = float(gas)\n",
    "        odometer = int(odometer)\n",
    "        distance = odometer - past\n",
    "        counter += 1\n",
    "        leg = counter\n",
    "        mpg = round(odometer / gas,1)\n",
    "        past = odometer\n",
    "        print(f\"Leg: {leg}- This trip was: {distance} miles and you had a mpg of: {mpg}\")\n",
    "        total_miles += distance\n",
    "        total_gas += gas\n",
    "        print()\n",
    "        end = input(\"If you are done please simply press enter, otherwise enter any key: \")\n",
    "    \n",
    "    print()\n",
    "    total_mpg =  round(total_miles / total_gas,1)\n",
    "    print(f\"You had a total of {counter} legs, with a total distance of {total_miles} miles and a total amount of gas of {total_gas} with a total mpg of {total_mpg}\")"
   ]
  },
  {
   "cell_type": "code",
   "execution_count": 309,
   "metadata": {},
   "outputs": [
    {
     "name": "stdout",
     "output_type": "stream",
     "text": [
      "What is your starting odometer at: 0\n",
      "What is the odometer reading now? How much gas was used? 10,3\n",
      "Leg: 1- This trip was: 10 miles and you had a mpg of: 3.3\n",
      "\n",
      "If you are done please simply press enter, otherwise enter any keyf\n",
      "What is the odometer reading now? How much gas was used? 20,5\n",
      "Leg: 2- This trip was: 10 miles and you had a mpg of: 4.0\n",
      "\n",
      "If you are done please simply press enter, otherwise enter any key\n",
      "\n",
      "You had a total of 2 legs, with a total distance of 20 miles and a total amount of gas of 8.0 with a total mpg of 2.5\n"
     ]
    }
   ],
   "source": [
    "mpg()"
   ]
  },
  {
   "cell_type": "markdown",
   "metadata": {},
   "source": [
    "### Book's Solution"
   ]
  },
  {
   "cell_type": "code",
   "execution_count": 307,
   "metadata": {},
   "outputs": [
    {
     "name": "stdout",
     "output_type": "stream",
     "text": [
      "This program calculates fuel efficiency over a multi-leg journey.\n",
      "You should enter the gallons of gas consumed and miles traveled\n",
      "for each leg. Just hit <Enter> to signal the end of the trip.\n",
      "\n",
      "Enter gallons and miles (with a comma between): 3,10\n",
      "MPG for this leg: 3.3\n",
      "Enter gallons and miles (with a comma between): 5,20\n",
      "MPG for this leg: 4.0\n",
      "Enter gallons and miles (with a comma between): \n",
      "\n",
      "You traveled a total of 30.0 miles on 8.0 gallons.\n",
      "The fuel efficiency was 3.8 miles per gallon.\n"
     ]
    }
   ],
   "source": [
    "# c08ex09.py\n",
    "#   Program to figure out gas mileage overa multiple-leg journey.\n",
    "\n",
    "def main():\n",
    "    print(\"This program calculates fuel efficiency over a multi-leg journey.\")\n",
    "    print(\"You should enter the gallons of gas consumed and miles traveled\")\n",
    "    print(\"for each leg. Just hit <Enter> to signal the end of the trip.\")\n",
    "    print()\n",
    "    \n",
    "\n",
    "    distance, fuel = 0.0, 0.0\n",
    "    inStr = input(\"Enter gallons and miles (with a comma between): \")\n",
    "    while inStr != \"\":\n",
    "        inputs = inStr.split(\",\")\n",
    "        gallons, miles = int(inputs[0]), int(inputs[1])\n",
    "        print(\"MPG for this leg: {0:0.1f}\".format(miles/gallons))\n",
    "        distance = distance + miles\n",
    "        fuel = fuel + gallons\n",
    "        inStr = input(\"Enter gallons and miles (with a comma between): \")\n",
    "\n",
    "    print()\n",
    "    print(\"You traveled a total of {0:0.1f} miles on {1:0.1f} gallons.\"\n",
    "          .format(distance, fuel))\n",
    "    print(\"The fuel efficiency was {0:0.1f} miles per gallon.\"\n",
    "          .format(distance/fuel))\n",
    "\n",
    "if __name__ == '__main__':\n",
    "    main()"
   ]
  },
  {
   "cell_type": "markdown",
   "metadata": {},
   "source": [
    "## Exercise 10"
   ]
  },
  {
   "cell_type": "markdown",
   "metadata": {},
   "source": [
    "#### My Solution"
   ]
  },
  {
   "cell_type": "markdown",
   "metadata": {},
   "source": [
    "Function to make sure the lengths of the two lists are the same"
   ]
  },
  {
   "cell_type": "code",
   "execution_count": 374,
   "metadata": {},
   "outputs": [],
   "source": [
    "def check_length(list1,list2):\n",
    "    if len(list1) != len(list2):\n",
    "        return False\n",
    "    else:\n",
    "        length_list = []\n",
    "        counter = 0\n",
    "        for i in list1:\n",
    "            counter += 1\n",
    "            length_list.append(counter)\n",
    "        return length_list"
   ]
  },
  {
   "cell_type": "code",
   "execution_count": 404,
   "metadata": {},
   "outputs": [],
   "source": [
    "def mpg2():\n",
    "#Read from the two files and make them variables\n",
    "    gas_file = open(\"gas.txt\", \"r\")\n",
    "    miles_file = open(\"miles.txt\", \"r\")\n",
    "    \n",
    "    # Convert files into lists without the newline\n",
    "    gas_list = gas_file.readlines()\n",
    "    gas_str = \"\".join(gas_list)\n",
    "    gas_list = gas_str.split(\"\\n\")\n",
    "    gas_list2 = []\n",
    "    for i in gas_list:\n",
    "        gas_list2.append(float(i))\n",
    "    gas_list = gas_list2\n",
    "    \n",
    "    miles_list = miles_file.readlines()\n",
    "    miles_str = \"\".join(miles_list)\n",
    "    miles_list = miles_str.split(\"\\n\")\n",
    "    miles_list2 = []\n",
    "    for i in miles_list:\n",
    "        miles_list2.append(float(i))\n",
    "    miles_list = miles_list2\n",
    "    \n",
    "    \n",
    "    check = check_length(gas_list,miles_list)\n",
    "    if check == False:\n",
    "        print(\"Sorry you need to two files to contain the same number of rows!\")\n",
    "    else:\n",
    "        length_list = check\n",
    "        \n",
    "        # Set variables  \n",
    "        start = 0\n",
    "        print(f\"The odometer is starting at: {start}\")\n",
    "        print()\n",
    "        past = start\n",
    "        total_miles = 0\n",
    "        total_gas = 0\n",
    "        total_mpg = 0\n",
    "        leg_counter = 0\n",
    "        \n",
    "        for i in length_list:\n",
    "            odometer = miles_list[0+i]\n",
    "            gas = gas_list[0+i]\n",
    "            distance = odometer - past\n",
    "            leg = i\n",
    "            leg_counter += 1\n",
    "            mpg = round(odometer / gas,1)\n",
    "            past = odometer\n",
    "            print(f\"Leg: {leg}- This trip was: {round(distance,1)} miles, you used {gas} gallons and you had a mpg of: {mpg}\")\n",
    "            total_miles += distance\n",
    "            total_gas += gas\n",
    "            #print()\n",
    "            if i == 9:\n",
    "                break\n",
    "            \n",
    "            \n",
    "    print()\n",
    "    total_mpg =  round(total_miles / total_gas,1)\n",
    "    print(f\"You had a total of {leg_counter} legs, with a total distance of {total_miles} miles and a total amount of gas of {total_gas} with a total mpg of {total_mpg}\")\n",
    "    \n",
    "    gas_file.close()\n",
    "    miles_file.close()\n",
    "\n",
    "    "
   ]
  },
  {
   "cell_type": "code",
   "execution_count": 405,
   "metadata": {},
   "outputs": [
    {
     "name": "stdout",
     "output_type": "stream",
     "text": [
      "The odometer is starting at: 0\n",
      "\n",
      "Leg: 1- This trip was: 20.0 miles, you used 2.6 gallons and you had a mpg of: 7.7\n",
      "Leg: 2- This trip was: 2.0 miles, you used 3.0 gallons and you had a mpg of: 7.3\n",
      "Leg: 3- This trip was: 11.0 miles, you used 2.3 gallons and you had a mpg of: 14.3\n",
      "Leg: 4- This trip was: 5.0 miles, you used 1.2 gallons and you had a mpg of: 31.7\n",
      "Leg: 5- This trip was: 2.2 miles, you used 6.0 gallons and you had a mpg of: 6.7\n",
      "Leg: 6- This trip was: 29.8 miles, you used 5.8 gallons and you had a mpg of: 12.1\n",
      "Leg: 7- This trip was: 3.2 miles, you used 10.0 gallons and you had a mpg of: 7.3\n",
      "Leg: 8- This trip was: 14.8 miles, you used 3.76 gallons and you had a mpg of: 23.4\n",
      "Leg: 9- This trip was: 12.0 miles, you used 4.0 gallons and you had a mpg of: 25.0\n",
      "\n",
      "You had a total of 9 legs, with a total distance of 100.0 miles and a total amount of gas of 38.66 with a total mpg of 2.6\n"
     ]
    }
   ],
   "source": [
    "mpg2()"
   ]
  },
  {
   "cell_type": "markdown",
   "metadata": {},
   "source": [
    "#### Book's Solution"
   ]
  },
  {
   "cell_type": "code",
   "execution_count": 398,
   "metadata": {},
   "outputs": [
    {
     "name": "stdout",
     "output_type": "stream",
     "text": [
      "This program calculates fuel efficiency over a multi-leg journey.\n",
      "It gets trip information from a file. Each line of the file should\n",
      "have the gallons used and miles traveled (separated by a comma) for\n",
      "one leg of the journey.\n",
      "\n",
      "What file contains the data? trips.txt\n",
      "Gallons: 15.0, Miles: 200.0, MPG: 13.3\n",
      "Gallons: 19.0, Miles: 375.0, MPG: 19.7\n",
      "Gallons: 15.0, Miles: 238.0, MPG: 15.9\n",
      "\n",
      "You traveled a total of 813.0 miles on 49.0 gallons.\n",
      "The fuel efficiency was 16.6 miles per gallon.\n"
     ]
    }
   ],
   "source": [
    "# c08ex10.py\n",
    "#     Batch fuel efficiency\n",
    "\n",
    "def main():\n",
    "    print(\"This program calculates fuel efficiency over a multi-leg journey.\")\n",
    "    print(\"It gets trip information from a file. Each line of the file should\")\n",
    "    print(\"have the gallons used and miles traveled (separated by a comma) for\")\n",
    "    print(\"one leg of the journey.\\n\")\n",
    "\n",
    "    fname = input(\"What file contains the data? \")\n",
    "    infile = open(fname,'r')\n",
    "\n",
    "    distance, fuel = 0.0, 0.0\n",
    "    for line in infile:\n",
    "        inputs = line.split(\",\")\n",
    "        gallons, miles = int(inputs[0]), int(inputs[1])\n",
    "\n",
    "        print(\"Gallons: {0:0.1f}, Miles: {1:0.1f}, MPG: {2:0.1f}\"\n",
    "              .format(gallons, miles, miles/gallons))\n",
    "        distance = distance + miles\n",
    "        fuel = fuel + gallons\n",
    "    infile.close()\n",
    "    \n",
    "    print(\"\\nYou traveled a total of {0:0.1f} miles on {1:0.1f} gallons.\"\n",
    "          .format(distance, fuel))\n",
    "    print(\"The fuel efficiency was {0:0.1f} miles per gallon.\"\n",
    "          .format(distance/fuel))\n",
    "\n",
    "if __name__ == '__main__':\n",
    "    main()"
   ]
  },
  {
   "cell_type": "markdown",
   "metadata": {},
   "source": [
    "## Exercise 11"
   ]
  },
  {
   "cell_type": "markdown",
   "metadata": {},
   "source": [
    "#### My Solution"
   ]
  },
  {
   "cell_type": "code",
   "execution_count": 416,
   "metadata": {},
   "outputs": [],
   "source": [
    "def degree_days():\n",
    "    end = False\n",
    "    heating_days = 0\n",
    "    cooling_days = 0\n",
    "    \n",
    "    \n",
    "    while end == False:\n",
    "        day_degree = float(input(\"Please enter today's temperature: \"))\n",
    "        \n",
    "        if day_degree > 80:\n",
    "            heating_days += day_degree - 80\n",
    "        elif day_degree < 60:\n",
    "            cooling_days += 60 - day_degree\n",
    "        \n",
    "        go_on = input(\"Would you like to keep going? Press any key to continue, leave blank to end\")\n",
    "        if go_on == \"\":\n",
    "            end = True\n",
    "    print(f\"The total heating degree days was {heating_days} and the total cooling degree days was {cooling_days}\")"
   ]
  },
  {
   "cell_type": "code",
   "execution_count": 417,
   "metadata": {},
   "outputs": [
    {
     "name": "stdout",
     "output_type": "stream",
     "text": [
      "Please enter today's temperature: 55\n",
      "Would you like to keep going? Press any key to continue, leave blank to endl\n",
      "Please enter today's temperature: 88\n",
      "Would you like to keep going? Press any key to continue, leave blank to end\n",
      "The total heating degree days was 8.0 and the total cooling degree days was 5.0\n"
     ]
    }
   ],
   "source": [
    "degree_days()"
   ]
  },
  {
   "cell_type": "markdown",
   "metadata": {},
   "source": [
    "#### Book Solution"
   ]
  },
  {
   "cell_type": "code",
   "execution_count": 418,
   "metadata": {},
   "outputs": [
    {
     "name": "stdout",
     "output_type": "stream",
     "text": [
      "Heating and Cooling degree-day calculation.\n",
      "\n",
      "Enter an average daily temperature: 55\n",
      "Enter an average daily temperature: 88\n",
      "Enter an average daily temperature: \n",
      "\n",
      "Total heating degree-days 5.0\n",
      "Total cooling degree-days 8.0\n"
     ]
    }
   ],
   "source": [
    "# c08ex11.py\n",
    "#    heating/colling degree-days\n",
    "\n",
    "\n",
    "def main():\n",
    "    print(\"Heating and Cooling degree-day calculation.\\n\")\n",
    "\n",
    "    heating = 0.0\n",
    "    cooling = 0.0\n",
    "    tempStr = input(\"Enter an average daily temperature: \")\n",
    "    while tempStr != \"\":\n",
    "        temp = float(tempStr)\n",
    "        heating = heating + max(0, 60-temp)\n",
    "        cooling = cooling + max(0, temp-80)\n",
    "        tempStr = input(\"Enter an average daily temperature: \")\n",
    "\n",
    "    print(\"\\nTotal heating degree-days\", heating)\n",
    "    print(\"Total cooling degree-days\", cooling)\n",
    "\n",
    "if __name__ == '__main__':\n",
    "    main()\n"
   ]
  },
  {
   "cell_type": "markdown",
   "metadata": {},
   "source": [
    "## Exercise 12"
   ]
  },
  {
   "cell_type": "markdown",
   "metadata": {},
   "source": [
    "#### My Solution"
   ]
  },
  {
   "cell_type": "code",
   "execution_count": 434,
   "metadata": {},
   "outputs": [],
   "source": [
    "def degree_days2(file_name):\n",
    "    heating_days = 0\n",
    "    cooling_days = 0\n",
    "    counter = 0\n",
    "    \n",
    "    infile = open(file_name, \"r\")\n",
    "    temp_list = []\n",
    "    \n",
    "    for line in infile:\n",
    "        temp_list.append(float(line[0:2]))\n",
    "    \n",
    "    for temp in temp_list:\n",
    "        day_degree = temp_list[0+counter]\n",
    "        counter += 1\n",
    "        \n",
    "        if day_degree > 80:\n",
    "            heating_days += day_degree - 80\n",
    "        elif day_degree < 60:\n",
    "            cooling_days += 60 - day_degree\n",
    "        \n",
    "    print(f\"The total heating degree days was {heating_days} and the total cooling degree days was {cooling_days}\")\n",
    "    "
   ]
  },
  {
   "cell_type": "code",
   "execution_count": 435,
   "metadata": {},
   "outputs": [
    {
     "name": "stdout",
     "output_type": "stream",
     "text": [
      "The total heating degree days was 7.0 and the total cooling degree days was 5.0\n"
     ]
    }
   ],
   "source": [
    "degree_days2(\"temps.txt\")"
   ]
  },
  {
   "cell_type": "markdown",
   "metadata": {},
   "source": [
    "#### Book's Solution "
   ]
  },
  {
   "cell_type": "code",
   "execution_count": 436,
   "metadata": {},
   "outputs": [
    {
     "name": "stdout",
     "output_type": "stream",
     "text": [
      "Heating and Cooling degree-day calculation.\n",
      "Enter name of file with average temperature data: temps.txt\n",
      "\n",
      "Total heating degree-days 5.0\n",
      "Total cooling degree-days 7.0\n"
     ]
    }
   ],
   "source": [
    "# c08ex12.py\n",
    "#    Batch heating/colling degree-days\n",
    "\n",
    "\n",
    "def main():\n",
    "    print(\"Heating and Cooling degree-day calculation.\")\n",
    "    fname = input(\"Enter name of file with average temperature data: \")\n",
    "    infile = open(fname, 'r')\n",
    "\n",
    "    heating = 0.0\n",
    "    cooling = 0.0\n",
    "    for line in infile:\n",
    "        temp = float(line)\n",
    "        heating = heating + max(0, 60-temp)\n",
    "        cooling = cooling + max(0, temp-80)\n",
    "    infile.close()\n",
    "\n",
    "    print(\"\\nTotal heating degree-days\", heating)\n",
    "    print(\"Total cooling degree-days\", cooling)\n",
    "\n",
    "if __name__ == '__main__':\n",
    "    main()"
   ]
  },
  {
   "cell_type": "markdown",
   "metadata": {},
   "source": [
    "## Exercise 13"
   ]
  },
  {
   "cell_type": "markdown",
   "metadata": {},
   "source": [
    "#### My Solution"
   ]
  },
  {
   "cell_type": "code",
   "execution_count": 1,
   "metadata": {},
   "outputs": [],
   "source": [
    "from graphics import *"
   ]
  },
  {
   "cell_type": "code",
   "execution_count": 6,
   "metadata": {},
   "outputs": [],
   "source": [
    "def regression_line():\n",
    "    end = \"\"\n",
    "    n = 0\n",
    "    x_total = 0\n",
    "    y_total = 0\n",
    "    sumXsq = 0\n",
    "    sumXY = 0\n",
    "    \n",
    "    \n",
    "    win = GraphWin(\"Regression Line\", 500,500)\n",
    "    win.setCoords(0,0,10,10)\n",
    "    \n",
    "    done_button = Rectangle(Point(0,10),Point(2,9))\n",
    "    done_button.draw(win)\n",
    "    done_point = done_button.getCenter()\n",
    "    done_text = Text(done_point, \"Done\")\n",
    "    done_text.draw(win)\n",
    "    \n",
    "    while end == \"\":\n",
    "        click_point = win.getMouse()\n",
    "        checkX = click_point.getX()\n",
    "        checkY = click_point.getY()\n",
    "        if checkX >= 0 and checkX <= 2 and checkY <= 10 and checkY >= 9:\n",
    "            end = True\n",
    "            break\n",
    "        \n",
    "        else:\n",
    "            click_point.draw(win)\n",
    "            x_total += checkX\n",
    "            y_total += checkY\n",
    "            sumXsq = sumXsq + checkX * checkX\n",
    "            sumXY = sumXY + checkX * checkY\n",
    "            n +=1\n",
    "            \n",
    "    if n >= 1:\n",
    "        x_average = x_total / n\n",
    "        y_average = y_total / n\n",
    "\n",
    "        m_top = (sumXY) - (n * x_average * y_average)\n",
    "        m_bottom = (sumXsq**2) - (n*x_average**2)\n",
    "        m = m_top / m_bottom\n",
    "        y1 = y_average + m * (0-x_average)\n",
    "        y2 = y_average + m * (10-x_average)\n",
    "        print(y1,y2)\n",
    "        regLine = Line(Point(0,y1), Point(10,y2))\n",
    "        regLine.setWidth(2)\n",
    "        regLine.draw(win)\n",
    "        win.getMouse()\n",
    "        win.close()\n",
    "    else:\n",
    "        win.close()\n"
   ]
  },
  {
   "cell_type": "code",
   "execution_count": 10,
   "metadata": {},
   "outputs": [
    {
     "name": "stdout",
     "output_type": "stream",
     "text": [
      "4.268340359091223 4.642196234416522\n"
     ]
    }
   ],
   "source": [
    "regression_line()"
   ]
  },
  {
   "cell_type": "markdown",
   "metadata": {},
   "source": [
    "#### Book Solution"
   ]
  },
  {
   "cell_type": "code",
   "execution_count": 1,
   "metadata": {},
   "outputs": [
    {
     "name": "stdout",
     "output_type": "stream",
     "text": [
      "8.725374967397729 2.8851772738227686\n"
     ]
    }
   ],
   "source": [
    "# c08ex13.py\n",
    "#    Graphical Regression Line\n",
    "\n",
    "from graphics import *\n",
    "\n",
    "# These two \"constants\" are defined here so they can be used in multiple\n",
    "#    functions to draw the done button and check to see if it is clicked in.\n",
    "\n",
    "DoneX = 1.0   # x coordinate of done button upper right\n",
    "DoneY = 0.75  # y coordinate of done button upper right\n",
    "\n",
    "def createWindow():\n",
    "    # Creates a 500x500 window titled \"Linear Regression\" and draws\n",
    "    #    a \"Done Button\" in the lower left corner. The window coords\n",
    "    #    run from 0,0 to 10,10, and the upper right corner of the button\n",
    "    #    is located at (DoneX, DoneY).\n",
    "    # Returns the window.\n",
    "    win = GraphWin(\"Linear Regression\", 500, 500)\n",
    "    win.setCoords(0,0,10,10)\n",
    "    doneButton = Rectangle(Point(.05,0), Point(DoneX, DoneY))\n",
    "    doneButton.draw(win)\n",
    "    Text(doneButton.getCenter(), \"Done\").draw(win)\n",
    "    return win\n",
    "\n",
    "def getPoint(w):\n",
    "    # w is a GraphWin\n",
    "    # Pauses for user to click in w. If user clicks somewhere other than\n",
    "    #    the Done button, the point is drawn in w.\n",
    "    # Returns the point clicked, or None if user clicked the Done button\n",
    "    p = w.getMouse()\n",
    "    if p.getX() > DoneX or p.getY() > DoneY:\n",
    "        p.draw(w)\n",
    "        return p\n",
    "    else:\n",
    "        return None\n",
    "\n",
    "def slope(xb, yb, xx, xy, n):\n",
    "    # Returns the slope of the line of best fit, m\n",
    "    return (xy - n * xb * yb) / (xx - n*xb*xb)\n",
    "\n",
    "def predict(x, xb, yb, m):\n",
    "    # Returns a predicated value for y.\n",
    "    return yb + m*(x-xb)\n",
    "\n",
    "def getPoints(w):\n",
    "    # Allows the user to make a series of mouse clicks in w until\n",
    "    #    the user clicks in the Done button.\n",
    "    # Returns: average of x values\n",
    "    #          average of y values\n",
    "    #          sum of the squares of the x values\n",
    "    #          sum of the xy products\n",
    "    #          the number of points clicked before Done\n",
    "    sumX = 0.0\n",
    "    sumY = 0.0\n",
    "    sumXsq = 0.0\n",
    "    sumXY = 0.0\n",
    "    n = 0\n",
    "    p = getPoint(w)\n",
    "    while p != None:\n",
    "        x,y = p.getX(), p.getY()\n",
    "        sumX = sumX + x\n",
    "        sumY = sumY + y\n",
    "        sumXY = sumXY + x * y\n",
    "        sumXsq = sumXsq + x * x\n",
    "        n = n + 1\n",
    "        p = getPoint(w)\n",
    "    return sumX/n, sumY/n, sumXsq, sumXY, n\n",
    "\n",
    "def main():\n",
    "    # Draws a window, gets mouse clicks and then draws line of best\n",
    "    #   fit through the points that were clicked.\n",
    "    win = createWindow()\n",
    "    xbar, ybar, sumXsq, sumXY, n = getPoints(win)\n",
    "    m = slope(xbar, ybar, sumXsq, sumXY, n)\n",
    "    y1 = predict(0, xbar, ybar, m)\n",
    "    y2 = predict(10, xbar, ybar, m)\n",
    "    print(y1,y2)\n",
    "    regLine = Line(Point(0,y1), Point(10,y2))\n",
    "    regLine.setWidth(2)\n",
    "    regLine.draw(win)\n",
    "    win.getMouse()\n",
    "    win.close()\n",
    "\n",
    "if __name__ == '__main__':\n",
    "    main()"
   ]
  },
  {
   "cell_type": "markdown",
   "metadata": {},
   "source": [
    "Can't believe I managed to get 11 done (mostly correct I think)"
   ]
  },
  {
   "cell_type": "markdown",
   "metadata": {},
   "source": [
    "## Exercise 13 Special"
   ]
  },
  {
   "cell_type": "markdown",
   "metadata": {},
   "source": [
    "I'm going to do 13 again but all with functions like the book did"
   ]
  },
  {
   "cell_type": "code",
   "execution_count": null,
   "metadata": {},
   "outputs": [],
   "source": [
    "\n",
    "    "
   ]
  },
  {
   "cell_type": "markdown",
   "metadata": {},
   "source": [
    "## Exercise 14"
   ]
  },
  {
   "cell_type": "markdown",
   "metadata": {},
   "source": [
    "#### My Solution"
   ]
  },
  {
   "cell_type": "code",
   "execution_count": 1,
   "metadata": {},
   "outputs": [],
   "source": [
    "from graphics import *\n",
    "\n",
    "def gray_scale(picture):\n",
    "    win = GraphWin(\"GrayScale\", 800, 500)\n",
    "    image = Image(Point(400,200), picture)\n",
    "    image.draw(win)\n",
    "    \n",
    "    rows = image.getWidth()\n",
    "    columns = image.getHeight()\n",
    "    print(rows,columns)\n",
    "    \n",
    "    win.getMouse()\n",
    "    \n",
    "    for pixel in range(rows):\n",
    "        for pix in range(columns):\n",
    "            r,g,b = image.getPixel(pixel,pix)\n",
    "            brightness = (int(round(0.299*r + 0.587 *g + 0.114 *b)))\n",
    "            if brightness == 0:\n",
    "                image.setPixel(pixel,pix,\"black\")\n",
    "            elif brightness > 0 and brightness < 255:\n",
    "                #colorS = color_rgb(brightness,brightness,brightness)\n",
    "                image.setPixel(pixel,pix,color_rgb(brightness,brightness,brightness))\n",
    "            elif brightness == 255:\n",
    "                image.setPixel(pixel,pix,'White')\n",
    "            \n",
    "    image.save(\"new.gif\")\n",
    "    win.getMouse()\n",
    "    win.close()\n",
    "    "
   ]
  },
  {
   "cell_type": "code",
   "execution_count": 2,
   "metadata": {},
   "outputs": [
    {
     "name": "stdout",
     "output_type": "stream",
     "text": [
      "800 600\n"
     ]
    }
   ],
   "source": [
    "gray_scale(\"canoe.gif\")"
   ]
  },
  {
   "cell_type": "markdown",
   "metadata": {},
   "source": [
    "#### Book Solution"
   ]
  },
  {
   "cell_type": "code",
   "execution_count": 3,
   "metadata": {},
   "outputs": [
    {
     "name": "stdout",
     "output_type": "stream",
     "text": [
      "This program converts an image to grayscale.\n",
      "Enter the name of a GIF file to convert: s\n"
     ]
    },
    {
     "ename": "TclError",
     "evalue": "couldn't open \"s\": no such file or directory",
     "output_type": "error",
     "traceback": [
      "\u001b[1;31m---------------------------------------------------------------------------\u001b[0m",
      "\u001b[1;31mTclError\u001b[0m                                  Traceback (most recent call last)",
      "\u001b[1;32m<ipython-input-3-43b7672dd8d7>\u001b[0m in \u001b[0;36m<module>\u001b[1;34m\u001b[0m\n\u001b[0;32m     35\u001b[0m     \u001b[0mimage\u001b[0m\u001b[1;33m.\u001b[0m\u001b[0msave\u001b[0m\u001b[1;33m(\u001b[0m\u001b[0moutFile\u001b[0m\u001b[1;33m)\u001b[0m\u001b[1;33m\u001b[0m\u001b[1;33m\u001b[0m\u001b[0m\n\u001b[0;32m     36\u001b[0m \u001b[1;33m\u001b[0m\u001b[0m\n\u001b[1;32m---> 37\u001b[1;33m \u001b[0mmain\u001b[0m\u001b[1;33m(\u001b[0m\u001b[1;33m)\u001b[0m\u001b[1;33m\u001b[0m\u001b[1;33m\u001b[0m\u001b[0m\n\u001b[0m",
      "\u001b[1;32m<ipython-input-3-43b7672dd8d7>\u001b[0m in \u001b[0;36mmain\u001b[1;34m()\u001b[0m\n\u001b[0;32m     26\u001b[0m \u001b[1;33m\u001b[0m\u001b[0m\n\u001b[0;32m     27\u001b[0m     \u001b[0minFile\u001b[0m \u001b[1;33m=\u001b[0m \u001b[0minput\u001b[0m\u001b[1;33m(\u001b[0m\u001b[1;34m\"Enter the name of a GIF file to convert: \"\u001b[0m\u001b[1;33m)\u001b[0m\u001b[1;33m\u001b[0m\u001b[1;33m\u001b[0m\u001b[0m\n\u001b[1;32m---> 28\u001b[1;33m     \u001b[0mimage\u001b[0m \u001b[1;33m=\u001b[0m \u001b[0mopenImage\u001b[0m\u001b[1;33m(\u001b[0m\u001b[0minFile\u001b[0m\u001b[1;33m)\u001b[0m\u001b[1;33m\u001b[0m\u001b[1;33m\u001b[0m\u001b[0m\n\u001b[0m\u001b[0;32m     29\u001b[0m \u001b[1;33m\u001b[0m\u001b[0m\n\u001b[0;32m     30\u001b[0m     \u001b[0mprint\u001b[0m\u001b[1;33m(\u001b[0m\u001b[1;34m\"Converting...\"\u001b[0m\u001b[1;33m,\u001b[0m \u001b[0mend\u001b[0m\u001b[1;33m=\u001b[0m\u001b[1;34m\"\"\u001b[0m\u001b[1;33m)\u001b[0m\u001b[1;33m\u001b[0m\u001b[1;33m\u001b[0m\u001b[0m\n",
      "\u001b[1;32m<ipython-input-3-43b7672dd8d7>\u001b[0m in \u001b[0;36mopenImage\u001b[1;34m(picFile)\u001b[0m\n\u001b[0;32m      5\u001b[0m \u001b[1;33m\u001b[0m\u001b[0m\n\u001b[0;32m      6\u001b[0m \u001b[1;32mdef\u001b[0m \u001b[0mopenImage\u001b[0m\u001b[1;33m(\u001b[0m\u001b[0mpicFile\u001b[0m\u001b[1;33m)\u001b[0m\u001b[1;33m:\u001b[0m\u001b[1;33m\u001b[0m\u001b[1;33m\u001b[0m\u001b[0m\n\u001b[1;32m----> 7\u001b[1;33m     \u001b[0mimg\u001b[0m \u001b[1;33m=\u001b[0m \u001b[0mImage\u001b[0m\u001b[1;33m(\u001b[0m\u001b[0mPoint\u001b[0m\u001b[1;33m(\u001b[0m\u001b[1;36m0\u001b[0m\u001b[1;33m,\u001b[0m\u001b[1;36m0\u001b[0m\u001b[1;33m)\u001b[0m\u001b[1;33m,\u001b[0m \u001b[0mpicFile\u001b[0m\u001b[1;33m)\u001b[0m\u001b[1;33m\u001b[0m\u001b[1;33m\u001b[0m\u001b[0m\n\u001b[0m\u001b[0;32m      8\u001b[0m     \u001b[0mwidth\u001b[0m \u001b[1;33m=\u001b[0m \u001b[0mimg\u001b[0m\u001b[1;33m.\u001b[0m\u001b[0mgetWidth\u001b[0m\u001b[1;33m(\u001b[0m\u001b[1;33m)\u001b[0m\u001b[1;33m\u001b[0m\u001b[1;33m\u001b[0m\u001b[0m\n\u001b[0;32m      9\u001b[0m     \u001b[0mheight\u001b[0m \u001b[1;33m=\u001b[0m \u001b[0mimg\u001b[0m\u001b[1;33m.\u001b[0m\u001b[0mgetHeight\u001b[0m\u001b[1;33m(\u001b[0m\u001b[1;33m)\u001b[0m\u001b[1;33m\u001b[0m\u001b[1;33m\u001b[0m\u001b[0m\n",
      "\u001b[1;32m~\\.ipython\\graphics.py\u001b[0m in \u001b[0;36m__init__\u001b[1;34m(self, p, *pixmap)\u001b[0m\n\u001b[0;32m    883\u001b[0m         \u001b[0mImage\u001b[0m\u001b[1;33m.\u001b[0m\u001b[0midCount\u001b[0m \u001b[1;33m=\u001b[0m \u001b[0mImage\u001b[0m\u001b[1;33m.\u001b[0m\u001b[0midCount\u001b[0m \u001b[1;33m+\u001b[0m \u001b[1;36m1\u001b[0m\u001b[1;33m\u001b[0m\u001b[1;33m\u001b[0m\u001b[0m\n\u001b[0;32m    884\u001b[0m         \u001b[1;32mif\u001b[0m \u001b[0mlen\u001b[0m\u001b[1;33m(\u001b[0m\u001b[0mpixmap\u001b[0m\u001b[1;33m)\u001b[0m \u001b[1;33m==\u001b[0m \u001b[1;36m1\u001b[0m\u001b[1;33m:\u001b[0m \u001b[1;31m# file name provided\u001b[0m\u001b[1;33m\u001b[0m\u001b[1;33m\u001b[0m\u001b[0m\n\u001b[1;32m--> 885\u001b[1;33m             \u001b[0mself\u001b[0m\u001b[1;33m.\u001b[0m\u001b[0mimg\u001b[0m \u001b[1;33m=\u001b[0m \u001b[0mtk\u001b[0m\u001b[1;33m.\u001b[0m\u001b[0mPhotoImage\u001b[0m\u001b[1;33m(\u001b[0m\u001b[0mfile\u001b[0m\u001b[1;33m=\u001b[0m\u001b[0mpixmap\u001b[0m\u001b[1;33m[\u001b[0m\u001b[1;36m0\u001b[0m\u001b[1;33m]\u001b[0m\u001b[1;33m,\u001b[0m \u001b[0mmaster\u001b[0m\u001b[1;33m=\u001b[0m\u001b[0m_root\u001b[0m\u001b[1;33m)\u001b[0m\u001b[1;33m\u001b[0m\u001b[1;33m\u001b[0m\u001b[0m\n\u001b[0m\u001b[0;32m    886\u001b[0m         \u001b[1;32melse\u001b[0m\u001b[1;33m:\u001b[0m \u001b[1;31m# width and height provided\u001b[0m\u001b[1;33m\u001b[0m\u001b[1;33m\u001b[0m\u001b[0m\n\u001b[0;32m    887\u001b[0m             \u001b[0mwidth\u001b[0m\u001b[1;33m,\u001b[0m \u001b[0mheight\u001b[0m \u001b[1;33m=\u001b[0m \u001b[0mpixmap\u001b[0m\u001b[1;33m\u001b[0m\u001b[1;33m\u001b[0m\u001b[0m\n",
      "\u001b[1;32m~\\AppData\\Local\\Continuum\\anaconda3\\lib\\tkinter\\__init__.py\u001b[0m in \u001b[0;36m__init__\u001b[1;34m(self, name, cnf, master, **kw)\u001b[0m\n\u001b[0;32m   3543\u001b[0m         \u001b[0mValid\u001b[0m \u001b[0mresource\u001b[0m \u001b[0mnames\u001b[0m\u001b[1;33m:\u001b[0m \u001b[0mdata\u001b[0m\u001b[1;33m,\u001b[0m \u001b[0mformat\u001b[0m\u001b[1;33m,\u001b[0m \u001b[0mfile\u001b[0m\u001b[1;33m,\u001b[0m \u001b[0mgamma\u001b[0m\u001b[1;33m,\u001b[0m \u001b[0mheight\u001b[0m\u001b[1;33m,\u001b[0m \u001b[0mpalette\u001b[0m\u001b[1;33m,\u001b[0m\u001b[1;33m\u001b[0m\u001b[1;33m\u001b[0m\u001b[0m\n\u001b[0;32m   3544\u001b[0m         width.\"\"\"\n\u001b[1;32m-> 3545\u001b[1;33m         \u001b[0mImage\u001b[0m\u001b[1;33m.\u001b[0m\u001b[0m__init__\u001b[0m\u001b[1;33m(\u001b[0m\u001b[0mself\u001b[0m\u001b[1;33m,\u001b[0m \u001b[1;34m'photo'\u001b[0m\u001b[1;33m,\u001b[0m \u001b[0mname\u001b[0m\u001b[1;33m,\u001b[0m \u001b[0mcnf\u001b[0m\u001b[1;33m,\u001b[0m \u001b[0mmaster\u001b[0m\u001b[1;33m,\u001b[0m \u001b[1;33m**\u001b[0m\u001b[0mkw\u001b[0m\u001b[1;33m)\u001b[0m\u001b[1;33m\u001b[0m\u001b[1;33m\u001b[0m\u001b[0m\n\u001b[0m\u001b[0;32m   3546\u001b[0m     \u001b[1;32mdef\u001b[0m \u001b[0mblank\u001b[0m\u001b[1;33m(\u001b[0m\u001b[0mself\u001b[0m\u001b[1;33m)\u001b[0m\u001b[1;33m:\u001b[0m\u001b[1;33m\u001b[0m\u001b[1;33m\u001b[0m\u001b[0m\n\u001b[0;32m   3547\u001b[0m         \u001b[1;34m\"\"\"Display a transparent image.\"\"\"\u001b[0m\u001b[1;33m\u001b[0m\u001b[1;33m\u001b[0m\u001b[0m\n",
      "\u001b[1;32m~\\AppData\\Local\\Continuum\\anaconda3\\lib\\tkinter\\__init__.py\u001b[0m in \u001b[0;36m__init__\u001b[1;34m(self, imgtype, name, cnf, master, **kw)\u001b[0m\n\u001b[0;32m   3499\u001b[0m                 \u001b[0mv\u001b[0m \u001b[1;33m=\u001b[0m \u001b[0mself\u001b[0m\u001b[1;33m.\u001b[0m\u001b[0m_register\u001b[0m\u001b[1;33m(\u001b[0m\u001b[0mv\u001b[0m\u001b[1;33m)\u001b[0m\u001b[1;33m\u001b[0m\u001b[1;33m\u001b[0m\u001b[0m\n\u001b[0;32m   3500\u001b[0m             \u001b[0moptions\u001b[0m \u001b[1;33m=\u001b[0m \u001b[0moptions\u001b[0m \u001b[1;33m+\u001b[0m \u001b[1;33m(\u001b[0m\u001b[1;34m'-'\u001b[0m\u001b[1;33m+\u001b[0m\u001b[0mk\u001b[0m\u001b[1;33m,\u001b[0m \u001b[0mv\u001b[0m\u001b[1;33m)\u001b[0m\u001b[1;33m\u001b[0m\u001b[1;33m\u001b[0m\u001b[0m\n\u001b[1;32m-> 3501\u001b[1;33m         \u001b[0mself\u001b[0m\u001b[1;33m.\u001b[0m\u001b[0mtk\u001b[0m\u001b[1;33m.\u001b[0m\u001b[0mcall\u001b[0m\u001b[1;33m(\u001b[0m\u001b[1;33m(\u001b[0m\u001b[1;34m'image'\u001b[0m\u001b[1;33m,\u001b[0m \u001b[1;34m'create'\u001b[0m\u001b[1;33m,\u001b[0m \u001b[0mimgtype\u001b[0m\u001b[1;33m,\u001b[0m \u001b[0mname\u001b[0m\u001b[1;33m,\u001b[0m\u001b[1;33m)\u001b[0m \u001b[1;33m+\u001b[0m \u001b[0moptions\u001b[0m\u001b[1;33m)\u001b[0m\u001b[1;33m\u001b[0m\u001b[1;33m\u001b[0m\u001b[0m\n\u001b[0m\u001b[0;32m   3502\u001b[0m         \u001b[0mself\u001b[0m\u001b[1;33m.\u001b[0m\u001b[0mname\u001b[0m \u001b[1;33m=\u001b[0m \u001b[0mname\u001b[0m\u001b[1;33m\u001b[0m\u001b[1;33m\u001b[0m\u001b[0m\n\u001b[0;32m   3503\u001b[0m     \u001b[1;32mdef\u001b[0m \u001b[0m__str__\u001b[0m\u001b[1;33m(\u001b[0m\u001b[0mself\u001b[0m\u001b[1;33m)\u001b[0m\u001b[1;33m:\u001b[0m \u001b[1;32mreturn\u001b[0m \u001b[0mself\u001b[0m\u001b[1;33m.\u001b[0m\u001b[0mname\u001b[0m\u001b[1;33m\u001b[0m\u001b[1;33m\u001b[0m\u001b[0m\n",
      "\u001b[1;31mTclError\u001b[0m: couldn't open \"s\": no such file or directory"
     ]
    }
   ],
   "source": [
    "# c08ex14.py\n",
    "#  Convert image to grayscale\n",
    "\n",
    "from graphics import *\n",
    "\n",
    "def openImage(picFile):\n",
    "    img = Image(Point(0,0), picFile)\n",
    "    width = img.getWidth()\n",
    "    height = img.getHeight()\n",
    "    img.move(width//2, height//2)\n",
    "    win = GraphWin(picFile, width, height)\n",
    "    img.draw(win)\n",
    "    return img\n",
    "\n",
    "def convertToGray(img):\n",
    "    for row in range(img.getWidth()):\n",
    "        for col in range(img.getHeight()):\n",
    "            r, g, b = img.getPixel(row,col)\n",
    "            i = round(0.299*r + 0.587*g + 0.114*b)\n",
    "            img.setPixel(row,col, color_rgb(i,i,i))\n",
    "        update()\n",
    "\n",
    "\n",
    "def main():\n",
    "    print(\"This program converts an image to grayscale.\")\n",
    "\n",
    "    inFile = input(\"Enter the name of a GIF file to convert: \")\n",
    "    image = openImage(inFile)\n",
    "\n",
    "    print(\"Converting...\", end=\"\")\n",
    "    convertToGray(image)\n",
    "    print(\"Done.\")\n",
    "    \n",
    "    outFile = input(\"Enter filename for the converted image: \")\n",
    "    image.save(outFile)\n",
    "\n",
    "main()"
   ]
  },
  {
   "cell_type": "markdown",
   "metadata": {},
   "source": [
    "## Exercise 15"
   ]
  },
  {
   "cell_type": "markdown",
   "metadata": {},
   "source": [
    "#### My Solution"
   ]
  },
  {
   "cell_type": "code",
   "execution_count": 4,
   "metadata": {},
   "outputs": [],
   "source": [
    "from graphics import *\n",
    "\n",
    "def negative(picture):\n",
    "    \n",
    "    # show the original photo\n",
    "    win = GraphWin(\"Negative\", 800, 500)\n",
    "    image = Image(Point(400,200), picture)\n",
    "    image.draw(win)\n",
    "    \n",
    "    # Get's the rows and columns of the photo which will be used in the for loop\n",
    "    rows = image.getWidth()\n",
    "    columns = image.getHeight()\n",
    "    print(rows,columns)\n",
    "    \n",
    "    # When clicked the program will start converting each pixel to a negative.\n",
    "    win.getMouse()\n",
    "    \n",
    "    # For loop goes through and takes each pixel converting it to its negative\n",
    "    for pixel in range(rows):\n",
    "        for pix in range(columns):\n",
    "            r,g,b = image.getPixel(pixel,pix)\n",
    "            image.setPixel(pixel,pix,color_rgb(255-r,255-g,255-b))\n",
    "            \n",
    "    # Saves the new negative image\n",
    "    image.save(\"new_negative.gif\")\n",
    "    win.getMouse()\n",
    "    win.close()\n",
    "    "
   ]
  },
  {
   "cell_type": "code",
   "execution_count": 5,
   "metadata": {},
   "outputs": [
    {
     "name": "stdout",
     "output_type": "stream",
     "text": [
      "800 600\n"
     ]
    },
    {
     "ename": "TclError",
     "evalue": "too many colors",
     "output_type": "error",
     "traceback": [
      "\u001b[1;31m---------------------------------------------------------------------------\u001b[0m",
      "\u001b[1;31mTclError\u001b[0m                                  Traceback (most recent call last)",
      "\u001b[1;32m<ipython-input-5-f82dffb165de>\u001b[0m in \u001b[0;36m<module>\u001b[1;34m\u001b[0m\n\u001b[1;32m----> 1\u001b[1;33m \u001b[0mnegative\u001b[0m\u001b[1;33m(\u001b[0m\u001b[1;34m\"canoe.gif\"\u001b[0m\u001b[1;33m)\u001b[0m\u001b[1;33m\u001b[0m\u001b[1;33m\u001b[0m\u001b[0m\n\u001b[0m",
      "\u001b[1;32m<ipython-input-4-496eefa3ecc0>\u001b[0m in \u001b[0;36mnegative\u001b[1;34m(picture)\u001b[0m\n\u001b[0;32m     17\u001b[0m             \u001b[0mimage\u001b[0m\u001b[1;33m.\u001b[0m\u001b[0msetPixel\u001b[0m\u001b[1;33m(\u001b[0m\u001b[0mpixel\u001b[0m\u001b[1;33m,\u001b[0m\u001b[0mpix\u001b[0m\u001b[1;33m,\u001b[0m\u001b[0mcolor_rgb\u001b[0m\u001b[1;33m(\u001b[0m\u001b[1;36m255\u001b[0m\u001b[1;33m-\u001b[0m\u001b[0mr\u001b[0m\u001b[1;33m,\u001b[0m\u001b[1;36m255\u001b[0m\u001b[1;33m-\u001b[0m\u001b[0mg\u001b[0m\u001b[1;33m,\u001b[0m\u001b[1;36m255\u001b[0m\u001b[1;33m-\u001b[0m\u001b[0mb\u001b[0m\u001b[1;33m)\u001b[0m\u001b[1;33m)\u001b[0m\u001b[1;33m\u001b[0m\u001b[1;33m\u001b[0m\u001b[0m\n\u001b[0;32m     18\u001b[0m \u001b[1;33m\u001b[0m\u001b[0m\n\u001b[1;32m---> 19\u001b[1;33m     \u001b[0mimage\u001b[0m\u001b[1;33m.\u001b[0m\u001b[0msave\u001b[0m\u001b[1;33m(\u001b[0m\u001b[1;34m\"new_negative.gif\"\u001b[0m\u001b[1;33m)\u001b[0m\u001b[1;33m\u001b[0m\u001b[1;33m\u001b[0m\u001b[0m\n\u001b[0m\u001b[0;32m     20\u001b[0m     \u001b[0mwin\u001b[0m\u001b[1;33m.\u001b[0m\u001b[0mgetMouse\u001b[0m\u001b[1;33m(\u001b[0m\u001b[1;33m)\u001b[0m\u001b[1;33m\u001b[0m\u001b[1;33m\u001b[0m\u001b[0m\n\u001b[0;32m     21\u001b[0m     \u001b[0mwin\u001b[0m\u001b[1;33m.\u001b[0m\u001b[0mclose\u001b[0m\u001b[1;33m(\u001b[0m\u001b[1;33m)\u001b[0m\u001b[1;33m\u001b[0m\u001b[1;33m\u001b[0m\u001b[0m\n",
      "\u001b[1;32m~\\.ipython\\graphics.py\u001b[0m in \u001b[0;36msave\u001b[1;34m(self, filename)\u001b[0m\n\u001b[0;32m    954\u001b[0m         \u001b[0mpath\u001b[0m\u001b[1;33m,\u001b[0m \u001b[0mname\u001b[0m \u001b[1;33m=\u001b[0m \u001b[0mos\u001b[0m\u001b[1;33m.\u001b[0m\u001b[0mpath\u001b[0m\u001b[1;33m.\u001b[0m\u001b[0msplit\u001b[0m\u001b[1;33m(\u001b[0m\u001b[0mfilename\u001b[0m\u001b[1;33m)\u001b[0m\u001b[1;33m\u001b[0m\u001b[1;33m\u001b[0m\u001b[0m\n\u001b[0;32m    955\u001b[0m         \u001b[0mext\u001b[0m \u001b[1;33m=\u001b[0m \u001b[0mname\u001b[0m\u001b[1;33m.\u001b[0m\u001b[0msplit\u001b[0m\u001b[1;33m(\u001b[0m\u001b[1;34m\".\"\u001b[0m\u001b[1;33m)\u001b[0m\u001b[1;33m[\u001b[0m\u001b[1;33m-\u001b[0m\u001b[1;36m1\u001b[0m\u001b[1;33m]\u001b[0m\u001b[1;33m\u001b[0m\u001b[1;33m\u001b[0m\u001b[0m\n\u001b[1;32m--> 956\u001b[1;33m         \u001b[0mself\u001b[0m\u001b[1;33m.\u001b[0m\u001b[0mimg\u001b[0m\u001b[1;33m.\u001b[0m\u001b[0mwrite\u001b[0m\u001b[1;33m(\u001b[0m \u001b[0mfilename\u001b[0m\u001b[1;33m,\u001b[0m \u001b[0mformat\u001b[0m\u001b[1;33m=\u001b[0m\u001b[0mext\u001b[0m\u001b[1;33m)\u001b[0m\u001b[1;33m\u001b[0m\u001b[1;33m\u001b[0m\u001b[0m\n\u001b[0m\u001b[0;32m    957\u001b[0m \u001b[1;33m\u001b[0m\u001b[0m\n\u001b[0;32m    958\u001b[0m \u001b[1;33m\u001b[0m\u001b[0m\n",
      "\u001b[1;32m~\\AppData\\Local\\Continuum\\anaconda3\\lib\\tkinter\\__init__.py\u001b[0m in \u001b[0;36mwrite\u001b[1;34m(self, filename, format, from_coords)\u001b[0m\n\u001b[0;32m   3598\u001b[0m         \u001b[1;32mif\u001b[0m \u001b[0mfrom_coords\u001b[0m\u001b[1;33m:\u001b[0m\u001b[1;33m\u001b[0m\u001b[1;33m\u001b[0m\u001b[0m\n\u001b[0;32m   3599\u001b[0m             \u001b[0margs\u001b[0m \u001b[1;33m=\u001b[0m \u001b[0margs\u001b[0m \u001b[1;33m+\u001b[0m \u001b[1;33m(\u001b[0m\u001b[1;34m'-from'\u001b[0m\u001b[1;33m,\u001b[0m\u001b[1;33m)\u001b[0m \u001b[1;33m+\u001b[0m \u001b[0mtuple\u001b[0m\u001b[1;33m(\u001b[0m\u001b[0mfrom_coords\u001b[0m\u001b[1;33m)\u001b[0m\u001b[1;33m\u001b[0m\u001b[1;33m\u001b[0m\u001b[0m\n\u001b[1;32m-> 3600\u001b[1;33m         \u001b[0mself\u001b[0m\u001b[1;33m.\u001b[0m\u001b[0mtk\u001b[0m\u001b[1;33m.\u001b[0m\u001b[0mcall\u001b[0m\u001b[1;33m(\u001b[0m\u001b[0margs\u001b[0m\u001b[1;33m)\u001b[0m\u001b[1;33m\u001b[0m\u001b[1;33m\u001b[0m\u001b[0m\n\u001b[0m\u001b[0;32m   3601\u001b[0m \u001b[1;33m\u001b[0m\u001b[0m\n\u001b[0;32m   3602\u001b[0m \u001b[1;32mclass\u001b[0m \u001b[0mBitmapImage\u001b[0m\u001b[1;33m(\u001b[0m\u001b[0mImage\u001b[0m\u001b[1;33m)\u001b[0m\u001b[1;33m:\u001b[0m\u001b[1;33m\u001b[0m\u001b[1;33m\u001b[0m\u001b[0m\n",
      "\u001b[1;31mTclError\u001b[0m: too many colors"
     ]
    }
   ],
   "source": [
    "negative(\"canoe.gif\")"
   ]
  },
  {
   "cell_type": "markdown",
   "metadata": {},
   "source": [
    "#### Book's Solution"
   ]
  },
  {
   "cell_type": "code",
   "execution_count": 6,
   "metadata": {},
   "outputs": [
    {
     "name": "stdout",
     "output_type": "stream",
     "text": [
      "This program converts an image to a negative.\n",
      "Enter the name of a GIF file to convert: canoe.gif\n",
      "Converting...Done.\n",
      "Enter filename for the converted image: negative2\n"
     ]
    },
    {
     "ename": "TclError",
     "evalue": "image file format \"negative2\" is unknown",
     "output_type": "error",
     "traceback": [
      "\u001b[1;31m---------------------------------------------------------------------------\u001b[0m",
      "\u001b[1;31mTclError\u001b[0m                                  Traceback (most recent call last)",
      "\u001b[1;32m<ipython-input-6-c7475827f784>\u001b[0m in \u001b[0;36m<module>\u001b[1;34m\u001b[0m\n\u001b[0;32m     34\u001b[0m     \u001b[0mimage\u001b[0m\u001b[1;33m.\u001b[0m\u001b[0msave\u001b[0m\u001b[1;33m(\u001b[0m\u001b[0moutFile\u001b[0m\u001b[1;33m)\u001b[0m\u001b[1;33m\u001b[0m\u001b[1;33m\u001b[0m\u001b[0m\n\u001b[0;32m     35\u001b[0m \u001b[1;33m\u001b[0m\u001b[0m\n\u001b[1;32m---> 36\u001b[1;33m \u001b[0mmain\u001b[0m\u001b[1;33m(\u001b[0m\u001b[1;33m)\u001b[0m\u001b[1;33m\u001b[0m\u001b[1;33m\u001b[0m\u001b[0m\n\u001b[0m",
      "\u001b[1;32m<ipython-input-6-c7475827f784>\u001b[0m in \u001b[0;36mmain\u001b[1;34m()\u001b[0m\n\u001b[0;32m     32\u001b[0m \u001b[1;33m\u001b[0m\u001b[0m\n\u001b[0;32m     33\u001b[0m     \u001b[0moutFile\u001b[0m \u001b[1;33m=\u001b[0m \u001b[0minput\u001b[0m\u001b[1;33m(\u001b[0m\u001b[1;34m\"Enter filename for the converted image: \"\u001b[0m\u001b[1;33m)\u001b[0m\u001b[1;33m\u001b[0m\u001b[1;33m\u001b[0m\u001b[0m\n\u001b[1;32m---> 34\u001b[1;33m     \u001b[0mimage\u001b[0m\u001b[1;33m.\u001b[0m\u001b[0msave\u001b[0m\u001b[1;33m(\u001b[0m\u001b[0moutFile\u001b[0m\u001b[1;33m)\u001b[0m\u001b[1;33m\u001b[0m\u001b[1;33m\u001b[0m\u001b[0m\n\u001b[0m\u001b[0;32m     35\u001b[0m \u001b[1;33m\u001b[0m\u001b[0m\n\u001b[0;32m     36\u001b[0m \u001b[0mmain\u001b[0m\u001b[1;33m(\u001b[0m\u001b[1;33m)\u001b[0m\u001b[1;33m\u001b[0m\u001b[1;33m\u001b[0m\u001b[0m\n",
      "\u001b[1;32m~\\.ipython\\graphics.py\u001b[0m in \u001b[0;36msave\u001b[1;34m(self, filename)\u001b[0m\n\u001b[0;32m    954\u001b[0m         \u001b[0mpath\u001b[0m\u001b[1;33m,\u001b[0m \u001b[0mname\u001b[0m \u001b[1;33m=\u001b[0m \u001b[0mos\u001b[0m\u001b[1;33m.\u001b[0m\u001b[0mpath\u001b[0m\u001b[1;33m.\u001b[0m\u001b[0msplit\u001b[0m\u001b[1;33m(\u001b[0m\u001b[0mfilename\u001b[0m\u001b[1;33m)\u001b[0m\u001b[1;33m\u001b[0m\u001b[1;33m\u001b[0m\u001b[0m\n\u001b[0;32m    955\u001b[0m         \u001b[0mext\u001b[0m \u001b[1;33m=\u001b[0m \u001b[0mname\u001b[0m\u001b[1;33m.\u001b[0m\u001b[0msplit\u001b[0m\u001b[1;33m(\u001b[0m\u001b[1;34m\".\"\u001b[0m\u001b[1;33m)\u001b[0m\u001b[1;33m[\u001b[0m\u001b[1;33m-\u001b[0m\u001b[1;36m1\u001b[0m\u001b[1;33m]\u001b[0m\u001b[1;33m\u001b[0m\u001b[1;33m\u001b[0m\u001b[0m\n\u001b[1;32m--> 956\u001b[1;33m         \u001b[0mself\u001b[0m\u001b[1;33m.\u001b[0m\u001b[0mimg\u001b[0m\u001b[1;33m.\u001b[0m\u001b[0mwrite\u001b[0m\u001b[1;33m(\u001b[0m \u001b[0mfilename\u001b[0m\u001b[1;33m,\u001b[0m \u001b[0mformat\u001b[0m\u001b[1;33m=\u001b[0m\u001b[0mext\u001b[0m\u001b[1;33m)\u001b[0m\u001b[1;33m\u001b[0m\u001b[1;33m\u001b[0m\u001b[0m\n\u001b[0m\u001b[0;32m    957\u001b[0m \u001b[1;33m\u001b[0m\u001b[0m\n\u001b[0;32m    958\u001b[0m \u001b[1;33m\u001b[0m\u001b[0m\n",
      "\u001b[1;32m~\\AppData\\Local\\Continuum\\anaconda3\\lib\\tkinter\\__init__.py\u001b[0m in \u001b[0;36mwrite\u001b[1;34m(self, filename, format, from_coords)\u001b[0m\n\u001b[0;32m   3598\u001b[0m         \u001b[1;32mif\u001b[0m \u001b[0mfrom_coords\u001b[0m\u001b[1;33m:\u001b[0m\u001b[1;33m\u001b[0m\u001b[1;33m\u001b[0m\u001b[0m\n\u001b[0;32m   3599\u001b[0m             \u001b[0margs\u001b[0m \u001b[1;33m=\u001b[0m \u001b[0margs\u001b[0m \u001b[1;33m+\u001b[0m \u001b[1;33m(\u001b[0m\u001b[1;34m'-from'\u001b[0m\u001b[1;33m,\u001b[0m\u001b[1;33m)\u001b[0m \u001b[1;33m+\u001b[0m \u001b[0mtuple\u001b[0m\u001b[1;33m(\u001b[0m\u001b[0mfrom_coords\u001b[0m\u001b[1;33m)\u001b[0m\u001b[1;33m\u001b[0m\u001b[1;33m\u001b[0m\u001b[0m\n\u001b[1;32m-> 3600\u001b[1;33m         \u001b[0mself\u001b[0m\u001b[1;33m.\u001b[0m\u001b[0mtk\u001b[0m\u001b[1;33m.\u001b[0m\u001b[0mcall\u001b[0m\u001b[1;33m(\u001b[0m\u001b[0margs\u001b[0m\u001b[1;33m)\u001b[0m\u001b[1;33m\u001b[0m\u001b[1;33m\u001b[0m\u001b[0m\n\u001b[0m\u001b[0;32m   3601\u001b[0m \u001b[1;33m\u001b[0m\u001b[0m\n\u001b[0;32m   3602\u001b[0m \u001b[1;32mclass\u001b[0m \u001b[0mBitmapImage\u001b[0m\u001b[1;33m(\u001b[0m\u001b[0mImage\u001b[0m\u001b[1;33m)\u001b[0m\u001b[1;33m:\u001b[0m\u001b[1;33m\u001b[0m\u001b[1;33m\u001b[0m\u001b[0m\n",
      "\u001b[1;31mTclError\u001b[0m: image file format \"negative2\" is unknown"
     ]
    }
   ],
   "source": [
    "# c08ex15.py\n",
    "#  Convert image to color negative\n",
    "\n",
    "from graphics import *\n",
    "\n",
    "def openImage(picFile):\n",
    "    img = Image(Point(0,0), picFile)\n",
    "    width = img.getWidth()\n",
    "    height = img.getHeight()\n",
    "    img.move(width//2, height//2)\n",
    "    win = GraphWin(picFile, width, height)\n",
    "    img.draw(win)\n",
    "    return img\n",
    "\n",
    "def convertToNegative(img):\n",
    "    for row in range(img.getWidth()):\n",
    "        for col in range(img.getHeight()):\n",
    "            r, g, b = img.getPixel(row,col)\n",
    "            img.setPixel(row,col, color_rgb(255-r,255-g,255-b))\n",
    "        update()\n",
    "\n",
    "\n",
    "def main():\n",
    "    print(\"This program converts an image to a negative.\")\n",
    "\n",
    "    inFile = input(\"Enter the name of a GIF file to convert: \")\n",
    "    image = openImage(inFile)\n",
    "\n",
    "    print(\"Converting...\", end=\"\")\n",
    "    convertToNegative(image)\n",
    "    print(\"Done.\")\n",
    "    \n",
    "    outFile = input(\"Enter filename for the converted image: \")\n",
    "    image.save(outFile)\n",
    "\n",
    "main()"
   ]
  },
  {
   "cell_type": "markdown",
   "metadata": {},
   "source": [
    "## Exercise 16"
   ]
  },
  {
   "cell_type": "markdown",
   "metadata": {},
   "source": [
    "#### My Solution"
   ]
  },
  {
   "cell_type": "code",
   "execution_count": 8,
   "metadata": {},
   "outputs": [],
   "source": [
    "# event_loop3.py \n",
    "#      Color changing window with clicks to enter text\n",
    "\n",
    "from graphics import *\n",
    "\n",
    "def handleKey(k, win):\n",
    "    if k == \"r\":\n",
    "        win.setBackground(\"pink\")\n",
    "    elif k == \"w\":\n",
    "        win.setBackground(\"white\")\n",
    "    elif k == \"g\":\n",
    "        win.setBackground(\"lightgray\")\n",
    "    elif k == \"b\":\n",
    "        win.setBackground(\"lightblue\")\n",
    "\n",
    "        \n",
    "def handleClick(pt, win):\n",
    "    # create an Entry for user to type in\n",
    "    entry = Entry(pt, 10)\n",
    "    entry.draw(win)\n",
    "    \n",
    "    # Go modal: wait until user types Return or Escape Key\n",
    "    while True:\n",
    "        key = win.getKey()\n",
    "        if key == \"Return\":\n",
    "            break\n",
    "        elif key == \"Escape\":\n",
    "            entry.undraw()\n",
    "            break\n",
    "\n",
    "    # undraw the entry and draw Text\n",
    "    if key == 'Return':\n",
    "        entry.undraw()\n",
    "        Text(pt, entry.getText()).draw(win)\n",
    "\n",
    "        # clear (ignore) any mouse click that occurred during text entry\n",
    "        win.checkMouse() \n",
    "    \n",
    "    \n",
    "def main():\n",
    "    win = GraphWin(\"Click and Type\", 500, 500)\n",
    "\n",
    "    # Event Loop: handle key presses and mouse clicks until the user\n",
    "    #    presses the \"q\" key.\n",
    "    while True:\n",
    "        key = win.checkKey()\n",
    "        if key == \"q\":  # loop exit\n",
    "            break\n",
    "        \n",
    "        if key:\n",
    "            handleKey(key, win)\n",
    "\n",
    "        pt = win.checkMouse()\n",
    "        if pt:\n",
    "            handleClick(pt, win)\n",
    "\n",
    "    win.close()\n",
    "    \n",
    "main()"
   ]
  },
  {
   "cell_type": "markdown",
   "metadata": {},
   "source": [
    "#### Book Solution"
   ]
  },
  {
   "cell_type": "code",
   "execution_count": 7,
   "metadata": {},
   "outputs": [],
   "source": [
    "# event_loop3.py \n",
    "#      Color changing window with clicks to enter text\n",
    "\n",
    "from graphics import *\n",
    "\n",
    "def handleKey(k, win):\n",
    "    if k == \"r\":\n",
    "        win.setBackground(\"pink\")\n",
    "    elif k == \"w\":\n",
    "        win.setBackground(\"white\")\n",
    "    elif k == \"g\":\n",
    "        win.setBackground(\"lightgray\")\n",
    "    elif k == \"b\":\n",
    "        win.setBackground(\"lightblue\")\n",
    "\n",
    "        \n",
    "def handleClick(pt, win):\n",
    "    # create an Entry for user to type in\n",
    "    entry = Entry(pt, 10)\n",
    "    entry.draw(win)\n",
    "    \n",
    "    # Go modal: wait until user types Return or Escape Key\n",
    "    while True:\n",
    "        key = win.getKey()\n",
    "        if key in [\"Return\", \"Escape\"]:\n",
    "            break\n",
    "\n",
    "    # undraw the entry and draw Text\n",
    "    entry.undraw()\n",
    "    if key == \"Return\":\n",
    "        Text(pt, entry.getText()).draw(win)\n",
    "\n",
    "    # clear (ignore) any mouse click that occurred during text entry\n",
    "    win.checkMouse() \n",
    "    \n",
    "    \n",
    "def main():\n",
    "    win = GraphWin(\"Click and Type\", 500, 500)\n",
    "\n",
    "    # Event Loop: handle key presses and mouse clicks until the user\n",
    "    #    presses the \"q\" key.\n",
    "    while True:\n",
    "        key = win.checkKey()\n",
    "        if key == \"q\":  # loop exit\n",
    "            break\n",
    "        \n",
    "        if key:\n",
    "            handleKey(key, win)\n",
    "\n",
    "        pt = win.checkMouse()\n",
    "        if pt:\n",
    "            handleClick(pt, win)\n",
    "\n",
    "    win.close()\n",
    "    \n",
    "main()"
   ]
  },
  {
   "cell_type": "markdown",
   "metadata": {},
   "source": [
    "# Viola!"
   ]
  }
 ],
 "metadata": {
  "kernelspec": {
   "display_name": "Python 3 (ipykernel)",
   "language": "python",
   "name": "python3"
  },
  "language_info": {
   "codemirror_mode": {
    "name": "ipython",
    "version": 3
   },
   "file_extension": ".py",
   "mimetype": "text/x-python",
   "name": "python",
   "nbconvert_exporter": "python",
   "pygments_lexer": "ipython3",
   "version": "3.9.13"
  }
 },
 "nbformat": 4,
 "nbformat_minor": 2
}
