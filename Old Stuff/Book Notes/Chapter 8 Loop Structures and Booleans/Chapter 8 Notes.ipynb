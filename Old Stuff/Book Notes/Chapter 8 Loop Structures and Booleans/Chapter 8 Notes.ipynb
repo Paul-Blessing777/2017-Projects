{
 "cells": [
  {
   "cell_type": "markdown",
   "metadata": {},
   "source": [
    "## 8:1 For Loops- A Quick Review"
   ]
  },
  {
   "cell_type": "code",
   "execution_count": 5,
   "metadata": {},
   "outputs": [],
   "source": [
    "# A quick example of how we might use a for loop\n",
    "\n",
    "def avg_inputs():\n",
    "    print(\"This program will calculate the average of the numbers inputted but to a selected limit\")\n",
    "    total = 0.0\n",
    "    \n",
    "    n = int(input(\"Enter the amount of numbers that will be inputted: \"))\n",
    "    \n",
    "    for number in range(n):\n",
    "        x = float(input(\"Provide a number: \"))\n",
    "        total += x\n",
    "        \n",
    "    return total / n"
   ]
  },
  {
   "cell_type": "code",
   "execution_count": 6,
   "metadata": {},
   "outputs": [
    {
     "name": "stdout",
     "output_type": "stream",
     "text": [
      "This program will calculate the average of the numbers inputted but to a selected limit\n",
      "Enter the amount of numbers that will be inputted: 5\n",
      "Provide a number: 22\n",
      "Provide a number: 33\n",
      "Provide a number: 44\n",
      "Provide a number: 55\n",
      "Provide a number: 66\n"
     ]
    },
    {
     "data": {
      "text/plain": [
       "44.0"
      ]
     },
     "execution_count": 6,
     "metadata": {},
     "output_type": "execute_result"
    }
   ],
   "source": [
    "avg_inputs()"
   ]
  },
  {
   "cell_type": "markdown",
   "metadata": {},
   "source": [
    "## 8.2 Indefinite Loops"
   ]
  },
  {
   "cell_type": "markdown",
   "metadata": {},
   "source": [
    "The for loop is what we call a definite loop, it interates for a designated number of times. But this isn't always how we will want to prgram things. The While loop on the other hand is an indefinite loop and can loop until a certain condition is met. It's syntax is like this: <br>\n",
    "while (Condition):<br>\n",
    "    (Body)"
   ]
  },
  {
   "cell_type": "code",
   "execution_count": 7,
   "metadata": {},
   "outputs": [
    {
     "name": "stdout",
     "output_type": "stream",
     "text": [
      "0\n",
      "1\n",
      "2\n",
      "3\n",
      "4\n",
      "5\n",
      "6\n",
      "7\n",
      "8\n",
      "9\n",
      "10\n"
     ]
    }
   ],
   "source": [
    "# Simple While loop\n",
    "i = 0\n",
    "while i <= 10:\n",
    "    print(i)\n",
    "    i +=1"
   ]
  },
  {
   "cell_type": "code",
   "execution_count": 8,
   "metadata": {},
   "outputs": [
    {
     "name": "stdout",
     "output_type": "stream",
     "text": [
      "0\n",
      "1\n",
      "2\n",
      "3\n",
      "4\n",
      "5\n",
      "6\n",
      "7\n",
      "8\n",
      "9\n",
      "10\n"
     ]
    }
   ],
   "source": [
    "# the same could be achieved with a for loop like this:\n",
    "for i in range(11):\n",
    "    print(i)"
   ]
  },
  {
   "cell_type": "markdown",
   "metadata": {},
   "source": [
    "## 8.3 Common Loop Patterns"
   ]
  },
  {
   "cell_type": "markdown",
   "metadata": {},
   "source": [
    "### Interactive Loops"
   ]
  },
  {
   "cell_type": "code",
   "execution_count": 2,
   "metadata": {},
   "outputs": [],
   "source": [
    "# The book talks about allowing the user to quit the program and give them a count of iterations. here's my try first.\n",
    "def average2():\n",
    "    total = 0.0\n",
    "    count = 0\n",
    "    keep_going = True\n",
    "    \n",
    "    \n",
    "    while keep_going == True:\n",
    "        x = float(input(\"Please enter a number: \"))\n",
    "        count += 1\n",
    "        total += x\n",
    "        cont = input(\"Would you like to continue? Y for yes N for no: \").lower()\n",
    "        print(cont)\n",
    "        if cont == \"y\":\n",
    "            keep_going = True\n",
    "        elif cont == \"n\":\n",
    "            keep_going = False\n",
    "        else:\n",
    "            print(\"You need to provide a Y or N!\")\n",
    "       \n",
    "            \n",
    "    return f\"You provided {count} numbers and the average of them is {total / count}\"\n",
    "        "
   ]
  },
  {
   "cell_type": "code",
   "execution_count": 3,
   "metadata": {},
   "outputs": [
    {
     "name": "stdout",
     "output_type": "stream",
     "text": [
      "Please enter a number: 2\n",
      "Would you like to continue? Y for yes N for no: y\n",
      "y\n",
      "Please enter a number: 2\n",
      "Would you like to continue? Y for yes N for no: n\n",
      "n\n"
     ]
    },
    {
     "data": {
      "text/plain": [
       "'You provided 2 numbers and the average of them is 2.0'"
      ]
     },
     "execution_count": 3,
     "metadata": {},
     "output_type": "execute_result"
    }
   ],
   "source": [
    "average2()"
   ]
  },
  {
   "cell_type": "code",
   "execution_count": 1,
   "metadata": {},
   "outputs": [],
   "source": [
    "# Version 2"
   ]
  },
  {
   "cell_type": "code",
   "execution_count": 17,
   "metadata": {},
   "outputs": [],
   "source": [
    "# The book talks about allowing the user to quit the program and give them a count of iterations. here's my second try.\n",
    "def average2():\n",
    "    total = 0.0\n",
    "    count = 0\n",
    "    keep_going = True\n",
    "    \n",
    "    \n",
    "    while keep_going == True:\n",
    "        x = float(input(\"Please enter a number: \"))\n",
    "        count += 1\n",
    "        total += x\n",
    "        cont = input(\"Would you like to continue? Y for yes N for no: \").lower()\n",
    "\n",
    "        while cont != \"y\":\n",
    "            if cont == \"n\":\n",
    "                break\n",
    "            cont = input(\"Would you like to continue? Y for yes N for no: \").lower()\n",
    "            \n",
    "        if cont == \"y\":\n",
    "            keep_going = True\n",
    "        elif cont == \"n\":\n",
    "            keep_going = False\n",
    "\n",
    "       \n",
    "            \n",
    "    return f\"You provided {count} numbers and the average of them is {total / count}\"\n",
    "        "
   ]
  },
  {
   "cell_type": "code",
   "execution_count": 18,
   "metadata": {},
   "outputs": [
    {
     "name": "stdout",
     "output_type": "stream",
     "text": [
      "Please enter a number: 2\n",
      "Would you like to continue? Y for yes N for no: y\n",
      "y\n",
      "Please enter a number: 6\n",
      "Would you like to continue? Y for yes N for no: y\n",
      "y\n",
      "Please enter a number: 8\n",
      "Would you like to continue? Y for yes N for no: i\n",
      "i\n",
      "Would you like to continue? Y for yes N for no: n\n"
     ]
    },
    {
     "data": {
      "text/plain": [
       "'You provided 3 numbers and the average of them is 5.333333333333333'"
      ]
     },
     "execution_count": 18,
     "metadata": {},
     "output_type": "execute_result"
    }
   ],
   "source": [
    "average2()"
   ]
  },
  {
   "cell_type": "markdown",
   "metadata": {},
   "source": [
    "### The books simplier version"
   ]
  },
  {
   "cell_type": "code",
   "execution_count": 22,
   "metadata": {},
   "outputs": [],
   "source": [
    "def main():\n",
    "    total = 0\n",
    "    count = 0\n",
    "    moredata = \"yes\"\n",
    "    \n",
    "    while moredata[0] == \"y\":\n",
    "        x = float(input(\"Enter a number >> \"))\n",
    "        total += x\n",
    "        count += 1\n",
    "        moredata = input(\"Do you have more numbers (yes or no) \")\n",
    "    print(\"\\nThe average of the numbers is, \", total/count)"
   ]
  },
  {
   "cell_type": "code",
   "execution_count": 23,
   "metadata": {},
   "outputs": [
    {
     "name": "stdout",
     "output_type": "stream",
     "text": [
      "Enter a number >> 4\n",
      "Do you have more numbers (yes or no) h\n",
      "\n",
      "The average of the numbers is,  4.0\n"
     ]
    }
   ],
   "source": [
    "main()"
   ]
  },
  {
   "cell_type": "markdown",
   "metadata": {},
   "source": [
    "### Sentinel Loops"
   ]
  },
  {
   "cell_type": "markdown",
   "metadata": {},
   "source": [
    "A better solution to the number averaging problem is to employ a pattern commonly known as a sentinel loop. A sentinel loop continues to process data until reaching a special value that signals the end. The special value is called the sentinel. Any value may be chosen for the sentinel. The only restriction is that it be distinguishable form actual data values. The sentinel is not processed as part of the data."
   ]
  },
  {
   "cell_type": "code",
   "execution_count": 24,
   "metadata": {},
   "outputs": [],
   "source": [
    "# Book example\n",
    "def main():\n",
    "    total = 0.0\n",
    "    count = 0\n",
    "    x = float(input(\"Enter a number (negative to quit) >> \"))\n",
    "    while x >= 0:\n",
    "        total += x\n",
    "        count += 1\n",
    "        x = float(input(\"Enter a number (negative to quit) >> \"))\n",
    "    print(\"\\nThe average of the numbers is, \", total/count)"
   ]
  },
  {
   "cell_type": "code",
   "execution_count": 25,
   "metadata": {},
   "outputs": [
    {
     "name": "stdout",
     "output_type": "stream",
     "text": [
      "Enter a number (negative to quit) >> 3\n",
      "Enter a number (negative to quit) >> 4\n",
      "Enter a number (negative to quit) >> 66\n",
      "Enter a number (negative to quit) >> 77\n",
      "Enter a number (negative to quit) >> 88\n",
      "Enter a number (negative to quit) >> 99\n",
      "Enter a number (negative to quit) >> 100\n",
      "Enter a number (negative to quit) >> 0\n",
      "Enter a number (negative to quit) >> -0\n",
      "Enter a number (negative to quit) >> -9\n",
      "\n",
      "The average of the numbers is,  48.55555555555556\n"
     ]
    }
   ],
   "source": [
    "main()"
   ]
  },
  {
   "cell_type": "code",
   "execution_count": 26,
   "metadata": {},
   "outputs": [
    {
     "name": "stdout",
     "output_type": "stream",
     "text": [
      "Enter a number (<Enter> to quit) >> 2\n",
      "Enter a number (<Enter> to quit) >> 3\n",
      "Enter a number (<Enter> to quit) >> 4\n",
      "Enter a number (<Enter> to quit) >> \n",
      "\n",
      "The average of the numbers is 3.0\n"
     ]
    }
   ],
   "source": [
    "# Another book example\n",
    "# average4.py\n",
    "\n",
    "def main():\n",
    "    total = 0.0\n",
    "    count = 0\n",
    "    xStr = input(\"Enter a number (<Enter> to quit) >> \")\n",
    "    while xStr != \"\":\n",
    "        x = float(xStr)\n",
    "        total = total + x\n",
    "        count = count + 1\n",
    "        xStr = input(\"Enter a number (<Enter> to quit) >> \")\n",
    "    print(\"\\nThe average of the numbers is\", total / count)\n",
    "\n",
    "main()"
   ]
  },
  {
   "cell_type": "markdown",
   "metadata": {},
   "source": [
    "### File Loops"
   ]
  },
  {
   "cell_type": "markdown",
   "metadata": {},
   "source": [
    "If we were trying to place 100 numbers into our average program but made one mistake we'd have to start all over again. That's why its common to use files for data ingestion"
   ]
  },
  {
   "cell_type": "code",
   "execution_count": 39,
   "metadata": {},
   "outputs": [],
   "source": [
    "#Book example\n",
    "def main():\n",
    "    fileName = \"numbers.txt\"\n",
    "    infile = open(fileName, 'r')\n",
    "    total = 0\n",
    "    count = 0\n",
    "    for line in infile:\n",
    "        total += float(line)\n",
    "        count += 1\n",
    "    print(\"\\nThe average of the numbers is\", total / count)"
   ]
  },
  {
   "cell_type": "code",
   "execution_count": 40,
   "metadata": {},
   "outputs": [
    {
     "name": "stdout",
     "output_type": "stream",
     "text": [
      "\n",
      "The average of the numbers is 25.1642\n"
     ]
    }
   ],
   "source": [
    "main()"
   ]
  },
  {
   "cell_type": "markdown",
   "metadata": {},
   "source": [
    "### Nested Loops"
   ]
  },
  {
   "cell_type": "code",
   "execution_count": 41,
   "metadata": {},
   "outputs": [],
   "source": [
    "#Book example\n",
    "def main():\n",
    "    fileName = \"numbers2.txt\"\n",
    "    infile = open(fileName, 'r')\n",
    "    total = 0\n",
    "    count = 0\n",
    "    for line in infile:\n",
    "        total += float(line)\n",
    "        count += 1\n",
    "    print(\"\\nThe average of the numbers is\", total / count)"
   ]
  },
  {
   "cell_type": "code",
   "execution_count": 42,
   "metadata": {},
   "outputs": [
    {
     "ename": "ValueError",
     "evalue": "could not convert string to float: '33.3,2,5\\n'",
     "output_type": "error",
     "traceback": [
      "\u001b[1;31m---------------------------------------------------------------------------\u001b[0m",
      "\u001b[1;31mValueError\u001b[0m                                Traceback (most recent call last)",
      "\u001b[1;32m<ipython-input-42-263240bbee7e>\u001b[0m in \u001b[0;36m<module>\u001b[1;34m\u001b[0m\n\u001b[1;32m----> 1\u001b[1;33m \u001b[0mmain\u001b[0m\u001b[1;33m(\u001b[0m\u001b[1;33m)\u001b[0m\u001b[1;33m\u001b[0m\u001b[1;33m\u001b[0m\u001b[0m\n\u001b[0m",
      "\u001b[1;32m<ipython-input-41-68d8d9907019>\u001b[0m in \u001b[0;36mmain\u001b[1;34m()\u001b[0m\n\u001b[0;32m      6\u001b[0m     \u001b[0mcount\u001b[0m \u001b[1;33m=\u001b[0m \u001b[1;36m0\u001b[0m\u001b[1;33m\u001b[0m\u001b[1;33m\u001b[0m\u001b[0m\n\u001b[0;32m      7\u001b[0m     \u001b[1;32mfor\u001b[0m \u001b[0mline\u001b[0m \u001b[1;32min\u001b[0m \u001b[0minfile\u001b[0m\u001b[1;33m:\u001b[0m\u001b[1;33m\u001b[0m\u001b[1;33m\u001b[0m\u001b[0m\n\u001b[1;32m----> 8\u001b[1;33m         \u001b[0mtotal\u001b[0m \u001b[1;33m+=\u001b[0m \u001b[0mfloat\u001b[0m\u001b[1;33m(\u001b[0m\u001b[0mline\u001b[0m\u001b[1;33m)\u001b[0m\u001b[1;33m\u001b[0m\u001b[1;33m\u001b[0m\u001b[0m\n\u001b[0m\u001b[0;32m      9\u001b[0m         \u001b[0mcount\u001b[0m \u001b[1;33m+=\u001b[0m \u001b[1;36m1\u001b[0m\u001b[1;33m\u001b[0m\u001b[1;33m\u001b[0m\u001b[0m\n\u001b[0;32m     10\u001b[0m     \u001b[0mprint\u001b[0m\u001b[1;33m(\u001b[0m\u001b[1;34m\"\\nThe average of the numbers is\"\u001b[0m\u001b[1;33m,\u001b[0m \u001b[0mtotal\u001b[0m \u001b[1;33m/\u001b[0m \u001b[0mcount\u001b[0m\u001b[1;33m)\u001b[0m\u001b[1;33m\u001b[0m\u001b[1;33m\u001b[0m\u001b[0m\n",
      "\u001b[1;31mValueError\u001b[0m: could not convert string to float: '33.3,2,5\\n'"
     ]
    }
   ],
   "source": [
    "main()"
   ]
  },
  {
   "cell_type": "code",
   "execution_count": 43,
   "metadata": {},
   "outputs": [
    {
     "name": "stdout",
     "output_type": "stream",
     "text": [
      "What file are the numbers in? numbers2.txt\n",
      "\n",
      "The average of the numbers is 22.646416666666667\n"
     ]
    }
   ],
   "source": [
    "# average7.py\n",
    "\n",
    "def main():\n",
    "    fileName = input(\"What file are the numbers in? \")\n",
    "    infile = open(fileName,'r')\n",
    "    total = 0.0\n",
    "    count = 0\n",
    "    line = infile.readline()\n",
    "    while line != \"\":\n",
    "        # update total and count for values in line\n",
    "        for xStr in line.split(\",\"):\n",
    "            total = total + float(xStr)\n",
    "            count = count + 1\n",
    "        line = infile.readline()\n",
    "    print(\"\\nThe average of the numbers is\", total / count)\n",
    "\n",
    "main()"
   ]
  },
  {
   "cell_type": "markdown",
   "metadata": {},
   "source": [
    "## 8.4 Computing with Booleans"
   ]
  },
  {
   "cell_type": "markdown",
   "metadata": {},
   "source": [
    "### Boolean Operators"
   ]
  },
  {
   "cell_type": "markdown",
   "metadata": {},
   "source": [
    "The two main boolean operators are AND and OR.<br><br>\n",
    "\n",
    "And is only true if both condition 1 and condition 2 are true, otherwise it is false.<br>\n",
    "Or is true if condition 1 OR condition 2 are true, otherwise it is fale.<br>\n",
    "\n"
   ]
  },
  {
   "cell_type": "code",
   "execution_count": null,
   "metadata": {},
   "outputs": [],
   "source": [
    "# Let's use the and statement to figure out if two points are the same.\n",
    "if p1.getX() == p2.getX() and p1.getY() = p2.getY():\n",
    "    # Points are the same\n",
    "else:\n",
    "    # Points are different"
   ]
  },
  {
   "cell_type": "markdown",
   "metadata": {},
   "source": [
    "### Boolean Algebra"
   ]
  },
  {
   "cell_type": "markdown",
   "metadata": {},
   "source": [
    "The book gives a brief overview but i'm still a bit confused. I'd suggest looking for some supplimental material on this topic."
   ]
  },
  {
   "cell_type": "markdown",
   "metadata": {},
   "source": [
    "## 8.5 Other Common Structures"
   ]
  },
  {
   "cell_type": "markdown",
   "metadata": {},
   "source": [
    "### Post-test Loop"
   ]
  },
  {
   "cell_type": "markdown",
   "metadata": {},
   "source": [
    "There are situations where you'll want to engage in input validation to make sure something a user entered is valid for your program. This is where post-test loops come in"
   ]
  },
  {
   "cell_type": "code",
   "execution_count": 44,
   "metadata": {},
   "outputs": [
    {
     "name": "stdout",
     "output_type": "stream",
     "text": [
      "Enter a positive number-5\n",
      "Enter a positive number3\n"
     ]
    }
   ],
   "source": [
    "# A good way to start a post test loop is with a unusable variable like below:\n",
    "number = -1\n",
    "while number < 0:\n",
    "    number = float(input(\"Enter a positive number: \"))"
   ]
  },
  {
   "cell_type": "markdown",
   "metadata": {},
   "source": [
    "This forces the loop to execute at least once and then subsequentially until a legal value is provided."
   ]
  },
  {
   "cell_type": "code",
   "execution_count": 46,
   "metadata": {},
   "outputs": [
    {
     "name": "stdout",
     "output_type": "stream",
     "text": [
      "Enter a positive number: -5\n",
      "Enter a positive number: -6\n",
      "Enter a positive number: -55\n",
      "Enter a positive number: 23\n"
     ]
    }
   ],
   "source": [
    "# Another way to do this is by using an infinite loop with a break statement like below:\n",
    "while True:\n",
    "    number = float(input(\"Enter a positive number: \"))\n",
    "    if number >= 0: break # You can have it online like this with a single break"
   ]
  },
  {
   "cell_type": "code",
   "execution_count": 47,
   "metadata": {},
   "outputs": [
    {
     "name": "stdout",
     "output_type": "stream",
     "text": [
      "Enter a positive number: -6\n",
      "YOu must provide a number greater than or equal to zero!\n",
      "Enter a positive number: -9\n",
      "YOu must provide a number greater than or equal to zero!\n",
      "Enter a positive number: -33929\n",
      "YOu must provide a number greater than or equal to zero!\n",
      "Enter a positive number: .3\n"
     ]
    }
   ],
   "source": [
    "# We could improve this slightly by implementing a warning for invalid input like below:\n",
    "while True:\n",
    "    number = float(input(\"Enter a positive number: \"))\n",
    "    if number >= 0: break\n",
    "    else:\n",
    "        print(\"YOu must provide a number greater than or equal to zero!\")"
   ]
  },
  {
   "cell_type": "markdown",
   "metadata": {},
   "source": [
    "### Loop and a half"
   ]
  },
  {
   "cell_type": "code",
   "execution_count": 48,
   "metadata": {},
   "outputs": [
    {
     "name": "stdout",
     "output_type": "stream",
     "text": [
      "Enter a number: 5\n"
     ]
    }
   ],
   "source": [
    "# This is quite similar to what we just did. Essentially we will have the warning after the break,\n",
    "# This way it will only appear if invalid input is provided.\n",
    "while True:\n",
    "    number = float(input(\"Enter a number: \"))\n",
    "    if number >= 0: break\n",
    "    print(\"You must provide a number greater than or equal to zero!\")"
   ]
  },
  {
   "cell_type": "markdown",
   "metadata": {},
   "source": [
    "### Boolean Expressions as Decisions"
   ]
  },
  {
   "cell_type": "markdown",
   "metadata": {},
   "source": [
    "In Python 0 is represented as False and 1 is represented as True. Also, anything that isn't empty is interpreted as True and anything that is empty is considered False"
   ]
  },
  {
   "cell_type": "code",
   "execution_count": 49,
   "metadata": {},
   "outputs": [
    {
     "data": {
      "text/plain": [
       "False"
      ]
     },
     "execution_count": 49,
     "metadata": {},
     "output_type": "execute_result"
    }
   ],
   "source": [
    "bool(0)"
   ]
  },
  {
   "cell_type": "code",
   "execution_count": 50,
   "metadata": {},
   "outputs": [
    {
     "data": {
      "text/plain": [
       "True"
      ]
     },
     "execution_count": 50,
     "metadata": {},
     "output_type": "execute_result"
    }
   ],
   "source": [
    "bool(1)"
   ]
  },
  {
   "cell_type": "code",
   "execution_count": 51,
   "metadata": {},
   "outputs": [
    {
     "data": {
      "text/plain": [
       "True"
      ]
     },
     "execution_count": 51,
     "metadata": {},
     "output_type": "execute_result"
    }
   ],
   "source": [
    "bool(32)"
   ]
  },
  {
   "cell_type": "code",
   "execution_count": 52,
   "metadata": {},
   "outputs": [
    {
     "data": {
      "text/plain": [
       "True"
      ]
     },
     "execution_count": 52,
     "metadata": {},
     "output_type": "execute_result"
    }
   ],
   "source": [
    "bool('hello')"
   ]
  },
  {
   "cell_type": "code",
   "execution_count": 53,
   "metadata": {},
   "outputs": [
    {
     "data": {
      "text/plain": [
       "False"
      ]
     },
     "execution_count": 53,
     "metadata": {},
     "output_type": "execute_result"
    }
   ],
   "source": [
    "bool(\"\")"
   ]
  },
  {
   "cell_type": "code",
   "execution_count": 54,
   "metadata": {},
   "outputs": [
    {
     "data": {
      "text/plain": [
       "True"
      ]
     },
     "execution_count": 54,
     "metadata": {},
     "output_type": "execute_result"
    }
   ],
   "source": [
    "bool([1,2,3])"
   ]
  },
  {
   "cell_type": "code",
   "execution_count": 55,
   "metadata": {},
   "outputs": [
    {
     "data": {
      "text/plain": [
       "False"
      ]
     },
     "execution_count": 55,
     "metadata": {},
     "output_type": "execute_result"
    }
   ],
   "source": [
    "bool([])"
   ]
  },
  {
   "cell_type": "markdown",
   "metadata": {},
   "source": [
    "Here are some examples"
   ]
  },
  {
   "cell_type": "code",
   "execution_count": 73,
   "metadata": {},
   "outputs": [],
   "source": [
    "# Some programmers will place a default answer in brackets, so if nothing is provided the answer will be vanilla\n",
    "def flavor_flav():   \n",
    "    #flavor = \"\"\n",
    "    ans = input(\"What flavor of ice cream do you want? [vanialla] \")\n",
    "    if ans != \"\":\n",
    "        flavor = ans\n",
    "    else:\n",
    "        flavor = 'Vanilla'\n",
    "\n",
    "    return flavor"
   ]
  },
  {
   "cell_type": "code",
   "execution_count": 70,
   "metadata": {},
   "outputs": [
    {
     "name": "stdout",
     "output_type": "stream",
     "text": [
      "What flavor of ice cream do you want? [vanialla]\n"
     ]
    },
    {
     "data": {
      "text/plain": [
       "'Vanilla'"
      ]
     },
     "execution_count": 70,
     "metadata": {},
     "output_type": "execute_result"
    }
   ],
   "source": [
    "flavor_flav()"
   ]
  },
  {
   "cell_type": "code",
   "execution_count": 74,
   "metadata": {},
   "outputs": [
    {
     "name": "stdout",
     "output_type": "stream",
     "text": [
      "What flavor of ice cream do you want? [vanialla] chocolate\n"
     ]
    },
    {
     "data": {
      "text/plain": [
       "'chocolate'"
      ]
     },
     "execution_count": 74,
     "metadata": {},
     "output_type": "execute_result"
    }
   ],
   "source": [
    "flavor_flav()"
   ]
  },
  {
   "cell_type": "code",
   "execution_count": 76,
   "metadata": {},
   "outputs": [],
   "source": [
    "# We could exploit the fact that we know Python treats anything empty as False to make the program simplier\n",
    "def flavor_flav2():\n",
    "    ans = input(\"What flavor of ice cream do you want? [vanilla] \")\n",
    "    if ans:\n",
    "        flavor = ans\n",
    "    else:\n",
    "        flavor = \"Vanilla\"\n",
    "        \n",
    "    return flavor"
   ]
  },
  {
   "cell_type": "code",
   "execution_count": 77,
   "metadata": {},
   "outputs": [
    {
     "name": "stdout",
     "output_type": "stream",
     "text": [
      "What flavor of ice cream do you want? [vanilla] \n"
     ]
    },
    {
     "data": {
      "text/plain": [
       "'Vanilla'"
      ]
     },
     "execution_count": 77,
     "metadata": {},
     "output_type": "execute_result"
    }
   ],
   "source": [
    "flavor_flav2()"
   ]
  },
  {
   "cell_type": "code",
   "execution_count": 78,
   "metadata": {},
   "outputs": [
    {
     "name": "stdout",
     "output_type": "stream",
     "text": [
      "What flavor of ice cream do you want? [vanilla] Strawberry\n"
     ]
    },
    {
     "data": {
      "text/plain": [
       "'Strawberry'"
      ]
     },
     "execution_count": 78,
     "metadata": {},
     "output_type": "execute_result"
    }
   ],
   "source": [
    "flavor_flav2()"
   ]
  },
  {
   "cell_type": "code",
   "execution_count": 79,
   "metadata": {},
   "outputs": [
    {
     "name": "stdout",
     "output_type": "stream",
     "text": [
      "What flavor of ice cream [vanialla] \n",
      "vanialla\n"
     ]
    }
   ],
   "source": [
    "# This could be simplified even further\n",
    "ans = input(\"What flavor of ice cream [vanialla] \")\n",
    "flavor = ans or \"vanialla\"\n",
    "print(flavor)"
   ]
  },
  {
   "cell_type": "code",
   "execution_count": 80,
   "metadata": {},
   "outputs": [
    {
     "name": "stdout",
     "output_type": "stream",
     "text": [
      "What flavor of ice cream [vanialla] rocky road\n",
      "rocky road\n"
     ]
    }
   ],
   "source": [
    "ans = input(\"What flavor of ice cream [vanialla] \")\n",
    "flavor = ans or \"vanialla\"\n",
    "print(flavor)"
   ]
  },
  {
   "cell_type": "code",
   "execution_count": 82,
   "metadata": {},
   "outputs": [],
   "source": [
    "# Even simplier\n",
    "def flavor():\n",
    "    flavor = input(\"What flavor of ice cream do you want? [vanilla] \") or \"Vanilla\"\n",
    "    print(flavor)"
   ]
  },
  {
   "cell_type": "code",
   "execution_count": 83,
   "metadata": {},
   "outputs": [
    {
     "name": "stdout",
     "output_type": "stream",
     "text": [
      "What flavor of ice cream do you want? [vanilla] Mint Chocolate Chip\n",
      "Mint Chocolate Chip\n"
     ]
    }
   ],
   "source": [
    "flavor()"
   ]
  },
  {
   "cell_type": "code",
   "execution_count": 84,
   "metadata": {},
   "outputs": [
    {
     "name": "stdout",
     "output_type": "stream",
     "text": [
      "What flavor of ice cream do you want? [vanilla] \n",
      "Vanilla\n"
     ]
    }
   ],
   "source": [
    "flavor()"
   ]
  },
  {
   "cell_type": "markdown",
   "metadata": {},
   "source": [
    "## 8.6 Example: A simple event loop"
   ]
  },
  {
   "cell_type": "code",
   "execution_count": 86,
   "metadata": {},
   "outputs": [],
   "source": [
    "# event_loop1.py\n",
    "#      Simple color changing window with keyboard controls\n",
    "\n",
    "from graphics import *\n",
    "\n",
    "def main():\n",
    "    win = GraphWin(\"Color Window\", 500, 500)\n",
    "\n",
    "    # Event Loop: handle key presses until user presses the \"q\" key.\n",
    "    while True:\n",
    "        key = win.getKey()\n",
    "        if key == \"q\":  # loop exit\n",
    "            break\n",
    "\n",
    "        #process the key\n",
    "        if key == \"p\":\n",
    "            win.setBackground(\"pink\")\n",
    "        elif key ==\"w\":\n",
    "            win.setBackground(\"white\")\n",
    "        elif key == \"g\":\n",
    "            win.setBackground(\"lightgray\")\n",
    "        elif key == \"b\":\n",
    "            win.setBackground(\"lightblue\")\n",
    "\n",
    "    # exit program\n",
    "    win.close()\n",
    "    \n",
    "main()"
   ]
  },
  {
   "cell_type": "markdown",
   "metadata": {},
   "source": [
    "### 2\n"
   ]
  },
  {
   "cell_type": "code",
   "execution_count": 87,
   "metadata": {},
   "outputs": [],
   "source": [
    "# event_loop2.py --- color changing window\n",
    "#      reorganized to incorporate mouse inputs\n",
    "\n",
    "from graphics import *\n",
    "\n",
    "def handleKey(k, win):\n",
    "    if k == \"r\":\n",
    "        win.setBackground(\"pink\")\n",
    "    elif k == \"w\":\n",
    "        win.setBackground(\"white\")\n",
    "    elif k == \"g\":\n",
    "        win.setBackground(\"lightgray\")\n",
    "    elif k == \"b\":\n",
    "        win.setBackground(\"lightblue\")\n",
    "\n",
    "        \n",
    "def handleClick(pt, win):\n",
    "    pass\n",
    "    \n",
    "    \n",
    "def main():\n",
    "    win = GraphWin(\"Click and Type\", 500, 500)\n",
    "\n",
    "    # Event Loop: handle key presses and mouse clicks until the user\n",
    "    #    presses the \"q\" key.\n",
    "    while True:\n",
    "        key = win.checkKey()\n",
    "        if key == \"q\":  # loop exit\n",
    "            break\n",
    "        \n",
    "        if key:\n",
    "            handleKey(key, win)\n",
    "\n",
    "        pt = win.checkMouse()\n",
    "        if pt:\n",
    "            handleClick(pt, win)\n",
    "\n",
    "    win.close()    \n",
    "main()\n",
    "            "
   ]
  },
  {
   "cell_type": "markdown",
   "metadata": {},
   "source": [
    "## 3"
   ]
  },
  {
   "cell_type": "code",
   "execution_count": 88,
   "metadata": {},
   "outputs": [],
   "source": [
    "# event_loop3.py \n",
    "#      Color changing window with clicks to enter text\n",
    "\n",
    "from graphics import *\n",
    "\n",
    "def handleKey(k, win):\n",
    "    if k == \"r\":\n",
    "        win.setBackground(\"pink\")\n",
    "    elif k == \"w\":\n",
    "        win.setBackground(\"white\")\n",
    "    elif k == \"g\":\n",
    "        win.setBackground(\"lightgray\")\n",
    "    elif k == \"b\":\n",
    "        win.setBackground(\"lightblue\")\n",
    "\n",
    "        \n",
    "def handleClick(pt, win):\n",
    "    # create an Entry for user to type in\n",
    "    entry = Entry(pt, 10)\n",
    "    entry.draw(win)\n",
    "    \n",
    "    # Go modal: wait until user types Return or Escape Key\n",
    "    while True:\n",
    "        key = win.getKey()\n",
    "        if key == \"Return\":\n",
    "            break\n",
    "\n",
    "    # undraw the entry and draw Text\n",
    "    entry.undraw()\n",
    "    Text(pt, entry.getText()).draw(win)\n",
    "\n",
    "    # clear (ignore) any mouse click that occurred during text entry\n",
    "    win.checkMouse() \n",
    "    \n",
    "    \n",
    "def main():\n",
    "    win = GraphWin(\"Click and Type\", 500, 500)\n",
    "\n",
    "    # Event Loop: handle key presses and mouse clicks until the user\n",
    "    #    presses the \"q\" key.\n",
    "    while True:\n",
    "        key = win.checkKey()\n",
    "        if key == \"q\":  # loop exit\n",
    "            break\n",
    "        \n",
    "        if key:\n",
    "            handleKey(key, win)\n",
    "\n",
    "        pt = win.checkMouse()\n",
    "        if pt:\n",
    "            handleClick(pt, win)\n",
    "\n",
    "    win.close()\n",
    "    \n",
    "main()"
   ]
  },
  {
   "cell_type": "code",
   "execution_count": null,
   "metadata": {},
   "outputs": [],
   "source": []
  }
 ],
 "metadata": {
  "kernelspec": {
   "display_name": "Python 3",
   "language": "python",
   "name": "python3"
  },
  "language_info": {
   "codemirror_mode": {
    "name": "ipython",
    "version": 3
   },
   "file_extension": ".py",
   "mimetype": "text/x-python",
   "name": "python",
   "nbconvert_exporter": "python",
   "pygments_lexer": "ipython3",
   "version": "3.7.3"
  }
 },
 "nbformat": 4,
 "nbformat_minor": 2
}
