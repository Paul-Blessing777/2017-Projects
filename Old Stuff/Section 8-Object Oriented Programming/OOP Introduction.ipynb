{
 "cells": [
  {
   "cell_type": "markdown",
   "metadata": {},
   "source": [
    "Object Oriented Programming allows programmers to create their own objects that have methods and attributes. <br>\n",
    "<br>\n",
    "Recall that after defining a string, list, dictionary, or other objects, you were able to call methods off of them with the method_name() syntax."
   ]
  },
  {
   "cell_type": "markdown",
   "metadata": {},
   "source": [
    "These methods act as functions that use information about the object, as well as the object itself to return results, or change the current object. <br><br>\n",
    "For example this includes appending to a list, or counting the occurences of an element in a tuple.<br>\n",
    "list.append() "
   ]
  },
  {
   "cell_type": "markdown",
   "metadata": {},
   "source": [
    "OOP allows users to create their own objects.<br>\n",
    "The general format is often confusing when first encountered, and its usefulness may not be completely clear at first.<br>\n",
    "In general, OOP allows us to create code that is repeatable and organized."
   ]
  },
  {
   "cell_type": "markdown",
   "metadata": {},
   "source": [
    "For much larger scripts of Python code, functions by themselves aren't enough for organization and repeatability.<br>\n",
    "Commonly repeated tasks and objects can be defined with OOP to create code that is more usable."
   ]
  },
  {
   "cell_type": "code",
   "execution_count": null,
   "metadata": {},
   "outputs": [],
   "source": [
    "# How class's are created in python\n",
    "\n",
    "class NameOfClass(): # Class names follow camelCase. Define the class\n",
    "    \n",
    "    def __init__(self,param1,param2): # This is how we will create instances of this object\n",
    "        self.param1 = param1\n",
    "        self.param2 = param2\n",
    "        \n",
    "        def someMethod(self):\n",
    "            #perform some action\n",
    "            print(self.param1)"
   ]
  }
 ],
 "metadata": {
  "kernelspec": {
   "display_name": "Python 3",
   "language": "python",
   "name": "python3"
  },
  "language_info": {
   "codemirror_mode": {
    "name": "ipython",
    "version": 3
   },
   "file_extension": ".py",
   "mimetype": "text/x-python",
   "name": "python",
   "nbconvert_exporter": "python",
   "pygments_lexer": "ipython3",
   "version": "3.7.3"
  }
 },
 "nbformat": 4,
 "nbformat_minor": 2
}
